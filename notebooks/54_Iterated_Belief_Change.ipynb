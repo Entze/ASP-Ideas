{
 "cells": [
  {
   "cell_type": "code",
   "execution_count": 121,
   "metadata": {
    "collapsed": true,
    "pycharm": {
     "name": "#%%\n"
    }
   },
   "outputs": [],
   "source": [
    "import abc\n",
    "from collections import defaultdict\n",
    "from copy import copy\n",
    "from dataclasses import dataclass, field\n",
    "from enum import IntEnum\n",
    "from typing import Optional, Iterator, Sequence, TypeVar, Set, Mapping, Union, FrozenSet, Callable, Tuple\n",
    "\n",
    "import clingo\n",
    "import clingraph\n",
    "import more_itertools\n",
    "from clingraph import Factbase, compute_graphs"
   ]
  },
  {
   "cell_type": "code",
   "execution_count": 122,
   "outputs": [],
   "source": [
    "\n",
    "\n",
    "def powerset(iterable):\n",
    "    for i in more_itertools.powerset(iterable):\n",
    "        yield set(i)"
   ],
   "metadata": {
    "collapsed": false,
    "pycharm": {
     "name": "#%%\n"
    }
   }
  },
  {
   "cell_type": "code",
   "execution_count": 123,
   "outputs": [],
   "source": [
    "\n",
    "\n",
    "def frozen_powerset(iterable):\n",
    "    for i in more_itertools.powerset(iterable):\n",
    "        yield frozenset(i)"
   ],
   "metadata": {
    "collapsed": false,
    "pycharm": {
     "name": "#%%\n"
    }
   }
  },
  {
   "cell_type": "code",
   "execution_count": 124,
   "outputs": [],
   "source": [
    "\n",
    "\n",
    "def asp_solve(programs,\n",
    "              ctl: Optional[clingo.Control] = None,\n",
    "              parts=(('base', ()),),\n",
    "              context=None,\n",
    "              report=False,\n",
    "              report_models=True,\n",
    "              report_result=True,\n",
    "              symbol_sep=' ',\n",
    "              model_sep='\\n'\n",
    "              ) -> Iterator[Sequence[clingo.Symbol]]:\n",
    "    if ctl is None:\n",
    "        ctl = clingo.Control(logger=lambda *args, **kwargs: None)\n",
    "        ctl.configuration.solve.models = 0\n",
    "    if programs:\n",
    "        if isinstance(programs, str):\n",
    "            ctl.add('base', [], programs)\n",
    "        else:\n",
    "            for program in programs:\n",
    "                if isinstance(program, ASPProgram):\n",
    "                    ctl.add('base', [], str(program))\n",
    "                elif isinstance(program, str):\n",
    "                    ctl.add('base', [], program)\n",
    "\n",
    "    ctl.ground(parts, context=context)\n",
    "    with ctl.solve(yield_=True) as solve_handle:\n",
    "        models = 0\n",
    "        for model in solve_handle:\n",
    "            symbols = sorted(model.symbols(shown=True))\n",
    "            if report and report_models:\n",
    "                print(\"Answer {}:\".format(model.number), end=' ')\n",
    "                print(\"{\",\n",
    "                      symbol_sep.join(map(str, sorted(symbols))), \"}\", sep=symbol_sep, end=model_sep)\n",
    "            models += 1\n",
    "            yield symbols\n",
    "        if report and report_result:\n",
    "            solve_result = solve_handle.get()\n",
    "            print(solve_result, end='')\n",
    "            if solve_result.satisfiable:\n",
    "                print(\" {}{}\".format(models, '' if solve_result.exhausted else '+'))\n",
    "            else:\n",
    "                print()\n",
    "\n",
    "\n",
    "def draw_graph(programs,\n",
    "               ctl: Optional[clingo.Control] = None,\n",
    "               parts=(('base', ()),)):\n",
    "    fb = Factbase()\n",
    "    if ctl is None:\n",
    "        ctl = clingo.Control(logger=lambda *args, **kwargs: None)\n",
    "        ctl.configuration.solve.models = 0\n",
    "    ctl.add('base', [], '\\n'.join(programs))\n",
    "    ctl.ground(parts, clingraph.clingo_utils.ClingraphContext())\n",
    "    with ctl.solve(yield_=True) as solve_handle:\n",
    "        for model in solve_handle:\n",
    "            fb.add_model(model)\n",
    "            break\n",
    "    return compute_graphs(fb)"
   ],
   "metadata": {
    "collapsed": false,
    "pycharm": {
     "name": "#%%\n"
    }
   }
  },
  {
   "cell_type": "code",
   "execution_count": 125,
   "outputs": [],
   "source": [
    "\n",
    "\n",
    "ForwardASPSymbol = TypeVar('ForwardASPSymbol', bound='ASPSymbol')\n",
    "ForwardASPVariable = TypeVar('ForwardASPVariable', bound='ASPVariable')\n",
    "\n",
    "\n",
    "class ASPSymbol(abc.ABC):\n",
    "\n",
    "    @staticmethod\n",
    "    def from_clingo_symbol(symbol: clingo.Symbol) -> ForwardASPSymbol:\n",
    "        if symbol.type is clingo.SymbolType.Number:\n",
    "            return ASPTerm(ASPIntegerConstant(symbol.number))\n",
    "        elif symbol.type is clingo.SymbolType.String:\n",
    "            return ASPTerm(ASPStringConstant(symbol.string))\n",
    "        elif symbol.type is clingo.SymbolType.Function:\n",
    "            arguments = tuple(ASPFunction.from_clingo_symbol(argument) for argument in symbol.arguments)\n",
    "            name = symbol.name\n",
    "            if symbol.negative:\n",
    "                name = \"-{}\".format(name)\n",
    "            return ASPFunction(name, arguments)\n",
    "        else:\n",
    "            assert False, \"Unhandled clingo.Symbol {} with type {}.\".format(symbol, symbol.type.name)\n",
    "\n",
    "\n",
    "@dataclass(order=True, frozen=True)\n",
    "class ASPStringConstant:\n",
    "    string: str = field(default=\"\")\n",
    "\n",
    "    def __str__(self):\n",
    "        return '\"{}\"'.format(self.string)\n",
    "\n",
    "\n",
    "@dataclass(order=True, frozen=True)\n",
    "class ASPIntegerConstant:\n",
    "    number: int = field(default=0)\n",
    "\n",
    "    def __str__(self):\n",
    "        return str(self.number)\n",
    "\n",
    "\n",
    "@dataclass(order=True, frozen=True)\n",
    "class ASPTerm(ASPSymbol):\n",
    "    constant: Union[ASPStringConstant, ASPIntegerConstant] = field(default_factory=ASPIntegerConstant)\n",
    "\n",
    "    def __str__(self):\n",
    "        return str(self.constant)\n",
    "\n",
    "    @staticmethod\n",
    "    def zero():\n",
    "        return ASPTerm(ASPIntegerConstant(0))\n",
    "\n",
    "    @staticmethod\n",
    "    def one():\n",
    "        return ASPTerm(ASPIntegerConstant(1))\n",
    "\n",
    "\n",
    "ForwardASPTopLevelSymbol = TypeVar('ForwardASPTopLevelSymbol', bound='ASPTopLevelSymbol')\n",
    "\n",
    "\n",
    "class ASPTopLevelSymbol(ASPSymbol, abc.ABC):\n",
    "\n",
    "    def __neg__(self):\n",
    "        raise NotImplementedError\n",
    "\n",
    "    @property\n",
    "    def signature(self) -> str:\n",
    "        return \"{}/{}.\".format(self.function_name, self.arity)\n",
    "\n",
    "    @property\n",
    "    @abc.abstractmethod\n",
    "    def function_name(self) -> str:\n",
    "        raise NotImplementedError\n",
    "\n",
    "    @property\n",
    "    def arity(self) -> int:\n",
    "        return len(self.function_arguments)\n",
    "\n",
    "    @property\n",
    "    @abc.abstractmethod\n",
    "    def function_arguments(self) -> Sequence[ASPSymbol]:\n",
    "        raise NotImplementedError\n",
    "\n",
    "    def match(self, other: ForwardASPTopLevelSymbol) -> bool:\n",
    "        return self.function_name == other.function_name and len(self.function_arguments) == len(\n",
    "            other.function_arguments)\n",
    "\n",
    "\n",
    "def asp_evaluate(*programs, report=False) -> Iterator[FrozenSet[ASPTopLevelSymbol]]:\n",
    "    for answer_set in asp_solve(programs=programs, report=report):\n",
    "        yield frozenset(ASPFunction.from_clingo_symbol(symbol) for symbol in answer_set)\n",
    "\n",
    "\n",
    "@dataclass(order=True, frozen=True)\n",
    "class ASPFunction(ASPTopLevelSymbol):\n",
    "    name: Optional[str] = field(default=None)\n",
    "    arguments: Sequence[ASPSymbol] = field(default_factory=tuple)\n",
    "\n",
    "    @property\n",
    "    def function_name(self) -> str:\n",
    "        return self.name\n",
    "\n",
    "    @property\n",
    "    def function_arguments(self) -> Sequence[ASPSymbol]:\n",
    "        return self.arguments\n",
    "\n",
    "    @property\n",
    "    def arity(self) -> int:\n",
    "        return len(self.arguments)\n",
    "\n",
    "    def __str__(self):\n",
    "        if self.name is None:\n",
    "            return '({})'.format(','.join(map(str, self.arguments)))\n",
    "        elif not self.arguments:\n",
    "            return self.name\n",
    "        else:\n",
    "            return '{}({})'.format(self.name, ','.join(map(str, self.arguments)))\n",
    "\n",
    "    def __neg__(self):\n",
    "        if self.name.startswith('-'):\n",
    "            return ASPFunction(self.name[1:], self.arguments)\n",
    "        else:\n",
    "            return ASPFunction('-{}'.format(self.name), self.arguments)\n",
    "\n",
    "\n",
    "ForwardASPAtom = TypeVar('ForwardASPAtom', bound='ASPAtom')\n",
    "\n",
    "\n",
    "@dataclass(order=True, frozen=True)\n",
    "class ASPAtom:\n",
    "    symbol: ASPTopLevelSymbol = field(default_factory=ASPFunction)\n",
    "\n",
    "    @property\n",
    "    def signature(self) -> str:\n",
    "        return self.symbol.signature\n",
    "\n",
    "    def match(self, other: ForwardASPAtom) -> bool:\n",
    "        return self.symbol.function_name == other.symbol.function_name and len(self.symbol.function_arguments) == len(\n",
    "            other.symbol.function_arguments)\n",
    "\n",
    "    def __str__(self):\n",
    "        return str(self.symbol)\n",
    "\n",
    "    def __neg__(self):\n",
    "        return ASPAtom(-self.symbol)\n",
    "\n",
    "\n",
    "@dataclass(order=True, frozen=True)\n",
    "class ASPClauseElement(abc.ABC):\n",
    "\n",
    "    @property\n",
    "    @abc.abstractmethod\n",
    "    def signature(self) -> str:\n",
    "        raise NotImplementedError\n",
    "\n",
    "    @property\n",
    "    @abc.abstractmethod\n",
    "    def is_pos(self):\n",
    "        raise NotImplementedError\n",
    "\n",
    "    @property\n",
    "    @abc.abstractmethod\n",
    "    def is_neg(self):\n",
    "        raise NotImplementedError\n",
    "\n",
    "    def __neg__(self):\n",
    "        raise NotImplementedError\n",
    "\n",
    "    def __abs__(self):\n",
    "        raise NotImplementedError\n",
    "\n",
    "\n",
    "class ASPHeadClauseElement(ASPClauseElement):\n",
    "    pass\n",
    "\n",
    "\n",
    "class ASPLiteral(ASPHeadClauseElement):\n",
    "\n",
    "    @property\n",
    "    @abc.abstractmethod\n",
    "    def signature(self) -> str:\n",
    "        raise NotImplementedError\n",
    "\n",
    "    @property\n",
    "    @abc.abstractmethod\n",
    "    def is_pos(self) -> bool:\n",
    "        raise NotImplementedError\n",
    "\n",
    "    @property\n",
    "    @abc.abstractmethod\n",
    "    def is_neg(self) -> bool:\n",
    "        raise NotImplementedError\n",
    "\n",
    "\n",
    "class ASPSign(IntEnum):\n",
    "    NoSign = 0\n",
    "    Negation = 1\n",
    "\n",
    "    def __str__(self):\n",
    "        if self is ASPSign.NoSign:\n",
    "            return ''\n",
    "        elif self is ASPSign.Negation:\n",
    "            return 'not'\n",
    "        else:\n",
    "            assert False, 'Unknown IntEnum {} = {}.'.format(self.name, self.value)\n",
    "\n",
    "\n",
    "@dataclass(order=True, frozen=True)\n",
    "class ASPBasicLiteral(ASPLiteral):\n",
    "    sign: ASPSign = ASPSign.NoSign\n",
    "    atom: ASPAtom = field(default_factory=ASPAtom)\n",
    "\n",
    "    @property\n",
    "    def is_pos(self) -> bool:\n",
    "        return self.sign is ASPSign.NoSign\n",
    "\n",
    "    @property\n",
    "    def is_neg(self) -> bool:\n",
    "        return self.sign is ASPSign.Negation\n",
    "\n",
    "    @property\n",
    "    def signature(self) -> str:\n",
    "        return self.atom.signature\n",
    "\n",
    "    def __str__(self):\n",
    "        if self.sign is ASPSign.NoSign:\n",
    "            return \"{}\".format(self.atom)\n",
    "        else:\n",
    "            return \"{} {}\".format(self.sign, self.atom)\n",
    "\n",
    "    def __neg__(self):\n",
    "        return ASPBasicLiteral(ASPSign((self.sign ^ 1) % 2), self.atom)\n",
    "\n",
    "    def __invert__(self):\n",
    "        return ASPBasicLiteral(sign=self.sign, atom=-self.atom)\n",
    "\n",
    "    def __abs__(self):\n",
    "        return ASPBasicLiteral(ASPSign.NoSign, self.atom)\n",
    "\n",
    "    def as_classical_atom(self):\n",
    "        return ClassicalAtom(str(self.atom.symbol))\n",
    "\n",
    "    @staticmethod\n",
    "    def make_literal(name: Optional[str], *arguments: Union[str, int, ASPFunction]):\n",
    "        function_arguments = []\n",
    "        for arg_ in arguments:\n",
    "            if isinstance(arg_, str):\n",
    "                arg = ASPFunction(arg_)\n",
    "            elif isinstance(arg_, int):\n",
    "                arg = ASPTerm(ASPIntegerConstant(arg_))\n",
    "            else:\n",
    "                arg = arg_\n",
    "            function_arguments.append(arg)\n",
    "        return ASPBasicLiteral(atom=ASPAtom(ASPFunction(name=name, arguments=tuple(function_arguments))))\n",
    "\n",
    "\n",
    "@dataclass(order=True, frozen=True)\n",
    "class ASPConditionalLiteral(ASPLiteral):\n",
    "    literal: ASPBasicLiteral = field(default_factory=ASPBasicLiteral)\n",
    "    conditions: Sequence[ASPClauseElement] = field(default_factory=tuple)\n",
    "\n",
    "    @property\n",
    "    def signature(self) -> str:\n",
    "        return self.literal.signature\n",
    "\n",
    "    @property\n",
    "    def is_pos(self) -> bool:\n",
    "        return self.literal.is_pos\n",
    "\n",
    "    @property\n",
    "    def is_neg(self) -> bool:\n",
    "        return self.literal.is_neg\n",
    "\n",
    "    def __neg__(self):\n",
    "        return ASPConditionalLiteral(-self.literal, self.conditions)\n",
    "\n",
    "    def __abs__(self):\n",
    "        return ASPConditionalLiteral(abs(self.literal), self.conditions)\n",
    "\n",
    "    def __str__(self):\n",
    "        return \"{} : {}\".format(self.literal, ','.join(map(str, self.conditions)))\n",
    "\n",
    "\n",
    "@dataclass(order=True, frozen=True)\n",
    "class ASPDirective(ASPHeadClauseElement):\n",
    "    name: str\n",
    "    arguments: Sequence[Union[Sequence[ASPSymbol], ASPSymbol]] = field(default_factory=tuple)\n",
    "\n",
    "    @property\n",
    "    def is_true(self) -> bool:\n",
    "        return self.name == 'true'\n",
    "\n",
    "    @property\n",
    "    def is_pos(self) -> bool:\n",
    "        return self.is_true\n",
    "\n",
    "    @property\n",
    "    def is_false(self) -> bool:\n",
    "        return self.name == 'false'\n",
    "\n",
    "    @property\n",
    "    def is_neg(self) -> bool:\n",
    "        return self.is_false\n",
    "\n",
    "    @property\n",
    "    def is_forall(self) -> bool:\n",
    "        return self.name == 'forall'\n",
    "\n",
    "    @property\n",
    "    def is_show(self) -> bool:\n",
    "        return self.name == 'show'\n",
    "\n",
    "    @property\n",
    "    def signature(self) -> str:\n",
    "        return '#{}/{}.'.format(self.name, len(self.arguments))\n",
    "\n",
    "    def __abs__(self):\n",
    "        raise NotImplementedError\n",
    "\n",
    "    def __neg__(self):\n",
    "        if self.name == 'true':\n",
    "            return ASPDirective.false()\n",
    "        elif self.name == 'false':\n",
    "            return ASPDirective.true()\n",
    "        else:\n",
    "            raise NotImplementedError\n",
    "\n",
    "    def __invert__(self):\n",
    "        return -self\n",
    "\n",
    "    def __str__(self):\n",
    "        if not self.arguments:\n",
    "            return \"#{}\".format(self.name)\n",
    "        else:\n",
    "            return \"#{}({})\".format(self.name, ','.join(map(str, self.arguments)))\n",
    "\n",
    "    @staticmethod\n",
    "    def true():\n",
    "        return ASPDirective('true')\n",
    "\n",
    "    @staticmethod\n",
    "    def false():\n",
    "        return ASPDirective('false')\n",
    "\n",
    "    @staticmethod\n",
    "    def show(*args):\n",
    "        return ASPDirective('show', arguments=args)\n",
    "\n",
    "\n",
    "@dataclass(order=True, frozen=True)\n",
    "class ASPRule(abc.ABC):\n",
    "    head: Optional[ASPHeadClauseElement] = field(default=None)\n",
    "    body: Optional[Sequence[ASPClauseElement]] = field(default=None)\n",
    "\n",
    "    @property\n",
    "    @abc.abstractmethod\n",
    "    def head_signature(self) -> Union[str, Set[str]]:\n",
    "        raise NotImplementedError\n",
    "\n",
    "    @staticmethod\n",
    "    def fmt_body(body: Sequence[ASPClauseElement]):\n",
    "        return ', '.join(map(str, body))\n",
    "\n",
    "    def reduct(self, elems: Set[ASPTopLevelSymbol]):\n",
    "        if self.body is not None:\n",
    "            if any(literal.is_neg and literal.atom.symbol in elems for literal in self.body):\n",
    "                return None\n",
    "        raise NotImplementedError\n",
    "\n",
    "\n",
    "@dataclass(order=True, frozen=True)\n",
    "class ASPNormalRule(ASPRule):\n",
    "    head: ASPBasicLiteral = field(default_factory=ASPBasicLiteral)\n",
    "    body: Sequence[ASPClauseElement] = field(default_factory=tuple)\n",
    "\n",
    "    @property\n",
    "    def head_signature(self) -> str:\n",
    "        return self.head.signature\n",
    "\n",
    "    def __str__(self):\n",
    "        if self.body:\n",
    "            return \"{} :- {}.\".format(self.head, ASPRule.fmt_body(self.body))\n",
    "        else:\n",
    "            return \"{}.\".format(self.head)\n",
    "\n",
    "    def reduct(self, elems: Set[ASPTopLevelSymbol]):\n",
    "        if any(literal.is_neg and literal.atom.symbol in elems for literal in self.body):\n",
    "            return None\n",
    "        return ASPNormalRule(self.head, tuple(literal for literal in self.body if literal.is_pos))\n",
    "\n",
    "\n",
    "@dataclass(order=True, frozen=True)\n",
    "class ASPIntegrityConstraint(ASPRule):\n",
    "    body: Sequence[ASPClauseElement] = field(default_factory=tuple)\n",
    "    head: ASPDirective = field(default_factory=ASPDirective.false, init=False)\n",
    "\n",
    "    @property\n",
    "    def head_signature(self) -> str:\n",
    "        return '#false/0.'\n",
    "\n",
    "    def __str__(self):\n",
    "        if self.body:\n",
    "            return \":- {}.\".format(ASPRule.fmt_body(self.body))\n",
    "        else:\n",
    "            return \":-.\"\n",
    "\n",
    "    def reduct(self, elems: Set[ASPTopLevelSymbol]):\n",
    "        if any(literal.is_neg and literal.atom.symbol in elems for literal in self.body):\n",
    "            return None\n",
    "        return ASPIntegrityConstraint(tuple(literal for literal in self.body if literal.is_pos))\n",
    "\n",
    "\n",
    "@dataclass(order=True, frozen=True)\n",
    "class ASPDisjunctiveRule(ASPRule):\n",
    "    head: Sequence[ASPLiteral] = field(default_factory=tuple)\n",
    "    body: Sequence[ASPClauseElement] = field(default_factory=tuple)\n",
    "\n",
    "    @property\n",
    "    def head_signature(self) -> Set[str]:\n",
    "        return {h.signature for h in self.head}\n",
    "\n",
    "    def __str__(self):\n",
    "        return \"{} :- {}.\".format('; '.join(map(str, self.head)), ASPRule.fmt_body(self.body))\n",
    "\n",
    "    def reduct(self, elems: Set[ASPTopLevelSymbol]):\n",
    "        if any(literal.is_neg and literal.atom.symbol in elems for literal in self.body):\n",
    "            return None\n",
    "        return ASPDisjunctiveRule(\n",
    "            head=tuple(literal for literal in self.head if literal.is_pos or (literal.atom.symbol not in elems)),\n",
    "            body=tuple(literal for literal in self.body if literal.is_pos))\n",
    "\n",
    "\n",
    "@dataclass(order=True, frozen=True)\n",
    "class ASPChoiceRule(ASPRule):\n",
    "    lower: Optional[ASPSymbol] = field(default=None)\n",
    "    head: Sequence[ASPLiteral] = field(default_factory=tuple)\n",
    "    upper: Optional[ASPSymbol] = field(default=None)\n",
    "    body: Sequence[ASPClauseElement] = field(default_factory=tuple)\n",
    "\n",
    "    @property\n",
    "    def head_signature(self) -> Union[str, Set[str]]:\n",
    "        return {h.signature for h in self.head}\n",
    "\n",
    "    def __str__(self):\n",
    "        lower = \"\"\n",
    "        if self.lower is not None:\n",
    "            lower = \"{} <=\".format(self.lower)\n",
    "        upper = \"\"\n",
    "        if self.upper is not None:\n",
    "            upper = \"<= {}\".format(self.upper)\n",
    "        body = \"\"\n",
    "        if self.body:\n",
    "            body = \" :- {}\".format(ASPRule.fmt_body(self.body))\n",
    "        return \"{}{}{}{}{}{}\".format(lower, '{', \"; \".join(map(str, self.head)), '}', upper, body)\n",
    "\n",
    "\n",
    "@dataclass(order=True, frozen=True)\n",
    "class ASPProgram:\n",
    "    rules: Sequence[ASPRule] = field(default_factory=tuple)\n",
    "\n",
    "    def fmt(self, sep='\\n'):\n",
    "        return sep.join(map(str, self.rules))\n",
    "\n",
    "    def __str__(self):\n",
    "        return self.fmt(' ')\n",
    "\n",
    "    def reduct(self, elems: Set[ASPTopLevelSymbol]):\n",
    "        return ASPProgram(tuple(filter(lambda r: r is not None, (rule.reduct(elems) for rule in self.rules))))\n",
    "\n",
    "\n",
    "@dataclass(frozen=True, order=True)\n",
    "class ClassicalAtom:\n",
    "    symbol: str\n",
    "\n",
    "    def __neg__(self):\n",
    "        if self.is_complement:\n",
    "            return ClassicalAtom(self.symbol[1:])\n",
    "        else:\n",
    "            return ClassicalAtom('-{}'.format(self.symbol))\n",
    "\n",
    "    def __abs__(self):\n",
    "        if self.is_complement:\n",
    "            return -self\n",
    "        return self\n",
    "\n",
    "    def __str__(self):\n",
    "        return self.symbol\n",
    "\n",
    "    @property\n",
    "    def is_complement(self) -> bool:\n",
    "        return self.symbol.startswith('-')\n",
    "\n",
    "    def as_asp_top_level_symbol(self) -> ASPTopLevelSymbol:\n",
    "        return ASPFunction(self.symbol)\n",
    "\n",
    "    def as_asp_atom(self) -> ASPAtom:\n",
    "        return ASPAtom(self.as_asp_top_level_symbol())\n",
    "\n",
    "    def as_asp_literal(self) -> ASPBasicLiteral:\n",
    "        return ASPBasicLiteral(atom=self.as_asp_atom())\n"
   ],
   "metadata": {
    "collapsed": false,
    "pycharm": {
     "name": "#%%\n"
    }
   }
  },
  {
   "cell_type": "code",
   "execution_count": 126,
   "outputs": [],
   "source": [
    "\n",
    "ClassicalAlphabet = Set[ClassicalAtom]\n",
    "ClassicalValuation = Mapping[ClassicalAtom, bool]\n",
    "\n",
    "\n",
    "@dataclass(frozen=True, order=True)\n",
    "class ClassicalLiteral:\n",
    "    atom: ClassicalAtom\n",
    "    sign: bool = field(default=True)\n",
    "\n",
    "    def __str__(self):\n",
    "        sign_str = \"\"\n",
    "        if not self.sign:\n",
    "            sign_str = \"¬\"\n",
    "        return \"{}{}\".format(sign_str, self.atom)\n",
    "\n",
    "    def __repr__(self):\n",
    "        return str(self)\n",
    "\n",
    "    def __neg__(self):\n",
    "        return ClassicalLiteral(self.atom, not self.sign)\n",
    "\n",
    "    def __and__(self, other):\n",
    "        left = ClassicalFormula(self)\n",
    "        right = other\n",
    "        if isinstance(other, ClassicalLiteral):\n",
    "            right = ClassicalFormula(right)\n",
    "        return ClassicalFormula(left, ClassicalConnective.And, right)\n",
    "\n",
    "    def __or__(self, other):\n",
    "        left = ClassicalFormula(self)\n",
    "        right = other\n",
    "        if isinstance(other, ClassicalLiteral):\n",
    "            right = ClassicalFormula(right)\n",
    "        return ClassicalFormula(left, ClassicalConnective.Or, right)\n",
    "\n",
    "    def __rshift__(self, other):\n",
    "        left = ClassicalFormula(self)\n",
    "        right = other\n",
    "        if isinstance(other, ClassicalLiteral):\n",
    "            right = ClassicalFormula(right)\n",
    "        return ClassicalFormula(left, ClassicalConnective.Implies, right)\n",
    "\n",
    "\n",
    "@dataclass(frozen=True, order=True)\n",
    "class ClassicalTop(ClassicalLiteral):\n",
    "    atom: ClassicalAtom = field(default=ClassicalAtom('⊤'), init=False)\n",
    "    sign: bool = field(default=True, init=False)\n",
    "\n",
    "    def __str__(self):\n",
    "        return str(self.atom)\n",
    "\n",
    "    def __repr__(self):\n",
    "        return str(self)\n",
    "\n",
    "    def __neg__(self):\n",
    "        return ClassicalBot()\n",
    "\n",
    "    def __and__(self, other):\n",
    "        if isinstance(other, ClassicalLiteral):\n",
    "            return ClassicalFormula(other)\n",
    "        return other\n",
    "\n",
    "    def __or__(self, other):\n",
    "        return ClassicalFormula(ClassicalTop())\n",
    "\n",
    "\n",
    "@dataclass(frozen=True, order=True)\n",
    "class ClassicalBot(ClassicalLiteral):\n",
    "    atom: ClassicalAtom = field(default=ClassicalAtom('⊥'), init=False)\n",
    "    sign: bool = field(default=False, init=False)\n",
    "\n",
    "    def __neg__(self):\n",
    "        return ClassicalTop()\n",
    "\n",
    "    def __str__(self):\n",
    "        return str(self.atom)\n",
    "\n",
    "    def __and__(self, other):\n",
    "        return ClassicalFormula(ClassicalBot())\n",
    "\n",
    "    def __or__(self, other):\n",
    "        if isinstance(other, ClassicalLiteral):\n",
    "            return ClassicalFormula(other)\n",
    "        return other\n",
    "\n",
    "\n",
    "class ClassicalConnective(IntEnum):\n",
    "    And = 0\n",
    "    Or = 1\n",
    "    Implies = 2\n",
    "\n",
    "    def __str__(self):\n",
    "        if self is ClassicalConnective.And:\n",
    "            return \"∧\"\n",
    "        elif self is ClassicalConnective.Or:\n",
    "            return \"∨\"\n",
    "        elif self is ClassicalConnective.Implies:\n",
    "            return \"→\"\n",
    "        else:\n",
    "            assert False, \"Unhandled Connective.__str__: {} = {}\".format(self.name, self.value)\n",
    "\n",
    "    def evaluate(self, left: bool, right: bool):\n",
    "        if self is ClassicalConnective.And:\n",
    "            return left and right\n",
    "        elif self is ClassicalConnective.Or:\n",
    "            return left or right\n",
    "        elif self is ClassicalConnective.Implies:\n",
    "            return not left or right\n",
    "        else:\n",
    "            assert False, \"Unhandled Connective.evaluate: {} = {}\".format(self.name, self.value)\n",
    "\n",
    "\n",
    "ForwardClassicalFormula = TypeVar('ForwardClassicalFormula', bound='ClassicalFormula')\n",
    "\n",
    "\n",
    "@dataclass(frozen=True, order=True)\n",
    "class ClassicalFormula:\n",
    "    left: Union[ForwardClassicalFormula, ClassicalLiteral]\n",
    "    connective: Optional[ClassicalConnective] = field(default=None)\n",
    "    right: Union[ForwardClassicalFormula, None] = field(default=None)\n",
    "\n",
    "    def __str__(self):\n",
    "        left_str = str(self.left)\n",
    "        connective_str = \"\"\n",
    "        if self.connective is not None:\n",
    "            connective_str = \" {}\".format(self.connective)\n",
    "            if isinstance(self.left,\n",
    "                          ClassicalFormula) and self.left.connective is not None and self.left.connective > self.connective:\n",
    "                left_str = \"({})\".format(left_str)\n",
    "        right_str = \"\"\n",
    "        if self.right is not None:\n",
    "            if self.right.left == ClassicalBot() and self.right.right is None and self.connective is ClassicalConnective.Implies:\n",
    "                left_str = \"¬({})\".format(left_str)\n",
    "                connective_str = \"\"\n",
    "            else:\n",
    "                right_str = \" {}\".format(self.right)\n",
    "            if isinstance(self.right,\n",
    "                          ClassicalFormula) and self.right.connective is not None and self.right.connective > self.connective:\n",
    "                left_str = \"({})\".format(left_str)\n",
    "        return \"{}{}{}\".format(left_str, connective_str, right_str)\n",
    "\n",
    "    def __repr__(self):\n",
    "        return str(self)\n",
    "\n",
    "    def __neg__(self):\n",
    "        if self.connective is not None and self.right is None:\n",
    "            raise TypeError(\"Formula.connective present, despite Formula.right missing.\")\n",
    "        elif self.connective is None and self.right is not None:\n",
    "            raise TypeError(\"Formula.connective missing, despite Formula.right present.\")\n",
    "\n",
    "        if self.connective is None and self.right is None:\n",
    "            return ClassicalFormula(-self.left)\n",
    "        elif self.connective is ClassicalConnective.And:\n",
    "            return ClassicalFormula(-self.left, ClassicalConnective.Or, -self.right)\n",
    "        elif self.connective is ClassicalConnective.Or:\n",
    "            return ClassicalFormula(-self.left, ClassicalConnective.And, -self.right)\n",
    "        elif self.connective is ClassicalConnective.Implies:\n",
    "            if self.right.left == ClassicalBot() and self.right.right is None:\n",
    "                return self.left\n",
    "            return ClassicalFormula(self, ClassicalConnective.Implies, ClassicalFormula(ClassicalBot()))\n",
    "        else:\n",
    "            assert False, \"Unknown Formula.connective. {} = {}.\".format(self.connective.name, self.connective.value)\n",
    "\n",
    "    def __and__(self, other):\n",
    "        left = self\n",
    "        right = other\n",
    "        if isinstance(other, ClassicalLiteral):\n",
    "            right = ClassicalFormula(right)\n",
    "        if left.is_top:\n",
    "            return right\n",
    "        elif right.is_top:\n",
    "            return left\n",
    "        if left.is_bot:\n",
    "            return left\n",
    "        elif right.is_bot:\n",
    "            return right\n",
    "        return ClassicalFormula(left, ClassicalConnective.And, right)\n",
    "\n",
    "    def __or__(self, other):\n",
    "        left = self\n",
    "        right = other\n",
    "        if isinstance(other, ClassicalLiteral):\n",
    "            right = ClassicalFormula(right)\n",
    "        if left.is_top:\n",
    "            return left\n",
    "        elif right.is_top:\n",
    "            return right\n",
    "        if left.is_bot:\n",
    "            return right\n",
    "        elif right.is_bot:\n",
    "            return left\n",
    "        return ClassicalFormula(left, ClassicalConnective.Or, right)\n",
    "\n",
    "    def __rshift__(self, other):\n",
    "        left = self\n",
    "        right = other\n",
    "        if isinstance(other, ClassicalLiteral):\n",
    "            right = ClassicalFormula(right)\n",
    "        return ClassicalFormula(left, ClassicalConnective.Implies, right)\n",
    "\n",
    "    def __call__(self, valuation: Optional[ClassicalValuation] = None) -> bool:\n",
    "        return self.evaluate(valuation)\n",
    "\n",
    "    @property\n",
    "    def literals(self) -> Set[ClassicalLiteral]:\n",
    "        literals = set()\n",
    "        if isinstance(self.left, ClassicalLiteral):\n",
    "            if not isinstance(self.left, ClassicalTop) and not isinstance(self.left, ClassicalBot):\n",
    "                literals.add(self.left)\n",
    "        else:\n",
    "            assert isinstance(self.left, ClassicalFormula), \"Unknown type for Formula.right. {}: {}\".format(\n",
    "                type(self.left).__name__, self.left)\n",
    "            literals.update(self.left.literals)\n",
    "        if self.right is not None:\n",
    "            assert isinstance(self.right, ClassicalFormula), \"Unknown type for Formula.right. {}: {}\".format(\n",
    "                type(self.right).__name__, self.right)\n",
    "            literals.update(self.right.literals)\n",
    "        return literals\n",
    "\n",
    "    @property\n",
    "    def atoms(self) -> Set[ClassicalAtom]:\n",
    "        return {literal.atom for literal in self.literals}\n",
    "\n",
    "    @property\n",
    "    def is_top(self) -> bool:\n",
    "        return self.right is None and isinstance(self.left, ClassicalTop)\n",
    "\n",
    "    @property\n",
    "    def is_bot(self) -> bool:\n",
    "        return self.right is None and isinstance(self.left, ClassicalBot)\n",
    "\n",
    "    def evaluate(self, valuation: Optional[ClassicalValuation] = None) -> bool:\n",
    "        if isinstance(self.left, ClassicalLiteral):\n",
    "            value_left = self.__evaluate_literal(self.left, valuation)\n",
    "        else:\n",
    "            assert isinstance(self.left, ClassicalFormula), \"Unknown type for Formula.left. {}: {}\".format(\n",
    "                type(self.left).__name__, self.left)\n",
    "            value_left = self.left.evaluate(valuation)\n",
    "        if self.connective is not None and self.right is None:\n",
    "            raise TypeError(\"Formula.connective present, despite Formula.right missing.\")\n",
    "        elif self.connective is None and self.right is not None:\n",
    "            raise TypeError(\"Formula.connective missing, despite Formula.right present.\")\n",
    "\n",
    "        if self.connective is None and self.right is None:\n",
    "            return value_left\n",
    "        else:\n",
    "            assert isinstance(self.right, ClassicalFormula), \"Unknown type for Formula.right. {}: {}\".format(\n",
    "                type(self.right).__name__, self.right)\n",
    "            value_right = self.right.evaluate(valuation)\n",
    "\n",
    "            return self.connective.evaluate(value_left, value_right)\n",
    "\n",
    "    def __evaluate_literal(self, literal: ClassicalLiteral, valuation: Optional[ClassicalValuation] = None) -> bool:\n",
    "        if isinstance(literal, ClassicalTop) or isinstance(literal, ClassicalBot):\n",
    "            return literal.sign\n",
    "        else:\n",
    "            # get assigned truth value of atom (per default false) and flip the result if negated\n",
    "            return valuation is not None and bool(valuation.get(literal.atom, False) ^ (not literal.sign))\n",
    "\n",
    "    def set_to_bot(self, *atoms: ClassicalAtom) -> ForwardClassicalFormula:\n",
    "        if isinstance(self.left, ClassicalLiteral):\n",
    "            assert self.connective is None\n",
    "            assert self.right is None\n",
    "            if self.left.atom in atoms:\n",
    "                if self.left.sign:\n",
    "                    return ClassicalFormula(ClassicalBot())\n",
    "                else:\n",
    "                    return ClassicalFormula(ClassicalTop())\n",
    "            else:\n",
    "                return self\n",
    "        else:\n",
    "            left = self.left.set_to_bot(*atoms)\n",
    "            right = self.right\n",
    "            if right is not None:\n",
    "                right = self.right.set_to_bot(*atoms)\n",
    "            return ClassicalFormula(left, self.connective, right)\n",
    "\n",
    "    def as_asp_bodies(self) -> Sequence[Sequence[ASPBasicLiteral]]:\n",
    "        bodies: Sequence[Sequence[ASPBasicLiteral]] = [()]\n",
    "        if isinstance(self.left, ClassicalLiteral):\n",
    "            if isinstance(self.left, ClassicalTop):\n",
    "                bodies = ((ASPDirective.true(),),)\n",
    "            elif isinstance(self.left, ClassicalBot):\n",
    "                bodies = ((ASPDirective.false(),),)\n",
    "            else:\n",
    "                literal = ASPBasicLiteral(sign=ASPSign(int(not self.left.sign)),\n",
    "                                          atom=ASPAtom(ASPFunction(self.left.atom.symbol)))\n",
    "                bodies = ((literal,),)\n",
    "        elif self.right is None:\n",
    "            bodies = self.left.as_asp_bodies()\n",
    "        elif self.right is not None:\n",
    "            bodies_left = self.left.as_asp_bodies()\n",
    "            bodies_right = self.right.as_asp_bodies()\n",
    "            bodies_ = []\n",
    "            if self.connective is ClassicalConnective.Or:\n",
    "                for body in bodies:\n",
    "                    for body_left in bodies_left:\n",
    "                        bodies_.append((*body, *body_left))\n",
    "                    for body_right in bodies_right:\n",
    "                        bodies_.append((*body, *body_right))\n",
    "            elif self.connective is ClassicalConnective.And:\n",
    "                for body in bodies:\n",
    "                    for body_left in bodies_left:\n",
    "                        for body_right in bodies_right:\n",
    "                            bodies_.append((*body, *body_left, *body_right))\n",
    "            else:\n",
    "                assert self.connective is ClassicalConnective.Implies\n",
    "                if self.right.is_bot:\n",
    "                    if self.left.connective is not None and self.left.connective is ClassicalConnective.Implies:\n",
    "                        bodies_ = (-((-self.left.left) | self.left.right)).as_asp_bodies()\n",
    "                    else:\n",
    "                        bodies_ = (-self.left).as_asp_bodies()\n",
    "                else:\n",
    "                    for body in bodies:\n",
    "                        for body_left in bodies_left:\n",
    "                            bodies_.append((*body, *(-literal for literal in body_left)))\n",
    "                        for body_right in bodies_right:\n",
    "                            bodies_.append((*body, *body_right))\n",
    "            bodies = bodies_\n",
    "        else:\n",
    "            assert False\n",
    "        return bodies\n",
    "\n",
    "\n",
    "def all_valuations(alphabet: ClassicalAlphabet, complete: bool = False) -> Iterator[ClassicalValuation]:\n",
    "    subsets = powerset(alphabet)\n",
    "    for subset in subsets:\n",
    "        valuation = defaultdict(lambda: False)\n",
    "        for atom in subset:\n",
    "            valuation[atom] = True\n",
    "        if complete:\n",
    "            for atom in alphabet:\n",
    "                if atom not in subset:\n",
    "                    valuation[atom] = False\n",
    "        yield valuation\n",
    "\n",
    "\n",
    "def models(formulas: Set[ClassicalFormula], alphabet: Optional[ClassicalAlphabet] = None) -> Iterator[\n",
    "    ClassicalValuation]:\n",
    "    if alphabet is None:\n",
    "        alphabet = {atom for formula in formulas for atom in formula.atoms}\n",
    "    for valuation in all_valuations(alphabet):\n",
    "        if all(formula.evaluate(valuation) for formula in formulas):\n",
    "            yield valuation\n",
    "\n",
    "\n",
    "def sat(formulas: Set[ClassicalFormula], alphabet: Optional[ClassicalAlphabet] = None) -> bool:\n",
    "    model = next(models(formulas, alphabet), None)\n",
    "    return model is not None\n",
    "\n",
    "\n",
    "def unsat(formulas: Set[ClassicalFormula], alphabet: Optional[ClassicalAlphabet] = None) -> bool:\n",
    "    return not sat(formulas, alphabet)\n",
    "\n",
    "\n",
    "def entails(formulas: Set[ClassicalFormula], formula: ClassicalFormula) -> bool:\n",
    "    return unsat(formulas | {-formula})\n",
    "\n",
    "\n",
    "def valid(formulas: Set[ClassicalFormula], alphabet: Optional[ClassicalAlphabet] = None) -> bool:\n",
    "    if alphabet is None:\n",
    "        alphabet = {atom for formula in formulas for atom in formula.atoms}\n",
    "    for valuation in all_valuations(alphabet):\n",
    "        if any(not formula.evaluate(valuation) for formula in formulas):\n",
    "            return False\n",
    "    return True\n"
   ],
   "metadata": {
    "collapsed": false,
    "pycharm": {
     "name": "#%%\n"
    }
   }
  },
  {
   "cell_type": "code",
   "execution_count": 127,
   "outputs": [],
   "source": [
    "@dataclass(order=True, frozen=True)\n",
    "class Action:\n",
    "    symbol: str\n",
    "\n",
    "    def __str__(self):\n",
    "        return self.symbol\n",
    "\n"
   ],
   "metadata": {
    "collapsed": false,
    "pycharm": {
     "name": "#%%\n"
    }
   }
  },
  {
   "cell_type": "code",
   "execution_count": 128,
   "outputs": [],
   "source": [
    "State = FrozenSet[ClassicalAtom]\n",
    "BeliefState = FrozenSet[State]\n",
    "ActionTrajectory = Sequence[Action]\n",
    "Observation = FrozenSet[State]\n",
    "ObservationTrajectory = Sequence[Observation]\n",
    "BeliefTrajectory = Sequence[BeliefState]\n",
    "WorldView = Tuple[ActionTrajectory, ObservationTrajectory]"
   ],
   "metadata": {
    "collapsed": false,
    "pycharm": {
     "name": "#%%\n"
    }
   }
  },
  {
   "cell_type": "code",
   "execution_count": 129,
   "outputs": [],
   "source": [
    "@dataclass(order=True, frozen=True)\n",
    "class TransitionSystem:\n",
    "    S: BeliefState\n",
    "    R: Callable[[State, Action, State], bool]\n",
    "    d: Callable[[State, State], int]\n",
    "\n",
    "    def belief_update(self,\n",
    "                      alpha: BeliefState,\n",
    "                      A: Action) -> BeliefState:\n",
    "        return frozenset(f for e in alpha for f in self.S if self.R(e, A, f))\n",
    "\n",
    "    def belief_revision(self,\n",
    "                        kappa: BeliefState,\n",
    "                        alpha: BeliefState) -> BeliefState:\n",
    "        return frozenset(w for w in alpha if\n",
    "                         any(all(all(self.d(w, v1) <= self.d(v2, v3) for v3 in kappa) for v2 in alpha) for v1 in kappa))\n",
    "\n",
    "    def belief_evolution(self,\n",
    "                         kappa: BeliefState,\n",
    "                         W: WorldView) -> BeliefTrajectory:\n",
    "        obs_cap = None\n",
    "        act, obs = W\n",
    "        for i, act_i in enumerate(act):\n",
    "            obs_i = obs[i]\n",
    "            obs_cap_ = self.pred(obs_i, act_i)\n",
    "            if obs_cap is None:\n",
    "                obs_cap = obs_cap_\n",
    "            else:\n",
    "                obs_cap = obs_cap & obs_cap_\n",
    "        assert obs_cap is not None\n",
    "        kappa_0 = self.belief_revision(kappa, obs_cap)\n",
    "        belief_trajectory = [kappa_0]\n",
    "        for i, act_i in enumerate(act):\n",
    "            kappa_i = self.belief_update(belief_trajectory[i], act_i)\n",
    "            belief_trajectory.append(kappa_i)\n",
    "        return belief_trajectory\n",
    "\n",
    "    def repair(self, W: WorldView) -> WorldView:\n",
    "        ACT, OBS = W\n",
    "        n = len(ACT) - 1\n",
    "        tau_OBS = []\n",
    "        *_, last = self.preds(OBS[n], ACT)\n",
    "        if last:\n",
    "            tau_OBS.insert(0, OBS[n])\n",
    "        else:\n",
    "            tau_OBS.insert(0, self.S)\n",
    "        for i in reversed(range(n)):\n",
    "            obs_i = OBS[i]\n",
    "            act_i = ACT[i]\n",
    "            pred = self.pred(obs_i, act_i)\n",
    "            obs_cap = pred\n",
    "            for j in range(i, n + 1):\n",
    "                obs_j = OBS[j]\n",
    "                act_j = ACT[j]\n",
    "                obs_cap_ = self.pred(obs_j, act_j)\n",
    "                obs_cap = obs_cap & obs_cap_\n",
    "                if not obs_cap:\n",
    "                    break\n",
    "            if obs_cap:\n",
    "                tau_OBS.insert(0, obs_i)\n",
    "            else:\n",
    "                tau_OBS.insert(0, self.S)\n",
    "        return ACT, tau_OBS\n",
    "\n",
    "    def pred(self, alpha: FrozenSet[State], A: Action) -> FrozenSet[State]:\n",
    "        return frozenset(w for a in alpha for w in self.S if self.R(w, A, a))\n",
    "\n",
    "    def preds(self, alpha: FrozenSet[State], A: Sequence[Action]) -> Iterator[FrozenSet[State]]:\n",
    "        alpha_ = alpha\n",
    "        for a in A:\n",
    "            alpha_ = self.pred(alpha_, a)\n",
    "            yield alpha_"
   ],
   "metadata": {
    "collapsed": false,
    "pycharm": {
     "name": "#%%\n"
    }
   }
  },
  {
   "cell_type": "code",
   "execution_count": 130,
   "outputs": [],
   "source": [
    "dip = Action('dip')\n",
    "Red = ClassicalAtom('Red')\n",
    "Blue = ClassicalAtom('Blue')\n",
    "Acid = ClassicalAtom('Acid')\n",
    "Litmus = ClassicalAtom('Litmus')"
   ],
   "metadata": {
    "collapsed": false,
    "pycharm": {
     "name": "#%%\n"
    }
   }
  },
  {
   "cell_type": "code",
   "execution_count": 131,
   "outputs": [],
   "source": [
    "F = frozenset((Red, Blue, Acid, Litmus))\n",
    "A = frozenset((dip,))"
   ],
   "metadata": {
    "collapsed": false,
    "pycharm": {
     "name": "#%%\n"
    }
   }
  },
  {
   "cell_type": "code",
   "execution_count": 132,
   "outputs": [],
   "source": [
    "def trans(before: State, action: Action, after: State) -> bool:\n",
    "    if action != dip:\n",
    "        return False\n",
    "    #print(before, \"<>\", action, \"=\", after)\n",
    "    if before == {Litmus}:\n",
    "        return after == {Litmus, Blue}\n",
    "    elif before == {Litmus, Acid}:\n",
    "        return after == {Litmus, Red, Acid}\n",
    "    elif not before:\n",
    "        return not after\n",
    "    elif before == {Acid}:\n",
    "        return after == {Acid}\n",
    "    else:\n",
    "        return False\n",
    "        # assert False, \"Before State: {}{}{}\".format('{', ','.join(map(str, before)), '}')"
   ],
   "metadata": {
    "collapsed": false,
    "pycharm": {
     "name": "#%%\n"
    }
   }
  },
  {
   "cell_type": "code",
   "execution_count": 133,
   "outputs": [
    {
     "data": {
      "text/plain": "True"
     },
     "execution_count": 133,
     "metadata": {},
     "output_type": "execute_result"
    }
   ],
   "source": [
    "trans({Litmus}, dip, {Litmus, Blue})\n"
   ],
   "metadata": {
    "collapsed": false,
    "pycharm": {
     "name": "#%%\n"
    }
   }
  },
  {
   "cell_type": "code",
   "execution_count": 134,
   "outputs": [
    {
     "data": {
      "text/plain": "True"
     },
     "execution_count": 134,
     "metadata": {},
     "output_type": "execute_result"
    }
   ],
   "source": [
    "trans({Litmus, Acid}, dip, {Litmus, Acid, Red})\n"
   ],
   "metadata": {
    "collapsed": false,
    "pycharm": {
     "name": "#%%\n"
    }
   }
  },
  {
   "cell_type": "code",
   "execution_count": 135,
   "outputs": [],
   "source": [
    "def hamming_distance(A: State, B: State):\n",
    "    return len(A ^ B)"
   ],
   "metadata": {
    "collapsed": false,
    "pycharm": {
     "name": "#%%\n"
    }
   }
  },
  {
   "cell_type": "code",
   "execution_count": 136,
   "outputs": [],
   "source": [
    "dipping_test = TransitionSystem(frozenset(frozen_powerset(F)), trans, hamming_distance)"
   ],
   "metadata": {
    "collapsed": false,
    "pycharm": {
     "name": "#%%\n"
    }
   }
  },
  {
   "cell_type": "code",
   "execution_count": 137,
   "outputs": [],
   "source": [
    "alpha = frozenset((frozenset((Litmus,)), frozenset((Litmus, Acid))))"
   ],
   "metadata": {
    "collapsed": false,
    "pycharm": {
     "name": "#%%\n"
    }
   }
  },
  {
   "cell_type": "code",
   "execution_count": 138,
   "outputs": [
    {
     "data": {
      "text/plain": "frozenset({frozenset({ClassicalAtom(symbol='Acid'),\n                      ClassicalAtom(symbol='Litmus'),\n                      ClassicalAtom(symbol='Red')}),\n           frozenset({ClassicalAtom(symbol='Blue'),\n                      ClassicalAtom(symbol='Litmus')})})"
     },
     "execution_count": 138,
     "metadata": {},
     "output_type": "execute_result"
    }
   ],
   "source": [
    "dipping_test.belief_update(alpha, dip)"
   ],
   "metadata": {
    "collapsed": false,
    "pycharm": {
     "name": "#%%\n"
    }
   }
  },
  {
   "cell_type": "code",
   "execution_count": 139,
   "outputs": [
    {
     "data": {
      "text/plain": "frozenset({frozenset(),\n           frozenset({ClassicalAtom(symbol='Acid')}),\n           frozenset({ClassicalAtom(symbol='Litmus')}),\n           frozenset({ClassicalAtom(symbol='Acid'),\n                      ClassicalAtom(symbol='Litmus')})})"
     },
     "execution_count": 139,
     "metadata": {},
     "output_type": "execute_result"
    }
   ],
   "source": [
    "O = frozenset(frozen_powerset((Litmus, Acid)))\n",
    "O"
   ],
   "metadata": {
    "collapsed": false,
    "pycharm": {
     "name": "#%%\n"
    }
   }
  },
  {
   "cell_type": "code",
   "execution_count": 140,
   "outputs": [],
   "source": [
    "E_ = frozenset({frozenset({Blue, Litmus}),\n",
    "                frozenset({Acid,\n",
    "                           Litmus,\n",
    "                           Red})})"
   ],
   "metadata": {
    "collapsed": false,
    "pycharm": {
     "name": "#%%\n"
    }
   }
  },
  {
   "cell_type": "code",
   "execution_count": 141,
   "outputs": [
    {
     "data": {
      "text/plain": "frozenset({frozenset({ClassicalAtom(symbol='Litmus')}),\n           frozenset({ClassicalAtom(symbol='Acid'),\n                      ClassicalAtom(symbol='Litmus')})})"
     },
     "execution_count": 141,
     "metadata": {},
     "output_type": "execute_result"
    }
   ],
   "source": [
    "dipping_test.belief_revision(E_, O)"
   ],
   "metadata": {
    "collapsed": false,
    "pycharm": {
     "name": "#%%\n"
    }
   }
  },
  {
   "cell_type": "code",
   "execution_count": 142,
   "outputs": [],
   "source": [
    "def consistent(W: WorldView, kappa: BeliefTrajectory, T: TransitionSystem) -> bool:\n",
    "    if len(W) != len(kappa):\n",
    "        return False\n",
    "    ACT, OBS = W\n",
    "    if len(ACT) != len(OBS):\n",
    "        return False\n",
    "    for i, w in enumerate(W):\n",
    "        kappa_i = kappa[i]\n",
    "        act_i, obs_i = w\n",
    "        if not kappa_i <= obs_i:\n",
    "            return False\n",
    "        if i > 1:\n",
    "            kappa_i_ = kappa[i - 1]\n",
    "            if kappa_i != T.belief_update(kappa_i_, act_i):\n",
    "                return False\n",
    "    return True"
   ],
   "metadata": {
    "collapsed": false,
    "pycharm": {
     "name": "#%%\n"
    }
   }
  },
  {
   "cell_type": "code",
   "execution_count": 143,
   "outputs": [],
   "source": [
    "E = copy(alpha)"
   ],
   "metadata": {
    "collapsed": false,
    "pycharm": {
     "name": "#%%\n"
    }
   }
  },
  {
   "cell_type": "code",
   "execution_count": 144,
   "outputs": [
    {
     "data": {
      "text/plain": "[frozenset({frozenset(), frozenset({ClassicalAtom(symbol='Acid')})}),\n frozenset({frozenset(), frozenset({ClassicalAtom(symbol='Acid')})})]"
     },
     "execution_count": 144,
     "metadata": {},
     "output_type": "execute_result"
    }
   ],
   "source": [
    "dipping_test.belief_evolution(kappa=E, W=((dip,), (O,)))"
   ],
   "metadata": {
    "collapsed": false,
    "pycharm": {
     "name": "#%%\n"
    }
   }
  },
  {
   "cell_type": "code",
   "execution_count": 144,
   "outputs": [],
   "source": [],
   "metadata": {
    "collapsed": false,
    "pycharm": {
     "name": "#%%\n"
    }
   }
  },
  {
   "cell_type": "code",
   "execution_count": 145,
   "outputs": [],
   "source": [
    "@dataclass(order=True, frozen=True)\n",
    "class EffectProposition:\n",
    "    action: Action\n",
    "    effect: ClassicalLiteral\n",
    "    conditions: FrozenSet[ClassicalLiteral]\n",
    "\n",
    "    def __call__(self, state: State, *args, **kwargs):\n",
    "        if not all(condition.sign == (condition.atom in state) for condition in self.conditions):\n",
    "            return self\n",
    "        return (state - {-self.effect, self.effect}) | {self.effect}\n",
    "\n",
    "\n",
    "ActionDescription = FrozenSet[EffectProposition]"
   ],
   "metadata": {
    "collapsed": false,
    "pycharm": {
     "name": "#%%\n"
    }
   }
  },
  {
   "cell_type": "code",
   "execution_count": 146,
   "outputs": [],
   "source": [
    "def generate_transition_relation(AD: ActionDescription) -> Callable[[State, Action, State], bool]:\n",
    "    def transition_relation(before: State, action: Action, after: State) -> bool:\n",
    "        valid = False\n",
    "        for ep in AD:\n",
    "            if ep.action != action:\n",
    "                continue\n",
    "            if not all(condition.sign == (condition.atom in before) for condition in ep.conditions):\n",
    "                continue\n",
    "            if not ep.effect in after:\n",
    "                continue\n",
    "            if not after <= (before | {ep.effect}):\n",
    "                continue\n",
    "            valid = True\n",
    "        return valid\n",
    "\n",
    "    return transition_relation"
   ],
   "metadata": {
    "collapsed": false,
    "pycharm": {
     "name": "#%%\n"
    }
   }
  },
  {
   "cell_type": "code",
   "execution_count": 147,
   "outputs": [],
   "source": [
    "@dataclass(order=True, frozen=True)\n",
    "class SensingProposition:\n",
    "    action: Action\n",
    "    effect: ClassicalLiteral\n",
    "    conditions: FrozenSet[ClassicalLiteral]\n",
    "\n",
    "    def __call__(self, belief_state: BeliefState, *args, **kwargs):\n",
    "        belief_state_ = set()\n",
    "        for state in belief_state:\n",
    "            if not all(condition.sign == (condition.atom in state) for condition in self.conditions):\n",
    "                continue\n",
    "            belief_state_.add((state - {-self.effect, self.effect}) | {self.effect})\n",
    "        return frozenset(belief_state_)\n",
    "\n",
    "\n",
    "ActionSensingDescription = FrozenSet[Union[SensingProposition, EffectProposition]]"
   ],
   "metadata": {
    "collapsed": false,
    "pycharm": {
     "name": "#%%\n"
    }
   }
  },
  {
   "cell_type": "code",
   "execution_count": 148,
   "outputs": [],
   "source": [
    "def generate_epistemic_transition_relation(ASD: ActionSensingDescription, T: TransitionSystem) -> Callable[\n",
    "    [BeliefState, Action, BeliefState], bool]:\n",
    "    def transition_relation(before: BeliefState, action: Action, after: BeliefState) -> bool:\n",
    "        k_star = frozenset(T.belief_update(k, action) for k in before)\n",
    "        valid = False\n",
    "        for p in ASD:\n",
    "            if isinstance(p, SensingProposition):\n",
    "                before_ = before - (\n",
    "                            {-p.effect} | {-condition for condition in p.conditions} | {p.effect} | p.conditions)\n",
    "                if after <= (before_ | p.conditions | {p.effect}):\n",
    "                    valid = True\n",
    "                if after <= (before_ | p.conditions | {-p.effect}):\n",
    "                    valid = True\n",
    "                if after <= (before_ | {-condition for condition in p.conditions}):\n",
    "                    valid = True\n",
    "            elif isinstance(p, EffectProposition):\n",
    "                if k_star != after:\n",
    "                    return False\n",
    "            else:\n",
    "                assert False\n",
    "        return valid\n",
    "\n",
    "    return transition_relation"
   ],
   "metadata": {
    "collapsed": false,
    "pycharm": {
     "name": "#%%\n"
    }
   }
  },
  {
   "cell_type": "code",
   "execution_count": 149,
   "outputs": [],
   "source": [
    "Feed = Action('Feed')\n",
    "LookAtCroc = Action('LookAtCroc')\n",
    "FullChicken = ClassicalAtom('FullChicken')\n",
    "FullChicken_ = ClassicalLiteral(FullChicken)\n",
    "FullDuck = ClassicalAtom('FullDuck')\n",
    "FullDuck_ = ClassicalLiteral(FullDuck)\n",
    "Chicken = ClassicalAtom('Chicken')\n",
    "Chicken_ = ClassicalLiteral(Chicken)\n",
    "Sick = ClassicalAtom('Sick')\n",
    "Sick_ = ClassicalLiteral(Sick)\n",
    "\n",
    "F = frozenset({FullChicken, FullDuck, Chicken, Sick})\n",
    "\n",
    "r1 = EffectProposition(Feed, FullChicken_, frozenset({Chicken_}))\n",
    "r2 = EffectProposition(Feed, -Sick_, frozenset({Chicken_}))\n",
    "r3 = EffectProposition(Feed, FullDuck_, frozenset({-Chicken_}))\n",
    "r4 = EffectProposition(Feed, Sick_, frozenset({FullDuck_, -Chicken_}))\n",
    "r5 = SensingProposition(LookAtCroc, Sick_, frozenset({Sick_}))\n",
    "\n",
    "AD: ActionDescription = frozenset({r1, r2, r3, r4})\n",
    "ASD: ActionSensingDescription = frozenset({r1, r2, r3, r4, r5})"
   ],
   "metadata": {
    "collapsed": false,
    "pycharm": {
     "name": "#%%\n"
    }
   }
  },
  {
   "cell_type": "code",
   "execution_count": 150,
   "outputs": [
    {
     "data": {
      "text/plain": "TransitionSystem(S=frozenset({frozenset({ClassicalAtom(symbol='FullChicken'), ClassicalAtom(symbol='FullDuck'), ClassicalAtom(symbol='Chicken')}), frozenset({ClassicalAtom(symbol='Sick')}), frozenset({ClassicalAtom(symbol='FullDuck'), ClassicalAtom(symbol='Chicken')}), frozenset({ClassicalAtom(symbol='FullDuck'), ClassicalAtom(symbol='Sick'), ClassicalAtom(symbol='FullChicken')}), frozenset({ClassicalAtom(symbol='FullChicken')}), frozenset({ClassicalAtom(symbol='Sick'), ClassicalAtom(symbol='FullChicken')}), frozenset({ClassicalAtom(symbol='Chicken')}), frozenset({ClassicalAtom(symbol='FullDuck'), ClassicalAtom(symbol='Sick')}), frozenset({ClassicalAtom(symbol='FullDuck'), ClassicalAtom(symbol='FullChicken')}), frozenset({ClassicalAtom(symbol='FullChicken'), ClassicalAtom(symbol='Chicken')}), frozenset({ClassicalAtom(symbol='FullChicken'), ClassicalAtom(symbol='Sick'), ClassicalAtom(symbol='Chicken')}), frozenset({ClassicalAtom(symbol='FullChicken'), ClassicalAtom(symbol='FullDuck'), ClassicalAtom(symbol='Sick'), ClassicalAtom(symbol='Chicken')}), frozenset({ClassicalAtom(symbol='FullDuck')}), frozenset({ClassicalAtom(symbol='Sick'), ClassicalAtom(symbol='Chicken')}), frozenset(), frozenset({ClassicalAtom(symbol='FullDuck'), ClassicalAtom(symbol='Sick'), ClassicalAtom(symbol='Chicken')})}), R=<function generate_transition_relation.<locals>.transition_relation at 0x7f21237d2cb0>, d=<function hamming_distance at 0x7f2123586dd0>)"
     },
     "execution_count": 150,
     "metadata": {},
     "output_type": "execute_result"
    }
   ],
   "source": [
    "trans = generate_transition_relation(AD)\n",
    "croc_sys = TransitionSystem(frozenset(frozen_powerset(F)), trans, hamming_distance)\n",
    "croc_sys"
   ],
   "metadata": {
    "collapsed": false,
    "pycharm": {
     "name": "#%%\n"
    }
   }
  },
  {
   "cell_type": "code",
   "execution_count": 151,
   "outputs": [],
   "source": [
    "def belief_state_from_models(formulas: Set[ClassicalFormula], alphabet=None) -> BeliefState:\n",
    "    return frozenset(\n",
    "        {frozenset({atom for atom, value in model.items() if value}) for model in models(formulas, alphabet)})"
   ],
   "metadata": {
    "collapsed": false,
    "pycharm": {
     "name": "#%%\n"
    }
   }
  },
  {
   "cell_type": "code",
   "execution_count": 152,
   "outputs": [
    {
     "data": {
      "text/plain": "frozenset({frozenset({ClassicalAtom(symbol='Chicken')}),\n           frozenset({ClassicalAtom(symbol='Chicken'),\n                      ClassicalAtom(symbol='Sick')})})"
     },
     "execution_count": 152,
     "metadata": {},
     "output_type": "execute_result"
    }
   ],
   "source": [
    "init_kappa = frozenset({frozenset({atom for atom, value in model.items() if value}) for model in\n",
    "                        models({-FullChicken_ & -FullDuck_ & Chicken_}, F)})\n",
    "init_kappa"
   ],
   "metadata": {
    "collapsed": false,
    "pycharm": {
     "name": "#%%\n"
    }
   }
  },
  {
   "cell_type": "code",
   "execution_count": 152,
   "outputs": [],
   "source": [],
   "metadata": {
    "collapsed": false,
    "pycharm": {
     "name": "#%%\n"
    }
   }
  },
  {
   "cell_type": "code",
   "execution_count": 153,
   "outputs": [],
   "source": [
    "@dataclass(order=True, frozen=True)\n",
    "class BeliefProposition:\n",
    "    action: Action\n",
    "    effect: ClassicalFormula\n",
    "    conditions: FrozenSet[ClassicalLiteral]\n",
    "\n",
    "    def applicable(self, state: State) -> bool:\n",
    "        return all(condition.sign == (condition in state) for condition in self.conditions)"
   ],
   "metadata": {
    "collapsed": false,
    "pycharm": {
     "name": "#%%\n"
    }
   }
  },
  {
   "cell_type": "code",
   "execution_count": 154,
   "outputs": [],
   "source": [
    "PointedBeliefState = Tuple[State, BeliefState]\n",
    "ActionBeliefDescription = FrozenSet[Union[EffectProposition, BeliefProposition]]\n",
    "BeliefDescription = FrozenSet[BeliefProposition]"
   ],
   "metadata": {
    "collapsed": false,
    "pycharm": {
     "name": "#%%\n"
    }
   }
  },
  {
   "cell_type": "code",
   "execution_count": 155,
   "outputs": [],
   "source": [
    "def EFF(O: Action, BD: BeliefDescription, s: State):\n",
    "    formulas = []\n",
    "    for p in BD:\n",
    "        if p.action == O and p.applicable(s):\n",
    "            formulas.append(p.effect)\n",
    "    return formulas"
   ],
   "metadata": {
    "collapsed": false,
    "pycharm": {
     "name": "#%%\n"
    }
   }
  },
  {
   "cell_type": "code",
   "execution_count": 156,
   "outputs": [],
   "source": [
    "r5_ = BeliefProposition(LookAtCroc, ClassicalFormula(Sick_), frozenset({Sick_}))\n",
    "\n",
    "AD: ActionDescription = frozenset({r1, r2, r3, r4})\n",
    "BD: BeliefDescription = frozenset({r5_})"
   ],
   "metadata": {
    "collapsed": false,
    "pycharm": {
     "name": "#%%\n"
    }
   }
  },
  {
   "cell_type": "code",
   "execution_count": 157,
   "outputs": [],
   "source": [
    "@dataclass(order=True, frozen=True)\n",
    "class ActionDescriptionTransitionSystem:\n",
    "    AD: ActionDescription\n",
    "    BD: BeliefDescription\n",
    "    T: TransitionSystem\n",
    "\n",
    "    def transition(self, pointed_belief_state: PointedBeliefState, sensing_action: Optional[Action] = None,\n",
    "                   *non_sensing_actions: Action) -> PointedBeliefState:\n",
    "        s, k = pointed_belief_state\n",
    "        s_ = frozenset({s})\n",
    "        for non_sensing_action in non_sensing_actions:\n",
    "            s_ = self.T.belief_update(s_, non_sensing_action)\n",
    "        k_ = k\n",
    "        if sensing_action is not None:\n",
    "            phi = EFF(sensing_action, self.BD, s_)\n",
    "            alpha = belief_state_from_models(phi, F)\n",
    "            *_, k_ = self.T.preds(alpha, non_sensing_actions)\n",
    "            for non_sensing_action in non_sensing_actions:\n",
    "                k_ = self.T.belief_update(k_, non_sensing_action)\n",
    "        return s_, k_\n"
   ],
   "metadata": {
    "collapsed": false,
    "pycharm": {
     "name": "#%%\n"
    }
   }
  },
  {
   "cell_type": "code",
   "execution_count": 158,
   "outputs": [
    {
     "data": {
      "text/plain": "ActionDescriptionTransitionSystem(AD=frozenset({EffectProposition(action=Action(symbol='Feed'), effect=¬Sick, conditions=frozenset({Chicken})), EffectProposition(action=Action(symbol='Feed'), effect=FullDuck, conditions=frozenset({¬Chicken})), EffectProposition(action=Action(symbol='Feed'), effect=Sick, conditions=frozenset({FullDuck, ¬Chicken})), EffectProposition(action=Action(symbol='Feed'), effect=FullChicken, conditions=frozenset({Chicken}))}), BD=frozenset({BeliefProposition(action=Action(symbol='LookAtCroc'), effect=Sick, conditions=frozenset({Sick}))}), T=TransitionSystem(S=frozenset({frozenset({ClassicalAtom(symbol='FullChicken'), ClassicalAtom(symbol='FullDuck'), ClassicalAtom(symbol='Chicken')}), frozenset({ClassicalAtom(symbol='Sick')}), frozenset({ClassicalAtom(symbol='FullDuck'), ClassicalAtom(symbol='Chicken')}), frozenset({ClassicalAtom(symbol='FullDuck'), ClassicalAtom(symbol='Sick'), ClassicalAtom(symbol='FullChicken')}), frozenset({ClassicalAtom(symbol='FullChicken')}), frozenset({ClassicalAtom(symbol='Sick'), ClassicalAtom(symbol='FullChicken')}), frozenset({ClassicalAtom(symbol='Chicken')}), frozenset({ClassicalAtom(symbol='FullDuck'), ClassicalAtom(symbol='Sick')}), frozenset({ClassicalAtom(symbol='FullDuck'), ClassicalAtom(symbol='FullChicken')}), frozenset({ClassicalAtom(symbol='FullChicken'), ClassicalAtom(symbol='Chicken')}), frozenset({ClassicalAtom(symbol='FullChicken'), ClassicalAtom(symbol='Sick'), ClassicalAtom(symbol='Chicken')}), frozenset({ClassicalAtom(symbol='FullChicken'), ClassicalAtom(symbol='FullDuck'), ClassicalAtom(symbol='Sick'), ClassicalAtom(symbol='Chicken')}), frozenset({ClassicalAtom(symbol='FullDuck')}), frozenset({ClassicalAtom(symbol='Sick'), ClassicalAtom(symbol='Chicken')}), frozenset(), frozenset({ClassicalAtom(symbol='FullDuck'), ClassicalAtom(symbol='Sick'), ClassicalAtom(symbol='Chicken')})}), R=<function generate_transition_relation.<locals>.transition_relation at 0x7f21237d2cb0>, d=<function hamming_distance at 0x7f2123586dd0>))"
     },
     "execution_count": 158,
     "metadata": {},
     "output_type": "execute_result"
    }
   ],
   "source": [
    "croc_ad_sys = ActionDescriptionTransitionSystem(AD, BD, croc_sys)\n",
    "croc_ad_sys"
   ],
   "metadata": {
    "collapsed": false,
    "pycharm": {
     "name": "#%%\n"
    }
   }
  },
  {
   "cell_type": "code",
   "execution_count": 159,
   "outputs": [],
   "source": [
    "init_s = frozenset({Chicken})"
   ],
   "metadata": {
    "collapsed": false,
    "pycharm": {
     "name": "#%%\n"
    }
   }
  },
  {
   "cell_type": "code",
   "execution_count": 160,
   "outputs": [
    {
     "data": {
      "text/plain": "(frozenset(), frozenset())"
     },
     "execution_count": 160,
     "metadata": {},
     "output_type": "execute_result"
    }
   ],
   "source": [
    "croc_ad_sys.transition((init_s, init_kappa), LookAtCroc, Feed)"
   ],
   "metadata": {
    "collapsed": false,
    "pycharm": {
     "name": "#%%\n"
    }
   }
  },
  {
   "cell_type": "code",
   "execution_count": 160,
   "outputs": [],
   "source": [],
   "metadata": {
    "collapsed": false,
    "pycharm": {
     "name": "#%%\n"
    }
   }
  }
 ],
 "metadata": {
  "kernelspec": {
   "display_name": "Python 3",
   "language": "python",
   "name": "python3"
  },
  "language_info": {
   "codemirror_mode": {
    "name": "ipython",
    "version": 2
   },
   "file_extension": ".py",
   "mimetype": "text/x-python",
   "name": "python",
   "nbconvert_exporter": "python",
   "pygments_lexer": "ipython2",
   "version": "2.7.6"
  }
 },
 "nbformat": 4,
 "nbformat_minor": 0
}