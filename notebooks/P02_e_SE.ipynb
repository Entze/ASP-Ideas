{
 "cells": [
  {
   "cell_type": "code",
   "execution_count": 44,
   "metadata": {
    "collapsed": true,
    "pycharm": {
     "name": "#%%\n"
    }
   },
   "outputs": [],
   "source": [
    "import abc\n",
    "from collections import defaultdict, namedtuple\n",
    "from copy import deepcopy\n",
    "from dataclasses import dataclass, field\n",
    "from enum import IntEnum\n",
    "from typing import MutableSequence\n",
    "from typing import Optional, Iterator, Sequence, TypeVar, Set, Mapping, Union, Tuple, Iterable, FrozenSet\n",
    "\n",
    "import clingo\n",
    "import clingraph\n",
    "from clingraph import Factbase, compute_graphs\n",
    "import more_itertools\n"
   ]
  },
  {
   "cell_type": "code",
   "execution_count": 45,
   "outputs": [],
   "source": [
    "def powerset(iterable):\n",
    "    for i in more_itertools.powerset(iterable):\n",
    "        yield set(i)"
   ],
   "metadata": {
    "collapsed": false,
    "pycharm": {
     "name": "#%%\n"
    }
   }
  },
  {
   "cell_type": "code",
   "execution_count": 46,
   "outputs": [],
   "source": [
    "def frozen_powerset(iterable):\n",
    "    for i in more_itertools.powerset(iterable):\n",
    "        yield frozenset(i)"
   ],
   "metadata": {
    "collapsed": false,
    "pycharm": {
     "name": "#%%\n"
    }
   }
  },
  {
   "cell_type": "code",
   "execution_count": 47,
   "outputs": [],
   "source": [
    "def asp_solve(programs,\n",
    "              ctl: Optional[clingo.Control] = None,\n",
    "              parts=(('base', ()),),\n",
    "              context=None,\n",
    "              report=False,\n",
    "              report_models=True,\n",
    "              report_result=True,\n",
    "              symbol_sep=' ',\n",
    "              model_sep='\\n'\n",
    "              ) -> Iterator[Sequence[clingo.Symbol]]:\n",
    "    if ctl is None:\n",
    "        ctl = clingo.Control(logger=lambda *args, **kwargs: None)\n",
    "        ctl.configuration.solve.models = 0\n",
    "    if programs:\n",
    "        if isinstance(programs, str):\n",
    "            ctl.add('base', [], programs)\n",
    "        else:\n",
    "            for program in programs:\n",
    "                if isinstance(program, ASPProgram):\n",
    "                    ctl.add('base', [], str(program))\n",
    "                elif isinstance(program, str):\n",
    "                    ctl.add('base', [], program)\n",
    "\n",
    "    ctl.ground(parts, context=context)\n",
    "    with ctl.solve(yield_=True) as solve_handle:\n",
    "        models = 0\n",
    "        for model in solve_handle:\n",
    "            symbols = sorted(model.symbols(shown=True))\n",
    "            if report and report_models:\n",
    "                print(\"Answer {}:\".format(model.number), end=' ')\n",
    "                print(\"{\",\n",
    "                      symbol_sep.join(map(str, symbols)), \"}\", sep=symbol_sep, end=model_sep)\n",
    "            models += 1\n",
    "            yield symbols\n",
    "        if report and report_result:\n",
    "            solve_result = solve_handle.get()\n",
    "            print(solve_result, end='')\n",
    "            if solve_result.satisfiable:\n",
    "                print(\" {}{}\".format(models, '' if solve_result.exhausted else '+'))\n",
    "            else:\n",
    "                print()\n",
    "\n",
    "\n",
    "def draw_graph(programs,\n",
    "               ctl: Optional[clingo.Control] = None,\n",
    "               parts=(('base', ()),)):\n",
    "    fb = Factbase()\n",
    "    if ctl is None:\n",
    "        ctl = clingo.Control(logger=lambda *args, **kwargs: None)\n",
    "        ctl.configuration.solve.models = 0\n",
    "    ctl.add('base', [], '\\n'.join(programs))\n",
    "    ctl.ground(parts, clingraph.clingo_utils.ClingraphContext())\n",
    "    with ctl.solve(yield_=True) as solve_handle:\n",
    "        for model in solve_handle:\n",
    "            fb.add_model(model)\n",
    "            break\n",
    "    return compute_graphs(fb)"
   ],
   "metadata": {
    "collapsed": false,
    "pycharm": {
     "name": "#%%\n"
    }
   }
  },
  {
   "cell_type": "code",
   "execution_count": 48,
   "outputs": [],
   "source": [
    "ForwardASPSymbol = TypeVar('ForwardASPSymbol', bound='ASPSymbol')\n",
    "ForwardASPVariable = TypeVar('ForwardASPVariable', bound='ASPVariable')\n",
    "\n",
    "\n",
    "class ASPSymbol(abc.ABC):\n",
    "\n",
    "    @staticmethod\n",
    "    def from_clingo_symbol(symbol: clingo.Symbol) -> ForwardASPSymbol:\n",
    "        if symbol.type is clingo.SymbolType.Number:\n",
    "            return ASPTerm(ASPIntegerConstant(symbol.number))\n",
    "        elif symbol.type is clingo.SymbolType.String:\n",
    "            return ASPTerm(ASPStringConstant(symbol.string))\n",
    "        elif symbol.type is clingo.SymbolType.Function:\n",
    "            arguments = tuple(ASPFunction.from_clingo_symbol(argument) for argument in symbol.arguments)\n",
    "            name = symbol.name\n",
    "            if symbol.negative:\n",
    "                name = \"-{}\".format(name)\n",
    "            return ASPFunction(name, arguments)\n",
    "        else:\n",
    "            assert False, \"Unhandled clingo.Symbol {} with type {}.\".format(symbol, symbol.type.name)\n",
    "\n",
    "\n",
    "@dataclass(order=True, frozen=True)\n",
    "class ASPStringConstant:\n",
    "    string: str = field(default=\"\")\n",
    "\n",
    "    def __str__(self):\n",
    "        return '\"{}\"'.format(self.string)\n",
    "\n",
    "\n",
    "@dataclass(order=True, frozen=True)\n",
    "class ASPIntegerConstant:\n",
    "    number: int = field(default=0)\n",
    "\n",
    "    def __str__(self):\n",
    "        return str(self.number)\n",
    "\n",
    "\n",
    "@dataclass(order=True, frozen=True)\n",
    "class ASPTerm(ASPSymbol):\n",
    "    constant: Union[ASPStringConstant, ASPIntegerConstant] = field(default_factory=ASPIntegerConstant)\n",
    "\n",
    "    def __str__(self):\n",
    "        return str(self.constant)\n",
    "\n",
    "    @staticmethod\n",
    "    def zero():\n",
    "        return ASPTerm(ASPIntegerConstant(0))\n",
    "\n",
    "    @staticmethod\n",
    "    def one():\n",
    "        return ASPTerm(ASPIntegerConstant(1))\n",
    "\n",
    "\n",
    "ForwardASPTopLevelSymbol = TypeVar('ForwardASPTopLevelSymbol', bound='ASPTopLevelSymbol')\n",
    "\n",
    "\n",
    "class ASPTopLevelSymbol(ASPSymbol, abc.ABC):\n",
    "\n",
    "    @property\n",
    "    def signature(self) -> str:\n",
    "        return \"{}/{}.\".format(self.function_name, self.arity)\n",
    "\n",
    "    @property\n",
    "    @abc.abstractmethod\n",
    "    def function_name(self) -> str:\n",
    "        raise NotImplementedError\n",
    "\n",
    "    @property\n",
    "    def arity(self) -> int:\n",
    "        return len(self.function_arguments)\n",
    "\n",
    "    @property\n",
    "    @abc.abstractmethod\n",
    "    def function_arguments(self) -> Sequence[ASPSymbol]:\n",
    "        raise NotImplementedError\n",
    "\n",
    "    def match(self, other: ForwardASPTopLevelSymbol) -> bool:\n",
    "        return self.function_name == other.function_name and len(self.function_arguments) == len(\n",
    "            other.function_arguments)\n",
    "\n",
    "\n",
    "def asp_evaluate(*programs, report=False) -> Iterator[FrozenSet[ASPTopLevelSymbol]]:\n",
    "    for answer_set in asp_solve(programs=programs, report=report):\n",
    "        yield frozenset(ASPFunction.from_clingo_symbol(symbol) for symbol in answer_set)\n",
    "\n",
    "\n",
    "@dataclass(order=True, frozen=True)\n",
    "class ASPFunction(ASPTopLevelSymbol):\n",
    "    name: Optional[str] = field(default=None)\n",
    "    arguments: Sequence[ASPSymbol] = field(default_factory=tuple)\n",
    "\n",
    "    @property\n",
    "    def function_name(self) -> str:\n",
    "        return self.name\n",
    "\n",
    "    @property\n",
    "    def function_arguments(self) -> Sequence[ASPSymbol]:\n",
    "        return self.arguments\n",
    "\n",
    "    @property\n",
    "    def arity(self) -> int:\n",
    "        return len(self.arguments)\n",
    "\n",
    "    def __str__(self):\n",
    "        if self.name is None:\n",
    "            return '({})'.format(','.join(map(str, self.arguments)))\n",
    "        elif not self.arguments:\n",
    "            return self.name\n",
    "        else:\n",
    "            return '{}({})'.format(self.name, ','.join(map(str, self.arguments)))\n",
    "\n",
    "\n",
    "ForwardASPAtom = TypeVar('ForwardASPAtom', bound='ASPAtom')\n",
    "\n",
    "\n",
    "@dataclass(order=True, frozen=True)\n",
    "class ASPAtom:\n",
    "    symbol: ASPTopLevelSymbol = field(default_factory=ASPFunction)\n",
    "\n",
    "    @property\n",
    "    def signature(self) -> str:\n",
    "        return self.symbol.signature\n",
    "\n",
    "    def match(self, other: ForwardASPAtom) -> bool:\n",
    "        return self.symbol.function_name == other.symbol.function_name and len(self.symbol.function_arguments) == len(\n",
    "            other.symbol.function_arguments)\n",
    "\n",
    "    def __str__(self):\n",
    "        return str(self.symbol)\n",
    "\n",
    "\n",
    "@dataclass(order=True, frozen=True)\n",
    "class ASPClauseElement(abc.ABC):\n",
    "\n",
    "    @property\n",
    "    @abc.abstractmethod\n",
    "    def signature(self) -> str:\n",
    "        raise NotImplementedError\n",
    "\n",
    "    @property\n",
    "    @abc.abstractmethod\n",
    "    def is_pos(self):\n",
    "        raise NotImplementedError\n",
    "\n",
    "    @property\n",
    "    @abc.abstractmethod\n",
    "    def is_neg(self):\n",
    "        raise NotImplementedError\n",
    "\n",
    "    def __neg__(self):\n",
    "        raise NotImplementedError\n",
    "\n",
    "    def __abs__(self):\n",
    "        raise NotImplementedError\n",
    "\n",
    "\n",
    "class ASPHeadClauseElement(ASPClauseElement):\n",
    "    pass\n",
    "\n",
    "\n",
    "class ASPLiteral(ASPHeadClauseElement):\n",
    "\n",
    "    @property\n",
    "    @abc.abstractmethod\n",
    "    def signature(self) -> str:\n",
    "        raise NotImplementedError\n",
    "\n",
    "    @property\n",
    "    @abc.abstractmethod\n",
    "    def is_pos(self) -> bool:\n",
    "        raise NotImplementedError\n",
    "\n",
    "    @property\n",
    "    @abc.abstractmethod\n",
    "    def is_neg(self) -> bool:\n",
    "        raise NotImplementedError\n",
    "\n",
    "\n",
    "class ASPSign(IntEnum):\n",
    "    NoSign = 0\n",
    "    Negation = 1\n",
    "\n",
    "    def __str__(self):\n",
    "        if self is ASPSign.NoSign:\n",
    "            return ''\n",
    "        elif self is ASPSign.Negation:\n",
    "            return 'not'\n",
    "        else:\n",
    "            assert False, 'Unknown IntEnum {} = {}.'.format(self.name, self.value)\n",
    "\n",
    "\n",
    "@dataclass(order=True, frozen=True)\n",
    "class ASPBasicLiteral(ASPLiteral):\n",
    "    sign: ASPSign = ASPSign.NoSign\n",
    "    atom: ASPAtom = field(default_factory=ASPAtom)\n",
    "\n",
    "    @property\n",
    "    def is_pos(self) -> bool:\n",
    "        return self.sign is ASPSign.NoSign\n",
    "\n",
    "    @property\n",
    "    def is_neg(self) -> bool:\n",
    "        return self.sign is ASPSign.Negation\n",
    "\n",
    "    @property\n",
    "    def signature(self) -> str:\n",
    "        return self.atom.signature\n",
    "\n",
    "    def __str__(self):\n",
    "        if self.sign is ASPSign.NoSign:\n",
    "            return \"{}\".format(self.atom)\n",
    "        else:\n",
    "            return \"{} {}\".format(self.sign, self.atom)\n",
    "\n",
    "    def __neg__(self):\n",
    "        return ASPBasicLiteral(ASPSign((self.sign ^ 1) % 2), self.atom)\n",
    "\n",
    "    def __abs__(self):\n",
    "        return ASPBasicLiteral(ASPSign.NoSign, self.atom)\n",
    "\n",
    "    def as_classical_atom(self):\n",
    "        return ClassicalAtom(str(self.atom.symbol))\n",
    "\n",
    "    @staticmethod\n",
    "    def make_literal(name: Optional[str], *arguments: Union[str, int, ASPFunction]):\n",
    "        function_arguments = []\n",
    "        for arg_ in arguments:\n",
    "            if isinstance(arg_, str):\n",
    "                arg = ASPFunction(arg_)\n",
    "            elif isinstance(arg_, int):\n",
    "                arg = ASPTerm(ASPIntegerConstant(arg_))\n",
    "            else:\n",
    "                arg = arg_\n",
    "            function_arguments.append(arg)\n",
    "        return ASPBasicLiteral(atom=ASPAtom(ASPFunction(name=name, arguments=tuple(function_arguments))))\n",
    "\n",
    "\n",
    "@dataclass(order=True, frozen=True)\n",
    "class ASPRule(abc.ABC):\n",
    "    head: Optional[ASPHeadClauseElement] = field(default=None)\n",
    "    body: Optional[Sequence[ASPClauseElement]] = field(default=None)\n",
    "\n",
    "    @property\n",
    "    @abc.abstractmethod\n",
    "    def head_signature(self) -> Union[str, Set[str]]:\n",
    "        raise NotImplementedError\n",
    "\n",
    "    @staticmethod\n",
    "    def fmt_body(body: Sequence[ASPClauseElement]):\n",
    "        return ', '.join(map(str, body))\n",
    "\n",
    "    def reduct(self, elems: Set[ASPTopLevelSymbol]):\n",
    "        if self.body is not None:\n",
    "            if any(literal.is_neg and literal.atom.symbol in elems for literal in self.body):\n",
    "                return None\n",
    "        raise NotImplementedError\n",
    "\n",
    "\n",
    "@dataclass(order=True, frozen=True)\n",
    "class ASPNormalRule(ASPRule):\n",
    "    head: ASPBasicLiteral = field(default_factory=ASPBasicLiteral)\n",
    "    body: Sequence[ASPClauseElement] = field(default_factory=tuple)\n",
    "\n",
    "    @property\n",
    "    def head_signature(self) -> str:\n",
    "        return self.head.signature\n",
    "\n",
    "    def __str__(self):\n",
    "        if self.body:\n",
    "            return \"{} :- {}.\".format(self.head, ASPRule.fmt_body(self.body))\n",
    "        else:\n",
    "            return \"{}.\".format(self.head)\n",
    "\n",
    "    def reduct(self, elems: Set[ASPTopLevelSymbol]):\n",
    "        if any(literal.is_neg and literal.atom.symbol in elems for literal in self.body):\n",
    "            return None\n",
    "        return ASPNormalRule(self.head, tuple(literal for literal in self.body if literal.is_pos))\n",
    "\n",
    "\n",
    "@dataclass(order=True, frozen=True)\n",
    "class ASPIntegrityConstraint(ASPRule):\n",
    "    body: Sequence[ASPClauseElement] = field(default_factory=tuple)\n",
    "    head: bool = field(default=False, init=False)\n",
    "\n",
    "    @property\n",
    "    def head_signature(self) -> str:\n",
    "        return '#false/0.'\n",
    "\n",
    "    def __str__(self):\n",
    "        if self.body:\n",
    "            return \":- {}.\".format(ASPRule.fmt_body(self.body))\n",
    "        else:\n",
    "            return \":-.\"\n",
    "\n",
    "    def reduct(self, elems: Set[ASPTopLevelSymbol]):\n",
    "        if any(literal.is_neg and literal.atom.symbol in elems for literal in self.body):\n",
    "            return None\n",
    "        return ASPIntegrityConstraint(tuple(literal for literal in self.body if literal.is_pos))\n",
    "\n",
    "\n",
    "@dataclass(order=True, frozen=True)\n",
    "class ASPDisjunctiveRule(ASPRule):\n",
    "    head: Sequence[ASPBasicLiteral] = field(default_factory=tuple)\n",
    "    body: Sequence[ASPClauseElement] = field(default_factory=tuple)\n",
    "\n",
    "    @property\n",
    "    def head_signature(self) -> Set[str]:\n",
    "        return {h.signature for h in self.head}\n",
    "\n",
    "    def __str__(self):\n",
    "        return \"{} :- {}.\".format('; '.join(map(str, self.head)), ASPRule.fmt_body(self.body))\n",
    "\n",
    "    def reduct(self, elems: Set[ASPTopLevelSymbol]):\n",
    "        if any(literal.is_neg and literal.atom.symbol in elems for literal in self.body):\n",
    "            return None\n",
    "        return ASPDisjunctiveRule(self.head, tuple(literal for literal in self.body if literal.is_pos))\n",
    "\n",
    "\n",
    "@dataclass(order=True, frozen=True)\n",
    "class ASPProgram:\n",
    "    rules: Sequence[ASPRule] = field(default_factory=tuple)\n",
    "\n",
    "    def fmt(self, sep='\\n'):\n",
    "        return sep.join(map(str, self.rules))\n",
    "\n",
    "    def __str__(self):\n",
    "        return self.fmt(' ')\n",
    "\n",
    "    def reduct(self, elems: Set[ASPTopLevelSymbol]):\n",
    "        return ASPProgram(tuple(filter(lambda r: r is not None, (rule.reduct(elems) for rule in self.rules))))\n",
    "\n",
    "\n",
    "@dataclass(frozen=True, order=True)\n",
    "class ClassicalAtom:\n",
    "    symbol: str\n",
    "\n",
    "    @property\n",
    "    def is_complement(self) -> bool:\n",
    "        return self.symbol.startswith('-')\n",
    "\n",
    "    def __neg__(self):\n",
    "        if self.is_complement:\n",
    "            return ClassicalAtom(self.symbol[1:])\n",
    "        else:\n",
    "            return ClassicalAtom('-{}'.format(self.symbol))\n",
    "\n",
    "    def __abs__(self):\n",
    "        if self.is_complement:\n",
    "            return -self\n",
    "        return self\n",
    "\n",
    "    def __str__(self):\n",
    "        return self.symbol\n",
    "\n",
    "\n",
    "ClassicalAlphabet = Set[ClassicalAtom]\n",
    "ClassicalValuation = Mapping[ClassicalAtom, bool]\n",
    "\n",
    "\n",
    "@dataclass(frozen=True, order=True)\n",
    "class ClassicalLiteral:\n",
    "    atom: ClassicalAtom\n",
    "    sign: bool = field(default=True)\n",
    "\n",
    "    def __str__(self):\n",
    "        sign_str = \"\"\n",
    "        if not self.sign:\n",
    "            sign_str = \"¬\"\n",
    "        return \"{}{}\".format(sign_str, self.atom)\n",
    "\n",
    "    def __repr__(self):\n",
    "        return str(self)\n",
    "\n",
    "    def __neg__(self):\n",
    "        return ClassicalLiteral(self.atom, not self.sign)\n",
    "\n",
    "    def __and__(self, other):\n",
    "        left = ClassicalFormula(self)\n",
    "        right = other\n",
    "        if isinstance(other, ClassicalLiteral):\n",
    "            right = ClassicalFormula(right)\n",
    "        return ClassicalFormula(left, ClassicalConnective.And, right)\n",
    "\n",
    "    def __or__(self, other):\n",
    "        left = ClassicalFormula(self)\n",
    "        right = other\n",
    "        if isinstance(other, ClassicalLiteral):\n",
    "            right = ClassicalFormula(right)\n",
    "        return ClassicalFormula(left, ClassicalConnective.Or, right)\n",
    "\n",
    "    def __rshift__(self, other):\n",
    "        left = ClassicalFormula(self)\n",
    "        right = other\n",
    "        if isinstance(other, ClassicalLiteral):\n",
    "            right = ClassicalFormula(right)\n",
    "        return ClassicalFormula(left, ClassicalConnective.Implies, right)\n",
    "\n",
    "\n",
    "@dataclass(frozen=True, order=True)\n",
    "class ClassicalTop(ClassicalLiteral):\n",
    "    atom: ClassicalAtom = field(default=ClassicalAtom('⊤'), init=False)\n",
    "    sign: bool = field(default=True, init=False)\n",
    "\n",
    "    def __str__(self):\n",
    "        return str(self.atom)\n",
    "\n",
    "    def __repr__(self):\n",
    "        return str(self)\n",
    "\n",
    "    def __neg__(self):\n",
    "        return ClassicalBot()\n",
    "\n",
    "    def __and__(self, other):\n",
    "        if isinstance(other, ClassicalLiteral):\n",
    "            return ClassicalFormula(other)\n",
    "        return other\n",
    "\n",
    "    def __or__(self, other):\n",
    "        return ClassicalFormula(ClassicalTop())\n",
    "\n",
    "\n",
    "@dataclass(frozen=True, order=True)\n",
    "class ClassicalBot(ClassicalLiteral):\n",
    "    atom: ClassicalAtom = field(default=ClassicalAtom('⊥'), init=False)\n",
    "    sign: bool = field(default=False, init=False)\n",
    "\n",
    "    def __neg__(self):\n",
    "        return ClassicalTop()\n",
    "\n",
    "    def __str__(self):\n",
    "        return str(self.atom)\n",
    "\n",
    "    def __and__(self, other):\n",
    "        return ClassicalFormula(ClassicalBot())\n",
    "\n",
    "    def __or__(self, other):\n",
    "        if isinstance(other, ClassicalLiteral):\n",
    "            return ClassicalFormula(other)\n",
    "        return other\n",
    "\n",
    "\n",
    "class ClassicalConnective(IntEnum):\n",
    "    And = 0\n",
    "    Or = 1\n",
    "    Implies = 2\n",
    "\n",
    "    def __str__(self):\n",
    "        if self is ClassicalConnective.And:\n",
    "            return \"∧\"\n",
    "        elif self is ClassicalConnective.Or:\n",
    "            return \"∨\"\n",
    "        elif self is ClassicalConnective.Implies:\n",
    "            return \"→\"\n",
    "        else:\n",
    "            assert False, \"Unhandled Connective.__str__: {} = {}\".format(self.name, self.value)\n",
    "\n",
    "    def evaluate(self, left: bool, right: bool):\n",
    "        if self is ClassicalConnective.And:\n",
    "            return left and right\n",
    "        elif self is ClassicalConnective.Or:\n",
    "            return left or right\n",
    "        elif self is ClassicalConnective.Implies:\n",
    "            return not left or right\n",
    "        else:\n",
    "            assert False, \"Unhandled Connective.evaluate: {} = {}\".format(self.name, self.value)\n",
    "\n",
    "\n",
    "ForwardClassicalFormula = TypeVar('ForwardClassicalFormula', bound='ClassicalFormula')\n",
    "\n",
    "\n",
    "@dataclass(frozen=True, order=True)\n",
    "class ClassicalFormula:\n",
    "    left: Union[ForwardClassicalFormula, ClassicalLiteral]\n",
    "    connective: Optional[ClassicalConnective] = field(default=None)\n",
    "    right: Union[ForwardClassicalFormula, None] = field(default=None)\n",
    "\n",
    "    def __str__(self):\n",
    "        left_str = str(self.left)\n",
    "        connective_str = \"\"\n",
    "        if self.connective is not None:\n",
    "            connective_str = \" {}\".format(self.connective)\n",
    "            if isinstance(self.left,\n",
    "                          ClassicalFormula) and self.left.connective is not None and self.left.connective > self.connective:\n",
    "                left_str = \"({})\".format(left_str)\n",
    "        right_str = \"\"\n",
    "        if self.right is not None:\n",
    "            if self.right.left == ClassicalBot() and self.right.right is None and self.connective is ClassicalConnective.Implies:\n",
    "                left_str = \"¬({})\".format(left_str)\n",
    "                connective_str = \"\"\n",
    "            else:\n",
    "                right_str = \" {}\".format(self.right)\n",
    "            if isinstance(self.right,\n",
    "                          ClassicalFormula) and self.right.connective is not None and self.right.connective > self.connective:\n",
    "                left_str = \"({})\".format(left_str)\n",
    "        return \"{}{}{}\".format(left_str, connective_str, right_str)\n",
    "\n",
    "    def __repr__(self):\n",
    "        return str(self)\n",
    "\n",
    "    def evaluate(self, valuation: Optional[ClassicalValuation] = None) -> bool:\n",
    "        if isinstance(self.left, ClassicalLiteral):\n",
    "            value_left = self.__evaluate_literal(self.left, valuation)\n",
    "        else:\n",
    "            assert isinstance(self.left, ClassicalFormula), \"Unknown type for Formula.left. {}: {}\".format(\n",
    "                type(self.left).__name__, self.left)\n",
    "            value_left = self.left.evaluate(valuation)\n",
    "        if self.connective is not None and self.right is None:\n",
    "            raise TypeError(\"Formula.connective present, despite Formula.right missing.\")\n",
    "        elif self.connective is None and self.right is not None:\n",
    "            raise TypeError(\"Formula.connective missing, despite Formula.right present.\")\n",
    "\n",
    "        if self.connective is None and self.right is None:\n",
    "            return value_left\n",
    "        else:\n",
    "            assert isinstance(self.right, ClassicalFormula), \"Unknown type for Formula.right. {}: {}\".format(\n",
    "                type(self.right).__name__, self.right)\n",
    "            value_right = self.right.evaluate(valuation)\n",
    "\n",
    "            return self.connective.evaluate(value_left, value_right)\n",
    "\n",
    "    def __evaluate_literal(self, literal: ClassicalLiteral, valuation: Optional[ClassicalValuation] = None) -> bool:\n",
    "        if isinstance(literal, ClassicalTop) or isinstance(literal, ClassicalBot):\n",
    "            return literal.sign\n",
    "        else:\n",
    "            # get assigned truth value of atom (per default false) and flip the result if negated\n",
    "            return valuation is not None and bool(valuation.get(literal.atom, False) ^ (not literal.sign))\n",
    "\n",
    "    def set_to_bot(self, *atoms: ClassicalAtom) -> ForwardClassicalFormula:\n",
    "        if isinstance(self.left, ClassicalLiteral):\n",
    "            assert self.connective is None\n",
    "            assert self.right is None\n",
    "            if self.left.atom in atoms:\n",
    "                if self.left.sign:\n",
    "                    return ClassicalFormula(ClassicalBot())\n",
    "                else:\n",
    "                    return ClassicalFormula(ClassicalTop())\n",
    "            else:\n",
    "                return self\n",
    "        else:\n",
    "            left = self.left.set_to_bot(*atoms)\n",
    "            right = self.right\n",
    "            if right is not None:\n",
    "                right = self.right.set_to_bot(*atoms)\n",
    "            return ClassicalFormula(left, self.connective, right)\n",
    "\n",
    "    @property\n",
    "    def literals(self) -> Set[ClassicalLiteral]:\n",
    "        literals = set()\n",
    "        if isinstance(self.left, ClassicalLiteral):\n",
    "            if not isinstance(self.left, ClassicalTop) and not isinstance(self.left, ClassicalBot):\n",
    "                literals.add(self.left)\n",
    "        else:\n",
    "            assert isinstance(self.left, ClassicalFormula), \"Unknown type for Formula.right. {}: {}\".format(\n",
    "                type(self.left).__name__, self.left)\n",
    "            literals.update(self.left.literals)\n",
    "        if self.right is not None:\n",
    "            assert isinstance(self.right, ClassicalFormula), \"Unknown type for Formula.right. {}: {}\".format(\n",
    "                type(self.right).__name__, self.right)\n",
    "            literals.update(self.right.literals)\n",
    "        return literals\n",
    "\n",
    "    @property\n",
    "    def atoms(self) -> Set[ClassicalAtom]:\n",
    "        return {literal.atom for literal in self.literals}\n",
    "\n",
    "    def __neg__(self):\n",
    "        if self.connective is not None and self.right is None:\n",
    "            raise TypeError(\"Formula.connective present, despite Formula.right missing.\")\n",
    "        elif self.connective is None and self.right is not None:\n",
    "            raise TypeError(\"Formula.connective missing, despite Formula.right present.\")\n",
    "\n",
    "        if self.connective is None and self.right is None:\n",
    "            return ClassicalFormula(-self.left)\n",
    "        elif self.connective is ClassicalConnective.And:\n",
    "            return ClassicalFormula(-self.left, ClassicalConnective.Or, -self.right)\n",
    "        elif self.connective is ClassicalConnective.Or:\n",
    "            return ClassicalFormula(-self.left, ClassicalConnective.And, -self.right)\n",
    "        elif self.connective is ClassicalConnective.Implies:\n",
    "            if self.right.left == ClassicalBot() and self.right.right is None:\n",
    "                return self.left\n",
    "            return ClassicalFormula(self, ClassicalConnective.Implies, ClassicalFormula(ClassicalBot()))\n",
    "        else:\n",
    "            assert False, \"Unknown Formula.connective. {} = {}.\".format(self.connective.name, self.connective.value)\n",
    "\n",
    "    @property\n",
    "    def is_top(self) -> bool:\n",
    "        return self.right is None and isinstance(self.left, ClassicalTop)\n",
    "\n",
    "    @property\n",
    "    def is_bot(self) -> bool:\n",
    "        return self.right is None and isinstance(self.left, ClassicalBot)\n",
    "\n",
    "    def __and__(self, other):\n",
    "        left = self\n",
    "        right = other\n",
    "        if isinstance(other, ClassicalLiteral):\n",
    "            right = ClassicalFormula(right)\n",
    "        if left.is_top:\n",
    "            return right\n",
    "        elif right.is_top:\n",
    "            return left\n",
    "        if left.is_bot:\n",
    "            return left\n",
    "        elif right.is_bot:\n",
    "            return right\n",
    "        return ClassicalFormula(left, ClassicalConnective.And, right)\n",
    "\n",
    "    def __or__(self, other):\n",
    "        left = self\n",
    "        right = other\n",
    "        if isinstance(other, ClassicalLiteral):\n",
    "            right = ClassicalFormula(right)\n",
    "        if left.is_top:\n",
    "            return left\n",
    "        elif right.is_top:\n",
    "            return right\n",
    "        if left.is_bot:\n",
    "            return right\n",
    "        elif right.is_bot:\n",
    "            return left\n",
    "        return ClassicalFormula(left, ClassicalConnective.Or, right)\n",
    "\n",
    "    def __rshift__(self, other):\n",
    "        left = self\n",
    "        right = other\n",
    "        if isinstance(other, ClassicalLiteral):\n",
    "            right = ClassicalFormula(right)\n",
    "        return ClassicalFormula(left, ClassicalConnective.Implies, right)\n",
    "\n",
    "    def __call__(self, valuation: Optional[ClassicalValuation] = None) -> bool:\n",
    "        return self.evaluate(valuation)\n",
    "\n",
    "\n",
    "def all_valuations(alphabet: ClassicalAlphabet, complete: bool = False) -> Iterator[ClassicalValuation]:\n",
    "    subsets = powerset(alphabet)\n",
    "    for subset in subsets:\n",
    "        valuation = defaultdict(lambda: False)\n",
    "        for atom in subset:\n",
    "            valuation[atom] = True\n",
    "        if complete:\n",
    "            for atom in alphabet:\n",
    "                if atom not in subset:\n",
    "                    valuation[atom] = False\n",
    "        yield valuation\n",
    "\n",
    "\n",
    "def models(formulas: Set[ClassicalFormula], alphabet: Optional[ClassicalAlphabet] = None) -> Iterator[\n",
    "    ClassicalValuation]:\n",
    "    if alphabet is None:\n",
    "        alphabet = {atom for formula in formulas for atom in formula.atoms}\n",
    "    for valuation in all_valuations(alphabet):\n",
    "        if all(formula.evaluate(valuation) for formula in formulas):\n",
    "            yield valuation\n",
    "\n",
    "\n",
    "def sat(formulas: Set[ClassicalFormula], alphabet: Optional[ClassicalAlphabet] = None) -> bool:\n",
    "    model = next(models(formulas, alphabet), None)\n",
    "    return model is not None\n",
    "\n",
    "\n",
    "def unsat(formulas: Set[ClassicalFormula], alphabet: Optional[ClassicalAlphabet] = None) -> bool:\n",
    "    return not sat(formulas, alphabet)\n",
    "\n",
    "\n",
    "def entails(formulas: Set[ClassicalFormula], formula: ClassicalFormula) -> bool:\n",
    "    return unsat(formulas | {-formula})\n",
    "\n",
    "\n",
    "def valid(formulas: Set[ClassicalFormula], alphabet: Optional[ClassicalAlphabet] = None) -> bool:\n",
    "    if alphabet is None:\n",
    "        alphabet = {atom for formula in formulas for atom in formula.atoms}\n",
    "    for valuation in all_valuations(alphabet):\n",
    "        if any(not formula.evaluate(valuation) for formula in formulas):\n",
    "            return False\n",
    "    return True\n",
    "\n",
    "\n",
    "def empty_conditions(*args, **kwargs):\n",
    "    return defaultdict(lambda: ClassicalFormula(ClassicalBot()))\n",
    "\n",
    "\n",
    "@dataclass\n",
    "class ADF:\n",
    "    statements: Set[ClassicalAtom] = field(default_factory=set)\n",
    "    conditions: Mapping[ClassicalAtom, ClassicalFormula] = field(default_factory=empty_conditions)\n",
    "    rule_atoms: Set[ClassicalAtom] = field(default_factory=set)\n",
    "\n",
    "    def is_fact(self, atom: ClassicalAtom) -> bool:\n",
    "        return atom in self.conditions and any(\n",
    "            condition in self.conditions and self.conditions[condition].is_top for condition in\n",
    "            self.conditions[atom].atoms)\n",
    "\n",
    "    def is_non_factual(self, atom: ClassicalAtom) -> bool:\n",
    "        return self.conditions.get(atom, ClassicalFormula(ClassicalBot())).is_bot\n",
    "\n",
    "    def __str__(self):\n",
    "        return \"{}{}{} <{}>\".format('{', ' '.join(map(str, self.statements)), '}',\n",
    "                                    ', '.join(map(lambda i: '{}: {}'.format(i[0], i[1]), self.conditions.items())))\n",
    "\n",
    "    def __repr__(self):\n",
    "        return str(self)\n",
    "\n",
    "\n",
    "def asp_to_adf(*rules: ASPRule):\n",
    "    statements = set()\n",
    "    conditions = empty_conditions()\n",
    "    rule_atoms = set()\n",
    "    for i, rule in enumerate(rules):\n",
    "        r = ClassicalLiteral(ClassicalAtom('r{}'.format(i + 1)))\n",
    "        rule_atoms.add(r.atom)\n",
    "        bs = set(\n",
    "            ClassicalLiteral(ClassicalAtom(str(literal.atom.symbol)), sign=literal.is_pos) for literal in rule.body)\n",
    "        statements.add(r.atom)\n",
    "        statements.update(b.atom for b in bs)\n",
    "        if isinstance(rule, ASPNormalRule):\n",
    "            h = ClassicalLiteral(ClassicalAtom(str(rule.head.atom.symbol)))\n",
    "            statements.add(h.atom)\n",
    "\n",
    "            formula = conditions[h.atom]\n",
    "            formula = formula | r\n",
    "            conditions[h.atom] = formula\n",
    "            formula = ClassicalFormula(ClassicalTop())\n",
    "\n",
    "        elif isinstance(rule, ASPIntegrityConstraint):\n",
    "            formula = -ClassicalFormula(r)\n",
    "        else:\n",
    "            assert False, \"Unknown ASPRule {} with type {}.\".format(rule, type(rule).__name__)\n",
    "\n",
    "        for b in bs:\n",
    "            formula = formula & b\n",
    "        conditions[r.atom] = formula\n",
    "\n",
    "    complements = set()\n",
    "    for complement in statements:\n",
    "        if complement.is_complement:\n",
    "            for statement in statements:\n",
    "                if statement == -complement:\n",
    "                    cmp = ClassicalLiteral(ClassicalAtom('cmp({})'.format(statement.symbol)))\n",
    "                    cmp_condition = -cmp & ClassicalLiteral(statement) & ClassicalLiteral(complement)\n",
    "                    complements.add(cmp.atom)\n",
    "                    conditions[cmp.atom] = cmp_condition\n",
    "\n",
    "    statements.update(complements)\n",
    "\n",
    "    return ADF(statements, conditions, rule_atoms)\n",
    "\n",
    "\n",
    "def answer_set_to_valuation(answer_set: Iterable[ASPTopLevelSymbol]) -> ClassicalValuation:\n",
    "    valuation = defaultdict(lambda: False)\n",
    "    for elem in answer_set:\n",
    "        atom = ClassicalAtom(str(elem))\n",
    "        valuation[atom] = True\n",
    "    return valuation\n",
    "\n",
    "\n",
    "def valuation_to_extension(valuation: ClassicalValuation) -> Set[ClassicalAtom]:\n",
    "    extension = set()\n",
    "    for atom, truthvalue in valuation.items():\n",
    "        if truthvalue:\n",
    "            extension.add(atom)\n",
    "    return extension\n",
    "\n",
    "\n",
    "def extension_to_valuation(extension: Set[ClassicalAtom]) -> ClassicalValuation:\n",
    "    valuation = defaultdict(lambda: False)\n",
    "    for atom in extension:\n",
    "        valuation[atom] = True\n",
    "    return valuation"
   ],
   "metadata": {
    "collapsed": false,
    "pycharm": {
     "name": "#%%\n"
    }
   }
  },
  {
   "cell_type": "code",
   "execution_count": 49,
   "outputs": [],
   "source": [
    "PDE = Tuple[ClassicalAtom, Set[ClassicalAtom], Set[ClassicalAtom], Sequence[ClassicalAtom]]\n",
    "\n",
    "\n",
    "def fmt_pde(pde: PDE) -> str:\n",
    "    return \"({}, {}{}{}, {}{}{}, [{}])\".format(pde[0], '{', ','.join(map(str, pde[1])), '}', '{',\n",
    "                                               ','.join(map(str, pde[2])), '}', ','.join(map(str, pde[3])))\n",
    "\n",
    "\n",
    "def print_pde(pde: PDE):\n",
    "    print(fmt_pde(pde))\n",
    "\n",
    "\n",
    "def get_pdes(adf: ADF,\n",
    "             e: ClassicalAtom,\n",
    "             extension: Set[ClassicalAtom],\n",
    "             sequence: Optional[MutableSequence[ClassicalAtom]] = None,\n",
    "             facts: Optional[Set[ClassicalAtom]] = None,\n",
    "             blocking: Optional[Set[ClassicalAtom]] = None) -> Sequence[PDE]:\n",
    "    if facts is None:\n",
    "        facts = set()\n",
    "    if blocking is None:\n",
    "        blocking = set()\n",
    "    if sequence is None:\n",
    "        sequence = []\n",
    "\n",
    "    sequence.insert(0, e)\n",
    "\n",
    "    conditions = set(adf.conditions[e].atoms)\n",
    "\n",
    "    pdes = []\n",
    "\n",
    "    for condition in conditions:\n",
    "        if len(conditions) > 1:\n",
    "            facts_ = deepcopy(facts)\n",
    "            blocking_ = deepcopy(blocking)\n",
    "            sequence_ = deepcopy(sequence)\n",
    "        else:\n",
    "            facts_ = facts\n",
    "            blocking_ = blocking\n",
    "            sequence_ = sequence\n",
    "        sequence_.insert(0, condition)\n",
    "        if adf.is_fact(e):\n",
    "            facts_.add(e)\n",
    "            pdes.append((e, facts_, blocking_, sequence_))\n",
    "            return pdes\n",
    "\n",
    "        subcondition = adf.conditions[condition]\n",
    "        literals = set(subcondition.literals)\n",
    "        branch_pdes = [(e, facts_, blocking_, sequence_)]\n",
    "        subpdes = None\n",
    "        for literal in literals:\n",
    "            if literal.sign is False:\n",
    "                blocking_.add(literal.atom)\n",
    "                continue\n",
    "            subpdes = []\n",
    "            for branch in branch_pdes:\n",
    "                _, facts_, blocking_, sequence_ = branch\n",
    "                subpdes.extend(get_pdes(adf, literal.atom, extension, sequence_, facts_, blocking_))\n",
    "            branch_pdes = subpdes\n",
    "        if subpdes is not None and subpdes:\n",
    "            for subpde in subpdes:\n",
    "                _, facts_, blocking_, sequence_ = subpde\n",
    "                pdes.append((e, facts_, blocking_, sequence_))\n",
    "        else:\n",
    "            pdes.append((e, facts_, blocking_, sequence_))\n",
    "\n",
    "    return pdes\n"
   ],
   "metadata": {
    "collapsed": false,
    "pycharm": {
     "name": "#%%\n"
    }
   }
  },
  {
   "cell_type": "code",
   "execution_count": 50,
   "outputs": [],
   "source": [
    "CompactPDE = Tuple[ClassicalAtom, FrozenSet[ClassicalAtom], FrozenSet[ClassicalAtom], FrozenSet[ClassicalAtom]]\n",
    "\n",
    "\n",
    "def fmt_compact_pde(pde: CompactPDE) -> str:\n",
    "    return \"({}, {}{}{}, {}{}{}, {}{}{})\".format(pde[0], '{', ','.join(map(str, sorted(pde[1]))), '}', '{',\n",
    "                                                 ','.join(map(str, sorted(pde[2]))), '}', '{',\n",
    "                                                 ','.join(map(str, sorted(pde[3]))), '}')\n",
    "\n",
    "\n",
    "def print_compact_pde(pde: CompactPDE):\n",
    "    print(fmt_compact_pde(pde))\n",
    "\n",
    "\n",
    "ForwardASLExplanationGraph = TypeVar('ForwardASLExplanationGraph', bound='ASLExplanationGraph')\n",
    "\n",
    "\n",
    "@dataclass\n",
    "class ASLJustificationTree:\n",
    "    adf: ADF\n",
    "    extension: Set[ClassicalAtom]\n",
    "    pde: CompactPDE\n",
    "    proof: bool = field(default=False)\n",
    "    children: Optional[MutableSequence[ForwardASLExplanationGraph]] = field(default=None)\n",
    "\n",
    "    @property\n",
    "    def is_expanded(self) -> bool:\n",
    "        return self.children is not None\n",
    "\n",
    "    def expand(self):\n",
    "        raise NotImplementedError\n",
    "\n",
    "    def expand_recursively(self, depth=None):\n",
    "        if depth is not None and depth <= 0:\n",
    "            return\n",
    "        self.expand()\n",
    "        for child in self.children:\n",
    "            child.expand_recursively(depth=None if depth is None else depth - 1)\n",
    "\n",
    "    def fmt(self, indent=0, root=True):\n",
    "        fmt = \"\"\n",
    "        if root:\n",
    "            fmt += '*\\n|'\n",
    "        for i in range(indent):\n",
    "            fmt += '|  '\n",
    "        if indent > 0:\n",
    "            fmt += '\\n'\n",
    "            for i in range(indent - 1):\n",
    "                fmt += '|  '\n",
    "            fmt += '|__'\n",
    "\n",
    "        fmt += '__' + str(self)\n",
    "        if self.is_expanded:\n",
    "            for child in self.children:\n",
    "                fmt += '\\n' + child.fmt(indent=indent + 1, root=False)\n",
    "        return fmt\n",
    "\n",
    "    def pretty_print(self):\n",
    "        print(self.fmt())\n",
    "\n",
    "    def __str__(self):\n",
    "        return \"<{},{}>\".format(fmt_compact_pde(self.pde), '+' if self.proof else '-')\n",
    "\n",
    "\n",
    "@dataclass\n",
    "class ASLRefutation(ASLJustificationTree):\n",
    "    proof: bool = field(default=False, init=False)\n",
    "\n",
    "    def expand(self):\n",
    "        if self.is_expanded:\n",
    "            return\n",
    "        children = []\n",
    "\n",
    "        for block in self.pde[2]:\n",
    "            child_pdes = {compress(self.adf, pde) for pde in get_pdes(self.adf, block, self.extension)}\n",
    "            assert len(child_pdes) == 1\n",
    "            child = ASLProof(adf=self.adf,\n",
    "                             extension=self.extension,\n",
    "                             pde=compress(self.adf, next(iter(child_pdes))))\n",
    "            children.append(child)\n",
    "        self.children = children\n",
    "\n",
    "\n",
    "@dataclass\n",
    "class ASLProof(ASLJustificationTree):\n",
    "    proof: bool = field(default=True, init=False)\n",
    "\n",
    "    def expand(self, prefer: Optional[ClassicalAtom] = None):\n",
    "        if self.is_expanded:\n",
    "            return\n",
    "        children = []\n",
    "\n",
    "        if not self.adf.is_fact(self.pde[0]) and frozenset((-self.pde[0],)) != self.pde[2]:\n",
    "            for block in self.pde[2]:\n",
    "                if self.adf.is_non_factual(block):\n",
    "                    continue\n",
    "                child_pdes = {compress(self.adf, pde) for pde in get_pdes(self.adf, block, self.extension)}\n",
    "\n",
    "                for pde in child_pdes:\n",
    "                    child = ASLRefutation(adf=self.adf, extension=self.extension, pde=pde)\n",
    "                    children.append(child)\n",
    "\n",
    "        self.children = children\n",
    "\n",
    "\n",
    "def compress(adf: ADF, pde: PDE) -> CompactPDE:\n",
    "    literal, facts, blocking, sequence = pde\n",
    "    return literal, frozenset(facts), frozenset(blocking), frozenset(\n",
    "        elem for elem in sequence if elem in adf.rule_atoms)\n",
    "\n",
    "\n",
    "def less_specific(pde1: CompactPDE, pde2: CompactPDE) -> bool:\n",
    "    return pde1[0] == pde2[0] and (\n",
    "            (pde1[1] >= pde2[1] and pde1[2] > pde2[2]) or (pde1[1] > pde2[1] and pde1[2] >= pde2[2]))\n",
    "\n",
    "\n",
    "def more_specific(pde1: CompactPDE, pde2: CompactPDE) -> bool:\n",
    "    return pde1[0] == pde2[0] and (\n",
    "            (pde1[1] <= pde2[1] and pde1[2] < pde2[2]) or (pde1[1] < pde2[1] and pde1[2] <= pde2[2]))\n",
    "\n",
    "\n",
    "def compare_cde(pde1: CompactPDE, pde2: CompactPDE) -> int:\n",
    "    if less_specific(pde1, pde2) and more_specific(pde2, pde1):\n",
    "        return -1\n",
    "    elif less_specific(pde2, pde1) and more_specific(pde1, pde2):\n",
    "        return 1\n",
    "    else:\n",
    "        return 0\n"
   ],
   "metadata": {
    "collapsed": false,
    "pycharm": {
     "name": "#%%\n"
    }
   }
  },
  {
   "cell_type": "code",
   "execution_count": 51,
   "outputs": [],
   "source": [
    "SEInterpretation = Tuple[Set[ASPTopLevelSymbol], Set[ASPTopLevelSymbol]]\n",
    "FrozenSEInterpretation = Tuple[FrozenSet[ASPTopLevelSymbol], FrozenSet[ASPTopLevelSymbol]]\n",
    "\n",
    "\n",
    "def fmt_interpretation(I: SEInterpretation):\n",
    "    return \"({}{}{},{}{}{})\".format('{', ','.join(map(str, I[0])), '}', '{', ','.join(map(str, I[1])), '}')\n",
    "\n",
    "\n",
    "def fmt_interpretations(S: Set[SEInterpretation], sep='\\n'):\n",
    "    return sep.join(map(fmt_interpretation, S))\n",
    "\n",
    "\n",
    "def freeze(I: SEInterpretation) -> FrozenSEInterpretation:\n",
    "    X, Y = I\n",
    "    return frozenset(X), frozenset(Y)"
   ],
   "metadata": {
    "collapsed": false,
    "pycharm": {
     "name": "#%%\n"
    }
   }
  },
  {
   "cell_type": "code",
   "execution_count": 52,
   "outputs": [
    {
     "name": "stdout",
     "output_type": "stream",
     "text": [
      "a.\n",
      "c; d :- a, not b.\n"
     ]
    }
   ],
   "source": [
    "a = ASPBasicLiteral.make_literal('a')\n",
    "a_ = a.atom.symbol\n",
    "b = ASPBasicLiteral.make_literal('b')\n",
    "b_ = b.atom.symbol\n",
    "c = ASPBasicLiteral.make_literal('c')\n",
    "c_ = c.atom.symbol\n",
    "d = ASPBasicLiteral.make_literal('d')\n",
    "d_ = d.atom.symbol\n",
    "\n",
    "r1 = ASPNormalRule(a, )\n",
    "r2 = ASPDisjunctiveRule((c, d), (a, -b))\n",
    "\n",
    "rs = (r1, r2)\n",
    "\n",
    "prg = ASPProgram(rs)\n",
    "print(prg.fmt())"
   ],
   "metadata": {
    "collapsed": false,
    "pycharm": {
     "name": "#%%\n"
    }
   }
  },
  {
   "cell_type": "code",
   "execution_count": 53,
   "outputs": [
    {
     "name": "stdout",
     "output_type": "stream",
     "text": [
      "Answer 1: { a d }\n",
      "Answer 2: { a c }\n",
      "SAT 2\n"
     ]
    }
   ],
   "source": [
    "answer_sets = tuple(asp_evaluate(prg, report=True))"
   ],
   "metadata": {
    "collapsed": false,
    "pycharm": {
     "name": "#%%\n"
    }
   }
  },
  {
   "cell_type": "code",
   "execution_count": 54,
   "outputs": [],
   "source": [
    "val = answer_set_to_valuation(answer_sets[0])\n",
    "ext = valuation_to_extension(val)"
   ],
   "metadata": {
    "collapsed": false,
    "pycharm": {
     "name": "#%%\n"
    }
   }
  },
  {
   "cell_type": "code",
   "execution_count": 55,
   "outputs": [],
   "source": [
    "def _satisfies_formula(X: Set[ASPTopLevelSymbol], L: ASPBasicLiteral) -> bool:\n",
    "    return L.is_pos == (L.atom.symbol in X)\n",
    "\n",
    "\n",
    "def _satisfies_rule(X: Set[ASPTopLevelSymbol], R: ASPRule) -> bool:\n",
    "    if isinstance(R, ASPNormalRule):\n",
    "        head = R.head\n",
    "        assert isinstance(head, ASPBasicLiteral), \"head of rule {} should be ASPBasicLiteral but is type {}.\".format(\n",
    "            head, type(head).__name__)\n",
    "        return _satisfies_formula(X, head) or not all(_satisfies_formula(X, L) for L in R.body)\n",
    "    elif isinstance(R, ASPIntegrityConstraint):\n",
    "        return not all(_satisfies_formula(X, L) for L in R.body)\n",
    "    elif isinstance(R, ASPDisjunctiveRule):\n",
    "        head = R.head\n",
    "        return any(_satisfies_formula(X, h) for h in head) or not all(_satisfies_formula(X, L) for L in R.body)\n",
    "    else:\n",
    "        assert False\n",
    "\n",
    "\n",
    "def satisfies(X: Set[ASPTopLevelSymbol], P: ASPProgram) -> bool:\n",
    "    return all(_satisfies_rule(X, rule) for rule in P.rules)\n"
   ],
   "metadata": {
    "collapsed": false,
    "pycharm": {
     "name": "#%%\n"
    }
   }
  },
  {
   "cell_type": "code",
   "execution_count": 56,
   "outputs": [],
   "source": [
    "def is_model_of(I: SEInterpretation, P: ASPProgram) -> bool:\n",
    "    X, Y = I\n",
    "    return satisfies(Y, P) and satisfies(X, P.reduct(Y))"
   ],
   "metadata": {
    "collapsed": false,
    "pycharm": {
     "name": "#%%\n"
    }
   }
  },
  {
   "cell_type": "code",
   "execution_count": 57,
   "outputs": [],
   "source": [
    "X = {a_}\n",
    "Y = {a_, d_}"
   ],
   "metadata": {
    "collapsed": false,
    "pycharm": {
     "name": "#%%\n"
    }
   }
  },
  {
   "cell_type": "code",
   "execution_count": 58,
   "outputs": [
    {
     "data": {
      "text/plain": "True"
     },
     "execution_count": 58,
     "metadata": {},
     "output_type": "execute_result"
    }
   ],
   "source": [
    "satisfies(Y, prg)"
   ],
   "metadata": {
    "collapsed": false,
    "pycharm": {
     "name": "#%%\n"
    }
   }
  },
  {
   "cell_type": "code",
   "execution_count": 59,
   "outputs": [
    {
     "name": "stdout",
     "output_type": "stream",
     "text": [
      "a.\n",
      "c; d :- a.\n"
     ]
    }
   ],
   "source": [
    "print(prg.reduct(Y).fmt())"
   ],
   "metadata": {
    "collapsed": false,
    "pycharm": {
     "name": "#%%\n"
    }
   }
  },
  {
   "cell_type": "code",
   "execution_count": 60,
   "outputs": [
    {
     "data": {
      "text/plain": "False"
     },
     "execution_count": 60,
     "metadata": {},
     "output_type": "execute_result"
    }
   ],
   "source": [
    "satisfies(X, prg.reduct(Y))"
   ],
   "metadata": {
    "collapsed": false,
    "pycharm": {
     "name": "#%%\n"
    }
   }
  },
  {
   "cell_type": "code",
   "execution_count": 61,
   "outputs": [
    {
     "data": {
      "text/plain": "False"
     },
     "execution_count": 61,
     "metadata": {},
     "output_type": "execute_result"
    }
   ],
   "source": [
    "is_model_of((X, Y), prg)"
   ],
   "metadata": {
    "collapsed": false,
    "pycharm": {
     "name": "#%%\n"
    }
   }
  },
  {
   "cell_type": "code",
   "execution_count": 62,
   "outputs": [],
   "source": [
    "X = {a_, d_}\n",
    "Y = {a_, d_}"
   ],
   "metadata": {
    "collapsed": false,
    "pycharm": {
     "name": "#%%\n"
    }
   }
  },
  {
   "cell_type": "code",
   "execution_count": 63,
   "outputs": [
    {
     "data": {
      "text/plain": "True"
     },
     "execution_count": 63,
     "metadata": {},
     "output_type": "execute_result"
    }
   ],
   "source": [
    "satisfies(Y, prg)"
   ],
   "metadata": {
    "collapsed": false,
    "pycharm": {
     "name": "#%%\n"
    }
   }
  },
  {
   "cell_type": "code",
   "execution_count": 64,
   "outputs": [
    {
     "name": "stdout",
     "output_type": "stream",
     "text": [
      "a.\n",
      "c; d :- a.\n"
     ]
    }
   ],
   "source": [
    "print(prg.reduct(Y).fmt())"
   ],
   "metadata": {
    "collapsed": false,
    "pycharm": {
     "name": "#%%\n"
    }
   }
  },
  {
   "cell_type": "code",
   "execution_count": 65,
   "outputs": [
    {
     "data": {
      "text/plain": "True"
     },
     "execution_count": 65,
     "metadata": {},
     "output_type": "execute_result"
    }
   ],
   "source": [
    "satisfies(X, prg.reduct(Y))"
   ],
   "metadata": {
    "collapsed": false,
    "pycharm": {
     "name": "#%%\n"
    }
   }
  },
  {
   "cell_type": "code",
   "execution_count": 66,
   "outputs": [
    {
     "data": {
      "text/plain": "True"
     },
     "execution_count": 66,
     "metadata": {},
     "output_type": "execute_result"
    }
   ],
   "source": [
    "is_model_of((X, Y), prg)"
   ],
   "metadata": {
    "collapsed": false,
    "pycharm": {
     "name": "#%%\n"
    }
   }
  },
  {
   "cell_type": "code",
   "execution_count": 67,
   "outputs": [],
   "source": [
    "def is_answer_set_of(Y: Set[ASPTopLevelSymbol], P: ASPProgram) -> bool:\n",
    "    return is_model_of((Y, Y), P) and not any(is_model_of((X, Y), P) for X in powerset(Y) if Y != X)"
   ],
   "metadata": {
    "collapsed": false,
    "pycharm": {
     "name": "#%%\n"
    }
   }
  },
  {
   "cell_type": "code",
   "execution_count": 68,
   "outputs": [],
   "source": [
    "X = {a_}\n",
    "Y = {a_, d_}"
   ],
   "metadata": {
    "collapsed": false,
    "pycharm": {
     "name": "#%%\n"
    }
   }
  },
  {
   "cell_type": "code",
   "execution_count": 69,
   "outputs": [
    {
     "data": {
      "text/plain": "False"
     },
     "execution_count": 69,
     "metadata": {},
     "output_type": "execute_result"
    }
   ],
   "source": [
    "is_answer_set_of(X, prg)"
   ],
   "metadata": {
    "collapsed": false,
    "pycharm": {
     "name": "#%%\n"
    }
   }
  },
  {
   "cell_type": "code",
   "execution_count": 70,
   "outputs": [
    {
     "data": {
      "text/plain": "True"
     },
     "execution_count": 70,
     "metadata": {},
     "output_type": "execute_result"
    }
   ],
   "source": [
    "is_answer_set_of(Y, prg)"
   ],
   "metadata": {
    "collapsed": false,
    "pycharm": {
     "name": "#%%\n"
    }
   }
  },
  {
   "cell_type": "code",
   "execution_count": 71,
   "outputs": [],
   "source": [
    "def is_well_defined(S: Set[FrozenSEInterpretation]):\n",
    "    return all((Y, Y) in S for (X, Y) in S)"
   ],
   "metadata": {
    "collapsed": false,
    "pycharm": {
     "name": "#%%\n"
    }
   }
  },
  {
   "cell_type": "code",
   "execution_count": 72,
   "outputs": [],
   "source": [
    "p = ASPBasicLiteral.make_literal('p')\n",
    "p_ = p.atom.symbol\n",
    "q = ASPBasicLiteral.make_literal('q')\n",
    "q_ = q.atom.symbol"
   ],
   "metadata": {
    "collapsed": false,
    "pycharm": {
     "name": "#%%\n"
    }
   }
  },
  {
   "cell_type": "code",
   "execution_count": 73,
   "outputs": [],
   "source": [
    "S = {\n",
    "    (frozenset((p_,)), frozenset((p_,))),\n",
    "    (frozenset((q_,)), frozenset((q_,))),\n",
    "    (frozenset((p_,)), frozenset((p_, q_))),\n",
    "    (frozenset((q_,)), frozenset((p_, q_))),\n",
    "    (frozenset((p_, q_,)), frozenset((p_, q_))),\n",
    "    (frozenset(), frozenset((p_,))),\n",
    "}"
   ],
   "metadata": {
    "collapsed": false,
    "pycharm": {
     "name": "#%%\n"
    }
   }
  },
  {
   "cell_type": "code",
   "execution_count": 74,
   "outputs": [
    {
     "data": {
      "text/plain": "True"
     },
     "execution_count": 74,
     "metadata": {},
     "output_type": "execute_result"
    }
   ],
   "source": [
    "is_well_defined(S)"
   ],
   "metadata": {
    "collapsed": false,
    "pycharm": {
     "name": "#%%\n"
    }
   }
  },
  {
   "cell_type": "code",
   "execution_count": 75,
   "outputs": [],
   "source": [
    "def is_complete(S: Set[FrozenSEInterpretation]):\n",
    "    return is_well_defined(S) and all((X, Z) in S for (X, Y) in S for (Z_, Z) in S if Z_ == Z and Y <= Z)"
   ],
   "metadata": {
    "collapsed": false,
    "pycharm": {
     "name": "#%%\n"
    }
   }
  },
  {
   "cell_type": "code",
   "execution_count": 76,
   "outputs": [
    {
     "data": {
      "text/plain": "False"
     },
     "execution_count": 76,
     "metadata": {},
     "output_type": "execute_result"
    }
   ],
   "source": [
    "is_complete(S)"
   ],
   "metadata": {
    "collapsed": false,
    "pycharm": {
     "name": "#%%\n"
    }
   }
  },
  {
   "cell_type": "code",
   "execution_count": 77,
   "outputs": [],
   "source": [
    "def as_literals(symbols: Set[ASPTopLevelSymbol], sign: ASPSign = ASPSign.NoSign) -> Set[ASPBasicLiteral]:\n",
    "    return {ASPBasicLiteral(sign=sign, atom=s) for s in symbols}\n",
    "\n",
    "\n",
    "def frozen_as_literals(symbols: Set[ASPTopLevelSymbol], sign: ASPSign = ASPSign.NoSign) -> FrozenSet[ASPBasicLiteral]:\n",
    "    return frozenset(ASPBasicLiteral(sign=sign, atom=s) for s in symbols)\n",
    "\n",
    "\n",
    "def as_lit(symbols: Set[ASPTopLevelSymbol], sign: ASPSign = ASPSign.NoSign) -> Iterator[ASPBasicLiteral]:\n",
    "    return (ASPBasicLiteral(sign=sign, atom=ASPAtom(s)) for s in symbols)"
   ],
   "metadata": {
    "collapsed": false,
    "pycharm": {
     "name": "#%%\n"
    }
   }
  },
  {
   "cell_type": "code",
   "execution_count": 78,
   "outputs": [
    {
     "name": "stdout",
     "output_type": "stream",
     "text": [
      "r_{}: :- not p, not q.\n",
      "r_{},q: q; not q :- not p.\n",
      "r_{},pq: p; q; not p; not q :- .\n"
     ]
    }
   ],
   "source": [
    "def canonical_prg_well_defined(S: Set[FrozenSEInterpretation], A: Set[ASPTopLevelSymbol]):\n",
    "    rules = []\n",
    "    for Y in frozen_powerset(A):\n",
    "        if (Y, Y) not in S:\n",
    "            rY = ASPIntegrityConstraint((*as_lit(Y), *(as_lit(A - Y, ASPSign.Negation))))\n",
    "            print(\"r_{}:\".format(''.join(map(str, Y)) if Y else \"{}\"), rY)\n",
    "            rules.append(rY)\n",
    "        else:\n",
    "            for X in frozen_powerset(Y):\n",
    "                if (X, Y) not in S:\n",
    "                    rXY = ASPDisjunctiveRule(head=(*as_lit(Y - X), *as_lit(Y, ASPSign.Negation)),\n",
    "                                             body=(*as_lit(X), *as_lit(A - Y, ASPSign.Negation)))\n",
    "                    print(\"r_{},{}:\".format(''.join(map(str, X)) if X else \"{}\", ''.join(map(str, Y)) if Y else \"{}\"),\n",
    "                          rXY)\n",
    "                    rules.append(rXY)\n",
    "    return ASPProgram(tuple(rules))\n",
    "\n",
    "P = canonical_prg_well_defined(S, {p_, q_})"
   ],
   "metadata": {
    "collapsed": false,
    "pycharm": {
     "name": "#%%\n"
    }
   }
  },
  {
   "cell_type": "code",
   "execution_count": 79,
   "outputs": [
    {
     "name": "stdout",
     "output_type": "stream",
     "text": [
      "({p},{p,q})\n",
      "({q},{p,q})\n",
      "({q},{q})\n",
      "({},{p})\n",
      "({p},{p})\n",
      "({p,q},{p,q})\n"
     ]
    }
   ],
   "source": [
    "print(fmt_interpretations(S))"
   ],
   "metadata": {
    "collapsed": false,
    "pycharm": {
     "name": "#%%\n"
    }
   }
  },
  {
   "cell_type": "code",
   "execution_count": 80,
   "outputs": [
    {
     "name": "stdout",
     "output_type": "stream",
     "text": [
      "r_{}: :- not p, not q.\n",
      "r_{},q: q; not q :- not p.\n",
      "r_{},pq: p; q; not p; not q :- .\n"
     ]
    }
   ],
   "source": [
    "P = canonical_prg_well_defined(S, {p_, q_})"
   ],
   "metadata": {
    "collapsed": false,
    "pycharm": {
     "name": "#%%\n"
    }
   }
  },
  {
   "cell_type": "code",
   "execution_count": 81,
   "outputs": [
    {
     "name": "stdout",
     "output_type": "stream",
     "text": [
      ":- not p, not q.\n",
      "q; not q :- not p.\n",
      "p; q; not p; not q :- .\n"
     ]
    }
   ],
   "source": [
    "print(P.fmt())"
   ],
   "metadata": {
    "collapsed": false,
    "pycharm": {
     "name": "#%%\n"
    }
   }
  },
  {
   "cell_type": "code",
   "execution_count": 82,
   "outputs": [
    {
     "name": "stdout",
     "output_type": "stream",
     "text": [
      "({p},{p,q})\n",
      "is_model_of     : True\n",
      "is_answer_set_of: False\n",
      "({q},{p,q})\n",
      "is_model_of     : True\n",
      "is_answer_set_of: False\n",
      "({q},{q})\n",
      "is_model_of     : True\n"
     ]
    },
    {
     "ename": "KeyboardInterrupt",
     "evalue": "",
     "output_type": "error",
     "traceback": [
      "\u001B[0;31m---------------------------------------------------------------------------\u001B[0m",
      "\u001B[0;31mKeyboardInterrupt\u001B[0m                         Traceback (most recent call last)",
      "Input \u001B[0;32mIn [82]\u001B[0m, in \u001B[0;36m<module>\u001B[0;34m\u001B[0m\n\u001B[1;32m      2\u001B[0m \u001B[38;5;28mprint\u001B[39m(fmt_interpretation(I))\n\u001B[1;32m      3\u001B[0m \u001B[38;5;28mprint\u001B[39m(\u001B[38;5;124m'\u001B[39m\u001B[38;5;124mis_model_of     :\u001B[39m\u001B[38;5;124m'\u001B[39m, is_model_of(I, P))\n\u001B[0;32m----> 4\u001B[0m \u001B[38;5;28mprint\u001B[39m(\u001B[38;5;124m'\u001B[39m\u001B[38;5;124mis_answer_set_of:\u001B[39m\u001B[38;5;124m'\u001B[39m, \u001B[43mis_answer_set_of\u001B[49m\u001B[43m(\u001B[49m\u001B[43mI\u001B[49m\u001B[43m[\u001B[49m\u001B[38;5;241;43m1\u001B[39;49m\u001B[43m]\u001B[49m\u001B[43m,\u001B[49m\u001B[43m \u001B[49m\u001B[43mP\u001B[49m\u001B[43m)\u001B[49m)\n",
      "Input \u001B[0;32mIn [67]\u001B[0m, in \u001B[0;36mis_answer_set_of\u001B[0;34m(Y, P)\u001B[0m\n\u001B[1;32m      1\u001B[0m \u001B[38;5;28;01mdef\u001B[39;00m \u001B[38;5;21mis_answer_set_of\u001B[39m(Y: Set[ASPTopLevelSymbol], P: ASPProgram) \u001B[38;5;241m-\u001B[39m\u001B[38;5;241m>\u001B[39m \u001B[38;5;28mbool\u001B[39m:\n\u001B[0;32m----> 2\u001B[0m     \u001B[38;5;28;01mreturn\u001B[39;00m \u001B[43mis_model_of\u001B[49m\u001B[43m(\u001B[49m\u001B[43m(\u001B[49m\u001B[43mY\u001B[49m\u001B[43m,\u001B[49m\u001B[43m \u001B[49m\u001B[43mY\u001B[49m\u001B[43m)\u001B[49m\u001B[43m,\u001B[49m\u001B[43m \u001B[49m\u001B[43mP\u001B[49m\u001B[43m)\u001B[49m \u001B[38;5;129;01mand\u001B[39;00m \u001B[38;5;129;01mnot\u001B[39;00m \u001B[38;5;28many\u001B[39m(is_model_of((X, Y), P) \u001B[38;5;28;01mfor\u001B[39;00m X \u001B[38;5;129;01min\u001B[39;00m powerset(Y) \u001B[38;5;28;01mif\u001B[39;00m Y \u001B[38;5;241m!=\u001B[39m X)\n",
      "Input \u001B[0;32mIn [56]\u001B[0m, in \u001B[0;36mis_model_of\u001B[0;34m(I, P)\u001B[0m\n\u001B[1;32m      1\u001B[0m \u001B[38;5;28;01mdef\u001B[39;00m \u001B[38;5;21mis_model_of\u001B[39m(I: SEInterpretation, P: ASPProgram) \u001B[38;5;241m-\u001B[39m\u001B[38;5;241m>\u001B[39m \u001B[38;5;28mbool\u001B[39m:\n\u001B[1;32m      2\u001B[0m     X, Y \u001B[38;5;241m=\u001B[39m I\n\u001B[0;32m----> 3\u001B[0m     \u001B[38;5;28;01mreturn\u001B[39;00m satisfies(Y, P) \u001B[38;5;129;01mand\u001B[39;00m satisfies(X, P\u001B[38;5;241m.\u001B[39mreduct(Y))\n",
      "File \u001B[0;32m~/.local/share/JetBrains/Toolbox/apps/PyCharm-P/ch-0/221.5787.24/plugins/python/helpers/pydev/_pydevd_bundle/pydevd_trace_dispatch_regular.py:208\u001B[0m, in \u001B[0;36mtrace_dispatch\u001B[0;34m(py_db, frame, event, arg)\u001B[0m\n\u001B[1;32m    206\u001B[0m \u001B[38;5;28;01mif\u001B[39;00m apply_to_settrace:\n\u001B[1;32m    207\u001B[0m     py_db\u001B[38;5;241m.\u001B[39menable_tracing(thread_trace_func)\n\u001B[0;32m--> 208\u001B[0m \u001B[38;5;28;01mreturn\u001B[39;00m \u001B[43mthread_trace_func\u001B[49m\u001B[43m(\u001B[49m\u001B[43mframe\u001B[49m\u001B[43m,\u001B[49m\u001B[43m \u001B[49m\u001B[43mevent\u001B[49m\u001B[43m,\u001B[49m\u001B[43m \u001B[49m\u001B[43marg\u001B[49m\u001B[43m)\u001B[49m\n",
      "File \u001B[0;32m~/.local/share/JetBrains/Toolbox/apps/PyCharm-P/ch-0/221.5787.24/plugins/python/helpers/pydev/_pydevd_bundle/pydevd_trace_dispatch_regular.py:470\u001B[0m, in \u001B[0;36mThreadTracer.__call__\u001B[0;34m(self, frame, event, arg)\u001B[0m\n\u001B[1;32m    462\u001B[0m     \u001B[38;5;28;01mreturn\u001B[39;00m \u001B[38;5;28;01mNone\u001B[39;00m  \u001B[38;5;66;03m# we don't wan't to trace code invoked from pydevd_frame.trace_dispatch\u001B[39;00m\n\u001B[1;32m    464\u001B[0m \u001B[38;5;66;03m# Just create PyDBFrame directly (removed support for Python versions < 2.5, which required keeping a weak\u001B[39;00m\n\u001B[1;32m    465\u001B[0m \u001B[38;5;66;03m# reference to the frame).\u001B[39;00m\n\u001B[1;32m    466\u001B[0m ret \u001B[38;5;241m=\u001B[39m \u001B[43mPyDBFrame\u001B[49m\u001B[43m(\u001B[49m\n\u001B[1;32m    467\u001B[0m \u001B[43m    \u001B[49m\u001B[43m(\u001B[49m\n\u001B[1;32m    468\u001B[0m \u001B[43m        \u001B[49m\u001B[43mpy_db\u001B[49m\u001B[43m,\u001B[49m\u001B[43m \u001B[49m\u001B[43mfilename\u001B[49m\u001B[43m,\u001B[49m\u001B[43m \u001B[49m\u001B[43madditional_info\u001B[49m\u001B[43m,\u001B[49m\u001B[43m \u001B[49m\u001B[43mt\u001B[49m\u001B[43m,\u001B[49m\u001B[43m \u001B[49m\u001B[43mframe_skips_cache\u001B[49m\u001B[43m,\u001B[49m\u001B[43m \u001B[49m\u001B[43mframe_cache_key\u001B[49m\u001B[43m,\u001B[49m\n\u001B[1;32m    469\u001B[0m \u001B[43m    \u001B[49m\u001B[43m)\u001B[49m\n\u001B[0;32m--> 470\u001B[0m \u001B[43m\u001B[49m\u001B[43m)\u001B[49m\u001B[38;5;241;43m.\u001B[39;49m\u001B[43mtrace_dispatch\u001B[49m\u001B[43m(\u001B[49m\u001B[43mframe\u001B[49m\u001B[43m,\u001B[49m\u001B[43m \u001B[49m\u001B[43mevent\u001B[49m\u001B[43m,\u001B[49m\u001B[43m \u001B[49m\u001B[43marg\u001B[49m\u001B[43m)\u001B[49m\n\u001B[1;32m    471\u001B[0m \u001B[38;5;28;01mif\u001B[39;00m ret \u001B[38;5;129;01mis\u001B[39;00m \u001B[38;5;28;01mNone\u001B[39;00m:\n\u001B[1;32m    472\u001B[0m     cache_skips[frame_cache_key] \u001B[38;5;241m=\u001B[39m \u001B[38;5;241m1\u001B[39m\n",
      "File \u001B[0;32m~/.local/share/JetBrains/Toolbox/apps/PyCharm-P/ch-0/221.5787.24/plugins/python/helpers/pydev/_pydevd_bundle/pydevd_frame.py:915\u001B[0m, in \u001B[0;36mPyDBFrame.trace_dispatch\u001B[0;34m(self, frame, event, arg)\u001B[0m\n\u001B[1;32m    912\u001B[0m \u001B[38;5;28;01mif\u001B[39;00m back \u001B[38;5;129;01mis\u001B[39;00m \u001B[38;5;129;01mnot\u001B[39;00m \u001B[38;5;28;01mNone\u001B[39;00m:\n\u001B[1;32m    913\u001B[0m     \u001B[38;5;66;03m# if we're in a return, we want it to appear to the user in the previous frame!\u001B[39;00m\n\u001B[1;32m    914\u001B[0m     \u001B[38;5;28mself\u001B[39m\u001B[38;5;241m.\u001B[39mset_suspend(thread, step_cmd)\n\u001B[0;32m--> 915\u001B[0m     \u001B[38;5;28;43mself\u001B[39;49m\u001B[38;5;241;43m.\u001B[39;49m\u001B[43mdo_wait_suspend\u001B[49m\u001B[43m(\u001B[49m\u001B[43mthread\u001B[49m\u001B[43m,\u001B[49m\u001B[43m \u001B[49m\u001B[43mback\u001B[49m\u001B[43m,\u001B[49m\u001B[43m \u001B[49m\u001B[43mevent\u001B[49m\u001B[43m,\u001B[49m\u001B[43m \u001B[49m\u001B[43marg\u001B[49m\u001B[43m)\u001B[49m\n\u001B[1;32m    916\u001B[0m \u001B[38;5;28;01melse\u001B[39;00m:\n\u001B[1;32m    917\u001B[0m     \u001B[38;5;66;03m# in jython we may not have a back frame\u001B[39;00m\n\u001B[1;32m    918\u001B[0m     \u001B[38;5;28mself\u001B[39m\u001B[38;5;241m.\u001B[39mclear_run_state(info)\n",
      "File \u001B[0;32m~/.local/share/JetBrains/Toolbox/apps/PyCharm-P/ch-0/221.5787.24/plugins/python/helpers/pydev/_pydevd_bundle/pydevd_frame.py:144\u001B[0m, in \u001B[0;36mPyDBFrame.do_wait_suspend\u001B[0;34m(self, *args, **kwargs)\u001B[0m\n\u001B[1;32m    143\u001B[0m \u001B[38;5;28;01mdef\u001B[39;00m \u001B[38;5;21mdo_wait_suspend\u001B[39m(\u001B[38;5;28mself\u001B[39m, \u001B[38;5;241m*\u001B[39margs, \u001B[38;5;241m*\u001B[39m\u001B[38;5;241m*\u001B[39mkwargs):\n\u001B[0;32m--> 144\u001B[0m     \u001B[38;5;28;43mself\u001B[39;49m\u001B[38;5;241;43m.\u001B[39;49m\u001B[43m_args\u001B[49m\u001B[43m[\u001B[49m\u001B[38;5;241;43m0\u001B[39;49m\u001B[43m]\u001B[49m\u001B[38;5;241;43m.\u001B[39;49m\u001B[43mdo_wait_suspend\u001B[49m\u001B[43m(\u001B[49m\u001B[38;5;241;43m*\u001B[39;49m\u001B[43margs\u001B[49m\u001B[43m,\u001B[49m\u001B[43m \u001B[49m\u001B[38;5;241;43m*\u001B[39;49m\u001B[38;5;241;43m*\u001B[39;49m\u001B[43mkwargs\u001B[49m\u001B[43m)\u001B[49m\n",
      "File \u001B[0;32m~/.local/share/JetBrains/Toolbox/apps/PyCharm-P/ch-0/221.5787.24/plugins/python/helpers/pydev/pydevd.py:1155\u001B[0m, in \u001B[0;36mPyDB.do_wait_suspend\u001B[0;34m(self, thread, frame, event, arg, send_suspend_message, is_unhandled_exception)\u001B[0m\n\u001B[1;32m   1152\u001B[0m         from_this_thread\u001B[38;5;241m.\u001B[39mappend(frame_id)\n\u001B[1;32m   1154\u001B[0m \u001B[38;5;28;01mwith\u001B[39;00m \u001B[38;5;28mself\u001B[39m\u001B[38;5;241m.\u001B[39m_threads_suspended_single_notification\u001B[38;5;241m.\u001B[39mnotify_thread_suspended(thread_id, stop_reason):\n\u001B[0;32m-> 1155\u001B[0m     \u001B[38;5;28;43mself\u001B[39;49m\u001B[38;5;241;43m.\u001B[39;49m\u001B[43m_do_wait_suspend\u001B[49m\u001B[43m(\u001B[49m\u001B[43mthread\u001B[49m\u001B[43m,\u001B[49m\u001B[43m \u001B[49m\u001B[43mframe\u001B[49m\u001B[43m,\u001B[49m\u001B[43m \u001B[49m\u001B[43mevent\u001B[49m\u001B[43m,\u001B[49m\u001B[43m \u001B[49m\u001B[43marg\u001B[49m\u001B[43m,\u001B[49m\u001B[43m \u001B[49m\u001B[43msuspend_type\u001B[49m\u001B[43m,\u001B[49m\u001B[43m \u001B[49m\u001B[43mfrom_this_thread\u001B[49m\u001B[43m)\u001B[49m\n",
      "File \u001B[0;32m~/.local/share/JetBrains/Toolbox/apps/PyCharm-P/ch-0/221.5787.24/plugins/python/helpers/pydev/pydevd.py:1170\u001B[0m, in \u001B[0;36mPyDB._do_wait_suspend\u001B[0;34m(self, thread, frame, event, arg, suspend_type, from_this_thread)\u001B[0m\n\u001B[1;32m   1167\u001B[0m             \u001B[38;5;28mself\u001B[39m\u001B[38;5;241m.\u001B[39m_call_mpl_hook()\n\u001B[1;32m   1169\u001B[0m         \u001B[38;5;28mself\u001B[39m\u001B[38;5;241m.\u001B[39mprocess_internal_commands()\n\u001B[0;32m-> 1170\u001B[0m         \u001B[43mtime\u001B[49m\u001B[38;5;241;43m.\u001B[39;49m\u001B[43msleep\u001B[49m\u001B[43m(\u001B[49m\u001B[38;5;241;43m0.01\u001B[39;49m\u001B[43m)\u001B[49m\n\u001B[1;32m   1172\u001B[0m \u001B[38;5;28mself\u001B[39m\u001B[38;5;241m.\u001B[39mcancel_async_evaluation(get_current_thread_id(thread), \u001B[38;5;28mstr\u001B[39m(\u001B[38;5;28mid\u001B[39m(frame)))\n\u001B[1;32m   1174\u001B[0m \u001B[38;5;66;03m# process any stepping instructions\u001B[39;00m\n",
      "\u001B[0;31mKeyboardInterrupt\u001B[0m: "
     ]
    }
   ],
   "source": [
    "for I in S:\n",
    "    print(fmt_interpretation(I))\n",
    "    print('is_model_of     :', is_model_of(I, P))\n",
    "    print('is_answer_set_of:', is_answer_set_of(I[1], P))"
   ],
   "metadata": {
    "collapsed": false,
    "pycharm": {
     "name": "#%%\n"
    }
   }
  },
  {
   "cell_type": "code",
   "execution_count": 40,
   "outputs": [
    {
     "name": "stdout",
     "output_type": "stream",
     "text": [
      "Answer 1: { q }\n",
      "SAT 1\n"
     ]
    }
   ],
   "source": [
    "answer_sets = tuple(asp_evaluate(P, report=True))"
   ],
   "metadata": {
    "collapsed": false,
    "pycharm": {
     "name": "#%%\n"
    }
   }
  },
  {
   "cell_type": "code",
   "execution_count": 41,
   "outputs": [],
   "source": [
    "S = {\n",
    "    (frozenset((p,)), frozenset((p,))),\n",
    "    (frozenset((q,)), frozenset((q,))),\n",
    "    (frozenset((p,)), frozenset((p, q))),\n",
    "    (frozenset((q,)), frozenset((p, q))),\n",
    "    (frozenset((p, q,)), frozenset((p, q))),\n",
    "    (frozenset(), frozenset((p,))),\n",
    "    (frozenset(), frozenset((p, q))),\n",
    "}"
   ],
   "metadata": {
    "collapsed": false,
    "pycharm": {
     "name": "#%%\n"
    }
   }
  },
  {
   "cell_type": "code",
   "execution_count": 42,
   "outputs": [
    {
     "data": {
      "text/plain": "True"
     },
     "execution_count": 42,
     "metadata": {},
     "output_type": "execute_result"
    }
   ],
   "source": [
    "is_well_defined(S)"
   ],
   "metadata": {
    "collapsed": false,
    "pycharm": {
     "name": "#%%\n"
    }
   }
  },
  {
   "cell_type": "code",
   "execution_count": 43,
   "outputs": [
    {
     "data": {
      "text/plain": "True"
     },
     "execution_count": 43,
     "metadata": {},
     "output_type": "execute_result"
    }
   ],
   "source": [
    "is_complete(S)"
   ],
   "metadata": {
    "collapsed": false,
    "pycharm": {
     "name": "#%%\n"
    }
   }
  }
 ],
 "metadata": {
  "kernelspec": {
   "display_name": "Python 3",
   "language": "python",
   "name": "python3"
  },
  "language_info": {
   "codemirror_mode": {
    "name": "ipython",
    "version": 2
   },
   "file_extension": ".py",
   "mimetype": "text/x-python",
   "name": "python",
   "nbconvert_exporter": "python",
   "pygments_lexer": "ipython2",
   "version": "2.7.6"
  }
 },
 "nbformat": 4,
 "nbformat_minor": 0
}