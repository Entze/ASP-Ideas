{
 "cells": [
  {
   "cell_type": "code",
   "execution_count": 859,
   "outputs": [],
   "source": [
    "import clingo\n",
    "\n",
    "from starlingo.Atom import Atom\n",
    "from starlingo.Literal import BasicLiteral\n",
    "from starlingo.Program import from_string, Program, evaluate_forwards\n",
    "from starlingo.Rule import NormalRule, Constraint, Fact\n",
    "from starlingo.Symbol import Function, IntegerConstant, Term"
   ],
   "metadata": {
    "collapsed": false,
    "pycharm": {
     "name": "#%%\n"
    }
   }
  },
  {
   "cell_type": "code",
   "execution_count": 860,
   "outputs": [
    {
     "name": "stdout",
     "output_type": "stream",
     "text": [
      "#program base.\n",
      "effect(at(R,P2),move(R,P2),(at(R,P1)),(-at(_,P2))) :- robot(R), adjacent(P1,P2).\n"
     ]
    }
   ],
   "source": [
    "\n",
    "effect_str = \"\"\"\n",
    "\n",
    "effect(at(R,P2),move(R,P2),(at(R,P1),),(-at(_,P2),)) :- robot(R), adjacent(P1, P2).\n",
    "\n",
    "\n",
    "\"\"\"\n",
    "effect_raw = from_string(effect_str)[0]\n",
    "print(effect_raw.custom_str(sep='\\n'))"
   ],
   "metadata": {
    "collapsed": false,
    "pycharm": {
     "name": "#%%\n"
    }
   }
  },
  {
   "cell_type": "code",
   "execution_count": 861,
   "outputs": [],
   "source": [
    "effect_debug = \"\"\"\n",
    "\n",
    "#program effect(__t).\n",
    "at(R,P2,__t+1) :- robot(R), adjacent(P1,P2), move(R,P2,__t).\n",
    ":- robot(R), adjacent(P1,P2), move(R,P2,__t), not at(R,P1,__t).\n",
    ":- robot(R), adjacent(P1,P2), move(R,P2,__t), at(_,P2,__t).\n",
    "\n",
    "\"\"\""
   ],
   "metadata": {
    "collapsed": false,
    "pycharm": {
     "name": "#%%\n"
    }
   }
  },
  {
   "cell_type": "code",
   "execution_count": 862,
   "outputs": [],
   "source": [
    "__t = Function('__t')\n",
    "one = Term(IntegerConstant(1))"
   ],
   "metadata": {
    "collapsed": false,
    "pycharm": {
     "name": "#%%\n"
    }
   }
  },
  {
   "cell_type": "code",
   "execution_count": 863,
   "outputs": [
    {
     "name": "stdout",
     "output_type": "stream",
     "text": [
      "#program effect(__t).\n",
      "at(R,P2,__t+1) :- robot(R), adjacent(P1,P2), move(R,P2,__t), at(R,P1,__t).\n",
      ":- robot(R), adjacent(P1,P2), move(R,P2,__t), at(R,P1,__t), move(R,P2,__t), at(R,P1,__t), at(_,P2,__t).\n"
     ]
    }
   ],
   "source": [
    "effect_rules = []\n",
    "for effect_rule in effect_raw.rules:\n",
    "    if effect_rule.is_rule() and not effect_rule.is_constraint():\n",
    "        if effect_rule.is_normal_rule():\n",
    "            symbol = effect_rule.head.atom.symbol\n",
    "            if symbol.name == 'effect':\n",
    "                effect = BasicLiteral(Atom(symbol.arguments[0].arguments_append(__t + one)))\n",
    "                action = BasicLiteral(Atom(symbol.arguments[1].arguments_append(__t)))\n",
    "                conditions = tuple(\n",
    "                    BasicLiteral(Atom(condition.arguments_append(__t))).strong_neg_to_default_neg() for condition in\n",
    "                    symbol.arguments[2].arguments)\n",
    "                preconditions = (-BasicLiteral(Atom(condition.arguments_append(__t))).strong_neg_to_default_neg() for\n",
    "                                 condition in symbol.arguments[3].arguments)\n",
    "\n",
    "                effect_rule_head = effect\n",
    "                effect_rule_body = (*effect_rule.body, action, *conditions)\n",
    "                effect_rule = NormalRule(effect_rule_head, effect_rule_body)\n",
    "                effect_rules.append(effect_rule)\n",
    "\n",
    "                for precondition in preconditions:\n",
    "                    precondition_constraint_body = (*effect_rule.body, action, *conditions, precondition)\n",
    "                    precondition_constraint = Constraint(precondition_constraint_body)\n",
    "                    effect_rules.append(precondition_constraint)\n",
    "\n",
    "effect_p = Program(name='effect', parameters=(__t,), rules=effect_rules)\n",
    "print(effect_p.custom_str(sep='\\n'))"
   ],
   "metadata": {
    "collapsed": false,
    "pycharm": {
     "name": "#%%\n"
    }
   }
  },
  {
   "cell_type": "code",
   "execution_count": 864,
   "outputs": [
    {
     "name": "stdout",
     "output_type": "stream",
     "text": [
      "\n",
      "\n",
      "#program domain.\n",
      "\n",
      "row(1). col(1).\n",
      "row(2). col(2).\n",
      "row(3). col(3).\n",
      "loc((X,Y)) :- col(X), row(Y), (X,Y) != (1,3), (X,Y) != (3,1).\n",
      "\n",
      "adjacent(P1, P2) :- loc(P1), loc(P2), P1 = (X,Y), P2 = (X,Y+1).\n",
      "adjacent(P1, P2) :- loc(P1), loc(P2), P1 = (X,Y), P2 = (X+1,Y).\n",
      "adjacent(P1, P2) :- loc(P1), loc(P2), P1 = (X,Y), P2 = (X,Y-1).\n",
      "adjacent(P1, P2) :- loc(P1), loc(P2), P1 = (X,Y), P2 = (X-1,Y).\n",
      "\n",
      "1 { at(R,P,0) : loc(P) } 1 :- robot(R).\n",
      "\n",
      "#program domain(__t).\n",
      "\n",
      "at(R,P,__t+1) :- at(R,P,__t), not move(R,_,__t).\n",
      "\n",
      ":- { at(R,P,__t) : loc(P) } <= 0, robot(R).\n",
      "%:- 2 <= { at(R,P,__t) : loc(P) }, robot(R).\n",
      ":- 2 <= { at(R,P,__t) : robot(R) }, loc(P).\n",
      "\n",
      "\n"
     ]
    }
   ],
   "source": [
    "domain_str = \"\"\"\n",
    "\n",
    "#program domain.\n",
    "\n",
    "row(1). col(1).\n",
    "row(2). col(2).\n",
    "row(3). col(3).\n",
    "loc((X,Y)) :- col(X), row(Y), (X,Y) != (1,3), (X,Y) != (3,1).\n",
    "\n",
    "adjacent(P1, P2) :- loc(P1), loc(P2), P1 = (X,Y), P2 = (X,Y+1).\n",
    "adjacent(P1, P2) :- loc(P1), loc(P2), P1 = (X,Y), P2 = (X+1,Y).\n",
    "adjacent(P1, P2) :- loc(P1), loc(P2), P1 = (X,Y), P2 = (X,Y-1).\n",
    "adjacent(P1, P2) :- loc(P1), loc(P2), P1 = (X,Y), P2 = (X-1,Y).\n",
    "\n",
    "1 { at(R,P,0) : loc(P) } 1 :- robot(R).\n",
    "\n",
    "#program domain(__t).\n",
    "\n",
    "at(R,P,__t+1) :- at(R,P,__t), not move(R,_,__t).\n",
    "\n",
    ":- { at(R,P,__t) : loc(P) } <= 0, robot(R).\n",
    "%:- 2 <= { at(R,P,__t) : loc(P) }, robot(R).\n",
    ":- 2 <= { at(R,P,__t) : robot(R) }, loc(P).\n",
    "\n",
    "\"\"\"\n",
    "print(domain_str)"
   ],
   "metadata": {
    "collapsed": false,
    "pycharm": {
     "name": "#%%\n"
    }
   }
  },
  {
   "cell_type": "code",
   "execution_count": 865,
   "outputs": [
    {
     "name": "stdout",
     "output_type": "stream",
     "text": [
      "\n",
      "\n",
      "#program base.\n",
      "\n",
      "#show move/3.\n",
      "#show at/3.\n",
      "\n",
      "#program plan(__t).\n",
      "\n",
      "0 { move(R,P,__t) : loc(P) } 1 :- robot(R).\n",
      "\n",
      "#program init.\n",
      "\n",
      ":- not at(worker, (1,1), 0).\n",
      ":- not at(charger, (2,2), 0).\n",
      "\n",
      "#program goal(__t).\n",
      "\n",
      ":- not at(worker, (3,3), __t).\n",
      ":- not at(charger, (2,2), __t).\n",
      "\n",
      "\n"
     ]
    }
   ],
   "source": [
    "plan_str = \"\"\"\n",
    "\n",
    "#program base.\n",
    "\n",
    "#show move/3.\n",
    "#show at/3.\n",
    "\n",
    "#program plan(__t).\n",
    "\n",
    "0 { move(R,P,__t) : loc(P) } 1 :- robot(R).\n",
    "\n",
    "#program init.\n",
    "\n",
    ":- not at(worker, (1,1), 0).\n",
    ":- not at(charger, (2,2), 0).\n",
    "\n",
    "#program goal(__t).\n",
    "\n",
    ":- not at(worker, (3,3), __t).\n",
    ":- not at(charger, (2,2), __t).\n",
    "\n",
    "\"\"\"\n",
    "print(plan_str)"
   ],
   "metadata": {
    "collapsed": false,
    "pycharm": {
     "name": "#%%\n"
    }
   }
  },
  {
   "cell_type": "code",
   "execution_count": 866,
   "outputs": [
    {
     "name": "stdout",
     "output_type": "stream",
     "text": [
      "\n",
      "\n",
      "#program base.\n",
      "\n",
      "robot(worker).\n",
      "robot(charger).\n",
      "\n",
      "\n"
     ]
    }
   ],
   "source": [
    "instance_str = \"\"\"\n",
    "\n",
    "#program base.\n",
    "\n",
    "robot(worker).\n",
    "robot(charger).\n",
    "\n",
    "\"\"\"\n",
    "print(instance_str)"
   ],
   "metadata": {
    "collapsed": false,
    "pycharm": {
     "name": "#%%\n"
    }
   }
  },
  {
   "cell_type": "code",
   "execution_count": 867,
   "outputs": [
    {
     "name": "stdout",
     "output_type": "stream",
     "text": [
      "Answer 1: {\n",
      "at(charger,(2,2),0)\n",
      "at(charger,(2,2),4)\n",
      "at(charger,(2,3),1)\n",
      "at(charger,(2,3),2)\n",
      "at(charger,(2,3),3)\n",
      "at(worker,(1,1),0)\n",
      "at(worker,(2,1),1)\n",
      "at(worker,(2,2),2)\n",
      "at(worker,(3,2),3)\n",
      "at(worker,(3,3),4)\n",
      "move(charger,(2,2),3)\n",
      "move(charger,(2,3),0)\n",
      "move(worker,(2,1),0)\n",
      "move(worker,(2,2),1)\n",
      "move(worker,(3,2),2)\n",
      "move(worker,(3,3),3)\n",
      "}\n",
      "Answer 2: {\n",
      "at(charger,(1,2),1)\n",
      "at(charger,(1,2),2)\n",
      "at(charger,(1,2),3)\n",
      "at(charger,(2,2),0)\n",
      "at(charger,(2,2),4)\n",
      "at(worker,(1,1),0)\n",
      "at(worker,(2,1),1)\n",
      "at(worker,(2,2),2)\n",
      "at(worker,(3,2),3)\n",
      "at(worker,(3,3),4)\n",
      "move(charger,(1,2),0)\n",
      "move(charger,(2,2),3)\n",
      "move(worker,(2,1),0)\n",
      "move(worker,(2,2),1)\n",
      "move(worker,(3,2),2)\n",
      "move(worker,(3,3),3)\n",
      "}\n",
      "Answer 3: {\n",
      "at(charger,(2,2),0)\n",
      "at(charger,(2,2),4)\n",
      "at(charger,(2,3),3)\n",
      "at(charger,(3,2),1)\n",
      "at(charger,(3,3),2)\n",
      "at(worker,(1,1),0)\n",
      "at(worker,(2,1),1)\n",
      "at(worker,(2,2),2)\n",
      "at(worker,(3,2),3)\n",
      "at(worker,(3,3),4)\n",
      "move(charger,(2,2),3)\n",
      "move(charger,(2,3),2)\n",
      "move(charger,(3,2),0)\n",
      "move(charger,(3,3),1)\n",
      "move(worker,(2,1),0)\n",
      "move(worker,(2,2),1)\n",
      "move(worker,(3,2),2)\n",
      "move(worker,(3,3),3)\n",
      "}\n",
      "Answer 4: {\n",
      "at(charger,(2,2),0)\n",
      "at(charger,(2,2),4)\n",
      "at(charger,(2,3),1)\n",
      "at(charger,(2,3),3)\n",
      "at(charger,(3,3),2)\n",
      "at(worker,(1,1),0)\n",
      "at(worker,(2,1),1)\n",
      "at(worker,(2,2),2)\n",
      "at(worker,(3,2),3)\n",
      "at(worker,(3,3),4)\n",
      "move(charger,(2,2),3)\n",
      "move(charger,(2,3),0)\n",
      "move(charger,(2,3),2)\n",
      "move(charger,(3,3),1)\n",
      "move(worker,(2,1),0)\n",
      "move(worker,(2,2),1)\n",
      "move(worker,(3,2),2)\n",
      "move(worker,(3,3),3)\n",
      "}\n",
      "Answer 5: {\n",
      "at(charger,(1,1),2)\n",
      "at(charger,(1,2),1)\n",
      "at(charger,(2,1),3)\n",
      "at(charger,(2,2),0)\n",
      "at(charger,(2,2),4)\n",
      "at(worker,(1,1),0)\n",
      "at(worker,(2,1),1)\n",
      "at(worker,(2,2),2)\n",
      "at(worker,(3,2),3)\n",
      "at(worker,(3,3),4)\n",
      "move(charger,(1,1),1)\n",
      "move(charger,(1,2),0)\n",
      "move(charger,(2,1),2)\n",
      "move(charger,(2,2),3)\n",
      "move(worker,(2,1),0)\n",
      "move(worker,(2,2),1)\n",
      "move(worker,(3,2),2)\n",
      "move(worker,(3,3),3)\n",
      "}\n",
      "Answer 6: {\n",
      "at(charger,(1,1),2)\n",
      "at(charger,(1,2),1)\n",
      "at(charger,(1,2),3)\n",
      "at(charger,(2,2),0)\n",
      "at(charger,(2,2),4)\n",
      "at(worker,(1,1),0)\n",
      "at(worker,(2,1),1)\n",
      "at(worker,(2,2),2)\n",
      "at(worker,(3,2),3)\n",
      "at(worker,(3,3),4)\n",
      "move(charger,(1,1),1)\n",
      "move(charger,(1,2),0)\n",
      "move(charger,(1,2),2)\n",
      "move(charger,(2,2),3)\n",
      "move(worker,(2,1),0)\n",
      "move(worker,(2,2),1)\n",
      "move(worker,(3,2),2)\n",
      "move(worker,(3,3),3)\n",
      "}\n",
      "Answer 7: {\n",
      "at(charger,(1,1),2)\n",
      "at(charger,(1,2),1)\n",
      "at(charger,(2,1),3)\n",
      "at(charger,(2,2),0)\n",
      "at(charger,(2,2),4)\n",
      "at(worker,(1,1),0)\n",
      "at(worker,(2,1),1)\n",
      "at(worker,(2,2),2)\n",
      "at(worker,(2,3),3)\n",
      "at(worker,(3,3),4)\n",
      "move(charger,(1,1),1)\n",
      "move(charger,(1,2),0)\n",
      "move(charger,(2,1),2)\n",
      "move(charger,(2,2),3)\n",
      "move(worker,(2,1),0)\n",
      "move(worker,(2,2),1)\n",
      "move(worker,(2,3),2)\n",
      "move(worker,(3,3),3)\n",
      "}\n",
      "Answer 8: {\n",
      "at(charger,(1,1),2)\n",
      "at(charger,(1,2),1)\n",
      "at(charger,(1,2),3)\n",
      "at(charger,(2,2),0)\n",
      "at(charger,(2,2),4)\n",
      "at(worker,(1,1),0)\n",
      "at(worker,(2,1),1)\n",
      "at(worker,(2,2),2)\n",
      "at(worker,(2,3),3)\n",
      "at(worker,(3,3),4)\n",
      "move(charger,(1,1),1)\n",
      "move(charger,(1,2),0)\n",
      "move(charger,(1,2),2)\n",
      "move(charger,(2,2),3)\n",
      "move(worker,(2,1),0)\n",
      "move(worker,(2,2),1)\n",
      "move(worker,(2,3),2)\n",
      "move(worker,(3,3),3)\n",
      "}\n",
      "Answer 9: {\n",
      "at(charger,(2,2),0)\n",
      "at(charger,(2,2),4)\n",
      "at(charger,(3,2),1)\n",
      "at(charger,(3,2),2)\n",
      "at(charger,(3,2),3)\n",
      "at(worker,(1,1),0)\n",
      "at(worker,(2,1),1)\n",
      "at(worker,(2,2),2)\n",
      "at(worker,(2,3),3)\n",
      "at(worker,(3,3),4)\n",
      "move(charger,(2,2),3)\n",
      "move(charger,(3,2),0)\n",
      "move(worker,(2,1),0)\n",
      "move(worker,(2,2),1)\n",
      "move(worker,(2,3),2)\n",
      "move(worker,(3,3),3)\n",
      "}\n",
      "Answer 10: {\n",
      "at(charger,(1,2),1)\n",
      "at(charger,(1,2),2)\n",
      "at(charger,(1,2),3)\n",
      "at(charger,(2,2),0)\n",
      "at(charger,(2,2),4)\n",
      "at(worker,(1,1),0)\n",
      "at(worker,(2,1),1)\n",
      "at(worker,(2,2),2)\n",
      "at(worker,(2,3),3)\n",
      "at(worker,(3,3),4)\n",
      "move(charger,(1,2),0)\n",
      "move(charger,(2,2),3)\n",
      "move(worker,(2,1),0)\n",
      "move(worker,(2,2),1)\n",
      "move(worker,(2,3),2)\n",
      "move(worker,(3,3),3)\n",
      "}\n",
      "Answer 11: {\n",
      "at(charger,(2,2),0)\n",
      "at(charger,(2,2),4)\n",
      "at(charger,(3,2),1)\n",
      "at(charger,(3,2),3)\n",
      "at(charger,(3,3),2)\n",
      "at(worker,(1,1),0)\n",
      "at(worker,(2,1),1)\n",
      "at(worker,(2,2),2)\n",
      "at(worker,(2,3),3)\n",
      "at(worker,(3,3),4)\n",
      "move(charger,(2,2),3)\n",
      "move(charger,(3,2),0)\n",
      "move(charger,(3,2),2)\n",
      "move(charger,(3,3),1)\n",
      "move(worker,(2,1),0)\n",
      "move(worker,(2,2),1)\n",
      "move(worker,(2,3),2)\n",
      "move(worker,(3,3),3)\n",
      "}\n",
      "Answer 12: {\n",
      "at(charger,(2,2),0)\n",
      "at(charger,(2,2),4)\n",
      "at(charger,(2,3),1)\n",
      "at(charger,(3,2),3)\n",
      "at(charger,(3,3),2)\n",
      "at(worker,(1,1),0)\n",
      "at(worker,(2,1),1)\n",
      "at(worker,(2,2),2)\n",
      "at(worker,(2,3),3)\n",
      "at(worker,(3,3),4)\n",
      "move(charger,(2,2),3)\n",
      "move(charger,(2,3),0)\n",
      "move(charger,(3,2),2)\n",
      "move(charger,(3,3),1)\n",
      "move(worker,(2,1),0)\n",
      "move(worker,(2,2),1)\n",
      "move(worker,(2,3),2)\n",
      "move(worker,(3,3),3)\n",
      "}\n",
      "Answer 13: {\n",
      "at(charger,(1,1),2)\n",
      "at(charger,(1,2),3)\n",
      "at(charger,(2,1),1)\n",
      "at(charger,(2,2),0)\n",
      "at(charger,(2,2),4)\n",
      "at(worker,(1,1),0)\n",
      "at(worker,(1,2),1)\n",
      "at(worker,(2,2),2)\n",
      "at(worker,(3,2),3)\n",
      "at(worker,(3,3),4)\n",
      "move(charger,(1,1),1)\n",
      "move(charger,(1,2),2)\n",
      "move(charger,(2,1),0)\n",
      "move(charger,(2,2),3)\n",
      "move(worker,(1,2),0)\n",
      "move(worker,(2,2),1)\n",
      "move(worker,(3,2),2)\n",
      "move(worker,(3,3),3)\n",
      "}\n",
      "Answer 14: {\n",
      "at(charger,(1,1),2)\n",
      "at(charger,(1,2),3)\n",
      "at(charger,(2,1),1)\n",
      "at(charger,(2,2),0)\n",
      "at(charger,(2,2),4)\n",
      "at(worker,(1,1),0)\n",
      "at(worker,(1,2),1)\n",
      "at(worker,(2,2),2)\n",
      "at(worker,(2,3),3)\n",
      "at(worker,(3,3),4)\n",
      "move(charger,(1,1),1)\n",
      "move(charger,(1,2),2)\n",
      "move(charger,(2,1),0)\n",
      "move(charger,(2,2),3)\n",
      "move(worker,(1,2),0)\n",
      "move(worker,(2,2),1)\n",
      "move(worker,(2,3),2)\n",
      "move(worker,(3,3),3)\n",
      "}\n",
      "Answer 15: {\n",
      "at(charger,(1,1),2)\n",
      "at(charger,(2,1),1)\n",
      "at(charger,(2,1),3)\n",
      "at(charger,(2,2),0)\n",
      "at(charger,(2,2),4)\n",
      "at(worker,(1,1),0)\n",
      "at(worker,(1,2),1)\n",
      "at(worker,(2,2),2)\n",
      "at(worker,(3,2),3)\n",
      "at(worker,(3,3),4)\n",
      "move(charger,(1,1),1)\n",
      "move(charger,(2,1),0)\n",
      "move(charger,(2,1),2)\n",
      "move(charger,(2,2),3)\n",
      "move(worker,(1,2),0)\n",
      "move(worker,(2,2),1)\n",
      "move(worker,(3,2),2)\n",
      "move(worker,(3,3),3)\n",
      "}\n",
      "Answer 16: {\n",
      "at(charger,(1,1),2)\n",
      "at(charger,(2,1),1)\n",
      "at(charger,(2,1),3)\n",
      "at(charger,(2,2),0)\n",
      "at(charger,(2,2),4)\n",
      "at(worker,(1,1),0)\n",
      "at(worker,(1,2),1)\n",
      "at(worker,(2,2),2)\n",
      "at(worker,(2,3),3)\n",
      "at(worker,(3,3),4)\n",
      "move(charger,(1,1),1)\n",
      "move(charger,(2,1),0)\n",
      "move(charger,(2,1),2)\n",
      "move(charger,(2,2),3)\n",
      "move(worker,(1,2),0)\n",
      "move(worker,(2,2),1)\n",
      "move(worker,(2,3),2)\n",
      "move(worker,(3,3),3)\n",
      "}\n",
      "Answer 17: {\n",
      "at(charger,(2,2),0)\n",
      "at(charger,(2,2),4)\n",
      "at(charger,(2,3),1)\n",
      "at(charger,(2,3),2)\n",
      "at(charger,(2,3),3)\n",
      "at(worker,(1,1),0)\n",
      "at(worker,(1,2),1)\n",
      "at(worker,(2,2),2)\n",
      "at(worker,(3,2),3)\n",
      "at(worker,(3,3),4)\n",
      "move(charger,(2,2),3)\n",
      "move(charger,(2,3),0)\n",
      "move(worker,(1,2),0)\n",
      "move(worker,(2,2),1)\n",
      "move(worker,(3,2),2)\n",
      "move(worker,(3,3),3)\n",
      "}\n",
      "Answer 18: {\n",
      "at(charger,(2,2),0)\n",
      "at(charger,(2,2),4)\n",
      "at(charger,(3,2),1)\n",
      "at(charger,(3,2),2)\n",
      "at(charger,(3,2),3)\n",
      "at(worker,(1,1),0)\n",
      "at(worker,(1,2),1)\n",
      "at(worker,(2,2),2)\n",
      "at(worker,(2,3),3)\n",
      "at(worker,(3,3),4)\n",
      "move(charger,(2,2),3)\n",
      "move(charger,(3,2),0)\n",
      "move(worker,(1,2),0)\n",
      "move(worker,(2,2),1)\n",
      "move(worker,(2,3),2)\n",
      "move(worker,(3,3),3)\n",
      "}\n",
      "Answer 19: {\n",
      "at(charger,(2,1),1)\n",
      "at(charger,(2,1),2)\n",
      "at(charger,(2,1),3)\n",
      "at(charger,(2,2),0)\n",
      "at(charger,(2,2),4)\n",
      "at(worker,(1,1),0)\n",
      "at(worker,(1,2),1)\n",
      "at(worker,(2,2),2)\n",
      "at(worker,(3,2),3)\n",
      "at(worker,(3,3),4)\n",
      "move(charger,(2,1),0)\n",
      "move(charger,(2,2),3)\n",
      "move(worker,(1,2),0)\n",
      "move(worker,(2,2),1)\n",
      "move(worker,(3,2),2)\n",
      "move(worker,(3,3),3)\n",
      "}\n",
      "Answer 20: {\n",
      "at(charger,(2,1),1)\n",
      "at(charger,(2,1),2)\n",
      "at(charger,(2,1),3)\n",
      "at(charger,(2,2),0)\n",
      "at(charger,(2,2),4)\n",
      "at(worker,(1,1),0)\n",
      "at(worker,(1,2),1)\n",
      "at(worker,(2,2),2)\n",
      "at(worker,(2,3),3)\n",
      "at(worker,(3,3),4)\n",
      "move(charger,(2,1),0)\n",
      "move(charger,(2,2),3)\n",
      "move(worker,(1,2),0)\n",
      "move(worker,(2,2),1)\n",
      "move(worker,(2,3),2)\n",
      "move(worker,(3,3),3)\n",
      "}\n",
      "Answer 21: {\n",
      "at(charger,(2,2),0)\n",
      "at(charger,(2,2),4)\n",
      "at(charger,(3,2),1)\n",
      "at(charger,(3,2),3)\n",
      "at(charger,(3,3),2)\n",
      "at(worker,(1,1),0)\n",
      "at(worker,(1,2),1)\n",
      "at(worker,(2,2),2)\n",
      "at(worker,(2,3),3)\n",
      "at(worker,(3,3),4)\n",
      "move(charger,(2,2),3)\n",
      "move(charger,(3,2),0)\n",
      "move(charger,(3,2),2)\n",
      "move(charger,(3,3),1)\n",
      "move(worker,(1,2),0)\n",
      "move(worker,(2,2),1)\n",
      "move(worker,(2,3),2)\n",
      "move(worker,(3,3),3)\n",
      "}\n",
      "Answer 22: {\n",
      "at(charger,(2,2),0)\n",
      "at(charger,(2,2),4)\n",
      "at(charger,(2,3),1)\n",
      "at(charger,(3,2),3)\n",
      "at(charger,(3,3),2)\n",
      "at(worker,(1,1),0)\n",
      "at(worker,(1,2),1)\n",
      "at(worker,(2,2),2)\n",
      "at(worker,(2,3),3)\n",
      "at(worker,(3,3),4)\n",
      "move(charger,(2,2),3)\n",
      "move(charger,(2,3),0)\n",
      "move(charger,(3,2),2)\n",
      "move(charger,(3,3),1)\n",
      "move(worker,(1,2),0)\n",
      "move(worker,(2,2),1)\n",
      "move(worker,(2,3),2)\n",
      "move(worker,(3,3),3)\n",
      "}\n",
      "Answer 23: {\n",
      "at(charger,(2,2),0)\n",
      "at(charger,(2,2),4)\n",
      "at(charger,(2,3),3)\n",
      "at(charger,(3,2),1)\n",
      "at(charger,(3,3),2)\n",
      "at(worker,(1,1),0)\n",
      "at(worker,(1,2),1)\n",
      "at(worker,(2,2),2)\n",
      "at(worker,(3,2),3)\n",
      "at(worker,(3,3),4)\n",
      "move(charger,(2,2),3)\n",
      "move(charger,(2,3),2)\n",
      "move(charger,(3,2),0)\n",
      "move(charger,(3,3),1)\n",
      "move(worker,(1,2),0)\n",
      "move(worker,(2,2),1)\n",
      "move(worker,(3,2),2)\n",
      "move(worker,(3,3),3)\n",
      "}\n",
      "Answer 24: {\n",
      "at(charger,(2,2),0)\n",
      "at(charger,(2,2),4)\n",
      "at(charger,(2,3),1)\n",
      "at(charger,(2,3),3)\n",
      "at(charger,(3,3),2)\n",
      "at(worker,(1,1),0)\n",
      "at(worker,(1,2),1)\n",
      "at(worker,(2,2),2)\n",
      "at(worker,(3,2),3)\n",
      "at(worker,(3,3),4)\n",
      "move(charger,(2,2),3)\n",
      "move(charger,(2,3),0)\n",
      "move(charger,(2,3),2)\n",
      "move(charger,(3,3),1)\n",
      "move(worker,(1,2),0)\n",
      "move(worker,(2,2),1)\n",
      "move(worker,(3,2),2)\n",
      "move(worker,(3,3),3)\n",
      "}\n",
      "SAT 24\n"
     ]
    }
   ],
   "source": [
    "plans = tuple(evaluate_forwards((effect_p, domain_str, plan_str, instance_str), parts=(\n",
    "    ('base', ()),\n",
    "    ('domain', ()),\n",
    "    ('init', ()),\n",
    "    ('goal', (clingo.Number(4),)),\n",
    "    *(('effect', (clingo.Number(n),)) for n in range(0, 4)),\n",
    "    *(('domain', (clingo.Number(n),)) for n in range(0, 4)),\n",
    "    *(('plan', (clingo.Number(n),)) for n in range(0, 4)),\n",
    "), report=True));"
   ],
   "metadata": {
    "collapsed": false,
    "pycharm": {
     "name": "#%%\n"
    }
   }
  },
  {
   "cell_type": "code",
   "execution_count": 868,
   "outputs": [],
   "source": [
    "plan = sorted(plans[0], key=lambda atom: atom.symbol.arguments[-1])"
   ],
   "metadata": {
    "collapsed": false,
    "pycharm": {
     "name": "#%%\n"
    }
   }
  },
  {
   "cell_type": "code",
   "execution_count": 869,
   "outputs": [],
   "source": [
    "plan_diagnosis = Program(rules=tuple(Fact(atom) for atom in plan))"
   ],
   "metadata": {
    "collapsed": false,
    "pycharm": {
     "name": "#%%\n"
    }
   }
  },
  {
   "cell_type": "code",
   "execution_count": 870,
   "outputs": [],
   "source": [
    "observed_str = \"\"\"\n",
    "\n",
    "at(charger,(2,2),0).\n",
    "at(charger,(2,2),1).\n",
    "at(charger,(2,2),2).\n",
    "at(charger,(2,2),3).\n",
    "at(charger,(2,2),4).\n",
    "at(worker,(1,1),0).\n",
    "at(worker,(2,1),1).\n",
    "at(worker,(2,1),2).\n",
    "at(worker,(2,1),3).\n",
    "at(worker,(2,1),4).\n",
    "\n",
    "\"\"\"\n",
    "\n",
    "observed = sorted(next(evaluate_forwards((observed_str,))), key=lambda atom: atom.symbol.arguments[-1])"
   ],
   "metadata": {
    "collapsed": false,
    "pycharm": {
     "name": "#%%\n"
    }
   }
  },
  {
   "cell_type": "code",
   "execution_count": 871,
   "outputs": [
    {
     "name": "stdout",
     "output_type": "stream",
     "text": [
      "Answer 1: {\n",
      "first_discrepancy(1)\n",
      "discrepancy(1,((charger,(2,2),1),(charger,(2,3),1)))\n",
      "discrepancy(2,((charger,(2,2),2),(charger,(2,3),2)))\n",
      "discrepancy(2,((worker,(2,1),2),(worker,(2,2),2)))\n",
      "discrepancy(3,((charger,(2,2),3),(charger,(2,3),3)))\n",
      "discrepancy(3,((worker,(2,1),3),(worker,(3,2),3)))\n",
      "discrepancy(4,((worker,(2,1),4),(worker,(3,3),4)))\n",
      "}\n",
      "SAT 1\n"
     ]
    }
   ],
   "source": [
    "discrepancy_str = \"\"\"\n",
    "\n",
    "discrepancy(T,((R,P,T),(R,Q,T))) :- at(R,P,T), at(R,Q,T), Q>P.\n",
    "first_discrepancy(T) :- T=#min {D : discrepancy(D,_) }.\n",
    "\n",
    ":- not discrepancy(_,_).\n",
    "\n",
    "#show first_discrepancy/1.\n",
    "#show discrepancy/2.\n",
    "\"\"\"\n",
    "discrepancy = tuple(evaluate_forwards((plan_diagnosis, observed_str, discrepancy_str), report=True))[0]"
   ],
   "metadata": {
    "collapsed": false,
    "pycharm": {
     "name": "#%%\n"
    }
   }
  },
  {
   "cell_type": "code",
   "execution_count": 872,
   "outputs": [
    {
     "name": "stdout",
     "output_type": "stream",
     "text": [
      "1\n"
     ]
    }
   ],
   "source": [
    "first_discrepancy = next((atom for atom in discrepancy if atom.symbol.match('first_discrepancy', 1))).symbol.arguments[\n",
    "    0]\n",
    "print(first_discrepancy)"
   ],
   "metadata": {
    "collapsed": false,
    "pycharm": {
     "name": "#%%\n"
    }
   }
  },
  {
   "cell_type": "code",
   "execution_count": 873,
   "outputs": [
    {
     "name": "stdout",
     "output_type": "stream",
     "text": [
      "#program expected.\n",
      ":- not move(charger,(2,3),0).\n",
      ":- not move(worker,(2,1),0).\n",
      ":- not at(charger,(2,3),1).\n",
      ":- not at(worker,(2,1),1).\n"
     ]
    }
   ],
   "source": [
    "expected_rules = []\n",
    "\n",
    "last_known_time = -1\n",
    "for step in plan:\n",
    "    if step.symbol.match('at', 3):\n",
    "        if step.symbol.arguments[-1] == first_discrepancy:\n",
    "            expected_constraint = Constraint((-BasicLiteral(Atom(step.symbol)),))\n",
    "            expected_rules.append(expected_constraint)\n",
    "    elif step.symbol.match('move', 3):\n",
    "        if step.symbol.arguments[-1] < first_discrepancy:\n",
    "            expected_constraint = Constraint((-BasicLiteral(Atom(step.symbol)),))\n",
    "            expected_rules.append(expected_constraint)\n",
    "\n",
    "expected = Program(name='expected', rules=expected_rules)\n",
    "print(expected.custom_str(sep='\\n'))"
   ],
   "metadata": {
    "collapsed": false,
    "pycharm": {
     "name": "#%%\n"
    }
   }
  },
  {
   "cell_type": "code",
   "execution_count": 874,
   "outputs": [
    {
     "name": "stdout",
     "output_type": "stream",
     "text": [
      "\n",
      "\n",
      "#program base.\n",
      "\n",
      "robot_component(R,base) :- robot(R).\n",
      "\n",
      "\n"
     ]
    }
   ],
   "source": [
    "robot_components_str = \"\"\"\n",
    "\n",
    "#program base.\n",
    "\n",
    "robot_component(R,base) :- robot(R).\n",
    "\n",
    "\"\"\"\n",
    "print(robot_components_str)"
   ],
   "metadata": {
    "collapsed": false,
    "pycharm": {
     "name": "#%%\n"
    }
   }
  },
  {
   "cell_type": "code",
   "execution_count": 875,
   "outputs": [],
   "source": [
    "disables_str = \"\"\"\n",
    "\n",
    "disables(((R,base),),move(R,P2),(at(R,P1),)) :- robot(R), adjacent(P1,P2).\n",
    "\n",
    "\"\"\"\n",
    "disables_p = from_string(disables_str)[0]"
   ],
   "metadata": {
    "collapsed": false,
    "pycharm": {
     "name": "#%%\n"
    }
   }
  },
  {
   "cell_type": "code",
   "execution_count": 876,
   "outputs": [
    {
     "name": "stdout",
     "output_type": "stream",
     "text": [
      "\n",
      "\n",
      "#program broken.\n",
      "\n",
      "{ broken(R,P,__t) } :- robot_component(R,P).\n",
      "\n",
      "#program broken(__t).\n",
      "\n",
      "-broken(R,P,__t) :- not broken(R,P,__t), robot_component(R,P).\n",
      "broken(R,P,__t+1) :- not -broken(R,P,__t+1), -broken(R,P,__t), robot_component(R,P).\n",
      "broken(R,P,__t+1) :- broken(R,P,__t).\n",
      "\n",
      "\n"
     ]
    }
   ],
   "source": [
    "broken_str = \"\"\"\n",
    "\n",
    "#program broken.\n",
    "\n",
    "{ broken(R,P,__t) } :- robot_component(R,P).\n",
    "\n",
    "#program broken(__t).\n",
    "\n",
    "-broken(R,P,__t) :- not broken(R,P,__t), robot_component(R,P).\n",
    "broken(R,P,__t+1) :- not -broken(R,P,__t+1), -broken(R,P,__t), robot_component(R,P).\n",
    "broken(R,P,__t+1) :- broken(R,P,__t).\n",
    "\n",
    "\"\"\"\n",
    "print(broken_str)"
   ],
   "metadata": {
    "collapsed": false,
    "pycharm": {
     "name": "#%%\n"
    }
   }
  },
  {
   "cell_type": "code",
   "execution_count": 877,
   "outputs": [
    {
     "name": "stdout",
     "output_type": "stream",
     "text": [
      "\n",
      "\n",
      "#program diagnosis(__t).\n",
      "\n",
      "{ diagnosis(R,P,__t) : robot_component(R,P) }.\n",
      "\n",
      ":- not broken(R,P, __t), diagnosis(R,P,__t).\n",
      ":- not -broken(R,P, __t), robot_component(R,P), not diagnosis(R,P,__t).\n",
      "\n",
      "\n"
     ]
    }
   ],
   "source": [
    "diagnosis_str = \"\"\"\n",
    "\n",
    "#program diagnosis(__t).\n",
    "\n",
    "{ diagnosis(R,P,__t) : robot_component(R,P) }.\n",
    "\n",
    ":- not broken(R,P, __t), diagnosis(R,P,__t).\n",
    ":- not -broken(R,P, __t), robot_component(R,P), not diagnosis(R,P,__t).\n",
    "\n",
    "\"\"\"\n",
    "print(diagnosis_str)"
   ],
   "metadata": {
    "collapsed": false,
    "pycharm": {
     "name": "#%%\n"
    }
   }
  },
  {
   "cell_type": "code",
   "execution_count": 878,
   "outputs": [
    {
     "name": "stdout",
     "output_type": "stream",
     "text": [
      "#program diagnostic_domain(__t).\n",
      "pre(move(R,P2),__t) :- robot(R), adjacent(P1,P2), not -pre(move(R,P2),__t).\n",
      "-pre(move(R,P2),__t) :- robot(R), adjacent(P1,P2), at(R,P1,__t), at(_,P2,__t).\n",
      "at(R,P2,__t+1) :- robot(R), adjacent(P1,P2), at(R,P1,__t), -broken(R,base,__t).\n"
     ]
    }
   ],
   "source": [
    "diagnostic_domain_rules = []\n",
    "for effect_rule in effect_raw.rules:\n",
    "    if effect_rule.is_rule() and not effect_rule.is_constraint():\n",
    "        if effect_rule.is_normal_rule():\n",
    "            symbol = effect_rule.head.atom.symbol\n",
    "            if symbol.name == 'effect':\n",
    "                effect = BasicLiteral(Atom(symbol.arguments[0].arguments_append(__t + one)))\n",
    "                action_ = symbol.arguments[1]\n",
    "                action = BasicLiteral(Atom(action_.arguments_append(__t)))\n",
    "                conditions = tuple(\n",
    "                    BasicLiteral(Atom(condition.arguments_append(__t))).strong_neg_to_default_neg() for condition in\n",
    "                    symbol.arguments[2].arguments)\n",
    "                preconditions = tuple(\n",
    "                    -BasicLiteral(Atom(condition.arguments_append(__t))).strong_neg_to_default_neg() for\n",
    "                    condition in symbol.arguments[3].arguments)\n",
    "                precondition_1_head = BasicLiteral(Atom(Function('pre', (action_, __t))))\n",
    "                precondition_1_body = (*effect_rule.body, -BasicLiteral(Atom(-Function('pre', (action_, __t)))),)\n",
    "                precondition_1 = NormalRule(precondition_1_head, precondition_1_body)\n",
    "                diagnostic_domain_rules.append(precondition_1)\n",
    "\n",
    "                for precondition in preconditions:\n",
    "                    precondition_2_head = BasicLiteral(Atom(-Function('pre', (action_, __t))))\n",
    "                    precondition_2_body = (*effect_rule.body, *conditions, precondition)\n",
    "                    precondition_2 = NormalRule(precondition_2_head, precondition_2_body)\n",
    "                    diagnostic_domain_rules.append(precondition_2)\n",
    "\n",
    "                for disables_rule in disables_p.rules:\n",
    "                    if disables_rule.is_rule() and disables_rule.is_normal_rule():\n",
    "                        robot_components = disables_rule.head.atom.symbol.arguments[0].arguments\n",
    "                        action__ = disables_rule.head.atom.symbol.arguments[1]\n",
    "                        if action_ != action__:\n",
    "                            break\n",
    "                        conditions_ = tuple(\n",
    "                            BasicLiteral(Atom(condition.arguments_append(__t))).strong_neg_to_default_neg() for\n",
    "                            condition in\n",
    "                            disables_rule.head.atom.symbol.arguments[2].arguments)\n",
    "                        if conditions != conditions_:\n",
    "                            break\n",
    "                        broken = (\n",
    "                        BasicLiteral(Atom(-Function('broken', robot_component.arguments).arguments_append(__t))) for\n",
    "                        robot_component in robot_components)\n",
    "                        broken_rule_head = effect\n",
    "                        broken_rule_body = (*effect_rule.body,\n",
    "                                            *conditions,\n",
    "                                            *broken\n",
    "                                            )\n",
    "                        broken_rule = NormalRule(broken_rule_head, broken_rule_body)\n",
    "                        diagnostic_domain_rules.append(broken_rule)\n",
    "\n",
    "diagnostic_domain = Program(name='diagnostic_domain', parameters=(__t,), rules=diagnostic_domain_rules)\n",
    "print(diagnostic_domain.custom_str('\\n'))"
   ],
   "metadata": {
    "collapsed": false,
    "pycharm": {
     "name": "#%%\n"
    }
   }
  },
  {
   "cell_type": "code",
   "execution_count": 879,
   "outputs": [],
   "source": [
    "diagnostic_query = (expected, robot_components_str, disables_str, broken_str, diagnosis_str, diagnostic_domain)"
   ],
   "metadata": {
    "collapsed": false,
    "pycharm": {
     "name": "#%%\n"
    }
   }
  },
  {
   "cell_type": "code",
   "execution_count": 880,
   "outputs": [
    {
     "name": "stdout",
     "output_type": "stream",
     "text": [
      "UNSAT"
     ]
    },
    {
     "name": "stderr",
     "output_type": "stream",
     "text": [
      "<block>:1:27-48: info: atom does not occur in any rule head:\n",
      "  move(charger,(2,3),0)\n",
      "\n",
      "<block>:1:57-77: info: atom does not occur in any rule head:\n",
      "  move(worker,(2,1),0)\n",
      "\n",
      "<block>:7:28-36: info: atom does not occur in any rule head:\n",
      "  robot(R)\n",
      "\n",
      "<block>:13:49-57: info: atom does not occur in any rule head:\n",
      "  robot(R)\n",
      "\n",
      "<block>:13:59-74: info: atom does not occur in any rule head:\n",
      "  adjacent(P1,P2)\n",
      "\n",
      "<block>:42:57-65: info: atom does not occur in any rule head:\n",
      "  robot(R)\n",
      "\n",
      "<block>:42:67-82: info: atom does not occur in any rule head:\n",
      "  adjacent(P1,P2)\n",
      "\n",
      "<block>:42:134-142: info: atom does not occur in any rule head:\n",
      "  robot(R)\n",
      "\n",
      "<block>:42:144-159: info: atom does not occur in any rule head:\n",
      "  adjacent(P1,P2)\n",
      "\n",
      "<block>:42:207-215: info: atom does not occur in any rule head:\n",
      "  robot(R)\n",
      "\n",
      "<block>:42:217-232: info: atom does not occur in any rule head:\n",
      "  adjacent(P1,P2)\n",
      "\n"
     ]
    }
   ],
   "source": [
    "list(evaluate_forwards(diagnostic_query,\n",
    "                       parts=(\n",
    "                           ('base', ()),\n",
    "                           ('expected', ()),\n",
    "                           ('broken', ()),\n",
    "                           *(('broken', (clingo.Number(n),)) for n in range(0, first_discrepancy.constant.number)),\n",
    "                           *(('diagnosis', (clingo.Number(n),)) for n in range(0, first_discrepancy.constant.number)),\n",
    "                           *(('diagnostic_domain', (clingo.Number(n),)) for n in\n",
    "                             range(0, first_discrepancy.constant.number)),\n",
    "                       )\n",
    "                       , report=True));"
   ],
   "metadata": {
    "collapsed": false,
    "pycharm": {
     "name": "#%%\n"
    }
   }
  },
  {
   "cell_type": "code",
   "execution_count": 880,
   "outputs": [],
   "source": [],
   "metadata": {
    "collapsed": false,
    "pycharm": {
     "name": "#%%\n"
    }
   }
  }
 ],
 "metadata": {
  "kernelspec": {
   "display_name": "Python 3",
   "language": "python",
   "name": "python3"
  },
  "language_info": {
   "codemirror_mode": {
    "name": "ipython",
    "version": 2
   },
   "file_extension": ".py",
   "mimetype": "text/x-python",
   "name": "python",
   "nbconvert_exporter": "python",
   "pygments_lexer": "ipython2",
   "version": "2.7.6"
  }
 },
 "nbformat": 4,
 "nbformat_minor": 0
}