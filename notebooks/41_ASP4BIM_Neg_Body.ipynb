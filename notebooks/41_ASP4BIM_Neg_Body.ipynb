{
 "cells": [
  {
   "cell_type": "code",
   "execution_count": 1,
   "metadata": {
    "collapsed": true
   },
   "outputs": [],
   "source": [
    "from dataclasses import dataclass, field\n",
    "from multiprocessing import Lock\n",
    "from typing import Sequence, Optional, Dict, ClassVar\n",
    "\n",
    "import clingo.ast\n",
    "import descartes\n",
    "import matplotlib.pyplot as plt\n",
    "from clingo import PropagateInit, PropagateControl, Assignment\n",
    "from clingo.ast import ProgramBuilder\n",
    "from shapely.geometry import Polygon"
   ]
  },
  {
   "cell_type": "code",
   "execution_count": 2,
   "outputs": [
    {
     "data": {
      "text/plain": "{'square1': <shapely.geometry.polygon.Polygon at 0x7f81bbed9f60>,\n 'square2': <shapely.geometry.polygon.Polygon at 0x7f81bbed95d0>}"
     },
     "execution_count": 2,
     "metadata": {},
     "output_type": "execute_result"
    }
   ],
   "source": [
    "db = {\n",
    "    \"square1\": Polygon([(0, 0), (2, 0), (2, 2), (0, 2)]),\n",
    "    \"square2\": Polygon([(1, 1), (3, 1), (3, 3), (1, 3)]),\n",
    "}\n",
    "db"
   ],
   "metadata": {
    "collapsed": false,
    "pycharm": {
     "name": "#%%\n"
    }
   }
  },
  {
   "cell_type": "code",
   "execution_count": 3,
   "outputs": [],
   "source": [
    "data = \"\"\"\n",
    "type(polygon).\n",
    "\n",
    "product(polygon, \"square1\").\n",
    "product(polygon, \"square2\").\n",
    "\"\"\""
   ],
   "metadata": {
    "collapsed": false,
    "pycharm": {
     "name": "#%%\n"
    }
   }
  },
  {
   "cell_type": "code",
   "execution_count": 4,
   "outputs": [],
   "source": [
    "program = \"\"\"\n",
    "\n",
    "&intersect{ \"square1\"; \"square2\" } = intersect(polygon, \"intersect_1_2\") :-\n",
    "  not &union{ \"square1\"; \"square2\" } = union(polygon, \"union_1_2\").\n",
    "\n",
    "&union{ \"square1\"; \"square2\" } = union(polygon, \"union_1_2\") :-\n",
    "  not &intersect{ \"square1\"; \"square2\" } = intersect(polygon, \"intersect_1_2\").\n",
    "\n",
    "\"\"\""
   ],
   "metadata": {
    "collapsed": false,
    "pycharm": {
     "name": "#%%\n"
    }
   }
  },
  {
   "cell_type": "code",
   "execution_count": 5,
   "outputs": [],
   "source": [
    "theory = \"\"\"\n",
    "#theory spatial {\n",
    "\tconstant  {};\n",
    "\tspatial_term {};\n",
    "\t&union/1 : spatial_term, {=}, constant, any;\n",
    "\t&intersect/1 : spatial_term, {=}, constant, any\n",
    "}.\n",
    "\"\"\""
   ],
   "metadata": {
    "collapsed": false,
    "pycharm": {
     "name": "#%%\n"
    }
   }
  },
  {
   "cell_type": "code",
   "execution_count": 6,
   "outputs": [],
   "source": [
    "def rewrap(theory_term: clingo.TheoryTerm):\n",
    "    if theory_term.type is clingo.TheoryTermType.Symbol:\n",
    "        return clingo.Function(theory_term.name)\n",
    "    elif theory_term.type is clingo.TheoryTermType.Number:\n",
    "        return clingo.Number(theory_term.number)\n",
    "    elif theory_term.type is clingo.TheoryTermType.Function:\n",
    "        name: str = theory_term.name\n",
    "        arguments = (rewrap(argument) for argument in theory_term.arguments)\n",
    "        return clingo.Function(name, tuple(arguments))\n",
    "    arguments = (rewrap(argument) for argument in theory_term.arguments)\n",
    "    if theory_term.type is clingo.TheoryTermType.Set:\n",
    "        return clingo.String(str(set(arguments)))\n",
    "    elif theory_term.type is clingo.TheoryTermType.Tuple:\n",
    "        return clingo.Tuple_(tuple(arguments))\n",
    "    elif theory_term.type is clingo.TheoryTermType.List:\n",
    "        return clingo.String(str(list(arguments)))\n",
    "    else:\n",
    "        assert False, \"Unknown TheoryTermType {} of TheoryTerm {}.\".format(theory_term.type, theory_term)\n",
    "\n",
    "\n",
    "def unwrap(theory_term: clingo.TheoryTerm):\n",
    "    if theory_term.type is clingo.TheoryTermType.Symbol:\n",
    "        if theory_term.name.startswith('\"') and theory_term.name.endswith('\"'):\n",
    "            return theory_term.name[1:-1]\n",
    "        return theory_term.name\n",
    "    elif theory_term.type is clingo.TheoryTermType.Number:\n",
    "        return theory_term.number\n",
    "    elif theory_term.type is clingo.TheoryTermType.Function:\n",
    "        name: str = theory_term.name\n",
    "        arguments = (rewrap(argument) for argument in theory_term.arguments)\n",
    "        return clingo.Function(name, tuple(arguments))\n",
    "    arguments = (unwrap(argument) for argument in theory_term.arguments)\n",
    "    if theory_term.type is clingo.TheoryTermType.Set:\n",
    "        return set(arguments)\n",
    "    elif theory_term.type is clingo.TheoryTermType.Tuple:\n",
    "        return tuple(arguments)\n",
    "    elif theory_term.type is clingo.TheoryTermType.List:\n",
    "        return list(arguments)\n",
    "    else:\n",
    "        assert False, \"Unknown TheoryTermType {} of TheoryTerm {}.\".format(theory_term.type, theory_term)"
   ],
   "metadata": {
    "collapsed": false,
    "pycharm": {
     "name": "#%%\n"
    }
   }
  },
  {
   "cell_type": "code",
   "execution_count": 7,
   "outputs": [],
   "source": [
    "class SpatialTransformer(clingo.ast.Transformer):\n",
    "\n",
    "    def visit_Rule(self, rule: clingo.ast.AST, loc: Optional[str] = None):\n",
    "        new_head = rule.head\n",
    "        if rule.head.ast_type is clingo.ast.ASTType.TheoryAtom:\n",
    "            new_head = self.visit(rule.head, 'head')\n",
    "        new_body = []\n",
    "        for literal in rule.body:\n",
    "            new_literal = literal\n",
    "            if literal.atom.ast_type == clingo.ast.ASTType.TheoryAtom:\n",
    "                new_literal = self.visit(literal, 'body')\n",
    "            new_body.append(new_literal)\n",
    "        return clingo.ast.Rule(rule.location, new_head, new_body)\n",
    "\n",
    "    def visit_TheoryAtom(self, theory_atom: clingo.ast.AST, loc: Optional[str] = None):\n",
    "        if loc is not None:\n",
    "            theory_atom.term.arguments.insert(0, clingo.ast.Function(theory_atom.location, loc, [], False))\n",
    "        return theory_atom\n"
   ],
   "metadata": {
    "collapsed": false,
    "pycharm": {
     "name": "#%%\n"
    }
   }
  },
  {
   "cell_type": "code",
   "execution_count": 8,
   "outputs": [],
   "source": [
    "class SpatialPropagator(clingo.Propagator):\n",
    "\n",
    "    def __init__(self, database: Optional[Dict[str, Polygon]] = None):\n",
    "        self._l2t = {}  # literal -> (op, geoms, assign)\n",
    "        self._lih = set()  # literals in head\n",
    "        self._lib = set()  # literals in body\n",
    "        self._a2l = {}  # assign -> literal\n",
    "        self._l2s = {}  # literal -> solver_literal\n",
    "        self._s2l = {}  # solver_literal -> literal\n",
    "        self._db = database or {}\n",
    "        self._qrst = []\n",
    "\n",
    "    def _get_qrst(self, thread_id: int):\n",
    "        while thread_id >= len(self._qrst):\n",
    "            self._qrst.append(QRST(self._db))\n",
    "        return self._qrst[thread_id]\n",
    "\n",
    "\n",
    "    def init(self, init: PropagateInit) -> None:\n",
    "        for atom in init.theory_atoms:\n",
    "            term = atom.term\n",
    "            op = term.name\n",
    "            geoms = sorted(unwrap(element.terms[0]) for element in atom.elements)\n",
    "            assign = unwrap(atom.guard[1])\n",
    "            program_literal = atom.literal\n",
    "            solver_literal = init.solver_literal(program_literal)\n",
    "            if program_literal not in self._l2t:\n",
    "                self._l2t[program_literal] = (op, geoms, assign)\n",
    "            if program_literal not in self._l2s:\n",
    "                self._l2s[program_literal] = solver_literal\n",
    "            if solver_literal not in self._s2l:\n",
    "                self._s2l[solver_literal] = program_literal\n",
    "                init.add_watch(solver_literal)\n",
    "            loc = term.arguments[0].name\n",
    "\n",
    "            if loc == 'head':\n",
    "                self._lih.add(program_literal)\n",
    "                if assign not in self._a2l:\n",
    "                    self._a2l[assign] = program_literal\n",
    "                if init.assignment.is_true(solver_literal):\n",
    "                    for thread_id in range(init.number_of_threads):\n",
    "                        qrst = self._get_qrst(thread_id)\n",
    "                        qrst.evaluate(op, geoms, assign)\n",
    "            elif loc == 'body':\n",
    "                self._lib.add(program_literal)\n",
    "\n",
    "        for head_literal in self._lih:\n",
    "            for body_literal in self._lib:\n",
    "                if self._l2t[head_literal] == self._l2t[body_literal]:\n",
    "                    head_solver_literal = self._l2s[head_literal]\n",
    "                    body_solver_literal = self._l2s[body_literal]\n",
    "                    init.add_clause((head_solver_literal, -body_solver_literal))\n",
    "                    init.add_clause((-head_solver_literal, body_solver_literal))\n",
    "\n",
    "    def propagate(self, control: PropagateControl, changes: Sequence[int]) -> None:\n",
    "        for change in changes:\n",
    "            if change in self._s2l:\n",
    "                program_literal = self._s2l[change]\n",
    "                op, geoms, assign = self._l2t[program_literal]\n",
    "                qrst = self._get_qrst(control.thread_id)\n",
    "                qrst.evaluate(op, geoms, assign)\n",
    "        return\n",
    "\n",
    "    def undo(self, thread_id: int, assignment: Assignment, changes: Sequence[int]) -> None:\n",
    "        for change in changes:\n",
    "            if change in self._s2l:\n",
    "                program_literal = self._s2l[change]\n",
    "                op, geoms, assign = self._l2t[program_literal]\n",
    "                qrst = self._get_qrst(thread_id)\n",
    "                qrst.backtrack(assign)\n",
    "        return\n",
    "\n",
    "    def on_model(self, model: clingo.Model) -> Optional[bool]:\n",
    "        qrst = self._get_qrst(model.thread_id)\n",
    "        geometry_symbols = tuple(\n",
    "            clingo.Function('geometry', (clingo.String(geom_id), clingo.String(str(list(polygon.exterior.coords)))))\n",
    "            for geom_id, polygon in qrst.db.items())\n",
    "        assign_symbols = tuple(clingo.Function('assigned', (assign, clingo.String(geom_id))) for\n",
    "                               assign, geom_id in qrst.assignments.items())\n",
    "        model.extend(geometry_symbols)\n",
    "        model.extend(assign_symbols)\n",
    "        return\n",
    "\n",
    "\n",
    "\n"
   ],
   "metadata": {
    "collapsed": false,
    "pycharm": {
     "name": "#%%\n"
    }
   }
  },
  {
   "cell_type": "code",
   "execution_count": 9,
   "outputs": [],
   "source": [
    "\n",
    "@dataclass\n",
    "class QRST:\n",
    "    db: Dict[str, Polygon] = field(default_factory=dict)  # geom_id -> polygon\n",
    "    assignments: Dict[clingo.Symbol, str] = field(default_factory=dict)  # assign -> geom_id\n",
    "    _db_lock: ClassVar[Lock] = Lock()\n",
    "\n",
    "    def evaluate(self, operation: str, geoms: str, assign: clingo.Symbol) -> None:\n",
    "        geom_id: str = \"{}({})\".format(operation, ','.join(sorted(geoms)))\n",
    "        if geom_id not in self.db:\n",
    "            with QRST._db_lock:\n",
    "                if geom_id not in self.db:\n",
    "                    if operation == 'intersect':\n",
    "                        self.intersect(geom_id, geoms)\n",
    "                    elif operation == 'union':\n",
    "                        self.union(geom_id, geoms)\n",
    "\n",
    "        assert assign not in self.assignments or self.assignments[assign] == geom_id, \"Should not overwrite assignment.\"\n",
    "        self.assignments[assign] = geom_id\n",
    "\n",
    "    def backtrack(self, assign: clingo.Symbol):\n",
    "        #assert assign in self.assignments, \"clingo.Symbol {} should be in assignments\".format(assign)\n",
    "        if assign in self.assignments:\n",
    "            del self.assignments[assign]\n",
    "\n",
    "    def intersect(self, geom_id: str, geoms: Sequence[str]) -> None:\n",
    "        polys = list(self.db[geom] for geom in geoms)\n",
    "        new_poly = polys[0]\n",
    "        i = 1\n",
    "        while i < len(polys):\n",
    "            new_poly = new_poly.intersection(polys[i])\n",
    "            i += 1\n",
    "        self.db[geom_id] = new_poly\n",
    "\n",
    "    def union(self, geom_id: str, geoms: Sequence[str]) -> None:\n",
    "        polys = list(self.db[geom] for geom in geoms)\n",
    "        new_poly = polys[0]\n",
    "        i = 1\n",
    "        while i < len(polys):\n",
    "            new_poly = new_poly.union(polys[i])\n",
    "            i += 1\n",
    "        self.db[geom_id] = new_poly\n",
    "\n"
   ],
   "metadata": {
    "collapsed": false,
    "pycharm": {
     "name": "#%%\n"
    }
   }
  },
  {
   "cell_type": "code",
   "execution_count": 10,
   "outputs": [],
   "source": [
    "ctl = clingo.Control()\n",
    "ctl.configuration.solve.models = 0"
   ],
   "metadata": {
    "collapsed": false,
    "pycharm": {
     "name": "#%%\n"
    }
   }
  },
  {
   "cell_type": "code",
   "execution_count": 11,
   "outputs": [],
   "source": [
    "propagator = SpatialPropagator(db)\n",
    "transformer = SpatialTransformer()"
   ],
   "metadata": {
    "collapsed": false,
    "pycharm": {
     "name": "#%%\n"
    }
   }
  },
  {
   "cell_type": "code",
   "execution_count": 12,
   "outputs": [],
   "source": [
    "ctl.register_propagator(propagator)"
   ],
   "metadata": {
    "collapsed": false,
    "pycharm": {
     "name": "#%%\n"
    }
   }
  },
  {
   "cell_type": "code",
   "execution_count": 13,
   "outputs": [
    {
     "name": "stdout",
     "output_type": "stream",
     "text": [
      "\n",
      "#theory spatial {\n",
      "\tconstant  {};\n",
      "\tspatial_term {};\n",
      "\t&union/1 : spatial_term, {=}, constant, any;\n",
      "\t&intersect/1 : spatial_term, {=}, constant, any\n",
      "}.\n",
      "\n",
      "\n",
      "type(polygon).\n",
      "\n",
      "product(polygon, \"square1\").\n",
      "product(polygon, \"square2\").\n",
      "\n",
      "#program base.\n",
      "&intersect(head) { \"square1\"; \"square2\" } = intersect(polygon,\"intersect_1_2\") :- not &union(body) { \"square1\"; \"square2\" } = union(polygon,\"union_1_2\").\n",
      "&union(head) { \"square1\"; \"square2\" } = union(polygon,\"union_1_2\") :- not &intersect(body) { \"square1\"; \"square2\" } = intersect(polygon,\"intersect_1_2\").\n"
     ]
    }
   ],
   "source": [
    "ctl.add('base', [], theory)\n",
    "print(theory)\n",
    "ctl.add('base', [], data)\n",
    "print(data)\n",
    "stmts = []\n",
    "clingo.ast.parse_string(program, lambda stm: stmts.append(transformer.visit(stm)))\n",
    "with ProgramBuilder(ctl) as builder:\n",
    "    for stm in stmts:\n",
    "        print(stm)\n",
    "        builder.add(stm)"
   ],
   "metadata": {
    "collapsed": false,
    "pycharm": {
     "name": "#%%\n"
    }
   }
  },
  {
   "cell_type": "code",
   "execution_count": 14,
   "outputs": [],
   "source": [
    "ctl.ground([('base', ())])"
   ],
   "metadata": {
    "collapsed": false,
    "pycharm": {
     "name": "#%%\n"
    }
   }
  },
  {
   "cell_type": "code",
   "execution_count": 15,
   "outputs": [
    {
     "name": "stdout",
     "output_type": "stream",
     "text": [
      "Answer 1: {\n",
      "type(polygon)\n",
      "assigned(union(polygon,\"union_1_2\"),\"union(square1,square2)\")\n",
      "geometry(\"square1\",\"[(0.0, 0.0), (2.0, 0.0), (2.0, 2.0), (0.0, 2.0), (0.0, 0.0)]\")\n",
      "geometry(\"square2\",\"[(1.0, 1.0), (3.0, 1.0), (3.0, 3.0), (1.0, 3.0), (1.0, 1.0)]\")\n",
      "geometry(\"union(square1,square2)\",\"[(2.0, 0.0), (0.0, 0.0), (0.0, 2.0), (1.0, 2.0), (1.0, 3.0), (3.0, 3.0), (3.0, 1.0), (2.0, 1.0), (2.0, 0.0)]\")\n",
      "product(polygon,\"square1\")\n",
      "product(polygon,\"square2\")\n",
      "}\n",
      "Answer 2: {\n",
      "type(polygon)\n",
      "assigned(intersect(polygon,\"intersect_1_2\"),\"intersect(square1,square2)\")\n",
      "geometry(\"intersect(square1,square2)\",\"[(2.0, 2.0), (2.0, 1.0), (1.0, 1.0), (1.0, 2.0), (2.0, 2.0)]\")\n",
      "geometry(\"square1\",\"[(0.0, 0.0), (2.0, 0.0), (2.0, 2.0), (0.0, 2.0), (0.0, 0.0)]\")\n",
      "geometry(\"square2\",\"[(1.0, 1.0), (3.0, 1.0), (3.0, 3.0), (1.0, 3.0), (1.0, 1.0)]\")\n",
      "geometry(\"union(square1,square2)\",\"[(2.0, 0.0), (0.0, 0.0), (0.0, 2.0), (1.0, 2.0), (1.0, 3.0), (3.0, 3.0), (3.0, 1.0), (2.0, 1.0), (2.0, 0.0)]\")\n",
      "product(polygon,\"square1\")\n",
      "product(polygon,\"square2\")\n",
      "}\n",
      "SAT 2\n"
     ]
    }
   ],
   "source": [
    "with ctl.solve(yield_=True, on_model=propagator.on_model) as solve_handle:\n",
    "    models = []\n",
    "    for model in solve_handle:\n",
    "        symbols = sorted(model.symbols(shown=True, theory=True))\n",
    "        models.append(model)\n",
    "        print(\"Answer {}:\".format(model.number), end=' ')\n",
    "        print(\"{\",\n",
    "              '\\n'.join(map(str, symbols)), \"}\", sep='\\n')\n",
    "    solve_result = solve_handle.get()\n",
    "    print(solve_result, end='')\n",
    "    if models:\n",
    "        print(\" {}{}\".format(len(models), '' if solve_result.exhausted else '+'))"
   ],
   "metadata": {
    "collapsed": false,
    "pycharm": {
     "name": "#%%\n"
    }
   }
  },
  {
   "cell_type": "code",
   "execution_count": 16,
   "outputs": [
    {
     "name": "stdout",
     "output_type": "stream",
     "text": [
      "Literals -> (op, geoms, assign):\n",
      "{4: ('union', ['square1', 'square2'], Function('union', [Function('polygon', [], True), Function('\"union_1_2\"', [], True)], True)), 5: ('intersect', ['square1', 'square2'], Function('intersect', [Function('polygon', [], True), Function('\"intersect_1_2\"', [], True)], True)), 6: ('intersect', ['square1', 'square2'], Function('intersect', [Function('polygon', [], True), Function('\"intersect_1_2\"', [], True)], True)), 7: ('union', ['square1', 'square2'], Function('union', [Function('polygon', [], True), Function('\"union_1_2\"', [], True)], True))}\n",
      "Literals in head:\n",
      "{4, 6}\n",
      "Literals in body:\n",
      "{5, 7}\n",
      "Assign -> literal:\n",
      "{Function('union', [Function('polygon', [], True), Function('\"union_1_2\"', [], True)], True): 4, Function('intersect', [Function('polygon', [], True), Function('\"intersect_1_2\"', [], True)], True): 6}\n"
     ]
    }
   ],
   "source": [
    "print(\"Literals -> (op, geoms, assign):\")\n",
    "print(propagator._l2t)\n",
    "print(\"Literals in head:\")\n",
    "print(propagator._lih)\n",
    "print(\"Literals in body:\")\n",
    "print(propagator._lib)\n",
    "print(\"Assign -> literal:\")\n",
    "print(propagator._a2l)\n"
   ],
   "metadata": {
    "collapsed": false,
    "pycharm": {
     "name": "#%%\n"
    }
   }
  },
  {
   "cell_type": "code",
   "execution_count": 17,
   "outputs": [
    {
     "name": "stdout",
     "output_type": "stream",
     "text": [
      "QRST:\n",
      "[QRST(db={'square1': <shapely.geometry.polygon.Polygon object at 0x7f81bbed9f60>, 'square2': <shapely.geometry.polygon.Polygon object at 0x7f81bbed95d0>, 'union(square1,square2)': <shapely.geometry.polygon.Polygon object at 0x7f81bbf06410>, 'intersect(square1,square2)': <shapely.geometry.polygon.Polygon object at 0x7f81bbf066b0>}, assignments={})]\n"
     ]
    }
   ],
   "source": [
    "print(\"QRST:\")\n",
    "print(propagator._qrst)"
   ],
   "metadata": {
    "collapsed": false,
    "pycharm": {
     "name": "#%%\n"
    }
   }
  },
  {
   "cell_type": "code",
   "execution_count": 18,
   "outputs": [
    {
     "name": "stdout",
     "output_type": "stream",
     "text": [
      "square1=POLYGON ((0 0, 2 0, 2 2, 0 2, 0 0))\n",
      "square2=POLYGON ((1 1, 3 1, 3 3, 1 3, 1 1))\n",
      "union(square1,square2)=POLYGON ((2 0, 0 0, 0 2, 1 2, 1 3, 3 3, 3 1, 2 1, 2 0))\n",
      "intersect(square1,square2)=POLYGON ((2 2, 2 1, 1 1, 1 2, 2 2))\n"
     ]
    }
   ],
   "source": [
    "for geom_id, polygon in db.items():\n",
    "    print(\"{}={}\".format(geom_id, polygon))"
   ],
   "metadata": {
    "collapsed": false,
    "pycharm": {
     "name": "#%%\n"
    }
   }
  },
  {
   "cell_type": "code",
   "execution_count": 19,
   "outputs": [
    {
     "name": "stderr",
     "output_type": "stream",
     "text": [
      "/home/lukas/.local/share/miniconda/envs/asp-ideas/lib/python3.10/site-packages/descartes/patch.py:62: ShapelyDeprecationWarning: The array interface is deprecated and will no longer work in Shapely 2.0. Convert the '.coords' to a numpy array instead.\n",
      "  vertices = concatenate([\n"
     ]
    },
    {
     "data": {
      "text/plain": "<Figure size 432x288 with 1 Axes>",
      "image/png": "[encoded data removed]"
     },
     "metadata": {
      "needs_background": "light"
     },
     "output_type": "display_data"
    }
   ],
   "source": [
    "fig = plt.figure()\n",
    "ax = fig.add_subplot(111)\n",
    "\n",
    "ax.add_patch(descartes.PolygonPatch(db['square1'], fc='red', alpha=1 / 3))\n",
    "ax.add_patch(descartes.PolygonPatch(db['square2'], fc='blue', alpha=1 / 3))\n",
    "ax.plot(*db['union(square1,square2)'].exterior.xy, color='green')\n",
    "ax.plot(*db['intersect(square1,square2)'].exterior.xy, color='violet')\n",
    "\n",
    "ax.axis('equal')\n",
    "plt.show()"
   ],
   "metadata": {
    "collapsed": false,
    "pycharm": {
     "name": "#%%\n"
    }
   }
  },
  {
   "cell_type": "code",
   "execution_count": 19,
   "outputs": [],
   "source": [],
   "metadata": {
    "collapsed": false,
    "pycharm": {
     "name": "#%%\n"
    }
   }
  }
 ],
 "metadata": {
  "kernelspec": {
   "display_name": "Python 3",
   "language": "python",
   "name": "python3"
  },
  "language_info": {
   "codemirror_mode": {
    "name": "ipython",
    "version": 2
   },
   "file_extension": ".py",
   "mimetype": "text/x-python",
   "name": "python",
   "nbconvert_exporter": "python",
   "pygments_lexer": "ipython2",
   "version": "2.7.6"
  }
 },
 "nbformat": 4,
 "nbformat_minor": 0
}