{
 "cells": [
  {
   "cell_type": "code",
   "execution_count": 1,
   "id": "af92cc10",
   "metadata": {
    "pycharm": {
     "name": "#%%\n"
    }
   },
   "outputs": [],
   "source": [
    "from clingo.control import Control"
   ]
  },
  {
   "cell_type": "code",
   "execution_count": 2,
   "id": "4167e3f3",
   "metadata": {
    "pycharm": {
     "name": "#%%\n"
    }
   },
   "outputs": [],
   "source": [
    "def run(axioms):\n",
    "    evASP = Control(\"0\")\n",
    "    evASP.add(\"base\", [], axioms)\n",
    "\n",
    "    evASP.ground([(\"base\", [])])\n",
    "    \n",
    "    with evASP.solve(yield_=True) as handle:\n",
    "        #print(handle)\n",
    "        for m in handle: \n",
    "            print(\"Answer:\\n{}\\n\".format(m))\n",
    "            #print(m)"
   ]
  },
  {
   "cell_type": "markdown",
   "id": "6eb71692",
   "metadata": {
    "pycharm": {
     "name": "#%% md\n"
    }
   },
   "source": [
    "## FOL -Test"
   ]
  },
  {
   "cell_type": "code",
   "execution_count": 29,
   "id": "674078f7",
   "metadata": {
    "pycharm": {
     "name": "#%%\n"
    }
   },
   "outputs": [
    {
     "name": "stdout",
     "output_type": "stream",
     "text": [
      "Answer:\n",
      "inputformula(neg(or(a,b))) subformula(neg(or(a,b)),neg(or(a,b))) subformula(neg(or(a,b)),or(a,b)) subformula(neg(or(a,b)),b) subformula(neg(or(a,b)),a) -atom(neg(or(a,b))) -atom(or(a,b)) atom(b) atom(a) out(b) out(a) eval(b,0) eval(a,0) eval(or(a,b),0) eval(neg(or(a,b)),1) end(neg(or(a,b)),1)\n",
      "\n",
      "Answer:\n",
      "inputformula(neg(or(a,b))) subformula(neg(or(a,b)),neg(or(a,b))) subformula(neg(or(a,b)),or(a,b)) subformula(neg(or(a,b)),b) subformula(neg(or(a,b)),a) -atom(neg(or(a,b))) -atom(or(a,b)) atom(b) atom(a) in(b) out(a) eval(b,1) eval(a,0) eval(or(a,b),1) eval(neg(or(a,b)),0) end(neg(or(a,b)),0)\n",
      "\n",
      "Answer:\n",
      "inputformula(neg(or(a,b))) subformula(neg(or(a,b)),neg(or(a,b))) subformula(neg(or(a,b)),or(a,b)) subformula(neg(or(a,b)),b) subformula(neg(or(a,b)),a) -atom(neg(or(a,b))) -atom(or(a,b)) atom(b) atom(a) in(a) out(b) eval(a,1) eval(b,0) eval(or(a,b),1) eval(neg(or(a,b)),0) end(neg(or(a,b)),0)\n",
      "\n",
      "Answer:\n",
      "inputformula(neg(or(a,b))) subformula(neg(or(a,b)),neg(or(a,b))) subformula(neg(or(a,b)),or(a,b)) subformula(neg(or(a,b)),b) subformula(neg(or(a,b)),a) -atom(neg(or(a,b))) -atom(or(a,b)) atom(b) atom(a) in(b) in(a) eval(b,1) eval(a,1) eval(or(a,b),1) eval(neg(or(a,b)),0) end(neg(or(a,b)),0)\n",
      "\n"
     ]
    }
   ],
   "source": [
    "run(\"\"\"\n",
    "\n",
    "subformula(F,F) :- inputformula(F).\n",
    "subformula(F,G) :- subformula(F,neg(G)).\n",
    "subformula(F,G) :- subformula(F,and(G,_)).\n",
    "subformula(F,G) :- subformula(F,and(_,G)).\n",
    "subformula(F,G) :- subformula(F,or(G,_)).\n",
    "subformula(F,G) :- subformula(F,or(_,G)).\n",
    "\n",
    "-atom(F) :- subformula(_,F), F = neg(_).\n",
    "-atom(F) :- subformula(_,F), F = and(_,_).\n",
    "-atom(F) :- subformula(_,F), F = or(_,_).\n",
    "\n",
    "atom(F) :- subformula(_,F), not -atom(F).\n",
    "\n",
    "{in(F) : atom(F)}.\n",
    "out(F) :- atom(F), not in(F).\n",
    "\n",
    "% FO-Semantics\n",
    "\n",
    "eval(F,1) :- subformula(_,F), atom(F), in(F).\n",
    "eval(F,0) :- subformula(_,F), atom(F), not in(F).\n",
    "eval(F,1) :- subformula(_,F), F=and(G,H), eval(G,1), eval(H,1).\n",
    "eval(F,0) :- subformula(_,F), F=and(_,_), not eval(F,1).\n",
    "eval(F,1) :- subformula(_,F), F=or(_,_), not eval(F,0).\n",
    "eval(F,0) :- subformula(_,F), F=or(G,H), eval(G,0), eval(H,0).\n",
    "eval(F,1) :- subformula(_,F), F=neg(G), eval(G,0). \n",
    "eval(F,0) :- subformula(_,F), F=neg(_), not eval(F,1).\n",
    "\n",
    "end(F,Val) :- inputformula(F), eval(F,Val).\n",
    "\n",
    "\n",
    "% inputformula(and(or(a,b),and(neg(a),c))).\n",
    "\n",
    "inputformula(neg(or(a,b))).\n",
    "\n",
    "\"\"\")"
   ]
  },
  {
   "cell_type": "markdown",
   "id": "4a7653d5",
   "metadata": {
    "pycharm": {
     "name": "#%% md\n"
    }
   },
   "source": [
    "## ADF - Semantics"
   ]
  },
  {
   "cell_type": "code",
   "execution_count": 53,
   "id": "c7ff9a1d",
   "metadata": {
    "pycharm": {
     "name": "#%%\n"
    }
   },
   "outputs": [
    {
     "name": "stdout",
     "output_type": "stream",
     "text": [
      "Answer:\n",
      "in(a) in(d) out(b) out(c)\n",
      "\n",
      "Answer:\n",
      "in(a) in(b) in(c) out(d)\n",
      "\n"
     ]
    }
   ],
   "source": [
    "run(\"\"\"\n",
    "\n",
    "subformula(F,F) :- ac(_,F).\n",
    "subformula(F,G) :- subformula(F,neg(G)).\n",
    "subformula(F,G) :- subformula(F,and(G,_)).\n",
    "subformula(F,G) :- subformula(F,and(_,G)).\n",
    "subformula(F,G) :- subformula(F,or(G,_)).\n",
    "subformula(F,G) :- subformula(F,or(_,G)).\n",
    "\n",
    "-atom(F) :- subformula(_,F), F = neg(_).\n",
    "-atom(F) :- subformula(_,F), F = and(_,_).\n",
    "-atom(F) :- subformula(_,F), F = or(_,_).\n",
    "-atom(F) :- subformula(_,F), F = verum.\n",
    "-atom(F) :- subformula(_,F), F = falsum.\n",
    "atom(F) :- subformula(_,F), not -atom(F).\n",
    "\n",
    "eval(F,1) :- subformula(_,F), F = verum.\n",
    "eval(F,0) :- subformula(_,F), F = falsum.\n",
    "eval(F,1) :- subformula(_,F), atom(F), in(F).\n",
    "eval(F,0) :- subformula(_,F), atom(F), not in(F).\n",
    "eval(F,1) :- subformula(_,F), F=and(G,H), eval(G,1), eval(H,1).\n",
    "eval(F,0) :- subformula(_,F), F=and(_,_), not eval(F,1).\n",
    "eval(F,1) :- subformula(_,F), F=or(_,_), not eval(F,0).\n",
    "eval(F,0) :- subformula(_,F), F=or(G,H), eval(G,0), eval(H,0).\n",
    "eval(F,1) :- subformula(_,F), F=neg(G), eval(G,0). \n",
    "eval(F,0) :- subformula(_,F), F=neg(_), not eval(F,1).\n",
    "\n",
    "s(a). s(b). s(c). s(d).\n",
    "ac(a,verum). ac(b,b).\n",
    "ac(c,and(a,b)). ac(d,neg(b)).\n",
    "\n",
    "{in(F) : s(F)}.\n",
    "out(F) :- s(F), not in(F).\n",
    "\n",
    ":- in(S), ac(S,F), eval(F,0).\n",
    ":- out(S), ac(S,F), eval(F,1).\n",
    "\n",
    "#show in/1.\n",
    "#show out/1.\n",
    "\n",
    "\"\"\")"
   ]
  },
  {
   "cell_type": "markdown",
   "id": "e1ddcc57",
   "metadata": {
    "pycharm": {
     "name": "#%% md\n"
    }
   },
   "source": [
    "![title](img/adf-example.PNG)"
   ]
  },
  {
   "cell_type": "code",
   "execution_count": null,
   "id": "a765c531",
   "metadata": {
    "pycharm": {
     "name": "#%%\n"
    }
   },
   "outputs": [],
   "source": []
  }
 ],
 "metadata": {
  "kernelspec": {
   "display_name": "Python 3 (ipykernel)",
   "language": "python",
   "name": "python3"
  },
  "language_info": {
   "codemirror_mode": {
    "name": "ipython",
    "version": 3
   },
   "file_extension": ".py",
   "mimetype": "text/x-python",
   "name": "python",
   "nbconvert_exporter": "python",
   "pygments_lexer": "ipython3",
   "version": "3.10.2"
  }
 },
 "nbformat": 4,
 "nbformat_minor": 5
}