{
 "cells": [
  {
   "cell_type": "code",
   "execution_count": 1,
   "metadata": {
    "collapsed": true
   },
   "outputs": [],
   "source": [
    "import clingo\n",
    "from clingox.backend import SymbolicBackend"
   ]
  },
  {
   "cell_type": "code",
   "execution_count": 2,
   "outputs": [],
   "source": [
    "prg = \"\"\"\n",
    "\n",
    "#program base.\n",
    "\n",
    "time(1..3).\n",
    "\n",
    "observe(comp, verzug, 3) :- not occurs(a, fill, 1), not occurs(a, fill, 2).\n",
    "observe(comp, verzug, 3) :- occurs(a, fill, A), observe(p, displaced, B), A<B.\n",
    "\n",
    "observe(p, displaced, T+1) :- time(T+1), occurs(_, pickup, T).\n",
    "observe(p, displaced, T+1) :- time(T+1), observe(p, displaced, T).\n",
    "\n",
    "#program instance.\n",
    "\n",
    "occurs(c, pickup, 1).\n",
    "occurs(a, fill, 2).\n",
    "\n",
    "#program extract.\n",
    "\n",
    "happened(Who, What, When) :- occurs(Who, What, When).\n",
    "\n",
    "#program exploration.\n",
    "\n",
    "counted(Who, What, Count) :-\n",
    "    happened(Who, What, _),\n",
    "    Count = #count {T : happened(Who, What, T)}.\n",
    "\n",
    "1 { counterfactual(Who, What, C) : C=0..Count } 1 :- counted(Who, What, Count).\n",
    "factual(Who, What, Count-CounterFactuals) :- counted(Who, What, Count), counterfactual(Who, What, CounterFactuals).\n",
    "\n",
    "included(Who, What) :- factual(Who, What, N), N>0.\n",
    "excluded(Who, What) :- counterfactual(Who, What, N), N>0.\n",
    "\n",
    "Count { occurs(Who, What, T): time(T) } Count :- factual(Who, What, Count).\n",
    "\n",
    "#program exploration_fail.\n",
    "\n",
    ":- not observe(comp, verzug, 3).\n",
    "\n",
    "#program exploration_success.\n",
    "\n",
    ":- observe(comp, verzug, 3).\n",
    "\n",
    "\"\"\""
   ],
   "metadata": {
    "collapsed": false,
    "pycharm": {
     "name": "#%%\n"
    }
   }
  },
  {
   "cell_type": "code",
   "execution_count": 3,
   "outputs": [],
   "source": [
    "filter = \"\"\"\n",
    "\n",
    ":- occurs(Who, What, When), factual(Who, What, C).\n",
    ":- factual(Who, What, C), included(Who, What).\n",
    ":- counterfactual(Who, What, C), excluded(Who, What).\n",
    "\n",
    "\"\"\""
   ],
   "metadata": {
    "collapsed": false,
    "pycharm": {
     "name": "#%%\n"
    }
   }
  },
  {
   "cell_type": "code",
   "execution_count": 4,
   "outputs": [],
   "source": [
    "show_extracted = \"\"\"\n",
    "\n",
    "#show happened/3.\n",
    "\n",
    "\"\"\"\n",
    "show_relevant = \"\"\"\n",
    "\n",
    "#defined factual/3.\n",
    "#defined counterfactual/3.\n",
    "#defined excluded/2.\n",
    "#defined included/2.\n",
    "#defined observe/3.\n",
    "#defined occurs/3.\n",
    "\n",
    "#show factual/3.\n",
    "#show counterfactual/3.\n",
    "#show excluded/2.\n",
    "#show included/2.\n",
    "#show observe/3.\n",
    "#show occurs/3.\n",
    "\n",
    "\"\"\""
   ],
   "metadata": {
    "collapsed": false,
    "pycharm": {
     "name": "#%%\n"
    }
   }
  },
  {
   "cell_type": "code",
   "execution_count": 5,
   "outputs": [],
   "source": [
    "def solve(ctl: clingo.Control, atoms=False, shown=True, complement=False):\n",
    "    with ctl.solve(yield_=True) as handle:\n",
    "        result = handle.get()\n",
    "        last_model = handle.model()\n",
    "        while not result.exhausted:\n",
    "            last_model = handle.model()\n",
    "            handle.resume()\n",
    "            result = handle.get()\n",
    "        print(result)\n",
    "        answer_set = []\n",
    "        if result.satisfiable:\n",
    "            answer_set = last_model.symbols(atoms=atoms, shown=shown, complement=complement)\n",
    "        print(answer_set)\n",
    "    return answer_set"
   ],
   "metadata": {
    "collapsed": false,
    "pycharm": {
     "name": "#%%\n"
    }
   }
  },
  {
   "cell_type": "code",
   "execution_count": 6,
   "outputs": [],
   "source": [
    "def solve_all(ctl: clingo.Control):\n",
    "    with ctl.solve(yield_=True) as handle:\n",
    "        answer_sets = []\n",
    "        for m in handle:\n",
    "            symbols = m.symbols(shown=True)\n",
    "            print(\"Answer {}:\".format(m.number), \" \".join(map(str, sorted(symbols))))\n",
    "            answer_sets.append(symbols)\n",
    "        result = handle.get()\n",
    "        print(result)\n",
    "    return answer_sets\n"
   ],
   "metadata": {
    "collapsed": false,
    "pycharm": {
     "name": "#%%\n"
    }
   }
  },
  {
   "cell_type": "code",
   "execution_count": 7,
   "outputs": [
    {
     "name": "stdout",
     "output_type": "stream",
     "text": [
      "SAT\n",
      "[happened(c,pickup,1), happened(a,fill,2)]\n"
     ]
    }
   ],
   "source": [
    "extract = clingo.Control((\"--models\", \"0\"))\n",
    "extract.add(\"base\", [], prg)\n",
    "extract.add(\"base\", [], show_extracted)\n",
    "extract.ground([(\"base\", ()), (\"instance\", ()), (\"extract\", ())])\n",
    "extracted = solve(extract)"
   ],
   "metadata": {
    "collapsed": false,
    "pycharm": {
     "name": "#%%\n"
    }
   }
  },
  {
   "cell_type": "code",
   "execution_count": 8,
   "outputs": [
    {
     "name": "stdout",
     "output_type": "stream",
     "text": [
      "Necessary for success:\n",
      "SAT\n",
      "[counterfactual(a,fill,0), factual(a,fill,1), included(a,fill)]\n",
      "\n"
     ]
    },
    {
     "name": "stderr",
     "output_type": "stream",
     "text": [
      "<block>:12:1-18: info: no atoms over signature occur in program:\n",
      "  excluded/2\n",
      "\n",
      "<block>:13:1-18: info: no atoms over signature occur in program:\n",
      "  included/2\n",
      "\n",
      "<block>:11:1-24: info: no atoms over signature occur in program:\n",
      "  counterfactual/3\n",
      "\n",
      "<block>:10:1-17: info: no atoms over signature occur in program:\n",
      "  factual/3\n",
      "\n",
      "<block>:14:1-17: info: no atoms over signature occur in program:\n",
      "  observe/3\n",
      "\n",
      "<block>:15:1-16: info: no atoms over signature occur in program:\n",
      "  occurs/3\n",
      "\n"
     ]
    }
   ],
   "source": [
    "success = clingo.Control((\"--models\", \"0\", \"--enum-mode\", \"cautious\"))\n",
    "success.add(\"base\", [], prg)\n",
    "success.add(\"base\", [], show_relevant)\n",
    "with SymbolicBackend(success.backend()) as symb_backend:\n",
    "    for e in extracted:\n",
    "        symb_backend.add_rule((e,))\n",
    "\n",
    "success.ground([(\"base\", ()), (\"exploration\", ()), (\"exploration_success\", ())])\n",
    "print(\"Necessary for success:\")\n",
    "needed = solve(success)\n",
    "print()"
   ],
   "metadata": {
    "collapsed": false,
    "pycharm": {
     "name": "#%%\n"
    }
   }
  },
  {
   "cell_type": "code",
   "execution_count": 9,
   "outputs": [
    {
     "name": "stdout",
     "output_type": "stream",
     "text": [
      "Symptom of failure:\n",
      "SAT\n",
      "[counterfactual(a,fill,0), factual(a,fill,1), included(a,fill), observe(comp,verzug,3)]\n",
      "\n"
     ]
    },
    {
     "name": "stderr",
     "output_type": "stream",
     "text": [
      "<block>:12:1-18: info: no atoms over signature occur in program:\n",
      "  excluded/2\n",
      "\n",
      "<block>:13:1-18: info: no atoms over signature occur in program:\n",
      "  included/2\n",
      "\n",
      "<block>:11:1-24: info: no atoms over signature occur in program:\n",
      "  counterfactual/3\n",
      "\n",
      "<block>:10:1-17: info: no atoms over signature occur in program:\n",
      "  factual/3\n",
      "\n",
      "<block>:14:1-17: info: no atoms over signature occur in program:\n",
      "  observe/3\n",
      "\n",
      "<block>:15:1-16: info: no atoms over signature occur in program:\n",
      "  occurs/3\n",
      "\n"
     ]
    }
   ],
   "source": [
    "fail = clingo.Control((\"--models\", \"0\", \"--enum-mode\", \"cautious\"))\n",
    "fail.add(\"base\", (), prg)\n",
    "fail.add(\"base\", (), show_relevant)\n",
    "with SymbolicBackend(fail.backend()) as symb_backend:\n",
    "    for e in extracted:\n",
    "        symb_backend.add_rule(head=(e,))\n",
    "    for n in needed:\n",
    "        symb_backend.add_rule(neg_body=(n,))\n",
    "\n",
    "fail.ground([(\"base\", ()), (\"exploration\", ()), (\"exploration_fail\", ())])\n",
    "print(\"Symptom of failure:\")\n",
    "forbidden = solve(fail)\n",
    "print()"
   ],
   "metadata": {
    "collapsed": false,
    "pycharm": {
     "name": "#%%\n"
    }
   }
  },
  {
   "cell_type": "code",
   "execution_count": 10,
   "outputs": [
    {
     "name": "stdout",
     "output_type": "stream",
     "text": [
      "Suspected to cause failure:\n",
      "SAT\n",
      "[counterfactual(a,fill,1), factual(a,fill,0), observe(comp,verzug,3), observe(p,displaced,2), observe(p,displaced,3), occurs(a,fill,3), occurs(c,pickup,1), occurs(c,pickup,2), excluded(a,fill)]\n",
      "\n"
     ]
    },
    {
     "name": "stderr",
     "output_type": "stream",
     "text": [
      "<block>:55:1-18: info: no atoms over signature occur in program:\n",
      "  excluded/2\n",
      "\n",
      "<block>:56:1-18: info: no atoms over signature occur in program:\n",
      "  included/2\n",
      "\n",
      "<block>:54:1-24: info: no atoms over signature occur in program:\n",
      "  counterfactual/3\n",
      "\n",
      "<block>:53:1-17: info: no atoms over signature occur in program:\n",
      "  factual/3\n",
      "\n",
      "<block>:57:1-17: info: no atoms over signature occur in program:\n",
      "  observe/3\n",
      "\n",
      "<block>:58:1-16: info: no atoms over signature occur in program:\n",
      "  occurs/3\n",
      "\n"
     ]
    }
   ],
   "source": [
    "suspect = clingo.Control((\"--models\", \"0\", \"--enum-mode\", \"brave\"))\n",
    "suspect.add(\"base\", (), prg + show_relevant)\n",
    "with SymbolicBackend(suspect.backend()) as symb_backend:\n",
    "    for e in extracted:\n",
    "        symb_backend.add_rule(head=(e,))\n",
    "    for n in needed:\n",
    "        symb_backend.add_rule(neg_body=(n,))\n",
    "    for f in forbidden:\n",
    "        if f not in needed:\n",
    "            symb_backend.add_rule(pos_body=(f,))\n",
    "\n",
    "suspect.ground([(\"base\", ()), (\"exploration\", ()), (\"exploration_success\", ())])\n",
    "print(\"Suspected to cause failure:\")\n",
    "suspected = solve(suspect, complement=True)\n",
    "print()"
   ],
   "metadata": {
    "collapsed": false,
    "pycharm": {
     "name": "#%%\n"
    }
   }
  },
  {
   "cell_type": "code",
   "execution_count": 11,
   "outputs": [
    {
     "data": {
      "text/plain": "(Function('occurs', [Function('a', [], True), Function('fill', [], True), Number(3)], True),\n Function('occurs', [Function('c', [], True), Function('pickup', [], True), Number(1)], True),\n Function('occurs', [Function('c', [], True), Function('pickup', [], True), Number(2)], True))"
     },
     "execution_count": 11,
     "metadata": {},
     "output_type": "execute_result"
    }
   ],
   "source": [
    "suspected = tuple(s for s in suspected if s.match('occurs',3) and s not in forbidden)\n",
    "suspected"
   ],
   "metadata": {
    "collapsed": false,
    "pycharm": {
     "name": "#%%\n"
    }
   }
  },
  {
   "cell_type": "code",
   "execution_count": 12,
   "outputs": [
    {
     "name": "stdout",
     "output_type": "stream",
     "text": [
      "Answer 1: \n",
      "Answer 2: occurs(c,pickup,1)\n",
      "Answer 3: occurs(c,pickup,2)\n",
      "Answer 4: occurs(c,pickup,1) occurs(c,pickup,2)\n",
      "Answer 5: occurs(a,fill,3)\n",
      "Answer 6: occurs(a,fill,3) occurs(c,pickup,2)\n",
      "Answer 7: occurs(a,fill,3) occurs(c,pickup,1)\n",
      "Answer 8: occurs(a,fill,3) occurs(c,pickup,1) occurs(c,pickup,2)\n",
      "SAT\n"
     ]
    }
   ],
   "source": [
    "suspicion = clingo.Control((\"--models\", \"0\"))\n",
    "#suspicion.add(\"base\", (), filter)\n",
    "with SymbolicBackend(suspicion.backend()) as symb_backend:\n",
    "    symb_backend.add_rule(suspected, choice=True)\n",
    "suspicion.ground([(\"base\",())])\n",
    "suspicions = solve_all(suspicion)"
   ],
   "metadata": {
    "collapsed": false,
    "pycharm": {
     "name": "#%%\n"
    }
   }
  },
  {
   "cell_type": "code",
   "execution_count": 13,
   "outputs": [
    {
     "name": "stdout",
     "output_type": "stream",
     "text": [
      "Suspicion: []\n",
      "Answer 1: excluded(c,pickup) included(a,fill) counterfactual(a,fill,0) counterfactual(c,pickup,1) factual(a,fill,1) factual(c,pickup,0) occurs(a,fill,2)\n",
      "Answer 2: included(a,fill) included(c,pickup) counterfactual(a,fill,0) counterfactual(c,pickup,0) factual(a,fill,1) factual(c,pickup,1) occurs(a,fill,2) occurs(c,pickup,3)\n",
      "Answer 3: excluded(c,pickup) included(a,fill) counterfactual(a,fill,0) counterfactual(c,pickup,1) factual(a,fill,1) factual(c,pickup,0) occurs(a,fill,1)\n",
      "Answer 4: included(a,fill) included(c,pickup) counterfactual(a,fill,0) counterfactual(c,pickup,0) factual(a,fill,1) factual(c,pickup,1) occurs(a,fill,1) occurs(c,pickup,3)\n",
      "SAT\n",
      "Suspicion: [occurs(c,pickup,1)]\n",
      "UNSAT\n",
      "Suspicion: [occurs(c,pickup,2)]\n",
      "UNSAT\n",
      "Suspicion: [occurs(c,pickup,1), occurs(c,pickup,2)]\n",
      "UNSAT\n",
      "Suspicion: [occurs(a,fill,3)]\n",
      "UNSAT\n",
      "Suspicion: [occurs(a,fill,3), occurs(c,pickup,2)]\n",
      "UNSAT\n",
      "Suspicion: [occurs(a,fill,3), occurs(c,pickup,1)]\n",
      "UNSAT\n",
      "Suspicion: [occurs(a,fill,3), occurs(c,pickup,1), occurs(c,pickup,2)]\n",
      "UNSAT\n"
     ]
    },
    {
     "name": "stderr",
     "output_type": "stream",
     "text": [
      "<block>:12:1-18: info: no atoms over signature occur in program:\n",
      "  excluded/2\n",
      "\n",
      "<block>:13:1-18: info: no atoms over signature occur in program:\n",
      "  included/2\n",
      "\n",
      "<block>:11:1-24: info: no atoms over signature occur in program:\n",
      "  counterfactual/3\n",
      "\n",
      "<block>:10:1-17: info: no atoms over signature occur in program:\n",
      "  factual/3\n",
      "\n",
      "<block>:14:1-17: info: no atoms over signature occur in program:\n",
      "  observe/3\n",
      "\n",
      "<block>:15:1-16: info: no atoms over signature occur in program:\n",
      "  occurs/3\n",
      "\n",
      "<block>:12:1-18: info: no atoms over signature occur in program:\n",
      "  excluded/2\n",
      "\n",
      "<block>:13:1-18: info: no atoms over signature occur in program:\n",
      "  included/2\n",
      "\n",
      "<block>:11:1-24: info: no atoms over signature occur in program:\n",
      "  counterfactual/3\n",
      "\n",
      "<block>:10:1-17: info: no atoms over signature occur in program:\n",
      "  factual/3\n",
      "\n",
      "<block>:14:1-17: info: no atoms over signature occur in program:\n",
      "  observe/3\n",
      "\n",
      "<block>:15:1-16: info: no atoms over signature occur in program:\n",
      "  occurs/3\n",
      "\n",
      "<block>:12:1-18: info: no atoms over signature occur in program:\n",
      "  excluded/2\n",
      "\n",
      "<block>:13:1-18: info: no atoms over signature occur in program:\n",
      "  included/2\n",
      "\n",
      "<block>:11:1-24: info: no atoms over signature occur in program:\n",
      "  counterfactual/3\n",
      "\n",
      "<block>:10:1-17: info: no atoms over signature occur in program:\n",
      "  factual/3\n",
      "\n",
      "<block>:14:1-17: info: no atoms over signature occur in program:\n",
      "  observe/3\n",
      "\n",
      "<block>:15:1-16: info: no atoms over signature occur in program:\n",
      "  occurs/3\n",
      "\n",
      "<block>:12:1-18: info: no atoms over signature occur in program:\n",
      "  excluded/2\n",
      "\n",
      "<block>:13:1-18: info: no atoms over signature occur in program:\n",
      "  included/2\n",
      "\n",
      "<block>:11:1-24: info: no atoms over signature occur in program:\n",
      "  counterfactual/3\n",
      "\n",
      "<block>:10:1-17: info: no atoms over signature occur in program:\n",
      "  factual/3\n",
      "\n",
      "<block>:14:1-17: info: no atoms over signature occur in program:\n",
      "  observe/3\n",
      "\n",
      "<block>:15:1-16: info: no atoms over signature occur in program:\n",
      "  occurs/3\n",
      "\n",
      "<block>:12:1-18: info: no atoms over signature occur in program:\n",
      "  excluded/2\n",
      "\n",
      "<block>:13:1-18: info: no atoms over signature occur in program:\n",
      "  included/2\n",
      "\n",
      "<block>:11:1-24: info: no atoms over signature occur in program:\n",
      "  counterfactual/3\n",
      "\n",
      "<block>:10:1-17: info: no atoms over signature occur in program:\n",
      "  factual/3\n",
      "\n",
      "<block>:14:1-17: info: no atoms over signature occur in program:\n",
      "  observe/3\n",
      "\n",
      "<block>:15:1-16: info: no atoms over signature occur in program:\n",
      "  occurs/3\n",
      "\n",
      "<block>:12:1-18: info: no atoms over signature occur in program:\n",
      "  excluded/2\n",
      "\n",
      "<block>:13:1-18: info: no atoms over signature occur in program:\n",
      "  included/2\n",
      "\n",
      "<block>:11:1-24: info: no atoms over signature occur in program:\n",
      "  counterfactual/3\n",
      "\n",
      "<block>:10:1-17: info: no atoms over signature occur in program:\n",
      "  factual/3\n",
      "\n",
      "<block>:14:1-17: info: no atoms over signature occur in program:\n",
      "  observe/3\n",
      "\n",
      "<block>:15:1-16: info: no atoms over signature occur in program:\n",
      "  occurs/3\n",
      "\n",
      "<block>:12:1-18: info: no atoms over signature occur in program:\n",
      "  excluded/2\n",
      "\n",
      "<block>:13:1-18: info: no atoms over signature occur in program:\n",
      "  included/2\n",
      "\n",
      "<block>:11:1-24: info: no atoms over signature occur in program:\n",
      "  counterfactual/3\n",
      "\n",
      "<block>:10:1-17: info: no atoms over signature occur in program:\n",
      "  factual/3\n",
      "\n",
      "<block>:14:1-17: info: no atoms over signature occur in program:\n",
      "  observe/3\n",
      "\n",
      "<block>:15:1-16: info: no atoms over signature occur in program:\n",
      "  occurs/3\n",
      "\n",
      "<block>:12:1-18: info: no atoms over signature occur in program:\n",
      "  excluded/2\n",
      "\n",
      "<block>:13:1-18: info: no atoms over signature occur in program:\n",
      "  included/2\n",
      "\n",
      "<block>:11:1-24: info: no atoms over signature occur in program:\n",
      "  counterfactual/3\n",
      "\n",
      "<block>:10:1-17: info: no atoms over signature occur in program:\n",
      "  factual/3\n",
      "\n",
      "<block>:14:1-17: info: no atoms over signature occur in program:\n",
      "  observe/3\n",
      "\n",
      "<block>:15:1-16: info: no atoms over signature occur in program:\n",
      "  occurs/3\n",
      "\n"
     ]
    }
   ],
   "source": [
    "for sus in suspicions:\n",
    "    indication = clingo.Control((\"--models\", \"0\"))\n",
    "    indication.add(\"base\", (), prg)\n",
    "    indication.add(\"base\", (), show_relevant)\n",
    "\n",
    "    with SymbolicBackend(indication.backend()) as symb_backend:\n",
    "        for e in extracted:\n",
    "            symb_backend.add_rule(head=(e,))\n",
    "        for n in needed:\n",
    "            symb_backend.add_rule(neg_body=(n,))\n",
    "        for f in forbidden:\n",
    "            if f not in needed:\n",
    "                symb_backend.add_rule(pos_body=(f,))\n",
    "        for s in sus:\n",
    "            symb_backend.add_rule(neg_body=(s,))\n",
    "    indication.ground([(\"base\", ()), (\"exploration\", ()), (\"exploration_success\", ())])\n",
    "    print(\"Suspicion:\", sus)\n",
    "    strong_suspected = solve_all(indication)"
   ],
   "metadata": {
    "collapsed": false,
    "pycharm": {
     "name": "#%%\n"
    }
   }
  },
  {
   "cell_type": "code",
   "execution_count": 13,
   "outputs": [],
   "source": [],
   "metadata": {
    "collapsed": false,
    "pycharm": {
     "name": "#%%\n"
    }
   }
  }
 ],
 "metadata": {
  "kernelspec": {
   "display_name": "Python 3",
   "language": "python",
   "name": "python3"
  },
  "language_info": {
   "codemirror_mode": {
    "name": "ipython",
    "version": 2
   },
   "file_extension": ".py",
   "mimetype": "text/x-python",
   "name": "python",
   "nbconvert_exporter": "python",
   "pygments_lexer": "ipython2",
   "version": "2.7.6"
  }
 },
 "nbformat": 4,
 "nbformat_minor": 0
}