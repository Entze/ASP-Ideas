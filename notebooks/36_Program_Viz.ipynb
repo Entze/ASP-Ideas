{
 "cells": [
  {
   "cell_type": "code",
   "execution_count": 655,
   "metadata": {
    "collapsed": true
   },
   "outputs": [],
   "source": [
    "import copy\n",
    "from dataclasses import dataclass, field\n",
    "from enum import IntEnum\n",
    "from typing import TypeVar, Union, Sequence, Optional, Dict, Tuple, Mapping, MutableMapping, MutableSequence, List\n",
    "\n",
    "import clingo\n",
    "import clingo.ast\n",
    "import clingraph\n",
    "from clingraph.graphviz import compute_graphs\n",
    "from clingraph.orm import Factbase"
   ]
  },
  {
   "cell_type": "code",
   "execution_count": 656,
   "outputs": [],
   "source": [
    "ForwardVariable = TypeVar('ForwardVariable', bound='Variable')\n",
    "\n",
    "\n",
    "@dataclass(frozen=True, order=True)\n",
    "class Variable:\n",
    "    name: str\n",
    "\n",
    "    def __str__(self):\n",
    "        return self.name\n",
    "\n",
    "    def as_clingo_ast(self, start_pos: Optional[clingo.ast.Position] = None) -> clingo.ast.AST:\n",
    "        if start_pos is None:\n",
    "            start_pos = clingo.ast.Position('<string>', 1, 1)\n",
    "        end_pos = clingo.ast.Position(start_pos.filename, start_pos.line, start_pos.column + len(self.name))\n",
    "        loc = clingo.ast.Location(start_pos, end_pos)\n",
    "        return clingo.ast.Variable(loc, self.name)\n",
    "\n",
    "    @staticmethod\n",
    "    def from_clingo_ast(variable: clingo.ast.AST) -> ForwardVariable:\n",
    "        assert variable.ast_type is clingo.ast.ASTType.Variable, \"AST {} should have type {}, but has type {}.\".format(\n",
    "            variable, clingo.ast.ASTType.Variable, variable.ast_type)\n",
    "        return Variable(variable.name)\n",
    "\n",
    "\n",
    "ForwardIntegerConstant = TypeVar('ForwardIntegerConstant', bound='IntegerConstant')\n",
    "\n",
    "\n",
    "@dataclass(frozen=True, order=True)\n",
    "class IntegerConstant:\n",
    "    number: int = 0\n",
    "\n",
    "    def __str__(self):\n",
    "        return str(self.number)\n",
    "\n",
    "    def as_clingo_symbol(self):\n",
    "        return clingo.Number(self.number)\n",
    "\n",
    "    @staticmethod\n",
    "    def from_clingo_symbol(symbol: clingo.Symbol):\n",
    "        assert symbol.type is clingo.SymbolType.Number, \"clingo.Symbol {} should have type {}, but has type {}\".format(\n",
    "            symbol, clingo.SymbolType.Number, symbol.type)\n",
    "        return IntegerConstant(symbol.number)\n",
    "\n",
    "\n",
    "ForwardTerm = TypeVar('ForwardTerm', bound='Term')\n",
    "\n",
    "\n",
    "@dataclass(frozen=True, order=True)\n",
    "class Term:\n",
    "    constant: IntegerConstant = field(default=IntegerConstant())\n",
    "\n",
    "    def __str__(self):\n",
    "        return str(self.constant)\n",
    "\n",
    "    def as_clingo_ast(self, start_pos: Optional[clingo.ast.Position] = None) -> clingo.ast.AST:\n",
    "        if start_pos is None:\n",
    "            start_pos = clingo.ast.Position('<string>', 1, 1)\n",
    "        end_pos = clingo.ast.Position(start_pos.filename, start_pos.line, start_pos.column + len(str(self)))\n",
    "        loc = clingo.ast.Location(start_pos, end_pos)\n",
    "        return clingo.ast.SymbolicTerm(loc, self.constant.as_clingo_symbol())\n",
    "\n",
    "    @staticmethod\n",
    "    def from_clingo_ast(term: clingo.ast.AST) -> ForwardTerm:\n",
    "        assert term.ast_type is clingo.ast.ASTType.SymbolicTerm, \"AST {} should have type {}, but has type {}.\".format(\n",
    "            term, clingo.ast.ASTType.SymbolicTerm, term.ast_type)\n",
    "        symbol: clingo.Symbol = term.symbol\n",
    "        if symbol.type is clingo.SymbolType.Number:\n",
    "            return Term(IntegerConstant.from_clingo_symbol(symbol))\n",
    "        assert False\n"
   ],
   "metadata": {
    "collapsed": false,
    "pycharm": {
     "name": "#%%\n"
    }
   }
  },
  {
   "cell_type": "code",
   "execution_count": 657,
   "outputs": [],
   "source": [
    "ForwardAtom = TypeVar('ForwardAtom', bound='Atom')\n",
    "ForwardFunction = TypeVar('ForwardFunction', bound='Function')\n",
    "\n",
    "\n",
    "@dataclass\n",
    "class Function:\n",
    "    name: Optional[str] = None\n",
    "    arguments: Sequence[ForwardAtom] = ()\n",
    "\n",
    "    @property\n",
    "    def arity(self):\n",
    "        return len(self.arguments)\n",
    "\n",
    "    def __str__(self):\n",
    "        if self.name is None and not self.arguments:\n",
    "            return \"()\"\n",
    "        elif self.name is not None and not self.arguments:\n",
    "            return self.name\n",
    "        elif self.name is None and self.arguments:\n",
    "            return \"({})\".format(','.join(map(str, self.arguments)))\n",
    "        else:\n",
    "            return \"{}({})\".format(self.name, ','.join(map(str, self.arguments)))\n",
    "\n",
    "    def match(self, name: Optional[str], arity: int = 0) -> bool:\n",
    "        return name == self.name and arity == len(self.arguments)\n",
    "\n",
    "    def match_signature(self, other: ForwardFunction) -> bool:\n",
    "        return self.match(other.name, other.arity)\n",
    "\n",
    "    def recursive_rename(self, new_name: Optional[str]) -> ForwardFunction:\n",
    "        stack: List[Function] = [self]\n",
    "        while stack:\n",
    "            current: Function = stack.pop()\n",
    "            if current.match(self.name, self.arity):\n",
    "                current.name = new_name\n",
    "            for arg in current.arguments:\n",
    "                if arg.is_function():\n",
    "                    stack.append(arg.symbol)\n",
    "        return self"
   ],
   "metadata": {
    "collapsed": false,
    "pycharm": {
     "name": "#%%\n"
    }
   }
  },
  {
   "cell_type": "code",
   "execution_count": 658,
   "outputs": [],
   "source": [
    "@dataclass\n",
    "class Atom:\n",
    "    symbol: Union[Variable, Term, Function] = field(default_factory=Function)\n",
    "\n",
    "    def is_variable(self) -> bool:\n",
    "        return isinstance(self.symbol, Variable)\n",
    "\n",
    "    def is_term(self) -> bool:\n",
    "        return isinstance(self.symbol, Term)\n",
    "\n",
    "    def is_function(self) -> bool:\n",
    "        return isinstance(self.symbol, Function)\n",
    "\n",
    "    def __str__(self):\n",
    "        return str(self.symbol)\n",
    "\n",
    "    def fill(self, env: Mapping[Variable, ForwardAtom]) -> ForwardAtom:\n",
    "        stack: List[Atom] = [self]\n",
    "        while stack:\n",
    "            current: Atom = stack.pop()\n",
    "            if current.is_function():\n",
    "                arguments = list(current.symbol.arguments)\n",
    "                i = 0\n",
    "                while i < current.symbol.arity:\n",
    "                    arg: Atom = arguments[i]\n",
    "                    if arg.is_variable() and arg in env:\n",
    "                        arguments[i] = env[arg.symbol]\n",
    "                    else:\n",
    "                        stack.append(arg)\n",
    "                    i += 1\n",
    "                assert len(current.symbol.arguments) == len(\n",
    "                    arguments), \"Function.fill should not change arity of Function.\"\n",
    "                current.symbol.arguments = arguments\n",
    "        return self\n",
    "\n",
    "    @staticmethod\n",
    "    def new_integer(number: int) -> ForwardAtom:\n",
    "        return Atom(Term(IntegerConstant(number)))\n",
    "\n",
    "    @staticmethod\n",
    "    def new_variable(name: str) -> ForwardAtom:\n",
    "        return Atom(Variable(name))\n",
    "\n",
    "    @staticmethod\n",
    "    def new_function(name: Optional[str], arguments: Sequence[ForwardAtom] = ()) -> ForwardAtom:\n",
    "        return Atom(Function(name, arguments))\n",
    "\n",
    "    @staticmethod\n",
    "    def new_constant(name: Optional[str]) -> ForwardAtom:\n",
    "        return Atom.new_function(name)\n",
    "\n",
    "    @staticmethod\n",
    "    def new_tuple(arguments: Sequence[ForwardAtom]) -> ForwardAtom:\n",
    "        return Atom.new_function(None, arguments)\n",
    "\n",
    "    @staticmethod\n",
    "    def from_clingo_number(num: clingo.Symbol) -> ForwardAtom:\n",
    "        assert num.type is clingo.SymbolType.Number, \"clingo.Symbol {} should have type {} but has type {}.\".format(\n",
    "            num, clingo.SymbolType.Number.name, num.type.name)\n",
    "        number: int = num.number\n",
    "        return Atom.new_integer(number)\n",
    "\n",
    "    @staticmethod\n",
    "    def from_clingo_function(func: clingo.Symbol) -> ForwardAtom:\n",
    "        assert func.type is clingo.SymbolType.Function, \"clingo.Symbol {} should have type {} but has type {}.\".format(\n",
    "            func, clingo.SymbolType.Function.name, func.type.name)\n",
    "        name: str = func.name\n",
    "        arguments: Tuple[ForwardAtom] = tuple(Atom.from_clingo_symbol(argument) for argument in func.arguments)\n",
    "        return Atom.new_function(name, arguments)\n",
    "\n",
    "    @staticmethod\n",
    "    def from_clingo_symbol(symbol: clingo.Symbol) -> ForwardAtom:\n",
    "        if symbol.type is clingo.SymbolType.Function:\n",
    "            return Atom.from_clingo_function(symbol)\n",
    "        elif symbol.type is clingo.SymbolType.Number:\n",
    "            return Atom.from_clingo_number(symbol)"
   ],
   "metadata": {
    "collapsed": false,
    "pycharm": {
     "name": "#%%\n"
    }
   }
  },
  {
   "cell_type": "code",
   "execution_count": 659,
   "outputs": [],
   "source": [
    "class Sign(IntEnum):\n",
    "    NoSign = 0\n",
    "    DefaultNeg = 1\n",
    "\n",
    "\n",
    "@dataclass\n",
    "class Literal:\n",
    "    atom: Atom = field(default_factory=Atom)\n",
    "    sign: Sign = Sign.NoSign\n",
    "\n",
    "    def __str__(self):\n",
    "        if self.sign is Sign.DefaultNeg:\n",
    "            return \"not {}\".format(self.atom)\n",
    "        return str(self.atom)\n",
    "\n",
    "    def __abs__(self):\n",
    "        return Literal(sign=Sign.NoSign, atom=copy.deepcopy(self.atom))\n",
    "\n",
    "    def __neg__(self):\n",
    "        return Literal(sign=Sign(self.sign.value ^ 1), atom=copy.deepcopy(self.atom))"
   ],
   "metadata": {
    "collapsed": false,
    "pycharm": {
     "name": "#%%\n"
    }
   }
  },
  {
   "cell_type": "code",
   "execution_count": 660,
   "outputs": [],
   "source": [
    "ForwardRule = TypeVar('ForwardRule', bound='Rule')\n",
    "\n",
    "\n",
    "@dataclass\n",
    "class Rule:\n",
    "    head: Optional[Literal] = None\n",
    "    body: MutableSequence[Literal] = ()\n",
    "\n",
    "    def __str__(self) -> str:\n",
    "        if self.head is None and not self.body:\n",
    "            return \":-.\"\n",
    "        elif self.head is None:\n",
    "            return \":- {}.\".format(', '.join(map(str, self.body)))\n",
    "        elif not self.body:\n",
    "            return \"{}.\".format(self.head)\n",
    "        else:\n",
    "            return \"{} :- {}.\".format(self.head, ', '.join(map(str, self.body)))\n",
    "\n",
    "    def is_ground(self) -> bool:\n",
    "        pass\n",
    "\n",
    "    def substitute(self, env: Mapping[Variable, Atom]) -> ForwardRule:\n",
    "        if self.head is not None and self.head.atom.is_function():\n",
    "            self.head.atom.fill(env)\n",
    "        for literal in self.body:\n",
    "            if literal.atom.is_function():\n",
    "                literal.atom.fill(env)\n",
    "        return self\n",
    "\n",
    "    def rename_atoms(self, new_name: Optional[str], name: Optional[str], arity: int = 0, head=True,\n",
    "                     body=True) -> ForwardRule:\n",
    "        if head:\n",
    "            if self.head.atom.is_function() and self.head.atom.symbol.match(name, arity):\n",
    "                self.head.atom.symbol.recursive_rename(new_name)\n",
    "        if body:\n",
    "            for literal in self.body:\n",
    "                if literal.atom.is_function() and literal.atom.symbol.match(name, arity):\n",
    "                    literal.atom.symbol.recursive_rename(new_name)\n",
    "        return self\n",
    "\n",
    "    def postulate(self) -> ForwardRule:\n",
    "        self.body.clear()\n",
    "        return self\n",
    "\n",
    "    def as_clingo_ast(self) -> clingo.ast.AST:\n",
    "        pass"
   ],
   "metadata": {
    "collapsed": false,
    "pycharm": {
     "name": "#%%\n"
    }
   }
  },
  {
   "cell_type": "code",
   "execution_count": 661,
   "outputs": [],
   "source": [
    "ForwardGoal = TypeVar('ForwardGoal', bound='Goal')\n",
    "\n",
    "\n",
    "@dataclass\n",
    "class Goal:\n",
    "    rule: Optional[Rule] = None\n",
    "    parent: Optional[ForwardGoal] = field(default=None, repr=False)\n",
    "    children: Sequence[ForwardGoal] = field(default_factory=list, repr=False)\n",
    "    env: Dict[Variable, Term] = field(default_factory=dict)\n",
    "    inx: int = field(default=0, repr=False)\n",
    "\n",
    "\n",
    "ProofTree = Goal"
   ],
   "metadata": {
    "collapsed": false,
    "pycharm": {
     "name": "#%%\n"
    }
   }
  },
  {
   "cell_type": "code",
   "execution_count": 662,
   "outputs": [],
   "source": [
    "def unify(src_atom: Atom, src_env: Mapping[Variable, Atom], dest_atom: Atom,\n",
    "          dest_env: Optional[MutableMapping[Variable, Atom]] = None) -> bool:\n",
    "    src_symbol = src_atom.symbol\n",
    "    dest_symbol = dest_atom.symbol\n",
    "    if not isinstance(src_symbol, Function):\n",
    "        return False\n",
    "    if not isinstance(dest_symbol, Function):\n",
    "        return False\n",
    "    if not src_symbol.match_signature(dest_symbol):\n",
    "        return False\n",
    "    if dest_env is None:\n",
    "        dest_env = {}\n",
    "    for i in range(src_symbol.arity):\n",
    "        src_arg: Atom = src_symbol.arguments[i]\n",
    "        dest_arg: Atom = dest_symbol.arguments[i]\n",
    "        if isinstance(src_arg.symbol, Variable):\n",
    "            src_val = src_env.get(src_arg.symbol)\n",
    "        else:\n",
    "            src_val = src_arg\n",
    "        if src_val is not None:\n",
    "            if isinstance(dest_arg.symbol, Variable):\n",
    "                dest_val = dest_env.get(dest_arg.symbol)\n",
    "                if dest_val is None:\n",
    "                    dest_env[dest_arg.symbol] = src_val\n",
    "                elif dest_val != src_val:\n",
    "                    return False\n",
    "            elif dest_arg != src_val:\n",
    "                return False\n",
    "    return True"
   ],
   "metadata": {
    "collapsed": false,
    "pycharm": {
     "name": "#%%\n"
    }
   }
  },
  {
   "cell_type": "code",
   "execution_count": 663,
   "outputs": [],
   "source": [
    "def search(atom: Atom, rules: Sequence[Rule] = ()) -> Sequence[ProofTree]:\n",
    "    root = Goal(rule=Rule(head=Literal(), body=[Literal(atom=atom)]))\n",
    "    proof_trees = []\n",
    "    stack = [root]\n",
    "    while stack:\n",
    "        current = stack.pop()\n",
    "        if current.inx >= len(current.rule.body):\n",
    "            if current.parent is None:\n",
    "                if current.env:\n",
    "                    print(current.env)\n",
    "                else:\n",
    "                    print(\"Yes\")\n",
    "                proof_trees.append(current)\n",
    "            else:\n",
    "                parent = copy.deepcopy(current.parent)\n",
    "                unify(current.rule.head.atom, current.env, parent.rule.body[parent.inx].atom, parent.env)\n",
    "                parent.inx += 1\n",
    "                stack.append(parent)\n",
    "        else:\n",
    "            atom = current.rule.body[current.inx].atom\n",
    "            for rule in rules:\n",
    "                child_env = {}\n",
    "                unifiable = unify(atom, current.env, rule.head.atom, child_env)\n",
    "                if unifiable:\n",
    "                    child = Goal(env=child_env, parent=current, rule=rule)\n",
    "                    current.children.append(child)\n",
    "                    stack.append(child)\n",
    "    if not proof_trees:\n",
    "        print(\"No\")\n",
    "    return proof_trees"
   ],
   "metadata": {
    "collapsed": false,
    "pycharm": {
     "name": "#%%\n"
    }
   }
  },
  {
   "cell_type": "code",
   "execution_count": 664,
   "outputs": [],
   "source": [
    "@dataclass\n",
    "class Program:\n",
    "    rules: MutableSequence[Rule] = field(default_factory=list)\n",
    "\n",
    "    def __str__(self):\n",
    "        return ' '.join(map(str, self.rules))\n",
    "\n",
    "    def query(self, atom):\n",
    "        prooftrees = search(atom, self.rules)\n",
    "        envs = [prooftree.env for prooftree in prooftrees]\n",
    "        return envs\n",
    "\n",
    "    def evaluate_backwards(self, atom) -> Sequence[Atom]:\n",
    "        prooftrees = search(atom, self.rules)\n",
    "        answers = []\n",
    "        for prooftree in prooftrees:\n",
    "            stack = [prooftree]\n",
    "            while stack:\n",
    "                current = stack.pop()\n",
    "                env = current.env\n",
    "                for literal in current.body:\n",
    "                    fact = Rule(head=literal)\n",
    "                    fact.substitute(env)\n",
    "                    if fact.is_ground() and fact not in answers:\n",
    "                        answers.append(fact)\n",
    "                stack.extend(current.children)\n",
    "        return answers\n"
   ],
   "metadata": {
    "collapsed": false,
    "pycharm": {
     "name": "#%%\n"
    }
   }
  },
  {
   "cell_type": "code",
   "execution_count": 665,
   "outputs": [
    {
     "name": "stdout",
     "output_type": "stream",
     "text": [
      "p :- q, not r, not p.\n"
     ]
    }
   ],
   "source": [
    "p = Atom.new_constant('p')\n",
    "q = Atom.new_constant('q')\n",
    "r = Atom.new_constant('r')\n",
    "\n",
    "rule1 = Rule(head=Literal(atom=p),\n",
    "             body=[Literal(atom=q),\n",
    "                   Literal(sign=Sign.DefaultNeg, atom=r),\n",
    "                   Literal(sign=Sign.DefaultNeg, atom=p)])\n",
    "program1 = Program([rule1])\n",
    "print(program1)"
   ],
   "metadata": {
    "collapsed": false,
    "pycharm": {
     "name": "#%%\n"
    }
   }
  },
  {
   "cell_type": "code",
   "execution_count": 666,
   "outputs": [
    {
     "name": "stdout",
     "output_type": "stream",
     "text": [
      "p :- q, not p. p :- not r.\n"
     ]
    }
   ],
   "source": [
    "p = Atom.new_constant('p')\n",
    "q = Atom.new_constant('q')\n",
    "r = Atom.new_constant('r')\n",
    "\n",
    "rule2 = Rule(head=Literal(atom=p),\n",
    "             body=[Literal(atom=q),\n",
    "                   Literal(sign=Sign.DefaultNeg, atom=p)])\n",
    "rule3 = Rule(head=Literal(atom=p),\n",
    "             body=[Literal(sign=Sign.DefaultNeg, atom=r)])\n",
    "program2 = Program([rule2, rule3])\n",
    "print(program2)\n"
   ],
   "metadata": {
    "collapsed": false,
    "pycharm": {
     "name": "#%%\n"
    }
   }
  },
  {
   "cell_type": "code",
   "execution_count": 667,
   "outputs": [
    {
     "name": "stdout",
     "output_type": "stream",
     "text": [
      "p :- not q, not r, not p.\n"
     ]
    }
   ],
   "source": [
    "p = Atom.new_constant('p')\n",
    "q = Atom.new_constant('q')\n",
    "r = Atom.new_constant('r')\n",
    "\n",
    "rule4 = Rule(head=Literal(atom=p),\n",
    "             body=[\n",
    "                 Literal(sign=Sign.DefaultNeg, atom=q),\n",
    "                 Literal(sign=Sign.DefaultNeg, atom=r),\n",
    "                 Literal(sign=Sign.DefaultNeg, atom=p)\n",
    "             ])\n",
    "\n",
    "program3 = Program([rule4])\n",
    "print(program3)"
   ],
   "metadata": {
    "collapsed": false,
    "pycharm": {
     "name": "#%%\n"
    }
   }
  },
  {
   "cell_type": "code",
   "execution_count": 668,
   "outputs": [
    {
     "name": "stdout",
     "output_type": "stream",
     "text": [
      ":- not q, not r.\n"
     ]
    }
   ],
   "source": [
    "q = Atom.new_constant('q')\n",
    "r = Atom.new_constant('r')\n",
    "\n",
    "rule5 = Rule(head=None,\n",
    "             body=[\n",
    "                 Literal(sign=Sign.DefaultNeg, atom=q),\n",
    "                 Literal(sign=Sign.DefaultNeg, atom=r),\n",
    "             ])\n",
    "\n",
    "program4 = Program([rule5])\n",
    "print(program4)"
   ],
   "metadata": {
    "collapsed": false,
    "pycharm": {
     "name": "#%%\n"
    }
   }
  },
  {
   "cell_type": "code",
   "execution_count": 669,
   "outputs": [
    {
     "name": "stdout",
     "output_type": "stream",
     "text": [
      "a :- k, not b. k :- e, not b. c :- a, b. b :- not a. c :- k. f :- e, not k, not c. e.\n"
     ]
    }
   ],
   "source": [
    "a = Atom.new_constant('a')\n",
    "a_lit = Literal(a)\n",
    "b = Atom.new_constant('b')\n",
    "b_lit = Literal(b)\n",
    "c = Atom.new_constant('c')\n",
    "c_lit = Literal(c)\n",
    "e = Atom.new_constant('e')\n",
    "e_lit = Literal(e)\n",
    "f = Atom.new_constant('f')\n",
    "f_lit = Literal(f)\n",
    "k = Atom.new_constant('k')\n",
    "k_lit = Literal(k)\n",
    "\n",
    "rule6 = Rule(head=a_lit, body=[k_lit, -b_lit])\n",
    "rule7 = Rule(head=k_lit, body=[e_lit, -b_lit])\n",
    "rule8 = Rule(head=c_lit, body=[a_lit, b_lit])\n",
    "rule9 = Rule(head=b_lit, body=[-a_lit])\n",
    "rule10 = Rule(head=c_lit, body=[k_lit])\n",
    "rule11 = Rule(head=f_lit, body=[e_lit, -k_lit, -c_lit])\n",
    "rule12 = Rule(head=e_lit)\n",
    "program5 = Program([rule6, rule7, rule8, rule9, rule10, rule11, rule12])\n",
    "print(program5)"
   ],
   "metadata": {
    "collapsed": false,
    "pycharm": {
     "name": "#%%\n"
    }
   }
  },
  {
   "cell_type": "code",
   "execution_count": 670,
   "outputs": [],
   "source": [
    "def cnr_asp(program: Program, graph_name: str = \"default\") -> Program:\n",
    "    nodes = []\n",
    "    edges = []\n",
    "    rule_count = 0\n",
    "    g = Atom.new_constant(graph_name)\n",
    "    graph = Rule(head=Literal(Atom.new_function('graph', [g])))\n",
    "    for rule in program.rules:\n",
    "        rule_count += 1\n",
    "        head = rule.head\n",
    "        body = rule.body\n",
    "\n",
    "        if head is None:\n",
    "            head = Literal(atom=Atom.new_function('__false', [Atom.new_integer(rule_count), g]))\n",
    "            head_node = Rule(head=Literal(Atom.new_function('node', [head.atom, g])))\n",
    "            head_graph = head.atom\n",
    "        else:\n",
    "            head_graph = Atom.new_function('graph', [head.atom, g])\n",
    "            head_node = Rule(head=Literal(Atom.new_function('node', [head_graph, g])))\n",
    "\n",
    "        if head_node not in nodes:\n",
    "            nodes.append(head_node)\n",
    "        for literal in body:\n",
    "            body_node = Rule(head=Literal(Atom.new_function('node', [\n",
    "                Atom.new_function('graph', [literal.atom, g]),\n",
    "                g])))\n",
    "            if body_node not in nodes:\n",
    "                nodes.append(body_node)\n",
    "        if len(body) == 1:\n",
    "            edge = Rule(head=Literal(\n",
    "                Atom.new_function('edge_sign', [\n",
    "                    Atom.new_tuple((\n",
    "                        head_graph, Atom.new_function('graph', [body[0].atom, g]))),\n",
    "                    Atom.new_integer(body[0].sign.value),\n",
    "                    g])))\n",
    "            edges.append(edge)\n",
    "        elif len(body) > 1:\n",
    "            conj = Atom.new_function('__conjunction', [Atom.new_integer(rule_count), g])\n",
    "            conj_node = Rule(head=Literal(\n",
    "                Atom.new_function('node', [conj, g])\n",
    "            ))\n",
    "            nodes.append(conj_node)\n",
    "            for literal in body:\n",
    "                body_edge = Rule(head=Literal(\n",
    "                    Atom.new_function('edge_sign', [\n",
    "                        Atom.new_tuple([Atom.new_function('graph', [literal.atom, g]), conj]),\n",
    "                        Atom.new_integer(literal.sign.value ^ 1),\n",
    "                        g\n",
    "                    ])\n",
    "                ))\n",
    "                edges.append(body_edge)\n",
    "            head_edge = Rule(head=Literal(\n",
    "                Atom.new_function('edge_sign', [\n",
    "                    Atom.new_tuple([conj, head_graph]),\n",
    "                    Atom.new_integer(Sign.DefaultNeg.value),\n",
    "                    g\n",
    "                ])))\n",
    "            edges.append(head_edge)\n",
    "    rules = [graph]\n",
    "    rules.extend(nodes)\n",
    "    rules.extend(edges)\n",
    "    return Program(rules)"
   ],
   "metadata": {
    "collapsed": false,
    "pycharm": {
     "name": "#%%\n"
    }
   }
  },
  {
   "cell_type": "code",
   "execution_count": 671,
   "outputs": [
    {
     "name": "stdout",
     "output_type": "stream",
     "text": [
      "graph(program1). node(graph(p,program1),program1). node(graph(q,program1),program1). node(graph(r,program1),program1). node(__conjunction(1,program1),program1). edge_sign((graph(q,program1),__conjunction(1,program1)),1,program1). edge_sign((graph(r,program1),__conjunction(1,program1)),0,program1). edge_sign((graph(p,program1),__conjunction(1,program1)),0,program1). edge_sign((__conjunction(1,program1),graph(p,program1)),1,program1).\n",
      "graph(program2). node(graph(p,program2),program2). node(graph(q,program2),program2). node(__conjunction(1,program2),program2). node(graph(r,program2),program2). edge_sign((graph(q,program2),__conjunction(1,program2)),1,program2). edge_sign((graph(p,program2),__conjunction(1,program2)),0,program2). edge_sign((__conjunction(1,program2),graph(p,program2)),1,program2). edge_sign((graph(p,program2),graph(r,program2)),1,program2).\n",
      "graph(program3). node(graph(p,program3),program3). node(graph(q,program3),program3). node(graph(r,program3),program3). node(__conjunction(1,program3),program3). edge_sign((graph(q,program3),__conjunction(1,program3)),0,program3). edge_sign((graph(r,program3),__conjunction(1,program3)),0,program3). edge_sign((graph(p,program3),__conjunction(1,program3)),0,program3). edge_sign((__conjunction(1,program3),graph(p,program3)),1,program3).\n",
      "graph(program4). node(__false(1,program4),program4). node(graph(q,program4),program4). node(graph(r,program4),program4). node(__conjunction(1,program4),program4). edge_sign((graph(q,program4),__conjunction(1,program4)),0,program4). edge_sign((graph(r,program4),__conjunction(1,program4)),0,program4). edge_sign((__conjunction(1,program4),__false(1,program4)),1,program4).\n",
      "graph(program5). node(graph(a,program5),program5). node(graph(k,program5),program5). node(graph(b,program5),program5). node(__conjunction(1,program5),program5). node(graph(e,program5),program5). node(__conjunction(2,program5),program5). node(graph(c,program5),program5). node(__conjunction(3,program5),program5). node(graph(f,program5),program5). node(__conjunction(6,program5),program5). edge_sign((graph(k,program5),__conjunction(1,program5)),1,program5). edge_sign((graph(b,program5),__conjunction(1,program5)),0,program5). edge_sign((__conjunction(1,program5),graph(a,program5)),1,program5). edge_sign((graph(e,program5),__conjunction(2,program5)),1,program5). edge_sign((graph(b,program5),__conjunction(2,program5)),0,program5). edge_sign((__conjunction(2,program5),graph(k,program5)),1,program5). edge_sign((graph(a,program5),__conjunction(3,program5)),1,program5). edge_sign((graph(b,program5),__conjunction(3,program5)),1,program5). edge_sign((__conjunction(3,program5),graph(c,program5)),1,program5). edge_sign((graph(b,program5),graph(a,program5)),1,program5). edge_sign((graph(c,program5),graph(k,program5)),0,program5). edge_sign((graph(e,program5),__conjunction(6,program5)),1,program5). edge_sign((graph(k,program5),__conjunction(6,program5)),0,program5). edge_sign((graph(c,program5),__conjunction(6,program5)),0,program5). edge_sign((__conjunction(6,program5),graph(f,program5)),1,program5).\n"
     ]
    }
   ],
   "source": [
    "graph_program1 = cnr_asp(program1, 'program1')\n",
    "print(graph_program1)\n",
    "graph_program2 = cnr_asp(program2, 'program2')\n",
    "print(graph_program2)\n",
    "graph_program3 = cnr_asp(program3, 'program3')\n",
    "print(graph_program3)\n",
    "graph_program4 = cnr_asp(program4, 'program4')\n",
    "print(graph_program4)\n",
    "graph_program5 = cnr_asp(program5, 'program5')\n",
    "print(graph_program5)\n"
   ],
   "metadata": {
    "collapsed": false,
    "pycharm": {
     "name": "#%%\n"
    }
   }
  },
  {
   "cell_type": "code",
   "execution_count": 672,
   "outputs": [],
   "source": [
    "viz = \"\"\"\n",
    "\n",
    "edge(E, G) :- edge_sign(E,S,G).\n",
    "\n",
    "attr(node, N, label, \"C\") :- node(N, _G), N=__conjunction(_C, _G).\n",
    "attr(node, N, style, filled) :- node(N, _G), N=__conjunction(_C, _G).\n",
    "attr(node, N, color, black) :- node(N, _G), N=__conjunction(_C, _G).\n",
    "attr(node, N, fontcolor, white) :- node(N, _G), N=__conjunction(_C, _G).\n",
    "attr(node, N, label, L) :- node(N, G), N=graph(L,G).\n",
    "attr(node, N, label, false) :- node(N, G), N=__false(_F,G).\n",
    "attr(node, N, shape, box) :- node(N, G), N=__false(_F,G).\n",
    "\n",
    "attr(edge, E, dir, forward) :- edge(E,_G).\n",
    "attr(edge, E, label, \"+\") :- edge(E,_G), edge_sign(E, 0, _G).\n",
    "attr(edge, E, label, \"-\") :- edge(E,_G), edge_sign(E, 1, _G).\n",
    "\n",
    "\n",
    "\"\"\""
   ],
   "metadata": {
    "collapsed": false,
    "pycharm": {
     "name": "#%%\n"
    }
   }
  },
  {
   "cell_type": "code",
   "execution_count": 673,
   "outputs": [],
   "source": [
    "ctl = clingo.Control()\n",
    "ctl.configuration.solve.models = 0\n",
    "ctl.add('base', [], str(graph_program1))\n",
    "ctl.add('base', [], str(graph_program2))\n",
    "ctl.add('base', [], str(graph_program3))\n",
    "ctl.add('base', [], str(graph_program4))\n",
    "ctl.add('base', [], str(graph_program5))\n",
    "ctl.add('viz', [], viz)\n",
    "ctl.ground([('base', ())])\n",
    "ctl.ground([('viz', ())], context=clingraph.clingo_utils.ClingraphContext)\n",
    "fb = Factbase()"
   ],
   "metadata": {
    "collapsed": false,
    "pycharm": {
     "name": "#%%\n"
    }
   }
  },
  {
   "cell_type": "code",
   "execution_count": 674,
   "outputs": [
    {
     "name": "stdout",
     "output_type": "stream",
     "text": [
      "Answer 1: {\n",
      "graph(program1)\n",
      "graph(program2)\n",
      "graph(program3)\n",
      "graph(program4)\n",
      "graph(program5)\n",
      "edge((__conjunction(1,program1),graph(p,program1)),program1)\n",
      "edge((__conjunction(1,program2),graph(p,program2)),program2)\n",
      "edge((__conjunction(1,program3),graph(p,program3)),program3)\n",
      "edge((__conjunction(1,program4),__false(1,program4)),program4)\n",
      "edge((__conjunction(1,program5),graph(a,program5)),program5)\n",
      "edge((__conjunction(2,program5),graph(k,program5)),program5)\n",
      "edge((__conjunction(3,program5),graph(c,program5)),program5)\n",
      "edge((__conjunction(6,program5),graph(f,program5)),program5)\n",
      "edge((graph(a,program5),__conjunction(3,program5)),program5)\n",
      "edge((graph(b,program5),__conjunction(1,program5)),program5)\n",
      "edge((graph(b,program5),__conjunction(2,program5)),program5)\n",
      "edge((graph(b,program5),__conjunction(3,program5)),program5)\n",
      "edge((graph(b,program5),graph(a,program5)),program5)\n",
      "edge((graph(c,program5),__conjunction(6,program5)),program5)\n",
      "edge((graph(c,program5),graph(k,program5)),program5)\n",
      "edge((graph(e,program5),__conjunction(2,program5)),program5)\n",
      "edge((graph(e,program5),__conjunction(6,program5)),program5)\n",
      "edge((graph(k,program5),__conjunction(1,program5)),program5)\n",
      "edge((graph(k,program5),__conjunction(6,program5)),program5)\n",
      "edge((graph(p,program1),__conjunction(1,program1)),program1)\n",
      "edge((graph(p,program2),__conjunction(1,program2)),program2)\n",
      "edge((graph(p,program2),graph(r,program2)),program2)\n",
      "edge((graph(p,program3),__conjunction(1,program3)),program3)\n",
      "edge((graph(q,program1),__conjunction(1,program1)),program1)\n",
      "edge((graph(q,program2),__conjunction(1,program2)),program2)\n",
      "edge((graph(q,program3),__conjunction(1,program3)),program3)\n",
      "edge((graph(q,program4),__conjunction(1,program4)),program4)\n",
      "edge((graph(r,program1),__conjunction(1,program1)),program1)\n",
      "edge((graph(r,program3),__conjunction(1,program3)),program3)\n",
      "edge((graph(r,program4),__conjunction(1,program4)),program4)\n",
      "node(__conjunction(1,program1),program1)\n",
      "node(__conjunction(1,program2),program2)\n",
      "node(__conjunction(1,program3),program3)\n",
      "node(__conjunction(1,program4),program4)\n",
      "node(__conjunction(1,program5),program5)\n",
      "node(__conjunction(2,program5),program5)\n",
      "node(__conjunction(3,program5),program5)\n",
      "node(__conjunction(6,program5),program5)\n",
      "node(__false(1,program4),program4)\n",
      "node(graph(a,program5),program5)\n",
      "node(graph(b,program5),program5)\n",
      "node(graph(c,program5),program5)\n",
      "node(graph(e,program5),program5)\n",
      "node(graph(f,program5),program5)\n",
      "node(graph(k,program5),program5)\n",
      "node(graph(p,program1),program1)\n",
      "node(graph(p,program2),program2)\n",
      "node(graph(p,program3),program3)\n",
      "node(graph(q,program1),program1)\n",
      "node(graph(q,program2),program2)\n",
      "node(graph(q,program3),program3)\n",
      "node(graph(q,program4),program4)\n",
      "node(graph(r,program1),program1)\n",
      "node(graph(r,program2),program2)\n",
      "node(graph(r,program3),program3)\n",
      "node(graph(r,program4),program4)\n",
      "edge_sign((__conjunction(1,program1),graph(p,program1)),1,program1)\n",
      "edge_sign((__conjunction(1,program2),graph(p,program2)),1,program2)\n",
      "edge_sign((__conjunction(1,program3),graph(p,program3)),1,program3)\n",
      "edge_sign((__conjunction(1,program4),__false(1,program4)),1,program4)\n",
      "edge_sign((__conjunction(1,program5),graph(a,program5)),1,program5)\n",
      "edge_sign((__conjunction(2,program5),graph(k,program5)),1,program5)\n",
      "edge_sign((__conjunction(3,program5),graph(c,program5)),1,program5)\n",
      "edge_sign((__conjunction(6,program5),graph(f,program5)),1,program5)\n",
      "edge_sign((graph(a,program5),__conjunction(3,program5)),1,program5)\n",
      "edge_sign((graph(b,program5),__conjunction(1,program5)),0,program5)\n",
      "edge_sign((graph(b,program5),__conjunction(2,program5)),0,program5)\n",
      "edge_sign((graph(b,program5),__conjunction(3,program5)),1,program5)\n",
      "edge_sign((graph(b,program5),graph(a,program5)),1,program5)\n",
      "edge_sign((graph(c,program5),__conjunction(6,program5)),0,program5)\n",
      "edge_sign((graph(c,program5),graph(k,program5)),0,program5)\n",
      "edge_sign((graph(e,program5),__conjunction(2,program5)),1,program5)\n",
      "edge_sign((graph(e,program5),__conjunction(6,program5)),1,program5)\n",
      "edge_sign((graph(k,program5),__conjunction(1,program5)),1,program5)\n",
      "edge_sign((graph(k,program5),__conjunction(6,program5)),0,program5)\n",
      "edge_sign((graph(p,program1),__conjunction(1,program1)),0,program1)\n",
      "edge_sign((graph(p,program2),__conjunction(1,program2)),0,program2)\n",
      "edge_sign((graph(p,program2),graph(r,program2)),1,program2)\n",
      "edge_sign((graph(p,program3),__conjunction(1,program3)),0,program3)\n",
      "edge_sign((graph(q,program1),__conjunction(1,program1)),1,program1)\n",
      "edge_sign((graph(q,program2),__conjunction(1,program2)),1,program2)\n",
      "edge_sign((graph(q,program3),__conjunction(1,program3)),0,program3)\n",
      "edge_sign((graph(q,program4),__conjunction(1,program4)),0,program4)\n",
      "edge_sign((graph(r,program1),__conjunction(1,program1)),0,program1)\n",
      "edge_sign((graph(r,program3),__conjunction(1,program3)),0,program3)\n",
      "edge_sign((graph(r,program4),__conjunction(1,program4)),0,program4)\n",
      "attr(edge,(__conjunction(1,program1),graph(p,program1)),dir,forward)\n",
      "attr(edge,(__conjunction(1,program1),graph(p,program1)),label,\"-\")\n",
      "attr(edge,(__conjunction(1,program2),graph(p,program2)),dir,forward)\n",
      "attr(edge,(__conjunction(1,program2),graph(p,program2)),label,\"-\")\n",
      "attr(edge,(__conjunction(1,program3),graph(p,program3)),dir,forward)\n",
      "attr(edge,(__conjunction(1,program3),graph(p,program3)),label,\"-\")\n",
      "attr(edge,(__conjunction(1,program4),__false(1,program4)),dir,forward)\n",
      "attr(edge,(__conjunction(1,program4),__false(1,program4)),label,\"-\")\n",
      "attr(edge,(__conjunction(1,program5),graph(a,program5)),dir,forward)\n",
      "attr(edge,(__conjunction(1,program5),graph(a,program5)),label,\"-\")\n",
      "attr(edge,(__conjunction(2,program5),graph(k,program5)),dir,forward)\n",
      "attr(edge,(__conjunction(2,program5),graph(k,program5)),label,\"-\")\n",
      "attr(edge,(__conjunction(3,program5),graph(c,program5)),dir,forward)\n",
      "attr(edge,(__conjunction(3,program5),graph(c,program5)),label,\"-\")\n",
      "attr(edge,(__conjunction(6,program5),graph(f,program5)),dir,forward)\n",
      "attr(edge,(__conjunction(6,program5),graph(f,program5)),label,\"-\")\n",
      "attr(edge,(graph(a,program5),__conjunction(3,program5)),dir,forward)\n",
      "attr(edge,(graph(a,program5),__conjunction(3,program5)),label,\"-\")\n",
      "attr(edge,(graph(b,program5),__conjunction(1,program5)),dir,forward)\n",
      "attr(edge,(graph(b,program5),__conjunction(1,program5)),label,\"+\")\n",
      "attr(edge,(graph(b,program5),__conjunction(2,program5)),dir,forward)\n",
      "attr(edge,(graph(b,program5),__conjunction(2,program5)),label,\"+\")\n",
      "attr(edge,(graph(b,program5),__conjunction(3,program5)),dir,forward)\n",
      "attr(edge,(graph(b,program5),__conjunction(3,program5)),label,\"-\")\n",
      "attr(edge,(graph(b,program5),graph(a,program5)),dir,forward)\n",
      "attr(edge,(graph(b,program5),graph(a,program5)),label,\"-\")\n",
      "attr(edge,(graph(c,program5),__conjunction(6,program5)),dir,forward)\n",
      "attr(edge,(graph(c,program5),__conjunction(6,program5)),label,\"+\")\n",
      "attr(edge,(graph(c,program5),graph(k,program5)),dir,forward)\n",
      "attr(edge,(graph(c,program5),graph(k,program5)),label,\"+\")\n",
      "attr(edge,(graph(e,program5),__conjunction(2,program5)),dir,forward)\n",
      "attr(edge,(graph(e,program5),__conjunction(2,program5)),label,\"-\")\n",
      "attr(edge,(graph(e,program5),__conjunction(6,program5)),dir,forward)\n",
      "attr(edge,(graph(e,program5),__conjunction(6,program5)),label,\"-\")\n",
      "attr(edge,(graph(k,program5),__conjunction(1,program5)),dir,forward)\n",
      "attr(edge,(graph(k,program5),__conjunction(1,program5)),label,\"-\")\n",
      "attr(edge,(graph(k,program5),__conjunction(6,program5)),dir,forward)\n",
      "attr(edge,(graph(k,program5),__conjunction(6,program5)),label,\"+\")\n",
      "attr(edge,(graph(p,program1),__conjunction(1,program1)),dir,forward)\n",
      "attr(edge,(graph(p,program1),__conjunction(1,program1)),label,\"+\")\n",
      "attr(edge,(graph(p,program2),__conjunction(1,program2)),dir,forward)\n",
      "attr(edge,(graph(p,program2),__conjunction(1,program2)),label,\"+\")\n",
      "attr(edge,(graph(p,program2),graph(r,program2)),dir,forward)\n",
      "attr(edge,(graph(p,program2),graph(r,program2)),label,\"-\")\n",
      "attr(edge,(graph(p,program3),__conjunction(1,program3)),dir,forward)\n",
      "attr(edge,(graph(p,program3),__conjunction(1,program3)),label,\"+\")\n",
      "attr(edge,(graph(q,program1),__conjunction(1,program1)),dir,forward)\n",
      "attr(edge,(graph(q,program1),__conjunction(1,program1)),label,\"-\")\n",
      "attr(edge,(graph(q,program2),__conjunction(1,program2)),dir,forward)\n",
      "attr(edge,(graph(q,program2),__conjunction(1,program2)),label,\"-\")\n",
      "attr(edge,(graph(q,program3),__conjunction(1,program3)),dir,forward)\n",
      "attr(edge,(graph(q,program3),__conjunction(1,program3)),label,\"+\")\n",
      "attr(edge,(graph(q,program4),__conjunction(1,program4)),dir,forward)\n",
      "attr(edge,(graph(q,program4),__conjunction(1,program4)),label,\"+\")\n",
      "attr(edge,(graph(r,program1),__conjunction(1,program1)),dir,forward)\n",
      "attr(edge,(graph(r,program1),__conjunction(1,program1)),label,\"+\")\n",
      "attr(edge,(graph(r,program3),__conjunction(1,program3)),dir,forward)\n",
      "attr(edge,(graph(r,program3),__conjunction(1,program3)),label,\"+\")\n",
      "attr(edge,(graph(r,program4),__conjunction(1,program4)),dir,forward)\n",
      "attr(edge,(graph(r,program4),__conjunction(1,program4)),label,\"+\")\n",
      "attr(node,__conjunction(1,program1),color,black)\n",
      "attr(node,__conjunction(1,program1),fontcolor,white)\n",
      "attr(node,__conjunction(1,program1),label,\"C\")\n",
      "attr(node,__conjunction(1,program1),style,filled)\n",
      "attr(node,__conjunction(1,program2),color,black)\n",
      "attr(node,__conjunction(1,program2),fontcolor,white)\n",
      "attr(node,__conjunction(1,program2),label,\"C\")\n",
      "attr(node,__conjunction(1,program2),style,filled)\n",
      "attr(node,__conjunction(1,program3),color,black)\n",
      "attr(node,__conjunction(1,program3),fontcolor,white)\n",
      "attr(node,__conjunction(1,program3),label,\"C\")\n",
      "attr(node,__conjunction(1,program3),style,filled)\n",
      "attr(node,__conjunction(1,program4),color,black)\n",
      "attr(node,__conjunction(1,program4),fontcolor,white)\n",
      "attr(node,__conjunction(1,program4),label,\"C\")\n",
      "attr(node,__conjunction(1,program4),style,filled)\n",
      "attr(node,__conjunction(1,program5),color,black)\n",
      "attr(node,__conjunction(1,program5),fontcolor,white)\n",
      "attr(node,__conjunction(1,program5),label,\"C\")\n",
      "attr(node,__conjunction(1,program5),style,filled)\n",
      "attr(node,__conjunction(2,program5),color,black)\n",
      "attr(node,__conjunction(2,program5),fontcolor,white)\n",
      "attr(node,__conjunction(2,program5),label,\"C\")\n",
      "attr(node,__conjunction(2,program5),style,filled)\n",
      "attr(node,__conjunction(3,program5),color,black)\n",
      "attr(node,__conjunction(3,program5),fontcolor,white)\n",
      "attr(node,__conjunction(3,program5),label,\"C\")\n",
      "attr(node,__conjunction(3,program5),style,filled)\n",
      "attr(node,__conjunction(6,program5),color,black)\n",
      "attr(node,__conjunction(6,program5),fontcolor,white)\n",
      "attr(node,__conjunction(6,program5),label,\"C\")\n",
      "attr(node,__conjunction(6,program5),style,filled)\n",
      "attr(node,__false(1,program4),label,false)\n",
      "attr(node,__false(1,program4),shape,box)\n",
      "attr(node,graph(a,program5),label,a)\n",
      "attr(node,graph(b,program5),label,b)\n",
      "attr(node,graph(c,program5),label,c)\n",
      "attr(node,graph(e,program5),label,e)\n",
      "attr(node,graph(f,program5),label,f)\n",
      "attr(node,graph(k,program5),label,k)\n",
      "attr(node,graph(p,program1),label,p)\n",
      "attr(node,graph(p,program2),label,p)\n",
      "attr(node,graph(p,program3),label,p)\n",
      "attr(node,graph(q,program1),label,q)\n",
      "attr(node,graph(q,program2),label,q)\n",
      "attr(node,graph(q,program3),label,q)\n",
      "attr(node,graph(q,program4),label,q)\n",
      "attr(node,graph(r,program1),label,r)\n",
      "attr(node,graph(r,program2),label,r)\n",
      "attr(node,graph(r,program3),label,r)\n",
      "attr(node,graph(r,program4),label,r)\n",
      "}\n",
      "SAT 1\n"
     ]
    }
   ],
   "source": [
    "with ctl.solve(yield_=True) as solve_handle:\n",
    "    models = []\n",
    "    for model in solve_handle:\n",
    "        symbols = sorted(model.symbols(shown=True))\n",
    "        print(\"Answer {}:\".format(model.number), end=' ')\n",
    "        print(\"{\",\n",
    "              '\\n'.join(map(str, symbols)), \"}\", sep='\\n')\n",
    "        models.append(symbols)\n",
    "    solve_result = solve_handle.get()\n",
    "    fb.add_model(model)\n",
    "    print(solve_result, end='')\n",
    "    if models:\n",
    "        print(\" {}{}\".format(len(models), '' if solve_result.exhausted else '+'))"
   ],
   "metadata": {
    "collapsed": false,
    "pycharm": {
     "name": "#%%\n"
    }
   }
  },
  {
   "cell_type": "code",
   "execution_count": 675,
   "outputs": [
    {
     "data": {
      "text/plain": "{'program1': <graphviz.graphs.Graph at 0x7f1639ffbdf0>,\n 'program2': <graphviz.graphs.Graph at 0x7f16e024ec20>,\n 'program3': <graphviz.graphs.Graph at 0x7f1639fcc4f0>,\n 'program4': <graphviz.graphs.Graph at 0x7f163a411ae0>,\n 'program5': <graphviz.graphs.Graph at 0x7f163a6140d0>}"
     },
     "execution_count": 675,
     "metadata": {},
     "output_type": "execute_result"
    }
   ],
   "source": [
    "graphs = compute_graphs(fb)\n",
    "graphs"
   ],
   "metadata": {
    "collapsed": false,
    "pycharm": {
     "name": "#%%\n"
    }
   }
  },
  {
   "cell_type": "code",
   "execution_count": 676,
   "outputs": [
    {
     "data": {
      "image/svg+xml": "<?xml version=\"1.0\" encoding=\"UTF-8\" standalone=\"no\"?>\n<!DOCTYPE svg PUBLIC \"-//W3C//DTD SVG 1.1//EN\"\n \"http://www.w3.org/Graphics/SVG/1.1/DTD/svg11.dtd\">\n<!-- Generated by graphviz version 3.0.0 (20220227.1548)\n -->\n<!-- Title: program1 Pages: 1 -->\n<svg width=\"206pt\" height=\"131pt\"\n viewBox=\"0.00 0.00 206.00 131.00\" xmlns=\"http://www.w3.org/2000/svg\" xmlns:xlink=\"http://www.w3.org/1999/xlink\">\n<g id=\"graph0\" class=\"graph\" transform=\"scale(1 1) rotate(0) translate(4 127)\">\n<title>program1</title>\n<polygon fill=\"white\" stroke=\"transparent\" points=\"-4,4 -4,-127 202,-127 202,4 -4,4\"/>\n<!-- graph(p,program1) -->\n<g id=\"node1\" class=\"node\">\n<title>graph(p,program1)</title>\n<ellipse fill=\"none\" stroke=\"black\" cx=\"27\" cy=\"-105\" rx=\"27\" ry=\"18\"/>\n<text text-anchor=\"middle\" x=\"27\" y=\"-101.3\" font-family=\"Times,serif\" font-size=\"14.00\">p</text>\n</g>\n<!-- __conjunction(1,program1) -->\n<g id=\"node4\" class=\"node\">\n<title>__conjunction(1,program1)</title>\n<ellipse fill=\"black\" stroke=\"black\" cx=\"82\" cy=\"-18\" rx=\"27\" ry=\"18\"/>\n<text text-anchor=\"middle\" x=\"82\" y=\"-14.3\" font-family=\"Times,serif\" font-size=\"14.00\" fill=\"white\">C</text>\n</g>\n<!-- graph(p,program1)&#45;&#45;__conjunction(1,program1) -->\n<g id=\"edge3\" class=\"edge\">\n<title>graph(p,program1)&#45;&#45;__conjunction(1,program1)</title>\n<path fill=\"none\" stroke=\"black\" d=\"M27.49,-86.7C28.47,-76.53 30.95,-63.79 37,-54 41.15,-47.29 47.08,-41.36 53.28,-36.38\"/>\n<polygon fill=\"black\" stroke=\"black\" points=\"55.75,-38.91 61.76,-30.19 51.62,-33.26 55.75,-38.91\"/>\n<text text-anchor=\"middle\" x=\"41.5\" y=\"-57.8\" font-family=\"Times,serif\" font-size=\"14.00\">+</text>\n</g>\n<!-- graph(q,program1) -->\n<g id=\"node2\" class=\"node\">\n<title>graph(q,program1)</title>\n<ellipse fill=\"none\" stroke=\"black\" cx=\"99\" cy=\"-105\" rx=\"27\" ry=\"18\"/>\n<text text-anchor=\"middle\" x=\"99\" y=\"-101.3\" font-family=\"Times,serif\" font-size=\"14.00\">q</text>\n</g>\n<!-- graph(q,program1)&#45;&#45;__conjunction(1,program1) -->\n<g id=\"edge1\" class=\"edge\">\n<title>graph(q,program1)&#45;&#45;__conjunction(1,program1)</title>\n<path fill=\"none\" stroke=\"black\" d=\"M95.56,-86.8C93.22,-75.09 90.07,-59.34 87.39,-45.97\"/>\n<polygon fill=\"black\" stroke=\"black\" points=\"90.77,-45 85.38,-35.89 83.91,-46.38 90.77,-45\"/>\n<text text-anchor=\"middle\" x=\"93.5\" y=\"-57.8\" font-family=\"Times,serif\" font-size=\"14.00\">&#45;</text>\n</g>\n<!-- graph(r,program1) -->\n<g id=\"node3\" class=\"node\">\n<title>graph(r,program1)</title>\n<ellipse fill=\"none\" stroke=\"black\" cx=\"171\" cy=\"-105\" rx=\"27\" ry=\"18\"/>\n<text text-anchor=\"middle\" x=\"171\" y=\"-101.3\" font-family=\"Times,serif\" font-size=\"14.00\">r</text>\n</g>\n<!-- graph(r,program1)&#45;&#45;__conjunction(1,program1) -->\n<g id=\"edge2\" class=\"edge\">\n<title>graph(r,program1)&#45;&#45;__conjunction(1,program1)</title>\n<path fill=\"none\" stroke=\"black\" d=\"M155.9,-89.58C141.75,-76.07 120.42,-55.7 104.31,-40.31\"/>\n<polygon fill=\"black\" stroke=\"black\" points=\"106.52,-37.58 96.87,-33.21 101.69,-42.64 106.52,-37.58\"/>\n<text text-anchor=\"middle\" x=\"135.5\" y=\"-57.8\" font-family=\"Times,serif\" font-size=\"14.00\">+</text>\n</g>\n<!-- __conjunction(1,program1)&#45;&#45;graph(p,program1) -->\n<g id=\"edge4\" class=\"edge\">\n<title>__conjunction(1,program1)&#45;&#45;graph(p,program1)</title>\n<path fill=\"none\" stroke=\"black\" d=\"M71.7,-34.92C63.57,-47.48 52.09,-65.23 42.8,-79.59\"/>\n<polygon fill=\"black\" stroke=\"black\" points=\"39.84,-77.72 37.35,-88.01 45.72,-81.52 39.84,-77.72\"/>\n<text text-anchor=\"middle\" x=\"60.5\" y=\"-57.8\" font-family=\"Times,serif\" font-size=\"14.00\">&#45;</text>\n</g>\n</g>\n</svg>\n",
      "text/plain": "<graphviz.graphs.Graph at 0x7f1639ffbdf0>"
     },
     "execution_count": 676,
     "metadata": {},
     "output_type": "execute_result"
    }
   ],
   "source": [
    "graphs['program1']"
   ],
   "metadata": {
    "collapsed": false,
    "pycharm": {
     "name": "#%%\n"
    }
   }
  },
  {
   "cell_type": "code",
   "execution_count": 677,
   "outputs": [
    {
     "data": {
      "image/svg+xml": "<?xml version=\"1.0\" encoding=\"UTF-8\" standalone=\"no\"?>\n<!DOCTYPE svg PUBLIC \"-//W3C//DTD SVG 1.1//EN\"\n \"http://www.w3.org/Graphics/SVG/1.1/DTD/svg11.dtd\">\n<!-- Generated by graphviz version 3.0.0 (20220227.1548)\n -->\n<!-- Title: program2 Pages: 1 -->\n<svg width=\"166pt\" height=\"131pt\"\n viewBox=\"0.00 0.00 166.00 131.00\" xmlns=\"http://www.w3.org/2000/svg\" xmlns:xlink=\"http://www.w3.org/1999/xlink\">\n<g id=\"graph0\" class=\"graph\" transform=\"scale(1 1) rotate(0) translate(4 127)\">\n<title>program2</title>\n<polygon fill=\"white\" stroke=\"transparent\" points=\"-4,4 -4,-127 162,-127 162,4 -4,4\"/>\n<!-- graph(p,program2) -->\n<g id=\"node1\" class=\"node\">\n<title>graph(p,program2)</title>\n<ellipse fill=\"none\" stroke=\"black\" cx=\"59\" cy=\"-105\" rx=\"27\" ry=\"18\"/>\n<text text-anchor=\"middle\" x=\"59\" y=\"-101.3\" font-family=\"Times,serif\" font-size=\"14.00\">p</text>\n</g>\n<!-- __conjunction(1,program2) -->\n<g id=\"node3\" class=\"node\">\n<title>__conjunction(1,program2)</title>\n<ellipse fill=\"black\" stroke=\"black\" cx=\"99\" cy=\"-18\" rx=\"27\" ry=\"18\"/>\n<text text-anchor=\"middle\" x=\"99\" y=\"-14.3\" font-family=\"Times,serif\" font-size=\"14.00\" fill=\"white\">C</text>\n</g>\n<!-- graph(p,program2)&#45;&#45;__conjunction(1,program2) -->\n<g id=\"edge2\" class=\"edge\">\n<title>graph(p,program2)&#45;&#45;__conjunction(1,program2)</title>\n<path fill=\"none\" stroke=\"black\" d=\"M66.71,-87.61C72.47,-75.38 80.44,-58.44 87.02,-44.46\"/>\n<polygon fill=\"black\" stroke=\"black\" points=\"90.22,-45.88 91.31,-35.34 83.89,-42.9 90.22,-45.88\"/>\n<text text-anchor=\"middle\" x=\"85.5\" y=\"-57.8\" font-family=\"Times,serif\" font-size=\"14.00\">+</text>\n</g>\n<!-- graph(r,program2) -->\n<g id=\"node4\" class=\"node\">\n<title>graph(r,program2)</title>\n<ellipse fill=\"none\" stroke=\"black\" cx=\"27\" cy=\"-18\" rx=\"27\" ry=\"18\"/>\n<text text-anchor=\"middle\" x=\"27\" y=\"-14.3\" font-family=\"Times,serif\" font-size=\"14.00\">r</text>\n</g>\n<!-- graph(p,program2)&#45;&#45;graph(r,program2) -->\n<g id=\"edge4\" class=\"edge\">\n<title>graph(p,program2)&#45;&#45;graph(r,program2)</title>\n<path fill=\"none\" stroke=\"black\" d=\"M47.03,-88.72C42.96,-82.84 38.75,-75.89 36,-69 33.16,-61.87 31.21,-53.82 29.87,-46.28\"/>\n<polygon fill=\"black\" stroke=\"black\" points=\"33.29,-45.51 28.36,-36.14 26.37,-46.54 33.29,-45.51\"/>\n<text text-anchor=\"middle\" x=\"38.5\" y=\"-57.8\" font-family=\"Times,serif\" font-size=\"14.00\">&#45;</text>\n</g>\n<!-- graph(q,program2) -->\n<g id=\"node2\" class=\"node\">\n<title>graph(q,program2)</title>\n<ellipse fill=\"none\" stroke=\"black\" cx=\"131\" cy=\"-105\" rx=\"27\" ry=\"18\"/>\n<text text-anchor=\"middle\" x=\"131\" y=\"-101.3\" font-family=\"Times,serif\" font-size=\"14.00\">q</text>\n</g>\n<!-- graph(q,program2)&#45;&#45;__conjunction(1,program2) -->\n<g id=\"edge1\" class=\"edge\">\n<title>graph(q,program2)&#45;&#45;__conjunction(1,program2)</title>\n<path fill=\"none\" stroke=\"black\" d=\"M124.68,-87.21C120.16,-75.22 114,-58.85 108.85,-45.16\"/>\n<polygon fill=\"black\" stroke=\"black\" points=\"112.11,-43.88 105.31,-35.76 105.56,-46.35 112.11,-43.88\"/>\n<text text-anchor=\"middle\" x=\"118.5\" y=\"-57.8\" font-family=\"Times,serif\" font-size=\"14.00\">&#45;</text>\n</g>\n<!-- __conjunction(1,program2)&#45;&#45;graph(p,program2) -->\n<g id=\"edge3\" class=\"edge\">\n<title>__conjunction(1,program2)&#45;&#45;graph(p,program2)</title>\n<path fill=\"none\" stroke=\"black\" d=\"M83.41,-32.99C77.71,-38.93 71.75,-46.26 68,-54 64.61,-60.98 62.49,-69.07 61.17,-76.69\"/>\n<polygon fill=\"black\" stroke=\"black\" points=\"57.69,-76.24 59.81,-86.62 64.63,-77.19 57.69,-76.24\"/>\n<text text-anchor=\"middle\" x=\"70.5\" y=\"-57.8\" font-family=\"Times,serif\" font-size=\"14.00\">&#45;</text>\n</g>\n</g>\n</svg>\n",
      "text/plain": "<graphviz.graphs.Graph at 0x7f16e024ec20>"
     },
     "execution_count": 677,
     "metadata": {},
     "output_type": "execute_result"
    }
   ],
   "source": [
    "graphs['program2']"
   ],
   "metadata": {
    "collapsed": false,
    "pycharm": {
     "name": "#%%\n"
    }
   }
  },
  {
   "cell_type": "code",
   "execution_count": 678,
   "outputs": [
    {
     "data": {
      "image/svg+xml": "<?xml version=\"1.0\" encoding=\"UTF-8\" standalone=\"no\"?>\n<!DOCTYPE svg PUBLIC \"-//W3C//DTD SVG 1.1//EN\"\n \"http://www.w3.org/Graphics/SVG/1.1/DTD/svg11.dtd\">\n<!-- Generated by graphviz version 3.0.0 (20220227.1548)\n -->\n<!-- Title: program3 Pages: 1 -->\n<svg width=\"206pt\" height=\"131pt\"\n viewBox=\"0.00 0.00 206.00 131.00\" xmlns=\"http://www.w3.org/2000/svg\" xmlns:xlink=\"http://www.w3.org/1999/xlink\">\n<g id=\"graph0\" class=\"graph\" transform=\"scale(1 1) rotate(0) translate(4 127)\">\n<title>program3</title>\n<polygon fill=\"white\" stroke=\"transparent\" points=\"-4,4 -4,-127 202,-127 202,4 -4,4\"/>\n<!-- graph(p,program3) -->\n<g id=\"node1\" class=\"node\">\n<title>graph(p,program3)</title>\n<ellipse fill=\"none\" stroke=\"black\" cx=\"27\" cy=\"-105\" rx=\"27\" ry=\"18\"/>\n<text text-anchor=\"middle\" x=\"27\" y=\"-101.3\" font-family=\"Times,serif\" font-size=\"14.00\">p</text>\n</g>\n<!-- __conjunction(1,program3) -->\n<g id=\"node4\" class=\"node\">\n<title>__conjunction(1,program3)</title>\n<ellipse fill=\"black\" stroke=\"black\" cx=\"82\" cy=\"-18\" rx=\"27\" ry=\"18\"/>\n<text text-anchor=\"middle\" x=\"82\" y=\"-14.3\" font-family=\"Times,serif\" font-size=\"14.00\" fill=\"white\">C</text>\n</g>\n<!-- graph(p,program3)&#45;&#45;__conjunction(1,program3) -->\n<g id=\"edge3\" class=\"edge\">\n<title>graph(p,program3)&#45;&#45;__conjunction(1,program3)</title>\n<path fill=\"none\" stroke=\"black\" d=\"M27.49,-86.7C28.47,-76.53 30.95,-63.79 37,-54 41.15,-47.29 47.08,-41.36 53.28,-36.38\"/>\n<polygon fill=\"black\" stroke=\"black\" points=\"55.75,-38.91 61.76,-30.19 51.62,-33.26 55.75,-38.91\"/>\n<text text-anchor=\"middle\" x=\"41.5\" y=\"-57.8\" font-family=\"Times,serif\" font-size=\"14.00\">+</text>\n</g>\n<!-- graph(q,program3) -->\n<g id=\"node2\" class=\"node\">\n<title>graph(q,program3)</title>\n<ellipse fill=\"none\" stroke=\"black\" cx=\"99\" cy=\"-105\" rx=\"27\" ry=\"18\"/>\n<text text-anchor=\"middle\" x=\"99\" y=\"-101.3\" font-family=\"Times,serif\" font-size=\"14.00\">q</text>\n</g>\n<!-- graph(q,program3)&#45;&#45;__conjunction(1,program3) -->\n<g id=\"edge1\" class=\"edge\">\n<title>graph(q,program3)&#45;&#45;__conjunction(1,program3)</title>\n<path fill=\"none\" stroke=\"black\" d=\"M95.56,-86.8C93.22,-75.09 90.07,-59.34 87.39,-45.97\"/>\n<polygon fill=\"black\" stroke=\"black\" points=\"90.77,-45 85.38,-35.89 83.91,-46.38 90.77,-45\"/>\n<text text-anchor=\"middle\" x=\"95.5\" y=\"-57.8\" font-family=\"Times,serif\" font-size=\"14.00\">+</text>\n</g>\n<!-- graph(r,program3) -->\n<g id=\"node3\" class=\"node\">\n<title>graph(r,program3)</title>\n<ellipse fill=\"none\" stroke=\"black\" cx=\"171\" cy=\"-105\" rx=\"27\" ry=\"18\"/>\n<text text-anchor=\"middle\" x=\"171\" y=\"-101.3\" font-family=\"Times,serif\" font-size=\"14.00\">r</text>\n</g>\n<!-- graph(r,program3)&#45;&#45;__conjunction(1,program3) -->\n<g id=\"edge2\" class=\"edge\">\n<title>graph(r,program3)&#45;&#45;__conjunction(1,program3)</title>\n<path fill=\"none\" stroke=\"black\" d=\"M155.9,-89.58C141.75,-76.07 120.42,-55.7 104.31,-40.31\"/>\n<polygon fill=\"black\" stroke=\"black\" points=\"106.52,-37.58 96.87,-33.21 101.69,-42.64 106.52,-37.58\"/>\n<text text-anchor=\"middle\" x=\"135.5\" y=\"-57.8\" font-family=\"Times,serif\" font-size=\"14.00\">+</text>\n</g>\n<!-- __conjunction(1,program3)&#45;&#45;graph(p,program3) -->\n<g id=\"edge4\" class=\"edge\">\n<title>__conjunction(1,program3)&#45;&#45;graph(p,program3)</title>\n<path fill=\"none\" stroke=\"black\" d=\"M71.7,-34.92C63.57,-47.48 52.09,-65.23 42.8,-79.59\"/>\n<polygon fill=\"black\" stroke=\"black\" points=\"39.84,-77.72 37.35,-88.01 45.72,-81.52 39.84,-77.72\"/>\n<text text-anchor=\"middle\" x=\"60.5\" y=\"-57.8\" font-family=\"Times,serif\" font-size=\"14.00\">&#45;</text>\n</g>\n</g>\n</svg>\n",
      "text/plain": "<graphviz.graphs.Graph at 0x7f1639fcc4f0>"
     },
     "execution_count": 678,
     "metadata": {},
     "output_type": "execute_result"
    }
   ],
   "source": [
    "graphs['program3']"
   ],
   "metadata": {
    "collapsed": false,
    "pycharm": {
     "name": "#%%\n"
    }
   }
  },
  {
   "cell_type": "code",
   "execution_count": 679,
   "outputs": [
    {
     "data": {
      "image/svg+xml": "<?xml version=\"1.0\" encoding=\"UTF-8\" standalone=\"no\"?>\n<!DOCTYPE svg PUBLIC \"-//W3C//DTD SVG 1.1//EN\"\n \"http://www.w3.org/Graphics/SVG/1.1/DTD/svg11.dtd\">\n<!-- Generated by graphviz version 3.0.0 (20220227.1548)\n -->\n<!-- Title: program4 Pages: 1 -->\n<svg width=\"134pt\" height=\"218pt\"\n viewBox=\"0.00 0.00 134.00 218.00\" xmlns=\"http://www.w3.org/2000/svg\" xmlns:xlink=\"http://www.w3.org/1999/xlink\">\n<g id=\"graph0\" class=\"graph\" transform=\"scale(1 1) rotate(0) translate(4 214)\">\n<title>program4</title>\n<polygon fill=\"white\" stroke=\"transparent\" points=\"-4,4 -4,-214 130,-214 130,4 -4,4\"/>\n<!-- __false(1,program4) -->\n<g id=\"node1\" class=\"node\">\n<title>__false(1,program4)</title>\n<polygon fill=\"none\" stroke=\"black\" points=\"90,-36 36,-36 36,0 90,0 90,-36\"/>\n<text text-anchor=\"middle\" x=\"63\" y=\"-14.3\" font-family=\"Times,serif\" font-size=\"14.00\">false</text>\n</g>\n<!-- graph(q,program4) -->\n<g id=\"node2\" class=\"node\">\n<title>graph(q,program4)</title>\n<ellipse fill=\"none\" stroke=\"black\" cx=\"27\" cy=\"-192\" rx=\"27\" ry=\"18\"/>\n<text text-anchor=\"middle\" x=\"27\" y=\"-188.3\" font-family=\"Times,serif\" font-size=\"14.00\">q</text>\n</g>\n<!-- __conjunction(1,program4) -->\n<g id=\"node4\" class=\"node\">\n<title>__conjunction(1,program4)</title>\n<ellipse fill=\"black\" stroke=\"black\" cx=\"63\" cy=\"-105\" rx=\"27\" ry=\"18\"/>\n<text text-anchor=\"middle\" x=\"63\" y=\"-101.3\" font-family=\"Times,serif\" font-size=\"14.00\" fill=\"white\">C</text>\n</g>\n<!-- graph(q,program4)&#45;&#45;__conjunction(1,program4) -->\n<g id=\"edge1\" class=\"edge\">\n<title>graph(q,program4)&#45;&#45;__conjunction(1,program4)</title>\n<path fill=\"none\" stroke=\"black\" d=\"M34.11,-174.21C39.22,-162.14 46.21,-145.64 52.03,-131.89\"/>\n<polygon fill=\"black\" stroke=\"black\" points=\"55.35,-133.04 56.02,-122.47 48.9,-130.31 55.35,-133.04\"/>\n<text text-anchor=\"middle\" x=\"52.5\" y=\"-144.8\" font-family=\"Times,serif\" font-size=\"14.00\">+</text>\n</g>\n<!-- graph(r,program4) -->\n<g id=\"node3\" class=\"node\">\n<title>graph(r,program4)</title>\n<ellipse fill=\"none\" stroke=\"black\" cx=\"99\" cy=\"-192\" rx=\"27\" ry=\"18\"/>\n<text text-anchor=\"middle\" x=\"99\" y=\"-188.3\" font-family=\"Times,serif\" font-size=\"14.00\">r</text>\n</g>\n<!-- graph(r,program4)&#45;&#45;__conjunction(1,program4) -->\n<g id=\"edge2\" class=\"edge\">\n<title>graph(r,program4)&#45;&#45;__conjunction(1,program4)</title>\n<path fill=\"none\" stroke=\"black\" d=\"M91.89,-174.21C86.78,-162.14 79.79,-145.64 73.97,-131.89\"/>\n<polygon fill=\"black\" stroke=\"black\" points=\"77.1,-130.31 69.98,-122.47 70.65,-133.04 77.1,-130.31\"/>\n<text text-anchor=\"middle\" x=\"87.5\" y=\"-144.8\" font-family=\"Times,serif\" font-size=\"14.00\">+</text>\n</g>\n<!-- __conjunction(1,program4)&#45;&#45;__false(1,program4) -->\n<g id=\"edge3\" class=\"edge\">\n<title>__conjunction(1,program4)&#45;&#45;__false(1,program4)</title>\n<path fill=\"none\" stroke=\"black\" d=\"M63,-86.8C63,-75.16 63,-59.55 63,-46.24\"/>\n<polygon fill=\"black\" stroke=\"black\" points=\"66.5,-46.18 63,-36.18 59.5,-46.18 66.5,-46.18\"/>\n<text text-anchor=\"middle\" x=\"65.5\" y=\"-57.8\" font-family=\"Times,serif\" font-size=\"14.00\">&#45;</text>\n</g>\n</g>\n</svg>\n",
      "text/plain": "<graphviz.graphs.Graph at 0x7f163a411ae0>"
     },
     "execution_count": 679,
     "metadata": {},
     "output_type": "execute_result"
    }
   ],
   "source": [
    "graphs['program4']"
   ],
   "metadata": {
    "collapsed": false,
    "pycharm": {
     "name": "#%%\n"
    }
   }
  },
  {
   "cell_type": "code",
   "execution_count": 680,
   "outputs": [
    {
     "data": {
      "image/svg+xml": "<?xml version=\"1.0\" encoding=\"UTF-8\" standalone=\"no\"?>\n<!DOCTYPE svg PUBLIC \"-//W3C//DTD SVG 1.1//EN\"\n \"http://www.w3.org/Graphics/SVG/1.1/DTD/svg11.dtd\">\n<!-- Generated by graphviz version 3.0.0 (20220227.1548)\n -->\n<!-- Title: program5 Pages: 1 -->\n<svg width=\"255pt\" height=\"566pt\"\n viewBox=\"0.00 0.00 255.00 566.00\" xmlns=\"http://www.w3.org/2000/svg\" xmlns:xlink=\"http://www.w3.org/1999/xlink\">\n<g id=\"graph0\" class=\"graph\" transform=\"scale(1 1) rotate(0) translate(4 562)\">\n<title>program5</title>\n<polygon fill=\"white\" stroke=\"transparent\" points=\"-4,4 -4,-562 251,-562 251,4 -4,4\"/>\n<!-- graph(a,program5) -->\n<g id=\"node1\" class=\"node\">\n<title>graph(a,program5)</title>\n<ellipse fill=\"none\" stroke=\"black\" cx=\"145\" cy=\"-453\" rx=\"27\" ry=\"18\"/>\n<text text-anchor=\"middle\" x=\"145\" y=\"-449.3\" font-family=\"Times,serif\" font-size=\"14.00\">a</text>\n</g>\n<!-- __conjunction(3,program5) -->\n<g id=\"node8\" class=\"node\">\n<title>__conjunction(3,program5)</title>\n<ellipse fill=\"black\" stroke=\"black\" cx=\"35\" cy=\"-366\" rx=\"27\" ry=\"18\"/>\n<text text-anchor=\"middle\" x=\"35\" y=\"-362.3\" font-family=\"Times,serif\" font-size=\"14.00\" fill=\"white\">C</text>\n</g>\n<!-- graph(a,program5)&#45;&#45;__conjunction(3,program5) -->\n<g id=\"edge7\" class=\"edge\">\n<title>graph(a,program5)&#45;&#45;__conjunction(3,program5)</title>\n<path fill=\"none\" stroke=\"black\" d=\"M134.25,-436.15C126.48,-425.53 115.23,-411.76 103,-402 92.19,-393.37 78.92,-385.97 66.98,-380.23\"/>\n<polygon fill=\"black\" stroke=\"black\" points=\"68.31,-376.99 57.77,-375.98 65.39,-383.34 68.31,-376.99\"/>\n<text text-anchor=\"middle\" x=\"120.5\" y=\"-405.8\" font-family=\"Times,serif\" font-size=\"14.00\">&#45;</text>\n</g>\n<!-- graph(k,program5) -->\n<g id=\"node2\" class=\"node\">\n<title>graph(k,program5)</title>\n<ellipse fill=\"none\" stroke=\"black\" cx=\"99\" cy=\"-192\" rx=\"27\" ry=\"18\"/>\n<text text-anchor=\"middle\" x=\"99\" y=\"-188.3\" font-family=\"Times,serif\" font-size=\"14.00\">k</text>\n</g>\n<!-- __conjunction(1,program5) -->\n<g id=\"node4\" class=\"node\">\n<title>__conjunction(1,program5)</title>\n<ellipse fill=\"black\" stroke=\"black\" cx=\"200\" cy=\"-105\" rx=\"27\" ry=\"18\"/>\n<text text-anchor=\"middle\" x=\"200\" y=\"-101.3\" font-family=\"Times,serif\" font-size=\"14.00\" fill=\"white\">C</text>\n</g>\n<!-- graph(k,program5)&#45;&#45;__conjunction(1,program5) -->\n<g id=\"edge1\" class=\"edge\">\n<title>graph(k,program5)&#45;&#45;__conjunction(1,program5)</title>\n<path fill=\"none\" stroke=\"black\" d=\"M115.23,-177.34C131.65,-163.53 157.21,-142.01 175.98,-126.21\"/>\n<polygon fill=\"black\" stroke=\"black\" points=\"178.42,-128.74 183.81,-119.62 173.91,-123.38 178.42,-128.74\"/>\n<text text-anchor=\"middle\" x=\"157.5\" y=\"-144.8\" font-family=\"Times,serif\" font-size=\"14.00\">&#45;</text>\n</g>\n<!-- __conjunction(6,program5) -->\n<g id=\"node10\" class=\"node\">\n<title>__conjunction(6,program5)</title>\n<ellipse fill=\"black\" stroke=\"black\" cx=\"99\" cy=\"-105\" rx=\"27\" ry=\"18\"/>\n<text text-anchor=\"middle\" x=\"99\" y=\"-101.3\" font-family=\"Times,serif\" font-size=\"14.00\" fill=\"white\">C</text>\n</g>\n<!-- graph(k,program5)&#45;&#45;__conjunction(6,program5) -->\n<g id=\"edge13\" class=\"edge\">\n<title>graph(k,program5)&#45;&#45;__conjunction(6,program5)</title>\n<path fill=\"none\" stroke=\"black\" d=\"M99,-173.8C99,-162.16 99,-146.55 99,-133.24\"/>\n<polygon fill=\"black\" stroke=\"black\" points=\"102.5,-133.18 99,-123.18 95.5,-133.18 102.5,-133.18\"/>\n<text text-anchor=\"middle\" x=\"103.5\" y=\"-144.8\" font-family=\"Times,serif\" font-size=\"14.00\">+</text>\n</g>\n<!-- graph(b,program5) -->\n<g id=\"node3\" class=\"node\">\n<title>graph(b,program5)</title>\n<ellipse fill=\"none\" stroke=\"black\" cx=\"117\" cy=\"-540\" rx=\"27\" ry=\"18\"/>\n<text text-anchor=\"middle\" x=\"117\" y=\"-536.3\" font-family=\"Times,serif\" font-size=\"14.00\">b</text>\n</g>\n<!-- graph(b,program5)&#45;&#45;graph(a,program5) -->\n<g id=\"edge10\" class=\"edge\">\n<title>graph(b,program5)&#45;&#45;graph(a,program5)</title>\n<path fill=\"none\" stroke=\"black\" d=\"M122.53,-522.21C126.44,-510.33 131.77,-494.17 136.25,-480.56\"/>\n<polygon fill=\"black\" stroke=\"black\" points=\"139.68,-481.35 139.48,-470.76 133.03,-479.16 139.68,-481.35\"/>\n<text text-anchor=\"middle\" x=\"134.5\" y=\"-492.8\" font-family=\"Times,serif\" font-size=\"14.00\">&#45;</text>\n</g>\n<!-- graph(b,program5)&#45;&#45;__conjunction(1,program5) -->\n<g id=\"edge2\" class=\"edge\">\n<title>graph(b,program5)&#45;&#45;__conjunction(1,program5)</title>\n<path fill=\"none\" stroke=\"black\" d=\"M142.37,-533.27C177.85,-523.59 238,-500.34 238,-454 238,-454 238,-454 238,-191 238,-168.91 227.17,-146.17 217.07,-129.78\"/>\n<polygon fill=\"black\" stroke=\"black\" points=\"219.99,-127.85 211.61,-121.37 214.12,-131.67 219.99,-127.85\"/>\n<text text-anchor=\"middle\" x=\"242.5\" y=\"-318.8\" font-family=\"Times,serif\" font-size=\"14.00\">+</text>\n</g>\n<!-- __conjunction(2,program5) -->\n<g id=\"node6\" class=\"node\">\n<title>__conjunction(2,program5)</title>\n<ellipse fill=\"black\" stroke=\"black\" cx=\"99\" cy=\"-279\" rx=\"27\" ry=\"18\"/>\n<text text-anchor=\"middle\" x=\"99\" y=\"-275.3\" font-family=\"Times,serif\" font-size=\"14.00\" fill=\"white\">C</text>\n</g>\n<!-- graph(b,program5)&#45;&#45;__conjunction(2,program5) -->\n<g id=\"edge5\" class=\"edge\">\n<title>graph(b,program5)&#45;&#45;__conjunction(2,program5)</title>\n<path fill=\"none\" stroke=\"black\" d=\"M112.25,-522.21C105.91,-498.85 95.02,-455.12 91,-417 86.99,-378.93 91.16,-334.68 94.83,-307.01\"/>\n<polygon fill=\"black\" stroke=\"black\" points=\"98.32,-307.3 96.24,-296.91 91.39,-306.33 98.32,-307.3\"/>\n<text text-anchor=\"middle\" x=\"95.5\" y=\"-405.8\" font-family=\"Times,serif\" font-size=\"14.00\">+</text>\n</g>\n<!-- graph(b,program5)&#45;&#45;__conjunction(3,program5) -->\n<g id=\"edge8\" class=\"edge\">\n<title>graph(b,program5)&#45;&#45;__conjunction(3,program5)</title>\n<path fill=\"none\" stroke=\"black\" d=\"M98.11,-526.57C90.29,-520.58 81.72,-512.78 76,-504 53.89,-470.06 43.31,-423.74 38.54,-394.6\"/>\n<polygon fill=\"black\" stroke=\"black\" points=\"41.94,-393.7 36.99,-384.33 35.02,-394.74 41.94,-393.7\"/>\n<text text-anchor=\"middle\" x=\"61.5\" y=\"-449.3\" font-family=\"Times,serif\" font-size=\"14.00\">&#45;</text>\n</g>\n<!-- __conjunction(1,program5)&#45;&#45;graph(a,program5) -->\n<g id=\"edge3\" class=\"edge\">\n<title>__conjunction(1,program5)&#45;&#45;graph(a,program5)</title>\n<path fill=\"none\" stroke=\"black\" d=\"M200,-123.26C200,-140.43 200,-167.54 200,-191 200,-367 200,-367 200,-367 200,-391.92 183.13,-415.31 168.07,-431.22\"/>\n<polygon fill=\"black\" stroke=\"black\" points=\"165.49,-428.86 160.91,-438.41 170.45,-433.8 165.49,-428.86\"/>\n<text text-anchor=\"middle\" x=\"202.5\" y=\"-275.3\" font-family=\"Times,serif\" font-size=\"14.00\">&#45;</text>\n</g>\n<!-- graph(e,program5) -->\n<g id=\"node5\" class=\"node\">\n<title>graph(e,program5)</title>\n<ellipse fill=\"none\" stroke=\"black\" cx=\"145\" cy=\"-366\" rx=\"27\" ry=\"18\"/>\n<text text-anchor=\"middle\" x=\"145\" y=\"-362.3\" font-family=\"Times,serif\" font-size=\"14.00\">e</text>\n</g>\n<!-- graph(e,program5)&#45;&#45;__conjunction(2,program5) -->\n<g id=\"edge4\" class=\"edge\">\n<title>graph(e,program5)&#45;&#45;__conjunction(2,program5)</title>\n<path fill=\"none\" stroke=\"black\" d=\"M136.13,-348.61C129.47,-336.3 120.23,-319.23 112.63,-305.19\"/>\n<polygon fill=\"black\" stroke=\"black\" points=\"115.52,-303.18 107.69,-296.05 109.37,-306.51 115.52,-303.18\"/>\n<text text-anchor=\"middle\" x=\"126.5\" y=\"-318.8\" font-family=\"Times,serif\" font-size=\"14.00\">&#45;</text>\n</g>\n<!-- graph(e,program5)&#45;&#45;__conjunction(6,program5) -->\n<g id=\"edge12\" class=\"edge\">\n<title>graph(e,program5)&#45;&#45;__conjunction(6,program5)</title>\n<path fill=\"none\" stroke=\"black\" d=\"M149.11,-347.91C157.57,-308.95 173.45,-211.45 140,-141 136.93,-134.52 132.02,-128.79 126.66,-123.93\"/>\n<polygon fill=\"black\" stroke=\"black\" points=\"128.61,-121.01 118.63,-117.46 124.22,-126.46 128.61,-121.01\"/>\n<text text-anchor=\"middle\" x=\"162.5\" y=\"-231.8\" font-family=\"Times,serif\" font-size=\"14.00\">&#45;</text>\n</g>\n<!-- __conjunction(2,program5)&#45;&#45;graph(k,program5) -->\n<g id=\"edge6\" class=\"edge\">\n<title>__conjunction(2,program5)&#45;&#45;graph(k,program5)</title>\n<path fill=\"none\" stroke=\"black\" d=\"M99,-260.8C99,-249.16 99,-233.55 99,-220.24\"/>\n<polygon fill=\"black\" stroke=\"black\" points=\"102.5,-220.18 99,-210.18 95.5,-220.18 102.5,-220.18\"/>\n<text text-anchor=\"middle\" x=\"101.5\" y=\"-231.8\" font-family=\"Times,serif\" font-size=\"14.00\">&#45;</text>\n</g>\n<!-- graph(c,program5) -->\n<g id=\"node7\" class=\"node\">\n<title>graph(c,program5)</title>\n<ellipse fill=\"none\" stroke=\"black\" cx=\"27\" cy=\"-279\" rx=\"27\" ry=\"18\"/>\n<text text-anchor=\"middle\" x=\"27\" y=\"-275.3\" font-family=\"Times,serif\" font-size=\"14.00\">c</text>\n</g>\n<!-- graph(c,program5)&#45;&#45;graph(k,program5) -->\n<g id=\"edge11\" class=\"edge\">\n<title>graph(c,program5)&#45;&#45;graph(k,program5)</title>\n<path fill=\"none\" stroke=\"black\" d=\"M39.87,-262.8C50.93,-249.75 67.04,-230.74 79.65,-215.85\"/>\n<polygon fill=\"black\" stroke=\"black\" points=\"82.45,-217.96 86.24,-208.06 77.11,-213.43 82.45,-217.96\"/>\n<text text-anchor=\"middle\" x=\"72.5\" y=\"-231.8\" font-family=\"Times,serif\" font-size=\"14.00\">+</text>\n</g>\n<!-- graph(c,program5)&#45;&#45;__conjunction(6,program5) -->\n<g id=\"edge14\" class=\"edge\">\n<title>graph(c,program5)&#45;&#45;__conjunction(6,program5)</title>\n<path fill=\"none\" stroke=\"black\" d=\"M29.66,-260.85C33.33,-239.75 41.01,-203.14 54,-174 61.02,-158.24 71.56,-142.08 80.67,-129.46\"/>\n<polygon fill=\"black\" stroke=\"black\" points=\"83.54,-131.46 86.69,-121.34 77.92,-127.29 83.54,-131.46\"/>\n<text text-anchor=\"middle\" x=\"58.5\" y=\"-188.3\" font-family=\"Times,serif\" font-size=\"14.00\">+</text>\n</g>\n<!-- __conjunction(3,program5)&#45;&#45;graph(c,program5) -->\n<g id=\"edge9\" class=\"edge\">\n<title>__conjunction(3,program5)&#45;&#45;graph(c,program5)</title>\n<path fill=\"none\" stroke=\"black\" d=\"M33.38,-347.8C32.29,-336.16 30.82,-320.55 29.56,-307.24\"/>\n<polygon fill=\"black\" stroke=\"black\" points=\"33.04,-306.8 28.62,-297.18 26.07,-307.46 33.04,-306.8\"/>\n<text text-anchor=\"middle\" x=\"34.5\" y=\"-318.8\" font-family=\"Times,serif\" font-size=\"14.00\">&#45;</text>\n</g>\n<!-- graph(f,program5) -->\n<g id=\"node9\" class=\"node\">\n<title>graph(f,program5)</title>\n<ellipse fill=\"none\" stroke=\"black\" cx=\"99\" cy=\"-18\" rx=\"27\" ry=\"18\"/>\n<text text-anchor=\"middle\" x=\"99\" y=\"-14.3\" font-family=\"Times,serif\" font-size=\"14.00\">f</text>\n</g>\n<!-- __conjunction(6,program5)&#45;&#45;graph(f,program5) -->\n<g id=\"edge15\" class=\"edge\">\n<title>__conjunction(6,program5)&#45;&#45;graph(f,program5)</title>\n<path fill=\"none\" stroke=\"black\" d=\"M99,-86.8C99,-75.16 99,-59.55 99,-46.24\"/>\n<polygon fill=\"black\" stroke=\"black\" points=\"102.5,-46.18 99,-36.18 95.5,-46.18 102.5,-46.18\"/>\n<text text-anchor=\"middle\" x=\"101.5\" y=\"-57.8\" font-family=\"Times,serif\" font-size=\"14.00\">&#45;</text>\n</g>\n</g>\n</svg>\n",
      "text/plain": "<graphviz.graphs.Graph at 0x7f163a6140d0>"
     },
     "execution_count": 680,
     "metadata": {},
     "output_type": "execute_result"
    }
   ],
   "source": [
    "graphs['program5']"
   ],
   "metadata": {
    "collapsed": false,
    "pycharm": {
     "name": "#%%\n"
    }
   }
  }
 ],
 "metadata": {
  "kernelspec": {
   "display_name": "Python 3",
   "language": "python",
   "name": "python3"
  },
  "language_info": {
   "codemirror_mode": {
    "name": "ipython",
    "version": 2
   },
   "file_extension": ".py",
   "mimetype": "text/x-python",
   "name": "python",
   "nbconvert_exporter": "python",
   "pygments_lexer": "ipython2",
   "version": "2.7.6"
  }
 },
 "nbformat": 4,
 "nbformat_minor": 0
}