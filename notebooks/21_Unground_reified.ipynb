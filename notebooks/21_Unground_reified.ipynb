{
 "cells": [
  {
   "cell_type": "code",
   "execution_count": 1,
   "metadata": {
    "collapsed": true
   },
   "outputs": [],
   "source": [
    "import clingo\n",
    "import clingo.ast"
   ]
  },
  {
   "cell_type": "code",
   "execution_count": 2,
   "outputs": [],
   "source": [
    "program = \"\"\"\n",
    "\n",
    "domA(0).\n",
    "\n",
    "domA(A) :- domA(A).\n",
    "\n",
    "\"\"\""
   ],
   "metadata": {
    "collapsed": false,
    "pycharm": {
     "name": "#%%\n"
    }
   }
  },
  {
   "cell_type": "code",
   "execution_count": 3,
   "outputs": [],
   "source": [
    "unground_reified = \"\"\"\n",
    "\n",
    "% domA(0).\n",
    "rule(1).                  % rule - identifier\n",
    "\n",
    "head(1).                  % head - identifier\n",
    "literal(1).               % literal - identifier\n",
    "literal_sign(1, 0).       % sign = how many nots\n",
    "literal_atom(1, 1).       % link to atom 1\n",
    "atom(1).                  % atom - identifier\n",
    "atom(1, 1).               % link to symbol 1 (function/variable/term)\n",
    "function(1).              % symbol(function) - identifier\n",
    "function_name(1, 1).      % name of function\n",
    "name_repr(1, \"domA\").     % repr of name\n",
    "function_args(1, 1).      % link to argument tuple\n",
    "args(1).                  % argument tuple - identifier\n",
    "args_pos_symb(1, 1, 2).   % argument tuple 1 has link to symbol 2 at position 1\n",
    "term(2).                  % symbol(term) - identifier\n",
    "term_repr(2, 0).          % representation of term\n",
    "head(1,1).                % head 1 has link to literal 1\n",
    "\n",
    "rule_head_body(1, 1, 0). % rule 1 has head 1 and empty body\n",
    "\n",
    "% domA(A) :- domA(A).\n",
    "rule(2).\n",
    "\n",
    "body(1).                 % body - identifier\n",
    "body(1, 3).              % body has link to literal 1\n",
    "function(3).             % symbol(function) - identifier\n",
    "function_name(3, 1).     % name of function (shares the same name as function 1)\n",
    "function_args(3, 2).     % link to arguments\n",
    "args(2).                 % new arguments\n",
    "args_pos_symb(2, 1, 4).  % arguments have symbol 4 at pos 1\n",
    "variable(4).             % variable 4\n",
    "variable_name(4, 2).     % link to name\n",
    "name_repr(2, \"A\").       % repr of name\n",
    "\n",
    "rule_head_body(2, 1, 1). % rule 2 has head 1 and body 1\n",
    "\n",
    "\"\"\""
   ],
   "metadata": {
    "collapsed": false,
    "pycharm": {
     "name": "#%%\n"
    }
   }
  },
  {
   "cell_type": "code",
   "execution_count": 4,
   "outputs": [],
   "source": [
    "pos = clingo.ast.Position('<string>', 1, 1)\n",
    "loc = clingo.ast.Location(pos, pos)"
   ],
   "metadata": {
    "collapsed": false,
    "pycharm": {
     "name": "#%%\n"
    }
   }
  },
  {
   "cell_type": "code",
   "execution_count": 4,
   "outputs": [],
   "source": [
    "unground_reified_alt = \"\"\"\n",
    "\n",
    "rule(head(literal(atom(symbol(function(name(\"domA\"), arguments(term(0)))))))), body()).\n",
    "rule(head(literal(atom(symbol(function(name(\"domA\"), arguments(variable(name(\"A\"))))))), body(arguments(literal(atom(symbol(function(name(\"domA\"), arguments(variable(name(\"A\"))))))))))).\n",
    "\n",
    "\"\"\""
   ],
   "metadata": {
    "collapsed": false,
    "pycharm": {
     "name": "#%%\n"
    }
   }
  }
 ],
 "metadata": {
  "kernelspec": {
   "display_name": "Python 3",
   "language": "python",
   "name": "python3"
  },
  "language_info": {
   "codemirror_mode": {
    "name": "ipython",
    "version": 2
   },
   "file_extension": ".py",
   "mimetype": "text/x-python",
   "name": "python",
   "nbconvert_exporter": "python",
   "pygments_lexer": "ipython2",
   "version": "2.7.6"
  }
 },
 "nbformat": 4,
 "nbformat_minor": 0
}