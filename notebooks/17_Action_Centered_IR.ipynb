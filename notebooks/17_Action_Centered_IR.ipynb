{
 "cells": [
  {
   "cell_type": "code",
   "execution_count": null,
   "outputs": [],
   "source": [
    "import sys\n",
    "\n",
    "sys.path.append(\"..\")"
   ],
   "metadata": {
    "collapsed": false,
    "pycharm": {
     "name": "#%%\n"
    }
   }
  },
  {
   "cell_type": "code",
   "execution_count": 1,
   "outputs": [],
   "source": [
    "from util.run import solve"
   ],
   "metadata": {
    "collapsed": false,
    "pycharm": {
     "name": "#%%\n"
    }
   }
  },
  {
   "cell_type": "code",
   "execution_count": 18,
   "outputs": [
    {
     "name": "stdout",
     "output_type": "stream",
     "text": [
      "Answer  1: {  }.\n",
      "SAT 1 \n"
     ]
    },
    {
     "name": "stderr",
     "output_type": "stream",
     "text": [
      "<block>:8:17-24: info: atom does not occur in any rule head:\n",
      "  time(T)\n",
      "\n",
      "<block>:8:30-39: info: atom does not occur in any rule head:\n",
      "  time((T+-1))\n",
      "\n",
      "<block>:18:18-29: info: atom does not occur in any rule head:\n",
      "  initTrue(F)\n",
      "\n",
      "<block>:19:18-30: info: atom does not occur in any rule head:\n",
      "  initFalse(F)\n",
      "\n",
      "<block>:22:20-29: info: atom does not occur in any rule head:\n",
      "  forced(F)\n",
      "\n",
      "<block>:22:31-41: info: atom does not occur in any rule head:\n",
      "  default(F)\n",
      "\n",
      "<block>:22:47-59: info: atom does not occur in any rule head:\n",
      "  initFalse(F)\n",
      "\n",
      "<block>:23:41-50: info: atom does not occur in any rule head:\n",
      "  forced(F)\n",
      "\n",
      "<block>:23:56-66: info: atom does not occur in any rule head:\n",
      "  default(F)\n",
      "\n",
      "<block>:23:72-83: info: atom does not occur in any rule head:\n",
      "  initTrue(F)\n",
      "\n",
      "<block>:23:89-101: info: atom does not occur in any rule head:\n",
      "  initFalse(F)\n",
      "\n",
      "<block>:26:18-28: info: atom does not occur in any rule head:\n",
      "  default(F)\n",
      "\n",
      "<block>:27:18-27: info: atom does not occur in any rule head:\n",
      "  fluent(F)\n",
      "\n",
      "<block>:27:33-43: info: atom does not occur in any rule head:\n",
      "  default(F)\n",
      "\n"
     ]
    }
   ],
   "source": [
    "reasoning = \"\"\"\n",
    "\n",
    "%obs_at(a, 1).\n",
    "%neg_at(a, 1).\n",
    "%unk_at(a, 1).\n",
    "\n",
    "\n",
    "startTime(T) :- time(T), not time(T-1).\n",
    "\n",
    ":- obs_at(F, T), unk_at(F, T).\n",
    ":- neg_at(F, T), unk_at(F, T).\n",
    "\n",
    "obs_at(F, T+1) :- obs_at(F, T), not neg_at(F, T+1), not unk_at(F, T+1).\n",
    "neg_at(F, T+1) :- neg_at(F, T), not obs_at(F, T+1), not unk_at(F, T+1).\n",
    "unk_at(F, T+1) :- unk_at(F, T), not obs_at(F, T+1), not neg_at(F, T+1).\n",
    "\n",
    "%g1\n",
    "obs_at(F, ST) :- initTrue(F), startTime(ST).\n",
    "neg_at(F, ST) :- initFalse(F), startTime(ST).\n",
    "\n",
    "%g2\n",
    "holds_at(F, ST) :- forced(F), default(F), not initFalse(F), startTime(ST).\n",
    "1 { obs_at(F, ST); neg_at(F, ST) } 1 :- forced(F), not default(F), not initTrue(F), not initFalse(F), startTime(ST).\n",
    "\n",
    "%g3\n",
    "neg_at(F, ST) :- default(F), not obs_at(F, ST), startTime(ST).\n",
    "unk_at(F, ST) :- fluent(F), not default(F), not obs_at(F, ST), not neg_at(F, ST), startTime(ST).\n",
    "\n",
    "\"\"\"\n",
    "solve(reasoning);"
   ],
   "metadata": {
    "collapsed": false,
    "pycharm": {
     "name": "#%%\n"
    }
   }
  },
  {
   "cell_type": "code",
   "execution_count": null,
   "outputs": [],
   "source": [],
   "metadata": {
    "collapsed": false,
    "pycharm": {
     "name": "#%%\n"
    }
   }
  }
 ],
 "metadata": {
  "kernelspec": {
   "display_name": "Python 3",
   "language": "python",
   "name": "python3"
  },
  "language_info": {
   "codemirror_mode": {
    "name": "ipython",
    "version": 2
   },
   "file_extension": ".py",
   "mimetype": "text/x-python",
   "name": "python",
   "nbconvert_exporter": "python",
   "pygments_lexer": "ipython2",
   "version": "2.7.6"
  }
 },
 "nbformat": 4,
 "nbformat_minor": 0
}