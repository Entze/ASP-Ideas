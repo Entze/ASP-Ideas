{
 "cells": [
  {
   "cell_type": "code",
   "execution_count": 35,
   "metadata": {
    "pycharm": {
     "name": "#%%\n"
    }
   },
   "outputs": [],
   "source": [
    "from typing import Sequence, Optional, Iterator\n",
    "\n",
    "import clingo\n",
    "import clingraph.clingo_utils\n",
    "from clingraph import Factbase, compute_graphs"
   ]
  },
  {
   "cell_type": "code",
   "execution_count": 36,
   "metadata": {
    "pycharm": {
     "name": "#%%\n"
    }
   },
   "outputs": [],
   "source": [
    "def solve(programs,\n",
    "          ctl: Optional[clingo.Control] = None,\n",
    "          parts=(('base', ()),),\n",
    "          context=None,\n",
    "          report=False,\n",
    "          report_models=True,\n",
    "          report_result=True,\n",
    "          symbol_sep=' ',\n",
    "          model_sep='\\n'\n",
    "          ) -> Iterator[Sequence[clingo.Symbol]]:\n",
    "    if ctl is None:\n",
    "        ctl = clingo.Control()\n",
    "        ctl.configuration.solve.models = 0\n",
    "    ctl.add('base', [], '\\n'.join(programs))\n",
    "    ctl.ground(parts, context=context)\n",
    "    with ctl.solve(yield_=True) as solve_handle:\n",
    "        models = 0\n",
    "        for model in solve_handle:\n",
    "            symbols = sorted(model.symbols(shown=True))\n",
    "            if report and report_models:\n",
    "                print(\"Answer {}:\".format(model.number), end=' ')\n",
    "                print(\"{\",\n",
    "                      symbol_sep.join(map(str, symbols)), \"}\", sep=symbol_sep, end=model_sep)\n",
    "            models += 1\n",
    "            yield symbols\n",
    "        if report and report_result:\n",
    "            solve_result = solve_handle.get()\n",
    "            print(solve_result, end='')\n",
    "            if solve_result.satisfiable:\n",
    "                print(\" {}{}\".format(models, '' if solve_result.exhausted else '+'))\n",
    "            else:\n",
    "                print()\n",
    "\n",
    "def draw_graph(programs,\n",
    "          ctl: Optional[clingo.Control] = None,\n",
    "          parts=(('base', ()),)):\n",
    "    fb = Factbase()\n",
    "    if ctl is None:\n",
    "        ctl = clingo.Control()\n",
    "        ctl.configuration.solve.models = 0\n",
    "    ctl.add('base', [], '\\n'.join(programs))\n",
    "    ctl.ground(parts, clingraph.clingo_utils.ClingraphContext())\n",
    "    with ctl.solve(yield_=True) as solve_handle:\n",
    "        for model in solve_handle:\n",
    "            fb.add_model(model)\n",
    "            break\n",
    "    return compute_graphs(fb)"
   ]
  },
  {
   "cell_type": "code",
   "execution_count": 37,
   "metadata": {
    "pycharm": {
     "name": "#%%\n"
    }
   },
   "outputs": [
    {
     "name": "stdout",
     "output_type": "stream",
     "text": [
      "Answer 1: { bird flies robin tweety wings }\n",
      "Answer 2: { bird kiwi tweety wingless }\n",
      "SAT 2\n"
     ]
    }
   ],
   "source": [
    "birds = \"\"\"\n",
    "\n",
    "tweety.\n",
    "\n",
    "robin :- tweety, not kiwi.\n",
    "kiwi :- tweety, not robin.\n",
    "\n",
    "wings :- robin.\n",
    "wingless :- not wings.\n",
    "\n",
    "bird :- robin.\n",
    "bird :- kiwi.\n",
    "\n",
    "flies :- bird, wings.\n",
    "\n",
    "\"\"\"\n",
    "models = tuple(solve([birds], report=True));"
   ]
  },
  {
   "cell_type": "code",
   "execution_count": 38,
   "metadata": {
    "pycharm": {
     "name": "#%%\n"
    }
   },
   "outputs": [],
   "source": [
    "graph_encoding = \"\"\"\n",
    "\n",
    "node(U) :- edge((U,V)).\n",
    "node(V) :- edge((U,V)).\n",
    "\n",
    "attr(node, L, label, L) :- pos_literal(L).\n",
    "attr(node, N, label, @concat(\"not \", P)) :- neg_literal(N), pos_neg(P,N).\n",
    "attr(node, N, fontname, \"fira-sans\") :- node(N).\n",
    "attr(edge, E, fontname, \"fira-sans\") :- edge(E).\n",
    "\n",
    "attr(node, L, style, filled) :- neg_literal(L).\n",
    "attr(node, L, fontcolor, white) :- neg_literal(L).\n",
    "attr(node, L, color, black) :- neg_literal(L).\n",
    "\n",
    "node(Rule) :- rule(Rule).\n",
    "rule(R) :- fact(R).\n",
    "attr(node, R, width, L+2) :- rule(R), L = #count { F : edge((R, F)) }.\n",
    "\n",
    "attr(edge, E, dir, forward) :- edge(E).\n",
    "attr(node, Rule, shape, box) :- rule(Rule).\n",
    "\n",
    "\"\"\"\n",
    "\n",
    "common = \"\"\"\n",
    "\n",
    "pos_literal(wings; bird; flies; kiwi; wingless; robin; tweety).\n",
    "neg_literal(-wings; -bird; -flies; -kiwi; -wingless; -robin; -tweety).\n",
    "pos_neg(wings, -wings).\n",
    "pos_neg(bird, -bird).\n",
    "pos_neg(flies, -flies).\n",
    "pos_neg(kiwi, -kiwi).\n",
    "pos_neg(wingless, -wingless).\n",
    "pos_neg(robin, -robin).\n",
    "pos_neg(tweety, -tweety).\n",
    "\n",
    "\"\"\""
   ]
  },
  {
   "cell_type": "code",
   "execution_count": 39,
   "metadata": {
    "pycharm": {
     "name": "#%%\n"
    }
   },
   "outputs": [
    {
     "data": {
      "image/svg+xml": "<?xml version=\"1.0\" encoding=\"UTF-8\" standalone=\"no\"?>\n<!DOCTYPE svg PUBLIC \"-//W3C//DTD SVG 1.1//EN\"\n \"http://www.w3.org/Graphics/SVG/1.1/DTD/svg11.dtd\">\n<!-- Generated by graphviz version 3.0.0 (20220227.1548)\n -->\n<!-- Title: default Pages: 1 -->\n<svg width=\"728pt\" height=\"548pt\"\n viewBox=\"0.00 0.00 728.00 548.00\" xmlns=\"http://www.w3.org/2000/svg\" xmlns:xlink=\"http://www.w3.org/1999/xlink\">\n<g id=\"graph0\" class=\"graph\" transform=\"scale(1 1) rotate(0) translate(4 544)\">\n<title>default</title>\n<polygon fill=\"white\" stroke=\"transparent\" points=\"-4,4 -4,-544 724,-544 724,4 -4,4\"/>\n<!-- r2 -->\n<g id=\"node1\" class=\"node\">\n<title>r2</title>\n<polygon fill=\"none\" stroke=\"black\" points=\"414,-180 126,-180 126,-144 414,-144 414,-180\"/>\n<text text-anchor=\"middle\" x=\"270\" y=\"-158.3\" font-family=\"fira-sans\" font-size=\"14.00\">robin :&#45; tweety, not kiwi.</text>\n</g>\n<!-- tweety -->\n<g id=\"node7\" class=\"node\">\n<title>tweety</title>\n<ellipse fill=\"none\" stroke=\"black\" cx=\"421\" cy=\"-90\" rx=\"40.09\" ry=\"18\"/>\n<text text-anchor=\"middle\" x=\"421\" y=\"-86.3\" font-family=\"fira-sans\" font-size=\"14.00\">tweety</text>\n</g>\n<!-- r2&#45;&#45;tweety -->\n<g id=\"edge5\" class=\"edge\">\n<title>r2&#45;&#45;tweety</title>\n<path fill=\"none\" stroke=\"black\" d=\"M306.94,-143.88C330.57,-132.92 361.1,-118.77 384.63,-107.86\"/>\n<polygon fill=\"black\" stroke=\"black\" points=\"386.31,-110.94 393.91,-103.56 383.37,-104.59 386.31,-110.94\"/>\n</g>\n<!-- &#45;kiwi -->\n<g id=\"node17\" class=\"node\">\n<title>&#45;kiwi</title>\n<ellipse fill=\"black\" stroke=\"black\" cx=\"270\" cy=\"-90\" rx=\"44.69\" ry=\"18\"/>\n<text text-anchor=\"middle\" x=\"270\" y=\"-86.3\" font-family=\"fira-sans\" font-size=\"14.00\" fill=\"white\">not kiwi</text>\n</g>\n<!-- r2&#45;&#45;&#45;kiwi -->\n<g id=\"edge7\" class=\"edge\">\n<title>r2&#45;&#45;&#45;kiwi</title>\n<path fill=\"none\" stroke=\"black\" d=\"M270,-143.7C270,-135.98 270,-126.71 270,-118.11\"/>\n<polygon fill=\"black\" stroke=\"black\" points=\"273.5,-118.1 270,-108.1 266.5,-118.1 273.5,-118.1\"/>\n</g>\n<!-- r5 -->\n<g id=\"node2\" class=\"node\">\n<title>r5</title>\n<polygon fill=\"none\" stroke=\"black\" points=\"634,-468 418,-468 418,-432 634,-432 634,-468\"/>\n<text text-anchor=\"middle\" x=\"526\" y=\"-446.3\" font-family=\"fira-sans\" font-size=\"14.00\">wingless :&#45; not wings.</text>\n</g>\n<!-- &#45;wings -->\n<g id=\"node6\" class=\"node\">\n<title>&#45;wings</title>\n<ellipse fill=\"black\" stroke=\"black\" cx=\"526\" cy=\"-378\" rx=\"53.09\" ry=\"18\"/>\n<text text-anchor=\"middle\" x=\"526\" y=\"-374.3\" font-family=\"fira-sans\" font-size=\"14.00\" fill=\"white\">not wings</text>\n</g>\n<!-- r5&#45;&#45;&#45;wings -->\n<g id=\"edge10\" class=\"edge\">\n<title>r5&#45;&#45;&#45;wings</title>\n<path fill=\"none\" stroke=\"black\" d=\"M526,-431.7C526,-423.98 526,-414.71 526,-406.11\"/>\n<polygon fill=\"black\" stroke=\"black\" points=\"529.5,-406.1 526,-396.1 522.5,-406.1 529.5,-406.1\"/>\n</g>\n<!-- wings -->\n<g id=\"node3\" class=\"node\">\n<title>wings</title>\n<ellipse fill=\"none\" stroke=\"black\" cx=\"139\" cy=\"-378\" rx=\"36.29\" ry=\"18\"/>\n<text text-anchor=\"middle\" x=\"139\" y=\"-374.3\" font-family=\"fira-sans\" font-size=\"14.00\">wings</text>\n</g>\n<!-- r4 -->\n<g id=\"node5\" class=\"node\">\n<title>r4</title>\n<polygon fill=\"none\" stroke=\"black\" points=\"216,-324 0,-324 0,-288 216,-288 216,-324\"/>\n<text text-anchor=\"middle\" x=\"108\" y=\"-302.3\" font-family=\"fira-sans\" font-size=\"14.00\">wings :&#45; robin.</text>\n</g>\n<!-- wings&#45;&#45;r4 -->\n<g id=\"edge16\" class=\"edge\">\n<title>wings&#45;&#45;r4</title>\n<path fill=\"none\" stroke=\"black\" d=\"M131.5,-360.05C127.97,-352.09 123.68,-342.41 119.74,-333.51\"/>\n<polygon fill=\"black\" stroke=\"black\" points=\"122.9,-332 115.65,-324.28 116.5,-334.84 122.9,-332\"/>\n</g>\n<!-- r8 -->\n<g id=\"node4\" class=\"node\">\n<title>r8</title>\n<polygon fill=\"none\" stroke=\"black\" points=\"342,-468 54,-468 54,-432 342,-432 342,-468\"/>\n<text text-anchor=\"middle\" x=\"198\" y=\"-446.3\" font-family=\"fira-sans\" font-size=\"14.00\">flies :&#45; bird, wings.</text>\n</g>\n<!-- r8&#45;&#45;wings -->\n<g id=\"edge18\" class=\"edge\">\n<title>r8&#45;&#45;wings</title>\n<path fill=\"none\" stroke=\"black\" d=\"M183.42,-431.7C176.13,-423.05 167.2,-412.46 159.26,-403.04\"/>\n<polygon fill=\"black\" stroke=\"black\" points=\"161.73,-400.54 152.61,-395.14 156.38,-405.05 161.73,-400.54\"/>\n</g>\n<!-- bird -->\n<g id=\"node10\" class=\"node\">\n<title>bird</title>\n<ellipse fill=\"none\" stroke=\"black\" cx=\"342\" cy=\"-378\" rx=\"27.1\" ry=\"18\"/>\n<text text-anchor=\"middle\" x=\"342\" y=\"-374.3\" font-family=\"fira-sans\" font-size=\"14.00\">bird</text>\n</g>\n<!-- r8&#45;&#45;bird -->\n<g id=\"edge4\" class=\"edge\">\n<title>r8&#45;&#45;bird</title>\n<path fill=\"none\" stroke=\"black\" d=\"M233.23,-431.88C257.12,-420.26 288.41,-405.05 311.29,-393.93\"/>\n<polygon fill=\"black\" stroke=\"black\" points=\"313.07,-396.95 320.53,-389.43 310.01,-390.66 313.07,-396.95\"/>\n</g>\n<!-- robin -->\n<g id=\"node18\" class=\"node\">\n<title>robin</title>\n<ellipse fill=\"none\" stroke=\"black\" cx=\"270\" cy=\"-234\" rx=\"33.29\" ry=\"18\"/>\n<text text-anchor=\"middle\" x=\"270\" y=\"-230.3\" font-family=\"fira-sans\" font-size=\"14.00\">robin</text>\n</g>\n<!-- r4&#45;&#45;robin -->\n<g id=\"edge9\" class=\"edge\">\n<title>r4&#45;&#45;robin</title>\n<path fill=\"none\" stroke=\"black\" d=\"M147.63,-287.88C174.54,-276.25 209.78,-261.02 235.53,-249.89\"/>\n<polygon fill=\"black\" stroke=\"black\" points=\"237.1,-253.03 244.9,-245.85 234.33,-246.6 237.1,-253.03\"/>\n</g>\n<!-- r1 -->\n<g id=\"node9\" class=\"node\">\n<title>r1</title>\n<polygon fill=\"none\" stroke=\"black\" points=\"493,-36 349,-36 349,0 493,0 493,-36\"/>\n<text text-anchor=\"middle\" x=\"421\" y=\"-14.3\" font-family=\"fira-sans\" font-size=\"14.00\">tweety.</text>\n</g>\n<!-- tweety&#45;&#45;r1 -->\n<g id=\"edge17\" class=\"edge\">\n<title>tweety&#45;&#45;r1</title>\n<path fill=\"none\" stroke=\"black\" d=\"M421,-71.7C421,-63.98 421,-54.71 421,-46.11\"/>\n<polygon fill=\"black\" stroke=\"black\" points=\"424.5,-46.1 421,-36.1 417.5,-46.1 424.5,-46.1\"/>\n</g>\n<!-- r3 -->\n<g id=\"node8\" class=\"node\">\n<title>r3</title>\n<polygon fill=\"none\" stroke=\"black\" points=\"720,-180 432,-180 432,-144 720,-144 720,-180\"/>\n<text text-anchor=\"middle\" x=\"576\" y=\"-158.3\" font-family=\"fira-sans\" font-size=\"14.00\">kiwi :&#45; tweety, not robin.</text>\n</g>\n<!-- r3&#45;&#45;tweety -->\n<g id=\"edge3\" class=\"edge\">\n<title>r3&#45;&#45;tweety</title>\n<path fill=\"none\" stroke=\"black\" d=\"M538.08,-143.88C513.56,-132.8 481.8,-118.46 457.55,-107.5\"/>\n<polygon fill=\"black\" stroke=\"black\" points=\"458.87,-104.26 448.32,-103.34 455.99,-110.64 458.87,-104.26\"/>\n</g>\n<!-- &#45;robin -->\n<g id=\"node12\" class=\"node\">\n<title>&#45;robin</title>\n<ellipse fill=\"black\" stroke=\"black\" cx=\"576\" cy=\"-90\" rx=\"50.09\" ry=\"18\"/>\n<text text-anchor=\"middle\" x=\"576\" y=\"-86.3\" font-family=\"fira-sans\" font-size=\"14.00\" fill=\"white\">not robin</text>\n</g>\n<!-- r3&#45;&#45;&#45;robin -->\n<g id=\"edge1\" class=\"edge\">\n<title>r3&#45;&#45;&#45;robin</title>\n<path fill=\"none\" stroke=\"black\" d=\"M576,-143.7C576,-135.98 576,-126.71 576,-118.11\"/>\n<polygon fill=\"black\" stroke=\"black\" points=\"579.5,-118.1 576,-108.1 572.5,-118.1 579.5,-118.1\"/>\n</g>\n<!-- r6 -->\n<g id=\"node13\" class=\"node\">\n<title>r6</title>\n<polygon fill=\"none\" stroke=\"black\" points=\"450,-324 234,-324 234,-288 450,-288 450,-324\"/>\n<text text-anchor=\"middle\" x=\"342\" y=\"-302.3\" font-family=\"fira-sans\" font-size=\"14.00\">bird :&#45; robin.</text>\n</g>\n<!-- bird&#45;&#45;r6 -->\n<g id=\"edge14\" class=\"edge\">\n<title>bird&#45;&#45;r6</title>\n<path fill=\"none\" stroke=\"black\" d=\"M342,-359.7C342,-351.98 342,-342.71 342,-334.11\"/>\n<polygon fill=\"black\" stroke=\"black\" points=\"345.5,-334.1 342,-324.1 338.5,-334.1 345.5,-334.1\"/>\n</g>\n<!-- r7 -->\n<g id=\"node15\" class=\"node\">\n<title>r7</title>\n<polygon fill=\"none\" stroke=\"black\" points=\"684,-324 468,-324 468,-288 684,-288 684,-324\"/>\n<text text-anchor=\"middle\" x=\"576\" y=\"-302.3\" font-family=\"fira-sans\" font-size=\"14.00\">bird :&#45; kiwi.</text>\n</g>\n<!-- bird&#45;&#45;r7 -->\n<g id=\"edge15\" class=\"edge\">\n<title>bird&#45;&#45;r7</title>\n<path fill=\"none\" stroke=\"black\" d=\"M366.6,-369.64C400.19,-359.59 461.68,-341.2 509.37,-326.93\"/>\n<polygon fill=\"black\" stroke=\"black\" points=\"510.44,-330.26 519.02,-324.04 508.44,-323.56 510.44,-330.26\"/>\n</g>\n<!-- wingless -->\n<g id=\"node11\" class=\"node\">\n<title>wingless</title>\n<ellipse fill=\"none\" stroke=\"black\" cx=\"526\" cy=\"-522\" rx=\"48.19\" ry=\"18\"/>\n<text text-anchor=\"middle\" x=\"526\" y=\"-518.3\" font-family=\"fira-sans\" font-size=\"14.00\">wingless</text>\n</g>\n<!-- wingless&#45;&#45;r5 -->\n<g id=\"edge8\" class=\"edge\">\n<title>wingless&#45;&#45;r5</title>\n<path fill=\"none\" stroke=\"black\" d=\"M526,-503.7C526,-495.98 526,-486.71 526,-478.11\"/>\n<polygon fill=\"black\" stroke=\"black\" points=\"529.5,-478.1 526,-468.1 522.5,-478.1 529.5,-478.1\"/>\n</g>\n<!-- r6&#45;&#45;robin -->\n<g id=\"edge12\" class=\"edge\">\n<title>r6&#45;&#45;robin</title>\n<path fill=\"none\" stroke=\"black\" d=\"M324.2,-287.7C314.78,-278.53 303.1,-267.18 292.99,-257.35\"/>\n<polygon fill=\"black\" stroke=\"black\" points=\"295.25,-254.66 285.64,-250.2 290.37,-259.68 295.25,-254.66\"/>\n</g>\n<!-- flies -->\n<g id=\"node14\" class=\"node\">\n<title>flies</title>\n<ellipse fill=\"none\" stroke=\"black\" cx=\"198\" cy=\"-522\" rx=\"28.7\" ry=\"18\"/>\n<text text-anchor=\"middle\" x=\"198\" y=\"-518.3\" font-family=\"fira-sans\" font-size=\"14.00\">flies</text>\n</g>\n<!-- flies&#45;&#45;r8 -->\n<g id=\"edge6\" class=\"edge\">\n<title>flies&#45;&#45;r8</title>\n<path fill=\"none\" stroke=\"black\" d=\"M198,-503.7C198,-495.98 198,-486.71 198,-478.11\"/>\n<polygon fill=\"black\" stroke=\"black\" points=\"201.5,-478.1 198,-468.1 194.5,-478.1 201.5,-478.1\"/>\n</g>\n<!-- kiwi -->\n<g id=\"node16\" class=\"node\">\n<title>kiwi</title>\n<ellipse fill=\"none\" stroke=\"black\" cx=\"576\" cy=\"-234\" rx=\"27.9\" ry=\"18\"/>\n<text text-anchor=\"middle\" x=\"576\" y=\"-230.3\" font-family=\"fira-sans\" font-size=\"14.00\">kiwi</text>\n</g>\n<!-- r7&#45;&#45;kiwi -->\n<g id=\"edge2\" class=\"edge\">\n<title>r7&#45;&#45;kiwi</title>\n<path fill=\"none\" stroke=\"black\" d=\"M576,-287.7C576,-279.98 576,-270.71 576,-262.11\"/>\n<polygon fill=\"black\" stroke=\"black\" points=\"579.5,-262.1 576,-252.1 572.5,-262.1 579.5,-262.1\"/>\n</g>\n<!-- kiwi&#45;&#45;r3 -->\n<g id=\"edge11\" class=\"edge\">\n<title>kiwi&#45;&#45;r3</title>\n<path fill=\"none\" stroke=\"black\" d=\"M576,-215.7C576,-207.98 576,-198.71 576,-190.11\"/>\n<polygon fill=\"black\" stroke=\"black\" points=\"579.5,-190.1 576,-180.1 572.5,-190.1 579.5,-190.1\"/>\n</g>\n<!-- robin&#45;&#45;r2 -->\n<g id=\"edge13\" class=\"edge\">\n<title>robin&#45;&#45;r2</title>\n<path fill=\"none\" stroke=\"black\" d=\"M270,-215.7C270,-207.98 270,-198.71 270,-190.11\"/>\n<polygon fill=\"black\" stroke=\"black\" points=\"273.5,-190.1 270,-180.1 266.5,-190.1 273.5,-190.1\"/>\n</g>\n</g>\n</svg>\n",
      "text/plain": "<graphviz.graphs.Graph at 0x7fa21ebd9720>"
     },
     "execution_count": 39,
     "metadata": {},
     "output_type": "execute_result"
    }
   ],
   "source": [
    "bird_primal_graph = \"\"\"\n",
    "\n",
    "fact(r1).\n",
    "attr(node, r1, label, \"tweety.\").\n",
    "edge((tweety, r1)).\n",
    "\n",
    "rule(r2).\n",
    "attr(node, r2, label, \"robin :- tweety, not kiwi.\").\n",
    "edge((robin, r2)).\n",
    "edge((r2, tweety)).\n",
    "edge((r2, -kiwi)).\n",
    "\n",
    "rule(r3).\n",
    "attr(node, r3, label, \"kiwi :- tweety, not robin.\").\n",
    "edge((kiwi, r3)).\n",
    "edge((r3, tweety)).\n",
    "edge((r3, -robin)).\n",
    "\n",
    "rule(r4).\n",
    "attr(node, r4, label, \"wings :- robin.\").\n",
    "edge((wings, r4)).\n",
    "edge((r4, robin)).\n",
    "\n",
    "rule(r5).\n",
    "attr(node, r5, label, \"wingless :- not wings.\").\n",
    "edge((wingless, r5)).\n",
    "edge((r5, -wings)).\n",
    "\n",
    "rule(r6).\n",
    "attr(node, r6, label, \"bird :- robin.\").\n",
    "edge((bird, r6)).\n",
    "edge((r6, robin)).\n",
    "\n",
    "rule(r7).\n",
    "attr(node, r7, label, \"bird :- kiwi.\").\n",
    "edge((bird, r7)).\n",
    "edge((r7, kiwi)).\n",
    "\n",
    "rule(r8).\n",
    "attr(node, r8, label, \"flies :- bird, wings.\").\n",
    "edge((flies, r8)).\n",
    "edge((r8, bird)).\n",
    "edge((r8, wings)).\n",
    "\n",
    "\n",
    "\"\"\"\n",
    "\n",
    "primal_graph = draw_graph([bird_primal_graph, common, graph_encoding])['default']\n",
    "primal_graph"
   ]
  },
  {
   "cell_type": "code",
   "execution_count": 40,
   "metadata": {
    "pycharm": {
     "name": "#%%\n"
    }
   },
   "outputs": [],
   "source": [
    "dual = \"\"\"\n",
    "\n",
    "% tweety cannot be disproven.\n",
    "\n",
    "not robin :- not tweety.\n",
    "not robin :- kiwi.\n",
    "\n",
    "not kiwi :- not tweety.\n",
    "not kiwi :- robin.\n",
    "\n",
    "not wings :- not robin.\n",
    "not wingless :- wings.\n",
    "\n",
    "not bird :- not robin, not kiwi.\n",
    "\n",
    "not flies :- not bird.\n",
    "not flies :- not wings.\n",
    "\n",
    "\"\"\""
   ]
  },
  {
   "cell_type": "code",
   "execution_count": 41,
   "metadata": {
    "pycharm": {
     "name": "#%%\n"
    }
   },
   "outputs": [
    {
     "name": "stderr",
     "output_type": "stream",
     "text": [
      "<block>:79:12-19: info: atom does not occur in any rule head:\n",
      "  fact(R)\n",
      "\n"
     ]
    },
    {
     "data": {
      "image/svg+xml": "<?xml version=\"1.0\" encoding=\"UTF-8\" standalone=\"no\"?>\n<!DOCTYPE svg PUBLIC \"-//W3C//DTD SVG 1.1//EN\"\n \"http://www.w3.org/Graphics/SVG/1.1/DTD/svg11.dtd\">\n<!-- Generated by graphviz version 3.0.0 (20220227.1548)\n -->\n<!-- Title: default Pages: 1 -->\n<svg width=\"939pt\" height=\"476pt\"\n viewBox=\"0.00 0.00 939.00 476.00\" xmlns=\"http://www.w3.org/2000/svg\" xmlns:xlink=\"http://www.w3.org/1999/xlink\">\n<g id=\"graph0\" class=\"graph\" transform=\"scale(1 1) rotate(0) translate(4 472)\">\n<title>default</title>\n<polygon fill=\"white\" stroke=\"transparent\" points=\"-4,4 -4,-472 935,-472 935,4 -4,4\"/>\n<!-- d5 -->\n<g id=\"node1\" class=\"node\">\n<title>d5</title>\n<polygon fill=\"none\" stroke=\"black\" points=\"702,-252 486,-252 486,-216 702,-216 702,-252\"/>\n<text text-anchor=\"middle\" x=\"594\" y=\"-230.3\" font-family=\"fira-sans\" font-size=\"14.00\">not wings :&#45; not robin.</text>\n</g>\n<!-- &#45;robin -->\n<g id=\"node14\" class=\"node\">\n<title>&#45;robin</title>\n<ellipse fill=\"black\" stroke=\"black\" cx=\"585\" cy=\"-162\" rx=\"50.09\" ry=\"18\"/>\n<text text-anchor=\"middle\" x=\"585\" y=\"-158.3\" font-family=\"fira-sans\" font-size=\"14.00\" fill=\"white\">not robin</text>\n</g>\n<!-- d5&#45;&#45;&#45;robin -->\n<g id=\"edge19\" class=\"edge\">\n<title>d5&#45;&#45;&#45;robin</title>\n<path fill=\"none\" stroke=\"black\" d=\"M591.78,-215.7C590.78,-207.98 589.59,-198.71 588.49,-190.11\"/>\n<polygon fill=\"black\" stroke=\"black\" points=\"591.95,-189.58 587.2,-180.1 585,-190.47 591.95,-189.58\"/>\n</g>\n<!-- d2 -->\n<g id=\"node2\" class=\"node\">\n<title>d2</title>\n<polygon fill=\"none\" stroke=\"black\" points=\"918,-108 702,-108 702,-72 918,-72 918,-108\"/>\n<text text-anchor=\"middle\" x=\"810\" y=\"-86.3\" font-family=\"fira-sans\" font-size=\"14.00\">not robin :&#45; kiwi.</text>\n</g>\n<!-- kiwi -->\n<g id=\"node11\" class=\"node\">\n<title>kiwi</title>\n<ellipse fill=\"none\" stroke=\"black\" cx=\"810\" cy=\"-18\" rx=\"27.9\" ry=\"18\"/>\n<text text-anchor=\"middle\" x=\"810\" y=\"-14.3\" font-family=\"fira-sans\" font-size=\"14.00\">kiwi</text>\n</g>\n<!-- d2&#45;&#45;kiwi -->\n<g id=\"edge6\" class=\"edge\">\n<title>d2&#45;&#45;kiwi</title>\n<path fill=\"none\" stroke=\"black\" d=\"M810,-71.7C810,-63.98 810,-54.71 810,-46.11\"/>\n<polygon fill=\"black\" stroke=\"black\" points=\"813.5,-46.1 810,-36.1 806.5,-46.1 813.5,-46.1\"/>\n</g>\n<!-- &#45;flies -->\n<g id=\"node3\" class=\"node\">\n<title>&#45;flies</title>\n<ellipse fill=\"black\" stroke=\"black\" cx=\"472\" cy=\"-450\" rx=\"45.49\" ry=\"18\"/>\n<text text-anchor=\"middle\" x=\"472\" y=\"-446.3\" font-family=\"fira-sans\" font-size=\"14.00\" fill=\"white\">not flies</text>\n</g>\n<!-- d8 -->\n<g id=\"node9\" class=\"node\">\n<title>d8</title>\n<polygon fill=\"none\" stroke=\"black\" points=\"459,-396 243,-396 243,-360 459,-360 459,-396\"/>\n<text text-anchor=\"middle\" x=\"351\" y=\"-374.3\" font-family=\"fira-sans\" font-size=\"14.00\">not flies :&#45; not bird.</text>\n</g>\n<!-- &#45;flies&#45;&#45;d8 -->\n<g id=\"edge16\" class=\"edge\">\n<title>&#45;flies&#45;&#45;d8</title>\n<path fill=\"none\" stroke=\"black\" d=\"M447.22,-434.67C430.51,-425 408.13,-412.05 389.16,-401.08\"/>\n<polygon fill=\"black\" stroke=\"black\" points=\"390.85,-398.01 380.44,-396.03 387.34,-404.07 390.85,-398.01\"/>\n</g>\n<!-- d9 -->\n<g id=\"node19\" class=\"node\">\n<title>d9</title>\n<polygon fill=\"none\" stroke=\"black\" points=\"697,-396 481,-396 481,-360 697,-360 697,-396\"/>\n<text text-anchor=\"middle\" x=\"589\" y=\"-374.3\" font-family=\"fira-sans\" font-size=\"14.00\">not flies :&#45; not wings.</text>\n</g>\n<!-- &#45;flies&#45;&#45;d9 -->\n<g id=\"edge4\" class=\"edge\">\n<title>&#45;flies&#45;&#45;d9</title>\n<path fill=\"none\" stroke=\"black\" d=\"M495.96,-434.67C512.05,-425.04 533.56,-412.17 551.85,-401.23\"/>\n<polygon fill=\"black\" stroke=\"black\" points=\"553.75,-404.17 560.53,-396.03 550.15,-398.16 553.75,-404.17\"/>\n</g>\n<!-- &#45;wings -->\n<g id=\"node4\" class=\"node\">\n<title>&#45;wings</title>\n<ellipse fill=\"black\" stroke=\"black\" cx=\"591\" cy=\"-306\" rx=\"53.09\" ry=\"18\"/>\n<text text-anchor=\"middle\" x=\"591\" y=\"-302.3\" font-family=\"fira-sans\" font-size=\"14.00\" fill=\"white\">not wings</text>\n</g>\n<!-- &#45;wings&#45;&#45;d5 -->\n<g id=\"edge15\" class=\"edge\">\n<title>&#45;wings&#45;&#45;d5</title>\n<path fill=\"none\" stroke=\"black\" d=\"M591.74,-287.7C592.07,-279.98 592.47,-270.71 592.84,-262.11\"/>\n<polygon fill=\"black\" stroke=\"black\" points=\"596.34,-262.25 593.27,-252.1 589.34,-261.95 596.34,-262.25\"/>\n</g>\n<!-- d6 -->\n<g id=\"node5\" class=\"node\">\n<title>d6</title>\n<polygon fill=\"none\" stroke=\"black\" points=\"931,-396 715,-396 715,-360 931,-360 931,-396\"/>\n<text text-anchor=\"middle\" x=\"823\" y=\"-374.3\" font-family=\"fira-sans\" font-size=\"14.00\">not wingless :&#45; wings.</text>\n</g>\n<!-- wings -->\n<g id=\"node6\" class=\"node\">\n<title>wings</title>\n<ellipse fill=\"none\" stroke=\"black\" cx=\"823\" cy=\"-306\" rx=\"36.29\" ry=\"18\"/>\n<text text-anchor=\"middle\" x=\"823\" y=\"-302.3\" font-family=\"fira-sans\" font-size=\"14.00\">wings</text>\n</g>\n<!-- d6&#45;&#45;wings -->\n<g id=\"edge7\" class=\"edge\">\n<title>d6&#45;&#45;wings</title>\n<path fill=\"none\" stroke=\"black\" d=\"M823,-359.7C823,-351.98 823,-342.71 823,-334.11\"/>\n<polygon fill=\"black\" stroke=\"black\" points=\"826.5,-334.1 823,-324.1 819.5,-334.1 826.5,-334.1\"/>\n</g>\n<!-- &#45;bird -->\n<g id=\"node7\" class=\"node\">\n<title>&#45;bird</title>\n<ellipse fill=\"black\" stroke=\"black\" cx=\"333\" cy=\"-306\" rx=\"44.39\" ry=\"18\"/>\n<text text-anchor=\"middle\" x=\"333\" y=\"-302.3\" font-family=\"fira-sans\" font-size=\"14.00\" fill=\"white\">not bird</text>\n</g>\n<!-- d7 -->\n<g id=\"node16\" class=\"node\">\n<title>d7</title>\n<polygon fill=\"none\" stroke=\"black\" points=\"468,-252 180,-252 180,-216 468,-216 468,-252\"/>\n<text text-anchor=\"middle\" x=\"324\" y=\"-230.3\" font-family=\"fira-sans\" font-size=\"14.00\">not bird :&#45; not robin, not kiwi.</text>\n</g>\n<!-- &#45;bird&#45;&#45;d7 -->\n<g id=\"edge17\" class=\"edge\">\n<title>&#45;bird&#45;&#45;d7</title>\n<path fill=\"none\" stroke=\"black\" d=\"M330.78,-287.7C329.78,-279.98 328.59,-270.71 327.49,-262.11\"/>\n<polygon fill=\"black\" stroke=\"black\" points=\"330.95,-261.58 326.2,-252.1 324,-262.47 330.95,-261.58\"/>\n</g>\n<!-- d4 -->\n<g id=\"node8\" class=\"node\">\n<title>d4</title>\n<polygon fill=\"none\" stroke=\"black\" points=\"216,-108 0,-108 0,-72 216,-72 216,-108\"/>\n<text text-anchor=\"middle\" x=\"108\" y=\"-86.3\" font-family=\"fira-sans\" font-size=\"14.00\">not kiwi :&#45; robin.</text>\n</g>\n<!-- robin -->\n<g id=\"node17\" class=\"node\">\n<title>robin</title>\n<ellipse fill=\"none\" stroke=\"black\" cx=\"108\" cy=\"-18\" rx=\"33.29\" ry=\"18\"/>\n<text text-anchor=\"middle\" x=\"108\" y=\"-14.3\" font-family=\"fira-sans\" font-size=\"14.00\">robin</text>\n</g>\n<!-- d4&#45;&#45;robin -->\n<g id=\"edge3\" class=\"edge\">\n<title>d4&#45;&#45;robin</title>\n<path fill=\"none\" stroke=\"black\" d=\"M108,-71.7C108,-63.98 108,-54.71 108,-46.11\"/>\n<polygon fill=\"black\" stroke=\"black\" points=\"111.5,-46.1 108,-36.1 104.5,-46.1 111.5,-46.1\"/>\n</g>\n<!-- d8&#45;&#45;&#45;bird -->\n<g id=\"edge12\" class=\"edge\">\n<title>d8&#45;&#45;&#45;bird</title>\n<path fill=\"none\" stroke=\"black\" d=\"M346.55,-359.7C344.55,-351.9 342.13,-342.51 339.9,-333.83\"/>\n<polygon fill=\"black\" stroke=\"black\" points=\"343.28,-332.92 337.4,-324.1 336.5,-334.66 343.28,-332.92\"/>\n</g>\n<!-- &#45;kiwi -->\n<g id=\"node10\" class=\"node\">\n<title>&#45;kiwi</title>\n<ellipse fill=\"black\" stroke=\"black\" cx=\"324\" cy=\"-162\" rx=\"44.69\" ry=\"18\"/>\n<text text-anchor=\"middle\" x=\"324\" y=\"-158.3\" font-family=\"fira-sans\" font-size=\"14.00\" fill=\"white\">not kiwi</text>\n</g>\n<!-- &#45;kiwi&#45;&#45;d4 -->\n<g id=\"edge1\" class=\"edge\">\n<title>&#45;kiwi&#45;&#45;d4</title>\n<path fill=\"none\" stroke=\"black\" d=\"M290.25,-150.06C258.31,-139.71 209.58,-123.92 170.54,-111.27\"/>\n<polygon fill=\"black\" stroke=\"black\" points=\"171.43,-107.88 160.84,-108.12 169.27,-114.54 171.43,-107.88\"/>\n</g>\n<!-- d3 -->\n<g id=\"node15\" class=\"node\">\n<title>d3</title>\n<polygon fill=\"none\" stroke=\"black\" points=\"450,-108 234,-108 234,-72 450,-72 450,-108\"/>\n<text text-anchor=\"middle\" x=\"342\" y=\"-86.3\" font-family=\"fira-sans\" font-size=\"14.00\">not kiwi :&#45; not tweety.</text>\n</g>\n<!-- &#45;kiwi&#45;&#45;d3 -->\n<g id=\"edge5\" class=\"edge\">\n<title>&#45;kiwi&#45;&#45;d3</title>\n<path fill=\"none\" stroke=\"black\" d=\"M328.36,-144.05C330.36,-136.26 332.79,-126.82 335.04,-118.08\"/>\n<polygon fill=\"black\" stroke=\"black\" points=\"338.46,-118.83 337.56,-108.28 331.68,-117.09 338.46,-118.83\"/>\n</g>\n<!-- &#45;tweety -->\n<g id=\"node12\" class=\"node\">\n<title>&#45;tweety</title>\n<ellipse fill=\"black\" stroke=\"black\" cx=\"459\" cy=\"-18\" rx=\"57.69\" ry=\"18\"/>\n<text text-anchor=\"middle\" x=\"459\" y=\"-14.3\" font-family=\"fira-sans\" font-size=\"14.00\" fill=\"white\">not tweety</text>\n</g>\n<!-- &#45;wingless -->\n<g id=\"node13\" class=\"node\">\n<title>&#45;wingless</title>\n<ellipse fill=\"black\" stroke=\"black\" cx=\"823\" cy=\"-450\" rx=\"65.79\" ry=\"18\"/>\n<text text-anchor=\"middle\" x=\"823\" y=\"-446.3\" font-family=\"fira-sans\" font-size=\"14.00\" fill=\"white\">not wingless</text>\n</g>\n<!-- &#45;wingless&#45;&#45;d6 -->\n<g id=\"edge11\" class=\"edge\">\n<title>&#45;wingless&#45;&#45;d6</title>\n<path fill=\"none\" stroke=\"black\" d=\"M823,-431.7C823,-423.98 823,-414.71 823,-406.11\"/>\n<polygon fill=\"black\" stroke=\"black\" points=\"826.5,-406.1 823,-396.1 819.5,-406.1 826.5,-406.1\"/>\n</g>\n<!-- &#45;robin&#45;&#45;d2 -->\n<g id=\"edge10\" class=\"edge\">\n<title>&#45;robin&#45;&#45;d2</title>\n<path fill=\"none\" stroke=\"black\" d=\"M621.65,-149.6C655.13,-139.18 705.38,-123.55 745.55,-111.05\"/>\n<polygon fill=\"black\" stroke=\"black\" points=\"746.76,-114.34 755.27,-108.03 744.68,-107.66 746.76,-114.34\"/>\n</g>\n<!-- d1 -->\n<g id=\"node18\" class=\"node\">\n<title>d1</title>\n<polygon fill=\"none\" stroke=\"black\" points=\"684,-108 468,-108 468,-72 684,-72 684,-108\"/>\n<text text-anchor=\"middle\" x=\"576\" y=\"-86.3\" font-family=\"fira-sans\" font-size=\"14.00\">not robin :&#45; not tweety.</text>\n</g>\n<!-- &#45;robin&#45;&#45;d1 -->\n<g id=\"edge8\" class=\"edge\">\n<title>&#45;robin&#45;&#45;d1</title>\n<path fill=\"none\" stroke=\"black\" d=\"M582.78,-143.7C581.78,-135.98 580.59,-126.71 579.49,-118.11\"/>\n<polygon fill=\"black\" stroke=\"black\" points=\"582.95,-117.58 578.2,-108.1 576,-118.47 582.95,-117.58\"/>\n</g>\n<!-- d3&#45;&#45;&#45;tweety -->\n<g id=\"edge18\" class=\"edge\">\n<title>d3&#45;&#45;&#45;tweety</title>\n<path fill=\"none\" stroke=\"black\" d=\"M370.62,-71.88C386.98,-62.09 407.61,-49.75 424.81,-39.45\"/>\n<polygon fill=\"black\" stroke=\"black\" points=\"426.68,-42.42 433.46,-34.28 423.08,-36.41 426.68,-42.42\"/>\n</g>\n<!-- d7&#45;&#45;&#45;kiwi -->\n<g id=\"edge2\" class=\"edge\">\n<title>d7&#45;&#45;&#45;kiwi</title>\n<path fill=\"none\" stroke=\"black\" d=\"M324,-215.7C324,-207.98 324,-198.71 324,-190.11\"/>\n<polygon fill=\"black\" stroke=\"black\" points=\"327.5,-190.1 324,-180.1 320.5,-190.1 327.5,-190.1\"/>\n</g>\n<!-- d7&#45;&#45;&#45;robin -->\n<g id=\"edge14\" class=\"edge\">\n<title>d7&#45;&#45;&#45;robin</title>\n<path fill=\"none\" stroke=\"black\" d=\"M387.51,-215.97C433.33,-203.68 494.27,-187.33 536.27,-176.07\"/>\n<polygon fill=\"black\" stroke=\"black\" points=\"537.24,-179.43 545.99,-173.46 535.43,-172.67 537.24,-179.43\"/>\n</g>\n<!-- d1&#45;&#45;&#45;tweety -->\n<g id=\"edge13\" class=\"edge\">\n<title>d1&#45;&#45;&#45;tweety</title>\n<path fill=\"none\" stroke=\"black\" d=\"M547.38,-71.88C531.02,-62.09 510.39,-49.75 493.19,-39.45\"/>\n<polygon fill=\"black\" stroke=\"black\" points=\"494.92,-36.41 484.54,-34.28 491.32,-42.42 494.92,-36.41\"/>\n</g>\n<!-- d9&#45;&#45;&#45;wings -->\n<g id=\"edge9\" class=\"edge\">\n<title>d9&#45;&#45;&#45;wings</title>\n<path fill=\"none\" stroke=\"black\" d=\"M589.49,-359.7C589.71,-351.98 589.98,-342.71 590.23,-334.11\"/>\n<polygon fill=\"black\" stroke=\"black\" points=\"593.72,-334.2 590.51,-324.1 586.73,-334 593.72,-334.2\"/>\n</g>\n</g>\n</svg>\n",
      "text/plain": "<graphviz.graphs.Graph at 0x7fa21ea75000>"
     },
     "execution_count": 41,
     "metadata": {},
     "output_type": "execute_result"
    }
   ],
   "source": [
    "bird_dual_graph = \"\"\"\n",
    "\n",
    "rule(d1).\n",
    "attr(node, d1, label, \"not robin :- not tweety.\").\n",
    "edge((-robin, d1)).\n",
    "edge((d1, -tweety)).\n",
    "\n",
    "rule(d2).\n",
    "attr(node, d2, label, \"not robin :- kiwi.\").\n",
    "edge((-robin, d2)).\n",
    "edge((d2, kiwi)).\n",
    "\n",
    "rule(d3).\n",
    "attr(node, d3, label, \"not kiwi :- not tweety.\").\n",
    "edge((-kiwi, d3)).\n",
    "edge((d3, -tweety)).\n",
    "\n",
    "rule(d4).\n",
    "attr(node, d4, label, \"not kiwi :- robin.\").\n",
    "edge((-kiwi, d4)).\n",
    "edge((d4, robin)).\n",
    "\n",
    "rule(d5).\n",
    "attr(node, d5, label, \"not wings :- not robin.\").\n",
    "edge((-wings, d5)).\n",
    "edge((d5, -robin)).\n",
    "\n",
    "rule(d6).\n",
    "attr(node, d6, label, \"not wingless :- wings.\").\n",
    "edge((-wingless, d6)).\n",
    "edge((d6, wings)).\n",
    "\n",
    "rule(d7).\n",
    "attr(node, d7, label, \"not bird :- not robin, not kiwi.\").\n",
    "edge((-bird, d7)).\n",
    "edge((d7, -robin)).\n",
    "edge((d7, -kiwi)).\n",
    "\n",
    "rule(d8).\n",
    "attr(node, d8, label, \"not flies :- not bird.\").\n",
    "edge((-flies, d8)).\n",
    "edge((d8, -bird)).\n",
    "\n",
    "rule(d9).\n",
    "attr(node, d9, label, \"not flies :- not wings.\").\n",
    "edge((-flies, d9)).\n",
    "edge((d9, -wings)).\n",
    "\n",
    "\n",
    "\"\"\"\n",
    "dual_graph = draw_graph([bird_dual_graph, common, graph_encoding])['default']\n",
    "dual_graph"
   ]
  },
  {
   "cell_type": "code",
   "execution_count": 42,
   "metadata": {
    "pycharm": {
     "name": "#%%\n"
    }
   },
   "outputs": [
    {
     "data": {
      "image/svg+xml": "<?xml version=\"1.0\" encoding=\"UTF-8\" standalone=\"no\"?>\n<!DOCTYPE svg PUBLIC \"-//W3C//DTD SVG 1.1//EN\"\n \"http://www.w3.org/Graphics/SVG/1.1/DTD/svg11.dtd\">\n<!-- Generated by graphviz version 3.0.0 (20220227.1548)\n -->\n<!-- Title: default Pages: 1 -->\n<svg width=\"1754pt\" height=\"692pt\"\n viewBox=\"0.00 0.00 1754.37 692.00\" xmlns=\"http://www.w3.org/2000/svg\" xmlns:xlink=\"http://www.w3.org/1999/xlink\">\n<g id=\"graph0\" class=\"graph\" transform=\"scale(1 1) rotate(0) translate(4 688)\">\n<title>default</title>\n<polygon fill=\"white\" stroke=\"transparent\" points=\"-4,4 -4,-688 1750.37,-688 1750.37,4 -4,4\"/>\n<!-- d5 -->\n<g id=\"node1\" class=\"node\">\n<title>d5</title>\n<polygon fill=\"none\" stroke=\"black\" points=\"434.37,-468 218.37,-468 218.37,-432 434.37,-432 434.37,-468\"/>\n<text text-anchor=\"middle\" x=\"326.37\" y=\"-446.3\" font-family=\"fira-sans\" font-size=\"14.00\">not wings :&#45; not robin.</text>\n</g>\n<!-- &#45;robin -->\n<g id=\"node25\" class=\"node\">\n<title>&#45;robin</title>\n<ellipse fill=\"black\" stroke=\"black\" cx=\"326.37\" cy=\"-378\" rx=\"50.09\" ry=\"18\"/>\n<text text-anchor=\"middle\" x=\"326.37\" y=\"-374.3\" font-family=\"fira-sans\" font-size=\"14.00\" fill=\"white\">not robin</text>\n</g>\n<!-- d5&#45;&#45;&#45;robin -->\n<g id=\"edge37\" class=\"edge\">\n<title>d5&#45;&#45;&#45;robin</title>\n<path fill=\"none\" stroke=\"black\" d=\"M326.37,-431.7C326.37,-423.98 326.37,-414.71 326.37,-406.11\"/>\n<polygon fill=\"black\" stroke=\"black\" points=\"329.87,-406.1 326.37,-396.1 322.87,-406.1 329.87,-406.1\"/>\n</g>\n<!-- d2 -->\n<g id=\"node2\" class=\"node\">\n<title>d2</title>\n<polygon fill=\"none\" stroke=\"black\" points=\"237.37,-324 21.37,-324 21.37,-288 237.37,-288 237.37,-324\"/>\n<text text-anchor=\"middle\" x=\"129.37\" y=\"-302.3\" font-family=\"fira-sans\" font-size=\"14.00\">not robin :&#45; kiwi.</text>\n</g>\n<!-- kiwi -->\n<g id=\"node17\" class=\"node\">\n<title>kiwi</title>\n<ellipse fill=\"none\" stroke=\"black\" cx=\"194.37\" cy=\"-234\" rx=\"27.9\" ry=\"18\"/>\n<text text-anchor=\"middle\" x=\"194.37\" y=\"-230.3\" font-family=\"fira-sans\" font-size=\"14.00\">kiwi</text>\n</g>\n<!-- d2&#45;&#45;kiwi -->\n<g id=\"edge13\" class=\"edge\">\n<title>d2&#45;&#45;kiwi</title>\n<path fill=\"none\" stroke=\"black\" d=\"M145.44,-287.7C153.98,-278.5 164.58,-267.08 173.73,-257.23\"/>\n<polygon fill=\"black\" stroke=\"black\" points=\"176.44,-259.45 180.68,-249.74 171.31,-254.68 176.44,-259.45\"/>\n</g>\n<!-- r8 -->\n<g id=\"node3\" class=\"node\">\n<title>r8</title>\n<polygon fill=\"none\" stroke=\"black\" points=\"1166.37,-468 878.37,-468 878.37,-432 1166.37,-432 1166.37,-468\"/>\n<text text-anchor=\"middle\" x=\"1022.37\" y=\"-446.3\" font-family=\"fira-sans\" font-size=\"14.00\">flies :&#45; bird, wings.</text>\n</g>\n<!-- wings -->\n<g id=\"node9\" class=\"node\">\n<title>wings</title>\n<ellipse fill=\"none\" stroke=\"black\" cx=\"1571.37\" cy=\"-378\" rx=\"36.29\" ry=\"18\"/>\n<text text-anchor=\"middle\" x=\"1571.37\" y=\"-374.3\" font-family=\"fira-sans\" font-size=\"14.00\">wings</text>\n</g>\n<!-- r8&#45;&#45;wings -->\n<g id=\"edge20\" class=\"edge\">\n<title>r8&#45;&#45;wings</title>\n<path fill=\"none\" stroke=\"black\" d=\"M1155.97,-431.97C1276.25,-416.63 1446.07,-394.98 1526.18,-384.76\"/>\n<polygon fill=\"black\" stroke=\"black\" points=\"1526.94,-388.19 1536.42,-383.46 1526.05,-381.25 1526.94,-388.19\"/>\n</g>\n<!-- bird -->\n<g id=\"node14\" class=\"node\">\n<title>bird</title>\n<ellipse fill=\"none\" stroke=\"black\" cx=\"831.37\" cy=\"-378\" rx=\"27.1\" ry=\"18\"/>\n<text text-anchor=\"middle\" x=\"831.37\" y=\"-374.3\" font-family=\"fira-sans\" font-size=\"14.00\">bird</text>\n</g>\n<!-- r8&#45;&#45;bird -->\n<g id=\"edge22\" class=\"edge\">\n<title>r8&#45;&#45;bird</title>\n<path fill=\"none\" stroke=\"black\" d=\"M975.64,-431.88C941.06,-419.2 894.82,-402.25 864.11,-391\"/>\n<polygon fill=\"black\" stroke=\"black\" points=\"865.32,-387.71 854.72,-387.56 862.91,-394.29 865.32,-387.71\"/>\n</g>\n<!-- r4 -->\n<g id=\"node4\" class=\"node\">\n<title>r4</title>\n<polygon fill=\"none\" stroke=\"black\" points=\"1679.37,-324 1463.37,-324 1463.37,-288 1679.37,-288 1679.37,-324\"/>\n<text text-anchor=\"middle\" x=\"1571.37\" y=\"-302.3\" font-family=\"fira-sans\" font-size=\"14.00\">wings :&#45; robin.</text>\n</g>\n<!-- robin -->\n<g id=\"node27\" class=\"node\">\n<title>robin</title>\n<ellipse fill=\"none\" stroke=\"black\" cx=\"1367.37\" cy=\"-234\" rx=\"33.29\" ry=\"18\"/>\n<text text-anchor=\"middle\" x=\"1367.37\" y=\"-230.3\" font-family=\"fira-sans\" font-size=\"14.00\">robin</text>\n</g>\n<!-- r4&#45;&#45;robin -->\n<g id=\"edge6\" class=\"edge\">\n<title>r4&#45;&#45;robin</title>\n<path fill=\"none\" stroke=\"black\" d=\"M1521.73,-287.97C1485.49,-275.53 1437.17,-258.95 1404.31,-247.67\"/>\n<polygon fill=\"black\" stroke=\"black\" points=\"1405.23,-244.29 1394.63,-244.36 1402.96,-250.91 1405.23,-244.29\"/>\n</g>\n<!-- &#45;flies -->\n<g id=\"node5\" class=\"node\">\n<title>&#45;flies</title>\n<ellipse fill=\"black\" stroke=\"black\" cx=\"519.37\" cy=\"-666\" rx=\"45.49\" ry=\"18\"/>\n<text text-anchor=\"middle\" x=\"519.37\" y=\"-662.3\" font-family=\"fira-sans\" font-size=\"14.00\" fill=\"white\">not flies</text>\n</g>\n<!-- d8 -->\n<g id=\"node12\" class=\"node\">\n<title>d8</title>\n<polygon fill=\"none\" stroke=\"black\" points=\"744.37,-612 528.37,-612 528.37,-576 744.37,-576 744.37,-612\"/>\n<text text-anchor=\"middle\" x=\"636.37\" y=\"-590.3\" font-family=\"fira-sans\" font-size=\"14.00\">not flies :&#45; not bird.</text>\n</g>\n<!-- &#45;flies&#45;&#45;d8 -->\n<g id=\"edge34\" class=\"edge\">\n<title>&#45;flies&#45;&#45;d8</title>\n<path fill=\"none\" stroke=\"black\" d=\"M543.33,-650.67C559.41,-641.04 580.93,-628.17 599.22,-617.23\"/>\n<polygon fill=\"black\" stroke=\"black\" points=\"601.12,-620.17 607.9,-612.03 597.52,-614.16 601.12,-620.17\"/>\n</g>\n<!-- d9 -->\n<g id=\"node31\" class=\"node\">\n<title>d9</title>\n<polygon fill=\"none\" stroke=\"black\" points=\"510.37,-612 294.37,-612 294.37,-576 510.37,-576 510.37,-612\"/>\n<text text-anchor=\"middle\" x=\"402.37\" y=\"-590.3\" font-family=\"fira-sans\" font-size=\"14.00\">not flies :&#45; not wings.</text>\n</g>\n<!-- &#45;flies&#45;&#45;d9 -->\n<g id=\"edge11\" class=\"edge\">\n<title>&#45;flies&#45;&#45;d9</title>\n<path fill=\"none\" stroke=\"black\" d=\"M495.41,-650.67C479.32,-641.04 457.81,-628.17 439.52,-617.23\"/>\n<polygon fill=\"black\" stroke=\"black\" points=\"441.21,-614.16 430.84,-612.03 437.62,-620.17 441.21,-614.16\"/>\n</g>\n<!-- &#45;wings -->\n<g id=\"node6\" class=\"node\">\n<title>&#45;wings</title>\n<ellipse fill=\"black\" stroke=\"black\" cx=\"326.37\" cy=\"-522\" rx=\"53.09\" ry=\"18\"/>\n<text text-anchor=\"middle\" x=\"326.37\" y=\"-518.3\" font-family=\"fira-sans\" font-size=\"14.00\" fill=\"white\">not wings</text>\n</g>\n<!-- &#45;wings&#45;&#45;d5 -->\n<g id=\"edge33\" class=\"edge\">\n<title>&#45;wings&#45;&#45;d5</title>\n<path fill=\"none\" stroke=\"black\" d=\"M326.37,-503.7C326.37,-495.98 326.37,-486.71 326.37,-478.11\"/>\n<polygon fill=\"black\" stroke=\"black\" points=\"329.87,-478.1 326.37,-468.1 322.87,-478.1 329.87,-478.1\"/>\n</g>\n<!-- flies -->\n<g id=\"node7\" class=\"node\">\n<title>flies</title>\n<ellipse fill=\"none\" stroke=\"black\" cx=\"1022.37\" cy=\"-522\" rx=\"28.7\" ry=\"18\"/>\n<text text-anchor=\"middle\" x=\"1022.37\" y=\"-518.3\" font-family=\"fira-sans\" font-size=\"14.00\">flies</text>\n</g>\n<!-- flies&#45;&#45;r8 -->\n<g id=\"edge4\" class=\"edge\">\n<title>flies&#45;&#45;r8</title>\n<path fill=\"none\" stroke=\"black\" d=\"M1022.37,-503.7C1022.37,-495.98 1022.37,-486.71 1022.37,-478.11\"/>\n<polygon fill=\"black\" stroke=\"black\" points=\"1025.87,-478.1 1022.37,-468.1 1018.87,-478.1 1025.87,-478.1\"/>\n</g>\n<!-- d6 -->\n<g id=\"node8\" class=\"node\">\n<title>d6</title>\n<polygon fill=\"none\" stroke=\"black\" points=\"1746.37,-468 1530.37,-468 1530.37,-432 1746.37,-432 1746.37,-468\"/>\n<text text-anchor=\"middle\" x=\"1638.37\" y=\"-446.3\" font-family=\"fira-sans\" font-size=\"14.00\">not wingless :&#45; wings.</text>\n</g>\n<!-- d6&#45;&#45;wings -->\n<g id=\"edge14\" class=\"edge\">\n<title>d6&#45;&#45;wings</title>\n<path fill=\"none\" stroke=\"black\" d=\"M1621.81,-431.7C1613.25,-422.75 1602.68,-411.71 1593.44,-402.06\"/>\n<polygon fill=\"black\" stroke=\"black\" points=\"1595.81,-399.48 1586.37,-394.67 1590.75,-404.32 1595.81,-399.48\"/>\n</g>\n<!-- wings&#45;&#45;r4 -->\n<g id=\"edge9\" class=\"edge\">\n<title>wings&#45;&#45;r4</title>\n<path fill=\"none\" stroke=\"black\" d=\"M1571.37,-359.7C1571.37,-351.98 1571.37,-342.71 1571.37,-334.11\"/>\n<polygon fill=\"black\" stroke=\"black\" points=\"1574.87,-334.1 1571.37,-324.1 1567.87,-334.1 1574.87,-334.1\"/>\n</g>\n<!-- &#45;bird -->\n<g id=\"node10\" class=\"node\">\n<title>&#45;bird</title>\n<ellipse fill=\"black\" stroke=\"black\" cx=\"636.37\" cy=\"-522\" rx=\"44.39\" ry=\"18\"/>\n<text text-anchor=\"middle\" x=\"636.37\" y=\"-518.3\" font-family=\"fira-sans\" font-size=\"14.00\" fill=\"white\">not bird</text>\n</g>\n<!-- d7 -->\n<g id=\"node26\" class=\"node\">\n<title>d7</title>\n<polygon fill=\"none\" stroke=\"black\" points=\"780.37,-468 492.37,-468 492.37,-432 780.37,-432 780.37,-468\"/>\n<text text-anchor=\"middle\" x=\"636.37\" y=\"-446.3\" font-family=\"fira-sans\" font-size=\"14.00\">not bird :&#45; not robin, not kiwi.</text>\n</g>\n<!-- &#45;bird&#45;&#45;d7 -->\n<g id=\"edge35\" class=\"edge\">\n<title>&#45;bird&#45;&#45;d7</title>\n<path fill=\"none\" stroke=\"black\" d=\"M636.37,-503.7C636.37,-495.98 636.37,-486.71 636.37,-478.11\"/>\n<polygon fill=\"black\" stroke=\"black\" points=\"639.87,-478.1 636.37,-468.1 632.87,-478.1 639.87,-478.1\"/>\n</g>\n<!-- d4 -->\n<g id=\"node11\" class=\"node\">\n<title>d4</title>\n<polygon fill=\"none\" stroke=\"black\" points=\"1407.37,-324 1191.37,-324 1191.37,-288 1407.37,-288 1407.37,-324\"/>\n<text text-anchor=\"middle\" x=\"1299.37\" y=\"-302.3\" font-family=\"fira-sans\" font-size=\"14.00\">not kiwi :&#45; robin.</text>\n</g>\n<!-- d4&#45;&#45;robin -->\n<g id=\"edge7\" class=\"edge\">\n<title>d4&#45;&#45;robin</title>\n<path fill=\"none\" stroke=\"black\" d=\"M1316.18,-287.7C1324.99,-278.62 1335.9,-267.4 1345.37,-257.64\"/>\n<polygon fill=\"black\" stroke=\"black\" points=\"1348.14,-259.81 1352.6,-250.2 1343.12,-254.94 1348.14,-259.81\"/>\n</g>\n<!-- d8&#45;&#45;&#45;bird -->\n<g id=\"edge31\" class=\"edge\">\n<title>d8&#45;&#45;&#45;bird</title>\n<path fill=\"none\" stroke=\"black\" d=\"M636.37,-575.7C636.37,-567.98 636.37,-558.71 636.37,-550.11\"/>\n<polygon fill=\"black\" stroke=\"black\" points=\"639.87,-550.1 636.37,-540.1 632.87,-550.1 639.87,-550.1\"/>\n</g>\n<!-- r1 -->\n<g id=\"node13\" class=\"node\">\n<title>r1</title>\n<polygon fill=\"none\" stroke=\"black\" points=\"1055.37,-36 911.37,-36 911.37,0 1055.37,0 1055.37,-36\"/>\n<text text-anchor=\"middle\" x=\"983.37\" y=\"-14.3\" font-family=\"fira-sans\" font-size=\"14.00\">tweety.</text>\n</g>\n<!-- r6 -->\n<g id=\"node15\" class=\"node\">\n<title>r6</title>\n<polygon fill=\"none\" stroke=\"black\" points=\"939.37,-324 723.37,-324 723.37,-288 939.37,-288 939.37,-324\"/>\n<text text-anchor=\"middle\" x=\"831.37\" y=\"-302.3\" font-family=\"fira-sans\" font-size=\"14.00\">bird :&#45; robin.</text>\n</g>\n<!-- bird&#45;&#45;r6 -->\n<g id=\"edge8\" class=\"edge\">\n<title>bird&#45;&#45;r6</title>\n<path fill=\"none\" stroke=\"black\" d=\"M831.37,-359.7C831.37,-351.98 831.37,-342.71 831.37,-334.11\"/>\n<polygon fill=\"black\" stroke=\"black\" points=\"834.87,-334.1 831.37,-324.1 827.87,-334.1 834.87,-334.1\"/>\n</g>\n<!-- r7 -->\n<g id=\"node30\" class=\"node\">\n<title>r7</title>\n<polygon fill=\"none\" stroke=\"black\" points=\"705.37,-324 489.37,-324 489.37,-288 705.37,-288 705.37,-324\"/>\n<text text-anchor=\"middle\" x=\"597.37\" y=\"-302.3\" font-family=\"fira-sans\" font-size=\"14.00\">bird :&#45; kiwi.</text>\n</g>\n<!-- bird&#45;&#45;r7 -->\n<g id=\"edge24\" class=\"edge\">\n<title>bird&#45;&#45;r7</title>\n<path fill=\"none\" stroke=\"black\" d=\"M806.77,-369.64C773.18,-359.59 711.68,-341.2 663.99,-326.93\"/>\n<polygon fill=\"black\" stroke=\"black\" points=\"664.93,-323.56 654.35,-324.04 662.92,-330.26 664.93,-323.56\"/>\n</g>\n<!-- r6&#45;&#45;robin -->\n<g id=\"edge17\" class=\"edge\">\n<title>r6&#45;&#45;robin</title>\n<path fill=\"none\" stroke=\"black\" d=\"M939.41,-289.23C942.43,-288.81 945.42,-288.4 948.37,-288 1086.11,-269.28 1249.63,-249.22 1325.21,-240.07\"/>\n<polygon fill=\"black\" stroke=\"black\" points=\"1325.77,-243.53 1335.28,-238.85 1324.93,-236.58 1325.77,-243.53\"/>\n</g>\n<!-- &#45;kiwi -->\n<g id=\"node16\" class=\"node\">\n<title>&#45;kiwi</title>\n<ellipse fill=\"black\" stroke=\"black\" cx=\"1182.37\" cy=\"-378\" rx=\"44.69\" ry=\"18\"/>\n<text text-anchor=\"middle\" x=\"1182.37\" y=\"-374.3\" font-family=\"fira-sans\" font-size=\"14.00\" fill=\"white\">not kiwi</text>\n</g>\n<!-- &#45;kiwi&#45;&#45;d4 -->\n<g id=\"edge1\" class=\"edge\">\n<title>&#45;kiwi&#45;&#45;d4</title>\n<path fill=\"none\" stroke=\"black\" d=\"M1206.33,-362.67C1222.41,-353.04 1243.93,-340.17 1262.22,-329.23\"/>\n<polygon fill=\"black\" stroke=\"black\" points=\"1264.12,-332.17 1270.9,-324.03 1260.52,-326.16 1264.12,-332.17\"/>\n</g>\n<!-- d3 -->\n<g id=\"node24\" class=\"node\">\n<title>d3</title>\n<polygon fill=\"none\" stroke=\"black\" points=\"1173.37,-324 957.37,-324 957.37,-288 1173.37,-288 1173.37,-324\"/>\n<text text-anchor=\"middle\" x=\"1065.37\" y=\"-302.3\" font-family=\"fira-sans\" font-size=\"14.00\">not kiwi :&#45; not tweety.</text>\n</g>\n<!-- &#45;kiwi&#45;&#45;d3 -->\n<g id=\"edge12\" class=\"edge\">\n<title>&#45;kiwi&#45;&#45;d3</title>\n<path fill=\"none\" stroke=\"black\" d=\"M1158.41,-362.67C1142.32,-353.04 1120.81,-340.17 1102.52,-329.23\"/>\n<polygon fill=\"black\" stroke=\"black\" points=\"1104.21,-326.16 1093.84,-324.03 1100.62,-332.17 1104.21,-326.16\"/>\n</g>\n<!-- r3 -->\n<g id=\"node21\" class=\"node\">\n<title>r3</title>\n<polygon fill=\"none\" stroke=\"black\" points=\"338.37,-180 50.37,-180 50.37,-144 338.37,-144 338.37,-180\"/>\n<text text-anchor=\"middle\" x=\"194.37\" y=\"-158.3\" font-family=\"fira-sans\" font-size=\"14.00\">kiwi :&#45; tweety, not robin.</text>\n</g>\n<!-- kiwi&#45;&#45;r3 -->\n<g id=\"edge18\" class=\"edge\">\n<title>kiwi&#45;&#45;r3</title>\n<path fill=\"none\" stroke=\"black\" d=\"M194.37,-215.7C194.37,-207.98 194.37,-198.71 194.37,-190.11\"/>\n<polygon fill=\"black\" stroke=\"black\" points=\"197.87,-190.1 194.37,-180.1 190.87,-190.1 197.87,-190.1\"/>\n</g>\n<!-- r5 -->\n<g id=\"node18\" class=\"node\">\n<title>r5</title>\n<polygon fill=\"none\" stroke=\"black\" points=\"276.37,-612 60.37,-612 60.37,-576 276.37,-576 276.37,-612\"/>\n<text text-anchor=\"middle\" x=\"168.37\" y=\"-590.3\" font-family=\"fira-sans\" font-size=\"14.00\">wingless :&#45; not wings.</text>\n</g>\n<!-- r5&#45;&#45;&#45;wings -->\n<g id=\"edge5\" class=\"edge\">\n<title>r5&#45;&#45;&#45;wings</title>\n<path fill=\"none\" stroke=\"black\" d=\"M207.02,-575.88C230.97,-565.26 261.69,-551.65 285.97,-540.9\"/>\n<polygon fill=\"black\" stroke=\"black\" points=\"287.54,-544.03 295.26,-536.78 284.7,-537.63 287.54,-544.03\"/>\n</g>\n<!-- &#45;tweety -->\n<g id=\"node19\" class=\"node\">\n<title>&#45;tweety</title>\n<ellipse fill=\"black\" stroke=\"black\" cx=\"714.37\" cy=\"-234\" rx=\"57.69\" ry=\"18\"/>\n<text text-anchor=\"middle\" x=\"714.37\" y=\"-230.3\" font-family=\"fira-sans\" font-size=\"14.00\" fill=\"white\">not tweety</text>\n</g>\n<!-- tweety -->\n<g id=\"node20\" class=\"node\">\n<title>tweety</title>\n<ellipse fill=\"none\" stroke=\"black\" cx=\"983.37\" cy=\"-90\" rx=\"40.09\" ry=\"18\"/>\n<text text-anchor=\"middle\" x=\"983.37\" y=\"-86.3\" font-family=\"fira-sans\" font-size=\"14.00\">tweety</text>\n</g>\n<!-- tweety&#45;&#45;r1 -->\n<g id=\"edge10\" class=\"edge\">\n<title>tweety&#45;&#45;r1</title>\n<path fill=\"none\" stroke=\"black\" d=\"M983.37,-71.7C983.37,-63.98 983.37,-54.71 983.37,-46.11\"/>\n<polygon fill=\"black\" stroke=\"black\" points=\"986.87,-46.1 983.37,-36.1 979.87,-46.1 986.87,-46.1\"/>\n</g>\n<!-- r3&#45;&#45;tweety -->\n<g id=\"edge2\" class=\"edge\">\n<title>r3&#45;&#45;tweety</title>\n<path fill=\"none\" stroke=\"black\" d=\"M338.62,-148.2C518.62,-132.23 817,-105.76 934.07,-95.37\"/>\n<polygon fill=\"black\" stroke=\"black\" points=\"934.51,-98.85 944.17,-94.48 933.9,-91.88 934.51,-98.85\"/>\n</g>\n<!-- r3&#45;&#45;&#45;robin -->\n<g id=\"edge27\" class=\"edge\">\n<title>r3&#45;&#45;&#45;robin</title>\n<path fill=\"none\" stroke=\"black\" d=\"M147.1,-180.09C77.89,-207.64 -37.68,-264.8 12.37,-324 44.24,-361.71 184.49,-372.6 266.37,-375.74\"/>\n<polygon fill=\"black\" stroke=\"black\" points=\"266.43,-379.24 276.54,-376.1 266.67,-372.24 266.43,-379.24\"/>\n</g>\n<!-- &#45;wingless -->\n<g id=\"node22\" class=\"node\">\n<title>&#45;wingless</title>\n<ellipse fill=\"black\" stroke=\"black\" cx=\"1638.37\" cy=\"-522\" rx=\"65.79\" ry=\"18\"/>\n<text text-anchor=\"middle\" x=\"1638.37\" y=\"-518.3\" font-family=\"fira-sans\" font-size=\"14.00\" fill=\"white\">not wingless</text>\n</g>\n<!-- &#45;wingless&#45;&#45;d6 -->\n<g id=\"edge28\" class=\"edge\">\n<title>&#45;wingless&#45;&#45;d6</title>\n<path fill=\"none\" stroke=\"black\" d=\"M1638.37,-503.7C1638.37,-495.98 1638.37,-486.71 1638.37,-478.11\"/>\n<polygon fill=\"black\" stroke=\"black\" points=\"1641.87,-478.1 1638.37,-468.1 1634.87,-478.1 1641.87,-478.1\"/>\n</g>\n<!-- wingless -->\n<g id=\"node23\" class=\"node\">\n<title>wingless</title>\n<ellipse fill=\"none\" stroke=\"black\" cx=\"168.37\" cy=\"-666\" rx=\"48.19\" ry=\"18\"/>\n<text text-anchor=\"middle\" x=\"168.37\" y=\"-662.3\" font-family=\"fira-sans\" font-size=\"14.00\">wingless</text>\n</g>\n<!-- wingless&#45;&#45;r5 -->\n<g id=\"edge16\" class=\"edge\">\n<title>wingless&#45;&#45;r5</title>\n<path fill=\"none\" stroke=\"black\" d=\"M168.37,-647.7C168.37,-639.98 168.37,-630.71 168.37,-622.11\"/>\n<polygon fill=\"black\" stroke=\"black\" points=\"171.87,-622.1 168.37,-612.1 164.87,-622.1 171.87,-622.1\"/>\n</g>\n<!-- d3&#45;&#45;&#45;tweety -->\n<g id=\"edge36\" class=\"edge\">\n<title>d3&#45;&#45;&#45;tweety</title>\n<path fill=\"none\" stroke=\"black\" d=\"M979.95,-287.97C915.25,-275.06 828.13,-257.69 771.61,-246.42\"/>\n<polygon fill=\"black\" stroke=\"black\" points=\"772.27,-242.98 761.78,-244.45 770.9,-249.84 772.27,-242.98\"/>\n</g>\n<!-- &#45;robin&#45;&#45;d2 -->\n<g id=\"edge26\" class=\"edge\">\n<title>&#45;robin&#45;&#45;d2</title>\n<path fill=\"none\" stroke=\"black\" d=\"M292.05,-364.81C263.16,-354.54 221.21,-339.63 187.14,-327.53\"/>\n<polygon fill=\"black\" stroke=\"black\" points=\"187.9,-324.08 177.31,-324.03 185.56,-330.68 187.9,-324.08\"/>\n</g>\n<!-- d1 -->\n<g id=\"node29\" class=\"node\">\n<title>d1</title>\n<polygon fill=\"none\" stroke=\"black\" points=\"471.37,-324 255.37,-324 255.37,-288 471.37,-288 471.37,-324\"/>\n<text text-anchor=\"middle\" x=\"363.37\" y=\"-302.3\" font-family=\"fira-sans\" font-size=\"14.00\">not robin :&#45; not tweety.</text>\n</g>\n<!-- &#45;robin&#45;&#45;d1 -->\n<g id=\"edge23\" class=\"edge\">\n<title>&#45;robin&#45;&#45;d1</title>\n<path fill=\"none\" stroke=\"black\" d=\"M335.33,-360.05C339.58,-352.01 344.76,-342.2 349.51,-333.23\"/>\n<polygon fill=\"black\" stroke=\"black\" points=\"352.66,-334.75 354.24,-324.28 346.47,-331.48 352.66,-334.75\"/>\n</g>\n<!-- d7&#45;&#45;&#45;kiwi -->\n<g id=\"edge3\" class=\"edge\">\n<title>d7&#45;&#45;&#45;kiwi</title>\n<path fill=\"none\" stroke=\"black\" d=\"M769.24,-431.97C885.33,-417.08 1047.8,-396.25 1130.12,-385.7\"/>\n<polygon fill=\"black\" stroke=\"black\" points=\"1130.76,-389.14 1140.24,-384.4 1129.87,-382.2 1130.76,-389.14\"/>\n</g>\n<!-- d7&#45;&#45;&#45;robin -->\n<g id=\"edge32\" class=\"edge\">\n<title>d7&#45;&#45;&#45;robin</title>\n<path fill=\"none\" stroke=\"black\" d=\"M560.93,-431.97C504.09,-419.13 427.67,-401.87 377.73,-390.6\"/>\n<polygon fill=\"black\" stroke=\"black\" points=\"378.33,-387.14 367.8,-388.36 376.78,-393.97 378.33,-387.14\"/>\n</g>\n<!-- r2 -->\n<g id=\"node28\" class=\"node\">\n<title>r2</title>\n<polygon fill=\"none\" stroke=\"black\" points=\"1512.37,-468 1224.37,-468 1224.37,-432 1512.37,-432 1512.37,-468\"/>\n<text text-anchor=\"middle\" x=\"1368.37\" y=\"-446.3\" font-family=\"fira-sans\" font-size=\"14.00\">robin :&#45; tweety, not kiwi.</text>\n</g>\n<!-- robin&#45;&#45;r2 -->\n<g id=\"edge19\" class=\"edge\">\n<title>robin&#45;&#45;r2</title>\n<path fill=\"none\" stroke=\"black\" d=\"M1385.98,-248.98C1397.11,-258.57 1410.25,-272.36 1416.37,-288 1434.64,-334.67 1406.75,-391.23 1386.44,-423.37\"/>\n<polygon fill=\"black\" stroke=\"black\" points=\"1383.5,-421.48 1380.96,-431.76 1389.36,-425.31 1383.5,-421.48\"/>\n</g>\n<!-- r2&#45;&#45;&#45;kiwi -->\n<g id=\"edge15\" class=\"edge\">\n<title>r2&#45;&#45;&#45;kiwi</title>\n<path fill=\"none\" stroke=\"black\" d=\"M1322.87,-431.88C1292.53,-420.46 1252.97,-405.57 1223.56,-394.5\"/>\n<polygon fill=\"black\" stroke=\"black\" points=\"1224.59,-391.15 1214,-390.9 1222.13,-397.7 1224.59,-391.15\"/>\n</g>\n<!-- r2&#45;&#45;tweety -->\n<g id=\"edge29\" class=\"edge\">\n<title>r2&#45;&#45;tweety</title>\n<path fill=\"none\" stroke=\"black\" d=\"M1512.57,-432.41C1547.9,-424.57 1584.65,-413.02 1616.37,-396 1666.22,-369.26 1707.37,-363.57 1707.37,-307 1707.37,-307 1707.37,-307 1707.37,-233 1707.37,-95.6 1198.89,-88.77 1034.19,-90.16\"/>\n<polygon fill=\"black\" stroke=\"black\" points=\"1033.81,-86.66 1023.85,-90.26 1033.88,-93.66 1033.81,-86.66\"/>\n</g>\n<!-- d1&#45;&#45;&#45;tweety -->\n<g id=\"edge30\" class=\"edge\">\n<title>d1&#45;&#45;&#45;tweety</title>\n<path fill=\"none\" stroke=\"black\" d=\"M448.78,-287.97C513.49,-275.06 600.6,-257.69 657.12,-246.42\"/>\n<polygon fill=\"black\" stroke=\"black\" points=\"657.84,-249.84 666.96,-244.45 656.47,-242.98 657.84,-249.84\"/>\n</g>\n<!-- r7&#45;&#45;kiwi -->\n<g id=\"edge21\" class=\"edge\">\n<title>r7&#45;&#45;kiwi</title>\n<path fill=\"none\" stroke=\"black\" d=\"M499.3,-287.97C412.92,-272.96 291.75,-251.92 231.47,-241.44\"/>\n<polygon fill=\"black\" stroke=\"black\" points=\"231.74,-237.94 221.29,-239.68 230.54,-244.84 231.74,-237.94\"/>\n</g>\n<!-- d9&#45;&#45;&#45;wings -->\n<g id=\"edge25\" class=\"edge\">\n<title>d9&#45;&#45;&#45;wings</title>\n<path fill=\"none\" stroke=\"black\" d=\"M383.58,-575.7C373.91,-566.79 361.99,-555.81 351.54,-546.19\"/>\n<polygon fill=\"black\" stroke=\"black\" points=\"353.62,-543.34 343.9,-539.14 348.88,-548.49 353.62,-543.34\"/>\n</g>\n</g>\n</svg>\n",
      "text/plain": "<graphviz.graphs.Graph at 0x7fa21ea75b70>"
     },
     "execution_count": 42,
     "metadata": {},
     "output_type": "execute_result"
    }
   ],
   "source": [
    "complete_graph = draw_graph([bird_primal_graph, bird_dual_graph, common, graph_encoding])['default']\n",
    "complete_graph"
   ]
  },
  {
   "cell_type": "code",
   "execution_count": 43,
   "metadata": {
    "pycharm": {
     "name": "#%%\n"
    }
   },
   "outputs": [],
   "source": [
    "query_1_primal = \"\"\"\n",
    "\n",
    "node(true).\n",
    "attr(node, true, label, \"#true\").\n",
    "\n",
    "rule(q1).\n",
    "attr(node, q1, label, \"#true :- tweety, flies, robin.\").\n",
    "edge((true, q1)).\n",
    "edge((q1, tweety)).\n",
    "edge((q1, flies)).\n",
    "edge((q1, robin)).\n",
    "\n",
    "fact(r1).\n",
    "attr(node, r1, label, \"tweety.\").\n",
    "edge((tweety, r1)).\n",
    "\n",
    "rule(r2).\n",
    "attr(node, r2, label, \"robin :- tweety, not kiwi.\").\n",
    "edge((robin, r2)).\n",
    "edge((r2, tweety)).\n",
    "edge((r2, -kiwi)).\n",
    "\n",
    "rule(r4).\n",
    "attr(node, r4, label, \"wings :- robin.\").\n",
    "edge((wings, r4)).\n",
    "edge((r4, robin)).\n",
    "\n",
    "rule(r6).\n",
    "attr(node, r6, label, \"bird :- robin.\").\n",
    "edge((bird, r6)).\n",
    "edge((r6, robin)).\n",
    "\n",
    "rule(r8).\n",
    "attr(node, r8, label, \"flies :- bird, wings.\").\n",
    "edge((flies, r8)).\n",
    "edge((r8, bird)).\n",
    "edge((r8, wings)).\n",
    "\n",
    "\n",
    "\"\"\"\n",
    "\n",
    "query_1_dual = \"\"\"\n",
    "\n",
    "rule(d4).\n",
    "attr(node, d4, label, \"not kiwi :- robin.\").\n",
    "edge((-kiwi, d4)).\n",
    "edge((d4, robin)).\n",
    "\n",
    "\"\"\""
   ]
  },
  {
   "cell_type": "code",
   "execution_count": 44,
   "metadata": {
    "pycharm": {
     "name": "#%%\n"
    }
   },
   "outputs": [
    {
     "data": {
      "image/svg+xml": "<?xml version=\"1.0\" encoding=\"UTF-8\" standalone=\"no\"?>\n<!DOCTYPE svg PUBLIC \"-//W3C//DTD SVG 1.1//EN\"\n \"http://www.w3.org/Graphics/SVG/1.1/DTD/svg11.dtd\">\n<!-- Generated by graphviz version 3.0.0 (20220227.1548)\n -->\n<!-- Title: default Pages: 1 -->\n<svg width=\"923pt\" height=\"476pt\"\n viewBox=\"0.00 0.00 922.61 476.00\" xmlns=\"http://www.w3.org/2000/svg\" xmlns:xlink=\"http://www.w3.org/1999/xlink\">\n<g id=\"graph0\" class=\"graph\" transform=\"scale(1 1) rotate(0) translate(4 472)\">\n<title>default</title>\n<polygon fill=\"white\" stroke=\"transparent\" points=\"-4,4 -4,-472 918.61,-472 918.61,4 -4,4\"/>\n<!-- r2 -->\n<g id=\"node1\" class=\"node\">\n<title>r2</title>\n<polygon fill=\"none\" stroke=\"black\" points=\"474,-252 186,-252 186,-216 474,-216 474,-252\"/>\n<text text-anchor=\"middle\" x=\"330\" y=\"-230.3\" font-family=\"fira-sans\" font-size=\"14.00\">robin :&#45; tweety, not kiwi.</text>\n</g>\n<!-- tweety -->\n<g id=\"node7\" class=\"node\">\n<title>tweety</title>\n<ellipse fill=\"none\" stroke=\"black\" cx=\"158\" cy=\"-162\" rx=\"40.09\" ry=\"18\"/>\n<text text-anchor=\"middle\" x=\"158\" y=\"-158.3\" font-family=\"fira-sans\" font-size=\"14.00\">tweety</text>\n</g>\n<!-- r2&#45;&#45;tweety -->\n<g id=\"edge4\" class=\"edge\">\n<title>r2&#45;&#45;tweety</title>\n<path fill=\"none\" stroke=\"black\" d=\"M287.92,-215.88C259.93,-204.48 223.46,-189.64 196.28,-178.58\"/>\n<polygon fill=\"black\" stroke=\"black\" points=\"197.31,-175.22 186.73,-174.69 194.67,-181.7 197.31,-175.22\"/>\n</g>\n<!-- &#45;kiwi -->\n<g id=\"node14\" class=\"node\">\n<title>&#45;kiwi</title>\n<ellipse fill=\"black\" stroke=\"black\" cx=\"295\" cy=\"-162\" rx=\"44.69\" ry=\"18\"/>\n<text text-anchor=\"middle\" x=\"295\" y=\"-158.3\" font-family=\"fira-sans\" font-size=\"14.00\" fill=\"white\">not kiwi</text>\n</g>\n<!-- r2&#45;&#45;&#45;kiwi -->\n<g id=\"edge8\" class=\"edge\">\n<title>r2&#45;&#45;&#45;kiwi</title>\n<path fill=\"none\" stroke=\"black\" d=\"M321.35,-215.7C317.36,-207.73 312.55,-198.1 308.13,-189.26\"/>\n<polygon fill=\"black\" stroke=\"black\" points=\"311.15,-187.48 303.55,-180.1 304.89,-190.61 311.15,-187.48\"/>\n</g>\n<!-- wings -->\n<g id=\"node2\" class=\"node\">\n<title>wings</title>\n<ellipse fill=\"none\" stroke=\"black\" cx=\"593\" cy=\"-162\" rx=\"36.29\" ry=\"18\"/>\n<text text-anchor=\"middle\" x=\"593\" y=\"-158.3\" font-family=\"fira-sans\" font-size=\"14.00\">wings</text>\n</g>\n<!-- r4 -->\n<g id=\"node5\" class=\"node\">\n<title>r4</title>\n<polygon fill=\"none\" stroke=\"black\" points=\"650,-108 434,-108 434,-72 650,-72 650,-108\"/>\n<text text-anchor=\"middle\" x=\"542\" y=\"-86.3\" font-family=\"fira-sans\" font-size=\"14.00\">wings :&#45; robin.</text>\n</g>\n<!-- wings&#45;&#45;r4 -->\n<g id=\"edge14\" class=\"edge\">\n<title>wings&#45;&#45;r4</title>\n<path fill=\"none\" stroke=\"black\" d=\"M581.17,-144.76C575.04,-136.35 567.42,-125.89 560.53,-116.44\"/>\n<polygon fill=\"black\" stroke=\"black\" points=\"563.19,-114.15 554.48,-108.12 557.54,-118.27 563.19,-114.15\"/>\n</g>\n<!-- true -->\n<g id=\"node3\" class=\"node\">\n<title>true</title>\n<ellipse fill=\"none\" stroke=\"black\" cx=\"700\" cy=\"-450\" rx=\"35.19\" ry=\"18\"/>\n<text text-anchor=\"middle\" x=\"700\" y=\"-446.3\" font-family=\"fira-sans\" font-size=\"14.00\">#true</text>\n</g>\n<!-- q1 -->\n<g id=\"node13\" class=\"node\">\n<title>q1</title>\n<polygon fill=\"none\" stroke=\"black\" points=\"880,-396 520,-396 520,-360 880,-360 880,-396\"/>\n<text text-anchor=\"middle\" x=\"700\" y=\"-374.3\" font-family=\"fira-sans\" font-size=\"14.00\">#true :&#45; tweety, flies, robin.</text>\n</g>\n<!-- true&#45;&#45;q1 -->\n<g id=\"edge2\" class=\"edge\">\n<title>true&#45;&#45;q1</title>\n<path fill=\"none\" stroke=\"black\" d=\"M700,-431.7C700,-423.98 700,-414.71 700,-406.11\"/>\n<polygon fill=\"black\" stroke=\"black\" points=\"703.5,-406.1 700,-396.1 696.5,-406.1 703.5,-406.1\"/>\n</g>\n<!-- r8 -->\n<g id=\"node4\" class=\"node\">\n<title>r8</title>\n<polygon fill=\"none\" stroke=\"black\" points=\"844,-252 556,-252 556,-216 844,-216 844,-252\"/>\n<text text-anchor=\"middle\" x=\"700\" y=\"-230.3\" font-family=\"fira-sans\" font-size=\"14.00\">flies :&#45; bird, wings.</text>\n</g>\n<!-- r8&#45;&#45;wings -->\n<g id=\"edge7\" class=\"edge\">\n<title>r8&#45;&#45;wings</title>\n<path fill=\"none\" stroke=\"black\" d=\"M673.82,-215.88C658.37,-205.77 638.76,-192.94 622.73,-182.45\"/>\n<polygon fill=\"black\" stroke=\"black\" points=\"624.52,-179.44 614.24,-176.9 620.69,-185.3 624.52,-179.44\"/>\n</g>\n<!-- bird -->\n<g id=\"node9\" class=\"node\">\n<title>bird</title>\n<ellipse fill=\"none\" stroke=\"black\" cx=\"726\" cy=\"-162\" rx=\"27.1\" ry=\"18\"/>\n<text text-anchor=\"middle\" x=\"726\" y=\"-158.3\" font-family=\"fira-sans\" font-size=\"14.00\">bird</text>\n</g>\n<!-- r8&#45;&#45;bird -->\n<g id=\"edge3\" class=\"edge\">\n<title>r8&#45;&#45;bird</title>\n<path fill=\"none\" stroke=\"black\" d=\"M706.43,-215.7C709.4,-207.7 712.99,-198.02 716.29,-189.15\"/>\n<polygon fill=\"black\" stroke=\"black\" points=\"719.63,-190.22 719.83,-179.62 713.06,-187.78 719.63,-190.22\"/>\n</g>\n<!-- robin -->\n<g id=\"node12\" class=\"node\">\n<title>robin</title>\n<ellipse fill=\"none\" stroke=\"black\" cx=\"542\" cy=\"-18\" rx=\"33.29\" ry=\"18\"/>\n<text text-anchor=\"middle\" x=\"542\" y=\"-14.3\" font-family=\"fira-sans\" font-size=\"14.00\">robin</text>\n</g>\n<!-- r4&#45;&#45;robin -->\n<g id=\"edge9\" class=\"edge\">\n<title>r4&#45;&#45;robin</title>\n<path fill=\"none\" stroke=\"black\" d=\"M542,-71.7C542,-63.98 542,-54.71 542,-46.11\"/>\n<polygon fill=\"black\" stroke=\"black\" points=\"545.5,-46.1 542,-36.1 538.5,-46.1 545.5,-46.1\"/>\n</g>\n<!-- d4 -->\n<g id=\"node6\" class=\"node\">\n<title>d4</title>\n<polygon fill=\"none\" stroke=\"black\" points=\"378,-108 162,-108 162,-72 378,-72 378,-108\"/>\n<text text-anchor=\"middle\" x=\"270\" y=\"-86.3\" font-family=\"fira-sans\" font-size=\"14.00\">not kiwi :&#45; robin.</text>\n</g>\n<!-- d4&#45;&#45;robin -->\n<g id=\"edge11\" class=\"edge\">\n<title>d4&#45;&#45;robin</title>\n<path fill=\"none\" stroke=\"black\" d=\"M336.19,-71.97C388.31,-58.55 459.19,-40.31 502.71,-29.11\"/>\n<polygon fill=\"black\" stroke=\"black\" points=\"503.81,-32.44 512.62,-26.56 502.06,-25.66 503.81,-32.44\"/>\n</g>\n<!-- r1 -->\n<g id=\"node8\" class=\"node\">\n<title>r1</title>\n<polygon fill=\"none\" stroke=\"black\" points=\"144,-108 0,-108 0,-72 144,-72 144,-108\"/>\n<text text-anchor=\"middle\" x=\"72\" y=\"-86.3\" font-family=\"fira-sans\" font-size=\"14.00\">tweety.</text>\n</g>\n<!-- tweety&#45;&#45;r1 -->\n<g id=\"edge15\" class=\"edge\">\n<title>tweety&#45;&#45;r1</title>\n<path fill=\"none\" stroke=\"black\" d=\"M139.34,-145.81C128.15,-136.71 113.69,-124.94 101.04,-114.64\"/>\n<polygon fill=\"black\" stroke=\"black\" points=\"103.01,-111.73 93.04,-108.13 98.59,-117.15 103.01,-111.73\"/>\n</g>\n<!-- r6 -->\n<g id=\"node10\" class=\"node\">\n<title>r6</title>\n<polygon fill=\"none\" stroke=\"black\" points=\"884,-108 668,-108 668,-72 884,-72 884,-108\"/>\n<text text-anchor=\"middle\" x=\"776\" y=\"-86.3\" font-family=\"fira-sans\" font-size=\"14.00\">bird :&#45; robin.</text>\n</g>\n<!-- bird&#45;&#45;r6 -->\n<g id=\"edge13\" class=\"edge\">\n<title>bird&#45;&#45;r6</title>\n<path fill=\"none\" stroke=\"black\" d=\"M737.1,-145.46C743.15,-136.99 750.8,-126.29 757.7,-116.61\"/>\n<polygon fill=\"black\" stroke=\"black\" points=\"760.56,-118.63 763.53,-108.46 754.87,-114.56 760.56,-118.63\"/>\n</g>\n<!-- r6&#45;&#45;robin -->\n<g id=\"edge10\" class=\"edge\">\n<title>r6&#45;&#45;robin</title>\n<path fill=\"none\" stroke=\"black\" d=\"M719.06,-71.97C675.84,-59.04 617.63,-41.62 579.95,-30.35\"/>\n<polygon fill=\"black\" stroke=\"black\" points=\"580.95,-27 570.37,-27.49 578.95,-33.71 580.95,-27\"/>\n</g>\n<!-- flies -->\n<g id=\"node11\" class=\"node\">\n<title>flies</title>\n<ellipse fill=\"none\" stroke=\"black\" cx=\"700\" cy=\"-306\" rx=\"28.7\" ry=\"18\"/>\n<text text-anchor=\"middle\" x=\"700\" y=\"-302.3\" font-family=\"fira-sans\" font-size=\"14.00\">flies</text>\n</g>\n<!-- flies&#45;&#45;r8 -->\n<g id=\"edge6\" class=\"edge\">\n<title>flies&#45;&#45;r8</title>\n<path fill=\"none\" stroke=\"black\" d=\"M700,-287.7C700,-279.98 700,-270.71 700,-262.11\"/>\n<polygon fill=\"black\" stroke=\"black\" points=\"703.5,-262.1 700,-252.1 696.5,-262.1 703.5,-262.1\"/>\n</g>\n<!-- robin&#45;&#45;r2 -->\n<g id=\"edge12\" class=\"edge\">\n<title>robin&#45;&#45;r2</title>\n<path fill=\"none\" stroke=\"black\" d=\"M512.75,-26.77C487.22,-34.73 450.39,-49.21 425,-72 382.8,-109.89 353.94,-171.07 339.88,-206.09\"/>\n<polygon fill=\"black\" stroke=\"black\" points=\"336.52,-205.06 336.15,-215.65 343.05,-207.61 336.52,-205.06\"/>\n</g>\n<!-- q1&#45;&#45;tweety -->\n<g id=\"edge16\" class=\"edge\">\n<title>q1&#45;&#45;tweety</title>\n<path fill=\"none\" stroke=\"black\" d=\"M556.53,-360C420.42,-340.91 229.17,-305.45 177,-252 161.26,-235.88 157.16,-210.1 156.62,-190.43\"/>\n<polygon fill=\"black\" stroke=\"black\" points=\"160.12,-190.23 156.63,-180.23 153.12,-190.23 160.12,-190.23\"/>\n</g>\n<!-- q1&#45;&#45;flies -->\n<g id=\"edge5\" class=\"edge\">\n<title>q1&#45;&#45;flies</title>\n<path fill=\"none\" stroke=\"black\" d=\"M700,-359.7C700,-351.98 700,-342.71 700,-334.11\"/>\n<polygon fill=\"black\" stroke=\"black\" points=\"703.5,-334.1 700,-324.1 696.5,-334.1 703.5,-334.1\"/>\n</g>\n<!-- q1&#45;&#45;robin -->\n<g id=\"edge17\" class=\"edge\">\n<title>q1&#45;&#45;robin</title>\n<path fill=\"none\" stroke=\"black\" d=\"M773.85,-359.92C835.03,-340.87 912,-303.33 912,-235 912,-235 912,-235 912,-161 912,-120.55 922.45,-99.72 893,-72 849.37,-30.93 669.54,-21.68 585.57,-19.6\"/>\n<polygon fill=\"black\" stroke=\"black\" points=\"585.41,-16.09 575.34,-19.37 585.26,-23.09 585.41,-16.09\"/>\n</g>\n<!-- &#45;kiwi&#45;&#45;d4 -->\n<g id=\"edge1\" class=\"edge\">\n<title>&#45;kiwi&#45;&#45;d4</title>\n<path fill=\"none\" stroke=\"black\" d=\"M288.95,-144.05C286.13,-136.18 282.72,-126.62 279.57,-117.79\"/>\n<polygon fill=\"black\" stroke=\"black\" points=\"282.83,-116.52 276.17,-108.28 276.24,-118.87 282.83,-116.52\"/>\n</g>\n</g>\n</svg>\n",
      "text/plain": "<graphviz.graphs.Graph at 0x7fa21ec22770>"
     },
     "execution_count": 44,
     "metadata": {},
     "output_type": "execute_result"
    }
   ],
   "source": [
    "query_1_graph = draw_graph([query_1_primal, query_1_dual, common, graph_encoding])['default']\n",
    "query_1_graph"
   ]
  },
  {
   "cell_type": "code",
   "execution_count": 45,
   "metadata": {
    "pycharm": {
     "name": "#%%\n"
    }
   },
   "outputs": [
    {
     "data": {
      "image/svg+xml": "<?xml version=\"1.0\" encoding=\"UTF-8\" standalone=\"no\"?>\n<!DOCTYPE svg PUBLIC \"-//W3C//DTD SVG 1.1//EN\"\n \"http://www.w3.org/Graphics/SVG/1.1/DTD/svg11.dtd\">\n<!-- Generated by graphviz version 3.0.0 (20220227.1548)\n -->\n<!-- Title: default Pages: 1 -->\n<svg width=\"296pt\" height=\"260pt\"\n viewBox=\"0.00 0.00 296.00 260.00\" xmlns=\"http://www.w3.org/2000/svg\" xmlns:xlink=\"http://www.w3.org/1999/xlink\">\n<g id=\"graph0\" class=\"graph\" transform=\"scale(1 1) rotate(0) translate(4 256)\">\n<title>default</title>\n<polygon fill=\"white\" stroke=\"transparent\" points=\"-4,4 -4,-256 292,-256 292,4 -4,4\"/>\n<!-- true -->\n<g id=\"node1\" class=\"node\">\n<title>true</title>\n<ellipse fill=\"none\" stroke=\"black\" cx=\"144\" cy=\"-234\" rx=\"35.19\" ry=\"18\"/>\n<text text-anchor=\"middle\" x=\"144\" y=\"-230.3\" font-family=\"fira-sans\" font-size=\"14.00\">#true</text>\n</g>\n<!-- q1 -->\n<g id=\"node5\" class=\"node\">\n<title>q1</title>\n<polygon fill=\"none\" stroke=\"black\" points=\"288,-180 0,-180 0,-144 288,-144 288,-180\"/>\n<text text-anchor=\"middle\" x=\"144\" y=\"-158.3\" font-family=\"fira-sans\" font-size=\"14.00\">#true :&#45; tweety, not flies.</text>\n</g>\n<!-- true&#45;&#45;q1 -->\n<g id=\"edge3\" class=\"edge\">\n<title>true&#45;&#45;q1</title>\n<path fill=\"none\" stroke=\"black\" d=\"M144,-215.7C144,-207.98 144,-198.71 144,-190.11\"/>\n<polygon fill=\"black\" stroke=\"black\" points=\"147.5,-190.1 144,-180.1 140.5,-190.1 147.5,-190.1\"/>\n</g>\n<!-- tweety -->\n<g id=\"node2\" class=\"node\">\n<title>tweety</title>\n<ellipse fill=\"none\" stroke=\"black\" cx=\"92\" cy=\"-90\" rx=\"40.09\" ry=\"18\"/>\n<text text-anchor=\"middle\" x=\"92\" y=\"-86.3\" font-family=\"fira-sans\" font-size=\"14.00\">tweety</text>\n</g>\n<!-- r1 -->\n<g id=\"node4\" class=\"node\">\n<title>r1</title>\n<polygon fill=\"none\" stroke=\"black\" points=\"164,-36 20,-36 20,0 164,0 164,-36\"/>\n<text text-anchor=\"middle\" x=\"92\" y=\"-14.3\" font-family=\"fira-sans\" font-size=\"14.00\">tweety.</text>\n</g>\n<!-- tweety&#45;&#45;r1 -->\n<g id=\"edge1\" class=\"edge\">\n<title>tweety&#45;&#45;r1</title>\n<path fill=\"none\" stroke=\"black\" d=\"M92,-71.7C92,-63.98 92,-54.71 92,-46.11\"/>\n<polygon fill=\"black\" stroke=\"black\" points=\"95.5,-46.1 92,-36.1 88.5,-46.1 95.5,-46.1\"/>\n</g>\n<!-- &#45;flies -->\n<g id=\"node3\" class=\"node\">\n<title>&#45;flies</title>\n<ellipse fill=\"black\" stroke=\"black\" cx=\"196\" cy=\"-90\" rx=\"45.49\" ry=\"18\"/>\n<text text-anchor=\"middle\" x=\"196\" y=\"-86.3\" font-family=\"fira-sans\" font-size=\"14.00\" fill=\"white\">not flies</text>\n</g>\n<!-- q1&#45;&#45;tweety -->\n<g id=\"edge4\" class=\"edge\">\n<title>q1&#45;&#45;tweety</title>\n<path fill=\"none\" stroke=\"black\" d=\"M131.15,-143.7C124.88,-135.27 117.24,-124.97 110.37,-115.73\"/>\n<polygon fill=\"black\" stroke=\"black\" points=\"113.12,-113.56 104.35,-107.62 107.5,-117.74 113.12,-113.56\"/>\n</g>\n<!-- q1&#45;&#45;&#45;flies -->\n<g id=\"edge2\" class=\"edge\">\n<title>q1&#45;&#45;&#45;flies</title>\n<path fill=\"none\" stroke=\"black\" d=\"M156.85,-143.7C163.12,-135.27 170.76,-124.97 177.63,-115.73\"/>\n<polygon fill=\"black\" stroke=\"black\" points=\"180.5,-117.74 183.65,-107.62 174.88,-113.56 180.5,-117.74\"/>\n</g>\n</g>\n</svg>\n",
      "text/plain": "<graphviz.graphs.Graph at 0x7fa21ea9ac80>"
     },
     "execution_count": 45,
     "metadata": {},
     "output_type": "execute_result"
    }
   ],
   "source": [
    "query_2_1_primal = \"\"\"\n",
    "\n",
    "node(true).\n",
    "attr(node, true, label, \"#true\").\n",
    "\n",
    "rule(q1).\n",
    "attr(node, q1, label, \"#true :- tweety, not flies.\").\n",
    "edge((true, q1)).\n",
    "edge((q1, tweety)).\n",
    "edge((q1, -flies)).\n",
    "\n",
    "fact(r1).\n",
    "attr(node, r1, label, \"tweety.\").\n",
    "edge((tweety, r1)).\n",
    "\n",
    "\"\"\"\n",
    "\n",
    "query_2_1_graph = draw_graph([query_2_1_primal, common, graph_encoding])['default']\n",
    "query_2_1_graph"
   ]
  },
  {
   "cell_type": "code",
   "execution_count": 46,
   "metadata": {
    "pycharm": {
     "name": "#%%\n"
    }
   },
   "outputs": [
    {
     "data": {
      "image/svg+xml": "<?xml version=\"1.0\" encoding=\"UTF-8\" standalone=\"no\"?>\n<!DOCTYPE svg PUBLIC \"-//W3C//DTD SVG 1.1//EN\"\n \"http://www.w3.org/Graphics/SVG/1.1/DTD/svg11.dtd\">\n<!-- Generated by graphviz version 3.0.0 (20220227.1548)\n -->\n<!-- Title: default Pages: 1 -->\n<svg width=\"620pt\" height=\"332pt\"\n viewBox=\"0.00 0.00 620.00 332.00\" xmlns=\"http://www.w3.org/2000/svg\" xmlns:xlink=\"http://www.w3.org/1999/xlink\">\n<g id=\"graph0\" class=\"graph\" transform=\"scale(1 1) rotate(0) translate(4 328)\">\n<title>default</title>\n<polygon fill=\"white\" stroke=\"transparent\" points=\"-4,4 -4,-328 616,-328 616,4 -4,4\"/>\n<!-- true -->\n<g id=\"node1\" class=\"node\">\n<title>true</title>\n<ellipse fill=\"none\" stroke=\"black\" cx=\"171\" cy=\"-306\" rx=\"35.19\" ry=\"18\"/>\n<text text-anchor=\"middle\" x=\"171\" y=\"-302.3\" font-family=\"fira-sans\" font-size=\"14.00\">#true</text>\n</g>\n<!-- q1 -->\n<g id=\"node8\" class=\"node\">\n<title>q1</title>\n<polygon fill=\"none\" stroke=\"black\" points=\"315,-252 27,-252 27,-216 315,-216 315,-252\"/>\n<text text-anchor=\"middle\" x=\"171\" y=\"-230.3\" font-family=\"fira-sans\" font-size=\"14.00\">#true :&#45; tweety, not flies.</text>\n</g>\n<!-- true&#45;&#45;q1 -->\n<g id=\"edge3\" class=\"edge\">\n<title>true&#45;&#45;q1</title>\n<path fill=\"none\" stroke=\"black\" d=\"M171,-287.7C171,-279.98 171,-270.71 171,-262.11\"/>\n<polygon fill=\"black\" stroke=\"black\" points=\"174.5,-262.1 171,-252.1 167.5,-262.1 174.5,-262.1\"/>\n</g>\n<!-- &#45;bird -->\n<g id=\"node2\" class=\"node\">\n<title>&#45;bird</title>\n<ellipse fill=\"black\" stroke=\"black\" cx=\"270\" cy=\"-18\" rx=\"44.39\" ry=\"18\"/>\n<text text-anchor=\"middle\" x=\"270\" y=\"-14.3\" font-family=\"fira-sans\" font-size=\"14.00\" fill=\"white\">not bird</text>\n</g>\n<!-- tweety -->\n<g id=\"node3\" class=\"node\">\n<title>tweety</title>\n<ellipse fill=\"none\" stroke=\"black\" cx=\"119\" cy=\"-162\" rx=\"40.09\" ry=\"18\"/>\n<text text-anchor=\"middle\" x=\"119\" y=\"-158.3\" font-family=\"fira-sans\" font-size=\"14.00\">tweety</text>\n</g>\n<!-- r1 -->\n<g id=\"node6\" class=\"node\">\n<title>r1</title>\n<polygon fill=\"none\" stroke=\"black\" points=\"144,-108 0,-108 0,-72 144,-72 144,-108\"/>\n<text text-anchor=\"middle\" x=\"72\" y=\"-86.3\" font-family=\"fira-sans\" font-size=\"14.00\">tweety.</text>\n</g>\n<!-- tweety&#45;&#45;r1 -->\n<g id=\"edge6\" class=\"edge\">\n<title>tweety&#45;&#45;r1</title>\n<path fill=\"none\" stroke=\"black\" d=\"M107.86,-144.41C102.35,-136.2 95.57,-126.1 89.39,-116.9\"/>\n<polygon fill=\"black\" stroke=\"black\" points=\"92.19,-114.8 83.71,-108.45 86.38,-118.7 92.19,-114.8\"/>\n</g>\n<!-- &#45;flies -->\n<g id=\"node4\" class=\"node\">\n<title>&#45;flies</title>\n<ellipse fill=\"black\" stroke=\"black\" cx=\"270\" cy=\"-162\" rx=\"45.49\" ry=\"18\"/>\n<text text-anchor=\"middle\" x=\"270\" y=\"-158.3\" font-family=\"fira-sans\" font-size=\"14.00\" fill=\"white\">not flies</text>\n</g>\n<!-- d8 -->\n<g id=\"node5\" class=\"node\">\n<title>d8</title>\n<polygon fill=\"none\" stroke=\"black\" points=\"378,-108 162,-108 162,-72 378,-72 378,-108\"/>\n<text text-anchor=\"middle\" x=\"270\" y=\"-86.3\" font-family=\"fira-sans\" font-size=\"14.00\">not flies :&#45; not bird.</text>\n</g>\n<!-- &#45;flies&#45;&#45;d8 -->\n<g id=\"edge5\" class=\"edge\">\n<title>&#45;flies&#45;&#45;d8</title>\n<path fill=\"none\" stroke=\"black\" d=\"M270,-143.7C270,-135.98 270,-126.71 270,-118.11\"/>\n<polygon fill=\"black\" stroke=\"black\" points=\"273.5,-118.1 270,-108.1 266.5,-118.1 273.5,-118.1\"/>\n</g>\n<!-- d9 -->\n<g id=\"node9\" class=\"node\">\n<title>d9</title>\n<polygon fill=\"none\" stroke=\"black\" points=\"612,-108 396,-108 396,-72 612,-72 612,-108\"/>\n<text text-anchor=\"middle\" x=\"504\" y=\"-86.3\" font-family=\"fira-sans\" font-size=\"14.00\">not flies :&#45; not wings.</text>\n</g>\n<!-- &#45;flies&#45;&#45;d9 -->\n<g id=\"edge1\" class=\"edge\">\n<title>&#45;flies&#45;&#45;d9</title>\n<path fill=\"none\" stroke=\"black\" d=\"M305.29,-150.44C340.11,-140.03 394.22,-123.84 437.19,-110.98\"/>\n<polygon fill=\"black\" stroke=\"black\" points=\"438.44,-114.27 447.02,-108.05 436.43,-107.56 438.44,-114.27\"/>\n</g>\n<!-- d8&#45;&#45;&#45;bird -->\n<g id=\"edge4\" class=\"edge\">\n<title>d8&#45;&#45;&#45;bird</title>\n<path fill=\"none\" stroke=\"black\" d=\"M270,-71.7C270,-63.98 270,-54.71 270,-46.11\"/>\n<polygon fill=\"black\" stroke=\"black\" points=\"273.5,-46.1 270,-36.1 266.5,-46.1 273.5,-46.1\"/>\n</g>\n<!-- &#45;wings -->\n<g id=\"node7\" class=\"node\">\n<title>&#45;wings</title>\n<ellipse fill=\"black\" stroke=\"black\" cx=\"504\" cy=\"-18\" rx=\"53.09\" ry=\"18\"/>\n<text text-anchor=\"middle\" x=\"504\" y=\"-14.3\" font-family=\"fira-sans\" font-size=\"14.00\" fill=\"white\">not wings</text>\n</g>\n<!-- q1&#45;&#45;tweety -->\n<g id=\"edge8\" class=\"edge\">\n<title>q1&#45;&#45;tweety</title>\n<path fill=\"none\" stroke=\"black\" d=\"M158.15,-215.7C151.88,-207.27 144.24,-196.97 137.37,-187.73\"/>\n<polygon fill=\"black\" stroke=\"black\" points=\"140.12,-185.56 131.35,-179.62 134.5,-189.74 140.12,-185.56\"/>\n</g>\n<!-- q1&#45;&#45;&#45;flies -->\n<g id=\"edge2\" class=\"edge\">\n<title>q1&#45;&#45;&#45;flies</title>\n<path fill=\"none\" stroke=\"black\" d=\"M195.22,-215.88C208.78,-206.29 225.79,-194.26 240.17,-184.09\"/>\n<polygon fill=\"black\" stroke=\"black\" points=\"242.58,-186.68 248.72,-178.05 238.54,-180.96 242.58,-186.68\"/>\n</g>\n<!-- d9&#45;&#45;&#45;wings -->\n<g id=\"edge7\" class=\"edge\">\n<title>d9&#45;&#45;&#45;wings</title>\n<path fill=\"none\" stroke=\"black\" d=\"M504,-71.7C504,-63.98 504,-54.71 504,-46.11\"/>\n<polygon fill=\"black\" stroke=\"black\" points=\"507.5,-46.1 504,-36.1 500.5,-46.1 507.5,-46.1\"/>\n</g>\n</g>\n</svg>\n",
      "text/plain": "<graphviz.graphs.Graph at 0x7fa21ea98df0>"
     },
     "execution_count": 46,
     "metadata": {},
     "output_type": "execute_result"
    }
   ],
   "source": [
    "query_2_2_primal = \"\"\"\n",
    "\n",
    "node(true).\n",
    "attr(node, true, label, \"#true\").\n",
    "\n",
    "rule(q1).\n",
    "attr(node, q1, label, \"#true :- tweety, not flies.\").\n",
    "edge((true, q1)).\n",
    "edge((q1, tweety)).\n",
    "edge((q1, -flies)).\n",
    "\n",
    "fact(r1).\n",
    "attr(node, r1, label, \"tweety.\").\n",
    "edge((tweety, r1)).\n",
    "\n",
    "\"\"\"\n",
    "\n",
    "query_2_2_dual = \"\"\"\n",
    "\n",
    "rule(d8).\n",
    "attr(node, d8, label, \"not flies :- not bird.\").\n",
    "edge((-flies, d8)).\n",
    "edge((d8, -bird)).\n",
    "\n",
    "rule(d9).\n",
    "attr(node, d9, label, \"not flies :- not wings.\").\n",
    "edge((-flies, d9)).\n",
    "edge((d9, -wings)).\n",
    "\n",
    "\"\"\"\n",
    "\n",
    "query_2_2_graph = draw_graph([query_2_2_primal, query_2_2_dual, common, graph_encoding])['default']\n",
    "query_2_2_graph"
   ]
  },
  {
   "cell_type": "code",
   "execution_count": 47,
   "metadata": {
    "pycharm": {
     "name": "#%%\n"
    }
   },
   "outputs": [
    {
     "data": {
      "image/svg+xml": "<?xml version=\"1.0\" encoding=\"UTF-8\" standalone=\"no\"?>\n<!DOCTYPE svg PUBLIC \"-//W3C//DTD SVG 1.1//EN\"\n \"http://www.w3.org/Graphics/SVG/1.1/DTD/svg11.dtd\">\n<!-- Generated by graphviz version 3.0.0 (20220227.1548)\n -->\n<!-- Title: default Pages: 1 -->\n<svg width=\"620pt\" height=\"476pt\"\n viewBox=\"0.00 0.00 620.00 476.00\" xmlns=\"http://www.w3.org/2000/svg\" xmlns:xlink=\"http://www.w3.org/1999/xlink\">\n<g id=\"graph0\" class=\"graph\" transform=\"scale(1 1) rotate(0) translate(4 472)\">\n<title>default</title>\n<polygon fill=\"white\" stroke=\"transparent\" points=\"-4,4 -4,-472 616,-472 616,4 -4,4\"/>\n<!-- d5 -->\n<g id=\"node1\" class=\"node\">\n<title>d5</title>\n<polygon fill=\"none\" stroke=\"black\" points=\"612,-108 396,-108 396,-72 612,-72 612,-108\"/>\n<text text-anchor=\"middle\" x=\"504\" y=\"-86.3\" font-family=\"fira-sans\" font-size=\"14.00\">not wings :&#45; not robin.</text>\n</g>\n<!-- &#45;robin -->\n<g id=\"node8\" class=\"node\">\n<title>&#45;robin</title>\n<ellipse fill=\"black\" stroke=\"black\" cx=\"504\" cy=\"-18\" rx=\"50.09\" ry=\"18\"/>\n<text text-anchor=\"middle\" x=\"504\" y=\"-14.3\" font-family=\"fira-sans\" font-size=\"14.00\" fill=\"white\">not robin</text>\n</g>\n<!-- d5&#45;&#45;&#45;robin -->\n<g id=\"edge7\" class=\"edge\">\n<title>d5&#45;&#45;&#45;robin</title>\n<path fill=\"none\" stroke=\"black\" d=\"M504,-71.7C504,-63.98 504,-54.71 504,-46.11\"/>\n<polygon fill=\"black\" stroke=\"black\" points=\"507.5,-46.1 504,-36.1 500.5,-46.1 507.5,-46.1\"/>\n</g>\n<!-- true -->\n<g id=\"node2\" class=\"node\">\n<title>true</title>\n<ellipse fill=\"none\" stroke=\"black\" cx=\"171\" cy=\"-450\" rx=\"35.19\" ry=\"18\"/>\n<text text-anchor=\"middle\" x=\"171\" y=\"-446.3\" font-family=\"fira-sans\" font-size=\"14.00\">#true</text>\n</g>\n<!-- q1 -->\n<g id=\"node10\" class=\"node\">\n<title>q1</title>\n<polygon fill=\"none\" stroke=\"black\" points=\"315,-396 27,-396 27,-360 315,-360 315,-396\"/>\n<text text-anchor=\"middle\" x=\"171\" y=\"-374.3\" font-family=\"fira-sans\" font-size=\"14.00\">#true :&#45; tweety, not flies.</text>\n</g>\n<!-- true&#45;&#45;q1 -->\n<g id=\"edge3\" class=\"edge\">\n<title>true&#45;&#45;q1</title>\n<path fill=\"none\" stroke=\"black\" d=\"M171,-431.7C171,-423.98 171,-414.71 171,-406.11\"/>\n<polygon fill=\"black\" stroke=\"black\" points=\"174.5,-406.1 171,-396.1 167.5,-406.1 174.5,-406.1\"/>\n</g>\n<!-- &#45;bird -->\n<g id=\"node3\" class=\"node\">\n<title>&#45;bird</title>\n<ellipse fill=\"black\" stroke=\"black\" cx=\"270\" cy=\"-162\" rx=\"44.39\" ry=\"18\"/>\n<text text-anchor=\"middle\" x=\"270\" y=\"-158.3\" font-family=\"fira-sans\" font-size=\"14.00\" fill=\"white\">not bird</text>\n</g>\n<!-- tweety -->\n<g id=\"node4\" class=\"node\">\n<title>tweety</title>\n<ellipse fill=\"none\" stroke=\"black\" cx=\"119\" cy=\"-306\" rx=\"40.09\" ry=\"18\"/>\n<text text-anchor=\"middle\" x=\"119\" y=\"-302.3\" font-family=\"fira-sans\" font-size=\"14.00\">tweety</text>\n</g>\n<!-- r1 -->\n<g id=\"node7\" class=\"node\">\n<title>r1</title>\n<polygon fill=\"none\" stroke=\"black\" points=\"144,-252 0,-252 0,-216 144,-216 144,-252\"/>\n<text text-anchor=\"middle\" x=\"72\" y=\"-230.3\" font-family=\"fira-sans\" font-size=\"14.00\">tweety.</text>\n</g>\n<!-- tweety&#45;&#45;r1 -->\n<g id=\"edge8\" class=\"edge\">\n<title>tweety&#45;&#45;r1</title>\n<path fill=\"none\" stroke=\"black\" d=\"M107.86,-288.41C102.35,-280.2 95.57,-270.1 89.39,-260.9\"/>\n<polygon fill=\"black\" stroke=\"black\" points=\"92.19,-258.8 83.71,-252.45 86.38,-262.7 92.19,-258.8\"/>\n</g>\n<!-- &#45;flies -->\n<g id=\"node5\" class=\"node\">\n<title>&#45;flies</title>\n<ellipse fill=\"black\" stroke=\"black\" cx=\"270\" cy=\"-306\" rx=\"45.49\" ry=\"18\"/>\n<text text-anchor=\"middle\" x=\"270\" y=\"-302.3\" font-family=\"fira-sans\" font-size=\"14.00\" fill=\"white\">not flies</text>\n</g>\n<!-- d8 -->\n<g id=\"node6\" class=\"node\">\n<title>d8</title>\n<polygon fill=\"none\" stroke=\"black\" points=\"378,-252 162,-252 162,-216 378,-216 378,-252\"/>\n<text text-anchor=\"middle\" x=\"270\" y=\"-230.3\" font-family=\"fira-sans\" font-size=\"14.00\">not flies :&#45; not bird.</text>\n</g>\n<!-- &#45;flies&#45;&#45;d8 -->\n<g id=\"edge6\" class=\"edge\">\n<title>&#45;flies&#45;&#45;d8</title>\n<path fill=\"none\" stroke=\"black\" d=\"M270,-287.7C270,-279.98 270,-270.71 270,-262.11\"/>\n<polygon fill=\"black\" stroke=\"black\" points=\"273.5,-262.1 270,-252.1 266.5,-262.1 273.5,-262.1\"/>\n</g>\n<!-- d9 -->\n<g id=\"node11\" class=\"node\">\n<title>d9</title>\n<polygon fill=\"none\" stroke=\"black\" points=\"612,-252 396,-252 396,-216 612,-216 612,-252\"/>\n<text text-anchor=\"middle\" x=\"504\" y=\"-230.3\" font-family=\"fira-sans\" font-size=\"14.00\">not flies :&#45; not wings.</text>\n</g>\n<!-- &#45;flies&#45;&#45;d9 -->\n<g id=\"edge1\" class=\"edge\">\n<title>&#45;flies&#45;&#45;d9</title>\n<path fill=\"none\" stroke=\"black\" d=\"M305.29,-294.44C340.11,-284.03 394.22,-267.84 437.19,-254.98\"/>\n<polygon fill=\"black\" stroke=\"black\" points=\"438.44,-258.27 447.02,-252.05 436.43,-251.56 438.44,-258.27\"/>\n</g>\n<!-- d8&#45;&#45;&#45;bird -->\n<g id=\"edge4\" class=\"edge\">\n<title>d8&#45;&#45;&#45;bird</title>\n<path fill=\"none\" stroke=\"black\" d=\"M270,-215.7C270,-207.98 270,-198.71 270,-190.11\"/>\n<polygon fill=\"black\" stroke=\"black\" points=\"273.5,-190.1 270,-180.1 266.5,-190.1 273.5,-190.1\"/>\n</g>\n<!-- &#45;wings -->\n<g id=\"node9\" class=\"node\">\n<title>&#45;wings</title>\n<ellipse fill=\"black\" stroke=\"black\" cx=\"504\" cy=\"-162\" rx=\"53.09\" ry=\"18\"/>\n<text text-anchor=\"middle\" x=\"504\" y=\"-158.3\" font-family=\"fira-sans\" font-size=\"14.00\" fill=\"white\">not wings</text>\n</g>\n<!-- &#45;wings&#45;&#45;d5 -->\n<g id=\"edge5\" class=\"edge\">\n<title>&#45;wings&#45;&#45;d5</title>\n<path fill=\"none\" stroke=\"black\" d=\"M504,-143.7C504,-135.98 504,-126.71 504,-118.11\"/>\n<polygon fill=\"black\" stroke=\"black\" points=\"507.5,-118.1 504,-108.1 500.5,-118.1 507.5,-118.1\"/>\n</g>\n<!-- q1&#45;&#45;tweety -->\n<g id=\"edge10\" class=\"edge\">\n<title>q1&#45;&#45;tweety</title>\n<path fill=\"none\" stroke=\"black\" d=\"M158.15,-359.7C151.88,-351.27 144.24,-340.97 137.37,-331.73\"/>\n<polygon fill=\"black\" stroke=\"black\" points=\"140.12,-329.56 131.35,-323.62 134.5,-333.74 140.12,-329.56\"/>\n</g>\n<!-- q1&#45;&#45;&#45;flies -->\n<g id=\"edge2\" class=\"edge\">\n<title>q1&#45;&#45;&#45;flies</title>\n<path fill=\"none\" stroke=\"black\" d=\"M195.22,-359.88C208.78,-350.29 225.79,-338.26 240.17,-328.09\"/>\n<polygon fill=\"black\" stroke=\"black\" points=\"242.58,-330.68 248.72,-322.05 238.54,-324.96 242.58,-330.68\"/>\n</g>\n<!-- d9&#45;&#45;&#45;wings -->\n<g id=\"edge9\" class=\"edge\">\n<title>d9&#45;&#45;&#45;wings</title>\n<path fill=\"none\" stroke=\"black\" d=\"M504,-215.7C504,-207.98 504,-198.71 504,-190.11\"/>\n<polygon fill=\"black\" stroke=\"black\" points=\"507.5,-190.1 504,-180.1 500.5,-190.1 507.5,-190.1\"/>\n</g>\n</g>\n</svg>\n",
      "text/plain": "<graphviz.graphs.Graph at 0x7fa21eab7220>"
     },
     "execution_count": 47,
     "metadata": {},
     "output_type": "execute_result"
    }
   ],
   "source": [
    "query_2_3_primal = \"\"\"\n",
    "\n",
    "node(true).\n",
    "attr(node, true, label, \"#true\").\n",
    "\n",
    "rule(q1).\n",
    "attr(node, q1, label, \"#true :- tweety, not flies.\").\n",
    "edge((true, q1)).\n",
    "edge((q1, tweety)).\n",
    "edge((q1, -flies)).\n",
    "\n",
    "fact(r1).\n",
    "attr(node, r1, label, \"tweety.\").\n",
    "edge((tweety, r1)).\n",
    "\n",
    "\"\"\"\n",
    "\n",
    "query_2_3_dual = \"\"\"\n",
    "\n",
    "rule(d8).\n",
    "attr(node, d8, label, \"not flies :- not bird.\").\n",
    "edge((-flies, d8)).\n",
    "edge((d8, -bird)).\n",
    "\n",
    "rule(d9).\n",
    "attr(node, d9, label, \"not flies :- not wings.\").\n",
    "edge((-flies, d9)).\n",
    "edge((d9, -wings)).\n",
    "\n",
    "rule(d5).\n",
    "attr(node, d5, label, \"not wings :- not robin.\").\n",
    "edge((-wings, d5)).\n",
    "edge((d5, -robin)).\n",
    "\n",
    "\"\"\"\n",
    "\n",
    "query_2_3_graph = draw_graph([query_2_3_primal, query_2_3_dual, common, graph_encoding])['default']\n",
    "query_2_3_graph"
   ]
  },
  {
   "cell_type": "code",
   "execution_count": 48,
   "metadata": {
    "pycharm": {
     "name": "#%%\n"
    }
   },
   "outputs": [
    {
     "data": {
      "image/svg+xml": "<?xml version=\"1.0\" encoding=\"UTF-8\" standalone=\"no\"?>\n<!DOCTYPE svg PUBLIC \"-//W3C//DTD SVG 1.1//EN\"\n \"http://www.w3.org/Graphics/SVG/1.1/DTD/svg11.dtd\">\n<!-- Generated by graphviz version 3.0.0 (20220227.1548)\n -->\n<!-- Title: default Pages: 1 -->\n<svg width=\"737pt\" height=\"620pt\"\n viewBox=\"0.00 0.00 737.00 620.00\" xmlns=\"http://www.w3.org/2000/svg\" xmlns:xlink=\"http://www.w3.org/1999/xlink\">\n<g id=\"graph0\" class=\"graph\" transform=\"scale(1 1) rotate(0) translate(4 616)\">\n<title>default</title>\n<polygon fill=\"white\" stroke=\"transparent\" points=\"-4,4 -4,-616 733,-616 733,4 -4,4\"/>\n<!-- d5 -->\n<g id=\"node1\" class=\"node\">\n<title>d5</title>\n<polygon fill=\"none\" stroke=\"black\" points=\"612,-252 396,-252 396,-216 612,-216 612,-252\"/>\n<text text-anchor=\"middle\" x=\"504\" y=\"-230.3\" font-family=\"fira-sans\" font-size=\"14.00\">not wings :&#45; not robin.</text>\n</g>\n<!-- &#45;robin -->\n<g id=\"node11\" class=\"node\">\n<title>&#45;robin</title>\n<ellipse fill=\"black\" stroke=\"black\" cx=\"504\" cy=\"-162\" rx=\"50.09\" ry=\"18\"/>\n<text text-anchor=\"middle\" x=\"504\" y=\"-158.3\" font-family=\"fira-sans\" font-size=\"14.00\" fill=\"white\">not robin</text>\n</g>\n<!-- d5&#45;&#45;&#45;robin -->\n<g id=\"edge10\" class=\"edge\">\n<title>d5&#45;&#45;&#45;robin</title>\n<path fill=\"none\" stroke=\"black\" d=\"M504,-215.7C504,-207.98 504,-198.71 504,-190.11\"/>\n<polygon fill=\"black\" stroke=\"black\" points=\"507.5,-190.1 504,-180.1 500.5,-190.1 507.5,-190.1\"/>\n</g>\n<!-- true -->\n<g id=\"node2\" class=\"node\">\n<title>true</title>\n<ellipse fill=\"none\" stroke=\"black\" cx=\"171\" cy=\"-594\" rx=\"35.19\" ry=\"18\"/>\n<text text-anchor=\"middle\" x=\"171\" y=\"-590.3\" font-family=\"fira-sans\" font-size=\"14.00\">#true</text>\n</g>\n<!-- q1 -->\n<g id=\"node14\" class=\"node\">\n<title>q1</title>\n<polygon fill=\"none\" stroke=\"black\" points=\"315,-540 27,-540 27,-504 315,-504 315,-540\"/>\n<text text-anchor=\"middle\" x=\"171\" y=\"-518.3\" font-family=\"fira-sans\" font-size=\"14.00\">#true :&#45; tweety, not flies.</text>\n</g>\n<!-- true&#45;&#45;q1 -->\n<g id=\"edge3\" class=\"edge\">\n<title>true&#45;&#45;q1</title>\n<path fill=\"none\" stroke=\"black\" d=\"M171,-575.7C171,-567.98 171,-558.71 171,-550.11\"/>\n<polygon fill=\"black\" stroke=\"black\" points=\"174.5,-550.1 171,-540.1 167.5,-550.1 174.5,-550.1\"/>\n</g>\n<!-- d2 -->\n<g id=\"node3\" class=\"node\">\n<title>d2</title>\n<polygon fill=\"none\" stroke=\"black\" points=\"495,-108 279,-108 279,-72 495,-72 495,-108\"/>\n<text text-anchor=\"middle\" x=\"387\" y=\"-86.3\" font-family=\"fira-sans\" font-size=\"14.00\">not robin :&#45; kiwi.</text>\n</g>\n<!-- kiwi -->\n<g id=\"node13\" class=\"node\">\n<title>kiwi</title>\n<ellipse fill=\"none\" stroke=\"black\" cx=\"387\" cy=\"-18\" rx=\"27.9\" ry=\"18\"/>\n<text text-anchor=\"middle\" x=\"387\" y=\"-14.3\" font-family=\"fira-sans\" font-size=\"14.00\">kiwi</text>\n</g>\n<!-- d2&#45;&#45;kiwi -->\n<g id=\"edge4\" class=\"edge\">\n<title>d2&#45;&#45;kiwi</title>\n<path fill=\"none\" stroke=\"black\" d=\"M387,-71.7C387,-63.98 387,-54.71 387,-46.11\"/>\n<polygon fill=\"black\" stroke=\"black\" points=\"390.5,-46.1 387,-36.1 383.5,-46.1 390.5,-46.1\"/>\n</g>\n<!-- &#45;tweety -->\n<g id=\"node4\" class=\"node\">\n<title>&#45;tweety</title>\n<ellipse fill=\"black\" stroke=\"black\" cx=\"621\" cy=\"-18\" rx=\"57.69\" ry=\"18\"/>\n<text text-anchor=\"middle\" x=\"621\" y=\"-14.3\" font-family=\"fira-sans\" font-size=\"14.00\" fill=\"white\">not tweety</text>\n</g>\n<!-- &#45;bird -->\n<g id=\"node5\" class=\"node\">\n<title>&#45;bird</title>\n<ellipse fill=\"black\" stroke=\"black\" cx=\"270\" cy=\"-306\" rx=\"44.39\" ry=\"18\"/>\n<text text-anchor=\"middle\" x=\"270\" y=\"-302.3\" font-family=\"fira-sans\" font-size=\"14.00\" fill=\"white\">not bird</text>\n</g>\n<!-- tweety -->\n<g id=\"node6\" class=\"node\">\n<title>tweety</title>\n<ellipse fill=\"none\" stroke=\"black\" cx=\"119\" cy=\"-450\" rx=\"40.09\" ry=\"18\"/>\n<text text-anchor=\"middle\" x=\"119\" y=\"-446.3\" font-family=\"fira-sans\" font-size=\"14.00\">tweety</text>\n</g>\n<!-- r1 -->\n<g id=\"node9\" class=\"node\">\n<title>r1</title>\n<polygon fill=\"none\" stroke=\"black\" points=\"144,-396 0,-396 0,-360 144,-360 144,-396\"/>\n<text text-anchor=\"middle\" x=\"72\" y=\"-374.3\" font-family=\"fira-sans\" font-size=\"14.00\">tweety.</text>\n</g>\n<!-- tweety&#45;&#45;r1 -->\n<g id=\"edge11\" class=\"edge\">\n<title>tweety&#45;&#45;r1</title>\n<path fill=\"none\" stroke=\"black\" d=\"M107.86,-432.41C102.35,-424.2 95.57,-414.1 89.39,-404.9\"/>\n<polygon fill=\"black\" stroke=\"black\" points=\"92.19,-402.8 83.71,-396.45 86.38,-406.7 92.19,-402.8\"/>\n</g>\n<!-- &#45;flies -->\n<g id=\"node7\" class=\"node\">\n<title>&#45;flies</title>\n<ellipse fill=\"black\" stroke=\"black\" cx=\"270\" cy=\"-450\" rx=\"45.49\" ry=\"18\"/>\n<text text-anchor=\"middle\" x=\"270\" y=\"-446.3\" font-family=\"fira-sans\" font-size=\"14.00\" fill=\"white\">not flies</text>\n</g>\n<!-- d8 -->\n<g id=\"node8\" class=\"node\">\n<title>d8</title>\n<polygon fill=\"none\" stroke=\"black\" points=\"378,-396 162,-396 162,-360 378,-360 378,-396\"/>\n<text text-anchor=\"middle\" x=\"270\" y=\"-374.3\" font-family=\"fira-sans\" font-size=\"14.00\">not flies :&#45; not bird.</text>\n</g>\n<!-- &#45;flies&#45;&#45;d8 -->\n<g id=\"edge9\" class=\"edge\">\n<title>&#45;flies&#45;&#45;d8</title>\n<path fill=\"none\" stroke=\"black\" d=\"M270,-431.7C270,-423.98 270,-414.71 270,-406.11\"/>\n<polygon fill=\"black\" stroke=\"black\" points=\"273.5,-406.1 270,-396.1 266.5,-406.1 273.5,-406.1\"/>\n</g>\n<!-- d9 -->\n<g id=\"node15\" class=\"node\">\n<title>d9</title>\n<polygon fill=\"none\" stroke=\"black\" points=\"612,-396 396,-396 396,-360 612,-360 612,-396\"/>\n<text text-anchor=\"middle\" x=\"504\" y=\"-374.3\" font-family=\"fira-sans\" font-size=\"14.00\">not flies :&#45; not wings.</text>\n</g>\n<!-- &#45;flies&#45;&#45;d9 -->\n<g id=\"edge1\" class=\"edge\">\n<title>&#45;flies&#45;&#45;d9</title>\n<path fill=\"none\" stroke=\"black\" d=\"M305.29,-438.44C340.11,-428.03 394.22,-411.84 437.19,-398.98\"/>\n<polygon fill=\"black\" stroke=\"black\" points=\"438.44,-402.27 447.02,-396.05 436.43,-395.56 438.44,-402.27\"/>\n</g>\n<!-- d8&#45;&#45;&#45;bird -->\n<g id=\"edge5\" class=\"edge\">\n<title>d8&#45;&#45;&#45;bird</title>\n<path fill=\"none\" stroke=\"black\" d=\"M270,-359.7C270,-351.98 270,-342.71 270,-334.11\"/>\n<polygon fill=\"black\" stroke=\"black\" points=\"273.5,-334.1 270,-324.1 266.5,-334.1 273.5,-334.1\"/>\n</g>\n<!-- d1 -->\n<g id=\"node10\" class=\"node\">\n<title>d1</title>\n<polygon fill=\"none\" stroke=\"black\" points=\"729,-108 513,-108 513,-72 729,-72 729,-108\"/>\n<text text-anchor=\"middle\" x=\"621\" y=\"-86.3\" font-family=\"fira-sans\" font-size=\"14.00\">not robin :&#45; not tweety.</text>\n</g>\n<!-- d1&#45;&#45;&#45;tweety -->\n<g id=\"edge6\" class=\"edge\">\n<title>d1&#45;&#45;&#45;tweety</title>\n<path fill=\"none\" stroke=\"black\" d=\"M621,-71.7C621,-63.98 621,-54.71 621,-46.11\"/>\n<polygon fill=\"black\" stroke=\"black\" points=\"624.5,-46.1 621,-36.1 617.5,-46.1 624.5,-46.1\"/>\n</g>\n<!-- &#45;robin&#45;&#45;d2 -->\n<g id=\"edge13\" class=\"edge\">\n<title>&#45;robin&#45;&#45;d2</title>\n<path fill=\"none\" stroke=\"black\" d=\"M479.19,-146.15C463.31,-136.65 442.4,-124.15 424.52,-113.45\"/>\n<polygon fill=\"black\" stroke=\"black\" points=\"425.86,-110.17 415.48,-108.04 422.27,-116.18 425.86,-110.17\"/>\n</g>\n<!-- &#45;robin&#45;&#45;d1 -->\n<g id=\"edge7\" class=\"edge\">\n<title>&#45;robin&#45;&#45;d1</title>\n<path fill=\"none\" stroke=\"black\" d=\"M528.81,-146.15C544.69,-136.65 565.6,-124.15 583.48,-113.45\"/>\n<polygon fill=\"black\" stroke=\"black\" points=\"585.73,-116.18 592.52,-108.04 582.14,-110.17 585.73,-116.18\"/>\n</g>\n<!-- &#45;wings -->\n<g id=\"node12\" class=\"node\">\n<title>&#45;wings</title>\n<ellipse fill=\"black\" stroke=\"black\" cx=\"504\" cy=\"-306\" rx=\"53.09\" ry=\"18\"/>\n<text text-anchor=\"middle\" x=\"504\" y=\"-302.3\" font-family=\"fira-sans\" font-size=\"14.00\" fill=\"white\">not wings</text>\n</g>\n<!-- &#45;wings&#45;&#45;d5 -->\n<g id=\"edge8\" class=\"edge\">\n<title>&#45;wings&#45;&#45;d5</title>\n<path fill=\"none\" stroke=\"black\" d=\"M504,-287.7C504,-279.98 504,-270.71 504,-262.11\"/>\n<polygon fill=\"black\" stroke=\"black\" points=\"507.5,-262.1 504,-252.1 500.5,-262.1 507.5,-262.1\"/>\n</g>\n<!-- q1&#45;&#45;tweety -->\n<g id=\"edge14\" class=\"edge\">\n<title>q1&#45;&#45;tweety</title>\n<path fill=\"none\" stroke=\"black\" d=\"M158.15,-503.7C151.88,-495.27 144.24,-484.97 137.37,-475.73\"/>\n<polygon fill=\"black\" stroke=\"black\" points=\"140.12,-473.56 131.35,-467.62 134.5,-477.74 140.12,-473.56\"/>\n</g>\n<!-- q1&#45;&#45;&#45;flies -->\n<g id=\"edge2\" class=\"edge\">\n<title>q1&#45;&#45;&#45;flies</title>\n<path fill=\"none\" stroke=\"black\" d=\"M195.22,-503.88C208.78,-494.29 225.79,-482.26 240.17,-472.09\"/>\n<polygon fill=\"black\" stroke=\"black\" points=\"242.58,-474.68 248.72,-466.05 238.54,-468.96 242.58,-474.68\"/>\n</g>\n<!-- d9&#45;&#45;&#45;wings -->\n<g id=\"edge12\" class=\"edge\">\n<title>d9&#45;&#45;&#45;wings</title>\n<path fill=\"none\" stroke=\"black\" d=\"M504,-359.7C504,-351.98 504,-342.71 504,-334.11\"/>\n<polygon fill=\"black\" stroke=\"black\" points=\"507.5,-334.1 504,-324.1 500.5,-334.1 507.5,-334.1\"/>\n</g>\n</g>\n</svg>\n",
      "text/plain": "<graphviz.graphs.Graph at 0x7fa21ec209a0>"
     },
     "execution_count": 48,
     "metadata": {},
     "output_type": "execute_result"
    }
   ],
   "source": [
    "query_2_4_primal = \"\"\"\n",
    "\n",
    "node(true).\n",
    "attr(node, true, label, \"#true\").\n",
    "\n",
    "rule(q1).\n",
    "attr(node, q1, label, \"#true :- tweety, not flies.\").\n",
    "edge((true, q1)).\n",
    "edge((q1, tweety)).\n",
    "edge((q1, -flies)).\n",
    "\n",
    "fact(r1).\n",
    "attr(node, r1, label, \"tweety.\").\n",
    "edge((tweety, r1)).\n",
    "\n",
    "\"\"\"\n",
    "\n",
    "query_2_4_dual = \"\"\"\n",
    "\n",
    "rule(d8).\n",
    "attr(node, d8, label, \"not flies :- not bird.\").\n",
    "edge((-flies, d8)).\n",
    "edge((d8, -bird)).\n",
    "\n",
    "rule(d9).\n",
    "attr(node, d9, label, \"not flies :- not wings.\").\n",
    "edge((-flies, d9)).\n",
    "edge((d9, -wings)).\n",
    "\n",
    "rule(d5).\n",
    "attr(node, d5, label, \"not wings :- not robin.\").\n",
    "edge((-wings, d5)).\n",
    "edge((d5, -robin)).\n",
    "\n",
    "rule(d1).\n",
    "attr(node, d1, label, \"not robin :- not tweety.\").\n",
    "edge((-robin, d1)).\n",
    "edge((d1, -tweety)).\n",
    "\n",
    "rule(d2).\n",
    "attr(node, d2, label, \"not robin :- kiwi.\").\n",
    "edge((-robin, d2)).\n",
    "edge((d2, kiwi)).\n",
    "\n",
    "\"\"\"\n",
    "\n",
    "query_2_4_graph = draw_graph([query_2_4_primal, query_2_4_dual, common, graph_encoding])['default']\n",
    "query_2_4_graph"
   ]
  },
  {
   "cell_type": "code",
   "execution_count": 49,
   "metadata": {
    "pycharm": {
     "name": "#%%\n"
    }
   },
   "outputs": [
    {
     "data": {
      "image/svg+xml": "<?xml version=\"1.0\" encoding=\"UTF-8\" standalone=\"no\"?>\n<!DOCTYPE svg PUBLIC \"-//W3C//DTD SVG 1.1//EN\"\n \"http://www.w3.org/Graphics/SVG/1.1/DTD/svg11.dtd\">\n<!-- Generated by graphviz version 3.0.0 (20220227.1548)\n -->\n<!-- Title: default Pages: 1 -->\n<svg width=\"765pt\" height=\"836pt\"\n viewBox=\"0.00 0.00 765.00 836.00\" xmlns=\"http://www.w3.org/2000/svg\" xmlns:xlink=\"http://www.w3.org/1999/xlink\">\n<g id=\"graph0\" class=\"graph\" transform=\"scale(1 1) rotate(0) translate(4 832)\">\n<title>default</title>\n<polygon fill=\"white\" stroke=\"transparent\" points=\"-4,4 -4,-832 761,-832 761,4 -4,4\"/>\n<!-- d5 -->\n<g id=\"node1\" class=\"node\">\n<title>d5</title>\n<polygon fill=\"none\" stroke=\"black\" points=\"535,-468 319,-468 319,-432 535,-432 535,-468\"/>\n<text text-anchor=\"middle\" x=\"427\" y=\"-446.3\" font-family=\"fira-sans\" font-size=\"14.00\">not wings :&#45; not robin.</text>\n</g>\n<!-- &#45;robin -->\n<g id=\"node12\" class=\"node\">\n<title>&#45;robin</title>\n<ellipse fill=\"black\" stroke=\"black\" cx=\"419\" cy=\"-378\" rx=\"50.09\" ry=\"18\"/>\n<text text-anchor=\"middle\" x=\"419\" y=\"-374.3\" font-family=\"fira-sans\" font-size=\"14.00\" fill=\"white\">not robin</text>\n</g>\n<!-- d5&#45;&#45;&#45;robin -->\n<g id=\"edge13\" class=\"edge\">\n<title>d5&#45;&#45;&#45;robin</title>\n<path fill=\"none\" stroke=\"black\" d=\"M425.02,-431.7C424.14,-423.98 423.08,-414.71 422.1,-406.11\"/>\n<polygon fill=\"black\" stroke=\"black\" points=\"425.57,-405.64 420.95,-396.1 418.61,-406.44 425.57,-405.64\"/>\n</g>\n<!-- true -->\n<g id=\"node2\" class=\"node\">\n<title>true</title>\n<ellipse fill=\"none\" stroke=\"black\" cx=\"144\" cy=\"-810\" rx=\"35.19\" ry=\"18\"/>\n<text text-anchor=\"middle\" x=\"144\" y=\"-806.3\" font-family=\"fira-sans\" font-size=\"14.00\">#true</text>\n</g>\n<!-- q1 -->\n<g id=\"node15\" class=\"node\">\n<title>q1</title>\n<polygon fill=\"none\" stroke=\"black\" points=\"288,-756 0,-756 0,-720 288,-720 288,-756\"/>\n<text text-anchor=\"middle\" x=\"144\" y=\"-734.3\" font-family=\"fira-sans\" font-size=\"14.00\">#true :&#45; tweety, not flies.</text>\n</g>\n<!-- true&#45;&#45;q1 -->\n<g id=\"edge4\" class=\"edge\">\n<title>true&#45;&#45;q1</title>\n<path fill=\"none\" stroke=\"black\" d=\"M144,-791.7C144,-783.98 144,-774.71 144,-766.11\"/>\n<polygon fill=\"black\" stroke=\"black\" points=\"147.5,-766.1 144,-756.1 140.5,-766.1 147.5,-766.1\"/>\n</g>\n<!-- d2 -->\n<g id=\"node3\" class=\"node\">\n<title>d2</title>\n<polygon fill=\"none\" stroke=\"black\" points=\"523,-324 307,-324 307,-288 523,-288 523,-324\"/>\n<text text-anchor=\"middle\" x=\"415\" y=\"-302.3\" font-family=\"fira-sans\" font-size=\"14.00\">not robin :&#45; kiwi.</text>\n</g>\n<!-- kiwi -->\n<g id=\"node14\" class=\"node\">\n<title>kiwi</title>\n<ellipse fill=\"none\" stroke=\"black\" cx=\"375\" cy=\"-234\" rx=\"27.9\" ry=\"18\"/>\n<text text-anchor=\"middle\" x=\"375\" y=\"-230.3\" font-family=\"fira-sans\" font-size=\"14.00\">kiwi</text>\n</g>\n<!-- d2&#45;&#45;kiwi -->\n<g id=\"edge6\" class=\"edge\">\n<title>d2&#45;&#45;kiwi</title>\n<path fill=\"none\" stroke=\"black\" d=\"M405.11,-287.7C400.32,-279.32 394.48,-269.1 389.23,-259.9\"/>\n<polygon fill=\"black\" stroke=\"black\" points=\"392.23,-258.09 384.23,-251.14 386.15,-261.56 392.23,-258.09\"/>\n</g>\n<!-- &#45;tweety -->\n<g id=\"node4\" class=\"node\">\n<title>&#45;tweety</title>\n<ellipse fill=\"black\" stroke=\"black\" cx=\"649\" cy=\"-234\" rx=\"57.69\" ry=\"18\"/>\n<text text-anchor=\"middle\" x=\"649\" y=\"-230.3\" font-family=\"fira-sans\" font-size=\"14.00\" fill=\"white\">not tweety</text>\n</g>\n<!-- &#45;bird -->\n<g id=\"node5\" class=\"node\">\n<title>&#45;bird</title>\n<ellipse fill=\"black\" stroke=\"black\" cx=\"212\" cy=\"-522\" rx=\"44.39\" ry=\"18\"/>\n<text text-anchor=\"middle\" x=\"212\" y=\"-518.3\" font-family=\"fira-sans\" font-size=\"14.00\" fill=\"white\">not bird</text>\n</g>\n<!-- tweety -->\n<g id=\"node6\" class=\"node\">\n<title>tweety</title>\n<ellipse fill=\"none\" stroke=\"black\" cx=\"162\" cy=\"-90\" rx=\"40.09\" ry=\"18\"/>\n<text text-anchor=\"middle\" x=\"162\" y=\"-86.3\" font-family=\"fira-sans\" font-size=\"14.00\">tweety</text>\n</g>\n<!-- r1 -->\n<g id=\"node10\" class=\"node\">\n<title>r1</title>\n<polygon fill=\"none\" stroke=\"black\" points=\"234,-36 90,-36 90,0 234,0 234,-36\"/>\n<text text-anchor=\"middle\" x=\"162\" y=\"-14.3\" font-family=\"fira-sans\" font-size=\"14.00\">tweety.</text>\n</g>\n<!-- tweety&#45;&#45;r1 -->\n<g id=\"edge14\" class=\"edge\">\n<title>tweety&#45;&#45;r1</title>\n<path fill=\"none\" stroke=\"black\" d=\"M162,-71.7C162,-63.98 162,-54.71 162,-46.11\"/>\n<polygon fill=\"black\" stroke=\"black\" points=\"165.5,-46.1 162,-36.1 158.5,-46.1 165.5,-46.1\"/>\n</g>\n<!-- r3 -->\n<g id=\"node7\" class=\"node\">\n<title>r3</title>\n<polygon fill=\"none\" stroke=\"black\" points=\"423,-180 135,-180 135,-144 423,-144 423,-180\"/>\n<text text-anchor=\"middle\" x=\"279\" y=\"-158.3\" font-family=\"fira-sans\" font-size=\"14.00\">kiwi :&#45; tweety, not robin.</text>\n</g>\n<!-- r3&#45;&#45;tweety -->\n<g id=\"edge5\" class=\"edge\">\n<title>r3&#45;&#45;tweety</title>\n<path fill=\"none\" stroke=\"black\" d=\"M250.38,-143.88C233.33,-133.67 211.64,-120.7 194.02,-110.16\"/>\n<polygon fill=\"black\" stroke=\"black\" points=\"195.6,-107.03 185.22,-104.9 192.01,-113.03 195.6,-107.03\"/>\n</g>\n<!-- r3&#45;&#45;&#45;robin -->\n<g id=\"edge1\" class=\"edge\">\n<title>r3&#45;&#45;&#45;robin</title>\n<path fill=\"none\" stroke=\"black\" d=\"M275.94,-180.02C271.23,-211.73 265.83,-280.58 298,-324 314.08,-345.7 340.97,-358.65 365.33,-366.31\"/>\n<polygon fill=\"black\" stroke=\"black\" points=\"364.64,-369.76 375.22,-369.19 366.59,-363.03 364.64,-369.76\"/>\n</g>\n<!-- &#45;flies -->\n<g id=\"node8\" class=\"node\">\n<title>&#45;flies</title>\n<ellipse fill=\"black\" stroke=\"black\" cx=\"212\" cy=\"-666\" rx=\"45.49\" ry=\"18\"/>\n<text text-anchor=\"middle\" x=\"212\" y=\"-662.3\" font-family=\"fira-sans\" font-size=\"14.00\" fill=\"white\">not flies</text>\n</g>\n<!-- d8 -->\n<g id=\"node9\" class=\"node\">\n<title>d8</title>\n<polygon fill=\"none\" stroke=\"black\" points=\"320,-612 104,-612 104,-576 320,-576 320,-612\"/>\n<text text-anchor=\"middle\" x=\"212\" y=\"-590.3\" font-family=\"fira-sans\" font-size=\"14.00\">not flies :&#45; not bird.</text>\n</g>\n<!-- &#45;flies&#45;&#45;d8 -->\n<g id=\"edge12\" class=\"edge\">\n<title>&#45;flies&#45;&#45;d8</title>\n<path fill=\"none\" stroke=\"black\" d=\"M212,-647.7C212,-639.98 212,-630.71 212,-622.11\"/>\n<polygon fill=\"black\" stroke=\"black\" points=\"215.5,-622.1 212,-612.1 208.5,-622.1 215.5,-622.1\"/>\n</g>\n<!-- d9 -->\n<g id=\"node16\" class=\"node\">\n<title>d9</title>\n<polygon fill=\"none\" stroke=\"black\" points=\"554,-612 338,-612 338,-576 554,-576 554,-612\"/>\n<text text-anchor=\"middle\" x=\"446\" y=\"-590.3\" font-family=\"fira-sans\" font-size=\"14.00\">not flies :&#45; not wings.</text>\n</g>\n<!-- &#45;flies&#45;&#45;d9 -->\n<g id=\"edge2\" class=\"edge\">\n<title>&#45;flies&#45;&#45;d9</title>\n<path fill=\"none\" stroke=\"black\" d=\"M247.29,-654.44C282.11,-644.03 336.22,-627.84 379.19,-614.98\"/>\n<polygon fill=\"black\" stroke=\"black\" points=\"380.44,-618.27 389.02,-612.05 378.43,-611.56 380.44,-618.27\"/>\n</g>\n<!-- d8&#45;&#45;&#45;bird -->\n<g id=\"edge7\" class=\"edge\">\n<title>d8&#45;&#45;&#45;bird</title>\n<path fill=\"none\" stroke=\"black\" d=\"M212,-575.7C212,-567.98 212,-558.71 212,-550.11\"/>\n<polygon fill=\"black\" stroke=\"black\" points=\"215.5,-550.1 212,-540.1 208.5,-550.1 215.5,-550.1\"/>\n</g>\n<!-- d1 -->\n<g id=\"node11\" class=\"node\">\n<title>d1</title>\n<polygon fill=\"none\" stroke=\"black\" points=\"757,-324 541,-324 541,-288 757,-288 757,-324\"/>\n<text text-anchor=\"middle\" x=\"649\" y=\"-302.3\" font-family=\"fira-sans\" font-size=\"14.00\">not robin :&#45; not tweety.</text>\n</g>\n<!-- d1&#45;&#45;&#45;tweety -->\n<g id=\"edge8\" class=\"edge\">\n<title>d1&#45;&#45;&#45;tweety</title>\n<path fill=\"none\" stroke=\"black\" d=\"M649,-287.7C649,-279.98 649,-270.71 649,-262.11\"/>\n<polygon fill=\"black\" stroke=\"black\" points=\"652.5,-262.1 649,-252.1 645.5,-262.1 652.5,-262.1\"/>\n</g>\n<!-- &#45;robin&#45;&#45;d2 -->\n<g id=\"edge16\" class=\"edge\">\n<title>&#45;robin&#45;&#45;d2</title>\n<path fill=\"none\" stroke=\"black\" d=\"M418.01,-359.7C417.57,-351.98 417.04,-342.71 416.55,-334.11\"/>\n<polygon fill=\"black\" stroke=\"black\" points=\"420.04,-333.89 415.98,-324.1 413.05,-334.29 420.04,-333.89\"/>\n</g>\n<!-- &#45;robin&#45;&#45;d1 -->\n<g id=\"edge9\" class=\"edge\">\n<title>&#45;robin&#45;&#45;d1</title>\n<path fill=\"none\" stroke=\"black\" d=\"M455.95,-365.75C490.16,-355.34 541.82,-339.62 583.09,-327.06\"/>\n<polygon fill=\"black\" stroke=\"black\" points=\"584.25,-330.36 592.8,-324.1 582.22,-323.67 584.25,-330.36\"/>\n</g>\n<!-- &#45;wings -->\n<g id=\"node13\" class=\"node\">\n<title>&#45;wings</title>\n<ellipse fill=\"black\" stroke=\"black\" cx=\"442\" cy=\"-522\" rx=\"53.09\" ry=\"18\"/>\n<text text-anchor=\"middle\" x=\"442\" y=\"-518.3\" font-family=\"fira-sans\" font-size=\"14.00\" fill=\"white\">not wings</text>\n</g>\n<!-- &#45;wings&#45;&#45;d5 -->\n<g id=\"edge10\" class=\"edge\">\n<title>&#45;wings&#45;&#45;d5</title>\n<path fill=\"none\" stroke=\"black\" d=\"M438.29,-503.7C436.64,-495.98 434.65,-486.71 432.81,-478.11\"/>\n<polygon fill=\"black\" stroke=\"black\" points=\"436.18,-477.15 430.67,-468.1 429.34,-478.62 436.18,-477.15\"/>\n</g>\n<!-- kiwi&#45;&#45;r3 -->\n<g id=\"edge11\" class=\"edge\">\n<title>kiwi&#45;&#45;r3</title>\n<path fill=\"none\" stroke=\"black\" d=\"M356.94,-219.83C343.93,-210.34 326.02,-197.29 310.66,-186.08\"/>\n<polygon fill=\"black\" stroke=\"black\" points=\"312.57,-183.15 302.43,-180.08 308.44,-188.8 312.57,-183.15\"/>\n</g>\n<!-- q1&#45;&#45;tweety -->\n<g id=\"edge17\" class=\"edge\">\n<title>q1&#45;&#45;tweety</title>\n<path fill=\"none\" stroke=\"black\" d=\"M129.58,-719.89C109.62,-694.42 76,-644.2 76,-595 76,-595 76,-595 76,-233 76,-185.26 112.01,-139.85 137.42,-113.74\"/>\n<polygon fill=\"black\" stroke=\"black\" points=\"139.99,-116.13 144.6,-106.59 135.04,-111.17 139.99,-116.13\"/>\n</g>\n<!-- q1&#45;&#45;&#45;flies -->\n<g id=\"edge3\" class=\"edge\">\n<title>q1&#45;&#45;&#45;flies</title>\n<path fill=\"none\" stroke=\"black\" d=\"M160.81,-719.7C169.37,-710.88 179.91,-700.03 189.2,-690.47\"/>\n<polygon fill=\"black\" stroke=\"black\" points=\"191.86,-692.76 196.32,-683.14 186.84,-687.88 191.86,-692.76\"/>\n</g>\n<!-- d9&#45;&#45;&#45;wings -->\n<g id=\"edge15\" class=\"edge\">\n<title>d9&#45;&#45;&#45;wings</title>\n<path fill=\"none\" stroke=\"black\" d=\"M445.01,-575.7C444.57,-567.98 444.04,-558.71 443.55,-550.11\"/>\n<polygon fill=\"black\" stroke=\"black\" points=\"447.04,-549.89 442.98,-540.1 440.05,-550.29 447.04,-549.89\"/>\n</g>\n</g>\n</svg>\n",
      "text/plain": "<graphviz.graphs.Graph at 0x7fa21ea98490>"
     },
     "execution_count": 49,
     "metadata": {},
     "output_type": "execute_result"
    }
   ],
   "source": [
    "query_2_5_primal = \"\"\"\n",
    "\n",
    "node(true).\n",
    "attr(node, true, label, \"#true\").\n",
    "\n",
    "rule(q1).\n",
    "attr(node, q1, label, \"#true :- tweety, not flies.\").\n",
    "edge((true, q1)).\n",
    "edge((q1, tweety)).\n",
    "edge((q1, -flies)).\n",
    "\n",
    "fact(r1).\n",
    "attr(node, r1, label, \"tweety.\").\n",
    "edge((tweety, r1)).\n",
    "\n",
    "rule(r3).\n",
    "attr(node, r3, label, \"kiwi :- tweety, not robin.\").\n",
    "edge((kiwi, r3)).\n",
    "edge((r3, tweety)).\n",
    "edge((r3, -robin)).\n",
    "\n",
    "\"\"\"\n",
    "\n",
    "query_2_5_dual = \"\"\"\n",
    "\n",
    "rule(d8).\n",
    "attr(node, d8, label, \"not flies :- not bird.\").\n",
    "edge((-flies, d8)).\n",
    "edge((d8, -bird)).\n",
    "\n",
    "rule(d9).\n",
    "attr(node, d9, label, \"not flies :- not wings.\").\n",
    "edge((-flies, d9)).\n",
    "edge((d9, -wings)).\n",
    "\n",
    "rule(d5).\n",
    "attr(node, d5, label, \"not wings :- not robin.\").\n",
    "edge((-wings, d5)).\n",
    "edge((d5, -robin)).\n",
    "\n",
    "rule(d1).\n",
    "attr(node, d1, label, \"not robin :- not tweety.\").\n",
    "edge((-robin, d1)).\n",
    "edge((d1, -tweety)).\n",
    "\n",
    "rule(d2).\n",
    "attr(node, d2, label, \"not robin :- kiwi.\").\n",
    "edge((-robin, d2)).\n",
    "edge((d2, kiwi)).\n",
    "\n",
    "\"\"\"\n",
    "\n",
    "query_2_5_graph = draw_graph([query_2_5_primal, query_2_5_dual, common, graph_encoding])['default']\n",
    "query_2_5_graph"
   ]
  },
  {
   "cell_type": "code",
   "execution_count": 50,
   "metadata": {
    "pycharm": {
     "name": "#%%\n"
    }
   },
   "outputs": [],
   "source": [
    "query_2_ff_primal = \"\"\"\n",
    "\n",
    "pos_literal(true).\n",
    "attr(node, true, label, \"#true\").\n",
    "\n",
    "rule(q1).\n",
    "attr(node, q1, label, \"#true :- tweety, not flies.\").\n",
    "edge((true, q1)).\n",
    "edge((q1, tweety)).\n",
    "edge((q1, -flies)).\n",
    "\n",
    "\n",
    "fact(r1).\n",
    "attr(node, r1, label, \"tweety.\").\n",
    "edge((tweety, r1)).\n",
    "\n",
    "rule(r2).\n",
    "attr(node, r2, label, \"robin :- tweety, not kiwi.\").\n",
    "edge((robin, r2)).\n",
    "edge((r2, tweety)).\n",
    "edge((r2, -kiwi)).\n",
    "\n",
    "rule(r3).\n",
    "attr(node, r3, label, \"kiwi :- tweety, not robin.\").\n",
    "edge((kiwi, r3)).\n",
    "edge((r3, tweety)).\n",
    "edge((r3, -robin)).\n",
    "\n",
    "\"\"\"\n",
    "\n",
    "\n",
    "query_2_ff_dual = \"\"\"\n",
    "\n",
    "rule(d1).\n",
    "attr(node, d1, label, \"not robin :- not tweety.\").\n",
    "edge((-robin, d1)).\n",
    "edge((d1, -tweety)).\n",
    "\n",
    "rule(d2).\n",
    "attr(node, d2, label, \"not robin :- kiwi.\").\n",
    "edge((-robin, d2)).\n",
    "edge((d2, kiwi)).\n",
    "\n",
    "rule(d3).\n",
    "attr(node, d3, label, \"not kiwi :- not tweety.\").\n",
    "edge((-kiwi, d3)).\n",
    "edge((d3, -tweety)).\n",
    "\n",
    "rule(d4).\n",
    "attr(node, d4, label, \"not kiwi :- robin.\").\n",
    "edge((-kiwi, d4)).\n",
    "edge((d4, robin)).\n",
    "\n",
    "rule(d5).\n",
    "attr(node, d5, label, \"not wings :- not robin.\").\n",
    "edge((-wings, d5)).\n",
    "edge((d5, -robin)).\n",
    "\n",
    "rule(d7).\n",
    "attr(node, d7, label, \"not bird :- not robin, not kiwi.\").\n",
    "edge((-bird, d7)).\n",
    "edge((d7, -robin)).\n",
    "edge((d7, -kiwi)).\n",
    "\n",
    "rule(d8).\n",
    "attr(node, d8, label, \"not flies :- not bird.\").\n",
    "edge((-flies, d8)).\n",
    "edge((d8, -bird)).\n",
    "\n",
    "rule(d9).\n",
    "attr(node, d9, label, \"not flies :- not wings.\").\n",
    "edge((-flies, d9)).\n",
    "edge((d9, -wings)).\n",
    "\n",
    "\"\"\""
   ]
  },
  {
   "cell_type": "code",
   "execution_count": 51,
   "metadata": {
    "pycharm": {
     "name": "#%%\n"
    }
   },
   "outputs": [
    {
     "data": {
      "image/svg+xml": "<?xml version=\"1.0\" encoding=\"UTF-8\" standalone=\"no\"?>\n<!DOCTYPE svg PUBLIC \"-//W3C//DTD SVG 1.1//EN\"\n \"http://www.w3.org/Graphics/SVG/1.1/DTD/svg11.dtd\">\n<!-- Generated by graphviz version 3.0.0 (20220227.1548)\n -->\n<!-- Title: default Pages: 1 -->\n<svg width=\"1028pt\" height=\"836pt\"\n viewBox=\"0.00 0.00 1028.00 836.00\" xmlns=\"http://www.w3.org/2000/svg\" xmlns:xlink=\"http://www.w3.org/1999/xlink\">\n<g id=\"graph0\" class=\"graph\" transform=\"scale(1 1) rotate(0) translate(4 832)\">\n<title>default</title>\n<polygon fill=\"white\" stroke=\"transparent\" points=\"-4,4 -4,-832 1024,-832 1024,4 -4,4\"/>\n<!-- d5 -->\n<g id=\"node1\" class=\"node\">\n<title>d5</title>\n<polygon fill=\"none\" stroke=\"black\" points=\"499,-468 283,-468 283,-432 499,-432 499,-468\"/>\n<text text-anchor=\"middle\" x=\"391\" y=\"-446.3\" font-family=\"fira-sans\" font-size=\"14.00\">not wings :&#45; not robin.</text>\n</g>\n<!-- &#45;robin -->\n<g id=\"node16\" class=\"node\">\n<title>&#45;robin</title>\n<ellipse fill=\"black\" stroke=\"black\" cx=\"378\" cy=\"-378\" rx=\"50.09\" ry=\"18\"/>\n<text text-anchor=\"middle\" x=\"378\" y=\"-374.3\" font-family=\"fira-sans\" font-size=\"14.00\" fill=\"white\">not robin</text>\n</g>\n<!-- d5&#45;&#45;&#45;robin -->\n<g id=\"edge27\" class=\"edge\">\n<title>d5&#45;&#45;&#45;robin</title>\n<path fill=\"none\" stroke=\"black\" d=\"M387.79,-431.7C386.35,-423.98 384.63,-414.71 383.04,-406.11\"/>\n<polygon fill=\"black\" stroke=\"black\" points=\"386.44,-405.3 381.18,-396.1 379.56,-406.58 386.44,-405.3\"/>\n</g>\n<!-- d2 -->\n<g id=\"node2\" class=\"node\">\n<title>d2</title>\n<polygon fill=\"none\" stroke=\"black\" points=\"252,-324 36,-324 36,-288 252,-288 252,-324\"/>\n<text text-anchor=\"middle\" x=\"144\" y=\"-302.3\" font-family=\"fira-sans\" font-size=\"14.00\">not robin :&#45; kiwi.</text>\n</g>\n<!-- kiwi -->\n<g id=\"node10\" class=\"node\">\n<title>kiwi</title>\n<ellipse fill=\"none\" stroke=\"black\" cx=\"144\" cy=\"-234\" rx=\"27.9\" ry=\"18\"/>\n<text text-anchor=\"middle\" x=\"144\" y=\"-230.3\" font-family=\"fira-sans\" font-size=\"14.00\">kiwi</text>\n</g>\n<!-- d2&#45;&#45;kiwi -->\n<g id=\"edge9\" class=\"edge\">\n<title>d2&#45;&#45;kiwi</title>\n<path fill=\"none\" stroke=\"black\" d=\"M144,-287.7C144,-279.98 144,-270.71 144,-262.11\"/>\n<polygon fill=\"black\" stroke=\"black\" points=\"147.5,-262.1 144,-252.1 140.5,-262.1 147.5,-262.1\"/>\n</g>\n<!-- &#45;flies -->\n<g id=\"node3\" class=\"node\">\n<title>&#45;flies</title>\n<ellipse fill=\"black\" stroke=\"black\" cx=\"686\" cy=\"-666\" rx=\"45.49\" ry=\"18\"/>\n<text text-anchor=\"middle\" x=\"686\" y=\"-662.3\" font-family=\"fira-sans\" font-size=\"14.00\" fill=\"white\">not flies</text>\n</g>\n<!-- d8 -->\n<g id=\"node7\" class=\"node\">\n<title>d8</title>\n<polygon fill=\"none\" stroke=\"black\" points=\"794,-612 578,-612 578,-576 794,-576 794,-612\"/>\n<text text-anchor=\"middle\" x=\"686\" y=\"-590.3\" font-family=\"fira-sans\" font-size=\"14.00\">not flies :&#45; not bird.</text>\n</g>\n<!-- &#45;flies&#45;&#45;d8 -->\n<g id=\"edge24\" class=\"edge\">\n<title>&#45;flies&#45;&#45;d8</title>\n<path fill=\"none\" stroke=\"black\" d=\"M686,-647.7C686,-639.98 686,-630.71 686,-622.11\"/>\n<polygon fill=\"black\" stroke=\"black\" points=\"689.5,-622.1 686,-612.1 682.5,-622.1 689.5,-622.1\"/>\n</g>\n<!-- d9 -->\n<g id=\"node22\" class=\"node\">\n<title>d9</title>\n<polygon fill=\"none\" stroke=\"black\" points=\"551,-612 335,-612 335,-576 551,-576 551,-612\"/>\n<text text-anchor=\"middle\" x=\"443\" y=\"-590.3\" font-family=\"fira-sans\" font-size=\"14.00\">not flies :&#45; not wings.</text>\n</g>\n<!-- &#45;flies&#45;&#45;d9 -->\n<g id=\"edge7\" class=\"edge\">\n<title>&#45;flies&#45;&#45;d9</title>\n<path fill=\"none\" stroke=\"black\" d=\"M650.41,-654.75C614.17,-644.31 557.08,-627.86 511.96,-614.86\"/>\n<polygon fill=\"black\" stroke=\"black\" points=\"512.81,-611.47 502.23,-612.06 510.87,-618.19 512.81,-611.47\"/>\n</g>\n<!-- &#45;wings -->\n<g id=\"node4\" class=\"node\">\n<title>&#45;wings</title>\n<ellipse fill=\"black\" stroke=\"black\" cx=\"425\" cy=\"-522\" rx=\"53.09\" ry=\"18\"/>\n<text text-anchor=\"middle\" x=\"425\" y=\"-518.3\" font-family=\"fira-sans\" font-size=\"14.00\" fill=\"white\">not wings</text>\n</g>\n<!-- &#45;wings&#45;&#45;d5 -->\n<g id=\"edge23\" class=\"edge\">\n<title>&#45;wings&#45;&#45;d5</title>\n<path fill=\"none\" stroke=\"black\" d=\"M416.77,-504.05C412.9,-496.09 408.2,-486.41 403.88,-477.51\"/>\n<polygon fill=\"black\" stroke=\"black\" points=\"406.91,-475.74 399.39,-468.28 400.61,-478.8 406.91,-475.74\"/>\n</g>\n<!-- &#45;bird -->\n<g id=\"node5\" class=\"node\">\n<title>&#45;bird</title>\n<ellipse fill=\"black\" stroke=\"black\" cx=\"686\" cy=\"-522\" rx=\"44.39\" ry=\"18\"/>\n<text text-anchor=\"middle\" x=\"686\" y=\"-518.3\" font-family=\"fira-sans\" font-size=\"14.00\" fill=\"white\">not bird</text>\n</g>\n<!-- d7 -->\n<g id=\"node18\" class=\"node\">\n<title>d7</title>\n<polygon fill=\"none\" stroke=\"black\" points=\"830,-468 542,-468 542,-432 830,-432 830,-468\"/>\n<text text-anchor=\"middle\" x=\"686\" y=\"-446.3\" font-family=\"fira-sans\" font-size=\"14.00\">not bird :&#45; not robin, not kiwi.</text>\n</g>\n<!-- &#45;bird&#45;&#45;d7 -->\n<g id=\"edge25\" class=\"edge\">\n<title>&#45;bird&#45;&#45;d7</title>\n<path fill=\"none\" stroke=\"black\" d=\"M686,-503.7C686,-495.98 686,-486.71 686,-478.11\"/>\n<polygon fill=\"black\" stroke=\"black\" points=\"689.5,-478.1 686,-468.1 682.5,-478.1 689.5,-478.1\"/>\n</g>\n<!-- d4 -->\n<g id=\"node6\" class=\"node\">\n<title>d4</title>\n<polygon fill=\"none\" stroke=\"black\" points=\"992,-324 776,-324 776,-288 992,-288 992,-324\"/>\n<text text-anchor=\"middle\" x=\"884\" y=\"-302.3\" font-family=\"fira-sans\" font-size=\"14.00\">not kiwi :&#45; robin.</text>\n</g>\n<!-- robin -->\n<g id=\"node19\" class=\"node\">\n<title>robin</title>\n<ellipse fill=\"none\" stroke=\"black\" cx=\"847\" cy=\"-234\" rx=\"33.29\" ry=\"18\"/>\n<text text-anchor=\"middle\" x=\"847\" y=\"-230.3\" font-family=\"fira-sans\" font-size=\"14.00\">robin</text>\n</g>\n<!-- d4&#45;&#45;robin -->\n<g id=\"edge5\" class=\"edge\">\n<title>d4&#45;&#45;robin</title>\n<path fill=\"none\" stroke=\"black\" d=\"M874.85,-287.7C870.53,-279.52 865.29,-269.6 860.52,-260.58\"/>\n<polygon fill=\"black\" stroke=\"black\" points=\"863.55,-258.83 855.79,-251.62 857.36,-262.1 863.55,-258.83\"/>\n</g>\n<!-- d8&#45;&#45;&#45;bird -->\n<g id=\"edge21\" class=\"edge\">\n<title>d8&#45;&#45;&#45;bird</title>\n<path fill=\"none\" stroke=\"black\" d=\"M686,-575.7C686,-567.98 686,-558.71 686,-550.11\"/>\n<polygon fill=\"black\" stroke=\"black\" points=\"689.5,-550.1 686,-540.1 682.5,-550.1 689.5,-550.1\"/>\n</g>\n<!-- r1 -->\n<g id=\"node8\" class=\"node\">\n<title>r1</title>\n<polygon fill=\"none\" stroke=\"black\" points=\"870,-36 726,-36 726,0 870,0 870,-36\"/>\n<text text-anchor=\"middle\" x=\"798\" y=\"-14.3\" font-family=\"fira-sans\" font-size=\"14.00\">tweety.</text>\n</g>\n<!-- &#45;kiwi -->\n<g id=\"node9\" class=\"node\">\n<title>&#45;kiwi</title>\n<ellipse fill=\"black\" stroke=\"black\" cx=\"698\" cy=\"-378\" rx=\"44.69\" ry=\"18\"/>\n<text text-anchor=\"middle\" x=\"698\" y=\"-374.3\" font-family=\"fira-sans\" font-size=\"14.00\" fill=\"white\">not kiwi</text>\n</g>\n<!-- &#45;kiwi&#45;&#45;d4 -->\n<g id=\"edge1\" class=\"edge\">\n<title>&#45;kiwi&#45;&#45;d4</title>\n<path fill=\"none\" stroke=\"black\" d=\"M729.55,-365.13C756.81,-354.87 796.83,-339.81 829.3,-327.59\"/>\n<polygon fill=\"black\" stroke=\"black\" points=\"830.55,-330.86 838.67,-324.06 828.08,-324.31 830.55,-330.86\"/>\n</g>\n<!-- d3 -->\n<g id=\"node17\" class=\"node\">\n<title>d3</title>\n<polygon fill=\"none\" stroke=\"black\" points=\"720,-324 504,-324 504,-288 720,-288 720,-324\"/>\n<text text-anchor=\"middle\" x=\"612\" y=\"-302.3\" font-family=\"fira-sans\" font-size=\"14.00\">not kiwi :&#45; not tweety.</text>\n</g>\n<!-- &#45;kiwi&#45;&#45;d3 -->\n<g id=\"edge8\" class=\"edge\">\n<title>&#45;kiwi&#45;&#45;d3</title>\n<path fill=\"none\" stroke=\"black\" d=\"M678.91,-361.46C667.79,-352.41 653.54,-340.81 641.05,-330.64\"/>\n<polygon fill=\"black\" stroke=\"black\" points=\"643.11,-327.81 633.14,-324.21 638.69,-333.24 643.11,-327.81\"/>\n</g>\n<!-- r3 -->\n<g id=\"node15\" class=\"node\">\n<title>r3</title>\n<polygon fill=\"none\" stroke=\"black\" points=\"288,-180 0,-180 0,-144 288,-144 288,-180\"/>\n<text text-anchor=\"middle\" x=\"144\" y=\"-158.3\" font-family=\"fira-sans\" font-size=\"14.00\">kiwi :&#45; tweety, not robin.</text>\n</g>\n<!-- kiwi&#45;&#45;r3 -->\n<g id=\"edge11\" class=\"edge\">\n<title>kiwi&#45;&#45;r3</title>\n<path fill=\"none\" stroke=\"black\" d=\"M144,-215.7C144,-207.98 144,-198.71 144,-190.11\"/>\n<polygon fill=\"black\" stroke=\"black\" points=\"147.5,-190.1 144,-180.1 140.5,-190.1 147.5,-190.1\"/>\n</g>\n<!-- q1 -->\n<g id=\"node11\" class=\"node\">\n<title>q1</title>\n<polygon fill=\"none\" stroke=\"black\" points=\"991,-756 703,-756 703,-720 991,-720 991,-756\"/>\n<text text-anchor=\"middle\" x=\"847\" y=\"-734.3\" font-family=\"fira-sans\" font-size=\"14.00\">#true :&#45; tweety, not flies.</text>\n</g>\n<!-- q1&#45;&#45;&#45;flies -->\n<g id=\"edge2\" class=\"edge\">\n<title>q1&#45;&#45;&#45;flies</title>\n<path fill=\"none\" stroke=\"black\" d=\"M807.61,-719.88C782.36,-708.89 749.71,-694.7 724.61,-683.79\"/>\n<polygon fill=\"black\" stroke=\"black\" points=\"725.95,-680.55 715.39,-679.78 723.16,-686.97 725.95,-680.55\"/>\n</g>\n<!-- tweety -->\n<g id=\"node14\" class=\"node\">\n<title>tweety</title>\n<ellipse fill=\"none\" stroke=\"black\" cx=\"798\" cy=\"-90\" rx=\"40.09\" ry=\"18\"/>\n<text text-anchor=\"middle\" x=\"798\" y=\"-86.3\" font-family=\"fira-sans\" font-size=\"14.00\">tweety</text>\n</g>\n<!-- q1&#45;&#45;tweety -->\n<g id=\"edge13\" class=\"edge\">\n<title>q1&#45;&#45;tweety</title>\n<path fill=\"none\" stroke=\"black\" d=\"M897.97,-719.85C949,-699.08 1020,-658.73 1020,-595 1020,-595 1020,-595 1020,-233 1020,-150.7 910.4,-113.95 845.21,-99.37\"/>\n<polygon fill=\"black\" stroke=\"black\" points=\"845.67,-95.89 835.16,-97.22 844.2,-102.73 845.67,-95.89\"/>\n</g>\n<!-- true -->\n<g id=\"node12\" class=\"node\">\n<title>true</title>\n<ellipse fill=\"none\" stroke=\"black\" cx=\"847\" cy=\"-810\" rx=\"55.79\" ry=\"18\"/>\n<text text-anchor=\"middle\" x=\"847\" y=\"-806.3\" font-family=\"fira-sans\" font-size=\"14.00\">true #true</text>\n</g>\n<!-- true&#45;&#45;q1 -->\n<g id=\"edge14\" class=\"edge\">\n<title>true&#45;&#45;q1</title>\n<path fill=\"none\" stroke=\"black\" d=\"M847,-791.7C847,-783.98 847,-774.71 847,-766.11\"/>\n<polygon fill=\"black\" stroke=\"black\" points=\"850.5,-766.1 847,-756.1 843.5,-766.1 850.5,-766.1\"/>\n</g>\n<!-- &#45;tweety -->\n<g id=\"node13\" class=\"node\">\n<title>&#45;tweety</title>\n<ellipse fill=\"black\" stroke=\"black\" cx=\"495\" cy=\"-234\" rx=\"57.69\" ry=\"18\"/>\n<text text-anchor=\"middle\" x=\"495\" y=\"-230.3\" font-family=\"fira-sans\" font-size=\"14.00\" fill=\"white\">not tweety</text>\n</g>\n<!-- tweety&#45;&#45;r1 -->\n<g id=\"edge6\" class=\"edge\">\n<title>tweety&#45;&#45;r1</title>\n<path fill=\"none\" stroke=\"black\" d=\"M798,-71.7C798,-63.98 798,-54.71 798,-46.11\"/>\n<polygon fill=\"black\" stroke=\"black\" points=\"801.5,-46.1 798,-36.1 794.5,-46.1 801.5,-46.1\"/>\n</g>\n<!-- r3&#45;&#45;tweety -->\n<g id=\"edge3\" class=\"edge\">\n<title>r3&#45;&#45;tweety</title>\n<path fill=\"none\" stroke=\"black\" d=\"M288.33,-145.55C434.6,-129.9 652.65,-106.56 749.1,-96.23\"/>\n<polygon fill=\"black\" stroke=\"black\" points=\"749.58,-99.7 759.15,-95.16 748.83,-92.74 749.58,-99.7\"/>\n</g>\n<!-- r3&#45;&#45;&#45;robin -->\n<g id=\"edge18\" class=\"edge\">\n<title>r3&#45;&#45;&#45;robin</title>\n<path fill=\"none\" stroke=\"black\" d=\"M115.4,-180.14C68.48,-210.33 -15.59,-274.5 27,-324 63.81,-366.79 227.68,-375.48 317.91,-376.96\"/>\n<polygon fill=\"black\" stroke=\"black\" points=\"317.95,-380.46 328,-377.1 318.05,-373.46 317.95,-380.46\"/>\n</g>\n<!-- &#45;robin&#45;&#45;d2 -->\n<g id=\"edge17\" class=\"edge\">\n<title>&#45;robin&#45;&#45;d2</title>\n<path fill=\"none\" stroke=\"black\" d=\"M340.92,-365.91C306.01,-355.46 252.92,-339.58 210.65,-326.94\"/>\n<polygon fill=\"black\" stroke=\"black\" points=\"211.57,-323.56 200.99,-324.05 209.56,-330.27 211.57,-323.56\"/>\n</g>\n<!-- d1 -->\n<g id=\"node21\" class=\"node\">\n<title>d1</title>\n<polygon fill=\"none\" stroke=\"black\" points=\"486,-324 270,-324 270,-288 486,-288 486,-324\"/>\n<text text-anchor=\"middle\" x=\"378\" y=\"-302.3\" font-family=\"fira-sans\" font-size=\"14.00\">not robin :&#45; not tweety.</text>\n</g>\n<!-- &#45;robin&#45;&#45;d1 -->\n<g id=\"edge15\" class=\"edge\">\n<title>&#45;robin&#45;&#45;d1</title>\n<path fill=\"none\" stroke=\"black\" d=\"M378,-359.7C378,-351.98 378,-342.71 378,-334.11\"/>\n<polygon fill=\"black\" stroke=\"black\" points=\"381.5,-334.1 378,-324.1 374.5,-334.1 381.5,-334.1\"/>\n</g>\n<!-- d3&#45;&#45;&#45;tweety -->\n<g id=\"edge26\" class=\"edge\">\n<title>d3&#45;&#45;&#45;tweety</title>\n<path fill=\"none\" stroke=\"black\" d=\"M583.38,-287.88C567.02,-278.09 546.39,-265.75 529.19,-255.45\"/>\n<polygon fill=\"black\" stroke=\"black\" points=\"530.92,-252.41 520.54,-250.28 527.32,-258.42 530.92,-252.41\"/>\n</g>\n<!-- d7&#45;&#45;&#45;kiwi -->\n<g id=\"edge4\" class=\"edge\">\n<title>d7&#45;&#45;&#45;kiwi</title>\n<path fill=\"none\" stroke=\"black\" d=\"M688.97,-431.7C690.29,-423.98 691.88,-414.71 693.35,-406.11\"/>\n<polygon fill=\"black\" stroke=\"black\" points=\"696.83,-406.55 695.07,-396.1 689.93,-405.37 696.83,-406.55\"/>\n</g>\n<!-- d7&#45;&#45;&#45;robin -->\n<g id=\"edge22\" class=\"edge\">\n<title>d7&#45;&#45;&#45;robin</title>\n<path fill=\"none\" stroke=\"black\" d=\"M611.05,-431.97C554.58,-419.13 478.64,-401.87 429.03,-390.6\"/>\n<polygon fill=\"black\" stroke=\"black\" points=\"429.69,-387.16 419.17,-388.36 428.14,-393.99 429.69,-387.16\"/>\n</g>\n<!-- r2 -->\n<g id=\"node20\" class=\"node\">\n<title>r2</title>\n<polygon fill=\"none\" stroke=\"black\" points=\"942,-180 654,-180 654,-144 942,-144 942,-180\"/>\n<text text-anchor=\"middle\" x=\"798\" y=\"-158.3\" font-family=\"fira-sans\" font-size=\"14.00\">robin :&#45; tweety, not kiwi.</text>\n</g>\n<!-- robin&#45;&#45;r2 -->\n<g id=\"edge12\" class=\"edge\">\n<title>robin&#45;&#45;r2</title>\n<path fill=\"none\" stroke=\"black\" d=\"M835.64,-216.76C829.75,-208.35 822.42,-197.89 815.8,-188.44\"/>\n<polygon fill=\"black\" stroke=\"black\" points=\"818.59,-186.31 809.99,-180.12 812.85,-190.32 818.59,-186.31\"/>\n</g>\n<!-- r2&#45;&#45;&#45;kiwi -->\n<g id=\"edge10\" class=\"edge\">\n<title>r2&#45;&#45;&#45;kiwi</title>\n<path fill=\"none\" stroke=\"black\" d=\"M791.43,-180.24C779.89,-210.05 754.74,-272.95 729,-324 724.42,-333.09 718.94,-342.77 713.88,-351.33\"/>\n<polygon fill=\"black\" stroke=\"black\" points=\"710.75,-349.74 708.6,-360.11 716.75,-353.34 710.75,-349.74\"/>\n</g>\n<!-- r2&#45;&#45;tweety -->\n<g id=\"edge19\" class=\"edge\">\n<title>r2&#45;&#45;tweety</title>\n<path fill=\"none\" stroke=\"black\" d=\"M798,-143.7C798,-135.98 798,-126.71 798,-118.11\"/>\n<polygon fill=\"black\" stroke=\"black\" points=\"801.5,-118.1 798,-108.1 794.5,-118.1 801.5,-118.1\"/>\n</g>\n<!-- d1&#45;&#45;&#45;tweety -->\n<g id=\"edge20\" class=\"edge\">\n<title>d1&#45;&#45;&#45;tweety</title>\n<path fill=\"none\" stroke=\"black\" d=\"M406.62,-287.88C422.98,-278.09 443.61,-265.75 460.81,-255.45\"/>\n<polygon fill=\"black\" stroke=\"black\" points=\"462.68,-258.42 469.46,-250.28 459.08,-252.41 462.68,-258.42\"/>\n</g>\n<!-- d9&#45;&#45;&#45;wings -->\n<g id=\"edge16\" class=\"edge\">\n<title>d9&#45;&#45;&#45;wings</title>\n<path fill=\"none\" stroke=\"black\" d=\"M438.55,-575.7C436.55,-567.9 434.13,-558.51 431.9,-549.83\"/>\n<polygon fill=\"black\" stroke=\"black\" points=\"435.28,-548.92 429.4,-540.1 428.5,-550.66 435.28,-548.92\"/>\n</g>\n</g>\n</svg>\n",
      "text/plain": "<graphviz.graphs.Graph at 0x7fa21ea6f220>"
     },
     "execution_count": 51,
     "metadata": {},
     "output_type": "execute_result"
    }
   ],
   "source": [
    "query_2_ff_graph = draw_graph([query_2_ff_primal, query_2_ff_dual, common, graph_encoding])['default']\n",
    "query_2_ff_graph"
   ]
  }
 ],
 "metadata": {
  "kernelspec": {
   "display_name": "Python 3 (ipykernel)",
   "language": "python",
   "name": "python3"
  },
  "language_info": {
   "codemirror_mode": {
    "name": "ipython",
    "version": 3
   },
   "file_extension": ".py",
   "mimetype": "text/x-python",
   "name": "python",
   "nbconvert_exporter": "python",
   "pygments_lexer": "ipython3",
   "version": "3.10.2"
  }
 },
 "nbformat": 4,
 "nbformat_minor": 4
}