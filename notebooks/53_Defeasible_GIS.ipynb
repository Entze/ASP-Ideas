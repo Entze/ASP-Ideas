{
 "cells": [
  {
   "cell_type": "code",
   "execution_count": 2813,
   "metadata": {
    "collapsed": true,
    "pycharm": {
     "name": "#%%\n"
    }
   },
   "outputs": [],
   "source": [
    "import abc\n",
    "from collections import defaultdict\n",
    "from dataclasses import dataclass, field\n",
    "from enum import IntEnum\n",
    "from numbers import Number\n",
    "from typing import Optional, Iterator, Sequence, TypeVar, Set, Mapping, Union, FrozenSet, Iterable\n",
    "\n",
    "import clingo\n",
    "import clingraph\n",
    "import more_itertools\n",
    "from clingraph import Factbase, compute_graphs"
   ]
  },
  {
   "cell_type": "code",
   "execution_count": 2814,
   "outputs": [],
   "source": [
    "def powerset(iterable):\n",
    "    for i in more_itertools.powerset(iterable):\n",
    "        yield set(i)"
   ],
   "metadata": {
    "collapsed": false,
    "pycharm": {
     "name": "#%%\n"
    }
   }
  },
  {
   "cell_type": "code",
   "execution_count": 2815,
   "outputs": [],
   "source": [
    "def frozen_powerset(iterable):\n",
    "    for i in more_itertools.powerset(iterable):\n",
    "        yield frozenset(i)"
   ],
   "metadata": {
    "collapsed": false,
    "pycharm": {
     "name": "#%%\n"
    }
   }
  },
  {
   "cell_type": "code",
   "execution_count": 2816,
   "outputs": [],
   "source": [
    "def asp_solve(programs,\n",
    "              ctl: Optional[clingo.Control] = None,\n",
    "              parts=(('base', ()),),\n",
    "              context=None,\n",
    "              report=False,\n",
    "              report_models=True,\n",
    "              report_result=True,\n",
    "              symbol_sep=' ',\n",
    "              model_sep='\\n'\n",
    "              ) -> Iterator[Sequence[clingo.Symbol]]:\n",
    "    if ctl is None:\n",
    "        ctl = clingo.Control(logger=lambda *args, **kwargs: None)\n",
    "        ctl.configuration.solve.models = 0\n",
    "    if programs:\n",
    "        if isinstance(programs, str):\n",
    "            ctl.add('base', [], programs)\n",
    "        else:\n",
    "            for program in programs:\n",
    "                if isinstance(program, ASPProgram):\n",
    "                    ctl.add('base', [], str(program))\n",
    "                elif isinstance(program, str):\n",
    "                    ctl.add('base', [], program)\n",
    "\n",
    "    ctl.ground(parts, context=context)\n",
    "    with ctl.solve(yield_=True) as solve_handle:\n",
    "        models = 0\n",
    "        for model in solve_handle:\n",
    "            symbols = sorted(model.symbols(shown=True))\n",
    "            if report and report_models:\n",
    "                print(\"Answer {}:\".format(model.number), end=' ')\n",
    "                print(\"{\",\n",
    "                      symbol_sep.join(map(str, sorted(symbols))), \"}\", sep=symbol_sep, end=model_sep)\n",
    "            models += 1\n",
    "            yield symbols\n",
    "        if report and report_result:\n",
    "            solve_result = solve_handle.get()\n",
    "            print(solve_result, end='')\n",
    "            if solve_result.satisfiable:\n",
    "                print(\" {}{}\".format(models, '' if solve_result.exhausted else '+'))\n",
    "            else:\n",
    "                print()\n"
   ],
   "metadata": {
    "collapsed": false,
    "pycharm": {
     "name": "#%%\n"
    }
   }
  },
  {
   "cell_type": "code",
   "execution_count": 2817,
   "outputs": [],
   "source": [
    "\n",
    "def draw_graph(programs,\n",
    "               ctl: Optional[clingo.Control] = None,\n",
    "               parts=(('base', ()),)):\n",
    "    fb = Factbase()\n",
    "    if ctl is None:\n",
    "        ctl = clingo.Control(logger=lambda *args, **kwargs: None)\n",
    "        ctl.configuration.solve.models = 0\n",
    "    ctl.add('base', [], '\\n'.join(programs))\n",
    "    ctl.ground(parts, clingraph.clingo_utils.ClingraphContext())\n",
    "    with ctl.solve(yield_=True) as solve_handle:\n",
    "        for model in solve_handle:\n",
    "            fb.add_model(model)\n",
    "            break\n",
    "    return compute_graphs(fb)\n"
   ],
   "metadata": {
    "collapsed": false,
    "pycharm": {
     "name": "#%%\n"
    }
   }
  },
  {
   "cell_type": "code",
   "execution_count": 2818,
   "outputs": [],
   "source": [
    "\n",
    "ForwardASPSymbol = TypeVar('ForwardASPSymbol', bound='ASPSymbol')\n",
    "ForwardASPVariable = TypeVar('ForwardASPVariable', bound='ASPVariable')\n",
    "\n",
    "\n",
    "class ASPSymbol(abc.ABC):\n",
    "\n",
    "    @staticmethod\n",
    "    def from_clingo_symbol(symbol: clingo.Symbol) -> ForwardASPSymbol:\n",
    "        if symbol.type is clingo.SymbolType.Number:\n",
    "            return ASPTerm(ASPIntegerConstant(symbol.number))\n",
    "        elif symbol.type is clingo.SymbolType.String:\n",
    "            return ASPTerm(ASPStringConstant(symbol.string))\n",
    "        elif symbol.type is clingo.SymbolType.Function:\n",
    "            arguments = tuple(ASPFunction.from_clingo_symbol(argument) for argument in symbol.arguments)\n",
    "            name = symbol.name\n",
    "            if symbol.negative:\n",
    "                name = \"-{}\".format(name)\n",
    "            return ASPFunction(name, arguments)\n",
    "        else:\n",
    "            assert False, \"Unhandled clingo.Symbol {} with type {}.\".format(symbol, symbol.type.name)\n",
    "\n",
    "\n",
    "@dataclass(order=True, frozen=True)\n",
    "class ASPStringConstant:\n",
    "    string: str = field(default=\"\")\n",
    "\n",
    "    def __str__(self):\n",
    "        return '\"{}\"'.format(self.string)\n",
    "\n",
    "\n",
    "@dataclass(order=True, frozen=True)\n",
    "class ASPIntegerConstant:\n",
    "    number: int = field(default=0)\n",
    "\n",
    "    def __str__(self):\n",
    "        return str(self.number)\n",
    "\n",
    "\n",
    "@dataclass(order=True, frozen=True)\n",
    "class ASPTerm(ASPSymbol):\n",
    "    constant: Union[ASPStringConstant, ASPIntegerConstant] = field(default_factory=ASPIntegerConstant)\n",
    "\n",
    "    def __str__(self):\n",
    "        return str(self.constant)\n",
    "\n",
    "    @staticmethod\n",
    "    def zero():\n",
    "        return ASPTerm(ASPIntegerConstant(0))\n",
    "\n",
    "    @staticmethod\n",
    "    def one():\n",
    "        return ASPTerm(ASPIntegerConstant(1))\n",
    "\n",
    "\n",
    "ForwardASPTopLevelSymbol = TypeVar('ForwardASPTopLevelSymbol', bound='ASPTopLevelSymbol')\n",
    "\n",
    "\n",
    "class ASPTopLevelSymbol(ASPSymbol, abc.ABC):\n",
    "\n",
    "    def __neg__(self):\n",
    "        raise NotImplementedError\n",
    "\n",
    "    @property\n",
    "    def signature(self) -> str:\n",
    "        return \"{}/{}.\".format(self.function_name, self.arity)\n",
    "\n",
    "    @property\n",
    "    @abc.abstractmethod\n",
    "    def function_name(self) -> str:\n",
    "        raise NotImplementedError\n",
    "\n",
    "    @property\n",
    "    def arity(self) -> int:\n",
    "        return len(self.function_arguments)\n",
    "\n",
    "    @property\n",
    "    @abc.abstractmethod\n",
    "    def function_arguments(self) -> Sequence[ASPSymbol]:\n",
    "        raise NotImplementedError\n",
    "\n",
    "    def match(self, other: ForwardASPTopLevelSymbol) -> bool:\n",
    "        return self.function_name == other.function_name and len(self.function_arguments) == len(\n",
    "            other.function_arguments)\n",
    "\n"
   ],
   "metadata": {
    "collapsed": false,
    "pycharm": {
     "name": "#%%\n"
    }
   }
  },
  {
   "cell_type": "code",
   "execution_count": 2819,
   "outputs": [],
   "source": [
    "def asp_evaluate(*programs, report=False) -> Iterator[FrozenSet[ASPTopLevelSymbol]]:\n",
    "    for answer_set in asp_solve(programs=programs, report=report):\n",
    "        yield frozenset(ASPFunction.from_clingo_symbol(symbol) for symbol in answer_set)\n"
   ],
   "metadata": {
    "collapsed": false,
    "pycharm": {
     "name": "#%%\n"
    }
   }
  },
  {
   "cell_type": "code",
   "execution_count": 2820,
   "outputs": [],
   "source": [
    "@dataclass(order=True, frozen=True)\n",
    "class ASPFunction(ASPTopLevelSymbol):\n",
    "    name: Optional[str] = field(default=None)\n",
    "    arguments: Sequence[ASPSymbol] = field(default_factory=tuple)\n",
    "\n",
    "    @property\n",
    "    def function_name(self) -> str:\n",
    "        return self.name\n",
    "\n",
    "    @property\n",
    "    def function_arguments(self) -> Sequence[ASPSymbol]:\n",
    "        return self.arguments\n",
    "\n",
    "    @property\n",
    "    def arity(self) -> int:\n",
    "        return len(self.arguments)\n",
    "\n",
    "    def __str__(self):\n",
    "        if self.name is None:\n",
    "            return '({})'.format(','.join(map(str, self.arguments)))\n",
    "        elif not self.arguments:\n",
    "            return self.name\n",
    "        else:\n",
    "            return '{}({})'.format(self.name, ','.join(map(str, self.arguments)))\n",
    "\n",
    "    def __neg__(self):\n",
    "        if self.name.startswith('-'):\n",
    "            return ASPFunction(self.name[1:], self.arguments)\n",
    "        else:\n",
    "            return ASPFunction('-{}'.format(self.name), self.arguments)\n",
    "\n",
    "\n",
    "ForwardASPAtom = TypeVar('ForwardASPAtom', bound='ASPAtom')\n",
    "\n",
    "\n",
    "@dataclass(order=True, frozen=True)\n",
    "class ASPAtom:\n",
    "    symbol: ASPTopLevelSymbol = field(default_factory=ASPFunction)\n",
    "\n",
    "    @property\n",
    "    def signature(self) -> str:\n",
    "        return self.symbol.signature\n",
    "\n",
    "    def match(self, other: ForwardASPAtom) -> bool:\n",
    "        return self.symbol.function_name == other.symbol.function_name and len(self.symbol.function_arguments) == len(\n",
    "            other.symbol.function_arguments)\n",
    "\n",
    "    def __str__(self):\n",
    "        return str(self.symbol)\n",
    "\n",
    "    def __neg__(self):\n",
    "        return ASPAtom(-self.symbol)\n",
    "\n",
    "\n",
    "@dataclass(order=True, frozen=True)\n",
    "class ASPClauseElement(abc.ABC):\n",
    "\n",
    "    @property\n",
    "    @abc.abstractmethod\n",
    "    def signature(self) -> str:\n",
    "        raise NotImplementedError\n",
    "\n",
    "    @property\n",
    "    @abc.abstractmethod\n",
    "    def is_pos(self):\n",
    "        raise NotImplementedError\n",
    "\n",
    "    @property\n",
    "    @abc.abstractmethod\n",
    "    def is_neg(self):\n",
    "        raise NotImplementedError\n",
    "\n",
    "    def __neg__(self):\n",
    "        raise NotImplementedError\n",
    "\n",
    "    def __abs__(self):\n",
    "        raise NotImplementedError\n",
    "\n",
    "\n",
    "class ASPHeadClauseElement(ASPClauseElement):\n",
    "    pass\n",
    "\n",
    "\n",
    "class ASPLiteral(ASPHeadClauseElement):\n",
    "\n",
    "    @property\n",
    "    @abc.abstractmethod\n",
    "    def signature(self) -> str:\n",
    "        raise NotImplementedError\n",
    "\n",
    "    @property\n",
    "    @abc.abstractmethod\n",
    "    def is_pos(self) -> bool:\n",
    "        raise NotImplementedError\n",
    "\n",
    "    @property\n",
    "    @abc.abstractmethod\n",
    "    def is_neg(self) -> bool:\n",
    "        raise NotImplementedError\n",
    "\n",
    "\n",
    "class ASPSign(IntEnum):\n",
    "    NoSign = 0\n",
    "    Negation = 1\n",
    "\n",
    "    def __str__(self):\n",
    "        if self is ASPSign.NoSign:\n",
    "            return ''\n",
    "        elif self is ASPSign.Negation:\n",
    "            return 'not'\n",
    "        else:\n",
    "            assert False, 'Unknown IntEnum {} = {}.'.format(self.name, self.value)\n",
    "\n",
    "\n",
    "@dataclass(order=True, frozen=True)\n",
    "class ASPBasicLiteral(ASPLiteral):\n",
    "    sign: ASPSign = ASPSign.NoSign\n",
    "    atom: ASPAtom = field(default_factory=ASPAtom)\n",
    "\n",
    "    @property\n",
    "    def is_pos(self) -> bool:\n",
    "        return self.sign is ASPSign.NoSign\n",
    "\n",
    "    @property\n",
    "    def is_neg(self) -> bool:\n",
    "        return self.sign is ASPSign.Negation\n",
    "\n",
    "    @property\n",
    "    def signature(self) -> str:\n",
    "        return self.atom.signature\n",
    "\n",
    "    def __str__(self):\n",
    "        if self.sign is ASPSign.NoSign:\n",
    "            return \"{}\".format(self.atom)\n",
    "        else:\n",
    "            return \"{} {}\".format(self.sign, self.atom)\n",
    "\n",
    "    def __neg__(self):\n",
    "        return ASPBasicLiteral(ASPSign((self.sign ^ 1) % 2), self.atom)\n",
    "\n",
    "    def __invert__(self):\n",
    "        return ASPBasicLiteral(sign=self.sign, atom=-self.atom)\n",
    "\n",
    "    def __abs__(self):\n",
    "        return ASPBasicLiteral(ASPSign.NoSign, self.atom)\n",
    "\n",
    "    def as_classical_atom(self):\n",
    "        return ClassicalAtom(str(self.atom.symbol))\n",
    "\n",
    "    @staticmethod\n",
    "    def make_literal(name: Optional[str], *arguments: Union[str, int, ASPFunction]):\n",
    "        function_arguments = []\n",
    "        for arg_ in arguments:\n",
    "            if isinstance(arg_, str):\n",
    "                arg = ASPFunction(arg_)\n",
    "            elif isinstance(arg_, int):\n",
    "                arg = ASPTerm(ASPIntegerConstant(arg_))\n",
    "            else:\n",
    "                arg = arg_\n",
    "            function_arguments.append(arg)\n",
    "        return ASPBasicLiteral(atom=ASPAtom(ASPFunction(name=name, arguments=tuple(function_arguments))))\n",
    "\n",
    "\n",
    "@dataclass(order=True, frozen=True)\n",
    "class ASPConditionalLiteral(ASPLiteral):\n",
    "    literal: ASPBasicLiteral = field(default_factory=ASPBasicLiteral)\n",
    "    conditions: Sequence[ASPClauseElement] = field(default_factory=tuple)\n",
    "\n",
    "    @property\n",
    "    def signature(self) -> str:\n",
    "        return self.literal.signature\n",
    "\n",
    "    @property\n",
    "    def is_pos(self) -> bool:\n",
    "        return self.literal.is_pos\n",
    "\n",
    "    @property\n",
    "    def is_neg(self) -> bool:\n",
    "        return self.literal.is_neg\n",
    "\n",
    "    def __neg__(self):\n",
    "        return ASPConditionalLiteral(-self.literal, self.conditions)\n",
    "\n",
    "    def __abs__(self):\n",
    "        return ASPConditionalLiteral(abs(self.literal), self.conditions)\n",
    "\n",
    "    def __str__(self):\n",
    "        return \"{} : {}\".format(self.literal, ','.join(map(str, self.conditions)))\n",
    "\n",
    "\n",
    "@dataclass(order=True, frozen=True)\n",
    "class ASPDirective(ASPHeadClauseElement):\n",
    "    name: str\n",
    "    arguments: Sequence[Union[Sequence[ASPSymbol], ASPSymbol]] = field(default_factory=tuple)\n",
    "\n",
    "    @property\n",
    "    def is_true(self) -> bool:\n",
    "        return self.name == 'true'\n",
    "\n",
    "    @property\n",
    "    def is_pos(self) -> bool:\n",
    "        return self.is_true\n",
    "\n",
    "    @property\n",
    "    def is_false(self) -> bool:\n",
    "        return self.name == 'false'\n",
    "\n",
    "    @property\n",
    "    def is_neg(self) -> bool:\n",
    "        return self.is_false\n",
    "\n",
    "    @property\n",
    "    def is_forall(self) -> bool:\n",
    "        return self.name == 'forall'\n",
    "\n",
    "    @property\n",
    "    def is_show(self) -> bool:\n",
    "        return self.name == 'show'\n",
    "\n",
    "    @property\n",
    "    def signature(self) -> str:\n",
    "        return '#{}/{}.'.format(self.name, len(self.arguments))\n",
    "\n",
    "    def __abs__(self):\n",
    "        raise NotImplementedError\n",
    "\n",
    "    def __neg__(self):\n",
    "        if self.name == 'true':\n",
    "            return ASPDirective.false()\n",
    "        elif self.name == 'false':\n",
    "            return ASPDirective.true()\n",
    "        else:\n",
    "            raise NotImplementedError\n",
    "\n",
    "    def __invert__(self):\n",
    "        return -self\n",
    "\n",
    "    def __str__(self):\n",
    "        if not self.arguments:\n",
    "            return \"#{}\".format(self.name)\n",
    "        else:\n",
    "            return \"#{}({})\".format(self.name, ','.join(map(str, self.arguments)))\n",
    "\n",
    "    @staticmethod\n",
    "    def true():\n",
    "        return ASPDirective('true')\n",
    "\n",
    "    @staticmethod\n",
    "    def false():\n",
    "        return ASPDirective('false')\n",
    "\n",
    "    @staticmethod\n",
    "    def show(*args):\n",
    "        return ASPDirective('show', arguments=args)\n",
    "\n",
    "\n",
    "@dataclass(order=True, frozen=True)\n",
    "class ASPRule(abc.ABC):\n",
    "    head: Optional[ASPHeadClauseElement] = field(default=None)\n",
    "    body: Optional[Sequence[ASPClauseElement]] = field(default=None)\n",
    "\n",
    "    @property\n",
    "    @abc.abstractmethod\n",
    "    def head_signature(self) -> Union[str, Set[str]]:\n",
    "        raise NotImplementedError\n",
    "\n",
    "    @staticmethod\n",
    "    def fmt_body(body: Sequence[ASPClauseElement]):\n",
    "        return ', '.join(map(str, body))\n",
    "\n",
    "    def reduct(self, elems: Set[ASPTopLevelSymbol]):\n",
    "        if self.body is not None:\n",
    "            if any(literal.is_neg and literal.atom.symbol in elems for literal in self.body):\n",
    "                return None\n",
    "        raise NotImplementedError\n",
    "\n",
    "\n",
    "@dataclass(order=True, frozen=True)\n",
    "class ASPNormalRule(ASPRule):\n",
    "    head: ASPBasicLiteral = field(default_factory=ASPBasicLiteral)\n",
    "    body: Sequence[ASPClauseElement] = field(default_factory=tuple)\n",
    "\n",
    "    @property\n",
    "    def head_signature(self) -> str:\n",
    "        return self.head.signature\n",
    "\n",
    "    def __str__(self):\n",
    "        if self.body:\n",
    "            return \"{} :- {}.\".format(self.head, ASPRule.fmt_body(self.body))\n",
    "        else:\n",
    "            return \"{}.\".format(self.head)\n",
    "\n",
    "    def reduct(self, elems: Set[ASPTopLevelSymbol]):\n",
    "        if any(literal.is_neg and literal.atom.symbol in elems for literal in self.body):\n",
    "            return None\n",
    "        return ASPNormalRule(self.head, tuple(literal for literal in self.body if literal.is_pos))\n",
    "\n",
    "\n",
    "@dataclass(order=True, frozen=True)\n",
    "class ASPIntegrityConstraint(ASPRule):\n",
    "    body: Sequence[ASPClauseElement] = field(default_factory=tuple)\n",
    "    head: ASPDirective = field(default_factory=ASPDirective.false, init=False)\n",
    "\n",
    "    @property\n",
    "    def head_signature(self) -> str:\n",
    "        return '#false/0.'\n",
    "\n",
    "    def __str__(self):\n",
    "        if self.body:\n",
    "            return \":- {}.\".format(ASPRule.fmt_body(self.body))\n",
    "        else:\n",
    "            return \":-.\"\n",
    "\n",
    "    def reduct(self, elems: Set[ASPTopLevelSymbol]):\n",
    "        if any(literal.is_neg and literal.atom.symbol in elems for literal in self.body):\n",
    "            return None\n",
    "        return ASPIntegrityConstraint(tuple(literal for literal in self.body if literal.is_pos))\n",
    "\n",
    "\n",
    "@dataclass(order=True, frozen=True)\n",
    "class ASPDisjunctiveRule(ASPRule):\n",
    "    head: Sequence[ASPLiteral] = field(default_factory=tuple)\n",
    "    body: Sequence[ASPClauseElement] = field(default_factory=tuple)\n",
    "\n",
    "    @property\n",
    "    def head_signature(self) -> Set[str]:\n",
    "        return {h.signature for h in self.head}\n",
    "\n",
    "    def __str__(self):\n",
    "        return \"{} :- {}.\".format('; '.join(map(str, self.head)), ASPRule.fmt_body(self.body))\n",
    "\n",
    "    def reduct(self, elems: Set[ASPTopLevelSymbol]):\n",
    "        if any(literal.is_neg and literal.atom.symbol in elems for literal in self.body):\n",
    "            return None\n",
    "        return ASPDisjunctiveRule(\n",
    "            head=tuple(literal for literal in self.head if literal.is_pos or (literal.atom.symbol not in elems)),\n",
    "            body=tuple(literal for literal in self.body if literal.is_pos))\n",
    "\n",
    "\n",
    "@dataclass(order=True, frozen=True)\n",
    "class ASPChoiceRule(ASPRule):\n",
    "    lower: Optional[ASPSymbol] = field(default=None)\n",
    "    head: Sequence[ASPLiteral] = field(default_factory=tuple)\n",
    "    upper: Optional[ASPSymbol] = field(default=None)\n",
    "    body: Sequence[ASPClauseElement] = field(default_factory=tuple)\n",
    "\n",
    "    @property\n",
    "    def head_signature(self) -> Union[str, Set[str]]:\n",
    "        return {h.signature for h in self.head}\n",
    "\n",
    "    def __str__(self):\n",
    "        lower = \"\"\n",
    "        if self.lower is not None:\n",
    "            lower = \"{} <=\".format(self.lower)\n",
    "        upper = \"\"\n",
    "        if self.upper is not None:\n",
    "            upper = \"<= {}\".format(self.upper)\n",
    "        body = \"\"\n",
    "        if self.body:\n",
    "            body = \" :- {}\".format(ASPRule.fmt_body(self.body))\n",
    "        return \"{}{}{}{}{}{}\".format(lower, '{', \"; \".join(map(str, self.head)), '}', upper, body)\n",
    "\n",
    "\n",
    "@dataclass(order=True, frozen=True)\n",
    "class ASPProgram:\n",
    "    rules: Sequence[ASPRule] = field(default_factory=tuple)\n",
    "\n",
    "    def fmt(self, sep='\\n'):\n",
    "        return sep.join(map(str, self.rules))\n",
    "\n",
    "    def __str__(self):\n",
    "        return self.fmt(' ')\n",
    "\n",
    "    def reduct(self, elems: Set[ASPTopLevelSymbol]):\n",
    "        return ASPProgram(tuple(filter(lambda r: r is not None, (rule.reduct(elems) for rule in self.rules))))"
   ],
   "metadata": {
    "collapsed": false,
    "pycharm": {
     "name": "#%%\n"
    }
   }
  },
  {
   "cell_type": "code",
   "execution_count": 2821,
   "outputs": [],
   "source": [
    "\n",
    "\n",
    "@dataclass(frozen=True, order=True)\n",
    "class ClassicalAtom:\n",
    "    symbol: str\n",
    "\n",
    "    def __neg__(self):\n",
    "        if self.is_complement:\n",
    "            return ClassicalAtom(self.symbol[1:])\n",
    "        else:\n",
    "            return ClassicalAtom('-{}'.format(self.symbol))\n",
    "\n",
    "    def __abs__(self):\n",
    "        if self.is_complement:\n",
    "            return -self\n",
    "        return self\n",
    "\n",
    "    def __str__(self):\n",
    "        return self.symbol\n",
    "\n",
    "    @property\n",
    "    def is_complement(self) -> bool:\n",
    "        return self.symbol.startswith('-')\n",
    "\n",
    "    def as_asp_top_level_symbol(self) -> ASPTopLevelSymbol:\n",
    "        return ASPFunction(self.symbol)\n",
    "\n",
    "    def as_asp_atom(self) -> ASPAtom:\n",
    "        return ASPAtom(self.as_asp_top_level_symbol())\n",
    "\n",
    "    def as_asp_literal(self) -> ASPBasicLiteral:\n",
    "        return ASPBasicLiteral(atom=self.as_asp_atom())\n",
    "\n",
    "\n",
    "ClassicalAlphabet = Set[ClassicalAtom]\n",
    "ClassicalValuation = Mapping[ClassicalAtom, bool]\n",
    "\n",
    "\n",
    "@dataclass(frozen=True, order=True)\n",
    "class ClassicalLiteral:\n",
    "    atom: ClassicalAtom\n",
    "    sign: bool = field(default=True)\n",
    "\n",
    "    def __str__(self):\n",
    "        sign_str = \"\"\n",
    "        if not self.sign:\n",
    "            sign_str = \"¬\"\n",
    "        return \"{}{}\".format(sign_str, self.atom)\n",
    "\n",
    "    def __repr__(self):\n",
    "        return str(self)\n",
    "\n",
    "    def __neg__(self):\n",
    "        return ClassicalLiteral(self.atom, not self.sign)\n",
    "\n",
    "    def __and__(self, other):\n",
    "        left = ClassicalFormula(self)\n",
    "        right = other\n",
    "        if isinstance(other, ClassicalLiteral):\n",
    "            right = ClassicalFormula(right)\n",
    "        return ClassicalFormula(left, ClassicalConnective.And, right)\n",
    "\n",
    "    def __or__(self, other):\n",
    "        left = ClassicalFormula(self)\n",
    "        right = other\n",
    "        if isinstance(other, ClassicalLiteral):\n",
    "            right = ClassicalFormula(right)\n",
    "        return ClassicalFormula(left, ClassicalConnective.Or, right)\n",
    "\n",
    "    def __rshift__(self, other):\n",
    "        left = ClassicalFormula(self)\n",
    "        right = other\n",
    "        if isinstance(other, ClassicalLiteral):\n",
    "            right = ClassicalFormula(right)\n",
    "        return ClassicalFormula(left, ClassicalConnective.Implies, right)\n",
    "\n",
    "    def __truediv__(self, other):\n",
    "        left = ClassicalFormula(self)\n",
    "        right = other\n",
    "        if isinstance(other, ClassicalLiteral):\n",
    "            right = ClassicalFormula(other)\n",
    "        return Normally(left, right)\n",
    "\n",
    "\n",
    "@dataclass(frozen=True, order=True)\n",
    "class ClassicalTop(ClassicalLiteral):\n",
    "    atom: ClassicalAtom = field(default=ClassicalAtom('⊤'), init=False)\n",
    "    sign: bool = field(default=True, init=False)\n",
    "\n",
    "    def __str__(self):\n",
    "        return str(self.atom)\n",
    "\n",
    "    def __repr__(self):\n",
    "        return str(self)\n",
    "\n",
    "    def __neg__(self):\n",
    "        return ClassicalBot()\n",
    "\n",
    "    def __and__(self, other):\n",
    "        if isinstance(other, ClassicalLiteral):\n",
    "            return ClassicalFormula(other)\n",
    "        return other\n",
    "\n",
    "    def __or__(self, other):\n",
    "        return ClassicalFormula(ClassicalTop())\n",
    "\n",
    "\n",
    "@dataclass(frozen=True, order=True)\n",
    "class ClassicalBot(ClassicalLiteral):\n",
    "    atom: ClassicalAtom = field(default=ClassicalAtom('⊥'), init=False)\n",
    "    sign: bool = field(default=False, init=False)\n",
    "\n",
    "    def __neg__(self):\n",
    "        return ClassicalTop()\n",
    "\n",
    "    def __str__(self):\n",
    "        return str(self.atom)\n",
    "\n",
    "    def __and__(self, other):\n",
    "        return ClassicalFormula(ClassicalBot())\n",
    "\n",
    "    def __or__(self, other):\n",
    "        if isinstance(other, ClassicalLiteral):\n",
    "            return ClassicalFormula(other)\n",
    "        return other\n",
    "\n",
    "\n",
    "class ClassicalConnective(IntEnum):\n",
    "    And = 0\n",
    "    Or = 1\n",
    "    Implies = 2\n",
    "\n",
    "    def __str__(self):\n",
    "        if self is ClassicalConnective.And:\n",
    "            return \"∧\"\n",
    "        elif self is ClassicalConnective.Or:\n",
    "            return \"∨\"\n",
    "        elif self is ClassicalConnective.Implies:\n",
    "            return \"→\"\n",
    "        else:\n",
    "            assert False, \"Unhandled Connective.__str__: {} = {}\".format(self.name, self.value)\n",
    "\n",
    "    def evaluate(self, left: bool, right: bool):\n",
    "        if self is ClassicalConnective.And:\n",
    "            return left and right\n",
    "        elif self is ClassicalConnective.Or:\n",
    "            return left or right\n",
    "        elif self is ClassicalConnective.Implies:\n",
    "            return not left or right\n",
    "        else:\n",
    "            assert False, \"Unhandled Connective.evaluate: {} = {}\".format(self.name, self.value)\n",
    "\n",
    "\n",
    "ForwardClassicalFormula = TypeVar('ForwardClassicalFormula', bound='ClassicalFormula')\n",
    "\n",
    "\n",
    "@dataclass(frozen=True, order=True)\n",
    "class ClassicalFormula:\n",
    "    left: Union[ForwardClassicalFormula, ClassicalLiteral]\n",
    "    connective: Optional[ClassicalConnective] = field(default=None)\n",
    "    right: Union[ForwardClassicalFormula, None] = field(default=None)\n",
    "\n",
    "    def __str__(self):\n",
    "        left_str = str(self.left)\n",
    "        connective_str = \"\"\n",
    "        if self.connective is not None:\n",
    "            connective_str = \" {}\".format(self.connective)\n",
    "            if isinstance(self.left,\n",
    "                          ClassicalFormula) and self.left.connective is not None and self.left.connective > self.connective:\n",
    "                left_str = \"({})\".format(left_str)\n",
    "        right_str = \"\"\n",
    "        if self.right is not None:\n",
    "            if self.right.left == ClassicalBot() and self.right.right is None and self.connective is ClassicalConnective.Implies:\n",
    "                left_str = \"¬({})\".format(left_str)\n",
    "                connective_str = \"\"\n",
    "            else:\n",
    "                right_str = \" {}\".format(self.right)\n",
    "            if isinstance(self.right,\n",
    "                          ClassicalFormula) and self.right.connective is not None and self.right.connective > self.connective:\n",
    "                left_str = \"({})\".format(left_str)\n",
    "        return \"{}{}{}\".format(left_str, connective_str, right_str)\n",
    "\n",
    "    def __repr__(self):\n",
    "        return str(self)\n",
    "\n",
    "    def __neg__(self):\n",
    "        if self.connective is not None and self.right is None:\n",
    "            raise TypeError(\"Formula.connective present, despite Formula.right missing.\")\n",
    "        elif self.connective is None and self.right is not None:\n",
    "            raise TypeError(\"Formula.connective missing, despite Formula.right present.\")\n",
    "\n",
    "        if self.connective is None and self.right is None:\n",
    "            return ClassicalFormula(-self.left)\n",
    "        elif self.connective is ClassicalConnective.And:\n",
    "            return ClassicalFormula(-self.left, ClassicalConnective.Or, -self.right)\n",
    "        elif self.connective is ClassicalConnective.Or:\n",
    "            return ClassicalFormula(-self.left, ClassicalConnective.And, -self.right)\n",
    "        elif self.connective is ClassicalConnective.Implies:\n",
    "            if self.right.left == ClassicalBot() and self.right.right is None:\n",
    "                return self.left\n",
    "            return ClassicalFormula(self, ClassicalConnective.Implies, ClassicalFormula(ClassicalBot()))\n",
    "        else:\n",
    "            assert False, \"Unknown Formula.connective. {} = {}.\".format(self.connective.name, self.connective.value)\n",
    "\n",
    "    def __and__(self, other):\n",
    "        left = self\n",
    "        right = other\n",
    "        if isinstance(other, ClassicalLiteral):\n",
    "            right = ClassicalFormula(right)\n",
    "        if left.is_top:\n",
    "            return right\n",
    "        elif right.is_top:\n",
    "            return left\n",
    "        if left.is_bot:\n",
    "            return left\n",
    "        elif right.is_bot:\n",
    "            return right\n",
    "        return ClassicalFormula(left, ClassicalConnective.And, right)\n",
    "\n",
    "    def __or__(self, other):\n",
    "        left = self\n",
    "        right = other\n",
    "        if isinstance(other, ClassicalLiteral):\n",
    "            right = ClassicalFormula(right)\n",
    "        if left.is_top:\n",
    "            return left\n",
    "        elif right.is_top:\n",
    "            return right\n",
    "        if left.is_bot:\n",
    "            return right\n",
    "        elif right.is_bot:\n",
    "            return left\n",
    "        return ClassicalFormula(left, ClassicalConnective.Or, right)\n",
    "\n",
    "    def __rshift__(self, other):\n",
    "        left = self\n",
    "        right = other\n",
    "        if isinstance(other, ClassicalLiteral):\n",
    "            right = ClassicalFormula(right)\n",
    "        return ClassicalFormula(left, ClassicalConnective.Implies, right)\n",
    "\n",
    "    def __truediv__(self, other):\n",
    "        left = self\n",
    "        right = other\n",
    "        if isinstance(other, ClassicalLiteral):\n",
    "            right = ClassicalFormula(other)\n",
    "        return Normally(left, right)\n",
    "\n",
    "    def __call__(self, valuation: Optional[ClassicalValuation] = None) -> bool:\n",
    "        return self.evaluate(valuation)\n",
    "\n",
    "    @property\n",
    "    def literals(self) -> Set[ClassicalLiteral]:\n",
    "        literals = set()\n",
    "        if isinstance(self.left, ClassicalLiteral):\n",
    "            if not isinstance(self.left, ClassicalTop) and not isinstance(self.left, ClassicalBot):\n",
    "                literals.add(self.left)\n",
    "        else:\n",
    "            assert isinstance(self.left, ClassicalFormula), \"Unknown type for Formula.right. {}: {}\".format(\n",
    "                type(self.left).__name__, self.left)\n",
    "            literals.update(self.left.literals)\n",
    "        if self.right is not None:\n",
    "            assert isinstance(self.right, ClassicalFormula), \"Unknown type for Formula.right. {}: {}\".format(\n",
    "                type(self.right).__name__, self.right)\n",
    "            literals.update(self.right.literals)\n",
    "        return literals\n",
    "\n",
    "    @property\n",
    "    def atoms(self) -> Set[ClassicalAtom]:\n",
    "        return {literal.atom for literal in self.literals}\n",
    "\n",
    "    @property\n",
    "    def is_top(self) -> bool:\n",
    "        return self.right is None and isinstance(self.left, ClassicalTop)\n",
    "\n",
    "    @property\n",
    "    def is_bot(self) -> bool:\n",
    "        return self.right is None and isinstance(self.left, ClassicalBot)\n",
    "\n",
    "    def evaluate(self, valuation: Optional[ClassicalValuation] = None) -> bool:\n",
    "        if isinstance(self.left, ClassicalLiteral):\n",
    "            value_left = self.__evaluate_literal(self.left, valuation)\n",
    "        else:\n",
    "            assert isinstance(self.left, ClassicalFormula), \"Unknown type for Formula.left. {}: {}\".format(\n",
    "                type(self.left).__name__, self.left)\n",
    "            value_left = self.left.evaluate(valuation)\n",
    "        if self.connective is not None and self.right is None:\n",
    "            raise TypeError(\"Formula.connective present, despite Formula.right missing.\")\n",
    "        elif self.connective is None and self.right is not None:\n",
    "            raise TypeError(\"Formula.connective missing, despite Formula.right present.\")\n",
    "\n",
    "        if self.connective is None and self.right is None:\n",
    "            return value_left\n",
    "        else:\n",
    "            assert isinstance(self.right, ClassicalFormula), \"Unknown type for Formula.right. {}: {}\".format(\n",
    "                type(self.right).__name__, self.right)\n",
    "            value_right = self.right.evaluate(valuation)\n",
    "\n",
    "            return self.connective.evaluate(value_left, value_right)\n",
    "\n",
    "    def __evaluate_literal(self, literal: ClassicalLiteral, valuation: Optional[ClassicalValuation] = None) -> bool:\n",
    "        if isinstance(literal, ClassicalTop) or isinstance(literal, ClassicalBot):\n",
    "            return literal.sign\n",
    "        else:\n",
    "            # get assigned truth value of atom (per default false) and flip the result if negated\n",
    "            return valuation is not None and bool(valuation.get(literal.atom, False) ^ (not literal.sign))\n",
    "\n",
    "    def set_to_bot(self, *atoms: ClassicalAtom) -> ForwardClassicalFormula:\n",
    "        if isinstance(self.left, ClassicalLiteral):\n",
    "            assert self.connective is None\n",
    "            assert self.right is None\n",
    "            if self.left.atom in atoms:\n",
    "                if self.left.sign:\n",
    "                    return ClassicalFormula(ClassicalBot())\n",
    "                else:\n",
    "                    return ClassicalFormula(ClassicalTop())\n",
    "            else:\n",
    "                return self\n",
    "        else:\n",
    "            left = self.left.set_to_bot(*atoms)\n",
    "            right = self.right\n",
    "            if right is not None:\n",
    "                right = self.right.set_to_bot(*atoms)\n",
    "            return ClassicalFormula(left, self.connective, right)\n",
    "\n",
    "    def as_asp_bodies(self) -> Sequence[Sequence[ASPBasicLiteral]]:\n",
    "        bodies: Sequence[Sequence[ASPBasicLiteral]] = [()]\n",
    "        if isinstance(self.left, ClassicalLiteral):\n",
    "            if isinstance(self.left, ClassicalTop):\n",
    "                bodies = ((ASPDirective.true(),),)\n",
    "            elif isinstance(self.left, ClassicalBot):\n",
    "                bodies = ((ASPDirective.false(),),)\n",
    "            else:\n",
    "                literal = ASPBasicLiteral(sign=ASPSign(int(not self.left.sign)),\n",
    "                                          atom=ASPAtom(ASPFunction(self.left.atom.symbol)))\n",
    "                bodies = ((literal,),)\n",
    "        elif self.right is None:\n",
    "            bodies = self.left.as_asp_bodies()\n",
    "        elif self.right is not None:\n",
    "            bodies_left = self.left.as_asp_bodies()\n",
    "            bodies_right = self.right.as_asp_bodies()\n",
    "            bodies_ = []\n",
    "            if self.connective is ClassicalConnective.Or:\n",
    "                for body in bodies:\n",
    "                    for body_left in bodies_left:\n",
    "                        bodies_.append((*body, *body_left))\n",
    "                    for body_right in bodies_right:\n",
    "                        bodies_.append((*body, *body_right))\n",
    "            elif self.connective is ClassicalConnective.And:\n",
    "                for body in bodies:\n",
    "                    for body_left in bodies_left:\n",
    "                        for body_right in bodies_right:\n",
    "                            bodies_.append((*body, *body_left, *body_right))\n",
    "            else:\n",
    "                assert self.connective is ClassicalConnective.Implies\n",
    "                if self.right.is_bot:\n",
    "                    if self.left.connective is not None and self.left.connective is ClassicalConnective.Implies:\n",
    "                        bodies_ = (-((-self.left.left) | self.left.right)).as_asp_bodies()\n",
    "                    else:\n",
    "                        bodies_ = (-self.left).as_asp_bodies()\n",
    "                else:\n",
    "                    for body in bodies:\n",
    "                        for body_left in bodies_left:\n",
    "                            bodies_.append((*body, *(-literal for literal in body_left)))\n",
    "                        for body_right in bodies_right:\n",
    "                            bodies_.append((*body, *body_right))\n",
    "            bodies = bodies_\n",
    "        else:\n",
    "            assert False\n",
    "        return bodies\n",
    "\n"
   ],
   "metadata": {
    "collapsed": false,
    "pycharm": {
     "name": "#%%\n"
    }
   }
  },
  {
   "cell_type": "code",
   "execution_count": 2822,
   "outputs": [],
   "source": [
    "\n",
    "\n",
    "def all_valuations(alphabet: ClassicalAlphabet, complete: bool = False) -> Iterator[ClassicalValuation]:\n",
    "    subsets = powerset(alphabet)\n",
    "    for subset in subsets:\n",
    "        valuation = defaultdict(lambda: False)\n",
    "        for atom in subset:\n",
    "            valuation[atom] = True\n",
    "        if complete:\n",
    "            for atom in alphabet:\n",
    "                if atom not in subset:\n",
    "                    valuation[atom] = False\n",
    "        yield valuation\n",
    "\n",
    "\n",
    "def models(formulas: Set[ClassicalFormula], alphabet: Optional[ClassicalAlphabet] = None) -> Iterator[\n",
    "    ClassicalValuation]:\n",
    "    if alphabet is None:\n",
    "        alphabet = {atom for formula in formulas for atom in formula.atoms}\n",
    "    for valuation in all_valuations(alphabet):\n",
    "        if all(formula.evaluate(valuation) for formula in formulas):\n",
    "            yield valuation\n",
    "\n",
    "\n",
    "def sat(formulas: Set[ClassicalFormula], alphabet: Optional[ClassicalAlphabet] = None) -> bool:\n",
    "    model = next(models(formulas, alphabet), None)\n",
    "    return model is not None\n",
    "\n",
    "\n",
    "def unsat(formulas: Set[ClassicalFormula], alphabet: Optional[ClassicalAlphabet] = None) -> bool:\n",
    "    return not sat(formulas, alphabet)\n",
    "\n",
    "\n",
    "def entails(formulas: Set[ClassicalFormula], formula: ClassicalFormula) -> bool:\n",
    "    return unsat(formulas | {-formula})\n",
    "\n",
    "\n",
    "def valid(formulas: Set[ClassicalFormula], alphabet: Optional[ClassicalAlphabet] = None) -> bool:\n",
    "    if alphabet is None:\n",
    "        alphabet = {atom for formula in formulas for atom in formula.atoms}\n",
    "    for valuation in all_valuations(alphabet):\n",
    "        if any(not formula.evaluate(valuation) for formula in formulas):\n",
    "            return False\n",
    "    return True\n"
   ],
   "metadata": {
    "collapsed": false,
    "pycharm": {
     "name": "#%%\n"
    }
   }
  },
  {
   "cell_type": "code",
   "execution_count": 2823,
   "outputs": [],
   "source": [
    "@dataclass(frozen=True, order=True)\n",
    "class Normally:\n",
    "    left: ClassicalFormula\n",
    "    right: ClassicalFormula\n",
    "\n",
    "    def __str__(self):\n",
    "        if self.is_classical:\n",
    "            return str(-self.left)\n",
    "        return \"{} |~ {}\".format(self.left, self.right)\n",
    "\n",
    "    def __repr__(self):\n",
    "        return str(self)\n",
    "\n",
    "    @property\n",
    "    def literals(self) -> Set[ClassicalLiteral]:\n",
    "        return {literal for formula in (self.left, self.right) for literal in formula.literals}\n",
    "\n",
    "    @property\n",
    "    def atoms(self) -> Set[ClassicalAtom]:\n",
    "        return {atom for formula in (self.left, self.right) for atom in formula.atoms}\n",
    "\n",
    "    @property\n",
    "    def is_classical(self) -> bool:\n",
    "        return self.right.left == ClassicalBot() and self.right.right is None\n",
    "\n",
    "    def materialize(self):\n",
    "        if self.is_classical:\n",
    "            if self.left.right is not None and self.left.right.left == ClassicalBot() and self.left.right.right is None:\n",
    "                return self.left.left\n",
    "            return -self.left\n",
    "        return self.left >> self.right\n",
    "\n",
    "\n",
    "KnowledgeBase = Set[Normally]"
   ],
   "metadata": {
    "collapsed": false,
    "pycharm": {
     "name": "#%%\n"
    }
   }
  },
  {
   "cell_type": "code",
   "execution_count": 2824,
   "outputs": [],
   "source": [
    "def materialized(k: Set[Normally]) -> Set[ClassicalFormula]:\n",
    "    return {statement.materialize() for statement in k}"
   ],
   "metadata": {
    "collapsed": false,
    "pycharm": {
     "name": "#%%\n"
    }
   }
  },
  {
   "cell_type": "code",
   "execution_count": 2825,
   "outputs": [],
   "source": [
    "def evaluate(k: Set[ClassicalFormula], v: ClassicalValuation) -> bool:\n",
    "    return all(s(v) for s in k)"
   ],
   "metadata": {
    "collapsed": false,
    "pycharm": {
     "name": "#%%\n"
    }
   }
  },
  {
   "cell_type": "code",
   "execution_count": 2826,
   "outputs": [],
   "source": [
    "a__ = ASPBasicLiteral.make_literal('a')\n",
    "a_ = a__.as_classical_atom()\n",
    "a = ClassicalFormula(ClassicalLiteral(a_))\n",
    "b__ = ASPBasicLiteral.make_literal('b')\n",
    "b_ = b__.as_classical_atom()\n",
    "b = ClassicalFormula(ClassicalLiteral(b_))\n",
    "c__ = ASPBasicLiteral.make_literal('c')\n",
    "c_ = c__.as_classical_atom()\n",
    "c = ClassicalFormula(ClassicalLiteral(c_))\n",
    "d__ = ASPBasicLiteral.make_literal('d')\n",
    "d_ = d__.as_classical_atom()\n",
    "d = ClassicalFormula(ClassicalLiteral(d_))\n",
    "e__ = ASPBasicLiteral.make_literal('e')\n",
    "e_ = e__.as_classical_atom()\n",
    "e = ClassicalFormula(ClassicalLiteral(e_))\n"
   ],
   "metadata": {
    "collapsed": false,
    "pycharm": {
     "name": "#%%\n"
    }
   }
  },
  {
   "cell_type": "code",
   "execution_count": 2827,
   "outputs": [],
   "source": [
    "def print_map_str(it: Iterable):\n",
    "    print(\"{\", ', '.join(map(str, it)), \"}\")"
   ],
   "metadata": {
    "collapsed": false,
    "pycharm": {
     "name": "#%%\n"
    }
   }
  },
  {
   "cell_type": "code",
   "execution_count": 2828,
   "outputs": [
    {
     "name": "stdout",
     "output_type": "stream",
     "text": [
      "{ a ∨ c, ¬c, b ∨ c }\n"
     ]
    }
   ],
   "source": [
    "K = {-(-c) / ClassicalBot(), -(a | c) / ClassicalBot(), -(b | c) / ClassicalBot()}\n",
    "print_map_str(K)"
   ],
   "metadata": {
    "collapsed": false,
    "pycharm": {
     "name": "#%%\n"
    }
   }
  },
  {
   "cell_type": "code",
   "execution_count": 2829,
   "outputs": [
    {
     "name": "stdout",
     "output_type": "stream",
     "text": [
      "{ d ∨ e, ¬b, ¬d ∨ ¬e, ¬a }\n"
     ]
    }
   ],
   "source": [
    "A = {-(-a) / ClassicalBot(), -(-b) / ClassicalBot(), -(d | e) / ClassicalBot(), -(-d | -e) / ClassicalBot()}\n",
    "print_map_str(A)"
   ],
   "metadata": {
    "collapsed": false,
    "pycharm": {
     "name": "#%%\n"
    }
   }
  },
  {
   "cell_type": "code",
   "execution_count": 2830,
   "outputs": [],
   "source": [
    "def transform_to_lp_naive(K: KnowledgeBase, A: Set[Normally] = None,\n",
    "                          alphabet: Optional[ClassicalAlphabet] = None) -> ASPProgram:\n",
    "    K_ = materialized(K)\n",
    "    if A is None:\n",
    "        A = set()\n",
    "    if alphabet is None:\n",
    "        alphabet = {atom for statement in K for atom in statement.atoms} | {atom for statement in A for atom in\n",
    "                                                                            statement.atoms} | {\n",
    "                       ClassicalAtom(\"r_{}\".format(str(clause))\n",
    "                                     .replace(\" \", \"\")\n",
    "                                     .replace(\"∨\", \"_or_\")\n",
    "                                     .replace(\"→\", \"_implies_\")\n",
    "                                     .replace(\"¬\", \"_neg_\")\n",
    "                                     .replace(\"__\", \"_\")) for clause in K_}\n",
    "    i_rules = []\n",
    "    for atom_ in sorted(alphabet):\n",
    "        atom = abs(atom_)\n",
    "        literal = ASPBasicLiteral(atom=ASPAtom(ASPFunction(atom.symbol)))\n",
    "        rule_generate_positive = ASPNormalRule(literal, (-(~literal),))\n",
    "        rule_generate_negative = ASPNormalRule(~literal, (-literal,))\n",
    "        i_rules.append(rule_generate_positive)\n",
    "        i_rules.append(rule_generate_negative)\n",
    "    ii_rules = []\n",
    "    A_ = materialized(A)\n",
    "    for clause in sorted(A_, key=str):\n",
    "        asp_bodies = (-clause).as_asp_bodies()\n",
    "        for asp_body in asp_bodies:\n",
    "            asp_body_ = tuple(literal if literal.is_pos else ~(-literal) for literal in asp_body)\n",
    "            constraint = ASPIntegrityConstraint(body=asp_body_)\n",
    "            ii_rules.append(constraint)\n",
    "\n",
    "    iii_rules = []\n",
    "    for clause in sorted(K_, key=str):\n",
    "        asp_bodies = (-clause).as_asp_bodies()\n",
    "        for asp_body in asp_bodies:\n",
    "            asp_body_ = tuple(literal if literal.is_pos else ~(-literal) for literal in asp_body)\n",
    "            head_ = ClassicalAtom(\"r_{}\".format(str(clause))\n",
    "                                  .replace(\" \", \"\")\n",
    "                                  .replace(\"∨\", \"_or_\")\n",
    "                                  .replace(\"→\", \"_implies_\")\n",
    "                                  .replace(\"¬\", \"_neg_\")\n",
    "                                  .replace(\"__\", \"_\")\n",
    "                                  )\n",
    "            head = head_.as_asp_literal()\n",
    "            rule = ASPNormalRule(head, asp_body_)\n",
    "            iii_rules.append(rule)\n",
    "\n",
    "    return ASPProgram((*i_rules, *ii_rules, *iii_rules))"
   ],
   "metadata": {
    "collapsed": false,
    "pycharm": {
     "name": "#%%\n"
    }
   }
  },
  {
   "cell_type": "code",
   "execution_count": 2831,
   "outputs": [
    {
     "name": "stdout",
     "output_type": "stream",
     "text": [
      "a :- not -a.\n",
      "-a :- not a.\n",
      "b :- not -b.\n",
      "-b :- not b.\n",
      "c :- not -c.\n",
      "-c :- not c.\n",
      "d :- not -d.\n",
      "-d :- not d.\n",
      "e :- not -e.\n",
      "-e :- not e.\n",
      "r_a_or_c :- not -r_a_or_c.\n",
      "-r_a_or_c :- not r_a_or_c.\n",
      "r_b_or_c :- not -r_b_or_c.\n",
      "-r_b_or_c :- not r_b_or_c.\n",
      "r_neg_c :- not -r_neg_c.\n",
      "-r_neg_c :- not r_neg_c.\n",
      ":- -d, -e.\n",
      ":- a.\n",
      ":- b.\n",
      ":- d, e.\n",
      "r_a_or_c :- -a, -c.\n",
      "r_b_or_c :- -b, -c.\n",
      "r_neg_c :- c.\n"
     ]
    }
   ],
   "source": [
    "prg = transform_to_lp_naive(K, A)\n",
    "print(prg.fmt('\\n'))"
   ],
   "metadata": {
    "collapsed": false,
    "pycharm": {
     "name": "#%%\n"
    }
   }
  },
  {
   "cell_type": "code",
   "execution_count": 2832,
   "outputs": [
    {
     "name": "stdout",
     "output_type": "stream",
     "text": [
      "Answer 1: { c e r_neg_c -a -b -d -r_a_or_c -r_b_or_c }\n",
      "Answer 2: { c e r_b_or_c r_neg_c -a -b -d -r_a_or_c }\n",
      "Answer 3: { c e r_a_or_c r_neg_c -a -b -d -r_b_or_c }\n",
      "Answer 4: { c e r_a_or_c r_b_or_c r_neg_c -a -b -d }\n",
      "Answer 5: { c d r_neg_c -a -b -e -r_a_or_c -r_b_or_c }\n",
      "Answer 6: { c d r_a_or_c r_neg_c -a -b -e -r_b_or_c }\n",
      "Answer 7: { c d r_b_or_c r_neg_c -a -b -e -r_a_or_c }\n",
      "Answer 8: { c d r_a_or_c r_b_or_c r_neg_c -a -b -e }\n",
      "Answer 9: { d r_a_or_c r_b_or_c -a -b -c -e -r_neg_c }\n",
      "Answer 10: { d r_a_or_c r_b_or_c r_neg_c -a -b -c -e }\n",
      "Answer 11: { e r_a_or_c r_b_or_c -a -b -c -d -r_neg_c }\n",
      "Answer 12: { e r_a_or_c r_b_or_c r_neg_c -a -b -c -d }\n",
      "SAT 12\n"
     ]
    }
   ],
   "source": [
    "tuple(asp_evaluate(prg, report=True));"
   ],
   "metadata": {
    "collapsed": false,
    "pycharm": {
     "name": "#%%\n"
    }
   }
  },
  {
   "cell_type": "code",
   "execution_count": 2833,
   "outputs": [],
   "source": [
    "StatementRanking = Mapping[Number, Set[Normally]]\n",
    "\n",
    "\n",
    "def statement_ranking(knowledge_base: KnowledgeBase) -> StatementRanking:\n",
    "    E = {0: knowledge_base}\n",
    "    rank = {}\n",
    "    i = 0\n",
    "    while True:\n",
    "        E[i + 1] = set()\n",
    "        for statement in E[i]:\n",
    "            if entails(materialized(E[i]), -statement.left):\n",
    "                E[i + 1].add(statement)\n",
    "        if E[i] == E[i + 1]:\n",
    "            break\n",
    "        rank[i] = E[i] - E[i + 1]\n",
    "        i = i + 1\n",
    "    rank[float('inf')] = E[i]\n",
    "    return rank\n",
    "\n",
    "\n"
   ],
   "metadata": {
    "collapsed": false,
    "pycharm": {
     "name": "#%%\n"
    }
   }
  },
  {
   "cell_type": "code",
   "execution_count": 2834,
   "outputs": [],
   "source": [
    "def print_statement_ranking(statement_ranking: StatementRanking):\n",
    "    r = len(statement_ranking) - (float('inf') in statement_ranking)\n",
    "    pad = len(str(r)) + 1\n",
    "\n",
    "    if len(statement_ranking) > 1:\n",
    "        for i in range(r):\n",
    "            print('{}:'.format(i).rjust(pad), end=' ')\n",
    "            statements = statement_ranking[i]\n",
    "            print_map_str(statements)\n",
    "\n",
    "    if float('inf') in statement_ranking.keys():\n",
    "        print('∞:'.rjust(pad), end=' ')\n",
    "        statements = statement_ranking[float('inf')]\n",
    "        print_map_str(statements)"
   ],
   "metadata": {
    "collapsed": false,
    "pycharm": {
     "name": "#%%\n"
    }
   }
  },
  {
   "cell_type": "code",
   "execution_count": 2835,
   "outputs": [
    {
     "name": "stdout",
     "output_type": "stream",
     "text": [
      "∞: { a ∨ c, ¬c, b ∨ c }\n"
     ]
    }
   ],
   "source": [
    "rk = statement_ranking(K)\n",
    "print_statement_ranking(rk)"
   ],
   "metadata": {
    "collapsed": false,
    "pycharm": {
     "name": "#%%\n"
    }
   }
  },
  {
   "cell_type": "code",
   "execution_count": 2836,
   "outputs": [
    {
     "name": "stdout",
     "output_type": "stream",
     "text": [
      "{ p → b, b |~ f, p |~ ¬f, b |~ w }\n",
      "{ p → b, b → w, b → f, p → ¬f }\n"
     ]
    }
   ],
   "source": [
    "f = ClassicalLiteral(ClassicalAtom('f'))  # flies\n",
    "b = ClassicalLiteral(ClassicalAtom('b'))  # is a bird\n",
    "p = ClassicalLiteral(ClassicalAtom('p'))  # is a pengiun\n",
    "w = ClassicalLiteral(ClassicalAtom('w'))  # has wings\n",
    "bot = ClassicalBot()  # Falsum\n",
    "top = ClassicalTop()  # Verum\n",
    "K = {-(p >> b) / bot, b / f, p / -f, b / w}\n",
    "A = {p / f}\n",
    "print_map_str(K)\n",
    "print_map_str(materialized(K))"
   ],
   "metadata": {
    "collapsed": false,
    "pycharm": {
     "name": "#%%\n"
    }
   }
  },
  {
   "cell_type": "code",
   "execution_count": 2837,
   "outputs": [
    {
     "name": "stdout",
     "output_type": "stream",
     "text": [
      "0: { b |~ w, b |~ f }\n",
      "1: { p |~ ¬f }\n",
      "∞: { p → b }\n"
     ]
    }
   ],
   "source": [
    "rk = statement_ranking(K)\n",
    "print_statement_ranking(rk)"
   ],
   "metadata": {
    "collapsed": false,
    "pycharm": {
     "name": "#%%\n"
    }
   }
  },
  {
   "cell_type": "code",
   "execution_count": 2838,
   "outputs": [
    {
     "name": "stdout",
     "output_type": "stream",
     "text": [
      "b :- not -b.\n",
      "-b :- not b.\n",
      "f :- not -f.\n",
      "-f :- not f.\n",
      "p :- not -p.\n",
      "-p :- not p.\n",
      "r_b_implies_f :- not -r_b_implies_f.\n",
      "-r_b_implies_f :- not r_b_implies_f.\n",
      "r_b_implies_w :- not -r_b_implies_w.\n",
      "-r_b_implies_w :- not r_b_implies_w.\n",
      "r_p_implies_b :- not -r_p_implies_b.\n",
      "-r_p_implies_b :- not r_p_implies_b.\n",
      "r_p_implies_neg_f :- not -r_p_implies_neg_f.\n",
      "-r_p_implies_neg_f :- not r_p_implies_neg_f.\n",
      "w :- not -w.\n",
      "-w :- not w.\n",
      "r_b_implies_f :- b, -f.\n",
      "r_b_implies_w :- b, -w.\n",
      "r_p_implies_b :- p, -b.\n",
      "r_p_implies_neg_f :- p, f.\n"
     ]
    }
   ],
   "source": [
    "prg = transform_to_lp_naive(K)\n",
    "print(prg.fmt('\\n'))"
   ],
   "metadata": {
    "collapsed": false,
    "pycharm": {
     "name": "#%%\n"
    }
   }
  },
  {
   "cell_type": "code",
   "execution_count": 2839,
   "outputs": [
    {
     "name": "stdout",
     "output_type": "stream",
     "text": [
      "b :- not -b.\n",
      "-b :- not b.\n",
      "f :- not -f.\n",
      "-f :- not f.\n",
      "p :- not -p.\n",
      "-p :- not p.\n",
      "r_b_implies_f :- not -r_b_implies_f.\n",
      "-r_b_implies_f :- not r_b_implies_f.\n",
      "r_b_implies_w :- not -r_b_implies_w.\n",
      "-r_b_implies_w :- not r_b_implies_w.\n",
      "r_p_implies_b :- not -r_p_implies_b.\n",
      "-r_p_implies_b :- not r_p_implies_b.\n",
      "r_p_implies_neg_f :- not -r_p_implies_neg_f.\n",
      "-r_p_implies_neg_f :- not r_p_implies_neg_f.\n",
      "w :- not -w.\n",
      "-w :- not w.\n",
      ":- p, -f.\n",
      "r_b_implies_f :- b, -f.\n",
      "r_b_implies_w :- b, -w.\n",
      "r_p_implies_b :- p, -b.\n",
      "r_p_implies_neg_f :- p, f.\n"
     ]
    }
   ],
   "source": [
    "prg = transform_to_lp_naive(K, A)\n",
    "print(prg.fmt('\\n'))"
   ],
   "metadata": {
    "collapsed": false,
    "pycharm": {
     "name": "#%%\n"
    }
   }
  },
  {
   "cell_type": "code",
   "execution_count": 2840,
   "outputs": [],
   "source": [
    "def transform_to_lp(K: KnowledgeBase, A: Set[Normally] = None,\n",
    "                    alphabet: Optional[ClassicalAlphabet] = None) -> ASPProgram:\n",
    "    K_ = materialized(K)\n",
    "    if A is None:\n",
    "        A = set()\n",
    "    if alphabet is None:\n",
    "        alphabet = {atom for statement in K for atom in statement.atoms} | {atom for statement in A for atom in\n",
    "                                                                            statement.atoms} | {\n",
    "                       ClassicalAtom(\"r_{}\".format(str(clause))\n",
    "                                     .replace(\" \", \"\")\n",
    "                                     .replace(\"∨\", \"_or_\")\n",
    "                                     .replace(\"→\", \"_implies_\")\n",
    "                                     .replace(\"¬\", \"_neg_\")\n",
    "                                     .replace(\"__\", \"_\")) for clause in K_}\n",
    "    rules = []\n",
    "    for atom_ in sorted(alphabet):\n",
    "        atom = abs(atom_)\n",
    "        literal = ASPBasicLiteral(atom=ASPAtom(ASPFunction(atom.symbol)))\n",
    "        rule_generate_positive = ASPNormalRule(literal, (-(~literal),))\n",
    "        rule_generate_negative = ASPNormalRule(~literal, (-literal,))\n",
    "        if rule_generate_positive not in rules:\n",
    "            rules.append(rule_generate_positive)\n",
    "        if rule_generate_negative not in rules:\n",
    "            rules.append(rule_generate_negative)\n",
    "    A_ = materialized(A)\n",
    "    for clause in sorted(A_, key=str):\n",
    "        asp_bodies = (-clause).as_asp_bodies()\n",
    "        for asp_body in asp_bodies:\n",
    "            asp_body_ = tuple(literal if literal.is_pos else ~(-literal) for literal in asp_body)\n",
    "            constraint = ASPIntegrityConstraint(body=asp_body_)\n",
    "            if constraint not in rules:\n",
    "                rules.append(constraint)\n",
    "\n",
    "    for clause in sorted(K_, key=str):\n",
    "        asp_bodies = (-clause).as_asp_bodies()\n",
    "        for asp_body in asp_bodies:\n",
    "            asp_body_ = tuple(literal if literal.is_pos else ~(-literal) for literal in asp_body)\n",
    "            head_ = ClassicalAtom(\"r_{}\".format(str(clause))\n",
    "                                  .replace(\" \", \"\")\n",
    "                                  .replace(\"∨\", \"_or_\")\n",
    "                                  .replace(\"→\", \"_implies_\")\n",
    "                                  .replace(\"¬\", \"_neg_\")\n",
    "                                  .replace(\"__\", \"_\")\n",
    "                                  )\n",
    "            head = head_.as_asp_literal()\n",
    "            rule = ASPNormalRule(head, asp_body_)\n",
    "            if rule not in rules:\n",
    "                rules.append(rule)\n",
    "    for statement in sorted(A, key=str):\n",
    "        asp_bodies = statement.left.as_asp_bodies()\n",
    "        for asp_body in asp_bodies:\n",
    "            asp_body_ = tuple(literal if literal.is_pos else ~(-literal) for literal in asp_body)\n",
    "            constraint = ASPIntegrityConstraint(body=asp_body_)\n",
    "            if constraint not in rules:\n",
    "                rules.append(constraint)\n",
    "    return ASPProgram(tuple(rules))"
   ],
   "metadata": {
    "collapsed": false,
    "pycharm": {
     "name": "#%%\n"
    }
   }
  },
  {
   "cell_type": "code",
   "execution_count": 2841,
   "outputs": [
    {
     "name": "stdout",
     "output_type": "stream",
     "text": [
      "{ a ∨ c, ¬c, b ∨ c }\n",
      "{ d ∨ e, ¬b, ¬d ∨ ¬e, ¬a }\n"
     ]
    }
   ],
   "source": [
    "K = {-(-c) / ClassicalBot(), -(a | c) / ClassicalBot(), -(b | c) / ClassicalBot()}\n",
    "print_map_str(K)\n",
    "A = {-(-a) / ClassicalBot(), -(-b) / ClassicalBot(), -(d | e) / ClassicalBot(), -(-d | -e) / ClassicalBot()}\n",
    "print_map_str(A)"
   ],
   "metadata": {
    "collapsed": false,
    "pycharm": {
     "name": "#%%\n"
    }
   }
  },
  {
   "cell_type": "code",
   "execution_count": 2842,
   "outputs": [
    {
     "name": "stdout",
     "output_type": "stream",
     "text": [
      "a :- not -a.\n",
      "-a :- not a.\n",
      "b :- not -b.\n",
      "-b :- not b.\n",
      "c :- not -c.\n",
      "-c :- not c.\n",
      "d :- not -d.\n",
      "-d :- not d.\n",
      "e :- not -e.\n",
      "-e :- not e.\n",
      "r_a_or_c :- not -r_a_or_c.\n",
      "-r_a_or_c :- not r_a_or_c.\n",
      "r_b_or_c :- not -r_b_or_c.\n",
      "-r_b_or_c :- not r_b_or_c.\n",
      "r_neg_c :- not -r_neg_c.\n",
      "-r_neg_c :- not r_neg_c.\n",
      ":- -d, -e.\n",
      ":- a.\n",
      ":- b.\n",
      ":- d, e.\n",
      "r_a_or_c :- -a, -c.\n",
      "r_b_or_c :- -b, -c.\n",
      "r_neg_c :- c.\n"
     ]
    }
   ],
   "source": [
    "prg = transform_to_lp(K, A)\n",
    "print(prg.fmt('\\n'))"
   ],
   "metadata": {
    "collapsed": false,
    "pycharm": {
     "name": "#%%\n"
    }
   }
  },
  {
   "cell_type": "code",
   "execution_count": 2843,
   "outputs": [
    {
     "name": "stdout",
     "output_type": "stream",
     "text": [
      "{ p → b, b |~ f, p |~ ¬f, b |~ w }\n"
     ]
    }
   ],
   "source": [
    "K = {-(p >> b) / bot, b / f, p / -f, b / w}\n",
    "A = {p / f}\n",
    "print_map_str(K)"
   ],
   "metadata": {
    "collapsed": false,
    "pycharm": {
     "name": "#%%\n"
    }
   }
  },
  {
   "cell_type": "code",
   "execution_count": 2844,
   "outputs": [
    {
     "name": "stdout",
     "output_type": "stream",
     "text": [
      "{ p → b, b → w, b → f, p → ¬f }\n"
     ]
    }
   ],
   "source": [
    "print_map_str(materialized(K))"
   ],
   "metadata": {
    "collapsed": false,
    "pycharm": {
     "name": "#%%\n"
    }
   }
  },
  {
   "cell_type": "code",
   "execution_count": 2845,
   "outputs": [
    {
     "name": "stdout",
     "output_type": "stream",
     "text": [
      "0: { b |~ w, b |~ f }\n",
      "1: { p |~ ¬f }\n",
      "∞: { p → b }\n"
     ]
    }
   ],
   "source": [
    "rk = statement_ranking(K)\n",
    "print_statement_ranking(rk)"
   ],
   "metadata": {
    "collapsed": false,
    "pycharm": {
     "name": "#%%\n"
    }
   }
  },
  {
   "cell_type": "code",
   "execution_count": 2846,
   "outputs": [
    {
     "name": "stdout",
     "output_type": "stream",
     "text": [
      "b :- not -b.\n",
      "-b :- not b.\n",
      "f :- not -f.\n",
      "-f :- not f.\n",
      "p :- not -p.\n",
      "-p :- not p.\n",
      "r_b_implies_f :- not -r_b_implies_f.\n",
      "-r_b_implies_f :- not r_b_implies_f.\n",
      "r_b_implies_w :- not -r_b_implies_w.\n",
      "-r_b_implies_w :- not r_b_implies_w.\n",
      "r_p_implies_b :- not -r_p_implies_b.\n",
      "-r_p_implies_b :- not r_p_implies_b.\n",
      "r_p_implies_neg_f :- not -r_p_implies_neg_f.\n",
      "-r_p_implies_neg_f :- not r_p_implies_neg_f.\n",
      "w :- not -w.\n",
      "-w :- not w.\n",
      "r_b_implies_f :- b, -f.\n",
      "r_b_implies_w :- b, -w.\n",
      "r_p_implies_b :- p, -b.\n",
      "r_p_implies_neg_f :- p, f.\n"
     ]
    }
   ],
   "source": [
    "prg = transform_to_lp(K)\n",
    "print(prg.fmt('\\n'))"
   ],
   "metadata": {
    "collapsed": false,
    "pycharm": {
     "name": "#%%\n"
    }
   }
  },
  {
   "cell_type": "code",
   "execution_count": 2847,
   "outputs": [
    {
     "name": "stdout",
     "output_type": "stream",
     "text": [
      "b :- not -b.\n",
      "-b :- not b.\n",
      "f :- not -f.\n",
      "-f :- not f.\n",
      "p :- not -p.\n",
      "-p :- not p.\n",
      "r_b_implies_f :- not -r_b_implies_f.\n",
      "-r_b_implies_f :- not r_b_implies_f.\n",
      "r_b_implies_w :- not -r_b_implies_w.\n",
      "-r_b_implies_w :- not r_b_implies_w.\n",
      "r_p_implies_b :- not -r_p_implies_b.\n",
      "-r_p_implies_b :- not r_p_implies_b.\n",
      "r_p_implies_neg_f :- not -r_p_implies_neg_f.\n",
      "-r_p_implies_neg_f :- not r_p_implies_neg_f.\n",
      "w :- not -w.\n",
      "-w :- not w.\n",
      ":- p, -f.\n",
      "r_b_implies_f :- b, -f.\n",
      "r_b_implies_w :- b, -w.\n",
      "r_p_implies_b :- p, -b.\n",
      "r_p_implies_neg_f :- p, f.\n",
      ":- p.\n"
     ]
    }
   ],
   "source": [
    "prg = transform_to_lp(K, A)\n",
    "print(prg.fmt('\\n'))"
   ],
   "metadata": {
    "collapsed": false,
    "pycharm": {
     "name": "#%%\n"
    }
   }
  },
  {
   "cell_type": "code",
   "execution_count": 2848,
   "outputs": [],
   "source": [
    "def clause_to_str(clause: ClassicalFormula):\n",
    "    return str(clause).replace(\" \", \"\").replace(\"∨\", \"_or_\").replace(\"→\", \"_implies_\").replace(\"¬\", \"_neg_\").replace(\n",
    "        \"__\", \"_\")\n"
   ],
   "metadata": {
    "collapsed": false,
    "pycharm": {
     "name": "#%%\n"
    }
   }
  },
  {
   "cell_type": "code",
   "execution_count": 2849,
   "outputs": [],
   "source": [
    "def transform_to_metalp(K: KnowledgeBase, A: Set[Normally] = None,\n",
    "                        alphabet: Optional[ClassicalAlphabet] = None) -> ASPProgram:\n",
    "    K_ = materialized(K)\n",
    "    if A is None:\n",
    "        A = set()\n",
    "    if alphabet is None:\n",
    "        alphabet = {atom for statement in K for atom in statement.atoms} | {atom for statement in A for atom in\n",
    "                                                                            statement.atoms}\n",
    "    c = 0\n",
    "    rules = []\n",
    "    for atom_ in sorted(alphabet):\n",
    "        atom = abs(atom_)\n",
    "        fact_nr = ASPFunction('f_{}'.format(atom))\n",
    "        fact_ = ASPFunction('rule', (fact_nr,))\n",
    "        fact = ASPBasicLiteral(atom=ASPAtom(fact_))\n",
    "        head_ = ASPFunction(atom.symbol)\n",
    "        head = ASPBasicLiteral(atom=ASPAtom(ASPFunction('head', (fact_nr, head_))))\n",
    "        meta_rule_rule = ASPNormalRule(fact)\n",
    "        meta_rule_head = ASPNormalRule(head)\n",
    "        if meta_rule_rule not in rules:\n",
    "            rules.append(meta_rule_rule)\n",
    "        if meta_rule_head not in rules:\n",
    "            rules.append(meta_rule_head)\n",
    "\n",
    "    for clause in sorted(K_, key=str):\n",
    "        asp_bodies = (-clause).as_asp_bodies()\n",
    "        rule_nr = ASPFunction('r_{}'.format(clause_to_str(clause)))\n",
    "        rule_ = ASPFunction('rule', (rule_nr,))\n",
    "        rule = ASPBasicLiteral(atom=ASPAtom(rule_))\n",
    "        meta_rule_rule = ASPNormalRule(rule)\n",
    "        if meta_rule_rule not in rules:\n",
    "            rules.append(meta_rule_rule)\n",
    "        blocked = ASPFunction('blocked', (rule_nr,))\n",
    "        head = ASPFunction('head', (rule_nr, blocked,))\n",
    "        meta_rule_head = ASPNormalRule(ASPBasicLiteral(atom=ASPAtom(head)))\n",
    "        if meta_rule_head not in rules:\n",
    "            rules.append(meta_rule_head)\n",
    "            pass\n",
    "        for asp_body in asp_bodies:\n",
    "            for literal in asp_body:\n",
    "                if literal.is_pos:\n",
    "                    body_ = ASPFunction('bodyP', (rule_nr, literal.atom.symbol))\n",
    "                else:\n",
    "                    body_ = ASPFunction('bodyN', (rule_nr, literal.atom.symbol))\n",
    "                meta_rule_body = ASPNormalRule(ASPBasicLiteral(atom=ASPAtom(body_)))\n",
    "                if meta_rule_body not in rules:\n",
    "                    rules.append(meta_rule_body)\n",
    "\n",
    "    A_ = materialized(A)\n",
    "    constraint_bodies = set()\n",
    "    for clause in sorted(A_, key=str):\n",
    "        asp_bodies = (-clause).as_asp_bodies()\n",
    "        constraint_bodies.update(asp_bodies)\n",
    "    for statement in sorted(A, key=str):\n",
    "        if not statement.is_classical:\n",
    "            asp_bodies = (-statement.left).as_asp_bodies()\n",
    "            constraint_bodies.update(asp_bodies)\n",
    "\n",
    "    for asp_body in constraint_bodies:\n",
    "        c += 1\n",
    "        constraint_nr = ASPFunction('c_{}'.format(c))\n",
    "        constraint_ = ASPFunction('rule', (constraint_nr,))\n",
    "        keep_ = ASPFunction('keep', (constraint_nr,))\n",
    "        constraint = ASPBasicLiteral(atom=ASPAtom(constraint_))\n",
    "        keep = ASPBasicLiteral(atom=ASPAtom(keep_))\n",
    "        meta_rule_rule = ASPNormalRule(constraint)\n",
    "        if meta_rule_rule not in rules:\n",
    "            rules.append(meta_rule_rule)\n",
    "        meta_rule_keep = ASPNormalRule(keep)\n",
    "        if meta_rule_keep not in rules:\n",
    "            rules.append(meta_rule_keep)\n",
    "        for literal in asp_body:\n",
    "            if literal.is_pos:\n",
    "                body_ = ASPFunction('bodyP', (constraint_nr, literal.atom.symbol))\n",
    "            else:\n",
    "                body_ = ASPFunction('bodyN', (constraint_nr, literal.atom.symbol))\n",
    "            meta_rule_body = ASPNormalRule(ASPBasicLiteral(atom=ASPAtom(body_)))\n",
    "            if meta_rule_body not in rules:\n",
    "                rules.append(meta_rule_body)\n",
    "\n",
    "    return ASPProgram(tuple(rules))"
   ],
   "metadata": {
    "collapsed": false,
    "pycharm": {
     "name": "#%%\n"
    }
   }
  },
  {
   "cell_type": "code",
   "execution_count": 2850,
   "outputs": [
    {
     "name": "stdout",
     "output_type": "stream",
     "text": [
      "{ a ∨ c, ¬c, b ∨ c }\n"
     ]
    }
   ],
   "source": [
    "K = {-(-c) / ClassicalBot(), -(a | c) / ClassicalBot(), -(b | c) / ClassicalBot()}\n",
    "print_map_str(K)"
   ],
   "metadata": {
    "collapsed": false,
    "pycharm": {
     "name": "#%%\n"
    }
   }
  },
  {
   "cell_type": "code",
   "execution_count": 2851,
   "outputs": [
    {
     "name": "stdout",
     "output_type": "stream",
     "text": [
      "{ d ∨ e, ¬b, ¬d ∨ ¬e, ¬a }\n"
     ]
    }
   ],
   "source": [
    "A = {-(-a) / ClassicalBot(), -(-b) / ClassicalBot(), -(d | e) / ClassicalBot(), -(-d | -e) / ClassicalBot()}\n",
    "print_map_str(A)"
   ],
   "metadata": {
    "collapsed": false,
    "pycharm": {
     "name": "#%%\n"
    }
   }
  },
  {
   "cell_type": "code",
   "execution_count": 2852,
   "outputs": [
    {
     "name": "stdout",
     "output_type": "stream",
     "text": [
      "rule(f_a).\n",
      "head(f_a,a).\n",
      "rule(f_b).\n",
      "head(f_b,b).\n",
      "rule(f_c).\n",
      "head(f_c,c).\n",
      "rule(f_d).\n",
      "head(f_d,d).\n",
      "rule(f_e).\n",
      "head(f_e,e).\n",
      "rule(r_a_or_c).\n",
      "head(r_a_or_c,blocked(r_a_or_c)).\n",
      "bodyN(r_a_or_c,a).\n",
      "bodyN(r_a_or_c,c).\n",
      "rule(r_b_or_c).\n",
      "head(r_b_or_c,blocked(r_b_or_c)).\n",
      "bodyN(r_b_or_c,b).\n",
      "bodyN(r_b_or_c,c).\n",
      "rule(r__neg_c).\n",
      "head(r__neg_c,blocked(r__neg_c)).\n",
      "bodyP(r__neg_c,c).\n",
      "rule(c_1).\n",
      "keep(c_1).\n",
      "bodyP(c_1,d).\n",
      "bodyP(c_1,e).\n",
      "rule(c_2).\n",
      "keep(c_2).\n",
      "bodyP(c_2,a).\n",
      "rule(c_3).\n",
      "keep(c_3).\n",
      "bodyP(c_3,b).\n",
      "rule(c_4).\n",
      "keep(c_4).\n",
      "bodyN(c_4,d).\n",
      "bodyN(c_4,e).\n"
     ]
    }
   ],
   "source": [
    "prg = transform_to_metalp(K, A)\n",
    "print(prg.fmt('\\n'))"
   ],
   "metadata": {
    "collapsed": false,
    "pycharm": {
     "name": "#%%\n"
    }
   }
  },
  {
   "cell_type": "code",
   "execution_count": 2853,
   "outputs": [],
   "source": [
    "debug_meta_str = \"\"\"\n",
    "\n",
    "{ remove(R) } :- rule(R).\n",
    "\n",
    ":- remove(R), keep(R).\n",
    "\n",
    ":- not remove(R), head(R,blocked(R)), hold(blocked(R)).\n",
    "\n",
    "hold(H) : head(R,H) :-\n",
    "  rule(R),\n",
    "  not remove(R),\n",
    "      hold(L) : bodyP(R,L);\n",
    "  not hold(L) : bodyN(R,L).\n",
    "\n",
    "#show.\n",
    "#show H: hold(H).\n",
    "#show remove/1.\n",
    "\n",
    "\"\"\""
   ],
   "metadata": {
    "collapsed": false,
    "pycharm": {
     "name": "#%%\n"
    }
   }
  },
  {
   "cell_type": "code",
   "execution_count": 2854,
   "outputs": [
    {
     "name": "stdout",
     "output_type": "stream",
     "text": [
      "Answer 1: { c e remove(f_a) remove(f_b) remove(f_d) remove(r__neg_c) }\n",
      "Answer 2: { c e remove(f_a) remove(f_b) remove(f_d) remove(r__neg_c) remove(r_b_or_c) }\n",
      "Answer 3: { c d remove(f_a) remove(f_b) remove(f_e) remove(r__neg_c) }\n",
      "Answer 4: { c d remove(f_a) remove(f_b) remove(f_e) remove(r__neg_c) remove(r_b_or_c) }\n",
      "Answer 5: { c e remove(f_a) remove(f_b) remove(f_d) remove(r__neg_c) remove(r_a_or_c) }\n",
      "Answer 6: { c d remove(f_a) remove(f_b) remove(f_e) remove(r__neg_c) remove(r_a_or_c) }\n",
      "Answer 7: { c e remove(f_a) remove(f_b) remove(f_d) remove(r__neg_c) remove(r_a_or_c) remove(r_b_or_c) }\n",
      "Answer 8: { c d remove(f_a) remove(f_b) remove(f_e) remove(r__neg_c) remove(r_a_or_c) remove(r_b_or_c) }\n",
      "Answer 9: { e remove(f_a) remove(f_b) remove(f_c) remove(f_d) remove(r__neg_c) remove(r_a_or_c) remove(r_b_or_c) }\n",
      "Answer 10: { d remove(f_a) remove(f_b) remove(f_c) remove(f_e) remove(r__neg_c) remove(r_a_or_c) remove(r_b_or_c) }\n",
      "Answer 11: { e remove(f_a) remove(f_b) remove(f_c) remove(f_d) remove(r_a_or_c) remove(r_b_or_c) }\n",
      "Answer 12: { d remove(f_a) remove(f_b) remove(f_c) remove(f_e) remove(r_a_or_c) remove(r_b_or_c) }\n",
      "SAT 12\n"
     ]
    }
   ],
   "source": [
    "tuple(asp_evaluate(prg, debug_meta_str, report=True));"
   ],
   "metadata": {
    "collapsed": false,
    "pycharm": {
     "name": "#%%\n"
    }
   }
  },
  {
   "cell_type": "code",
   "execution_count": 2855,
   "outputs": [
    {
     "name": "stdout",
     "output_type": "stream",
     "text": [
      "{ p → b, b |~ f, p |~ ¬f, b |~ w }\n"
     ]
    }
   ],
   "source": [
    "K = {-(p >> b) / bot, b / f, p / -f, b / w}\n",
    "A = {p / f}\n",
    "print_map_str(K)"
   ],
   "metadata": {
    "collapsed": false,
    "pycharm": {
     "name": "#%%\n"
    }
   }
  },
  {
   "cell_type": "code",
   "execution_count": 2856,
   "outputs": [
    {
     "name": "stdout",
     "output_type": "stream",
     "text": [
      "{ p → b, b → w, b → f, p → ¬f }\n"
     ]
    }
   ],
   "source": [
    "print_map_str(materialized(K))"
   ],
   "metadata": {
    "collapsed": false,
    "pycharm": {
     "name": "#%%\n"
    }
   }
  },
  {
   "cell_type": "code",
   "execution_count": 2857,
   "outputs": [
    {
     "name": "stdout",
     "output_type": "stream",
     "text": [
      "0: { b |~ w, b |~ f }\n",
      "1: { p |~ ¬f }\n",
      "∞: { p → b }\n"
     ]
    }
   ],
   "source": [
    "rk = statement_ranking(K)\n",
    "print_statement_ranking(rk)"
   ],
   "metadata": {
    "collapsed": false,
    "pycharm": {
     "name": "#%%\n"
    }
   }
  },
  {
   "cell_type": "code",
   "execution_count": 2858,
   "outputs": [
    {
     "name": "stdout",
     "output_type": "stream",
     "text": [
      "rule(f_b).\n",
      "head(f_b,b).\n",
      "rule(f_f).\n",
      "head(f_f,f).\n",
      "rule(f_p).\n",
      "head(f_p,p).\n",
      "rule(f_w).\n",
      "head(f_w,w).\n",
      "rule(r_b_implies_f).\n",
      "head(r_b_implies_f,blocked(r_b_implies_f)).\n",
      "bodyP(r_b_implies_f,b).\n",
      "bodyN(r_b_implies_f,f).\n",
      "rule(r_b_implies_w).\n",
      "head(r_b_implies_w,blocked(r_b_implies_w)).\n",
      "bodyP(r_b_implies_w,b).\n",
      "bodyN(r_b_implies_w,w).\n",
      "rule(r_p_implies_b).\n",
      "head(r_p_implies_b,blocked(r_p_implies_b)).\n",
      "bodyP(r_p_implies_b,p).\n",
      "bodyN(r_p_implies_b,b).\n",
      "rule(r_p_implies_neg_f).\n",
      "head(r_p_implies_neg_f,blocked(r_p_implies_neg_f)).\n",
      "bodyP(r_p_implies_neg_f,p).\n",
      "bodyP(r_p_implies_neg_f,f).\n",
      "rule(c_1).\n",
      "keep(c_1).\n",
      "bodyP(c_1,p).\n",
      "bodyN(c_1,f).\n",
      "rule(c_2).\n",
      "keep(c_2).\n",
      "bodyN(c_2,p).\n"
     ]
    }
   ],
   "source": [
    "prg = transform_to_metalp(K, A)\n",
    "print(prg.fmt('\\n'))"
   ],
   "metadata": {
    "collapsed": false,
    "pycharm": {
     "name": "#%%\n"
    }
   }
  },
  {
   "cell_type": "code",
   "execution_count": 2859,
   "outputs": [
    {
     "name": "stdout",
     "output_type": "stream",
     "text": [
      "Answer 1: { b f p w remove(r_p_implies_neg_f) }\n",
      "Answer 2: { b f p w remove(r_p_implies_b) remove(r_p_implies_neg_f) }\n",
      "Answer 3: { b f p w remove(r_b_implies_f) remove(r_p_implies_neg_f) }\n",
      "Answer 4: { b f p w remove(r_b_implies_f) remove(r_p_implies_b) remove(r_p_implies_neg_f) }\n",
      "Answer 5: { b f p w remove(r_b_implies_w) remove(r_p_implies_neg_f) }\n",
      "Answer 6: { b f p remove(f_w) remove(r_b_implies_w) remove(r_p_implies_neg_f) }\n",
      "Answer 7: { b f p w remove(r_b_implies_f) remove(r_b_implies_w) remove(r_p_implies_neg_f) }\n",
      "Answer 8: { b f p remove(f_w) remove(r_b_implies_f) remove(r_b_implies_w) remove(r_p_implies_neg_f) }\n",
      "Answer 9: { b f p w remove(r_b_implies_w) remove(r_p_implies_b) remove(r_p_implies_neg_f) }\n",
      "Answer 10: { b f p remove(f_w) remove(r_b_implies_w) remove(r_p_implies_b) remove(r_p_implies_neg_f) }\n",
      "Answer 11: { b f p w remove(r_b_implies_f) remove(r_b_implies_w) remove(r_p_implies_b) remove(r_p_implies_neg_f) }\n",
      "Answer 12: { b f p remove(f_w) remove(r_b_implies_f) remove(r_b_implies_w) remove(r_p_implies_b) remove(r_p_implies_neg_f) }\n",
      "Answer 13: { f p w remove(f_b) remove(r_p_implies_b) remove(r_p_implies_neg_f) }\n",
      "Answer 14: { f p remove(f_b) remove(f_w) remove(r_p_implies_b) remove(r_p_implies_neg_f) }\n",
      "Answer 15: { f p w remove(f_b) remove(r_b_implies_w) remove(r_p_implies_b) remove(r_p_implies_neg_f) }\n",
      "Answer 16: { f p remove(f_b) remove(f_w) remove(r_b_implies_w) remove(r_p_implies_b) remove(r_p_implies_neg_f) }\n",
      "Answer 17: { f p w remove(f_b) remove(r_b_implies_f) remove(r_p_implies_b) remove(r_p_implies_neg_f) }\n",
      "Answer 18: { f p remove(f_b) remove(f_w) remove(r_b_implies_f) remove(r_p_implies_b) remove(r_p_implies_neg_f) }\n",
      "Answer 19: { f p w remove(f_b) remove(r_b_implies_f) remove(r_b_implies_w) remove(r_p_implies_b) remove(r_p_implies_neg_f) }\n",
      "Answer 20: { f p remove(f_b) remove(f_w) remove(r_b_implies_f) remove(r_b_implies_w) remove(r_p_implies_b) remove(r_p_implies_neg_f) }\n",
      "SAT 20\n"
     ]
    }
   ],
   "source": [
    "tuple(asp_evaluate(prg, debug_meta_str, report=True));"
   ],
   "metadata": {
    "collapsed": false,
    "pycharm": {
     "name": "#%%\n"
    }
   }
  },
  {
   "cell_type": "code",
   "execution_count": null,
   "outputs": [],
   "source": [
    "def generate_meta_rules(K: KnowledgeBase):\n",
    "    r = 0\n",
    "    meta_rules = []\n",
    "    for clause in K:\n",
    "        r += 1\n",
    "        rule_nr = ASPFunction('r_{}'.format(r))\n",
    "        rule = ASPNormalRule(ASPBasicLiteral(atom=ASPAtom(ASPFunction('rule', (rule_nr,)))))\n",
    "        meta_rules.append(rule)\n",
    "        head_formula = clause.right\n",
    "        body_formula = clause.left\n",
    "        asp_heads = head_formula.as_asp_heads()\n",
    "        asp_bodies = body_formula.as_asp_bodies()\n",
    "        for asp_head in asp_heads:\n",
    "            # TODO each head is a new rule\n",
    "            for asp_body in asp_bodies:\n",
    "                for asp_head_literal in asp_head:\n",
    "                    assert isinstance(asp_head_literal, ASPBasicLiteral)\n",
    "                    asp_head_symbol = asp_head_literal.atom.symbol\n",
    "                    meta_head = ASPNormalRule(ASPBasicLiteral(atom=ASPAtom(ASPFunction('head', (rule_nr, asp_head_symbol)))))\n",
    "    # TODO: Generate body"
   ],
   "metadata": {
    "collapsed": false,
    "pycharm": {
     "name": "#%%\n"
    }
   }
  },
  {
   "cell_type": "code",
   "execution_count": 2860,
   "outputs": [],
   "source": [
    "def generate_prioritization_meta_rules(K: KnowledgeBase, rk: Optional[StatementRanking] = None):\n",
    "    if rk is None:\n",
    "        rk = statement_ranking(K)\n",
    "    meta_rules = []\n",
    "    if float('inf') in rk:\n",
    "        for higher in rk[float('inf')]:\n",
    "            higher_ = ASPFunction(clause_to_str(higher.materialize()))\n",
    "            for lower in rk[len(rk)-2]:\n",
    "                lower_ = ASPFunction(clause_to_str(lower.materialize()))\n",
    "                pr_ = ASPFunction('pr', (higher_, lower_))\n",
    "                pr = ASPBasicLiteral(atom=ASPAtom(pr_))\n",
    "                meta_rule = ASPNormalRule(pr)\n",
    "                meta_rules.append(meta_rule)\n",
    "\n",
    "\n",
    "\n",
    "    for i in range(len(rk)):\n",
    "        if i in rk:\n",
    "            for higher in rk[i]:\n",
    "                higher_ = ASPFunction(clause_to_str(higher.materialize()))\n",
    "                if i-1 in rk:\n",
    "                    for lower in rk[i-1]:\n",
    "                        lower_ = ASPFunction(clause_to_str(lower.materialize()))\n",
    "                        pr_ = ASPFunction('pr', (higher_, lower_))\n",
    "                        pr = ASPBasicLiteral(atom=ASPAtom(pr_))\n",
    "                        meta_rule = ASPNormalRule(pr)\n",
    "                        meta_rules.append(meta_rule)\n",
    "    return meta_rules\n",
    "\n"
   ],
   "metadata": {
    "collapsed": false,
    "pycharm": {
     "name": "#%%\n"
    }
   }
  },
  {
   "cell_type": "code",
   "execution_count": 2861,
   "outputs": [
    {
     "name": "stdout",
     "output_type": "stream",
     "text": [
      "{ pr(p_implies_b,p_implies_neg_f)., pr(p_implies_neg_f,b_implies_w)., pr(p_implies_neg_f,b_implies_f). }\n"
     ]
    }
   ],
   "source": [
    "prioritization_meta_rules = generate_prioritization_meta_rules(K)\n",
    "print_map_str(prioritization_meta_rules)"
   ],
   "metadata": {
    "collapsed": false,
    "pycharm": {
     "name": "#%%\n"
    }
   }
  },
  {
   "cell_type": "code",
   "execution_count": 2862,
   "outputs": [],
   "source": [
    "meta_str = \"\"\"\n",
    "\n",
    "hold(H) : head(R,H) :-\n",
    "  rule(R),\n",
    "  not remove(R),\n",
    "      hold(L) : bodyP(R,L);\n",
    "  not hold(L) : bodyN(R,L).\n",
    "\n",
    "#show.\n",
    "#show H: hold(H).\n",
    "#show remove/1.\n",
    "\n",
    "\"\"\""
   ],
   "metadata": {
    "collapsed": false,
    "pycharm": {
     "name": "#%%\n"
    }
   }
  },
  {
   "cell_type": "code",
   "execution_count": 2863,
   "outputs": [],
   "source": [
    "b_preferred_str = \"\"\"\n",
    "\n",
    "% For full prioritization: refine pr to a total ordering.\n",
    "pr(X,Y) ; pr(Y,X) :- rule(X), rule(Y), X != Y.\n",
    "pr(X,Z) :- pr(X,Y), pr(Y,Z).\n",
    ":- pr(X,X).\n",
    "\n",
    "% Check dual reduct: Build sets S_i, use rule ids as indices i.\n",
    "% lit(X,r) means that the literal x occurs in the set S_r.\n",
    "lit(L,R) :-\n",
    "  head(R,L),\n",
    "  hold(L) : bodyP(R,L);\n",
    "  not defeat_local(R),\n",
    "  not hold(L).\n",
    "lit(L,R) :-\n",
    "  head(R,L),\n",
    "  hold(L) : bodyP(R,L);\n",
    "  not defeat_local(R),\n",
    "  not defeat_global(R).\n",
    "\n",
    "defeat_local(R) :- bodyN(R,L), lit(L,R'), pr(R',R).\n",
    "defeat_global(R) :- bodyN(R,L), hold(L).\n",
    "\n",
    "% Include literal into CP(.).\n",
    "in_CP(L) :- lit(L,R).\n",
    ":- in_CP(L), not hold(L).\n",
    ":- hold(L), not in_CP(L).\n",
    "\n",
    "\"\"\""
   ],
   "metadata": {
    "collapsed": false,
    "pycharm": {
     "name": "#%%\n"
    }
   }
  },
  {
   "cell_type": "code",
   "execution_count": 2864,
   "outputs": [
    {
     "name": "stdout",
     "output_type": "stream",
     "text": [
      "UNSAT\n"
     ]
    }
   ],
   "source": [
    "tuple(asp_evaluate(\n",
    "    prg,\n",
    "    '\\n'.join(map(str, prioritization_meta_rules)),\n",
    "    b_preferred_str,\n",
    "    debug_meta_str,\n",
    "    report=True));"
   ],
   "metadata": {
    "collapsed": false,
    "pycharm": {
     "name": "#%%\n"
    }
   }
  }
 ],
 "metadata": {
  "kernelspec": {
   "display_name": "Python 3",
   "language": "python",
   "name": "python3"
  },
  "language_info": {
   "codemirror_mode": {
    "name": "ipython",
    "version": 2
   },
   "file_extension": ".py",
   "mimetype": "text/x-python",
   "name": "python",
   "nbconvert_exporter": "python",
   "pygments_lexer": "ipython2",
   "version": "2.7.6"
  }
 },
 "nbformat": 4,
 "nbformat_minor": 0
}