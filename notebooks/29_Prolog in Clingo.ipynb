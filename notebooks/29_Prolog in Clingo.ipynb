{
 "cells": [
  {
   "cell_type": "code",
   "execution_count": 51,
   "metadata": {
    "collapsed": true
   },
   "outputs": [],
   "source": [
    "import copy\n",
    "import functools\n",
    "from dataclasses import dataclass, field\n",
    "from enum import IntEnum\n",
    "from typing import Union, Callable, Sequence, Optional, Dict, TypeVar\n",
    "\n",
    "import clingo\n",
    "import clingo.ast"
   ]
  },
  {
   "cell_type": "code",
   "execution_count": 52,
   "outputs": [],
   "source": [
    "def temporal(symbol: clingo.Symbol, default: Union[int, Callable[[clingo.Symbol], int], None] = None):\n",
    "    if symbol.match('occurs', 3) or symbol.match('observe', 3):\n",
    "        return symbol.arguments[-1].number\n",
    "    if callable(default):\n",
    "        return default(symbol)\n",
    "    return default"
   ],
   "metadata": {
    "collapsed": false,
    "pycharm": {
     "name": "#%%\n"
    }
   }
  },
  {
   "cell_type": "code",
   "execution_count": 53,
   "outputs": [],
   "source": [
    "program = \"\"\"\n",
    "\n",
    "child(X,Y) :- mother(Y,X).\n",
    "child(X,Y) :- father(Y,X).\n",
    "\n",
    "son(X,Y) :- child(X,Y), boy(X).\n",
    "\n",
    "boy(bill).\n",
    "boy(frank).\n",
    "mother(alice,bill).\n",
    "father(alex,bill).\n",
    "\n",
    "\"\"\""
   ],
   "metadata": {
    "collapsed": false,
    "pycharm": {
     "name": "#%%\n"
    }
   }
  },
  {
   "cell_type": "code",
   "execution_count": 54,
   "outputs": [],
   "source": [
    "ctl = clingo.Control()\n",
    "ctl.configuration.solve.models = 0"
   ],
   "metadata": {
    "collapsed": false,
    "pycharm": {
     "name": "#%%\n"
    }
   }
  },
  {
   "cell_type": "code",
   "execution_count": 55,
   "outputs": [],
   "source": [
    "ctl.add('base', [], program)"
   ],
   "metadata": {
    "collapsed": false,
    "pycharm": {
     "name": "#%%\n"
    }
   }
  },
  {
   "cell_type": "code",
   "execution_count": 56,
   "outputs": [],
   "source": [
    "ctl.ground([('base', [])])"
   ],
   "metadata": {
    "collapsed": false,
    "pycharm": {
     "name": "#%%\n"
    }
   }
  },
  {
   "cell_type": "code",
   "execution_count": 57,
   "outputs": [
    {
     "name": "stdout",
     "output_type": "stream",
     "text": [
      "Answer 1: {\n",
      "boy(bill)\n",
      "boy(frank)\n",
      "child(bill,alex)\n",
      "child(bill,alice)\n",
      "father(alex,bill)\n",
      "mother(alice,bill)\n",
      "son(bill,alex)\n",
      "son(bill,alice)\n",
      "}\n",
      "SAT 1\n"
     ]
    }
   ],
   "source": [
    "with ctl.solve(yield_=True) as solve_handle:\n",
    "    models = []\n",
    "    for model in solve_handle:\n",
    "        symbols = sorted(sorted(model.symbols(shown=True)), key=functools.partial(temporal, default=-1))\n",
    "        print(\"Answer {}:\".format(model.number), end=' ')\n",
    "        print(\"{\",\n",
    "              '\\n'.join(map(str, symbols)), \"}\", sep='\\n')\n",
    "        models.append(symbols)\n",
    "    solve_result = solve_handle.get()\n",
    "    print(solve_result, end='')\n",
    "    if models:\n",
    "        print(\" {}{}\".format(len(models), '' if solve_result.exhausted else '+'))"
   ],
   "metadata": {
    "collapsed": false,
    "pycharm": {
     "name": "#%%\n"
    }
   }
  },
  {
   "cell_type": "code",
   "execution_count": 58,
   "outputs": [],
   "source": [
    "\n",
    "class TermType(IntEnum):\n",
    "    FUNCTION = 0\n",
    "    VARIABLE = 1\n",
    "    INTEGER = 2\n",
    "\n",
    "\n",
    "@dataclass(frozen=True)\n",
    "class Variable:\n",
    "    name: str\n",
    "\n",
    "    def __str__(self):\n",
    "        return self.name\n",
    "\n",
    "\n",
    "ForwardTerm = TypeVar('ForwardTerm', bound='Term')\n",
    "\n",
    "\n",
    "@dataclass(frozen=True)\n",
    "class Term:\n",
    "    termType: TermType = TermType.FUNCTION\n",
    "    symbol: Union[str, int, Variable, None] = None\n",
    "    arguments: Sequence[ForwardTerm] = ()\n",
    "\n",
    "    def __str__(self) -> str:\n",
    "        if self.termType is TermType.FUNCTION:\n",
    "            return self.__str_function()\n",
    "        elif self.termType is TermType.VARIABLE:\n",
    "            return self.__str_variable()\n",
    "        elif self.termType is TermType.INTEGER:\n",
    "            return self.__str_integer()\n",
    "        else:\n",
    "            assert False, \"Unknown TermType '{}'.\".format(self.termType.name)\n",
    "\n",
    "    def __str_function(self) -> str:\n",
    "        if self.symbol is None and not self.arguments:\n",
    "            return \"()\"\n",
    "        elif self.symbol is None:\n",
    "            return \"({})\".format(','.join(map(str, self.arguments)))\n",
    "        elif not self.arguments:\n",
    "            return str(self.symbol)\n",
    "        else:\n",
    "            return \"{}({})\".format(self.symbol, ','.join(map(str, self.arguments)))\n",
    "\n",
    "    def __str_variable(self) -> str:\n",
    "        return str(self.symbol)\n",
    "\n",
    "    def __str_integer(self) -> str:\n",
    "        return str(self.symbol)\n",
    "\n",
    "    @staticmethod\n",
    "    def new_variable(name: str) -> ForwardTerm:\n",
    "        return Term(termType=TermType.VARIABLE, symbol=Variable(name))\n",
    "\n",
    "    @staticmethod\n",
    "    def new_integer(num: int) -> ForwardTerm:\n",
    "        return Term(termType=TermType.INTEGER, symbol=num)\n",
    "\n",
    "    @staticmethod\n",
    "    def new_function(name: str, arguments: Sequence[ForwardTerm] = ()) -> ForwardTerm:\n",
    "        return Term(termType=TermType.FUNCTION, symbol=name, arguments=arguments)\n",
    "\n",
    "    @staticmethod\n",
    "    def new_constant(name: str) -> ForwardTerm:\n",
    "        return Term.new_function(name)\n",
    "\n",
    "    @staticmethod\n",
    "    def from_clingo_symbol(symbol: clingo.Symbol):\n",
    "        if symbol.type is clingo.SymbolType.Function:\n",
    "            return Term.from_clingo_function(symbol)\n",
    "        elif symbol.type is clingo.SymbolType.Number:\n",
    "            return Term.from_clingo_number(symbol)\n",
    "\n",
    "    @staticmethod\n",
    "    def from_clingo_function(function: clingo.Symbol):\n",
    "        arguments = tuple(Term.from_clingo_symbol(argument) for argument in function.arguments)\n",
    "        return Term.new_function(function.name, arguments)\n",
    "\n",
    "    @staticmethod\n",
    "    def from_clingo_number(number: clingo.Symbol):\n",
    "        return Term.new_integer(number.number)\n",
    "\n",
    "    @staticmethod\n",
    "    def from_clingo_ast(node: clingo.ast.AST):\n",
    "        if node.ast_type is clingo.ast.ASTType.Literal:\n",
    "            atom = node.atom\n",
    "            symbol = atom.symbol\n",
    "        elif node.ast_type is clingo.ast.ASTType.SymbolicTerm:\n",
    "            return Term.from_clingo_symbol(node.symbol)\n",
    "        elif node.ast_type is clingo.ast.ASTType.Variable:\n",
    "            return Term.new_variable(node.name)\n",
    "        else:\n",
    "            symbol = node\n",
    "\n",
    "        if symbol.ast_type is clingo.ast.ASTType.Function:\n",
    "            name = symbol.name\n",
    "            arguments = tuple(Term.from_clingo_ast(argument) for argument in symbol.arguments)\n",
    "            return Term.new_function(name, arguments)\n",
    "        assert False, f\"Unexpected ast_type '{node.ast_type.name}'\"\n",
    "\n",
    "\n",
    "\n",
    "@dataclass\n",
    "class Rule:\n",
    "    head: Optional[Term] = None\n",
    "    body: Sequence[Term] = ()\n",
    "\n",
    "    def __str__(self) -> str:\n",
    "        if self.head is None and not self.body:\n",
    "            return \":-.\"\n",
    "        elif self.head is None:\n",
    "            return \":- {}.\".format(', '.join(map(str, self.body)))\n",
    "        elif not self.body:\n",
    "            return \"{}.\".format(self.head)\n",
    "        else:\n",
    "            return \"{} :- {}.\".format(self.head, ', '.join(map(str, self.body)))\n",
    "\n",
    "\n",
    "ForwardGoal = TypeVar('ForwardGoal', bound='Goal')\n",
    "\n",
    "\n",
    "@dataclass\n",
    "class Goal:\n",
    "    goal: Optional[Rule] = None\n",
    "    parent: Optional[ForwardGoal] = None\n",
    "    children: Sequence[ForwardGoal] = field(default_factory=list)\n",
    "    env: Dict[Variable, Term] = field(default_factory=dict)\n",
    "    inx: int = 0"
   ],
   "metadata": {
    "collapsed": false,
    "pycharm": {
     "name": "#%%\n"
    }
   }
  },
  {
   "cell_type": "code",
   "execution_count": 59,
   "outputs": [],
   "source": [
    "class ASPToPrologTransformer(clingo.ast.Transformer):\n",
    "    def __init__(self):\n",
    "        self.prolog_program = []\n",
    "\n",
    "    def visit_Rule(self, rule: clingo.ast.AST):\n",
    "        head = Term.from_clingo_ast(rule.head)\n",
    "        body = tuple(Term.from_clingo_ast(argument) for argument in rule.body)\n",
    "        self.prolog_program.append(Rule(head, body))\n",
    "        return rule"
   ],
   "metadata": {
    "collapsed": false,
    "pycharm": {
     "name": "#%%\n"
    }
   }
  },
  {
   "cell_type": "code",
   "execution_count": 60,
   "outputs": [],
   "source": [
    "def unify(src_term: Term, src_env: Dict[Variable, Term], dest_term: Optional[Term], dest_env: Dict[Variable, Term]):\n",
    "    if dest_term is None:\n",
    "        return False\n",
    "    if src_term.termType is not TermType.FUNCTION:\n",
    "        return False\n",
    "    if dest_term.termType is not TermType.FUNCTION:\n",
    "        return False\n",
    "    if src_term.symbol != dest_term.symbol:\n",
    "        return False\n",
    "    nargs = len(src_term.arguments)\n",
    "    if nargs != len(dest_term.arguments):\n",
    "        return False\n",
    "    for i in range(nargs):\n",
    "        src_arg: Term = src_term.arguments[i]\n",
    "        dest_arg: Term = dest_term.arguments[i]\n",
    "        if src_arg.termType is TermType.VARIABLE:\n",
    "            src_val = src_env.get(src_arg.symbol)\n",
    "        else:\n",
    "            src_val = src_arg\n",
    "        if src_val is not None:\n",
    "            if dest_arg.termType is TermType.VARIABLE:\n",
    "                dest_val = dest_env.get(dest_arg.symbol)\n",
    "                if dest_val is None:\n",
    "                    dest_env[dest_arg.symbol] = src_val\n",
    "                elif dest_val != src_val:\n",
    "                    return False\n",
    "            elif dest_arg != src_val:\n",
    "                return False\n",
    "    return True\n"
   ],
   "metadata": {
    "collapsed": false,
    "pycharm": {
     "name": "#%%\n"
    }
   }
  },
  {
   "cell_type": "code",
   "execution_count": 61,
   "outputs": [],
   "source": [
    "def search(term: Term, rules: Sequence[Rule] = ()):\n",
    "    root = Goal(goal=Rule(head=Term(), body=(term,)))\n",
    "    goal_envs = []\n",
    "    proof_trees = []\n",
    "    stack = [root]\n",
    "    while stack:\n",
    "        current = stack.pop()\n",
    "        if current.inx >= len(current.goal.body):\n",
    "            if current.parent is None:\n",
    "                if current.env:\n",
    "                    print(current.env)\n",
    "                else:\n",
    "                    print(\"Yes\")\n",
    "                goal_envs.append(current.env)\n",
    "                proof_trees.append(current)\n",
    "            else:\n",
    "                parent = copy.deepcopy(current.parent)\n",
    "                unify(current.goal.head, current.env, parent.goal.body[parent.inx], parent.env)\n",
    "                parent.inx += 1\n",
    "                stack.append(parent)\n",
    "        else:\n",
    "            term = current.goal.body[current.inx]\n",
    "            for rule in rules:\n",
    "                child_env = {}\n",
    "                unifiable = unify(term, current.env, rule.head, child_env)\n",
    "                if unifiable:\n",
    "                    child = Goal(env=child_env, parent=current, goal=rule)\n",
    "                    current.children.append(child)\n",
    "                    stack.append(child)\n",
    "    if not goal_envs:\n",
    "        print(\"No\")\n",
    "    return goal_envs, proof_trees"
   ],
   "metadata": {
    "collapsed": false,
    "pycharm": {
     "name": "#%%\n"
    }
   }
  },
  {
   "cell_type": "code",
   "execution_count": 62,
   "outputs": [
    {
     "name": "stdout",
     "output_type": "stream",
     "text": [
      "child(X,Y) :- mother(Y,X).\n",
      "child(X,Y) :- father(Y,X).\n",
      "son(X,Y) :- child(X,Y), boy(X).\n",
      "boy(bill).\n",
      "boy(frank).\n",
      "mother(alice,bill).\n",
      "father(alex,bill).\n"
     ]
    },
    {
     "data": {
      "text/plain": "[Rule(head=Term(termType=<TermType.FUNCTION: 0>, symbol='child', arguments=(Term(termType=<TermType.VARIABLE: 1>, symbol=Variable(name='X'), arguments=()), Term(termType=<TermType.VARIABLE: 1>, symbol=Variable(name='Y'), arguments=()))), body=(Term(termType=<TermType.FUNCTION: 0>, symbol='mother', arguments=(Term(termType=<TermType.VARIABLE: 1>, symbol=Variable(name='Y'), arguments=()), Term(termType=<TermType.VARIABLE: 1>, symbol=Variable(name='X'), arguments=()))),)),\n Rule(head=Term(termType=<TermType.FUNCTION: 0>, symbol='child', arguments=(Term(termType=<TermType.VARIABLE: 1>, symbol=Variable(name='X'), arguments=()), Term(termType=<TermType.VARIABLE: 1>, symbol=Variable(name='Y'), arguments=()))), body=(Term(termType=<TermType.FUNCTION: 0>, symbol='father', arguments=(Term(termType=<TermType.VARIABLE: 1>, symbol=Variable(name='Y'), arguments=()), Term(termType=<TermType.VARIABLE: 1>, symbol=Variable(name='X'), arguments=()))),)),\n Rule(head=Term(termType=<TermType.FUNCTION: 0>, symbol='son', arguments=(Term(termType=<TermType.VARIABLE: 1>, symbol=Variable(name='X'), arguments=()), Term(termType=<TermType.VARIABLE: 1>, symbol=Variable(name='Y'), arguments=()))), body=(Term(termType=<TermType.FUNCTION: 0>, symbol='child', arguments=(Term(termType=<TermType.VARIABLE: 1>, symbol=Variable(name='X'), arguments=()), Term(termType=<TermType.VARIABLE: 1>, symbol=Variable(name='Y'), arguments=()))), Term(termType=<TermType.FUNCTION: 0>, symbol='boy', arguments=(Term(termType=<TermType.VARIABLE: 1>, symbol=Variable(name='X'), arguments=()),)))),\n Rule(head=Term(termType=<TermType.FUNCTION: 0>, symbol='boy', arguments=(Term(termType=<TermType.FUNCTION: 0>, symbol='bill', arguments=()),)), body=()),\n Rule(head=Term(termType=<TermType.FUNCTION: 0>, symbol='boy', arguments=(Term(termType=<TermType.FUNCTION: 0>, symbol='frank', arguments=()),)), body=()),\n Rule(head=Term(termType=<TermType.FUNCTION: 0>, symbol='mother', arguments=(Term(termType=<TermType.FUNCTION: 0>, symbol='alice', arguments=()), Term(termType=<TermType.FUNCTION: 0>, symbol='bill', arguments=()))), body=()),\n Rule(head=Term(termType=<TermType.FUNCTION: 0>, symbol='father', arguments=(Term(termType=<TermType.FUNCTION: 0>, symbol='alex', arguments=()), Term(termType=<TermType.FUNCTION: 0>, symbol='bill', arguments=()))), body=())]"
     },
     "execution_count": 62,
     "metadata": {},
     "output_type": "execute_result"
    }
   ],
   "source": [
    "asp_to_prolog_transformer = ASPToPrologTransformer()\n",
    "clingo.ast.parse_string(program, lambda stm: asp_to_prolog_transformer.visit(stm))\n",
    "prolog_program = asp_to_prolog_transformer.prolog_program\n",
    "print('\\n'.join(map(str, prolog_program)))\n",
    "prolog_program"
   ],
   "metadata": {
    "collapsed": false,
    "pycharm": {
     "name": "#%%\n"
    }
   }
  },
  {
   "cell_type": "code",
   "execution_count": 63,
   "outputs": [],
   "source": [
    "A = Term.new_variable('A')\n",
    "bill = Term.new_constant('bill')\n",
    "\n",
    "search_term = Term.new_function('son', (bill, A))"
   ],
   "metadata": {
    "collapsed": false,
    "pycharm": {
     "name": "#%%\n"
    }
   }
  },
  {
   "cell_type": "code",
   "execution_count": 64,
   "outputs": [
    {
     "name": "stdout",
     "output_type": "stream",
     "text": [
      "{Variable(name='A'): Term(termType=<TermType.FUNCTION: 0>, symbol='alex', arguments=())}\n",
      "{Variable(name='A'): Term(termType=<TermType.FUNCTION: 0>, symbol='alice', arguments=())}\n"
     ]
    },
    {
     "data": {
      "text/plain": "([{Variable(name='A'): Term(termType=<TermType.FUNCTION: 0>, symbol='alex', arguments=())},\n  {Variable(name='A'): Term(termType=<TermType.FUNCTION: 0>, symbol='alice', arguments=())}],\n [Goal(goal=Rule(head=Term(termType=<TermType.FUNCTION: 0>, symbol=None, arguments=()), body=(Term(termType=<TermType.FUNCTION: 0>, symbol='son', arguments=(Term(termType=<TermType.FUNCTION: 0>, symbol='bill', arguments=()), Term(termType=<TermType.VARIABLE: 1>, symbol=Variable(name='A'), arguments=()))),)), parent=None, children=[Goal(goal=Rule(head=Term(termType=<TermType.FUNCTION: 0>, symbol='son', arguments=(Term(termType=<TermType.VARIABLE: 1>, symbol=Variable(name='X'), arguments=()), Term(termType=<TermType.VARIABLE: 1>, symbol=Variable(name='Y'), arguments=()))), body=(Term(termType=<TermType.FUNCTION: 0>, symbol='child', arguments=(Term(termType=<TermType.VARIABLE: 1>, symbol=Variable(name='X'), arguments=()), Term(termType=<TermType.VARIABLE: 1>, symbol=Variable(name='Y'), arguments=()))), Term(termType=<TermType.FUNCTION: 0>, symbol='boy', arguments=(Term(termType=<TermType.VARIABLE: 1>, symbol=Variable(name='X'), arguments=()),)))), parent=..., children=[Goal(goal=Rule(head=Term(termType=<TermType.FUNCTION: 0>, symbol='child', arguments=(Term(termType=<TermType.VARIABLE: 1>, symbol=Variable(name='X'), arguments=()), Term(termType=<TermType.VARIABLE: 1>, symbol=Variable(name='Y'), arguments=()))), body=(Term(termType=<TermType.FUNCTION: 0>, symbol='mother', arguments=(Term(termType=<TermType.VARIABLE: 1>, symbol=Variable(name='Y'), arguments=()), Term(termType=<TermType.VARIABLE: 1>, symbol=Variable(name='X'), arguments=()))),)), parent=..., children=[], env={Variable(name='X'): Term(termType=<TermType.FUNCTION: 0>, symbol='bill', arguments=())}, inx=0), Goal(goal=Rule(head=Term(termType=<TermType.FUNCTION: 0>, symbol='child', arguments=(Term(termType=<TermType.VARIABLE: 1>, symbol=Variable(name='X'), arguments=()), Term(termType=<TermType.VARIABLE: 1>, symbol=Variable(name='Y'), arguments=()))), body=(Term(termType=<TermType.FUNCTION: 0>, symbol='father', arguments=(Term(termType=<TermType.VARIABLE: 1>, symbol=Variable(name='Y'), arguments=()), Term(termType=<TermType.VARIABLE: 1>, symbol=Variable(name='X'), arguments=()))),)), parent=..., children=[Goal(goal=Rule(head=Term(termType=<TermType.FUNCTION: 0>, symbol='father', arguments=(Term(termType=<TermType.FUNCTION: 0>, symbol='alex', arguments=()), Term(termType=<TermType.FUNCTION: 0>, symbol='bill', arguments=()))), body=()), parent=..., children=[], env={}, inx=0)], env={Variable(name='X'): Term(termType=<TermType.FUNCTION: 0>, symbol='bill', arguments=()), Variable(name='Y'): Term(termType=<TermType.FUNCTION: 0>, symbol='alex', arguments=())}, inx=1), Goal(goal=Rule(head=Term(termType=<TermType.FUNCTION: 0>, symbol='boy', arguments=(Term(termType=<TermType.FUNCTION: 0>, symbol='bill', arguments=()),)), body=()), parent=..., children=[], env={}, inx=0)], env={Variable(name='X'): Term(termType=<TermType.FUNCTION: 0>, symbol='bill', arguments=()), Variable(name='Y'): Term(termType=<TermType.FUNCTION: 0>, symbol='alex', arguments=())}, inx=2)], env={Variable(name='A'): Term(termType=<TermType.FUNCTION: 0>, symbol='alex', arguments=())}, inx=1),\n  Goal(goal=Rule(head=Term(termType=<TermType.FUNCTION: 0>, symbol=None, arguments=()), body=(Term(termType=<TermType.FUNCTION: 0>, symbol='son', arguments=(Term(termType=<TermType.FUNCTION: 0>, symbol='bill', arguments=()), Term(termType=<TermType.VARIABLE: 1>, symbol=Variable(name='A'), arguments=()))),)), parent=None, children=[Goal(goal=Rule(head=Term(termType=<TermType.FUNCTION: 0>, symbol='son', arguments=(Term(termType=<TermType.VARIABLE: 1>, symbol=Variable(name='X'), arguments=()), Term(termType=<TermType.VARIABLE: 1>, symbol=Variable(name='Y'), arguments=()))), body=(Term(termType=<TermType.FUNCTION: 0>, symbol='child', arguments=(Term(termType=<TermType.VARIABLE: 1>, symbol=Variable(name='X'), arguments=()), Term(termType=<TermType.VARIABLE: 1>, symbol=Variable(name='Y'), arguments=()))), Term(termType=<TermType.FUNCTION: 0>, symbol='boy', arguments=(Term(termType=<TermType.VARIABLE: 1>, symbol=Variable(name='X'), arguments=()),)))), parent=..., children=[Goal(goal=Rule(head=Term(termType=<TermType.FUNCTION: 0>, symbol='child', arguments=(Term(termType=<TermType.VARIABLE: 1>, symbol=Variable(name='X'), arguments=()), Term(termType=<TermType.VARIABLE: 1>, symbol=Variable(name='Y'), arguments=()))), body=(Term(termType=<TermType.FUNCTION: 0>, symbol='mother', arguments=(Term(termType=<TermType.VARIABLE: 1>, symbol=Variable(name='Y'), arguments=()), Term(termType=<TermType.VARIABLE: 1>, symbol=Variable(name='X'), arguments=()))),)), parent=..., children=[Goal(goal=Rule(head=Term(termType=<TermType.FUNCTION: 0>, symbol='mother', arguments=(Term(termType=<TermType.FUNCTION: 0>, symbol='alice', arguments=()), Term(termType=<TermType.FUNCTION: 0>, symbol='bill', arguments=()))), body=()), parent=..., children=[], env={}, inx=0)], env={Variable(name='X'): Term(termType=<TermType.FUNCTION: 0>, symbol='bill', arguments=()), Variable(name='Y'): Term(termType=<TermType.FUNCTION: 0>, symbol='alice', arguments=())}, inx=1), Goal(goal=Rule(head=Term(termType=<TermType.FUNCTION: 0>, symbol='child', arguments=(Term(termType=<TermType.VARIABLE: 1>, symbol=Variable(name='X'), arguments=()), Term(termType=<TermType.VARIABLE: 1>, symbol=Variable(name='Y'), arguments=()))), body=(Term(termType=<TermType.FUNCTION: 0>, symbol='father', arguments=(Term(termType=<TermType.VARIABLE: 1>, symbol=Variable(name='Y'), arguments=()), Term(termType=<TermType.VARIABLE: 1>, symbol=Variable(name='X'), arguments=()))),)), parent=..., children=[Goal(goal=Rule(head=Term(termType=<TermType.FUNCTION: 0>, symbol='father', arguments=(Term(termType=<TermType.FUNCTION: 0>, symbol='alex', arguments=()), Term(termType=<TermType.FUNCTION: 0>, symbol='bill', arguments=()))), body=()), parent=..., children=[], env={}, inx=0)], env={Variable(name='X'): Term(termType=<TermType.FUNCTION: 0>, symbol='bill', arguments=())}, inx=0), Goal(goal=Rule(head=Term(termType=<TermType.FUNCTION: 0>, symbol='boy', arguments=(Term(termType=<TermType.FUNCTION: 0>, symbol='bill', arguments=()),)), body=()), parent=..., children=[], env={}, inx=0)], env={Variable(name='X'): Term(termType=<TermType.FUNCTION: 0>, symbol='bill', arguments=()), Variable(name='Y'): Term(termType=<TermType.FUNCTION: 0>, symbol='alice', arguments=())}, inx=2)], env={Variable(name='A'): Term(termType=<TermType.FUNCTION: 0>, symbol='alice', arguments=())}, inx=1)])"
     },
     "execution_count": 64,
     "metadata": {},
     "output_type": "execute_result"
    }
   ],
   "source": [
    "search(search_term, prolog_program)"
   ],
   "metadata": {
    "collapsed": false,
    "pycharm": {
     "name": "#%%\n"
    }
   }
  },
  {
   "cell_type": "code",
   "execution_count": 64,
   "outputs": [],
   "source": [],
   "metadata": {
    "collapsed": false,
    "pycharm": {
     "name": "#%%\n"
    }
   }
  }
 ],
 "metadata": {
  "kernelspec": {
   "display_name": "Python 3",
   "language": "python",
   "name": "python3"
  },
  "language_info": {
   "codemirror_mode": {
    "name": "ipython",
    "version": 2
   },
   "file_extension": ".py",
   "mimetype": "text/x-python",
   "name": "python",
   "nbconvert_exporter": "python",
   "pygments_lexer": "ipython2",
   "version": "2.7.6"
  }
 },
 "nbformat": 4,
 "nbformat_minor": 0
}