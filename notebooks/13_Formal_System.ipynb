{
 "cells": [
  {
   "cell_type": "code",
   "execution_count": 301,
   "metadata": {
    "collapsed": true
   },
   "outputs": [],
   "source": [
    "import sys\n",
    "\n",
    "sys.path.append(\"..\")"
   ]
  },
  {
   "cell_type": "code",
   "execution_count": 302,
   "outputs": [],
   "source": [
    "from util.run import solve"
   ],
   "metadata": {
    "collapsed": false,
    "pycharm": {
     "name": "#%%\n"
    }
   }
  },
  {
   "cell_type": "code",
   "execution_count": 303,
   "outputs": [
    {
     "name": "stdout",
     "output_type": "stream",
     "text": [
      "Answer  1: { agent(\"Käufer\") agent(\"Verkäufer\") time(0) time(1) time(2) time(3) time(4) time(5) time(6) time(7) commodity_type(\"EUR\",\"Gattung\") commodity_type(\"Ware\",\"Spezies\") }.\n",
      "SAT 1 \n"
     ]
    }
   ],
   "source": [
    "domain = \"\"\"\n",
    "time(0..7).\n",
    "agent(\"Käufer\";\"Verkäufer\").\n",
    "commodity_type(\"EUR\", \"Gattung\").\n",
    "commodity_type(\"Ware\", \"Spezies\").\n",
    "\"\"\"\n",
    "solve(domain);"
   ],
   "metadata": {
    "collapsed": false,
    "pycharm": {
     "name": "#%%\n"
    }
   }
  },
  {
   "cell_type": "code",
   "execution_count": 304,
   "outputs": [
    {
     "name": "stdout",
     "output_type": "stream",
     "text": [
      "Answer  1: {  }.\n",
      "SAT 1 \n"
     ]
    }
   ],
   "source": [
    "common_accounts = \"\"\"\n",
    "\n",
    "agent_account_sign(Agent, \"Aktiva\", 1) :- agent(Agent).\n",
    "agent_account_sign(Agent, \"Passiva\", -1) :- agent(Agent).\n",
    "\n",
    "agent_account_sign(Agent, Subaccount, ParentSign) :-\n",
    "  agent_account_sign(Agent, ParentAccount, ParentSign),\n",
    "  agent_account_directSubaccount(Agent, ParentAccount, Subaccount).\n",
    "\n",
    "agent_account_directSubaccount(Agent, \"Aktiva\", \"Aktiva:Forderungen\") :- agent(Agent).\n",
    "agent_account_directSubaccount(Agent, \"Aktiva\", \"Aktiva:Vermögen\") :- agent(Agent).\n",
    "agent_account_directSubaccount(Agent, \"Aktiva:Vermögen\", \"Aktiva:Vermögen:Kassa\") :- agent(Agent).\n",
    "agent_account_directSubaccount(Agent, \"Aktiva:Vermögen\", \"Aktiva:Vermögen:Lager\") :- agent(Agent).\n",
    "agent_account_directSubaccount(Agent, \"Aktiva:Vermögen:Kassa\", \"Aktiva:Vermögen:Kassa:EUR\") :- agent(Agent).\n",
    "agent_account_directSubaccount(Agent, \"Aktiva:Vermögen:Lager\", \"Aktiva:Vermögen:Lager:Ware\") :- agent(Agent).\n",
    "agent_account_directSubaccount(Agent, \"Passiva\", \"Passiva:Verbindlichkeiten\") :- agent(Agent).\n",
    "agent_account_directSubaccount(Agent, \"Passiva\", \"Passiva:Übergabe\") :- agent(Agent).\n",
    "\n",
    "agent_transactionalAccount_commodity(Agent, \"Aktiva:Vermögen:Kassa:EUR\", \"EUR\") :- agent(Agent).\n",
    "agent_transactionalAccount_commodity(Agent, \"Aktiva:Vermögen:Lager:Ware\", \"Ware\") :- agent(Agent).\n",
    "\n",
    "\"\"\"\n",
    "solve(common_accounts);"
   ],
   "metadata": {
    "collapsed": false,
    "pycharm": {
     "name": "#%%\n"
    }
   }
  },
  {
   "cell_type": "code",
   "execution_count": 305,
   "outputs": [
    {
     "name": "stdout",
     "output_type": "stream",
     "text": [
      "Answer  1: { agent_account_directSubaccount(\"Verkäufer\",\"Aktiva:Forderungen\",\"Aktiva:Forderungen:Zahlungsforderungen\") agent_account_directSubaccount(\"Verkäufer\",\"Aktiva:Forderungen:Zahlungsforderungen\",\"Aktiva:Forderungen:Zahlungsforderungen:Käufer\") agent_account_directSubaccount(\"Verkäufer\",\"Aktiva:Forderungen:Zahlungsforderungen:Käufer\",\"Aktiva:Forderungen:Zahlungsforderungen:Käufer:EUR\") agent_account_directSubaccount(\"Verkäufer\",\"Passiva\",\"Passiva:Lieferungen\") agent_account_directSubaccount(\"Verkäufer\",\"Passiva:Lieferungen\",\"Passiva:Lieferungen:Käufer\") agent_account_directSubaccount(\"Verkäufer\",\"Passiva:Lieferungen:Käufer\",\"Passiva:Lieferungen:Käufer:Ware\") agent_account_directSubaccount(\"Verkäufer\",\"Passiva:Verbindlichkeiten\",\"Passiva:Verbindlichkeiten:Lieferverbindlichkeiten\") agent_account_directSubaccount(\"Verkäufer\",\"Passiva:Verbindlichkeiten:Lieferverbindlichkeiten\",\"Passiva:Verbindlichkeiten:Lieferverbindlichkeiten:Käufer\") agent_account_directSubaccount(\"Verkäufer\",\"Passiva:Verbindlichkeiten:Lieferverbindlichkeiten:Käufer\",\"Passiva:Verbindlichkeiten:Lieferverbindlichkeiten:Käufer:Ware\") agent_account_directSubaccount(\"Verkäufer\",\"Passiva:Übergabe\",\"Passiva:Übergabe:Käufer\") agent_account_directSubaccount(\"Verkäufer\",\"Passiva:Übergabe:Käufer\",\"Passiva:Übergabe:Käufer:Ware\") agent_transactionalAccount_commodity(\"Verkäufer\",\"Aktiva:Forderungen:Zahlungsforderungen:Käufer:EUR\",\"EUR\") agent_transactionalAccount_commodity(\"Verkäufer\",\"Passiva:Lieferungen:Käufer:Ware\",\"Ware\") agent_transactionalAccount_commodity(\"Verkäufer\",\"Passiva:Verbindlichkeiten:Lieferverbindlichkeiten:Käufer:Ware\",\"Ware\") agent_transactionalAccount_commodity(\"Verkäufer\",\"Passiva:Übergabe:Käufer:Ware\",\"Ware\") }.\n",
      "SAT 1 \n"
     ]
    }
   ],
   "source": [
    "seller_accounts = \"\"\"\n",
    "\n",
    "agent_account_directSubaccount(\"Verkäufer\", \"Aktiva:Forderungen\",\n",
    "                                            \"Aktiva:Forderungen:Zahlungsforderungen\").\n",
    "agent_account_directSubaccount(\"Verkäufer\", \"Aktiva:Forderungen:Zahlungsforderungen\",\n",
    "                                            \"Aktiva:Forderungen:Zahlungsforderungen:Käufer\").\n",
    "agent_account_directSubaccount(\"Verkäufer\", \"Aktiva:Forderungen:Zahlungsforderungen:Käufer\",\n",
    "                                            \"Aktiva:Forderungen:Zahlungsforderungen:Käufer:EUR\").\n",
    "\n",
    "agent_transactionalAccount_commodity(\"Verkäufer\", \"Aktiva:Forderungen:Zahlungsforderungen:Käufer:EUR\", \"EUR\").\n",
    "\n",
    "agent_account_directSubaccount(\"Verkäufer\", \"Passiva:Verbindlichkeiten\",\n",
    "                                            \"Passiva:Verbindlichkeiten:Lieferverbindlichkeiten\").\n",
    "agent_account_directSubaccount(\"Verkäufer\", \"Passiva:Verbindlichkeiten:Lieferverbindlichkeiten\",\n",
    "                                            \"Passiva:Verbindlichkeiten:Lieferverbindlichkeiten:Käufer\").\n",
    "agent_account_directSubaccount(\"Verkäufer\", \"Passiva:Verbindlichkeiten:Lieferverbindlichkeiten:Käufer\",\n",
    "                                            \"Passiva:Verbindlichkeiten:Lieferverbindlichkeiten:Käufer:Ware\").\n",
    "\n",
    "agent_transactionalAccount_commodity(\"Verkäufer\",\"Passiva:Verbindlichkeiten:Lieferverbindlichkeiten:Käufer:Ware\", \"Ware\").\n",
    "\n",
    "\n",
    "agent_account_directSubaccount(\"Verkäufer\", \"Passiva\",\n",
    "                                            \"Passiva:Lieferungen\").\n",
    "agent_account_directSubaccount(\"Verkäufer\", \"Passiva:Lieferungen\",\n",
    "                                            \"Passiva:Lieferungen:Käufer\").\n",
    "agent_account_directSubaccount(\"Verkäufer\", \"Passiva:Lieferungen:Käufer\",\n",
    "                                            \"Passiva:Lieferungen:Käufer:Ware\").\n",
    "\n",
    "agent_transactionalAccount_commodity(\"Verkäufer\",\"Passiva:Lieferungen:Käufer:Ware\", \"Ware\").\n",
    "\n",
    "\n",
    "agent_account_directSubaccount(\"Verkäufer\", \"Passiva:Übergabe\",\n",
    "                                            \"Passiva:Übergabe:Käufer\").\n",
    "\n",
    "agent_account_directSubaccount(\"Verkäufer\", \"Passiva:Übergabe:Käufer\",\n",
    "                                            \"Passiva:Übergabe:Käufer:Ware\").\n",
    "\n",
    "agent_transactionalAccount_commodity(\"Verkäufer\",\"Passiva:Übergabe:Käufer:Ware\", \"Ware\").\n",
    "\"\"\"\n",
    "solve(seller_accounts);"
   ],
   "metadata": {
    "collapsed": false,
    "pycharm": {
     "name": "#%%\n"
    }
   }
  },
  {
   "cell_type": "code",
   "execution_count": 306,
   "outputs": [
    {
     "name": "stdout",
     "output_type": "stream",
     "text": [
      "Answer  1: { agent_account_directSubaccount(\"Käufer\",\"Aktiva:Forderungen\",\"Aktiva:Forderungen:Lieferforderungen\") agent_account_directSubaccount(\"Käufer\",\"Aktiva:Forderungen:Lieferforderungen\",\"Aktiva:Forderungen:Lieferforderungen:Verkäufer\") agent_account_directSubaccount(\"Käufer\",\"Aktiva:Forderungen:Lieferforderungen:Verkäufer\",\"Aktiva:Forderungen:Lieferforderungen:Verkäufer:Ware\") agent_account_directSubaccount(\"Käufer\",\"Passiva:Verbindlichkeiten\",\"Passiva:Verbindlichkeiten:Zahlungsverbindlichkeiten\") agent_account_directSubaccount(\"Käufer\",\"Passiva:Verbindlichkeiten:Zahlungsverbindlichkeiten\",\"Passiva:Verbindlichkeiten:Zahlungsverbindlichkeiten:Verkäufer\") agent_account_directSubaccount(\"Käufer\",\"Passiva:Verbindlichkeiten:Zahlungsverbindlichkeiten:Verkäufer\",\"Passiva:Verbindlichkeiten:Zahlungsverbindlichkeiten:Verkäufer:EUR\") agent_account_directSubaccount(\"Käufer\",\"Passiva:Übergabe\",\"Passiva:Übergabe:Verkäufer\") agent_account_directSubaccount(\"Käufer\",\"Passiva:Übergabe:Verkäufer\",\"Passiva:Übergabe:Verkäufer:EUR\") agent_transactionalAccount_commodity(\"Käufer\",\"Aktiva:Forderungen:Lieferforderungen:Verkäufer:Ware\",\"Ware\") agent_transactionalAccount_commodity(\"Käufer\",\"Passiva:Verbindlichkeiten:Zahlungsverbindlichkeiten:Verkäufer:EUR\",\"EUR\") agent_transactionalAccount_commodity(\"Käufer\",\"Passiva:Übergabe:Verkäufer:EUR\",\"EUR\") }.\n",
      "SAT 1 \n"
     ]
    }
   ],
   "source": [
    "buyer_accounts = \"\"\"\n",
    "\n",
    "agent_account_directSubaccount(\"Käufer\", \"Aktiva:Forderungen\",\n",
    "                                         \"Aktiva:Forderungen:Lieferforderungen\").\n",
    "agent_account_directSubaccount(\"Käufer\", \"Aktiva:Forderungen:Lieferforderungen\",\n",
    "                                         \"Aktiva:Forderungen:Lieferforderungen:Verkäufer\").\n",
    "agent_account_directSubaccount(\"Käufer\", \"Aktiva:Forderungen:Lieferforderungen:Verkäufer\",\n",
    "                                         \"Aktiva:Forderungen:Lieferforderungen:Verkäufer:Ware\").\n",
    "\n",
    "agent_transactionalAccount_commodity(\"Käufer\", \"Aktiva:Forderungen:Lieferforderungen:Verkäufer:Ware\", \"Ware\").\n",
    "\n",
    "agent_account_directSubaccount(\"Käufer\", \"Passiva:Verbindlichkeiten\",\n",
    "                                         \"Passiva:Verbindlichkeiten:Zahlungsverbindlichkeiten\").\n",
    "agent_account_directSubaccount(\"Käufer\", \"Passiva:Verbindlichkeiten:Zahlungsverbindlichkeiten\",\n",
    "                                         \"Passiva:Verbindlichkeiten:Zahlungsverbindlichkeiten:Verkäufer\").\n",
    "agent_account_directSubaccount(\"Käufer\", \"Passiva:Verbindlichkeiten:Zahlungsverbindlichkeiten:Verkäufer\",\n",
    "                                         \"Passiva:Verbindlichkeiten:Zahlungsverbindlichkeiten:Verkäufer:EUR\").\n",
    "\n",
    "agent_transactionalAccount_commodity(\"Käufer\", \"Passiva:Verbindlichkeiten:Zahlungsverbindlichkeiten:Verkäufer:EUR\", \"EUR\").\n",
    "\n",
    "\n",
    "agent_account_directSubaccount(\"Käufer\", \"Passiva:Übergabe\",\n",
    "                                         \"Passiva:Übergabe:Verkäufer\").\n",
    "agent_account_directSubaccount(\"Käufer\", \"Passiva:Übergabe:Verkäufer\",\n",
    "                                         \"Passiva:Übergabe:Verkäufer:EUR\").\n",
    "\n",
    "agent_transactionalAccount_commodity(\"Käufer\", \"Passiva:Übergabe:Verkäufer:EUR\", \"EUR\").\n",
    "\n",
    "\"\"\"\n",
    "\n",
    "solve(buyer_accounts);"
   ],
   "metadata": {
    "collapsed": false,
    "pycharm": {
     "name": "#%%\n"
    }
   }
  },
  {
   "cell_type": "code",
   "execution_count": 307,
   "outputs": [
    {
     "name": "stdout",
     "output_type": "stream",
     "text": [
      "Answer  1: {  }.\n",
      "SAT 1 \n"
     ]
    }
   ],
   "source": [
    "initial_balance_rules = \"\"\"\n",
    "\n",
    "obs_at(agent_account_balance_commodity(Agent, Account, InitialBalance, Commodity), StartTime) :-\n",
    "  agent_account_initialBalance(Agent, Account, InitialBalance),\n",
    "  agent_transactionalAccount_commodity(Agent, Account, Commodity),\n",
    "  time(StartTime), not time(StartTime - 1).\n",
    "\n",
    "\n",
    "%% Default balance is 0\n",
    "obs_at(agent_account_balance_commodity(Agent, Account, 0, Commodity), StartTime) :-\n",
    "  agent_transactionalAccount_commodity(Agent, Account, Commodity),\n",
    "  not agent_account_initialBalance(Agent, Account, _),\n",
    "  time(StartTime), not time(StartTime - 1).\n",
    "\n",
    "\"\"\"\n",
    "solve(initial_balance_rules);"
   ],
   "metadata": {
    "collapsed": false,
    "pycharm": {
     "name": "#%%\n"
    }
   }
  },
  {
   "cell_type": "code",
   "execution_count": 308,
   "outputs": [
    {
     "name": "stdout",
     "output_type": "stream",
     "text": [
      "Answer  1: {  }.\n",
      "SAT 1 \n"
     ]
    }
   ],
   "source": [
    "inertia_balance_rules = \"\"\"\n",
    "\n",
    "obs_at(agent_account_balance_commodity(Agent, Account, Balance, Commodity), T + 1) :-\n",
    "  time(T),\n",
    "  obs_at(agent_account_balance_commodity(Agent, Account, Balance, Commodity), T),\n",
    "  not occ_at(agent_account_debitAmount_commodity(Agent, Account, _, Commodity), T),\n",
    "  not occ_at(agent_account_creditAmount_commodity(Agent, Account, _, Commodity), T).\n",
    "\n",
    "\"\"\"\n",
    "solve(inertia_balance_rules);"
   ],
   "metadata": {
    "collapsed": false,
    "pycharm": {
     "name": "#%%\n"
    }
   }
  },
  {
   "cell_type": "code",
   "execution_count": 309,
   "outputs": [
    {
     "name": "stdout",
     "output_type": "stream",
     "text": [
      "Answer  1: {  }.\n",
      "SAT 1 \n"
     ]
    }
   ],
   "source": [
    "transaction_rules = \"\"\"\n",
    "\n",
    "occ_at(agent_account_debitAmount_commodity(DebitAgent, DebitAccount, Amount, Commodity), T) :-\n",
    "  occ_at(agent_debitAccount_agent_creditAccount_amount_commodity(DebitAgent, DebitAccount, CreditAgent, CreditAccount, Amount, Commodity), T).\n",
    "\n",
    "occ_at(agent_account_creditAmount_commodity(CreditAgent, CreditAccount, Amount, Commodity), T) :-\n",
    "  occ_at(agent_debitAccount_agent_creditAccount_amount_commodity(DebitAgent, DebitAccount, CreditAgent, CreditAccount, Amount, Commodity), T).\n",
    "\n",
    "occ_at(agent_debitAccount_agent_creditAccount_amount_commodity(Agent, DebitAccount, Agent, CreditAccount, Amount, Commodity), T) :-\n",
    "  occ_at(agent_debitAccount_creditAccount_amount_commodity(Agent, DebitAccount, CreditAccount, Amount, Commodity), T).\n",
    "\n",
    "obs_at(agent_account_balance_commodity(Agent, Account, NextBalance, Commodity), T + 1) :-\n",
    "  obs_at(agent_account_balance_commodity(Agent, Account, PreviousBalance, Commodity), T),\n",
    "  agent_account_sign(Agent, Account, Sign),\n",
    "  occ_at(agent_account_debitAmount_commodity(Agent, Account, DebitAmount, Commodity), T),\n",
    "  NextBalance = PreviousBalance + (DebitAmount * Sign).\n",
    "\n",
    "obs_at(agent_account_balance_commodity(Agent, Account, NextBalance, Commodity), T + 1) :-\n",
    "  obs_at(agent_account_balance_commodity(Agent, Account, PreviousBalance, Commodity), T),\n",
    "  agent_account_sign(Agent, Account, Sign),\n",
    "  occ_at(agent_account_creditAmount_commodity(Agent, Account, CreditAmount, Commodity), T),\n",
    "  NextBalance = PreviousBalance - (CreditAmount * Sign).\n",
    "\n",
    "\"\"\"\n",
    "\n",
    "solve(transaction_rules);"
   ],
   "metadata": {
    "collapsed": false,
    "pycharm": {
     "name": "#%%\n"
    }
   }
  },
  {
   "cell_type": "code",
   "execution_count": 310,
   "outputs": [
    {
     "name": "stdout",
     "output_type": "stream",
     "text": [
      "Answer  1: { agent_action(\"Käufer\",\"Startet Überweisung\") agent_action(\"Käufer\",\"Übernimmt Ware\") agent_action(\"Verkäufer\",\"Nimmt Überweisung an\") agent_action(\"Verkäufer\",\"Startet Lieferung\") agent_action(\"Verkäufer\",\"Übergibt Ware\") }.\n",
      "SAT 1 \n"
     ]
    }
   ],
   "source": [
    "agent_actions = \"\"\"\n",
    "\n",
    "agent_action(Agent, \"Unterschreibt Vertrag\") :- agent(Agent).\n",
    "agent_action(Agent, \"Unterschreibt Vertrag\") :- agent(Agent).\n",
    "\n",
    "agent_action(\"Käufer\", \"Startet Überweisung\").\n",
    "agent_action(\"Käufer\", \"Übernimmt Ware\").\n",
    "\n",
    "agent_action(\"Verkäufer\", \"Nimmt Überweisung an\").\n",
    "agent_action(\"Verkäufer\", \"Startet Lieferung\").\n",
    "agent_action(\"Verkäufer\", \"Übergibt Ware\").\n",
    "\n",
    "\"\"\"\n",
    "\n",
    "solve(agent_actions);"
   ],
   "metadata": {
    "collapsed": false,
    "pycharm": {
     "name": "#%%\n"
    }
   }
  },
  {
   "cell_type": "code",
   "execution_count": 311,
   "outputs": [
    {
     "name": "stdout",
     "output_type": "stream",
     "text": [
      "Answer  1: {  }.\n",
      "SAT 1 \n"
     ]
    }
   ],
   "source": [
    "action_consequences = \"\"\"\n",
    "\n",
    "occ_at(\"Vertragsschluss\", TV) :-\n",
    "  TK <= TV,\n",
    "  agent_does_at(\"Käufer\", \"Unterschreibt Vertrag\", TK),\n",
    "  agent_does_at(\"Verkäufer\", \"Unterschreibt Vertrag\", TV).\n",
    "\n",
    "occ_at(\"Vertragsschluss\", TK) :-\n",
    "  TK > TV,\n",
    "  agent_does_at(\"Käufer\", \"Unterschreibt Vertrag\", TK),\n",
    "  agent_does_at(\"Verkäufer\", \"Unterschreibt Vertrag\", TV).\n",
    "\n",
    "occ_at(agent_debitAccount_creditAccount_amount_commodity(\"Käufer\",\n",
    "                                                         \"Passiva:Übergabe:Verkäufer:EUR\",\n",
    "                                                         \"Aktiva:Vermögen:Kassa:EUR\",\n",
    "                                                         100, \"EUR\"), T) :-\n",
    "  agent_does_at(\"Käufer\", \"Startet Überweisung\", T).\n",
    "\n",
    "occ_at(agent_debitAccount_creditAccount_amount_commodity(\"Käufer\",\n",
    "                                                         \"Passiva:Verbindlichkeiten:Zahlungsverbindlichkeiten:Verkäufer:EUR\",\n",
    "                                                         \"Passiva:Übergabe:Verkäufer:EUR\",\n",
    "                                                         100, \"EUR\"), T) :-\n",
    "  agent_does_at(\"Verkäufer\", \"Nimmt Überweisung an\", T).\n",
    "\n",
    "occ_at(agent_debitAccount_creditAccount_amount_commodity(\"Verkäufer\",\n",
    "                                                         \"Aktiva:Vermögen:Kassa:EUR\",\n",
    "                                                         \"Aktiva:Forderung:Zahlungsforderungen:Käufer:EUR\",\n",
    "                                                         100, \"EUR\"), T) :-\n",
    "  agent_does_at(\"Verkäufer\", \"Nimmt Überweisung an\", T).\n",
    "\n",
    "occ_at(agent_debitAccount_creditAccount_amount_commodity(\"Verkäufer\",\n",
    "                                                         \"Passiva:Lieferungen:Käufer:Ware\",\n",
    "                                                         \"Aktiva:Vermögen:Lager:Ware\",\n",
    "                                                         1, \"Ware\"), T) :-\n",
    "  agent_does_at(\"Verkäufer\", \"Beginnt Lieferung\", T).\n",
    "\n",
    "occ_at(agent_debitAccount_creditAccount_amount_commodity(\"Verkäufer\",\n",
    "                                                         \"Passiva:Lieferungen:Käufer:Ware\",\n",
    "                                                         \"Aktiva:Vermögen:Lager:Ware\",\n",
    "                                                         1, \"Ware\"), T) :-\n",
    "  agent_does_at(\"Verkäufer\", \"Startet Lieferung\", T).\n",
    "\n",
    "occ_at(agent_debitAccount_creditAccount_amount_commodity(\"Verkäufer\",\n",
    "                                                         \"Passiva:Übergabe:Käufer:Ware\",\n",
    "                                                         \"Passiva:Lieferungen:Käufer:Ware\",\n",
    "                                                         1, \"Ware\"), T) :-\n",
    "  agent_does_at(\"Verkäufer\", \"Übergibt Ware\", T).\n",
    "\n",
    "\n",
    "occ_at(agent_debitAccount_creditAccount_amount_commodity(\"Verkäufer\",\n",
    "                                                         \"Passiva:Verbindlichkeiten:Lieferverbindlichkeiten:Käufer:Ware\",\n",
    "                                                         \"Passiva:Übergabe:Käufer:Ware\",\n",
    "                                                         1, \"Ware\"), T) :-\n",
    "  agent_does_at(\"Käufer\", \"Übernimmt Ware\", T).\n",
    "\n",
    "occ_at(agent_debitAccount_creditAccount_amount_commodity(\"Käufer\",\n",
    "                                                         \"Aktiva:Vermögen:Lager:Ware\",\n",
    "                                                         \"Aktiva:Forderungen:Lieferforderungen:Verkäufer:Ware\",\n",
    "                                                         1, \"Ware\"), T) :-\n",
    "  agent_does_at(\"Käufer\", \"Übernimmt Ware\", T).\n",
    "\n",
    "\n",
    "\"\"\"\n",
    "solve(action_consequences);"
   ],
   "metadata": {
    "collapsed": false,
    "pycharm": {
     "name": "#%%\n"
    }
   }
  },
  {
   "cell_type": "code",
   "execution_count": 312,
   "outputs": [
    {
     "name": "stdout",
     "output_type": "stream",
     "text": [
      "Answer  1: {  }.\n",
      "SAT 1 \n"
     ]
    }
   ],
   "source": [
    "occ_consequences = \"\"\"\n",
    "\n",
    "occ_at(agent_debitAccount_agent_creditAccount_amount_commodity(\"Verkäufer\", \"Aktiva:Forderungen:Zahlungsforderungen:Käufer:EUR\",\n",
    "                                                               \"Käufer\", \"Passiva:Verbindlichkeiten:Zahlungsverbindlichkeiten:Verkäufer:EUR\",\n",
    "                                                               100, \"EUR\"), T) :-\n",
    "  occ_at(\"Vertragsschluss\", T).\n",
    "\n",
    "\n",
    "occ_at(agent_debitAccount_agent_creditAccount_amount_commodity(\"Käufer\", \"Aktiva:Forderungen:Lieferforderungen:Verkäufer:Ware\",\n",
    "                                                               \"Verkäufer\", \"Passiva:Verbindlichkeiten:Lieferverbindlichkeiten:Käufer:Ware\",\n",
    "                                                               1, \"Ware\"), T) :-\n",
    "  occ_at(\"Vertragsschluss\", T).\n",
    "\n",
    "\"\"\"\n",
    "\n",
    "solve(occ_consequences);"
   ],
   "metadata": {
    "collapsed": false,
    "pycharm": {
     "name": "#%%\n"
    }
   }
  },
  {
   "cell_type": "code",
   "execution_count": 313,
   "outputs": [],
   "source": [
    "instance_initial_balances = \"\"\"\n",
    "agent_account_initialBalance(\"Käufer\", \"Aktiva:Vermögen:Kassa:EUR\", 100).\n",
    "agent_account_initialBalance(\"Verkäufer\", \"Aktiva:Vermögen:Lager:Ware\", 1).\n",
    "\"\"\""
   ],
   "metadata": {
    "collapsed": false,
    "pycharm": {
     "name": "#%%\n"
    }
   }
  },
  {
   "cell_type": "code",
   "execution_count": 314,
   "outputs": [],
   "source": [
    "instance_agent_actions = \"\"\"\n",
    "\n",
    "agent_does_at(\"Käufer\", \"Unterschreibt Vertrag\", 1).\n",
    "agent_does_at(\"Verkäufer\", \"Unterschreibt Vertrag\", 1).\n",
    "\n",
    "agent_does_at(\"Käufer\", \"Startet Überweisung\", 2).\n",
    "agent_does_at(\"Verkäufer\", \"Nimmt Überweisung an\", 3).\n",
    "\n",
    "agent_does_at(\"Verkäufer\", \"Startet Lieferung\", 4).\n",
    "agent_does_at(\"Verkäufer\", \"Übergibt Ware\", 5).\n",
    "agent_does_at(\"Käufer\", \"Übernimmt Ware\", 6).\n",
    "\n",
    "\"\"\""
   ],
   "metadata": {
    "collapsed": false,
    "pycharm": {
     "name": "#%%\n"
    }
   }
  },
  {
   "cell_type": "code",
   "execution_count": 315,
   "outputs": [],
   "source": [
    "show = \"\"\"\n",
    "#show obs_at/2.\n",
    "#show occ_at/2.\n",
    "#show agent_does_at/3.\n",
    "\"\"\""
   ],
   "metadata": {
    "collapsed": false,
    "pycharm": {
     "name": "#%%\n"
    }
   }
  },
  {
   "cell_type": "code",
   "execution_count": 316,
   "outputs": [
    {
     "name": "stdout",
     "output_type": "stream",
     "text": [
      "Answer  1: {\n",
      "obs_at(agent_account_balance_commodity(\"Käufer\",\"Aktiva:Forderungen:Lieferforderungen:Verkäufer:Ware\",0,\"Ware\"),0)\n",
      "obs_at(agent_account_balance_commodity(\"Käufer\",\"Aktiva:Forderungen:Lieferforderungen:Verkäufer:Ware\",0,\"Ware\"),1)\n",
      "obs_at(agent_account_balance_commodity(\"Käufer\",\"Aktiva:Forderungen:Lieferforderungen:Verkäufer:Ware\",0,\"Ware\"),7)\n",
      "obs_at(agent_account_balance_commodity(\"Käufer\",\"Aktiva:Forderungen:Lieferforderungen:Verkäufer:Ware\",0,\"Ware\"),8)\n",
      "obs_at(agent_account_balance_commodity(\"Käufer\",\"Aktiva:Forderungen:Lieferforderungen:Verkäufer:Ware\",1,\"Ware\"),2)\n",
      "obs_at(agent_account_balance_commodity(\"Käufer\",\"Aktiva:Forderungen:Lieferforderungen:Verkäufer:Ware\",1,\"Ware\"),3)\n",
      "obs_at(agent_account_balance_commodity(\"Käufer\",\"Aktiva:Forderungen:Lieferforderungen:Verkäufer:Ware\",1,\"Ware\"),4)\n",
      "obs_at(agent_account_balance_commodity(\"Käufer\",\"Aktiva:Forderungen:Lieferforderungen:Verkäufer:Ware\",1,\"Ware\"),5)\n",
      "obs_at(agent_account_balance_commodity(\"Käufer\",\"Aktiva:Forderungen:Lieferforderungen:Verkäufer:Ware\",1,\"Ware\"),6)\n",
      "obs_at(agent_account_balance_commodity(\"Käufer\",\"Aktiva:Vermögen:Kassa:EUR\",0,\"EUR\"),3)\n",
      "obs_at(agent_account_balance_commodity(\"Käufer\",\"Aktiva:Vermögen:Kassa:EUR\",0,\"EUR\"),4)\n",
      "obs_at(agent_account_balance_commodity(\"Käufer\",\"Aktiva:Vermögen:Kassa:EUR\",0,\"EUR\"),5)\n",
      "obs_at(agent_account_balance_commodity(\"Käufer\",\"Aktiva:Vermögen:Kassa:EUR\",0,\"EUR\"),6)\n",
      "obs_at(agent_account_balance_commodity(\"Käufer\",\"Aktiva:Vermögen:Kassa:EUR\",0,\"EUR\"),7)\n",
      "obs_at(agent_account_balance_commodity(\"Käufer\",\"Aktiva:Vermögen:Kassa:EUR\",0,\"EUR\"),8)\n",
      "obs_at(agent_account_balance_commodity(\"Käufer\",\"Aktiva:Vermögen:Kassa:EUR\",100,\"EUR\"),0)\n",
      "obs_at(agent_account_balance_commodity(\"Käufer\",\"Aktiva:Vermögen:Kassa:EUR\",100,\"EUR\"),1)\n",
      "obs_at(agent_account_balance_commodity(\"Käufer\",\"Aktiva:Vermögen:Kassa:EUR\",100,\"EUR\"),2)\n",
      "obs_at(agent_account_balance_commodity(\"Käufer\",\"Aktiva:Vermögen:Lager:Ware\",0,\"Ware\"),0)\n",
      "obs_at(agent_account_balance_commodity(\"Käufer\",\"Aktiva:Vermögen:Lager:Ware\",0,\"Ware\"),1)\n",
      "obs_at(agent_account_balance_commodity(\"Käufer\",\"Aktiva:Vermögen:Lager:Ware\",0,\"Ware\"),2)\n",
      "obs_at(agent_account_balance_commodity(\"Käufer\",\"Aktiva:Vermögen:Lager:Ware\",0,\"Ware\"),3)\n",
      "obs_at(agent_account_balance_commodity(\"Käufer\",\"Aktiva:Vermögen:Lager:Ware\",0,\"Ware\"),4)\n",
      "obs_at(agent_account_balance_commodity(\"Käufer\",\"Aktiva:Vermögen:Lager:Ware\",0,\"Ware\"),5)\n",
      "obs_at(agent_account_balance_commodity(\"Käufer\",\"Aktiva:Vermögen:Lager:Ware\",0,\"Ware\"),6)\n",
      "obs_at(agent_account_balance_commodity(\"Käufer\",\"Aktiva:Vermögen:Lager:Ware\",1,\"Ware\"),7)\n",
      "obs_at(agent_account_balance_commodity(\"Käufer\",\"Aktiva:Vermögen:Lager:Ware\",1,\"Ware\"),8)\n",
      "obs_at(agent_account_balance_commodity(\"Käufer\",\"Passiva:Verbindlichkeiten:Zahlungsverbindlichkeiten:Verkäufer:EUR\",0,\"EUR\"),0)\n",
      "obs_at(agent_account_balance_commodity(\"Käufer\",\"Passiva:Verbindlichkeiten:Zahlungsverbindlichkeiten:Verkäufer:EUR\",0,\"EUR\"),1)\n",
      "obs_at(agent_account_balance_commodity(\"Käufer\",\"Passiva:Verbindlichkeiten:Zahlungsverbindlichkeiten:Verkäufer:EUR\",0,\"EUR\"),4)\n",
      "obs_at(agent_account_balance_commodity(\"Käufer\",\"Passiva:Verbindlichkeiten:Zahlungsverbindlichkeiten:Verkäufer:EUR\",0,\"EUR\"),5)\n",
      "obs_at(agent_account_balance_commodity(\"Käufer\",\"Passiva:Verbindlichkeiten:Zahlungsverbindlichkeiten:Verkäufer:EUR\",0,\"EUR\"),6)\n",
      "obs_at(agent_account_balance_commodity(\"Käufer\",\"Passiva:Verbindlichkeiten:Zahlungsverbindlichkeiten:Verkäufer:EUR\",0,\"EUR\"),7)\n",
      "obs_at(agent_account_balance_commodity(\"Käufer\",\"Passiva:Verbindlichkeiten:Zahlungsverbindlichkeiten:Verkäufer:EUR\",0,\"EUR\"),8)\n",
      "obs_at(agent_account_balance_commodity(\"Käufer\",\"Passiva:Verbindlichkeiten:Zahlungsverbindlichkeiten:Verkäufer:EUR\",100,\"EUR\"),2)\n",
      "obs_at(agent_account_balance_commodity(\"Käufer\",\"Passiva:Verbindlichkeiten:Zahlungsverbindlichkeiten:Verkäufer:EUR\",100,\"EUR\"),3)\n",
      "obs_at(agent_account_balance_commodity(\"Käufer\",\"Passiva:Übergabe:Verkäufer:EUR\",-100,\"EUR\"),3)\n",
      "obs_at(agent_account_balance_commodity(\"Käufer\",\"Passiva:Übergabe:Verkäufer:EUR\",0,\"EUR\"),0)\n",
      "obs_at(agent_account_balance_commodity(\"Käufer\",\"Passiva:Übergabe:Verkäufer:EUR\",0,\"EUR\"),1)\n",
      "obs_at(agent_account_balance_commodity(\"Käufer\",\"Passiva:Übergabe:Verkäufer:EUR\",0,\"EUR\"),2)\n",
      "obs_at(agent_account_balance_commodity(\"Käufer\",\"Passiva:Übergabe:Verkäufer:EUR\",0,\"EUR\"),4)\n",
      "obs_at(agent_account_balance_commodity(\"Käufer\",\"Passiva:Übergabe:Verkäufer:EUR\",0,\"EUR\"),5)\n",
      "obs_at(agent_account_balance_commodity(\"Käufer\",\"Passiva:Übergabe:Verkäufer:EUR\",0,\"EUR\"),6)\n",
      "obs_at(agent_account_balance_commodity(\"Käufer\",\"Passiva:Übergabe:Verkäufer:EUR\",0,\"EUR\"),7)\n",
      "obs_at(agent_account_balance_commodity(\"Käufer\",\"Passiva:Übergabe:Verkäufer:EUR\",0,\"EUR\"),8)\n",
      "obs_at(agent_account_balance_commodity(\"Verkäufer\",\"Aktiva:Forderungen:Zahlungsforderungen:Käufer:EUR\",0,\"EUR\"),0)\n",
      "obs_at(agent_account_balance_commodity(\"Verkäufer\",\"Aktiva:Forderungen:Zahlungsforderungen:Käufer:EUR\",0,\"EUR\"),1)\n",
      "obs_at(agent_account_balance_commodity(\"Verkäufer\",\"Aktiva:Forderungen:Zahlungsforderungen:Käufer:EUR\",100,\"EUR\"),2)\n",
      "obs_at(agent_account_balance_commodity(\"Verkäufer\",\"Aktiva:Forderungen:Zahlungsforderungen:Käufer:EUR\",100,\"EUR\"),3)\n",
      "obs_at(agent_account_balance_commodity(\"Verkäufer\",\"Aktiva:Forderungen:Zahlungsforderungen:Käufer:EUR\",100,\"EUR\"),4)\n",
      "obs_at(agent_account_balance_commodity(\"Verkäufer\",\"Aktiva:Forderungen:Zahlungsforderungen:Käufer:EUR\",100,\"EUR\"),5)\n",
      "obs_at(agent_account_balance_commodity(\"Verkäufer\",\"Aktiva:Forderungen:Zahlungsforderungen:Käufer:EUR\",100,\"EUR\"),6)\n",
      "obs_at(agent_account_balance_commodity(\"Verkäufer\",\"Aktiva:Forderungen:Zahlungsforderungen:Käufer:EUR\",100,\"EUR\"),7)\n",
      "obs_at(agent_account_balance_commodity(\"Verkäufer\",\"Aktiva:Forderungen:Zahlungsforderungen:Käufer:EUR\",100,\"EUR\"),8)\n",
      "obs_at(agent_account_balance_commodity(\"Verkäufer\",\"Aktiva:Vermögen:Kassa:EUR\",0,\"EUR\"),0)\n",
      "obs_at(agent_account_balance_commodity(\"Verkäufer\",\"Aktiva:Vermögen:Kassa:EUR\",0,\"EUR\"),1)\n",
      "obs_at(agent_account_balance_commodity(\"Verkäufer\",\"Aktiva:Vermögen:Kassa:EUR\",0,\"EUR\"),2)\n",
      "obs_at(agent_account_balance_commodity(\"Verkäufer\",\"Aktiva:Vermögen:Kassa:EUR\",0,\"EUR\"),3)\n",
      "obs_at(agent_account_balance_commodity(\"Verkäufer\",\"Aktiva:Vermögen:Kassa:EUR\",100,\"EUR\"),4)\n",
      "obs_at(agent_account_balance_commodity(\"Verkäufer\",\"Aktiva:Vermögen:Kassa:EUR\",100,\"EUR\"),5)\n",
      "obs_at(agent_account_balance_commodity(\"Verkäufer\",\"Aktiva:Vermögen:Kassa:EUR\",100,\"EUR\"),6)\n",
      "obs_at(agent_account_balance_commodity(\"Verkäufer\",\"Aktiva:Vermögen:Kassa:EUR\",100,\"EUR\"),7)\n",
      "obs_at(agent_account_balance_commodity(\"Verkäufer\",\"Aktiva:Vermögen:Kassa:EUR\",100,\"EUR\"),8)\n",
      "obs_at(agent_account_balance_commodity(\"Verkäufer\",\"Aktiva:Vermögen:Lager:Ware\",0,\"Ware\"),5)\n",
      "obs_at(agent_account_balance_commodity(\"Verkäufer\",\"Aktiva:Vermögen:Lager:Ware\",0,\"Ware\"),6)\n",
      "obs_at(agent_account_balance_commodity(\"Verkäufer\",\"Aktiva:Vermögen:Lager:Ware\",0,\"Ware\"),7)\n",
      "obs_at(agent_account_balance_commodity(\"Verkäufer\",\"Aktiva:Vermögen:Lager:Ware\",0,\"Ware\"),8)\n",
      "obs_at(agent_account_balance_commodity(\"Verkäufer\",\"Aktiva:Vermögen:Lager:Ware\",1,\"Ware\"),0)\n",
      "obs_at(agent_account_balance_commodity(\"Verkäufer\",\"Aktiva:Vermögen:Lager:Ware\",1,\"Ware\"),1)\n",
      "obs_at(agent_account_balance_commodity(\"Verkäufer\",\"Aktiva:Vermögen:Lager:Ware\",1,\"Ware\"),2)\n",
      "obs_at(agent_account_balance_commodity(\"Verkäufer\",\"Aktiva:Vermögen:Lager:Ware\",1,\"Ware\"),3)\n",
      "obs_at(agent_account_balance_commodity(\"Verkäufer\",\"Aktiva:Vermögen:Lager:Ware\",1,\"Ware\"),4)\n",
      "obs_at(agent_account_balance_commodity(\"Verkäufer\",\"Passiva:Lieferungen:Käufer:Ware\",-1,\"Ware\"),5)\n",
      "obs_at(agent_account_balance_commodity(\"Verkäufer\",\"Passiva:Lieferungen:Käufer:Ware\",0,\"Ware\"),0)\n",
      "obs_at(agent_account_balance_commodity(\"Verkäufer\",\"Passiva:Lieferungen:Käufer:Ware\",0,\"Ware\"),1)\n",
      "obs_at(agent_account_balance_commodity(\"Verkäufer\",\"Passiva:Lieferungen:Käufer:Ware\",0,\"Ware\"),2)\n",
      "obs_at(agent_account_balance_commodity(\"Verkäufer\",\"Passiva:Lieferungen:Käufer:Ware\",0,\"Ware\"),3)\n",
      "obs_at(agent_account_balance_commodity(\"Verkäufer\",\"Passiva:Lieferungen:Käufer:Ware\",0,\"Ware\"),4)\n",
      "obs_at(agent_account_balance_commodity(\"Verkäufer\",\"Passiva:Lieferungen:Käufer:Ware\",0,\"Ware\"),6)\n",
      "obs_at(agent_account_balance_commodity(\"Verkäufer\",\"Passiva:Lieferungen:Käufer:Ware\",0,\"Ware\"),7)\n",
      "obs_at(agent_account_balance_commodity(\"Verkäufer\",\"Passiva:Lieferungen:Käufer:Ware\",0,\"Ware\"),8)\n",
      "obs_at(agent_account_balance_commodity(\"Verkäufer\",\"Passiva:Verbindlichkeiten:Lieferverbindlichkeiten:Käufer:Ware\",0,\"Ware\"),0)\n",
      "obs_at(agent_account_balance_commodity(\"Verkäufer\",\"Passiva:Verbindlichkeiten:Lieferverbindlichkeiten:Käufer:Ware\",0,\"Ware\"),1)\n",
      "obs_at(agent_account_balance_commodity(\"Verkäufer\",\"Passiva:Verbindlichkeiten:Lieferverbindlichkeiten:Käufer:Ware\",0,\"Ware\"),7)\n",
      "obs_at(agent_account_balance_commodity(\"Verkäufer\",\"Passiva:Verbindlichkeiten:Lieferverbindlichkeiten:Käufer:Ware\",0,\"Ware\"),8)\n",
      "obs_at(agent_account_balance_commodity(\"Verkäufer\",\"Passiva:Verbindlichkeiten:Lieferverbindlichkeiten:Käufer:Ware\",1,\"Ware\"),2)\n",
      "obs_at(agent_account_balance_commodity(\"Verkäufer\",\"Passiva:Verbindlichkeiten:Lieferverbindlichkeiten:Käufer:Ware\",1,\"Ware\"),3)\n",
      "obs_at(agent_account_balance_commodity(\"Verkäufer\",\"Passiva:Verbindlichkeiten:Lieferverbindlichkeiten:Käufer:Ware\",1,\"Ware\"),4)\n",
      "obs_at(agent_account_balance_commodity(\"Verkäufer\",\"Passiva:Verbindlichkeiten:Lieferverbindlichkeiten:Käufer:Ware\",1,\"Ware\"),5)\n",
      "obs_at(agent_account_balance_commodity(\"Verkäufer\",\"Passiva:Verbindlichkeiten:Lieferverbindlichkeiten:Käufer:Ware\",1,\"Ware\"),6)\n",
      "obs_at(agent_account_balance_commodity(\"Verkäufer\",\"Passiva:Übergabe:Käufer:Ware\",-1,\"Ware\"),6)\n",
      "obs_at(agent_account_balance_commodity(\"Verkäufer\",\"Passiva:Übergabe:Käufer:Ware\",0,\"Ware\"),0)\n",
      "obs_at(agent_account_balance_commodity(\"Verkäufer\",\"Passiva:Übergabe:Käufer:Ware\",0,\"Ware\"),1)\n",
      "obs_at(agent_account_balance_commodity(\"Verkäufer\",\"Passiva:Übergabe:Käufer:Ware\",0,\"Ware\"),2)\n",
      "obs_at(agent_account_balance_commodity(\"Verkäufer\",\"Passiva:Übergabe:Käufer:Ware\",0,\"Ware\"),3)\n",
      "obs_at(agent_account_balance_commodity(\"Verkäufer\",\"Passiva:Übergabe:Käufer:Ware\",0,\"Ware\"),4)\n",
      "obs_at(agent_account_balance_commodity(\"Verkäufer\",\"Passiva:Übergabe:Käufer:Ware\",0,\"Ware\"),5)\n",
      "obs_at(agent_account_balance_commodity(\"Verkäufer\",\"Passiva:Übergabe:Käufer:Ware\",0,\"Ware\"),7)\n",
      "obs_at(agent_account_balance_commodity(\"Verkäufer\",\"Passiva:Übergabe:Käufer:Ware\",0,\"Ware\"),8)\n",
      "occ_at(\"Vertragsschluss\",1)\n",
      "occ_at(agent_account_creditAmount_commodity(\"Käufer\",\"Aktiva:Forderungen:Lieferforderungen:Verkäufer:Ware\",1,\"Ware\"),6)\n",
      "occ_at(agent_account_creditAmount_commodity(\"Käufer\",\"Aktiva:Vermögen:Kassa:EUR\",100,\"EUR\"),2)\n",
      "occ_at(agent_account_creditAmount_commodity(\"Käufer\",\"Passiva:Verbindlichkeiten:Zahlungsverbindlichkeiten:Verkäufer:EUR\",100,\"EUR\"),1)\n",
      "occ_at(agent_account_creditAmount_commodity(\"Käufer\",\"Passiva:Übergabe:Verkäufer:EUR\",100,\"EUR\"),3)\n",
      "occ_at(agent_account_creditAmount_commodity(\"Verkäufer\",\"Aktiva:Forderung:Zahlungsforderungen:Käufer:EUR\",100,\"EUR\"),3)\n",
      "occ_at(agent_account_creditAmount_commodity(\"Verkäufer\",\"Aktiva:Vermögen:Lager:Ware\",1,\"Ware\"),4)\n",
      "occ_at(agent_account_creditAmount_commodity(\"Verkäufer\",\"Passiva:Lieferungen:Käufer:Ware\",1,\"Ware\"),5)\n",
      "occ_at(agent_account_creditAmount_commodity(\"Verkäufer\",\"Passiva:Verbindlichkeiten:Lieferverbindlichkeiten:Käufer:Ware\",1,\"Ware\"),1)\n",
      "occ_at(agent_account_creditAmount_commodity(\"Verkäufer\",\"Passiva:Übergabe:Käufer:Ware\",1,\"Ware\"),6)\n",
      "occ_at(agent_account_debitAmount_commodity(\"Käufer\",\"Aktiva:Forderungen:Lieferforderungen:Verkäufer:Ware\",1,\"Ware\"),1)\n",
      "occ_at(agent_account_debitAmount_commodity(\"Käufer\",\"Aktiva:Vermögen:Lager:Ware\",1,\"Ware\"),6)\n",
      "occ_at(agent_account_debitAmount_commodity(\"Käufer\",\"Passiva:Verbindlichkeiten:Zahlungsverbindlichkeiten:Verkäufer:EUR\",100,\"EUR\"),3)\n",
      "occ_at(agent_account_debitAmount_commodity(\"Käufer\",\"Passiva:Übergabe:Verkäufer:EUR\",100,\"EUR\"),2)\n",
      "occ_at(agent_account_debitAmount_commodity(\"Verkäufer\",\"Aktiva:Forderungen:Zahlungsforderungen:Käufer:EUR\",100,\"EUR\"),1)\n",
      "occ_at(agent_account_debitAmount_commodity(\"Verkäufer\",\"Aktiva:Vermögen:Kassa:EUR\",100,\"EUR\"),3)\n",
      "occ_at(agent_account_debitAmount_commodity(\"Verkäufer\",\"Passiva:Lieferungen:Käufer:Ware\",1,\"Ware\"),4)\n",
      "occ_at(agent_account_debitAmount_commodity(\"Verkäufer\",\"Passiva:Verbindlichkeiten:Lieferverbindlichkeiten:Käufer:Ware\",1,\"Ware\"),6)\n",
      "occ_at(agent_account_debitAmount_commodity(\"Verkäufer\",\"Passiva:Übergabe:Käufer:Ware\",1,\"Ware\"),5)\n",
      "occ_at(agent_debitAccount_creditAccount_amount_commodity(\"Käufer\",\"Aktiva:Vermögen:Lager:Ware\",\"Aktiva:Forderungen:Lieferforderungen:Verkäufer:Ware\",1,\"Ware\"),6)\n",
      "occ_at(agent_debitAccount_creditAccount_amount_commodity(\"Käufer\",\"Passiva:Verbindlichkeiten:Zahlungsverbindlichkeiten:Verkäufer:EUR\",\"Passiva:Übergabe:Verkäufer:EUR\",100,\"EUR\"),3)\n",
      "occ_at(agent_debitAccount_creditAccount_amount_commodity(\"Käufer\",\"Passiva:Übergabe:Verkäufer:EUR\",\"Aktiva:Vermögen:Kassa:EUR\",100,\"EUR\"),2)\n",
      "occ_at(agent_debitAccount_creditAccount_amount_commodity(\"Verkäufer\",\"Aktiva:Vermögen:Kassa:EUR\",\"Aktiva:Forderung:Zahlungsforderungen:Käufer:EUR\",100,\"EUR\"),3)\n",
      "occ_at(agent_debitAccount_creditAccount_amount_commodity(\"Verkäufer\",\"Passiva:Lieferungen:Käufer:Ware\",\"Aktiva:Vermögen:Lager:Ware\",1,\"Ware\"),4)\n",
      "occ_at(agent_debitAccount_creditAccount_amount_commodity(\"Verkäufer\",\"Passiva:Verbindlichkeiten:Lieferverbindlichkeiten:Käufer:Ware\",\"Passiva:Übergabe:Käufer:Ware\",1,\"Ware\"),6)\n",
      "occ_at(agent_debitAccount_creditAccount_amount_commodity(\"Verkäufer\",\"Passiva:Übergabe:Käufer:Ware\",\"Passiva:Lieferungen:Käufer:Ware\",1,\"Ware\"),5)\n",
      "occ_at(agent_debitAccount_agent_creditAccount_amount_commodity(\"Käufer\",\"Aktiva:Forderungen:Lieferforderungen:Verkäufer:Ware\",\"Verkäufer\",\"Passiva:Verbindlichkeiten:Lieferverbindlichkeiten:Käufer:Ware\",1,\"Ware\"),1)\n",
      "occ_at(agent_debitAccount_agent_creditAccount_amount_commodity(\"Käufer\",\"Aktiva:Vermögen:Lager:Ware\",\"Käufer\",\"Aktiva:Forderungen:Lieferforderungen:Verkäufer:Ware\",1,\"Ware\"),6)\n",
      "occ_at(agent_debitAccount_agent_creditAccount_amount_commodity(\"Käufer\",\"Passiva:Verbindlichkeiten:Zahlungsverbindlichkeiten:Verkäufer:EUR\",\"Käufer\",\"Passiva:Übergabe:Verkäufer:EUR\",100,\"EUR\"),3)\n",
      "occ_at(agent_debitAccount_agent_creditAccount_amount_commodity(\"Käufer\",\"Passiva:Übergabe:Verkäufer:EUR\",\"Käufer\",\"Aktiva:Vermögen:Kassa:EUR\",100,\"EUR\"),2)\n",
      "occ_at(agent_debitAccount_agent_creditAccount_amount_commodity(\"Verkäufer\",\"Aktiva:Forderungen:Zahlungsforderungen:Käufer:EUR\",\"Käufer\",\"Passiva:Verbindlichkeiten:Zahlungsverbindlichkeiten:Verkäufer:EUR\",100,\"EUR\"),1)\n",
      "occ_at(agent_debitAccount_agent_creditAccount_amount_commodity(\"Verkäufer\",\"Aktiva:Vermögen:Kassa:EUR\",\"Verkäufer\",\"Aktiva:Forderung:Zahlungsforderungen:Käufer:EUR\",100,\"EUR\"),3)\n",
      "occ_at(agent_debitAccount_agent_creditAccount_amount_commodity(\"Verkäufer\",\"Passiva:Lieferungen:Käufer:Ware\",\"Verkäufer\",\"Aktiva:Vermögen:Lager:Ware\",1,\"Ware\"),4)\n",
      "occ_at(agent_debitAccount_agent_creditAccount_amount_commodity(\"Verkäufer\",\"Passiva:Verbindlichkeiten:Lieferverbindlichkeiten:Käufer:Ware\",\"Verkäufer\",\"Passiva:Übergabe:Käufer:Ware\",1,\"Ware\"),6)\n",
      "occ_at(agent_debitAccount_agent_creditAccount_amount_commodity(\"Verkäufer\",\"Passiva:Übergabe:Käufer:Ware\",\"Verkäufer\",\"Passiva:Lieferungen:Käufer:Ware\",1,\"Ware\"),5)\n",
      "agent_does_at(\"Käufer\",\"Startet Überweisung\",2)\n",
      "agent_does_at(\"Käufer\",\"Unterschreibt Vertrag\",1)\n",
      "agent_does_at(\"Käufer\",\"Übernimmt Ware\",6)\n",
      "agent_does_at(\"Verkäufer\",\"Nimmt Überweisung an\",3)\n",
      "agent_does_at(\"Verkäufer\",\"Startet Lieferung\",4)\n",
      "agent_does_at(\"Verkäufer\",\"Unterschreibt Vertrag\",1)\n",
      "agent_does_at(\"Verkäufer\",\"Übergibt Ware\",5)\n",
      "}.\n",
      "SAT 1 \n"
     ]
    }
   ],
   "source": [
    "solve([\n",
    "    domain,\n",
    "    common_accounts,\n",
    "    seller_accounts,\n",
    "    buyer_accounts,\n",
    "    initial_balance_rules,\n",
    "    inertia_balance_rules,\n",
    "    transaction_rules,\n",
    "\n",
    "    action_consequences,\n",
    "    occ_consequences,\n",
    "\n",
    "    instance_initial_balances,\n",
    "    instance_agent_actions,\n",
    "    show,\n",
    "], sep='\\n');"
   ],
   "metadata": {
    "collapsed": false,
    "pycharm": {
     "name": "#%%\n"
    }
   }
  },
  {
   "cell_type": "code",
   "execution_count": 316,
   "outputs": [],
   "source": [],
   "metadata": {
    "collapsed": false,
    "pycharm": {
     "name": "#%%\n"
    }
   }
  }
 ],
 "metadata": {
  "kernelspec": {
   "display_name": "Python 3",
   "language": "python",
   "name": "python3"
  },
  "language_info": {
   "codemirror_mode": {
    "name": "ipython",
    "version": 2
   },
   "file_extension": ".py",
   "mimetype": "text/x-python",
   "name": "python",
   "nbconvert_exporter": "python",
   "pygments_lexer": "ipython2",
   "version": "2.7.6"
  }
 },
 "nbformat": 4,
 "nbformat_minor": 0
}