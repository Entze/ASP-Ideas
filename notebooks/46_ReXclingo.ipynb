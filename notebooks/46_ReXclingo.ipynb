{
 "cells": [
  {
   "cell_type": "code",
   "execution_count": 207,
   "metadata": {
    "collapsed": true
   },
   "outputs": [],
   "source": [
    "\n",
    "\n",
    "from starlingo.Atom import Atom\n",
    "from starlingo.Literal import BasicLiteral\n",
    "from starlingo.Program import from_string, evaluate_forwards, Program\n",
    "from starlingo.Rule import Fact, NormalRule\n",
    "from starlingo.Symbol import Function, Term, IntegerConstant, StringConstant"
   ]
  },
  {
   "cell_type": "code",
   "execution_count": 208,
   "outputs": [],
   "source": [
    "program = \"\"\"\n",
    "\n",
    "a :- b, d.\n",
    "b :- d.\n",
    "c :- a.\n",
    "d.\n",
    "d :- not a.\n",
    "\n",
    "\"\"\""
   ],
   "metadata": {
    "collapsed": false,
    "pycharm": {
     "name": "#%%\n"
    }
   }
  },
  {
   "cell_type": "code",
   "execution_count": 209,
   "outputs": [
    {
     "name": "stdout",
     "output_type": "stream",
     "text": [
      "#program base. a :- b, d. b :- d. c :- a. d. d :- not a.\n"
     ]
    }
   ],
   "source": [
    "programs = from_string(program)\n",
    "program = programs[0]\n",
    "print(program)"
   ],
   "metadata": {
    "collapsed": false,
    "pycharm": {
     "name": "#%%\n"
    }
   }
  },
  {
   "cell_type": "code",
   "execution_count": 210,
   "outputs": [
    {
     "name": "stdout",
     "output_type": "stream",
     "text": [
      "Answer 1: {\n",
      "a\n",
      "b\n",
      "c\n",
      "d\n",
      "}\n",
      "SAT 1\n"
     ]
    }
   ],
   "source": [
    "tuple(evaluate_forwards(programs, report=True));"
   ],
   "metadata": {
    "collapsed": false,
    "pycharm": {
     "name": "#%%\n"
    }
   }
  },
  {
   "cell_type": "code",
   "execution_count": 211,
   "outputs": [
    {
     "name": "stdout",
     "output_type": "stream",
     "text": [
      "_xclingo_label(id,0).\n",
      "a :- b, d, _xclingo_trace.\n",
      "_xclingo_label(id,1).\n",
      "b :- d, _xclingo_trace.\n",
      "_xclingo_label(id,2).\n",
      "c :- a, _xclingo_trace.\n",
      "_xclingo_label(id,3).\n",
      "d :- _xclingo_trace.\n",
      "_xclingo_label(id,4).\n",
      "d :- not a, _xclingo_trace.\n",
      "----------\n",
      "0: a :- b, d.\n",
      "1: b :- d.\n",
      "2: c :- a.\n",
      "3: d.\n",
      "4: d :- not a.\n"
     ]
    }
   ],
   "source": [
    "_xclingo_trace = BasicLiteral(Atom(Function('_xclingo_trace')))\n",
    "preprocessed_rules = []\n",
    "labels = {}\n",
    "for i, rule in enumerate(program.rules):\n",
    "    if rule.is_rule():\n",
    "        trace_rule_head = rule.head\n",
    "        if rule.is_fact():\n",
    "            trace_rule_body = (BasicLiteral(Atom(Function('_xclingo_trace'))),)\n",
    "        else:\n",
    "            trace_rule_body = (*rule.body, _xclingo_trace)\n",
    "        preprocessed_rule = NormalRule(trace_rule_head, trace_rule_body)\n",
    "        labels[rule] = i\n",
    "        preprocessed_rules.append(\n",
    "            Fact(BasicLiteral(Atom(Function('_xclingo_label', (Function('id'), Term(IntegerConstant(i)))))))\n",
    "        )\n",
    "        preprocessed_rules.append(\n",
    "            preprocessed_rule\n",
    "        )\n",
    "\n",
    "print('\\n'.join(map(str, preprocessed_rules)))\n",
    "print('-' * 10)\n",
    "for rule, id in labels.items():\n",
    "    print(\"{}:\".format(id), rule)"
   ],
   "metadata": {
    "collapsed": false,
    "pycharm": {
     "name": "#%%\n"
    }
   }
  },
  {
   "cell_type": "code",
   "execution_count": 212,
   "outputs": [
    {
     "name": "stdout",
     "output_type": "stream",
     "text": [
      "#program base.\n",
      "_xclingo_label(id,0).\n",
      "a :- b, d, _xclingo_trace.\n",
      "_xclingo_label(id,1).\n",
      "b :- d, _xclingo_trace.\n",
      "_xclingo_label(id,2).\n",
      "c :- a, _xclingo_trace.\n",
      "_xclingo_label(id,3).\n",
      "d :- _xclingo_trace.\n",
      "_xclingo_label(id,4).\n",
      "d :- not a, _xclingo_trace.\n"
     ]
    }
   ],
   "source": [
    "preprocessed = Program(rules=preprocessed_rules)\n",
    "print(preprocessed.custom_str(sep='\\n'))"
   ],
   "metadata": {
    "collapsed": false,
    "pycharm": {
     "name": "#%%\n"
    }
   }
  },
  {
   "cell_type": "code",
   "execution_count": 213,
   "outputs": [
    {
     "name": "stdout",
     "output_type": "stream",
     "text": [
      "#program base.\n",
      "_xclingo_label(id,0).\n",
      "_xclingo_fires(0,a,()) :- _xclingo_holds(b,()), _xclingo_holds(d,()), _xclingo_trace.\n",
      "_xclingo_label(id,1).\n",
      "_xclingo_fires(1,b,()) :- _xclingo_holds(d,()), _xclingo_trace.\n",
      "_xclingo_label(id,2).\n",
      "_xclingo_fires(2,c,()) :- _xclingo_holds(a,()), _xclingo_trace.\n",
      "_xclingo_label(id,3).\n",
      "_xclingo_fires(3,d,()) :- _xclingo_trace.\n",
      "_xclingo_label(id,4).\n",
      "_xclingo_fires(4,d,()) :- not _xclingo_holds(a,()), _xclingo_trace.\n"
     ]
    }
   ],
   "source": [
    "translated_rules = []\n",
    "for rule in preprocessed.rules:\n",
    "    if rule.is_rule():\n",
    "        if rule.is_normal_rule():\n",
    "            if rule.head.atom.symbol.name.startswith('_xclingo'):\n",
    "                translated_rules.append(rule)\n",
    "                continue\n",
    "            translated_body = []\n",
    "            for literal in rule.body:\n",
    "                symbol = literal.atom.symbol\n",
    "                if symbol.name.startswith('_xclingo'):\n",
    "                    translated_body.append(literal)\n",
    "                else:\n",
    "                    holds_literal = BasicLiteral(sign=literal.sign, atom=Atom(\n",
    "                        Function('_xclingo_holds', (Function(symbol.name), Function(arguments=symbol.arguments)))))\n",
    "                    translated_body.append(holds_literal)\n",
    "            raw_rule = NormalRule(rule.head, rule.body[:-1])\n",
    "            if not raw_rule.body:\n",
    "                raw_rule = raw_rule.as_fact()\n",
    "            label = labels[raw_rule]\n",
    "            symbol = rule.head.atom.symbol\n",
    "            translated_head = BasicLiteral(Atom(Function('_xclingo_fires', (\n",
    "            Term(IntegerConstant(label)), symbol.name, Function(arguments=symbol.arguments)))))\n",
    "            translated_rules.append(NormalRule(translated_head, translated_body))\n",
    "\n",
    "translated = Program(rules=translated_rules)\n",
    "print(translated.custom_str(sep='\\n'))"
   ],
   "metadata": {
    "collapsed": false,
    "pycharm": {
     "name": "#%%\n"
    }
   }
  },
  {
   "cell_type": "code",
   "execution_count": 214,
   "outputs": [
    {
     "name": "stdout",
     "output_type": "stream",
     "text": [
      "#program base.\n",
      "_xclingo_label(id,0).\n",
      "_xclingo_fires(0,a,()) :- _xclingo_holds(b,()), _xclingo_holds(d,()).\n",
      "_xclingo_holds(a,()) :- _xclingo_fires(0,a,()).\n",
      "_xclingo_trace(a,(),\"\") :- _xclingo_fires(0,a,()).\n",
      "_xclingo_label(id,1).\n",
      "_xclingo_fires(1,b,()) :- _xclingo_holds(d,()).\n",
      "_xclingo_holds(b,()) :- _xclingo_fires(1,b,()).\n",
      "_xclingo_trace(b,(),\"\") :- _xclingo_fires(1,b,()).\n",
      "_xclingo_label(id,2).\n",
      "_xclingo_fires(2,c,()) :- _xclingo_holds(a,()).\n",
      "_xclingo_holds(c,()) :- _xclingo_fires(2,c,()).\n",
      "_xclingo_trace(c,(),\"\") :- _xclingo_fires(2,c,()).\n",
      "_xclingo_label(id,3).\n",
      "_xclingo_fires(3,d,()) :- .\n",
      "_xclingo_holds(d,()) :- _xclingo_fires(3,d,()).\n",
      "_xclingo_trace(d,(),\"\") :- _xclingo_fires(3,d,()).\n",
      "_xclingo_label(id,4).\n",
      "_xclingo_fires(4,d,()) :- not _xclingo_holds(a,()).\n",
      "_xclingo_holds(d,()) :- _xclingo_fires(4,d,()).\n",
      "_xclingo_trace(d,(),\"\") :- _xclingo_fires(4,d,()).\n"
     ]
    }
   ],
   "source": [
    "repositioned_rules = []\n",
    "for rule in translated.rules:\n",
    "    if rule.is_rule():\n",
    "        if rule.is_normal_rule() and not rule.is_fact():\n",
    "            if _xclingo_trace in rule.body:\n",
    "                head = rule.head\n",
    "                body = rule.body[:-1]\n",
    "\n",
    "                fires_rule = NormalRule(head, body)\n",
    "                support_head = BasicLiteral(Atom(Function('_xclingo_holds', head.atom.symbol.arguments[1:])))\n",
    "                support_body = (head,)\n",
    "                support_rule = NormalRule(support_head, support_body)\n",
    "                trace_head = BasicLiteral(Atom(Function('_xclingo_trace', (\n",
    "                head.atom.symbol.arguments[1], head.atom.symbol.arguments[2], Term(StringConstant(\"\"))))))\n",
    "                trace_body = support_body\n",
    "                trace_rule = NormalRule(trace_head, trace_body)\n",
    "                repositioned_rules.append(fires_rule)\n",
    "                repositioned_rules.append(support_rule)\n",
    "                repositioned_rules.append(trace_rule)\n",
    "\n",
    "        else:\n",
    "            repositioned_rules.append(rule)\n",
    "\n",
    "repositioned = Program(rules=repositioned_rules)\n",
    "print(repositioned.custom_str(sep='\\n'))"
   ],
   "metadata": {
    "collapsed": false,
    "pycharm": {
     "name": "#%%\n"
    }
   }
  },
  {
   "cell_type": "code",
   "execution_count": 215,
   "outputs": [
    {
     "name": "stdout",
     "output_type": "stream",
     "text": [
      "Answer 1: {\n",
      "_xclingo_holds(a,())\n",
      "_xclingo_holds(b,())\n",
      "_xclingo_holds(c,())\n",
      "_xclingo_holds(d,())\n",
      "_xclingo_label(id,0)\n",
      "_xclingo_label(id,1)\n",
      "_xclingo_label(id,2)\n",
      "_xclingo_label(id,3)\n",
      "_xclingo_label(id,4)\n",
      "_xclingo_fires(0,a,())\n",
      "_xclingo_fires(1,b,())\n",
      "_xclingo_fires(2,c,())\n",
      "_xclingo_fires(3,d,())\n",
      "_xclingo_trace(a,(),\"\")\n",
      "_xclingo_trace(b,(),\"\")\n",
      "_xclingo_trace(c,(),\"\")\n",
      "_xclingo_trace(d,(),\"\")\n",
      "}\n",
      "SAT 1\n"
     ]
    }
   ],
   "source": [
    "models = tuple(evaluate_forwards([repositioned], report=True))"
   ],
   "metadata": {
    "collapsed": false,
    "pycharm": {
     "name": "#%%\n"
    }
   }
  },
  {
   "cell_type": "code",
   "execution_count": 216,
   "outputs": [],
   "source": [
    "model = models[0]"
   ],
   "metadata": {
    "collapsed": false,
    "pycharm": {
     "name": "#%%\n"
    }
   }
  },
  {
   "cell_type": "code",
   "execution_count": 217,
   "outputs": [
    {
     "name": "stdout",
     "output_type": "stream",
     "text": [
      "a: [0]\n",
      "b: [1]\n",
      "c: [2]\n",
      "d: [3]\n"
     ]
    }
   ],
   "source": [
    "causes_table = {}\n",
    "inverted_labels = {}\n",
    "to_explain = []\n",
    "for a in model:\n",
    "    if a.symbol.name.startswith('_xclingo_holds'):\n",
    "        explain = Function(a.symbol.arguments[0].name, a.symbol.arguments[1].arguments)\n",
    "        fires = []\n",
    "        for b in model:\n",
    "            if b.symbol.name.startswith('_xclingo_fires'):\n",
    "                if a.symbol.arguments[0] == b.symbol.arguments[1] and a.symbol.arguments[1] == b.symbol.arguments[2]:\n",
    "                    rule_id = b.symbol.arguments[0].constant.number\n",
    "                    if rule_id not in inverted_labels:\n",
    "                        for rule, label in labels.items():\n",
    "                            if label == rule_id:\n",
    "                                inverted_labels[rule_id] = rule\n",
    "                                break\n",
    "                    fires.append(rule_id)\n",
    "\n",
    "        causes_table[explain] = fires\n",
    "    elif a.symbol.name.startswith('_xclingo_trace'):\n",
    "        explain = Function(a.symbol.arguments[0].name, a.symbol.arguments[1].arguments)\n",
    "        to_explain.append(explain)\n",
    "\n",
    "for fun, causes in causes_table.items():\n",
    "    print(\"{}:\".format(fun), causes)"
   ],
   "metadata": {
    "collapsed": false,
    "pycharm": {
     "name": "#%%\n"
    }
   }
  },
  {
   "cell_type": "code",
   "execution_count": 218,
   "outputs": [
    {
     "name": "stdout",
     "output_type": "stream",
     "text": [
      "0:  a :- b, d.\n",
      "1:  b :- d.\n",
      "2:  c :- a.\n",
      "3:  d.\n"
     ]
    }
   ],
   "source": [
    "for label, rule in inverted_labels.items():\n",
    "    print(\"{}: \".format(label), rule)"
   ],
   "metadata": {
    "collapsed": false,
    "pycharm": {
     "name": "#%%\n"
    }
   }
  },
  {
   "cell_type": "code",
   "execution_count": 219,
   "outputs": [
    {
     "name": "stdout",
     "output_type": "stream",
     "text": [
      "a\n",
      "b\n",
      "c\n",
      "d\n"
     ]
    }
   ],
   "source": [
    "print('\\n'.join(map(str, to_explain)))"
   ],
   "metadata": {
    "collapsed": false,
    "pycharm": {
     "name": "#%%\n"
    }
   }
  },
  {
   "cell_type": "code",
   "execution_count": 220,
   "outputs": [
    {
     "name": "stdout",
     "output_type": "stream",
     "text": [
      "*\n",
      "|\n",
      "++- a\n",
      " |\n",
      " ++- d\n",
      " |\n",
      " ++- b\n",
      "  |\n",
      "  ++- d\n",
      "*\n",
      "|\n",
      "++- b\n",
      " |\n",
      " ++- d\n",
      "*\n",
      "|\n",
      "++- c\n",
      " |\n",
      " ++- a\n",
      "  |\n",
      "  ++- d\n",
      "  |\n",
      "  ++- b\n",
      "   |\n",
      "   ++- d\n",
      "*\n",
      "|\n",
      "++- d\n"
     ]
    }
   ],
   "source": [
    "for explain in to_explain:\n",
    "    print('*')\n",
    "    stack = [(explain, 0)]\n",
    "    while stack:\n",
    "        holds, indent = stack.pop()\n",
    "        print(' ' * indent + '|')\n",
    "        print(' ' * indent + '++-', end=' ')\n",
    "        print(holds)\n",
    "        for cause in causes_table[holds]:\n",
    "            rule = inverted_labels[cause]\n",
    "            if rule.is_normal_rule() and not rule.is_fact():\n",
    "                search = tuple((lit.atom.symbol,indent+1) for lit in rule.body if lit.is_pos())\n",
    "                stack.extend(search)\n"
   ],
   "metadata": {
    "collapsed": false,
    "pycharm": {
     "name": "#%%\n"
    }
   }
  }
 ],
 "metadata": {
  "kernelspec": {
   "display_name": "Python 3",
   "language": "python",
   "name": "python3"
  },
  "language_info": {
   "codemirror_mode": {
    "name": "ipython",
    "version": 2
   },
   "file_extension": ".py",
   "mimetype": "text/x-python",
   "name": "python",
   "nbconvert_exporter": "python",
   "pygments_lexer": "ipython2",
   "version": "2.7.6"
  }
 },
 "nbformat": 4,
 "nbformat_minor": 0
}