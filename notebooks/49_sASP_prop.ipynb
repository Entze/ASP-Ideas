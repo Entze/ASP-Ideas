{
 "cells": [
  {
   "cell_type": "code",
   "execution_count": 164,
   "outputs": [],
   "source": [
    "from collections import defaultdict\n",
    "from copy import deepcopy\n",
    "from dataclasses import dataclass, field\n",
    "from enum import IntEnum\n",
    "from functools import cached_property\n",
    "from typing import Optional, Sequence, Iterator, Dict, Set, TypeVar, MutableSequence"
   ],
   "metadata": {
    "collapsed": false,
    "pycharm": {
     "name": "#%%\n"
    }
   }
  },
  {
   "cell_type": "code",
   "execution_count": 165,
   "outputs": [],
   "source": [
    "class Symbol:\n",
    "    pass"
   ],
   "metadata": {
    "collapsed": false,
    "pycharm": {
     "name": "#%%\n"
    }
   }
  },
  {
   "cell_type": "code",
   "execution_count": 166,
   "outputs": [],
   "source": [
    "class TopLevelSymbol(Symbol):\n",
    "    pass"
   ],
   "metadata": {
    "collapsed": false,
    "pycharm": {
     "name": "#%%\n"
    }
   }
  },
  {
   "cell_type": "code",
   "execution_count": 167,
   "outputs": [],
   "source": [
    "@dataclass(order=True, frozen=True)\n",
    "class Function(TopLevelSymbol):\n",
    "    name: Optional[str] = None\n",
    "\n",
    "    def __str__(self):\n",
    "        if self.name is None:\n",
    "            return '()'\n",
    "        else:\n",
    "            return self.name"
   ],
   "metadata": {
    "collapsed": false,
    "pycharm": {
     "name": "#%%\n"
    }
   }
  },
  {
   "cell_type": "code",
   "execution_count": 168,
   "outputs": [],
   "source": [
    "@dataclass(order=True, frozen=True)\n",
    "class Atom:\n",
    "    symbol: TopLevelSymbol = field(default_factory=Function)\n",
    "\n",
    "    def __str__(self):\n",
    "        return str(self.symbol)"
   ],
   "metadata": {
    "collapsed": false,
    "pycharm": {
     "name": "#%%\n"
    }
   }
  },
  {
   "cell_type": "code",
   "execution_count": 169,
   "outputs": [],
   "source": [
    "class Literal:\n",
    "    pass"
   ],
   "metadata": {
    "collapsed": false,
    "pycharm": {
     "name": "#%%\n"
    }
   }
  },
  {
   "cell_type": "code",
   "execution_count": 170,
   "outputs": [],
   "source": [
    "class Sign(IntEnum):\n",
    "    NoSign = 0\n",
    "    Negation = 1\n",
    "\n",
    "    def __str__(self):\n",
    "        if self is Sign.NoSign:\n",
    "            return ''\n",
    "        elif self is Sign.Negation:\n",
    "            return 'not'\n",
    "        else:\n",
    "            assert False, 'Unknown IntEnum {} = {}.'.format(self.name, self.value)\n"
   ],
   "metadata": {
    "collapsed": false,
    "pycharm": {
     "name": "#%%\n"
    }
   }
  },
  {
   "cell_type": "code",
   "execution_count": 171,
   "outputs": [],
   "source": [
    "@dataclass(order=True, frozen=True)\n",
    "class BasicLiteral(Literal):\n",
    "    sign: Sign = Sign.NoSign\n",
    "    atom: Atom = field(default_factory=Atom)\n",
    "\n",
    "    def __str__(self):\n",
    "        if self.sign is Sign.NoSign:\n",
    "            return \"{}\".format(self.atom)\n",
    "        else:\n",
    "            return \"{} {}\".format(self.sign, self.atom)\n",
    "\n",
    "    def __neg__(self):\n",
    "        return BasicLiteral(Sign((self.sign ^ 1) % 2), self.atom)\n",
    "\n",
    "    def __abs__(self):\n",
    "        return BasicLiteral(Sign.NoSign, self.atom)\n",
    "\n",
    "    @property\n",
    "    def is_pos(self) -> bool:\n",
    "        return self.sign is Sign.NoSign\n",
    "\n",
    "    @property\n",
    "    def is_neg(self) -> bool:\n",
    "        return self.sign is Sign.Negation"
   ],
   "metadata": {
    "collapsed": false,
    "pycharm": {
     "name": "#%%\n"
    }
   }
  },
  {
   "cell_type": "code",
   "execution_count": 172,
   "outputs": [],
   "source": [
    "class Rule:\n",
    "    @staticmethod\n",
    "    def fmt_body(body: Sequence[BasicLiteral]):\n",
    "        return ', '.join(map(str, body))"
   ],
   "metadata": {
    "collapsed": false,
    "pycharm": {
     "name": "#%%\n"
    }
   }
  },
  {
   "cell_type": "code",
   "execution_count": 173,
   "outputs": [],
   "source": [
    "@dataclass(order=True, frozen=True)\n",
    "class NormalRule(Rule):\n",
    "    head: BasicLiteral = field(default_factory=BasicLiteral)\n",
    "    body: Sequence[BasicLiteral] = ()\n",
    "\n",
    "    def __str__(self):\n",
    "        if self.body:\n",
    "            return \"{} :- {}.\".format(self.head, Rule.fmt_body(self.body))\n",
    "        else:\n",
    "            return \"{}.\".format(self.head)"
   ],
   "metadata": {
    "collapsed": false,
    "pycharm": {
     "name": "#%%\n"
    }
   }
  },
  {
   "cell_type": "code",
   "execution_count": 174,
   "outputs": [],
   "source": [
    "@dataclass(order=True, frozen=True)\n",
    "class IntegrityConstraint(Rule):\n",
    "    body: Sequence[BasicLiteral] = ()\n",
    "\n",
    "    @property\n",
    "    def head(self):\n",
    "        return False\n",
    "\n",
    "    def __str__(self):\n",
    "        if self.body:\n",
    "            return '#false :- {}.'.format(Rule.fmt_body(self.body))\n",
    "        else:\n",
    "            return '#false.'\n"
   ],
   "metadata": {
    "collapsed": false,
    "pycharm": {
     "name": "#%%\n"
    }
   }
  },
  {
   "cell_type": "code",
   "execution_count": 175,
   "outputs": [],
   "source": [
    "@dataclass(order=True, frozen=True)\n",
    "class Goal(Rule):\n",
    "    body: Sequence[BasicLiteral] = ()\n",
    "\n",
    "    @property\n",
    "    def head(self):\n",
    "        return True\n",
    "\n",
    "    def __str__(self):\n",
    "        if self.body:\n",
    "            return '#true :- {}.'.format(Rule.fmt_body(self.body))\n",
    "        else:\n",
    "            return '#true.'"
   ],
   "metadata": {
    "collapsed": false,
    "pycharm": {
     "name": "#%%\n"
    }
   }
  },
  {
   "cell_type": "code",
   "execution_count": 176,
   "outputs": [],
   "source": [
    "ForwardProof = TypeVar('ForwardProof', bound='Proof')\n",
    "\n",
    "\n",
    "@dataclass\n",
    "class Proof:\n",
    "    parent: ForwardProof = field(repr=False, default=None)\n",
    "    idx: int = 0\n",
    "    subject: Optional[Rule] = field(default=None)\n",
    "    children: MutableSequence[ForwardProof] = field(default_factory=list)\n",
    "    hypotheses: Set[Literal] = field(default_factory=set)"
   ],
   "metadata": {
    "collapsed": false,
    "pycharm": {
     "name": "#%%\n"
    }
   }
  },
  {
   "cell_type": "code",
   "execution_count": 177,
   "outputs": [],
   "source": [
    "@dataclass(order=True, frozen=True)\n",
    "class Program:\n",
    "    rules: Sequence[Rule] = ()\n",
    "\n",
    "    def fmt(self, sep=' ', begin=None, end=None):\n",
    "        b = begin + sep if begin is not None else ''\n",
    "        e = sep + end if end is not None else ''\n",
    "        return \"{}{}{}\".format(b, sep.join(map(str, self.rules)), e)\n",
    "\n",
    "    def __str__(self):\n",
    "        return self.fmt()\n",
    "\n",
    "    @cached_property\n",
    "    def dual(self):  #type Program\n",
    "        return Program.dual_of(self.rules)\n",
    "\n",
    "    @cached_property\n",
    "    def sASP(self):\n",
    "        sasp_rules = list(self.rules)\n",
    "        sasp_rules.extend(self.dual_of(tuple(self.non_constraint_rules)).rules)\n",
    "\n",
    "        chk_rules = []\n",
    "        nmr_chk_head = BasicLiteral(atom=Atom(Function(\"__nmr_chk\")))\n",
    "        nmr_chk_body = []\n",
    "        for i, c_rule in enumerate(self.constraint_rules):\n",
    "            chk_head = BasicLiteral(atom=Atom(Function(\"__chk_{}_{}\".format(c_rule.head.atom.symbol.name, i))))\n",
    "            chk_body = (-c_rule.head, *(body_literal for body_literal in c_rule.body if -c_rule.head != body_literal))\n",
    "            chk_rule = NormalRule(head=chk_head, body=chk_body)\n",
    "            nmr_chk_body.append(-chk_head)\n",
    "\n",
    "            chk_rules.append(chk_rule)\n",
    "        sasp_rules.extend(Program.dual_of(chk_rules).rules)\n",
    "        nmr_chk_rule = NormalRule(head=nmr_chk_head, body=nmr_chk_body)\n",
    "        sasp_rules.append(nmr_chk_rule)\n",
    "        return Program(rules=sasp_rules)\n",
    "\n",
    "    @cached_property\n",
    "    def reachable(self) -> Dict[Rule, Set[Literal]]:\n",
    "        reachable = defaultdict(set)\n",
    "        for rule in self.rules:\n",
    "            considered = set()\n",
    "            literal_stack = []\n",
    "            naf_stack = []\n",
    "            literal_stack.extend(rule.body)\n",
    "            naf_stack.extend([0 for _ in rule.body])\n",
    "            while literal_stack:\n",
    "                literal = literal_stack.pop()\n",
    "                naf = naf_stack.pop()\n",
    "                naf = (naf + literal.is_neg) % 2\n",
    "                reachable[rule].add(BasicLiteral(Sign(naf), literal.atom))\n",
    "                for adj in self.rules:\n",
    "                    if adj not in considered and adj.head == abs(literal):\n",
    "                        considered.add(adj)\n",
    "                        literal_stack.extend(adj.body)\n",
    "                        naf_stack.extend([naf for _ in adj.body])\n",
    "        return reachable\n",
    "\n",
    "    @property\n",
    "    def constraint_rules(self) -> Iterator[Rule]:\n",
    "        for rule, reachable in self.reachable.items():\n",
    "            if -rule.head in reachable:\n",
    "                yield rule\n",
    "\n",
    "    @property\n",
    "    def non_constraint_rules(self) -> Iterator[Rule]:\n",
    "        for rule, reachable in self.reachable.items():\n",
    "            if rule.head in reachable or -rule.head not in reachable:\n",
    "                yield rule\n",
    "\n",
    "    def evaluate_top_down(self, *atoms: Atom):\n",
    "        hypothesis_set = set()\n",
    "        for rule in self.rules:\n",
    "            if not rule.body:\n",
    "                hypothesis_set.add(rule.head)\n",
    "        proofs = []\n",
    "        rules = self.sASP.rules\n",
    "        __nmr_chk = BasicLiteral(atom=Atom(Function('__nmr_chk')))\n",
    "        root = Proof(subject=Goal(body=(*atoms, __nmr_chk)), hypotheses=hypothesis_set)\n",
    "        stack = [root]\n",
    "        while stack:\n",
    "            current = stack.pop()\n",
    "            assert isinstance(current, Proof)\n",
    "            if current.idx >= len(current.subject.body):\n",
    "                if current.parent is None:\n",
    "                    proofs.append(current)\n",
    "                else:\n",
    "                    parent = deepcopy(current.parent)\n",
    "                    parent.hypotheses = current.hypotheses\n",
    "                    parent.idx += 1\n",
    "                    stack.append(parent)\n",
    "            else:\n",
    "                literal = current.subject.body[current.idx]\n",
    "                for rule in rules:\n",
    "                    if rule.head == literal:\n",
    "                        child = Proof(parent=current, subject=rule, hypotheses=current.hypotheses)\n",
    "                        current.children.append(child)\n",
    "                        stack.append(child)\n",
    "\n",
    "        return proofs\n",
    "\n",
    "    @staticmethod\n",
    "    def dual_of(rules):\n",
    "        lit_rules = dict()\n",
    "        for rule in rules:\n",
    "            head = rule.head\n",
    "            if isinstance(rule, NormalRule):\n",
    "                lit_rules.setdefault(head, set()).add(rule)\n",
    "\n",
    "        dual_rules = []\n",
    "        for literal, rules in lit_rules.items():\n",
    "            if isinstance(literal, bool):\n",
    "                pass\n",
    "            elif isinstance(literal, BasicLiteral):\n",
    "                if len(rules) == 1:\n",
    "                    rules = tuple(rules)\n",
    "                    rule = rules[0]\n",
    "                    dual_head = -literal\n",
    "                    if not rule.body:\n",
    "                        dual_bodies = ((),)\n",
    "                    else:\n",
    "                        dual_bodies = []\n",
    "                        for body_literal in rule.body:\n",
    "                            dual_bodies.append((-body_literal,))\n",
    "                    for dual_body in dual_bodies:\n",
    "                        dual_rules.append(NormalRule(head=dual_head, body=dual_body))\n",
    "                elif len(rules) > 1:\n",
    "                    dual_head = -literal\n",
    "                    dual_body = []\n",
    "                    support_dual_rules = []\n",
    "                    for i, rule in enumerate(rules):\n",
    "                        if len(rule.body) == 1:\n",
    "                            dual_body.append(-rule.body[0])\n",
    "                        elif len(rule.body) > 1:\n",
    "                            support_dual_head = BasicLiteral(\n",
    "                                atom=Atom(Function(\"__not_{}_{}\".format(literal.atom.symbol.name, i))))\n",
    "                            dual_body.append(support_dual_head)\n",
    "                            if not rule.body:\n",
    "                                support_dual_bodies = ((),)\n",
    "                            else:\n",
    "                                support_dual_bodies = []\n",
    "                                for body_literal in rule.body:\n",
    "                                    support_dual_bodies.append((-body_literal,))\n",
    "                            for support_dual_body in support_dual_bodies:\n",
    "                                support_dual_rules.append(NormalRule(head=support_dual_head, body=support_dual_body))\n",
    "                    dual_rules.append(NormalRule(head=dual_head, body=dual_body))\n",
    "                    dual_rules.extend(support_dual_rules)\n",
    "        return Program(rules=dual_rules)"
   ],
   "metadata": {
    "collapsed": false,
    "pycharm": {
     "name": "#%%\n"
    }
   }
  },
  {
   "cell_type": "markdown",
   "source": [],
   "metadata": {
    "collapsed": false
   }
  },
  {
   "cell_type": "code",
   "execution_count": 178,
   "outputs": [],
   "source": [
    "q = BasicLiteral(atom=Atom(Function('q')))\n",
    "p = BasicLiteral(atom=Atom(Function('p')))\n",
    "r = BasicLiteral(atom=Atom(Function('r')))\n",
    "###\n",
    "a = BasicLiteral(atom=Atom(Function('a')))\n",
    "b = BasicLiteral(atom=Atom(Function('b')))\n",
    "c = BasicLiteral(atom=Atom(Function('c')))\n",
    "d = BasicLiteral(atom=Atom(Function('d')))\n",
    "e = BasicLiteral(atom=Atom(Function('e')))\n",
    "f = BasicLiteral(atom=Atom(Function('f')))\n",
    "k = BasicLiteral(atom=Atom(Function('k')))\n"
   ],
   "metadata": {
    "collapsed": false,
    "pycharm": {
     "name": "#%%\n"
    }
   }
  },
  {
   "cell_type": "code",
   "execution_count": 179,
   "outputs": [
    {
     "name": "stdout",
     "output_type": "stream",
     "text": [
      "p :- not q.\n",
      "q :- not r.\n",
      "r :- not p.\n",
      "q :- not p.\n",
      "----------\n",
      "not p :- q.\n",
      "not q :- p, r.\n",
      "not r :- p.\n",
      "----------\n",
      "p :- not q.\n",
      "q :- not r.\n",
      "r :- not p.\n",
      "q :- not p.\n",
      "not p :- q.\n",
      "not q :- p.\n",
      "not __chk_p_0 :- p.\n",
      "not __chk_p_0 :- q.\n",
      "not __chk_q_1 :- q.\n",
      "not __chk_q_1 :- r.\n",
      "not __chk_r_2 :- r.\n",
      "not __chk_r_2 :- p.\n",
      "__nmr_chk :- not __chk_p_0, not __chk_q_1, not __chk_r_2.\n"
     ]
    }
   ],
   "source": [
    "p1 = Program(rules=(\n",
    "    NormalRule(head=p, body=(-q,)),\n",
    "    NormalRule(head=q, body=(-r,)),\n",
    "    NormalRule(head=r, body=(-p,)),\n",
    "    NormalRule(head=q, body=(-p,)),\n",
    "))\n",
    "print(p1.fmt('\\n'))  # AS: {{q, r}}\n",
    "print('-' * 10)\n",
    "d1 = p1.dual\n",
    "print(d1.fmt('\\n'))\n",
    "print('-' * 10)\n",
    "s1 = p1.sASP\n",
    "print(s1.fmt('\\n'))\n"
   ],
   "metadata": {
    "collapsed": false,
    "pycharm": {
     "name": "#%%\n"
    }
   }
  },
  {
   "cell_type": "code",
   "execution_count": 180,
   "outputs": [
    {
     "name": "stdout",
     "output_type": "stream",
     "text": [
      "q:\n",
      "r:\n"
     ]
    }
   ],
   "source": [
    "answer_sets = p1.evaluate_top_down(Goal((q,)))\n",
    "print(\"q:\")\n",
    "for answer_set in answer_sets:\n",
    "    print(\"{\", end='')\n",
    "    print(', '.join(map(str, answer_set)), end='')\n",
    "    print(\"}\")\n",
    "\n",
    "print(\"r:\")\n",
    "answer_sets = p1.evaluate_top_down(Goal((r,)))\n",
    "for answer_set in answer_sets:\n",
    "    print(\"{\", end='')\n",
    "    print(', '.join(map(str, answer_set)), end='')\n",
    "    print(\"}\")"
   ],
   "metadata": {
    "collapsed": false,
    "pycharm": {
     "name": "#%%\n"
    }
   }
  },
  {
   "cell_type": "code",
   "execution_count": 181,
   "outputs": [
    {
     "name": "stdout",
     "output_type": "stream",
     "text": [
      "q :- not r.\n",
      "r :- not q.\n",
      "p :- not p.\n",
      "p :- not r.\n",
      "----------\n",
      "not q :- r.\n",
      "not r :- q.\n",
      "not p :- p, r.\n",
      "----------\n",
      "q :- not r.\n",
      "r :- not q.\n",
      "p :- not p.\n",
      "p :- not r.\n",
      "not q :- r.\n",
      "not r :- q.\n",
      "not p :- p, r.\n",
      "not __chk_p_0 :- p.\n",
      "__nmr_chk :- not __chk_p_0.\n"
     ]
    }
   ],
   "source": [
    "p2 = Program(rules=(\n",
    "    NormalRule(head=q, body=(-r,)),\n",
    "    NormalRule(head=r, body=(-q,)),\n",
    "    NormalRule(head=p, body=(-p,)),\n",
    "    NormalRule(head=p, body=(-r,)),\n",
    "))\n",
    "print(p2.fmt('\\n'))  # AS: {{q, p}}\n",
    "print('-' * 10)\n",
    "d2 = p2.dual\n",
    "print(d2.fmt('\\n'))\n",
    "print('-' * 10)\n",
    "s2 = p2.sASP\n",
    "print(s2.fmt('\\n'))\n"
   ],
   "metadata": {
    "collapsed": false,
    "pycharm": {
     "name": "#%%\n"
    }
   }
  },
  {
   "cell_type": "code",
   "execution_count": 182,
   "outputs": [
    {
     "name": "stdout",
     "output_type": "stream",
     "text": [
      "p:\n",
      "q:\n"
     ]
    }
   ],
   "source": [
    "answer_sets = p2.evaluate_top_down(Goal((p,)))\n",
    "print(\"p:\")\n",
    "for answer_set in answer_sets:\n",
    "    print(\"{\", end='')\n",
    "    print(', '.join(map(str, answer_set)), end='')\n",
    "    print(\"}\")\n",
    "\n",
    "print(\"q:\")\n",
    "answer_sets = p2.evaluate_top_down(Goal((q,)))\n",
    "for answer_set in answer_sets:\n",
    "    print(\"{\", end='')\n",
    "    print(', '.join(map(str, answer_set)), end='')\n",
    "    print(\"}\")"
   ],
   "metadata": {
    "collapsed": false,
    "pycharm": {
     "name": "#%%\n"
    }
   }
  },
  {
   "cell_type": "code",
   "execution_count": 183,
   "outputs": [
    {
     "name": "stdout",
     "output_type": "stream",
     "text": [
      "a :- b, d.\n",
      "b :- d.\n",
      "c :- d.\n",
      "d.\n",
      "----------\n",
      "not a :- not b.\n",
      "not a :- not d.\n",
      "not b :- not d.\n",
      "not c :- not d.\n",
      "not d.\n"
     ]
    }
   ],
   "source": [
    "p3 = Program(rules=(\n",
    "    NormalRule(head=a, body=(b, d)),\n",
    "    NormalRule(head=b, body=(d,)),\n",
    "    NormalRule(head=c, body=(d,)),\n",
    "    NormalRule(head=d, body=()),\n",
    "))\n",
    "print(p3.fmt('\\n'))\n",
    "print('-' * 10)\n",
    "d3 = p3.dual\n",
    "print(d3.fmt('\\n'))"
   ],
   "metadata": {
    "collapsed": false,
    "pycharm": {
     "name": "#%%\n"
    }
   }
  },
  {
   "cell_type": "code",
   "execution_count": 184,
   "outputs": [
    {
     "name": "stdout",
     "output_type": "stream",
     "text": [
      "a:\n",
      "c:\n"
     ]
    }
   ],
   "source": [
    "answer_sets = p3.evaluate_top_down(Goal((a,)))\n",
    "print(\"a:\")\n",
    "for answer_set in answer_sets:\n",
    "    print(\"{\", end='')\n",
    "    print(', '.join(map(str, answer_set)), end='')\n",
    "    print(\"}\")\n",
    "\n",
    "print(\"c:\")\n",
    "answer_sets = p3.evaluate_top_down(Goal((c,)))\n",
    "for answer_set in answer_sets:\n",
    "    print(\"{\", end='')\n",
    "    print(', '.join(map(str, answer_set)), end='')\n",
    "    print(\"}\")"
   ],
   "metadata": {
    "collapsed": false,
    "pycharm": {
     "name": "#%%\n"
    }
   }
  },
  {
   "cell_type": "code",
   "execution_count": 185,
   "outputs": [
    {
     "name": "stdout",
     "output_type": "stream",
     "text": [
      "a :- k, not b.\n",
      "k :- e, not b.\n",
      "c :- a, b.\n",
      "b :- not a.\n",
      "c :- k.\n",
      "f :- e, k, not c.\n",
      "e.\n",
      "----------\n",
      "not a :- not k.\n",
      "not a :- b.\n",
      "not k :- not e.\n",
      "not k :- b.\n",
      "not c :- not k, __not_c_1.\n",
      "__not_c_1 :- not a.\n",
      "__not_c_1 :- not b.\n",
      "not b :- a.\n",
      "not f :- not e.\n",
      "not f :- not k.\n",
      "not f :- c.\n",
      "not e.\n"
     ]
    }
   ],
   "source": [
    "p4 = Program(rules=(\n",
    "    NormalRule(head=a, body=(k, -b)),\n",
    "    NormalRule(head=k, body=(e, -b)),\n",
    "    NormalRule(head=c, body=(a, b)),\n",
    "    NormalRule(head=b, body=(-a,)),\n",
    "    NormalRule(head=c, body=(k,)),\n",
    "    NormalRule(head=f, body=(e, k, -c)),\n",
    "    NormalRule(head=e),\n",
    "))\n",
    "print(p4.fmt('\\n'))\n",
    "print('-' * 10)\n",
    "d4 = p4.dual\n",
    "print(d4.fmt('\\n'))"
   ],
   "metadata": {
    "collapsed": false,
    "pycharm": {
     "name": "#%%\n"
    }
   }
  },
  {
   "cell_type": "code",
   "execution_count": 186,
   "outputs": [
    {
     "name": "stdout",
     "output_type": "stream",
     "text": [
      "b:\n",
      "e:\n",
      "b,e,f:\n",
      "c:\n"
     ]
    }
   ],
   "source": [
    "answer_sets = p4.evaluate_top_down(Goal((b,)))\n",
    "print(\"b:\")\n",
    "for answer_set in answer_sets:\n",
    "    print(\"{\", end='')\n",
    "    print(', '.join(map(str, answer_set)), end='')\n",
    "    print(\"}\")\n",
    "\n",
    "answer_sets = p4.evaluate_top_down(Goal((e,)))\n",
    "print(\"e:\")\n",
    "for answer_set in answer_sets:\n",
    "    print(\"{\", end='')\n",
    "    print(', '.join(map(str, answer_set)), end='')\n",
    "    print(\"}\")\n",
    "\n",
    "answer_sets = p4.evaluate_top_down(Goal((b, e, f)))\n",
    "print(\"b,e,f:\")\n",
    "for answer_set in answer_sets:\n",
    "    print(\"{\", end='')\n",
    "    print(', '.join(map(str, answer_set)), end='')\n",
    "    print(\"}\")\n",
    "\n",
    "print(\"c:\")\n",
    "answer_sets = p4.evaluate_top_down(Goal((c,)))\n",
    "for answer_set in answer_sets:\n",
    "    print(\"{\", end='')\n",
    "    print(', '.join(map(str, answer_set)), end='')\n",
    "    print(\"}\")"
   ],
   "metadata": {
    "collapsed": false,
    "pycharm": {
     "name": "#%%\n"
    }
   }
  },
  {
   "cell_type": "code",
   "execution_count": 187,
   "outputs": [
    {
     "name": "stdout",
     "output_type": "stream",
     "text": [
      "% C:\n",
      "p :- a, not q.\n",
      "r :- c, not p.\n",
      "q :- b, not r.\n",
      "% NC:\n",
      "q :- d, not p.\n",
      "p :- a, not q.\n"
     ]
    }
   ],
   "source": [
    "p5 = Program(rules=(\n",
    "    NormalRule(head=p, body=(a, -q)),\n",
    "    NormalRule(head=q, body=(b, -r)),\n",
    "    NormalRule(head=r, body=(c, -p)),\n",
    "    NormalRule(head=q, body=(d, -p)),\n",
    "))\n",
    "print(\"% C:\")\n",
    "print('\\n'.join(map(str, set(p5.constraint_rules))))\n",
    "print(\"% NC:\")\n",
    "print('\\n'.join(map(str, set(p5.non_constraint_rules))))"
   ],
   "metadata": {
    "collapsed": false,
    "pycharm": {
     "name": "#%%\n"
    }
   }
  },
  {
   "cell_type": "code",
   "execution_count": 188,
   "outputs": [
    {
     "name": "stdout",
     "output_type": "stream",
     "text": [
      "a :- not b.\n",
      "b :- not a.\n",
      "----------\n",
      "not a :- b.\n",
      "not b :- a.\n",
      "----------\n",
      "a :- not b.\n",
      "b :- not a.\n",
      "not a :- b.\n",
      "not b :- a.\n",
      "__nmr_chk.\n"
     ]
    }
   ],
   "source": [
    "p6 = Program(rules=(\n",
    "    NormalRule(head=a, body=(-b,)),\n",
    "    NormalRule(head=b, body=(-a,)),\n",
    "))\n",
    "print(p6.fmt('\\n'))  # AS: {{q, p}}\n",
    "print('-' * 10)\n",
    "d6 = p6.dual\n",
    "print(d6.fmt('\\n'))\n",
    "print('-' * 10)\n",
    "s6 = p6.sASP\n",
    "print(s6.fmt('\\n'))"
   ],
   "metadata": {
    "collapsed": false,
    "pycharm": {
     "name": "#%%\n"
    }
   }
  },
  {
   "cell_type": "code",
   "execution_count": 189,
   "outputs": [
    {
     "name": "stdout",
     "output_type": "stream",
     "text": [
      "a :- not b.\n",
      "b :- not c.\n",
      "c :- not a.\n",
      "----------\n",
      "not a :- b.\n",
      "not b :- c.\n",
      "not c :- a.\n",
      "----------\n",
      "a :- not b.\n",
      "b :- not c.\n",
      "c :- not a.\n",
      "not __chk_a_0 :- a.\n",
      "not __chk_a_0 :- b.\n",
      "not __chk_b_1 :- b.\n",
      "not __chk_b_1 :- c.\n",
      "not __chk_c_2 :- c.\n",
      "not __chk_c_2 :- a.\n",
      "__nmr_chk :- not __chk_a_0, not __chk_b_1, not __chk_c_2.\n"
     ]
    }
   ],
   "source": [
    "p7 = Program(rules=(\n",
    "    NormalRule(head=a, body=(-b,)),\n",
    "    NormalRule(head=b, body=(-c,)),\n",
    "    NormalRule(head=c, body=(-a,)),\n",
    "))\n",
    "print(p7.fmt('\\n'))  # AS: {{q, p}}\n",
    "print('-' * 10)\n",
    "d7 = p7.dual\n",
    "print(d7.fmt('\\n'))\n",
    "print('-' * 10)\n",
    "s7 = p7.sASP\n",
    "print(s7.fmt('\\n'))"
   ],
   "metadata": {
    "collapsed": false,
    "pycharm": {
     "name": "#%%\n"
    }
   }
  }
 ],
 "metadata": {
  "kernelspec": {
   "display_name": "Python 3",
   "language": "python",
   "name": "python3"
  },
  "language_info": {
   "codemirror_mode": {
    "name": "ipython",
    "version": 2
   },
   "file_extension": ".py",
   "mimetype": "text/x-python",
   "name": "python",
   "nbconvert_exporter": "python",
   "pygments_lexer": "ipython2",
   "version": "2.7.6"
  }
 },
 "nbformat": 4,
 "nbformat_minor": 0
}