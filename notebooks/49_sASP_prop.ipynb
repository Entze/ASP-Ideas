{
 "cells": [
  {
   "cell_type": "code",
   "execution_count": 1,
   "outputs": [],
   "source": [
    "from dataclasses import dataclass, field\n",
    "from enum import IntEnum\n",
    "from functools import cached_property\n",
    "from typing import Optional, Sequence"
   ],
   "metadata": {
    "collapsed": false,
    "pycharm": {
     "name": "#%%\n"
    }
   }
  },
  {
   "cell_type": "code",
   "execution_count": 2,
   "outputs": [],
   "source": [
    "class Symbol:\n",
    "    pass"
   ],
   "metadata": {
    "collapsed": false,
    "pycharm": {
     "name": "#%%\n"
    }
   }
  },
  {
   "cell_type": "code",
   "execution_count": 3,
   "outputs": [],
   "source": [
    "class TopLevelSymbol(Symbol):\n",
    "    pass"
   ],
   "metadata": {
    "collapsed": false,
    "pycharm": {
     "name": "#%%\n"
    }
   }
  },
  {
   "cell_type": "code",
   "execution_count": 4,
   "outputs": [],
   "source": [
    "@dataclass(order=True, frozen=True)\n",
    "class Function(TopLevelSymbol):\n",
    "    name: Optional[str] = None\n",
    "\n",
    "    def __str__(self):\n",
    "        if self.name is None:\n",
    "            return '()'\n",
    "        else:\n",
    "            return self.name"
   ],
   "metadata": {
    "collapsed": false,
    "pycharm": {
     "name": "#%%\n"
    }
   }
  },
  {
   "cell_type": "code",
   "execution_count": 5,
   "outputs": [],
   "source": [
    "@dataclass(order=True, frozen=True)\n",
    "class Atom:\n",
    "    symbol: TopLevelSymbol = field(default_factory=Function)\n",
    "\n",
    "    def __str__(self):\n",
    "        return str(self.symbol)"
   ],
   "metadata": {
    "collapsed": false,
    "pycharm": {
     "name": "#%%\n"
    }
   }
  },
  {
   "cell_type": "code",
   "execution_count": 6,
   "outputs": [],
   "source": [
    "class Literal:\n",
    "    pass"
   ],
   "metadata": {
    "collapsed": false,
    "pycharm": {
     "name": "#%%\n"
    }
   }
  },
  {
   "cell_type": "code",
   "execution_count": 7,
   "outputs": [],
   "source": [
    "class Sign(IntEnum):\n",
    "    NoSign = 0\n",
    "    Negation = 1\n",
    "\n",
    "    def __str__(self):\n",
    "        if self is Sign.NoSign:\n",
    "            return ''\n",
    "        elif self is Sign.Negation:\n",
    "            return 'not'\n",
    "        else:\n",
    "            assert False, 'Unknown IntEnum {} = {}.'.format(self.name, self.value)\n"
   ],
   "metadata": {
    "collapsed": false,
    "pycharm": {
     "name": "#%%\n"
    }
   }
  },
  {
   "cell_type": "code",
   "execution_count": 8,
   "outputs": [],
   "source": [
    "@dataclass(order=True, frozen=True)\n",
    "class BasicLiteral(Literal):\n",
    "    sign: Sign = Sign.NoSign\n",
    "    atom: Atom = field(default_factory=Atom)\n",
    "\n",
    "    def __str__(self):\n",
    "        if self.sign is Sign.NoSign:\n",
    "            return \"{}\".format(self.atom)\n",
    "        else:\n",
    "            return \"{} {}\".format(self.sign, self.atom)\n",
    "\n",
    "    def __neg__(self):\n",
    "        return BasicLiteral(Sign((self.sign ^ 1) % 2), self.atom)\n"
   ],
   "metadata": {
    "collapsed": false,
    "pycharm": {
     "name": "#%%\n"
    }
   }
  },
  {
   "cell_type": "code",
   "execution_count": 9,
   "outputs": [],
   "source": [
    "class Rule:\n",
    "    @staticmethod\n",
    "    def fmt_body(body: Sequence[BasicLiteral]):\n",
    "        return ', '.join(map(str, body))"
   ],
   "metadata": {
    "collapsed": false,
    "pycharm": {
     "name": "#%%\n"
    }
   }
  },
  {
   "cell_type": "code",
   "execution_count": 10,
   "outputs": [],
   "source": [
    "@dataclass(order=True, frozen=True)\n",
    "class NormalRule(Rule):\n",
    "    head: BasicLiteral = field(default_factory=BasicLiteral)\n",
    "    body: Sequence[BasicLiteral] = ()\n",
    "\n",
    "    def __str__(self):\n",
    "        if self.body:\n",
    "            return \"{} :- {}.\".format(self.head, Rule.fmt_body(self.body))\n",
    "        else:\n",
    "            return \"{}.\".format(self.head)"
   ],
   "metadata": {
    "collapsed": false,
    "pycharm": {
     "name": "#%%\n"
    }
   }
  },
  {
   "cell_type": "code",
   "execution_count": 11,
   "outputs": [],
   "source": [
    "@dataclass(order=True, frozen=True)\n",
    "class Constraint(Rule):\n",
    "    body: Sequence[BasicLiteral] = ()\n",
    "\n",
    "    @property\n",
    "    def head(self):\n",
    "        return False\n",
    "\n",
    "    def __str__(self):\n",
    "        if self.body:\n",
    "            return '#false :- {}.'.format(Rule.fmt_body(self.body))\n",
    "        else:\n",
    "            return '#false.'\n"
   ],
   "metadata": {
    "collapsed": false,
    "pycharm": {
     "name": "#%%\n"
    }
   }
  },
  {
   "cell_type": "code",
   "execution_count": 12,
   "outputs": [],
   "source": [
    "@dataclass(order=True, frozen=True)\n",
    "class Goal(Rule):\n",
    "    body: Sequence[BasicLiteral] = ()\n",
    "\n",
    "    @property\n",
    "    def head(self):\n",
    "        return True\n",
    "\n",
    "    def __str__(self):\n",
    "        if self.body:\n",
    "            return '#true :- {}.'.format(Rule.fmt_body(self.body))\n",
    "        else:\n",
    "            return '#true.'"
   ],
   "metadata": {
    "collapsed": false,
    "pycharm": {
     "name": "#%%\n"
    }
   }
  },
  {
   "cell_type": "code",
   "execution_count": 13,
   "outputs": [],
   "source": [
    "@dataclass(order=True, frozen=True)\n",
    "class Program:\n",
    "    rules: Sequence[Rule] = ()\n",
    "\n",
    "    def fmt(self, sep=' ', begin=None, end=None):\n",
    "        b = begin + sep if begin is not None else ''\n",
    "        e = sep + end if end is not None else ''\n",
    "        return \"{}{}{}\".format(b, sep.join(map(str, self.rules)), e)\n",
    "\n",
    "    def __str__(self):\n",
    "        return self.fmt()\n",
    "\n",
    "    @cached_property\n",
    "    def dual(self):  #type Program\n",
    "        lit_rules = dict()\n",
    "        for rule in self.rules:\n",
    "            head = rule.head\n",
    "            if isinstance(rule, NormalRule):\n",
    "                lit_rules.setdefault(head, set()).add(rule)\n",
    "\n",
    "        dual_rules = []\n",
    "        for literal, rules in lit_rules.items():\n",
    "            if isinstance(literal, bool):\n",
    "                pass\n",
    "            elif isinstance(literal, BasicLiteral):\n",
    "                if len(rules) == 1:\n",
    "                    rules = tuple(rules)\n",
    "                    rule = rules[0]\n",
    "                    dual_head = -literal\n",
    "                    if not rule.body:\n",
    "                        dual_bodies = ((),)\n",
    "                    else:\n",
    "                        dual_bodies = []\n",
    "                        for body_literal in rule.body:\n",
    "                            dual_bodies.append((-body_literal,))\n",
    "                    for dual_body in dual_bodies:\n",
    "                        dual_rules.append(NormalRule(head=dual_head, body=dual_body))\n",
    "                elif len(rules) > 1:\n",
    "                    dual_head = -literal\n",
    "                    dual_body = []\n",
    "                    support_dual_rules = []\n",
    "                    for i, rule in enumerate(rules):\n",
    "                        if len(rule.body) == 1:\n",
    "                            dual_body.append(-rule.body[0])\n",
    "                        elif len(rule.body) > 1:\n",
    "                            support_dual_head = BasicLiteral(\n",
    "                                atom=Atom(Function(\"__not_{}_{}\".format(literal.atom.symbol.name, i))))\n",
    "                            dual_body.append(support_dual_head)\n",
    "                            if not rule.body:\n",
    "                                support_dual_bodies = ((),)\n",
    "                            else:\n",
    "                                support_dual_bodies = []\n",
    "                                for body_literal in rule.body:\n",
    "                                    support_dual_bodies.append((-body_literal,))\n",
    "                            for support_dual_body in support_dual_bodies:\n",
    "                                support_dual_rules.append(NormalRule(head=support_dual_head, body=support_dual_body))\n",
    "                    dual_rules.append(NormalRule(head=dual_head, body=dual_body))\n",
    "                    dual_rules.extend(support_dual_rules)\n",
    "        return Program(rules=dual_rules)\n",
    "\n"
   ],
   "metadata": {
    "collapsed": false,
    "pycharm": {
     "name": "#%%\n"
    }
   }
  },
  {
   "cell_type": "markdown",
   "source": [],
   "metadata": {
    "collapsed": false
   }
  },
  {
   "cell_type": "code",
   "execution_count": 14,
   "outputs": [],
   "source": [
    "q = BasicLiteral(atom=Atom(Function('q')))\n",
    "p = BasicLiteral(atom=Atom(Function('p')))\n",
    "r = BasicLiteral(atom=Atom(Function('r')))\n",
    "###\n",
    "a = BasicLiteral(atom=Atom(Function('a')))\n",
    "b = BasicLiteral(atom=Atom(Function('b')))\n",
    "c = BasicLiteral(atom=Atom(Function('c')))\n",
    "d = BasicLiteral(atom=Atom(Function('d')))\n",
    "e = BasicLiteral(atom=Atom(Function('e')))\n",
    "f = BasicLiteral(atom=Atom(Function('f')))\n",
    "k = BasicLiteral(atom=Atom(Function('k')))\n"
   ],
   "metadata": {
    "collapsed": false,
    "pycharm": {
     "name": "#%%\n"
    }
   }
  },
  {
   "cell_type": "code",
   "execution_count": 15,
   "outputs": [
    {
     "name": "stdout",
     "output_type": "stream",
     "text": [
      "p :- not q.\n",
      "q :- not r.\n",
      "r :- not p.\n",
      "q :- not p.\n",
      "----------\n",
      "not p :- q.\n",
      "not q :- r, p.\n",
      "not r :- p.\n"
     ]
    }
   ],
   "source": [
    "p1 = Program(rules=(\n",
    "    NormalRule(head=p, body=(-q,)),\n",
    "    NormalRule(head=q, body=(-r,)),\n",
    "    NormalRule(head=r, body=(-p,)),\n",
    "    NormalRule(head=q, body=(-p,)),\n",
    "))\n",
    "print(p1.fmt('\\n'))  # AS: {{q, r}}\n",
    "print('-' * 10)\n",
    "d1 = p1.dual\n",
    "print(d1.fmt('\\n'))"
   ],
   "metadata": {
    "collapsed": false,
    "pycharm": {
     "name": "#%%\n"
    }
   }
  },
  {
   "cell_type": "code",
   "execution_count": 16,
   "outputs": [
    {
     "name": "stdout",
     "output_type": "stream",
     "text": [
      "q :- not r.\n",
      "r :- not q.\n",
      "p :- not p.\n",
      "p :- not r.\n",
      "----------\n",
      "not q :- r.\n",
      "not r :- q.\n",
      "not p :- r, p.\n"
     ]
    }
   ],
   "source": [
    "p2 = Program(rules=(\n",
    "    NormalRule(head=q, body=(-r,)),\n",
    "    NormalRule(head=r, body=(-q,)),\n",
    "    NormalRule(head=p, body=(-p,)),\n",
    "    NormalRule(head=p, body=(-r,)),\n",
    "))\n",
    "print(p2.fmt('\\n'))  # AS: {{q, p}}\n",
    "print('-' * 10)\n",
    "d2 = p2.dual\n",
    "print(d2.fmt('\\n'))"
   ],
   "metadata": {
    "collapsed": false,
    "pycharm": {
     "name": "#%%\n"
    }
   }
  },
  {
   "cell_type": "code",
   "execution_count": 17,
   "outputs": [
    {
     "name": "stdout",
     "output_type": "stream",
     "text": [
      "a :- b, d.\n",
      "b :- d.\n",
      "c :- d.\n",
      "d.\n",
      "----------\n",
      "not a :- not b.\n",
      "not a :- not d.\n",
      "not b :- not d.\n",
      "not c :- not d.\n",
      "not d.\n"
     ]
    }
   ],
   "source": [
    "p3 = Program(rules=(\n",
    "    NormalRule(head=a, body=(b, d)),\n",
    "    NormalRule(head=b, body=(d,)),\n",
    "    NormalRule(head=c, body=(d,)),\n",
    "    NormalRule(head=d, body=()),\n",
    "))\n",
    "print(p3.fmt('\\n'))\n",
    "print('-' * 10)\n",
    "d3 = p3.dual\n",
    "print(d3.fmt('\\n'))"
   ],
   "metadata": {
    "collapsed": false,
    "pycharm": {
     "name": "#%%\n"
    }
   }
  },
  {
   "cell_type": "code",
   "execution_count": 18,
   "outputs": [
    {
     "name": "stdout",
     "output_type": "stream",
     "text": [
      "a :- k, not b.\n",
      "k :- e, not b.\n",
      "c :- a, b.\n",
      "b :- not a.\n",
      "c :- k.\n",
      "f :- e, k, not c.\n",
      "e.\n",
      "----------\n",
      "not a :- not k.\n",
      "not a :- b.\n",
      "not k :- not e.\n",
      "not k :- b.\n",
      "not c :- __not_c_0, not k.\n",
      "__not_c_0 :- not a.\n",
      "__not_c_0 :- not b.\n",
      "not b :- a.\n",
      "not f :- not e.\n",
      "not f :- not k.\n",
      "not f :- c.\n",
      "not e.\n"
     ]
    }
   ],
   "source": [
    "p4 = Program(rules=(\n",
    "    NormalRule(head=a, body=(k, -b)),\n",
    "    NormalRule(head=k, body=(e, -b)),\n",
    "    NormalRule(head=c, body=(a, b)),\n",
    "    NormalRule(head=b, body=(-a,)),\n",
    "    NormalRule(head=c, body=(k,)),\n",
    "    NormalRule(head=f, body=(e, k, -c)),\n",
    "    NormalRule(head=e),\n",
    "))\n",
    "print(p4.fmt('\\n'))\n",
    "print('-' * 10)\n",
    "d4 = p4.dual\n",
    "print(d4.fmt('\\n'))"
   ],
   "metadata": {
    "collapsed": false,
    "pycharm": {
     "name": "#%%\n"
    }
   }
  }
 ],
 "metadata": {
  "kernelspec": {
   "display_name": "Python 3",
   "language": "python",
   "name": "python3"
  },
  "language_info": {
   "codemirror_mode": {
    "name": "ipython",
    "version": 2
   },
   "file_extension": ".py",
   "mimetype": "text/x-python",
   "name": "python",
   "nbconvert_exporter": "python",
   "pygments_lexer": "ipython2",
   "version": "2.7.6"
  }
 },
 "nbformat": 4,
 "nbformat_minor": 0
}