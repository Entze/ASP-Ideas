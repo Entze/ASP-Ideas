{
 "cells": [
  {
   "cell_type": "code",
   "execution_count": 85,
   "outputs": [],
   "source": [
    "from collections import defaultdict\n",
    "from copy import deepcopy\n",
    "from dataclasses import dataclass, field\n",
    "from enum import IntEnum\n",
    "from functools import cached_property\n",
    "from typing import Optional, Sequence, Iterator, Dict, Set, TypeVar, Union, MutableSequence"
   ],
   "metadata": {
    "collapsed": false,
    "pycharm": {
     "name": "#%%\n"
    }
   }
  },
  {
   "cell_type": "code",
   "execution_count": 86,
   "outputs": [],
   "source": [
    "class Symbol:\n",
    "    pass"
   ],
   "metadata": {
    "collapsed": false,
    "pycharm": {
     "name": "#%%\n"
    }
   }
  },
  {
   "cell_type": "code",
   "execution_count": 87,
   "outputs": [],
   "source": [
    "class TopLevelSymbol(Symbol):\n",
    "    pass"
   ],
   "metadata": {
    "collapsed": false,
    "pycharm": {
     "name": "#%%\n"
    }
   }
  },
  {
   "cell_type": "code",
   "execution_count": 88,
   "outputs": [],
   "source": [
    "@dataclass(order=True, frozen=True)\n",
    "class Function(TopLevelSymbol):\n",
    "    name: Optional[str] = None\n",
    "\n",
    "    def __str__(self):\n",
    "        if self.name is None:\n",
    "            return '()'\n",
    "        else:\n",
    "            return self.name"
   ],
   "metadata": {
    "collapsed": false,
    "pycharm": {
     "name": "#%%\n"
    }
   }
  },
  {
   "cell_type": "code",
   "execution_count": 89,
   "outputs": [],
   "source": [
    "@dataclass(order=True, frozen=True)\n",
    "class Atom:\n",
    "    symbol: TopLevelSymbol = field(default_factory=Function)\n",
    "\n",
    "    def __str__(self):\n",
    "        return str(self.symbol)"
   ],
   "metadata": {
    "collapsed": false,
    "pycharm": {
     "name": "#%%\n"
    }
   }
  },
  {
   "cell_type": "code",
   "execution_count": 90,
   "outputs": [],
   "source": [
    "class Literal:\n",
    "    pass"
   ],
   "metadata": {
    "collapsed": false,
    "pycharm": {
     "name": "#%%\n"
    }
   }
  },
  {
   "cell_type": "code",
   "execution_count": 91,
   "outputs": [],
   "source": [
    "class Sign(IntEnum):\n",
    "    NoSign = 0\n",
    "    Negation = 1\n",
    "\n",
    "    def __str__(self):\n",
    "        if self is Sign.NoSign:\n",
    "            return ''\n",
    "        elif self is Sign.Negation:\n",
    "            return 'not'\n",
    "        else:\n",
    "            assert False, 'Unknown IntEnum {} = {}.'.format(self.name, self.value)\n"
   ],
   "metadata": {
    "collapsed": false,
    "pycharm": {
     "name": "#%%\n"
    }
   }
  },
  {
   "cell_type": "code",
   "execution_count": 92,
   "outputs": [],
   "source": [
    "@dataclass(order=True, frozen=True)\n",
    "class BasicLiteral(Literal):\n",
    "    sign: Sign = Sign.NoSign\n",
    "    atom: Atom = field(default_factory=Atom)\n",
    "\n",
    "    def __str__(self):\n",
    "        if self.sign is Sign.NoSign:\n",
    "            return \"{}\".format(self.atom)\n",
    "        else:\n",
    "            return \"{} {}\".format(self.sign, self.atom)\n",
    "\n",
    "    def __neg__(self):\n",
    "        return BasicLiteral(Sign((self.sign ^ 1) % 2), self.atom)\n",
    "\n",
    "    def __abs__(self):\n",
    "        return BasicLiteral(Sign.NoSign, self.atom)\n",
    "\n",
    "    @property\n",
    "    def is_pos(self) -> bool:\n",
    "        return self.sign is Sign.NoSign\n",
    "\n",
    "    @property\n",
    "    def is_neg(self) -> bool:\n",
    "        return self.sign is Sign.Negation"
   ],
   "metadata": {
    "collapsed": false,
    "pycharm": {
     "name": "#%%\n"
    }
   }
  },
  {
   "cell_type": "code",
   "execution_count": 93,
   "outputs": [],
   "source": [
    "class Rule:\n",
    "    @staticmethod\n",
    "    def fmt_body(body: Sequence[BasicLiteral]):\n",
    "        return ', '.join(map(str, body))"
   ],
   "metadata": {
    "collapsed": false,
    "pycharm": {
     "name": "#%%\n"
    }
   }
  },
  {
   "cell_type": "code",
   "execution_count": 94,
   "outputs": [],
   "source": [
    "@dataclass(order=True, frozen=True)\n",
    "class NormalRule(Rule):\n",
    "    head: BasicLiteral = field(default_factory=BasicLiteral)\n",
    "    body: Sequence[BasicLiteral] = ()\n",
    "\n",
    "    def __str__(self):\n",
    "        if self.body:\n",
    "            return \"{} :- {}.\".format(self.head, Rule.fmt_body(self.body))\n",
    "        else:\n",
    "            return \"{}.\".format(self.head)"
   ],
   "metadata": {
    "collapsed": false,
    "pycharm": {
     "name": "#%%\n"
    }
   }
  },
  {
   "cell_type": "code",
   "execution_count": 95,
   "outputs": [],
   "source": [
    "@dataclass(order=True, frozen=True)\n",
    "class IntegrityConstraint(Rule):\n",
    "    body: Sequence[BasicLiteral] = ()\n",
    "\n",
    "    @property\n",
    "    def head(self):\n",
    "        return False\n",
    "\n",
    "    def __str__(self):\n",
    "        if self.body:\n",
    "            return '#false :- {}.'.format(Rule.fmt_body(self.body))\n",
    "        else:\n",
    "            return '#false.'\n"
   ],
   "metadata": {
    "collapsed": false,
    "pycharm": {
     "name": "#%%\n"
    }
   }
  },
  {
   "cell_type": "code",
   "execution_count": 96,
   "outputs": [],
   "source": [
    "@dataclass(order=True, frozen=True)\n",
    "class Goal(Rule):\n",
    "    body: Sequence[BasicLiteral] = ()\n",
    "\n",
    "    @property\n",
    "    def head(self):\n",
    "        return True\n",
    "\n",
    "    def __str__(self):\n",
    "        if self.body:\n",
    "            return '#true :- {}.'.format(Rule.fmt_body(self.body))\n",
    "        else:\n",
    "            return '#true.'"
   ],
   "metadata": {
    "collapsed": false,
    "pycharm": {
     "name": "#%%\n"
    }
   }
  },
  {
   "cell_type": "code",
   "execution_count": 97,
   "outputs": [],
   "source": [
    "_ForwardBaseNode = TypeVar('_ForwardBaseNode', bound='_BaseNode')\n",
    "\n",
    "\n",
    "@dataclass\n",
    "class _BaseNode:\n",
    "    subject: Union[Literal, Rule, None]\n",
    "    hypotheses: Set[Literal]\n",
    "    parent: Optional[_ForwardBaseNode]\n",
    "    children: Sequence[_ForwardBaseNode]\n",
    "\n",
    "    @property\n",
    "    def is_expanded(self):\n",
    "        return self.children is None\n",
    "\n",
    "    @property\n",
    "    def is_root(self):\n",
    "        return self.parent is None\n",
    "\n",
    "    @property\n",
    "    def is_leaf(self):\n",
    "        return self.is_expanded and not self.children\n",
    "\n",
    "    @property\n",
    "    def complete(self) -> bool:\n",
    "        return False\n",
    "\n",
    "    def expand(self, rules: Sequence[Rule]):\n",
    "        raise NotImplementedError()\n",
    "\n",
    "\n",
    "@dataclass\n",
    "class Node(_BaseNode):\n",
    "    subject: Union[Literal, Rule, None] = field(default=None)\n",
    "    hypotheses: Set[Literal] = field(default_factory=set)\n",
    "    parent: Optional[_BaseNode] = field(default=None)\n",
    "    children: Optional[MutableSequence[_BaseNode]] = field(default=None)\n",
    "\n",
    "\n",
    "@dataclass\n",
    "class OrNode(Node):\n",
    "    subject: Optional[Literal] = field(default=None)\n",
    "\n",
    "    def expand(self, rules: Sequence[Rule]):\n",
    "        self.children = []\n",
    "        for rule in rules:\n",
    "            if rule.head == self.subject and not any(-body_literal in self.hypotheses for body_literal in rule.body):\n",
    "                hypotheses = deepcopy(self.hypotheses)\n",
    "                hypotheses.add(self.subject)\n",
    "                child = AndNode(subject=rule, hypotheses=hypotheses, parent=self)\n",
    "                self.children.append(child)\n",
    "\n",
    "    def complete(self) -> bool:\n",
    "        return self.is_expanded and any(child.complete for child in self.children)\n",
    "\n",
    "\n",
    "@dataclass\n",
    "class AndNode(Node):\n",
    "    subject: Optional[Rule] = field(default=None)\n",
    "\n",
    "    def expand(self, rules: Sequence[Rule]):\n",
    "        self.children = []\n",
    "        for body_literal in self.subject.body:\n",
    "            hypotheses = deepcopy(self.hypotheses)\n",
    "            goals = deepcopy(self.goals)\n",
    "            child = OrNode(subject=body_literal, hypotheses=hypotheses, goals=goals, parent=self)\n",
    "            self.children.append(child)\n",
    "\n",
    "    def complete(self) -> bool:\n",
    "        return self.is_expanded and all(child.complete for child in self.children)\n",
    "\n"
   ],
   "metadata": {
    "collapsed": false,
    "pycharm": {
     "name": "#%%\n"
    }
   }
  },
  {
   "cell_type": "code",
   "execution_count": 98,
   "outputs": [],
   "source": [
    "@dataclass(order=True, frozen=True)\n",
    "class Program:\n",
    "    rules: Sequence[Rule] = ()\n",
    "\n",
    "    def fmt(self, sep=' ', begin=None, end=None):\n",
    "        b = begin + sep if begin is not None else ''\n",
    "        e = sep + end if end is not None else ''\n",
    "        return \"{}{}{}\".format(b, sep.join(map(str, self.rules)), e)\n",
    "\n",
    "    def __str__(self):\n",
    "        return self.fmt()\n",
    "\n",
    "    @cached_property\n",
    "    def dual(self):  #type Program\n",
    "        return Program.dual_of(self.rules)\n",
    "\n",
    "    @cached_property\n",
    "    def sASP(self):\n",
    "        sasp_rules = list(self.rules)\n",
    "        sasp_rules.extend(self.dual_of(tuple(self.non_constraint_rules)).rules)\n",
    "\n",
    "        chk_rules = []\n",
    "        nmr_chk_head = BasicLiteral(atom=Atom(Function(\"__nmr_chk\")))\n",
    "        nmr_chk_body = []\n",
    "        for i, c_rule in enumerate(self.constraint_rules):\n",
    "            chk_head = BasicLiteral(atom=Atom(Function(\"__chk_{}_{}\".format(c_rule.head.atom.symbol.name, i))))\n",
    "            chk_rule_ = NormalRule(head=chk_head, body=(c_rule.head,))\n",
    "            chk_rules_ = (NormalRule(head=chk_head, body=(-body_literal,)) for body_literal in c_rule.body if\n",
    "                          c_rule.body != -c_rule.head)\n",
    "            chk_rules.append(chk_rule_)\n",
    "            chk_rules.extend(chk_rules_)\n",
    "            nmr_chk_body.append(chk_head)\n",
    "\n",
    "        sasp_rules.extend(chk_rules)\n",
    "        nmr_chk_rule = NormalRule(head=nmr_chk_head, body=nmr_chk_body)\n",
    "        sasp_rules.append(nmr_chk_rule)\n",
    "        return Program(rules=sasp_rules)\n",
    "\n",
    "    @cached_property\n",
    "    def reachable(self) -> Dict[Rule, Set[Literal]]:\n",
    "        reachable = defaultdict(set)\n",
    "        for rule in self.rules:\n",
    "            considered = set()\n",
    "            literal_stack = []\n",
    "            naf_stack = []\n",
    "            literal_stack.extend(rule.body)\n",
    "            naf_stack.extend([0 for _ in rule.body])\n",
    "            while literal_stack:\n",
    "                literal = literal_stack.pop()\n",
    "                naf = naf_stack.pop()\n",
    "                naf = (naf + literal.is_neg) % 2\n",
    "                reachable[rule].add(BasicLiteral(Sign(naf), literal.atom))\n",
    "                for adj in self.rules:\n",
    "                    if adj not in considered and adj.head == abs(literal):\n",
    "                        considered.add(adj)\n",
    "                        literal_stack.extend(adj.body)\n",
    "                        naf_stack.extend([naf for _ in adj.body])\n",
    "        return reachable\n",
    "\n",
    "    @property\n",
    "    def constraint_rules(self) -> Iterator[Rule]:\n",
    "        for rule, reachable in self.reachable.items():\n",
    "            if -rule.head in reachable:\n",
    "                yield rule\n",
    "\n",
    "    @property\n",
    "    def non_constraint_rules(self) -> Iterator[Rule]:\n",
    "        for rule, reachable in self.reachable.items():\n",
    "            if rule.head in reachable or -rule.head not in reachable:\n",
    "                yield rule\n",
    "\n",
    "    def evaluate_top_down(self, *literals: Literal) -> Sequence[Node]:\n",
    "        __nmr_chk = BasicLiteral(atom=Atom(Function(\"__nmr_chk\")))\n",
    "        goal = Goal(body=(*literals, __nmr_chk))\n",
    "        root = AndNode(subject=goal)\n",
    "        rules = self.sASP\n",
    "        proofs = []\n",
    "        derivation_stack = [root]\n",
    "        while derivation_stack:\n",
    "            current = derivation_stack.pop()\n",
    "            if not current.is_expanded:\n",
    "                current.expand(rules)\n",
    "                derivation_stack.extend(current.children)\n",
    "            elif current.complete:\n",
    "                if current.is_root:\n",
    "                    proofs.append(current)\n",
    "                else:\n",
    "                    parent = deepcopy(current.parent)\n",
    "                    parent.hypotheses = deepcopy(current.hypotheses)\n",
    "                    derivation_stack.append(parent)\n",
    "            else:\n",
    "                # No consistent derivation\n",
    "                pass\n",
    "        return proofs\n",
    "\n",
    "    @staticmethod\n",
    "    def dual_of(rules):\n",
    "        lit_rules = dict()\n",
    "        for rule in rules:\n",
    "            head = rule.head\n",
    "            if isinstance(rule, NormalRule):\n",
    "                lit_rules.setdefault(head, set()).add(rule)\n",
    "\n",
    "        dual_rules = []\n",
    "        for literal, rules in lit_rules.items():\n",
    "            if isinstance(literal, bool):\n",
    "                pass\n",
    "            elif isinstance(literal, BasicLiteral):\n",
    "                if len(rules) == 1:\n",
    "                    rules = tuple(rules)\n",
    "                    rule = rules[0]\n",
    "                    dual_head = -literal\n",
    "                    if not rule.body:\n",
    "                        dual_bodies = ((),)\n",
    "                    else:\n",
    "                        dual_bodies = []\n",
    "                        for body_literal in rule.body:\n",
    "                            dual_bodies.append((-body_literal,))\n",
    "                    for dual_body in dual_bodies:\n",
    "                        dual_rules.append(NormalRule(head=dual_head, body=dual_body))\n",
    "                elif len(rules) > 1:\n",
    "                    dual_head = -literal\n",
    "                    dual_body = []\n",
    "                    support_dual_rules = []\n",
    "                    for i, rule in enumerate(rules):\n",
    "                        if len(rule.body) == 1:\n",
    "                            dual_body.append(-rule.body[0])\n",
    "                        elif len(rule.body) > 1:\n",
    "                            support_dual_head = BasicLiteral(\n",
    "                                atom=Atom(Function(\"__not_{}_{}\".format(literal.atom.symbol.name, i))))\n",
    "                            dual_body.append(support_dual_head)\n",
    "                            if not rule.body:\n",
    "                                support_dual_bodies = ((),)\n",
    "                            else:\n",
    "                                support_dual_bodies = []\n",
    "                                for body_literal in rule.body:\n",
    "                                    support_dual_bodies.append((-body_literal,))\n",
    "                            for support_dual_body in support_dual_bodies:\n",
    "                                support_dual_rules.append(NormalRule(head=support_dual_head, body=support_dual_body))\n",
    "                    dual_rules.append(NormalRule(head=dual_head, body=dual_body))\n",
    "                    dual_rules.extend(support_dual_rules)\n",
    "        return Program(rules=dual_rules)"
   ],
   "metadata": {
    "collapsed": false,
    "pycharm": {
     "name": "#%%\n"
    }
   }
  },
  {
   "cell_type": "markdown",
   "source": [],
   "metadata": {
    "collapsed": false,
    "pycharm": {
     "name": "#%% md\n"
    }
   }
  },
  {
   "cell_type": "code",
   "execution_count": 99,
   "outputs": [],
   "source": [
    "q = BasicLiteral(atom=Atom(Function('q')))\n",
    "p = BasicLiteral(atom=Atom(Function('p')))\n",
    "r = BasicLiteral(atom=Atom(Function('r')))\n",
    "###\n",
    "a = BasicLiteral(atom=Atom(Function('a')))\n",
    "b = BasicLiteral(atom=Atom(Function('b')))\n",
    "c = BasicLiteral(atom=Atom(Function('c')))\n",
    "d = BasicLiteral(atom=Atom(Function('d')))\n",
    "e = BasicLiteral(atom=Atom(Function('e')))\n",
    "f = BasicLiteral(atom=Atom(Function('f')))\n",
    "k = BasicLiteral(atom=Atom(Function('k')))\n",
    "\n",
    "\n",
    "def solve(p: Program, *literals: Literal):\n",
    "    proofs = p.evaluate_top_down(*literals)\n",
    "    if not proofs:\n",
    "        print(\"UNSAT\")\n",
    "    else:\n",
    "        for i, proof in enumerate(proofs):\n",
    "            print(\"Answer {}:\".format(i), end=' ')\n",
    "            print(\"{\", end=' ')\n",
    "            print(' '.join(map(str, proof.hypotheses)), end='')\n",
    "            if not proof.hypotheses:\n",
    "                print(' ', end='')\n",
    "            print(\"}\")\n",
    "        print(\"SAT {}+\".format(len(proofs)))"
   ],
   "metadata": {
    "collapsed": false,
    "pycharm": {
     "name": "#%%\n"
    }
   }
  },
  {
   "cell_type": "code",
   "execution_count": 100,
   "outputs": [
    {
     "name": "stdout",
     "output_type": "stream",
     "text": [
      "p :- not q.\n",
      "q :- not r.\n",
      "r :- not p.\n",
      "q :- not p.\n",
      "----------\n",
      "not p :- q.\n",
      "not q :- p, r.\n",
      "not r :- p.\n",
      "----------\n",
      "p :- not q.\n",
      "q :- not r.\n",
      "r :- not p.\n",
      "q :- not p.\n",
      "not p :- q.\n",
      "not q :- p.\n",
      "__chk_p_0 :- p.\n",
      "__chk_p_0 :- q.\n",
      "__chk_q_1 :- q.\n",
      "__chk_q_1 :- r.\n",
      "__chk_r_2 :- r.\n",
      "__chk_r_2 :- p.\n",
      "__nmr_chk :- __chk_p_0, __chk_q_1, __chk_r_2.\n"
     ]
    }
   ],
   "source": [
    "p1 = Program(rules=(\n",
    "    NormalRule(head=p, body=(-q,)),\n",
    "    NormalRule(head=q, body=(-r,)),\n",
    "    NormalRule(head=r, body=(-p,)),\n",
    "    NormalRule(head=q, body=(-p,)),\n",
    "))\n",
    "print(p1.fmt('\\n'))  # AS: {{q, r}}\n",
    "print('-' * 10)\n",
    "d1 = p1.dual\n",
    "print(d1.fmt('\\n'))\n",
    "print('-' * 10)\n",
    "s1 = p1.sASP\n",
    "print(s1.fmt('\\n'))\n"
   ],
   "metadata": {
    "collapsed": false,
    "pycharm": {
     "name": "#%%\n"
    }
   }
  },
  {
   "cell_type": "code",
   "execution_count": 101,
   "outputs": [
    {
     "name": "stdout",
     "output_type": "stream",
     "text": [
      "### p ###\n",
      "Answer 0: {  }\n",
      "SAT 1+\n",
      "### q ###\n",
      "Answer 0: {  }\n",
      "SAT 1+\n",
      "### r ###\n",
      "Answer 0: {  }\n",
      "SAT 1+\n"
     ]
    }
   ],
   "source": [
    "print('#' * 3, p, '#' * 3)\n",
    "solve(p1, p)\n",
    "print('#' * 3, q, '#' * 3)\n",
    "solve(p1, q)\n",
    "print('#' * 3, r, '#' * 3)\n",
    "solve(p1, r)\n"
   ],
   "metadata": {
    "collapsed": false,
    "pycharm": {
     "name": "#%%\n"
    }
   }
  },
  {
   "cell_type": "code",
   "execution_count": 102,
   "outputs": [
    {
     "name": "stdout",
     "output_type": "stream",
     "text": [
      "q :- not r.\n",
      "r :- not q.\n",
      "p :- not p.\n",
      "p :- not r.\n",
      "----------\n",
      "not q :- r.\n",
      "not r :- q.\n",
      "not p :- r, p.\n",
      "----------\n",
      "q :- not r.\n",
      "r :- not q.\n",
      "p :- not p.\n",
      "p :- not r.\n",
      "not q :- r.\n",
      "not r :- q.\n",
      "not p :- r, p.\n",
      "__chk_p_0 :- p.\n",
      "__chk_p_0 :- p.\n",
      "__nmr_chk :- __chk_p_0.\n"
     ]
    }
   ],
   "source": [
    "p2 = Program(rules=(\n",
    "    NormalRule(head=q, body=(-r,)),\n",
    "    NormalRule(head=r, body=(-q,)),\n",
    "    NormalRule(head=p, body=(-p,)),\n",
    "    NormalRule(head=p, body=(-r,)),\n",
    "))\n",
    "print(p2.fmt('\\n'))  # AS: {{q, p}}\n",
    "print('-' * 10)\n",
    "d2 = p2.dual\n",
    "print(d2.fmt('\\n'))\n",
    "print('-' * 10)\n",
    "s2 = p2.sASP\n",
    "print(s2.fmt('\\n'))\n"
   ],
   "metadata": {
    "collapsed": false,
    "pycharm": {
     "name": "#%%\n"
    }
   }
  },
  {
   "cell_type": "code",
   "execution_count": 103,
   "outputs": [
    {
     "name": "stdout",
     "output_type": "stream",
     "text": [
      "a :- b, d.\n",
      "b :- d.\n",
      "c :- d.\n",
      "d.\n",
      "----------\n",
      "not a :- not b.\n",
      "not a :- not d.\n",
      "not b :- not d.\n",
      "not c :- not d.\n",
      "not d.\n",
      "----------\n",
      "a :- b, d.\n",
      "b :- d.\n",
      "c :- d.\n",
      "d.\n",
      "not a :- not b.\n",
      "not a :- not d.\n",
      "not b :- not d.\n",
      "not c :- not d.\n",
      "__nmr_chk.\n"
     ]
    }
   ],
   "source": [
    "p3 = Program(rules=(\n",
    "    NormalRule(head=a, body=(b, d)),\n",
    "    NormalRule(head=b, body=(d,)),\n",
    "    NormalRule(head=c, body=(d,)),\n",
    "    NormalRule(head=d, body=()),\n",
    "))\n",
    "print(p3.fmt('\\n'))\n",
    "print('-' * 10)\n",
    "d3 = p3.dual\n",
    "print(d3.fmt('\\n'))\n",
    "print('-' * 10)\n",
    "s3 = p3.sASP\n",
    "print(s3.fmt('\\n'))\n"
   ],
   "metadata": {
    "collapsed": false,
    "pycharm": {
     "name": "#%%\n"
    }
   }
  },
  {
   "cell_type": "code",
   "execution_count": 104,
   "outputs": [
    {
     "name": "stdout",
     "output_type": "stream",
     "text": [
      "a :- k, not b.\n",
      "k :- e, not b.\n",
      "c :- a, b.\n",
      "b :- not a.\n",
      "c :- k.\n",
      "f :- e, k, not c.\n",
      "e.\n",
      "----------\n",
      "not a :- not k.\n",
      "not a :- b.\n",
      "not k :- not e.\n",
      "not k :- b.\n",
      "not c :- not k, __not_c_1.\n",
      "__not_c_1 :- not a.\n",
      "__not_c_1 :- not b.\n",
      "not b :- a.\n",
      "not f :- not e.\n",
      "not f :- not k.\n",
      "not f :- c.\n",
      "not e.\n",
      "----------\n",
      "a :- k, not b.\n",
      "k :- e, not b.\n",
      "c :- a, b.\n",
      "b :- not a.\n",
      "c :- k.\n",
      "f :- e, k, not c.\n",
      "e.\n",
      "not a :- not k.\n",
      "not a :- b.\n",
      "not k :- not e.\n",
      "not k :- b.\n",
      "not c :- not k, __not_c_1.\n",
      "__not_c_1 :- not a.\n",
      "__not_c_1 :- not b.\n",
      "not b :- a.\n",
      "not f :- not e.\n",
      "not f :- not k.\n",
      "not f :- c.\n",
      "__nmr_chk.\n"
     ]
    }
   ],
   "source": [
    "p4 = Program(rules=(\n",
    "    NormalRule(head=a, body=(k, -b)),\n",
    "    NormalRule(head=k, body=(e, -b)),\n",
    "    NormalRule(head=c, body=(a, b)),\n",
    "    NormalRule(head=b, body=(-a,)),\n",
    "    NormalRule(head=c, body=(k,)),\n",
    "    NormalRule(head=f, body=(e, k, -c)),\n",
    "    NormalRule(head=e),\n",
    "))\n",
    "print(p4.fmt('\\n'))\n",
    "print('-' * 10)\n",
    "d4 = p4.dual\n",
    "print(d4.fmt('\\n'))\n",
    "print('-' * 10)\n",
    "s4 = p4.sASP\n",
    "print(s4.fmt('\\n'))\n"
   ],
   "metadata": {
    "collapsed": false,
    "pycharm": {
     "name": "#%%\n"
    }
   }
  },
  {
   "cell_type": "code",
   "execution_count": 105,
   "outputs": [
    {
     "name": "stdout",
     "output_type": "stream",
     "text": [
      "p :- a, not q.\n",
      "q :- b, not r.\n",
      "r :- c, not p.\n",
      "q :- d, not p.\n",
      "----------\n",
      "not p :- not a.\n",
      "not p :- q.\n",
      "not q :- __not_q_0, __not_q_1.\n",
      "__not_q_0 :- not b.\n",
      "__not_q_0 :- r.\n",
      "__not_q_1 :- not d.\n",
      "__not_q_1 :- p.\n",
      "not r :- not c.\n",
      "not r :- p.\n",
      "----------\n",
      "p :- a, not q.\n",
      "q :- b, not r.\n",
      "r :- c, not p.\n",
      "q :- d, not p.\n",
      "not p :- not a.\n",
      "not p :- q.\n",
      "not q :- not d.\n",
      "not q :- p.\n",
      "__chk_p_0 :- p.\n",
      "__chk_p_0 :- not a.\n",
      "__chk_p_0 :- q.\n",
      "__chk_q_1 :- q.\n",
      "__chk_q_1 :- not b.\n",
      "__chk_q_1 :- r.\n",
      "__chk_r_2 :- r.\n",
      "__chk_r_2 :- not c.\n",
      "__chk_r_2 :- p.\n",
      "__nmr_chk :- __chk_p_0, __chk_q_1, __chk_r_2.\n"
     ]
    }
   ],
   "source": [
    "p5 = Program(rules=(\n",
    "    NormalRule(head=p, body=(a, -q)),\n",
    "    NormalRule(head=q, body=(b, -r)),\n",
    "    NormalRule(head=r, body=(c, -p)),\n",
    "    NormalRule(head=q, body=(d, -p)),\n",
    "))\n",
    "print(p5.fmt('\\n'))\n",
    "print('-' * 10)\n",
    "d5 = p5.dual\n",
    "print(d5.fmt('\\n'))\n",
    "print('-' * 10)\n",
    "s5 = p5.sASP\n",
    "print(s5.fmt('\\n'))\n"
   ],
   "metadata": {
    "collapsed": false,
    "pycharm": {
     "name": "#%%\n"
    }
   }
  },
  {
   "cell_type": "code",
   "execution_count": 106,
   "outputs": [
    {
     "name": "stdout",
     "output_type": "stream",
     "text": [
      "a :- not b.\n",
      "b :- not a.\n",
      "----------\n",
      "not a :- b.\n",
      "not b :- a.\n",
      "----------\n",
      "a :- not b.\n",
      "b :- not a.\n",
      "not a :- b.\n",
      "not b :- a.\n",
      "__nmr_chk.\n"
     ]
    }
   ],
   "source": [
    "p6 = Program(rules=(\n",
    "    NormalRule(head=a, body=(-b,)),\n",
    "    NormalRule(head=b, body=(-a,)),\n",
    "))\n",
    "print(p6.fmt('\\n'))  # AS: {{q, p}}\n",
    "print('-' * 10)\n",
    "d6 = p6.dual\n",
    "print(d6.fmt('\\n'))\n",
    "print('-' * 10)\n",
    "s6 = p6.sASP\n",
    "print(s6.fmt('\\n'))"
   ],
   "metadata": {
    "collapsed": false,
    "pycharm": {
     "name": "#%%\n"
    }
   }
  },
  {
   "cell_type": "code",
   "execution_count": 107,
   "outputs": [
    {
     "name": "stdout",
     "output_type": "stream",
     "text": [
      "a :- not b.\n",
      "b :- not c.\n",
      "c :- not a.\n",
      "----------\n",
      "not a :- b.\n",
      "not b :- c.\n",
      "not c :- a.\n",
      "----------\n",
      "a :- not b.\n",
      "b :- not c.\n",
      "c :- not a.\n",
      "__chk_a_0 :- a.\n",
      "__chk_a_0 :- b.\n",
      "__chk_b_1 :- b.\n",
      "__chk_b_1 :- c.\n",
      "__chk_c_2 :- c.\n",
      "__chk_c_2 :- a.\n",
      "__nmr_chk :- __chk_a_0, __chk_b_1, __chk_c_2.\n"
     ]
    }
   ],
   "source": [
    "p7 = Program(rules=(\n",
    "    NormalRule(head=a, body=(-b,)),\n",
    "    NormalRule(head=b, body=(-c,)),\n",
    "    NormalRule(head=c, body=(-a,)),\n",
    "))\n",
    "print(p7.fmt('\\n'))  # AS: {{q, p}}\n",
    "print('-' * 10)\n",
    "d7 = p7.dual\n",
    "print(d7.fmt('\\n'))\n",
    "print('-' * 10)\n",
    "s7 = p7.sASP\n",
    "print(s7.fmt('\\n'))"
   ],
   "metadata": {
    "collapsed": false,
    "pycharm": {
     "name": "#%%\n"
    }
   }
  }
 ],
 "metadata": {
  "kernelspec": {
   "display_name": "Python 3",
   "language": "python",
   "name": "python3"
  },
  "language_info": {
   "codemirror_mode": {
    "name": "ipython",
    "version": 2
   },
   "file_extension": ".py",
   "mimetype": "text/x-python",
   "name": "python",
   "nbconvert_exporter": "python",
   "pygments_lexer": "ipython2",
   "version": "2.7.6"
  }
 },
 "nbformat": 4,
 "nbformat_minor": 0
}