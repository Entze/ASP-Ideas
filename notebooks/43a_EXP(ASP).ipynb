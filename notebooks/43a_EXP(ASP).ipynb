{
 "cells": [
  {
   "cell_type": "code",
   "execution_count": 655,
   "outputs": [],
   "source": [
    "import functools\n",
    "from typing import Optional, Sequence, Any, Mapping\n",
    "\n",
    "import clingo\n",
    "import clingo.ast\n",
    "import clingox.backend\n",
    "import clingox.reify"
   ],
   "metadata": {
    "collapsed": false,
    "pycharm": {
     "name": "#%%\n"
    }
   }
  },
  {
   "cell_type": "code",
   "execution_count": 656,
   "outputs": [],
   "source": [
    "def solve(ctl: clingo.Control, report=True, report_models=True, report_result=True, sep='\\n'):\n",
    "    models = []\n",
    "    with ctl.solve(yield_=True) as solve_handle:\n",
    "        for model in solve_handle:\n",
    "            symbols = sorted(model.symbols(shown=True))\n",
    "            if report and report_models:\n",
    "                print(\"Answer {}:\".format(model.number), end=' ')\n",
    "                print(\"{\", sep.join(map(str, symbols)), \"}\", sep=sep)\n",
    "            models.append(symbols)\n",
    "        solve_result = solve_handle.get()\n",
    "        if report and report_result:\n",
    "            print(solve_result, end='')\n",
    "            if models:\n",
    "                print(\" {}{}\".format(len(models), '' if solve_result.exhausted else '+'))\n",
    "    return models"
   ],
   "metadata": {
    "collapsed": false,
    "pycharm": {
     "name": "#%%\n"
    }
   }
  },
  {
   "cell_type": "code",
   "execution_count": 657,
   "outputs": [],
   "source": [
    "p1 = \"\"\"\n",
    "a :- k, not b.   b :- not a.   f :- e, not k, not c.\n",
    "k :- e, not b.   c :- k.       e.\n",
    "c :- a, b.\n",
    "\"\"\""
   ],
   "metadata": {
    "collapsed": false,
    "pycharm": {
     "name": "#%%\n"
    }
   }
  },
  {
   "cell_type": "code",
   "execution_count": 658,
   "outputs": [],
   "source": [
    "class Manipulator(clingo.ast.Transformer):\n",
    "    loc = clingo.ast.Location(clingo.ast.Position('<string>', 1, 1), clingo.ast.Position('<string>', 1, 1))"
   ],
   "metadata": {
    "collapsed": false,
    "pycharm": {
     "name": "#%%\n"
    }
   }
  },
  {
   "cell_type": "code",
   "execution_count": 659,
   "outputs": [],
   "source": [
    "class FactToExternal(Manipulator):\n",
    "\n",
    "    def visit_Rule(self, rule: clingo.ast.AST, external_type: Optional[clingo.ast.AST] = None):\n",
    "        if not rule.body:\n",
    "            if external_type is None:\n",
    "                external_type = clingo.ast.SymbolicTerm(Manipulator.loc, clingo.Function('false'))\n",
    "            # TODO: check external_type\n",
    "            return clingo.ast.External(rule.location, rule.head.atom, (), external_type)\n",
    "        return rule"
   ],
   "metadata": {
    "collapsed": false,
    "pycharm": {
     "name": "#%%\n"
    }
   }
  },
  {
   "cell_type": "code",
   "execution_count": 660,
   "outputs": [],
   "source": [
    "class BaseCombinator:\n",
    "\n",
    "    def transform(self, program: str) -> Sequence[clingo.ast.AST]:\n",
    "        nodes = []\n",
    "        clingo.ast.parse_string(program, nodes.append)\n",
    "        return nodes\n",
    "\n",
    "    def apply(self, program: str, control: Optional[clingo.Control] = None):\n",
    "        if control is None:\n",
    "            control = clingo.Control()\n",
    "        nodes = self.transform(program)\n",
    "        with clingo.ast.ProgramBuilder(control) as builder:\n",
    "            for node in nodes:\n",
    "                builder.add(node)\n",
    "        return control"
   ],
   "metadata": {
    "collapsed": false,
    "pycharm": {
     "name": "#%%\n"
    }
   }
  },
  {
   "cell_type": "code",
   "execution_count": 661,
   "outputs": [],
   "source": [
    "class SequenceCombinator(BaseCombinator):\n",
    "\n",
    "    def __init__(self, manipulators: Sequence[Manipulator], args: Optional[Sequence[Sequence[Any]]] = None,\n",
    "                 kwargs: Optional[Sequence[Mapping[str, Any]]] = None):\n",
    "        self._manipulators = manipulators\n",
    "        self._args = args or tuple(() for _ in manipulators)\n",
    "        self._kwargs = kwargs or tuple({} for _ in manipulators)\n",
    "\n",
    "    def _transform_callback(self, stm: clingo.ast.AST, nodes: Optional[Sequence[clingo.ast.AST]] = None) -> None:\n",
    "        if nodes is None:\n",
    "            nodes = []\n",
    "        node = stm\n",
    "        for i, manipulator in enumerate(self._manipulators):\n",
    "            args, kwargs = self._args[i], self._kwargs[i]\n",
    "            node = manipulator.visit(node, *args, **kwargs)\n",
    "        nodes.append(node)\n",
    "\n",
    "    def transform(self, program: str) -> Sequence[clingo.ast.AST]:\n",
    "        nodes = []\n",
    "        clingo.ast.parse_string(program, functools.partial(self._transform_callback, nodes=nodes))\n",
    "        return nodes"
   ],
   "metadata": {
    "collapsed": false,
    "pycharm": {
     "name": "#%%\n"
    }
   }
  },
  {
   "cell_type": "code",
   "execution_count": 662,
   "outputs": [
    {
     "name": "stdout",
     "output_type": "stream",
     "text": [
      "#program base.\n",
      "a :- k; not b.\n",
      "b :- not a.\n",
      "f :- e; not k; not c.\n",
      "k :- e; not b.\n",
      "c :- k.\n",
      "#external e. [false]\n",
      "c :- a; b.\n"
     ]
    }
   ],
   "source": [
    "fact_to_external = SequenceCombinator((FactToExternal(),))\n",
    "p1t_ast = fact_to_external.transform(p1)\n",
    "p1t = '\\n'.join(map(str, p1t_ast))\n",
    "print(p1t)"
   ],
   "metadata": {
    "collapsed": false,
    "pycharm": {
     "name": "#%%\n"
    }
   }
  },
  {
   "cell_type": "code",
   "execution_count": 663,
   "outputs": [
    {
     "name": "stdout",
     "output_type": "stream",
     "text": [
      "{\n",
      "atom_tuple(0)\n",
      "atom_tuple(1)\n",
      "atom_tuple(2)\n",
      "atom_tuple(3)\n",
      "atom_tuple(4)\n",
      "literal_tuple(0)\n",
      "literal_tuple(1)\n",
      "literal_tuple(2)\n",
      "literal_tuple(3)\n",
      "literal_tuple(4)\n",
      "literal_tuple(5)\n",
      "literal_tuple(6)\n",
      "literal_tuple(7)\n",
      "literal_tuple(8)\n",
      "literal_tuple(9)\n",
      "literal_tuple(10)\n",
      "tag(incremental)\n",
      "atom_tuple(0,2)\n",
      "atom_tuple(1,4)\n",
      "atom_tuple(2,3)\n",
      "atom_tuple(3,5)\n",
      "atom_tuple(4,6)\n",
      "external(1,false)\n",
      "literal_tuple(0,-3)\n",
      "literal_tuple(1,-2)\n",
      "literal_tuple(1,1)\n",
      "literal_tuple(2,-2)\n",
      "literal_tuple(2,4)\n",
      "literal_tuple(3,2)\n",
      "literal_tuple(3,3)\n",
      "literal_tuple(4,4)\n",
      "literal_tuple(5,-5)\n",
      "literal_tuple(5,-4)\n",
      "literal_tuple(5,1)\n",
      "literal_tuple(6,2)\n",
      "literal_tuple(7,3)\n",
      "literal_tuple(8,5)\n",
      "literal_tuple(9,1)\n",
      "literal_tuple(10,6)\n",
      "output(a,7)\n",
      "output(b,6)\n",
      "output(c,8)\n",
      "output(e,9)\n",
      "output(f,10)\n",
      "output(k,4)\n",
      "rule(disjunction(0),normal(0))\n",
      "rule(disjunction(1),normal(1))\n",
      "rule(disjunction(2),normal(2))\n",
      "rule(disjunction(3),normal(3))\n",
      "rule(disjunction(3),normal(4))\n",
      "rule(disjunction(4),normal(5))\n",
      "}\n"
     ]
    }
   ],
   "source": [
    "reified = sorted(clingox.reify.reify_program(p1t))\n",
    "print('{', '\\n'.join(map(str, reified)), '}', sep='\\n')"
   ],
   "metadata": {
    "collapsed": false,
    "pycharm": {
     "name": "#%%\n"
    }
   }
  },
  {
   "cell_type": "code",
   "execution_count": 664,
   "outputs": [],
   "source": [
    "applicability = \"\"\"\n",
    "\n",
    ":- rule(choice(N1), normal(N2)).\n",
    ":- rule(disjunction(N1), normal(N2)), atom_tuple(N1), 2 { atom_tuple(N1, N3) }.\n",
    "\n",
    "\"\"\""
   ],
   "metadata": {
    "collapsed": false,
    "pycharm": {
     "name": "#%%\n"
    }
   }
  },
  {
   "cell_type": "code",
   "execution_count": 665,
   "outputs": [],
   "source": [
    "ctl = clingo.Control()\n",
    "ctl.add('base', [], applicability)\n",
    "with clingox.backend.SymbolicBackend(ctl.backend()) as symbolic_backend:\n",
    "    for symbol in reified:\n",
    "        symbolic_backend.add_rule(head=(symbol,))\n",
    "ctl.ground([('base', [])])"
   ],
   "metadata": {
    "collapsed": false,
    "pycharm": {
     "name": "#%%\n"
    }
   }
  },
  {
   "cell_type": "code",
   "execution_count": 666,
   "outputs": [
    {
     "name": "stdout",
     "output_type": "stream",
     "text": [
      "SAT 1+\n"
     ]
    }
   ],
   "source": [
    "solve(ctl, report_models=False);"
   ],
   "metadata": {
    "collapsed": false,
    "pycharm": {
     "name": "#%%\n"
    }
   }
  },
  {
   "cell_type": "code",
   "execution_count": 667,
   "outputs": [],
   "source": [
    "ctl = clingo.Control()\n",
    "ctl.configuration.solve.models = 0\n",
    "ctl.add('base', [], p1)\n",
    "ctl.ground([('base', [])])"
   ],
   "metadata": {
    "collapsed": false,
    "pycharm": {
     "name": "#%%\n"
    }
   }
  },
  {
   "cell_type": "code",
   "execution_count": 668,
   "outputs": [
    {
     "name": "stdout",
     "output_type": "stream",
     "text": [
      "Answer 1: { b e f }\n",
      "Answer 2: { a c e k }\n",
      "SAT 2\n"
     ]
    }
   ],
   "source": [
    "models = solve(ctl, sep=' ')"
   ],
   "metadata": {
    "collapsed": false,
    "pycharm": {
     "name": "#%%\n"
    }
   }
  },
  {
   "cell_type": "code",
   "execution_count": 669,
   "outputs": [],
   "source": [
    "ctl.configuration.solve.enum_mode = 'cautious'"
   ],
   "metadata": {
    "collapsed": false,
    "pycharm": {
     "name": "#%%\n"
    }
   }
  },
  {
   "cell_type": "code",
   "execution_count": 670,
   "outputs": [
    {
     "name": "stdout",
     "output_type": "stream",
     "text": [
      "Answer 1: { b e f }\n",
      "Answer 2: { e }\n",
      "SAT 2\n"
     ]
    }
   ],
   "source": [
    "cautious_consequence = solve(ctl, sep=' ')[-1]"
   ],
   "metadata": {
    "collapsed": false,
    "pycharm": {
     "name": "#%%\n"
    }
   }
  },
  {
   "cell_type": "code",
   "execution_count": 671,
   "outputs": [],
   "source": [
    "preprocessing = \"\"\"\n",
    "\n",
    "head_body(H, ()) :-\n",
    "  external(A, _),\n",
    "  output(H, L), literal_tuple(L), literal_tuple(L, A).\n",
    "\n",
    "head_body(H, ()) :-\n",
    "  rule(disjunction(D), normal(N)),\n",
    "  atom_tuple(D), atom_tuple(D, A), output(H, L), literal_tuple(L), literal_tuple(L, A),\n",
    "  literal_tuple(N), #false: literal_tuple(N, A').\n",
    "\n",
    "head_body(H, N) :-\n",
    "  rule(disjunction(D), normal(N)),\n",
    "  atom_tuple(D), atom_tuple(D, A), output(H, L), literal_tuple(L), literal_tuple(L, A).\n",
    "\n",
    "body(N, B) :- rule(disjunction(_), normal(N)),\n",
    "  literal_tuple(N), literal_tuple(N, A),\n",
    "  literal_tuple(L), literal_tuple(L, A),\n",
    "  output(B, L).\n",
    "\n",
    "body(N, -B) :- rule(disjunction(_), normal(N)),\n",
    "  literal_tuple(N), literal_tuple(N, -A),\n",
    "  literal_tuple(L), literal_tuple(L, A),\n",
    "  output(B, L).\n",
    "\n",
    "e(H, ()) :- head_body(H, ()).\n",
    "l((), \"T\").\n",
    "\n",
    "e(H, N)  :- holds(H), head_body(H, N).\n",
    "e(-H, N) :- not holds(H), head_body(H, N).\n",
    "l(N, B)  :- holds(H), head_body(H, N), body(N, B).\n",
    "l(N, -B) :- holds(H), head_body(H, N), body(N, -B).\n",
    "\n",
    "l(N, -B) :- not holds(H), head_body(H, N), body(N, B), not holds(B).\n",
    "l(N, B)  :- not holds(H), head_body(H, N), body(N, -B), holds(B).\n",
    "\n",
    "#show head_body/2.\n",
    "#show body/2.\n",
    "#show e/2.\n",
    "#show l/2.\n",
    "\n",
    "\"\"\""
   ],
   "metadata": {
    "collapsed": false,
    "pycharm": {
     "name": "#%%\n"
    }
   }
  },
  {
   "cell_type": "code",
   "execution_count": 672,
   "outputs": [],
   "source": [
    "model = models[0]"
   ],
   "metadata": {
    "collapsed": false,
    "pycharm": {
     "name": "#%%\n"
    }
   }
  },
  {
   "cell_type": "code",
   "execution_count": 673,
   "outputs": [
    {
     "name": "stderr",
     "output_type": "stream",
     "text": [
      "<block>:38:1-14: info: no atoms over signature occur in program:\n",
      "  body/2\n",
      "\n",
      "<block>:39:1-11: info: no atoms over signature occur in program:\n",
      "  e/2\n",
      "\n",
      "<block>:37:1-19: info: no atoms over signature occur in program:\n",
      "  head_body/2\n",
      "\n",
      "<block>:40:1-11: info: no atoms over signature occur in program:\n",
      "  l/2\n",
      "\n"
     ]
    }
   ],
   "source": [
    "ctl = clingo.Control()\n",
    "ctl.configuration.solve.models = 0\n",
    "ctl.add('base', [], preprocessing)\n",
    "with clingox.backend.SymbolicBackend(ctl.backend()) as symbolic_backend:\n",
    "    for symbol in reified:\n",
    "        symbolic_backend.add_rule(head=(symbol,))\n",
    "    for symbol in model:\n",
    "        symbolic_backend.add_rule(head=(clingo.Function('holds', (symbol,)),))\n",
    "ctl.ground([('base', [])])"
   ],
   "metadata": {
    "collapsed": false,
    "pycharm": {
     "name": "#%%\n"
    }
   }
  },
  {
   "cell_type": "code",
   "execution_count": 674,
   "outputs": [
    {
     "name": "stdout",
     "output_type": "stream",
     "text": [
      "Answer 1: {\n",
      "body(0,-a)\n",
      "body(1,e)\n",
      "body(1,-b)\n",
      "body(2,k)\n",
      "body(2,-b)\n",
      "body(3,a)\n",
      "body(3,b)\n",
      "body(4,k)\n",
      "body(5,e)\n",
      "body(5,-c)\n",
      "body(5,-k)\n",
      "e(b,0)\n",
      "e(e,())\n",
      "e(f,5)\n",
      "e(-a,2)\n",
      "e(-c,3)\n",
      "e(-c,4)\n",
      "e(-k,1)\n",
      "head_body(a,2)\n",
      "head_body(b,0)\n",
      "head_body(c,3)\n",
      "head_body(c,4)\n",
      "head_body(e,())\n",
      "head_body(f,5)\n",
      "head_body(k,1)\n",
      "l(0,-a)\n",
      "l(1,b)\n",
      "l(2,b)\n",
      "l(2,-k)\n",
      "l(3,-a)\n",
      "l(4,-k)\n",
      "l(5,e)\n",
      "l(5,-c)\n",
      "l(5,-k)\n",
      "l((),\"T\")\n",
      "}\n",
      "SAT 1\n"
     ]
    }
   ],
   "source": [
    "preprocessed = solve(ctl);"
   ],
   "metadata": {
    "collapsed": false,
    "pycharm": {
     "name": "#%%\n"
    }
   }
  },
  {
   "cell_type": "code",
   "execution_count": 675,
   "outputs": [],
   "source": [
    "preprocessed = \"\"\"\n",
    "\n",
    "\n",
    "\n",
    "\"\"\""
   ],
   "metadata": {
    "collapsed": false,
    "pycharm": {
     "name": "#%%\n"
    }
   }
  }
 ],
 "metadata": {
  "kernelspec": {
   "display_name": "Python 3",
   "language": "python",
   "name": "python3"
  },
  "language_info": {
   "codemirror_mode": {
    "name": "ipython",
    "version": 2
   },
   "file_extension": ".py",
   "mimetype": "text/x-python",
   "name": "python",
   "nbconvert_exporter": "python",
   "pygments_lexer": "ipython2",
   "version": "2.7.6"
  }
 },
 "nbformat": 4,
 "nbformat_minor": 0
}