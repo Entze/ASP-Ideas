{
 "cells": [
  {
   "cell_type": "code",
   "execution_count": 386,
   "outputs": [],
   "source": [
    "import copy\n",
    "from collections import defaultdict\n",
    "from dataclasses import dataclass, field\n",
    "from enum import IntEnum\n",
    "from typing import TypeVar, Sequence, Optional, List, Iterator, Union\n",
    "\n",
    "import clingo\n",
    "import clingox.program\n",
    "from clingraph import Factbase, compute_graphs\n"
   ],
   "metadata": {
    "collapsed": false,
    "pycharm": {
     "name": "#%%\n"
    }
   }
  },
  {
   "cell_type": "code",
   "execution_count": 387,
   "outputs": [],
   "source": [
    "ForwardSymbol = TypeVar('ForwardSymbol', bound='Symbol')\n",
    "\n",
    "\n",
    "class Symbol:\n",
    "    def is_function(self) -> bool:\n",
    "        return isinstance(self, Function)\n",
    "\n",
    "    def is_unary_operation(self) -> bool:\n",
    "        return isinstance(self, UnaryOperation)\n",
    "\n",
    "    def is_variable(self) -> bool:\n",
    "        return isinstance(self, Variable)\n",
    "\n",
    "    def is_term(self) -> bool:\n",
    "        return isinstance(self, Term)\n",
    "\n",
    "    @classmethod\n",
    "    def from_clingo_symbol(cls, symbol: clingo.Symbol) -> ForwardSymbol:\n",
    "        if symbol.type is clingo.SymbolType.Function:\n",
    "            name: str = symbol.name\n",
    "            arguments = tuple(SubSymbol.from_clingo_symbol(argument) for argument in symbol.arguments)\n",
    "            return Function(name, arguments)\n",
    "        else:\n",
    "            assert False, \"Unknown clingo.SymbolType {}.\".format(symbol.type)\n",
    "\n",
    "\n",
    "class SubSymbol(Symbol):\n",
    "\n",
    "    @classmethod\n",
    "    def from_clingo_symbol(cls, symbol: clingo.Symbol) -> ForwardSymbol:\n",
    "        if symbol.type is clingo.SymbolType.Number:\n",
    "            return Term(IntegerConstant(symbol.number))\n",
    "        elif symbol.type is clingo.SymbolType.String:\n",
    "            return Term(StringConstant(symbol.string))\n",
    "        elif symbol.type is clingo.SymbolType.Function:\n",
    "            return Symbol.from_clingo_symbol(symbol)\n",
    "        else:\n",
    "            assert False, \"Unknown clingo.SymbolType {}.\".format(symbol.type)\n"
   ],
   "metadata": {
    "collapsed": false,
    "pycharm": {
     "name": "#%%\n"
    }
   }
  },
  {
   "cell_type": "code",
   "execution_count": 388,
   "outputs": [],
   "source": [
    "@dataclass(frozen=True, order=True)\n",
    "class Variable(SubSymbol):\n",
    "    name: str\n",
    "\n",
    "    def __str__(self):\n",
    "        return self.name\n",
    "\n",
    "@dataclass(frozen=True, order=True)\n",
    "class StringConstant:\n",
    "    string: str = \"\"\n",
    "\n",
    "    def __str__(self):\n",
    "        return '\"{}\"'.format(self.string)\n",
    "\n",
    "@dataclass(frozen=True, order=True)\n",
    "class IntegerConstant:\n",
    "    number: int = 0\n",
    "\n",
    "    def __str__(self):\n",
    "        return str(self.number)\n",
    "\n",
    "\n",
    "@dataclass(frozen=True, order=True)\n",
    "class Term(SubSymbol):\n",
    "    constant: Union[IntegerConstant, StringConstant] = field(default=IntegerConstant())\n",
    "\n",
    "    def __str__(self):\n",
    "        return str(self.constant)"
   ],
   "metadata": {
    "collapsed": false,
    "pycharm": {
     "name": "#%%\n"
    }
   }
  },
  {
   "cell_type": "code",
   "execution_count": 389,
   "outputs": [],
   "source": [
    "ForwardAtom = TypeVar('ForwardAtom', bound='Atom')\n",
    "ForwardFunction = TypeVar('ForwardFunction', bound='Function')\n",
    "ForwardUnaryOperator = TypeVar('ForwardUnaryOperator', bound='UnaryOperator')\n",
    "\n",
    "\n",
    "@dataclass(frozen=True, order=True)\n",
    "class Function(Symbol):\n",
    "    name: Optional[str] = None\n",
    "    arguments: Sequence[SubSymbol] = ()\n",
    "\n",
    "    @property\n",
    "    def arity(self):\n",
    "        return len(self.arguments)\n",
    "\n",
    "    def __str__(self):\n",
    "        if self.name is None and not self.arguments:\n",
    "            return \"()\"\n",
    "        elif self.name is not None and not self.arguments:\n",
    "            return self.name\n",
    "        elif self.name is None and self.arguments:\n",
    "            return \"({})\".format(','.join(map(str, self.arguments)))\n",
    "        else:\n",
    "            return \"{}({})\".format(self.name, ','.join(map(str, self.arguments)))\n",
    "\n",
    "    def match(self, name: Optional[str], arity: int = 0) -> bool:\n",
    "        return name == self.name and arity == len(self.arguments)\n",
    "\n",
    "    def match_signature(self, other: ForwardFunction) -> bool:\n",
    "        return self.match(other.name, other.arity)\n",
    "\n",
    "\n",
    "class UnaryOperatorType(IntEnum):\n",
    "    Minus = 1\n",
    "\n",
    "\n",
    "@dataclass(frozen=True, order=True)\n",
    "class UnaryOperation:\n",
    "    operator: UnaryOperatorType\n",
    "    argument: SubSymbol\n",
    "\n",
    "    def __str__(self) -> str:\n",
    "        if self.operator is UnaryOperatorType.Minus:\n",
    "            return \"(-{})\".format(self.argument)\n",
    "        else:\n",
    "            assert False, \"Unknown UnaryOperatorType {}.\".format(self.operator)\n",
    "\n",
    "\n",
    "class BinaryOperatorType(IntEnum):\n",
    "    Plus = 2\n",
    "\n",
    "\n",
    "@dataclass(frozen=True, order=True)\n",
    "class BinaryOperation:\n",
    "    left: SubSymbol\n",
    "    operator: BinaryOperatorType\n",
    "    right: SubSymbol\n",
    "\n",
    "    def __str__(self) -> str:\n",
    "        if self.operator is BinaryOperatorType.Plus:\n",
    "            return \"({}+{})\".format(self.left, self.right)\n"
   ],
   "metadata": {
    "collapsed": false,
    "pycharm": {
     "name": "#%%\n"
    }
   }
  },
  {
   "cell_type": "code",
   "execution_count": 390,
   "outputs": [],
   "source": [
    "@dataclass(frozen=True, order=True)\n",
    "class Atom:\n",
    "    symbol: Symbol = field(default_factory=Function)\n",
    "\n",
    "    def __str__(self) -> str:\n",
    "        return str(self.symbol)\n",
    "\n",
    "    def is_function(self) -> bool:\n",
    "        return isinstance(self.symbol, Function)\n",
    "\n",
    "    def is_unary_operation(self) -> bool:\n",
    "        return isinstance(self.symbol, UnaryOperation)\n",
    "\n",
    "    def get_top_function(self) -> Function:\n",
    "        current = self.symbol\n",
    "        while not isinstance(current, Function):\n",
    "            if isinstance(current, UnaryOperation):\n",
    "                current = current.argument\n",
    "            else:\n",
    "                assert False, \"Unknown Type {} for Symbol {}.\".format(type(current).__name__, current)\n",
    "        return current\n",
    "\n",
    "    def is_isomorph_to(self, other: ForwardAtom) -> bool:\n",
    "        assert isinstance(other, Atom), \"Atom {} should have type {}, but has type {}.\".format(other, Atom.__name__,\n",
    "                                                                                               type(other).__name__)\n",
    "        stack_self: List[SubSymbol] = [self.symbol]\n",
    "        stack_other: List[SubSymbol] = [other.symbol]\n",
    "        while stack_self:\n",
    "            if len(stack_self) != len(stack_other):\n",
    "                return False\n",
    "            current_self = stack_self.pop()\n",
    "            current_other = stack_other.pop()\n",
    "            if current_self.is_variable() and current_other.is_variable():\n",
    "                if current_self.name != current_other.name:\n",
    "                    return False\n",
    "            elif not current_self.is_variable() and not current_other.is_variable():\n",
    "                if type(current_self) != type(current_other):\n",
    "                    return False\n",
    "                if current_self.is_unary_operation() and current_other.is_unary_operation():\n",
    "                    if current_self.operator != current_other.operator:\n",
    "                        return False\n",
    "                    stack_self.append(current_self.argument)\n",
    "                    stack_other.append(current_other.argument)\n",
    "                elif current_self.is_term() and current_other.is_term():\n",
    "                    if current_self != current_other:\n",
    "                        return False\n",
    "                elif current_self.is_function() and current_other.is_function():\n",
    "                    if not current_self.match_signature(current_other):\n",
    "                        return False\n",
    "                    stack_self.extend(current_self.arguments)\n",
    "                    stack_other.extend(current_other.arguments)\n",
    "\n",
    "        return True\n",
    "\n",
    "    @staticmethod\n",
    "    def from_clingo_symbol(symbol: clingo.Symbol) -> ForwardAtom:\n",
    "        assert symbol.type is clingo.SymbolType.Function, \"clingo.Symbol {} should have type {}, but has type {}.\".format(\n",
    "            symbol, clingo.SymbolType.Function, symbol.type)\n",
    "        return Atom(Symbol.from_clingo_symbol(symbol))\n",
    "\n",
    "\n"
   ],
   "metadata": {
    "collapsed": false,
    "pycharm": {
     "name": "#%%\n"
    }
   }
  },
  {
   "cell_type": "code",
   "execution_count": 391,
   "outputs": [],
   "source": [
    "class Sign(IntEnum):\n",
    "    NoSign = 0\n",
    "    DefaultNeg = 1"
   ],
   "metadata": {
    "collapsed": false,
    "pycharm": {
     "name": "#%%\n"
    }
   }
  },
  {
   "cell_type": "code",
   "execution_count": 392,
   "outputs": [],
   "source": [
    "@dataclass(frozen=True, order=True)\n",
    "class Literal:\n",
    "    atom: Atom = field(default_factory=Atom)\n",
    "    sign: Sign = Sign.NoSign\n",
    "\n",
    "    def is_neg(self):\n",
    "        return self.sign is Sign.DefaultNeg\n",
    "\n",
    "    def is_pos(self):\n",
    "        return self.sign is Sign.NoSign\n",
    "\n",
    "    def __str__(self):\n",
    "        if self.sign is Sign.DefaultNeg:\n",
    "            return \"not {}\".format(self.atom)\n",
    "        return str(self.atom)\n",
    "\n",
    "    def __abs__(self):\n",
    "        return Literal(sign=Sign.NoSign, atom=copy.deepcopy(self.atom))\n",
    "\n",
    "    def __neg__(self):\n",
    "        return Literal(sign=Sign(self.sign ^ 1), atom=self.atom)\n",
    "\n",
    "    def __invert__(self):\n",
    "        return Literal(sign=Sign(self.sign ^ 1), atom=self.atom)"
   ],
   "metadata": {
    "collapsed": false,
    "pycharm": {
     "name": "#%%\n"
    }
   }
  },
  {
   "cell_type": "code",
   "execution_count": 393,
   "outputs": [],
   "source": [
    "class RuleLike:\n",
    "    def is_rule(self) -> bool:\n",
    "        return isinstance(self, Rule)\n",
    "\n",
    "    def is_external(self) -> bool:\n",
    "        return isinstance(self, External)"
   ],
   "metadata": {
    "collapsed": false,
    "pycharm": {
     "name": "#%%\n"
    }
   }
  },
  {
   "cell_type": "code",
   "execution_count": 394,
   "outputs": [],
   "source": [
    "\n",
    "ForwardRule = TypeVar('ForwardRule', bound='Rule')\n",
    "ForwardExternal = TypeVar('ForwardExternal', bound='External')\n",
    "\n",
    "\n",
    "@dataclass(frozen=True, order=True)\n",
    "class Rule(RuleLike):\n",
    "    head: Optional[Literal] = None\n",
    "    body: Sequence[Literal] = ()\n",
    "\n",
    "    def __str__(self) -> str:\n",
    "        if self.head is None and not self.body:\n",
    "            return \":-.\"\n",
    "        elif self.head is None:\n",
    "            return \":- {}.\".format(', '.join(map(str, self.body)))\n",
    "        elif not self.body:\n",
    "            return \"{}.\".format(self.head)\n",
    "        else:\n",
    "            return \"{} :- {}.\".format(self.head, ', '.join(map(str, self.body)))\n",
    "\n",
    "    def is_ground(self) -> bool:\n",
    "        pass\n",
    "\n",
    "    def is_fact(self) -> bool:\n",
    "        return self.head is not None and not self.body\n",
    "\n",
    "    def as_external(self) -> ForwardExternal:\n",
    "        return External(self.head.atom, self.body, ExternalType.false)\n",
    "\n",
    "    def is_constraint(self) -> bool:\n",
    "        return self.head is None\n",
    "\n",
    "    def is_normal_rule(self) -> bool:\n",
    "        return self.head is not None and self.body\n",
    "\n",
    "    def is_head_relevant(self, atom: Atom) -> bool:\n",
    "        if self.head is None:\n",
    "            return False\n",
    "        #if self.head.atom == atom:\n",
    "        #    return True\n",
    "        return self.head.atom.is_isomorph_to(atom)\n"
   ],
   "metadata": {
    "collapsed": false,
    "pycharm": {
     "name": "#%%\n"
    }
   }
  },
  {
   "cell_type": "code",
   "execution_count": 395,
   "outputs": [],
   "source": [
    "ForwardExternalType = TypeVar('ForwardExternalType', bound='ExternalType')\n",
    "\n",
    "\n",
    "class ExternalType(IntEnum):\n",
    "    false = 0\n",
    "    true = 1\n",
    "    free = 2\n",
    "\n",
    "    @staticmethod\n",
    "    def from_truth_value(tv: clingo.TruthValue) -> ForwardExternalType:\n",
    "        if tv is clingo.TruthValue.False_:\n",
    "            return ExternalType.false\n",
    "        elif tv is clingo.TruthValue.True_:\n",
    "            return ExternalType.true\n",
    "        else:\n",
    "            assert tv is clingo.TruthValue.Free\n",
    "            return ExternalType.free\n",
    "\n",
    "\n",
    "@dataclass(frozen=True, order=True)\n",
    "class External(RuleLike):\n",
    "    atom: Atom = field(default_factory=Atom)\n",
    "    body: Sequence[Literal] = ()\n",
    "    external_type: ExternalType = ExternalType.false\n",
    "\n",
    "    def __str__(self):\n",
    "        if not self.body:\n",
    "            return \"#external {}. [{}]\".format(self.atom, self.external_type.name)\n",
    "        return \"#external {} : {}. [{}]\".format(self.atom, ', '.join(map(str, self.body)), self.external_type.name)\n"
   ],
   "metadata": {
    "collapsed": false,
    "pycharm": {
     "name": "#%%\n"
    }
   }
  },
  {
   "cell_type": "code",
   "execution_count": 396,
   "outputs": [],
   "source": [
    "ForwardProgram = TypeVar('ForwardProgram', bound='Program')\n",
    "\n",
    "\n",
    "@dataclass(frozen=True, order=True)\n",
    "class Program:\n",
    "    rules: Sequence[RuleLike] = field(default_factory=list)\n",
    "\n",
    "    def __str__(self):\n",
    "        return ' '.join(map(str, self.rules))\n",
    "\n",
    "    def facts(self) -> Iterator[Atom]:\n",
    "        for rule in self.rules:\n",
    "            if rule.is_rule():\n",
    "                assert isinstance(rule, Rule)\n",
    "                if rule.is_fact():\n",
    "                    yield rule\n",
    "            if rule.is_external():\n",
    "                assert isinstance(rule, External)\n",
    "                if not rule.body:\n",
    "                    yield rule\n",
    "\n",
    "    def facts_as_external(self) -> ForwardProgram:\n",
    "        new_rules = []\n",
    "        for rule in self.rules:\n",
    "            if rule.is_fact():\n",
    "                new_rules.append(rule.as_external())\n",
    "            else:\n",
    "                new_rules.append(rule)\n",
    "        return Program(new_rules)\n",
    "\n",
    "    def support_rules(self, atom: Atom) -> Iterator[RuleLike]:\n",
    "        for rule in self.rules:\n",
    "            if rule.is_rule():\n",
    "                assert isinstance(rule, Rule)\n",
    "                if rule.is_head_relevant(atom):\n",
    "                    yield rule\n",
    "            elif rule.is_external():\n",
    "                assert isinstance(rule, External)\n",
    "                if rule.atom.is_isomorph_to(atom):\n",
    "                    yield rule\n",
    "\n",
    "    def ground(self) -> ForwardProgram:\n",
    "        ctl = clingo.Control()\n",
    "        prg = clingox.program.Program()\n",
    "        obs = clingox.program.ProgramObserver(prg)\n",
    "        ctl.register_observer(obs)\n",
    "        ctl.add('base', [], str(self))\n",
    "        ctl.ground([('base', [])])\n",
    "        new_rules = []\n",
    "        for fact in prg.facts:\n",
    "            new_rules.append(Rule(Literal(Atom.from_clingo_symbol(fact.symbol))))\n",
    "        for rule in prg.rules:\n",
    "            if len(rule.head) == 0:\n",
    "                head = None\n",
    "            elif len(rule.head) == 1:\n",
    "                if rule.head[0] not in prg.output_atoms:\n",
    "                    continue\n",
    "                head = Literal(Atom.from_clingo_symbol(prg.output_atoms[rule.head[0]]))\n",
    "            else:\n",
    "                assert False, \"Unexpected length of rule head\"\n",
    "            body = [\n",
    "                Literal(sign=Sign(body_literal < 0), atom=Atom.from_clingo_symbol(prg.output_atoms[abs(body_literal)]))\n",
    "                for body_literal in rule.body]\n",
    "            new_rules.append(Rule(head, body))\n",
    "        for external in prg.externals:\n",
    "            new_rules.append(External(Atom.from_clingo_symbol(prg.output_atoms[external.atom]), (),\n",
    "                                      ExternalType.from_truth_value(external.value)))\n",
    "        return Program(new_rules)\n",
    "\n",
    "    def evaluate_forwards(self) -> Iterator[Sequence[Atom]]:\n",
    "        ctl = clingo.Control()\n",
    "        ctl.configuration.solve.models = 0\n",
    "        ctl.add('base', [], str(self))\n",
    "        ctl.ground([('base', [])])\n",
    "        with ctl.solve(yield_=True) as solve_handle:\n",
    "            for model in solve_handle:\n",
    "                symbols = sorted(model.symbols(shown=True))\n",
    "                atoms = tuple(Atom.from_clingo_symbol(symbol) for symbol in symbols)\n",
    "                yield atoms\n",
    "\n",
    "    def cautious_consequences(self) -> Sequence[Atom]:\n",
    "        ctl = clingo.Control()\n",
    "        ctl.configuration.solve.models = 0\n",
    "        ctl.configuration.solve.enum_mode = 'cautious'\n",
    "        ctl.add('base', [], str(self))\n",
    "        ctl.ground([('base', [])])\n",
    "        with ctl.solve(yield_=True) as solve_handle:\n",
    "            model = None\n",
    "            for m in solve_handle:\n",
    "                model = m\n",
    "            symbols = sorted(model.symbols(shown=True))\n",
    "            atoms = tuple(Atom.from_clingo_symbol(symbol) for symbol in symbols)\n",
    "            return atoms\n",
    "\n"
   ],
   "metadata": {
    "collapsed": false,
    "pycharm": {
     "name": "#%%\n"
    }
   }
  },
  {
   "cell_type": "code",
   "execution_count": 397,
   "outputs": [
    {
     "name": "stdout",
     "output_type": "stream",
     "text": [
      "a :- k, not b. k :- e, not b. c :- a, b. b :- not a. c :- k. f :- e, not k, not c. e.\n"
     ]
    }
   ],
   "source": [
    "a = Literal(Atom(Function('a')))\n",
    "b = Literal(Atom(Function('b')))\n",
    "c = Literal(Atom(Function('c')))\n",
    "e = Literal(Atom(Function('e')))\n",
    "f = Literal(Atom(Function('f')))\n",
    "k = Literal(Atom(Function('k')))\n",
    "\n",
    "r1 = Rule(a, [k, -b])\n",
    "r2 = Rule(k, [e, -b])\n",
    "r3 = Rule(c, [a, b])\n",
    "r4 = Rule(b, [-a])\n",
    "r5 = Rule(c, [k])\n",
    "r6 = Rule(f, [e, -k, -c])\n",
    "r7 = Rule(e)\n",
    "\n",
    "p1 = Program([r1, r2, r3, r4, r5, r6, r7])\n",
    "print(p1)"
   ],
   "metadata": {
    "collapsed": false,
    "pycharm": {
     "name": "#%%\n"
    }
   }
  },
  {
   "cell_type": "code",
   "execution_count": 398,
   "outputs": [
    {
     "name": "stdout",
     "output_type": "stream",
     "text": [
      "a :- k, not b. k :- e, not b. c :- a, b. b :- not a. c :- k. f :- e, not k, not c. #external e. [false]\n"
     ]
    }
   ],
   "source": [
    "p1_t = p1.facts_as_external()\n",
    "print(p1_t)"
   ],
   "metadata": {
    "collapsed": false,
    "pycharm": {
     "name": "#%%\n"
    }
   }
  },
  {
   "cell_type": "code",
   "execution_count": 399,
   "outputs": [
    {
     "name": "stdout",
     "output_type": "stream",
     "text": [
      "b :- not a.\n",
      "k :- not b, e.\n",
      "a :- not b, k.\n",
      "c :- b, a.\n",
      "c :- k.\n",
      "f :- not c, not k, e.\n",
      "#external e. [false]\n"
     ]
    }
   ],
   "source": [
    "p1_tg = p1_t.ground()\n",
    "print('\\n'.join(map(str, p1_tg.rules)))"
   ],
   "metadata": {
    "collapsed": false,
    "pycharm": {
     "name": "#%%\n"
    }
   }
  },
  {
   "cell_type": "code",
   "execution_count": 400,
   "outputs": [
    {
     "name": "stdout",
     "output_type": "stream",
     "text": [
      "Answer Sets:\n",
      "{ b e f } { a c e k }\n"
     ]
    }
   ],
   "source": [
    "models = list(p1.evaluate_forwards())\n",
    "print(\"Answer Sets:\")\n",
    "print('{', ' } { '.join(' '.join(map(str, model)) for model in models), '}')\n",
    "model = models[0]"
   ],
   "metadata": {
    "collapsed": false,
    "pycharm": {
     "name": "#%%\n"
    }
   }
  },
  {
   "cell_type": "code",
   "execution_count": 401,
   "outputs": [
    {
     "name": "stdout",
     "output_type": "stream",
     "text": [
      "Cautious Consequences:\n",
      "{ e }\n"
     ]
    }
   ],
   "source": [
    "cautious_consequences = p1.cautious_consequences()\n",
    "print(\"Cautious Consequences:\")\n",
    "print('{', ' '.join(map(str, cautious_consequences)), '}')"
   ],
   "metadata": {
    "collapsed": false,
    "pycharm": {
     "name": "#%%\n"
    }
   }
  },
  {
   "cell_type": "code",
   "execution_count": 402,
   "outputs": [],
   "source": [
    "def preprocess_true_atoms(atom: Atom, body: Sequence[Literal], e, model, facts):\n",
    "    a = Literal(atom)\n",
    "    positive = set(literal for literal in body if literal.is_pos())\n",
    "    pos = positive\n",
    "    negative = set(literal for literal in body if literal.is_neg())\n",
    "    neg = set(abs(literal) for literal in body if literal.is_neg())\n",
    "    if pos <= model and neg.isdisjoint(model):\n",
    "        s = frozenset(positive | negative)\n",
    "        if a in model and not positive and not negative:\n",
    "            s = frozenset(\"T\")\n",
    "        e[a].append(s)\n",
    "\n",
    "\n",
    "def preprocess_false_atoms(atom: Atom, body: Sequence[Literal], e, model):\n",
    "    a = Literal(atom)\n",
    "    positive = set(literal for literal in body if literal.is_pos())\n",
    "    negative = set(literal for literal in body if literal.is_neg())\n",
    "    l = list(set(frozenset({-p}) for p in positive if p not in model) | set(\n",
    "        frozenset({abs(n)}) for n in negative if abs(n) in model))\n",
    "    if -a not in e:\n",
    "        e[-a] = l\n",
    "    else:\n",
    "        t = []\n",
    "        for s in l:\n",
    "            for e_ in e[-a]:\n",
    "                t.append(s | e_)\n",
    "        e[-a] = t\n",
    "\n",
    "\n",
    "def preprocess(program: Program, model: Sequence[Atom]) -> dict:\n",
    "    e = defaultdict(list)\n",
    "    facts = tuple(program.facts())\n",
    "    model = set(Literal(atom) for atom in model)\n",
    "    for rule in program.rules:\n",
    "        if rule.is_external():\n",
    "            atom: Atom = rule.atom\n",
    "        elif rule.is_rule():\n",
    "            atom: Atom = rule.head.atom\n",
    "        else:\n",
    "            assert False, \"Unexpected RuleLike {} with type {}.\".format(rule, type(rule).__name__)\n",
    "        assert isinstance(atom, Atom), \"Atom {} should have type {} but has type {}.\".format(atom, Atom.__name__,\n",
    "                                                                                             type(atom).__name__)\n",
    "        bodies = (support_rule.body for support_rule in program.support_rules(atom))\n",
    "        if Literal(atom) in model:\n",
    "            for body in bodies:\n",
    "                preprocess_true_atoms(atom, body, e, model, facts)\n",
    "        else:\n",
    "            for body in bodies:\n",
    "                preprocess_false_atoms(atom, body, e, model)\n",
    "    return e\n"
   ],
   "metadata": {
    "collapsed": false,
    "pycharm": {
     "name": "#%%\n"
    }
   }
  },
  {
   "cell_type": "code",
   "execution_count": 403,
   "outputs": [
    {
     "name": "stdout",
     "output_type": "stream",
     "text": [
      "b : [{ not a }]\n",
      "not k : [{ b }]\n",
      "not a : [{ not k }{ b }]\n",
      "not c : [{ not k, not a }]\n",
      "f : [{ not c, e, not k }]\n",
      "e : [{ T }]\n"
     ]
    }
   ],
   "source": [
    "dependency_dict = preprocess(p1_tg, model)\n",
    "for sym, dep in dependency_dict.items():\n",
    "    print(sym, \" : [\", sep='', end='')\n",
    "    for d in dep:\n",
    "        print(\"{\", ', '.join(map(str, d)), \"}\", end='')\n",
    "    print(\"]\")"
   ],
   "metadata": {
    "collapsed": false,
    "pycharm": {
     "name": "#%%\n"
    }
   }
  },
  {
   "cell_type": "code",
   "execution_count": 404,
   "outputs": [
    {
     "name": "stdout",
     "output_type": "stream",
     "text": [
      "node(b).\n",
      "node(0).\n",
      "conjunction(0).\n",
      "edge((b,0)).\n",
      "attr(node,(-a),label,\"¬a\").\n",
      "node((-a)).\n",
      "edge((0,(-a))).\n",
      "attr(node,(-k),label,\"¬k\").\n",
      "node((-k)).\n",
      "node(1).\n",
      "conjunction(1).\n",
      "edge(((-k),1)).\n",
      "edge((1,b)).\n",
      "attr(node,(-a),label,\"¬a\").\n",
      "node((-a)).\n",
      "node(2).\n",
      "conjunction(2).\n",
      "edge(((-a),2)).\n",
      "edge((2,(-k))).\n",
      "edge(((-a),1)).\n",
      "edge((1,b)).\n",
      "attr(node,(-c),label,\"¬c\").\n",
      "node((-c)).\n",
      "node(3).\n",
      "conjunction(3).\n",
      "edge(((-c),3)).\n",
      "edge((3,(-k))).\n",
      "edge((3,(-a))).\n",
      "node(f).\n",
      "node(4).\n",
      "conjunction(4).\n",
      "edge((f,4)).\n",
      "edge((4,(-c))).\n",
      "node(e).\n",
      "edge((4,e)).\n",
      "edge((4,(-k))).\n",
      "node(e).\n",
      "node(5).\n",
      "conjunction(5).\n",
      "edge((e,5)).\n",
      "node(\"T\").\n",
      "edge((5,\"T\")).\n",
      "attr(edge,E,dir,forward) :- edge(E).\n"
     ]
    }
   ],
   "source": [
    "body_dict = {}\n",
    "index = 0\n",
    "graph_rules = []\n",
    "symbols = {}\n",
    "for literal,bodies in dependency_dict.items():\n",
    "    if literal not in symbols:\n",
    "        symbol = literal.atom\n",
    "        if literal.is_neg():\n",
    "            symbol = UnaryOperation(UnaryOperatorType.Minus, symbol)\n",
    "            label = Rule(Literal(Atom(Function('attr', (Function('node'), symbol, Function('label'), Term(StringConstant('¬' + str(literal.atom))))))))\n",
    "            graph_rules.append(label)\n",
    "        symbols[literal] = symbol\n",
    "        node = Rule(Literal(Atom(Function('node', (symbol,)))))\n",
    "        graph_rules.append(node)\n",
    "    for body in bodies:\n",
    "        if body not in body_dict:\n",
    "            body_dict[body] = index\n",
    "            node = Rule(Literal(Atom(Function('node', (Term(IntegerConstant(index)),)))))\n",
    "            conjunction = Rule(Literal(Atom(Function('conjunction', (Term(IntegerConstant(index)),)))))\n",
    "            graph_rules.append(node)\n",
    "            graph_rules.append(conjunction)\n",
    "            index += 1\n",
    "        i = body_dict[body]\n",
    "        symbol = symbols[literal]\n",
    "        edge = Rule(Literal(Atom(Function('edge', [Function(arguments=(symbol, Term(IntegerConstant(i))))]))))\n",
    "        graph_rules.append(edge)\n",
    "        for lit in body:\n",
    "            if lit not in symbols:\n",
    "                if lit == 'T':\n",
    "                    symbol = Term(StringConstant(\"T\"))\n",
    "                    symbols[lit] = symbol\n",
    "                else:\n",
    "                    symbol = lit.atom\n",
    "                    if lit.is_neg():\n",
    "                        symbol = UnaryOperation(UnaryOperatorType.Minus, symbol)\n",
    "                        label = Rule(Literal(Atom(Function('attr', (Function('node'), symbol, Function('label'), Term(StringConstant('¬' + str(lit.atom))))))))\n",
    "                        graph_rules.append(label)\n",
    "                node = Rule(Literal(Atom(Function('node', (symbol,)))))\n",
    "                graph_rules.append(node)\n",
    "            else:\n",
    "                symbol = symbols[lit]\n",
    "            edge = Rule(Literal(Atom(Function('edge', [Function(arguments=(Term(IntegerConstant(i)), symbol))]))))\n",
    "            graph_rules.append(edge)\n",
    "\n",
    "graph_rules.append(Rule(Literal(Atom(Function('attr', (Function('edge'), Variable('E'), Function('dir'), Function('forward'))))), (Literal(Atom(Function('edge', (Variable('E'), )))),))) #attr(edge, E, dir, forward) :- edge(E,_G).\n",
    "\n",
    "graph = Program(graph_rules)\n",
    "print('\\n'.join(map(str,graph_rules)))"
   ],
   "metadata": {
    "collapsed": false,
    "pycharm": {
     "name": "#%%\n"
    }
   }
  },
  {
   "cell_type": "code",
   "execution_count": 405,
   "outputs": [
    {
     "name": "stdout",
     "output_type": "stream",
     "text": [
      "edge((b,0)). edge((0,a)). edge((k,1)). edge((1,b)). edge((a,2)). edge((2,k)). edge((a,1)). edge((c,3)). edge((3,k)). edge((3,a)). edge((f,4)). edge((4,c)). edge((4,e)). edge((4,k)). edge((e,5)). edge((5,\"T\")). attr(node,a,label,\"¬a\"). attr(node,k,label,\"¬k\"). attr(node,c,label,\"¬c\"). attr(edge,(b,0),dir,forward). attr(edge,(0,a),dir,forward). attr(edge,(k,1),dir,forward). attr(edge,(1,b),dir,forward). attr(edge,(a,2),dir,forward). attr(edge,(2,k),dir,forward). attr(edge,(a,1),dir,forward). attr(edge,(c,3),dir,forward). attr(edge,(3,k),dir,forward). attr(edge,(3,a),dir,forward). attr(edge,(f,4),dir,forward). attr(edge,(4,c),dir,forward). attr(edge,(4,e),dir,forward). attr(edge,(4,k),dir,forward). attr(edge,(e,5),dir,forward). attr(edge,(5,\"T\"),dir,forward). node(b). node(0). node(1). node(2). node(3). node(f). node(4). node(e). node(5). node(\"T\"). node(a). node(k). node(c). conjunction(0). conjunction(1). conjunction(2). conjunction(3). conjunction(4). conjunction(5).\n"
     ]
    }
   ],
   "source": [
    "print_graph = copy.deepcopy(graph).ground()\n",
    "print(print_graph)"
   ],
   "metadata": {
    "collapsed": false,
    "pycharm": {
     "name": "#%%\n"
    }
   }
  },
  {
   "cell_type": "code",
   "execution_count": 406,
   "outputs": [],
   "source": [
    "fb = Factbase()\n",
    "fb.add_fact_string(str(print_graph))"
   ],
   "metadata": {
    "collapsed": false,
    "pycharm": {
     "name": "#%%\n"
    }
   }
  },
  {
   "cell_type": "code",
   "execution_count": 407,
   "outputs": [
    {
     "data": {
      "text/plain": "{'default': <graphviz.graphs.Graph at 0x7fbf1d76b010>}"
     },
     "execution_count": 407,
     "metadata": {},
     "output_type": "execute_result"
    }
   ],
   "source": [
    "graphs = compute_graphs(fb)\n",
    "graphs"
   ],
   "metadata": {
    "collapsed": false,
    "pycharm": {
     "name": "#%%\n"
    }
   }
  },
  {
   "cell_type": "code",
   "execution_count": 408,
   "outputs": [
    {
     "data": {
      "image/svg+xml": "<?xml version=\"1.0\" encoding=\"UTF-8\" standalone=\"no\"?>\n<!DOCTYPE svg PUBLIC \"-//W3C//DTD SVG 1.1//EN\"\n \"http://www.w3.org/Graphics/SVG/1.1/DTD/svg11.dtd\">\n<!-- Generated by graphviz version 3.0.0 (20220227.1548)\n -->\n<!-- Title: default Pages: 1 -->\n<svg width=\"266pt\" height=\"692pt\"\n viewBox=\"0.00 0.00 266.00 692.00\" xmlns=\"http://www.w3.org/2000/svg\" xmlns:xlink=\"http://www.w3.org/1999/xlink\">\n<g id=\"graph0\" class=\"graph\" transform=\"scale(1 1) rotate(0) translate(4 688)\">\n<title>default</title>\n<polygon fill=\"white\" stroke=\"transparent\" points=\"-4,4 -4,-688 262,-688 262,4 -4,4\"/>\n<!-- a -->\n<g id=\"node1\" class=\"node\">\n<title>a</title>\n<ellipse fill=\"none\" stroke=\"black\" cx=\"66\" cy=\"-378\" rx=\"27\" ry=\"18\"/>\n<text text-anchor=\"middle\" x=\"66\" y=\"-374.3\" font-family=\"Times,serif\" font-size=\"14.00\">¬a</text>\n</g>\n<!-- 1 -->\n<g id=\"node3\" class=\"node\">\n<title>1</title>\n<ellipse fill=\"none\" stroke=\"black\" cx=\"55\" cy=\"-162\" rx=\"27\" ry=\"18\"/>\n<text text-anchor=\"middle\" x=\"55\" y=\"-158.3\" font-family=\"Times,serif\" font-size=\"14.00\">1</text>\n</g>\n<!-- a&#45;&#45;1 -->\n<g id=\"edge7\" class=\"edge\">\n<title>a&#45;&#45;1</title>\n<path fill=\"none\" stroke=\"black\" d=\"M62.4,-359.9C60.4,-349.56 58.09,-336.08 57,-324 52.78,-277.43 53.22,-222.98 54.03,-190.83\"/>\n<polygon fill=\"black\" stroke=\"black\" points=\"57.54,-190.53 54.33,-180.44 50.55,-190.33 57.54,-190.53\"/>\n</g>\n<!-- 2 -->\n<g id=\"node11\" class=\"node\">\n<title>2</title>\n<ellipse fill=\"none\" stroke=\"black\" cx=\"93\" cy=\"-306\" rx=\"27\" ry=\"18\"/>\n<text text-anchor=\"middle\" x=\"93\" y=\"-302.3\" font-family=\"Times,serif\" font-size=\"14.00\">2</text>\n</g>\n<!-- a&#45;&#45;2 -->\n<g id=\"edge4\" class=\"edge\">\n<title>a&#45;&#45;2</title>\n<path fill=\"none\" stroke=\"black\" d=\"M72.4,-360.41C75.51,-352.34 79.33,-342.43 82.83,-333.35\"/>\n<polygon fill=\"black\" stroke=\"black\" points=\"86.13,-334.55 86.46,-323.96 79.6,-332.03 86.13,-334.55\"/>\n</g>\n<!-- T -->\n<g id=\"node2\" class=\"node\">\n<title>T</title>\n<ellipse fill=\"none\" stroke=\"black\" cx=\"203\" cy=\"-378\" rx=\"27\" ry=\"18\"/>\n<text text-anchor=\"middle\" x=\"203\" y=\"-374.3\" font-family=\"Times,serif\" font-size=\"14.00\">T</text>\n</g>\n<!-- b -->\n<g id=\"node7\" class=\"node\">\n<title>b</title>\n<ellipse fill=\"none\" stroke=\"black\" cx=\"55\" cy=\"-90\" rx=\"27\" ry=\"18\"/>\n<text text-anchor=\"middle\" x=\"55\" y=\"-86.3\" font-family=\"Times,serif\" font-size=\"14.00\">b</text>\n</g>\n<!-- 1&#45;&#45;b -->\n<g id=\"edge6\" class=\"edge\">\n<title>1&#45;&#45;b</title>\n<path fill=\"none\" stroke=\"black\" d=\"M55,-143.7C55,-135.98 55,-126.71 55,-118.11\"/>\n<polygon fill=\"black\" stroke=\"black\" points=\"58.5,-118.1 55,-108.1 51.5,-118.1 58.5,-118.1\"/>\n</g>\n<!-- c -->\n<g id=\"node4\" class=\"node\">\n<title>c</title>\n<ellipse fill=\"none\" stroke=\"black\" cx=\"131\" cy=\"-522\" rx=\"27\" ry=\"18\"/>\n<text text-anchor=\"middle\" x=\"131\" y=\"-518.3\" font-family=\"Times,serif\" font-size=\"14.00\">¬c</text>\n</g>\n<!-- 3 -->\n<g id=\"node5\" class=\"node\">\n<title>3</title>\n<ellipse fill=\"none\" stroke=\"black\" cx=\"131\" cy=\"-450\" rx=\"27\" ry=\"18\"/>\n<text text-anchor=\"middle\" x=\"131\" y=\"-446.3\" font-family=\"Times,serif\" font-size=\"14.00\">3</text>\n</g>\n<!-- c&#45;&#45;3 -->\n<g id=\"edge8\" class=\"edge\">\n<title>c&#45;&#45;3</title>\n<path fill=\"none\" stroke=\"black\" d=\"M131,-503.7C131,-495.98 131,-486.71 131,-478.11\"/>\n<polygon fill=\"black\" stroke=\"black\" points=\"134.5,-478.1 131,-468.1 127.5,-478.1 134.5,-478.1\"/>\n</g>\n<!-- 3&#45;&#45;a -->\n<g id=\"edge15\" class=\"edge\">\n<title>3&#45;&#45;a</title>\n<path fill=\"none\" stroke=\"black\" d=\"M117.22,-434.15C108.34,-424.6 96.64,-411.99 86.66,-401.25\"/>\n<polygon fill=\"black\" stroke=\"black\" points=\"89.13,-398.77 79.76,-393.82 84,-403.53 89.13,-398.77\"/>\n</g>\n<!-- k -->\n<g id=\"node13\" class=\"node\">\n<title>k</title>\n<ellipse fill=\"none\" stroke=\"black\" cx=\"120\" cy=\"-234\" rx=\"27\" ry=\"18\"/>\n<text text-anchor=\"middle\" x=\"120\" y=\"-230.3\" font-family=\"Times,serif\" font-size=\"14.00\">¬k</text>\n</g>\n<!-- 3&#45;&#45;k -->\n<g id=\"edge9\" class=\"edge\">\n<title>3&#45;&#45;k</title>\n<path fill=\"none\" stroke=\"black\" d=\"M131.67,-431.56C132.61,-401.97 133.71,-340.06 129,-288 128.23,-279.5 126.86,-270.32 125.42,-262.02\"/>\n<polygon fill=\"black\" stroke=\"black\" points=\"128.85,-261.3 123.6,-252.1 121.97,-262.57 128.85,-261.3\"/>\n</g>\n<!-- e -->\n<g id=\"node6\" class=\"node\">\n<title>e</title>\n<ellipse fill=\"none\" stroke=\"black\" cx=\"203\" cy=\"-522\" rx=\"27\" ry=\"18\"/>\n<text text-anchor=\"middle\" x=\"203\" y=\"-518.3\" font-family=\"Times,serif\" font-size=\"14.00\">e</text>\n</g>\n<!-- 5 -->\n<g id=\"node8\" class=\"node\">\n<title>5</title>\n<ellipse fill=\"none\" stroke=\"black\" cx=\"203\" cy=\"-450\" rx=\"27\" ry=\"18\"/>\n<text text-anchor=\"middle\" x=\"203\" y=\"-446.3\" font-family=\"Times,serif\" font-size=\"14.00\">5</text>\n</g>\n<!-- e&#45;&#45;5 -->\n<g id=\"edge14\" class=\"edge\">\n<title>e&#45;&#45;5</title>\n<path fill=\"none\" stroke=\"black\" d=\"M203,-503.7C203,-495.98 203,-486.71 203,-478.11\"/>\n<polygon fill=\"black\" stroke=\"black\" points=\"206.5,-478.1 203,-468.1 199.5,-478.1 206.5,-478.1\"/>\n</g>\n<!-- 0 -->\n<g id=\"node9\" class=\"node\">\n<title>0</title>\n<ellipse fill=\"none\" stroke=\"black\" cx=\"27\" cy=\"-18\" rx=\"27\" ry=\"18\"/>\n<text text-anchor=\"middle\" x=\"27\" y=\"-14.3\" font-family=\"Times,serif\" font-size=\"14.00\">0</text>\n</g>\n<!-- b&#45;&#45;0 -->\n<g id=\"edge11\" class=\"edge\">\n<title>b&#45;&#45;0</title>\n<path fill=\"none\" stroke=\"black\" d=\"M48.36,-72.41C45.09,-64.22 41.06,-54.14 37.38,-44.95\"/>\n<polygon fill=\"black\" stroke=\"black\" points=\"40.55,-43.45 33.59,-35.47 34.05,-46.05 40.55,-43.45\"/>\n</g>\n<!-- 5&#45;&#45;T -->\n<g id=\"edge16\" class=\"edge\">\n<title>5&#45;&#45;T</title>\n<path fill=\"none\" stroke=\"black\" d=\"M203,-431.7C203,-423.98 203,-414.71 203,-406.11\"/>\n<polygon fill=\"black\" stroke=\"black\" points=\"206.5,-406.1 203,-396.1 199.5,-406.1 206.5,-406.1\"/>\n</g>\n<!-- 0&#45;&#45;a -->\n<g id=\"edge5\" class=\"edge\">\n<title>0&#45;&#45;a</title>\n<path fill=\"none\" stroke=\"black\" d=\"M21.67,-35.85C13.8,-62.25 0,-115.08 0,-161 0,-235 0,-235 0,-235 0,-280.38 28.06,-326.96 47.59,-353.87\"/>\n<polygon fill=\"black\" stroke=\"black\" points=\"44.8,-355.98 53.59,-361.9 50.4,-351.79 44.8,-355.98\"/>\n</g>\n<!-- f -->\n<g id=\"node10\" class=\"node\">\n<title>f</title>\n<ellipse fill=\"none\" stroke=\"black\" cx=\"203\" cy=\"-666\" rx=\"27\" ry=\"18\"/>\n<text text-anchor=\"middle\" x=\"203\" y=\"-662.3\" font-family=\"Times,serif\" font-size=\"14.00\">f</text>\n</g>\n<!-- 4 -->\n<g id=\"node12\" class=\"node\">\n<title>4</title>\n<ellipse fill=\"none\" stroke=\"black\" cx=\"203\" cy=\"-594\" rx=\"27\" ry=\"18\"/>\n<text text-anchor=\"middle\" x=\"203\" y=\"-590.3\" font-family=\"Times,serif\" font-size=\"14.00\">4</text>\n</g>\n<!-- f&#45;&#45;4 -->\n<g id=\"edge12\" class=\"edge\">\n<title>f&#45;&#45;4</title>\n<path fill=\"none\" stroke=\"black\" d=\"M203,-647.7C203,-639.98 203,-630.71 203,-622.11\"/>\n<polygon fill=\"black\" stroke=\"black\" points=\"206.5,-622.1 203,-612.1 199.5,-622.1 206.5,-622.1\"/>\n</g>\n<!-- 2&#45;&#45;k -->\n<g id=\"edge13\" class=\"edge\">\n<title>2&#45;&#45;k</title>\n<path fill=\"none\" stroke=\"black\" d=\"M99.4,-288.41C102.51,-280.34 106.33,-270.43 109.83,-261.35\"/>\n<polygon fill=\"black\" stroke=\"black\" points=\"113.13,-262.55 113.46,-251.96 106.6,-260.03 113.13,-262.55\"/>\n</g>\n<!-- 4&#45;&#45;c -->\n<g id=\"edge2\" class=\"edge\">\n<title>4&#45;&#45;c</title>\n<path fill=\"none\" stroke=\"black\" d=\"M188.43,-578.83C178.25,-568.94 164.48,-555.55 152.97,-544.36\"/>\n<polygon fill=\"black\" stroke=\"black\" points=\"155.41,-541.85 145.8,-537.38 150.53,-546.87 155.41,-541.85\"/>\n</g>\n<!-- 4&#45;&#45;e -->\n<g id=\"edge1\" class=\"edge\">\n<title>4&#45;&#45;e</title>\n<path fill=\"none\" stroke=\"black\" d=\"M203,-575.7C203,-567.98 203,-558.71 203,-550.11\"/>\n<polygon fill=\"black\" stroke=\"black\" points=\"206.5,-550.1 203,-540.1 199.5,-550.1 206.5,-550.1\"/>\n</g>\n<!-- 4&#45;&#45;k -->\n<g id=\"edge3\" class=\"edge\">\n<title>4&#45;&#45;k</title>\n<path fill=\"none\" stroke=\"black\" d=\"M215.75,-577.7C223.56,-567.59 233.15,-553.71 239,-540 254.88,-502.8 258,-491.45 258,-451 258,-451 258,-451 258,-377 258,-315.93 191.54,-271.23 150.86,-249.6\"/>\n<polygon fill=\"black\" stroke=\"black\" points=\"152.36,-246.43 141.87,-244.96 149.15,-252.65 152.36,-246.43\"/>\n</g>\n<!-- k&#45;&#45;1 -->\n<g id=\"edge10\" class=\"edge\">\n<title>k&#45;&#45;1</title>\n<path fill=\"none\" stroke=\"black\" d=\"M106.22,-218.15C97.34,-208.6 85.64,-195.99 75.66,-185.25\"/>\n<polygon fill=\"black\" stroke=\"black\" points=\"78.13,-182.77 68.76,-177.82 73,-187.53 78.13,-182.77\"/>\n</g>\n</g>\n</svg>\n",
      "text/plain": "<graphviz.graphs.Graph at 0x7fbf1d76b010>"
     },
     "execution_count": 408,
     "metadata": {},
     "output_type": "execute_result"
    }
   ],
   "source": [
    "graphs['default']"
   ],
   "metadata": {
    "collapsed": false,
    "pycharm": {
     "name": "#%%\n"
    }
   }
  },
  {
   "cell_type": "code",
   "execution_count": null,
   "outputs": [],
   "source": [
    "neg_cycle = \"\"\"\n",
    "\n",
    "negcycle((-U,V)) :- node(-U), negcycle((V,_)), negcycle((_, -U)).\n",
    "\n",
    "\"\"\""
   ],
   "metadata": {
    "collapsed": false,
    "pycharm": {
     "name": "#%%\n"
    }
   }
  }
 ],
 "metadata": {
  "kernelspec": {
   "display_name": "Python 3",
   "language": "python",
   "name": "python3"
  },
  "language_info": {
   "codemirror_mode": {
    "name": "ipython",
    "version": 2
   },
   "file_extension": ".py",
   "mimetype": "text/x-python",
   "name": "python",
   "nbconvert_exporter": "python",
   "pygments_lexer": "ipython2",
   "version": "2.7.6"
  }
 },
 "nbformat": 4,
 "nbformat_minor": 0
}