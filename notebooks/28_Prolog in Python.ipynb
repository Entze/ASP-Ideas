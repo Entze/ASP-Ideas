{
 "cells": [
  {
   "cell_type": "code",
   "execution_count": 19,
   "metadata": {
    "collapsed": true,
    "pycharm": {
     "name": "#%%\n"
    }
   },
   "outputs": [],
   "source": [
    "import copy\n",
    "from dataclasses import dataclass, field\n",
    "from enum import IntEnum\n",
    "from typing import Union, Sequence, Optional, Dict, TypeVar\n"
   ]
  },
  {
   "cell_type": "code",
   "execution_count": 20,
   "outputs": [],
   "source": [
    "\n",
    "class TermType(IntEnum):\n",
    "    FUNCTION = 0\n",
    "    VARIABLE = 1\n",
    "    INTEGER = 2\n",
    "\n",
    "\n",
    "@dataclass(frozen=True)\n",
    "class Variable:\n",
    "    name: str\n",
    "\n",
    "    def __str__(self):\n",
    "        return self.name\n",
    "\n",
    "ForwardTerm = TypeVar('ForwardTerm', bound='Term')\n",
    "\n",
    "@dataclass(frozen=True)\n",
    "class Term:\n",
    "    termType: TermType = TermType.FUNCTION\n",
    "    symbol: Union[str, int, Variable, None] = None\n",
    "    arguments: Sequence[ForwardTerm] = ()\n",
    "\n",
    "    def __str__(self) -> str:\n",
    "        if self.termType is TermType.FUNCTION:\n",
    "            return self.__str_function()\n",
    "        elif self.termType is TermType.VARIABLE:\n",
    "            return self.__str_variable()\n",
    "        elif self.termType is TermType.INTEGER:\n",
    "            return self.__str_integer()\n",
    "        else:\n",
    "            assert False, \"Unknown TermType '{}'.\".format(self.termType.name)\n",
    "\n",
    "    def __str_function(self) -> str:\n",
    "        if self.symbol is None and not self.arguments:\n",
    "            return \"()\"\n",
    "        elif self.symbol is None:\n",
    "            return \"({})\".format(','.join(map(str, self.arguments)))\n",
    "        elif not self.arguments:\n",
    "            return str(self.symbol)\n",
    "        else:\n",
    "            return \"{}({})\".format(self.symbol, ','.join(map(str, self.arguments)))\n",
    "\n",
    "    def __str_variable(self) -> str:\n",
    "        return str(self.symbol)\n",
    "\n",
    "    def __str_integer(self) -> str:\n",
    "        return str(self.symbol)\n",
    "\n",
    "    @staticmethod\n",
    "    def new_variable(name: str) -> ForwardTerm:\n",
    "        return Term(termType=TermType.VARIABLE, symbol=Variable(name))\n",
    "\n",
    "    @staticmethod\n",
    "    def new_integer(num: int) -> ForwardTerm:\n",
    "        return Term(termType=TermType.INTEGER, symbol=num)\n",
    "\n",
    "    @staticmethod\n",
    "    def new_function(name: str, arguments: Sequence[ForwardTerm] = ()) -> ForwardTerm:\n",
    "        return Term(termType=TermType.FUNCTION, symbol=name, arguments=arguments)\n",
    "\n",
    "    @staticmethod\n",
    "    def new_constant(name: str) -> ForwardTerm:\n",
    "        return Term.new_function(name)\n",
    "\n",
    "\n",
    "\n",
    "@dataclass\n",
    "class Rule:\n",
    "    head: Optional[Term] = None\n",
    "    body: Sequence[Term] = ()\n",
    "\n",
    "    def __str__(self) -> str:\n",
    "        if self.head is None and not self.body:\n",
    "            return \":-.\"\n",
    "        elif self.head is None:\n",
    "            return \":- {}.\".format(', '.join(map(str, self.body)))\n",
    "        elif not self.body:\n",
    "            return \"{}.\".format(self.head)\n",
    "        else:\n",
    "            return \"{} :- {}.\".format(self.head, ', '.join(map(str, self.body)))\n",
    "\n",
    "ForwardGoal = TypeVar('ForwardGoal', bound='Goal')\n",
    "\n",
    "@dataclass\n",
    "class Goal:\n",
    "    goal: Optional[Rule] = None\n",
    "    parent: Optional[ForwardGoal] = None\n",
    "    children : Sequence[ForwardGoal] = field(default_factory=list)\n",
    "    env: Dict[Variable, Term] = field(default_factory=dict)\n",
    "    inx: int = 0"
   ],
   "metadata": {
    "collapsed": false,
    "pycharm": {
     "name": "#%%\n"
    }
   }
  },
  {
   "cell_type": "code",
   "execution_count": 21,
   "outputs": [],
   "source": [
    "def unify(src_term: Term, src_env: Dict[Variable, Term], dest_term: Optional[Term], dest_env: Dict[Variable, Term]):\n",
    "    if dest_term is None:\n",
    "        return False\n",
    "    if src_term.termType is not TermType.FUNCTION:\n",
    "        return False\n",
    "    if dest_term.termType is not TermType.FUNCTION:\n",
    "        return False\n",
    "    if src_term.symbol != dest_term.symbol:\n",
    "        return False\n",
    "    nargs = len(src_term.arguments)\n",
    "    if nargs != len(dest_term.arguments):\n",
    "        return False\n",
    "    for i in range(nargs):\n",
    "        src_arg: Term = src_term.arguments[i]\n",
    "        dest_arg: Term = dest_term.arguments[i]\n",
    "        if src_arg.termType is TermType.VARIABLE:\n",
    "            src_val = src_env.get(src_arg.symbol)\n",
    "        else:\n",
    "            src_val = src_arg\n",
    "        if src_val is not None:\n",
    "            if dest_arg.termType is TermType.VARIABLE:\n",
    "                dest_val = dest_env.get(dest_arg.symbol)\n",
    "                if dest_val is None:\n",
    "                    dest_env[dest_arg.symbol] = src_val\n",
    "                elif dest_val != src_val:\n",
    "                    return False\n",
    "            elif dest_arg != src_val:\n",
    "                return False\n",
    "    return True\n"
   ],
   "metadata": {
    "collapsed": false,
    "pycharm": {
     "name": "#%%\n"
    }
   }
  },
  {
   "cell_type": "code",
   "execution_count": 22,
   "outputs": [],
   "source": [
    "def search(term: Term, rules: Sequence[Rule] = ()):\n",
    "\n",
    "    root = Goal(goal=Rule(head=Term(), body=(term,)))\n",
    "    goal_envs = []\n",
    "    proof_trees = []\n",
    "    stack = [root]\n",
    "    while stack:\n",
    "        current = stack.pop()\n",
    "        if current.inx >= len(current.goal.body):\n",
    "            if current.parent is None:\n",
    "                if current.env:\n",
    "                    print(current.env)\n",
    "                else:\n",
    "                    print(\"Yes\")\n",
    "                goal_envs.append(current.env)\n",
    "                proof_trees.append(current)\n",
    "            else:\n",
    "                parent = copy.deepcopy(current.parent)\n",
    "                unify(current.goal.head, current.env, parent.goal.body[parent.inx], parent.env)\n",
    "                parent.inx += 1\n",
    "                stack.append(parent)\n",
    "        else:\n",
    "            term = current.goal.body[current.inx]\n",
    "            for rule in rules:\n",
    "                child_env = {}\n",
    "                unifiable = unify(term, current.env, rule.head, child_env)\n",
    "                if unifiable:\n",
    "                    child = Goal(env=child_env, parent=current, goal=rule)\n",
    "                    current.children.append(child)\n",
    "                    stack.append(child)\n",
    "    if not goal_envs:\n",
    "        print(\"No\")\n",
    "    return goal_envs,proof_trees"
   ],
   "metadata": {
    "collapsed": false,
    "pycharm": {
     "name": "#%%\n"
    }
   }
  },
  {
   "cell_type": "code",
   "execution_count": 23,
   "outputs": [
    {
     "name": "stdout",
     "output_type": "stream",
     "text": [
      "child(X,Y) :- mother(Y,X).\n",
      "child(X,Y) :- father(Y,X).\n",
      "son(X,Y) :- child(X,Y), boy(X).\n",
      "boy(bill).\n",
      "boy(frank).\n",
      "mother(alice,bill).\n",
      "father(alex,bill).\n",
      "son(bill,A)?\n"
     ]
    }
   ],
   "source": [
    "X = Term.new_variable('X')\n",
    "Y = Term.new_variable('Y')\n",
    "A = Term.new_variable('A')\n",
    "bill = Term.new_constant('bill')\n",
    "frank = Term.new_constant('frank')\n",
    "alice = Term.new_constant('alice')\n",
    "alex = Term.new_constant('alex')\n",
    "\n",
    "program = [\n",
    "    Rule(head=Term.new_function('child', (X, Y)), body=(Term.new_function('mother', (Y,X)),)),\n",
    "    Rule(head=Term.new_function('child', (X, Y)), body=(Term.new_function('father', (Y,X)),)),\n",
    "\n",
    "    Rule(head=Term.new_function('son', (X, Y)), body=(Term.new_function('child', (X,Y)), Term.new_function('boy', (X,)))),\n",
    "\n",
    "    Rule(head=Term.new_function('boy', (bill,))),\n",
    "    Rule(head=Term.new_function('boy', (frank,))),\n",
    "    Rule(head=Term.new_function('mother', (alice, bill))),\n",
    "    Rule(head=Term.new_function('father', (alex, bill)))\n",
    "]\n",
    "print('\\n'.join(map(str, program)))\n",
    "\n",
    "search_term = Term.new_function('son', (bill, A))\n",
    "print(f\"{search_term}?\")"
   ],
   "metadata": {
    "collapsed": false,
    "pycharm": {
     "name": "#%%\n"
    }
   }
  },
  {
   "cell_type": "code",
   "execution_count": 24,
   "outputs": [
    {
     "name": "stdout",
     "output_type": "stream",
     "text": [
      "{Variable(name='A'): Term(termType=<TermType.FUNCTION: 0>, symbol='alex', arguments=())}\n",
      "{Variable(name='A'): Term(termType=<TermType.FUNCTION: 0>, symbol='alice', arguments=())}\n"
     ]
    },
    {
     "data": {
      "text/plain": "([{Variable(name='A'): Term(termType=<TermType.FUNCTION: 0>, symbol='alex', arguments=())},\n  {Variable(name='A'): Term(termType=<TermType.FUNCTION: 0>, symbol='alice', arguments=())}],\n [Goal(goal=Rule(head=Term(termType=<TermType.FUNCTION: 0>, symbol=None, arguments=()), body=(Term(termType=<TermType.FUNCTION: 0>, symbol='son', arguments=(Term(termType=<TermType.FUNCTION: 0>, symbol='bill', arguments=()), Term(termType=<TermType.VARIABLE: 1>, symbol=Variable(name='A'), arguments=()))),)), parent=None, children=[Goal(goal=Rule(head=Term(termType=<TermType.FUNCTION: 0>, symbol='son', arguments=(Term(termType=<TermType.VARIABLE: 1>, symbol=Variable(name='X'), arguments=()), Term(termType=<TermType.VARIABLE: 1>, symbol=Variable(name='Y'), arguments=()))), body=(Term(termType=<TermType.FUNCTION: 0>, symbol='child', arguments=(Term(termType=<TermType.VARIABLE: 1>, symbol=Variable(name='X'), arguments=()), Term(termType=<TermType.VARIABLE: 1>, symbol=Variable(name='Y'), arguments=()))), Term(termType=<TermType.FUNCTION: 0>, symbol='boy', arguments=(Term(termType=<TermType.VARIABLE: 1>, symbol=Variable(name='X'), arguments=()),)))), parent=..., children=[Goal(goal=Rule(head=Term(termType=<TermType.FUNCTION: 0>, symbol='child', arguments=(Term(termType=<TermType.VARIABLE: 1>, symbol=Variable(name='X'), arguments=()), Term(termType=<TermType.VARIABLE: 1>, symbol=Variable(name='Y'), arguments=()))), body=(Term(termType=<TermType.FUNCTION: 0>, symbol='mother', arguments=(Term(termType=<TermType.VARIABLE: 1>, symbol=Variable(name='Y'), arguments=()), Term(termType=<TermType.VARIABLE: 1>, symbol=Variable(name='X'), arguments=()))),)), parent=..., children=[], env={Variable(name='X'): Term(termType=<TermType.FUNCTION: 0>, symbol='bill', arguments=())}, inx=0), Goal(goal=Rule(head=Term(termType=<TermType.FUNCTION: 0>, symbol='child', arguments=(Term(termType=<TermType.VARIABLE: 1>, symbol=Variable(name='X'), arguments=()), Term(termType=<TermType.VARIABLE: 1>, symbol=Variable(name='Y'), arguments=()))), body=(Term(termType=<TermType.FUNCTION: 0>, symbol='father', arguments=(Term(termType=<TermType.VARIABLE: 1>, symbol=Variable(name='Y'), arguments=()), Term(termType=<TermType.VARIABLE: 1>, symbol=Variable(name='X'), arguments=()))),)), parent=..., children=[Goal(goal=Rule(head=Term(termType=<TermType.FUNCTION: 0>, symbol='father', arguments=(Term(termType=<TermType.FUNCTION: 0>, symbol='alex', arguments=()), Term(termType=<TermType.FUNCTION: 0>, symbol='bill', arguments=()))), body=()), parent=..., children=[], env={}, inx=0)], env={Variable(name='X'): Term(termType=<TermType.FUNCTION: 0>, symbol='bill', arguments=()), Variable(name='Y'): Term(termType=<TermType.FUNCTION: 0>, symbol='alex', arguments=())}, inx=1), Goal(goal=Rule(head=Term(termType=<TermType.FUNCTION: 0>, symbol='boy', arguments=(Term(termType=<TermType.FUNCTION: 0>, symbol='bill', arguments=()),)), body=()), parent=..., children=[], env={}, inx=0)], env={Variable(name='X'): Term(termType=<TermType.FUNCTION: 0>, symbol='bill', arguments=()), Variable(name='Y'): Term(termType=<TermType.FUNCTION: 0>, symbol='alex', arguments=())}, inx=2)], env={Variable(name='A'): Term(termType=<TermType.FUNCTION: 0>, symbol='alex', arguments=())}, inx=1),\n  Goal(goal=Rule(head=Term(termType=<TermType.FUNCTION: 0>, symbol=None, arguments=()), body=(Term(termType=<TermType.FUNCTION: 0>, symbol='son', arguments=(Term(termType=<TermType.FUNCTION: 0>, symbol='bill', arguments=()), Term(termType=<TermType.VARIABLE: 1>, symbol=Variable(name='A'), arguments=()))),)), parent=None, children=[Goal(goal=Rule(head=Term(termType=<TermType.FUNCTION: 0>, symbol='son', arguments=(Term(termType=<TermType.VARIABLE: 1>, symbol=Variable(name='X'), arguments=()), Term(termType=<TermType.VARIABLE: 1>, symbol=Variable(name='Y'), arguments=()))), body=(Term(termType=<TermType.FUNCTION: 0>, symbol='child', arguments=(Term(termType=<TermType.VARIABLE: 1>, symbol=Variable(name='X'), arguments=()), Term(termType=<TermType.VARIABLE: 1>, symbol=Variable(name='Y'), arguments=()))), Term(termType=<TermType.FUNCTION: 0>, symbol='boy', arguments=(Term(termType=<TermType.VARIABLE: 1>, symbol=Variable(name='X'), arguments=()),)))), parent=..., children=[Goal(goal=Rule(head=Term(termType=<TermType.FUNCTION: 0>, symbol='child', arguments=(Term(termType=<TermType.VARIABLE: 1>, symbol=Variable(name='X'), arguments=()), Term(termType=<TermType.VARIABLE: 1>, symbol=Variable(name='Y'), arguments=()))), body=(Term(termType=<TermType.FUNCTION: 0>, symbol='mother', arguments=(Term(termType=<TermType.VARIABLE: 1>, symbol=Variable(name='Y'), arguments=()), Term(termType=<TermType.VARIABLE: 1>, symbol=Variable(name='X'), arguments=()))),)), parent=..., children=[Goal(goal=Rule(head=Term(termType=<TermType.FUNCTION: 0>, symbol='mother', arguments=(Term(termType=<TermType.FUNCTION: 0>, symbol='alice', arguments=()), Term(termType=<TermType.FUNCTION: 0>, symbol='bill', arguments=()))), body=()), parent=..., children=[], env={}, inx=0)], env={Variable(name='X'): Term(termType=<TermType.FUNCTION: 0>, symbol='bill', arguments=()), Variable(name='Y'): Term(termType=<TermType.FUNCTION: 0>, symbol='alice', arguments=())}, inx=1), Goal(goal=Rule(head=Term(termType=<TermType.FUNCTION: 0>, symbol='child', arguments=(Term(termType=<TermType.VARIABLE: 1>, symbol=Variable(name='X'), arguments=()), Term(termType=<TermType.VARIABLE: 1>, symbol=Variable(name='Y'), arguments=()))), body=(Term(termType=<TermType.FUNCTION: 0>, symbol='father', arguments=(Term(termType=<TermType.VARIABLE: 1>, symbol=Variable(name='Y'), arguments=()), Term(termType=<TermType.VARIABLE: 1>, symbol=Variable(name='X'), arguments=()))),)), parent=..., children=[Goal(goal=Rule(head=Term(termType=<TermType.FUNCTION: 0>, symbol='father', arguments=(Term(termType=<TermType.FUNCTION: 0>, symbol='alex', arguments=()), Term(termType=<TermType.FUNCTION: 0>, symbol='bill', arguments=()))), body=()), parent=..., children=[], env={}, inx=0)], env={Variable(name='X'): Term(termType=<TermType.FUNCTION: 0>, symbol='bill', arguments=())}, inx=0), Goal(goal=Rule(head=Term(termType=<TermType.FUNCTION: 0>, symbol='boy', arguments=(Term(termType=<TermType.FUNCTION: 0>, symbol='bill', arguments=()),)), body=()), parent=..., children=[], env={}, inx=0)], env={Variable(name='X'): Term(termType=<TermType.FUNCTION: 0>, symbol='bill', arguments=()), Variable(name='Y'): Term(termType=<TermType.FUNCTION: 0>, symbol='alice', arguments=())}, inx=2)], env={Variable(name='A'): Term(termType=<TermType.FUNCTION: 0>, symbol='alice', arguments=())}, inx=1)])"
     },
     "execution_count": 24,
     "metadata": {},
     "output_type": "execute_result"
    }
   ],
   "source": [
    "search(search_term,program)"
   ],
   "metadata": {
    "collapsed": false,
    "pycharm": {
     "name": "#%%\n"
    }
   }
  },
  {
   "cell_type": "code",
   "execution_count": 24,
   "outputs": [],
   "source": [],
   "metadata": {
    "collapsed": false,
    "pycharm": {
     "name": "#%%\n"
    }
   }
  }
 ],
 "metadata": {
  "kernelspec": {
   "display_name": "Python 3",
   "language": "python",
   "name": "python3"
  },
  "language_info": {
   "codemirror_mode": {
    "name": "ipython",
    "version": 2
   },
   "file_extension": ".py",
   "mimetype": "text/x-python",
   "name": "python",
   "nbconvert_exporter": "python",
   "pygments_lexer": "ipython2",
   "version": "2.7.6"
  }
 },
 "nbformat": 4,
 "nbformat_minor": 0
}