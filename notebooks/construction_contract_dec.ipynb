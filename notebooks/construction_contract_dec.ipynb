{
 "cells": [
  {
   "cell_type": "code",
   "execution_count": 2,
   "metadata": {
    "collapsed": true
   },
   "outputs": [],
   "source": [
    "from util.run import solve"
   ]
  },
  {
   "cell_type": "code",
   "execution_count": 3,
   "outputs": [
    {
     "name": "stdout",
     "output_type": "stream",
     "text": [
      "Answer  1: {\n",
      "-holdsAt(contractor_signed_contract,1)\n",
      "-holdsAt(contractor_signed_contract,2)\n",
      "-holdsAt(employer_signed_contract,1)\n",
      "-holdsAt(employer_signed_contract,2)\n",
      "d_holdsAt(obligation(achievement,3,employer_transferred_initial_payment),10)\n",
      "d_holdsAt(obligation(achievement,3,employer_transferred_initial_payment),3)\n",
      "d_holdsAt(obligation(achievement,3,employer_transferred_initial_payment),4)\n",
      "d_holdsAt(obligation(achievement,3,employer_transferred_initial_payment),5)\n",
      "d_holdsAt(obligation(achievement,3,employer_transferred_initial_payment),6)\n",
      "d_holdsAt(obligation(achievement,3,employer_transferred_initial_payment),7)\n",
      "d_holdsAt(obligation(achievement,3,employer_transferred_initial_payment),8)\n",
      "d_holdsAt(obligation(achievement,3,employer_transferred_initial_payment),9)\n",
      "declipped(1,contractor_signed_contract,10)\n",
      "declipped(1,contractor_signed_contract,3)\n",
      "declipped(1,contractor_signed_contract,4)\n",
      "declipped(1,contractor_signed_contract,5)\n",
      "declipped(1,contractor_signed_contract,6)\n",
      "declipped(1,contractor_signed_contract,7)\n",
      "declipped(1,contractor_signed_contract,8)\n",
      "declipped(1,contractor_signed_contract,9)\n",
      "declipped(1,employer_signed_contract,10)\n",
      "declipped(1,employer_signed_contract,3)\n",
      "declipped(1,employer_signed_contract,4)\n",
      "declipped(1,employer_signed_contract,5)\n",
      "declipped(1,employer_signed_contract,6)\n",
      "declipped(1,employer_signed_contract,7)\n",
      "declipped(1,employer_signed_contract,8)\n",
      "declipped(1,employer_signed_contract,9)\n",
      "declipped(1,employer_transferred_initial_payment,10)\n",
      "declipped(1,employer_transferred_initial_payment,5)\n",
      "declipped(1,employer_transferred_initial_payment,6)\n",
      "declipped(1,employer_transferred_initial_payment,7)\n",
      "declipped(1,employer_transferred_initial_payment,8)\n",
      "declipped(1,employer_transferred_initial_payment,9)\n",
      "declipped(2,contractor_signed_contract,10)\n",
      "declipped(2,contractor_signed_contract,3)\n",
      "declipped(2,contractor_signed_contract,4)\n",
      "declipped(2,contractor_signed_contract,5)\n",
      "declipped(2,contractor_signed_contract,6)\n",
      "declipped(2,contractor_signed_contract,7)\n",
      "declipped(2,contractor_signed_contract,8)\n",
      "declipped(2,contractor_signed_contract,9)\n",
      "declipped(2,employer_signed_contract,10)\n",
      "declipped(2,employer_signed_contract,3)\n",
      "declipped(2,employer_signed_contract,4)\n",
      "declipped(2,employer_signed_contract,5)\n",
      "declipped(2,employer_signed_contract,6)\n",
      "declipped(2,employer_signed_contract,7)\n",
      "declipped(2,employer_signed_contract,8)\n",
      "declipped(2,employer_signed_contract,9)\n",
      "declipped(2,employer_transferred_initial_payment,10)\n",
      "declipped(2,employer_transferred_initial_payment,5)\n",
      "declipped(2,employer_transferred_initial_payment,6)\n",
      "declipped(2,employer_transferred_initial_payment,7)\n",
      "declipped(2,employer_transferred_initial_payment,8)\n",
      "declipped(2,employer_transferred_initial_payment,9)\n",
      "declipped(3,employer_transferred_initial_payment,10)\n",
      "declipped(3,employer_transferred_initial_payment,5)\n",
      "declipped(3,employer_transferred_initial_payment,6)\n",
      "declipped(3,employer_transferred_initial_payment,7)\n",
      "declipped(3,employer_transferred_initial_payment,8)\n",
      "declipped(3,employer_transferred_initial_payment,9)\n",
      "declipped(4,employer_transferred_initial_payment,10)\n",
      "declipped(4,employer_transferred_initial_payment,5)\n",
      "declipped(4,employer_transferred_initial_payment,6)\n",
      "declipped(4,employer_transferred_initial_payment,7)\n",
      "declipped(4,employer_transferred_initial_payment,8)\n",
      "declipped(4,employer_transferred_initial_payment,9)\n",
      "endtime(10)\n",
      "fulfillTerminable(obligation(achievement,3,employer_transferred_initial_payment))\n",
      "happens(contractor_signs_contract,2)\n",
      "happens(employer_signs_contract,2)\n",
      "happens(employer_transfers_initial_payment,4)\n",
      "happens(trigger(obligation(achievement,3,employer_transferred_initial_payment),0),3)\n",
      "holdsAt(contractor_signed_contract,10)\n",
      "holdsAt(contractor_signed_contract,3)\n",
      "holdsAt(contractor_signed_contract,4)\n",
      "holdsAt(contractor_signed_contract,5)\n",
      "holdsAt(contractor_signed_contract,6)\n",
      "holdsAt(contractor_signed_contract,7)\n",
      "holdsAt(contractor_signed_contract,8)\n",
      "holdsAt(contractor_signed_contract,9)\n",
      "holdsAt(employer_signed_contract,10)\n",
      "holdsAt(employer_signed_contract,3)\n",
      "holdsAt(employer_signed_contract,4)\n",
      "holdsAt(employer_signed_contract,5)\n",
      "holdsAt(employer_signed_contract,6)\n",
      "holdsAt(employer_signed_contract,7)\n",
      "holdsAt(employer_signed_contract,8)\n",
      "holdsAt(employer_signed_contract,9)\n",
      "holdsAt(employer_transferred_initial_payment,10)\n",
      "holdsAt(employer_transferred_initial_payment,5)\n",
      "holdsAt(employer_transferred_initial_payment,6)\n",
      "holdsAt(employer_transferred_initial_payment,7)\n",
      "holdsAt(employer_transferred_initial_payment,8)\n",
      "holdsAt(employer_transferred_initial_payment,9)\n",
      "initiallyFalse(contractor_signed_contract)\n",
      "initiallyFalse(employer_signed_contract)\n",
      "initiates(contractor_receives_initial_payment,contractor_received_initial_payment,4)\n",
      "initiates(contractor_signs_contract,contractor_signed_contract,2)\n",
      "initiates(employer_signs_contract,employer_signed_contract,2)\n",
      "initiates(employer_transfers_initial_payment,employer_transferred_initial_payment,4)\n",
      "obligationstype(achievement)\n",
      "obligationtype(punctual)\n",
      "party(contractor)\n",
      "party(employer)\n",
      "starttime(1)\n",
      "time(1)\n",
      "time(10)\n",
      "time(2)\n",
      "time(3)\n",
      "time(4)\n",
      "time(5)\n",
      "time(6)\n",
      "time(7)\n",
      "time(8)\n",
      "time(9)\n",
      "violationTerminable(obligation(achievement,3,employer_transferred_initial_payment))\n",
      "}.\n",
      "SAT 1 \n"
     ]
    },
    {
     "name": "stderr",
     "output_type": "stream",
     "text": [
      "../logic_programs/deontic_event_calculus_axioms.lp:14:22-53: info: atom does not occur in any rule head:\n",
      "  (-happens(trigger(P,Delay),T2))\n",
      "\n",
      "../logic_programs/event_calculus_axioms.lp:19:18-36: info: atom does not occur in any rule head:\n",
      "  terminates(X,P,T1)\n",
      "\n",
      "../logic_programs/event_calculus_axioms.lp:37:34-53: info: atom does not occur in any rule head:\n",
      "  terminates(X,P,T)\n",
      "\n",
      "../logic_programs/event_calculus_axioms.lp:49:18-34: info: atom does not occur in any rule head:\n",
      "  initiallyTrue(P)\n",
      "\n"
     ]
    }
   ],
   "source": [
    "pre = \"../logic_programs/\"\n",
    "solve(map(lambda file: pre + file, (\"event_calculus_axioms.lp\",\n",
    "                                    \"deontic_event_calculus_axioms.lp\",\n",
    "                                    \"punctual_obligations.lp\",\n",
    "                                    \"achievement_obligations.lp\",\n",
    "                                    \"construction_contract_dec.lp\")), sep='\\n');"
   ],
   "metadata": {
    "collapsed": false,
    "pycharm": {
     "name": "#%%\n"
    }
   }
  },
  {
   "cell_type": "code",
   "execution_count": 3,
   "outputs": [],
   "source": [],
   "metadata": {
    "collapsed": false,
    "pycharm": {
     "name": "#%%\n"
    }
   }
  }
 ],
 "metadata": {
  "kernelspec": {
   "display_name": "Python 3",
   "language": "python",
   "name": "python3"
  },
  "language_info": {
   "codemirror_mode": {
    "name": "ipython",
    "version": 2
   },
   "file_extension": ".py",
   "mimetype": "text/x-python",
   "name": "python",
   "nbconvert_exporter": "python",
   "pygments_lexer": "ipython2",
   "version": "2.7.6"
  }
 },
 "nbformat": 4,
 "nbformat_minor": 0
}