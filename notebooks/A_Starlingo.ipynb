{
 "cells": [
  {
   "cell_type": "code",
   "execution_count": 1,
   "metadata": {
    "collapsed": true
   },
   "outputs": [],
   "source": [
    "\n",
    "\n",
    "from starlingo.Program import from_ast"
   ]
  },
  {
   "cell_type": "code",
   "execution_count": 2,
   "outputs": [],
   "source": [
    "\n",
    "program = \"\"\"\n",
    "\n",
    "#program directive.\n",
    "\n",
    "#program base.\n",
    "fact.\n",
    "normal :- body1, body2.\n",
    "{choice} :- body2.\n",
    "{choice(N): N=1} :- body2.\n",
    "1 {choice1;choice2} 3.\n",
    "\n",
    ":- body1, not body2.\n",
    "\n",
    "disj1 | disj2.\n",
    "disj1 | disj2 | disj3 :- body1.\n",
    "\n",
    "\"\"\""
   ],
   "metadata": {
    "collapsed": false,
    "pycharm": {
     "name": "#%%\n"
    }
   }
  },
  {
   "cell_type": "code",
   "execution_count": 3,
   "outputs": [
    {
     "name": "stdout",
     "output_type": "stream",
     "text": [
      "3\n"
     ]
    }
   ],
   "source": [
    "programs = from_ast(program)\n",
    "print(len(programs))"
   ],
   "metadata": {
    "collapsed": false,
    "pycharm": {
     "name": "#%%\n"
    }
   }
  },
  {
   "cell_type": "code",
   "execution_count": 4,
   "outputs": [
    {
     "name": "stdout",
     "output_type": "stream",
     "text": [
      "#program base.\n",
      "#program directive.\n",
      "#program base.\n",
      "fact.\n",
      "normal :- body1, body2.\n",
      "{choice} :- body2.\n",
      "{choice(N): N=1} :- body2.\n",
      "1 <= {choice1; choice2} <= 3.\n",
      ":- body1, not body2.\n",
      "disj1 | disj2.\n",
      "disj1 | disj2 | disj3 :- body1.\n"
     ]
    }
   ],
   "source": [
    "print('\\n'.join(map(lambda p: p.custom_str(sep='\\n'), programs)))"
   ],
   "metadata": {
    "collapsed": false,
    "pycharm": {
     "name": "#%%\n"
    }
   }
  },
  {
   "cell_type": "code",
   "execution_count": 4,
   "outputs": [],
   "source": [],
   "metadata": {
    "collapsed": false,
    "pycharm": {
     "name": "#%%\n"
    }
   }
  }
 ],
 "metadata": {
  "kernelspec": {
   "display_name": "Python 3",
   "language": "python",
   "name": "python3"
  },
  "language_info": {
   "codemirror_mode": {
    "name": "ipython",
    "version": 2
   },
   "file_extension": ".py",
   "mimetype": "text/x-python",
   "name": "python",
   "nbconvert_exporter": "python",
   "pygments_lexer": "ipython2",
   "version": "2.7.6"
  }
 },
 "nbformat": 4,
 "nbformat_minor": 0
}