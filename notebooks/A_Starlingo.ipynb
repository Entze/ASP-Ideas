{
 "cells": [
  {
   "cell_type": "code",
   "execution_count": 6,
   "metadata": {
    "collapsed": true
   },
   "outputs": [],
   "source": [
    "from starlingo.Program import from_ast, evaluate_forwards"
   ]
  },
  {
   "cell_type": "code",
   "execution_count": 7,
   "outputs": [],
   "source": [
    "\n",
    "program = \"\"\"\n",
    "\n",
    "#program directive.\n",
    "\n",
    "#program base.\n",
    "fact.\n",
    "normal :- body1, body2.\n",
    "{choice} :- body2.\n",
    "{choice(N): N=1} :- body2.\n",
    "1 {choice1;choice2} 3.\n",
    "\n",
    ":- body1, not body2.\n",
    "\n",
    "disj1 | disj2.\n",
    "disj1 | disj2 | disj3 :- body1.\n",
    "\n",
    "\"\"\""
   ],
   "metadata": {
    "collapsed": false,
    "pycharm": {
     "name": "#%%\n"
    }
   }
  },
  {
   "cell_type": "code",
   "execution_count": 8,
   "outputs": [
    {
     "name": "stdout",
     "output_type": "stream",
     "text": [
      "3\n"
     ]
    }
   ],
   "source": [
    "programs = from_ast(program)\n",
    "print(len(programs))"
   ],
   "metadata": {
    "collapsed": false,
    "pycharm": {
     "name": "#%%\n"
    }
   }
  },
  {
   "cell_type": "code",
   "execution_count": 9,
   "outputs": [
    {
     "name": "stdout",
     "output_type": "stream",
     "text": [
      "#program base.\n",
      "#program directive.\n",
      "#program base.\n",
      "fact.\n",
      "normal :- body1, body2.\n",
      "{choice} :- body2.\n",
      "{choice(N): N=1} :- body2.\n",
      "1 <= {choice1; choice2} <= 3.\n",
      ":- body1, not body2.\n",
      "disj1 | disj2.\n",
      "disj1 | disj2 | disj3 :- body1.\n"
     ]
    }
   ],
   "source": [
    "print('\\n'.join(map(lambda p: p.custom_str(sep='\\n'), programs)))"
   ],
   "metadata": {
    "collapsed": false,
    "pycharm": {
     "name": "#%%\n"
    }
   }
  },
  {
   "cell_type": "code",
   "execution_count": 10,
   "outputs": [
    {
     "name": "stdout",
     "output_type": "stream",
     "text": [
      "Answer 1: {\n",
      "choice2\n",
      "disj2\n",
      "fact\n",
      "}\n",
      "Answer 2: {\n",
      "choice1\n",
      "disj2\n",
      "fact\n",
      "}\n",
      "Answer 3: {\n",
      "choice1\n",
      "choice2\n",
      "disj2\n",
      "fact\n",
      "}\n",
      "Answer 4: {\n",
      "choice2\n",
      "disj1\n",
      "fact\n",
      "}\n",
      "Answer 5: {\n",
      "choice1\n",
      "disj1\n",
      "fact\n",
      "}\n",
      "Answer 6: {\n",
      "choice1\n",
      "choice2\n",
      "disj1\n",
      "fact\n",
      "}\n",
      "SAT 6\n"
     ]
    },
    {
     "name": "stderr",
     "output_type": "stream",
     "text": [
      "<block>:5:11-16: info: atom does not occur in any rule head:\n",
      "  body1\n",
      "\n"
     ]
    },
    {
     "data": {
      "text/plain": "[(Atom(symbol=Function(name='choice2', arguments=())),\n  Atom(symbol=Function(name='disj2', arguments=())),\n  Atom(symbol=Function(name='fact', arguments=()))),\n (Atom(symbol=Function(name='choice1', arguments=())),\n  Atom(symbol=Function(name='disj2', arguments=())),\n  Atom(symbol=Function(name='fact', arguments=()))),\n (Atom(symbol=Function(name='choice1', arguments=())),\n  Atom(symbol=Function(name='choice2', arguments=())),\n  Atom(symbol=Function(name='disj2', arguments=())),\n  Atom(symbol=Function(name='fact', arguments=()))),\n (Atom(symbol=Function(name='choice2', arguments=())),\n  Atom(symbol=Function(name='disj1', arguments=())),\n  Atom(symbol=Function(name='fact', arguments=()))),\n (Atom(symbol=Function(name='choice1', arguments=())),\n  Atom(symbol=Function(name='disj1', arguments=())),\n  Atom(symbol=Function(name='fact', arguments=()))),\n (Atom(symbol=Function(name='choice1', arguments=())),\n  Atom(symbol=Function(name='choice2', arguments=())),\n  Atom(symbol=Function(name='disj1', arguments=())),\n  Atom(symbol=Function(name='fact', arguments=())))]"
     },
     "execution_count": 10,
     "metadata": {},
     "output_type": "execute_result"
    },
    {
     "name": "stderr",
     "output_type": "stream",
     "text": [
      "<block>:5:18-23: info: atom does not occur in any rule head:\n",
      "  body2\n",
      "\n",
      "<block>:6:13-18: info: atom does not occur in any rule head:\n",
      "  body2\n",
      "\n",
      "<block>:7:21-26: info: atom does not occur in any rule head:\n",
      "  body2\n",
      "\n",
      "<block>:9:4-9: info: atom does not occur in any rule head:\n",
      "  body1\n",
      "\n",
      "<block>:9:15-20: info: atom does not occur in any rule head:\n",
      "  body2\n",
      "\n",
      "<block>:11:26-31: info: atom does not occur in any rule head:\n",
      "  body1\n",
      "\n"
     ]
    }
   ],
   "source": [
    "list(evaluate_forwards(programs, report=True))"
   ],
   "metadata": {
    "collapsed": false,
    "pycharm": {
     "name": "#%%\n"
    }
   }
  }
 ],
 "metadata": {
  "kernelspec": {
   "display_name": "Python 3",
   "language": "python",
   "name": "python3"
  },
  "language_info": {
   "codemirror_mode": {
    "name": "ipython",
    "version": 2
   },
   "file_extension": ".py",
   "mimetype": "text/x-python",
   "name": "python",
   "nbconvert_exporter": "python",
   "pygments_lexer": "ipython2",
   "version": "2.7.6"
  }
 },
 "nbformat": 4,
 "nbformat_minor": 0
}