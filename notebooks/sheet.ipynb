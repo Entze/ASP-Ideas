{
 "cells": [
  {
   "cell_type": "code",
   "execution_count": 1,
   "metadata": {
    "tags": []
   },
   "outputs": [],
   "source": [
    "import itertools\n",
    "from copy import deepcopy"
   ]
  },
  {
   "cell_type": "code",
   "execution_count": 2,
   "metadata": {
    "tags": []
   },
   "outputs": [],
   "source": [
    "import ipysheet\n",
    "from ipysheet.pandas_loader import to_dataframe"
   ]
  },
  {
   "cell_type": "code",
   "execution_count": 3,
   "metadata": {},
   "outputs": [],
   "source": [
    "import sys\n",
    "sys.path.append(\"../\") # go to parent dir"
   ]
  },
  {
   "cell_type": "code",
   "execution_count": 4,
   "metadata": {
    "tags": []
   },
   "outputs": [],
   "source": [
    "from util.convert import process_aspif\n",
    "from util.display import symbol_to_str, display_explanation_graph\n",
    "from util.explain import preprocess, explanation_graph, get_minimal_assumptions, negation_atoms\n",
    "from util.literal import Literal\n",
    "from util.run import solve"
   ]
  },
  {
   "cell_type": "code",
   "execution_count": 5,
   "metadata": {
    "tags": []
   },
   "outputs": [],
   "source": [
    "import networkx as nx"
   ]
  },
  {
   "cell_type": "code",
   "execution_count": 6,
   "metadata": {},
   "outputs": [],
   "source": [
    "import clingo"
   ]
  },
  {
   "cell_type": "code",
   "execution_count": 7,
   "metadata": {},
   "outputs": [],
   "source": [
    "import subprocess"
   ]
  },
  {
   "cell_type": "markdown",
   "metadata": {},
   "source": [
    "## Input"
   ]
  },
  {
   "cell_type": "code",
   "execution_count": 8,
   "metadata": {},
   "outputs": [],
   "source": [
    "rows,columns = 6,1"
   ]
  },
  {
   "cell_type": "code",
   "execution_count": 9,
   "metadata": {
    "collapsed": false,
    "jupyter": {
     "outputs_hidden": false
    },
    "pycharm": {
     "name": "#%%\n"
    }
   },
   "outputs": [
    {
     "data": {
      "text/plain": "Sheet(cells=(Cell(column_end=0, column_start=0, row_end=0, row_start=0, type='text', value=''), Cell(column_en…",
      "application/vnd.jupyter.widget-view+json": {
       "version_major": 2,
       "version_minor": 0,
       "model_id": "d74427a1ebeb4686825dd28320cd2712"
      }
     },
     "metadata": {},
     "output_type": "display_data"
    }
   ],
   "source": [
    "facts_sheet = ipysheet.sheet(rows=rows, columns=columns)\n",
    "\n",
    "cells = []\n",
    "\n",
    "for row in range(rows):\n",
    "    cell_range = []\n",
    "    for column in range(columns):\n",
    "        cell = ipysheet.cell(row, column, \"\")\n",
    "        cell_range.append(cell)\n",
    "    cells.append(cell_range)\n",
    "\n",
    "#cells[0][0] = ipysheet.cell(0,0, \"a\")\n",
    "cells[4][0] = ipysheet.cell(4,0, \"e\")\n",
    "\n",
    "facts_sheet"
   ]
  },
  {
   "cell_type": "code",
   "execution_count": 10,
   "metadata": {
    "collapsed": false,
    "jupyter": {
     "outputs_hidden": false
    },
    "pycharm": {
     "name": "#%%\n"
    }
   },
   "outputs": [
    {
     "data": {
      "text/plain": "   A\n0   \n1   \n2   \n3   \n4  e\n5   ",
      "text/html": "<div>\n<style scoped>\n    .dataframe tbody tr th:only-of-type {\n        vertical-align: middle;\n    }\n\n    .dataframe tbody tr th {\n        vertical-align: top;\n    }\n\n    .dataframe thead th {\n        text-align: right;\n    }\n</style>\n<table border=\"1\" class=\"dataframe\">\n  <thead>\n    <tr style=\"text-align: right;\">\n      <th></th>\n      <th>A</th>\n    </tr>\n  </thead>\n  <tbody>\n    <tr>\n      <th>0</th>\n      <td></td>\n    </tr>\n    <tr>\n      <th>1</th>\n      <td></td>\n    </tr>\n    <tr>\n      <th>2</th>\n      <td></td>\n    </tr>\n    <tr>\n      <th>3</th>\n      <td></td>\n    </tr>\n    <tr>\n      <th>4</th>\n      <td>e</td>\n    </tr>\n    <tr>\n      <th>5</th>\n      <td></td>\n    </tr>\n  </tbody>\n</table>\n</div>"
     },
     "execution_count": 10,
     "metadata": {},
     "output_type": "execute_result"
    }
   ],
   "source": [
    "df = to_dataframe(facts_sheet)\n",
    "df"
   ]
  },
  {
   "cell_type": "code",
   "execution_count": 11,
   "metadata": {
    "collapsed": false,
    "jupyter": {
     "outputs_hidden": false
    },
    "pycharm": {
     "name": "#%%\n"
    }
   },
   "outputs": [
    {
     "data": {
      "text/plain": "['e']"
     },
     "execution_count": 11,
     "metadata": {},
     "output_type": "execute_result"
    }
   ],
   "source": [
    "facts_list = list(itertools.chain(*df[df != \"\"].dropna().values.tolist()))\n",
    "facts_list"
   ]
  },
  {
   "cell_type": "markdown",
   "metadata": {},
   "source": [
    "## Programm"
   ]
  },
  {
   "cell_type": "code",
   "execution_count": 12,
   "metadata": {
    "collapsed": false,
    "jupyter": {
     "outputs_hidden": false
    },
    "pycharm": {
     "name": "#%%\n"
    }
   },
   "outputs": [
    {
     "data": {
      "text/plain": "'e.'"
     },
     "execution_count": 12,
     "metadata": {},
     "output_type": "execute_result"
    }
   ],
   "source": [
    "facts = '\\n'.join(map(lambda f: f\"{f}.\", facts_list))\n",
    "facts"
   ]
  },
  {
   "cell_type": "code",
   "execution_count": 13,
   "metadata": {},
   "outputs": [
    {
     "data": {
      "text/plain": "'\\na :- k, not b.\\nk :- e, not b.\\nc :- a, b.\\n\\nb :- not a.\\nc :- k.\\nf :- e, not k, not c.\\n'"
     },
     "execution_count": 13,
     "metadata": {},
     "output_type": "execute_result"
    }
   ],
   "source": [
    "program = \"\"\"\n",
    "a :- k, not b.\n",
    "k :- e, not b.\n",
    "c :- a, b.\n",
    "\n",
    "b :- not a.\n",
    "c :- k.\n",
    "f :- e, not k, not c.\n",
    "\"\"\"\n",
    "program"
   ]
  },
  {
   "cell_type": "markdown",
   "metadata": {
    "pycharm": {
     "name": "#%% md\n"
    }
   },
   "source": [
    "## Answer Sets"
   ]
  },
  {
   "cell_type": "code",
   "execution_count": 14,
   "metadata": {
    "collapsed": false,
    "jupyter": {
     "outputs_hidden": false
    },
    "pycharm": {
     "name": "#%%\n"
    }
   },
   "outputs": [
    {
     "name": "stdout",
     "output_type": "stream",
     "text": [
      "Answer  1: { b e f }.\n",
      "Answer  2: { a c e k }.\n",
      "SAT 2 \n"
     ]
    }
   ],
   "source": [
    "answer_sets_clingo, models_clingo = solve((facts, program))"
   ]
  },
  {
   "cell_type": "code",
   "execution_count": 15,
   "metadata": {
    "collapsed": false,
    "jupyter": {
     "outputs_hidden": false
    },
    "pycharm": {
     "name": "#%%\n"
    }
   },
   "outputs": [
    {
     "data": {
      "text/plain": "[{Function('b', [], True), Function('e', [], True), Function('f', [], True)},\n {Function('a', [], True),\n  Function('c', [], True),\n  Function('e', [], True),\n  Function('k', [], True)}]"
     },
     "execution_count": 15,
     "metadata": {},
     "output_type": "execute_result"
    }
   ],
   "source": [
    "answer_sets_clingo"
   ]
  },
  {
   "cell_type": "code",
   "execution_count": 16,
   "metadata": {
    "collapsed": false,
    "jupyter": {
     "outputs_hidden": false
    },
    "pycharm": {
     "name": "#%%\n"
    }
   },
   "outputs": [
    {
     "data": {
      "text/plain": "Sheet(cells=(Cell(column_end=0, column_start=0, row_end=0, row_start=0, type='text', value='b'), Cell(column_e…",
      "application/vnd.jupyter.widget-view+json": {
       "version_major": 2,
       "version_minor": 0,
       "model_id": "3c4767c270014c83b269723f2724df9b"
      }
     },
     "metadata": {},
     "output_type": "display_data"
    }
   ],
   "source": [
    "results_sheet = ipysheet.sheet(rows=max(len(answer_set) for answer_set in answer_sets_clingo), columns=len(answer_sets_clingo))\n",
    "\n",
    "\n",
    "for c, answer_set in enumerate(answer_sets_clingo):\n",
    "    for r, atom in enumerate(answer_set):\n",
    "        ipysheet.cell(r, c, symbol_to_str(atom))\n",
    "\n",
    "results_sheet"
   ]
  },
  {
   "cell_type": "markdown",
   "metadata": {
    "pycharm": {
     "name": "#%% md\n"
    }
   },
   "source": [
    "## Grounding"
   ]
  },
  {
   "cell_type": "code",
   "execution_count": 17,
   "metadata": {
    "collapsed": false,
    "jupyter": {
     "outputs_hidden": false
    },
    "pycharm": {
     "name": "#%%\n"
    }
   },
   "outputs": [],
   "source": [
    "groundable_facts = list(map(lambda f: f\"#external {f}.\", facts_list))\n",
    "\n",
    "with open('/tmp/asp_to_ground.lp', 'w') as file:\n",
    "    file.write(\"% Facts:\\n\")\n",
    "    file.writelines(groundable_facts)\n",
    "    file.write(\"% Rules:\\n\")\n",
    "    file.write(program)"
   ]
  },
  {
   "cell_type": "code",
   "execution_count": 18,
   "metadata": {
    "collapsed": false,
    "jupyter": {
     "outputs_hidden": false
    },
    "pycharm": {
     "name": "#%%\n"
    }
   },
   "outputs": [],
   "source": [
    "output = subprocess.run(['gringo', '/tmp/asp_to_ground.lp'], stdout=subprocess.PIPE)\n"
   ]
  },
  {
   "cell_type": "code",
   "execution_count": 19,
   "metadata": {
    "collapsed": false,
    "jupyter": {
     "outputs_hidden": false
    },
    "pycharm": {
     "name": "#%%\n"
    }
   },
   "outputs": [
    {
     "name": "stdout",
     "output_type": "stream",
     "text": [
      "asp 1 0 0\n",
      "5 1 2\n",
      "1 0 1 2 0 1 -3\n",
      "1 0 1 4 0 2 -2 1\n",
      "1 0 1 3 0 2 -2 4\n",
      "1 0 1 5 0 2 2 3\n",
      "1 0 1 5 0 1 4\n",
      "1 0 1 6 0 3 -5 -4 1\n",
      "4 1 e 1 1\n",
      "4 1 b 1 2\n",
      "4 1 k 1 4\n",
      "4 1 a 1 3\n",
      "4 1 c 1 5\n",
      "4 1 f 1 6\n",
      "0\n",
      "\n"
     ]
    }
   ],
   "source": [
    "aspif = output.stdout.decode('utf-8')\n",
    "print(aspif)"
   ]
  },
  {
   "cell_type": "code",
   "execution_count": 20,
   "metadata": {
    "collapsed": false,
    "jupyter": {
     "outputs_hidden": false
    },
    "pycharm": {
     "name": "#%%\n"
    }
   },
   "outputs": [],
   "source": [
    "program_dict = {}\n",
    "literal_dict = {}"
   ]
  },
  {
   "cell_type": "code",
   "execution_count": 21,
   "metadata": {
    "collapsed": false,
    "jupyter": {
     "outputs_hidden": false
    },
    "pycharm": {
     "name": "#%%\n"
    }
   },
   "outputs": [
    {
     "data": {
      "text/plain": "({e: [{'positive': [], 'negative': []}],\n  b: [{'positive': [], 'negative': [a]}],\n  k: [{'positive': [e], 'negative': [b]}],\n  a: [{'positive': [k], 'negative': [b]}],\n  c: [{'positive': [b, a], 'negative': []}, {'positive': [k], 'negative': []}],\n  f: [{'positive': [e], 'negative': [c, k]}]},\n {1: e, 2: b, 4: k, 3: a, 5: c, 6: f})"
     },
     "execution_count": 21,
     "metadata": {},
     "output_type": "execute_result"
    }
   ],
   "source": [
    "process_aspif(aspif, program_dict, literal_dict)"
   ]
  },
  {
   "cell_type": "code",
   "execution_count": 22,
   "metadata": {
    "collapsed": false,
    "jupyter": {
     "outputs_hidden": false
    },
    "pycharm": {
     "name": "#%%\n"
    }
   },
   "outputs": [
    {
     "data": {
      "text/plain": "[{b, e, f}, {a, c, e, k}]"
     },
     "execution_count": 22,
     "metadata": {},
     "output_type": "execute_result"
    }
   ],
   "source": [
    "answer_sets = [{Literal.literal_from_symbol(elem) for elem in answer_set} for answer_set in answer_sets_clingo]\n",
    "answer_sets"
   ]
  },
  {
   "cell_type": "code",
   "execution_count": 23,
   "metadata": {
    "collapsed": false,
    "jupyter": {
     "outputs_hidden": false
    },
    "pycharm": {
     "name": "#%%\n"
    }
   },
   "outputs": [
    {
     "data": {
      "text/plain": "{e}"
     },
     "execution_count": 23,
     "metadata": {},
     "output_type": "execute_result"
    }
   ],
   "source": [
    "cautious_consequence = deepcopy(answer_sets[0])\n",
    "for answer_set in answer_sets[1:]:\n",
    "    cautious_consequence.intersection_update(answer_set)\n",
    "cautious_consequence"
   ]
  },
  {
   "cell_type": "code",
   "execution_count": 24,
   "metadata": {
    "collapsed": false,
    "jupyter": {
     "outputs_hidden": false
    },
    "pycharm": {
     "name": "#%%\n"
    }
   },
   "outputs": [
    {
     "data": {
      "text/plain": "{e}"
     },
     "execution_count": 24,
     "metadata": {},
     "output_type": "execute_result"
    }
   ],
   "source": [
    "facts_literals = {Literal.literal_from_string(fact) for fact in facts_list}\n",
    "facts_literals"
   ]
  },
  {
   "cell_type": "code",
   "execution_count": 25,
   "metadata": {
    "collapsed": false,
    "jupyter": {
     "outputs_hidden": false
    },
    "pycharm": {
     "name": "#%%\n"
    }
   },
   "outputs": [
    {
     "data": {
      "text/plain": "{e: [{'T'}],\n b: [{~a}],\n ~k: [frozenset({b})],\n ~a: [frozenset({~k}), frozenset({b})],\n ~c: [frozenset({~a, ~k})],\n f: [{~c, ~k, e}]}"
     },
     "execution_count": 25,
     "metadata": {},
     "output_type": "execute_result"
    }
   ],
   "source": [
    "derivable_dict = preprocess(program_dict, facts_literals, answer_sets[0])\n",
    "derivable_dict"
   ]
  },
  {
   "cell_type": "code",
   "execution_count": 26,
   "metadata": {
    "collapsed": false,
    "jupyter": {
     "outputs_hidden": false
    },
    "pycharm": {
     "name": "#%%\n"
    }
   },
   "outputs": [
    {
     "data": {
      "text/plain": "[frozenset({k}), frozenset({a})]"
     },
     "execution_count": 26,
     "metadata": {},
     "output_type": "execute_result"
    }
   ],
   "source": [
    "minimal_assumptions = list(get_minimal_assumptions(deepcopy(cautious_consequence), negation_atoms(program_dict), deepcopy(derivable_dict), answer_sets[0]))\n",
    "minimal_assumptions"
   ]
  },
  {
   "cell_type": "code",
   "execution_count": 27,
   "metadata": {},
   "outputs": [],
   "source": [
    "f = Literal.literal_from_string('f')"
   ]
  },
  {
   "cell_type": "code",
   "execution_count": 28,
   "metadata": {
    "collapsed": false,
    "jupyter": {
     "outputs_hidden": false
    },
    "pycharm": {
     "name": "#%%\n"
    }
   },
   "outputs": [],
   "source": [
    "graph = explanation_graph(f, deepcopy(derivable_dict), deepcopy(minimal_assumptions[0]), deepcopy(answer_sets[0]))\n",
    "assert graph is not None"
   ]
  },
  {
   "cell_type": "code",
   "execution_count": 29,
   "metadata": {
    "collapsed": false,
    "jupyter": {
     "outputs_hidden": false
    },
    "pycharm": {
     "name": "#%%\n"
    }
   },
   "outputs": [
    {
     "data": {
      "text/plain": "<Figure size 432x288 with 1 Axes>",
      "image/png": "[encoded data removed]"
     },
     "metadata": {},
     "output_type": "display_data"
    }
   ],
   "source": [
    "display_explanation_graph(graph, f)"
   ]
  },
  {
   "cell_type": "code",
   "execution_count": 30,
   "metadata": {
    "collapsed": false,
    "jupyter": {
     "outputs_hidden": false
    },
    "pycharm": {
     "name": "#%%\n"
    }
   },
   "outputs": [
    {
     "data": {
      "text/plain": "OutEdgeDataView([(f, e, {'edge_type': 1}), (f, ~k, {'edge_type': 1}), (f, ~c, {'edge_type': 1}), (e, 'T', {'edge_type': 1}), (~k, 'assume', {'edge_type': 1}), (~c, ~k, {'edge_type': 1}), (~c, ~a, {'edge_type': 1}), (~a, ~k, {'edge_type': 1})])"
     },
     "execution_count": 30,
     "metadata": {},
     "output_type": "execute_result"
    }
   ],
   "source": [
    "graph.edges(data=True)"
   ]
  },
  {
   "cell_type": "code",
   "execution_count": 30,
   "metadata": {},
   "outputs": [],
   "source": []
  }
 ],
 "metadata": {
  "kernelspec": {
   "display_name": "Python 3 (ipykernel)",
   "language": "python",
   "name": "python3"
  },
  "language_info": {
   "codemirror_mode": {
    "name": "ipython",
    "version": 3
   },
   "file_extension": ".py",
   "mimetype": "text/x-python",
   "name": "python",
   "nbconvert_exporter": "python",
   "pygments_lexer": "ipython3",
   "version": "3.10.2"
  }
 },
 "nbformat": 4,
 "nbformat_minor": 4
}