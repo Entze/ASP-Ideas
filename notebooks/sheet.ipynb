{
 "cells": [
  {
   "cell_type": "code",
   "execution_count": 1,
   "metadata": {
    "tags": []
   },
   "outputs": [],
   "source": [
    "import itertools\n",
    "from copy import deepcopy\n",
    "\n",
    "import ipysheet\n",
    "from ipysheet.pandas_loader import to_dataframe\n",
    "\n",
    "from util.convert import process_aspif\n",
    "from util.explain import Literal, preprocess, explanation_graph, get_minimal_assumptions, negation_atoms\n",
    "from util.run import solve\n",
    "\n",
    "import networkx as nx"
   ]
  },
  {
   "cell_type": "code",
   "execution_count": 2,
   "metadata": {},
   "outputs": [],
   "source": [
    "import clingo"
   ]
  },
  {
   "cell_type": "code",
   "execution_count": 3,
   "metadata": {},
   "outputs": [],
   "source": [
    "import subprocess"
   ]
  },
  {
   "cell_type": "markdown",
   "metadata": {},
   "source": [
    "## Input"
   ]
  },
  {
   "cell_type": "code",
   "execution_count": 4,
   "metadata": {},
   "outputs": [],
   "source": [
    "rows,columns = 6,1"
   ]
  },
  {
   "cell_type": "code",
   "execution_count": 5,
   "metadata": {
    "collapsed": false,
    "jupyter": {
     "outputs_hidden": false
    },
    "pycharm": {
     "name": "#%%\n"
    }
   },
   "outputs": [
    {
     "data": {
      "text/plain": "Sheet(cells=(Cell(column_end=0, column_start=0, row_end=0, row_start=0, type='text', value=''), Cell(column_en…",
      "application/vnd.jupyter.widget-view+json": {
       "version_major": 2,
       "version_minor": 0,
       "model_id": "335c5b75f99e4fe3b342945e396e909b"
      }
     },
     "metadata": {},
     "output_type": "display_data"
    }
   ],
   "source": [
    "facts_sheet = ipysheet.sheet(rows=rows, columns=columns)\n",
    "\n",
    "cells = []\n",
    "\n",
    "for row in range(rows):\n",
    "    cell_range = []\n",
    "    for column in range(columns):\n",
    "        cell = ipysheet.cell(row, column, \"\")\n",
    "        cell_range.append(cell)\n",
    "    cells.append(cell_range)\n",
    "\n",
    "#cells[0][0] = ipysheet.cell(0,0, \"a\")\n",
    "cells[4][0] = ipysheet.cell(4,0, \"e\")\n",
    "\n",
    "facts_sheet"
   ]
  },
  {
   "cell_type": "code",
   "execution_count": 6,
   "metadata": {
    "collapsed": false,
    "jupyter": {
     "outputs_hidden": false
    },
    "pycharm": {
     "name": "#%%\n"
    }
   },
   "outputs": [
    {
     "data": {
      "text/plain": "   A\n0   \n1   \n2   \n3   \n4  e\n5   ",
      "text/html": "<div>\n<style scoped>\n    .dataframe tbody tr th:only-of-type {\n        vertical-align: middle;\n    }\n\n    .dataframe tbody tr th {\n        vertical-align: top;\n    }\n\n    .dataframe thead th {\n        text-align: right;\n    }\n</style>\n<table border=\"1\" class=\"dataframe\">\n  <thead>\n    <tr style=\"text-align: right;\">\n      <th></th>\n      <th>A</th>\n    </tr>\n  </thead>\n  <tbody>\n    <tr>\n      <th>0</th>\n      <td></td>\n    </tr>\n    <tr>\n      <th>1</th>\n      <td></td>\n    </tr>\n    <tr>\n      <th>2</th>\n      <td></td>\n    </tr>\n    <tr>\n      <th>3</th>\n      <td></td>\n    </tr>\n    <tr>\n      <th>4</th>\n      <td>e</td>\n    </tr>\n    <tr>\n      <th>5</th>\n      <td></td>\n    </tr>\n  </tbody>\n</table>\n</div>"
     },
     "execution_count": 6,
     "metadata": {},
     "output_type": "execute_result"
    }
   ],
   "source": [
    "df = to_dataframe(facts_sheet)\n",
    "df"
   ]
  },
  {
   "cell_type": "code",
   "execution_count": 7,
   "outputs": [
    {
     "data": {
      "text/plain": "['e']"
     },
     "execution_count": 7,
     "metadata": {},
     "output_type": "execute_result"
    }
   ],
   "source": [
    "facts_list = list(itertools.chain(*df[df != \"\"].dropna().values.tolist()))\n",
    "facts_list"
   ],
   "metadata": {
    "collapsed": false,
    "pycharm": {
     "name": "#%%\n"
    }
   }
  },
  {
   "cell_type": "markdown",
   "metadata": {},
   "source": [
    "## Programm"
   ]
  },
  {
   "cell_type": "code",
   "execution_count": 8,
   "outputs": [
    {
     "data": {
      "text/plain": "'e.'"
     },
     "execution_count": 8,
     "metadata": {},
     "output_type": "execute_result"
    }
   ],
   "source": [
    "facts = '\\n'.join(map(lambda f: f\"{f}.\", facts_list))\n",
    "facts"
   ],
   "metadata": {
    "collapsed": false,
    "pycharm": {
     "name": "#%%\n"
    }
   }
  },
  {
   "cell_type": "code",
   "execution_count": 9,
   "metadata": {},
   "outputs": [
    {
     "data": {
      "text/plain": "'\\na :- k, not b.\\nk :- e, not b.\\nc :- a, b.\\n\\nb :- not a.\\nc :- k.\\nf :- e, not k, not c.\\n'"
     },
     "execution_count": 9,
     "metadata": {},
     "output_type": "execute_result"
    }
   ],
   "source": [
    "program = \"\"\"\n",
    "a :- k, not b.\n",
    "k :- e, not b.\n",
    "c :- a, b.\n",
    "\n",
    "b :- not a.\n",
    "c :- k.\n",
    "f :- e, not k, not c.\n",
    "\"\"\"\n",
    "program"
   ]
  },
  {
   "cell_type": "markdown",
   "source": [
    "## Answer Sets"
   ],
   "metadata": {
    "collapsed": false,
    "pycharm": {
     "name": "#%% md\n"
    }
   }
  },
  {
   "cell_type": "code",
   "execution_count": 10,
   "outputs": [
    {
     "name": "stdout",
     "output_type": "stream",
     "text": [
      "Answer  1: { b e f }.\n",
      "Answer  2: { a c e k }.\n",
      "SAT 2 \n"
     ]
    }
   ],
   "source": [
    "answer_sets_clingo, models_clingo = solve((facts, program))"
   ],
   "metadata": {
    "collapsed": false,
    "pycharm": {
     "name": "#%%\n"
    }
   }
  },
  {
   "cell_type": "code",
   "execution_count": 11,
   "outputs": [
    {
     "data": {
      "text/plain": "[{Function('b', [], True), Function('e', [], True), Function('f', [], True)},\n {Function('a', [], True),\n  Function('c', [], True),\n  Function('e', [], True),\n  Function('k', [], True)}]"
     },
     "execution_count": 11,
     "metadata": {},
     "output_type": "execute_result"
    }
   ],
   "source": [
    "answer_sets_clingo"
   ],
   "metadata": {
    "collapsed": false,
    "pycharm": {
     "name": "#%%\n"
    }
   }
  },
  {
   "cell_type": "markdown",
   "source": [
    "## Grounding"
   ],
   "metadata": {
    "collapsed": false,
    "pycharm": {
     "name": "#%% md\n"
    }
   }
  },
  {
   "cell_type": "code",
   "execution_count": 12,
   "outputs": [],
   "source": [
    "groundable_facts = list(map(lambda f: f\"#external {f}.\", facts_list))\n",
    "\n",
    "with open('/tmp/asp_to_ground.lp', 'w') as file:\n",
    "    file.write(\"% Facts:\\n\")\n",
    "    file.writelines(groundable_facts)\n",
    "    file.write(\"% Rules:\\n\")\n",
    "    file.write(program)"
   ],
   "metadata": {
    "collapsed": false,
    "pycharm": {
     "name": "#%%\n"
    }
   }
  },
  {
   "cell_type": "code",
   "execution_count": 13,
   "outputs": [],
   "source": [
    "output = subprocess.run(['gringo', '/tmp/asp_to_ground.lp'], stdout=subprocess.PIPE)\n"
   ],
   "metadata": {
    "collapsed": false,
    "pycharm": {
     "name": "#%%\n"
    }
   }
  },
  {
   "cell_type": "code",
   "execution_count": 14,
   "outputs": [],
   "source": [
    "aspif = output.stdout.decode('utf-8')"
   ],
   "metadata": {
    "collapsed": false,
    "pycharm": {
     "name": "#%%\n"
    }
   }
  },
  {
   "cell_type": "code",
   "execution_count": 15,
   "outputs": [],
   "source": [
    "program_dict = {}\n",
    "literal_dict = {}"
   ],
   "metadata": {
    "collapsed": false,
    "pycharm": {
     "name": "#%%\n"
    }
   }
  },
  {
   "cell_type": "code",
   "execution_count": 16,
   "outputs": [
    {
     "data": {
      "text/plain": "({e: [{'positive': [], 'negative': []}],\n  b: [{'positive': [], 'negative': [a]}],\n  k: [{'positive': [e], 'negative': [b]}],\n  a: [{'positive': [k], 'negative': [b]}],\n  c: [{'positive': [b, a], 'negative': []}, {'positive': [k], 'negative': []}],\n  f: [{'positive': [e], 'negative': [c, k]}]},\n {1: e, 2: b, 4: k, 3: a, 5: c, 6: f})"
     },
     "execution_count": 16,
     "metadata": {},
     "output_type": "execute_result"
    }
   ],
   "source": [
    "process_aspif(aspif, program_dict, literal_dict)"
   ],
   "metadata": {
    "collapsed": false,
    "pycharm": {
     "name": "#%%\n"
    }
   }
  },
  {
   "cell_type": "code",
   "execution_count": 17,
   "outputs": [
    {
     "data": {
      "text/plain": "[{b, e, f}, {a, c, e, k}]"
     },
     "execution_count": 17,
     "metadata": {},
     "output_type": "execute_result"
    }
   ],
   "source": [
    "answer_sets = [{Literal.literal_from_symbol(elem) for elem in answer_set} for answer_set in answer_sets_clingo]\n",
    "answer_sets"
   ],
   "metadata": {
    "collapsed": false,
    "pycharm": {
     "name": "#%%\n"
    }
   }
  },
  {
   "cell_type": "code",
   "execution_count": 18,
   "outputs": [
    {
     "data": {
      "text/plain": "{e}"
     },
     "execution_count": 18,
     "metadata": {},
     "output_type": "execute_result"
    }
   ],
   "source": [
    "cautious_consequence = answer_sets[0]\n",
    "for answer_set in answer_sets[1:]:\n",
    "    cautious_consequence.intersection_update(answer_set)\n",
    "cautious_consequence"
   ],
   "metadata": {
    "collapsed": false,
    "pycharm": {
     "name": "#%%\n"
    }
   }
  },
  {
   "cell_type": "code",
   "execution_count": 19,
   "outputs": [
    {
     "data": {
      "text/plain": "{e}"
     },
     "execution_count": 19,
     "metadata": {},
     "output_type": "execute_result"
    }
   ],
   "source": [
    "facts_literals = {Literal.literal_from_string(fact) for fact in facts_list}\n",
    "facts_literals"
   ],
   "metadata": {
    "collapsed": false,
    "pycharm": {
     "name": "#%%\n"
    }
   }
  },
  {
   "cell_type": "code",
   "execution_count": 20,
   "outputs": [
    {
     "data": {
      "text/plain": "{e: [{'T'}],\n ~b: [],\n ~k: [],\n ~a: [frozenset({~k})],\n ~c: [frozenset({~b, ~k}), frozenset({~a, ~k})],\n ~f: []}"
     },
     "execution_count": 20,
     "metadata": {},
     "output_type": "execute_result"
    }
   ],
   "source": [
    "derivable_dict = preprocess(program_dict, facts_literals, answer_sets[0])\n",
    "derivable_dict"
   ],
   "metadata": {
    "collapsed": false,
    "pycharm": {
     "name": "#%%\n"
    }
   }
  },
  {
   "cell_type": "code",
   "execution_count": 23,
   "outputs": [
    {
     "data": {
      "text/plain": "{frozenset({frozenset({a, b, c, k})})}"
     },
     "execution_count": 23,
     "metadata": {},
     "output_type": "execute_result"
    }
   ],
   "source": [
    "minimal_assumptions = get_minimal_assumptions(deepcopy(cautious_consequence), negation_atoms(program_dict), deepcopy(derivable_dict), answer_sets[0])\n",
    "minimal_assumptions"
   ],
   "metadata": {
    "collapsed": false,
    "pycharm": {
     "name": "#%%\n"
    }
   }
  },
  {
   "cell_type": "code",
   "execution_count": 22,
   "outputs": [
    {
     "ename": "TypeError",
     "evalue": "bad operand type for unary -: 'frozenset'",
     "output_type": "error",
     "traceback": [
      "\u001B[0;31m---------------------------------------------------------------------------\u001B[0m",
      "\u001B[0;31mTypeError\u001B[0m                                 Traceback (most recent call last)",
      "Input \u001B[0;32mIn [22]\u001B[0m, in \u001B[0;36m<module>\u001B[0;34m\u001B[0m\n\u001B[0;32m----> 1\u001B[0m graph \u001B[38;5;241m=\u001B[39m \u001B[43mexplanation_graph\u001B[49m\u001B[43m(\u001B[49m\u001B[43mLiteral\u001B[49m\u001B[38;5;241;43m.\u001B[39;49m\u001B[43mliteral_from_string\u001B[49m\u001B[43m(\u001B[49m\u001B[38;5;124;43m'\u001B[39;49m\u001B[38;5;124;43mf\u001B[39;49m\u001B[38;5;124;43m'\u001B[39;49m\u001B[43m)\u001B[49m\u001B[43m,\u001B[49m\u001B[43m \u001B[49m\u001B[43mdeepcopy\u001B[49m\u001B[43m(\u001B[49m\u001B[43mderivable_dict\u001B[49m\u001B[43m)\u001B[49m\u001B[43m,\u001B[49m\u001B[43m \u001B[49m\u001B[43mdeepcopy\u001B[49m\u001B[43m(\u001B[49m\u001B[43mminimal_assumptions\u001B[49m\u001B[43m)\u001B[49m\u001B[43m,\u001B[49m\u001B[43m \u001B[49m\u001B[43mdeepcopy\u001B[49m\u001B[43m(\u001B[49m\u001B[43manswer_sets\u001B[49m\u001B[43m[\u001B[49m\u001B[38;5;241;43m0\u001B[39;49m\u001B[43m]\u001B[49m\u001B[43m)\u001B[49m\u001B[43m)\u001B[49m\n\u001B[1;32m      2\u001B[0m \u001B[38;5;28;01massert\u001B[39;00m graph \u001B[38;5;129;01mis\u001B[39;00m \u001B[38;5;129;01mnot\u001B[39;00m \u001B[38;5;28;01mNone\u001B[39;00m\n\u001B[1;32m      3\u001B[0m pos \u001B[38;5;241m=\u001B[39m nx\u001B[38;5;241m.\u001B[39mnx_pydot\u001B[38;5;241m.\u001B[39mpydot_layout(graph, \u001B[38;5;124m'\u001B[39m\u001B[38;5;124mdot\u001B[39m\u001B[38;5;124m'\u001B[39m, Literal\u001B[38;5;241m.\u001B[39mliteral_from_string(\u001B[38;5;124m'\u001B[39m\u001B[38;5;124mf\u001B[39m\u001B[38;5;124m'\u001B[39m))\n",
      "File \u001B[0;32m~/Dev/ASP/ASP-Ideas/util/explain.py:294\u001B[0m, in \u001B[0;36mexplanation_graph\u001B[0;34m(atom, derivable_dict, minimal_assumption, answer_set)\u001B[0m\n\u001B[1;32m    292\u001B[0m \u001B[38;5;28;01mdef\u001B[39;00m \u001B[38;5;21mexplanation_graph\u001B[39m(atom, derivable_dict, minimal_assumption, answer_set):\n\u001B[1;32m    293\u001B[0m     \u001B[38;5;28;01mfor\u001B[39;00m assumed_atom \u001B[38;5;129;01min\u001B[39;00m minimal_assumption:\n\u001B[0;32m--> 294\u001B[0m         derivable_dict[\u001B[38;5;241;43m-\u001B[39;49m\u001B[43massumed_atom\u001B[49m] \u001B[38;5;241m=\u001B[39m [{\u001B[38;5;124m\"\u001B[39m\u001B[38;5;124massume\u001B[39m\u001B[38;5;124m\"\u001B[39m}]\n\u001B[1;32m    295\u001B[0m     atom \u001B[38;5;241m=\u001B[39m atom \u001B[38;5;28;01mif\u001B[39;00m atom \u001B[38;5;129;01min\u001B[39;00m answer_set \u001B[38;5;28;01melse\u001B[39;00m \u001B[38;5;241m-\u001B[39matom\n\u001B[1;32m    296\u001B[0m     \u001B[38;5;28;01mfor\u001B[39;00m S \u001B[38;5;129;01min\u001B[39;00m derivable_dict[atom]:\n",
      "\u001B[0;31mTypeError\u001B[0m: bad operand type for unary -: 'frozenset'"
     ]
    }
   ],
   "source": [
    "graph = explanation_graph(Literal.literal_from_string('f'), deepcopy(derivable_dict), deepcopy(minimal_assumptions), deepcopy(answer_sets[0]))\n",
    "assert graph is not None\n",
    "pos = nx.nx_pydot.pydot_layout(graph, 'dot', Literal.literal_from_string('f'))\n",
    "nx.draw(graph, pos=pos, with_labels=True)"
   ],
   "metadata": {
    "collapsed": false,
    "pycharm": {
     "name": "#%%\n"
    }
   }
  }
 ],
 "metadata": {
  "kernelspec": {
   "display_name": "Python 3 (ipykernel)",
   "language": "python",
   "name": "python3"
  },
  "language_info": {
   "codemirror_mode": {
    "name": "ipython",
    "version": 3
   },
   "file_extension": ".py",
   "mimetype": "text/x-python",
   "name": "python",
   "nbconvert_exporter": "python",
   "pygments_lexer": "ipython3",
   "version": "3.10.2"
  }
 },
 "nbformat": 4,
 "nbformat_minor": 4
}