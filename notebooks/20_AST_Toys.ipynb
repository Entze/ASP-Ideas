{
 "cells": [
  {
   "cell_type": "code",
   "execution_count": 44,
   "metadata": {
    "collapsed": true
   },
   "outputs": [],
   "source": [
    "import clingo\n",
    "import clingo.ast"
   ]
  },
  {
   "cell_type": "code",
   "execution_count": 45,
   "outputs": [],
   "source": [
    "program = \"\"\"\n",
    "\n",
    "domA(0).\n",
    "domA(1).\n",
    "\n",
    "domB(1).\n",
    "domB(2).\n",
    "\n",
    "join(A,B) :- domA(A), domB(B).\n",
    "\n",
    "\"\"\""
   ],
   "metadata": {
    "collapsed": false,
    "pycharm": {
     "name": "#%%\n"
    }
   }
  },
  {
   "cell_type": "code",
   "execution_count": 46,
   "outputs": [
    {
     "name": "stdout",
     "output_type": "stream",
     "text": [
      "domA(0).\n",
      "domA(1).\n",
      "domB(1).\n",
      "domB(2).\n",
      "join(A,B) :- domA(A); domB(B).\n"
     ]
    }
   ],
   "source": [
    "pos = clingo.ast.Position('<string>', 1, 1)\n",
    "loc = clingo.ast.Location(pos, pos)\n",
    "\n",
    "domA0 = clingo.ast.Literal(loc, clingo.ast.Sign.NoSign, clingo.ast.SymbolicAtom(clingo.ast.SymbolicTerm(loc, clingo.Function('domA', [clingo.Number(0)]))))\n",
    "domA1 = clingo.ast.Literal(loc, clingo.ast.Sign.NoSign, clingo.ast.SymbolicAtom(clingo.ast.SymbolicTerm(loc, clingo.Function('domA', [clingo.Number(1)]))))\n",
    "domB1 = clingo.ast.Literal(loc, clingo.ast.Sign.NoSign, clingo.ast.SymbolicAtom(clingo.ast.SymbolicTerm(loc, clingo.Function('domB', [clingo.Number(1)]))))\n",
    "domB2 = clingo.ast.Literal(loc, clingo.ast.Sign.NoSign, clingo.ast.SymbolicAtom(clingo.ast.SymbolicTerm(loc, clingo.Function('domB', [clingo.Number(2)]))))\n",
    "\n",
    "domAA = clingo.ast.Literal(loc, clingo.ast.Sign.NoSign,clingo.ast.SymbolicAtom(clingo.ast.Function(loc, 'domA', [clingo.ast.Variable(loc, 'A')], False)))\n",
    "domBB = clingo.ast.Literal(loc, clingo.ast.Sign.NoSign,clingo.ast.SymbolicAtom(clingo.ast.Function(loc, 'domB', [clingo.ast.Variable(loc, 'B')], False)))\n",
    "\n",
    "joinAB = clingo.ast.Literal(loc, clingo.ast.Sign.NoSign, clingo.ast.SymbolicAtom(clingo.ast.Function(loc, 'join', [clingo.ast.Variable(loc, 'A'), clingo.ast.Variable(loc, 'B')], False)))\n",
    "\n",
    "nodes = [\n",
    "    clingo.ast.Rule(loc, head=domA0, body=()),\n",
    "    clingo.ast.Rule(loc, head=domA1, body=()),\n",
    "    clingo.ast.Rule(loc, head=domB1, body=()),\n",
    "    clingo.ast.Rule(loc, head=domB2, body=()),\n",
    "    clingo.ast.Rule(loc, head=joinAB, body=[domAA, domBB])\n",
    "]\n",
    "print('\\n'.join(map(str, nodes)))"
   ],
   "metadata": {
    "collapsed": false,
    "pycharm": {
     "name": "#%%\n"
    }
   }
  },
  {
   "cell_type": "code",
   "execution_count": 47,
   "outputs": [],
   "source": [
    "ctl = clingo.Control()\n",
    "ctl.configuration.solve.models = 0"
   ],
   "metadata": {
    "collapsed": false,
    "pycharm": {
     "name": "#%%\n"
    }
   }
  },
  {
   "cell_type": "code",
   "execution_count": 48,
   "outputs": [],
   "source": [
    "with clingo.ast.ProgramBuilder(ctl) as bld:\n",
    "    for node in nodes:\n",
    "        bld.add(node)"
   ],
   "metadata": {
    "collapsed": false,
    "pycharm": {
     "name": "#%%\n"
    }
   }
  },
  {
   "cell_type": "code",
   "execution_count": 49,
   "outputs": [
    {
     "name": "stdout",
     "output_type": "stream",
     "text": [
      "domB(1) domB(2) domA(0) domA(1) join(0,1) join(1,1) join(0,2) join(1,2)\n"
     ]
    },
    {
     "data": {
      "text/plain": "SolveResult(5)"
     },
     "execution_count": 49,
     "metadata": {},
     "output_type": "execute_result"
    }
   ],
   "source": [
    "ctl.ground([('base', [])])\n",
    "ctl.solve(on_model=print)"
   ],
   "metadata": {
    "collapsed": false,
    "pycharm": {
     "name": "#%%\n"
    }
   }
  },
  {
   "cell_type": "code",
   "execution_count": 50,
   "outputs": [],
   "source": [
    "def report(node):\n",
    "    print(node)\n",
    "    if not isinstance(node, clingo.ast.AST):\n",
    "        print(\"Type:\", type(node).__name__)\n",
    "        return\n",
    "\n",
    "    print(\"Type:\", node.ast_type)\n",
    "    print(\"Keys:\", node.keys())\n",
    "\n",
    "    if 'head' in node.keys():\n",
    "        print(\"Head:\", end=' ')\n",
    "        report(node.head)\n",
    "    if 'body' in node.keys():\n",
    "        print(\"Body:\", end=' ')\n",
    "        report(node.body)\n",
    "    if 'atom' in node.keys():\n",
    "        print(\"Atom: \", end='')\n",
    "        report(node.atom)\n",
    "    if 'symbol' in node.keys():\n",
    "        print(\"Symbol: \", end='')\n",
    "        report(node.symbol)\n",
    "    if 'sign' in node.keys():\n",
    "        print(\"Sign:\", node.sign, type(node.sign).__name__)\n",
    "    if 'external' in node.keys():\n",
    "        print(\"External:\", node.external, type(node.external).__name__)\n",
    "    if 'name' in node.keys():\n",
    "        print(\"Name:\", node.name, type(node.name).__name__)\n",
    "    if 'arguments' in node.keys():\n",
    "        print(\"Arguments:\")\n",
    "        for argument in node.arguments:\n",
    "            report(argument)\n"
   ],
   "metadata": {
    "collapsed": false,
    "pycharm": {
     "name": "#%%\n"
    }
   }
  },
  {
   "cell_type": "code",
   "execution_count": 51,
   "outputs": [
    {
     "name": "stdout",
     "output_type": "stream",
     "text": [
      "#program base.\n",
      "Type: ASTType.Program\n",
      "Keys: ['location', 'name', 'parameters']\n",
      "Name: base str\n",
      "join(A,B) :- dom(A); dom(B).\n",
      "Type: ASTType.Rule\n",
      "Keys: ['location', 'head', 'body']\n",
      "Head: join(A,B)\n",
      "Type: ASTType.Literal\n",
      "Keys: ['location', 'sign', 'atom']\n",
      "Atom: join(A,B)\n",
      "Type: ASTType.SymbolicAtom\n",
      "Keys: ['symbol']\n",
      "Symbol: join(A,B)\n",
      "Type: ASTType.Function\n",
      "Keys: ['location', 'name', 'arguments', 'external']\n",
      "External: 0 int\n",
      "Name: join str\n",
      "Arguments:\n",
      "A\n",
      "Type: ASTType.Variable\n",
      "Keys: ['location', 'name']\n",
      "Name: A str\n",
      "B\n",
      "Type: ASTType.Variable\n",
      "Keys: ['location', 'name']\n",
      "Name: B str\n",
      "Sign: 0 int\n",
      "Body: [ast.Literal(Location(begin=Position(filename='<string>', line=1, column=14), end=Position(filename='<string>', line=1, column=20)), 0, ast.SymbolicAtom(ast.Function(Location(begin=Position(filename='<string>', line=1, column=14), end=Position(filename='<string>', line=1, column=20)), 'dom', [ast.Variable(Location(begin=Position(filename='<string>', line=1, column=18), end=Position(filename='<string>', line=1, column=19)), 'A')], 0))), ast.Literal(Location(begin=Position(filename='<string>', line=1, column=22), end=Position(filename='<string>', line=1, column=28)), 0, ast.SymbolicAtom(ast.Function(Location(begin=Position(filename='<string>', line=1, column=22), end=Position(filename='<string>', line=1, column=28)), 'dom', [ast.Variable(Location(begin=Position(filename='<string>', line=1, column=26), end=Position(filename='<string>', line=1, column=27)), 'B')], 0)))]\n",
      "Type: ASTSequence\n"
     ]
    }
   ],
   "source": [
    "clingo.ast.parse_string(\"join(A,B) :- dom(A), dom(B).\", report)"
   ],
   "metadata": {
    "collapsed": false,
    "pycharm": {
     "name": "#%%\n"
    }
   }
  },
  {
   "cell_type": "code",
   "execution_count": 52,
   "outputs": [
    {
     "name": "stdout",
     "output_type": "stream",
     "text": [
      "#program base.\n",
      "Type: ASTType.Program\n",
      "Keys: ['location', 'name', 'parameters']\n",
      "Name: base str\n",
      "{ join(A,B); union(A,B) } :- dom(A); dom(B).\n",
      "Type: ASTType.Rule\n",
      "Keys: ['location', 'head', 'body']\n",
      "Head: { join(A,B); union(A,B) }\n",
      "Type: ASTType.Aggregate\n",
      "Keys: ['location', 'left_guard', 'elements', 'right_guard']\n",
      "Body: [ast.Literal(Location(begin=Position(filename='<string>', line=1, column=30), end=Position(filename='<string>', line=1, column=36)), 0, ast.SymbolicAtom(ast.Function(Location(begin=Position(filename='<string>', line=1, column=30), end=Position(filename='<string>', line=1, column=36)), 'dom', [ast.Variable(Location(begin=Position(filename='<string>', line=1, column=34), end=Position(filename='<string>', line=1, column=35)), 'A')], 0))), ast.Literal(Location(begin=Position(filename='<string>', line=1, column=38), end=Position(filename='<string>', line=1, column=44)), 0, ast.SymbolicAtom(ast.Function(Location(begin=Position(filename='<string>', line=1, column=38), end=Position(filename='<string>', line=1, column=44)), 'dom', [ast.Variable(Location(begin=Position(filename='<string>', line=1, column=42), end=Position(filename='<string>', line=1, column=43)), 'B')], 0)))]\n",
      "Type: ASTSequence\n"
     ]
    }
   ],
   "source": [
    "clingo.ast.parse_string(\"{ join(A,B) ; union(A,B)} :- dom(A), dom(B).\", report)"
   ],
   "metadata": {
    "collapsed": false,
    "pycharm": {
     "name": "#%%\n"
    }
   }
  },
  {
   "cell_type": "code",
   "execution_count": 53,
   "outputs": [
    {
     "name": "stdout",
     "output_type": "stream",
     "text": [
      "#program base.\n",
      "Type: ASTType.Program\n",
      "Keys: ['location', 'name', 'parameters']\n",
      "Name: base str\n",
      "join(A,B); union(A,B) :- dom(A); dom(B).\n",
      "Type: ASTType.Rule\n",
      "Keys: ['location', 'head', 'body']\n",
      "Head: join(A,B); union(A,B)\n",
      "Type: ASTType.Disjunction\n",
      "Keys: ['location', 'elements']\n",
      "Body: [ast.Literal(Location(begin=Position(filename='<string>', line=1, column=28), end=Position(filename='<string>', line=1, column=34)), 0, ast.SymbolicAtom(ast.Function(Location(begin=Position(filename='<string>', line=1, column=28), end=Position(filename='<string>', line=1, column=34)), 'dom', [ast.Variable(Location(begin=Position(filename='<string>', line=1, column=32), end=Position(filename='<string>', line=1, column=33)), 'A')], 0))), ast.Literal(Location(begin=Position(filename='<string>', line=1, column=36), end=Position(filename='<string>', line=1, column=42)), 0, ast.SymbolicAtom(ast.Function(Location(begin=Position(filename='<string>', line=1, column=36), end=Position(filename='<string>', line=1, column=42)), 'dom', [ast.Variable(Location(begin=Position(filename='<string>', line=1, column=40), end=Position(filename='<string>', line=1, column=41)), 'B')], 0)))]\n",
      "Type: ASTSequence\n"
     ]
    }
   ],
   "source": [
    "clingo.ast.parse_string(\" join(A,B) | union(A,B) :- dom(A), dom(B).\", report)"
   ],
   "metadata": {
    "collapsed": false,
    "pycharm": {
     "name": "#%%\n"
    }
   }
  },
  {
   "cell_type": "code",
   "execution_count": 54,
   "outputs": [
    {
     "name": "stdout",
     "output_type": "stream",
     "text": [
      "#program base.\n",
      "Type: ASTType.Program\n",
      "Keys: ['location', 'name', 'parameters']\n",
      "Name: base str\n",
      "union(A,B) :- dom(A); dom(B); A = B.\n",
      "Type: ASTType.Rule\n",
      "Keys: ['location', 'head', 'body']\n",
      "Head: union(A,B)\n",
      "Type: ASTType.Literal\n",
      "Keys: ['location', 'sign', 'atom']\n",
      "Atom: union(A,B)\n",
      "Type: ASTType.SymbolicAtom\n",
      "Keys: ['symbol']\n",
      "Symbol: union(A,B)\n",
      "Type: ASTType.Function\n",
      "Keys: ['location', 'name', 'arguments', 'external']\n",
      "External: 0 int\n",
      "Name: union str\n",
      "Arguments:\n",
      "A\n",
      "Type: ASTType.Variable\n",
      "Keys: ['location', 'name']\n",
      "Name: A str\n",
      "B\n",
      "Type: ASTType.Variable\n",
      "Keys: ['location', 'name']\n",
      "Name: B str\n",
      "Sign: 0 int\n",
      "Body: [ast.Literal(Location(begin=Position(filename='<string>', line=1, column=15), end=Position(filename='<string>', line=1, column=21)), 0, ast.SymbolicAtom(ast.Function(Location(begin=Position(filename='<string>', line=1, column=15), end=Position(filename='<string>', line=1, column=21)), 'dom', [ast.Variable(Location(begin=Position(filename='<string>', line=1, column=19), end=Position(filename='<string>', line=1, column=20)), 'A')], 0))), ast.Literal(Location(begin=Position(filename='<string>', line=1, column=23), end=Position(filename='<string>', line=1, column=29)), 0, ast.SymbolicAtom(ast.Function(Location(begin=Position(filename='<string>', line=1, column=23), end=Position(filename='<string>', line=1, column=29)), 'dom', [ast.Variable(Location(begin=Position(filename='<string>', line=1, column=27), end=Position(filename='<string>', line=1, column=28)), 'B')], 0))), ast.Literal(Location(begin=Position(filename='<string>', line=1, column=31), end=Position(filename='<string>', line=1, column=34)), 0, ast.Comparison(5, ast.Variable(Location(begin=Position(filename='<string>', line=1, column=31), end=Position(filename='<string>', line=1, column=32)), 'A'), ast.Variable(Location(begin=Position(filename='<string>', line=1, column=33), end=Position(filename='<string>', line=1, column=34)), 'B')))]\n",
      "Type: ASTSequence\n"
     ]
    }
   ],
   "source": [
    "clingo.ast.parse_string(\"union(A,B) :- dom(A), dom(B), A=B.\", report)"
   ],
   "metadata": {
    "collapsed": false,
    "pycharm": {
     "name": "#%%\n"
    }
   }
  },
  {
   "cell_type": "code",
   "execution_count": 55,
   "outputs": [
    {
     "name": "stdout",
     "output_type": "stream",
     "text": [
      "#program base.\n",
      "Type: ASTType.Program\n",
      "Keys: ['location', 'name', 'parameters']\n",
      "Name: base str\n",
      "#false :- dom(A); dom(B); A = B.\n",
      "Type: ASTType.Rule\n",
      "Keys: ['location', 'head', 'body']\n",
      "Head: #false\n",
      "Type: ASTType.Literal\n",
      "Keys: ['location', 'sign', 'atom']\n",
      "Atom: #false\n",
      "Type: ASTType.BooleanConstant\n",
      "Keys: ['value']\n",
      "Sign: 0 int\n",
      "Body: [ast.Literal(Location(begin=Position(filename='<string>', line=1, column=4), end=Position(filename='<string>', line=1, column=10)), 0, ast.SymbolicAtom(ast.Function(Location(begin=Position(filename='<string>', line=1, column=4), end=Position(filename='<string>', line=1, column=10)), 'dom', [ast.Variable(Location(begin=Position(filename='<string>', line=1, column=8), end=Position(filename='<string>', line=1, column=9)), 'A')], 0))), ast.Literal(Location(begin=Position(filename='<string>', line=1, column=12), end=Position(filename='<string>', line=1, column=18)), 0, ast.SymbolicAtom(ast.Function(Location(begin=Position(filename='<string>', line=1, column=12), end=Position(filename='<string>', line=1, column=18)), 'dom', [ast.Variable(Location(begin=Position(filename='<string>', line=1, column=16), end=Position(filename='<string>', line=1, column=17)), 'B')], 0))), ast.Literal(Location(begin=Position(filename='<string>', line=1, column=20), end=Position(filename='<string>', line=1, column=23)), 0, ast.Comparison(5, ast.Variable(Location(begin=Position(filename='<string>', line=1, column=20), end=Position(filename='<string>', line=1, column=21)), 'A'), ast.Variable(Location(begin=Position(filename='<string>', line=1, column=22), end=Position(filename='<string>', line=1, column=23)), 'B')))]\n",
      "Type: ASTSequence\n"
     ]
    }
   ],
   "source": [
    "clingo.ast.parse_string(\":- dom(A), dom(B), A=B.\", report)"
   ],
   "metadata": {
    "collapsed": false,
    "pycharm": {
     "name": "#%%\n"
    }
   }
  },
  {
   "cell_type": "code",
   "execution_count": 56,
   "outputs": [
    {
     "name": "stdout",
     "output_type": "stream",
     "text": [
      "#program base.\n",
      "Type: ASTType.Program\n",
      "Keys: ['location', 'name', 'parameters']\n",
      "Name: base str\n",
      "diff(A,A) :- domA(A); not domB(A).\n",
      "Type: ASTType.Rule\n",
      "Keys: ['location', 'head', 'body']\n",
      "Head: diff(A,A)\n",
      "Type: ASTType.Literal\n",
      "Keys: ['location', 'sign', 'atom']\n",
      "Atom: diff(A,A)\n",
      "Type: ASTType.SymbolicAtom\n",
      "Keys: ['symbol']\n",
      "Symbol: diff(A,A)\n",
      "Type: ASTType.Function\n",
      "Keys: ['location', 'name', 'arguments', 'external']\n",
      "External: 0 int\n",
      "Name: diff str\n",
      "Arguments:\n",
      "A\n",
      "Type: ASTType.Variable\n",
      "Keys: ['location', 'name']\n",
      "Name: A str\n",
      "A\n",
      "Type: ASTType.Variable\n",
      "Keys: ['location', 'name']\n",
      "Name: A str\n",
      "Sign: 0 int\n",
      "Body: [ast.Literal(Location(begin=Position(filename='<string>', line=1, column=14), end=Position(filename='<string>', line=1, column=21)), 0, ast.SymbolicAtom(ast.Function(Location(begin=Position(filename='<string>', line=1, column=14), end=Position(filename='<string>', line=1, column=21)), 'domA', [ast.Variable(Location(begin=Position(filename='<string>', line=1, column=19), end=Position(filename='<string>', line=1, column=20)), 'A')], 0))), ast.Literal(Location(begin=Position(filename='<string>', line=1, column=23), end=Position(filename='<string>', line=1, column=34)), 1, ast.SymbolicAtom(ast.Function(Location(begin=Position(filename='<string>', line=1, column=27), end=Position(filename='<string>', line=1, column=34)), 'domB', [ast.Variable(Location(begin=Position(filename='<string>', line=1, column=32), end=Position(filename='<string>', line=1, column=33)), 'A')], 0)))]\n",
      "Type: ASTSequence\n"
     ]
    }
   ],
   "source": [
    "clingo.ast.parse_string(\"diff(A,A) :- domA(A), not domB(A).\", report)"
   ],
   "metadata": {
    "collapsed": false,
    "pycharm": {
     "name": "#%%\n"
    }
   }
  },
  {
   "cell_type": "code",
   "execution_count": 57,
   "outputs": [
    {
     "name": "stdout",
     "output_type": "stream",
     "text": [
      "#program base.\n",
      "Type: ASTType.Program\n",
      "Keys: ['location', 'name', 'parameters']\n",
      "Name: base str\n",
      "diff(A,A) :- domA(A); -domB(A).\n",
      "Type: ASTType.Rule\n",
      "Keys: ['location', 'head', 'body']\n",
      "Head: diff(A,A)\n",
      "Type: ASTType.Literal\n",
      "Keys: ['location', 'sign', 'atom']\n",
      "Atom: diff(A,A)\n",
      "Type: ASTType.SymbolicAtom\n",
      "Keys: ['symbol']\n",
      "Symbol: diff(A,A)\n",
      "Type: ASTType.Function\n",
      "Keys: ['location', 'name', 'arguments', 'external']\n",
      "External: 0 int\n",
      "Name: diff str\n",
      "Arguments:\n",
      "A\n",
      "Type: ASTType.Variable\n",
      "Keys: ['location', 'name']\n",
      "Name: A str\n",
      "A\n",
      "Type: ASTType.Variable\n",
      "Keys: ['location', 'name']\n",
      "Name: A str\n",
      "Sign: 0 int\n",
      "Body: [ast.Literal(Location(begin=Position(filename='<string>', line=1, column=14), end=Position(filename='<string>', line=1, column=21)), 0, ast.SymbolicAtom(ast.Function(Location(begin=Position(filename='<string>', line=1, column=14), end=Position(filename='<string>', line=1, column=21)), 'domA', [ast.Variable(Location(begin=Position(filename='<string>', line=1, column=19), end=Position(filename='<string>', line=1, column=20)), 'A')], 0))), ast.Literal(Location(begin=Position(filename='<string>', line=1, column=23), end=Position(filename='<string>', line=1, column=31)), 0, ast.SymbolicAtom(ast.UnaryOperation(Location(begin=Position(filename='<string>', line=1, column=23), end=Position(filename='<string>', line=1, column=31)), 0, ast.Function(Location(begin=Position(filename='<string>', line=1, column=23), end=Position(filename='<string>', line=1, column=31)), 'domB', [ast.Variable(Location(begin=Position(filename='<string>', line=1, column=29), end=Position(filename='<string>', line=1, column=30)), 'A')], 0))))]\n",
      "Type: ASTSequence\n"
     ]
    }
   ],
   "source": [
    "clingo.ast.parse_string(\"diff(A,A) :- domA(A), -domB(A).\", report)"
   ],
   "metadata": {
    "collapsed": false,
    "pycharm": {
     "name": "#%%\n"
    }
   }
  },
  {
   "cell_type": "code",
   "execution_count": 58,
   "outputs": [
    {
     "name": "stdout",
     "output_type": "stream",
     "text": [
      "#program base.\n",
      "Type: ASTType.Program\n",
      "Keys: ['location', 'name', 'parameters']\n",
      "Name: base str\n",
      "diff(A,A) :- domA(A); not not domB(A).\n",
      "Type: ASTType.Rule\n",
      "Keys: ['location', 'head', 'body']\n",
      "Head: diff(A,A)\n",
      "Type: ASTType.Literal\n",
      "Keys: ['location', 'sign', 'atom']\n",
      "Atom: diff(A,A)\n",
      "Type: ASTType.SymbolicAtom\n",
      "Keys: ['symbol']\n",
      "Symbol: diff(A,A)\n",
      "Type: ASTType.Function\n",
      "Keys: ['location', 'name', 'arguments', 'external']\n",
      "External: 0 int\n",
      "Name: diff str\n",
      "Arguments:\n",
      "A\n",
      "Type: ASTType.Variable\n",
      "Keys: ['location', 'name']\n",
      "Name: A str\n",
      "A\n",
      "Type: ASTType.Variable\n",
      "Keys: ['location', 'name']\n",
      "Name: A str\n",
      "Sign: 0 int\n",
      "Body: [ast.Literal(Location(begin=Position(filename='<string>', line=1, column=14), end=Position(filename='<string>', line=1, column=21)), 0, ast.SymbolicAtom(ast.Function(Location(begin=Position(filename='<string>', line=1, column=14), end=Position(filename='<string>', line=1, column=21)), 'domA', [ast.Variable(Location(begin=Position(filename='<string>', line=1, column=19), end=Position(filename='<string>', line=1, column=20)), 'A')], 0))), ast.Literal(Location(begin=Position(filename='<string>', line=1, column=23), end=Position(filename='<string>', line=1, column=38)), 2, ast.SymbolicAtom(ast.Function(Location(begin=Position(filename='<string>', line=1, column=31), end=Position(filename='<string>', line=1, column=38)), 'domB', [ast.Variable(Location(begin=Position(filename='<string>', line=1, column=36), end=Position(filename='<string>', line=1, column=37)), 'A')], 0)))]\n",
      "Type: ASTSequence\n"
     ]
    }
   ],
   "source": [
    "clingo.ast.parse_string(\"diff(A,A) :- domA(A), not not domB(A).\", report)"
   ],
   "metadata": {
    "collapsed": false,
    "pycharm": {
     "name": "#%%\n"
    }
   }
  },
  {
   "cell_type": "code",
   "execution_count": 59,
   "outputs": [
    {
     "name": "stdout",
     "output_type": "stream",
     "text": [
      "#program base.\n",
      "Type: ASTType.Program\n",
      "Keys: ['location', 'name', 'parameters']\n",
      "Name: base str\n",
      "diff(A,A) :- domA(A); not not -domB(A).\n",
      "Type: ASTType.Rule\n",
      "Keys: ['location', 'head', 'body']\n",
      "Head: diff(A,A)\n",
      "Type: ASTType.Literal\n",
      "Keys: ['location', 'sign', 'atom']\n",
      "Atom: diff(A,A)\n",
      "Type: ASTType.SymbolicAtom\n",
      "Keys: ['symbol']\n",
      "Symbol: diff(A,A)\n",
      "Type: ASTType.Function\n",
      "Keys: ['location', 'name', 'arguments', 'external']\n",
      "External: 0 int\n",
      "Name: diff str\n",
      "Arguments:\n",
      "A\n",
      "Type: ASTType.Variable\n",
      "Keys: ['location', 'name']\n",
      "Name: A str\n",
      "A\n",
      "Type: ASTType.Variable\n",
      "Keys: ['location', 'name']\n",
      "Name: A str\n",
      "Sign: 0 int\n",
      "Body: [ast.Literal(Location(begin=Position(filename='<string>', line=1, column=14), end=Position(filename='<string>', line=1, column=21)), 0, ast.SymbolicAtom(ast.Function(Location(begin=Position(filename='<string>', line=1, column=14), end=Position(filename='<string>', line=1, column=21)), 'domA', [ast.Variable(Location(begin=Position(filename='<string>', line=1, column=19), end=Position(filename='<string>', line=1, column=20)), 'A')], 0))), ast.Literal(Location(begin=Position(filename='<string>', line=1, column=23), end=Position(filename='<string>', line=1, column=39)), 2, ast.SymbolicAtom(ast.UnaryOperation(Location(begin=Position(filename='<string>', line=1, column=31), end=Position(filename='<string>', line=1, column=39)), 0, ast.Function(Location(begin=Position(filename='<string>', line=1, column=31), end=Position(filename='<string>', line=1, column=39)), 'domB', [ast.Variable(Location(begin=Position(filename='<string>', line=1, column=37), end=Position(filename='<string>', line=1, column=38)), 'A')], 0))))]\n",
      "Type: ASTSequence\n"
     ]
    }
   ],
   "source": [
    "clingo.ast.parse_string(\"diff(A,A) :- domA(A), not not -domB(A).\", report)"
   ],
   "metadata": {
    "collapsed": false,
    "pycharm": {
     "name": "#%%\n"
    }
   }
  },
  {
   "cell_type": "code",
   "execution_count": 60,
   "outputs": [
    {
     "name": "stdout",
     "output_type": "stream",
     "text": [
      "#program base.\n",
      "Type: ASTType.Program\n",
      "Keys: ['location', 'name', 'parameters']\n",
      "Name: base str\n",
      "diff(A,A) :- domA(A); dom(0).\n",
      "Type: ASTType.Rule\n",
      "Keys: ['location', 'head', 'body']\n",
      "Head: diff(A,A)\n",
      "Type: ASTType.Literal\n",
      "Keys: ['location', 'sign', 'atom']\n",
      "Atom: diff(A,A)\n",
      "Type: ASTType.SymbolicAtom\n",
      "Keys: ['symbol']\n",
      "Symbol: diff(A,A)\n",
      "Type: ASTType.Function\n",
      "Keys: ['location', 'name', 'arguments', 'external']\n",
      "External: 0 int\n",
      "Name: diff str\n",
      "Arguments:\n",
      "A\n",
      "Type: ASTType.Variable\n",
      "Keys: ['location', 'name']\n",
      "Name: A str\n",
      "A\n",
      "Type: ASTType.Variable\n",
      "Keys: ['location', 'name']\n",
      "Name: A str\n",
      "Sign: 0 int\n",
      "Body: [ast.Literal(Location(begin=Position(filename='<string>', line=1, column=14), end=Position(filename='<string>', line=1, column=21)), 0, ast.SymbolicAtom(ast.Function(Location(begin=Position(filename='<string>', line=1, column=14), end=Position(filename='<string>', line=1, column=21)), 'domA', [ast.Variable(Location(begin=Position(filename='<string>', line=1, column=19), end=Position(filename='<string>', line=1, column=20)), 'A')], 0))), ast.Literal(Location(begin=Position(filename='<string>', line=1, column=23), end=Position(filename='<string>', line=1, column=29)), 0, ast.SymbolicAtom(ast.Function(Location(begin=Position(filename='<string>', line=1, column=23), end=Position(filename='<string>', line=1, column=29)), 'dom', [ast.SymbolicTerm(Location(begin=Position(filename='<string>', line=1, column=27), end=Position(filename='<string>', line=1, column=28)), Number(0))], 0)))]\n",
      "Type: ASTSequence\n"
     ]
    }
   ],
   "source": [
    "clingo.ast.parse_string(\"diff(A,A) :- domA(A), dom(0).\", report)"
   ],
   "metadata": {
    "collapsed": false,
    "pycharm": {
     "name": "#%%\n"
    }
   }
  },
  {
   "cell_type": "code",
   "execution_count": 61,
   "outputs": [
    {
     "name": "stdout",
     "output_type": "stream",
     "text": [
      "#program base.\n",
      "Type: ASTType.Program\n",
      "Keys: ['location', 'name', 'parameters']\n",
      "Name: base str\n",
      "diff(A,A) :- domA(A); dom(a).\n",
      "Type: ASTType.Rule\n",
      "Keys: ['location', 'head', 'body']\n",
      "Head: diff(A,A)\n",
      "Type: ASTType.Literal\n",
      "Keys: ['location', 'sign', 'atom']\n",
      "Atom: diff(A,A)\n",
      "Type: ASTType.SymbolicAtom\n",
      "Keys: ['symbol']\n",
      "Symbol: diff(A,A)\n",
      "Type: ASTType.Function\n",
      "Keys: ['location', 'name', 'arguments', 'external']\n",
      "External: 0 int\n",
      "Name: diff str\n",
      "Arguments:\n",
      "A\n",
      "Type: ASTType.Variable\n",
      "Keys: ['location', 'name']\n",
      "Name: A str\n",
      "A\n",
      "Type: ASTType.Variable\n",
      "Keys: ['location', 'name']\n",
      "Name: A str\n",
      "Sign: 0 int\n",
      "Body: [ast.Literal(Location(begin=Position(filename='<string>', line=1, column=14), end=Position(filename='<string>', line=1, column=21)), 0, ast.SymbolicAtom(ast.Function(Location(begin=Position(filename='<string>', line=1, column=14), end=Position(filename='<string>', line=1, column=21)), 'domA', [ast.Variable(Location(begin=Position(filename='<string>', line=1, column=19), end=Position(filename='<string>', line=1, column=20)), 'A')], 0))), ast.Literal(Location(begin=Position(filename='<string>', line=1, column=23), end=Position(filename='<string>', line=1, column=29)), 0, ast.SymbolicAtom(ast.Function(Location(begin=Position(filename='<string>', line=1, column=23), end=Position(filename='<string>', line=1, column=29)), 'dom', [ast.SymbolicTerm(Location(begin=Position(filename='<string>', line=1, column=27), end=Position(filename='<string>', line=1, column=28)), Function('a', [], True))], 0)))]\n",
      "Type: ASTSequence\n"
     ]
    }
   ],
   "source": [
    "clingo.ast.parse_string(\"diff(A,A) :- domA(A), dom(a).\", report)"
   ],
   "metadata": {
    "collapsed": false,
    "pycharm": {
     "name": "#%%\n"
    }
   }
  },
  {
   "cell_type": "code",
   "execution_count": 62,
   "outputs": [
    {
     "name": "stdout",
     "output_type": "stream",
     "text": [
      "#program base.\n",
      "Type: ASTType.Program\n",
      "Keys: ['location', 'name', 'parameters']\n",
      "Name: base str\n",
      "diff(A,A) :- domA(A); dom(-a).\n",
      "Type: ASTType.Rule\n",
      "Keys: ['location', 'head', 'body']\n",
      "Head: diff(A,A)\n",
      "Type: ASTType.Literal\n",
      "Keys: ['location', 'sign', 'atom']\n",
      "Atom: diff(A,A)\n",
      "Type: ASTType.SymbolicAtom\n",
      "Keys: ['symbol']\n",
      "Symbol: diff(A,A)\n",
      "Type: ASTType.Function\n",
      "Keys: ['location', 'name', 'arguments', 'external']\n",
      "External: 0 int\n",
      "Name: diff str\n",
      "Arguments:\n",
      "A\n",
      "Type: ASTType.Variable\n",
      "Keys: ['location', 'name']\n",
      "Name: A str\n",
      "A\n",
      "Type: ASTType.Variable\n",
      "Keys: ['location', 'name']\n",
      "Name: A str\n",
      "Sign: 0 int\n",
      "Body: [ast.Literal(Location(begin=Position(filename='<string>', line=1, column=14), end=Position(filename='<string>', line=1, column=21)), 0, ast.SymbolicAtom(ast.Function(Location(begin=Position(filename='<string>', line=1, column=14), end=Position(filename='<string>', line=1, column=21)), 'domA', [ast.Variable(Location(begin=Position(filename='<string>', line=1, column=19), end=Position(filename='<string>', line=1, column=20)), 'A')], 0))), ast.Literal(Location(begin=Position(filename='<string>', line=1, column=23), end=Position(filename='<string>', line=1, column=30)), 0, ast.SymbolicAtom(ast.Function(Location(begin=Position(filename='<string>', line=1, column=23), end=Position(filename='<string>', line=1, column=30)), 'dom', [ast.UnaryOperation(Location(begin=Position(filename='<string>', line=1, column=27), end=Position(filename='<string>', line=1, column=29)), 0, ast.SymbolicTerm(Location(begin=Position(filename='<string>', line=1, column=28), end=Position(filename='<string>', line=1, column=29)), Function('a', [], True)))], 0)))]\n",
      "Type: ASTSequence\n"
     ]
    }
   ],
   "source": [
    "clingo.ast.parse_string(\"diff(A,A) :- domA(A), dom(-a).\", report)"
   ],
   "metadata": {
    "collapsed": false,
    "pycharm": {
     "name": "#%%\n"
    }
   }
  },
  {
   "cell_type": "code",
   "execution_count": 63,
   "outputs": [
    {
     "name": "stdout",
     "output_type": "stream",
     "text": [
      "#program base.\n",
      "Type: ASTType.Program\n",
      "Keys: ['location', 'name', 'parameters']\n",
      "Name: base str\n",
      "diff(0,1).\n",
      "Type: ASTType.Rule\n",
      "Keys: ['location', 'head', 'body']\n",
      "Head: diff(0,1)\n",
      "Type: ASTType.Literal\n",
      "Keys: ['location', 'sign', 'atom']\n",
      "Atom: diff(0,1)\n",
      "Type: ASTType.SymbolicAtom\n",
      "Keys: ['symbol']\n",
      "Symbol: diff(0,1)\n",
      "Type: ASTType.Function\n",
      "Keys: ['location', 'name', 'arguments', 'external']\n",
      "External: 0 int\n",
      "Name: diff str\n",
      "Arguments:\n",
      "0\n",
      "Type: ASTType.SymbolicTerm\n",
      "Keys: ['location', 'symbol']\n",
      "Symbol: 0\n",
      "Type: Symbol\n",
      "1\n",
      "Type: ASTType.SymbolicTerm\n",
      "Keys: ['location', 'symbol']\n",
      "Symbol: 1\n",
      "Type: Symbol\n",
      "Sign: 0 int\n",
      "Body: []\n",
      "Type: ASTSequence\n"
     ]
    }
   ],
   "source": [
    "clingo.ast.parse_string(\"diff(0,1).\", report)"
   ],
   "metadata": {
    "collapsed": false,
    "pycharm": {
     "name": "#%%\n"
    }
   }
  },
  {
   "cell_type": "code",
   "execution_count": 64,
   "outputs": [
    {
     "name": "stdout",
     "output_type": "stream",
     "text": [
      "#program base.\n",
      "Type: ASTType.Program\n",
      "Keys: ['location', 'name', 'parameters']\n",
      "Name: base str\n",
      "dom(A) :- dom(A).\n",
      "Type: ASTType.Rule\n",
      "Keys: ['location', 'head', 'body']\n",
      "Head: dom(A)\n",
      "Type: ASTType.Literal\n",
      "Keys: ['location', 'sign', 'atom']\n",
      "Atom: dom(A)\n",
      "Type: ASTType.SymbolicAtom\n",
      "Keys: ['symbol']\n",
      "Symbol: dom(A)\n",
      "Type: ASTType.Function\n",
      "Keys: ['location', 'name', 'arguments', 'external']\n",
      "External: 0 int\n",
      "Name: dom str\n",
      "Arguments:\n",
      "A\n",
      "Type: ASTType.Variable\n",
      "Keys: ['location', 'name']\n",
      "Name: A str\n",
      "Sign: 0 int\n",
      "Body: [ast.Literal(Location(begin=Position(filename='<string>', line=1, column=11), end=Position(filename='<string>', line=1, column=17)), 0, ast.SymbolicAtom(ast.Function(Location(begin=Position(filename='<string>', line=1, column=11), end=Position(filename='<string>', line=1, column=17)), 'dom', [ast.Variable(Location(begin=Position(filename='<string>', line=1, column=15), end=Position(filename='<string>', line=1, column=16)), 'A')], 0)))]\n",
      "Type: ASTSequence\n"
     ]
    }
   ],
   "source": [
    "clingo.ast.parse_string(\"dom(A) :- dom(A).\", report)"
   ],
   "metadata": {
    "collapsed": false,
    "pycharm": {
     "name": "#%%\n"
    }
   }
  },
  {
   "cell_type": "code",
   "execution_count": 65,
   "outputs": [
    {
     "name": "stdout",
     "output_type": "stream",
     "text": [
      "#program base.\n",
      "Type: ASTType.Program\n",
      "Keys: ['location', 'name', 'parameters']\n",
      "Name: base str\n",
      "rule(head(literal(sign(0),atom(symbol(function(name(\"domA\"),arguments(term(symbol(0))),external(0)))))),body(elements)).\n",
      "Type: ASTType.Rule\n",
      "Keys: ['location', 'head', 'body']\n",
      "Head: rule(head(literal(sign(0),atom(symbol(function(name(\"domA\"),arguments(term(symbol(0))),external(0)))))),body(elements))\n",
      "Type: ASTType.Literal\n",
      "Keys: ['location', 'sign', 'atom']\n",
      "Atom: rule(head(literal(sign(0),atom(symbol(function(name(\"domA\"),arguments(term(symbol(0))),external(0)))))),body(elements))\n",
      "Type: ASTType.SymbolicAtom\n",
      "Keys: ['symbol']\n",
      "Symbol: rule(head(literal(sign(0),atom(symbol(function(name(\"domA\"),arguments(term(symbol(0))),external(0)))))),body(elements))\n",
      "Type: ASTType.Function\n",
      "Keys: ['location', 'name', 'arguments', 'external']\n",
      "External: 0 int\n",
      "Name: rule str\n",
      "Arguments:\n",
      "head(literal(sign(0),atom(symbol(function(name(\"domA\"),arguments(term(symbol(0))),external(0))))))\n",
      "Type: ASTType.Function\n",
      "Keys: ['location', 'name', 'arguments', 'external']\n",
      "External: 0 int\n",
      "Name: head str\n",
      "Arguments:\n",
      "literal(sign(0),atom(symbol(function(name(\"domA\"),arguments(term(symbol(0))),external(0)))))\n",
      "Type: ASTType.Function\n",
      "Keys: ['location', 'name', 'arguments', 'external']\n",
      "External: 0 int\n",
      "Name: literal str\n",
      "Arguments:\n",
      "sign(0)\n",
      "Type: ASTType.Function\n",
      "Keys: ['location', 'name', 'arguments', 'external']\n",
      "External: 0 int\n",
      "Name: sign str\n",
      "Arguments:\n",
      "0\n",
      "Type: ASTType.SymbolicTerm\n",
      "Keys: ['location', 'symbol']\n",
      "Symbol: 0\n",
      "Type: Symbol\n",
      "atom(symbol(function(name(\"domA\"),arguments(term(symbol(0))),external(0))))\n",
      "Type: ASTType.Function\n",
      "Keys: ['location', 'name', 'arguments', 'external']\n",
      "External: 0 int\n",
      "Name: atom str\n",
      "Arguments:\n",
      "symbol(function(name(\"domA\"),arguments(term(symbol(0))),external(0)))\n",
      "Type: ASTType.Function\n",
      "Keys: ['location', 'name', 'arguments', 'external']\n",
      "External: 0 int\n",
      "Name: symbol str\n",
      "Arguments:\n",
      "function(name(\"domA\"),arguments(term(symbol(0))),external(0))\n",
      "Type: ASTType.Function\n",
      "Keys: ['location', 'name', 'arguments', 'external']\n",
      "External: 0 int\n",
      "Name: function str\n",
      "Arguments:\n",
      "name(\"domA\")\n",
      "Type: ASTType.Function\n",
      "Keys: ['location', 'name', 'arguments', 'external']\n",
      "External: 0 int\n",
      "Name: name str\n",
      "Arguments:\n",
      "\"domA\"\n",
      "Type: ASTType.SymbolicTerm\n",
      "Keys: ['location', 'symbol']\n",
      "Symbol: \"domA\"\n",
      "Type: Symbol\n",
      "arguments(term(symbol(0)))\n",
      "Type: ASTType.Function\n",
      "Keys: ['location', 'name', 'arguments', 'external']\n",
      "External: 0 int\n",
      "Name: arguments str\n",
      "Arguments:\n",
      "term(symbol(0))\n",
      "Type: ASTType.Function\n",
      "Keys: ['location', 'name', 'arguments', 'external']\n",
      "External: 0 int\n",
      "Name: term str\n",
      "Arguments:\n",
      "symbol(0)\n",
      "Type: ASTType.Function\n",
      "Keys: ['location', 'name', 'arguments', 'external']\n",
      "External: 0 int\n",
      "Name: symbol str\n",
      "Arguments:\n",
      "0\n",
      "Type: ASTType.SymbolicTerm\n",
      "Keys: ['location', 'symbol']\n",
      "Symbol: 0\n",
      "Type: Symbol\n",
      "external(0)\n",
      "Type: ASTType.Function\n",
      "Keys: ['location', 'name', 'arguments', 'external']\n",
      "External: 0 int\n",
      "Name: external str\n",
      "Arguments:\n",
      "0\n",
      "Type: ASTType.SymbolicTerm\n",
      "Keys: ['location', 'symbol']\n",
      "Symbol: 0\n",
      "Type: Symbol\n",
      "body(elements)\n",
      "Type: ASTType.Function\n",
      "Keys: ['location', 'name', 'arguments', 'external']\n",
      "External: 0 int\n",
      "Name: body str\n",
      "Arguments:\n",
      "elements\n",
      "Type: ASTType.Function\n",
      "Keys: ['location', 'name', 'arguments', 'external']\n",
      "External: 0 int\n",
      "Name: elements str\n",
      "Arguments:\n",
      "Sign: 0 int\n",
      "Body: []\n",
      "Type: ASTSequence\n"
     ]
    }
   ],
   "source": [
    "clingo.ast.parse_string('rule(head(literal(sign(0), atom(symbol(function(name(\"domA\"), arguments(term(symbol(0))), external(0)))))), body(elements())).', report)"
   ],
   "metadata": {
    "collapsed": false,
    "pycharm": {
     "name": "#%%\n"
    }
   }
  },
  {
   "cell_type": "code",
   "execution_count": null,
   "outputs": [],
   "source": [],
   "metadata": {
    "collapsed": false,
    "pycharm": {
     "name": "#%%\n"
    }
   }
  }
 ],
 "metadata": {
  "kernelspec": {
   "display_name": "Python 3",
   "language": "python",
   "name": "python3"
  },
  "language_info": {
   "codemirror_mode": {
    "name": "ipython",
    "version": 2
   },
   "file_extension": ".py",
   "mimetype": "text/x-python",
   "name": "python",
   "nbconvert_exporter": "python",
   "pygments_lexer": "ipython2",
   "version": "2.7.6"
  }
 },
 "nbformat": 4,
 "nbformat_minor": 0
}