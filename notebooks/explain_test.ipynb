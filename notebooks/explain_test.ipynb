{
 "cells": [
  {
   "cell_type": "code",
   "execution_count": 1,
   "outputs": [],
   "source": [
    "from copy import deepcopy\n",
    "\n",
    "from util.explain import _preprocess, negation_atoms, _derivation_path, _dependency_assumption, explanation_graph, Literal\n",
    "import networkx as nx"
   ],
   "metadata": {
    "collapsed": false,
    "pycharm": {
     "name": "#%%\n"
    }
   }
  },
  {
   "cell_type": "code",
   "execution_count": 2,
   "outputs": [],
   "source": [
    "\n",
    "example_literal_mapping = dict(b=2, k=4, a=3, e=1, c=5, f=6)\n",
    "a, b, c, e, f, k = example_literal_mapping['a'], example_literal_mapping['b'], example_literal_mapping['c'], \\\n",
    "                   example_literal_mapping['e'], example_literal_mapping['f'], example_literal_mapping['k']\n",
    "\n",
    "example_program = {\n",
    "    e: [dict()],\n",
    "    b: [dict(positive=[], negative=[a])],\n",
    "    k: [dict(positive=[e], negative=[b])],\n",
    "    a: [dict(positive=[k], negative=[b])],\n",
    "    c: [dict(positive=[a, b], negative=[]), dict(positive=[k], negative=[])],\n",
    "    f: [dict(positive=[e], negative=[k, c])]\n",
    "}\n",
    "example_facts = {e}\n",
    "\n",
    "example_answer_set = {b, f, e}\n",
    "\n",
    "example_derivable_dict = {\n",
    "    f: [{-k, -c, e}],\n",
    "    b: [{-a}],\n",
    "    -c: [{-k, -a}],\n",
    "    -k: [{b}],\n",
    "    -a: [{-k}, {b}],\n",
    "    e: [{\"T\"}]}"
   ],
   "metadata": {
    "collapsed": false,
    "pycharm": {
     "name": "#%%\n"
    }
   }
  },
  {
   "cell_type": "code",
   "execution_count": 3,
   "outputs": [
    {
     "data": {
      "text/plain": "<Figure size 432x288 with 1 Axes>",
      "image/png": "[encoded data removed]"
     },
     "metadata": {},
     "output_type": "display_data"
    }
   ],
   "source": [
    "graph = explanation_graph(f, deepcopy(example_derivable_dict), {a}, deepcopy(example_answer_set))\n",
    "assert graph is not None\n",
    "nx.draw(graph, with_labels=True)"
   ],
   "metadata": {
    "collapsed": false,
    "pycharm": {
     "name": "#%%\n"
    }
   }
  },
  {
   "cell_type": "code",
   "execution_count": 4,
   "outputs": [
    {
     "name": "stdout",
     "output_type": "stream",
     "text": [
      "\t-5\t[height=0.5,\n",
      " ^\n",
      "Expected '}', found '-'  (at char 261), (line:13, col:2)\n"
     ]
    },
    {
     "ename": "TypeError",
     "evalue": "object of type 'NoneType' has no len()",
     "output_type": "error",
     "traceback": [
      "\u001B[0;31m---------------------------------------------------------------------------\u001B[0m",
      "\u001B[0;31mTypeError\u001B[0m                                 Traceback (most recent call last)",
      "Input \u001B[0;32mIn [4]\u001B[0m, in \u001B[0;36m<module>\u001B[0;34m\u001B[0m\n\u001B[1;32m      1\u001B[0m graph \u001B[38;5;241m=\u001B[39m explanation_graph(f, deepcopy(example_derivable_dict), {k}, deepcopy(example_answer_set))\n\u001B[1;32m      2\u001B[0m \u001B[38;5;28;01massert\u001B[39;00m graph \u001B[38;5;129;01mis\u001B[39;00m \u001B[38;5;129;01mnot\u001B[39;00m \u001B[38;5;28;01mNone\u001B[39;00m\n\u001B[0;32m----> 3\u001B[0m pos \u001B[38;5;241m=\u001B[39m \u001B[43mnx\u001B[49m\u001B[38;5;241;43m.\u001B[39;49m\u001B[43mnx_pydot\u001B[49m\u001B[38;5;241;43m.\u001B[39;49m\u001B[43mpydot_layout\u001B[49m\u001B[43m(\u001B[49m\u001B[43mgraph\u001B[49m\u001B[43m,\u001B[49m\u001B[38;5;124;43m'\u001B[39;49m\u001B[38;5;124;43mdot\u001B[39;49m\u001B[38;5;124;43m'\u001B[39;49m\u001B[43m,\u001B[49m\u001B[43m \u001B[49m\u001B[43mf\u001B[49m\u001B[43m)\u001B[49m\n\u001B[1;32m      4\u001B[0m nx\u001B[38;5;241m.\u001B[39mdraw(graph, with_labels\u001B[38;5;241m=\u001B[39m\u001B[38;5;28;01mTrue\u001B[39;00m)\n",
      "File \u001B[0;32m~/.local/share/anaconda/envs/asp-ideas/lib/python3.10/site-packages/networkx/drawing/nx_pydot.py:328\u001B[0m, in \u001B[0;36mpydot_layout\u001B[0;34m(G, prog, root)\u001B[0m\n\u001B[1;32m    326\u001B[0m \u001B[38;5;66;03m# List of one or more \"pydot.Dot\" instances deserialized from this string.\u001B[39;00m\n\u001B[1;32m    327\u001B[0m Q_list \u001B[38;5;241m=\u001B[39m pydot\u001B[38;5;241m.\u001B[39mgraph_from_dot_data(D)\n\u001B[0;32m--> 328\u001B[0m \u001B[38;5;28;01massert\u001B[39;00m \u001B[38;5;28;43mlen\u001B[39;49m\u001B[43m(\u001B[49m\u001B[43mQ_list\u001B[49m\u001B[43m)\u001B[49m \u001B[38;5;241m==\u001B[39m \u001B[38;5;241m1\u001B[39m\n\u001B[1;32m    330\u001B[0m \u001B[38;5;66;03m# The first and only such instance, as guaranteed by the above assertion.\u001B[39;00m\n\u001B[1;32m    331\u001B[0m Q \u001B[38;5;241m=\u001B[39m Q_list[\u001B[38;5;241m0\u001B[39m]\n",
      "\u001B[0;31mTypeError\u001B[0m: object of type 'NoneType' has no len()"
     ]
    }
   ],
   "source": [
    "graph = explanation_graph(f, deepcopy(example_derivable_dict), {k}, deepcopy(example_answer_set))\n",
    "assert graph is not None\n",
    "nx.draw(graph, with_labels=True)"
   ],
   "metadata": {
    "collapsed": false,
    "pycharm": {
     "name": "#%%\n"
    }
   }
  },
  {
   "cell_type": "code",
   "execution_count": null,
   "outputs": [],
   "source": [
    "t = Literal(1, \"t\")"
   ],
   "metadata": {
    "collapsed": false,
    "pycharm": {
     "name": "#%%\n"
    }
   }
  },
  {
   "cell_type": "code",
   "execution_count": null,
   "outputs": [],
   "source": [
    "-t"
   ],
   "metadata": {
    "collapsed": false,
    "pycharm": {
     "name": "#%%\n"
    }
   }
  },
  {
   "cell_type": "code",
   "execution_count": null,
   "outputs": [],
   "source": [
    "~t"
   ],
   "metadata": {
    "collapsed": false,
    "pycharm": {
     "name": "#%%\n"
    }
   }
  },
  {
   "cell_type": "code",
   "execution_count": null,
   "outputs": [],
   "source": [
    "t.lnot()"
   ],
   "metadata": {
    "collapsed": false,
    "pycharm": {
     "name": "#%%\n"
    }
   }
  }
 ],
 "metadata": {
  "kernelspec": {
   "display_name": "Python 3",
   "language": "python",
   "name": "python3"
  },
  "language_info": {
   "codemirror_mode": {
    "name": "ipython",
    "version": 2
   },
   "file_extension": ".py",
   "mimetype": "text/x-python",
   "name": "python",
   "nbconvert_exporter": "python",
   "pygments_lexer": "ipython2",
   "version": "2.7.6"
  }
 },
 "nbformat": 4,
 "nbformat_minor": 0
}