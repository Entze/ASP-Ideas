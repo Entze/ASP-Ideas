{
 "cells": [
  {
   "cell_type": "code",
   "execution_count": 19,
   "metadata": {
    "collapsed": true,
    "pycharm": {
     "name": "#%%\n"
    }
   },
   "outputs": [],
   "source": [
    "import abc\n",
    "from collections import defaultdict, namedtuple\n",
    "from copy import deepcopy\n",
    "from dataclasses import dataclass, field\n",
    "from enum import IntEnum\n",
    "from typing import MutableSequence\n",
    "from typing import Optional, Iterator, Sequence, TypeVar, Set, Mapping, Union, Tuple, Iterable, FrozenSet\n",
    "\n",
    "import clingo\n",
    "import clingraph\n",
    "from clingraph import Factbase, compute_graphs\n",
    "from more_itertools import powerset\n"
   ]
  },
  {
   "cell_type": "code",
   "execution_count": 20,
   "outputs": [],
   "source": [
    "def asp_solve(programs,\n",
    "              ctl: Optional[clingo.Control] = None,\n",
    "              parts=(('base', ()),),\n",
    "              context=None,\n",
    "              report=False,\n",
    "              report_models=True,\n",
    "              report_result=True,\n",
    "              symbol_sep=' ',\n",
    "              model_sep='\\n'\n",
    "              ) -> Iterator[Sequence[clingo.Symbol]]:\n",
    "    if ctl is None:\n",
    "        ctl = clingo.Control(logger=lambda *args, **kwargs: None)\n",
    "        ctl.configuration.solve.models = 0\n",
    "    ctl.add('base', [], '\\n'.join(programs))\n",
    "    ctl.ground(parts, context=context)\n",
    "    with ctl.solve(yield_=True) as solve_handle:\n",
    "        models = 0\n",
    "        for model in solve_handle:\n",
    "            symbols = sorted(model.symbols(shown=True))\n",
    "            if report and report_models:\n",
    "                print(\"Answer {}:\".format(model.number), end=' ')\n",
    "                print(\"{\",\n",
    "                      symbol_sep.join(map(str, symbols)), \"}\", sep=symbol_sep, end=model_sep)\n",
    "            models += 1\n",
    "            yield symbols\n",
    "        if report and report_result:\n",
    "            solve_result = solve_handle.get()\n",
    "            print(solve_result, end='')\n",
    "            if solve_result.satisfiable:\n",
    "                print(\" {}{}\".format(models, '' if solve_result.exhausted else '+'))\n",
    "            else:\n",
    "                print()\n",
    "\n",
    "\n",
    "def draw_graph(programs,\n",
    "               ctl: Optional[clingo.Control] = None,\n",
    "               parts=(('base', ()),)):\n",
    "    fb = Factbase()\n",
    "    if ctl is None:\n",
    "        ctl = clingo.Control(logger=lambda *args, **kwargs: None)\n",
    "        ctl.configuration.solve.models = 0\n",
    "    ctl.add('base', [], '\\n'.join(programs))\n",
    "    ctl.ground(parts, clingraph.clingo_utils.ClingraphContext())\n",
    "    with ctl.solve(yield_=True) as solve_handle:\n",
    "        for model in solve_handle:\n",
    "            fb.add_model(model)\n",
    "            break\n",
    "    return compute_graphs(fb)"
   ],
   "metadata": {
    "collapsed": false,
    "pycharm": {
     "name": "#%%\n"
    }
   }
  },
  {
   "cell_type": "code",
   "execution_count": 21,
   "outputs": [],
   "source": [
    "ForwardASPSymbol = TypeVar('ForwardASPSymbol', bound='ASPSymbol')\n",
    "ForwardASPVariable = TypeVar('ForwardASPVariable', bound='ASPVariable')\n",
    "\n",
    "\n",
    "class ASPSymbol(abc.ABC):\n",
    "\n",
    "    @staticmethod\n",
    "    def from_clingo_symbol(symbol: clingo.Symbol) -> ForwardASPSymbol:\n",
    "        if symbol.type is clingo.SymbolType.Number:\n",
    "            return ASPTerm(ASPIntegerConstant(symbol.number))\n",
    "        elif symbol.type is clingo.SymbolType.String:\n",
    "            return ASPTerm(ASPStringConstant(symbol.string))\n",
    "        elif symbol.type is clingo.SymbolType.Function:\n",
    "            arguments = tuple(ASPFunction.from_clingo_symbol(argument) for argument in symbol.arguments)\n",
    "            name = symbol.name\n",
    "            if symbol.negative:\n",
    "                name = \"-{}\".format(name)\n",
    "            return ASPFunction(name, arguments)\n",
    "        else:\n",
    "            assert False, \"Unhandled clingo.Symbol {} with type {}.\".format(symbol, symbol.type.name)\n",
    "\n",
    "\n",
    "@dataclass(order=True, frozen=True)\n",
    "class ASPStringConstant:\n",
    "    string: str = field(default=\"\")\n",
    "\n",
    "    def __str__(self):\n",
    "        return '\"{}\"'.format(self.string)\n",
    "\n",
    "\n",
    "@dataclass(order=True, frozen=True)\n",
    "class ASPIntegerConstant:\n",
    "    number: int = field(default=0)\n",
    "\n",
    "    def __str__(self):\n",
    "        return str(self.number)\n",
    "\n",
    "\n",
    "@dataclass(order=True, frozen=True)\n",
    "class ASPTerm(ASPSymbol):\n",
    "    constant: Union[ASPStringConstant, ASPIntegerConstant] = field(default_factory=ASPIntegerConstant)\n",
    "\n",
    "    def __str__(self):\n",
    "        return str(self.constant)\n",
    "\n",
    "    @staticmethod\n",
    "    def zero():\n",
    "        return ASPTerm(ASPIntegerConstant(0))\n",
    "\n",
    "    @staticmethod\n",
    "    def one():\n",
    "        return ASPTerm(ASPIntegerConstant(1))\n",
    "\n",
    "\n",
    "ForwardASPTopLevelSymbol = TypeVar('ForwardASPTopLevelSymbol', bound='ASPTopLevelSymbol')\n",
    "\n",
    "\n",
    "class ASPTopLevelSymbol(ASPSymbol, abc.ABC):\n",
    "\n",
    "    @property\n",
    "    def signature(self) -> str:\n",
    "        return \"{}/{}.\".format(self.function_name, self.arity)\n",
    "\n",
    "    @property\n",
    "    @abc.abstractmethod\n",
    "    def function_name(self) -> str:\n",
    "        raise NotImplementedError\n",
    "\n",
    "    @property\n",
    "    def arity(self) -> int:\n",
    "        return len(self.function_arguments)\n",
    "\n",
    "    @property\n",
    "    @abc.abstractmethod\n",
    "    def function_arguments(self) -> Sequence[ASPSymbol]:\n",
    "        raise NotImplementedError\n",
    "\n",
    "    def match(self, other: ForwardASPTopLevelSymbol) -> bool:\n",
    "        return self.function_name == other.function_name and len(self.function_arguments) == len(\n",
    "            other.function_arguments)\n",
    "\n",
    "\n",
    "def asp_evaluate(*programs, report=False) -> Iterator[FrozenSet[ASPTopLevelSymbol]]:\n",
    "    for answer_set in asp_solve(programs=programs, report=report):\n",
    "        yield frozenset(ASPFunction.from_clingo_symbol(symbol) for symbol in answer_set)\n",
    "\n",
    "\n",
    "@dataclass(order=True, frozen=True)\n",
    "class ASPFunction(ASPTopLevelSymbol):\n",
    "    name: Optional[str] = field(default=None)\n",
    "    arguments: Sequence[ASPSymbol] = field(default_factory=tuple)\n",
    "\n",
    "    @property\n",
    "    def function_name(self) -> str:\n",
    "        return self.name\n",
    "\n",
    "    @property\n",
    "    def function_arguments(self) -> Sequence[ASPSymbol]:\n",
    "        return self.arguments\n",
    "\n",
    "    @property\n",
    "    def arity(self) -> int:\n",
    "        return len(self.arguments)\n",
    "\n",
    "    def __str__(self):\n",
    "        if self.name is None:\n",
    "            return '({})'.format(','.join(map(str, self.arguments)))\n",
    "        elif not self.arguments:\n",
    "            return self.name\n",
    "        else:\n",
    "            return '{}({})'.format(self.name, ','.join(map(str, self.arguments)))\n",
    "\n",
    "\n",
    "ForwardASPAtom = TypeVar('ForwardASPAtom', bound='ASPAtom')\n",
    "\n",
    "\n",
    "@dataclass(order=True, frozen=True)\n",
    "class ASPAtom:\n",
    "    symbol: ASPTopLevelSymbol = field(default_factory=ASPFunction)\n",
    "\n",
    "    @property\n",
    "    def signature(self) -> str:\n",
    "        return self.symbol.signature\n",
    "\n",
    "    def match(self, other: ForwardASPAtom) -> bool:\n",
    "        return self.symbol.function_name == other.symbol.function_name and len(self.symbol.function_arguments) == len(\n",
    "            other.symbol.function_arguments)\n",
    "\n",
    "    def __str__(self):\n",
    "        return str(self.symbol)\n",
    "\n",
    "\n",
    "@dataclass(order=True, frozen=True)\n",
    "class ASPClauseElement(abc.ABC):\n",
    "\n",
    "    @property\n",
    "    @abc.abstractmethod\n",
    "    def signature(self) -> str:\n",
    "        raise NotImplementedError\n",
    "\n",
    "    @property\n",
    "    @abc.abstractmethod\n",
    "    def is_pos(self):\n",
    "        raise NotImplementedError\n",
    "\n",
    "    @property\n",
    "    @abc.abstractmethod\n",
    "    def is_neg(self):\n",
    "        raise NotImplementedError\n",
    "\n",
    "    def __neg__(self):\n",
    "        raise NotImplementedError\n",
    "\n",
    "    def __abs__(self):\n",
    "        raise NotImplementedError\n",
    "\n",
    "\n",
    "class ASPHeadClauseElement(ASPClauseElement):\n",
    "    pass\n",
    "\n",
    "\n",
    "class ASPLiteral(ASPHeadClauseElement):\n",
    "\n",
    "    @property\n",
    "    @abc.abstractmethod\n",
    "    def signature(self) -> str:\n",
    "        raise NotImplementedError\n",
    "\n",
    "    @property\n",
    "    @abc.abstractmethod\n",
    "    def is_pos(self) -> bool:\n",
    "        raise NotImplementedError\n",
    "\n",
    "    @property\n",
    "    @abc.abstractmethod\n",
    "    def is_neg(self) -> bool:\n",
    "        raise NotImplementedError\n",
    "\n",
    "\n",
    "class ASPSign(IntEnum):\n",
    "    NoSign = 0\n",
    "    Negation = 1\n",
    "\n",
    "    def __str__(self):\n",
    "        if self is ASPSign.NoSign:\n",
    "            return ''\n",
    "        elif self is ASPSign.Negation:\n",
    "            return 'not'\n",
    "        else:\n",
    "            assert False, 'Unknown IntEnum {} = {}.'.format(self.name, self.value)\n",
    "\n",
    "\n",
    "@dataclass(order=True, frozen=True)\n",
    "class ASPBasicLiteral(ASPLiteral):\n",
    "    sign: ASPSign = ASPSign.NoSign\n",
    "    atom: ASPAtom = field(default_factory=ASPAtom)\n",
    "\n",
    "    @property\n",
    "    def is_pos(self) -> bool:\n",
    "        return self.sign is ASPSign.NoSign\n",
    "\n",
    "    @property\n",
    "    def is_neg(self) -> bool:\n",
    "        return self.sign is ASPSign.Negation\n",
    "\n",
    "    @property\n",
    "    def signature(self) -> str:\n",
    "        return self.atom.signature\n",
    "\n",
    "    def __str__(self):\n",
    "        if self.sign is ASPSign.NoSign:\n",
    "            return \"{}\".format(self.atom)\n",
    "        else:\n",
    "            return \"{} {}\".format(self.sign, self.atom)\n",
    "\n",
    "    def __neg__(self):\n",
    "        return ASPBasicLiteral(ASPSign((self.sign ^ 1) % 2), self.atom)\n",
    "\n",
    "    def __abs__(self):\n",
    "        return ASPBasicLiteral(ASPSign.NoSign, self.atom)\n",
    "\n",
    "    def as_classical_atom(self):\n",
    "        return ClassicalAtom(str(self.atom.symbol))\n",
    "\n",
    "    @staticmethod\n",
    "    def make_literal(name: Optional[str], *arguments: Union[str, int, ASPFunction]):\n",
    "        function_arguments = []\n",
    "        for arg_ in arguments:\n",
    "            if isinstance(arg_, str):\n",
    "                arg = ASPFunction(arg_)\n",
    "            elif isinstance(arg_, int):\n",
    "                arg = ASPTerm(ASPIntegerConstant(arg_))\n",
    "            else:\n",
    "                arg = arg_\n",
    "            function_arguments.append(arg)\n",
    "        return ASPBasicLiteral(atom=ASPAtom(ASPFunction(name=name, arguments=tuple(function_arguments))))\n",
    "\n",
    "\n",
    "@dataclass(order=True, frozen=True)\n",
    "class ASPRule(abc.ABC):\n",
    "    head: Optional[ASPHeadClauseElement] = field(default=None)\n",
    "    body: Optional[Sequence[ASPClauseElement]] = field(default=None)\n",
    "\n",
    "    @property\n",
    "    @abc.abstractmethod\n",
    "    def head_signature(self) -> str:\n",
    "        raise NotImplementedError\n",
    "\n",
    "    @staticmethod\n",
    "    def fmt_body(body: Sequence[ASPClauseElement]):\n",
    "        return ', '.join(map(str, body))\n",
    "\n",
    "\n",
    "@dataclass(order=True, frozen=True)\n",
    "class ASPNormalRule(ASPRule):\n",
    "    head: ASPBasicLiteral = field(default_factory=ASPBasicLiteral)\n",
    "    body: Sequence[ASPClauseElement] = field(default_factory=tuple)\n",
    "\n",
    "    @property\n",
    "    def head_signature(self) -> str:\n",
    "        return self.head.signature\n",
    "\n",
    "    def __str__(self):\n",
    "        if self.body:\n",
    "            return \"{} :- {}.\".format(self.head, ASPRule.fmt_body(self.body))\n",
    "        else:\n",
    "            return \"{}.\".format(self.head)\n",
    "\n",
    "\n",
    "@dataclass(order=True, frozen=True)\n",
    "class ASPIntegrityConstraint(ASPRule):\n",
    "    body: Sequence[ASPClauseElement] = field(default_factory=tuple)\n",
    "    head: bool = field(default=False, init=False)\n",
    "\n",
    "    @property\n",
    "    def head_signature(self) -> str:\n",
    "        return '#false/0.'\n",
    "\n",
    "    def __str__(self):\n",
    "        if self.body:\n",
    "            return \":- {}.\".format(ASPRule.fmt_body(self.body))\n",
    "        else:\n",
    "            return \":-.\"\n",
    "\n",
    "\n",
    "@dataclass(frozen=True, order=True)\n",
    "class ClassicalAtom:\n",
    "    symbol: str\n",
    "\n",
    "    @property\n",
    "    def is_complement(self) -> bool:\n",
    "        return self.symbol.startswith('-')\n",
    "\n",
    "    def __neg__(self):\n",
    "        if self.is_complement:\n",
    "            return ClassicalAtom(self.symbol[1:])\n",
    "        else:\n",
    "            return ClassicalAtom('-{}'.format(self.symbol))\n",
    "\n",
    "    def __abs__(self):\n",
    "        if self.is_complement:\n",
    "            return -self\n",
    "        return self\n",
    "\n",
    "    def __str__(self):\n",
    "        return self.symbol\n",
    "\n",
    "\n",
    "ClassicalAlphabet = Set[ClassicalAtom]\n",
    "ClassicalValuation = Mapping[ClassicalAtom, bool]\n",
    "\n",
    "\n",
    "@dataclass(frozen=True, order=True)\n",
    "class ClassicalLiteral:\n",
    "    atom: ClassicalAtom\n",
    "    sign: bool = field(default=True)\n",
    "\n",
    "    def __str__(self):\n",
    "        sign_str = \"\"\n",
    "        if not self.sign:\n",
    "            sign_str = \"¬\"\n",
    "        return \"{}{}\".format(sign_str, self.atom)\n",
    "\n",
    "    def __repr__(self):\n",
    "        return str(self)\n",
    "\n",
    "    def __neg__(self):\n",
    "        return ClassicalLiteral(self.atom, not self.sign)\n",
    "\n",
    "    def __and__(self, other):\n",
    "        left = ClassicalFormula(self)\n",
    "        right = other\n",
    "        if isinstance(other, ClassicalLiteral):\n",
    "            right = ClassicalFormula(right)\n",
    "        return ClassicalFormula(left, ClassicalConnective.And, right)\n",
    "\n",
    "    def __or__(self, other):\n",
    "        left = ClassicalFormula(self)\n",
    "        right = other\n",
    "        if isinstance(other, ClassicalLiteral):\n",
    "            right = ClassicalFormula(right)\n",
    "        return ClassicalFormula(left, ClassicalConnective.Or, right)\n",
    "\n",
    "    def __rshift__(self, other):\n",
    "        left = ClassicalFormula(self)\n",
    "        right = other\n",
    "        if isinstance(other, ClassicalLiteral):\n",
    "            right = ClassicalFormula(right)\n",
    "        return ClassicalFormula(left, ClassicalConnective.Implies, right)\n",
    "\n",
    "\n",
    "@dataclass(frozen=True, order=True)\n",
    "class ClassicalTop(ClassicalLiteral):\n",
    "    atom: ClassicalAtom = field(default=ClassicalAtom('⊤'), init=False)\n",
    "    sign: bool = field(default=True, init=False)\n",
    "\n",
    "    def __str__(self):\n",
    "        return str(self.atom)\n",
    "\n",
    "    def __repr__(self):\n",
    "        return str(self)\n",
    "\n",
    "    def __neg__(self):\n",
    "        return ClassicalBot()\n",
    "\n",
    "    def __and__(self, other):\n",
    "        if isinstance(other, ClassicalLiteral):\n",
    "            return ClassicalFormula(other)\n",
    "        return other\n",
    "\n",
    "    def __or__(self, other):\n",
    "        return ClassicalFormula(ClassicalTop())\n",
    "\n",
    "\n",
    "@dataclass(frozen=True, order=True)\n",
    "class ClassicalBot(ClassicalLiteral):\n",
    "    atom: ClassicalAtom = field(default=ClassicalAtom('⊥'), init=False)\n",
    "    sign: bool = field(default=False, init=False)\n",
    "\n",
    "    def __neg__(self):\n",
    "        return ClassicalTop()\n",
    "\n",
    "    def __str__(self):\n",
    "        return str(self.atom)\n",
    "\n",
    "    def __and__(self, other):\n",
    "        return ClassicalFormula(ClassicalBot())\n",
    "\n",
    "    def __or__(self, other):\n",
    "        if isinstance(other, ClassicalLiteral):\n",
    "            return ClassicalFormula(other)\n",
    "        return other\n",
    "\n",
    "\n",
    "class ClassicalConnective(IntEnum):\n",
    "    And = 0\n",
    "    Or = 1\n",
    "    Implies = 2\n",
    "\n",
    "    def __str__(self):\n",
    "        if self is ClassicalConnective.And:\n",
    "            return \"∧\"\n",
    "        elif self is ClassicalConnective.Or:\n",
    "            return \"∨\"\n",
    "        elif self is ClassicalConnective.Implies:\n",
    "            return \"→\"\n",
    "        else:\n",
    "            assert False, \"Unhandled Connective.__str__: {} = {}\".format(self.name, self.value)\n",
    "\n",
    "    def evaluate(self, left: bool, right: bool):\n",
    "        if self is ClassicalConnective.And:\n",
    "            return left and right\n",
    "        elif self is ClassicalConnective.Or:\n",
    "            return left or right\n",
    "        elif self is ClassicalConnective.Implies:\n",
    "            return not left or right\n",
    "        else:\n",
    "            assert False, \"Unhandled Connective.evaluate: {} = {}\".format(self.name, self.value)\n",
    "\n",
    "\n",
    "ForwardClassicalFormula = TypeVar('ForwardClassicalFormula', bound='ClassicalFormula')\n",
    "\n",
    "\n",
    "@dataclass(frozen=True, order=True)\n",
    "class ClassicalFormula:\n",
    "    left: Union[ForwardClassicalFormula, ClassicalLiteral]\n",
    "    connective: Optional[ClassicalConnective] = field(default=None)\n",
    "    right: Union[ForwardClassicalFormula, None] = field(default=None)\n",
    "\n",
    "    def __str__(self):\n",
    "        left_str = str(self.left)\n",
    "        connective_str = \"\"\n",
    "        if self.connective is not None:\n",
    "            connective_str = \" {}\".format(self.connective)\n",
    "            if isinstance(self.left,\n",
    "                          ClassicalFormula) and self.left.connective is not None and self.left.connective > self.connective:\n",
    "                left_str = \"({})\".format(left_str)\n",
    "        right_str = \"\"\n",
    "        if self.right is not None:\n",
    "            if self.right.left == ClassicalBot() and self.right.right is None:\n",
    "                left_str = \"¬({})\".format(left_str)\n",
    "                connective_str = \"\"\n",
    "            else:\n",
    "                right_str = \" {}\".format(self.right)\n",
    "            if isinstance(self.right,\n",
    "                          ClassicalFormula) and self.right.connective is not None and self.right.connective > self.connective:\n",
    "                left_str = \"({})\".format(left_str)\n",
    "        return \"{}{}{}\".format(left_str, connective_str, right_str)\n",
    "\n",
    "    def __repr__(self):\n",
    "        return str(self)\n",
    "\n",
    "    def evaluate(self, valuation: Optional[ClassicalValuation] = None) -> bool:\n",
    "        if isinstance(self.left, ClassicalLiteral):\n",
    "            value_left = self.__evaluate_literal(self.left, valuation)\n",
    "        else:\n",
    "            assert isinstance(self.left, ClassicalFormula), \"Unknown type for Formula.left. {}: {}\".format(\n",
    "                type(self.left).__name__, self.left)\n",
    "            value_left = self.left.evaluate(valuation)\n",
    "        if self.connective is not None and self.right is None:\n",
    "            raise TypeError(\"Formula.connective present, despite Formula.right missing.\")\n",
    "        elif self.connective is None and self.right is not None:\n",
    "            raise TypeError(\"Formula.connective missing, despite Formula.right present.\")\n",
    "\n",
    "        if self.connective is None and self.right is None:\n",
    "            return value_left\n",
    "        else:\n",
    "            assert isinstance(self.right, ClassicalFormula), \"Unknown type for Formula.right. {}: {}\".format(\n",
    "                type(self.right).__name__, self.right)\n",
    "            value_right = self.right.evaluate(valuation)\n",
    "\n",
    "            return self.connective.evaluate(value_left, value_right)\n",
    "\n",
    "    def __evaluate_literal(self, literal: ClassicalLiteral, valuation: Optional[ClassicalValuation] = None) -> bool:\n",
    "        if isinstance(literal, ClassicalTop) or isinstance(literal, ClassicalBot):\n",
    "            return literal.sign\n",
    "        else:\n",
    "            # get assigned truth value of atom (per default false) and flip the result if negated\n",
    "            return valuation is not None and bool(valuation.get(literal.atom, False) ^ (not literal.sign))\n",
    "\n",
    "    @property\n",
    "    def literals(self) -> Set[ClassicalLiteral]:\n",
    "        literals = set()\n",
    "        if isinstance(self.left, ClassicalLiteral):\n",
    "            if not isinstance(self.left, ClassicalTop) and not isinstance(self.left, ClassicalBot):\n",
    "                literals.add(self.left)\n",
    "        else:\n",
    "            assert isinstance(self.left, ClassicalFormula), \"Unknown type for Formula.right. {}: {}\".format(\n",
    "                type(self.left).__name__, self.left)\n",
    "            literals.update(self.left.literals)\n",
    "        if self.right is not None:\n",
    "            assert isinstance(self.right, ClassicalFormula), \"Unknown type for Formula.right. {}: {}\".format(\n",
    "                type(self.right).__name__, self.right)\n",
    "            literals.update(self.right.literals)\n",
    "        return literals\n",
    "\n",
    "    @property\n",
    "    def atoms(self) -> Set[ClassicalAtom]:\n",
    "        return {literal.atom for literal in self.literals}\n",
    "\n",
    "    def __neg__(self):\n",
    "        if self.connective is not None and self.right is None:\n",
    "            raise TypeError(\"Formula.connective present, despite Formula.right missing.\")\n",
    "        elif self.connective is None and self.right is not None:\n",
    "            raise TypeError(\"Formula.connective missing, despite Formula.right present.\")\n",
    "\n",
    "        if self.connective is None and self.right is None:\n",
    "            return ClassicalFormula(-self.left)\n",
    "        elif self.connective is ClassicalConnective.And:\n",
    "            return ClassicalFormula(-self.left, ClassicalConnective.Or, -self.right)\n",
    "        elif self.connective is ClassicalConnective.Or:\n",
    "            return ClassicalFormula(-self.left, ClassicalConnective.And, -self.right)\n",
    "        elif self.connective is ClassicalConnective.Implies:\n",
    "            if self.right.left == ClassicalBot() and self.right.right is None:\n",
    "                return self.left\n",
    "            return ClassicalFormula(self, ClassicalConnective.Implies, ClassicalFormula(ClassicalBot()))\n",
    "        else:\n",
    "            assert False, \"Unknown Formula.connective. {} = {}.\".format(self.connective.name, self.connective.value)\n",
    "\n",
    "    @property\n",
    "    def is_top(self) -> bool:\n",
    "        return self.right is None and isinstance(self.left, ClassicalTop)\n",
    "\n",
    "    @property\n",
    "    def is_bot(self) -> bool:\n",
    "        return self.right is None and isinstance(self.left, ClassicalBot)\n",
    "\n",
    "    def __and__(self, other):\n",
    "        left = self\n",
    "        right = other\n",
    "        if isinstance(other, ClassicalLiteral):\n",
    "            right = ClassicalFormula(right)\n",
    "        if left.is_top:\n",
    "            return right\n",
    "        elif right.is_top:\n",
    "            return left\n",
    "        if left.is_bot:\n",
    "            return left\n",
    "        elif right.is_bot:\n",
    "            return right\n",
    "        return ClassicalFormula(left, ClassicalConnective.And, right)\n",
    "\n",
    "    def __or__(self, other):\n",
    "        left = self\n",
    "        right = other\n",
    "        if isinstance(other, ClassicalLiteral):\n",
    "            right = ClassicalFormula(right)\n",
    "        if left.is_top:\n",
    "            return left\n",
    "        elif right.is_top:\n",
    "            return right\n",
    "        if left.is_bot:\n",
    "            return right\n",
    "        elif right.is_bot:\n",
    "            return left\n",
    "        return ClassicalFormula(left, ClassicalConnective.Or, right)\n",
    "\n",
    "    def __rshift__(self, other):\n",
    "        left = self\n",
    "        right = other\n",
    "        if isinstance(other, ClassicalLiteral):\n",
    "            right = ClassicalFormula(right)\n",
    "        return ClassicalFormula(left, ClassicalConnective.Implies, right)\n",
    "\n",
    "    def __call__(self, valuation: Optional[ClassicalValuation] = None) -> bool:\n",
    "        return self.evaluate(valuation)\n",
    "\n",
    "\n",
    "def all_valuations(alphabet: ClassicalAlphabet, complete: bool = False) -> Iterator[ClassicalValuation]:\n",
    "    subsets = powerset(alphabet)\n",
    "    for subset in subsets:\n",
    "        valuation = defaultdict(lambda: False)\n",
    "        for atom in subset:\n",
    "            valuation[atom] = True\n",
    "        if complete:\n",
    "            for atom in alphabet:\n",
    "                if atom not in subset:\n",
    "                    valuation[atom] = False\n",
    "        yield valuation\n",
    "\n",
    "\n",
    "def models(formulas: Set[ClassicalFormula], alphabet: Optional[ClassicalAlphabet] = None) -> Iterator[\n",
    "    ClassicalValuation]:\n",
    "    if alphabet is None:\n",
    "        alphabet = {atom for formula in formulas for atom in formula.atoms}\n",
    "    for valuation in all_valuations(alphabet):\n",
    "        if all(formula.evaluate(valuation) for formula in formulas):\n",
    "            yield valuation\n",
    "\n",
    "\n",
    "def sat(formulas: Set[ClassicalFormula], alphabet: Optional[ClassicalAlphabet] = None) -> bool:\n",
    "    model = next(models(formulas, alphabet), None)\n",
    "    return model is not None\n",
    "\n",
    "\n",
    "def unsat(formulas: Set[ClassicalFormula], alphabet: Optional[ClassicalAlphabet] = None) -> bool:\n",
    "    return not sat(formulas, alphabet)\n",
    "\n",
    "\n",
    "def entails(formulas: Set[ClassicalFormula], formula: ClassicalFormula) -> bool:\n",
    "    return unsat(formulas | {-formula})\n",
    "\n",
    "\n",
    "def valid(formulas: Set[ClassicalFormula], alphabet: Optional[ClassicalAlphabet] = None) -> bool:\n",
    "    if alphabet is None:\n",
    "        alphabet = {atom for formula in formulas for atom in formula.atoms}\n",
    "    for valuation in all_valuations(alphabet):\n",
    "        if any(not formula.evaluate(valuation) for formula in formulas):\n",
    "            return False\n",
    "    return True\n",
    "\n",
    "\n",
    "def empty_conditions(*args, **kwargs):\n",
    "    return defaultdict(lambda: ClassicalFormula(ClassicalBot()))\n",
    "\n",
    "\n",
    "@dataclass\n",
    "class ADF:\n",
    "    statements: Set[ClassicalAtom] = field(default_factory=set)\n",
    "    conditions: Mapping[ClassicalAtom, ClassicalFormula] = field(default_factory=empty_conditions)\n",
    "    rule_atoms: Set[ClassicalAtom] = field(default_factory=set)\n",
    "\n",
    "    def is_fact(self, atom: ClassicalAtom) -> bool:\n",
    "        return atom in self.conditions and any(\n",
    "            condition in self.conditions and self.conditions[condition].is_top for condition in\n",
    "            self.conditions[atom].atoms)\n",
    "\n",
    "    def is_non_factual(self, atom: ClassicalAtom) -> bool:\n",
    "        return self.conditions.get(atom, ClassicalFormula(ClassicalBot())).is_bot\n",
    "\n",
    "    def __str__(self):\n",
    "        return \"{}{}{} <{}>\".format('{', ' '.join(map(str, self.statements)), '}',\n",
    "                                    ', '.join(map(lambda i: '{}: {}'.format(i[0], i[1]), self.conditions.items())))\n",
    "\n",
    "    def __repr__(self):\n",
    "        return str(self)\n",
    "\n",
    "\n",
    "def asp_to_adf(*rules: ASPRule):\n",
    "    statements = set()\n",
    "    conditions = empty_conditions()\n",
    "    rule_atoms = set()\n",
    "    for i, rule in enumerate(rules):\n",
    "        r = ClassicalLiteral(ClassicalAtom('r{}'.format(i + 1)))\n",
    "        rule_atoms.add(r.atom)\n",
    "        bs = set(\n",
    "            ClassicalLiteral(ClassicalAtom(str(literal.atom.symbol)), sign=literal.is_pos) for literal in rule.body)\n",
    "        statements.add(r.atom)\n",
    "        statements.update(b.atom for b in bs)\n",
    "        if isinstance(rule, ASPNormalRule):\n",
    "            h = ClassicalLiteral(ClassicalAtom(str(rule.head.atom.symbol)))\n",
    "            statements.add(h.atom)\n",
    "\n",
    "            formula = conditions[h.atom]\n",
    "            formula = formula | r\n",
    "            conditions[h.atom] = formula\n",
    "            formula = ClassicalFormula(ClassicalTop())\n",
    "\n",
    "        elif isinstance(rule, ASPIntegrityConstraint):\n",
    "            formula = -ClassicalFormula(r)\n",
    "        else:\n",
    "            assert False, \"Unknown ASPRule {} with type {}.\".format(rule, type(rule).__name__)\n",
    "\n",
    "        for b in bs:\n",
    "            formula = formula & b\n",
    "        conditions[r.atom] = formula\n",
    "\n",
    "    complements = set()\n",
    "    for complement in statements:\n",
    "        if complement.is_complement:\n",
    "            for statement in statements:\n",
    "                if statement == -complement:\n",
    "                    cmp = ClassicalLiteral(ClassicalAtom('cmp({})'.format(statement.symbol)))\n",
    "                    cmp_condition = -cmp & ClassicalLiteral(statement) & ClassicalLiteral(complement)\n",
    "                    complements.add(cmp.atom)\n",
    "                    conditions[cmp.atom] = cmp_condition\n",
    "\n",
    "    statements.update(complements)\n",
    "\n",
    "    return ADF(statements, conditions, rule_atoms)\n",
    "\n",
    "\n",
    "def answer_set_to_valuation(answer_set: Iterable[ASPTopLevelSymbol]) -> ClassicalValuation:\n",
    "    valuation = defaultdict(lambda: False)\n",
    "    for elem in answer_set:\n",
    "        atom = ClassicalAtom(str(elem))\n",
    "        valuation[atom] = True\n",
    "    return valuation\n",
    "\n",
    "\n",
    "def valuation_to_extension(valuation: ClassicalValuation) -> Set[ClassicalAtom]:\n",
    "    extension = set()\n",
    "    for atom, truthvalue in valuation.items():\n",
    "        if truthvalue:\n",
    "            extension.add(atom)\n",
    "    return extension\n",
    "\n",
    "\n",
    "def extension_to_valuation(extension: Set[ClassicalAtom]) -> ClassicalValuation:\n",
    "    valuation = defaultdict(lambda: False)\n",
    "    for atom in extension:\n",
    "        valuation[atom] = True\n",
    "    return valuation"
   ],
   "metadata": {
    "collapsed": false,
    "pycharm": {
     "name": "#%%\n"
    }
   }
  },
  {
   "cell_type": "code",
   "execution_count": 22,
   "outputs": [],
   "source": [
    "PDE = Tuple[ClassicalAtom, Set[ClassicalAtom], Set[ClassicalAtom], Sequence[ClassicalAtom]]\n",
    "\n",
    "\n",
    "def fmt_pde(pde: PDE) -> str:\n",
    "    return \"({}, {}{}{}, {}{}{}, [{}])\".format(pde[0], '{', ','.join(map(str, pde[1])), '}', '{',\n",
    "                                               ','.join(map(str, pde[2])), '}', ','.join(map(str, pde[3])))\n",
    "\n",
    "\n",
    "def print_pde(pde: PDE):\n",
    "    print(fmt_pde(pde))\n",
    "\n",
    "\n",
    "def get_pdes(adf: ADF,\n",
    "             e: ClassicalAtom,\n",
    "             extension: Set[ClassicalAtom],\n",
    "             sequence: Optional[MutableSequence[ClassicalAtom]] = None,\n",
    "             facts: Optional[Set[ClassicalAtom]] = None,\n",
    "             blocking: Optional[Set[ClassicalAtom]] = None) -> Sequence[PDE]:\n",
    "    if facts is None:\n",
    "        facts = set()\n",
    "    if blocking is None:\n",
    "        blocking = set()\n",
    "    if sequence is None:\n",
    "        sequence = []\n",
    "\n",
    "    sequence.insert(0, e)\n",
    "\n",
    "    conditions = set(adf.conditions[e].atoms)\n",
    "\n",
    "    pdes = []\n",
    "\n",
    "    for condition in conditions:\n",
    "        if len(conditions) > 1:\n",
    "            facts_ = deepcopy(facts)\n",
    "            blocking_ = deepcopy(blocking)\n",
    "            sequence_ = deepcopy(sequence)\n",
    "        else:\n",
    "            facts_ = facts\n",
    "            blocking_ = blocking\n",
    "            sequence_ = sequence\n",
    "        sequence_.insert(0, condition)\n",
    "        if adf.is_fact(e):\n",
    "            facts_.add(e)\n",
    "            pdes.append((e, facts_, blocking_, sequence_))\n",
    "            return pdes\n",
    "\n",
    "        subcondition = adf.conditions[condition]\n",
    "        literals = set(subcondition.literals)\n",
    "        branch_pdes = [(e, facts_, blocking_, sequence_)]\n",
    "        subpdes = None\n",
    "        for literal in literals:\n",
    "            if literal.sign is False:\n",
    "                blocking_.add(literal.atom)\n",
    "                continue\n",
    "            subpdes = []\n",
    "            for branch in branch_pdes:\n",
    "                _, facts_, blocking_, sequence_ = branch\n",
    "                subpdes.extend(get_pdes(adf, literal.atom, extension, sequence_, facts_, blocking_))\n",
    "            branch_pdes = subpdes\n",
    "        if subpdes is not None and subpdes:\n",
    "            for subpde in subpdes:\n",
    "                _, facts_, blocking_, sequence_ = subpde\n",
    "                pdes.append((e, facts_, blocking_, sequence_))\n",
    "        else:\n",
    "            pdes.append((e, facts_, blocking_, sequence_))\n",
    "\n",
    "    return pdes\n"
   ],
   "metadata": {
    "collapsed": false,
    "pycharm": {
     "name": "#%%\n"
    }
   }
  },
  {
   "cell_type": "code",
   "execution_count": 23,
   "outputs": [],
   "source": [
    "CompactPDE = Tuple[ClassicalAtom, FrozenSet[ClassicalAtom], FrozenSet[ClassicalAtom], FrozenSet[ClassicalAtom]]\n",
    "\n",
    "\n",
    "def fmt_compact_pde(pde: CompactPDE) -> str:\n",
    "    return \"({}, {}{}{}, {}{}{}, {}{}{})\".format(pde[0], '{', ','.join(map(str, sorted(pde[1]))), '}', '{',\n",
    "                                                 ','.join(map(str, sorted(pde[2]))), '}', '{',\n",
    "                                                 ','.join(map(str, sorted(pde[3]))), '}')\n",
    "\n",
    "\n",
    "def print_compact_pde(pde: CompactPDE):\n",
    "    print(fmt_compact_pde(pde))\n",
    "\n",
    "\n",
    "ForwardASLExplanationGraph = TypeVar('ForwardASLExplanationGraph', bound='ASLExplanationGraph')\n",
    "\n",
    "\n",
    "@dataclass\n",
    "class ASLJustificationTree:\n",
    "    adf: ADF\n",
    "    extension: Set[ClassicalAtom]\n",
    "    pde: CompactPDE\n",
    "    proof: bool = field(default=False)\n",
    "    children: Optional[MutableSequence[ForwardASLExplanationGraph]] = field(default=None)\n",
    "\n",
    "    @property\n",
    "    def is_expanded(self) -> bool:\n",
    "        return self.children is not None\n",
    "\n",
    "    def expand(self):\n",
    "        raise NotImplementedError\n",
    "\n",
    "    def expand_recursively(self, depth=None):\n",
    "        if depth is not None and depth <= 0:\n",
    "            return\n",
    "        self.expand()\n",
    "        for child in self.children:\n",
    "            child.expand_recursively(depth=None if depth is None else depth - 1)\n",
    "\n",
    "    def fmt(self, indent=0, root=True):\n",
    "        fmt = \"\"\n",
    "        if root:\n",
    "            fmt += '*\\n|'\n",
    "        for i in range(indent):\n",
    "            fmt += '|  '\n",
    "        if indent > 0:\n",
    "            fmt += '\\n'\n",
    "            for i in range(indent - 1):\n",
    "                fmt += '|  '\n",
    "            fmt += '|__'\n",
    "\n",
    "        fmt += '__' + str(self)\n",
    "        if self.is_expanded:\n",
    "            for child in self.children:\n",
    "                fmt += '\\n' + child.fmt(indent=indent + 1, root=False)\n",
    "        return fmt\n",
    "\n",
    "    def pretty_print(self):\n",
    "        print(self.fmt())\n",
    "\n",
    "    def __str__(self):\n",
    "        return \"<{},{}>\".format(fmt_compact_pde(self.pde), '+' if self.proof else '-')\n",
    "\n",
    "\n",
    "@dataclass\n",
    "class ASLRefutation(ASLJustificationTree):\n",
    "    proof: bool = field(default=False, init=False)\n",
    "\n",
    "    def expand(self):\n",
    "        if self.is_expanded:\n",
    "            return\n",
    "        children = []\n",
    "\n",
    "        for block in self.pde[2]:\n",
    "            child_pdes = {compress(self.adf, pde) for pde in get_pdes(self.adf, block, self.extension)}\n",
    "            assert len(child_pdes) == 1\n",
    "            child = ASLProof(adf=self.adf,\n",
    "                             extension=self.extension,\n",
    "                             pde=compress(self.adf, next(iter(child_pdes))))\n",
    "            children.append(child)\n",
    "        self.children = children\n",
    "\n",
    "\n",
    "@dataclass\n",
    "class ASLProof(ASLJustificationTree):\n",
    "    proof: bool = field(default=True, init=False)\n",
    "\n",
    "    def expand(self, prefer: Optional[ClassicalAtom] = None):\n",
    "        if self.is_expanded:\n",
    "            return\n",
    "        children = []\n",
    "\n",
    "        if not self.adf.is_fact(self.pde[0]) and frozenset((-self.pde[0],)) != self.pde[2]:\n",
    "            for block in self.pde[2]:\n",
    "                if self.adf.is_non_factual(block):\n",
    "                    continue\n",
    "                child_pdes = {compress(self.adf, pde) for pde in get_pdes(self.adf, block, self.extension)}\n",
    "\n",
    "                for pde in child_pdes:\n",
    "                    child = ASLRefutation(adf=self.adf, extension=self.extension, pde=pde)\n",
    "                    children.append(child)\n",
    "\n",
    "        self.children = children\n",
    "\n",
    "\n",
    "def compress(adf: ADF, pde: PDE) -> CompactPDE:\n",
    "    literal, facts, blocking, sequence = pde\n",
    "    return literal, frozenset(facts), frozenset(blocking), frozenset(\n",
    "        elem for elem in sequence if elem in adf.rule_atoms)\n",
    "\n",
    "\n",
    "def less_specific(pde1: CompactPDE, pde2: CompactPDE) -> bool:\n",
    "    return pde1[0] == pde2[0] and (\n",
    "            (pde1[1] >= pde2[1] and pde1[2] > pde2[2]) or (pde1[1] > pde2[1] and pde1[2] >= pde2[2]))\n",
    "\n",
    "\n",
    "def more_specific(pde1: CompactPDE, pde2: CompactPDE) -> bool:\n",
    "    return pde1[0] == pde2[0] and (\n",
    "            (pde1[1] <= pde2[1] and pde1[2] < pde2[2]) or (pde1[1] < pde2[1] and pde1[2] <= pde2[2]))\n",
    "\n",
    "\n",
    "def compare_cde(pde1: CompactPDE, pde2: CompactPDE) -> int:\n",
    "    if less_specific(pde1, pde2) and more_specific(pde2, pde1):\n",
    "        return -1\n",
    "    elif less_specific(pde2, pde1) and more_specific(pde1, pde2):\n",
    "        return 1\n",
    "    else:\n",
    "        return 0\n",
    "\n",
    "\n",
    "def make_program(*rules: ASPRule):\n",
    "    return '\\n'.join(map(str, rules))"
   ],
   "metadata": {
    "collapsed": false,
    "pycharm": {
     "name": "#%%\n"
    }
   }
  },
  {
   "cell_type": "code",
   "execution_count": 24,
   "outputs": [],
   "source": [
    "BPDE = namedtuple('BPDE', ['atom', 'facts', 'blocking', 'unfounded', 'sequence'])\n",
    "\n",
    "\n",
    "def fmt_bpde(bpde: BPDE):\n",
    "    return \"({},{}{}{},{}{}{},{}{}{},[{}])\".format(bpde.atom,\n",
    "                                                   '{',\n",
    "                                                   ','.join(map(str, bpde.facts)),\n",
    "                                                   '}',\n",
    "                                                   '{',\n",
    "                                                   ','.join(map(str, bpde.blocking)),\n",
    "                                                   '}',\n",
    "                                                   '{',\n",
    "                                                   ','.join(map(str, bpde.unfounded)),\n",
    "                                                   '}',\n",
    "                                                   ','.join(map(str, bpde.sequence))\n",
    "                                                   )\n",
    "\n",
    "\n",
    "def print_bpde(bpde: BPDE):\n",
    "    print(fmt_bpde(bpde))"
   ],
   "metadata": {
    "collapsed": false,
    "pycharm": {
     "name": "#%%\n"
    }
   }
  },
  {
   "cell_type": "code",
   "execution_count": 25,
   "outputs": [],
   "source": [
    "def backwards_pde(adf: ADF,\n",
    "                  query: ClassicalAtom,\n",
    "                  facts: Optional[Set[ClassicalAtom]] = None,\n",
    "                  blocking: Optional[Set[ClassicalAtom]] = None,\n",
    "                  unfounded: Optional[Set[ClassicalAtom]] = None,\n",
    "                  sequence: Optional[MutableSequence[ClassicalAtom]] = None\n",
    "                  ) -> Sequence[BPDE]:\n",
    "    if facts is None:\n",
    "        facts = set()\n",
    "    if blocking is None:\n",
    "        blocking = set()\n",
    "    if unfounded is None:\n",
    "        unfounded = set()\n",
    "    if sequence is None:\n",
    "        sequence = list()\n",
    "\n",
    "    sequence.insert(0, query)\n",
    "\n",
    "    if query in facts:\n",
    "        return [BPDE(query, facts, blocking, unfounded, sequence)]\n",
    "\n",
    "    unfounded.add(query)\n",
    "\n",
    "    condition_formula = adf.conditions[query]\n",
    "    conditions = set(condition_formula.atoms)\n",
    "\n",
    "    pdes = []\n",
    "\n",
    "    for condition in conditions:\n",
    "        if len(conditions) > 1:\n",
    "            facts_ = deepcopy(facts)\n",
    "            blocking_ = deepcopy(blocking)\n",
    "            unfounded_ = deepcopy(unfounded)\n",
    "            sequence_ = deepcopy(sequence)\n",
    "        else:\n",
    "            facts_ = facts\n",
    "            blocking_ = blocking\n",
    "            unfounded_ = unfounded\n",
    "            sequence_ = sequence\n",
    "\n",
    "        sequence_.insert(0, condition)\n",
    "\n",
    "        if adf.is_fact(query):\n",
    "            facts_.add(query)\n",
    "            unfounded_.remove(query)\n",
    "            pdes.append(BPDE(query, facts_, blocking_, unfounded_, sequence_))\n",
    "        else:\n",
    "\n",
    "            literals = set(adf.conditions[condition].literals)\n",
    "            subpdes = None\n",
    "            branch_pdes = [BPDE(query, facts_, blocking_, unfounded_, sequence_)]\n",
    "            for literal in literals:\n",
    "                if literal.sign is False:\n",
    "                    blocking_.add(literal.atom)\n",
    "                else:\n",
    "                    if literal.atom in facts_ or literal.atom in unfounded_:\n",
    "                        continue\n",
    "                    subpdes = []\n",
    "                    for branch in branch_pdes:\n",
    "                        _, facts_, blocking_, unfounded_, sequence_ = branch\n",
    "                        unfounded_.add(literal.atom)\n",
    "                        subpdes_ = backwards_pde(adf, literal.atom, facts_, blocking_,\n",
    "                                                 unfounded_, sequence_)\n",
    "                        subpdes.extend(subpdes_)\n",
    "            if subpdes is not None and subpdes:\n",
    "                for subpde in subpdes:\n",
    "                    _, facts_, blocking_, unfounded_, sequence_ = subpde\n",
    "                    if {literal.atom for literal in adf.conditions[condition].literals if literal.sign}.isdisjoint(\n",
    "                            unfounded_):\n",
    "                        unfounded_.remove(query)\n",
    "                    pdes.append(BPDE(query, facts_, blocking_, unfounded_, sequence_))\n",
    "            else:\n",
    "                pdes.append(BPDE(query, facts_, blocking_, unfounded_, sequence_))\n",
    "        if query in unfounded_ and {literal.atom for literal in adf.conditions[condition].literals if\n",
    "                                    literal.sign}.isdisjoint(unfounded_):\n",
    "            unfounded_.remove(query)\n",
    "\n",
    "    if not conditions:\n",
    "        pdes = [BPDE(query, facts, blocking, unfounded, sequence)]\n",
    "\n",
    "    return pdes\n"
   ],
   "metadata": {
    "collapsed": false,
    "pycharm": {
     "name": "#%%\n"
    }
   }
  },
  {
   "cell_type": "code",
   "execution_count": 26,
   "outputs": [],
   "source": [
    "COMMON = \"\"\"\n",
    "\n",
    "node(U) :- edge((U,V)).\n",
    "node(V) :- edge((U,V)).\n",
    "\n",
    "attr(node, L, label, L) :- pos_atom(L).\n",
    "attr(node, N, label, @concat(\"¬\", P)) :- neg_atom(N), pos_neg(P,N).\n",
    "attr(node, N, fontname, \"fira-sans\") :- node(N).\n",
    "attr(edge, E, fontname, \"fira-sans\") :- edge(E).\n",
    "\n",
    "attr(node, L, style, filled) :- neg_atom(L).\n",
    "attr(node, L, fontcolor, white) :- neg_atom(L).\n",
    "attr(node, L, color, black) :- neg_atom(L).\n",
    "\n",
    "node(Rule) :- rule(Rule).\n",
    "rule(R) :- fact(R).\n",
    "%attr(node, R, width, L+1) :- rule(R), L = #count { F : edge((R, F)) }.\n",
    "\n",
    "attr(edge, E, dir, forward) :- edge(E).\n",
    "attr(edge, E, style, dashed) :- neg_edge(E).\n",
    "attr(node, Rule, shape, box) :- rule(Rule).\n",
    "attr(node, Elem, style, dashed) :- unfounded(Elem).\n",
    "attr(node, Elem, style, bold) :- blocking(Elem).\n",
    "\n",
    "pos_atom(P) :- pos_neg(P, N).\n",
    "neg_atom(N) :- pos_neg(P, N).\n",
    "\n",
    "edge(E) :- neg_edge(E).\n",
    "edge(E) :- pos_edge(E).\n",
    "\n",
    "\"\"\""
   ],
   "metadata": {
    "collapsed": false,
    "pycharm": {
     "name": "#%%\n"
    }
   }
  },
  {
   "cell_type": "code",
   "execution_count": 27,
   "outputs": [],
   "source": [
    "def bpde_to_clingraph_prg(adf:ADF, bpde: BPDE):\n",
    "    prg = \"\"\n",
    "    for elem in bpde.sequence:\n",
    "        prg += \"node({}).\".format(elem)\n",
    "        if elem.is_complement:\n",
    "            prg += \"neg_atom({}).\".format(elem)\n",
    "        else:\n",
    "            prg += \"pos_atom({}).\".format(elem)\n",
    "        if -elem in adf.statements:\n",
    "            prg += \"pos_neg({},{}).\".format(abs(elem), -abs(elem))\n",
    "        if elem in adf.rule_atoms:\n",
    "            prg += \"rule({}).\".format(elem)\n",
    "            if not adf.conditions[elem].atoms.isdisjoint(bpde.unfounded):\n",
    "                prg += \"unfounded({}).\".format(elem)\n",
    "\n",
    "        for literal in adf.conditions[elem].literals:\n",
    "            if literal.atom.is_complement:\n",
    "                prg += \"neg_atom({}).\".format(literal.atom)\n",
    "            else:\n",
    "                prg += \"pos_atom({}).\".format(literal.atom)\n",
    "            if -literal.atom in adf.statements:\n",
    "                prg += \"pos_neg({},{}).\".format(abs(literal.atom), -abs(literal.atom))\n",
    "            if literal.sign:\n",
    "                prg += \"pos_edge(({},{})).\".format(literal.atom, elem)\n",
    "            else:\n",
    "                prg += \"neg_edge(({},{})).\".format(literal.atom, elem)\n",
    "            if literal.atom in bpde.blocking:\n",
    "                prg += \"blocking({}).\".format(literal.atom)\n",
    "            elif literal.atom in bpde.unfounded:\n",
    "                prg += \"unfounded({}).\".format(literal.atom)\n",
    "\n",
    "\n",
    "    return prg"
   ],
   "metadata": {
    "collapsed": false,
    "pycharm": {
     "name": "#%%\n"
    }
   }
  },
  {
   "cell_type": "code",
   "execution_count": 28,
   "outputs": [
    {
     "name": "stdout",
     "output_type": "stream",
     "text": [
      "w :- b, o, not p.\n",
      "b.\n",
      "o.\n"
     ]
    }
   ],
   "source": [
    "b = ASPBasicLiteral.make_literal('b')  # she has a book to finish working through\n",
    "w = ASPBasicLiteral.make_literal('w')  # she will work late\n",
    "o = ASPBasicLiteral.make_literal('o')  # the library will be open when she arrives\n",
    "p = ASPBasicLiteral.make_literal('p')  # there is a party she would rather go to\n",
    "\n",
    "r1 = ASPNormalRule(w, (b, o, -p))\n",
    "r2 = ASPNormalRule(b)\n",
    "r3 = ASPNormalRule(o)\n",
    "\n",
    "rs = (r1, r2, r3)\n",
    "\n",
    "prg = '\\n'.join(map(str, rs))\n",
    "\n",
    "print(prg)"
   ],
   "metadata": {
    "collapsed": false,
    "pycharm": {
     "name": "#%%\n"
    }
   }
  },
  {
   "cell_type": "code",
   "execution_count": 29,
   "outputs": [
    {
     "name": "stdout",
     "output_type": "stream",
     "text": [
      "Answer 1: { b o w }\n",
      "SAT 1\n"
     ]
    }
   ],
   "source": [
    "answer_sets = tuple(asp_evaluate(prg, report=True))\n",
    "answer_set = answer_sets[0]"
   ],
   "metadata": {
    "collapsed": false,
    "pycharm": {
     "name": "#%%\n"
    }
   }
  },
  {
   "cell_type": "code",
   "execution_count": 30,
   "outputs": [
    {
     "name": "stdout",
     "output_type": "stream",
     "text": [
      "{o r3 p b r2 r1 w} <w: r1, r1: ¬p ∧ o ∧ b, b: r2, r2: ⊤, o: r3, r3: ⊤>\n"
     ]
    }
   ],
   "source": [
    "adf = asp_to_adf(*rs)\n",
    "print(adf)"
   ],
   "metadata": {
    "collapsed": false,
    "pycharm": {
     "name": "#%%\n"
    }
   }
  },
  {
   "cell_type": "code",
   "execution_count": 31,
   "outputs": [
    {
     "name": "stdout",
     "output_type": "stream",
     "text": [
      "(w,{b,o},{p},{},[r2,b,r3,o,r1,w])\n"
     ]
    }
   ],
   "source": [
    "bpdes = backwards_pde(adf, w.as_classical_atom())\n",
    "for bpde in bpdes:\n",
    "    print_bpde(bpde)"
   ],
   "metadata": {
    "collapsed": false,
    "pycharm": {
     "name": "#%%\n"
    }
   }
  },
  {
   "cell_type": "code",
   "execution_count": 32,
   "outputs": [
    {
     "name": "stdout",
     "output_type": "stream",
     "text": [
      "1\n"
     ]
    },
    {
     "data": {
      "image/svg+xml": "<?xml version=\"1.0\" encoding=\"UTF-8\" standalone=\"no\"?>\n<!DOCTYPE svg PUBLIC \"-//W3C//DTD SVG 1.1//EN\"\n \"http://www.w3.org/Graphics/SVG/1.1/DTD/svg11.dtd\">\n<!-- Generated by graphviz version 3.0.0 (20220227.1548)\n -->\n<!-- Title: default Pages: 1 -->\n<svg width=\"206pt\" height=\"260pt\"\n viewBox=\"0.00 0.00 206.00 260.00\" xmlns=\"http://www.w3.org/2000/svg\" xmlns:xlink=\"http://www.w3.org/1999/xlink\">\n<g id=\"graph0\" class=\"graph\" transform=\"scale(1 1) rotate(0) translate(4 256)\">\n<title>default</title>\n<polygon fill=\"white\" stroke=\"transparent\" points=\"-4,4 -4,-256 202,-256 202,4 -4,4\"/>\n<!-- o -->\n<g id=\"node1\" class=\"node\">\n<title>o</title>\n<ellipse fill=\"none\" stroke=\"black\" cx=\"171\" cy=\"-162\" rx=\"27\" ry=\"18\"/>\n<text text-anchor=\"middle\" x=\"171\" y=\"-158.3\" font-family=\"fira-sans\" font-size=\"14.00\">o</text>\n</g>\n<!-- r1 -->\n<g id=\"node6\" class=\"node\">\n<title>r1</title>\n<polygon fill=\"none\" stroke=\"black\" points=\"126,-108 72,-108 72,-72 126,-72 126,-108\"/>\n<text text-anchor=\"middle\" x=\"99\" y=\"-86.3\" font-family=\"fira-sans\" font-size=\"14.00\">r1</text>\n</g>\n<!-- o&#45;&#45;r1 -->\n<g id=\"edge5\" class=\"edge\">\n<title>o&#45;&#45;r1</title>\n<path fill=\"none\" stroke=\"black\" d=\"M156.43,-146.83C147.08,-137.75 134.7,-125.71 123.83,-115.14\"/>\n<polygon fill=\"black\" stroke=\"black\" points=\"126.21,-112.57 116.6,-108.11 121.33,-117.59 126.21,-112.57\"/>\n</g>\n<!-- w -->\n<g id=\"node2\" class=\"node\">\n<title>w</title>\n<ellipse fill=\"none\" stroke=\"black\" cx=\"99\" cy=\"-18\" rx=\"27\" ry=\"18\"/>\n<text text-anchor=\"middle\" x=\"99\" y=\"-14.3\" font-family=\"fira-sans\" font-size=\"14.00\">w</text>\n</g>\n<!-- b -->\n<g id=\"node3\" class=\"node\">\n<title>b</title>\n<ellipse fill=\"none\" stroke=\"black\" cx=\"27\" cy=\"-162\" rx=\"27\" ry=\"18\"/>\n<text text-anchor=\"middle\" x=\"27\" y=\"-158.3\" font-family=\"fira-sans\" font-size=\"14.00\">b</text>\n</g>\n<!-- b&#45;&#45;r1 -->\n<g id=\"edge1\" class=\"edge\">\n<title>b&#45;&#45;r1</title>\n<path fill=\"none\" stroke=\"black\" d=\"M41.57,-146.83C50.92,-137.75 63.3,-125.71 74.17,-115.14\"/>\n<polygon fill=\"black\" stroke=\"black\" points=\"76.67,-117.59 81.4,-108.11 71.79,-112.57 76.67,-117.59\"/>\n</g>\n<!-- p -->\n<g id=\"node4\" class=\"node\">\n<title>p</title>\n<ellipse fill=\"none\" stroke=\"black\" stroke-width=\"2\" cx=\"99\" cy=\"-162\" rx=\"27\" ry=\"18\"/>\n<text text-anchor=\"middle\" x=\"99\" y=\"-158.3\" font-family=\"fira-sans\" font-size=\"14.00\">p</text>\n</g>\n<!-- p&#45;&#45;r1 -->\n<g id=\"edge6\" class=\"edge\">\n<title>p&#45;&#45;r1</title>\n<path fill=\"none\" stroke=\"black\" stroke-dasharray=\"5,2\" d=\"M99,-143.7C99,-135.98 99,-126.71 99,-118.11\"/>\n<polygon fill=\"black\" stroke=\"black\" points=\"102.5,-118.1 99,-108.1 95.5,-118.1 102.5,-118.1\"/>\n</g>\n<!-- r2 -->\n<g id=\"node5\" class=\"node\">\n<title>r2</title>\n<polygon fill=\"none\" stroke=\"black\" points=\"54,-252 0,-252 0,-216 54,-216 54,-252\"/>\n<text text-anchor=\"middle\" x=\"27\" y=\"-230.3\" font-family=\"fira-sans\" font-size=\"14.00\">r2</text>\n</g>\n<!-- r2&#45;&#45;b -->\n<g id=\"edge4\" class=\"edge\">\n<title>r2&#45;&#45;b</title>\n<path fill=\"none\" stroke=\"black\" d=\"M27,-215.7C27,-207.98 27,-198.71 27,-190.11\"/>\n<polygon fill=\"black\" stroke=\"black\" points=\"30.5,-190.1 27,-180.1 23.5,-190.1 30.5,-190.1\"/>\n</g>\n<!-- r1&#45;&#45;w -->\n<g id=\"edge2\" class=\"edge\">\n<title>r1&#45;&#45;w</title>\n<path fill=\"none\" stroke=\"black\" d=\"M99,-71.7C99,-63.98 99,-54.71 99,-46.11\"/>\n<polygon fill=\"black\" stroke=\"black\" points=\"102.5,-46.1 99,-36.1 95.5,-46.1 102.5,-46.1\"/>\n</g>\n<!-- r3 -->\n<g id=\"node7\" class=\"node\">\n<title>r3</title>\n<polygon fill=\"none\" stroke=\"black\" points=\"198,-252 144,-252 144,-216 198,-216 198,-252\"/>\n<text text-anchor=\"middle\" x=\"171\" y=\"-230.3\" font-family=\"fira-sans\" font-size=\"14.00\">r3</text>\n</g>\n<!-- r3&#45;&#45;o -->\n<g id=\"edge3\" class=\"edge\">\n<title>r3&#45;&#45;o</title>\n<path fill=\"none\" stroke=\"black\" d=\"M171,-215.7C171,-207.98 171,-198.71 171,-190.11\"/>\n<polygon fill=\"black\" stroke=\"black\" points=\"174.5,-190.1 171,-180.1 167.5,-190.1 174.5,-190.1\"/>\n</g>\n</g>\n</svg>\n",
      "text/plain": "<graphviz.graphs.Graph at 0x7facf1a15f90>"
     },
     "execution_count": 32,
     "metadata": {},
     "output_type": "execute_result"
    }
   ],
   "source": [
    "graphs = []\n",
    "for bpde in bpdes:\n",
    "    graph_prg = bpde_to_clingraph_prg(adf, bpde)\n",
    "    graphs.append(draw_graph([graph_prg, COMMON])['default'])\n",
    "print(len(graphs))\n",
    "graphs[0]"
   ],
   "metadata": {
    "collapsed": false,
    "pycharm": {
     "name": "#%%\n"
    }
   }
  },
  {
   "cell_type": "code",
   "execution_count": 33,
   "outputs": [
    {
     "name": "stdout",
     "output_type": "stream",
     "text": [
      "(p,{},{},{p},[p])\n"
     ]
    }
   ],
   "source": [
    "bpdes = backwards_pde(adf, p.as_classical_atom())\n",
    "for bpde in bpdes:\n",
    "    print_bpde(bpde)"
   ],
   "metadata": {
    "collapsed": false,
    "pycharm": {
     "name": "#%%\n"
    }
   }
  },
  {
   "cell_type": "code",
   "execution_count": 34,
   "outputs": [
    {
     "name": "stdout",
     "output_type": "stream",
     "text": [
      "1\n"
     ]
    },
    {
     "data": {
      "image/svg+xml": "<?xml version=\"1.0\" encoding=\"UTF-8\" standalone=\"no\"?>\n<!DOCTYPE svg PUBLIC \"-//W3C//DTD SVG 1.1//EN\"\n \"http://www.w3.org/Graphics/SVG/1.1/DTD/svg11.dtd\">\n<!-- Generated by graphviz version 3.0.0 (20220227.1548)\n -->\n<!-- Title: default Pages: 1 -->\n<svg width=\"62pt\" height=\"44pt\"\n viewBox=\"0.00 0.00 62.00 44.00\" xmlns=\"http://www.w3.org/2000/svg\" xmlns:xlink=\"http://www.w3.org/1999/xlink\">\n<g id=\"graph0\" class=\"graph\" transform=\"scale(1 1) rotate(0) translate(4 40)\">\n<title>default</title>\n<polygon fill=\"white\" stroke=\"transparent\" points=\"-4,4 -4,-40 58,-40 58,4 -4,4\"/>\n<!-- p -->\n<g id=\"node1\" class=\"node\">\n<title>p</title>\n<ellipse fill=\"none\" stroke=\"black\" cx=\"27\" cy=\"-18\" rx=\"27\" ry=\"18\"/>\n<text text-anchor=\"middle\" x=\"27\" y=\"-14.3\" font-family=\"fira-sans\" font-size=\"14.00\">p</text>\n</g>\n</g>\n</svg>\n",
      "text/plain": "<graphviz.graphs.Graph at 0x7facf19997e0>"
     },
     "execution_count": 34,
     "metadata": {},
     "output_type": "execute_result"
    }
   ],
   "source": [
    "graphs = []\n",
    "for bpde in bpdes:\n",
    "    graph_prg = bpde_to_clingraph_prg(adf, bpde)\n",
    "    graphs.append(draw_graph([graph_prg, COMMON])['default'])\n",
    "print(len(graphs))\n",
    "graphs[0]"
   ],
   "metadata": {
    "collapsed": false,
    "pycharm": {
     "name": "#%%\n"
    }
   }
  },
  {
   "cell_type": "code",
   "execution_count": 35,
   "outputs": [
    {
     "name": "stdout",
     "output_type": "stream",
     "text": [
      "(o,{o},{},{},[r3,o])\n"
     ]
    }
   ],
   "source": [
    "bpdes = backwards_pde(adf, o.as_classical_atom())\n",
    "for bpde in bpdes:\n",
    "    print_bpde(bpde)"
   ],
   "metadata": {
    "collapsed": false,
    "pycharm": {
     "name": "#%%\n"
    }
   }
  },
  {
   "cell_type": "code",
   "execution_count": 36,
   "outputs": [
    {
     "name": "stdout",
     "output_type": "stream",
     "text": [
      "1\n"
     ]
    },
    {
     "data": {
      "image/svg+xml": "<?xml version=\"1.0\" encoding=\"UTF-8\" standalone=\"no\"?>\n<!DOCTYPE svg PUBLIC \"-//W3C//DTD SVG 1.1//EN\"\n \"http://www.w3.org/Graphics/SVG/1.1/DTD/svg11.dtd\">\n<!-- Generated by graphviz version 3.0.0 (20220227.1548)\n -->\n<!-- Title: default Pages: 1 -->\n<svg width=\"62pt\" height=\"116pt\"\n viewBox=\"0.00 0.00 62.00 116.00\" xmlns=\"http://www.w3.org/2000/svg\" xmlns:xlink=\"http://www.w3.org/1999/xlink\">\n<g id=\"graph0\" class=\"graph\" transform=\"scale(1 1) rotate(0) translate(4 112)\">\n<title>default</title>\n<polygon fill=\"white\" stroke=\"transparent\" points=\"-4,4 -4,-112 58,-112 58,4 -4,4\"/>\n<!-- o -->\n<g id=\"node1\" class=\"node\">\n<title>o</title>\n<ellipse fill=\"none\" stroke=\"black\" cx=\"27\" cy=\"-18\" rx=\"27\" ry=\"18\"/>\n<text text-anchor=\"middle\" x=\"27\" y=\"-14.3\" font-family=\"fira-sans\" font-size=\"14.00\">o</text>\n</g>\n<!-- r3 -->\n<g id=\"node2\" class=\"node\">\n<title>r3</title>\n<polygon fill=\"none\" stroke=\"black\" points=\"54,-108 0,-108 0,-72 54,-72 54,-108\"/>\n<text text-anchor=\"middle\" x=\"27\" y=\"-86.3\" font-family=\"fira-sans\" font-size=\"14.00\">r3</text>\n</g>\n<!-- r3&#45;&#45;o -->\n<g id=\"edge1\" class=\"edge\">\n<title>r3&#45;&#45;o</title>\n<path fill=\"none\" stroke=\"black\" d=\"M27,-71.7C27,-63.98 27,-54.71 27,-46.11\"/>\n<polygon fill=\"black\" stroke=\"black\" points=\"30.5,-46.1 27,-36.1 23.5,-46.1 30.5,-46.1\"/>\n</g>\n</g>\n</svg>\n",
      "text/plain": "<graphviz.graphs.Graph at 0x7facf19734c0>"
     },
     "execution_count": 36,
     "metadata": {},
     "output_type": "execute_result"
    }
   ],
   "source": [
    "graphs = []\n",
    "for bpde in bpdes:\n",
    "    graph_prg = bpde_to_clingraph_prg(adf, bpde)\n",
    "    graphs.append(draw_graph([graph_prg, COMMON])['default'])\n",
    "print(len(graphs))\n",
    "graphs[0]"
   ],
   "metadata": {
    "collapsed": false,
    "pycharm": {
     "name": "#%%\n"
    }
   }
  },
  {
   "cell_type": "code",
   "execution_count": 37,
   "outputs": [
    {
     "name": "stdout",
     "output_type": "stream",
     "text": [
      "a :- not b.\n",
      "b :- not a.\n"
     ]
    }
   ],
   "source": [
    "a = ASPBasicLiteral.make_literal('a')\n",
    "b = ASPBasicLiteral.make_literal('b')\n",
    "\n",
    "r1 = ASPNormalRule(a, (-b,))\n",
    "r2 = ASPNormalRule(b, (-a,))\n",
    "\n",
    "rs = (r1, r2)\n",
    "\n",
    "prg = make_program(*rs)\n",
    "print(prg)"
   ],
   "metadata": {
    "collapsed": false,
    "pycharm": {
     "name": "#%%\n"
    }
   }
  },
  {
   "cell_type": "code",
   "execution_count": 38,
   "outputs": [
    {
     "name": "stdout",
     "output_type": "stream",
     "text": [
      "Answer 1: { b }\n",
      "Answer 2: { a }\n",
      "SAT 2\n"
     ]
    }
   ],
   "source": [
    "answer_sets = tuple(asp_evaluate(prg, report=True))"
   ],
   "metadata": {
    "collapsed": false,
    "pycharm": {
     "name": "#%%\n"
    }
   }
  },
  {
   "cell_type": "code",
   "execution_count": 39,
   "outputs": [
    {
     "name": "stdout",
     "output_type": "stream",
     "text": [
      "{a b r1 r2} <a: r1, r1: ¬b, b: r2, r2: ¬a>\n"
     ]
    }
   ],
   "source": [
    "adf = asp_to_adf(*rs)\n",
    "print(adf)"
   ],
   "metadata": {
    "collapsed": false,
    "pycharm": {
     "name": "#%%\n"
    }
   }
  },
  {
   "cell_type": "code",
   "execution_count": 40,
   "outputs": [
    {
     "name": "stdout",
     "output_type": "stream",
     "text": [
      "(a,{},{b},{},[r1,a])\n"
     ]
    }
   ],
   "source": [
    "bpdes = backwards_pde(adf, a.as_classical_atom())\n",
    "for bpde in bpdes:\n",
    "    print_bpde(bpde)"
   ],
   "metadata": {
    "collapsed": false,
    "pycharm": {
     "name": "#%%\n"
    }
   }
  },
  {
   "cell_type": "code",
   "execution_count": 41,
   "outputs": [
    {
     "name": "stdout",
     "output_type": "stream",
     "text": [
      "1\n"
     ]
    },
    {
     "data": {
      "image/svg+xml": "<?xml version=\"1.0\" encoding=\"UTF-8\" standalone=\"no\"?>\n<!DOCTYPE svg PUBLIC \"-//W3C//DTD SVG 1.1//EN\"\n \"http://www.w3.org/Graphics/SVG/1.1/DTD/svg11.dtd\">\n<!-- Generated by graphviz version 3.0.0 (20220227.1548)\n -->\n<!-- Title: default Pages: 1 -->\n<svg width=\"62pt\" height=\"188pt\"\n viewBox=\"0.00 0.00 62.00 188.00\" xmlns=\"http://www.w3.org/2000/svg\" xmlns:xlink=\"http://www.w3.org/1999/xlink\">\n<g id=\"graph0\" class=\"graph\" transform=\"scale(1 1) rotate(0) translate(4 184)\">\n<title>default</title>\n<polygon fill=\"white\" stroke=\"transparent\" points=\"-4,4 -4,-184 58,-184 58,4 -4,4\"/>\n<!-- b -->\n<g id=\"node1\" class=\"node\">\n<title>b</title>\n<ellipse fill=\"none\" stroke=\"black\" stroke-width=\"2\" cx=\"27\" cy=\"-162\" rx=\"27\" ry=\"18\"/>\n<text text-anchor=\"middle\" x=\"27\" y=\"-158.3\" font-family=\"fira-sans\" font-size=\"14.00\">b</text>\n</g>\n<!-- r1 -->\n<g id=\"node2\" class=\"node\">\n<title>r1</title>\n<polygon fill=\"none\" stroke=\"black\" points=\"54,-108 0,-108 0,-72 54,-72 54,-108\"/>\n<text text-anchor=\"middle\" x=\"27\" y=\"-86.3\" font-family=\"fira-sans\" font-size=\"14.00\">r1</text>\n</g>\n<!-- b&#45;&#45;r1 -->\n<g id=\"edge1\" class=\"edge\">\n<title>b&#45;&#45;r1</title>\n<path fill=\"none\" stroke=\"black\" stroke-dasharray=\"5,2\" d=\"M27,-143.7C27,-135.98 27,-126.71 27,-118.11\"/>\n<polygon fill=\"black\" stroke=\"black\" points=\"30.5,-118.1 27,-108.1 23.5,-118.1 30.5,-118.1\"/>\n</g>\n<!-- a -->\n<g id=\"node3\" class=\"node\">\n<title>a</title>\n<ellipse fill=\"none\" stroke=\"black\" cx=\"27\" cy=\"-18\" rx=\"27\" ry=\"18\"/>\n<text text-anchor=\"middle\" x=\"27\" y=\"-14.3\" font-family=\"fira-sans\" font-size=\"14.00\">a</text>\n</g>\n<!-- r1&#45;&#45;a -->\n<g id=\"edge2\" class=\"edge\">\n<title>r1&#45;&#45;a</title>\n<path fill=\"none\" stroke=\"black\" d=\"M27,-71.7C27,-63.98 27,-54.71 27,-46.11\"/>\n<polygon fill=\"black\" stroke=\"black\" points=\"30.5,-46.1 27,-36.1 23.5,-46.1 30.5,-46.1\"/>\n</g>\n</g>\n</svg>\n",
      "text/plain": "<graphviz.graphs.Graph at 0x7facf1a2c4f0>"
     },
     "execution_count": 41,
     "metadata": {},
     "output_type": "execute_result"
    }
   ],
   "source": [
    "graphs = []\n",
    "for bpde in bpdes:\n",
    "    graph_prg = bpde_to_clingraph_prg(adf, bpde)\n",
    "    graphs.append(draw_graph([graph_prg, COMMON])['default'])\n",
    "print(len(graphs))\n",
    "graphs[0]"
   ],
   "metadata": {
    "collapsed": false,
    "pycharm": {
     "name": "#%%\n"
    }
   }
  },
  {
   "cell_type": "code",
   "execution_count": 42,
   "outputs": [
    {
     "name": "stdout",
     "output_type": "stream",
     "text": [
      "(b,{},{a},{},[r2,b])\n"
     ]
    }
   ],
   "source": [
    "bpdes = backwards_pde(adf, b.as_classical_atom())\n",
    "for bpde in bpdes:\n",
    "    print_bpde(bpde)"
   ],
   "metadata": {
    "collapsed": false,
    "pycharm": {
     "name": "#%%\n"
    }
   }
  },
  {
   "cell_type": "code",
   "execution_count": 43,
   "outputs": [
    {
     "name": "stdout",
     "output_type": "stream",
     "text": [
      "a :- not b.\n",
      "b :- not a.\n"
     ]
    }
   ],
   "source": [
    "a = ASPBasicLiteral.make_literal('a')\n",
    "b = ASPBasicLiteral.make_literal('b')\n",
    "\n",
    "r1 = ASPNormalRule(a, (-b,))\n",
    "r2 = ASPNormalRule(b, (-a,))\n",
    "\n",
    "rs = (r1, r2)\n",
    "\n",
    "prg = make_program(*rs)\n",
    "print(prg)"
   ],
   "metadata": {
    "collapsed": false,
    "pycharm": {
     "name": "#%%\n"
    }
   }
  },
  {
   "cell_type": "code",
   "execution_count": 44,
   "outputs": [
    {
     "name": "stdout",
     "output_type": "stream",
     "text": [
      "a :- k, not b.\n",
      "k :- e, not b.\n",
      "c :- a, b.\n",
      "b :- not a.\n",
      "c :- k.\n",
      "f :- e, not k, not c.\n",
      "e.\n"
     ]
    }
   ],
   "source": [
    "a = ASPBasicLiteral.make_literal('a')\n",
    "b = ASPBasicLiteral.make_literal('b')\n",
    "c = ASPBasicLiteral.make_literal('c')\n",
    "e = ASPBasicLiteral.make_literal('e')\n",
    "f = ASPBasicLiteral.make_literal('f')\n",
    "k = ASPBasicLiteral.make_literal('k')\n",
    "\n",
    "r1 = ASPNormalRule(a, (k, -b))\n",
    "r2 = ASPNormalRule(k, (e, -b))\n",
    "r3 = ASPNormalRule(c, (a, b))\n",
    "r4 = ASPNormalRule(b, (-a,))\n",
    "r5 = ASPNormalRule(c, (k,))\n",
    "r6 = ASPNormalRule(f, (e, -k, -c))\n",
    "r7 = ASPNormalRule(e)\n",
    "\n",
    "rs = (r1, r2, r3, r4, r5, r6, r7)\n",
    "\n",
    "prg = make_program(*rs)\n",
    "print(prg)"
   ],
   "metadata": {
    "collapsed": false,
    "pycharm": {
     "name": "#%%\n"
    }
   }
  },
  {
   "cell_type": "code",
   "execution_count": 45,
   "outputs": [
    {
     "name": "stdout",
     "output_type": "stream",
     "text": [
      "Answer 1: { b e f }\n",
      "Answer 2: { a c e k }\n",
      "SAT 2\n"
     ]
    }
   ],
   "source": [
    "answer_sets = tuple(asp_evaluate(prg, report=True))"
   ],
   "metadata": {
    "collapsed": false,
    "pycharm": {
     "name": "#%%\n"
    }
   }
  },
  {
   "cell_type": "code",
   "execution_count": 46,
   "outputs": [
    {
     "name": "stdout",
     "output_type": "stream",
     "text": [
      "{r4 e r6 r7 r3 k r5 c b r2 f a r1} <a: r1, r1: k ∧ ¬b, k: r2, r2: ¬b ∧ e, c: r3 ∨ r5, r3: b ∧ a, b: r4, r4: ¬a, r5: k, f: r6, r6: ¬k ∧ e ∧ ¬c, e: r7, r7: ⊤>\n"
     ]
    }
   ],
   "source": [
    "adf = asp_to_adf(*rs)\n",
    "print(adf)"
   ],
   "metadata": {
    "collapsed": false,
    "pycharm": {
     "name": "#%%\n"
    }
   }
  },
  {
   "cell_type": "code",
   "execution_count": 47,
   "outputs": [
    {
     "name": "stdout",
     "output_type": "stream",
     "text": [
      "(f,{e},{c,k},{},[r7,e,r6,f])\n"
     ]
    }
   ],
   "source": [
    "bpdes = backwards_pde(adf, f.as_classical_atom())\n",
    "for bpde in bpdes:\n",
    "    print_bpde(bpde)"
   ],
   "metadata": {
    "collapsed": false,
    "pycharm": {
     "name": "#%%\n"
    }
   }
  },
  {
   "cell_type": "code",
   "execution_count": 48,
   "outputs": [
    {
     "name": "stdout",
     "output_type": "stream",
     "text": [
      "1\n"
     ]
    },
    {
     "data": {
      "image/svg+xml": "<?xml version=\"1.0\" encoding=\"UTF-8\" standalone=\"no\"?>\n<!DOCTYPE svg PUBLIC \"-//W3C//DTD SVG 1.1//EN\"\n \"http://www.w3.org/Graphics/SVG/1.1/DTD/svg11.dtd\">\n<!-- Generated by graphviz version 3.0.0 (20220227.1548)\n -->\n<!-- Title: default Pages: 1 -->\n<svg width=\"206pt\" height=\"260pt\"\n viewBox=\"0.00 0.00 206.00 260.00\" xmlns=\"http://www.w3.org/2000/svg\" xmlns:xlink=\"http://www.w3.org/1999/xlink\">\n<g id=\"graph0\" class=\"graph\" transform=\"scale(1 1) rotate(0) translate(4 256)\">\n<title>default</title>\n<polygon fill=\"white\" stroke=\"transparent\" points=\"-4,4 -4,-256 202,-256 202,4 -4,4\"/>\n<!-- e -->\n<g id=\"node1\" class=\"node\">\n<title>e</title>\n<ellipse fill=\"none\" stroke=\"black\" cx=\"171\" cy=\"-162\" rx=\"27\" ry=\"18\"/>\n<text text-anchor=\"middle\" x=\"171\" y=\"-158.3\" font-family=\"fira-sans\" font-size=\"14.00\">e</text>\n</g>\n<!-- r6 -->\n<g id=\"node6\" class=\"node\">\n<title>r6</title>\n<polygon fill=\"none\" stroke=\"black\" points=\"126,-108 72,-108 72,-72 126,-72 126,-108\"/>\n<text text-anchor=\"middle\" x=\"99\" y=\"-86.3\" font-family=\"fira-sans\" font-size=\"14.00\">r6</text>\n</g>\n<!-- e&#45;&#45;r6 -->\n<g id=\"edge5\" class=\"edge\">\n<title>e&#45;&#45;r6</title>\n<path fill=\"none\" stroke=\"black\" d=\"M156.43,-146.83C147.08,-137.75 134.7,-125.71 123.83,-115.14\"/>\n<polygon fill=\"black\" stroke=\"black\" points=\"126.21,-112.57 116.6,-108.11 121.33,-117.59 126.21,-112.57\"/>\n</g>\n<!-- c -->\n<g id=\"node2\" class=\"node\">\n<title>c</title>\n<ellipse fill=\"none\" stroke=\"black\" stroke-width=\"2\" cx=\"27\" cy=\"-162\" rx=\"27\" ry=\"18\"/>\n<text text-anchor=\"middle\" x=\"27\" y=\"-158.3\" font-family=\"fira-sans\" font-size=\"14.00\">c</text>\n</g>\n<!-- c&#45;&#45;r6 -->\n<g id=\"edge4\" class=\"edge\">\n<title>c&#45;&#45;r6</title>\n<path fill=\"none\" stroke=\"black\" stroke-dasharray=\"5,2\" d=\"M41.57,-146.83C50.92,-137.75 63.3,-125.71 74.17,-115.14\"/>\n<polygon fill=\"black\" stroke=\"black\" points=\"76.67,-117.59 81.4,-108.11 71.79,-112.57 76.67,-117.59\"/>\n</g>\n<!-- r7 -->\n<g id=\"node3\" class=\"node\">\n<title>r7</title>\n<polygon fill=\"none\" stroke=\"black\" points=\"198,-252 144,-252 144,-216 198,-216 198,-252\"/>\n<text text-anchor=\"middle\" x=\"171\" y=\"-230.3\" font-family=\"fira-sans\" font-size=\"14.00\">r7</text>\n</g>\n<!-- r7&#45;&#45;e -->\n<g id=\"edge1\" class=\"edge\">\n<title>r7&#45;&#45;e</title>\n<path fill=\"none\" stroke=\"black\" d=\"M171,-215.7C171,-207.98 171,-198.71 171,-190.11\"/>\n<polygon fill=\"black\" stroke=\"black\" points=\"174.5,-190.1 171,-180.1 167.5,-190.1 174.5,-190.1\"/>\n</g>\n<!-- f -->\n<g id=\"node4\" class=\"node\">\n<title>f</title>\n<ellipse fill=\"none\" stroke=\"black\" cx=\"99\" cy=\"-18\" rx=\"27\" ry=\"18\"/>\n<text text-anchor=\"middle\" x=\"99\" y=\"-14.3\" font-family=\"fira-sans\" font-size=\"14.00\">f</text>\n</g>\n<!-- k -->\n<g id=\"node5\" class=\"node\">\n<title>k</title>\n<ellipse fill=\"none\" stroke=\"black\" stroke-width=\"2\" cx=\"99\" cy=\"-162\" rx=\"27\" ry=\"18\"/>\n<text text-anchor=\"middle\" x=\"99\" y=\"-158.3\" font-family=\"fira-sans\" font-size=\"14.00\">k</text>\n</g>\n<!-- k&#45;&#45;r6 -->\n<g id=\"edge3\" class=\"edge\">\n<title>k&#45;&#45;r6</title>\n<path fill=\"none\" stroke=\"black\" stroke-dasharray=\"5,2\" d=\"M99,-143.7C99,-135.98 99,-126.71 99,-118.11\"/>\n<polygon fill=\"black\" stroke=\"black\" points=\"102.5,-118.1 99,-108.1 95.5,-118.1 102.5,-118.1\"/>\n</g>\n<!-- r6&#45;&#45;f -->\n<g id=\"edge2\" class=\"edge\">\n<title>r6&#45;&#45;f</title>\n<path fill=\"none\" stroke=\"black\" d=\"M99,-71.7C99,-63.98 99,-54.71 99,-46.11\"/>\n<polygon fill=\"black\" stroke=\"black\" points=\"102.5,-46.1 99,-36.1 95.5,-46.1 102.5,-46.1\"/>\n</g>\n</g>\n</svg>\n",
      "text/plain": "<graphviz.graphs.Graph at 0x7facf1a2ce80>"
     },
     "execution_count": 48,
     "metadata": {},
     "output_type": "execute_result"
    }
   ],
   "source": [
    "graphs = []\n",
    "for bpde in bpdes:\n",
    "    graph_prg = bpde_to_clingraph_prg(adf, bpde)\n",
    "    graphs.append(draw_graph([graph_prg, COMMON])['default'])\n",
    "print(len(graphs))\n",
    "graphs[0]"
   ],
   "metadata": {
    "collapsed": false,
    "pycharm": {
     "name": "#%%\n"
    }
   }
  },
  {
   "cell_type": "code",
   "execution_count": 49,
   "outputs": [
    {
     "name": "stdout",
     "output_type": "stream",
     "text": [
      "(b,{},{a},{},[r4,b])\n"
     ]
    }
   ],
   "source": [
    "bpdes = backwards_pde(adf, b.as_classical_atom())\n",
    "for bpde in bpdes:\n",
    "    print_bpde(bpde)"
   ],
   "metadata": {
    "collapsed": false,
    "pycharm": {
     "name": "#%%\n"
    }
   }
  },
  {
   "cell_type": "code",
   "execution_count": 50,
   "outputs": [
    {
     "name": "stdout",
     "output_type": "stream",
     "text": [
      "1\n"
     ]
    },
    {
     "data": {
      "image/svg+xml": "<?xml version=\"1.0\" encoding=\"UTF-8\" standalone=\"no\"?>\n<!DOCTYPE svg PUBLIC \"-//W3C//DTD SVG 1.1//EN\"\n \"http://www.w3.org/Graphics/SVG/1.1/DTD/svg11.dtd\">\n<!-- Generated by graphviz version 3.0.0 (20220227.1548)\n -->\n<!-- Title: default Pages: 1 -->\n<svg width=\"62pt\" height=\"188pt\"\n viewBox=\"0.00 0.00 62.00 188.00\" xmlns=\"http://www.w3.org/2000/svg\" xmlns:xlink=\"http://www.w3.org/1999/xlink\">\n<g id=\"graph0\" class=\"graph\" transform=\"scale(1 1) rotate(0) translate(4 184)\">\n<title>default</title>\n<polygon fill=\"white\" stroke=\"transparent\" points=\"-4,4 -4,-184 58,-184 58,4 -4,4\"/>\n<!-- b -->\n<g id=\"node1\" class=\"node\">\n<title>b</title>\n<ellipse fill=\"none\" stroke=\"black\" cx=\"27\" cy=\"-18\" rx=\"27\" ry=\"18\"/>\n<text text-anchor=\"middle\" x=\"27\" y=\"-14.3\" font-family=\"fira-sans\" font-size=\"14.00\">b</text>\n</g>\n<!-- a -->\n<g id=\"node2\" class=\"node\">\n<title>a</title>\n<ellipse fill=\"none\" stroke=\"black\" stroke-width=\"2\" cx=\"27\" cy=\"-162\" rx=\"27\" ry=\"18\"/>\n<text text-anchor=\"middle\" x=\"27\" y=\"-158.3\" font-family=\"fira-sans\" font-size=\"14.00\">a</text>\n</g>\n<!-- r4 -->\n<g id=\"node3\" class=\"node\">\n<title>r4</title>\n<polygon fill=\"none\" stroke=\"black\" points=\"54,-108 0,-108 0,-72 54,-72 54,-108\"/>\n<text text-anchor=\"middle\" x=\"27\" y=\"-86.3\" font-family=\"fira-sans\" font-size=\"14.00\">r4</text>\n</g>\n<!-- a&#45;&#45;r4 -->\n<g id=\"edge2\" class=\"edge\">\n<title>a&#45;&#45;r4</title>\n<path fill=\"none\" stroke=\"black\" stroke-dasharray=\"5,2\" d=\"M27,-143.7C27,-135.98 27,-126.71 27,-118.11\"/>\n<polygon fill=\"black\" stroke=\"black\" points=\"30.5,-118.1 27,-108.1 23.5,-118.1 30.5,-118.1\"/>\n</g>\n<!-- r4&#45;&#45;b -->\n<g id=\"edge1\" class=\"edge\">\n<title>r4&#45;&#45;b</title>\n<path fill=\"none\" stroke=\"black\" d=\"M27,-71.7C27,-63.98 27,-54.71 27,-46.11\"/>\n<polygon fill=\"black\" stroke=\"black\" points=\"30.5,-46.1 27,-36.1 23.5,-46.1 30.5,-46.1\"/>\n</g>\n</g>\n</svg>\n",
      "text/plain": "<graphviz.graphs.Graph at 0x7facf1a17880>"
     },
     "execution_count": 50,
     "metadata": {},
     "output_type": "execute_result"
    }
   ],
   "source": [
    "graphs = []\n",
    "for bpde in bpdes:\n",
    "    graph_prg = bpde_to_clingraph_prg(adf, bpde)\n",
    "    graphs.append(draw_graph([graph_prg, COMMON])['default'])\n",
    "print(len(graphs))\n",
    "graphs[0]"
   ],
   "metadata": {
    "collapsed": false,
    "pycharm": {
     "name": "#%%\n"
    }
   }
  },
  {
   "cell_type": "code",
   "execution_count": 51,
   "outputs": [
    {
     "name": "stdout",
     "output_type": "stream",
     "text": [
      "(a,{e},{b},{},[r7,e,r2,k,r1,a])\n"
     ]
    }
   ],
   "source": [
    "bpdes = backwards_pde(adf, a.as_classical_atom())\n",
    "for bpde in bpdes:\n",
    "    print_bpde(bpde)"
   ],
   "metadata": {
    "collapsed": false,
    "pycharm": {
     "name": "#%%\n"
    }
   }
  },
  {
   "cell_type": "code",
   "execution_count": 52,
   "outputs": [
    {
     "name": "stdout",
     "output_type": "stream",
     "text": [
      "1\n"
     ]
    },
    {
     "data": {
      "image/svg+xml": "<?xml version=\"1.0\" encoding=\"UTF-8\" standalone=\"no\"?>\n<!DOCTYPE svg PUBLIC \"-//W3C//DTD SVG 1.1//EN\"\n \"http://www.w3.org/Graphics/SVG/1.1/DTD/svg11.dtd\">\n<!-- Generated by graphviz version 3.0.0 (20220227.1548)\n -->\n<!-- Title: default Pages: 1 -->\n<svg width=\"134pt\" height=\"404pt\"\n viewBox=\"0.00 0.00 134.00 404.00\" xmlns=\"http://www.w3.org/2000/svg\" xmlns:xlink=\"http://www.w3.org/1999/xlink\">\n<g id=\"graph0\" class=\"graph\" transform=\"scale(1 1) rotate(0) translate(4 400)\">\n<title>default</title>\n<polygon fill=\"white\" stroke=\"transparent\" points=\"-4,4 -4,-400 130,-400 130,4 -4,4\"/>\n<!-- e -->\n<g id=\"node1\" class=\"node\">\n<title>e</title>\n<ellipse fill=\"none\" stroke=\"black\" cx=\"27\" cy=\"-306\" rx=\"27\" ry=\"18\"/>\n<text text-anchor=\"middle\" x=\"27\" y=\"-302.3\" font-family=\"fira-sans\" font-size=\"14.00\">e</text>\n</g>\n<!-- r2 -->\n<g id=\"node5\" class=\"node\">\n<title>r2</title>\n<polygon fill=\"none\" stroke=\"black\" points=\"71,-252 17,-252 17,-216 71,-216 71,-252\"/>\n<text text-anchor=\"middle\" x=\"44\" y=\"-230.3\" font-family=\"fira-sans\" font-size=\"14.00\">r2</text>\n</g>\n<!-- e&#45;&#45;r2 -->\n<g id=\"edge7\" class=\"edge\">\n<title>e&#45;&#45;r2</title>\n<path fill=\"none\" stroke=\"black\" d=\"M31.12,-288.05C33.01,-280.26 35.3,-270.82 37.42,-262.08\"/>\n<polygon fill=\"black\" stroke=\"black\" points=\"40.85,-262.82 39.8,-252.28 34.04,-261.17 40.85,-262.82\"/>\n</g>\n<!-- r7 -->\n<g id=\"node2\" class=\"node\">\n<title>r7</title>\n<polygon fill=\"none\" stroke=\"black\" points=\"54,-396 0,-396 0,-360 54,-360 54,-396\"/>\n<text text-anchor=\"middle\" x=\"27\" y=\"-374.3\" font-family=\"fira-sans\" font-size=\"14.00\">r7</text>\n</g>\n<!-- r7&#45;&#45;e -->\n<g id=\"edge1\" class=\"edge\">\n<title>r7&#45;&#45;e</title>\n<path fill=\"none\" stroke=\"black\" d=\"M27,-359.7C27,-351.98 27,-342.71 27,-334.11\"/>\n<polygon fill=\"black\" stroke=\"black\" points=\"30.5,-334.1 27,-324.1 23.5,-334.1 30.5,-334.1\"/>\n</g>\n<!-- b -->\n<g id=\"node3\" class=\"node\">\n<title>b</title>\n<ellipse fill=\"none\" stroke=\"black\" stroke-width=\"2\" cx=\"99\" cy=\"-306\" rx=\"27\" ry=\"18\"/>\n<text text-anchor=\"middle\" x=\"99\" y=\"-302.3\" font-family=\"fira-sans\" font-size=\"14.00\">b</text>\n</g>\n<!-- b&#45;&#45;r2 -->\n<g id=\"edge6\" class=\"edge\">\n<title>b&#45;&#45;r2</title>\n<path fill=\"none\" stroke=\"black\" stroke-dasharray=\"5,2\" d=\"M87.07,-289.81C80.25,-281.14 71.54,-270.05 63.74,-260.12\"/>\n<polygon fill=\"black\" stroke=\"black\" points=\"66.39,-257.83 57.46,-252.13 60.88,-262.15 66.39,-257.83\"/>\n</g>\n<!-- r1 -->\n<g id=\"node6\" class=\"node\">\n<title>r1</title>\n<polygon fill=\"none\" stroke=\"black\" points=\"98,-108 44,-108 44,-72 98,-72 98,-108\"/>\n<text text-anchor=\"middle\" x=\"71\" y=\"-86.3\" font-family=\"fira-sans\" font-size=\"14.00\">r1</text>\n</g>\n<!-- b&#45;&#45;r1 -->\n<g id=\"edge3\" class=\"edge\">\n<title>b&#45;&#45;r1</title>\n<path fill=\"none\" stroke=\"black\" stroke-dasharray=\"5,2\" d=\"M97.24,-287.57C94.18,-257.99 87.49,-196.1 80,-144 78.79,-135.56 77.29,-126.38 75.87,-118.08\"/>\n<polygon fill=\"black\" stroke=\"black\" points=\"79.31,-117.4 74.14,-108.15 72.41,-118.6 79.31,-117.4\"/>\n</g>\n<!-- k -->\n<g id=\"node4\" class=\"node\">\n<title>k</title>\n<ellipse fill=\"none\" stroke=\"black\" cx=\"44\" cy=\"-162\" rx=\"27\" ry=\"18\"/>\n<text text-anchor=\"middle\" x=\"44\" y=\"-158.3\" font-family=\"fira-sans\" font-size=\"14.00\">k</text>\n</g>\n<!-- k&#45;&#45;r1 -->\n<g id=\"edge2\" class=\"edge\">\n<title>k&#45;&#45;r1</title>\n<path fill=\"none\" stroke=\"black\" d=\"M50.4,-144.41C53.44,-136.54 57.14,-126.93 60.57,-118.04\"/>\n<polygon fill=\"black\" stroke=\"black\" points=\"63.94,-119.04 64.27,-108.45 57.41,-116.52 63.94,-119.04\"/>\n</g>\n<!-- r2&#45;&#45;k -->\n<g id=\"edge4\" class=\"edge\">\n<title>r2&#45;&#45;k</title>\n<path fill=\"none\" stroke=\"black\" d=\"M44,-215.7C44,-207.98 44,-198.71 44,-190.11\"/>\n<polygon fill=\"black\" stroke=\"black\" points=\"47.5,-190.1 44,-180.1 40.5,-190.1 47.5,-190.1\"/>\n</g>\n<!-- a -->\n<g id=\"node7\" class=\"node\">\n<title>a</title>\n<ellipse fill=\"none\" stroke=\"black\" cx=\"71\" cy=\"-18\" rx=\"27\" ry=\"18\"/>\n<text text-anchor=\"middle\" x=\"71\" y=\"-14.3\" font-family=\"fira-sans\" font-size=\"14.00\">a</text>\n</g>\n<!-- r1&#45;&#45;a -->\n<g id=\"edge5\" class=\"edge\">\n<title>r1&#45;&#45;a</title>\n<path fill=\"none\" stroke=\"black\" d=\"M71,-71.7C71,-63.98 71,-54.71 71,-46.11\"/>\n<polygon fill=\"black\" stroke=\"black\" points=\"74.5,-46.1 71,-36.1 67.5,-46.1 74.5,-46.1\"/>\n</g>\n</g>\n</svg>\n",
      "text/plain": "<graphviz.graphs.Graph at 0x7facf1b41f60>"
     },
     "execution_count": 52,
     "metadata": {},
     "output_type": "execute_result"
    }
   ],
   "source": [
    "graphs = []\n",
    "for bpde in bpdes:\n",
    "    graph_prg = bpde_to_clingraph_prg(adf, bpde)\n",
    "    graphs.append(draw_graph([graph_prg, COMMON])['default'])\n",
    "print(len(graphs))\n",
    "graphs[0]"
   ],
   "metadata": {
    "collapsed": false,
    "pycharm": {
     "name": "#%%\n"
    }
   }
  },
  {
   "cell_type": "code",
   "execution_count": 53,
   "outputs": [
    {
     "name": "stdout",
     "output_type": "stream",
     "text": [
      "(c,{e},{a,b},{},[r7,e,r2,k,r1,a,r4,b,r3,c])\n",
      "(c,{e},{b},{},[r7,e,r2,k,r5,c])\n"
     ]
    }
   ],
   "source": [
    "bpdes = backwards_pde(adf, c.as_classical_atom())\n",
    "for bpde in bpdes:\n",
    "    print_bpde(bpde)"
   ],
   "metadata": {
    "collapsed": false,
    "pycharm": {
     "name": "#%%\n"
    }
   }
  },
  {
   "cell_type": "code",
   "execution_count": 54,
   "outputs": [
    {
     "name": "stdout",
     "output_type": "stream",
     "text": [
      "2\n"
     ]
    },
    {
     "data": {
      "image/svg+xml": "<?xml version=\"1.0\" encoding=\"UTF-8\" standalone=\"no\"?>\n<!DOCTYPE svg PUBLIC \"-//W3C//DTD SVG 1.1//EN\"\n \"http://www.w3.org/Graphics/SVG/1.1/DTD/svg11.dtd\">\n<!-- Generated by graphviz version 3.0.0 (20220227.1548)\n -->\n<!-- Title: default Pages: 1 -->\n<svg width=\"143pt\" height=\"692pt\"\n viewBox=\"0.00 0.00 143.20 692.00\" xmlns=\"http://www.w3.org/2000/svg\" xmlns:xlink=\"http://www.w3.org/1999/xlink\">\n<g id=\"graph0\" class=\"graph\" transform=\"scale(1 1) rotate(0) translate(4 688)\">\n<title>default</title>\n<polygon fill=\"white\" stroke=\"transparent\" points=\"-4,4 -4,-688 139.2,-688 139.2,4 -4,4\"/>\n<!-- e -->\n<g id=\"node1\" class=\"node\">\n<title>e</title>\n<ellipse fill=\"none\" stroke=\"black\" cx=\"27\" cy=\"-594\" rx=\"27\" ry=\"18\"/>\n<text text-anchor=\"middle\" x=\"27\" y=\"-590.3\" font-family=\"fira-sans\" font-size=\"14.00\">e</text>\n</g>\n<!-- r2 -->\n<g id=\"node8\" class=\"node\">\n<title>r2</title>\n<polygon fill=\"none\" stroke=\"black\" points=\"54,-540 0,-540 0,-504 54,-504 54,-540\"/>\n<text text-anchor=\"middle\" x=\"27\" y=\"-518.3\" font-family=\"fira-sans\" font-size=\"14.00\">r2</text>\n</g>\n<!-- e&#45;&#45;r2 -->\n<g id=\"edge11\" class=\"edge\">\n<title>e&#45;&#45;r2</title>\n<path fill=\"none\" stroke=\"black\" d=\"M27,-575.7C27,-567.98 27,-558.71 27,-550.11\"/>\n<polygon fill=\"black\" stroke=\"black\" points=\"30.5,-550.1 27,-540.1 23.5,-550.1 30.5,-550.1\"/>\n</g>\n<!-- c -->\n<g id=\"node2\" class=\"node\">\n<title>c</title>\n<ellipse fill=\"none\" stroke=\"black\" cx=\"71\" cy=\"-18\" rx=\"27\" ry=\"18\"/>\n<text text-anchor=\"middle\" x=\"71\" y=\"-14.3\" font-family=\"fira-sans\" font-size=\"14.00\">c</text>\n</g>\n<!-- r7 -->\n<g id=\"node3\" class=\"node\">\n<title>r7</title>\n<polygon fill=\"none\" stroke=\"black\" points=\"54,-684 0,-684 0,-648 54,-648 54,-684\"/>\n<text text-anchor=\"middle\" x=\"27\" y=\"-662.3\" font-family=\"fira-sans\" font-size=\"14.00\">r7</text>\n</g>\n<!-- r7&#45;&#45;e -->\n<g id=\"edge1\" class=\"edge\">\n<title>r7&#45;&#45;e</title>\n<path fill=\"none\" stroke=\"black\" d=\"M27,-647.7C27,-639.98 27,-630.71 27,-622.11\"/>\n<polygon fill=\"black\" stroke=\"black\" points=\"30.5,-622.1 27,-612.1 23.5,-622.1 30.5,-622.1\"/>\n</g>\n<!-- r4 -->\n<g id=\"node4\" class=\"node\">\n<title>r4</title>\n<polygon fill=\"none\" stroke=\"black\" points=\"120,-252 66,-252 66,-216 120,-216 120,-252\"/>\n<text text-anchor=\"middle\" x=\"93\" y=\"-230.3\" font-family=\"fira-sans\" font-size=\"14.00\">r4</text>\n</g>\n<!-- b -->\n<g id=\"node5\" class=\"node\">\n<title>b</title>\n<ellipse fill=\"none\" stroke=\"black\" stroke-width=\"2\" cx=\"66\" cy=\"-162\" rx=\"27\" ry=\"18\"/>\n<text text-anchor=\"middle\" x=\"66\" y=\"-158.3\" font-family=\"fira-sans\" font-size=\"14.00\">b</text>\n</g>\n<!-- r4&#45;&#45;b -->\n<g id=\"edge3\" class=\"edge\">\n<title>r4&#45;&#45;b</title>\n<path fill=\"none\" stroke=\"black\" d=\"M86.33,-215.7C83.24,-207.7 79.51,-198.02 76.09,-189.15\"/>\n<polygon fill=\"black\" stroke=\"black\" points=\"79.28,-187.69 72.41,-179.62 72.74,-190.21 79.28,-187.69\"/>\n</g>\n<!-- b&#45;&#45;r2 -->\n<g id=\"edge10\" class=\"edge\">\n<title>b&#45;&#45;r2</title>\n<path fill=\"none\" stroke=\"black\" stroke-dasharray=\"5,2\" d=\"M53.59,-178.1C34.47,-202.95 0,-254.71 0,-305 0,-379 0,-379 0,-379 0,-419.5 10.73,-465.37 18.66,-493.74\"/>\n<polygon fill=\"black\" stroke=\"black\" points=\"15.4,-495.07 21.54,-503.71 22.13,-493.13 15.4,-495.07\"/>\n</g>\n<!-- r3 -->\n<g id=\"node9\" class=\"node\">\n<title>r3</title>\n<polygon fill=\"none\" stroke=\"black\" points=\"134,-108 80,-108 80,-72 134,-72 134,-108\"/>\n<text text-anchor=\"middle\" x=\"107\" y=\"-86.3\" font-family=\"fira-sans\" font-size=\"14.00\">r3</text>\n</g>\n<!-- b&#45;&#45;r3 -->\n<g id=\"edge5\" class=\"edge\">\n<title>b&#45;&#45;r3</title>\n<path fill=\"none\" stroke=\"black\" d=\"M75.51,-144.76C80.34,-136.53 86.31,-126.32 91.76,-117.02\"/>\n<polygon fill=\"black\" stroke=\"black\" points=\"94.94,-118.52 96.97,-108.12 88.9,-114.98 94.94,-118.52\"/>\n</g>\n<!-- r1 -->\n<g id=\"node10\" class=\"node\">\n<title>r1</title>\n<polygon fill=\"none\" stroke=\"black\" points=\"82,-396 28,-396 28,-360 82,-360 82,-396\"/>\n<text text-anchor=\"middle\" x=\"55\" y=\"-374.3\" font-family=\"fira-sans\" font-size=\"14.00\">r1</text>\n</g>\n<!-- b&#45;&#45;r1 -->\n<g id=\"edge4\" class=\"edge\">\n<title>b&#45;&#45;r1</title>\n<path fill=\"none\" stroke=\"black\" stroke-dasharray=\"5,2\" d=\"M62.4,-180.1C60.4,-190.44 58.09,-203.92 57,-216 52.78,-262.57 53.22,-317.02 54.03,-349.17\"/>\n<polygon fill=\"black\" stroke=\"black\" points=\"50.55,-349.67 54.33,-359.56 57.54,-349.47 50.55,-349.67\"/>\n</g>\n<!-- r5 -->\n<g id=\"node6\" class=\"node\">\n<title>r5</title>\n<ellipse fill=\"none\" stroke=\"black\" cx=\"35\" cy=\"-90\" rx=\"27\" ry=\"18\"/>\n<text text-anchor=\"middle\" x=\"35\" y=\"-86.3\" font-family=\"fira-sans\" font-size=\"14.00\">r5</text>\n</g>\n<!-- r5&#45;&#45;c -->\n<g id=\"edge12\" class=\"edge\">\n<title>r5&#45;&#45;c</title>\n<path fill=\"none\" stroke=\"black\" d=\"M43.35,-72.76C47.71,-64.28 53.15,-53.71 58.04,-44.2\"/>\n<polygon fill=\"black\" stroke=\"black\" points=\"61.23,-45.64 62.7,-35.15 55.01,-42.44 61.23,-45.64\"/>\n</g>\n<!-- k -->\n<g id=\"node7\" class=\"node\">\n<title>k</title>\n<ellipse fill=\"none\" stroke=\"black\" cx=\"55\" cy=\"-450\" rx=\"27\" ry=\"18\"/>\n<text text-anchor=\"middle\" x=\"55\" y=\"-446.3\" font-family=\"fira-sans\" font-size=\"14.00\">k</text>\n</g>\n<!-- k&#45;&#45;r1 -->\n<g id=\"edge2\" class=\"edge\">\n<title>k&#45;&#45;r1</title>\n<path fill=\"none\" stroke=\"black\" d=\"M55,-431.7C55,-423.98 55,-414.71 55,-406.11\"/>\n<polygon fill=\"black\" stroke=\"black\" points=\"58.5,-406.1 55,-396.1 51.5,-406.1 58.5,-406.1\"/>\n</g>\n<!-- r2&#45;&#45;k -->\n<g id=\"edge7\" class=\"edge\">\n<title>r2&#45;&#45;k</title>\n<path fill=\"none\" stroke=\"black\" d=\"M33.92,-503.7C37.12,-495.7 40.99,-486.02 44.54,-477.15\"/>\n<polygon fill=\"black\" stroke=\"black\" points=\"47.89,-478.21 48.35,-467.62 41.39,-475.61 47.89,-478.21\"/>\n</g>\n<!-- r3&#45;&#45;c -->\n<g id=\"edge6\" class=\"edge\">\n<title>r3&#45;&#45;c</title>\n<path fill=\"none\" stroke=\"black\" d=\"M98.1,-71.7C93.84,-63.4 88.65,-53.31 83.95,-44.19\"/>\n<polygon fill=\"black\" stroke=\"black\" points=\"86.99,-42.44 79.3,-35.14 80.76,-45.64 86.99,-42.44\"/>\n</g>\n<!-- a -->\n<g id=\"node11\" class=\"node\">\n<title>a</title>\n<ellipse fill=\"none\" stroke=\"black\" stroke-width=\"2\" cx=\"93\" cy=\"-306\" rx=\"27\" ry=\"18\"/>\n<text text-anchor=\"middle\" x=\"93\" y=\"-302.3\" font-family=\"fira-sans\" font-size=\"14.00\">a</text>\n</g>\n<!-- r1&#45;&#45;a -->\n<g id=\"edge8\" class=\"edge\">\n<title>r1&#45;&#45;a</title>\n<path fill=\"none\" stroke=\"black\" d=\"M64.39,-359.7C68.9,-351.4 74.37,-341.31 79.33,-332.19\"/>\n<polygon fill=\"black\" stroke=\"black\" points=\"82.54,-333.6 84.24,-323.14 76.39,-330.26 82.54,-333.6\"/>\n</g>\n<!-- a&#45;&#45;r4 -->\n<g id=\"edge9\" class=\"edge\">\n<title>a&#45;&#45;r4</title>\n<path fill=\"none\" stroke=\"black\" stroke-dasharray=\"5,2\" d=\"M93,-287.7C93,-279.98 93,-270.71 93,-262.11\"/>\n<polygon fill=\"black\" stroke=\"black\" points=\"96.5,-262.1 93,-252.1 89.5,-262.1 96.5,-262.1\"/>\n</g>\n<!-- a&#45;&#45;r3 -->\n<g id=\"edge13\" class=\"edge\">\n<title>a&#45;&#45;r3</title>\n<path fill=\"none\" stroke=\"black\" d=\"M106.75,-290.07C114.96,-280.1 124.62,-266.25 129,-252 143.07,-206.26 128.83,-150.44 117.62,-117.99\"/>\n<polygon fill=\"black\" stroke=\"black\" points=\"120.82,-116.53 114.13,-108.31 114.24,-118.91 120.82,-116.53\"/>\n</g>\n</g>\n</svg>\n",
      "text/plain": "<graphviz.graphs.Graph at 0x7facf1167970>"
     },
     "execution_count": 54,
     "metadata": {},
     "output_type": "execute_result"
    }
   ],
   "source": [
    "graphs = []\n",
    "for bpde in bpdes:\n",
    "    graph_prg = bpde_to_clingraph_prg(adf, bpde)\n",
    "    graphs.append(draw_graph([graph_prg, COMMON])['default'])\n",
    "print(len(graphs))\n",
    "graphs[0]"
   ],
   "metadata": {
    "collapsed": false,
    "pycharm": {
     "name": "#%%\n"
    }
   }
  },
  {
   "cell_type": "code",
   "execution_count": 55,
   "outputs": [
    {
     "data": {
      "image/svg+xml": "<?xml version=\"1.0\" encoding=\"UTF-8\" standalone=\"no\"?>\n<!DOCTYPE svg PUBLIC \"-//W3C//DTD SVG 1.1//EN\"\n \"http://www.w3.org/Graphics/SVG/1.1/DTD/svg11.dtd\">\n<!-- Generated by graphviz version 3.0.0 (20220227.1548)\n -->\n<!-- Title: default Pages: 1 -->\n<svg width=\"170pt\" height=\"404pt\"\n viewBox=\"0.00 0.00 170.00 404.00\" xmlns=\"http://www.w3.org/2000/svg\" xmlns:xlink=\"http://www.w3.org/1999/xlink\">\n<g id=\"graph0\" class=\"graph\" transform=\"scale(1 1) rotate(0) translate(4 400)\">\n<title>default</title>\n<polygon fill=\"white\" stroke=\"transparent\" points=\"-4,4 -4,-400 166,-400 166,4 -4,4\"/>\n<!-- e -->\n<g id=\"node1\" class=\"node\">\n<title>e</title>\n<ellipse fill=\"none\" stroke=\"black\" cx=\"135\" cy=\"-306\" rx=\"27\" ry=\"18\"/>\n<text text-anchor=\"middle\" x=\"135\" y=\"-302.3\" font-family=\"fira-sans\" font-size=\"14.00\">e</text>\n</g>\n<!-- r2 -->\n<g id=\"node7\" class=\"node\">\n<title>r2</title>\n<polygon fill=\"none\" stroke=\"black\" points=\"126,-252 72,-252 72,-216 126,-216 126,-252\"/>\n<text text-anchor=\"middle\" x=\"99\" y=\"-230.3\" font-family=\"fira-sans\" font-size=\"14.00\">r2</text>\n</g>\n<!-- e&#45;&#45;r2 -->\n<g id=\"edge6\" class=\"edge\">\n<title>e&#45;&#45;r2</title>\n<path fill=\"none\" stroke=\"black\" d=\"M126.65,-288.76C122.46,-280.61 117.27,-270.53 112.53,-261.31\"/>\n<polygon fill=\"black\" stroke=\"black\" points=\"115.49,-259.42 107.81,-252.12 109.27,-262.62 115.49,-259.42\"/>\n</g>\n<!-- c -->\n<g id=\"node2\" class=\"node\">\n<title>c</title>\n<ellipse fill=\"none\" stroke=\"black\" cx=\"63\" cy=\"-18\" rx=\"27\" ry=\"18\"/>\n<text text-anchor=\"middle\" x=\"63\" y=\"-14.3\" font-family=\"fira-sans\" font-size=\"14.00\">c</text>\n</g>\n<!-- r7 -->\n<g id=\"node3\" class=\"node\">\n<title>r7</title>\n<polygon fill=\"none\" stroke=\"black\" points=\"162,-396 108,-396 108,-360 162,-360 162,-396\"/>\n<text text-anchor=\"middle\" x=\"135\" y=\"-374.3\" font-family=\"fira-sans\" font-size=\"14.00\">r7</text>\n</g>\n<!-- r7&#45;&#45;e -->\n<g id=\"edge1\" class=\"edge\">\n<title>r7&#45;&#45;e</title>\n<path fill=\"none\" stroke=\"black\" d=\"M135,-359.7C135,-351.98 135,-342.71 135,-334.11\"/>\n<polygon fill=\"black\" stroke=\"black\" points=\"138.5,-334.1 135,-324.1 131.5,-334.1 138.5,-334.1\"/>\n</g>\n<!-- b -->\n<g id=\"node4\" class=\"node\">\n<title>b</title>\n<ellipse fill=\"none\" stroke=\"black\" stroke-width=\"2\" cx=\"63\" cy=\"-306\" rx=\"27\" ry=\"18\"/>\n<text text-anchor=\"middle\" x=\"63\" y=\"-302.3\" font-family=\"fira-sans\" font-size=\"14.00\">b</text>\n</g>\n<!-- b&#45;&#45;r2 -->\n<g id=\"edge5\" class=\"edge\">\n<title>b&#45;&#45;r2</title>\n<path fill=\"none\" stroke=\"black\" stroke-dasharray=\"5,2\" d=\"M71.35,-288.76C75.54,-280.61 80.73,-270.53 85.47,-261.31\"/>\n<polygon fill=\"black\" stroke=\"black\" points=\"88.73,-262.62 90.19,-252.12 82.51,-259.42 88.73,-262.62\"/>\n</g>\n<!-- r5 -->\n<g id=\"node5\" class=\"node\">\n<title>r5</title>\n<polygon fill=\"none\" stroke=\"black\" points=\"126,-108 72,-108 72,-72 126,-72 126,-108\"/>\n<text text-anchor=\"middle\" x=\"99\" y=\"-86.3\" font-family=\"fira-sans\" font-size=\"14.00\">r5</text>\n</g>\n<!-- r5&#45;&#45;c -->\n<g id=\"edge7\" class=\"edge\">\n<title>r5&#45;&#45;c</title>\n<path fill=\"none\" stroke=\"black\" d=\"M90.1,-71.7C85.84,-63.4 80.65,-53.31 75.95,-44.19\"/>\n<polygon fill=\"black\" stroke=\"black\" points=\"78.99,-42.44 71.3,-35.14 72.76,-45.64 78.99,-42.44\"/>\n</g>\n<!-- k -->\n<g id=\"node6\" class=\"node\">\n<title>k</title>\n<ellipse fill=\"none\" stroke=\"black\" cx=\"99\" cy=\"-162\" rx=\"27\" ry=\"18\"/>\n<text text-anchor=\"middle\" x=\"99\" y=\"-158.3\" font-family=\"fira-sans\" font-size=\"14.00\">k</text>\n</g>\n<!-- k&#45;&#45;r5 -->\n<g id=\"edge4\" class=\"edge\">\n<title>k&#45;&#45;r5</title>\n<path fill=\"none\" stroke=\"black\" d=\"M99,-143.7C99,-135.98 99,-126.71 99,-118.11\"/>\n<polygon fill=\"black\" stroke=\"black\" points=\"102.5,-118.1 99,-108.1 95.5,-118.1 102.5,-118.1\"/>\n</g>\n<!-- r2&#45;&#45;k -->\n<g id=\"edge3\" class=\"edge\">\n<title>r2&#45;&#45;k</title>\n<path fill=\"none\" stroke=\"black\" d=\"M99,-215.7C99,-207.98 99,-198.71 99,-190.11\"/>\n<polygon fill=\"black\" stroke=\"black\" points=\"102.5,-190.1 99,-180.1 95.5,-190.1 102.5,-190.1\"/>\n</g>\n<!-- r3 -->\n<g id=\"node8\" class=\"node\">\n<title>r3</title>\n<ellipse fill=\"none\" stroke=\"black\" cx=\"27\" cy=\"-90\" rx=\"27\" ry=\"18\"/>\n<text text-anchor=\"middle\" x=\"27\" y=\"-86.3\" font-family=\"fira-sans\" font-size=\"14.00\">r3</text>\n</g>\n<!-- r3&#45;&#45;c -->\n<g id=\"edge2\" class=\"edge\">\n<title>r3&#45;&#45;c</title>\n<path fill=\"none\" stroke=\"black\" d=\"M35.35,-72.76C39.71,-64.28 45.15,-53.71 50.04,-44.2\"/>\n<polygon fill=\"black\" stroke=\"black\" points=\"53.23,-45.64 54.7,-35.15 47.01,-42.44 53.23,-45.64\"/>\n</g>\n</g>\n</svg>\n",
      "text/plain": "<graphviz.graphs.Graph at 0x7facf1b65240>"
     },
     "execution_count": 55,
     "metadata": {},
     "output_type": "execute_result"
    }
   ],
   "source": [
    "graphs[1]"
   ],
   "metadata": {
    "collapsed": false,
    "pycharm": {
     "name": "#%%\n"
    }
   }
  },
  {
   "cell_type": "code",
   "execution_count": 56,
   "outputs": [
    {
     "name": "stdout",
     "output_type": "stream",
     "text": [
      "(e,{e},{},{},[r7,e])\n"
     ]
    }
   ],
   "source": [
    "bpdes = backwards_pde(adf, e.as_classical_atom())\n",
    "for bpde in bpdes:\n",
    "    print_bpde(bpde)"
   ],
   "metadata": {
    "collapsed": false,
    "pycharm": {
     "name": "#%%\n"
    }
   }
  },
  {
   "cell_type": "code",
   "execution_count": 57,
   "outputs": [
    {
     "name": "stdout",
     "output_type": "stream",
     "text": [
      "1\n"
     ]
    },
    {
     "data": {
      "image/svg+xml": "<?xml version=\"1.0\" encoding=\"UTF-8\" standalone=\"no\"?>\n<!DOCTYPE svg PUBLIC \"-//W3C//DTD SVG 1.1//EN\"\n \"http://www.w3.org/Graphics/SVG/1.1/DTD/svg11.dtd\">\n<!-- Generated by graphviz version 3.0.0 (20220227.1548)\n -->\n<!-- Title: default Pages: 1 -->\n<svg width=\"62pt\" height=\"116pt\"\n viewBox=\"0.00 0.00 62.00 116.00\" xmlns=\"http://www.w3.org/2000/svg\" xmlns:xlink=\"http://www.w3.org/1999/xlink\">\n<g id=\"graph0\" class=\"graph\" transform=\"scale(1 1) rotate(0) translate(4 112)\">\n<title>default</title>\n<polygon fill=\"white\" stroke=\"transparent\" points=\"-4,4 -4,-112 58,-112 58,4 -4,4\"/>\n<!-- r7 -->\n<g id=\"node1\" class=\"node\">\n<title>r7</title>\n<polygon fill=\"none\" stroke=\"black\" points=\"54,-108 0,-108 0,-72 54,-72 54,-108\"/>\n<text text-anchor=\"middle\" x=\"27\" y=\"-86.3\" font-family=\"fira-sans\" font-size=\"14.00\">r7</text>\n</g>\n<!-- e -->\n<g id=\"node2\" class=\"node\">\n<title>e</title>\n<ellipse fill=\"none\" stroke=\"black\" cx=\"27\" cy=\"-18\" rx=\"27\" ry=\"18\"/>\n<text text-anchor=\"middle\" x=\"27\" y=\"-14.3\" font-family=\"fira-sans\" font-size=\"14.00\">e</text>\n</g>\n<!-- r7&#45;&#45;e -->\n<g id=\"edge1\" class=\"edge\">\n<title>r7&#45;&#45;e</title>\n<path fill=\"none\" stroke=\"black\" d=\"M27,-71.7C27,-63.98 27,-54.71 27,-46.11\"/>\n<polygon fill=\"black\" stroke=\"black\" points=\"30.5,-46.1 27,-36.1 23.5,-46.1 30.5,-46.1\"/>\n</g>\n</g>\n</svg>\n",
      "text/plain": "<graphviz.graphs.Graph at 0x7facf1b64250>"
     },
     "execution_count": 57,
     "metadata": {},
     "output_type": "execute_result"
    }
   ],
   "source": [
    "graphs = []\n",
    "for bpde in bpdes:\n",
    "    graph_prg = bpde_to_clingraph_prg(adf, bpde)\n",
    "    graphs.append(draw_graph([graph_prg, COMMON])['default'])\n",
    "print(len(graphs))\n",
    "graphs[0]"
   ],
   "metadata": {
    "collapsed": false,
    "pycharm": {
     "name": "#%%\n"
    }
   }
  },
  {
   "cell_type": "code",
   "execution_count": 58,
   "outputs": [
    {
     "name": "stdout",
     "output_type": "stream",
     "text": [
      "a :- b.\n",
      "b :- a.\n"
     ]
    }
   ],
   "source": [
    "a = ASPBasicLiteral.make_literal('a')\n",
    "b = ASPBasicLiteral.make_literal('b')\n",
    "\n",
    "r1 = ASPNormalRule(a, (b,))\n",
    "r2 = ASPNormalRule(b, (a,))\n",
    "\n",
    "rs = (r1, r2)\n",
    "\n",
    "prg = make_program(*rs)\n",
    "print(prg)"
   ],
   "metadata": {
    "collapsed": false,
    "pycharm": {
     "name": "#%%\n"
    }
   }
  },
  {
   "cell_type": "code",
   "execution_count": 59,
   "outputs": [
    {
     "name": "stdout",
     "output_type": "stream",
     "text": [
      "Answer 1: {  }\n",
      "SAT 1\n"
     ]
    }
   ],
   "source": [
    "answer_sets = tuple(asp_evaluate(prg, report=True))"
   ],
   "metadata": {
    "collapsed": false,
    "pycharm": {
     "name": "#%%\n"
    }
   }
  },
  {
   "cell_type": "code",
   "execution_count": 60,
   "outputs": [
    {
     "name": "stdout",
     "output_type": "stream",
     "text": [
      "{a b r1 r2} <a: r1, r1: b, b: r2, r2: a>\n"
     ]
    }
   ],
   "source": [
    "adf = asp_to_adf(*rs)\n",
    "print(adf)"
   ],
   "metadata": {
    "collapsed": false,
    "pycharm": {
     "name": "#%%\n"
    }
   }
  },
  {
   "cell_type": "code",
   "execution_count": 61,
   "outputs": [
    {
     "name": "stdout",
     "output_type": "stream",
     "text": [
      "(a,{},{},{a,b},[r2,b,r1,a])\n"
     ]
    }
   ],
   "source": [
    "bpdes = backwards_pde(adf, a.as_classical_atom())\n",
    "for bpde in bpdes:\n",
    "    print_bpde(bpde)"
   ],
   "metadata": {
    "collapsed": false,
    "pycharm": {
     "name": "#%%\n"
    }
   }
  },
  {
   "cell_type": "code",
   "execution_count": 62,
   "outputs": [
    {
     "name": "stdout",
     "output_type": "stream",
     "text": [
      "1\n"
     ]
    },
    {
     "data": {
      "image/svg+xml": "<?xml version=\"1.0\" encoding=\"UTF-8\" standalone=\"no\"?>\n<!DOCTYPE svg PUBLIC \"-//W3C//DTD SVG 1.1//EN\"\n \"http://www.w3.org/Graphics/SVG/1.1/DTD/svg11.dtd\">\n<!-- Generated by graphviz version 3.0.0 (20220227.1548)\n -->\n<!-- Title: default Pages: 1 -->\n<svg width=\"89pt\" height=\"260pt\"\n viewBox=\"0.00 0.00 89.00 260.00\" xmlns=\"http://www.w3.org/2000/svg\" xmlns:xlink=\"http://www.w3.org/1999/xlink\">\n<g id=\"graph0\" class=\"graph\" transform=\"scale(1 1) rotate(0) translate(4 256)\">\n<title>default</title>\n<polygon fill=\"white\" stroke=\"transparent\" points=\"-4,4 -4,-256 85,-256 85,4 -4,4\"/>\n<!-- b -->\n<g id=\"node1\" class=\"node\">\n<title>b</title>\n<ellipse fill=\"none\" stroke=\"black\" stroke-dasharray=\"5,2\" cx=\"54\" cy=\"-234\" rx=\"27\" ry=\"18\"/>\n<text text-anchor=\"middle\" x=\"54\" y=\"-230.3\" font-family=\"fira-sans\" font-size=\"14.00\">b</text>\n</g>\n<!-- r1 -->\n<g id=\"node2\" class=\"node\">\n<title>r1</title>\n<polygon fill=\"none\" stroke=\"black\" stroke-dasharray=\"5,2\" points=\"54,-180 0,-180 0,-144 54,-144 54,-180\"/>\n<text text-anchor=\"middle\" x=\"27\" y=\"-158.3\" font-family=\"fira-sans\" font-size=\"14.00\">r1</text>\n</g>\n<!-- b&#45;&#45;r1 -->\n<g id=\"edge1\" class=\"edge\">\n<title>b&#45;&#45;r1</title>\n<path fill=\"none\" stroke=\"black\" d=\"M47.6,-216.41C44.56,-208.54 40.86,-198.93 37.43,-190.04\"/>\n<polygon fill=\"black\" stroke=\"black\" points=\"40.59,-188.52 33.73,-180.45 34.06,-191.04 40.59,-188.52\"/>\n</g>\n<!-- a -->\n<g id=\"node3\" class=\"node\">\n<title>a</title>\n<ellipse fill=\"none\" stroke=\"black\" stroke-dasharray=\"5,2\" cx=\"27\" cy=\"-90\" rx=\"27\" ry=\"18\"/>\n<text text-anchor=\"middle\" x=\"27\" y=\"-86.3\" font-family=\"fira-sans\" font-size=\"14.00\">a</text>\n</g>\n<!-- r1&#45;&#45;a -->\n<g id=\"edge3\" class=\"edge\">\n<title>r1&#45;&#45;a</title>\n<path fill=\"none\" stroke=\"black\" d=\"M27,-143.7C27,-135.98 27,-126.71 27,-118.11\"/>\n<polygon fill=\"black\" stroke=\"black\" points=\"30.5,-118.1 27,-108.1 23.5,-118.1 30.5,-118.1\"/>\n</g>\n<!-- r2 -->\n<g id=\"node4\" class=\"node\">\n<title>r2</title>\n<polygon fill=\"none\" stroke=\"black\" stroke-dasharray=\"5,2\" points=\"81,-36 27,-36 27,0 81,0 81,-36\"/>\n<text text-anchor=\"middle\" x=\"54\" y=\"-14.3\" font-family=\"fira-sans\" font-size=\"14.00\">r2</text>\n</g>\n<!-- a&#45;&#45;r2 -->\n<g id=\"edge4\" class=\"edge\">\n<title>a&#45;&#45;r2</title>\n<path fill=\"none\" stroke=\"black\" d=\"M33.4,-72.41C36.44,-64.54 40.14,-54.93 43.57,-46.04\"/>\n<polygon fill=\"black\" stroke=\"black\" points=\"46.94,-47.04 47.27,-36.45 40.41,-44.52 46.94,-47.04\"/>\n</g>\n<!-- r2&#45;&#45;b -->\n<g id=\"edge2\" class=\"edge\">\n<title>r2&#45;&#45;b</title>\n<path fill=\"none\" stroke=\"black\" d=\"M57.65,-36.09C59.68,-46.43 61.98,-59.91 63,-72 67.03,-119.83 67.03,-132.17 63,-180 62.28,-188.5 60.93,-197.69 59.49,-205.99\"/>\n<polygon fill=\"black\" stroke=\"black\" points=\"56.03,-205.44 57.65,-215.91 62.91,-206.71 56.03,-205.44\"/>\n</g>\n</g>\n</svg>\n",
      "text/plain": "<graphviz.graphs.Graph at 0x7fada0ad5cf0>"
     },
     "execution_count": 62,
     "metadata": {},
     "output_type": "execute_result"
    }
   ],
   "source": [
    "graphs = []\n",
    "for bpde in bpdes:\n",
    "    graph_prg = bpde_to_clingraph_prg(adf, bpde)\n",
    "    graphs.append(draw_graph([graph_prg, COMMON])['default'])\n",
    "print(len(graphs))\n",
    "graphs[0]"
   ],
   "metadata": {
    "collapsed": false,
    "pycharm": {
     "name": "#%%\n"
    }
   }
  },
  {
   "cell_type": "code",
   "execution_count": 63,
   "outputs": [
    {
     "name": "stdout",
     "output_type": "stream",
     "text": [
      "a :- b.\n",
      "b :- a.\n",
      "b :- c.\n",
      "c.\n"
     ]
    }
   ],
   "source": [
    "a = ASPBasicLiteral.make_literal('a')\n",
    "b = ASPBasicLiteral.make_literal('b')\n",
    "c = ASPBasicLiteral.make_literal('c')\n",
    "\n",
    "r1 = ASPNormalRule(a, (b,))\n",
    "r2 = ASPNormalRule(b, (a,))\n",
    "r3 = ASPNormalRule(b, (c,))\n",
    "r4 = ASPNormalRule(c)\n",
    "\n",
    "rs = (r1, r2, r3, r4)\n",
    "\n",
    "prg = make_program(*rs)\n",
    "print(prg)"
   ],
   "metadata": {
    "collapsed": false,
    "pycharm": {
     "name": "#%%\n"
    }
   }
  },
  {
   "cell_type": "code",
   "execution_count": 64,
   "outputs": [
    {
     "name": "stdout",
     "output_type": "stream",
     "text": [
      "{r4 r3 c b r2 a r1} <a: r1, r1: b, b: r2 ∨ r3, r2: a, r3: c, c: r4, r4: ⊤>\n"
     ]
    }
   ],
   "source": [
    "adf = asp_to_adf(*rs)\n",
    "print(adf)"
   ],
   "metadata": {
    "collapsed": false,
    "pycharm": {
     "name": "#%%\n"
    }
   }
  },
  {
   "cell_type": "code",
   "execution_count": 65,
   "outputs": [
    {
     "name": "stdout",
     "output_type": "stream",
     "text": [
      "(a,{c},{},{},[r4,c,r3,b,r1,a])\n",
      "(a,{},{},{a,b},[r2,b,r1,a])\n"
     ]
    }
   ],
   "source": [
    "bpdes = backwards_pde(adf, a.as_classical_atom())\n",
    "for bpde in bpdes:\n",
    "    print_bpde(bpde)"
   ],
   "metadata": {
    "collapsed": false,
    "pycharm": {
     "name": "#%%\n"
    }
   }
  },
  {
   "cell_type": "code",
   "execution_count": 66,
   "outputs": [
    {
     "name": "stdout",
     "output_type": "stream",
     "text": [
      "2\n"
     ]
    },
    {
     "data": {
      "image/svg+xml": "<?xml version=\"1.0\" encoding=\"UTF-8\" standalone=\"no\"?>\n<!DOCTYPE svg PUBLIC \"-//W3C//DTD SVG 1.1//EN\"\n \"http://www.w3.org/Graphics/SVG/1.1/DTD/svg11.dtd\">\n<!-- Generated by graphviz version 3.0.0 (20220227.1548)\n -->\n<!-- Title: default Pages: 1 -->\n<svg width=\"134pt\" height=\"404pt\"\n viewBox=\"0.00 0.00 134.00 404.00\" xmlns=\"http://www.w3.org/2000/svg\" xmlns:xlink=\"http://www.w3.org/1999/xlink\">\n<g id=\"graph0\" class=\"graph\" transform=\"scale(1 1) rotate(0) translate(4 400)\">\n<title>default</title>\n<polygon fill=\"white\" stroke=\"transparent\" points=\"-4,4 -4,-400 130,-400 130,4 -4,4\"/>\n<!-- c -->\n<g id=\"node1\" class=\"node\">\n<title>c</title>\n<ellipse fill=\"none\" stroke=\"black\" cx=\"99\" cy=\"-306\" rx=\"27\" ry=\"18\"/>\n<text text-anchor=\"middle\" x=\"99\" y=\"-302.3\" font-family=\"fira-sans\" font-size=\"14.00\">c</text>\n</g>\n<!-- r3 -->\n<g id=\"node7\" class=\"node\">\n<title>r3</title>\n<polygon fill=\"none\" stroke=\"black\" points=\"126,-252 72,-252 72,-216 126,-216 126,-252\"/>\n<text text-anchor=\"middle\" x=\"99\" y=\"-230.3\" font-family=\"fira-sans\" font-size=\"14.00\">r3</text>\n</g>\n<!-- c&#45;&#45;r3 -->\n<g id=\"edge6\" class=\"edge\">\n<title>c&#45;&#45;r3</title>\n<path fill=\"none\" stroke=\"black\" d=\"M99,-287.7C99,-279.98 99,-270.71 99,-262.11\"/>\n<polygon fill=\"black\" stroke=\"black\" points=\"102.5,-262.1 99,-252.1 95.5,-262.1 102.5,-262.1\"/>\n</g>\n<!-- r4 -->\n<g id=\"node2\" class=\"node\">\n<title>r4</title>\n<polygon fill=\"none\" stroke=\"black\" points=\"126,-396 72,-396 72,-360 126,-360 126,-396\"/>\n<text text-anchor=\"middle\" x=\"99\" y=\"-374.3\" font-family=\"fira-sans\" font-size=\"14.00\">r4</text>\n</g>\n<!-- r4&#45;&#45;c -->\n<g id=\"edge3\" class=\"edge\">\n<title>r4&#45;&#45;c</title>\n<path fill=\"none\" stroke=\"black\" d=\"M99,-359.7C99,-351.98 99,-342.71 99,-334.11\"/>\n<polygon fill=\"black\" stroke=\"black\" points=\"102.5,-334.1 99,-324.1 95.5,-334.1 102.5,-334.1\"/>\n</g>\n<!-- b -->\n<g id=\"node3\" class=\"node\">\n<title>b</title>\n<ellipse fill=\"none\" stroke=\"black\" cx=\"63\" cy=\"-162\" rx=\"27\" ry=\"18\"/>\n<text text-anchor=\"middle\" x=\"63\" y=\"-158.3\" font-family=\"fira-sans\" font-size=\"14.00\">b</text>\n</g>\n<!-- r1 -->\n<g id=\"node6\" class=\"node\">\n<title>r1</title>\n<polygon fill=\"none\" stroke=\"black\" points=\"90,-108 36,-108 36,-72 90,-72 90,-108\"/>\n<text text-anchor=\"middle\" x=\"63\" y=\"-86.3\" font-family=\"fira-sans\" font-size=\"14.00\">r1</text>\n</g>\n<!-- b&#45;&#45;r1 -->\n<g id=\"edge2\" class=\"edge\">\n<title>b&#45;&#45;r1</title>\n<path fill=\"none\" stroke=\"black\" d=\"M63,-143.7C63,-135.98 63,-126.71 63,-118.11\"/>\n<polygon fill=\"black\" stroke=\"black\" points=\"66.5,-118.1 63,-108.1 59.5,-118.1 66.5,-118.1\"/>\n</g>\n<!-- r2 -->\n<g id=\"node4\" class=\"node\">\n<title>r2</title>\n<ellipse fill=\"none\" stroke=\"black\" cx=\"27\" cy=\"-234\" rx=\"27\" ry=\"18\"/>\n<text text-anchor=\"middle\" x=\"27\" y=\"-230.3\" font-family=\"fira-sans\" font-size=\"14.00\">r2</text>\n</g>\n<!-- r2&#45;&#45;b -->\n<g id=\"edge4\" class=\"edge\">\n<title>r2&#45;&#45;b</title>\n<path fill=\"none\" stroke=\"black\" d=\"M35.35,-216.76C39.71,-208.28 45.15,-197.71 50.04,-188.2\"/>\n<polygon fill=\"black\" stroke=\"black\" points=\"53.23,-189.64 54.7,-179.15 47.01,-186.44 53.23,-189.64\"/>\n</g>\n<!-- a -->\n<g id=\"node5\" class=\"node\">\n<title>a</title>\n<ellipse fill=\"none\" stroke=\"black\" cx=\"63\" cy=\"-18\" rx=\"27\" ry=\"18\"/>\n<text text-anchor=\"middle\" x=\"63\" y=\"-14.3\" font-family=\"fira-sans\" font-size=\"14.00\">a</text>\n</g>\n<!-- r1&#45;&#45;a -->\n<g id=\"edge5\" class=\"edge\">\n<title>r1&#45;&#45;a</title>\n<path fill=\"none\" stroke=\"black\" d=\"M63,-71.7C63,-63.98 63,-54.71 63,-46.11\"/>\n<polygon fill=\"black\" stroke=\"black\" points=\"66.5,-46.1 63,-36.1 59.5,-46.1 66.5,-46.1\"/>\n</g>\n<!-- r3&#45;&#45;b -->\n<g id=\"edge1\" class=\"edge\">\n<title>r3&#45;&#45;b</title>\n<path fill=\"none\" stroke=\"black\" d=\"M90.1,-215.7C85.84,-207.4 80.65,-197.31 75.95,-188.19\"/>\n<polygon fill=\"black\" stroke=\"black\" points=\"78.99,-186.44 71.3,-179.14 72.76,-189.64 78.99,-186.44\"/>\n</g>\n</g>\n</svg>\n",
      "text/plain": "<graphviz.graphs.Graph at 0x7facf1b40100>"
     },
     "execution_count": 66,
     "metadata": {},
     "output_type": "execute_result"
    }
   ],
   "source": [
    "graphs = []\n",
    "for bpde in bpdes:\n",
    "    graph_prg = bpde_to_clingraph_prg(adf, bpde)\n",
    "    graphs.append(draw_graph([graph_prg, COMMON])['default'])\n",
    "print(len(graphs))\n",
    "graphs[0]"
   ],
   "metadata": {
    "collapsed": false,
    "pycharm": {
     "name": "#%%\n"
    }
   }
  },
  {
   "cell_type": "code",
   "execution_count": 67,
   "outputs": [
    {
     "data": {
      "image/svg+xml": "<?xml version=\"1.0\" encoding=\"UTF-8\" standalone=\"no\"?>\n<!DOCTYPE svg PUBLIC \"-//W3C//DTD SVG 1.1//EN\"\n \"http://www.w3.org/Graphics/SVG/1.1/DTD/svg11.dtd\">\n<!-- Generated by graphviz version 3.0.0 (20220227.1548)\n -->\n<!-- Title: default Pages: 1 -->\n<svg width=\"89pt\" height=\"332pt\"\n viewBox=\"0.00 0.00 89.00 332.00\" xmlns=\"http://www.w3.org/2000/svg\" xmlns:xlink=\"http://www.w3.org/1999/xlink\">\n<g id=\"graph0\" class=\"graph\" transform=\"scale(1 1) rotate(0) translate(4 328)\">\n<title>default</title>\n<polygon fill=\"white\" stroke=\"transparent\" points=\"-4,4 -4,-328 85,-328 85,4 -4,4\"/>\n<!-- b -->\n<g id=\"node1\" class=\"node\">\n<title>b</title>\n<ellipse fill=\"none\" stroke=\"black\" stroke-dasharray=\"5,2\" cx=\"54\" cy=\"-234\" rx=\"27\" ry=\"18\"/>\n<text text-anchor=\"middle\" x=\"54\" y=\"-230.3\" font-family=\"fira-sans\" font-size=\"14.00\">b</text>\n</g>\n<!-- r1 -->\n<g id=\"node4\" class=\"node\">\n<title>r1</title>\n<polygon fill=\"none\" stroke=\"black\" stroke-dasharray=\"5,2\" points=\"54,-180 0,-180 0,-144 54,-144 54,-180\"/>\n<text text-anchor=\"middle\" x=\"27\" y=\"-158.3\" font-family=\"fira-sans\" font-size=\"14.00\">r1</text>\n</g>\n<!-- b&#45;&#45;r1 -->\n<g id=\"edge2\" class=\"edge\">\n<title>b&#45;&#45;r1</title>\n<path fill=\"none\" stroke=\"black\" d=\"M47.6,-216.41C44.56,-208.54 40.86,-198.93 37.43,-190.04\"/>\n<polygon fill=\"black\" stroke=\"black\" points=\"40.59,-188.52 33.73,-180.45 34.06,-191.04 40.59,-188.52\"/>\n</g>\n<!-- r2 -->\n<g id=\"node2\" class=\"node\">\n<title>r2</title>\n<polygon fill=\"none\" stroke=\"black\" stroke-dasharray=\"5,2\" points=\"81,-36 27,-36 27,0 81,0 81,-36\"/>\n<text text-anchor=\"middle\" x=\"54\" y=\"-14.3\" font-family=\"fira-sans\" font-size=\"14.00\">r2</text>\n</g>\n<!-- r2&#45;&#45;b -->\n<g id=\"edge4\" class=\"edge\">\n<title>r2&#45;&#45;b</title>\n<path fill=\"none\" stroke=\"black\" d=\"M57.65,-36.09C59.68,-46.43 61.98,-59.91 63,-72 67.03,-119.83 67.03,-132.17 63,-180 62.28,-188.5 60.93,-197.69 59.49,-205.99\"/>\n<polygon fill=\"black\" stroke=\"black\" points=\"56.03,-205.44 57.65,-215.91 62.91,-206.71 56.03,-205.44\"/>\n</g>\n<!-- a -->\n<g id=\"node3\" class=\"node\">\n<title>a</title>\n<ellipse fill=\"none\" stroke=\"black\" stroke-dasharray=\"5,2\" cx=\"27\" cy=\"-90\" rx=\"27\" ry=\"18\"/>\n<text text-anchor=\"middle\" x=\"27\" y=\"-86.3\" font-family=\"fira-sans\" font-size=\"14.00\">a</text>\n</g>\n<!-- a&#45;&#45;r2 -->\n<g id=\"edge3\" class=\"edge\">\n<title>a&#45;&#45;r2</title>\n<path fill=\"none\" stroke=\"black\" d=\"M33.4,-72.41C36.44,-64.54 40.14,-54.93 43.57,-46.04\"/>\n<polygon fill=\"black\" stroke=\"black\" points=\"46.94,-47.04 47.27,-36.45 40.41,-44.52 46.94,-47.04\"/>\n</g>\n<!-- r1&#45;&#45;a -->\n<g id=\"edge5\" class=\"edge\">\n<title>r1&#45;&#45;a</title>\n<path fill=\"none\" stroke=\"black\" d=\"M27,-143.7C27,-135.98 27,-126.71 27,-118.11\"/>\n<polygon fill=\"black\" stroke=\"black\" points=\"30.5,-118.1 27,-108.1 23.5,-118.1 30.5,-118.1\"/>\n</g>\n<!-- r3 -->\n<g id=\"node5\" class=\"node\">\n<title>r3</title>\n<ellipse fill=\"none\" stroke=\"black\" cx=\"54\" cy=\"-306\" rx=\"27\" ry=\"18\"/>\n<text text-anchor=\"middle\" x=\"54\" y=\"-302.3\" font-family=\"fira-sans\" font-size=\"14.00\">r3</text>\n</g>\n<!-- r3&#45;&#45;b -->\n<g id=\"edge1\" class=\"edge\">\n<title>r3&#45;&#45;b</title>\n<path fill=\"none\" stroke=\"black\" d=\"M54,-287.7C54,-279.98 54,-270.71 54,-262.11\"/>\n<polygon fill=\"black\" stroke=\"black\" points=\"57.5,-262.1 54,-252.1 50.5,-262.1 57.5,-262.1\"/>\n</g>\n</g>\n</svg>\n",
      "text/plain": "<graphviz.graphs.Graph at 0x7facf1b66320>"
     },
     "execution_count": 67,
     "metadata": {},
     "output_type": "execute_result"
    }
   ],
   "source": [
    "graphs[1]"
   ],
   "metadata": {
    "collapsed": false,
    "pycharm": {
     "name": "#%%\n"
    }
   }
  },
  {
   "cell_type": "code",
   "execution_count": 68,
   "outputs": [
    {
     "name": "stdout",
     "output_type": "stream",
     "text": [
      "(b,{c},{},{},[r4,c,r3,b])\n",
      "(b,{},{},{a,b},[r1,a,r2,b])\n"
     ]
    }
   ],
   "source": [
    "bpdes = backwards_pde(adf, b.as_classical_atom())\n",
    "for bpde in bpdes:\n",
    "    print_bpde(bpde)"
   ],
   "metadata": {
    "collapsed": false,
    "pycharm": {
     "name": "#%%\n"
    }
   }
  },
  {
   "cell_type": "code",
   "execution_count": 69,
   "outputs": [
    {
     "name": "stdout",
     "output_type": "stream",
     "text": [
      "2\n"
     ]
    },
    {
     "data": {
      "image/svg+xml": "<?xml version=\"1.0\" encoding=\"UTF-8\" standalone=\"no\"?>\n<!DOCTYPE svg PUBLIC \"-//W3C//DTD SVG 1.1//EN\"\n \"http://www.w3.org/Graphics/SVG/1.1/DTD/svg11.dtd\">\n<!-- Generated by graphviz version 3.0.0 (20220227.1548)\n -->\n<!-- Title: default Pages: 1 -->\n<svg width=\"134pt\" height=\"260pt\"\n viewBox=\"0.00 0.00 134.00 260.00\" xmlns=\"http://www.w3.org/2000/svg\" xmlns:xlink=\"http://www.w3.org/1999/xlink\">\n<g id=\"graph0\" class=\"graph\" transform=\"scale(1 1) rotate(0) translate(4 256)\">\n<title>default</title>\n<polygon fill=\"white\" stroke=\"transparent\" points=\"-4,4 -4,-256 130,-256 130,4 -4,4\"/>\n<!-- c -->\n<g id=\"node1\" class=\"node\">\n<title>c</title>\n<ellipse fill=\"none\" stroke=\"black\" cx=\"99\" cy=\"-162\" rx=\"27\" ry=\"18\"/>\n<text text-anchor=\"middle\" x=\"99\" y=\"-158.3\" font-family=\"fira-sans\" font-size=\"14.00\">c</text>\n</g>\n<!-- r3 -->\n<g id=\"node5\" class=\"node\">\n<title>r3</title>\n<polygon fill=\"none\" stroke=\"black\" points=\"126,-108 72,-108 72,-72 126,-72 126,-108\"/>\n<text text-anchor=\"middle\" x=\"99\" y=\"-86.3\" font-family=\"fira-sans\" font-size=\"14.00\">r3</text>\n</g>\n<!-- c&#45;&#45;r3 -->\n<g id=\"edge3\" class=\"edge\">\n<title>c&#45;&#45;r3</title>\n<path fill=\"none\" stroke=\"black\" d=\"M99,-143.7C99,-135.98 99,-126.71 99,-118.11\"/>\n<polygon fill=\"black\" stroke=\"black\" points=\"102.5,-118.1 99,-108.1 95.5,-118.1 102.5,-118.1\"/>\n</g>\n<!-- r4 -->\n<g id=\"node2\" class=\"node\">\n<title>r4</title>\n<polygon fill=\"none\" stroke=\"black\" points=\"126,-252 72,-252 72,-216 126,-216 126,-252\"/>\n<text text-anchor=\"middle\" x=\"99\" y=\"-230.3\" font-family=\"fira-sans\" font-size=\"14.00\">r4</text>\n</g>\n<!-- r4&#45;&#45;c -->\n<g id=\"edge4\" class=\"edge\">\n<title>r4&#45;&#45;c</title>\n<path fill=\"none\" stroke=\"black\" d=\"M99,-215.7C99,-207.98 99,-198.71 99,-190.11\"/>\n<polygon fill=\"black\" stroke=\"black\" points=\"102.5,-190.1 99,-180.1 95.5,-190.1 102.5,-190.1\"/>\n</g>\n<!-- b -->\n<g id=\"node3\" class=\"node\">\n<title>b</title>\n<ellipse fill=\"none\" stroke=\"black\" cx=\"63\" cy=\"-18\" rx=\"27\" ry=\"18\"/>\n<text text-anchor=\"middle\" x=\"63\" y=\"-14.3\" font-family=\"fira-sans\" font-size=\"14.00\">b</text>\n</g>\n<!-- r2 -->\n<g id=\"node4\" class=\"node\">\n<title>r2</title>\n<ellipse fill=\"none\" stroke=\"black\" cx=\"27\" cy=\"-90\" rx=\"27\" ry=\"18\"/>\n<text text-anchor=\"middle\" x=\"27\" y=\"-86.3\" font-family=\"fira-sans\" font-size=\"14.00\">r2</text>\n</g>\n<!-- r2&#45;&#45;b -->\n<g id=\"edge2\" class=\"edge\">\n<title>r2&#45;&#45;b</title>\n<path fill=\"none\" stroke=\"black\" d=\"M35.35,-72.76C39.71,-64.28 45.15,-53.71 50.04,-44.2\"/>\n<polygon fill=\"black\" stroke=\"black\" points=\"53.23,-45.64 54.7,-35.15 47.01,-42.44 53.23,-45.64\"/>\n</g>\n<!-- r3&#45;&#45;b -->\n<g id=\"edge1\" class=\"edge\">\n<title>r3&#45;&#45;b</title>\n<path fill=\"none\" stroke=\"black\" d=\"M90.1,-71.7C85.84,-63.4 80.65,-53.31 75.95,-44.19\"/>\n<polygon fill=\"black\" stroke=\"black\" points=\"78.99,-42.44 71.3,-35.14 72.76,-45.64 78.99,-42.44\"/>\n</g>\n</g>\n</svg>\n",
      "text/plain": "<graphviz.graphs.Graph at 0x7facf106eb90>"
     },
     "execution_count": 69,
     "metadata": {},
     "output_type": "execute_result"
    }
   ],
   "source": [
    "graphs = []\n",
    "for bpde in bpdes:\n",
    "    graph_prg = bpde_to_clingraph_prg(adf, bpde)\n",
    "    graphs.append(draw_graph([graph_prg, COMMON])['default'])\n",
    "print(len(graphs))\n",
    "graphs[0]"
   ],
   "metadata": {
    "collapsed": false,
    "pycharm": {
     "name": "#%%\n"
    }
   }
  },
  {
   "cell_type": "code",
   "execution_count": 70,
   "outputs": [
    {
     "data": {
      "image/svg+xml": "<?xml version=\"1.0\" encoding=\"UTF-8\" standalone=\"no\"?>\n<!DOCTYPE svg PUBLIC \"-//W3C//DTD SVG 1.1//EN\"\n \"http://www.w3.org/Graphics/SVG/1.1/DTD/svg11.dtd\">\n<!-- Generated by graphviz version 3.0.0 (20220227.1548)\n -->\n<!-- Title: default Pages: 1 -->\n<svg width=\"89pt\" height=\"332pt\"\n viewBox=\"0.00 0.00 89.00 332.00\" xmlns=\"http://www.w3.org/2000/svg\" xmlns:xlink=\"http://www.w3.org/1999/xlink\">\n<g id=\"graph0\" class=\"graph\" transform=\"scale(1 1) rotate(0) translate(4 328)\">\n<title>default</title>\n<polygon fill=\"white\" stroke=\"transparent\" points=\"-4,4 -4,-328 85,-328 85,4 -4,4\"/>\n<!-- b -->\n<g id=\"node1\" class=\"node\">\n<title>b</title>\n<ellipse fill=\"none\" stroke=\"black\" stroke-dasharray=\"5,2\" cx=\"54\" cy=\"-234\" rx=\"27\" ry=\"18\"/>\n<text text-anchor=\"middle\" x=\"54\" y=\"-230.3\" font-family=\"fira-sans\" font-size=\"14.00\">b</text>\n</g>\n<!-- r1 -->\n<g id=\"node4\" class=\"node\">\n<title>r1</title>\n<polygon fill=\"none\" stroke=\"black\" stroke-dasharray=\"5,2\" points=\"54,-180 0,-180 0,-144 54,-144 54,-180\"/>\n<text text-anchor=\"middle\" x=\"27\" y=\"-158.3\" font-family=\"fira-sans\" font-size=\"14.00\">r1</text>\n</g>\n<!-- b&#45;&#45;r1 -->\n<g id=\"edge1\" class=\"edge\">\n<title>b&#45;&#45;r1</title>\n<path fill=\"none\" stroke=\"black\" d=\"M47.6,-216.41C44.56,-208.54 40.86,-198.93 37.43,-190.04\"/>\n<polygon fill=\"black\" stroke=\"black\" points=\"40.59,-188.52 33.73,-180.45 34.06,-191.04 40.59,-188.52\"/>\n</g>\n<!-- r2 -->\n<g id=\"node2\" class=\"node\">\n<title>r2</title>\n<polygon fill=\"none\" stroke=\"black\" stroke-dasharray=\"5,2\" points=\"81,-36 27,-36 27,0 81,0 81,-36\"/>\n<text text-anchor=\"middle\" x=\"54\" y=\"-14.3\" font-family=\"fira-sans\" font-size=\"14.00\">r2</text>\n</g>\n<!-- r2&#45;&#45;b -->\n<g id=\"edge4\" class=\"edge\">\n<title>r2&#45;&#45;b</title>\n<path fill=\"none\" stroke=\"black\" d=\"M57.65,-36.09C59.68,-46.43 61.98,-59.91 63,-72 67.03,-119.83 67.03,-132.17 63,-180 62.28,-188.5 60.93,-197.69 59.49,-205.99\"/>\n<polygon fill=\"black\" stroke=\"black\" points=\"56.03,-205.44 57.65,-215.91 62.91,-206.71 56.03,-205.44\"/>\n</g>\n<!-- a -->\n<g id=\"node3\" class=\"node\">\n<title>a</title>\n<ellipse fill=\"none\" stroke=\"black\" stroke-dasharray=\"5,2\" cx=\"27\" cy=\"-90\" rx=\"27\" ry=\"18\"/>\n<text text-anchor=\"middle\" x=\"27\" y=\"-86.3\" font-family=\"fira-sans\" font-size=\"14.00\">a</text>\n</g>\n<!-- a&#45;&#45;r2 -->\n<g id=\"edge3\" class=\"edge\">\n<title>a&#45;&#45;r2</title>\n<path fill=\"none\" stroke=\"black\" d=\"M33.4,-72.41C36.44,-64.54 40.14,-54.93 43.57,-46.04\"/>\n<polygon fill=\"black\" stroke=\"black\" points=\"46.94,-47.04 47.27,-36.45 40.41,-44.52 46.94,-47.04\"/>\n</g>\n<!-- r1&#45;&#45;a -->\n<g id=\"edge5\" class=\"edge\">\n<title>r1&#45;&#45;a</title>\n<path fill=\"none\" stroke=\"black\" d=\"M27,-143.7C27,-135.98 27,-126.71 27,-118.11\"/>\n<polygon fill=\"black\" stroke=\"black\" points=\"30.5,-118.1 27,-108.1 23.5,-118.1 30.5,-118.1\"/>\n</g>\n<!-- r3 -->\n<g id=\"node5\" class=\"node\">\n<title>r3</title>\n<ellipse fill=\"none\" stroke=\"black\" cx=\"54\" cy=\"-306\" rx=\"27\" ry=\"18\"/>\n<text text-anchor=\"middle\" x=\"54\" y=\"-302.3\" font-family=\"fira-sans\" font-size=\"14.00\">r3</text>\n</g>\n<!-- r3&#45;&#45;b -->\n<g id=\"edge2\" class=\"edge\">\n<title>r3&#45;&#45;b</title>\n<path fill=\"none\" stroke=\"black\" d=\"M54,-287.7C54,-279.98 54,-270.71 54,-262.11\"/>\n<polygon fill=\"black\" stroke=\"black\" points=\"57.5,-262.1 54,-252.1 50.5,-262.1 57.5,-262.1\"/>\n</g>\n</g>\n</svg>\n",
      "text/plain": "<graphviz.graphs.Graph at 0x7facf19ac220>"
     },
     "execution_count": 70,
     "metadata": {},
     "output_type": "execute_result"
    }
   ],
   "source": [
    "graphs[1]"
   ],
   "metadata": {
    "collapsed": false,
    "pycharm": {
     "name": "#%%\n"
    }
   }
  },
  {
   "cell_type": "code",
   "execution_count": 71,
   "outputs": [
    {
     "name": "stdout",
     "output_type": "stream",
     "text": [
      "(c,{c},{},{},[r4,c])\n"
     ]
    }
   ],
   "source": [
    "bpdes = backwards_pde(adf, c.as_classical_atom())\n",
    "for bpde in bpdes:\n",
    "    print_bpde(bpde)"
   ],
   "metadata": {
    "collapsed": false,
    "pycharm": {
     "name": "#%%\n"
    }
   }
  },
  {
   "cell_type": "code",
   "execution_count": 72,
   "outputs": [
    {
     "name": "stdout",
     "output_type": "stream",
     "text": [
      "1\n"
     ]
    },
    {
     "data": {
      "image/svg+xml": "<?xml version=\"1.0\" encoding=\"UTF-8\" standalone=\"no\"?>\n<!DOCTYPE svg PUBLIC \"-//W3C//DTD SVG 1.1//EN\"\n \"http://www.w3.org/Graphics/SVG/1.1/DTD/svg11.dtd\">\n<!-- Generated by graphviz version 3.0.0 (20220227.1548)\n -->\n<!-- Title: default Pages: 1 -->\n<svg width=\"62pt\" height=\"116pt\"\n viewBox=\"0.00 0.00 62.00 116.00\" xmlns=\"http://www.w3.org/2000/svg\" xmlns:xlink=\"http://www.w3.org/1999/xlink\">\n<g id=\"graph0\" class=\"graph\" transform=\"scale(1 1) rotate(0) translate(4 112)\">\n<title>default</title>\n<polygon fill=\"white\" stroke=\"transparent\" points=\"-4,4 -4,-112 58,-112 58,4 -4,4\"/>\n<!-- c -->\n<g id=\"node1\" class=\"node\">\n<title>c</title>\n<ellipse fill=\"none\" stroke=\"black\" cx=\"27\" cy=\"-18\" rx=\"27\" ry=\"18\"/>\n<text text-anchor=\"middle\" x=\"27\" y=\"-14.3\" font-family=\"fira-sans\" font-size=\"14.00\">c</text>\n</g>\n<!-- r4 -->\n<g id=\"node2\" class=\"node\">\n<title>r4</title>\n<polygon fill=\"none\" stroke=\"black\" points=\"54,-108 0,-108 0,-72 54,-72 54,-108\"/>\n<text text-anchor=\"middle\" x=\"27\" y=\"-86.3\" font-family=\"fira-sans\" font-size=\"14.00\">r4</text>\n</g>\n<!-- r4&#45;&#45;c -->\n<g id=\"edge1\" class=\"edge\">\n<title>r4&#45;&#45;c</title>\n<path fill=\"none\" stroke=\"black\" d=\"M27,-71.7C27,-63.98 27,-54.71 27,-46.11\"/>\n<polygon fill=\"black\" stroke=\"black\" points=\"30.5,-46.1 27,-36.1 23.5,-46.1 30.5,-46.1\"/>\n</g>\n</g>\n</svg>\n",
      "text/plain": "<graphviz.graphs.Graph at 0x7facf1a2dfc0>"
     },
     "execution_count": 72,
     "metadata": {},
     "output_type": "execute_result"
    }
   ],
   "source": [
    "graphs = []\n",
    "for bpde in bpdes:\n",
    "    graph_prg = bpde_to_clingraph_prg(adf, bpde)\n",
    "    graphs.append(draw_graph([graph_prg, COMMON])['default'])\n",
    "print(len(graphs))\n",
    "graphs[0]"
   ],
   "metadata": {
    "collapsed": false,
    "pycharm": {
     "name": "#%%\n"
    }
   }
  },
  {
   "cell_type": "code",
   "execution_count": 72,
   "outputs": [],
   "source": [],
   "metadata": {
    "collapsed": false,
    "pycharm": {
     "name": "#%%\n"
    }
   }
  }
 ],
 "metadata": {
  "kernelspec": {
   "display_name": "Python 3",
   "language": "python",
   "name": "python3"
  },
  "language_info": {
   "codemirror_mode": {
    "name": "ipython",
    "version": 2
   },
   "file_extension": ".py",
   "mimetype": "text/x-python",
   "name": "python",
   "nbconvert_exporter": "python",
   "pygments_lexer": "ipython2",
   "version": "2.7.6"
  }
 },
 "nbformat": 4,
 "nbformat_minor": 0
}