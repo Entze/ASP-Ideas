{
 "cells": [
  {
   "cell_type": "code",
   "execution_count": 27,
   "outputs": [],
   "source": [
    "import copy\n",
    "from dataclasses import dataclass, field\n",
    "from enum import IntEnum\n",
    "from typing import TypeVar, Union, Sequence, Optional, Dict, Tuple, Mapping, MutableMapping, MutableSequence, List\n",
    "\n",
    "import clingo\n",
    "import clingo.ast\n"
   ],
   "metadata": {
    "collapsed": false,
    "pycharm": {
     "name": "#%%\n"
    }
   }
  },
  {
   "cell_type": "code",
   "execution_count": 28,
   "outputs": [],
   "source": [
    "@dataclass(frozen=True, order=True)\n",
    "class Variable:\n",
    "    name: str\n",
    "\n",
    "    def __str__(self):\n",
    "        return self.name\n",
    "\n",
    "\n",
    "@dataclass(frozen=True, order=True)\n",
    "class IntegerConstant:\n",
    "    number: int = 0\n",
    "\n",
    "    def __str__(self):\n",
    "        return str(self.number)\n",
    "\n",
    "\n",
    "@dataclass(frozen=True, order=True)\n",
    "class Term:\n",
    "    constant: IntegerConstant = field(default=IntegerConstant())\n",
    "\n",
    "    def __str__(self):\n",
    "        return str(self.constant)"
   ],
   "metadata": {
    "collapsed": false,
    "pycharm": {
     "name": "#%%\n"
    }
   }
  },
  {
   "cell_type": "code",
   "execution_count": 29,
   "outputs": [],
   "source": [
    "ForwardAtom = TypeVar('ForwardAtom', bound='Atom')\n",
    "ForwardFunction = TypeVar('ForwardFunction', bound='Function')\n",
    "\n",
    "Symbol = Union[ForwardFunction]\n",
    "SubSymbol = Union[Symbol, Variable, Term]\n",
    "\n",
    "@dataclass\n",
    "class Function:\n",
    "    name: Optional[str] = None\n",
    "    arguments: Sequence[SubSymbol] = ()\n",
    "\n",
    "    @property\n",
    "    def arity(self):\n",
    "        return len(self.arguments)\n",
    "\n",
    "    def __str__(self):\n",
    "        if self.name is None and not self.arguments:\n",
    "            return \"()\"\n",
    "        elif self.name is not None and not self.arguments:\n",
    "            return self.name\n",
    "        elif self.name is None and self.arguments:\n",
    "            return \"({})\".format(','.join(map(str, self.arguments)))\n",
    "        else:\n",
    "            return \"{}({})\".format(self.name, ','.join(map(str, self.arguments)))\n",
    "\n",
    "    def match(self, name: Optional[str], arity: int = 0) -> bool:\n",
    "        return name == self.name and arity == len(self.arguments)\n",
    "\n",
    "    def match_signature(self, other: ForwardFunction) -> bool:\n",
    "        return self.match(other.name, other.arity)\n",
    "\n",
    "    def recursive_rename(self, new_name: Optional[str]) -> ForwardFunction:\n",
    "        stack: List[Function] = [self]\n",
    "        while stack:\n",
    "            current: Function = stack.pop()\n",
    "            if current.match(self.name, self.arity):\n",
    "                current.name = new_name\n",
    "            for arg in current.arguments:\n",
    "                if isinstance(arg, Function):\n",
    "                    stack.append(arg)\n",
    "        return self\n"
   ],
   "metadata": {
    "collapsed": false,
    "pycharm": {
     "name": "#%%\n"
    }
   }
  },
  {
   "cell_type": "code",
   "execution_count": 30,
   "outputs": [],
   "source": [
    "@dataclass\n",
    "class Atom:\n",
    "    symbol: Symbol = field(default_factory=Function)\n",
    "\n",
    "    def __str__(self):\n",
    "        return str(self.symbol)\n",
    "\n",
    "    def is_function(self):\n",
    "        return isinstance(self.symbol, Function)\n",
    "\n",
    "    def fill(self, env: Mapping[Variable, ForwardAtom]) -> ForwardAtom:\n",
    "        stack: List[Atom] = [self]\n",
    "        while stack:\n",
    "            current: Atom = stack.pop()\n",
    "            arguments = list(current.symbol.arguments)\n",
    "            i = 0\n",
    "            while i < current.symbol.arity:\n",
    "                arg = arguments[i]\n",
    "                if isinstance(arg, Variable) and arg in env:\n",
    "                    arguments[i] = env[arg]\n",
    "                else:\n",
    "                    stack.append(arg)\n",
    "                i += 1\n",
    "            assert len(current.symbol.arguments) == len(\n",
    "                arguments), \"Function.fill should not change arity of Function.\"\n",
    "            current.symbol.arguments = arguments\n",
    "        return self\n",
    "\n"
   ],
   "metadata": {
    "collapsed": false,
    "pycharm": {
     "name": "#%%\n"
    }
   }
  },
  {
   "cell_type": "code",
   "execution_count": 31,
   "outputs": [],
   "source": [
    "class Sign(IntEnum):\n",
    "    NoSign = 0\n",
    "    DefaultNeg = 1"
   ],
   "metadata": {
    "collapsed": false,
    "pycharm": {
     "name": "#%%\n"
    }
   }
  },
  {
   "cell_type": "code",
   "execution_count": 32,
   "outputs": [],
   "source": [
    "@dataclass\n",
    "class Literal:\n",
    "    atom: Atom = field(default_factory=Atom)\n",
    "    sign: Sign = Sign.NoSign\n",
    "\n",
    "    def __str__(self):\n",
    "        if self.sign is Sign.DefaultNeg:\n",
    "            return \"not {}\".format(self.atom)\n",
    "        return str(self.atom)\n",
    "\n",
    "    def __abs__(self):\n",
    "        return Literal(sign=Sign.NoSign, atom=copy.deepcopy(self.atom))"
   ],
   "metadata": {
    "collapsed": false,
    "pycharm": {
     "name": "#%%\n"
    }
   }
  },
  {
   "cell_type": "code",
   "execution_count": 33,
   "outputs": [],
   "source": [
    "ForwardRule = TypeVar('ForwardRule', bound='Rule')\n",
    "\n",
    "\n",
    "@dataclass\n",
    "class Rule:\n",
    "    head: Optional[Literal] = None\n",
    "    body: MutableSequence[Literal] = ()\n",
    "\n",
    "    def __str__(self) -> str:\n",
    "        if self.head is None and not self.body:\n",
    "            return \":-.\"\n",
    "        elif self.head is None:\n",
    "            return \":- {}.\".format(', '.join(map(str, self.body)))\n",
    "        elif not self.body:\n",
    "            return \"{}.\".format(self.head)\n",
    "        else:\n",
    "            return \"{} :- {}.\".format(self.head, ', '.join(map(str, self.body)))\n",
    "\n",
    "    def is_ground(self) -> bool:\n",
    "        pass\n",
    "\n",
    "    def substitute(self, env: Mapping[Variable, Atom]) -> ForwardRule:\n",
    "        if self.head is not None:\n",
    "            self.head.atom.fill(env)\n",
    "        for literal in self.body:\n",
    "            if literal.atom.is_function():\n",
    "                literal.atom.fill(env)\n",
    "        return self\n",
    "\n",
    "    def rename_atoms(self, new_name: Optional[str], name: Optional[str], arity: int = 0, head=True,\n",
    "                     body=True) -> ForwardRule:\n",
    "        if head:\n",
    "            if self.head is not None and self.head.atom.is_function() and self.head.atom.symbol.match(name, arity):\n",
    "                self.head.atom.symbol.recursive_rename(new_name)\n",
    "        if body:\n",
    "            for literal in self.body:\n",
    "                if literal.atom.is_function() and literal.atom.symbol.match(name, arity):\n",
    "                    literal.atom.symbol.recursive_rename(new_name)\n",
    "        return self\n",
    "\n",
    "    def postulate(self) -> ForwardRule:\n",
    "        self.body.clear()\n",
    "        return self"
   ],
   "metadata": {
    "collapsed": false,
    "pycharm": {
     "name": "#%%\n"
    }
   }
  },
  {
   "cell_type": "code",
   "execution_count": 34,
   "outputs": [],
   "source": [
    "ForwardGoal = TypeVar('ForwardGoal', bound='Goal')\n",
    "\n",
    "\n",
    "@dataclass\n",
    "class Goal:\n",
    "    rule: Optional[Rule] = None\n",
    "    parent: Optional[ForwardGoal] = field(default=None, repr=False)\n",
    "    children: Sequence[ForwardGoal] = field(default_factory=list, repr=False)\n",
    "    env: Dict[Variable, Term] = field(default_factory=dict)\n",
    "    inx: int = field(default=0, repr=False)\n",
    "\n",
    "\n",
    "ProofTree = Goal"
   ],
   "metadata": {
    "collapsed": false,
    "pycharm": {
     "name": "#%%\n"
    }
   }
  },
  {
   "cell_type": "code",
   "execution_count": 35,
   "outputs": [],
   "source": [
    "def unify(src_atom: Atom, src_env: Mapping[Variable, Atom], dest_atom: Atom,\n",
    "          dest_env: Optional[MutableMapping[Variable, Atom]] = None) -> bool:\n",
    "    src_symbol = src_atom.symbol\n",
    "    dest_symbol = dest_atom.symbol\n",
    "    if not isinstance(src_symbol, Function):\n",
    "        return False\n",
    "    if not isinstance(dest_symbol, Function):\n",
    "        return False\n",
    "    if not src_symbol.match_signature(dest_symbol):\n",
    "        return False\n",
    "    if dest_env is None:\n",
    "        dest_env = {}\n",
    "    for i in range(src_symbol.arity):\n",
    "        src_arg = src_symbol.arguments[i]\n",
    "        dest_arg = dest_symbol.arguments[i]\n",
    "        if isinstance(src_arg, Variable):\n",
    "            src_val = src_env.get(src_arg)\n",
    "        else:\n",
    "            src_val = src_arg\n",
    "        if src_val is not None:\n",
    "            if isinstance(dest_arg, Variable):\n",
    "                dest_val = dest_env.get(dest_arg)\n",
    "                if dest_val is None:\n",
    "                    dest_env[dest_arg] = src_val\n",
    "                elif dest_val != src_val:\n",
    "                    return False\n",
    "            elif dest_arg != src_val:\n",
    "                return False\n",
    "    return True"
   ],
   "metadata": {
    "collapsed": false,
    "pycharm": {
     "name": "#%%\n"
    }
   }
  },
  {
   "cell_type": "code",
   "execution_count": 36,
   "outputs": [],
   "source": [
    "def search(atom: Atom, rules: Sequence[Rule] = ()) -> Sequence[ProofTree]:\n",
    "    root = Goal(rule=Rule(head=Literal(), body=[Literal(atom=atom)]))\n",
    "    proof_trees = []\n",
    "    stack = [root]\n",
    "    while stack:\n",
    "        current = stack.pop()\n",
    "        if current.inx >= len(current.rule.body):\n",
    "            if current.parent is None:\n",
    "                if current.env:\n",
    "                    print(current.env)\n",
    "                else:\n",
    "                    print(\"Yes\")\n",
    "                proof_trees.append(current)\n",
    "            else:\n",
    "                parent = copy.deepcopy(current.parent)\n",
    "                unify(current.rule.head.atom, current.env, parent.rule.body[parent.inx].atom, parent.env)\n",
    "                parent.inx += 1\n",
    "                stack.append(parent)\n",
    "        else:\n",
    "            atom = current.rule.body[current.inx].atom\n",
    "            for rule in rules:\n",
    "                child_env = {}\n",
    "                unifiable = unify(atom, current.env, rule.head.atom, child_env)\n",
    "                if unifiable:\n",
    "                    child = Goal(env=child_env, parent=current, rule=rule)\n",
    "                    current.children.append(child)\n",
    "                    stack.append(child)\n",
    "    if not proof_trees:\n",
    "        print(\"No\")\n",
    "    return proof_trees"
   ],
   "metadata": {
    "collapsed": false,
    "pycharm": {
     "name": "#%%\n"
    }
   }
  },
  {
   "cell_type": "code",
   "execution_count": 37,
   "outputs": [],
   "source": [
    "@dataclass\n",
    "class Program:\n",
    "    rules: MutableSequence[Rule] = field(default_factory=list)\n",
    "\n",
    "    def __str__(self):\n",
    "        return ' '.join(map(str, self.rules))\n",
    "\n",
    "    def query(self, atom):\n",
    "        prooftrees = search(atom, self.rules)\n",
    "        envs = [prooftree.env for prooftree in prooftrees]\n",
    "        return envs\n",
    "\n",
    "    def evaluate_backwards(self, atom) -> Sequence[Atom]:\n",
    "        prooftrees = search(atom, self.rules)\n",
    "        answers = []\n",
    "        for prooftree in prooftrees:\n",
    "            stack = [prooftree]\n",
    "            while stack:\n",
    "                current = stack.pop()\n",
    "                env = current.env\n",
    "                for literal in current.body:\n",
    "                    fact = Rule(head=literal)\n",
    "                    fact.substitute(env)\n",
    "                    if fact.is_ground() and fact not in answers:\n",
    "                        answers.append(fact)\n",
    "                stack.extend(current.children)\n",
    "        return answers\n",
    "\n",
    "\n"
   ],
   "metadata": {
    "collapsed": false,
    "pycharm": {
     "name": "#%%\n"
    }
   }
  },
  {
   "cell_type": "code",
   "execution_count": 38,
   "outputs": [
    {
     "name": "stdout",
     "output_type": "stream",
     "text": [
      "child(X,Y) :- mother(Y,X). child(X,Y) :- father(Y,X). son(X,Y) :- child(X,Y), boy(X). boy(bill). boy(frank). mother(alice,bill). father(alex,bill).\n",
      "son(bill,A)?\n"
     ]
    }
   ],
   "source": [
    "X = Variable('X')\n",
    "Y = Variable('Y')\n",
    "A = Variable('A')\n",
    "bill = Function('bill')\n",
    "frank = Function('frank')\n",
    "alice = Function('alice')\n",
    "alex = Function('alex')\n",
    "\n",
    "program = Program([\n",
    "    Rule(head=Literal(atom= Atom(Function('child', (X, Y)))),\n",
    "         body=[Literal(atom=Atom(Function('mother', (Y, X))))]),\n",
    "    Rule(head=Literal(atom= Atom(Function('child', (X, Y)))),\n",
    "         body=[Literal(atom=Atom(Function('father', (Y, X))))]),\n",
    "\n",
    "    Rule(head=Literal(atom= Atom(Function('son', (X, Y)))),\n",
    "         body=[Literal(atom=Atom(Function('child', (X, Y)))), Literal(atom=Atom(Function('boy', (X,))))]),\n",
    "\n",
    "    Rule(head=Literal(atom= Atom(Function('boy', (bill,))))),\n",
    "    Rule(head=Literal(atom= Atom(Function('boy', (frank,))))),\n",
    "    Rule(head=Literal(atom= Atom(Function('mother', (alice, bill))))),\n",
    "    Rule(head=Literal(atom= Atom(Function('father', (alex, bill)))))\n",
    "])\n",
    "print(program)\n",
    "\n",
    "search_atom = Atom(Function('son', (bill, A)))\n",
    "print(f\"{search_atom}?\")"
   ],
   "metadata": {
    "collapsed": false,
    "pycharm": {
     "name": "#%%\n"
    }
   }
  },
  {
   "cell_type": "code",
   "execution_count": 39,
   "outputs": [
    {
     "name": "stdout",
     "output_type": "stream",
     "text": [
      "{Variable(name='A'): Function(name='alex', arguments=())}\n",
      "{Variable(name='A'): Function(name='alice', arguments=())}\n"
     ]
    },
    {
     "data": {
      "text/plain": "[{Variable(name='A'): Function(name='alex', arguments=())},\n {Variable(name='A'): Function(name='alice', arguments=())}]"
     },
     "execution_count": 39,
     "metadata": {},
     "output_type": "execute_result"
    }
   ],
   "source": [
    "program.query(search_atom)"
   ],
   "metadata": {
    "collapsed": false,
    "pycharm": {
     "name": "#%%\n"
    }
   }
  },
  {
   "cell_type": "code",
   "execution_count": 39,
   "outputs": [],
   "source": [],
   "metadata": {
    "collapsed": false,
    "pycharm": {
     "name": "#%%\n"
    }
   }
  }
 ],
 "metadata": {
  "kernelspec": {
   "display_name": "Python 3",
   "language": "python",
   "name": "python3"
  },
  "language_info": {
   "codemirror_mode": {
    "name": "ipython",
    "version": 2
   },
   "file_extension": ".py",
   "mimetype": "text/x-python",
   "name": "python",
   "nbconvert_exporter": "python",
   "pygments_lexer": "ipython2",
   "version": "2.7.6"
  }
 },
 "nbformat": 4,
 "nbformat_minor": 0
}