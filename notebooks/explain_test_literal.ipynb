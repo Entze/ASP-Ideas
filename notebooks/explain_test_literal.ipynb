{
 "cells": [
  {
   "cell_type": "code",
   "execution_count": 1,
   "outputs": [],
   "source": [
    "from copy import deepcopy\n",
    "from typing import Optional\n",
    "\n",
    "from util.explain import preprocess, negation_atoms, _derivation_path, _dependency_assumption, explanation_graph, Literal\n",
    "import networkx as nx"
   ],
   "metadata": {
    "collapsed": false,
    "pycharm": {
     "name": "#%%\n"
    }
   }
  },
  {
   "cell_type": "code",
   "execution_count": 2,
   "outputs": [],
   "source": [
    "a, b, c, e, f, k = (Literal(x, preferred_negation_symbol='~') for x in ('a', 'b', 'c', 'e', 'f', 'k'))\n",
    "\n",
    "example_program = {\n",
    "    e: [dict()],\n",
    "    b: [dict(positive=[], negative=[a])],\n",
    "    k: [dict(positive=[e], negative=[b])],\n",
    "    a: [dict(positive=[k], negative=[b])],\n",
    "    c: [dict(positive=[a, b], negative=[]), dict(positive=[k], negative=[])],\n",
    "    f: [dict(positive=[e], negative=[k, c])]\n",
    "}\n",
    "\n",
    "example_facts = {e}\n",
    "\n",
    "example_answer_set = {b, f, e}\n",
    "\n",
    "example_derivable_dict = {\n",
    "    f: [{~k, ~c, e}],\n",
    "    b: [{~a}],\n",
    "    ~c: [{~k, ~a}],\n",
    "    ~k: [{b}],\n",
    "    ~a: [{~k}, {b}],\n",
    "    e: [{\"T\"}]\n",
    "}"
   ],
   "metadata": {
    "collapsed": false,
    "pycharm": {
     "name": "#%%\n"
    }
   }
  },
  {
   "cell_type": "code",
   "execution_count": 3,
   "outputs": [
    {
     "data": {
      "text/plain": "<Figure size 432x288 with 1 Axes>",
      "image/png": "[encoded data removed]"
     },
     "metadata": {},
     "output_type": "display_data"
    }
   ],
   "source": [
    "graph:Optional[nx.DiGraph] = explanation_graph(f, deepcopy(example_derivable_dict), {a}, deepcopy(example_answer_set))\n",
    "assert graph is not None\n",
    "pos = nx.nx_pydot.pydot_layout(graph, 'dot', f)\n",
    "nx.draw(graph, pos=pos, with_labels=True)"
   ],
   "metadata": {
    "collapsed": false,
    "pycharm": {
     "name": "#%%\n"
    }
   }
  },
  {
   "cell_type": "code",
   "execution_count": 4,
   "outputs": [
    {
     "data": {
      "text/plain": "<Figure size 432x288 with 1 Axes>",
      "image/png": "[encoded data removed]"
     },
     "metadata": {},
     "output_type": "display_data"
    }
   ],
   "source": [
    "graph = explanation_graph(f, deepcopy(example_derivable_dict), {k}, deepcopy(example_answer_set))\n",
    "assert graph is not None\n",
    "pos = nx.nx_pydot.pydot_layout(graph, 'dot', f)\n",
    "nx.draw(graph, pos=pos, with_labels=True)"
   ],
   "metadata": {
    "collapsed": false,
    "pycharm": {
     "name": "#%%\n"
    }
   }
  },
  {
   "cell_type": "code",
   "execution_count": 9,
   "outputs": [
    {
     "data": {
      "text/plain": "t"
     },
     "execution_count": 9,
     "metadata": {},
     "output_type": "execute_result"
    }
   ],
   "source": [
    "t = Literal(name=\"t\", sign=1)\n",
    "t"
   ],
   "metadata": {
    "collapsed": false,
    "pycharm": {
     "name": "#%%\n"
    }
   }
  },
  {
   "cell_type": "code",
   "execution_count": 10,
   "outputs": [
    {
     "data": {
      "text/plain": "'-t'"
     },
     "execution_count": 10,
     "metadata": {},
     "output_type": "execute_result"
    }
   ],
   "source": [
    "str(-t)"
   ],
   "metadata": {
    "collapsed": false,
    "pycharm": {
     "name": "#%%\n"
    }
   }
  },
  {
   "cell_type": "code",
   "execution_count": 11,
   "outputs": [
    {
     "data": {
      "text/plain": "'~t'"
     },
     "execution_count": 11,
     "metadata": {},
     "output_type": "execute_result"
    }
   ],
   "source": [
    "str(~t)"
   ],
   "metadata": {
    "collapsed": false,
    "pycharm": {
     "name": "#%%\n"
    }
   }
  },
  {
   "cell_type": "code",
   "execution_count": 12,
   "outputs": [
    {
     "data": {
      "text/plain": "'¬t'"
     },
     "execution_count": 12,
     "metadata": {},
     "output_type": "execute_result"
    }
   ],
   "source": [
    "str(t.lnot())"
   ],
   "metadata": {
    "collapsed": false,
    "pycharm": {
     "name": "#%%\n"
    }
   }
  },
  {
   "cell_type": "code",
   "execution_count": null,
   "outputs": [],
   "source": [],
   "metadata": {
    "collapsed": false,
    "pycharm": {
     "name": "#%%\n"
    }
   }
  }
 ],
 "metadata": {
  "kernelspec": {
   "display_name": "Python 3",
   "language": "python",
   "name": "python3"
  },
  "language_info": {
   "codemirror_mode": {
    "name": "ipython",
    "version": 2
   },
   "file_extension": ".py",
   "mimetype": "text/x-python",
   "name": "python",
   "nbconvert_exporter": "python",
   "pygments_lexer": "ipython2",
   "version": "2.7.6"
  }
 },
 "nbformat": 4,
 "nbformat_minor": 0
}