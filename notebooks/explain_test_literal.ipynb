{
 "cells": [
  {
   "cell_type": "code",
   "execution_count": 1,
   "outputs": [
    {
     "ename": "ImportError",
     "evalue": "cannot import name 'Literal' from 'util.explain' (/home/lukas/Dev/ASP/Basics/util/explain.py)",
     "output_type": "error",
     "traceback": [
      "\u001B[0;31m---------------------------------------------------------------------------\u001B[0m",
      "\u001B[0;31mImportError\u001B[0m                               Traceback (most recent call last)",
      "Input \u001B[0;32mIn [1]\u001B[0m, in \u001B[0;36m<module>\u001B[0;34m\u001B[0m\n\u001B[1;32m      1\u001B[0m \u001B[38;5;28;01mfrom\u001B[39;00m \u001B[38;5;21;01mcopy\u001B[39;00m \u001B[38;5;28;01mimport\u001B[39;00m deepcopy\n\u001B[1;32m      2\u001B[0m \u001B[38;5;28;01mfrom\u001B[39;00m \u001B[38;5;21;01mtyping\u001B[39;00m \u001B[38;5;28;01mimport\u001B[39;00m Optional\n\u001B[0;32m----> 4\u001B[0m \u001B[38;5;28;01mfrom\u001B[39;00m \u001B[38;5;21;01mutil\u001B[39;00m\u001B[38;5;21;01m.\u001B[39;00m\u001B[38;5;21;01mexplain\u001B[39;00m \u001B[38;5;28;01mimport\u001B[39;00m preprocess, negation_atoms, _derivation_path, _dependency_assumption, explanation_graph, Literal\n\u001B[1;32m      5\u001B[0m \u001B[38;5;28;01mimport\u001B[39;00m \u001B[38;5;21;01mnetworkx\u001B[39;00m \u001B[38;5;28;01mas\u001B[39;00m \u001B[38;5;21;01mnx\u001B[39;00m\n",
      "\u001B[0;31mImportError\u001B[0m: cannot import name 'Literal' from 'util.explain' (/home/lukas/Dev/ASP/Basics/util/explain.py)"
     ]
    }
   ],
   "source": [
    "from copy import deepcopy\n",
    "from typing import Optional\n",
    "\n",
    "from util.explain import preprocess, negation_atoms, _derivation_path, _dependency_assumption, explanation_graph\n",
    "from util.literal import Literal\n",
    "import networkx as nx"
   ],
   "metadata": {
    "collapsed": false,
    "pycharm": {
     "name": "#%%\n"
    }
   }
  },
  {
   "cell_type": "code",
   "execution_count": null,
   "outputs": [],
   "source": [
    "a, b, c, e, f, k = (Literal(x, preferred_negation_symbol='~') for x in ('a', 'b', 'c', 'e', 'f', 'k'))\n",
    "\n",
    "example_program = {\n",
    "    e: [dict()],\n",
    "    b: [dict(positive=[], negative=[a])],\n",
    "    k: [dict(positive=[e], negative=[b])],\n",
    "    a: [dict(positive=[k], negative=[b])],\n",
    "    c: [dict(positive=[a, b], negative=[]), dict(positive=[k], negative=[])],\n",
    "    f: [dict(positive=[e], negative=[k, c])]\n",
    "}\n",
    "\n",
    "example_facts = {e}\n",
    "\n",
    "example_answer_set = {b, f, e}\n",
    "\n",
    "example_derivable_dict = {\n",
    "    f: [{~k, ~c, e}],\n",
    "    b: [{~a}],\n",
    "    ~c: [{~k, ~a}],\n",
    "    ~k: [{b}],\n",
    "    ~a: [{~k}, {b}],\n",
    "    e: [{\"T\"}]\n",
    "}"
   ],
   "metadata": {
    "collapsed": false,
    "pycharm": {
     "name": "#%%\n"
    }
   }
  },
  {
   "cell_type": "code",
   "execution_count": null,
   "outputs": [],
   "source": [
    "graph:Optional[nx.DiGraph] = explanation_graph(f, deepcopy(example_derivable_dict), {a}, deepcopy(example_answer_set))\n",
    "assert graph is not None\n",
    "pos = nx.nx_pydot.pydot_layout(graph, 'dot', f)\n",
    "nx.draw(graph, pos=pos, with_labels=True)"
   ],
   "metadata": {
    "collapsed": false,
    "pycharm": {
     "name": "#%%\n"
    }
   }
  },
  {
   "cell_type": "code",
   "execution_count": null,
   "outputs": [],
   "source": [
    "graph = explanation_graph(f, deepcopy(example_derivable_dict), {k}, deepcopy(example_answer_set))\n",
    "assert graph is not None\n",
    "pos = nx.nx_pydot.pydot_layout(graph, 'dot', f)\n",
    "nx.draw(graph, pos=pos, with_labels=True)"
   ],
   "metadata": {
    "collapsed": false,
    "pycharm": {
     "name": "#%%\n"
    }
   }
  },
  {
   "cell_type": "code",
   "execution_count": null,
   "outputs": [],
   "source": [
    "t = Literal(name=\"t\", sign=1)\n",
    "t"
   ],
   "metadata": {
    "collapsed": false,
    "pycharm": {
     "name": "#%%\n"
    }
   }
  },
  {
   "cell_type": "code",
   "execution_count": null,
   "outputs": [],
   "source": [
    "str(-t)"
   ],
   "metadata": {
    "collapsed": false,
    "pycharm": {
     "name": "#%%\n"
    }
   }
  },
  {
   "cell_type": "code",
   "execution_count": null,
   "outputs": [],
   "source": [
    "str(~t)"
   ],
   "metadata": {
    "collapsed": false,
    "pycharm": {
     "name": "#%%\n"
    }
   }
  },
  {
   "cell_type": "code",
   "execution_count": null,
   "outputs": [],
   "source": [
    "str(t.lnot())"
   ],
   "metadata": {
    "collapsed": false,
    "pycharm": {
     "name": "#%%\n"
    }
   }
  },
  {
   "cell_type": "code",
   "execution_count": null,
   "outputs": [],
   "source": [],
   "metadata": {
    "collapsed": false,
    "pycharm": {
     "name": "#%%\n"
    }
   }
  }
 ],
 "metadata": {
  "kernelspec": {
   "display_name": "Python 3",
   "language": "python",
   "name": "python3"
  },
  "language_info": {
   "codemirror_mode": {
    "name": "ipython",
    "version": 2
   },
   "file_extension": ".py",
   "mimetype": "text/x-python",
   "name": "python",
   "nbconvert_exporter": "python",
   "pygments_lexer": "ipython2",
   "version": "2.7.6"
  }
 },
 "nbformat": 4,
 "nbformat_minor": 0
}