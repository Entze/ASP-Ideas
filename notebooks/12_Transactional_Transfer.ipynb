{
 "cells": [
  {
   "cell_type": "code",
   "execution_count": 1,
   "metadata": {
    "collapsed": true
   },
   "outputs": [],
   "source": [
    "import sys\n",
    "\n",
    "sys.path.append(\"..\")"
   ]
  },
  {
   "cell_type": "code",
   "execution_count": 2,
   "outputs": [],
   "source": [
    "from util.run import solve"
   ],
   "metadata": {
    "collapsed": false,
    "pycharm": {
     "name": "#%%\n"
    }
   }
  },
  {
   "cell_type": "code",
   "execution_count": 3,
   "outputs": [
    {
     "name": "stdout",
     "output_type": "stream",
     "text": [
      "Answer  1: { agent(alice) agent(bob) amount(0) amount(1) amount(2) amount(3) amount(4) amount(5) amount(6) amount(7) amount(8) amount(9) amount(10) amount(11) amount(12) amount(13) amount(14) amount(15) amount(16) amount(17) amount(18) amount(19) amount(20) amount(21) amount(22) amount(23) amount(24) amount(25) amount(26) amount(27) amount(28) amount(29) amount(30) amount(31) amount(32) amount(33) amount(34) amount(35) amount(36) amount(37) amount(38) amount(39) amount(40) amount(41) amount(42) amount(43) amount(44) amount(45) amount(46) amount(47) amount(48) amount(49) amount(50) amount(51) amount(52) amount(53) amount(54) amount(55) amount(56) amount(57) amount(58) amount(59) amount(60) amount(61) amount(62) amount(63) amount(64) amount(65) amount(66) amount(67) amount(68) amount(69) amount(70) amount(71) amount(72) amount(73) amount(74) amount(75) amount(76) amount(77) amount(78) amount(79) amount(80) amount(81) amount(82) amount(83) amount(84) amount(85) amount(86) amount(87) amount(88) amount(89) amount(90) amount(91) amount(92) amount(93) amount(94) amount(95) amount(96) amount(97) amount(98) amount(99) amount(100) commodity(\"EUR\") commodity(\"good\") time(0) time(1) time(2) time(3) time(4) time(5) time(6) time(7) time(8) }.\n",
      "SAT 1 \n"
     ]
    }
   ],
   "source": [
    "domain = \"\"\"\n",
    "agent(alice;bob).\n",
    "time(0..8).\n",
    "amount(0..100).\n",
    "commodity(\"EUR\";\"good\").\n",
    "\"\"\"\n",
    "solve(domain);"
   ],
   "metadata": {
    "collapsed": false,
    "pycharm": {
     "name": "#%%\n"
    }
   }
  },
  {
   "cell_type": "code",
   "execution_count": 4,
   "outputs": [
    {
     "name": "stdout",
     "output_type": "stream",
     "text": [
      "Answer  1: { action(payer_payee_amount_commodity(alice,bob,100,\"EUR\")) action(payer_payee_amount_commodity(bob,alice,1,\"good\")) obligation(debtor_creditor_action_start_end(alice,bob,payer_payee_amount_commodity(alice,bob,100,\"EUR\"),2,8)) obligation(debtor_creditor_action_start_end(bob,alice,payer_payee_amount_commodity(bob,alice,1,\"good\"),2,8)) actionFulfils_obligation(payer_payee_amount_commodity(alice,bob,100,\"EUR\"),debtor_creditor_action_start_end(alice,bob,payer_payee_amount_commodity(alice,bob,100,\"EUR\"),2,8)) actionFulfils_obligation(payer_payee_amount_commodity(bob,alice,1,\"good\"),debtor_creditor_action_start_end(bob,alice,payer_payee_amount_commodity(bob,alice,1,\"good\"),2,8)) }.\n",
      "SAT 1 \n"
     ]
    }
   ],
   "source": [
    "domain_specific = \"\"\"\n",
    "step(attemptPayer_payee_amount_commodity(alice, bob, 100, \"EUR\")).\n",
    "step(payer_acceptPayee_amount_commodity(alice, bob, 100, \"EUR\")).\n",
    "step(attemptPayer_payee_amount_commodity(bob, alice, 1, \"good\")).\n",
    "step(payer_acceptPayee_amount_commodity(bob, alice, 1, \"good\")).\n",
    "\n",
    "action(payer_payee_amount_commodity(alice, bob, 100, \"EUR\")).\n",
    "action(payer_payee_amount_commodity(bob, alice, 1, \"good\")).\n",
    "\n",
    "obligation(debtor_creditor_action_start_end(alice, bob, Action, 2, 8)) :-\n",
    "  Action = payer_payee_amount_commodity(alice, bob, 100, \"EUR\").\n",
    "\n",
    "obligation(debtor_creditor_action_start_end(bob, alice, Action, 2, 8)) :-\n",
    "  Action = payer_payee_amount_commodity(bob, alice, 1, \"good\").\n",
    "\n",
    "actionFulfils_obligation(Action, Obligation) :-\n",
    "  action(Action),\n",
    "  Action = payer_payee_amount_commodity(Debtor, Creditor, _Amount, _Commodity),\n",
    "  obligation(Obligation),\n",
    "  Obligation = debtor_creditor_action_start_end(Debtor, Creditor, Action, Start, End).\n",
    "\n",
    "\"\"\"\n",
    "solve(domain_specific);"
   ],
   "metadata": {
    "collapsed": false,
    "pycharm": {
     "name": "#%%\n"
    }
   }
  },
  {
   "cell_type": "code",
   "execution_count": null,
   "outputs": [],
   "source": [
    "actions = \"\"\"\n",
    "occ(payer_payee_amount_commodity(Payer, Payee, Amount, Commodity), T) :-\n",
    "   time(AttemptTime), time(T), AttemptTime <= T,\n",
    "   occ(attemptPayer_payee_amount_commodity(Payer, Payee, Amount, Commodity), AttemptTime),\n",
    "   occ(payer_acceptPayee_amount_commodity(Payer, Payee, Amount, Commodity), T).\n",
    "\"\"\"\n",
    "solve(actions);"
   ],
   "metadata": {
    "collapsed": false,
    "pycharm": {
     "name": "#%%\n"
    }
   }
  },
  {
   "cell_type": "code",
   "execution_count": 5,
   "outputs": [
    {
     "name": "stdout",
     "output_type": "stream",
     "text": [
      "Answer  1: { obs(agent_account_balance_commodity(alice,commitments,0,debtor_creditor_action_start_end(alice,bob,payer_payee_amount_commodity(alice,bob,100,\"EUR\"),2,8)),0) obs(agent_account_balance_commodity(alice,demands,0,debtor_creditor_action_start_end(bob,alice,payer_payee_amount_commodity(bob,alice,1,\"good\"),2,8)),0) obs(agent_account_balance_commodity(alice,register,100,\"EUR\"),0) obs(agent_account_balance_commodity(alice,store,0,\"good\"),0) obs(agent_account_balance_commodity(bob,commitments,0,debtor_creditor_action_start_end(bob,alice,payer_payee_amount_commodity(bob,alice,1,\"good\"),2,8)),0) obs(agent_account_balance_commodity(bob,demands,0,debtor_creditor_action_start_end(alice,bob,payer_payee_amount_commodity(alice,bob,100,\"EUR\"),2,8)),0) obs(agent_account_balance_commodity(bob,register,0,\"EUR\"),0) obs(agent_account_balance_commodity(bob,store,1,\"good\"),0) }.\n",
      "SAT 1 \n"
     ]
    }
   ],
   "source": [
    "obs = \"\"\"\n",
    "obs(agent_account_balance_commodity(alice, register, 100, \"EUR\"), 0).\n",
    "obs(agent_account_balance_commodity(alice, store, 0, \"good\"), 0).\n",
    "obs(agent_account_balance_commodity(bob, register, 0, \"EUR\"), 0).\n",
    "obs(agent_account_balance_commodity(bob, store, 1, \"good\"), 0).\n",
    "\n",
    "\n",
    "obs(agent_account_balance_commodity(alice, commitments, 0, Obligation), 0) :-\n",
    "  Payment = payer_payee_amount_commodity(alice, bob, 100, \"EUR\"),\n",
    "  Obligation = debtor_creditor_action_start_end(alice, bob, Payment, 2, 8).\n",
    "\n",
    "obs(agent_account_balance_commodity(bob, demands, 0, Obligation), 0) :-\n",
    "  Payment = payer_payee_amount_commodity(alice, bob, 100, \"EUR\"),\n",
    "  Obligation = debtor_creditor_action_start_end(alice, bob, Payment, 2, 8).\n",
    "\n",
    "obs(agent_account_balance_commodity(bob, commitments, 0, Obligation), 0) :-\n",
    "  Payment = payer_payee_amount_commodity(bob, alice, 1, \"good\"),\n",
    "  Obligation = debtor_creditor_action_start_end(bob, alice, Payment, 2, 8).\n",
    "\n",
    "obs(agent_account_balance_commodity(alice, demands, 0, Obligation), 0) :-\n",
    "  Payment = payer_payee_amount_commodity(bob, alice, 1, \"good\"),\n",
    "  Obligation = debtor_creditor_action_start_end(bob, alice, Payment, 2, 8).\n",
    "\n",
    "\"\"\"\n",
    "solve(obs);"
   ],
   "metadata": {
    "collapsed": false,
    "pycharm": {
     "name": "#%%\n"
    }
   }
  },
  {
   "cell_type": "code",
   "execution_count": 6,
   "outputs": [
    {
     "name": "stdout",
     "output_type": "stream",
     "text": [
      "Answer  1: { occ(contract_agreement,1) occ(payer_payee_amount_commodity(alice,bob,100,\"EUR\"),3) occ(payer_payee_amount_commodity(bob,alice,1,\"good\"),6) }.\n",
      "SAT 1 \n"
     ]
    }
   ],
   "source": [
    "\n",
    "occs = \"\"\"\n",
    "\n",
    "occ(contract_agreement, 1).\n",
    "occ(attemptPayer_payee_amount_commodity(alice, bob, 100, \"EUR\"), 3).\n",
    "occ(payer_acceptPayee_amount_commodity(alice, bob, 100, \"EUR\"), 4).\n",
    "occ(attemptPayer_payee_amount_commodity(bob, alice, 1, \"good\"), 6).\n",
    "occ(payer_acceptPayee_amount_commodity(bob, alice, 1, \"good\"), 7).\n",
    "\n",
    "\"\"\"\n",
    "solve(occs);"
   ],
   "metadata": {
    "collapsed": false,
    "pycharm": {
     "name": "#%%\n"
    }
   }
  },
  {
   "cell_type": "code",
   "execution_count": 7,
   "outputs": [],
   "source": [
    "occs_violation = \"\"\"\n",
    "\n",
    "occ(contract_agreement, 1).\n",
    "occ(payer_payee_amount_commodity(alice, bob, 100, \"EUR\"), 3).\n",
    "\n",
    "\"\"\""
   ],
   "metadata": {
    "collapsed": false,
    "pycharm": {
     "name": "#%%\n"
    }
   }
  },
  {
   "cell_type": "code",
   "execution_count": 8,
   "outputs": [
    {
     "name": "stdout",
     "output_type": "stream",
     "text": [
      "Answer  1: {  }.\n",
      "SAT 1 \n"
     ]
    }
   ],
   "source": [
    "\n",
    "contract_rules = \"\"\"\n",
    "\n",
    "occ(Obligation, T) :-\n",
    "  Payment = payer_payee_amount_commodity(alice, bob, 100, \"EUR\"),\n",
    "  Obligation = debtor_creditor_action_start_end(alice, bob, Payment, T+1, T+7),\n",
    "  occ(contract_agreement, T).\n",
    "\n",
    "occ(Obligation, T) :-\n",
    "  Payment = payer_payee_amount_commodity(bob, alice, 1, \"good\"),\n",
    "  Obligation = debtor_creditor_action_start_end(bob, alice, Payment, T+1, T+7),\n",
    "  occ(contract_agreement, T).\n",
    "\n",
    "\"\"\"\n",
    "solve(contract_rules);"
   ],
   "metadata": {
    "collapsed": false,
    "pycharm": {
     "name": "#%%\n"
    }
   }
  },
  {
   "cell_type": "code",
   "execution_count": 9,
   "outputs": [
    {
     "name": "stdout",
     "output_type": "stream",
     "text": [
      "Answer  1: {  }.\n",
      "SAT 1 \n"
     ]
    },
    {
     "name": "stderr",
     "output_type": "stream",
     "text": [
      "<block>:4:3-25: info: atom does not occur in any rule head:\n",
      "  obligation(Obligation)\n",
      "\n",
      "<block>:6:3-17: info: atom does not occur in any rule head:\n",
      "  action(Action)\n",
      "\n",
      "<block>:10:3-25: info: atom does not occur in any rule head:\n",
      "  obligation(Obligation)\n",
      "\n",
      "<block>:12:3-17: info: atom does not occur in any rule head:\n",
      "  action(Action)\n",
      "\n"
     ]
    }
   ],
   "source": [
    "obligation_rules = \"\"\"\n",
    "\n",
    "occ(credit(Debtor, commitments, 1, Obligation), T) :-\n",
    "  obligation(Obligation),\n",
    "  Obligation = debtor_creditor_action_start_end(Debtor, Creditor, Action, Start, End),\n",
    "  action(Action),\n",
    "  occ(Obligation, T).\n",
    "\n",
    "occ(debit(Creditor, demands, 1, Obligation), T) :-\n",
    "  obligation(Obligation),\n",
    "  Obligation = debtor_creditor_action_start_end(Debtor, Creditor, Action, Start, End),\n",
    "  action(Action),\n",
    "  occ(Obligation, T).\n",
    "\n",
    "\"\"\"\n",
    "solve(obligation_rules);"
   ],
   "metadata": {
    "collapsed": false,
    "pycharm": {
     "name": "#%%\n"
    }
   }
  },
  {
   "cell_type": "code",
   "execution_count": 10,
   "outputs": [
    {
     "name": "stdout",
     "output_type": "stream",
     "text": [
      "Answer  1: {  }.\n",
      "SAT 1 \n"
     ]
    },
    {
     "name": "stderr",
     "output_type": "stream",
     "text": [
      "<block>:4:3-10: info: atom does not occur in any rule head:\n",
      "  time(T)\n",
      "\n",
      "<block>:5:3-17: info: atom does not occur in any rule head:\n",
      "  action(Action)\n",
      "\n",
      "<block>:6:3-25: info: atom does not occur in any rule head:\n",
      "  obligation(Obligation)\n",
      "\n",
      "<block>:7:3-47: info: atom does not occur in any rule head:\n",
      "  actionFulfils_obligation(Action,Obligation)\n",
      "\n",
      "<block>:9:3-78: info: atom does not occur in any rule head:\n",
      "  obs(agent_account_balance_commodity(Debtor,commitments,C,Obligation),T)\n",
      "\n",
      "<block>:11:3-16: info: atom does not occur in any rule head:\n",
      "  agent(Debtor)\n",
      "\n",
      "<block>:14:3-10: info: atom does not occur in any rule head:\n",
      "  time(T)\n",
      "\n",
      "<block>:15:3-17: info: atom does not occur in any rule head:\n",
      "  action(Action)\n",
      "\n",
      "<block>:16:3-25: info: atom does not occur in any rule head:\n",
      "  obligation(Obligation)\n",
      "\n",
      "<block>:17:3-47: info: atom does not occur in any rule head:\n",
      "  actionFulfils_obligation(Action,Obligation)\n",
      "\n",
      "<block>:19:3-76: info: atom does not occur in any rule head:\n",
      "  obs(agent_account_balance_commodity(Creditor,demands,C,Obligation),T)\n",
      "\n",
      "<block>:21:3-18: info: atom does not occur in any rule head:\n",
      "  agent(Creditor)\n",
      "\n"
     ]
    }
   ],
   "source": [
    "\n",
    "obligation_fulfilment_rules = \"\"\"\n",
    "\n",
    "occ(debit(Debtor, commitments, 1, Obligation), T) :-\n",
    "  time(T),\n",
    "  action(Action),\n",
    "  obligation(Obligation),\n",
    "  actionFulfils_obligation(Action, Obligation),\n",
    "  occ(Action, T),\n",
    "  obs(agent_account_balance_commodity(Debtor, commitments, C, Obligation), T),\n",
    "  C >= 1,\n",
    "  agent(Debtor).\n",
    "\n",
    "occ(credit(Creditor, demands, 1, Obligation), T) :-\n",
    "  time(T),\n",
    "  action(Action),\n",
    "  obligation(Obligation),\n",
    "  actionFulfils_obligation(Action, Obligation),\n",
    "  occ(Action, T),\n",
    "  obs(agent_account_balance_commodity(Creditor, demands, C, Obligation), T),\n",
    "  C >= 1,\n",
    "  agent(Creditor).\n",
    "\n",
    "\n",
    "\"\"\"\n",
    "solve(obligation_fulfilment_rules);"
   ],
   "metadata": {
    "collapsed": false,
    "pycharm": {
     "name": "#%%\n"
    }
   }
  },
  {
   "cell_type": "code",
   "execution_count": 11,
   "outputs": [
    {
     "name": "stdout",
     "output_type": "stream",
     "text": [
      "Answer  1: {  }.\n",
      "SAT 1 \n"
     ]
    },
    {
     "name": "stderr",
     "output_type": "stream",
     "text": [
      "<block>:7:3-79: info: atom does not occur in any rule head:\n",
      "  obs(agent_account_balance_commodity(Payer,register,RAmount,Commodity),T)\n",
      "\n",
      "<block>:13:3-76: info: atom does not occur in any rule head:\n",
      "  obs(agent_account_balance_commodity(Payer,store,RAmount,Commodity),T)\n",
      "\n",
      "<block>:19:3-79: info: atom does not occur in any rule head:\n",
      "  obs(agent_account_balance_commodity(Payer,register,RAmount,Commodity),T)\n",
      "\n",
      "<block>:25:3-76: info: atom does not occur in any rule head:\n",
      "  obs(agent_account_balance_commodity(Payer,store,RAmount,Commodity),T)\n",
      "\n"
     ]
    }
   ],
   "source": [
    "\n",
    "payment_rules = \"\"\"\n",
    "\n",
    "occ(debit(Payee, register, Amount, Commodity), T) :-\n",
    "  occ(Payment, T),\n",
    "  Payment = payer_payee_amount_commodity(Payer, Payee, Amount, Commodity),\n",
    "  RAmount >= Amount,\n",
    "  obs(agent_account_balance_commodity(Payer, register, RAmount, Commodity), T).\n",
    "\n",
    "occ(debit(Payee, store, Amount, Commodity), T) :-\n",
    "  occ(Payment, T),\n",
    "  Payment = payer_payee_amount_commodity(Payer, Payee, Amount, Commodity),\n",
    "  RAmount >= Amount,\n",
    "  obs(agent_account_balance_commodity(Payer, store, RAmount, Commodity), T).\n",
    "\n",
    "occ(credit(Payer, register, Amount, Commodity), T) :-\n",
    "  occ(Payment, T),\n",
    "  Payment = payer_payee_amount_commodity(Payer, Payee, Amount, Commodity),\n",
    "  RAmount >= Amount,\n",
    "  obs(agent_account_balance_commodity(Payer, register, RAmount, Commodity), T).\n",
    "\n",
    "occ(credit(Payer, store, Amount, Commodity), T) :-\n",
    "  occ(Payment, T),\n",
    "  Payment = payer_payee_amount_commodity(Payer, Payee, Amount, Commodity),\n",
    "  RAmount >= Amount,\n",
    "  obs(agent_account_balance_commodity(Payer, store, RAmount, Commodity), T).\n",
    "\n",
    "\"\"\"\n",
    "solve(payment_rules);"
   ],
   "metadata": {
    "collapsed": false,
    "pycharm": {
     "name": "#%%\n"
    }
   }
  },
  {
   "cell_type": "code",
   "execution_count": 12,
   "outputs": [
    {
     "name": "stdout",
     "output_type": "stream",
     "text": [
      "Answer  1: { account_type(commitments,passive) account_type(demands,active) account_type(register,active) account_type(store,active) }.\n",
      "SAT 1 \n"
     ]
    }
   ],
   "source": [
    "\n",
    "accounts = \"\"\"\n",
    "\n",
    "account_type(demands, active).\n",
    "account_type(register, active).\n",
    "account_type(store, active).\n",
    "account_type(commitments, passive).\n",
    "\n",
    "\"\"\"\n",
    "solve(accounts);"
   ],
   "metadata": {
    "collapsed": false,
    "pycharm": {
     "name": "#%%\n"
    }
   }
  },
  {
   "cell_type": "code",
   "execution_count": 13,
   "outputs": [
    {
     "name": "stdout",
     "output_type": "stream",
     "text": [
      "Answer  1: {  }.\n",
      "SAT 1 \n"
     ]
    },
    {
     "name": "stderr",
     "output_type": "stream",
     "text": [
      "<block>:5:3-10: info: atom does not occur in any rule head:\n",
      "  time(T)\n",
      "\n",
      "<block>:6:7-50: info: atom does not occur in any rule head:\n",
      "  occ(debit(#X0,#X1,#P2,#X3),#X4)\n",
      "\n",
      "<block>:6:56-100: info: atom does not occur in any rule head:\n",
      "  occ(credit(#X0,#X1,#P2,#X3),#X4)\n",
      "\n"
     ]
    }
   ],
   "source": [
    "\n",
    "balance_inertia_rules = \"\"\"\n",
    "\n",
    "obs(agent_account_balance_commodity(Agent, Account, Balance, Commodity), T+1) :-\n",
    "  obs(agent_account_balance_commodity(Agent, Account, Balance, Commodity), T),\n",
    "  time(T),\n",
    "  not occ(debit(Agent, Account, _, Commodity), T), not occ(credit(Agent, Account, _, Commodity), T).\n",
    "\n",
    "\"\"\"\n",
    "solve(balance_inertia_rules);"
   ],
   "metadata": {
    "collapsed": false,
    "pycharm": {
     "name": "#%%\n"
    }
   }
  },
  {
   "cell_type": "code",
   "execution_count": 14,
   "outputs": [
    {
     "name": "stdout",
     "output_type": "stream",
     "text": [
      "Answer  1: {  }.\n",
      "SAT 1 \n"
     ]
    },
    {
     "name": "stderr",
     "output_type": "stream",
     "text": [
      "<block>:8:3-51: info: atom does not occur in any rule head:\n",
      "  occ(debit(Agent,Account,Amount,Commodity),T)\n",
      "\n",
      "<block>:9:3-10: info: atom does not occur in any rule head:\n",
      "  time(T)\n",
      "\n",
      "<block>:10:3-32: info: atom does not occur in any rule head:\n",
      "  account_type(Account,active)\n",
      "\n",
      "<block>:15:3-52: info: atom does not occur in any rule head:\n",
      "  occ(credit(Agent,Account,Amount,Commodity),T)\n",
      "\n",
      "<block>:16:3-10: info: atom does not occur in any rule head:\n",
      "  time(T)\n",
      "\n",
      "<block>:17:3-32: info: atom does not occur in any rule head:\n",
      "  account_type(Account,active)\n",
      "\n",
      "<block>:24:3-51: info: atom does not occur in any rule head:\n",
      "  occ(debit(Agent,Account,Amount,Commodity),T)\n",
      "\n",
      "<block>:25:3-10: info: atom does not occur in any rule head:\n",
      "  time(T)\n",
      "\n",
      "<block>:26:3-33: info: atom does not occur in any rule head:\n",
      "  account_type(Account,passive)\n",
      "\n",
      "<block>:31:3-52: info: atom does not occur in any rule head:\n",
      "  occ(credit(Agent,Account,Amount,Commodity),T)\n",
      "\n",
      "<block>:32:3-10: info: atom does not occur in any rule head:\n",
      "  time(T)\n",
      "\n",
      "<block>:33:3-33: info: atom does not occur in any rule head:\n",
      "  account_type(Account,passive)\n",
      "\n"
     ]
    }
   ],
   "source": [
    "\n",
    "transaction_rules = \"\"\"\n",
    "\n",
    "%%% ACTIVE\n",
    "\n",
    "% DEBIT\n",
    "obs(agent_account_balance_commodity(Agent, Account, Balance + Amount, Commodity), T+1) :-\n",
    "  obs(agent_account_balance_commodity(Agent, Account, Balance, Commodity), T),\n",
    "  occ(debit(Agent, Account, Amount, Commodity), T),\n",
    "  time(T),\n",
    "  account_type(Account, active).\n",
    "\n",
    "% CREDIT\n",
    "obs(agent_account_balance_commodity(Agent, Account, Balance - Amount, Commodity), T+1) :-\n",
    "  obs(agent_account_balance_commodity(Agent, Account, Balance, Commodity), T),\n",
    "  occ(credit(Agent, Account, Amount, Commodity), T),\n",
    "  time(T),\n",
    "  account_type(Account, active).\n",
    "\n",
    "%%% PASSIVE\n",
    "\n",
    "% DEBIT\n",
    "obs(agent_account_balance_commodity(Agent, Account, Balance - Amount, Commodity), T+1) :-\n",
    "  obs(agent_account_balance_commodity(Agent, Account, Balance, Commodity), T),\n",
    "  occ(debit(Agent, Account, Amount, Commodity), T),\n",
    "  time(T),\n",
    "  account_type(Account, passive).\n",
    "\n",
    "% CREDIT\n",
    "obs(agent_account_balance_commodity(Agent, Account, Balance + Amount, Commodity), T+1) :-\n",
    "  obs(agent_account_balance_commodity(Agent, Account, Balance, Commodity), T),\n",
    "  occ(credit(Agent, Account, Amount, Commodity), T),\n",
    "  time(T),\n",
    "  account_type(Account, passive).\n",
    "\n",
    "\"\"\"\n",
    "solve(transaction_rules);"
   ],
   "metadata": {
    "collapsed": false,
    "pycharm": {
     "name": "#%%\n"
    }
   }
  },
  {
   "cell_type": "code",
   "execution_count": 15,
   "outputs": [
    {
     "name": "stdout",
     "output_type": "stream",
     "text": [
      "Answer  1: {  }.\n",
      "SAT 1 \n"
     ]
    },
    {
     "name": "stderr",
     "output_type": "stream",
     "text": [
      "<block>:4:3-25: info: atom does not occur in any rule head:\n",
      "  obligation(Obligation)\n",
      "\n",
      "<block>:6:3-80: info: atom does not occur in any rule head:\n",
      "  obs(agent_account_balance_commodity(Debtor,commitments,N,Obligation),(T+1))\n",
      "\n",
      "<block>:7:3-78: info: atom does not occur in any rule head:\n",
      "  obs(agent_account_balance_commodity(Creditor,demands,M,Obligation),(T+1))\n",
      "\n",
      "<block>:9:3-16: info: atom does not occur in any rule head:\n",
      "  agent(Debtor)\n",
      "\n",
      "<block>:9:18-33: info: atom does not occur in any rule head:\n",
      "  agent(Creditor)\n",
      "\n",
      "<block>:10:3-10: info: atom does not occur in any rule head:\n",
      "  time(T)\n",
      "\n",
      "<block>:10:16-25: info: atom does not occur in any rule head:\n",
      "  time((T+1))\n",
      "\n"
     ]
    }
   ],
   "source": [
    "violation_rules = \"\"\"\n",
    "\n",
    "obs(violatedObligation_liable_wronged(Obligation, Debtor, Creditor), T) :-\n",
    "  obligation(Obligation),\n",
    "  Obligation = debtor_creditor_action_start_end(Debtor, Creditor, _Action, _Start, _End),\n",
    "  obs(agent_account_balance_commodity(Debtor, commitments, N, Obligation), T+1),\n",
    "  obs(agent_account_balance_commodity(Creditor, demands, M, Obligation), T+1),\n",
    "  N >= 1, M >= 1,\n",
    "  agent(Debtor), agent(Creditor),\n",
    "  time(T), not time(T+1). % T is the end of time.\n",
    "\n",
    "\"\"\"\n",
    "\n",
    "solve(violation_rules);"
   ],
   "metadata": {
    "collapsed": false,
    "pycharm": {
     "name": "#%%\n"
    }
   }
  },
  {
   "cell_type": "code",
   "execution_count": 16,
   "outputs": [],
   "source": [
    "\n",
    "show = \"\"\"\n",
    "%#show obs(agent_account_balance_commodity(alice, account, 0;1;100, Commodity), T) : time(T), commodity(Commodity).\n",
    "#show obs/2.\n",
    "#show occ/2.\n",
    "\"\"\""
   ],
   "metadata": {
    "collapsed": false,
    "pycharm": {
     "name": "#%%\n"
    }
   }
  },
  {
   "cell_type": "code",
   "execution_count": 17,
   "outputs": [
    {
     "name": "stdout",
     "output_type": "stream",
     "text": [
      "Answer  1: {\n",
      "obs(violatedObligation_liable_wronged(debtor_creditor_action_start_end(bob,alice,payer_payee_amount_commodity(bob,alice,1,\"good\"),2,8),bob,alice),8)\n",
      "obs(agent_account_balance_commodity(alice,commitments,0,debtor_creditor_action_start_end(alice,bob,payer_payee_amount_commodity(alice,bob,100,\"EUR\"),2,8)),0)\n",
      "obs(agent_account_balance_commodity(alice,commitments,0,debtor_creditor_action_start_end(alice,bob,payer_payee_amount_commodity(alice,bob,100,\"EUR\"),2,8)),1)\n",
      "obs(agent_account_balance_commodity(alice,commitments,0,debtor_creditor_action_start_end(alice,bob,payer_payee_amount_commodity(alice,bob,100,\"EUR\"),2,8)),4)\n",
      "obs(agent_account_balance_commodity(alice,commitments,0,debtor_creditor_action_start_end(alice,bob,payer_payee_amount_commodity(alice,bob,100,\"EUR\"),2,8)),5)\n",
      "obs(agent_account_balance_commodity(alice,commitments,0,debtor_creditor_action_start_end(alice,bob,payer_payee_amount_commodity(alice,bob,100,\"EUR\"),2,8)),6)\n",
      "obs(agent_account_balance_commodity(alice,commitments,0,debtor_creditor_action_start_end(alice,bob,payer_payee_amount_commodity(alice,bob,100,\"EUR\"),2,8)),7)\n",
      "obs(agent_account_balance_commodity(alice,commitments,0,debtor_creditor_action_start_end(alice,bob,payer_payee_amount_commodity(alice,bob,100,\"EUR\"),2,8)),8)\n",
      "obs(agent_account_balance_commodity(alice,commitments,0,debtor_creditor_action_start_end(alice,bob,payer_payee_amount_commodity(alice,bob,100,\"EUR\"),2,8)),9)\n",
      "obs(agent_account_balance_commodity(alice,commitments,1,debtor_creditor_action_start_end(alice,bob,payer_payee_amount_commodity(alice,bob,100,\"EUR\"),2,8)),2)\n",
      "obs(agent_account_balance_commodity(alice,commitments,1,debtor_creditor_action_start_end(alice,bob,payer_payee_amount_commodity(alice,bob,100,\"EUR\"),2,8)),3)\n",
      "obs(agent_account_balance_commodity(alice,demands,0,debtor_creditor_action_start_end(bob,alice,payer_payee_amount_commodity(bob,alice,1,\"good\"),2,8)),0)\n",
      "obs(agent_account_balance_commodity(alice,demands,0,debtor_creditor_action_start_end(bob,alice,payer_payee_amount_commodity(bob,alice,1,\"good\"),2,8)),1)\n",
      "obs(agent_account_balance_commodity(alice,demands,1,debtor_creditor_action_start_end(bob,alice,payer_payee_amount_commodity(bob,alice,1,\"good\"),2,8)),2)\n",
      "obs(agent_account_balance_commodity(alice,demands,1,debtor_creditor_action_start_end(bob,alice,payer_payee_amount_commodity(bob,alice,1,\"good\"),2,8)),3)\n",
      "obs(agent_account_balance_commodity(alice,demands,1,debtor_creditor_action_start_end(bob,alice,payer_payee_amount_commodity(bob,alice,1,\"good\"),2,8)),4)\n",
      "obs(agent_account_balance_commodity(alice,demands,1,debtor_creditor_action_start_end(bob,alice,payer_payee_amount_commodity(bob,alice,1,\"good\"),2,8)),5)\n",
      "obs(agent_account_balance_commodity(alice,demands,1,debtor_creditor_action_start_end(bob,alice,payer_payee_amount_commodity(bob,alice,1,\"good\"),2,8)),6)\n",
      "obs(agent_account_balance_commodity(alice,demands,1,debtor_creditor_action_start_end(bob,alice,payer_payee_amount_commodity(bob,alice,1,\"good\"),2,8)),7)\n",
      "obs(agent_account_balance_commodity(alice,demands,1,debtor_creditor_action_start_end(bob,alice,payer_payee_amount_commodity(bob,alice,1,\"good\"),2,8)),8)\n",
      "obs(agent_account_balance_commodity(alice,demands,1,debtor_creditor_action_start_end(bob,alice,payer_payee_amount_commodity(bob,alice,1,\"good\"),2,8)),9)\n",
      "obs(agent_account_balance_commodity(alice,register,0,\"EUR\"),4)\n",
      "obs(agent_account_balance_commodity(alice,register,0,\"EUR\"),5)\n",
      "obs(agent_account_balance_commodity(alice,register,0,\"EUR\"),6)\n",
      "obs(agent_account_balance_commodity(alice,register,0,\"EUR\"),7)\n",
      "obs(agent_account_balance_commodity(alice,register,0,\"EUR\"),8)\n",
      "obs(agent_account_balance_commodity(alice,register,0,\"EUR\"),9)\n",
      "obs(agent_account_balance_commodity(alice,register,100,\"EUR\"),0)\n",
      "obs(agent_account_balance_commodity(alice,register,100,\"EUR\"),1)\n",
      "obs(agent_account_balance_commodity(alice,register,100,\"EUR\"),2)\n",
      "obs(agent_account_balance_commodity(alice,register,100,\"EUR\"),3)\n",
      "obs(agent_account_balance_commodity(alice,store,0,\"good\"),0)\n",
      "obs(agent_account_balance_commodity(alice,store,0,\"good\"),1)\n",
      "obs(agent_account_balance_commodity(alice,store,0,\"good\"),2)\n",
      "obs(agent_account_balance_commodity(alice,store,0,\"good\"),3)\n",
      "obs(agent_account_balance_commodity(alice,store,0,\"good\"),4)\n",
      "obs(agent_account_balance_commodity(alice,store,0,\"good\"),5)\n",
      "obs(agent_account_balance_commodity(alice,store,0,\"good\"),6)\n",
      "obs(agent_account_balance_commodity(alice,store,0,\"good\"),7)\n",
      "obs(agent_account_balance_commodity(alice,store,0,\"good\"),8)\n",
      "obs(agent_account_balance_commodity(alice,store,0,\"good\"),9)\n",
      "obs(agent_account_balance_commodity(bob,commitments,0,debtor_creditor_action_start_end(bob,alice,payer_payee_amount_commodity(bob,alice,1,\"good\"),2,8)),0)\n",
      "obs(agent_account_balance_commodity(bob,commitments,0,debtor_creditor_action_start_end(bob,alice,payer_payee_amount_commodity(bob,alice,1,\"good\"),2,8)),1)\n",
      "obs(agent_account_balance_commodity(bob,commitments,1,debtor_creditor_action_start_end(bob,alice,payer_payee_amount_commodity(bob,alice,1,\"good\"),2,8)),2)\n",
      "obs(agent_account_balance_commodity(bob,commitments,1,debtor_creditor_action_start_end(bob,alice,payer_payee_amount_commodity(bob,alice,1,\"good\"),2,8)),3)\n",
      "obs(agent_account_balance_commodity(bob,commitments,1,debtor_creditor_action_start_end(bob,alice,payer_payee_amount_commodity(bob,alice,1,\"good\"),2,8)),4)\n",
      "obs(agent_account_balance_commodity(bob,commitments,1,debtor_creditor_action_start_end(bob,alice,payer_payee_amount_commodity(bob,alice,1,\"good\"),2,8)),5)\n",
      "obs(agent_account_balance_commodity(bob,commitments,1,debtor_creditor_action_start_end(bob,alice,payer_payee_amount_commodity(bob,alice,1,\"good\"),2,8)),6)\n",
      "obs(agent_account_balance_commodity(bob,commitments,1,debtor_creditor_action_start_end(bob,alice,payer_payee_amount_commodity(bob,alice,1,\"good\"),2,8)),7)\n",
      "obs(agent_account_balance_commodity(bob,commitments,1,debtor_creditor_action_start_end(bob,alice,payer_payee_amount_commodity(bob,alice,1,\"good\"),2,8)),8)\n",
      "obs(agent_account_balance_commodity(bob,commitments,1,debtor_creditor_action_start_end(bob,alice,payer_payee_amount_commodity(bob,alice,1,\"good\"),2,8)),9)\n",
      "obs(agent_account_balance_commodity(bob,demands,0,debtor_creditor_action_start_end(alice,bob,payer_payee_amount_commodity(alice,bob,100,\"EUR\"),2,8)),0)\n",
      "obs(agent_account_balance_commodity(bob,demands,0,debtor_creditor_action_start_end(alice,bob,payer_payee_amount_commodity(alice,bob,100,\"EUR\"),2,8)),1)\n",
      "obs(agent_account_balance_commodity(bob,demands,0,debtor_creditor_action_start_end(alice,bob,payer_payee_amount_commodity(alice,bob,100,\"EUR\"),2,8)),4)\n",
      "obs(agent_account_balance_commodity(bob,demands,0,debtor_creditor_action_start_end(alice,bob,payer_payee_amount_commodity(alice,bob,100,\"EUR\"),2,8)),5)\n",
      "obs(agent_account_balance_commodity(bob,demands,0,debtor_creditor_action_start_end(alice,bob,payer_payee_amount_commodity(alice,bob,100,\"EUR\"),2,8)),6)\n",
      "obs(agent_account_balance_commodity(bob,demands,0,debtor_creditor_action_start_end(alice,bob,payer_payee_amount_commodity(alice,bob,100,\"EUR\"),2,8)),7)\n",
      "obs(agent_account_balance_commodity(bob,demands,0,debtor_creditor_action_start_end(alice,bob,payer_payee_amount_commodity(alice,bob,100,\"EUR\"),2,8)),8)\n",
      "obs(agent_account_balance_commodity(bob,demands,0,debtor_creditor_action_start_end(alice,bob,payer_payee_amount_commodity(alice,bob,100,\"EUR\"),2,8)),9)\n",
      "obs(agent_account_balance_commodity(bob,demands,1,debtor_creditor_action_start_end(alice,bob,payer_payee_amount_commodity(alice,bob,100,\"EUR\"),2,8)),2)\n",
      "obs(agent_account_balance_commodity(bob,demands,1,debtor_creditor_action_start_end(alice,bob,payer_payee_amount_commodity(alice,bob,100,\"EUR\"),2,8)),3)\n",
      "obs(agent_account_balance_commodity(bob,register,0,\"EUR\"),0)\n",
      "obs(agent_account_balance_commodity(bob,register,0,\"EUR\"),1)\n",
      "obs(agent_account_balance_commodity(bob,register,0,\"EUR\"),2)\n",
      "obs(agent_account_balance_commodity(bob,register,0,\"EUR\"),3)\n",
      "obs(agent_account_balance_commodity(bob,register,100,\"EUR\"),4)\n",
      "obs(agent_account_balance_commodity(bob,register,100,\"EUR\"),5)\n",
      "obs(agent_account_balance_commodity(bob,register,100,\"EUR\"),6)\n",
      "obs(agent_account_balance_commodity(bob,register,100,\"EUR\"),7)\n",
      "obs(agent_account_balance_commodity(bob,register,100,\"EUR\"),8)\n",
      "obs(agent_account_balance_commodity(bob,register,100,\"EUR\"),9)\n",
      "obs(agent_account_balance_commodity(bob,store,1,\"good\"),0)\n",
      "obs(agent_account_balance_commodity(bob,store,1,\"good\"),1)\n",
      "obs(agent_account_balance_commodity(bob,store,1,\"good\"),2)\n",
      "obs(agent_account_balance_commodity(bob,store,1,\"good\"),3)\n",
      "obs(agent_account_balance_commodity(bob,store,1,\"good\"),4)\n",
      "obs(agent_account_balance_commodity(bob,store,1,\"good\"),5)\n",
      "obs(agent_account_balance_commodity(bob,store,1,\"good\"),6)\n",
      "obs(agent_account_balance_commodity(bob,store,1,\"good\"),7)\n",
      "obs(agent_account_balance_commodity(bob,store,1,\"good\"),8)\n",
      "obs(agent_account_balance_commodity(bob,store,1,\"good\"),9)\n",
      "occ(contract_agreement,1)\n",
      "occ(credit(alice,commitments,1,debtor_creditor_action_start_end(alice,bob,payer_payee_amount_commodity(alice,bob,100,\"EUR\"),2,8)),1)\n",
      "occ(credit(alice,register,100,\"EUR\"),3)\n",
      "occ(credit(bob,commitments,1,debtor_creditor_action_start_end(bob,alice,payer_payee_amount_commodity(bob,alice,1,\"good\"),2,8)),1)\n",
      "occ(credit(bob,demands,1,debtor_creditor_action_start_end(alice,bob,payer_payee_amount_commodity(alice,bob,100,\"EUR\"),2,8)),3)\n",
      "occ(debit(alice,commitments,1,debtor_creditor_action_start_end(alice,bob,payer_payee_amount_commodity(alice,bob,100,\"EUR\"),2,8)),3)\n",
      "occ(debit(alice,demands,1,debtor_creditor_action_start_end(bob,alice,payer_payee_amount_commodity(bob,alice,1,\"good\"),2,8)),1)\n",
      "occ(debit(bob,demands,1,debtor_creditor_action_start_end(alice,bob,payer_payee_amount_commodity(alice,bob,100,\"EUR\"),2,8)),1)\n",
      "occ(debit(bob,register,100,\"EUR\"),3)\n",
      "occ(payer_payee_amount_commodity(alice,bob,100,\"EUR\"),3)\n",
      "occ(debtor_creditor_action_start_end(alice,bob,payer_payee_amount_commodity(alice,bob,100,\"EUR\"),2,8),1)\n",
      "occ(debtor_creditor_action_start_end(bob,alice,payer_payee_amount_commodity(bob,alice,1,\"good\"),2,8),1)\n",
      "}.\n",
      "SAT 1 \n"
     ]
    }
   ],
   "source": [
    "# VIOLATION\n",
    "solve([domain,\n",
    "       domain_specific,\n",
    "       obs,\n",
    "       occs_violation,\n",
    "       contract_rules,\n",
    "       obligation_rules,\n",
    "       obligation_fulfilment_rules,\n",
    "       payment_rules,\n",
    "       accounts,\n",
    "       balance_inertia_rules,\n",
    "       transaction_rules,\n",
    "       violation_rules,\n",
    "       show,\n",
    "       ], sep='\\n');"
   ],
   "metadata": {
    "collapsed": false,
    "pycharm": {
     "name": "#%%\n"
    }
   }
  },
  {
   "cell_type": "code",
   "execution_count": 18,
   "outputs": [
    {
     "name": "stdout",
     "output_type": "stream",
     "text": [
      "Answer  1: {\n",
      "obs(agent_account_balance_commodity(alice,commitments,0,debtor_creditor_action_start_end(alice,bob,payer_payee_amount_commodity(alice,bob,100,\"EUR\"),2,8)),0)\n",
      "obs(agent_account_balance_commodity(alice,commitments,0,debtor_creditor_action_start_end(alice,bob,payer_payee_amount_commodity(alice,bob,100,\"EUR\"),2,8)),1)\n",
      "obs(agent_account_balance_commodity(alice,commitments,0,debtor_creditor_action_start_end(alice,bob,payer_payee_amount_commodity(alice,bob,100,\"EUR\"),2,8)),4)\n",
      "obs(agent_account_balance_commodity(alice,commitments,0,debtor_creditor_action_start_end(alice,bob,payer_payee_amount_commodity(alice,bob,100,\"EUR\"),2,8)),5)\n",
      "obs(agent_account_balance_commodity(alice,commitments,0,debtor_creditor_action_start_end(alice,bob,payer_payee_amount_commodity(alice,bob,100,\"EUR\"),2,8)),6)\n",
      "obs(agent_account_balance_commodity(alice,commitments,0,debtor_creditor_action_start_end(alice,bob,payer_payee_amount_commodity(alice,bob,100,\"EUR\"),2,8)),7)\n",
      "obs(agent_account_balance_commodity(alice,commitments,0,debtor_creditor_action_start_end(alice,bob,payer_payee_amount_commodity(alice,bob,100,\"EUR\"),2,8)),8)\n",
      "obs(agent_account_balance_commodity(alice,commitments,0,debtor_creditor_action_start_end(alice,bob,payer_payee_amount_commodity(alice,bob,100,\"EUR\"),2,8)),9)\n",
      "obs(agent_account_balance_commodity(alice,commitments,1,debtor_creditor_action_start_end(alice,bob,payer_payee_amount_commodity(alice,bob,100,\"EUR\"),2,8)),2)\n",
      "obs(agent_account_balance_commodity(alice,commitments,1,debtor_creditor_action_start_end(alice,bob,payer_payee_amount_commodity(alice,bob,100,\"EUR\"),2,8)),3)\n",
      "obs(agent_account_balance_commodity(alice,demands,0,debtor_creditor_action_start_end(bob,alice,payer_payee_amount_commodity(bob,alice,1,\"good\"),2,8)),0)\n",
      "obs(agent_account_balance_commodity(alice,demands,0,debtor_creditor_action_start_end(bob,alice,payer_payee_amount_commodity(bob,alice,1,\"good\"),2,8)),1)\n",
      "obs(agent_account_balance_commodity(alice,demands,0,debtor_creditor_action_start_end(bob,alice,payer_payee_amount_commodity(bob,alice,1,\"good\"),2,8)),7)\n",
      "obs(agent_account_balance_commodity(alice,demands,0,debtor_creditor_action_start_end(bob,alice,payer_payee_amount_commodity(bob,alice,1,\"good\"),2,8)),8)\n",
      "obs(agent_account_balance_commodity(alice,demands,0,debtor_creditor_action_start_end(bob,alice,payer_payee_amount_commodity(bob,alice,1,\"good\"),2,8)),9)\n",
      "obs(agent_account_balance_commodity(alice,demands,1,debtor_creditor_action_start_end(bob,alice,payer_payee_amount_commodity(bob,alice,1,\"good\"),2,8)),2)\n",
      "obs(agent_account_balance_commodity(alice,demands,1,debtor_creditor_action_start_end(bob,alice,payer_payee_amount_commodity(bob,alice,1,\"good\"),2,8)),3)\n",
      "obs(agent_account_balance_commodity(alice,demands,1,debtor_creditor_action_start_end(bob,alice,payer_payee_amount_commodity(bob,alice,1,\"good\"),2,8)),4)\n",
      "obs(agent_account_balance_commodity(alice,demands,1,debtor_creditor_action_start_end(bob,alice,payer_payee_amount_commodity(bob,alice,1,\"good\"),2,8)),5)\n",
      "obs(agent_account_balance_commodity(alice,demands,1,debtor_creditor_action_start_end(bob,alice,payer_payee_amount_commodity(bob,alice,1,\"good\"),2,8)),6)\n",
      "obs(agent_account_balance_commodity(alice,register,0,\"EUR\"),4)\n",
      "obs(agent_account_balance_commodity(alice,register,0,\"EUR\"),5)\n",
      "obs(agent_account_balance_commodity(alice,register,0,\"EUR\"),6)\n",
      "obs(agent_account_balance_commodity(alice,register,0,\"EUR\"),7)\n",
      "obs(agent_account_balance_commodity(alice,register,0,\"EUR\"),8)\n",
      "obs(agent_account_balance_commodity(alice,register,0,\"EUR\"),9)\n",
      "obs(agent_account_balance_commodity(alice,register,100,\"EUR\"),0)\n",
      "obs(agent_account_balance_commodity(alice,register,100,\"EUR\"),1)\n",
      "obs(agent_account_balance_commodity(alice,register,100,\"EUR\"),2)\n",
      "obs(agent_account_balance_commodity(alice,register,100,\"EUR\"),3)\n",
      "obs(agent_account_balance_commodity(alice,store,0,\"good\"),0)\n",
      "obs(agent_account_balance_commodity(alice,store,0,\"good\"),1)\n",
      "obs(agent_account_balance_commodity(alice,store,0,\"good\"),2)\n",
      "obs(agent_account_balance_commodity(alice,store,0,\"good\"),3)\n",
      "obs(agent_account_balance_commodity(alice,store,0,\"good\"),4)\n",
      "obs(agent_account_balance_commodity(alice,store,0,\"good\"),5)\n",
      "obs(agent_account_balance_commodity(alice,store,0,\"good\"),6)\n",
      "obs(agent_account_balance_commodity(alice,store,1,\"good\"),7)\n",
      "obs(agent_account_balance_commodity(alice,store,1,\"good\"),8)\n",
      "obs(agent_account_balance_commodity(alice,store,1,\"good\"),9)\n",
      "obs(agent_account_balance_commodity(bob,commitments,0,debtor_creditor_action_start_end(bob,alice,payer_payee_amount_commodity(bob,alice,1,\"good\"),2,8)),0)\n",
      "obs(agent_account_balance_commodity(bob,commitments,0,debtor_creditor_action_start_end(bob,alice,payer_payee_amount_commodity(bob,alice,1,\"good\"),2,8)),1)\n",
      "obs(agent_account_balance_commodity(bob,commitments,0,debtor_creditor_action_start_end(bob,alice,payer_payee_amount_commodity(bob,alice,1,\"good\"),2,8)),7)\n",
      "obs(agent_account_balance_commodity(bob,commitments,0,debtor_creditor_action_start_end(bob,alice,payer_payee_amount_commodity(bob,alice,1,\"good\"),2,8)),8)\n",
      "obs(agent_account_balance_commodity(bob,commitments,0,debtor_creditor_action_start_end(bob,alice,payer_payee_amount_commodity(bob,alice,1,\"good\"),2,8)),9)\n",
      "obs(agent_account_balance_commodity(bob,commitments,1,debtor_creditor_action_start_end(bob,alice,payer_payee_amount_commodity(bob,alice,1,\"good\"),2,8)),2)\n",
      "obs(agent_account_balance_commodity(bob,commitments,1,debtor_creditor_action_start_end(bob,alice,payer_payee_amount_commodity(bob,alice,1,\"good\"),2,8)),3)\n",
      "obs(agent_account_balance_commodity(bob,commitments,1,debtor_creditor_action_start_end(bob,alice,payer_payee_amount_commodity(bob,alice,1,\"good\"),2,8)),4)\n",
      "obs(agent_account_balance_commodity(bob,commitments,1,debtor_creditor_action_start_end(bob,alice,payer_payee_amount_commodity(bob,alice,1,\"good\"),2,8)),5)\n",
      "obs(agent_account_balance_commodity(bob,commitments,1,debtor_creditor_action_start_end(bob,alice,payer_payee_amount_commodity(bob,alice,1,\"good\"),2,8)),6)\n",
      "obs(agent_account_balance_commodity(bob,demands,0,debtor_creditor_action_start_end(alice,bob,payer_payee_amount_commodity(alice,bob,100,\"EUR\"),2,8)),0)\n",
      "obs(agent_account_balance_commodity(bob,demands,0,debtor_creditor_action_start_end(alice,bob,payer_payee_amount_commodity(alice,bob,100,\"EUR\"),2,8)),1)\n",
      "obs(agent_account_balance_commodity(bob,demands,0,debtor_creditor_action_start_end(alice,bob,payer_payee_amount_commodity(alice,bob,100,\"EUR\"),2,8)),4)\n",
      "obs(agent_account_balance_commodity(bob,demands,0,debtor_creditor_action_start_end(alice,bob,payer_payee_amount_commodity(alice,bob,100,\"EUR\"),2,8)),5)\n",
      "obs(agent_account_balance_commodity(bob,demands,0,debtor_creditor_action_start_end(alice,bob,payer_payee_amount_commodity(alice,bob,100,\"EUR\"),2,8)),6)\n",
      "obs(agent_account_balance_commodity(bob,demands,0,debtor_creditor_action_start_end(alice,bob,payer_payee_amount_commodity(alice,bob,100,\"EUR\"),2,8)),7)\n",
      "obs(agent_account_balance_commodity(bob,demands,0,debtor_creditor_action_start_end(alice,bob,payer_payee_amount_commodity(alice,bob,100,\"EUR\"),2,8)),8)\n",
      "obs(agent_account_balance_commodity(bob,demands,0,debtor_creditor_action_start_end(alice,bob,payer_payee_amount_commodity(alice,bob,100,\"EUR\"),2,8)),9)\n",
      "obs(agent_account_balance_commodity(bob,demands,1,debtor_creditor_action_start_end(alice,bob,payer_payee_amount_commodity(alice,bob,100,\"EUR\"),2,8)),2)\n",
      "obs(agent_account_balance_commodity(bob,demands,1,debtor_creditor_action_start_end(alice,bob,payer_payee_amount_commodity(alice,bob,100,\"EUR\"),2,8)),3)\n",
      "obs(agent_account_balance_commodity(bob,register,0,\"EUR\"),0)\n",
      "obs(agent_account_balance_commodity(bob,register,0,\"EUR\"),1)\n",
      "obs(agent_account_balance_commodity(bob,register,0,\"EUR\"),2)\n",
      "obs(agent_account_balance_commodity(bob,register,0,\"EUR\"),3)\n",
      "obs(agent_account_balance_commodity(bob,register,100,\"EUR\"),4)\n",
      "obs(agent_account_balance_commodity(bob,register,100,\"EUR\"),5)\n",
      "obs(agent_account_balance_commodity(bob,register,100,\"EUR\"),6)\n",
      "obs(agent_account_balance_commodity(bob,register,100,\"EUR\"),7)\n",
      "obs(agent_account_balance_commodity(bob,register,100,\"EUR\"),8)\n",
      "obs(agent_account_balance_commodity(bob,register,100,\"EUR\"),9)\n",
      "obs(agent_account_balance_commodity(bob,store,0,\"good\"),7)\n",
      "obs(agent_account_balance_commodity(bob,store,0,\"good\"),8)\n",
      "obs(agent_account_balance_commodity(bob,store,0,\"good\"),9)\n",
      "obs(agent_account_balance_commodity(bob,store,1,\"good\"),0)\n",
      "obs(agent_account_balance_commodity(bob,store,1,\"good\"),1)\n",
      "obs(agent_account_balance_commodity(bob,store,1,\"good\"),2)\n",
      "obs(agent_account_balance_commodity(bob,store,1,\"good\"),3)\n",
      "obs(agent_account_balance_commodity(bob,store,1,\"good\"),4)\n",
      "obs(agent_account_balance_commodity(bob,store,1,\"good\"),5)\n",
      "obs(agent_account_balance_commodity(bob,store,1,\"good\"),6)\n",
      "occ(contract_agreement,1)\n",
      "occ(credit(alice,commitments,1,debtor_creditor_action_start_end(alice,bob,payer_payee_amount_commodity(alice,bob,100,\"EUR\"),2,8)),1)\n",
      "occ(credit(alice,demands,1,debtor_creditor_action_start_end(bob,alice,payer_payee_amount_commodity(bob,alice,1,\"good\"),2,8)),6)\n",
      "occ(credit(alice,register,100,\"EUR\"),3)\n",
      "occ(credit(bob,commitments,1,debtor_creditor_action_start_end(bob,alice,payer_payee_amount_commodity(bob,alice,1,\"good\"),2,8)),1)\n",
      "occ(credit(bob,demands,1,debtor_creditor_action_start_end(alice,bob,payer_payee_amount_commodity(alice,bob,100,\"EUR\"),2,8)),3)\n",
      "occ(credit(bob,store,1,\"good\"),6)\n",
      "occ(debit(alice,commitments,1,debtor_creditor_action_start_end(alice,bob,payer_payee_amount_commodity(alice,bob,100,\"EUR\"),2,8)),3)\n",
      "occ(debit(alice,demands,1,debtor_creditor_action_start_end(bob,alice,payer_payee_amount_commodity(bob,alice,1,\"good\"),2,8)),1)\n",
      "occ(debit(alice,store,1,\"good\"),6)\n",
      "occ(debit(bob,commitments,1,debtor_creditor_action_start_end(bob,alice,payer_payee_amount_commodity(bob,alice,1,\"good\"),2,8)),6)\n",
      "occ(debit(bob,demands,1,debtor_creditor_action_start_end(alice,bob,payer_payee_amount_commodity(alice,bob,100,\"EUR\"),2,8)),1)\n",
      "occ(debit(bob,register,100,\"EUR\"),3)\n",
      "occ(payer_payee_amount_commodity(alice,bob,100,\"EUR\"),3)\n",
      "occ(payer_payee_amount_commodity(bob,alice,1,\"good\"),6)\n",
      "occ(debtor_creditor_action_start_end(alice,bob,payer_payee_amount_commodity(alice,bob,100,\"EUR\"),2,8),1)\n",
      "occ(debtor_creditor_action_start_end(bob,alice,payer_payee_amount_commodity(bob,alice,1,\"good\"),2,8),1)\n",
      "}.\n",
      "SAT 1 \n"
     ]
    }
   ],
   "source": [
    "solve([domain,\n",
    "       domain_specific,\n",
    "       obs,\n",
    "       occs,\n",
    "       contract_rules,\n",
    "       obligation_rules,\n",
    "       obligation_fulfilment_rules,\n",
    "       payment_rules,\n",
    "       accounts,\n",
    "       balance_inertia_rules,\n",
    "       transaction_rules,\n",
    "       violation_rules,\n",
    "       show,\n",
    "       ], sep='\\n');"
   ],
   "metadata": {
    "collapsed": false,
    "pycharm": {
     "name": "#%%\n"
    }
   }
  }
 ],
 "metadata": {
  "kernelspec": {
   "display_name": "Python 3",
   "language": "python",
   "name": "python3"
  },
  "language_info": {
   "codemirror_mode": {
    "name": "ipython",
    "version": 2
   },
   "file_extension": ".py",
   "mimetype": "text/x-python",
   "name": "python",
   "nbconvert_exporter": "python",
   "pygments_lexer": "ipython2",
   "version": "2.7.6"
  }
 },
 "nbformat": 4,
 "nbformat_minor": 0
}