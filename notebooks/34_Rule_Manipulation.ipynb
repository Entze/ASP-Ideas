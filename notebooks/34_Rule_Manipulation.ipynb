{
 "cells": [
  {
   "cell_type": "code",
   "execution_count": 6,
   "outputs": [],
   "source": [
    "import copy\n",
    "from dataclasses import dataclass, field\n",
    "from enum import IntEnum\n",
    "from typing import TypeVar, Union, Sequence, Optional, Dict, Tuple, Mapping, MutableMapping, MutableSequence, List\n",
    "\n",
    "import clingo\n",
    "import clingo.ast\n"
   ],
   "metadata": {
    "collapsed": false,
    "pycharm": {
     "name": "#%%\n"
    }
   }
  },
  {
   "cell_type": "code",
   "execution_count": 7,
   "outputs": [],
   "source": [
    "@dataclass(frozen=True, order=True)\n",
    "class Variable:\n",
    "    name: str\n",
    "\n",
    "    def __str__(self):\n",
    "        return self.name\n",
    "\n",
    "\n",
    "@dataclass(frozen=True, order=True)\n",
    "class IntegerConstant:\n",
    "    number: int = 0\n",
    "\n",
    "    def __str__(self):\n",
    "        return str(self.number)\n",
    "\n",
    "\n",
    "@dataclass(frozen=True, order=True)\n",
    "class Term:\n",
    "    constant: IntegerConstant = field(default=IntegerConstant())\n",
    "\n",
    "    def __str__(self):\n",
    "        return str(self.constant)"
   ],
   "metadata": {
    "collapsed": false,
    "pycharm": {
     "name": "#%%\n"
    }
   }
  },
  {
   "cell_type": "code",
   "execution_count": 8,
   "outputs": [],
   "source": [
    "ForwardAtom = TypeVar('ForwardAtom', bound='Atom')\n",
    "ForwardFunction = TypeVar('ForwardFunction', bound='Function')\n",
    "\n",
    "\n",
    "@dataclass\n",
    "class Function:\n",
    "    name: Optional[str] = None\n",
    "    arguments: Sequence[ForwardAtom] = ()\n",
    "\n",
    "    @property\n",
    "    def arity(self):\n",
    "        return len(self.arguments)\n",
    "\n",
    "    def __str__(self):\n",
    "        if self.name is None and not self.arguments:\n",
    "            return \"()\"\n",
    "        elif self.name is not None and not self.arguments:\n",
    "            return self.name\n",
    "        elif self.name is None and self.arguments:\n",
    "            return \"({})\".format(','.join(map(str, self.arguments)))\n",
    "        else:\n",
    "            return \"{}({})\".format(self.name, ','.join(map(str, self.arguments)))\n",
    "\n",
    "    def match(self, name: Optional[str], arity: int = 0) -> bool:\n",
    "        return name == self.name and arity == len(self.arguments)\n",
    "\n",
    "    def match_signature(self, other: ForwardFunction) -> bool:\n",
    "        return self.match(other.name, other.arity)\n",
    "\n",
    "    def recursive_rename(self, new_name: Optional[str]) -> ForwardFunction:\n",
    "        stack: List[Function] = [self]\n",
    "        while stack:\n",
    "            current: Function = stack.pop()\n",
    "            if current.match(self.name, self.arity):\n",
    "                current.name = new_name\n",
    "            for arg in current.arguments:\n",
    "                if arg.is_function():\n",
    "                    stack.append(arg.symbol)\n",
    "        return self"
   ],
   "metadata": {
    "collapsed": false,
    "pycharm": {
     "name": "#%%\n"
    }
   }
  },
  {
   "cell_type": "code",
   "execution_count": 9,
   "outputs": [],
   "source": [
    "@dataclass\n",
    "class Atom:\n",
    "    symbol: Union[Variable, Term, Function] = field(default_factory=Function)\n",
    "\n",
    "    def is_variable(self) -> bool:\n",
    "        return isinstance(self.symbol, Variable)\n",
    "\n",
    "    def is_term(self) -> bool:\n",
    "        return isinstance(self.symbol, Term)\n",
    "\n",
    "    def is_function(self) -> bool:\n",
    "        return isinstance(self.symbol, Function)\n",
    "\n",
    "    def __str__(self):\n",
    "        return str(self.symbol)\n",
    "\n",
    "    def fill(self, env: Mapping[Variable, ForwardAtom]) -> ForwardAtom:\n",
    "        stack: List[Atom] = [self]\n",
    "        while stack:\n",
    "            current: Atom = stack.pop()\n",
    "            if current.is_function():\n",
    "                arguments = list(current.symbol.arguments)\n",
    "                i = 0\n",
    "                while i < current.symbol.arity:\n",
    "                    arg: Atom = arguments[i]\n",
    "                    if arg.is_variable() and arg in env:\n",
    "                        arguments[i] = env[arg.symbol]\n",
    "                    else:\n",
    "                        stack.append(arg)\n",
    "                    i += 1\n",
    "                assert len(current.symbol.arguments) == len(\n",
    "                    arguments), \"Function.fill should not change arity of Function.\"\n",
    "                current.symbol.arguments = arguments\n",
    "        return self\n",
    "\n",
    "    @staticmethod\n",
    "    def new_integer(number: int) -> ForwardAtom:\n",
    "        return Atom(Term(IntegerConstant(number)))\n",
    "\n",
    "    @staticmethod\n",
    "    def new_variable(name: str) -> ForwardAtom:\n",
    "        return Atom(Variable(name))\n",
    "\n",
    "    @staticmethod\n",
    "    def new_function(name: str, arguments: Sequence[ForwardAtom] = ()) -> ForwardAtom:\n",
    "        return Atom(Function(name, arguments))\n",
    "\n",
    "    @staticmethod\n",
    "    def new_constant(name: str) -> ForwardAtom:\n",
    "        return Atom.new_function(name)\n",
    "\n",
    "    @staticmethod\n",
    "    def from_clingo_number(num: clingo.Symbol) -> ForwardAtom:\n",
    "        assert num.type is clingo.SymbolType.Number, \"clingo.Symbol {} should have type {} but has type {}.\".format(\n",
    "            num, clingo.SymbolType.Number.name, num.type.name)\n",
    "        number: int = num.number\n",
    "        return Atom.new_integer(number)\n",
    "\n",
    "    @staticmethod\n",
    "    def from_clingo_function(func: clingo.Symbol) -> ForwardAtom:\n",
    "        assert func.type is clingo.SymbolType.Function, \"clingo.Symbol {} should have type {} but has type {}.\".format(\n",
    "            func, clingo.SymbolType.Function.name, func.type.name)\n",
    "        name: str = func.name\n",
    "        arguments: Tuple[ForwardAtom] = tuple(Atom.from_clingo_symbol(argument) for argument in func.arguments)\n",
    "        return Atom.new_function(name, arguments)\n",
    "\n",
    "    @staticmethod\n",
    "    def from_clingo_symbol(symbol: clingo.Symbol) -> ForwardAtom:\n",
    "        if symbol.type is clingo.SymbolType.Function:\n",
    "            return Atom.from_clingo_function(symbol)\n",
    "        elif symbol.type is clingo.SymbolType.Number:\n",
    "            return Atom.from_clingo_number(symbol)"
   ],
   "metadata": {
    "collapsed": false,
    "pycharm": {
     "name": "#%%\n"
    }
   }
  },
  {
   "cell_type": "code",
   "execution_count": 10,
   "outputs": [],
   "source": [
    "class Sign(IntEnum):\n",
    "    NoSign = 0\n",
    "    DefaultNeg = 1"
   ],
   "metadata": {
    "collapsed": false,
    "pycharm": {
     "name": "#%%\n"
    }
   }
  },
  {
   "cell_type": "code",
   "execution_count": 11,
   "outputs": [],
   "source": [
    "@dataclass\n",
    "class Literal:\n",
    "    atom: Atom = field(default_factory=Atom)\n",
    "    sign: Sign = Sign.NoSign\n",
    "\n",
    "    def __str__(self):\n",
    "        if self.sign is Sign.DefaultNeg:\n",
    "            return \"not {}\".format(self.atom)\n",
    "        return str(self.atom)\n",
    "\n",
    "    def __abs__(self):\n",
    "        return Literal(sign=Sign.NoSign, atom=copy.deepcopy(self.atom))"
   ],
   "metadata": {
    "collapsed": false,
    "pycharm": {
     "name": "#%%\n"
    }
   }
  },
  {
   "cell_type": "code",
   "execution_count": 12,
   "outputs": [],
   "source": [
    "ForwardRule = TypeVar('ForwardRule', bound='Rule')\n",
    "\n",
    "\n",
    "@dataclass\n",
    "class Rule:\n",
    "    head: Optional[Literal] = None\n",
    "    body: MutableSequence[Literal] = ()\n",
    "\n",
    "    def __str__(self) -> str:\n",
    "        if self.head is None and not self.body:\n",
    "            return \":-.\"\n",
    "        elif self.head is None:\n",
    "            return \":- {}.\".format(', '.join(map(str, self.body)))\n",
    "        elif not self.body:\n",
    "            return \"{}.\".format(self.head)\n",
    "        else:\n",
    "            return \"{} :- {}.\".format(self.head, ', '.join(map(str, self.body)))\n",
    "\n",
    "    def is_ground(self) -> bool:\n",
    "        pass\n",
    "\n",
    "    def substitute(self, env: Mapping[Variable, Atom]) -> ForwardRule:\n",
    "        if self.head is not None and self.head.atom.is_function():\n",
    "            self.head.atom.fill(env)\n",
    "        for literal in self.body:\n",
    "            if literal.atom.is_function():\n",
    "                literal.atom.fill(env)\n",
    "        return self\n",
    "\n",
    "    def rename_atoms(self, new_name: Optional[str], name: Optional[str], arity: int = 0, head=True,\n",
    "                     body=True) -> ForwardRule:\n",
    "        if head:\n",
    "            if self.head.atom.is_function() and self.head.atom.symbol.match(name, arity):\n",
    "                self.head.atom.symbol.recursive_rename(new_name)\n",
    "        if body:\n",
    "            for literal in self.body:\n",
    "                if literal.atom.is_function() and literal.atom.symbol.match(name, arity):\n",
    "                    literal.atom.symbol.recursive_rename(new_name)\n",
    "        return self\n",
    "\n",
    "    def postulate(self) -> ForwardRule:\n",
    "        self.body.clear()\n",
    "        return self"
   ],
   "metadata": {
    "collapsed": false,
    "pycharm": {
     "name": "#%%\n"
    }
   }
  },
  {
   "cell_type": "code",
   "execution_count": 13,
   "outputs": [],
   "source": [
    "ForwardGoal = TypeVar('ForwardGoal', bound='Goal')\n",
    "\n",
    "\n",
    "@dataclass\n",
    "class Goal:\n",
    "    rule: Optional[Rule] = None\n",
    "    parent: Optional[ForwardGoal] = field(default=None, repr=False)\n",
    "    children: Sequence[ForwardGoal] = field(default_factory=list, repr=False)\n",
    "    env: Dict[Variable, Term] = field(default_factory=dict)\n",
    "    inx: int = field(default=0, repr=False)\n",
    "\n",
    "\n",
    "ProofTree = Goal"
   ],
   "metadata": {
    "collapsed": false,
    "pycharm": {
     "name": "#%%\n"
    }
   }
  },
  {
   "cell_type": "code",
   "execution_count": 14,
   "outputs": [],
   "source": [
    "def unify(src_atom: Atom, src_env: Mapping[Variable, Atom], dest_atom: Atom,\n",
    "          dest_env: Optional[MutableMapping[Variable, Atom]] = None) -> bool:\n",
    "    src_symbol = src_atom.symbol\n",
    "    dest_symbol = dest_atom.symbol\n",
    "    if not isinstance(src_symbol, Function):\n",
    "        return False\n",
    "    if not isinstance(dest_symbol, Function):\n",
    "        return False\n",
    "    if not src_symbol.match_signature(dest_symbol):\n",
    "        return False\n",
    "    if dest_env is None:\n",
    "        dest_env = {}\n",
    "    for i in range(src_symbol.arity):\n",
    "        src_arg: Atom = src_symbol.arguments[i]\n",
    "        dest_arg: Atom = dest_symbol.arguments[i]\n",
    "        if isinstance(src_arg.symbol, Variable):\n",
    "            src_val = src_env.get(src_arg.symbol)\n",
    "        else:\n",
    "            src_val = src_arg\n",
    "        if src_val is not None:\n",
    "            if isinstance(dest_arg.symbol, Variable):\n",
    "                dest_val = dest_env.get(dest_arg.symbol)\n",
    "                if dest_val is None:\n",
    "                    dest_env[dest_arg.symbol] = src_val\n",
    "                elif dest_val != src_val:\n",
    "                    return False\n",
    "            elif dest_arg != src_val:\n",
    "                return False\n",
    "    return True"
   ],
   "metadata": {
    "collapsed": false,
    "pycharm": {
     "name": "#%%\n"
    }
   }
  },
  {
   "cell_type": "code",
   "execution_count": 15,
   "outputs": [],
   "source": [
    "def search(atom: Atom, rules: Sequence[Rule] = ()) -> Sequence[ProofTree]:\n",
    "    root = Goal(rule=Rule(head=Literal(), body=[Literal(atom=atom)]))\n",
    "    proof_trees = []\n",
    "    stack = [root]\n",
    "    while stack:\n",
    "        current = stack.pop()\n",
    "        if current.inx >= len(current.rule.body):\n",
    "            if current.parent is None:\n",
    "                if current.env:\n",
    "                    print(current.env)\n",
    "                else:\n",
    "                    print(\"Yes\")\n",
    "                proof_trees.append(current)\n",
    "            else:\n",
    "                parent = copy.deepcopy(current.parent)\n",
    "                unify(current.rule.head.atom, current.env, parent.rule.body[parent.inx].atom, parent.env)\n",
    "                parent.inx += 1\n",
    "                stack.append(parent)\n",
    "        else:\n",
    "            atom = current.rule.body[current.inx].atom\n",
    "            for rule in rules:\n",
    "                child_env = {}\n",
    "                unifiable = unify(atom, current.env, rule.head.atom, child_env)\n",
    "                if unifiable:\n",
    "                    child = Goal(env=child_env, parent=current, rule=rule)\n",
    "                    current.children.append(child)\n",
    "                    stack.append(child)\n",
    "    if not proof_trees:\n",
    "        print(\"No\")\n",
    "    return proof_trees"
   ],
   "metadata": {
    "collapsed": false,
    "pycharm": {
     "name": "#%%\n"
    }
   }
  },
  {
   "cell_type": "code",
   "execution_count": 16,
   "outputs": [],
   "source": [
    "@dataclass\n",
    "class Program:\n",
    "    rules: MutableSequence[Rule] = field(default_factory=list)\n",
    "\n",
    "    def __str__(self):\n",
    "        return ' '.join(map(str, self.rules))\n",
    "\n",
    "    def query(self, atom):\n",
    "        prooftrees = search(atom, self.rules)\n",
    "        envs = [prooftree.env for prooftree in prooftrees]\n",
    "        return envs\n",
    "\n",
    "    def evaluate_backwards(self, atom) -> Sequence[Atom]:\n",
    "        prooftrees = search(atom, self.rules)\n",
    "        answers = []\n",
    "        for prooftree in prooftrees:\n",
    "            stack = [prooftree]\n",
    "            while stack:\n",
    "                current = stack.pop()\n",
    "                env = current.env\n",
    "                for literal in current.body:\n",
    "                    fact = Rule(head=literal)\n",
    "                    fact.substitute(env)\n",
    "                    if fact.is_ground() and fact not in answers:\n",
    "                        answers.append(fact)\n",
    "                stack.extend(current.children)\n",
    "        return answers\n",
    "\n",
    "\n"
   ],
   "metadata": {
    "collapsed": false,
    "pycharm": {
     "name": "#%%\n"
    }
   }
  },
  {
   "cell_type": "code",
   "execution_count": 17,
   "outputs": [
    {
     "name": "stdout",
     "output_type": "stream",
     "text": [
      "child(X,Y) :- mother(Y,X). child(X,Y) :- father(Y,X). son(X,Y) :- child(X,Y), boy(X). boy(bill). boy(frank). mother(alice,bill). father(alex,bill).\n",
      "son(bill,A)?\n"
     ]
    }
   ],
   "source": [
    "X = Atom.new_variable('X')\n",
    "Y = Atom.new_variable('Y')\n",
    "A = Atom.new_variable('A')\n",
    "bill = Atom.new_constant('bill')\n",
    "frank = Atom.new_constant('frank')\n",
    "alice = Atom.new_constant('alice')\n",
    "alex = Atom.new_constant('alex')\n",
    "\n",
    "program = Program([\n",
    "    Rule(head=Literal(atom=Atom.new_function('child', (X, Y))),\n",
    "         body=[Literal(atom=Atom.new_function('mother', (Y, X)))]),\n",
    "    Rule(head=Literal(atom=Atom.new_function('child', (X, Y))),\n",
    "         body=[Literal(atom=Atom.new_function('father', (Y, X)))]),\n",
    "\n",
    "    Rule(head=Literal(atom=Atom.new_function('son', (X, Y))),\n",
    "         body=[Literal(atom=Atom.new_function('child', (X, Y))), Literal(atom=Atom.new_function('boy', (X,)))]),\n",
    "\n",
    "    Rule(head=Literal(atom=Atom.new_function('boy', (bill,)))),\n",
    "    Rule(head=Literal(atom=Atom.new_function('boy', (frank,)))),\n",
    "    Rule(head=Literal(atom=Atom.new_function('mother', (alice, bill)))),\n",
    "    Rule(head=Literal(atom=Atom.new_function('father', (alex, bill))))\n",
    "])\n",
    "print(program)\n",
    "\n",
    "search_atom = Atom.new_function('son', (bill, A))\n",
    "print(f\"{search_atom}?\")"
   ],
   "metadata": {
    "collapsed": false,
    "pycharm": {
     "name": "#%%\n"
    }
   }
  },
  {
   "cell_type": "code",
   "execution_count": 18,
   "outputs": [
    {
     "name": "stdout",
     "output_type": "stream",
     "text": [
      "{Variable(name='A'): Atom(symbol=Function(name='alex', arguments=()))}\n",
      "{Variable(name='A'): Atom(symbol=Function(name='alice', arguments=()))}\n"
     ]
    },
    {
     "data": {
      "text/plain": "[Goal(rule=Rule(head=Literal(atom=Atom(symbol=Function(name=None, arguments=())), sign=<Sign.NoSign: 0>), body=[Literal(atom=Atom(symbol=Function(name='son', arguments=(Atom(symbol=Function(name='bill', arguments=())), Atom(symbol=Variable(name='A'))))), sign=<Sign.NoSign: 0>)]), env={Variable(name='A'): Atom(symbol=Function(name='alex', arguments=()))}),\n Goal(rule=Rule(head=Literal(atom=Atom(symbol=Function(name=None, arguments=())), sign=<Sign.NoSign: 0>), body=[Literal(atom=Atom(symbol=Function(name='son', arguments=(Atom(symbol=Function(name='bill', arguments=())), Atom(symbol=Variable(name='A'))))), sign=<Sign.NoSign: 0>)]), env={Variable(name='A'): Atom(symbol=Function(name='alice', arguments=()))})]"
     },
     "execution_count": 18,
     "metadata": {},
     "output_type": "execute_result"
    }
   ],
   "source": [
    "program.evaluate_backwards(search_atom)"
   ],
   "metadata": {
    "collapsed": false,
    "pycharm": {
     "name": "#%%\n"
    }
   }
  },
  {
   "cell_type": "code",
   "execution_count": 18,
   "outputs": [],
   "source": [],
   "metadata": {
    "collapsed": false,
    "pycharm": {
     "name": "#%%\n"
    }
   }
  }
 ],
 "metadata": {
  "kernelspec": {
   "display_name": "Python 3",
   "language": "python",
   "name": "python3"
  },
  "language_info": {
   "codemirror_mode": {
    "name": "ipython",
    "version": 2
   },
   "file_extension": ".py",
   "mimetype": "text/x-python",
   "name": "python",
   "nbconvert_exporter": "python",
   "pygments_lexer": "ipython2",
   "version": "2.7.6"
  }
 },
 "nbformat": 4,
 "nbformat_minor": 0
}