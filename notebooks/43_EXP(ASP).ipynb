{
 "cells": [
  {
   "cell_type": "code",
   "execution_count": 223,
   "outputs": [],
   "source": [
    "import copy\n",
    "import itertools\n",
    "from collections import defaultdict\n",
    "from dataclasses import dataclass, field\n",
    "from enum import IntEnum\n",
    "from typing import TypeVar, Sequence, Optional, MutableSequence, List, Iterator\n",
    "\n",
    "import clingo\n",
    "import clingox.program\n"
   ],
   "metadata": {
    "collapsed": false,
    "pycharm": {
     "name": "#%%\n"
    }
   }
  },
  {
   "cell_type": "code",
   "execution_count": 224,
   "outputs": [],
   "source": [
    "ForwardSymbol = TypeVar('ForwardSymbol', bound='Symbol')\n",
    "\n",
    "\n",
    "class Symbol:\n",
    "    def is_function(self) -> bool:\n",
    "        return isinstance(self, Function)\n",
    "\n",
    "    def is_unary_operation(self) -> bool:\n",
    "        return isinstance(self, UnaryOperation)\n",
    "\n",
    "    def is_variable(self) -> bool:\n",
    "        return isinstance(self, Variable)\n",
    "\n",
    "    def is_term(self) -> bool:\n",
    "        return isinstance(self, Term)\n",
    "\n",
    "    @classmethod\n",
    "    def from_clingo_symbol(cls, symbol: clingo.Symbol) -> ForwardSymbol:\n",
    "        if symbol.type is clingo.SymbolType.Function:\n",
    "            name: str = symbol.name\n",
    "            arguments = tuple(SubSymbol.from_clingo_symbol(argument) for argument in symbol.arguments)\n",
    "            return Function(name, arguments)\n",
    "        else:\n",
    "            assert False, \"Unknown clingo.SymbolType {}.\".format(symbol.type)\n",
    "\n",
    "\n",
    "class SubSymbol(Symbol):\n",
    "\n",
    "    @classmethod\n",
    "    def from_clingo_symbol(cls, symbol: clingo.Symbol) -> ForwardSymbol:\n",
    "        if symbol.type is clingo.SymbolType.Number:\n",
    "            return Term(IntegerConstant(symbol.number))\n",
    "        elif symbol.type is clingo.SymbolType.Function:\n",
    "            return Symbol.from_clingo_symbol(symbol)\n",
    "        else:\n",
    "            assert False, \"Unknown clingo.SymbolType {}.\".format(symbol.type)\n"
   ],
   "metadata": {
    "collapsed": false,
    "pycharm": {
     "name": "#%%\n"
    }
   }
  },
  {
   "cell_type": "code",
   "execution_count": 225,
   "outputs": [],
   "source": [
    "@dataclass(frozen=True, order=True)\n",
    "class Variable(SubSymbol):\n",
    "    name: str\n",
    "\n",
    "    def __str__(self):\n",
    "        return self.name\n",
    "\n",
    "\n",
    "@dataclass(frozen=True, order=True)\n",
    "class IntegerConstant:\n",
    "    number: int = 0\n",
    "\n",
    "    def __str__(self):\n",
    "        return str(self.number)\n",
    "\n",
    "\n",
    "@dataclass(frozen=True, order=True)\n",
    "class Term(SubSymbol):\n",
    "    constant: IntegerConstant = field(default=IntegerConstant())\n",
    "\n",
    "    def __str__(self):\n",
    "        return str(self.constant)"
   ],
   "metadata": {
    "collapsed": false,
    "pycharm": {
     "name": "#%%\n"
    }
   }
  },
  {
   "cell_type": "code",
   "execution_count": 226,
   "outputs": [],
   "source": [
    "ForwardAtom = TypeVar('ForwardAtom', bound='Atom')\n",
    "ForwardFunction = TypeVar('ForwardFunction', bound='Function')\n",
    "ForwardUnaryOperator = TypeVar('ForwardUnaryOperator', bound='UnaryOperator')\n",
    "\n",
    "\n",
    "@dataclass(frozen=True, order=True)\n",
    "class Function(Symbol):\n",
    "    name: Optional[str] = None\n",
    "    arguments: Sequence[SubSymbol] = ()\n",
    "\n",
    "    @property\n",
    "    def arity(self):\n",
    "        return len(self.arguments)\n",
    "\n",
    "    def __str__(self):\n",
    "        if self.name is None and not self.arguments:\n",
    "            return \"()\"\n",
    "        elif self.name is not None and not self.arguments:\n",
    "            return self.name\n",
    "        elif self.name is None and self.arguments:\n",
    "            return \"({})\".format(','.join(map(str, self.arguments)))\n",
    "        else:\n",
    "            return \"{}({})\".format(self.name, ','.join(map(str, self.arguments)))\n",
    "\n",
    "    def match(self, name: Optional[str], arity: int = 0) -> bool:\n",
    "        return name == self.name and arity == len(self.arguments)\n",
    "\n",
    "    def match_signature(self, other: ForwardFunction) -> bool:\n",
    "        return self.match(other.name, other.arity)\n",
    "\n",
    "\n",
    "class UnaryOperatorType(IntEnum):\n",
    "    Minus = 1\n",
    "\n",
    "\n",
    "@dataclass(frozen=True, order=True)\n",
    "class UnaryOperation:\n",
    "    operator: UnaryOperatorType\n",
    "    argument: SubSymbol\n",
    "\n",
    "    def __str__(self) -> str:\n",
    "        if self.operator is UnaryOperatorType.Minus:\n",
    "            return \"(-{})\".format(self.argument)\n",
    "        else:\n",
    "            assert False, \"Unknown UnaryOperatorType {}.\".format(self.operator)\n",
    "\n",
    "\n",
    "class BinaryOperatorType(IntEnum):\n",
    "    Plus = 2\n",
    "\n",
    "\n",
    "@dataclass(frozen=True, order=True)\n",
    "class BinaryOperation:\n",
    "    left: SubSymbol\n",
    "    operator: BinaryOperatorType\n",
    "    right: SubSymbol\n",
    "\n",
    "    def __str__(self) -> str:\n",
    "        if self.operator is BinaryOperatorType.Plus:\n",
    "            return \"({}+{})\".format(self.left, self.right)\n"
   ],
   "metadata": {
    "collapsed": false,
    "pycharm": {
     "name": "#%%\n"
    }
   }
  },
  {
   "cell_type": "code",
   "execution_count": 227,
   "outputs": [],
   "source": [
    "@dataclass(frozen=True, order=True)\n",
    "class Atom:\n",
    "    symbol: Symbol = field(default_factory=Function)\n",
    "\n",
    "    def __str__(self) -> str:\n",
    "        return str(self.symbol)\n",
    "\n",
    "    def is_function(self) -> bool:\n",
    "        return isinstance(self.symbol, Function)\n",
    "\n",
    "    def is_unary_operation(self) -> bool:\n",
    "        return isinstance(self.symbol, UnaryOperation)\n",
    "\n",
    "    def get_top_function(self) -> Function:\n",
    "        current = self.symbol\n",
    "        while not isinstance(current, Function):\n",
    "            if isinstance(current, UnaryOperation):\n",
    "                current = current.argument\n",
    "            else:\n",
    "                assert False, \"Unknown Type {} for Symbol {}.\".format(type(current).__name__, current)\n",
    "        return current\n",
    "\n",
    "    def is_isomorph_to(self, other: ForwardAtom) -> bool:\n",
    "        assert isinstance(other, Atom), \"Atom {} should have type {}, but has type {}.\".format(other, Atom.__name__,\n",
    "                                                                                               type(other).__name__)\n",
    "        stack_self: List[SubSymbol] = [self.symbol]\n",
    "        stack_other: List[SubSymbol] = [other.symbol]\n",
    "        while stack_self:\n",
    "            if len(stack_self) != len(stack_other):\n",
    "                return False\n",
    "            current_self = stack_self.pop()\n",
    "            current_other = stack_other.pop()\n",
    "            if current_self.is_variable() and current_other.is_variable():\n",
    "                if current_self.name != current_other.name:\n",
    "                    return False\n",
    "            elif not current_self.is_variable() and not current_other.is_variable():\n",
    "                if type(current_self) != type(current_other):\n",
    "                    return False\n",
    "                if current_self.is_unary_operation() and current_other.is_unary_operation():\n",
    "                    if current_self.operator != current_other.operator:\n",
    "                        return False\n",
    "                    stack_self.append(current_self.argument)\n",
    "                    stack_other.append(current_other.argument)\n",
    "                elif current_self.is_term() and current_other.is_term():\n",
    "                    if current_self != current_other:\n",
    "                        return False\n",
    "                elif current_self.is_function() and current_other.is_function():\n",
    "                    if not current_self.match_signature(current_other):\n",
    "                        return False\n",
    "                    stack_self.extend(current_self.arguments)\n",
    "                    stack_other.extend(current_other.arguments)\n",
    "\n",
    "        return True\n",
    "\n",
    "    @staticmethod\n",
    "    def from_clingo_symbol(symbol: clingo.Symbol) -> ForwardAtom:\n",
    "        assert symbol.type is clingo.SymbolType.Function, \"clingo.Symbol {} should have type {}, but has type {}.\".format(\n",
    "            symbol, clingo.SymbolType.Function, symbol.type)\n",
    "        return Atom(Symbol.from_clingo_symbol(symbol))\n",
    "\n",
    "\n"
   ],
   "metadata": {
    "collapsed": false,
    "pycharm": {
     "name": "#%%\n"
    }
   }
  },
  {
   "cell_type": "code",
   "execution_count": 228,
   "outputs": [],
   "source": [
    "class Sign(IntEnum):\n",
    "    NoSign = 0\n",
    "    DefaultNeg = 1"
   ],
   "metadata": {
    "collapsed": false,
    "pycharm": {
     "name": "#%%\n"
    }
   }
  },
  {
   "cell_type": "code",
   "execution_count": 229,
   "outputs": [],
   "source": [
    "@dataclass(frozen=True, order=True)\n",
    "class Literal:\n",
    "    atom: Atom = field(default_factory=Atom)\n",
    "    sign: Sign = Sign.NoSign\n",
    "\n",
    "    def is_neg(self):\n",
    "        return self.sign is Sign.DefaultNeg\n",
    "\n",
    "    def is_pos(self):\n",
    "        return self.sign is Sign.NoSign\n",
    "\n",
    "    def __str__(self):\n",
    "        if self.sign is Sign.DefaultNeg:\n",
    "            return \"not {}\".format(self.atom)\n",
    "        return str(self.atom)\n",
    "\n",
    "    def __abs__(self):\n",
    "        return Literal(sign=Sign.NoSign, atom=copy.deepcopy(self.atom))\n",
    "\n",
    "    def __neg__(self):\n",
    "        return Literal(sign=Sign(self.sign ^ 1), atom=self.atom)\n",
    "\n",
    "    def __invert__(self):\n",
    "        return Literal(sign=Sign(self.sign ^ 1), atom=self.atom)"
   ],
   "metadata": {
    "collapsed": false,
    "pycharm": {
     "name": "#%%\n"
    }
   }
  },
  {
   "cell_type": "code",
   "execution_count": 230,
   "outputs": [],
   "source": [
    "class RuleLike:\n",
    "    def is_rule(self) -> bool:\n",
    "        return isinstance(self, Rule)\n",
    "\n",
    "    def is_external(self) -> bool:\n",
    "        return isinstance(self, External)"
   ],
   "metadata": {
    "collapsed": false,
    "pycharm": {
     "name": "#%%\n"
    }
   }
  },
  {
   "cell_type": "code",
   "execution_count": 231,
   "outputs": [],
   "source": [
    "\n",
    "ForwardRule = TypeVar('ForwardRule', bound='Rule')\n",
    "ForwardExternal = TypeVar('ForwardExternal', bound='External')\n",
    "\n",
    "\n",
    "@dataclass(frozen=True, order=True)\n",
    "class Rule(RuleLike):\n",
    "    head: Optional[Literal] = None\n",
    "    body: MutableSequence[Literal] = ()\n",
    "\n",
    "    def __str__(self) -> str:\n",
    "        if self.head is None and not self.body:\n",
    "            return \":-.\"\n",
    "        elif self.head is None:\n",
    "            return \":- {}.\".format(', '.join(map(str, self.body)))\n",
    "        elif not self.body:\n",
    "            return \"{}.\".format(self.head)\n",
    "        else:\n",
    "            return \"{} :- {}.\".format(self.head, ', '.join(map(str, self.body)))\n",
    "\n",
    "    def is_ground(self) -> bool:\n",
    "        pass\n",
    "\n",
    "    def is_fact(self) -> bool:\n",
    "        return self.head is not None and not self.body\n",
    "\n",
    "    def as_external(self) -> ForwardExternal:\n",
    "        return External(self.head.atom, self.body, ExternalType.false)\n",
    "\n",
    "    def is_constraint(self) -> bool:\n",
    "        return self.head is None\n",
    "\n",
    "    def is_normal_rule(self) -> bool:\n",
    "        return self.head is not None and self.body\n",
    "\n",
    "    def is_head_relevant(self, atom: Atom) -> bool:\n",
    "        if self.head is None:\n",
    "            return False\n",
    "        #if self.head.atom == atom:\n",
    "        #    return True\n",
    "        return self.head.atom.is_isomorph_to(atom)\n"
   ],
   "metadata": {
    "collapsed": false,
    "pycharm": {
     "name": "#%%\n"
    }
   }
  },
  {
   "cell_type": "code",
   "execution_count": 232,
   "outputs": [],
   "source": [
    "ForwardExternalType = TypeVar('ForwardExternalType', bound='ExternalType')\n",
    "\n",
    "\n",
    "class ExternalType(IntEnum):\n",
    "    false = 0\n",
    "    true = 1\n",
    "    free = 2\n",
    "\n",
    "    @staticmethod\n",
    "    def from_truth_value(tv: clingo.TruthValue) -> ForwardExternalType:\n",
    "        if tv is clingo.TruthValue.False_:\n",
    "            return ExternalType.false\n",
    "        elif tv is clingo.TruthValue.True_:\n",
    "            return ExternalType.true\n",
    "        else:\n",
    "            assert tv is clingo.TruthValue.Free\n",
    "            return ExternalType.free\n",
    "\n",
    "\n",
    "@dataclass(frozen=True, order=True)\n",
    "class External(RuleLike):\n",
    "    atom: Atom = field(default_factory=Atom)\n",
    "    body: Sequence[Literal] = ()\n",
    "    external_type: ExternalType = ExternalType.false\n",
    "\n",
    "    def __str__(self):\n",
    "        if not self.body:\n",
    "            return \"#external {}. [{}]\".format(self.atom, self.external_type.name)\n",
    "        return \"#external {} : {}. [{}]\".format(self.atom, ', '.join(map(str, self.body)), self.external_type.name)\n"
   ],
   "metadata": {
    "collapsed": false,
    "pycharm": {
     "name": "#%%\n"
    }
   }
  },
  {
   "cell_type": "code",
   "execution_count": 233,
   "outputs": [],
   "source": [
    "ForwardProgram = TypeVar('ForwardProgram', bound='Program')\n",
    "\n",
    "\n",
    "@dataclass(frozen=True, order=True)\n",
    "class Program:\n",
    "    rules: MutableSequence[RuleLike] = field(default_factory=list)\n",
    "\n",
    "    def __str__(self):\n",
    "        return ' '.join(map(str, self.rules))\n",
    "\n",
    "    def facts(self) -> Iterator[Atom]:\n",
    "        for rule in self.rules:\n",
    "            if rule.is_rule():\n",
    "                assert isinstance(rule, Rule)\n",
    "                if rule.is_fact():\n",
    "                    yield rule\n",
    "            if rule.is_external():\n",
    "                assert isinstance(rule, External)\n",
    "                if not rule.body:\n",
    "                    yield rule\n",
    "\n",
    "    def facts_as_external(self) -> ForwardProgram:\n",
    "        new_rules = []\n",
    "        for rule in self.rules:\n",
    "            if rule.is_fact():\n",
    "                new_rules.append(rule.as_external())\n",
    "            else:\n",
    "                new_rules.append(rule)\n",
    "        return Program(new_rules)\n",
    "\n",
    "    def support_rules(self, atom: Atom) -> Iterator[RuleLike]:\n",
    "        for rule in self.rules:\n",
    "            if rule.is_rule():\n",
    "                assert isinstance(rule, Rule)\n",
    "                if rule.is_head_relevant(atom):\n",
    "                    yield rule\n",
    "            elif rule.is_external():\n",
    "                assert isinstance(rule, External)\n",
    "                if rule.atom.is_isomorph_to(atom):\n",
    "                    yield rule\n",
    "\n",
    "    def ground(self) -> ForwardProgram:\n",
    "        ctl = clingo.Control()\n",
    "        prg = clingox.program.Program()\n",
    "        obs = clingox.program.ProgramObserver(prg)\n",
    "        ctl.register_observer(obs)\n",
    "        ctl.add('base', [], str(self))\n",
    "        ctl.ground([('base', [])])\n",
    "        new_rules = []\n",
    "        for fact in prg.facts:\n",
    "            new_rules.append(Rule(Literal(Atom.from_clingo_symbol(fact.symbol))))\n",
    "        for rule in prg.rules:\n",
    "            if len(rule.head) == 0:\n",
    "                head = None\n",
    "            elif len(rule.head) == 1:\n",
    "                if rule.head[0] not in prg.output_atoms:\n",
    "                    continue\n",
    "                head = Literal(Atom.from_clingo_symbol(prg.output_atoms[rule.head[0]]))\n",
    "            else:\n",
    "                assert False, \"Unexpected length of rule head\"\n",
    "            body = [\n",
    "                Literal(sign=Sign(body_literal < 0), atom=Atom.from_clingo_symbol(prg.output_atoms[abs(body_literal)]))\n",
    "                for body_literal in rule.body]\n",
    "            new_rules.append(Rule(head, body))\n",
    "        for external in prg.externals:\n",
    "            new_rules.append(External(Atom.from_clingo_symbol(prg.output_atoms[external.atom]), (),\n",
    "                                      ExternalType.from_truth_value(external.value)))\n",
    "        return Program(new_rules)\n",
    "\n",
    "    def evaluate_forwards(self) -> Iterator[Sequence[Atom]]:\n",
    "        ctl = clingo.Control()\n",
    "        ctl.configuration.solve.models = 0\n",
    "        ctl.add('base', [], str(self))\n",
    "        ctl.ground([('base', [])])\n",
    "        with ctl.solve(yield_=True) as solve_handle:\n",
    "            for model in solve_handle:\n",
    "                symbols = sorted(model.symbols(shown=True))\n",
    "                atoms = tuple(Atom.from_clingo_symbol(symbol) for symbol in symbols)\n",
    "                yield atoms\n",
    "\n",
    "    def cautious_consequences(self) -> Sequence[Atom]:\n",
    "        ctl = clingo.Control()\n",
    "        ctl.configuration.solve.models = 0\n",
    "        ctl.configuration.solve.enum_mode = 'cautious'\n",
    "        ctl.add('base', [], str(self))\n",
    "        ctl.ground([('base', [])])\n",
    "        with ctl.solve(yield_=True) as solve_handle:\n",
    "            model = None\n",
    "            for m in solve_handle:\n",
    "                model = m\n",
    "            symbols = sorted(model.symbols(shown=True))\n",
    "            atoms = tuple(Atom.from_clingo_symbol(symbol) for symbol in symbols)\n",
    "            return atoms\n",
    "\n"
   ],
   "metadata": {
    "collapsed": false,
    "pycharm": {
     "name": "#%%\n"
    }
   }
  },
  {
   "cell_type": "code",
   "execution_count": 234,
   "outputs": [
    {
     "name": "stdout",
     "output_type": "stream",
     "text": [
      "a :- k, not b. k :- e, not b. c :- a, b. b :- not a. c :- k. f :- e, not k, not c. e.\n"
     ]
    }
   ],
   "source": [
    "a = Literal(Atom(Function('a')))\n",
    "b = Literal(Atom(Function('b')))\n",
    "c = Literal(Atom(Function('c')))\n",
    "e = Literal(Atom(Function('e')))\n",
    "f = Literal(Atom(Function('f')))\n",
    "k = Literal(Atom(Function('k')))\n",
    "\n",
    "r1 = Rule(a, [k, -b])\n",
    "r2 = Rule(k, [e, -b])\n",
    "r3 = Rule(c, [a, b])\n",
    "r4 = Rule(b, [-a])\n",
    "r5 = Rule(c, [k])\n",
    "r6 = Rule(f, [e, -k, -c])\n",
    "r7 = Rule(e)\n",
    "\n",
    "p1 = Program([r1, r2, r3, r4, r5, r6, r7])\n",
    "print(p1)"
   ],
   "metadata": {
    "collapsed": false,
    "pycharm": {
     "name": "#%%\n"
    }
   }
  },
  {
   "cell_type": "code",
   "execution_count": 235,
   "outputs": [
    {
     "name": "stdout",
     "output_type": "stream",
     "text": [
      "a :- k, not b. k :- e, not b. c :- a, b. b :- not a. c :- k. f :- e, not k, not c. #external e. [false]\n"
     ]
    }
   ],
   "source": [
    "p1_t = p1.facts_as_external()\n",
    "print(p1_t)"
   ],
   "metadata": {
    "collapsed": false,
    "pycharm": {
     "name": "#%%\n"
    }
   }
  },
  {
   "cell_type": "code",
   "execution_count": 236,
   "outputs": [
    {
     "name": "stdout",
     "output_type": "stream",
     "text": [
      "b :- not a.\n",
      "k :- not b, e.\n",
      "a :- not b, k.\n",
      "c :- b, a.\n",
      "c :- k.\n",
      "f :- not c, not k, e.\n",
      "#external e. [false]\n"
     ]
    }
   ],
   "source": [
    "p1_tg = p1_t.ground()\n",
    "print('\\n'.join(map(str, p1_tg.rules)))"
   ],
   "metadata": {
    "collapsed": false,
    "pycharm": {
     "name": "#%%\n"
    }
   }
  },
  {
   "cell_type": "code",
   "execution_count": 237,
   "outputs": [
    {
     "name": "stdout",
     "output_type": "stream",
     "text": [
      "Answer Sets:\n",
      "{ b e f } { a c e k }\n"
     ]
    }
   ],
   "source": [
    "models = list(p1.evaluate_forwards())\n",
    "print(\"Answer Sets:\")\n",
    "print('{', ' } { '.join(' '.join(map(str, model)) for model in models), '}')\n",
    "model = models[0]"
   ],
   "metadata": {
    "collapsed": false,
    "pycharm": {
     "name": "#%%\n"
    }
   }
  },
  {
   "cell_type": "code",
   "execution_count": 238,
   "outputs": [
    {
     "name": "stdout",
     "output_type": "stream",
     "text": [
      "Cautious Consequences:\n",
      "{ e }\n"
     ]
    }
   ],
   "source": [
    "cautious_consequences = p1.cautious_consequences()\n",
    "print(\"Cautious Consequences:\")\n",
    "print('{', ' '.join(map(str, cautious_consequences)), '}')"
   ],
   "metadata": {
    "collapsed": false,
    "pycharm": {
     "name": "#%%\n"
    }
   }
  },
  {
   "cell_type": "code",
   "execution_count": 239,
   "outputs": [],
   "source": [
    "def preprocess_true_atoms(atom: Atom, body: Sequence[Literal], e, model, facts):\n",
    "    a = Literal(atom)\n",
    "    positive = set(literal for literal in body if literal.is_pos())\n",
    "    pos = positive\n",
    "    negative = set(literal for literal in body if literal.is_neg())\n",
    "    neg = set(abs(literal) for literal in body if literal.is_neg())\n",
    "    if pos <= model and neg.isdisjoint(model):\n",
    "        s = positive | negative\n",
    "        if a in model and not positive and not negative:\n",
    "            s = set(\"T\")\n",
    "        e[atom].append(s)\n",
    "\n",
    "\n",
    "def preprocess_false_atoms(atom: Atom, body: Sequence[Literal], e, model):\n",
    "    a = Literal(atom)\n",
    "    positive = set(literal for literal in body if literal.is_pos())\n",
    "    negative = set(literal for literal in body if literal.is_neg())\n",
    "    l = list(set(frozenset({-p}) for p in positive if p not in model) | set(\n",
    "        frozenset({abs(n)}) for n in negative if abs(n) in model))\n",
    "    if -a not in e:\n",
    "        e[-a] = l\n",
    "    else:\n",
    "        t = []\n",
    "        for s in l:\n",
    "            for e_ in e[-a]:\n",
    "                t.append(s | e_)\n",
    "        e[-a] = t\n",
    "\n",
    "\n",
    "def preprocess(program: Program, model: Sequence[Atom]) -> dict:\n",
    "    e = defaultdict(list)\n",
    "    facts = tuple(program.facts())\n",
    "    model = set(Literal(atom) for atom in model)\n",
    "    for rule in program.rules:\n",
    "        if rule.is_external():\n",
    "            atom: Atom = rule.atom\n",
    "        elif rule.is_rule():\n",
    "            atom: Atom = rule.head.atom\n",
    "        else:\n",
    "            assert False, \"Unexpected RuleLike {} with type {}.\".format(rule, type(rule).__name__)\n",
    "        assert isinstance(atom, Atom), \"Atom {} should have type {} but has type {}.\".format(atom, Atom.__name__,\n",
    "                                                                                             type(atom).__name__)\n",
    "        bodies = (support_rule.body for support_rule in program.support_rules(atom))\n",
    "        if Literal(atom) in model:\n",
    "            for body in bodies:\n",
    "                preprocess_true_atoms(atom, body, e, model, facts)\n",
    "        else:\n",
    "            for body in bodies:\n",
    "                preprocess_false_atoms(atom, body, e, model)\n",
    "    return e\n"
   ],
   "metadata": {
    "collapsed": false,
    "pycharm": {
     "name": "#%%\n"
    }
   }
  },
  {
   "cell_type": "code",
   "execution_count": 240,
   "outputs": [
    {
     "name": "stdout",
     "output_type": "stream",
     "text": [
      "b : [{ not a }]\n",
      "not k : [{ b }]\n",
      "not a : [{ b }{ not k }]\n",
      "not c : [{ not a, not k }]\n",
      "f : [{ not c, e, not k }]\n",
      "e : [{ T }]\n"
     ]
    }
   ],
   "source": [
    "dependency_dict = preprocess(p1_tg, model)\n",
    "for sym, dep in dependency_dict.items():\n",
    "    print(sym, \" : [\", sep='', end='')\n",
    "    for d in dep:\n",
    "        print(\"{\", ', '.join(map(str, d)), \"}\", end='')\n",
    "    print(\"]\")"
   ],
   "metadata": {
    "collapsed": false,
    "pycharm": {
     "name": "#%%\n"
    }
   }
  },
  {
   "cell_type": "code",
   "execution_count": 241,
   "outputs": [],
   "source": [
    "def negation_atoms(dependency_dict: dict, model: Sequence[Atom], cautious_consequences: Sequence[Atom]):\n",
    "    nant = set()\n",
    "    for dep in dependency_dict.values():\n",
    "        for body in dep:\n",
    "            nant.update(abs(l) for l in body if isinstance(l, Literal) and\n",
    "                       l.is_neg() and l.atom not in model and l.atom not in cautious_consequences)\n",
    "    return nant\n"
   ],
   "metadata": {
    "collapsed": false,
    "pycharm": {
     "name": "#%%\n"
    }
   }
  },
  {
   "cell_type": "code",
   "execution_count": 242,
   "outputs": [],
   "source": [
    "def _get_connection(dependencies, dependency_dict, edge_dict):\n",
    "    for dep in dependencies:\n",
    "        if dep not in edge_dict and dep in dependency_dict:\n",
    "            edge_dict[dep] = dependency_dict[dep]\n",
    "            for next_dependencies in dependency_dict[dep]:\n",
    "                _get_connection(next_dependencies, dependency_dict, edge_dict)  # TODO: untangle recursion\n"
   ],
   "metadata": {
    "collapsed": false,
    "pycharm": {
     "name": "#%%\n"
    }
   }
  },
  {
   "cell_type": "code",
   "execution_count": 243,
   "outputs": [],
   "source": [
    "def _check_derivation_path(k, path, tentative_destinations, vertex_set, reached_stack, cycle_dict,\n",
    "                           dependency_assumptions):\n",
    "    I = path.get(k, set())\n",
    "    vertex_set.add(k)\n",
    "    reached_stack.append(k)\n",
    "    for i in I:\n",
    "        cycle_dict[k] = i\n",
    "        j = abs(i)\n",
    "        if i.is_neg() and j in tentative_destinations:\n",
    "            dependency_assumptions.add(j)\n",
    "        else:\n",
    "            if i not in vertex_set:\n",
    "                if not _check_derivation_path(i, path, tentative_destinations, vertex_set, reached_stack,\n",
    "                                              cycle_dict,\n",
    "                                              dependency_assumptions)[0]:\n",
    "                    return False, dependency_assumptions\n",
    "            elif i in reached_stack:\n",
    "                if i.is_neg():\n",
    "                    if not _cycle_identification(cycle_dict, i, i):\n",
    "                        return False, dependency_assumptions\n",
    "                else:\n",
    "                    return False, dependency_assumptions\n",
    "\n",
    "    reached = reached_stack.pop()\n",
    "    if reached in cycle_dict:\n",
    "        del cycle_dict[reached]\n",
    "    return True, dependency_assumptions\n"
   ],
   "metadata": {
    "collapsed": false,
    "pycharm": {
     "name": "#%%\n"
    }
   }
  },
  {
   "cell_type": "code",
   "execution_count": 244,
   "outputs": [],
   "source": [
    "def _cycle_identification(cycle_dict, s, e):\n",
    "    if s not in cycle_dict:\n",
    "        return False\n",
    "    assert s in cycle_dict\n",
    "    v = cycle_dict[s]\n",
    "    if v != e and s.is_neg() and v.is_neg():\n",
    "        return _cycle_identification(cycle_dict, v, e)\n",
    "    return v == e and s.is_neg() and v.is_neg()\n"
   ],
   "metadata": {
    "collapsed": false,
    "pycharm": {
     "name": "#%%\n"
    }
   }
  },
  {
   "cell_type": "code",
   "execution_count": 245,
   "outputs": [],
   "source": [
    "def _derivation_path(tentative_assumptions, dependency_dict):\n",
    "    dependency_assumptions = dict()\n",
    "    terminals = set()\n",
    "    for lit in tentative_assumptions:\n",
    "        tentative_destinations = tentative_assumptions.copy() - {lit}\n",
    "        safe = False\n",
    "        for derivables in dependency_dict[-lit]:\n",
    "            edge_dict = dict()\n",
    "            edge_dict[-lit] = [derivables]\n",
    "            _get_connection(derivables, dependency_dict, edge_dict)\n",
    "            paths = [{}]\n",
    "            for k in edge_dict:\n",
    "                n_paths = []\n",
    "                for neighbourhood in edge_dict[k]:\n",
    "                    for _path in paths:\n",
    "                        path = _path.copy()\n",
    "                        path[k] = neighbourhood.copy()\n",
    "                        n_paths.append(path)\n",
    "                paths = n_paths\n",
    "\n",
    "            for path in paths:\n",
    "                vertex_set = set()\n",
    "                reached_stack = []\n",
    "                cycle_dict = dict()\n",
    "                derivation_set = set()\n",
    "                safe, derivation = _check_derivation_path(-lit, path, tentative_destinations, vertex_set,\n",
    "                                                          reached_stack, cycle_dict,\n",
    "                                                          derivation_set)\n",
    "                if safe:\n",
    "                    terminals.add(lit)\n",
    "                    dependency_assumptions[lit] = derivation\n",
    "                    break  #\n",
    "            if safe:  # for the GOTO statement\n",
    "                break\n",
    "\n",
    "    return tentative_assumptions - terminals, dependency_assumptions"
   ],
   "metadata": {
    "collapsed": false,
    "pycharm": {
     "name": "#%%\n"
    }
   }
  },
  {
   "cell_type": "code",
   "execution_count": 246,
   "outputs": [],
   "source": [
    "def _dependency_assumption(dependency_assumption: dict):\n",
    "    directed_cycles = set()\n",
    "    paths = [[]]\n",
    "    nexts = [list(dependency_assumption.keys())]\n",
    "    while nexts:\n",
    "        while nexts[-1]:\n",
    "            next = nexts[-1].pop()\n",
    "            path = paths[-1].copy()\n",
    "            path.append(next)\n",
    "            neighbours = []\n",
    "            for neighbour in dependency_assumption[next]:\n",
    "                if neighbour in path:\n",
    "                    if path[0] == neighbour:\n",
    "                        directed_cycles.add(frozenset(path))\n",
    "                else:\n",
    "                    neighbours.append(neighbour)\n",
    "\n",
    "            nexts.append(list(neighbour for neighbour in neighbours if neighbour not in path))\n",
    "            paths.append(path)\n",
    "\n",
    "        nexts.pop()\n",
    "        paths.pop()\n",
    "\n",
    "    return frozenset(map(frozenset, itertools.product(*directed_cycles)))"
   ],
   "metadata": {
    "collapsed": false,
    "pycharm": {
     "name": "#%%\n"
    }
   }
  },
  {
   "cell_type": "code",
   "execution_count": 247,
   "outputs": [],
   "source": [
    "def get_minimal_assumptions(cautious_consequences, nant, derivable_dict, model):\n",
    "    assumptions = set()\n",
    "    tentative_assumptions = set(a for a in nant if a not in model and a not in cautious_consequences)\n",
    "    # print(f\"[_assumption_func]: tentative_assumptions = {sorted(tentative_assumptions)}.\")\n",
    "    terminals, dependency_assumptions = _derivation_path(tentative_assumptions, derivable_dict)\n",
    "    # print(f\"[_assumption_func]: terminals = {terminals}\")\n",
    "    # print(f\"[_assumption_func]: dependency_assumptions = {dependency_assumptions}\")\n",
    "    minimal_assumptions = _dependency_assumption(dependency_assumptions)\n",
    "    for minimal_assumption in minimal_assumptions:\n",
    "        assumptions.add(frozenset(minimal_assumption | terminals))\n",
    "    return assumptions"
   ],
   "metadata": {
    "collapsed": false,
    "pycharm": {
     "name": "#%%\n"
    }
   }
  },
  {
   "cell_type": "code",
   "execution_count": 248,
   "outputs": [],
   "source": [
    "def explanation_graph(literal:Literal, derivable_dict:dict, minimal_assumption, model:Sequence[Atom]):\n",
    "    for assumed_literal in minimal_assumption:\n",
    "        derivable_dict[-assumed_literal] = [{\"assume\"}]\n",
    "    literal = abs(literal) if literal.atom in model else -(abs(literal))\n",
    "    for S in derivable_dict[literal]:\n",
    "        edge_dict = dict()\n",
    "        edge_dict[literal] = [S]\n",
    "        _get_connection(S, derivable_dict, edge_dict)\n",
    "        paths = [{}]\n",
    "        for k in edge_dict:\n",
    "            n_paths = []\n",
    "            for neighbourhood in edge_dict[k]:\n",
    "                for _path in paths:\n",
    "                    path = _path.copy()\n",
    "                    path[k] = neighbourhood.copy()\n",
    "                    n_paths.append(path)\n",
    "            paths = n_paths\n",
    "        for path in paths:\n",
    "            vertex_set = set()\n",
    "            reached_stack = list()\n",
    "            cycle_dict = dict()\n",
    "            graph_rules = []\n",
    "            symbol = literal.atom.get_top_function()\n",
    "            if literal.is_neg():\n",
    "                symbol = UnaryOperation(operator=UnaryOperatorType.Minus, argument=symbol)\n",
    "            graph_rules.append(Rule(Literal(Atom(Function('node', [symbol])))))\n",
    "            graph_rules = get_graph(literal, graph_rules, path, vertex_set, reached_stack, cycle_dict, derivable_dict)\n",
    "            if graph_rules is not None:\n",
    "                return Program(graph_rules)\n",
    "    return None\n"
   ],
   "metadata": {
    "collapsed": false,
    "pycharm": {
     "name": "#%%\n"
    }
   }
  },
  {
   "cell_type": "code",
   "execution_count": 249,
   "outputs": [],
   "source": [
    "\n",
    "def get_graph(k, graph_rules, path, vertex_set, reached_stack, cycle_dict, derivable_dict):\n",
    "    I = path.get(k, set())\n",
    "    vertex_set.add(k)\n",
    "    reached_stack.append(k)\n",
    "    for i in I:\n",
    "        i_node = i.literal.atom.get_top_function()\n",
    "        if i.is_neg():\n",
    "            i_node = UnaryOperation(operator=UnaryOperatorType.Minus, argument=i_node)\n",
    "        graph_rules.append(Rule(Literal(Atom(Function('node', [i_node])))))\n",
    "        sign = Function('derived')  # 'assume' or 'T' edge\n",
    "        if any(i in rule for rule in derivable_dict[k]):\n",
    "            sign = Function('positive')\n",
    "        elif any(-i in rule for rule in derivable_dict[k]):\n",
    "            sign = Function('negative')\n",
    "        k_node = k.literal.atom.get_top_function()\n",
    "        if k.is_neg():\n",
    "            k_node = UnaryOperation(operator=UnaryOperatorType.Minus, argument=i_node)\n",
    "\n",
    "        graph_rules.append(Rule(Literal(Atom(Function('edge', [Function(arguments=(k_node, i_node))])))))\n",
    "        graph_rules.append(Rule(Literal(Atom(Function('edge_type', [Function(arguments=(k_node, i_node)), sign])))))\n",
    "        if i not in vertex_set:\n",
    "            if not get_graph(i, graph_rules, path, vertex_set, reached_stack, cycle_dict, derivable_dict):\n",
    "                return None\n",
    "        elif i in reached_stack:\n",
    "            if i.is_neg():\n",
    "                if not _cycle_identification(cycle_dict, i, i):\n",
    "                    return None\n",
    "            else:\n",
    "                return None\n",
    "\n",
    "    reached = reached_stack.pop()\n",
    "    if reached in cycle_dict:\n",
    "        del cycle_dict[reached]\n",
    "    return graph_rules"
   ],
   "metadata": {
    "collapsed": false,
    "pycharm": {
     "name": "#%%\n"
    }
   }
  },
  {
   "cell_type": "code",
   "execution_count": 249,
   "outputs": [],
   "source": [],
   "metadata": {
    "collapsed": false,
    "pycharm": {
     "name": "#%%\n"
    }
   }
  },
  {
   "cell_type": "code",
   "execution_count": 250,
   "outputs": [
    {
     "name": "stdout",
     "output_type": "stream",
     "text": [
      "(Atom(symbol=Function(name='b', arguments=())), Atom(symbol=Function(name='e', arguments=())), Atom(symbol=Function(name='f', arguments=())))\n",
      "[frozenset()]\n"
     ]
    },
    {
     "ename": "AttributeError",
     "evalue": "'NoneType' object has no attribute 'rules'",
     "output_type": "error",
     "traceback": [
      "\u001B[0;31m---------------------------------------------------------------------------\u001B[0m",
      "\u001B[0;31mAttributeError\u001B[0m                            Traceback (most recent call last)",
      "Input \u001B[0;32mIn [250]\u001B[0m, in \u001B[0;36m<module>\u001B[0;34m\u001B[0m\n\u001B[1;32m      5\u001B[0m \u001B[38;5;28mprint\u001B[39m(minimal_assumptions)\n\u001B[1;32m      6\u001B[0m graph \u001B[38;5;241m=\u001B[39m explanation_graph(f, dependency_dict, minimal_assumptions[\u001B[38;5;241m0\u001B[39m], model)\n\u001B[0;32m----> 7\u001B[0m \u001B[38;5;28mprint\u001B[39m(\u001B[38;5;124m'\u001B[39m\u001B[38;5;130;01m\\n\u001B[39;00m\u001B[38;5;124m'\u001B[39m\u001B[38;5;241m.\u001B[39mjoin(\u001B[38;5;28mmap\u001B[39m(\u001B[38;5;28mstr\u001B[39m, \u001B[43mgraph\u001B[49m\u001B[38;5;241;43m.\u001B[39;49m\u001B[43mrules\u001B[49m)))\n",
      "\u001B[0;31mAttributeError\u001B[0m: 'NoneType' object has no attribute 'rules'"
     ]
    }
   ],
   "source": [
    "nant = negation_atoms(dependency_dict, model, cautious_consequences)\n",
    "minimal_assumptions = list(get_minimal_assumptions(cautious_consequences, nant, dependency_dict, model))\n",
    "\n",
    "print(model)\n",
    "print(minimal_assumptions)\n",
    "graph = explanation_graph(f, dependency_dict, minimal_assumptions[0], model)\n",
    "print('\\n'.join(map(str, graph.rules)))"
   ],
   "metadata": {
    "collapsed": false,
    "pycharm": {
     "name": "#%%\n"
    }
   }
  }
 ],
 "metadata": {
  "kernelspec": {
   "display_name": "Python 3",
   "language": "python",
   "name": "python3"
  },
  "language_info": {
   "codemirror_mode": {
    "name": "ipython",
    "version": 2
   },
   "file_extension": ".py",
   "mimetype": "text/x-python",
   "name": "python",
   "nbconvert_exporter": "python",
   "pygments_lexer": "ipython2",
   "version": "2.7.6"
  }
 },
 "nbformat": 4,
 "nbformat_minor": 0
}