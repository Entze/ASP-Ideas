{
 "cells": [
  {
   "cell_type": "code",
   "execution_count": 80,
   "metadata": {
    "collapsed": true
   },
   "outputs": [],
   "source": [
    "\n",
    "\n",
    "import clingo\n",
    "import clingo.ast"
   ]
  },
  {
   "cell_type": "code",
   "execution_count": 81,
   "outputs": [],
   "source": [
    "program = \"\"\"\n",
    "\n",
    "%domA.\n",
    "\n",
    "domA(0).\n",
    "\n",
    "domA(1) :- domA(A).\n",
    "\n",
    "\"\"\""
   ],
   "metadata": {
    "collapsed": false,
    "pycharm": {
     "name": "#%%\n"
    }
   }
  },
  {
   "cell_type": "code",
   "execution_count": 82,
   "outputs": [],
   "source": [
    "class NonGroundReifyTransformer(clingo.ast.Transformer):\n",
    "    pos = clingo.ast.Position('<string>', 1, 1)\n",
    "    loc = clingo.ast.Location(pos, pos)\n",
    "\n",
    "    def _ast_sym(self, sym: clingo.Symbol):\n",
    "        return clingo.ast.SymbolicAtom(clingo.ast.SymbolicTerm(self.loc, sym))\n",
    "\n",
    "    def _ast_str(self, string: str):\n",
    "        return self._ast_sym(clingo.String(string))\n",
    "\n",
    "    def _ast_num(self, num: int):\n",
    "        return self._ast_sym(clingo.Number(num))\n",
    "\n",
    "    def visit_SymbolicTerm(self, term: clingo.ast.AST):\n",
    "        print(\"Term:\", term)\n",
    "        symbol = term.symbol\n",
    "        symbol_node = clingo.ast.SymbolicAtom(clingo.ast.Function(self.loc, 'symbol',\n",
    "                                                                  [self._ast_sym(symbol)],\n",
    "                                                                  False))\n",
    "        print(\"Meta-Term:\", symbol_node)\n",
    "        return symbol_node\n",
    "\n",
    "    def visit_Variable(self, variable: clingo.ast.AST):\n",
    "        print(\"Variable:\", variable)\n",
    "        name = variable.name\n",
    "        variable_node = clingo.ast.SymbolicAtom(clingo.ast.Function(self.loc, 'variable', [\n",
    "            clingo.ast.SymbolicAtom(clingo.ast.Function(self.loc, 'name', [\n",
    "                self._ast_str(name)\n",
    "            ], False))], False))\n",
    "        print(\"Meta-Variable:\", variable_node)\n",
    "        return variable_node\n",
    "\n",
    "    def visit_Function(self, function: clingo.ast.AST):\n",
    "        print(\"Function:\", function)\n",
    "        name = function.name\n",
    "        arguments = function.arguments\n",
    "        external = function.external\n",
    "        function_node = clingo.ast.SymbolicAtom(clingo.ast.Function(self.loc, 'function', [\n",
    "            clingo.ast.SymbolicAtom(clingo.ast.Function(self.loc, 'name', [self._ast_str(name)], False)),\n",
    "            clingo.ast.SymbolicAtom(\n",
    "                clingo.ast.Function(self.loc, 'arguments', [self.visit(argument) for argument in arguments], False)),\n",
    "            clingo.ast.SymbolicAtom(clingo.ast.Function(self.loc, 'external', [self._ast_num(external)], False))\n",
    "        ], False))\n",
    "        print(\"Meta-Function:\", function_node)\n",
    "        return function_node\n",
    "\n",
    "    def visit_Literal(self, literal: clingo.ast.AST):\n",
    "        print(\"Literal:\", literal)\n",
    "        sign = literal.sign\n",
    "        atom = literal.atom\n",
    "        literal_node = clingo.ast.SymbolicAtom(clingo.ast.Function(self.loc, 'literal', [\n",
    "            clingo.ast.SymbolicAtom(clingo.ast.Function(self.loc, 'sign', [self._ast_num(sign)], False)),\n",
    "            clingo.ast.SymbolicAtom(clingo.ast.Function(self.loc, 'atom', [\n",
    "                clingo.ast.SymbolicAtom(clingo.ast.Function(self.loc, 'symbol', [\n",
    "                    self.visit(atom)\n",
    "                ], False)),\n",
    "            ], False))\n",
    "        ], False))\n",
    "        print(\"Meta-Literal:\", literal_node)\n",
    "        return literal_node\n",
    "\n",
    "    def visit_Rule(self, rule: clingo.ast.AST):\n",
    "        print(\"Rule:\", rule)\n",
    "        meta_rule = self.visit_children(rule)\n",
    "        head = clingo.ast.SymbolicAtom(clingo.ast.Function(self.loc, 'head', [meta_rule['head']], False))\n",
    "        body = clingo.ast.SymbolicAtom(clingo.ast.Function(self.loc, 'body', [clingo.ast.Function(self.loc, 'elements', meta_rule.get('body', ()), False)], False))\n",
    "        rule_head = clingo.ast.Literal(self.loc, clingo.ast.Sign.NoSign, clingo.ast.SymbolicAtom(\n",
    "            clingo.ast.Function(self.loc, 'rule', (head,\n",
    "                                                   body,\n",
    "                                                   clingo.ast.SymbolicAtom(clingo.ast.Function(self.loc, 'external', [self._ast_num(0)], False))),\n",
    "                                False)))\n",
    "        rule_node = clingo.ast.Rule(self.loc, rule_head, ())\n",
    "        print(\"Meta-Rule:\", rule_node)\n",
    "        return rule_node\n",
    "\n"
   ],
   "metadata": {
    "collapsed": false,
    "pycharm": {
     "name": "#%%\n"
    }
   }
  },
  {
   "cell_type": "code",
   "execution_count": 83,
   "outputs": [],
   "source": [
    "ctl = clingo.Control()\n",
    "ctl.configuration.solve.models = 0\n"
   ],
   "metadata": {
    "collapsed": false,
    "pycharm": {
     "name": "#%%\n"
    }
   }
  },
  {
   "cell_type": "code",
   "execution_count": 84,
   "outputs": [
    {
     "name": "stdout",
     "output_type": "stream",
     "text": [
      "Rule: domA(0).\n",
      "Literal: domA(0)\n",
      "Function: domA(0)\n",
      "Term: 0\n",
      "Meta-Term: symbol(0)\n",
      "Meta-Function: function(name(\"domA\"),arguments(symbol(0)),external(0))\n",
      "Meta-Literal: literal(sign(0),atom(symbol(function(name(\"domA\"),arguments(symbol(0)),external(0)))))\n",
      "Meta-Rule: rule(head(literal(sign(0),atom(symbol(function(name(\"domA\"),arguments(symbol(0)),external(0)))))),body(elements),external(0)).\n",
      "Rule: domA(1) :- domA(A).\n",
      "Literal: domA(1)\n",
      "Function: domA(1)\n",
      "Term: 1\n",
      "Meta-Term: symbol(1)\n",
      "Meta-Function: function(name(\"domA\"),arguments(symbol(1)),external(0))\n",
      "Meta-Literal: literal(sign(0),atom(symbol(function(name(\"domA\"),arguments(symbol(1)),external(0)))))\n",
      "Literal: domA(A)\n",
      "Function: domA(A)\n",
      "Variable: A\n",
      "Meta-Variable: variable(name(\"A\"))\n",
      "Meta-Function: function(name(\"domA\"),arguments(variable(name(\"A\"))),external(0))\n",
      "Meta-Literal: literal(sign(0),atom(symbol(function(name(\"domA\"),arguments(variable(name(\"A\"))),external(0)))))\n",
      "Meta-Rule: rule(head(literal(sign(0),atom(symbol(function(name(\"domA\"),arguments(symbol(1)),external(0)))))),body(elements(literal(sign(0),atom(symbol(function(name(\"domA\"),arguments(variable(name(\"A\"))),external(0))))))),external(0)).\n",
      "--------------------------------------------------------------------------------\n",
      "ASTType.Program\n",
      "#program base.\n",
      "ASTType.Rule\n"
     ]
    },
    {
     "ename": "RuntimeError",
     "evalue": "invalid ast: term expected",
     "output_type": "error",
     "traceback": [
      "\u001B[0;31m---------------------------------------------------------------------------\u001B[0m",
      "\u001B[0;31mRuntimeError\u001B[0m                              Traceback (most recent call last)",
      "Input \u001B[0;32mIn [84]\u001B[0m, in \u001B[0;36m<module>\u001B[0;34m\u001B[0m\n\u001B[1;32m      7\u001B[0m \u001B[38;5;28;01mfor\u001B[39;00m node \u001B[38;5;129;01min\u001B[39;00m nodes:\n\u001B[1;32m      8\u001B[0m     \u001B[38;5;28mprint\u001B[39m(node\u001B[38;5;241m.\u001B[39mast_type)\n\u001B[0;32m----> 9\u001B[0m     \u001B[43mbld\u001B[49m\u001B[38;5;241;43m.\u001B[39;49m\u001B[43madd\u001B[49m\u001B[43m(\u001B[49m\u001B[43mnode\u001B[49m\u001B[43m)\u001B[49m\n\u001B[1;32m     10\u001B[0m     \u001B[38;5;28mprint\u001B[39m(node)\n",
      "File \u001B[0;32m~/.local/share/miniconda/envs/asp-ideas/lib/python3.10/site-packages/clingo/ast.py:1120\u001B[0m, in \u001B[0;36mProgramBuilder.add\u001B[0;34m(self, statement)\u001B[0m\n\u001B[1;32m   1111\u001B[0m \u001B[38;5;28;01mdef\u001B[39;00m \u001B[38;5;21madd\u001B[39m(\u001B[38;5;28mself\u001B[39m, statement: AST) \u001B[38;5;241m-\u001B[39m\u001B[38;5;241m>\u001B[39m \u001B[38;5;28;01mNone\u001B[39;00m:\n\u001B[1;32m   1112\u001B[0m     \u001B[38;5;124;03m'''\u001B[39;00m\n\u001B[1;32m   1113\u001B[0m \u001B[38;5;124;03m    Adds a statement in form of an `AST` node to the program.\u001B[39;00m\n\u001B[1;32m   1114\u001B[0m \n\u001B[0;32m   (...)\u001B[0m\n\u001B[1;32m   1118\u001B[0m \u001B[38;5;124;03m        The statement to add.\u001B[39;00m\n\u001B[1;32m   1119\u001B[0m \u001B[38;5;124;03m    '''\u001B[39;00m\n\u001B[0;32m-> 1120\u001B[0m     \u001B[43m_handle_error\u001B[49m\u001B[43m(\u001B[49m\u001B[43m_lib\u001B[49m\u001B[38;5;241;43m.\u001B[39;49m\u001B[43mclingo_program_builder_add\u001B[49m\u001B[43m(\u001B[49m\u001B[38;5;28;43mself\u001B[39;49m\u001B[38;5;241;43m.\u001B[39;49m\u001B[43m_rep\u001B[49m\u001B[43m,\u001B[49m\u001B[43m \u001B[49m\u001B[43mstatement\u001B[49m\u001B[38;5;241;43m.\u001B[39;49m\u001B[43m_rep\u001B[49m\u001B[43m)\u001B[49m\u001B[43m)\u001B[49m\n",
      "File \u001B[0;32m~/.local/share/miniconda/envs/asp-ideas/lib/python3.10/site-packages/clingo/_internal.py:65\u001B[0m, in \u001B[0;36m_handle_error\u001B[0;34m(ret, handler)\u001B[0m\n\u001B[1;32m     63\u001B[0m \u001B[38;5;28;01mif\u001B[39;00m code \u001B[38;5;241m==\u001B[39m _lib\u001B[38;5;241m.\u001B[39mclingo_error_bad_alloc:\n\u001B[1;32m     64\u001B[0m     \u001B[38;5;28;01mraise\u001B[39;00m \u001B[38;5;167;01mMemoryError\u001B[39;00m(msg)\n\u001B[0;32m---> 65\u001B[0m \u001B[38;5;28;01mraise\u001B[39;00m \u001B[38;5;167;01mRuntimeError\u001B[39;00m(msg)\n",
      "\u001B[0;31mRuntimeError\u001B[0m: invalid ast: term expected"
     ]
    }
   ],
   "source": [
    "ngrt = NonGroundReifyTransformer()\n",
    "\n",
    "nodes = []\n",
    "clingo.ast.parse_string(program, lambda stm: nodes.append(ngrt.visit(stm)))\n",
    "print(\"-\"*80)\n",
    "with clingo.ast.ProgramBuilder(ctl) as bld:\n",
    "    for node in nodes:\n",
    "        print(node.ast_type)\n",
    "        bld.add(node)\n",
    "        print(node)\n"
   ],
   "metadata": {
    "collapsed": false,
    "pycharm": {
     "name": "#%%\n"
    }
   }
  },
  {
   "cell_type": "code",
   "execution_count": null,
   "outputs": [],
   "source": [
    "ctl.ground([('base', [])])"
   ],
   "metadata": {
    "collapsed": false,
    "pycharm": {
     "name": "#%%\n"
    }
   }
  },
  {
   "cell_type": "code",
   "execution_count": null,
   "outputs": [],
   "source": [
    "with ctl.solve(yield_=True) as solve_handle:\n",
    "    models = []\n",
    "    for model in solve_handle:\n",
    "        symbols = model.symbols(atoms=True)\n",
    "        models.append(symbols)"
   ],
   "metadata": {
    "collapsed": false,
    "pycharm": {
     "name": "#%%\n"
    }
   }
  },
  {
   "cell_type": "code",
   "execution_count": null,
   "outputs": [],
   "source": [
    "print(' '.join(map(str, models[0])))"
   ],
   "metadata": {
    "collapsed": false,
    "pycharm": {
     "name": "#%%\n"
    }
   }
  }
 ],
 "metadata": {
  "kernelspec": {
   "display_name": "Python 3",
   "language": "python",
   "name": "python3"
  },
  "language_info": {
   "codemirror_mode": {
    "name": "ipython",
    "version": 2
   },
   "file_extension": ".py",
   "mimetype": "text/x-python",
   "name": "python",
   "nbconvert_exporter": "python",
   "pygments_lexer": "ipython2",
   "version": "2.7.6"
  }
 },
 "nbformat": 4,
 "nbformat_minor": 0
}