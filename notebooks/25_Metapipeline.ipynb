{
 "cells": [
  {
   "cell_type": "code",
   "execution_count": 96,
   "metadata": {
    "collapsed": true
   },
   "outputs": [],
   "source": [
    "\n",
    "from typing import Optional\n",
    "\n",
    "import clingo\n",
    "import clingo.ast"
   ]
  },
  {
   "cell_type": "code",
   "execution_count": 97,
   "outputs": [],
   "source": [
    "program = \"\"\"\n",
    "\n",
    "%domA.\n",
    "\n",
    "domA(0).\n",
    "\n",
    "domA(1) :- domA(A).\n",
    "\n",
    "\"\"\""
   ],
   "metadata": {
    "collapsed": false,
    "pycharm": {
     "name": "#%%\n"
    }
   }
  },
  {
   "cell_type": "code",
   "execution_count": 98,
   "outputs": [],
   "source": [
    "def report(node):\n",
    "    print(node)\n",
    "    if not isinstance(node, clingo.ast.AST):\n",
    "        print(\"Type:\", type(node).__name__)\n",
    "        return\n",
    "\n",
    "    print(\"Type:\", node.ast_type)\n",
    "    print(\"Keys:\", node.keys())\n",
    "\n",
    "    if 'head' in node.keys():\n",
    "        print(\"Head:\", end=' ')\n",
    "        report(node.head)\n",
    "    if 'body' in node.keys():\n",
    "        print(\"Body:\", end=' ')\n",
    "        report(node.body)\n",
    "    if 'atom' in node.keys():\n",
    "        print(\"Atom: \", end='')\n",
    "        report(node.atom)\n",
    "    if 'symbol' in node.keys():\n",
    "        print(\"Symbol: \", end='')\n",
    "        report(node.symbol)\n",
    "    if 'sign' in node.keys():\n",
    "        print(\"Sign:\", node.sign, type(node.sign).__name__)\n",
    "    if 'external' in node.keys():\n",
    "        print(\"External:\", node.external, type(node.external).__name__)\n",
    "    if 'name' in node.keys():\n",
    "        print(\"Name:\", node.name, type(node.name).__name__)\n",
    "    if 'arguments' in node.keys():\n",
    "        print(\"Arguments:\")\n",
    "        for argument in node.arguments:\n",
    "            report(argument)\n"
   ],
   "metadata": {
    "collapsed": false,
    "pycharm": {
     "name": "#%%\n"
    }
   }
  },
  {
   "cell_type": "code",
   "execution_count": 99,
   "outputs": [],
   "source": [
    "class NonGroundReifyTransformer(clingo.ast.Transformer):\n",
    "    pos = clingo.ast.Position('<string>', 1, 1)\n",
    "    loc = clingo.ast.Location(pos, pos)\n",
    "\n",
    "    def _ast_sym(self, sym: clingo.Symbol):\n",
    "        return clingo.ast.SymbolicTerm(self.loc, sym)\n",
    "\n",
    "    def _ast_str(self, string: str):\n",
    "        return self._ast_sym(clingo.String(string))\n",
    "\n",
    "    def _ast_num(self, num: int):\n",
    "        return self._ast_sym(clingo.Number(num))\n",
    "\n",
    "    def visit_SymbolicTerm(self, term: clingo.ast.AST):\n",
    "        print(\"Term:\", term)\n",
    "        symbol = term.symbol\n",
    "        symbol_node = clingo.ast.Function(self.loc, 'symbol',\n",
    "                                          [self._ast_sym(symbol)],\n",
    "                                          False)\n",
    "        print(\"Meta-Term:\", symbol_node)\n",
    "        return symbol_node\n",
    "\n",
    "    def visit_Variable(self, variable: clingo.ast.AST):\n",
    "        print(\"Variable:\", variable)\n",
    "        name = variable.name\n",
    "        variable_node = clingo.ast.Function(self.loc, 'variable', [\n",
    "            clingo.ast.Function(self.loc, 'name', [\n",
    "                self._ast_str(name)\n",
    "            ], False)], False)\n",
    "        print(\"Meta-Variable:\", variable_node)\n",
    "        return variable_node\n",
    "\n",
    "    def visit_Function(self, function: clingo.ast.AST):\n",
    "        print(\"Function:\", function)\n",
    "        name = function.name\n",
    "        external = function.external\n",
    "        meta_function = self.visit_children(function)\n",
    "        arguments = meta_function.get('arguments', ())\n",
    "        arguments_sub = None\n",
    "        if arguments:\n",
    "            arguments_sub = clingo.ast.Function(self.loc, 'arguments', arguments, False)\n",
    "        else:\n",
    "            arguments_sub = self._ast_sym(clingo.Function('arguments'))\n",
    "        function_node = clingo.ast.Function(self.loc, 'function', [\n",
    "            clingo.ast.Function(self.loc, 'name', [self._ast_str(name)], False),\n",
    "            arguments_sub,\n",
    "            clingo.ast.Function(self.loc, 'external', [self._ast_num(external)], False)\n",
    "        ], False)\n",
    "        print(\"Meta-Function:\", function_node)\n",
    "        return function_node\n",
    "\n",
    "    def visit_Literal(self, literal: clingo.ast.AST):\n",
    "        print(\"Literal:\", literal)\n",
    "        sign = literal.sign\n",
    "        meta_literal = self.visit_children(literal)\n",
    "        atom = meta_literal['atom'].symbol\n",
    "\n",
    "        literal_node = clingo.ast.Function(self.loc, 'literal', [\n",
    "            clingo.ast.Function(self.loc, 'sign', [self._ast_num(sign)], False),\n",
    "            clingo.ast.Function(self.loc, 'atom', [\n",
    "                clingo.ast.Function(self.loc, 'symbol', [\n",
    "                    atom\n",
    "                ], False),\n",
    "            ], False)\n",
    "        ], False)\n",
    "        print(\"Meta-Literal:\", literal_node)\n",
    "        return literal_node\n",
    "\n",
    "    def visit_Rule(self, rule: clingo.ast.AST):\n",
    "        print(\"Rule:\", rule)\n",
    "        meta_rule = self.visit_children(rule)\n",
    "        head = clingo.ast.Function(self.loc, 'head', [meta_rule['head']], False)\n",
    "        body = clingo.ast.Function(self.loc, 'body', [\n",
    "            clingo.ast.Function(self.loc, 'elements', meta_rule.get('body', ()), False)], False)\n",
    "        rule_head = clingo.ast.Literal(self.loc, clingo.ast.Sign.NoSign, clingo.ast.SymbolicAtom(\n",
    "            clingo.ast.Function(self.loc, 'rule', (head, body), False)))\n",
    "        rule_node = clingo.ast.Rule(self.loc, rule_head, ())\n",
    "        print(\"Meta-Rule:\", rule_node)\n",
    "        return rule_node\n"
   ],
   "metadata": {
    "collapsed": false,
    "pycharm": {
     "name": "#%%\n"
    }
   }
  },
  {
   "cell_type": "code",
   "execution_count": 100,
   "outputs": [],
   "source": [
    "ctl = clingo.Control()\n",
    "ctl.configuration.solve.models = 0\n"
   ],
   "metadata": {
    "collapsed": false,
    "pycharm": {
     "name": "#%%\n"
    }
   }
  },
  {
   "cell_type": "code",
   "execution_count": 101,
   "outputs": [
    {
     "name": "stdout",
     "output_type": "stream",
     "text": [
      "Rule: domA(0).\n",
      "Literal: domA(0)\n",
      "Function: domA(0)\n",
      "Term: 0\n",
      "Meta-Term: symbol(0)\n",
      "Meta-Function: function(name(\"domA\"),arguments(symbol(0)),external(0))\n",
      "Meta-Literal: literal(sign(0),atom(symbol(function(name(\"domA\"),arguments(symbol(0)),external(0)))))\n",
      "Meta-Rule: rule(head(literal(sign(0),atom(symbol(function(name(\"domA\"),arguments(symbol(0)),external(0)))))),body(elements)).\n",
      "Rule: domA(1) :- domA(A).\n",
      "Literal: domA(1)\n",
      "Function: domA(1)\n",
      "Term: 1\n",
      "Meta-Term: symbol(1)\n",
      "Meta-Function: function(name(\"domA\"),arguments(symbol(1)),external(0))\n",
      "Meta-Literal: literal(sign(0),atom(symbol(function(name(\"domA\"),arguments(symbol(1)),external(0)))))\n",
      "Literal: domA(A)\n",
      "Function: domA(A)\n",
      "Variable: A\n",
      "Meta-Variable: variable(name(\"A\"))\n",
      "Meta-Function: function(name(\"domA\"),arguments(variable(name(\"A\"))),external(0))\n",
      "Meta-Literal: literal(sign(0),atom(symbol(function(name(\"domA\"),arguments(variable(name(\"A\"))),external(0)))))\n",
      "Meta-Rule: rule(head(literal(sign(0),atom(symbol(function(name(\"domA\"),arguments(symbol(1)),external(0)))))),body(elements(literal(sign(0),atom(symbol(function(name(\"domA\"),arguments(variable(name(\"A\"))),external(0)))))))).\n"
     ]
    }
   ],
   "source": [
    "ngrt = NonGroundReifyTransformer()\n",
    "\n",
    "nodes = []\n",
    "clingo.ast.parse_string(program, lambda stm: nodes.append(ngrt.visit(stm)))\n",
    "with clingo.ast.ProgramBuilder(ctl) as bld:\n",
    "    for node in nodes:\n",
    "        bld.add(node)\n"
   ],
   "metadata": {
    "collapsed": false,
    "pycharm": {
     "name": "#%%\n"
    }
   }
  },
  {
   "cell_type": "code",
   "execution_count": 102,
   "outputs": [],
   "source": [
    "ctl.ground([('base', [])])"
   ],
   "metadata": {
    "collapsed": false,
    "pycharm": {
     "name": "#%%\n"
    }
   }
  },
  {
   "cell_type": "code",
   "execution_count": 103,
   "outputs": [],
   "source": [
    "with ctl.solve(yield_=True) as solve_handle:\n",
    "    models = []\n",
    "    for model in solve_handle:\n",
    "        symbols = model.symbols(atoms=True)\n",
    "        models.append(symbols)"
   ],
   "metadata": {
    "collapsed": false,
    "pycharm": {
     "name": "#%%\n"
    }
   }
  },
  {
   "cell_type": "code",
   "execution_count": 104,
   "outputs": [
    {
     "data": {
      "text/plain": "[[Function('rule', [Function('head', [Function('literal', [Function('sign', [Number(0)], True), Function('atom', [Function('symbol', [Function('function', [Function('name', [String('domA')], True), Function('arguments', [Function('symbol', [Number(0)], True)], True), Function('external', [Number(0)], True)], True)], True)], True)], True)], True), Function('body', [Function('elements', [], True)], True)], True), Function('rule', [Function('head', [Function('literal', [Function('sign', [Number(0)], True), Function('atom', [Function('symbol', [Function('function', [Function('name', [String('domA')], True), Function('arguments', [Function('symbol', [Number(1)], True)], True), Function('external', [Number(0)], True)], True)], True)], True)], True)], True), Function('body', [Function('elements', [Function('literal', [Function('sign', [Number(0)], True), Function('atom', [Function('symbol', [Function('function', [Function('name', [String('domA')], True), Function('arguments', [Function('variable', [Function('name', [String('A')], True)], True)], True), Function('external', [Number(0)], True)], True)], True)], True)], True)], True)], True)], True)]]"
     },
     "execution_count": 104,
     "metadata": {},
     "output_type": "execute_result"
    }
   ],
   "source": [
    "models"
   ],
   "metadata": {
    "collapsed": false,
    "pycharm": {
     "name": "#%%\n"
    }
   }
  },
  {
   "cell_type": "code",
   "execution_count": 105,
   "outputs": [
    {
     "name": "stdout",
     "output_type": "stream",
     "text": [
      "rule(head(literal(sign(0),atom(symbol(function(name(\"domA\"),arguments(symbol(0)),external(0)))))),body(elements))\n",
      "rule(head(literal(sign(0),atom(symbol(function(name(\"domA\"),arguments(symbol(1)),external(0)))))),body(elements(literal(sign(0),atom(symbol(function(name(\"domA\"),arguments(variable(name(\"A\"))),external(0))))))))\n"
     ]
    }
   ],
   "source": [
    "print('\\n'.join(map(str, models[0])))"
   ],
   "metadata": {
    "collapsed": false,
    "pycharm": {
     "name": "#%%\n"
    }
   }
  },
  {
   "cell_type": "code",
   "execution_count": 106,
   "outputs": [],
   "source": [
    "pos = clingo.ast.Position('<string>', 1, 1)\n",
    "loc = clingo.ast.Location(pos, pos)\n",
    "_false = clingo.ast.BooleanConstant(False)\n",
    "\n",
    "\n",
    "def translate_variable(variable: clingo.Symbol):\n",
    "    print(variable)\n",
    "    assert variable.match('variable', 1)\n",
    "    name = variable.arguments[0]\n",
    "    name_node = translate_name(name)\n",
    "    variable_node = clingo.ast.Variable(loc, name_node)\n",
    "    return variable_node\n",
    "\n",
    "\n",
    "def translate_term(term: clingo.Symbol):\n",
    "    print(term)\n",
    "    assert term.match('term', 1)\n",
    "    symbol = term.arguments[0]\n",
    "    term_node = translate_symbol(symbol)\n",
    "    return term_node\n",
    "\n",
    "\n",
    "def translate_arguments(arguments: clingo.Symbol):\n",
    "    print(arguments)\n",
    "    assert arguments.type is clingo.SymbolType.Function and arguments.name == 'arguments'\n",
    "    arguments_node = tuple(translate(argument) for argument in arguments.arguments)\n",
    "    return arguments_node\n",
    "\n",
    "\n",
    "def translate_elements(elements: clingo.Symbol):\n",
    "    print(elements)\n",
    "    assert elements.type is clingo.SymbolType.Function and elements.name == 'elements'\n",
    "    elements_node = tuple(translate(argument) for argument in elements.arguments)\n",
    "    return elements_node\n",
    "\n",
    "\n",
    "def translate_name(name: clingo.Symbol):\n",
    "    print(name)\n",
    "    assert name.match('name', 1)\n",
    "    assert name.arguments[0].type is clingo.SymbolType.String\n",
    "    name_node = name.arguments[0].string\n",
    "    return name_node\n",
    "\n",
    "\n",
    "def translate_external(external: clingo.Symbol):\n",
    "    print(external)\n",
    "    assert external.match('external', 1)\n",
    "    assert external.arguments[0].type is clingo.SymbolType.Number\n",
    "    external_node = external.arguments[0].number\n",
    "    return external_node\n",
    "\n",
    "\n",
    "def translate_function(function: clingo.Symbol):\n",
    "    print(function)\n",
    "    assert function.match('function', 3)\n",
    "    name = function.arguments[0]\n",
    "    arguments = function.arguments[1]\n",
    "    external = function.arguments[2]\n",
    "    name_node = translate_name(name)\n",
    "    arguments_node = translate_arguments(arguments)\n",
    "    external_node = translate_external(external)\n",
    "    function_node = clingo.ast.Function(loc, name_node, arguments_node, external_node)\n",
    "    return function_node\n",
    "\n",
    "\n",
    "def translate_symbol(symbol: clingo.Symbol):\n",
    "    print(symbol)\n",
    "    assert symbol.match('symbol', 1)\n",
    "    child = symbol.arguments[0]\n",
    "    child_node = translate(child)\n",
    "    return child_node\n",
    "\n",
    "\n",
    "\n",
    "def translate_atom(atom: clingo.Symbol):\n",
    "    print(atom)\n",
    "    assert atom.match('atom', 1)\n",
    "    symbol = atom.arguments[0]\n",
    "    symbol_node = translate_symbol(symbol)\n",
    "    atom_node = clingo.ast.SymbolicAtom(symbol_node)\n",
    "    return atom_node\n",
    "\n",
    "\n",
    "\n",
    "def translate_sign(sign: clingo.Symbol):\n",
    "    print(sign)\n",
    "    assert sign.match('sign', 1)\n",
    "    sign_node = sign.arguments[0].number\n",
    "    return sign_node\n",
    "\n",
    "\n",
    "def translate_literal(literal: clingo.Symbol):\n",
    "    print(literal)\n",
    "    assert literal.match('literal', 2)\n",
    "    sign = literal.arguments[0]\n",
    "    atom = literal.arguments[1]\n",
    "    sign_node = translate_sign(sign)\n",
    "    atom_node = translate_atom(atom)\n",
    "    literal_node = clingo.ast.Literal(loc, sign_node, atom_node)\n",
    "    return literal_node\n",
    "\n",
    "\n",
    "def translate_head(head: Optional[clingo.Symbol] = None):\n",
    "    print(head)\n",
    "    assert head.match('head', 1)\n",
    "    child = head.arguments[0]\n",
    "    head_node = translate(child)\n",
    "    return head_node\n",
    "\n",
    "\n",
    "def translate_body(body: Optional[clingo.Symbol] = None):\n",
    "    print(body)\n",
    "    assert body.match('body', 1)\n",
    "    elements = body.arguments[0]\n",
    "    elements_node = translate_elements(elements)\n",
    "    return elements_node\n",
    "\n",
    "\n",
    "\n",
    "def translate_rule(rule: clingo.Symbol):\n",
    "    print(rule)\n",
    "    assert rule.match('rule', 2)\n",
    "    head = rule.arguments[0]\n",
    "    body = rule.arguments[1]\n",
    "    head_node = translate_head(head)\n",
    "    body_node = translate_body(body)\n",
    "    rule_node = clingo.ast.Rule(loc, head_node, body_node)\n",
    "    return rule_node\n",
    "\n",
    "def translate(symbol: clingo.Symbol):\n",
    "    print(symbol)\n",
    "    if symbol.type is clingo.SymbolType.Function:\n",
    "        if symbol.name == 'literal':\n",
    "            return translate_literal(symbol)\n",
    "        elif symbol.name == 'function':\n",
    "            return translate_function(symbol)\n",
    "        elif symbol.name == 'term':\n",
    "            return translate_term(symbol)\n",
    "        elif symbol.name == 'variable':\n",
    "            return translate_variable(symbol)\n",
    "        elif symbol.name == 'symbol':\n",
    "            return translate_symbol(symbol)\n",
    "    else:\n",
    "        return clingo.ast.SymbolicTerm(loc, symbol)"
   ],
   "metadata": {
    "collapsed": false,
    "pycharm": {
     "name": "#%%\n"
    }
   }
  },
  {
   "cell_type": "code",
   "execution_count": 107,
   "outputs": [
    {
     "name": "stdout",
     "output_type": "stream",
     "text": [
      "rule(head(literal(sign(0),atom(symbol(function(name(\"domA\"),arguments(symbol(0)),external(0)))))),body(elements))\n",
      "head(literal(sign(0),atom(symbol(function(name(\"domA\"),arguments(symbol(0)),external(0))))))\n",
      "literal(sign(0),atom(symbol(function(name(\"domA\"),arguments(symbol(0)),external(0)))))\n",
      "literal(sign(0),atom(symbol(function(name(\"domA\"),arguments(symbol(0)),external(0)))))\n",
      "sign(0)\n",
      "atom(symbol(function(name(\"domA\"),arguments(symbol(0)),external(0))))\n",
      "symbol(function(name(\"domA\"),arguments(symbol(0)),external(0)))\n",
      "function(name(\"domA\"),arguments(symbol(0)),external(0))\n",
      "function(name(\"domA\"),arguments(symbol(0)),external(0))\n",
      "name(\"domA\")\n",
      "arguments(symbol(0))\n",
      "symbol(0)\n",
      "symbol(0)\n",
      "0\n",
      "external(0)\n",
      "body(elements)\n",
      "elements\n",
      "rule(head(literal(sign(0),atom(symbol(function(name(\"domA\"),arguments(symbol(1)),external(0)))))),body(elements(literal(sign(0),atom(symbol(function(name(\"domA\"),arguments(variable(name(\"A\"))),external(0))))))))\n",
      "head(literal(sign(0),atom(symbol(function(name(\"domA\"),arguments(symbol(1)),external(0))))))\n",
      "literal(sign(0),atom(symbol(function(name(\"domA\"),arguments(symbol(1)),external(0)))))\n",
      "literal(sign(0),atom(symbol(function(name(\"domA\"),arguments(symbol(1)),external(0)))))\n",
      "sign(0)\n",
      "atom(symbol(function(name(\"domA\"),arguments(symbol(1)),external(0))))\n",
      "symbol(function(name(\"domA\"),arguments(symbol(1)),external(0)))\n",
      "function(name(\"domA\"),arguments(symbol(1)),external(0))\n",
      "function(name(\"domA\"),arguments(symbol(1)),external(0))\n",
      "name(\"domA\")\n",
      "arguments(symbol(1))\n",
      "symbol(1)\n",
      "symbol(1)\n",
      "1\n",
      "external(0)\n",
      "body(elements(literal(sign(0),atom(symbol(function(name(\"domA\"),arguments(variable(name(\"A\"))),external(0)))))))\n",
      "elements(literal(sign(0),atom(symbol(function(name(\"domA\"),arguments(variable(name(\"A\"))),external(0))))))\n",
      "literal(sign(0),atom(symbol(function(name(\"domA\"),arguments(variable(name(\"A\"))),external(0)))))\n",
      "literal(sign(0),atom(symbol(function(name(\"domA\"),arguments(variable(name(\"A\"))),external(0)))))\n",
      "sign(0)\n",
      "atom(symbol(function(name(\"domA\"),arguments(variable(name(\"A\"))),external(0))))\n",
      "symbol(function(name(\"domA\"),arguments(variable(name(\"A\"))),external(0)))\n",
      "function(name(\"domA\"),arguments(variable(name(\"A\"))),external(0))\n",
      "function(name(\"domA\"),arguments(variable(name(\"A\"))),external(0))\n",
      "name(\"domA\")\n",
      "arguments(variable(name(\"A\")))\n",
      "variable(name(\"A\"))\n",
      "variable(name(\"A\"))\n",
      "name(\"A\")\n",
      "external(0)\n"
     ]
    }
   ],
   "source": [
    "\n",
    "prg = []\n",
    "\n",
    "for symbol in models[0]:\n",
    "    prg.append(translate_rule(symbol))"
   ],
   "metadata": {
    "collapsed": false,
    "pycharm": {
     "name": "#%%\n"
    }
   }
  },
  {
   "cell_type": "code",
   "execution_count": 108,
   "outputs": [
    {
     "name": "stdout",
     "output_type": "stream",
     "text": [
      "domA(0).\n",
      "domA(1) :- domA(A).\n"
     ]
    }
   ],
   "source": [
    "print('\\n'.join(map(str, prg)))"
   ],
   "metadata": {
    "collapsed": false,
    "pycharm": {
     "name": "#%%\n"
    }
   }
  },
  {
   "cell_type": "code",
   "execution_count": 109,
   "outputs": [],
   "source": [
    "ctl = clingo.Control()\n",
    "ctl.configuration.solve.models = 0"
   ],
   "metadata": {
    "collapsed": false,
    "pycharm": {
     "name": "#%%\n"
    }
   }
  },
  {
   "cell_type": "code",
   "execution_count": 110,
   "outputs": [],
   "source": [
    "with clingo.ast.ProgramBuilder(ctl) as bld:\n",
    "    for node in prg:\n",
    "        bld.add(node)"
   ],
   "metadata": {
    "collapsed": false,
    "pycharm": {
     "name": "#%%\n"
    }
   }
  },
  {
   "cell_type": "code",
   "execution_count": 111,
   "outputs": [],
   "source": [
    "ctl.ground([('base', [])])"
   ],
   "metadata": {
    "collapsed": false,
    "pycharm": {
     "name": "#%%\n"
    }
   }
  },
  {
   "cell_type": "code",
   "execution_count": 112,
   "outputs": [
    {
     "data": {
      "text/plain": "[[Function('domA', [Number(0)], True), Function('domA', [Number(1)], True)]]"
     },
     "execution_count": 112,
     "metadata": {},
     "output_type": "execute_result"
    }
   ],
   "source": [
    "with ctl.solve(yield_=True) as solve_handle:\n",
    "    models = []\n",
    "    for model in solve_handle:\n",
    "        symbols = model.symbols(atoms=True)\n",
    "        models.append(symbols)\n",
    "models"
   ],
   "metadata": {
    "collapsed": false,
    "pycharm": {
     "name": "#%%\n"
    }
   }
  },
  {
   "cell_type": "code",
   "execution_count": 113,
   "outputs": [
    {
     "name": "stdout",
     "output_type": "stream",
     "text": [
      "domA(0)\n",
      "domA(1)\n"
     ]
    }
   ],
   "source": [
    "print('\\n'.join(map(str, models[0])))"
   ],
   "metadata": {
    "collapsed": false,
    "pycharm": {
     "name": "#%%\n"
    }
   }
  }
 ],
 "metadata": {
  "kernelspec": {
   "display_name": "Python 3",
   "language": "python",
   "name": "python3"
  },
  "language_info": {
   "codemirror_mode": {
    "name": "ipython",
    "version": 2
   },
   "file_extension": ".py",
   "mimetype": "text/x-python",
   "name": "python",
   "nbconvert_exporter": "python",
   "pygments_lexer": "ipython2",
   "version": "2.7.6"
  }
 },
 "nbformat": 4,
 "nbformat_minor": 0
}