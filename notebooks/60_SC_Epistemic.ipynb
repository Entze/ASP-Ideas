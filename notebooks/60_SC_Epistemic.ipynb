{
 "cells": [
  {
   "cell_type": "code",
   "execution_count": 47,
   "outputs": [],
   "source": [
    "from dataclasses import dataclass, field\n",
    "from functools import cache\n",
    "from typing import TypeVar, Sequence, FrozenSet, Optional, Collection, Set, Union, Tuple, Iterator\n",
    "\n",
    "import more_itertools\n"
   ],
   "metadata": {
    "collapsed": false,
    "pycharm": {
     "name": "#%%\n"
    }
   }
  },
  {
   "cell_type": "code",
   "execution_count": 48,
   "outputs": [],
   "source": [
    "_U = TypeVar('_U')\n",
    "_ForwardFrozenRelation = TypeVar('_ForwardFrozenRelation', bound='FrozenRelation')\n",
    "\n",
    "\n",
    "@dataclass(frozen=True)\n",
    "class FrozenRelation:\n",
    "    relation_set: FrozenSet[tuple] = field(default_factory=frozenset)\n",
    "\n",
    "    def __getitem__(self, item):\n",
    "        return self.get(item)\n",
    "\n",
    "    def __str__(self):\n",
    "        return \"{}{}{}\".format('{', \",\".join(map(lambda e: \"({})\".format(','.join(map(str, e))), self.relation_set)), '}')\n",
    "\n",
    "    def related(self, item1, item2) -> bool:\n",
    "        return (item1, item2) in self.relation_set\n",
    "\n",
    "    def get(self, item) -> Set[_U]:\n",
    "        return {elem[1] for elem in self.relation_set if elem[0] == item}\n",
    "\n",
    "    def get_inverse(self, item) -> Set[_U]:\n",
    "        return {elem[0] for elem in self.relation_set if elem[1] == item}\n",
    "\n",
    "    @staticmethod\n",
    "    def from_ground_coll(ground_coll: Collection[tuple],\n",
    "                         transitive: bool = False,\n",
    "                         reflexive: bool = False,\n",
    "                         symmetric: bool = False) -> _ForwardFrozenRelation:\n",
    "        relation_set = set(ground_coll)\n",
    "        add = {None}\n",
    "        while add:\n",
    "            add = set()\n",
    "            if symmetric:\n",
    "                for rel in relation_set:\n",
    "                    item1, item2 = rel\n",
    "                    if (item2, item1) not in relation_set:\n",
    "                        add.add((item2, item1))\n",
    "            if reflexive:\n",
    "                for rel in relation_set:\n",
    "                    item1, item2 = rel\n",
    "                    if (item1, item1) not in relation_set:\n",
    "                        add.add((item1, item1))\n",
    "                    if (item2, item2) not in relation_set:\n",
    "                        add.add((item2, item2))\n",
    "            if transitive:\n",
    "                for rel in relation_set:\n",
    "                    item1, item2 = rel\n",
    "                    for rel_ in relation_set:\n",
    "                        item3, item4 = rel_\n",
    "                        if item2 != item3:\n",
    "                            continue\n",
    "                        if (item1, item4) not in relation_set:\n",
    "                            add.add((item1, item4))\n",
    "            relation_set.update(add)\n",
    "        return FrozenRelation(frozenset(relation_set))\n"
   ],
   "metadata": {
    "collapsed": false,
    "pycharm": {
     "name": "#%%\n"
    }
   }
  },
  {
   "cell_type": "code",
   "execution_count": 49,
   "outputs": [],
   "source": [
    "_ForwardAtom = TypeVar('_ForwardAtom', bound='Atom')\n",
    "_ForwardFormula = TypeVar('_ForwardFormula', bound='Formula')\n",
    "\n",
    "\n",
    "@dataclass(order=True, frozen=True)\n",
    "class Atom:\n",
    "    symbol: str\n",
    "    arguments: Sequence[Union[_ForwardAtom, _ForwardFormula]] = field(default_factory=tuple)\n",
    "\n",
    "    @property\n",
    "    def is_complement(self) -> bool:\n",
    "        return self.symbol.startswith('-')\n",
    "\n",
    "    @property\n",
    "    def is_know(self) -> bool:\n",
    "        return self.symbol == 'Know'\n",
    "\n",
    "    def __invert__(self):\n",
    "        if self.is_complement:\n",
    "            return Atom(self.symbol[1:], self.arguments)\n",
    "        else:\n",
    "            return Atom('-{}'.format(self.symbol), self.arguments)\n",
    "\n",
    "    def __str__(self):\n",
    "        if self.arguments:\n",
    "            return \"{}({})\".format(self.symbol, ','.join(map(str, self.arguments)))\n",
    "        else:\n",
    "            return \"{}\".format(self.symbol)\n"
   ],
   "metadata": {
    "collapsed": false,
    "pycharm": {
     "name": "#%%\n"
    }
   }
  },
  {
   "cell_type": "code",
   "execution_count": 50,
   "outputs": [],
   "source": [
    "@dataclass(order=True, frozen=True)\n",
    "class Literal:\n",
    "    atom: Atom\n",
    "    sign: bool = field(default=True)\n",
    "\n",
    "    def __neg__(self):\n",
    "        return Literal(self.atom, not self.sign)\n",
    "\n",
    "    def __abs__(self):\n",
    "        return Literal(self.atom)\n",
    "\n",
    "    def __invert__(self):\n",
    "        return Literal(~self.atom, self.sign)\n",
    "\n",
    "    def __str__(self):\n",
    "        if self.sign:\n",
    "            return str(self.atom)\n",
    "        else:\n",
    "            return \"¬{}\".format(self.atom)"
   ],
   "metadata": {
    "collapsed": false,
    "pycharm": {
     "name": "#%%\n"
    }
   }
  },
  {
   "cell_type": "code",
   "execution_count": 51,
   "outputs": [],
   "source": [
    "Action = Atom\n",
    "Fluent = Atom\n",
    "FluentLiteral = Literal"
   ],
   "metadata": {
    "collapsed": false,
    "pycharm": {
     "name": "#%%\n"
    }
   }
  },
  {
   "cell_type": "code",
   "execution_count": 52,
   "outputs": [],
   "source": [
    "_ForwardCausalSetting = TypeVar('_ForwardCausalSetting', bound='CausalSetting')"
   ],
   "metadata": {
    "collapsed": false,
    "pycharm": {
     "name": "#%%\n"
    }
   }
  },
  {
   "cell_type": "code",
   "execution_count": 53,
   "outputs": [],
   "source": [
    "@dataclass(order=True, frozen=True)\n",
    "class State:\n",
    "    world: FrozenSet[FluentLiteral] = field(default_factory=frozenset)\n",
    "    k_relation: FrozenRelation = field(default_factory=FrozenRelation)\n",
    "    prioritized_goals: Sequence[_ForwardFormula] = field(default_factory=tuple)\n",
    "\n",
    "    def __contains__(self, item):\n",
    "        if not isinstance(item, FluentLiteral):\n",
    "            raise TypeError(\"Unexpected type {} of item {}\".format(type(item).__name__, item))\n",
    "        if item in self.world:\n",
    "            return True\n",
    "        if -item in self.world:\n",
    "            return False\n",
    "        return not item.sign\n"
   ],
   "metadata": {
    "collapsed": false,
    "pycharm": {
     "name": "#%%\n"
    }
   }
  },
  {
   "cell_type": "code",
   "execution_count": 54,
   "outputs": [],
   "source": [
    "_ForwardSituation = TypeVar('_ForwardSituation', bound='Situation')\n",
    "\n",
    "\n",
    "@dataclass(order=True, frozen=True)\n",
    "class Situation:\n",
    "    state: State = field(default_factory=State)\n",
    "    action: Optional[Action] = field(default=None)\n",
    "    parent: Optional[_ForwardSituation] = field(default=None, repr=False)\n",
    "\n",
    "    @property\n",
    "    def is_root(self) -> bool:\n",
    "        return self.parent is not None\n",
    "\n",
    "    @property\n",
    "    def time(self) -> int:\n",
    "        if self.is_root:\n",
    "            return 0\n",
    "        else:\n",
    "            return self.parent.time + 1\n",
    "\n",
    "    @property\n",
    "    def root(self) -> _ForwardSituation:\n",
    "        if self.is_root:\n",
    "            return self\n",
    "        else:\n",
    "            return self.parent.root"
   ],
   "metadata": {
    "collapsed": false,
    "pycharm": {
     "name": "#%%\n"
    }
   }
  },
  {
   "cell_type": "code",
   "execution_count": 55,
   "outputs": [],
   "source": [
    "_ForwardPath = TypeVar('_ForwardPath', bound='Path')\n",
    "\n",
    "\n",
    "@dataclass(order=True, frozen=True)\n",
    "class Path:\n",
    "    states: Sequence[State] = field(default_factory=tuple)\n",
    "    actions: Sequence[Action] = field(default_factory=tuple)\n",
    "\n",
    "    @property\n",
    "    def root(self) -> State:\n",
    "        return self.states[0]\n",
    "\n",
    "    def time(self, state: State) -> Optional[int]:\n",
    "        for time, state_ in enumerate(self.states):\n",
    "            if state_ == state:\n",
    "                return time\n",
    "        return None\n",
    "\n",
    "    def starts(self, state: State) -> bool:\n",
    "        return self.root == state\n",
    "\n",
    "    def get_suffix(self, state: Optional[State] = None) -> _ForwardPath:\n",
    "        if state is None:\n",
    "            state = self.root\n",
    "        if state not in self.states:\n",
    "            return Path()\n",
    "        offset = self.time(state)\n",
    "        if offset + 1 < len(self.actions):\n",
    "            return Path(self.states[offset:], self.actions[offset + 1:])\n",
    "        else:\n",
    "            return Path(self.states[offset:])\n"
   ],
   "metadata": {
    "collapsed": false,
    "pycharm": {
     "name": "#%%\n"
    }
   }
  },
  {
   "cell_type": "code",
   "execution_count": 56,
   "outputs": [],
   "source": [
    "class Formula:\n",
    "    def __neg__(self):\n",
    "        return Negation(self)\n",
    "\n",
    "    def __and__(self, other):\n",
    "        return Conjunction(self, other)\n",
    "\n",
    "    def __or__(self, other):\n",
    "        return Disjunction(self, other)\n",
    "\n",
    "    def evaluate(self, causal_setting: _ForwardCausalSetting, elem: Union[Situation, Path]) -> bool:\n",
    "        if isinstance(elem, Situation):\n",
    "            return self.evaluate_situation(causal_setting, elem)\n",
    "        else:\n",
    "            if not isinstance(elem, Path):\n",
    "                raise TypeError('Unexpected type {} for elem {}'.format(type(elem).__name__, elem))\n",
    "            return self.evaluate_path(causal_setting, elem)\n",
    "\n",
    "    def evaluate_situation(self, causal_setting: _ForwardCausalSetting, situation: Situation) -> bool:\n",
    "        raise NotImplementedError\n",
    "\n",
    "    def evaluate_path(self, causal_setting: _ForwardCausalSetting, path: Path) -> bool:\n",
    "        raise NotImplementedError\n",
    "\n"
   ],
   "metadata": {
    "collapsed": false,
    "pycharm": {
     "name": "#%%\n"
    }
   }
  },
  {
   "cell_type": "code",
   "execution_count": 57,
   "outputs": [],
   "source": [
    "class StateFormula(Formula):\n",
    "\n",
    "    def evaluate_path(self, causal_setting: _ForwardCausalSetting, path: Path) -> bool:\n",
    "        return self.evaluate_situation(causal_setting, path.root)\n"
   ],
   "metadata": {
    "collapsed": false,
    "pycharm": {
     "name": "#%%\n"
    }
   }
  },
  {
   "cell_type": "code",
   "execution_count": 58,
   "outputs": [],
   "source": [
    "class PathFormula(Formula):\n",
    "    pass"
   ],
   "metadata": {
    "collapsed": false,
    "pycharm": {
     "name": "#%%\n"
    }
   }
  },
  {
   "cell_type": "code",
   "execution_count": 59,
   "outputs": [],
   "source": [
    "@dataclass(order=True, frozen=True)\n",
    "class CausalSetting:\n",
    "    fluent_alphabet: FrozenSet[Fluent] = field(default_factory=frozenset)  # without Poss, Know, Int\n",
    "    action_alphabet: FrozenSet[Action] = field(default_factory=frozenset)\n",
    "    initial_state: State = field(default_factory=State)\n",
    "    k_relation: FrozenRelation = field(default_factory=FrozenRelation)\n",
    "    max_time: int = field(default=0)\n",
    "\n",
    "    def poss(self, action: Action, situation: Situation) -> bool:\n",
    "        raise NotImplementedError\n",
    "\n",
    "    def legal_actions(self, situation: Situation) -> Iterator[Action]:\n",
    "        return (action for action in self.action_alphabet if self.poss(action, situation))\n",
    "\n",
    "    def _legal_actions(self, state: State) -> Iterator[Action]:\n",
    "        return (action for action in self.action_alphabet if self.poss(action, Situation(state)))\n",
    "\n",
    "    def all_paths(self, situation: Situation) -> Iterator[Path]:\n",
    "        for path in self._all_paths(situation.state):\n",
    "            states = [situation.state]\n",
    "            actions = []\n",
    "            for sa in path:\n",
    "                state, action = sa\n",
    "                states.append(state)\n",
    "                actions.append(action)\n",
    "            yield Path(tuple(states), tuple(actions))\n",
    "\n",
    "\n",
    "    def _all_paths(self, state: State, depth: int = 0) -> Iterator[Sequence[Tuple[State, Action]]]:\n",
    "        if depth <= self.max_time:\n",
    "            for action in self._legal_actions(state):\n",
    "                state_ = self._do(action, state)\n",
    "                all_paths = self._all_paths(state_, depth + 1)\n",
    "                for path in all_paths:\n",
    "                    yield ((state_, action), *path)\n",
    "        else:\n",
    "            yield ()\n",
    "\n",
    "    def do(self, action: Action, situation: Optional[Situation] = None) -> Situation:\n",
    "        if situation is None:\n",
    "            state = self.initial_state\n",
    "            situation = Situation(state)\n",
    "        else:\n",
    "            state = situation.state\n",
    "        state_ = self._do(action, state)\n",
    "        situation_ = Situation(state_, action, situation)\n",
    "        return situation_\n",
    "\n",
    "    def _do(self, action: Action, state: State) -> State:\n",
    "        if action.symbol == 'req':\n",
    "            return State(state.world, state.k_relation, (action.arguments[0], *state.prioritized_goals))\n",
    "        elif action.symbol == 'sense':\n",
    "            sense: Literal = action.arguments[0]\n",
    "            return State(state.world, FrozenRelation(frozenset({\n",
    "                (elem[0], elem[1]) for elem in state.k_relation.relation_set if sense.sign == (abs(sense) in elem[1])\n",
    "            })), state.prioritized_goals)\n",
    "        else:\n",
    "            raise NotImplementedError\n",
    "\n",
    "    def do_iter(self, actions: Sequence[Action], situation: Optional[Situation] = None) -> Situation:\n",
    "        for action in actions:\n",
    "            situation = self.do(action, situation)\n",
    "        return situation\n",
    "\n",
    "    def know(self, formula: Formula, situation: Situation) -> bool:\n",
    "        return all(formula.evaluate(self, situation_) for situation_ in self.k_relation.get_inverse(situation))\n",
    "\n",
    "    def _g_intersect(self, situation:Situation, level: int) -> Iterator[Path]:\n",
    "        for s_ in situation.state.k_relation.get_inverse(situation.state.world):\n",
    "            for p in self.all_paths(s_):\n",
    "                if self._g_accessible(p, level, situation):\n",
    "                    yield p\n",
    "\n",
    "    def _level_intention(self, formula: Formula, situation: Situation, level: int) -> bool:\n",
    "        return all(formula.evaluate(self, path) for path in self._g_intersect(situation, level))\n",
    "\n",
    "    def _g_accessible(self, path: Path, level: int, situation: Situation):\n",
    "        return len(situation.state.prioritized_goals) <= level or situation.state.prioritized_goals[level].evaluate(path)\n",
    "\n",
    "    def intention(self, formula: Formula, situation: Situation) -> bool:\n",
    "        return all(self._level_intention(formula, situation, n) for n in range(len(situation.state.prioritized_goals)))\n",
    "\n",
    "    def causes_directly(self) -> bool:\n",
    "        pass\n",
    "\n",
    "    def causes_indirectly(self) -> bool:\n",
    "        pass\n",
    "\n",
    "    def causes(self) -> bool:\n",
    "        return self.causes_directly() or self.causes_indirectly()"
   ],
   "metadata": {
    "collapsed": false,
    "pycharm": {
     "name": "#%%\n"
    }
   }
  },
  {
   "cell_type": "code",
   "execution_count": 60,
   "outputs": [],
   "source": [
    "@dataclass(order=True, frozen=True)\n",
    "class Predicate(StateFormula):\n",
    "    predicate: FluentLiteral\n",
    "\n",
    "    def evaluate_situation(self, causal_setting: CausalSetting, situation: Situation) -> bool:\n",
    "        return self.predicate in situation.state"
   ],
   "metadata": {
    "collapsed": false,
    "pycharm": {
     "name": "#%%\n"
    }
   }
  },
  {
   "cell_type": "code",
   "execution_count": 61,
   "outputs": [],
   "source": [
    "@dataclass(order=True, frozen=True)\n",
    "class Possible(StateFormula):\n",
    "    action: Action\n",
    "\n",
    "    def evaluate_situation(self, causal_setting: CausalSetting, situation: Situation) -> bool:\n",
    "        return causal_setting.poss(self.action, situation)\n"
   ],
   "metadata": {
    "collapsed": false,
    "pycharm": {
     "name": "#%%\n"
    }
   }
  },
  {
   "cell_type": "code",
   "execution_count": 62,
   "outputs": [],
   "source": [
    "@dataclass(order=True, frozen=True)\n",
    "class After(StateFormula):\n",
    "    action: Action\n",
    "    formula: Formula\n",
    "\n",
    "    def evaluate_situation(self, causal_setting: CausalSetting, situation: Situation) -> bool:\n",
    "        return self.formula.evaluate(causal_setting, causal_setting.do(self.action, situation))"
   ],
   "metadata": {
    "collapsed": false,
    "pycharm": {
     "name": "#%%\n"
    }
   }
  },
  {
   "cell_type": "code",
   "execution_count": 63,
   "outputs": [],
   "source": [
    "@dataclass(order=True, frozen=True)\n",
    "class Negation(Formula):\n",
    "    formula: Formula\n",
    "\n",
    "    def evaluate(self, causal_setting: CausalSetting, elem: Union[State, Path]) -> bool:\n",
    "        return not self.formula.evaluate(causal_setting, elem)\n",
    "\n",
    "    def evaluate_situation(self, causal_setting: CausalSetting, situation: Situation) -> bool:\n",
    "        return not self.formula.evaluate_situation(causal_setting, situation)\n",
    "\n",
    "    def evaluate_path(self, causal_setting: CausalSetting, path: Path) -> bool:\n",
    "        return not self.formula.evaluate_path(causal_setting, path)\n",
    "\n",
    "    def __neg__(self):\n",
    "        return self.formula"
   ],
   "metadata": {
    "collapsed": false,
    "pycharm": {
     "name": "#%%\n"
    }
   }
  },
  {
   "cell_type": "code",
   "execution_count": 64,
   "outputs": [],
   "source": [
    "@dataclass(order=True, frozen=True)\n",
    "class Conjunction(Formula):\n",
    "    left: Formula\n",
    "    right: Formula\n",
    "\n",
    "    def evaluate(self, causal_setting: CausalSetting, elem: Union[State, Path]) -> bool:\n",
    "        return self.left.evaluate(causal_setting, elem) and self.right.evaluate(causal_setting, elem)\n",
    "\n",
    "    def evaluate_situation(self, causal_setting: CausalSetting, situation: Situation) -> bool:\n",
    "        return self.left.evaluate_situation(causal_setting, situation) and self.right.evaluate_situation(causal_setting,\n",
    "                                                                                                         situation)\n",
    "\n",
    "    def evaluate_path(self, causal_setting: CausalSetting, path: Path) -> bool:\n",
    "        return self.left.evaluate_path(causal_setting, path) and self.right.evaluate_path(causal_setting, path)\n"
   ],
   "metadata": {
    "collapsed": false,
    "pycharm": {
     "name": "#%%\n"
    }
   }
  },
  {
   "cell_type": "code",
   "execution_count": 65,
   "outputs": [],
   "source": [
    "@dataclass(order=True, frozen=True)\n",
    "class Disjunction(Formula):\n",
    "    left: Formula\n",
    "    right: Formula\n",
    "\n",
    "    def evaluate(self, causal_setting: CausalSetting, elem: Union[State, Path]) -> bool:\n",
    "        return self.left.evaluate(causal_setting, elem) or self.right.evaluate(causal_setting, elem)\n",
    "\n",
    "    def evaluate_situation(self, causal_setting: CausalSetting, situation: Situation) -> bool:\n",
    "        return self.left.evaluate_situation(causal_setting, situation) or self.right.evaluate_situation(causal_setting,\n",
    "                                                                                                        situation)\n",
    "\n",
    "    def evaluate_path(self, causal_setting: CausalSetting, path: Path) -> bool:\n",
    "        return self.left.evaluate_path(causal_setting, path) or self.right.evaluate_path(causal_setting, path)\n"
   ],
   "metadata": {
    "collapsed": false,
    "pycharm": {
     "name": "#%%\n"
    }
   }
  },
  {
   "cell_type": "code",
   "execution_count": 66,
   "outputs": [],
   "source": [
    "@dataclass(order=True, frozen=True)\n",
    "class Know(StateFormula):\n",
    "    formula: Formula\n",
    "\n",
    "    def evaluate_situation(self, causal_setting: CausalSetting, situation: Situation) -> bool:\n",
    "        return causal_setting.know(self, situation)"
   ],
   "metadata": {
    "collapsed": false,
    "pycharm": {
     "name": "#%%\n"
    }
   }
  },
  {
   "cell_type": "code",
   "execution_count": 67,
   "outputs": [],
   "source": [
    "@dataclass(order=True, frozen=True)\n",
    "class Intention(StateFormula):\n",
    "    formula: Formula\n",
    "\n",
    "    def evaluate_state(self, causal_setting: CausalSetting, situation: Situation) -> bool:\n",
    "        raise NotImplementedError\n"
   ],
   "metadata": {
    "collapsed": false,
    "pycharm": {
     "name": "#%%\n"
    }
   }
  },
  {
   "cell_type": "code",
   "execution_count": 68,
   "outputs": [],
   "source": [
    "@dataclass(order=True, frozen=True)\n",
    "class Next(PathFormula):\n",
    "    formula: Formula\n",
    "\n",
    "    def evaluate_path(self, causal_setting: _ForwardCausalSetting, path: Path) -> bool:\n",
    "        for action in causal_setting.action_alphabet:\n",
    "            if not causal_setting.poss(action, path.root):\n",
    "                continue\n",
    "            path_ = path.get_suffix(causal_setting.do(action, Situation(path.root)).state)\n",
    "            if self.formula.evaluate_path(causal_setting, path_):\n",
    "                return True\n",
    "        return False\n",
    "\n"
   ],
   "metadata": {
    "collapsed": false,
    "pycharm": {
     "name": "#%%\n"
    }
   }
  },
  {
   "cell_type": "code",
   "execution_count": 69,
   "outputs": [],
   "source": [
    "@dataclass(order=True, frozen=True)\n",
    "class Until(PathFormula):\n",
    "    holds_formula: Formula\n",
    "    until_formula: Formula\n",
    "\n",
    "    def evaluate_path(self, causal_setting: CausalSetting, path: Path) -> bool:\n",
    "        for s_ in path.states:\n",
    "            p_ = path.get_suffix(s_)\n",
    "            if not self.until_formula.evaluate_path(causal_setting, p_):\n",
    "                continue\n",
    "            valid = True\n",
    "            for s_star in path.states:\n",
    "                p_star = path.get_suffix(s_star)\n",
    "                if not self.holds_formula.evaluate_path(causal_setting, p_star):\n",
    "                    valid = False\n",
    "                    break\n",
    "            if valid:\n",
    "                return True\n",
    "        return False"
   ],
   "metadata": {
    "collapsed": false,
    "pycharm": {
     "name": "#%%\n"
    }
   }
  },
  {
   "cell_type": "code",
   "execution_count": 70,
   "outputs": [],
   "source": [
    "@dataclass(order=True, frozen=True)\n",
    "class TrivialTrue(Formula):\n",
    "\n",
    "    def evaluate(self, causal_setting: CausalSetting, elem: Union[State, Path]) -> bool:\n",
    "        return True\n",
    "\n",
    "    def evaluate_situation(self, causal_setting: CausalSetting, situation: Situation) -> bool:\n",
    "        return True\n",
    "\n",
    "    def evaluate_path(self, causal_setting: CausalSetting, path: Path) -> bool:\n",
    "        return True\n"
   ],
   "metadata": {
    "collapsed": false,
    "pycharm": {
     "name": "#%%\n"
    }
   }
  },
  {
   "cell_type": "code",
   "execution_count": 71,
   "outputs": [],
   "source": [
    "@dataclass(order=True, frozen=True)\n",
    "class Eventually(PathFormula):\n",
    "    formula: Formula\n",
    "\n",
    "    def evaluate_path(self, causal_setting: CausalSetting, path: Path) -> bool:\n",
    "        return Until(TrivialTrue(), self.formula).evaluate_path(causal_setting, path)"
   ],
   "metadata": {
    "collapsed": false,
    "pycharm": {
     "name": "#%%\n"
    }
   }
  },
  {
   "cell_type": "code",
   "execution_count": 72,
   "outputs": [],
   "source": [
    "@dataclass(order=True, frozen=True)\n",
    "class Before(PathFormula):\n",
    "    before_formula: Formula\n",
    "    after_formula: Formula\n",
    "\n",
    "    def evaluate_path(self, causal_setting: CausalSetting, path: Path) -> bool:\n",
    "        return Negation(Until(Negation(self.before_formula), self.after_formula)).evaluate_path(causal_setting, path)"
   ],
   "metadata": {
    "collapsed": false,
    "pycharm": {
     "name": "#%%\n"
    }
   }
  },
  {
   "cell_type": "code",
   "execution_count": 73,
   "outputs": [],
   "source": [
    "Ls = Atom('Ls')\n",
    "Ld = Atom('Ld')\n",
    "L1 = Atom('L1')\n",
    "L1_ = Atom(\"L1'\")\n",
    "\n",
    "takeOff_Ls = Atom('takeOff', (Ls,))\n",
    "takeOff_Ld = Atom('takeOff', (Ld,))\n",
    "takeOff_L1 = Atom('takeOff', (L1,))\n",
    "takeOff_L1_ = Atom('takeOff',(L1_,))\n",
    "\n",
    "flyTo_Ls = Atom('flyTo', (Ls,))\n",
    "flyTo_Ld = Atom('flyTo', (Ld,))\n",
    "flyTo_L1 = Atom('flyTo', (L1,))\n",
    "flyTo_L1_ = Atom('flyTo', (L1_,))\n",
    "\n",
    "land_Ls = Atom('land',  (Ls ,))\n",
    "land_Ld = Atom('land',  (Ld ,))\n",
    "land_L1 = Atom('land',  (L1 ,))\n",
    "land_L1_ = Atom('land', (L1_,))\n",
    "\n",
    "atom_At_Ls = Atom('At', (Ls,))\n",
    "atom_At_Ld = Atom('At', (Ld,))\n",
    "atom_At_L1 = Atom('At', (L1,))\n",
    "atom_At_L1_ = Atom('At', (L1_,))\n",
    "\n",
    "At_Ls = Literal(atom_At_Ls)\n",
    "At_Ld = Literal(atom_At_Ld)\n",
    "At_L1 = Literal(atom_At_L1)\n",
    "At_L1_ = Literal(atom_At_L1_)\n",
    "\n",
    "a_Flying = Atom('Flying')\n",
    "\n",
    "Flying = Literal(a_Flying)\n",
    "\n",
    "atom_Vis_Ls = Atom('Vis', (Ls,))\n",
    "atom_Vis_Ld = Atom('Vis', (Ld,))\n",
    "atom_Vis_L1 = Atom('Vis', (L1,))\n",
    "atom_Vis_L1_ = Atom('Vis', (L1_,))\n",
    "\n",
    "Vis_Ls = Literal(atom_Vis_Ls)\n",
    "Vis_Ld = Literal(atom_Vis_Ld)\n",
    "Vis_L1 = Literal(atom_Vis_L1)\n",
    "Vis_L1_ = Literal(atom_Vis_L1_)\n",
    "\n",
    "atom_TStrom_Ls = Atom('TStrom', (Ls,))\n",
    "atom_TStrom_Ld = Atom('TStrom', (Ld,))\n",
    "atom_TStrom_L1 = Atom('TStrom', (L1,))\n",
    "atom_TStrom_L1_ = Atom('TStrom', (L1_,))\n",
    "\n",
    "TStrom_Ls = Literal(atom_TStrom_Ls)\n",
    "TStrom_Ld = Literal(atom_TStrom_Ld)\n",
    "TStrom_L1 = Literal(atom_TStrom_L1)\n",
    "TStrom_L1_ = Literal(atom_TStrom_L1_)\n",
    "\n",
    "sense_TStrom_Ls = Atom('sense', (TStrom_Ls,))\n",
    "sense_TStrom_Ld = Atom('sense', (TStrom_Ld,))\n",
    "sense_TStrom_L1 = Atom('sense', (TStrom_L1,))\n",
    "sense_Tstrom_L1_ = Atom('sense', (TStrom_L1_,))\n",
    "\n",
    "req_Eventually_Vis_L1_ = Atom('req', (Eventually(Vis_L1_),))\n",
    "\n",
    "route = {\n",
    "    Ls: frozenset({L1, L1_}),\n",
    "    L1: frozenset({Ld}),\n",
    "    L1_: frozenset({Ld}),\n",
    "    Ld: frozenset()\n",
    "}\n",
    "\n",
    "drone_example_actions = {takeOff_Ls, takeOff_L1, takeOff_L1_, takeOff_Ld,\n",
    "                         land_Ls, land_L1, land_L1_, land_Ld,\n",
    "                         flyTo_Ls, flyTo_L1, flyTo_L1_, flyTo_Ld,\n",
    "                         sense_TStrom_Ls, sense_TStrom_Ld, sense_TStrom_L1, sense_Tstrom_L1_,\n",
    "                         req_Eventually_Vis_L1_}\n",
    "\n",
    "drone_example_fluents = {\n",
    "    atom_At_Ls, atom_At_L1, atom_At_L1_, atom_At_Ld,\n",
    "    atom_Vis_Ls, atom_At_L1, atom_At_L1_, atom_At_Ld,\n",
    "    atom_TStrom_Ls, atom_TStrom_L1, atom_TStrom_L1_, atom_TStrom_Ld\n",
    "}"
   ],
   "metadata": {
    "collapsed": false,
    "pycharm": {
     "name": "#%%\n"
    }
   }
  },
  {
   "cell_type": "code",
   "execution_count": 74,
   "outputs": [],
   "source": [
    "@dataclass(order=True, frozen=True)\n",
    "class DroneExample(CausalSetting):\n",
    "\n",
    "    def poss(self, action: Action, situation: Situation) -> bool:\n",
    "        if action not in self.action_alphabet:\n",
    "            return False\n",
    "        if action.symbol == 'sense':\n",
    "            return True\n",
    "        elif action.symbol == 'req':\n",
    "            return True\n",
    "        l = action.arguments[0]\n",
    "        atom_At_l = Atom('At', l)\n",
    "        At_l = Literal(atom_At_l)\n",
    "        if At_l not in situation.state:\n",
    "            return False\n",
    "        if action.symbol == 'takeOff':\n",
    "            return -Flying in situation.state\n",
    "        if action.symbol == 'land':\n",
    "            return Flying in situation.state\n",
    "        l_ = action.arguments[1]\n",
    "        if action.symbol == 'flyTo':\n",
    "            return Flying in situation.state and l_ in route[l]\n",
    "\n",
    "        assert False, \"Unexpected action {}\".format(action)\n",
    "\n",
    "    def _do(self, action: Action, state: State) -> State:\n",
    "        if action.symbol == 'takeOff':\n",
    "            def update(s):\n",
    "                return (s - {-Flying}) | {Flying}\n",
    "        elif action.symbol == 'land':\n",
    "            def update(s):\n",
    "                return (s - {Flying}) | {-Flying}\n",
    "        elif action.symbol == 'flyTo':\n",
    "            l = action.arguments[0]\n",
    "            l_ = action.arguments[1]\n",
    "            atom_At_l = Atom('At', l)\n",
    "            atom_At_l_ = Atom('At', l_)\n",
    "            At_l = Literal(atom_At_l)\n",
    "            At_l_ = Literal(atom_At_l_)\n",
    "\n",
    "            def update(s):\n",
    "                return (s - {At_l}) | {-At_l, At_l_}\n",
    "        else:\n",
    "            return super(DroneExample, self)._do(action, state)\n",
    "        return State(update(state.world), FrozenRelation(\n",
    "            frozenset({(update(elem[0]), update(elem[1])) for elem in state.k_relation.relation_set})), state.prioritized_goals)\n",
    "\n",
    "\n",
    "\n"
   ],
   "metadata": {
    "collapsed": false,
    "pycharm": {
     "name": "#%%\n"
    }
   }
  },
  {
   "cell_type": "code",
   "execution_count": 75,
   "outputs": [
    {
     "name": "stdout",
     "output_type": "stream",
     "text": [
      "frozenset({Literal(atom=Atom(symbol='At', arguments=(Atom(symbol='Ls', arguments=()),)), sign=True), Literal(atom=Atom(symbol='Vis', arguments=(Atom(symbol='Ls', arguments=()),)), sign=True), Literal(atom=Atom(symbol='TStrom', arguments=(Atom(symbol='L1', arguments=()),)), sign=True)})\n"
     ]
    }
   ],
   "source": [
    "drone_example_initial_world = frozenset({\n",
    "    Vis_Ls, At_Ls, TStrom_L1\n",
    "})\n",
    "print(drone_example_initial_world)"
   ],
   "metadata": {
    "collapsed": false,
    "pycharm": {
     "name": "#%%\n"
    }
   }
  },
  {
   "cell_type": "code",
   "execution_count": 76,
   "outputs": [
    {
     "data": {
      "text/plain": "512"
     },
     "execution_count": 76,
     "metadata": {},
     "output_type": "execute_result"
    }
   ],
   "source": [
    "drone_example_k_states = {frozenset(Literal(atom) for atom in atoms) for atoms in\n",
    "                          more_itertools.powerset(drone_example_fluents)}\n",
    "len(drone_example_k_states)"
   ],
   "metadata": {
    "collapsed": false,
    "pycharm": {
     "name": "#%%\n"
    }
   }
  },
  {
   "cell_type": "code",
   "execution_count": 77,
   "outputs": [
    {
     "data": {
      "text/plain": "2"
     },
     "execution_count": 77,
     "metadata": {},
     "output_type": "execute_result"
    }
   ],
   "source": [
    "drone_example_valid_k_states = {\n",
    "    k_state for k_state in drone_example_k_states if\n",
    "    At_Ls in k_state and\n",
    "    At_L1 not in k_state and\n",
    "    At_L1_ not in k_state and\n",
    "    At_Ld not in k_state and\n",
    "    Flying not in k_state and\n",
    "    Vis_Ls in k_state and\n",
    "    Vis_L1 not in k_state and\n",
    "    Vis_L1_ not in k_state and\n",
    "    Vis_Ld not in k_state and\n",
    "    TStrom_Ls not in k_state and\n",
    "    TStrom_L1_ not in k_state and\n",
    "    TStrom_Ld not in k_state\n",
    "}\n",
    "len(drone_example_valid_k_states)"
   ],
   "metadata": {
    "collapsed": false,
    "pycharm": {
     "name": "#%%\n"
    }
   }
  },
  {
   "cell_type": "code",
   "execution_count": 78,
   "outputs": [
    {
     "name": "stdout",
     "output_type": "stream",
     "text": [
      "frozenset({Literal(atom=Atom(symbol='At', arguments=(Atom(symbol='Ls', arguments=()),)), sign=True), Literal(atom=Atom(symbol='Vis', arguments=(Atom(symbol='Ls', arguments=()),)), sign=True), Literal(atom=Atom(symbol='TStrom', arguments=(Atom(symbol='L1', arguments=()),)), sign=True)})\n",
      "frozenset({Literal(atom=Atom(symbol='At', arguments=(Atom(symbol='Ls', arguments=()),)), sign=True), Literal(atom=Atom(symbol='Vis', arguments=(Atom(symbol='Ls', arguments=()),)), sign=True)})\n"
     ]
    }
   ],
   "source": [
    "for k_state in drone_example_valid_k_states:\n",
    "    print(k_state)"
   ],
   "metadata": {
    "collapsed": false,
    "pycharm": {
     "name": "#%%\n"
    }
   }
  },
  {
   "cell_type": "code",
   "execution_count": 79,
   "outputs": [
    {
     "name": "stdout",
     "output_type": "stream",
     "text": [
      "{(frozenset({Literal(atom=Atom(symbol='At', arguments=(Atom(symbol='Ls', arguments=()),)), sign=True), Literal(atom=Atom(symbol='Vis', arguments=(Atom(symbol='Ls', arguments=()),)), sign=True), Literal(atom=Atom(symbol='TStrom', arguments=(Atom(symbol='L1', arguments=()),)), sign=True)}),frozenset({Literal(atom=Atom(symbol='At', arguments=(Atom(symbol='Ls', arguments=()),)), sign=True), Literal(atom=Atom(symbol='Vis', arguments=(Atom(symbol='Ls', arguments=()),)), sign=True)})),(frozenset({Literal(atom=Atom(symbol='At', arguments=(Atom(symbol='Ls', arguments=()),)), sign=True), Literal(atom=Atom(symbol='Vis', arguments=(Atom(symbol='Ls', arguments=()),)), sign=True), Literal(atom=Atom(symbol='TStrom', arguments=(Atom(symbol='L1', arguments=()),)), sign=True)}),frozenset({Literal(atom=Atom(symbol='At', arguments=(Atom(symbol='Ls', arguments=()),)), sign=True), Literal(atom=Atom(symbol='Vis', arguments=(Atom(symbol='Ls', arguments=()),)), sign=True), Literal(atom=Atom(symbol='TStrom', arguments=(Atom(symbol='L1', arguments=()),)), sign=True)}))}\n"
     ]
    }
   ],
   "source": [
    "drone_example_k_relation_ground_coll = {\n",
    "    (drone_example_initial_world, k_state) for k_state in drone_example_valid_k_states\n",
    "}\n",
    "drone_example_k_relation = FrozenRelation.from_ground_coll(drone_example_k_relation_ground_coll)\n",
    "print(drone_example_k_relation)"
   ],
   "metadata": {
    "collapsed": false,
    "pycharm": {
     "name": "#%%\n"
    }
   }
  },
  {
   "cell_type": "code",
   "execution_count": 80,
   "outputs": [],
   "source": [
    "drone_example_phi_0 = Eventually(At_Ld)\n",
    "drone_example_phi_1 = Before(Vis_L1, Vis_Ld)"
   ],
   "metadata": {
    "collapsed": false,
    "pycharm": {
     "name": "#%%\n"
    }
   }
  },
  {
   "cell_type": "code",
   "execution_count": 81,
   "outputs": [
    {
     "name": "stdout",
     "output_type": "stream",
     "text": [
      "State(world=frozenset({Literal(atom=Atom(symbol='At', arguments=(Atom(symbol='Ls', arguments=()),)), sign=True), Literal(atom=Atom(symbol='Vis', arguments=(Atom(symbol='Ls', arguments=()),)), sign=True), Literal(atom=Atom(symbol='TStrom', arguments=(Atom(symbol='L1', arguments=()),)), sign=True)}), k_relation=FrozenRelation(relation_set=frozenset({(frozenset({Literal(atom=Atom(symbol='At', arguments=(Atom(symbol='Ls', arguments=()),)), sign=True), Literal(atom=Atom(symbol='Vis', arguments=(Atom(symbol='Ls', arguments=()),)), sign=True), Literal(atom=Atom(symbol='TStrom', arguments=(Atom(symbol='L1', arguments=()),)), sign=True)}), frozenset({Literal(atom=Atom(symbol='At', arguments=(Atom(symbol='Ls', arguments=()),)), sign=True), Literal(atom=Atom(symbol='Vis', arguments=(Atom(symbol='Ls', arguments=()),)), sign=True)})), (frozenset({Literal(atom=Atom(symbol='At', arguments=(Atom(symbol='Ls', arguments=()),)), sign=True), Literal(atom=Atom(symbol='Vis', arguments=(Atom(symbol='Ls', arguments=()),)), sign=True), Literal(atom=Atom(symbol='TStrom', arguments=(Atom(symbol='L1', arguments=()),)), sign=True)}), frozenset({Literal(atom=Atom(symbol='At', arguments=(Atom(symbol='Ls', arguments=()),)), sign=True), Literal(atom=Atom(symbol='Vis', arguments=(Atom(symbol='Ls', arguments=()),)), sign=True), Literal(atom=Atom(symbol='TStrom', arguments=(Atom(symbol='L1', arguments=()),)), sign=True)}))})), prioritized_goals=(Eventually(formula=Literal(atom=Atom(symbol='At', arguments=(Atom(symbol='Ld', arguments=()),)), sign=True)), Before(before_formula=Literal(atom=Atom(symbol='Vis', arguments=(Atom(symbol='L1', arguments=()),)), sign=True), after_formula=Literal(atom=Atom(symbol='Vis', arguments=(Atom(symbol='Ld', arguments=()),)), sign=True))))\n"
     ]
    }
   ],
   "source": [
    "drone_example_initial_state = State(frozenset(drone_example_initial_world), drone_example_k_relation, (drone_example_phi_0, drone_example_phi_1))\n",
    "print(drone_example_initial_state)"
   ],
   "metadata": {
    "collapsed": false,
    "pycharm": {
     "name": "#%%\n"
    }
   }
  },
  {
   "cell_type": "code",
   "execution_count": 82,
   "outputs": [
    {
     "data": {
      "text/plain": "Literal(atom=Atom(symbol='Flying', arguments=()), sign=False)"
     },
     "execution_count": 82,
     "metadata": {},
     "output_type": "execute_result"
    }
   ],
   "source": [
    "-Flying"
   ],
   "metadata": {
    "collapsed": false,
    "pycharm": {
     "name": "#%%\n"
    }
   }
  },
  {
   "cell_type": "code",
   "execution_count": 83,
   "outputs": [
    {
     "data": {
      "text/plain": "True"
     },
     "execution_count": 83,
     "metadata": {},
     "output_type": "execute_result"
    }
   ],
   "source": [
    "(-Flying) in drone_example_initial_state"
   ],
   "metadata": {
    "collapsed": false,
    "pycharm": {
     "name": "#%%\n"
    }
   }
  },
  {
   "cell_type": "code",
   "execution_count": 84,
   "outputs": [
    {
     "data": {
      "text/plain": "True"
     },
     "execution_count": 84,
     "metadata": {},
     "output_type": "execute_result"
    }
   ],
   "source": [
    "Vis_Ls in drone_example_initial_state"
   ],
   "metadata": {
    "collapsed": false,
    "pycharm": {
     "name": "#%%\n"
    }
   }
  },
  {
   "cell_type": "code",
   "execution_count": 85,
   "outputs": [],
   "source": [
    "drone_example = DroneExample(\n",
    "    drone_example_fluents,\n",
    "    drone_example_actions,\n",
    "    drone_example_initial_state,\n",
    "    drone_example_k_relation,\n",
    "    7,\n",
    ")"
   ],
   "metadata": {
    "collapsed": false,
    "pycharm": {
     "name": "#%%\n"
    }
   }
  },
  {
   "cell_type": "code",
   "execution_count": 86,
   "outputs": [
    {
     "name": "stdout",
     "output_type": "stream",
     "text": [
      "2\n"
     ]
    },
    {
     "data": {
      "text/plain": "Situation(state=State(world=frozenset({Literal(atom=Atom(symbol='At', arguments=(Atom(symbol='Ls', arguments=()),)), sign=True), Literal(atom=Atom(symbol='Vis', arguments=(Atom(symbol='Ls', arguments=()),)), sign=True), Literal(atom=Atom(symbol='TStrom', arguments=(Atom(symbol='L1', arguments=()),)), sign=True)}), k_relation=FrozenRelation(relation_set=frozenset({(frozenset({Literal(atom=Atom(symbol='At', arguments=(Atom(symbol='Ls', arguments=()),)), sign=True), Literal(atom=Atom(symbol='Vis', arguments=(Atom(symbol='Ls', arguments=()),)), sign=True), Literal(atom=Atom(symbol='TStrom', arguments=(Atom(symbol='L1', arguments=()),)), sign=True)}), frozenset({Literal(atom=Atom(symbol='At', arguments=(Atom(symbol='Ls', arguments=()),)), sign=True), Literal(atom=Atom(symbol='Vis', arguments=(Atom(symbol='Ls', arguments=()),)), sign=True)})), (frozenset({Literal(atom=Atom(symbol='At', arguments=(Atom(symbol='Ls', arguments=()),)), sign=True), Literal(atom=Atom(symbol='Vis', arguments=(Atom(symbol='Ls', arguments=()),)), sign=True), Literal(atom=Atom(symbol='TStrom', arguments=(Atom(symbol='L1', arguments=()),)), sign=True)}), frozenset({Literal(atom=Atom(symbol='At', arguments=(Atom(symbol='Ls', arguments=()),)), sign=True), Literal(atom=Atom(symbol='Vis', arguments=(Atom(symbol='Ls', arguments=()),)), sign=True), Literal(atom=Atom(symbol='TStrom', arguments=(Atom(symbol='L1', arguments=()),)), sign=True)}))})), prioritized_goals=(Eventually(formula=Literal(atom=Atom(symbol='At', arguments=(Atom(symbol='Ld', arguments=()),)), sign=True)), Before(before_formula=Literal(atom=Atom(symbol='Vis', arguments=(Atom(symbol='L1', arguments=()),)), sign=True), after_formula=Literal(atom=Atom(symbol='Vis', arguments=(Atom(symbol='Ld', arguments=()),)), sign=True)))), action=None)"
     },
     "execution_count": 86,
     "metadata": {},
     "output_type": "execute_result"
    }
   ],
   "source": [
    "drone_example_s3 = drone_example.do_iter([takeOff_Ls, sense_TStrom_L1, req_Eventually_Vis_L1_])\n",
    "print(len(drone_example_s3.parent.parent.parent.state.k_relation.relation_set))\n",
    "drone_example_s3.parent.parent.parent"
   ],
   "metadata": {
    "collapsed": false,
    "pycharm": {
     "name": "#%%\n"
    }
   }
  },
  {
   "cell_type": "code",
   "execution_count": 87,
   "outputs": [
    {
     "name": "stdout",
     "output_type": "stream",
     "text": [
      "takeOff(Ls)\n",
      "2\n"
     ]
    },
    {
     "data": {
      "text/plain": "Situation(state=State(world=frozenset({Literal(atom=Atom(symbol='Flying', arguments=()), sign=True), Literal(atom=Atom(symbol='At', arguments=(Atom(symbol='Ls', arguments=()),)), sign=True), Literal(atom=Atom(symbol='Vis', arguments=(Atom(symbol='Ls', arguments=()),)), sign=True), Literal(atom=Atom(symbol='TStrom', arguments=(Atom(symbol='L1', arguments=()),)), sign=True)}), k_relation=FrozenRelation(relation_set=frozenset({(frozenset({Literal(atom=Atom(symbol='Flying', arguments=()), sign=True), Literal(atom=Atom(symbol='At', arguments=(Atom(symbol='Ls', arguments=()),)), sign=True), Literal(atom=Atom(symbol='Vis', arguments=(Atom(symbol='Ls', arguments=()),)), sign=True), Literal(atom=Atom(symbol='TStrom', arguments=(Atom(symbol='L1', arguments=()),)), sign=True)}), frozenset({Literal(atom=Atom(symbol='Flying', arguments=()), sign=True), Literal(atom=Atom(symbol='At', arguments=(Atom(symbol='Ls', arguments=()),)), sign=True), Literal(atom=Atom(symbol='Vis', arguments=(Atom(symbol='Ls', arguments=()),)), sign=True), Literal(atom=Atom(symbol='TStrom', arguments=(Atom(symbol='L1', arguments=()),)), sign=True)})), (frozenset({Literal(atom=Atom(symbol='Flying', arguments=()), sign=True), Literal(atom=Atom(symbol='At', arguments=(Atom(symbol='Ls', arguments=()),)), sign=True), Literal(atom=Atom(symbol='Vis', arguments=(Atom(symbol='Ls', arguments=()),)), sign=True), Literal(atom=Atom(symbol='TStrom', arguments=(Atom(symbol='L1', arguments=()),)), sign=True)}), frozenset({Literal(atom=Atom(symbol='Flying', arguments=()), sign=True), Literal(atom=Atom(symbol='At', arguments=(Atom(symbol='Ls', arguments=()),)), sign=True), Literal(atom=Atom(symbol='Vis', arguments=(Atom(symbol='Ls', arguments=()),)), sign=True)}))})), prioritized_goals=(Eventually(formula=Literal(atom=Atom(symbol='At', arguments=(Atom(symbol='Ld', arguments=()),)), sign=True)), Before(before_formula=Literal(atom=Atom(symbol='Vis', arguments=(Atom(symbol='L1', arguments=()),)), sign=True), after_formula=Literal(atom=Atom(symbol='Vis', arguments=(Atom(symbol='Ld', arguments=()),)), sign=True)))), action=Atom(symbol='takeOff', arguments=(Atom(symbol='Ls', arguments=()),)))"
     },
     "execution_count": 87,
     "metadata": {},
     "output_type": "execute_result"
    }
   ],
   "source": [
    "print(drone_example_s3.parent.parent.action)\n",
    "print(len(drone_example_s3.parent.parent.state.k_relation.relation_set))\n",
    "drone_example_s3.parent.parent"
   ],
   "metadata": {
    "collapsed": false,
    "pycharm": {
     "name": "#%%\n"
    }
   }
  },
  {
   "cell_type": "code",
   "execution_count": 88,
   "outputs": [
    {
     "name": "stdout",
     "output_type": "stream",
     "text": [
      "sense(TStrom(L1))\n",
      "1\n"
     ]
    },
    {
     "data": {
      "text/plain": "Situation(state=State(world=frozenset({Literal(atom=Atom(symbol='Flying', arguments=()), sign=True), Literal(atom=Atom(symbol='At', arguments=(Atom(symbol='Ls', arguments=()),)), sign=True), Literal(atom=Atom(symbol='Vis', arguments=(Atom(symbol='Ls', arguments=()),)), sign=True), Literal(atom=Atom(symbol='TStrom', arguments=(Atom(symbol='L1', arguments=()),)), sign=True)}), k_relation=FrozenRelation(relation_set=frozenset({(frozenset({Literal(atom=Atom(symbol='Flying', arguments=()), sign=True), Literal(atom=Atom(symbol='At', arguments=(Atom(symbol='Ls', arguments=()),)), sign=True), Literal(atom=Atom(symbol='Vis', arguments=(Atom(symbol='Ls', arguments=()),)), sign=True), Literal(atom=Atom(symbol='TStrom', arguments=(Atom(symbol='L1', arguments=()),)), sign=True)}), frozenset({Literal(atom=Atom(symbol='Flying', arguments=()), sign=True), Literal(atom=Atom(symbol='At', arguments=(Atom(symbol='Ls', arguments=()),)), sign=True), Literal(atom=Atom(symbol='Vis', arguments=(Atom(symbol='Ls', arguments=()),)), sign=True), Literal(atom=Atom(symbol='TStrom', arguments=(Atom(symbol='L1', arguments=()),)), sign=True)}))})), prioritized_goals=(Eventually(formula=Literal(atom=Atom(symbol='At', arguments=(Atom(symbol='Ld', arguments=()),)), sign=True)), Before(before_formula=Literal(atom=Atom(symbol='Vis', arguments=(Atom(symbol='L1', arguments=()),)), sign=True), after_formula=Literal(atom=Atom(symbol='Vis', arguments=(Atom(symbol='Ld', arguments=()),)), sign=True)))), action=Atom(symbol='sense', arguments=(Literal(atom=Atom(symbol='TStrom', arguments=(Atom(symbol='L1', arguments=()),)), sign=True),)))"
     },
     "execution_count": 88,
     "metadata": {},
     "output_type": "execute_result"
    }
   ],
   "source": [
    "print(drone_example_s3.parent.action)\n",
    "print(len(drone_example_s3.parent.state.k_relation.relation_set))\n",
    "drone_example_s3.parent"
   ],
   "metadata": {
    "collapsed": false,
    "pycharm": {
     "name": "#%%\n"
    }
   }
  },
  {
   "cell_type": "code",
   "execution_count": 89,
   "outputs": [
    {
     "name": "stdout",
     "output_type": "stream",
     "text": [
      "req(Eventually(formula=Literal(atom=Atom(symbol='Vis', arguments=(Atom(symbol=\"L1'\", arguments=()),)), sign=True)))\n",
      "1\n"
     ]
    },
    {
     "data": {
      "text/plain": "Situation(state=State(world=frozenset({Literal(atom=Atom(symbol='Flying', arguments=()), sign=True), Literal(atom=Atom(symbol='At', arguments=(Atom(symbol='Ls', arguments=()),)), sign=True), Literal(atom=Atom(symbol='Vis', arguments=(Atom(symbol='Ls', arguments=()),)), sign=True), Literal(atom=Atom(symbol='TStrom', arguments=(Atom(symbol='L1', arguments=()),)), sign=True)}), k_relation=FrozenRelation(relation_set=frozenset({(frozenset({Literal(atom=Atom(symbol='Flying', arguments=()), sign=True), Literal(atom=Atom(symbol='At', arguments=(Atom(symbol='Ls', arguments=()),)), sign=True), Literal(atom=Atom(symbol='Vis', arguments=(Atom(symbol='Ls', arguments=()),)), sign=True), Literal(atom=Atom(symbol='TStrom', arguments=(Atom(symbol='L1', arguments=()),)), sign=True)}), frozenset({Literal(atom=Atom(symbol='Flying', arguments=()), sign=True), Literal(atom=Atom(symbol='At', arguments=(Atom(symbol='Ls', arguments=()),)), sign=True), Literal(atom=Atom(symbol='Vis', arguments=(Atom(symbol='Ls', arguments=()),)), sign=True), Literal(atom=Atom(symbol='TStrom', arguments=(Atom(symbol='L1', arguments=()),)), sign=True)}))})), prioritized_goals=(Eventually(formula=Literal(atom=Atom(symbol='Vis', arguments=(Atom(symbol=\"L1'\", arguments=()),)), sign=True)), Eventually(formula=Literal(atom=Atom(symbol='At', arguments=(Atom(symbol='Ld', arguments=()),)), sign=True)), Before(before_formula=Literal(atom=Atom(symbol='Vis', arguments=(Atom(symbol='L1', arguments=()),)), sign=True), after_formula=Literal(atom=Atom(symbol='Vis', arguments=(Atom(symbol='Ld', arguments=()),)), sign=True)))), action=Atom(symbol='req', arguments=(Eventually(formula=Literal(atom=Atom(symbol='Vis', arguments=(Atom(symbol=\"L1'\", arguments=()),)), sign=True)),)))"
     },
     "execution_count": 89,
     "metadata": {},
     "output_type": "execute_result"
    }
   ],
   "source": [
    "print(drone_example_s3.action)\n",
    "print(len(drone_example_s3.state.k_relation.relation_set))\n",
    "drone_example_s3"
   ],
   "metadata": {
    "collapsed": false,
    "pycharm": {
     "name": "#%%\n"
    }
   }
  },
  {
   "cell_type": "code",
   "execution_count": 90,
   "outputs": [
    {
     "data": {
      "text/plain": "390625"
     },
     "execution_count": 90,
     "metadata": {},
     "output_type": "execute_result"
    }
   ],
   "source": [
    "sum(1 for _ in drone_example.all_paths(Situation(drone_example_initial_state)))"
   ],
   "metadata": {
    "collapsed": false,
    "pycharm": {
     "name": "#%%\n"
    }
   }
  },
  {
   "cell_type": "code",
   "execution_count": 91,
   "outputs": [
    {
     "ename": "AttributeError",
     "evalue": "'frozenset' object has no attribute 'state'",
     "output_type": "error",
     "traceback": [
      "\u001B[0;31m---------------------------------------------------------------------------\u001B[0m",
      "\u001B[0;31mAttributeError\u001B[0m                            Traceback (most recent call last)",
      "Input \u001B[0;32mIn [91]\u001B[0m, in \u001B[0;36m<module>\u001B[0;34m\u001B[0m\n\u001B[0;32m----> 1\u001B[0m \u001B[43mdrone_example\u001B[49m\u001B[38;5;241;43m.\u001B[39;49m\u001B[43mintention\u001B[49m\u001B[43m(\u001B[49m\u001B[43mdrone_example_phi_0\u001B[49m\u001B[43m,\u001B[49m\u001B[43m \u001B[49m\u001B[43mdrone_example_s3\u001B[49m\u001B[43m)\u001B[49m\n",
      "Input \u001B[0;32mIn [59]\u001B[0m, in \u001B[0;36mCausalSetting.intention\u001B[0;34m(self, formula, situation)\u001B[0m\n\u001B[1;32m     80\u001B[0m \u001B[38;5;28;01mdef\u001B[39;00m \u001B[38;5;21mintention\u001B[39m(\u001B[38;5;28mself\u001B[39m, formula: Formula, situation: Situation) \u001B[38;5;241m-\u001B[39m\u001B[38;5;241m>\u001B[39m \u001B[38;5;28mbool\u001B[39m:\n\u001B[0;32m---> 81\u001B[0m     \u001B[38;5;28;01mreturn\u001B[39;00m \u001B[38;5;28;43mall\u001B[39;49m\u001B[43m(\u001B[49m\u001B[38;5;28;43mself\u001B[39;49m\u001B[38;5;241;43m.\u001B[39;49m\u001B[43m_level_intention\u001B[49m\u001B[43m(\u001B[49m\u001B[43mformula\u001B[49m\u001B[43m,\u001B[49m\u001B[43m \u001B[49m\u001B[43msituation\u001B[49m\u001B[43m,\u001B[49m\u001B[43m \u001B[49m\u001B[43mn\u001B[49m\u001B[43m)\u001B[49m\u001B[43m \u001B[49m\u001B[38;5;28;43;01mfor\u001B[39;49;00m\u001B[43m \u001B[49m\u001B[43mn\u001B[49m\u001B[43m \u001B[49m\u001B[38;5;129;43;01min\u001B[39;49;00m\u001B[43m \u001B[49m\u001B[38;5;28;43mrange\u001B[39;49m\u001B[43m(\u001B[49m\u001B[38;5;28;43mlen\u001B[39;49m\u001B[43m(\u001B[49m\u001B[43msituation\u001B[49m\u001B[38;5;241;43m.\u001B[39;49m\u001B[43mstate\u001B[49m\u001B[38;5;241;43m.\u001B[39;49m\u001B[43mprioritized_goals\u001B[49m\u001B[43m)\u001B[49m\u001B[43m)\u001B[49m\u001B[43m)\u001B[49m\n",
      "Input \u001B[0;32mIn [59]\u001B[0m, in \u001B[0;36m<genexpr>\u001B[0;34m(.0)\u001B[0m\n\u001B[1;32m     80\u001B[0m \u001B[38;5;28;01mdef\u001B[39;00m \u001B[38;5;21mintention\u001B[39m(\u001B[38;5;28mself\u001B[39m, formula: Formula, situation: Situation) \u001B[38;5;241m-\u001B[39m\u001B[38;5;241m>\u001B[39m \u001B[38;5;28mbool\u001B[39m:\n\u001B[0;32m---> 81\u001B[0m     \u001B[38;5;28;01mreturn\u001B[39;00m \u001B[38;5;28mall\u001B[39m(\u001B[38;5;28;43mself\u001B[39;49m\u001B[38;5;241;43m.\u001B[39;49m\u001B[43m_level_intention\u001B[49m\u001B[43m(\u001B[49m\u001B[43mformula\u001B[49m\u001B[43m,\u001B[49m\u001B[43m \u001B[49m\u001B[43msituation\u001B[49m\u001B[43m,\u001B[49m\u001B[43m \u001B[49m\u001B[43mn\u001B[49m\u001B[43m)\u001B[49m \u001B[38;5;28;01mfor\u001B[39;00m n \u001B[38;5;129;01min\u001B[39;00m \u001B[38;5;28mrange\u001B[39m(\u001B[38;5;28mlen\u001B[39m(situation\u001B[38;5;241m.\u001B[39mstate\u001B[38;5;241m.\u001B[39mprioritized_goals)))\n",
      "Input \u001B[0;32mIn [59]\u001B[0m, in \u001B[0;36mCausalSetting._level_intention\u001B[0;34m(self, formula, situation, level)\u001B[0m\n\u001B[1;32m     74\u001B[0m \u001B[38;5;28;01mdef\u001B[39;00m \u001B[38;5;21m_level_intention\u001B[39m(\u001B[38;5;28mself\u001B[39m, formula: Formula, situation: Situation, level: \u001B[38;5;28mint\u001B[39m) \u001B[38;5;241m-\u001B[39m\u001B[38;5;241m>\u001B[39m \u001B[38;5;28mbool\u001B[39m:\n\u001B[0;32m---> 75\u001B[0m     \u001B[38;5;28;01mreturn\u001B[39;00m \u001B[38;5;28;43mall\u001B[39;49m\u001B[43m(\u001B[49m\u001B[43mformula\u001B[49m\u001B[38;5;241;43m.\u001B[39;49m\u001B[43mevaluate\u001B[49m\u001B[43m(\u001B[49m\u001B[38;5;28;43mself\u001B[39;49m\u001B[43m,\u001B[49m\u001B[43m \u001B[49m\u001B[43mpath\u001B[49m\u001B[43m)\u001B[49m\u001B[43m \u001B[49m\u001B[38;5;28;43;01mfor\u001B[39;49;00m\u001B[43m \u001B[49m\u001B[43mpath\u001B[49m\u001B[43m \u001B[49m\u001B[38;5;129;43;01min\u001B[39;49;00m\u001B[43m \u001B[49m\u001B[38;5;28;43mself\u001B[39;49m\u001B[38;5;241;43m.\u001B[39;49m\u001B[43m_g_intersect\u001B[49m\u001B[43m(\u001B[49m\u001B[43msituation\u001B[49m\u001B[43m,\u001B[49m\u001B[43m \u001B[49m\u001B[43mlevel\u001B[49m\u001B[43m)\u001B[49m\u001B[43m)\u001B[49m\n",
      "Input \u001B[0;32mIn [59]\u001B[0m, in \u001B[0;36m<genexpr>\u001B[0;34m(.0)\u001B[0m\n\u001B[1;32m     74\u001B[0m \u001B[38;5;28;01mdef\u001B[39;00m \u001B[38;5;21m_level_intention\u001B[39m(\u001B[38;5;28mself\u001B[39m, formula: Formula, situation: Situation, level: \u001B[38;5;28mint\u001B[39m) \u001B[38;5;241m-\u001B[39m\u001B[38;5;241m>\u001B[39m \u001B[38;5;28mbool\u001B[39m:\n\u001B[0;32m---> 75\u001B[0m     \u001B[38;5;28;01mreturn\u001B[39;00m \u001B[38;5;28mall\u001B[39m(formula\u001B[38;5;241m.\u001B[39mevaluate(\u001B[38;5;28mself\u001B[39m, path) \u001B[38;5;28;01mfor\u001B[39;00m path \u001B[38;5;129;01min\u001B[39;00m \u001B[38;5;28mself\u001B[39m\u001B[38;5;241m.\u001B[39m_g_intersect(situation, level))\n",
      "Input \u001B[0;32mIn [59]\u001B[0m, in \u001B[0;36mCausalSetting._g_intersect\u001B[0;34m(self, situation, level)\u001B[0m\n\u001B[1;32m     68\u001B[0m \u001B[38;5;28;01mdef\u001B[39;00m \u001B[38;5;21m_g_intersect\u001B[39m(\u001B[38;5;28mself\u001B[39m, situation:Situation, level: \u001B[38;5;28mint\u001B[39m) \u001B[38;5;241m-\u001B[39m\u001B[38;5;241m>\u001B[39m Iterator[Path]:\n\u001B[1;32m     69\u001B[0m     \u001B[38;5;28;01mfor\u001B[39;00m s_ \u001B[38;5;129;01min\u001B[39;00m situation\u001B[38;5;241m.\u001B[39mstate\u001B[38;5;241m.\u001B[39mk_relation\u001B[38;5;241m.\u001B[39mget_inverse(situation\u001B[38;5;241m.\u001B[39mstate\u001B[38;5;241m.\u001B[39mworld):\n\u001B[0;32m---> 70\u001B[0m         \u001B[38;5;28;01mfor\u001B[39;00m p \u001B[38;5;129;01min\u001B[39;00m \u001B[38;5;28mself\u001B[39m\u001B[38;5;241m.\u001B[39mall_paths(s_):\n\u001B[1;32m     71\u001B[0m             \u001B[38;5;28;01mif\u001B[39;00m \u001B[38;5;28mself\u001B[39m\u001B[38;5;241m.\u001B[39m_g_accessible(p, level, situation):\n\u001B[1;32m     72\u001B[0m                 \u001B[38;5;28;01myield\u001B[39;00m p\n",
      "Input \u001B[0;32mIn [59]\u001B[0m, in \u001B[0;36mCausalSetting.all_paths\u001B[0;34m(self, situation)\u001B[0m\n\u001B[1;32m     18\u001B[0m \u001B[38;5;28;01mdef\u001B[39;00m \u001B[38;5;21mall_paths\u001B[39m(\u001B[38;5;28mself\u001B[39m, situation: Situation) \u001B[38;5;241m-\u001B[39m\u001B[38;5;241m>\u001B[39m Iterator[Path]:\n\u001B[0;32m---> 19\u001B[0m     \u001B[38;5;28;01mfor\u001B[39;00m path \u001B[38;5;129;01min\u001B[39;00m \u001B[38;5;28mself\u001B[39m\u001B[38;5;241m.\u001B[39m_all_paths(\u001B[43msituation\u001B[49m\u001B[38;5;241;43m.\u001B[39;49m\u001B[43mstate\u001B[49m):\n\u001B[1;32m     20\u001B[0m         states \u001B[38;5;241m=\u001B[39m [situation\u001B[38;5;241m.\u001B[39mstate]\n\u001B[1;32m     21\u001B[0m         actions \u001B[38;5;241m=\u001B[39m []\n",
      "\u001B[0;31mAttributeError\u001B[0m: 'frozenset' object has no attribute 'state'"
     ]
    }
   ],
   "source": [
    "drone_example.intention(drone_example_phi_0, drone_example_s3)"
   ],
   "metadata": {
    "collapsed": false,
    "pycharm": {
     "name": "#%%\n"
    }
   }
  },
  {
   "cell_type": "code",
   "execution_count": null,
   "outputs": [],
   "source": [
    "drone_example.intention(drone_example_phi_1, drone_example_s3)"
   ],
   "metadata": {
    "collapsed": false,
    "pycharm": {
     "name": "#%%\n"
    }
   }
  }
 ],
 "metadata": {
  "kernelspec": {
   "display_name": "Python 3",
   "language": "python",
   "name": "python3"
  },
  "language_info": {
   "codemirror_mode": {
    "name": "ipython",
    "version": 2
   },
   "file_extension": ".py",
   "mimetype": "text/x-python",
   "name": "python",
   "nbconvert_exporter": "python",
   "pygments_lexer": "ipython2",
   "version": "2.7.6"
  }
 },
 "nbformat": 4,
 "nbformat_minor": 0
}