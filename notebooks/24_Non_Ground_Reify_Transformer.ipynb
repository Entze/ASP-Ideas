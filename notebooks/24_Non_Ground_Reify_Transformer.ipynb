{
 "cells": [
  {
   "cell_type": "code",
   "execution_count": 1,
   "metadata": {
    "collapsed": true
   },
   "outputs": [],
   "source": [
    "\n",
    "\n",
    "import clingo\n",
    "import clingo.ast"
   ]
  },
  {
   "cell_type": "code",
   "execution_count": 2,
   "outputs": [],
   "source": [
    "program = \"\"\"\n",
    "\n",
    "domA(0).\n",
    "\n",
    "domA(A) :- domA(A).\n",
    "\n",
    "\"\"\""
   ],
   "metadata": {
    "collapsed": false,
    "pycharm": {
     "name": "#%%\n"
    }
   }
  },
  {
   "cell_type": "code",
   "execution_count": 3,
   "outputs": [],
   "source": [
    "unground_reified = \"\"\"\n",
    "\n",
    "rule(head(literal(sign(0), atom(symbol(function(name(\"domA\"), arguments(term(symbol(0))), external(0)))))), body(elements())).\n",
    "rule(head(literal(sign(0), atom(symbol(function(name(\"domA\"), arguments(variable(name(\"A\"))), external(0)))))), body(elements(literal(sign(0), atom(symbol(function(name(\"domA\"), arguments(variable(name(\"A\"))), external(0)))))))).\n",
    "\n",
    "\n",
    "\"\"\""
   ],
   "metadata": {
    "collapsed": false,
    "pycharm": {
     "name": "#%%\n"
    }
   }
  },
  {
   "cell_type": "code",
   "execution_count": 4,
   "outputs": [],
   "source": [
    "class NonGroundReifyTransformer(clingo.ast.Transformer):\n",
    "    pos = clingo.ast.Position('<string>', 1, 1)\n",
    "    loc = clingo.ast.Location(pos, pos)\n",
    "\n",
    "    def _ast_sym(self, sym: clingo.Symbol):\n",
    "        return clingo.ast.SymbolicTerm(self.loc, sym)\n",
    "\n",
    "    def _ast_str(self, string: str):\n",
    "        return self._ast_sym(clingo.String(string))\n",
    "\n",
    "    def _ast_num(self, num: int):\n",
    "        return self._ast_sym(clingo.Number(num))\n",
    "\n",
    "    def visit_SymbolicTerm(self, term: clingo.ast.AST):\n",
    "        print(\"Term:\", term)\n",
    "        symbol = term.symbol\n",
    "        symbol_node = clingo.ast.Function(self.loc, 'symbol',\n",
    "                                          [self._ast_sym(symbol)],\n",
    "                                          False)\n",
    "        print(\"Meta-Term:\", symbol_node)\n",
    "        return symbol_node\n",
    "\n",
    "    def visit_Variable(self, variable: clingo.ast.AST):\n",
    "        print(\"Variable:\", variable)\n",
    "        name = variable.name\n",
    "        variable_node = clingo.ast.Function(self.loc, 'variable', [\n",
    "            clingo.ast.Function(self.loc, 'name', [\n",
    "                self._ast_str(name)\n",
    "            ], False)], False)\n",
    "        print(\"Meta-Variable:\", variable_node)\n",
    "        return variable_node\n",
    "\n",
    "    def visit_Function(self, function: clingo.ast.AST):\n",
    "        print(\"Function:\", function)\n",
    "        name = function.name\n",
    "        external = function.external\n",
    "        meta_function = self.visit_children(function)\n",
    "        arguments = meta_function.get('arguments', ())\n",
    "        arguments_sub = None\n",
    "        if arguments:\n",
    "            arguments_sub = clingo.ast.Function(self.loc, 'arguments', arguments, False)\n",
    "        else:\n",
    "            arguments_sub = self._ast_sym(clingo.Function('arguments'))\n",
    "        function_node = clingo.ast.Function(self.loc, 'function', [\n",
    "            clingo.ast.Function(self.loc, 'name', [self._ast_str(name)], False),\n",
    "            arguments_sub,\n",
    "            clingo.ast.Function(self.loc, 'external', [self._ast_num(external)], False)\n",
    "        ], False)\n",
    "        print(\"Meta-Function:\", function_node)\n",
    "        return function_node\n",
    "\n",
    "    def visit_Literal(self, literal: clingo.ast.AST):\n",
    "        print(\"Literal:\", literal)\n",
    "        sign = literal.sign\n",
    "        meta_literal = self.visit_children(literal)\n",
    "        atom = meta_literal['atom'].symbol\n",
    "\n",
    "        literal_node = clingo.ast.Function(self.loc, 'literal', [\n",
    "            clingo.ast.Function(self.loc, 'sign', [self._ast_num(sign)], False),\n",
    "            clingo.ast.Function(self.loc, 'atom', [\n",
    "                clingo.ast.Function(self.loc, 'symbol', [\n",
    "                    atom\n",
    "                ], False),\n",
    "            ], False)\n",
    "        ], False)\n",
    "        print(\"Meta-Literal:\", literal_node)\n",
    "        return literal_node\n",
    "\n",
    "    def visit_Rule(self, rule: clingo.ast.AST):\n",
    "        print(\"Rule:\", rule)\n",
    "        meta_rule = self.visit_children(rule)\n",
    "        head = clingo.ast.Function(self.loc, 'head', [meta_rule['head']], False)\n",
    "        body = clingo.ast.Function(self.loc, 'body', [\n",
    "            clingo.ast.Function(self.loc, 'elements', meta_rule.get('body', ()), False)], False)\n",
    "        rule_head = clingo.ast.Literal(self.loc, clingo.ast.Sign.NoSign, clingo.ast.SymbolicAtom(\n",
    "            clingo.ast.Function(self.loc, 'rule', (head, body), False)))\n",
    "        rule_node = clingo.ast.Rule(self.loc, rule_head, ())\n",
    "        print(\"Meta-Rule:\", rule_node)\n",
    "        return rule_node\n"
   ],
   "metadata": {
    "collapsed": false,
    "pycharm": {
     "name": "#%%\n"
    }
   }
  },
  {
   "cell_type": "code",
   "execution_count": 5,
   "outputs": [
    {
     "name": "stdout",
     "output_type": "stream",
     "text": [
      "--------------------------------------------------------------------------------\n",
      "#program base.\n",
      "--------------------------------------------------------------------------------\n",
      "Rule: dom(0).\n",
      "Literal: dom(0)\n",
      "Function: dom(0)\n",
      "Term: 0\n",
      "Meta-Term: symbol(0)\n",
      "Meta-Function: function(name(\"dom\"),arguments(symbol(0)),external(0))\n",
      "Meta-Literal: literal(sign(0),atom(symbol(function(name(\"dom\"),arguments(symbol(0)),external(0)))))\n",
      "Meta-Rule: rule(head(literal(sign(0),atom(symbol(function(name(\"dom\"),arguments(symbol(0)),external(0)))))),body(elements)).\n",
      "--------------------------------------------------------------------------------\n",
      "rule(head(literal(sign(0),atom(symbol(function(name(\"dom\"),arguments(symbol(0)),external(0)))))),body(elements)).\n",
      "--------------------------------------------------------------------------------\n",
      "Rule: dom(1) :- dom(A).\n",
      "Literal: dom(1)\n",
      "Function: dom(1)\n",
      "Term: 1\n",
      "Meta-Term: symbol(1)\n",
      "Meta-Function: function(name(\"dom\"),arguments(symbol(1)),external(0))\n",
      "Meta-Literal: literal(sign(0),atom(symbol(function(name(\"dom\"),arguments(symbol(1)),external(0)))))\n",
      "Literal: dom(A)\n",
      "Function: dom(A)\n",
      "Variable: A\n",
      "Meta-Variable: variable(name(\"A\"))\n",
      "Meta-Function: function(name(\"dom\"),arguments(variable(name(\"A\"))),external(0))\n",
      "Meta-Literal: literal(sign(0),atom(symbol(function(name(\"dom\"),arguments(variable(name(\"A\"))),external(0)))))\n",
      "Meta-Rule: rule(head(literal(sign(0),atom(symbol(function(name(\"dom\"),arguments(symbol(1)),external(0)))))),body(elements(literal(sign(0),atom(symbol(function(name(\"dom\"),arguments(variable(name(\"A\"))),external(0)))))))).\n",
      "--------------------------------------------------------------------------------\n",
      "rule(head(literal(sign(0),atom(symbol(function(name(\"dom\"),arguments(symbol(1)),external(0)))))),body(elements(literal(sign(0),atom(symbol(function(name(\"dom\"),arguments(variable(name(\"A\"))),external(0)))))))).\n",
      "--------------------------------------------------------------------------------\n"
     ]
    }
   ],
   "source": [
    "ngrt = NonGroundReifyTransformer()\n",
    "\n",
    "clingo.ast.parse_string(\"dom(0). dom(1) :- dom(A).\", lambda stm: print(\"-\" * 80, ngrt.visit(stm), \"-\" * 80, sep='\\n'))"
   ],
   "metadata": {
    "collapsed": false,
    "pycharm": {
     "name": "#%%\n"
    }
   }
  },
  {
   "cell_type": "code",
   "execution_count": 6,
   "outputs": [],
   "source": [
    "ctl = clingo.Control()\n",
    "ctl.configuration.solve.models = 0\n"
   ],
   "metadata": {
    "collapsed": false,
    "pycharm": {
     "name": "#%%\n"
    }
   }
  },
  {
   "cell_type": "code",
   "execution_count": 7,
   "outputs": [],
   "source": [
    "ctl.add('base', [], unground_reified)"
   ],
   "metadata": {
    "collapsed": false,
    "pycharm": {
     "name": "#%%\n"
    }
   }
  },
  {
   "cell_type": "code",
   "execution_count": 8,
   "outputs": [],
   "source": [
    "ctl.ground([('base', [])])"
   ],
   "metadata": {
    "collapsed": false,
    "pycharm": {
     "name": "#%%\n"
    }
   }
  },
  {
   "cell_type": "code",
   "execution_count": 9,
   "outputs": [],
   "source": [
    "with ctl.solve(yield_=True) as solve_handle:\n",
    "    models = []\n",
    "    for model in solve_handle:\n",
    "        symbols = model.symbols(atoms=True)\n",
    "        models.append(symbols)"
   ],
   "metadata": {
    "collapsed": false,
    "pycharm": {
     "name": "#%%\n"
    }
   }
  },
  {
   "cell_type": "code",
   "execution_count": 10,
   "outputs": [
    {
     "name": "stdout",
     "output_type": "stream",
     "text": [
      "rule(head(literal(sign(0),atom(symbol(function(name(\"domA\"),arguments(term(symbol(0))),external(0)))))),body(elements)) rule(head(literal(sign(0),atom(symbol(function(name(\"domA\"),arguments(variable(name(\"A\"))),external(0)))))),body(elements(literal(sign(0),atom(symbol(function(name(\"domA\"),arguments(variable(name(\"A\"))),external(0))))))))\n"
     ]
    }
   ],
   "source": [
    "print(' '.join(map(str, models[0])))"
   ],
   "metadata": {
    "collapsed": false,
    "pycharm": {
     "name": "#%%\n"
    }
   }
  }
 ],
 "metadata": {
  "kernelspec": {
   "display_name": "Python 3",
   "language": "python",
   "name": "python3"
  },
  "language_info": {
   "codemirror_mode": {
    "name": "ipython",
    "version": 2
   },
   "file_extension": ".py",
   "mimetype": "text/x-python",
   "name": "python",
   "nbconvert_exporter": "python",
   "pygments_lexer": "ipython2",
   "version": "2.7.6"
  }
 },
 "nbformat": 4,
 "nbformat_minor": 0
}