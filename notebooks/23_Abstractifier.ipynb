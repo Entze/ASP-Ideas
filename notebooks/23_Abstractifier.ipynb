{
 "cells": [
  {
   "cell_type": "code",
   "execution_count": 180,
   "metadata": {
    "collapsed": true
   },
   "outputs": [],
   "source": [
    "from typing import Optional\n",
    "\n",
    "import clingo\n",
    "import clingo.ast"
   ]
  },
  {
   "cell_type": "code",
   "execution_count": 181,
   "outputs": [],
   "source": [
    "program = \"\"\"\n",
    "\n",
    "domA(0).\n",
    "\n",
    "domA(A) :- domA(A).\n",
    "\n",
    "\"\"\""
   ],
   "metadata": {
    "collapsed": false,
    "pycharm": {
     "name": "#%%\n"
    }
   }
  },
  {
   "cell_type": "code",
   "execution_count": 182,
   "outputs": [],
   "source": [
    "unground_reified = \"\"\"\n",
    "\n",
    "rule(head(literal(sign(0), atom(symbol(function(name(\"domA\"), arguments(term(symbol(0))), external(0)))))), body(elements())).\n",
    "rule(head(literal(sign(0), atom(symbol(function(name(\"domA\"), arguments(variable(name(\"A\"))), external(0)))))), body(elements(literal(sign(0), atom(symbol(function(name(\"domA\"), arguments(variable(name(\"A\"))), external(0)))))))).\n",
    "\n",
    "\n",
    "\"\"\""
   ],
   "metadata": {
    "collapsed": false,
    "pycharm": {
     "name": "#%%\n"
    }
   }
  },
  {
   "cell_type": "code",
   "execution_count": 183,
   "outputs": [],
   "source": [
    "ctl = clingo.Control()\n",
    "ctl.configuration.solve.models = 0\n"
   ],
   "metadata": {
    "collapsed": false,
    "pycharm": {
     "name": "#%%\n"
    }
   }
  },
  {
   "cell_type": "code",
   "execution_count": 184,
   "outputs": [],
   "source": [
    "ctl.add('base', [], unground_reified)"
   ],
   "metadata": {
    "collapsed": false,
    "pycharm": {
     "name": "#%%\n"
    }
   }
  },
  {
   "cell_type": "code",
   "execution_count": 185,
   "outputs": [],
   "source": [
    "ctl.ground([('base', [])])"
   ],
   "metadata": {
    "collapsed": false,
    "pycharm": {
     "name": "#%%\n"
    }
   }
  },
  {
   "cell_type": "code",
   "execution_count": 186,
   "outputs": [],
   "source": [
    "with ctl.solve(yield_=True) as solve_handle:\n",
    "    models = []\n",
    "    for model in solve_handle:\n",
    "        symbols = model.symbols(atoms=True)\n",
    "        models.append(symbols)"
   ],
   "metadata": {
    "collapsed": false,
    "pycharm": {
     "name": "#%%\n"
    }
   }
  },
  {
   "cell_type": "code",
   "execution_count": 187,
   "outputs": [
    {
     "name": "stdout",
     "output_type": "stream",
     "text": [
      "rule(head(literal(sign(0),atom(symbol(function(name(\"domA\"),arguments(term(symbol(0))),external(0)))))),body(elements)) rule(head(literal(sign(0),atom(symbol(function(name(\"domA\"),arguments(variable(name(\"A\"))),external(0)))))),body(elements(literal(sign(0),atom(symbol(function(name(\"domA\"),arguments(variable(name(\"A\"))),external(0))))))))\n"
     ]
    }
   ],
   "source": [
    "print(' '.join(map(str, models[0])))"
   ],
   "metadata": {
    "collapsed": false,
    "pycharm": {
     "name": "#%%\n"
    }
   }
  },
  {
   "cell_type": "code",
   "execution_count": 188,
   "outputs": [],
   "source": [
    "pos = clingo.ast.Position('<string>', 1, 1)\n",
    "loc = clingo.ast.Location(pos, pos)\n",
    "_false = clingo.ast.BooleanConstant(False)"
   ],
   "metadata": {
    "collapsed": false,
    "pycharm": {
     "name": "#%%\n"
    }
   }
  },
  {
   "cell_type": "code",
   "execution_count": 190,
   "outputs": [],
   "source": [
    "def translate_variable(variable: clingo.Symbol):\n",
    "    print(variable)\n",
    "    assert variable.match('variable', 1)\n",
    "    name = variable.arguments[0]\n",
    "    name_node = translate_name(name)\n",
    "    variable_node = clingo.ast.Variable(loc, name_node)\n",
    "    return variable_node\n",
    "\n",
    "\n",
    "def translate_term(term: clingo.Symbol):\n",
    "    print(term)\n",
    "    assert term.match('term', 1)\n",
    "    symbol = term.arguments[0]\n",
    "    term_node = translate_symbol(symbol)\n",
    "    return term_node\n",
    "\n",
    "\n",
    "def translate_arguments(arguments: clingo.Symbol):\n",
    "    print(arguments)\n",
    "    assert arguments.type is clingo.SymbolType.Function and arguments.name == 'arguments'\n",
    "    arguments_node = tuple(translate(argument) for argument in arguments.arguments)\n",
    "    return arguments_node\n",
    "\n",
    "\n",
    "def translate_elements(elements: clingo.Symbol):\n",
    "    print(elements)\n",
    "    assert elements.type is clingo.SymbolType.Function and elements.name == 'elements'\n",
    "    elements_node = tuple(translate(argument) for argument in elements.arguments)\n",
    "    return elements_node\n",
    "\n",
    "\n",
    "def translate_name(name: clingo.Symbol):\n",
    "    print(name)\n",
    "    assert name.match('name', 1)\n",
    "    assert name.arguments[0].type is clingo.SymbolType.String\n",
    "    name_node = name.arguments[0].string\n",
    "    return name_node\n",
    "\n",
    "\n",
    "def translate_external(external: clingo.Symbol):\n",
    "    print(external)\n",
    "    assert external.match('external', 1)\n",
    "    assert external.arguments[0].type is clingo.SymbolType.Number\n",
    "    external_node = external.arguments[0].number\n",
    "    return external_node\n",
    "\n",
    "\n",
    "def translate_function(function: clingo.Symbol):\n",
    "    print(function)\n",
    "    assert function.match('function', 3)\n",
    "    name = function.arguments[0]\n",
    "    arguments = function.arguments[1]\n",
    "    external = function.arguments[2]\n",
    "    name_node = translate_name(name)\n",
    "    arguments_node = translate_arguments(arguments)\n",
    "    external_node = translate_external(external)\n",
    "    function_node = clingo.ast.Function(loc, name_node, arguments_node, external_node)\n",
    "    return function_node\n",
    "\n",
    "\n",
    "def translate_symbol(symbol: clingo.Symbol):\n",
    "    print(symbol)\n",
    "    assert symbol.match('symbol', 1)\n",
    "    child = symbol.arguments[0]\n",
    "    child_node = translate(child)\n",
    "    return child_node\n",
    "\n",
    "\n",
    "def translate_atom(atom: clingo.Symbol):\n",
    "    print(atom)\n",
    "    assert atom.match('atom', 1)\n",
    "    symbol = atom.arguments[0]\n",
    "    symbol_node = translate_symbol(symbol)\n",
    "    atom_node = clingo.ast.SymbolicAtom(symbol_node)\n",
    "    return atom_node\n",
    "\n",
    "\n",
    "def translate_sign(sign: clingo.Symbol):\n",
    "    print(sign)\n",
    "    assert sign.match('sign', 1)\n",
    "    sign_node = sign.arguments[0].number\n",
    "    return sign_node\n",
    "\n",
    "\n",
    "def translate_literal(literal: clingo.Symbol):\n",
    "    print(literal)\n",
    "    assert literal.match('literal', 2)\n",
    "    sign = literal.arguments[0]\n",
    "    atom = literal.arguments[1]\n",
    "    sign_node = translate_sign(sign)\n",
    "    atom_node = translate_atom(atom)\n",
    "    literal_node = clingo.ast.Literal(loc, sign_node, atom_node)\n",
    "    return literal_node\n",
    "\n",
    "\n",
    "def translate_head(head: Optional[clingo.Symbol] = None):\n",
    "    print(head)\n",
    "    assert head.match('head', 1)\n",
    "    child = head.arguments[0]\n",
    "    head_node = translate(child)\n",
    "    return head_node\n",
    "\n",
    "\n",
    "def translate_body(body: Optional[clingo.Symbol] = None):\n",
    "    print(body)\n",
    "    assert body.match('body', 1)\n",
    "    elements = body.arguments[0]\n",
    "    elements_node = translate_elements(elements)\n",
    "    return elements_node\n",
    "\n",
    "\n",
    "def translate_rule(rule: clingo.Symbol):\n",
    "    print(rule)\n",
    "    assert rule.match('rule', 2)\n",
    "    head = rule.arguments[0]\n",
    "    body = rule.arguments[1]\n",
    "    head_node = translate_head(head)\n",
    "    body_node = translate_body(body)\n",
    "    rule_node = clingo.ast.Rule(loc, head_node, body_node)\n",
    "    return rule_node\n",
    "\n",
    "\n",
    "def translate(symbol: clingo.Symbol):\n",
    "    print(symbol)\n",
    "    if symbol.type is clingo.SymbolType.Function:\n",
    "        if symbol.name == 'literal':\n",
    "            return translate_literal(symbol)\n",
    "        elif symbol.name == 'function':\n",
    "            return translate_function(symbol)\n",
    "        elif symbol.name == 'term':\n",
    "            return translate_term(symbol)\n",
    "        elif symbol.name == 'variable':\n",
    "            return translate_variable(symbol)\n",
    "    else:\n",
    "        return clingo.ast.SymbolicTerm(loc, symbol)\n",
    "\n",
    "\n"
   ],
   "metadata": {
    "collapsed": false,
    "pycharm": {
     "name": "#%%\n"
    }
   }
  },
  {
   "cell_type": "code",
   "execution_count": 191,
   "outputs": [
    {
     "name": "stdout",
     "output_type": "stream",
     "text": [
      "rule(head(literal(sign(0),atom(symbol(function(name(\"domA\"),arguments(term(symbol(0))),external(0)))))),body(elements))\n",
      "head(literal(sign(0),atom(symbol(function(name(\"domA\"),arguments(term(symbol(0))),external(0))))))\n",
      "literal(sign(0),atom(symbol(function(name(\"domA\"),arguments(term(symbol(0))),external(0)))))\n",
      "literal(sign(0),atom(symbol(function(name(\"domA\"),arguments(term(symbol(0))),external(0)))))\n",
      "sign(0)\n",
      "atom(symbol(function(name(\"domA\"),arguments(term(symbol(0))),external(0))))\n",
      "symbol(function(name(\"domA\"),arguments(term(symbol(0))),external(0)))\n",
      "function(name(\"domA\"),arguments(term(symbol(0))),external(0))\n",
      "function(name(\"domA\"),arguments(term(symbol(0))),external(0))\n",
      "name(\"domA\")\n",
      "arguments(term(symbol(0)))\n",
      "term(symbol(0))\n",
      "term(symbol(0))\n",
      "symbol(0)\n",
      "0\n",
      "external(0)\n",
      "body(elements)\n",
      "elements\n",
      "rule(head(literal(sign(0),atom(symbol(function(name(\"domA\"),arguments(variable(name(\"A\"))),external(0)))))),body(elements(literal(sign(0),atom(symbol(function(name(\"domA\"),arguments(variable(name(\"A\"))),external(0))))))))\n",
      "head(literal(sign(0),atom(symbol(function(name(\"domA\"),arguments(variable(name(\"A\"))),external(0))))))\n",
      "literal(sign(0),atom(symbol(function(name(\"domA\"),arguments(variable(name(\"A\"))),external(0)))))\n",
      "literal(sign(0),atom(symbol(function(name(\"domA\"),arguments(variable(name(\"A\"))),external(0)))))\n",
      "sign(0)\n",
      "atom(symbol(function(name(\"domA\"),arguments(variable(name(\"A\"))),external(0))))\n",
      "symbol(function(name(\"domA\"),arguments(variable(name(\"A\"))),external(0)))\n",
      "function(name(\"domA\"),arguments(variable(name(\"A\"))),external(0))\n",
      "function(name(\"domA\"),arguments(variable(name(\"A\"))),external(0))\n",
      "name(\"domA\")\n",
      "arguments(variable(name(\"A\")))\n",
      "variable(name(\"A\"))\n",
      "variable(name(\"A\"))\n",
      "name(\"A\")\n",
      "external(0)\n",
      "body(elements(literal(sign(0),atom(symbol(function(name(\"domA\"),arguments(variable(name(\"A\"))),external(0)))))))\n",
      "elements(literal(sign(0),atom(symbol(function(name(\"domA\"),arguments(variable(name(\"A\"))),external(0))))))\n",
      "literal(sign(0),atom(symbol(function(name(\"domA\"),arguments(variable(name(\"A\"))),external(0)))))\n",
      "literal(sign(0),atom(symbol(function(name(\"domA\"),arguments(variable(name(\"A\"))),external(0)))))\n",
      "sign(0)\n",
      "atom(symbol(function(name(\"domA\"),arguments(variable(name(\"A\"))),external(0))))\n",
      "symbol(function(name(\"domA\"),arguments(variable(name(\"A\"))),external(0)))\n",
      "function(name(\"domA\"),arguments(variable(name(\"A\"))),external(0))\n",
      "function(name(\"domA\"),arguments(variable(name(\"A\"))),external(0))\n",
      "name(\"domA\")\n",
      "arguments(variable(name(\"A\")))\n",
      "variable(name(\"A\"))\n",
      "variable(name(\"A\"))\n",
      "name(\"A\")\n",
      "external(0)\n"
     ]
    }
   ],
   "source": [
    "prg = []\n",
    "\n",
    "for symbol in models[0]:\n",
    "    prg.append(translate_rule(symbol))"
   ],
   "metadata": {
    "collapsed": false,
    "pycharm": {
     "name": "#%%\n"
    }
   }
  },
  {
   "cell_type": "code",
   "execution_count": 192,
   "outputs": [
    {
     "name": "stdout",
     "output_type": "stream",
     "text": [
      "domA(0).\n",
      "domA(A) :- domA(A).\n"
     ]
    }
   ],
   "source": [
    "print('\\n'.join(map(str, prg)))"
   ],
   "metadata": {
    "collapsed": false,
    "pycharm": {
     "name": "#%%\n"
    }
   }
  }
 ],
 "metadata": {
  "kernelspec": {
   "display_name": "Python 3",
   "language": "python",
   "name": "python3"
  },
  "language_info": {
   "codemirror_mode": {
    "name": "ipython",
    "version": 2
   },
   "file_extension": ".py",
   "mimetype": "text/x-python",
   "name": "python",
   "nbconvert_exporter": "python",
   "pygments_lexer": "ipython2",
   "version": "2.7.6"
  }
 },
 "nbformat": 4,
 "nbformat_minor": 0
}