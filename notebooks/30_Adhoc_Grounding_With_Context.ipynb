{
 "cells": [
  {
   "cell_type": "code",
   "execution_count": 1,
   "metadata": {
    "collapsed": true
   },
   "outputs": [],
   "source": [
    "from typing import Sequence\n",
    "\n",
    "import clingo\n",
    "import clingo.ast\n",
    "from clingo.ast import ProgramBuilder\n",
    "from clingox.backend import SymbolicBackend\n",
    "from clingox.program import Program, ProgramObserver"
   ]
  },
  {
   "cell_type": "code",
   "execution_count": 2,
   "outputs": [],
   "source": [
    "program = \"\"\"\n",
    "\n",
    "head1(X,Y,Z) :- body1(X), body2(Y), body3(Z).\n",
    "\n",
    "head2(X) :- body1(X), body2(X-1).\n",
    "\n",
    "head3(X) :- body4(X).\n",
    "\n",
    "\"\"\""
   ],
   "metadata": {
    "collapsed": false,
    "pycharm": {
     "name": "#%%\n"
    }
   }
  },
  {
   "cell_type": "code",
   "execution_count": 3,
   "outputs": [],
   "source": [
    "def get_parsed_program(program: str):\n",
    "    nodes = []\n",
    "    clingo.ast.parse_string(program, lambda stm: nodes.append(stm))\n",
    "    return nodes"
   ],
   "metadata": {
    "collapsed": false,
    "pycharm": {
     "name": "#%%\n"
    }
   }
  },
  {
   "cell_type": "code",
   "execution_count": 4,
   "outputs": [
    {
     "data": {
      "text/plain": "[ast.Program(Location(begin=Position(filename='<string>', line=1, column=1), end=Position(filename='<string>', line=1, column=1)), 'base', []),\n ast.Rule(Location(begin=Position(filename='<string>', line=3, column=1), end=Position(filename='<string>', line=3, column=46)), ast.Literal(Location(begin=Position(filename='<string>', line=3, column=1), end=Position(filename='<string>', line=3, column=13)), 0, ast.SymbolicAtom(ast.Function(Location(begin=Position(filename='<string>', line=3, column=1), end=Position(filename='<string>', line=3, column=13)), 'head1', [ast.Variable(Location(begin=Position(filename='<string>', line=3, column=7), end=Position(filename='<string>', line=3, column=8)), 'X'), ast.Variable(Location(begin=Position(filename='<string>', line=3, column=9), end=Position(filename='<string>', line=3, column=10)), 'Y'), ast.Variable(Location(begin=Position(filename='<string>', line=3, column=11), end=Position(filename='<string>', line=3, column=12)), 'Z')], 0))), [ast.Literal(Location(begin=Position(filename='<string>', line=3, column=17), end=Position(filename='<string>', line=3, column=25)), 0, ast.SymbolicAtom(ast.Function(Location(begin=Position(filename='<string>', line=3, column=17), end=Position(filename='<string>', line=3, column=25)), 'body1', [ast.Variable(Location(begin=Position(filename='<string>', line=3, column=23), end=Position(filename='<string>', line=3, column=24)), 'X')], 0))), ast.Literal(Location(begin=Position(filename='<string>', line=3, column=27), end=Position(filename='<string>', line=3, column=35)), 0, ast.SymbolicAtom(ast.Function(Location(begin=Position(filename='<string>', line=3, column=27), end=Position(filename='<string>', line=3, column=35)), 'body2', [ast.Variable(Location(begin=Position(filename='<string>', line=3, column=33), end=Position(filename='<string>', line=3, column=34)), 'Y')], 0))), ast.Literal(Location(begin=Position(filename='<string>', line=3, column=37), end=Position(filename='<string>', line=3, column=45)), 0, ast.SymbolicAtom(ast.Function(Location(begin=Position(filename='<string>', line=3, column=37), end=Position(filename='<string>', line=3, column=45)), 'body3', [ast.Variable(Location(begin=Position(filename='<string>', line=3, column=43), end=Position(filename='<string>', line=3, column=44)), 'Z')], 0)))]),\n ast.Rule(Location(begin=Position(filename='<string>', line=5, column=1), end=Position(filename='<string>', line=5, column=34)), ast.Literal(Location(begin=Position(filename='<string>', line=5, column=1), end=Position(filename='<string>', line=5, column=9)), 0, ast.SymbolicAtom(ast.Function(Location(begin=Position(filename='<string>', line=5, column=1), end=Position(filename='<string>', line=5, column=9)), 'head2', [ast.Variable(Location(begin=Position(filename='<string>', line=5, column=7), end=Position(filename='<string>', line=5, column=8)), 'X')], 0))), [ast.Literal(Location(begin=Position(filename='<string>', line=5, column=13), end=Position(filename='<string>', line=5, column=21)), 0, ast.SymbolicAtom(ast.Function(Location(begin=Position(filename='<string>', line=5, column=13), end=Position(filename='<string>', line=5, column=21)), 'body1', [ast.Variable(Location(begin=Position(filename='<string>', line=5, column=19), end=Position(filename='<string>', line=5, column=20)), 'X')], 0))), ast.Literal(Location(begin=Position(filename='<string>', line=5, column=23), end=Position(filename='<string>', line=5, column=33)), 0, ast.SymbolicAtom(ast.Function(Location(begin=Position(filename='<string>', line=5, column=23), end=Position(filename='<string>', line=5, column=33)), 'body2', [ast.BinaryOperation(Location(begin=Position(filename='<string>', line=5, column=29), end=Position(filename='<string>', line=5, column=32)), 4, ast.Variable(Location(begin=Position(filename='<string>', line=5, column=29), end=Position(filename='<string>', line=5, column=30)), 'X'), ast.SymbolicTerm(Location(begin=Position(filename='<string>', line=5, column=31), end=Position(filename='<string>', line=5, column=32)), Number(1)))], 0)))]),\n ast.Rule(Location(begin=Position(filename='<string>', line=7, column=1), end=Position(filename='<string>', line=7, column=22)), ast.Literal(Location(begin=Position(filename='<string>', line=7, column=1), end=Position(filename='<string>', line=7, column=9)), 0, ast.SymbolicAtom(ast.Function(Location(begin=Position(filename='<string>', line=7, column=1), end=Position(filename='<string>', line=7, column=9)), 'head3', [ast.Variable(Location(begin=Position(filename='<string>', line=7, column=7), end=Position(filename='<string>', line=7, column=8)), 'X')], 0))), [ast.Literal(Location(begin=Position(filename='<string>', line=7, column=13), end=Position(filename='<string>', line=7, column=21)), 0, ast.SymbolicAtom(ast.Function(Location(begin=Position(filename='<string>', line=7, column=13), end=Position(filename='<string>', line=7, column=21)), 'body4', [ast.Variable(Location(begin=Position(filename='<string>', line=7, column=19), end=Position(filename='<string>', line=7, column=20)), 'X')], 0)))])]"
     },
     "execution_count": 4,
     "metadata": {},
     "output_type": "execute_result"
    }
   ],
   "source": [
    "nodes = get_parsed_program(program)\n",
    "nodes"
   ],
   "metadata": {
    "collapsed": false,
    "pycharm": {
     "name": "#%%\n"
    }
   }
  },
  {
   "cell_type": "markdown",
   "source": [
    "Ground with symbols"
   ],
   "metadata": {
    "collapsed": false
   }
  },
  {
   "cell_type": "code",
   "execution_count": 5,
   "outputs": [],
   "source": [
    "class PartialGroundTransformer(clingo.ast.Transformer):\n",
    "    pos = clingo.ast.Position('<string>', 0, 0)\n",
    "    loc = clingo.ast.Location(pos, pos)\n",
    "\n",
    "    def __init__(self, facts: Sequence[clingo.Symbol] = ()):\n",
    "        self.grounded_rules = []\n",
    "        self.facts = facts\n",
    "        print('Available Facts: {', end='')\n",
    "        if self.facts:\n",
    "            print()\n",
    "            print('.\\n'.join(map(str, facts)), end='.\\n')\n",
    "        else:\n",
    "            print(end=' ')\n",
    "        print('}')\n",
    "\n",
    "    def visit_Rule(self, rule: clingo.ast.AST):\n",
    "        print('Partially grounding:', rule)\n",
    "        ctl = clingo.Control()\n",
    "        prg = Program()\n",
    "        obs = ProgramObserver(prg)\n",
    "        ctl.register_observer(obs)\n",
    "        with SymbolicBackend(ctl.backend()) as sb:\n",
    "            for fact in self.facts:\n",
    "                sb.add_external(fact)\n",
    "        with ProgramBuilder(ctl) as pb:\n",
    "            pb.add(rule)\n",
    "        ctl.ground([('base', ())])\n",
    "        for grd_rule in prg.rules:\n",
    "            head_atoms = grd_rule.head\n",
    "            body_literals = grd_rule.body\n",
    "            head_symbols = tuple(prg.output_atoms[head_atom] for head_atom in head_atoms)\n",
    "            body_symbols = tuple(\n",
    "                (int(body_literal < 0), prg.output_atoms[abs(body_literal)]) for body_literal in body_literals)\n",
    "            print('Instance:', end=' ')\n",
    "            if head_symbols:\n",
    "                if grd_rule.choice:\n",
    "                    print('{', ';'.join(map(str, head_symbols)), '}', end='')\n",
    "                    # { H1;...;HN } :- B1,...,BN.\n",
    "                    pass\n",
    "                elif len(head_symbols) == 1:\n",
    "                    head_symbol = head_symbols[0]\n",
    "                    print(head_symbol, end='')\n",
    "                    # H :- B1,...,BN.\n",
    "                    head_ast = clingo.ast.Literal(PartialGroundTransformer.loc,\n",
    "                                                  clingo.ast.Sign.NoSign,\n",
    "                                                  clingo.ast.SymbolicAtom(\n",
    "                                                      clingo.ast.SymbolicTerm(PartialGroundTransformer.loc,\n",
    "                                                                              head_symbol)))\n",
    "                else:\n",
    "                    # H1 | ... | HN :- B1,...,BN.\n",
    "                    print('|'.join(map(str, head_symbols)), end='')\n",
    "                    pass\n",
    "            else:\n",
    "                head_ast = clingo.ast.BooleanConstant(False)\n",
    "\n",
    "            body_ast = tuple(\n",
    "                clingo.ast.Literal(PartialGroundTransformer.loc,\n",
    "                                   sign,\n",
    "                                   clingo.ast.SymbolicAtom(\n",
    "                                       clingo.ast.SymbolicTerm(PartialGroundTransformer.loc,\n",
    "                                                               body_atom)))\n",
    "                for (sign, body_atom) in body_symbols\n",
    "            )\n",
    "            if body_ast:\n",
    "                print(' :-', end=' ')\n",
    "                print(', '.join(map(str, body_ast)), end='')\n",
    "            print('.')\n",
    "            self.grounded_rules.append(clingo.ast.Rule(PartialGroundTransformer.loc,\n",
    "                                                       head_ast,\n",
    "                                                       body_ast))\n",
    "\n",
    "        return rule"
   ],
   "metadata": {
    "collapsed": false,
    "pycharm": {
     "name": "#%%\n"
    }
   }
  },
  {
   "cell_type": "code",
   "execution_count": 6,
   "outputs": [
    {
     "name": "stdout",
     "output_type": "stream",
     "text": [
      "Available Facts: {\n",
      "body1(3).\n",
      "body2(2).\n",
      "body3(1).\n",
      "body4(0).\n",
      "body4(4).\n",
      "}\n",
      "Partially grounding: head1(X,Y,Z) :- body1(X); body2(Y); body3(Z).\n",
      "Instance: head1(3,2,1) :- body3(1), body2(2), body1(3).\n",
      "Partially grounding: head2(X) :- body1(X); body2((X-1)).\n",
      "Instance: head2(3) :- body2(2), body1(3).\n",
      "Partially grounding: head3(X) :- body4(X).\n",
      "Instance: head3(0) :- body4(0).\n",
      "Instance: head3(4) :- body4(4).\n"
     ]
    }
   ],
   "source": [
    "pgt = PartialGroundTransformer([\n",
    "    clingo.Function('body1', [clingo.Number(3)]),\n",
    "    clingo.Function('body2', [clingo.Number(2)]),\n",
    "    clingo.Function('body3', [clingo.Number(1)]),\n",
    "    clingo.Function('body4', [clingo.Number(0)]),\n",
    "    clingo.Function('body4', [clingo.Number(4)]),\n",
    "])\n",
    "clingo.ast.parse_string(program, lambda stm: pgt.visit(stm))"
   ],
   "metadata": {
    "collapsed": false,
    "pycharm": {
     "name": "#%%\n"
    }
   }
  },
  {
   "cell_type": "code",
   "execution_count": 7,
   "outputs": [
    {
     "name": "stdout",
     "output_type": "stream",
     "text": [
      "head1(3,2,1) :- body3(1); body2(2); body1(3).\n",
      "head2(3) :- body2(2); body1(3).\n",
      "head3(0) :- body4(0).\n",
      "head3(4) :- body4(4).\n"
     ]
    }
   ],
   "source": [
    "print('\\n'.join(map(str, pgt.grounded_rules)))"
   ],
   "metadata": {
    "collapsed": false,
    "pycharm": {
     "name": "#%%\n"
    }
   }
  },
  {
   "cell_type": "code",
   "execution_count": 8,
   "outputs": [],
   "source": [
    "new_ctl = clingo.Control()\n",
    "new_ctl.configuration.solve.models = 0"
   ],
   "metadata": {
    "collapsed": false,
    "pycharm": {
     "name": "#%%\n"
    }
   }
  },
  {
   "cell_type": "code",
   "execution_count": 9,
   "outputs": [],
   "source": [
    "with ProgramBuilder(new_ctl) as pb:\n",
    "    for gr in pgt.grounded_rules:\n",
    "        pb.add(gr)\n",
    "with SymbolicBackend(new_ctl.backend()) as sb:\n",
    "    for f in pgt.facts:\n",
    "        sb.add_rule(head=(f,))"
   ],
   "metadata": {
    "collapsed": false,
    "pycharm": {
     "name": "#%%\n"
    }
   }
  },
  {
   "cell_type": "code",
   "execution_count": 10,
   "outputs": [],
   "source": [
    "new_ctl.ground([('base', [])])"
   ],
   "metadata": {
    "collapsed": false,
    "pycharm": {
     "name": "#%%\n"
    }
   }
  },
  {
   "cell_type": "code",
   "execution_count": 11,
   "outputs": [
    {
     "name": "stdout",
     "output_type": "stream",
     "text": [
      "Answer 1: {\n",
      "body1(3)\n",
      "body2(2)\n",
      "body3(1)\n",
      "body4(0)\n",
      "body4(4)\n",
      "head2(3)\n",
      "head3(0)\n",
      "head3(4)\n",
      "head1(3,2,1)\n",
      "}\n",
      "SAT 1\n"
     ]
    }
   ],
   "source": [
    "with new_ctl.solve(yield_=True) as solve_handle:\n",
    "    models = []\n",
    "    for model in solve_handle:\n",
    "        symbols = sorted(model.symbols(shown=True))\n",
    "        print(\"Answer {}:\".format(model.number), end=' ')\n",
    "        print(\"{\",\n",
    "              '\\n'.join(map(str, symbols)), \"}\", sep='\\n')\n",
    "        models.append(symbols)\n",
    "    solve_result = solve_handle.get()\n",
    "    print(solve_result, end='')\n",
    "    if models:\n",
    "        print(\" {}{}\".format(len(models), '' if solve_result.exhausted else '+'))"
   ],
   "metadata": {
    "collapsed": false,
    "pycharm": {
     "name": "#%%\n"
    }
   }
  }
 ],
 "metadata": {
  "kernelspec": {
   "display_name": "Python 3",
   "language": "python",
   "name": "python3"
  },
  "language_info": {
   "codemirror_mode": {
    "name": "ipython",
    "version": 2
   },
   "file_extension": ".py",
   "mimetype": "text/x-python",
   "name": "python",
   "nbconvert_exporter": "python",
   "pygments_lexer": "ipython2",
   "version": "2.7.6"
  }
 },
 "nbformat": 4,
 "nbformat_minor": 0
}