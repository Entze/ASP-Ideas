{
 "cells": [
  {
   "cell_type": "code",
   "execution_count": 1,
   "metadata": {
    "collapsed": true
   },
   "outputs": [],
   "source": [
    "import functools\n",
    "from typing import Callable, Union\n",
    "\n",
    "import clingo\n",
    "import clingo.ast\n",
    "from clingo.ast import ProgramBuilder\n",
    "from clingox.backend import SymbolicBackend"
   ]
  },
  {
   "cell_type": "code",
   "execution_count": 2,
   "outputs": [],
   "source": [
    "yale = \"\"\"\n",
    "\n",
    "time(0..3).\n",
    "\n",
    "observe(chicken, alive, 0).\n",
    "observe(alice, alive, 0).\n",
    "occurs(alice, (shoot, chicken), 1).\n",
    "\n",
    "observe(Agent, alive, T+1) :-\n",
    "  time(T+1),\n",
    "  observe(Agent, alive, T),\n",
    "  not observe(Agent, dead, T+1).\n",
    "\n",
    "observe(Agent, dead, T+1) :-\n",
    "  time(T+1),\n",
    "  observe(Agent, dead, T).\n",
    "\n",
    "observe(Agent1, dead, T+1) :-\n",
    "  time(T+1),\n",
    "  occurs(Agent2, (shoot, Agent1), T),\n",
    "  observe(Agent1, alive, T).\n",
    "\n",
    "\"\"\""
   ],
   "metadata": {
    "collapsed": false,
    "pycharm": {
     "name": "#%%\n"
    }
   }
  },
  {
   "cell_type": "code",
   "execution_count": 3,
   "outputs": [],
   "source": [
    "ctl = clingo.Control()\n",
    "ctl.configuration.solve.models = 0"
   ],
   "metadata": {
    "collapsed": false,
    "pycharm": {
     "name": "#%%\n"
    }
   }
  },
  {
   "cell_type": "code",
   "execution_count": 4,
   "outputs": [],
   "source": [
    "ctl.add(\"base\", (), yale)"
   ],
   "metadata": {
    "collapsed": false,
    "pycharm": {
     "name": "#%%\n"
    }
   }
  },
  {
   "cell_type": "code",
   "execution_count": 5,
   "outputs": [],
   "source": [
    "ctl.ground([(\"base\", [])])"
   ],
   "metadata": {
    "collapsed": false,
    "pycharm": {
     "name": "#%%\n"
    }
   }
  },
  {
   "cell_type": "code",
   "execution_count": 6,
   "outputs": [],
   "source": [
    "def temporal(symbol: clingo.Symbol, default: Union[int, Callable[[clingo.Symbol], int], None] = None):\n",
    "    if symbol.match('occurs', 3) or symbol.match('observe', 3):\n",
    "        return symbol.arguments[-1].number\n",
    "    if callable(default):\n",
    "        return default(symbol)\n",
    "    return default"
   ],
   "metadata": {
    "collapsed": false,
    "pycharm": {
     "name": "#%%\n"
    }
   }
  },
  {
   "cell_type": "code",
   "execution_count": 7,
   "outputs": [
    {
     "name": "stdout",
     "output_type": "stream",
     "text": [
      "Answer 1: {\n",
      "time(0)\n",
      "time(1)\n",
      "time(2)\n",
      "time(3)\n",
      "observe(alice,alive,0)\n",
      "observe(chicken,alive,0)\n",
      "observe(alice,alive,1)\n",
      "observe(chicken,alive,1)\n",
      "occurs(alice,(shoot,chicken),1)\n",
      "observe(alice,alive,2)\n",
      "observe(chicken,dead,2)\n",
      "observe(alice,alive,3)\n",
      "observe(chicken,dead,3)\n",
      "}\n",
      "SAT 1\n"
     ]
    }
   ],
   "source": [
    "with ctl.solve(yield_=True) as solve_handle:\n",
    "    models = []\n",
    "    for model in solve_handle:\n",
    "        symbols = sorted(sorted(model.symbols(shown=True)), key=functools.partial(temporal, default=-1))\n",
    "        print(\"Answer {}:\".format(model.number), end=' ')\n",
    "        print(\"{\",\n",
    "              '\\n'.join(map(str, symbols)), \"}\", sep='\\n')\n",
    "        models.append(symbols)\n",
    "    solve_result = solve_handle.get()\n",
    "    print(solve_result, end='')\n",
    "    if models:\n",
    "        print(\" {}{}\".format(len(models), '' if solve_result.exhausted else '+'))"
   ],
   "metadata": {
    "collapsed": false,
    "pycharm": {
     "name": "#%%\n"
    }
   }
  },
  {
   "cell_type": "code",
   "execution_count": 8,
   "outputs": [
    {
     "name": "stdout",
     "output_type": "stream",
     "text": [
      "#program base.\n",
      "time((0..3)).\n",
      "observe(chicken,alive,0).\n",
      "observe(alice,alive,0).\n",
      "occurs(alice,(shoot,chicken),1).\n",
      "observe(Agent,alive,(T+1)) :- time((T+1)); observe(Agent,alive,T); not observe(Agent,dead,(T+1)).\n",
      "observe(Agent,dead,(T+1)) :- time((T+1)); observe(Agent,dead,T).\n",
      "observe(Agent1,dead,(T+1)) :- time((T+1)); occurs(Agent2,(shoot,Agent1),T); observe(Agent1,alive,T).\n"
     ]
    }
   ],
   "source": [
    "nodes = []\n",
    "clingo.ast.parse_string(yale, lambda stm: nodes.append(stm))\n",
    "print('\\n'.join(map(str, nodes)))"
   ],
   "metadata": {
    "collapsed": false,
    "pycharm": {
     "name": "#%%\n"
    }
   }
  },
  {
   "cell_type": "code",
   "execution_count": 9,
   "outputs": [
    {
     "name": "stdout",
     "output_type": "stream",
     "text": [
      "time(0). time(1). time(2). time(3). observe(alice,alive,0). observe(chicken,alive,0). observe(alice,alive,1). observe(chicken,alive,1). occurs(alice,(shoot,chicken),1). observe(alice,alive,2). observe(chicken,dead,2). observe(alice,alive,3). observe(chicken,dead,3).\n"
     ]
    }
   ],
   "source": [
    "model = models[0]\n",
    "print('. '.join(map(str, model)), '.', sep='')"
   ],
   "metadata": {
    "collapsed": false,
    "pycharm": {
     "name": "#%%\n"
    }
   }
  },
  {
   "cell_type": "code",
   "execution_count": 10,
   "outputs": [],
   "source": [
    "def ast_match(node: clingo.ast.AST, symbol: clingo.Symbol):\n",
    "    print(f\"{node} ({node.ast_type})\", '=?=', f\"{symbol} ({symbol.type})\")\n",
    "    if node.ast_type is clingo.ast.ASTType.SymbolicTerm:\n",
    "        return node.symbol == symbol\n",
    "    elif node.ast_type is clingo.ast.ASTType.Variable:\n",
    "        return True\n",
    "    elif node.ast_type is clingo.ast.ASTType.Function:\n",
    "        return ast_function_match(node, symbol)\n",
    "    elif node.ast_type is clingo.ast.ASTType.BinaryOperation:\n",
    "        return ast_descend_variable(node)\n",
    "    else:\n",
    "        return False\n",
    "\n",
    "\n",
    "def ast_descend_variable(node: clingo.ast.AST):\n",
    "    queue = [node]\n",
    "    while queue:\n",
    "        current = queue.pop()\n",
    "        if current.ast_type is clingo.ast.ASTType.Variable:\n",
    "            return True\n",
    "        elif current.ast_type is clingo.ast.ASTType.BinaryOperation:\n",
    "            queue.append(current.right)\n",
    "            queue.append(current.left)\n",
    "\n",
    "    return False\n",
    "\n",
    "\n",
    "def ast_function_match(function: clingo.ast.AST, symbol: clingo.Symbol):\n",
    "    if function.ast_type is not clingo.ast.ASTType.Function or symbol.type is not clingo.SymbolType.Function:\n",
    "        print(function.ast_type, '=x=', clingo.SymbolType)\n",
    "        return False\n",
    "    else:\n",
    "        matches = True\n",
    "        if function.name != symbol.name:\n",
    "            print(function.name, '=/=', symbol.name)\n",
    "            matches = False\n",
    "        if len(function.arguments) != len(symbol.arguments):\n",
    "            print(len(function.arguments), '=/=', len(symbol.arguments))\n",
    "            matches = False\n",
    "        for i in range(len(symbol.arguments)):\n",
    "            matches = matches and ast_match(function.arguments[i], symbol.arguments[i])\n",
    "        if matches:\n",
    "            print(function, '==', symbol)\n",
    "        return matches"
   ],
   "metadata": {
    "collapsed": false,
    "pycharm": {
     "name": "#%%\n"
    }
   }
  },
  {
   "cell_type": "code",
   "execution_count": 11,
   "outputs": [
    {
     "name": "stdout",
     "output_type": "stream",
     "text": [
      "observe(alice,alive,0)\n",
      "observe(chicken,alive,0)\n",
      "observe(alice,alive,1)\n",
      "observe(chicken,alive,1)\n",
      "observe(alice,alive,2)\n",
      "observe(chicken,dead,2)\n",
      "observe(alice,alive,3)\n",
      "observe(chicken,dead,3)\n"
     ]
    }
   ],
   "source": [
    "observations = [symbol for symbol in model if symbol.match('observe', 3)]\n",
    "print('\\n'.join(map(str, observations)))"
   ],
   "metadata": {
    "collapsed": false,
    "pycharm": {
     "name": "#%%\n"
    }
   }
  },
  {
   "cell_type": "code",
   "execution_count": 12,
   "outputs": [
    {
     "name": "stdout",
     "output_type": "stream",
     "text": [
      "observe(chicken,dead,3)\n"
     ]
    }
   ],
   "source": [
    "target_belief = observations[-1]\n",
    "print(target_belief)  # Why is the chicken dead at the end?"
   ],
   "metadata": {
    "collapsed": false,
    "pycharm": {
     "name": "#%%\n"
    }
   }
  },
  {
   "cell_type": "code",
   "execution_count": 13,
   "outputs": [
    {
     "name": "stdout",
     "output_type": "stream",
     "text": [
      "time((0..3)) (ASTType.Function) =?= observe(chicken,dead,3) (SymbolType.Function)\n",
      "time =/= observe\n",
      "1 =/= 3\n",
      "observe(chicken,alive,0) (ASTType.Function) =?= observe(chicken,dead,3) (SymbolType.Function)\n",
      "chicken (ASTType.SymbolicTerm) =?= chicken (SymbolType.Function)\n",
      "alive (ASTType.SymbolicTerm) =?= dead (SymbolType.Function)\n",
      "observe(alice,alive,0) (ASTType.Function) =?= observe(chicken,dead,3) (SymbolType.Function)\n",
      "alice (ASTType.SymbolicTerm) =?= chicken (SymbolType.Function)\n",
      "occurs(alice,(shoot,chicken),1) (ASTType.Function) =?= observe(chicken,dead,3) (SymbolType.Function)\n",
      "occurs =/= observe\n",
      "observe(Agent,alive,(T+1)) (ASTType.Function) =?= observe(chicken,dead,3) (SymbolType.Function)\n",
      "Agent (ASTType.Variable) =?= chicken (SymbolType.Function)\n",
      "alive (ASTType.SymbolicTerm) =?= dead (SymbolType.Function)\n",
      "observe(Agent,dead,(T+1)) (ASTType.Function) =?= observe(chicken,dead,3) (SymbolType.Function)\n",
      "Agent (ASTType.Variable) =?= chicken (SymbolType.Function)\n",
      "dead (ASTType.SymbolicTerm) =?= dead (SymbolType.Function)\n",
      "(T+1) (ASTType.BinaryOperation) =?= 3 (SymbolType.Number)\n",
      "observe(Agent,dead,(T+1)) == observe(chicken,dead,3)\n",
      "observe(Agent1,dead,(T+1)) (ASTType.Function) =?= observe(chicken,dead,3) (SymbolType.Function)\n",
      "Agent1 (ASTType.Variable) =?= chicken (SymbolType.Function)\n",
      "dead (ASTType.SymbolicTerm) =?= dead (SymbolType.Function)\n",
      "(T+1) (ASTType.BinaryOperation) =?= 3 (SymbolType.Number)\n",
      "observe(Agent1,dead,(T+1)) == observe(chicken,dead,3)\n"
     ]
    }
   ],
   "source": [
    "support_axioms = [node for node in nodes if\n",
    "                  node.ast_type is clingo.ast.ASTType.Rule and ast_match(node.head.atom.symbol, target_belief)]"
   ],
   "metadata": {
    "collapsed": false,
    "pycharm": {
     "name": "#%%\n"
    }
   }
  },
  {
   "cell_type": "code",
   "execution_count": 14,
   "outputs": [
    {
     "name": "stdout",
     "output_type": "stream",
     "text": [
      "observe(Agent,dead,(T+1)) :- time((T+1)); observe(Agent,dead,T).\n",
      "observe(Agent1,dead,(T+1)) :- time((T+1)); occurs(Agent2,(shoot,Agent1),T); observe(Agent1,alive,T).\n"
     ]
    }
   ],
   "source": [
    "print('\\n'.join(map(str, support_axioms)))"
   ],
   "metadata": {
    "collapsed": false,
    "pycharm": {
     "name": "#%%\n"
    }
   }
  },
  {
   "cell_type": "code",
   "execution_count": 15,
   "outputs": [],
   "source": [
    "pos = clingo.ast.Position('<string>', 1, 1)\n",
    "loc = clingo.ast.Location(pos, pos)"
   ],
   "metadata": {
    "collapsed": false,
    "pycharm": {
     "name": "#%%\n"
    }
   }
  },
  {
   "cell_type": "code",
   "execution_count": 16,
   "outputs": [],
   "source": [
    "ctl = clingo.Control()\n",
    "ctl.configuration.solve.models = 0"
   ],
   "metadata": {
    "collapsed": false,
    "pycharm": {
     "name": "#%%\n"
    }
   }
  },
  {
   "cell_type": "code",
   "execution_count": 17,
   "outputs": [],
   "source": [
    "with SymbolicBackend(ctl.backend()) as sb:\n",
    "    for fact in model:\n",
    "        sb.add_rule(head=[fact])"
   ],
   "metadata": {
    "collapsed": false,
    "pycharm": {
     "name": "#%%\n"
    }
   }
  },
  {
   "cell_type": "code",
   "execution_count": 18,
   "outputs": [],
   "source": [
    "class VariableRewriter(clingo.ast.Transformer):\n",
    "\n",
    "    def __init__(self, rewrite=None):\n",
    "        self.rewrite: Callable[[clingo.ast.AST], clingo.ast.AST] = rewrite or (lambda x: x)\n",
    "\n",
    "    def visit_Variable(self, variable: clingo.ast.AST):\n",
    "        return self.rewrite(variable)\n",
    "\n",
    "class BinaryOperationRewriter(clingo.ast.Transformer):\n",
    "\n",
    "    def visit_BinaryOperation(self, binop: clingo.ast.AST):\n",
    "        if binop.operator_type == clingo.ast.BinaryOperator.Plus:\n",
    "            return clingo.ast.Function(loc, 'plus', (binop.left, binop.right), False)\n",
    "        return binop"
   ],
   "metadata": {
    "collapsed": false,
    "pycharm": {
     "name": "#%%\n"
    }
   }
  },
  {
   "cell_type": "code",
   "execution_count": 19,
   "outputs": [],
   "source": [
    "def rewrite_to_any(variable: clingo.ast.AST, condition=True):\n",
    "    assert variable.ast_type is clingo.ast.ASTType.Variable\n",
    "    if (callable(condition) and condition(variable)) or (type(condition) == bool and condition):\n",
    "        print(\"Rewriting\", variable, \"to\", \"__any\")\n",
    "        return clingo.ast.SymbolicTerm(loc, clingo.Function('__any'))\n",
    "    else:\n",
    "        return variable\n",
    "\n",
    "\n",
    "def rewrite_to_varstr(variable: clingo.ast.AST, condition=True):\n",
    "    assert variable.ast_type is clingo.ast.ASTType.Variable\n",
    "    if (callable(condition) and condition(variable)) or (type(condition) == bool and condition):\n",
    "        print(\"Rewriting\", variable, \"to\", f'var(\"{variable}\")')\n",
    "        return clingo.ast.Function(loc, 'var', [clingo.ast.SymbolicTerm(loc, clingo.String(variable.name))], False)\n",
    "    else:\n",
    "        return variable\n",
    "\n",
    "to_varstr = VariableRewriter(rewrite_to_varstr)\n",
    "\n",
    "def debug_in(s, e):\n",
    "    is_in = e in s\n",
    "    if is_in:\n",
    "        print(e, 'in', s)\n",
    "    else:\n",
    "        print(e, 'not in', s)\n",
    "    return is_in\n"
   ],
   "metadata": {
    "collapsed": false,
    "pycharm": {
     "name": "#%%\n"
    }
   }
  },
  {
   "cell_type": "code",
   "execution_count": 20,
   "outputs": [
    {
     "name": "stdout",
     "output_type": "stream",
     "text": [
      "{'T', 'Agent'}\n",
      "Rewriting Agent to var(\"Agent\")\n",
      "Rewriting T to var(\"T\")\n",
      "{'T', 'Agent1'}\n",
      "{'T', 'Agent1'} < {'T', 'Agent1', 'Agent2'}\n",
      "Agent2 not in {'T', 'Agent1'}\n",
      "Rewriting Agent2 to __any\n",
      "Agent1 in {'T', 'Agent1'}\n",
      "T in {'T', 'Agent1'}\n",
      "Rewriting Agent1 to var(\"Agent1\")\n",
      "Rewriting T to var(\"T\")\n",
      "__fires(observe,(Agent,dead,(T+1))) :- time((T+1)); observe(Agent,dead,T).\n",
      "__holds(0,time,((T+1),)) :- __fires(observe,(Agent,dead,(T+1))).\n",
      "__holds(0,observe,(Agent,dead,T)) :- __fires(observe,(Agent,dead,(T+1))).\n",
      "__fires(observe,(var(\"Agent\"),dead,plus(var(\"T\"),1))) :- __fires(observe,(Agent,dead,(T+1))).\n",
      "__fires(observe,(Agent1,dead,(T+1))) :- time((T+1)); occurs(Agent2,(shoot,Agent1),T); observe(Agent1,alive,T).\n",
      "__holds(0,time,((T+1),)) :- __fires(observe,(Agent1,dead,(T+1))).\n",
      "__holds(0,occurs,(__any,(shoot,Agent1),T)) :- __fires(observe,(Agent1,dead,(T+1))).\n",
      "__holds(0,observe,(Agent1,alive,T)) :- __fires(observe,(Agent1,dead,(T+1))).\n",
      "__fires(observe,(var(\"Agent1\"),dead,plus(var(\"T\"),1))) :- __fires(observe,(Agent1,dead,(T+1))).\n"
     ]
    }
   ],
   "source": [
    "rules = []\n",
    "for support_axiom in support_axioms:\n",
    "    head = support_axiom.head.atom.symbol\n",
    "    head_name = clingo.ast.SymbolicTerm(loc, clingo.Function(head.name))\n",
    "    head_parameters = head.arguments\n",
    "    body = support_axiom.body\n",
    "    fires_head = clingo.ast.Literal(loc, sign=0, atom=clingo.ast.SymbolicAtom(\n",
    "        clingo.ast.Function(loc, '__fires', (head_name, clingo.ast.Function(loc, '', head_parameters, False)), False)))\n",
    "    fires_rule = clingo.ast.Rule(loc, fires_head, body)\n",
    "    rules.append(fires_rule)\n",
    "    holds_body_variables = set()\n",
    "    for symbolic_atom in head_parameters:\n",
    "        queue = [symbolic_atom]\n",
    "        while queue:\n",
    "            current = queue.pop()\n",
    "            if current.ast_type is clingo.ast.ASTType.Variable:\n",
    "                holds_body_variables.add(current.name)\n",
    "            elif current.ast_type is clingo.ast.ASTType.BinaryOperation:\n",
    "                queue.append(current.left)\n",
    "                queue.append(current.right)\n",
    "            elif current.ast_type is clingo.ast.ASTType.Function:\n",
    "                queue.extend(current.arguments)\n",
    "    print(holds_body_variables)\n",
    "    holds_head_variables = []\n",
    "    holds_rules = []\n",
    "    for literal in body:\n",
    "        symbol = literal.atom.symbol\n",
    "        name = symbol.name\n",
    "        args = symbol.arguments\n",
    "        body_parameters = []\n",
    "        body_variables = set()\n",
    "        for symbolic_atom in args:\n",
    "            queue = [symbolic_atom]\n",
    "            while queue:\n",
    "                current = queue.pop()\n",
    "                if current.ast_type is clingo.ast.ASTType.Variable:\n",
    "                    body_variables.add(current.name)\n",
    "                elif current.ast_type is clingo.ast.ASTType.BinaryOperation:\n",
    "                    queue.append(current.left)\n",
    "                    queue.append(current.right)\n",
    "                elif current.ast_type is clingo.ast.ASTType.Function:\n",
    "                    queue.extend(current.arguments)\n",
    "\n",
    "        holds_head_variables.append(body_variables)\n",
    "        if holds_body_variables < body_variables:\n",
    "            print(holds_body_variables, '<', body_variables)\n",
    "            toAny = VariableRewriter(\n",
    "                functools.partial(rewrite_to_any, condition=lambda v: not debug_in(holds_body_variables, v.name)))\n",
    "            for arg in args:\n",
    "                body_parameters.append(toAny.visit(arg))\n",
    "        else:\n",
    "            body_parameters.extend(args)\n",
    "\n",
    "        holds_head = clingo.ast.Literal(loc, sign=0, atom=clingo.ast.SymbolicAtom(\n",
    "            clingo.ast.Function(loc, '__holds', (\n",
    "                clingo.ast.SymbolicTerm(loc, clingo.Number(literal.sign)),\n",
    "                clingo.ast.SymbolicTerm(loc, clingo.Function(name)),\n",
    "                clingo.ast.Function(loc, '', body_parameters, False)\n",
    "            ), False)\n",
    "        ))\n",
    "        holds_rule = clingo.ast.Rule(loc, holds_head, (fires_head,))\n",
    "        holds_rules.append(holds_rule)\n",
    "    rules.extend(holds_rules)\n",
    "\n",
    "    rule_fires_head = BinaryOperationRewriter().visit(to_varstr.visit(fires_head))\n",
    "    rule_fires_rule = clingo.ast.Rule(loc, rule_fires_head, (fires_head,))\n",
    "    rules.append(rule_fires_rule)\n",
    "\n",
    "print('\\n'.join(map(str, rules)))"
   ],
   "metadata": {
    "collapsed": false,
    "pycharm": {
     "name": "#%%\n"
    }
   }
  },
  {
   "cell_type": "code",
   "execution_count": 21,
   "outputs": [],
   "source": [
    "with ProgramBuilder(ctl) as pb:\n",
    "    for rule in rules:\n",
    "        pb.add(rule)"
   ],
   "metadata": {
    "collapsed": false,
    "pycharm": {
     "name": "#%%\n"
    }
   }
  },
  {
   "cell_type": "code",
   "execution_count": 22,
   "outputs": [],
   "source": [
    "ctl.add('base', (), '#show __fires/2. #show __holds/3.')"
   ],
   "metadata": {
    "collapsed": false,
    "pycharm": {
     "name": "#%%\n"
    }
   }
  },
  {
   "cell_type": "code",
   "execution_count": 23,
   "outputs": [
    {
     "name": "stdout",
     "output_type": "stream",
     "text": [
      "Answer 1: { __fires(observe,(chicken,dead,2)) __fires(observe,(chicken,dead,3)) __fires(observe,(var(\"Agent\"),dead,plus(var(\"T\"),1))) __fires(observe,(var(\"Agent1\"),dead,plus(var(\"T\"),1))) __holds(0,observe,(chicken,alive,1)) __holds(0,observe,(chicken,alive,2)) __holds(0,observe,(chicken,dead,1)) __holds(0,observe,(chicken,dead,2)) __holds(0,occurs,(__any,(shoot,chicken),1)) __holds(0,occurs,(__any,(shoot,chicken),2)) __holds(0,time,(2,)) __holds(0,time,(3,)) }\n",
      "SAT\n"
     ]
    }
   ],
   "source": [
    "ctl.ground([('base', [])])\n",
    "with ctl.solve(yield_=True) as solve_handle:\n",
    "    models = []\n",
    "    for model in solve_handle:\n",
    "        symbols = model.symbols(shown=True)\n",
    "        print(\"Answer {}:\".format(model.number), \"{\",\n",
    "              ' '.join(map(str, sorted(symbols))), \"}\")\n",
    "        models.append(symbols)\n",
    "    solve_result = solve_handle.get()\n",
    "    print(solve_result)\n"
   ],
   "metadata": {
    "collapsed": false,
    "pycharm": {
     "name": "#%%\n"
    }
   }
  },
  {
   "cell_type": "code",
   "execution_count": 24,
   "outputs": [
    {
     "name": "stdout",
     "output_type": "stream",
     "text": [
      "Answer 1: {\n",
      "__fires(observe,(chicken,dead,2))\n",
      "__fires(observe,(chicken,dead,3))\n",
      "__fires(observe,(var(\"Agent\"),dead,plus(var(\"T\"),1)))\n",
      "__fires(observe,(var(\"Agent1\"),dead,plus(var(\"T\"),1)))\n",
      "__holds(0,observe,(chicken,alive,1))\n",
      "__holds(0,observe,(chicken,alive,2))\n",
      "__holds(0,observe,(chicken,dead,1))\n",
      "__holds(0,observe,(chicken,dead,2))\n",
      "__holds(0,occurs,(__any,(shoot,chicken),1))\n",
      "__holds(0,occurs,(__any,(shoot,chicken),2))\n",
      "__holds(0,time,(2,))\n",
      "__holds(0,time,(3,))\n",
      "}\n",
      "SAT 1\n"
     ]
    }
   ],
   "source": [
    "with ctl.solve(yield_=True) as solve_handle:\n",
    "    models = []\n",
    "    for model in solve_handle:\n",
    "        symbols = sorted(sorted(model.symbols(shown=True)), key=functools.partial(temporal, default=-1))\n",
    "        print(\"Answer {}:\".format(model.number), end=' ')\n",
    "        print(\"{\",\n",
    "              '\\n'.join(map(str, symbols)), \"}\", sep='\\n')\n",
    "        models.append(symbols)\n",
    "    solve_result = solve_handle.get()\n",
    "    print(solve_result, end='')\n",
    "    if models:\n",
    "        print(\" {}{}\".format(len(models), '' if solve_result.exhausted else '+'))"
   ],
   "metadata": {
    "collapsed": false,
    "pycharm": {
     "name": "#%%\n"
    }
   }
  },
  {
   "cell_type": "code",
   "execution_count": 24,
   "outputs": [],
   "source": [],
   "metadata": {
    "collapsed": false,
    "pycharm": {
     "name": "#%%\n"
    }
   }
  }
 ],
 "metadata": {
  "kernelspec": {
   "display_name": "Python 3",
   "language": "python",
   "name": "python3"
  },
  "language_info": {
   "codemirror_mode": {
    "name": "ipython",
    "version": 2
   },
   "file_extension": ".py",
   "mimetype": "text/x-python",
   "name": "python",
   "nbconvert_exporter": "python",
   "pygments_lexer": "ipython2",
   "version": "2.7.6"
  }
 },
 "nbformat": 4,
 "nbformat_minor": 0
}