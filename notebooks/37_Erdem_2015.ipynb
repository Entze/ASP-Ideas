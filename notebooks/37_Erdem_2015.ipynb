{
 "cells": [
  {
   "cell_type": "code",
   "execution_count": 1,
   "outputs": [],
   "source": [
    "import copy\n",
    "from dataclasses import dataclass, field\n",
    "from enum import IntEnum\n",
    "from typing import TypeVar, Sequence, Optional, Dict, Mapping, MutableMapping, MutableSequence, List, Iterator\n",
    "\n",
    "import clingo\n"
   ],
   "metadata": {
    "collapsed": false,
    "pycharm": {
     "name": "#%%\n"
    }
   }
  },
  {
   "cell_type": "code",
   "execution_count": 2,
   "outputs": [],
   "source": [
    "ForwardSymbol = TypeVar('ForwardSymbol', bound='Symbol')\n",
    "\n",
    "\n",
    "class Symbol:\n",
    "    def is_function(self) -> bool:\n",
    "        return isinstance(self, Function)\n",
    "\n",
    "    def is_unary_operation(self) -> bool:\n",
    "        return isinstance(self, UnaryOperation)\n",
    "\n",
    "    def is_variable(self) -> bool:\n",
    "        return isinstance(self, Variable)\n",
    "\n",
    "    @classmethod\n",
    "    def from_clingo_symbol(cls, symbol: clingo.Symbol) -> ForwardSymbol:\n",
    "        if symbol.type is clingo.SymbolType.Function:\n",
    "            name: str = symbol.name\n",
    "            arguments = tuple(SubSymbol.from_clingo_symbol(argument) for argument in symbol.arguments)\n",
    "            return Function(name, arguments)\n",
    "        else:\n",
    "            assert False, \"Unknown clingo.SymbolType {}.\".format(symbol.type)\n",
    "\n",
    "\n",
    "class SubSymbol(Symbol):\n",
    "\n",
    "    @classmethod\n",
    "    def from_clingo_symbol(cls, symbol: clingo.Symbol) -> ForwardSymbol:\n",
    "        if symbol.type is clingo.SymbolType.Number:\n",
    "            return Term(IntegerConstant(symbol.number))\n",
    "        elif symbol.type is clingo.SymbolType.Function:\n",
    "            return Symbol.from_clingo_symbol(symbol)\n",
    "        else:\n",
    "            assert False, \"Unknown clingo.SymbolType {}.\".format(symbol.type)\n"
   ],
   "metadata": {
    "collapsed": false,
    "pycharm": {
     "name": "#%%\n"
    }
   }
  },
  {
   "cell_type": "code",
   "execution_count": 3,
   "outputs": [],
   "source": [
    "@dataclass(frozen=True, order=True)\n",
    "class Variable(SubSymbol):\n",
    "    name: str\n",
    "\n",
    "    def __str__(self):\n",
    "        return self.name\n",
    "\n",
    "\n",
    "@dataclass(frozen=True, order=True)\n",
    "class IntegerConstant:\n",
    "    number: int = 0\n",
    "\n",
    "    def __str__(self):\n",
    "        return str(self.number)\n",
    "\n",
    "\n",
    "@dataclass(frozen=True, order=True)\n",
    "class Term(SubSymbol):\n",
    "    constant: IntegerConstant = field(default=IntegerConstant())\n",
    "\n",
    "    def __str__(self):\n",
    "        return str(self.constant)"
   ],
   "metadata": {
    "collapsed": false,
    "pycharm": {
     "name": "#%%\n"
    }
   }
  },
  {
   "cell_type": "code",
   "execution_count": 4,
   "outputs": [],
   "source": [
    "ForwardAtom = TypeVar('ForwardAtom', bound='Atom')\n",
    "ForwardFunction = TypeVar('ForwardFunction', bound='Function')\n",
    "ForwardUnaryOperator = TypeVar('ForwardUnaryOperator', bound='UnaryOperator')\n",
    "\n",
    "\n",
    "@dataclass\n",
    "class Function(Symbol):\n",
    "    name: Optional[str] = None\n",
    "    arguments: Sequence[SubSymbol] = ()\n",
    "\n",
    "    @property\n",
    "    def arity(self):\n",
    "        return len(self.arguments)\n",
    "\n",
    "    def __str__(self):\n",
    "        if self.name is None and not self.arguments:\n",
    "            return \"()\"\n",
    "        elif self.name is not None and not self.arguments:\n",
    "            return self.name\n",
    "        elif self.name is None and self.arguments:\n",
    "            return \"({})\".format(','.join(map(str, self.arguments)))\n",
    "        else:\n",
    "            return \"{}({})\".format(self.name, ','.join(map(str, self.arguments)))\n",
    "\n",
    "    def match(self, name: Optional[str], arity: int = 0) -> bool:\n",
    "        return name == self.name and arity == len(self.arguments)\n",
    "\n",
    "    def match_signature(self, other: ForwardFunction) -> bool:\n",
    "        return self.match(other.name, other.arity)\n",
    "\n",
    "    def recursive_rename(self, new_name: Optional[str], name: Optional[str], arity: int = 0) -> ForwardFunction:\n",
    "        stack: List[Function] = [self]\n",
    "        while stack:\n",
    "            current: Function = stack.pop()\n",
    "            if current.match(name, arity):\n",
    "                current.name = new_name\n",
    "            for arg in current.arguments:\n",
    "                if isinstance(arg, Function):\n",
    "                    stack.append(arg)\n",
    "        return self\n",
    "\n",
    "\n",
    "class UnaryOperatorType(IntEnum):\n",
    "    Minus = 1\n",
    "\n",
    "\n",
    "@dataclass\n",
    "class UnaryOperation:\n",
    "    operator: UnaryOperatorType\n",
    "    argument: SubSymbol\n",
    "\n",
    "    def __str__(self) -> str:\n",
    "        if self.operator is UnaryOperatorType.Minus:\n",
    "            return \"(-{})\".format(self.argument)\n",
    "        else:\n",
    "            assert False, \"Unknown UnaryOperatorType {}.\".format(self.operator)\n",
    "\n",
    "\n",
    "class BinaryOperatorType(IntEnum):\n",
    "    Plus = 2\n",
    "\n",
    "\n",
    "@dataclass\n",
    "class BinaryOperation:\n",
    "    left: SubSymbol\n",
    "    operator: BinaryOperatorType\n",
    "    right: SubSymbol\n",
    "\n",
    "    def __str__(self) -> str:\n",
    "        if self.operator is BinaryOperatorType.Plus:\n",
    "            return \"({}+{})\".format(self.left, self.right)\n"
   ],
   "metadata": {
    "collapsed": false,
    "pycharm": {
     "name": "#%%\n"
    }
   }
  },
  {
   "cell_type": "code",
   "execution_count": 5,
   "outputs": [],
   "source": [
    "@dataclass\n",
    "class Atom:\n",
    "    symbol: Symbol = field(default_factory=Function)\n",
    "\n",
    "    def __str__(self) -> str:\n",
    "        return str(self.symbol)\n",
    "\n",
    "    def is_function(self) -> bool:\n",
    "        return isinstance(self.symbol, Function)\n",
    "\n",
    "    def is_unary_operation(self) -> bool:\n",
    "        return isinstance(self.symbol, UnaryOperation)\n",
    "\n",
    "    def get_top_function(self) -> Function:\n",
    "        current = self.symbol\n",
    "        while not isinstance(current, Function):\n",
    "            if isinstance(current, UnaryOperation):\n",
    "                current = current.argument\n",
    "            else:\n",
    "                assert False, \"Unknown Type {} for Symbol {}.\".format(type(current).__name__, current)\n",
    "        return current\n",
    "\n",
    "    def fill(self, env: Mapping[Variable, SubSymbol]) -> ForwardAtom:\n",
    "        stack: List[SubSymbol] = [self.get_top_function()]\n",
    "        while stack:\n",
    "            current: SubSymbol = stack.pop()\n",
    "            if current.is_function():\n",
    "                assert isinstance(current, Function)\n",
    "                arguments = list(current.arguments)\n",
    "                i = 0\n",
    "                while i < current.arity:\n",
    "                    arg = arguments[i]\n",
    "                    if arg.is_variable() and arg in env:\n",
    "                        arguments[i] = env[arg]\n",
    "                    else:\n",
    "                        stack.append(arg)\n",
    "                    i += 1\n",
    "                assert len(current.arguments) == len(\n",
    "                    arguments), \"Function.fill should not change arity of Function.\"\n",
    "                current.arguments = arguments\n",
    "            elif current.is_unary_operation():\n",
    "                assert isinstance(current, UnaryOperation)\n",
    "                if current.argument.is_variable():\n",
    "                    current.argument = env[current.argument]\n",
    "                else:\n",
    "                    stack.append(current.argument)\n",
    "        return self\n",
    "\n",
    "    @staticmethod\n",
    "    def from_clingo_symbol(symbol: clingo.Symbol) -> ForwardAtom:\n",
    "        assert symbol.type is clingo.SymbolType.Function, \"clingo.Symbol {} should have type {}, but has type {}.\".format(\n",
    "            symbol, clingo.SymbolType.Function, symbol.type)\n",
    "        return Atom(Symbol.from_clingo_symbol(symbol))\n",
    "\n",
    "\n"
   ],
   "metadata": {
    "collapsed": false,
    "pycharm": {
     "name": "#%%\n"
    }
   }
  },
  {
   "cell_type": "code",
   "execution_count": 6,
   "outputs": [],
   "source": [
    "class Sign(IntEnum):\n",
    "    NoSign = 0\n",
    "    DefaultNeg = 1"
   ],
   "metadata": {
    "collapsed": false,
    "pycharm": {
     "name": "#%%\n"
    }
   }
  },
  {
   "cell_type": "code",
   "execution_count": 7,
   "outputs": [],
   "source": [
    "@dataclass\n",
    "class Literal:\n",
    "    atom: Atom = field(default_factory=Atom)\n",
    "    sign: Sign = Sign.NoSign\n",
    "\n",
    "    def __str__(self):\n",
    "        if self.sign is Sign.DefaultNeg:\n",
    "            return \"not {}\".format(self.atom)\n",
    "        return str(self.atom)\n",
    "\n",
    "    def __abs__(self):\n",
    "        return Literal(sign=Sign.NoSign, atom=copy.deepcopy(self.atom))"
   ],
   "metadata": {
    "collapsed": false,
    "pycharm": {
     "name": "#%%\n"
    }
   }
  },
  {
   "cell_type": "code",
   "execution_count": 8,
   "outputs": [],
   "source": [
    "ForwardRule = TypeVar('ForwardRule', bound='Rule')\n",
    "\n",
    "\n",
    "@dataclass\n",
    "class Rule:\n",
    "    head: Optional[Literal] = None\n",
    "    body: MutableSequence[Literal] = ()\n",
    "\n",
    "    def __str__(self) -> str:\n",
    "        if self.head is None and not self.body:\n",
    "            return \":-.\"\n",
    "        elif self.head is None:\n",
    "            return \":- {}.\".format(', '.join(map(str, self.body)))\n",
    "        elif not self.body:\n",
    "            return \"{}.\".format(self.head)\n",
    "        else:\n",
    "            return \"{} :- {}.\".format(self.head, ', '.join(map(str, self.body)))\n",
    "\n",
    "    def is_ground(self) -> bool:\n",
    "        pass\n",
    "\n",
    "    def is_fact(self) -> bool:\n",
    "        return self.head is not None and not self.body\n",
    "\n",
    "    def is_constraint(self) -> bool:\n",
    "        return self.head is None\n",
    "\n",
    "    def is_normal_rule(self) -> bool:\n",
    "        return self.head is not None and self.body\n",
    "\n",
    "    def substitute(self, env: Mapping[Variable, Atom]) -> ForwardRule:\n",
    "        if self.head is not None:\n",
    "            top_function = self.head.atom.get_top_function()\n",
    "            top_function.fill(env)\n",
    "        for literal in self.body:\n",
    "            top_function = literal.atom.get_top_function()\n",
    "            top_function.fill(env)\n",
    "\n",
    "        return self\n",
    "\n",
    "    def rename_atoms(self, new_name: Optional[str], name: Optional[str], arity: int = 0, head=True,\n",
    "                     body=True) -> ForwardRule:\n",
    "        if head:\n",
    "            if self.head is not None:\n",
    "                top_function: Function = self.head.atom.get_top_function()\n",
    "                top_function.recursive_rename(new_name, name, arity)\n",
    "        if body:\n",
    "            for literal in self.body:\n",
    "                top_function = literal.atom.get_top_function()\n",
    "                top_function.recursive_rename(new_name, name, arity)\n",
    "        return self\n",
    "\n",
    "    def postulate(self) -> ForwardRule:\n",
    "        self.body.clear()\n",
    "        return self"
   ],
   "metadata": {
    "collapsed": false,
    "pycharm": {
     "name": "#%%\n"
    }
   }
  },
  {
   "cell_type": "code",
   "execution_count": 9,
   "outputs": [],
   "source": [
    "ForwardGoal = TypeVar('ForwardGoal', bound='Goal')\n",
    "\n",
    "\n",
    "@dataclass\n",
    "class Goal:\n",
    "    rule: Optional[Rule] = None\n",
    "    parent: Optional[ForwardGoal] = field(default=None, repr=False)\n",
    "    children: Sequence[ForwardGoal] = field(default_factory=list, repr=False)\n",
    "    env: Dict[Variable, Term] = field(default_factory=dict)\n",
    "    inx: int = field(default=0, repr=False)\n",
    "\n",
    "\n",
    "ProofTree = Goal"
   ],
   "metadata": {
    "collapsed": false,
    "pycharm": {
     "name": "#%%\n"
    }
   }
  },
  {
   "cell_type": "code",
   "execution_count": 10,
   "outputs": [],
   "source": [
    "def unify(src_atom: Atom, src_env: Mapping[Variable, Atom], dest_atom: Atom,\n",
    "          dest_env: Optional[MutableMapping[Variable, Atom]] = None) -> bool:\n",
    "    src_symbol = src_atom.symbol\n",
    "    dest_symbol = dest_atom.symbol\n",
    "    if not isinstance(src_symbol, Function):\n",
    "        return False\n",
    "    if not isinstance(dest_symbol, Function):\n",
    "        return False\n",
    "    assert isinstance(src_symbol, Function)\n",
    "    if not src_symbol.match_signature(dest_symbol):\n",
    "        return False\n",
    "    if dest_env is None:\n",
    "        dest_env = {}\n",
    "    for i in range(src_symbol.arity):\n",
    "        src_arg = src_symbol.arguments[i]\n",
    "        dest_arg = dest_symbol.arguments[i]\n",
    "        if isinstance(src_arg, Variable):\n",
    "            src_val = src_env.get(src_arg)\n",
    "        else:\n",
    "            src_val = src_arg\n",
    "        if src_val is not None:\n",
    "            if isinstance(dest_arg, Variable):\n",
    "                dest_val = dest_env.get(dest_arg)\n",
    "                if dest_val is None:\n",
    "                    dest_env[dest_arg] = src_val\n",
    "                elif dest_val != src_val:\n",
    "                    return False\n",
    "            elif dest_arg != src_val:\n",
    "                return False\n",
    "    return True"
   ],
   "metadata": {
    "collapsed": false,
    "pycharm": {
     "name": "#%%\n"
    }
   }
  },
  {
   "cell_type": "code",
   "execution_count": 11,
   "outputs": [],
   "source": [
    "def search(atom: Atom, rules: Sequence[Rule] = ()) -> Sequence[ProofTree]:\n",
    "    root = Goal(rule=Rule(head=Literal(), body=[Literal(atom=atom)]))\n",
    "    proof_trees = []\n",
    "    stack = [root]\n",
    "    while stack:\n",
    "        current = stack.pop()\n",
    "        if current.inx >= len(current.rule.body):\n",
    "            if current.parent is None:\n",
    "                if current.env:\n",
    "                    print(current.env)\n",
    "                else:\n",
    "                    print(\"Yes\")\n",
    "                proof_trees.append(current)\n",
    "            else:\n",
    "                parent = copy.deepcopy(current.parent)\n",
    "                unify(current.rule.head.atom, current.env, parent.rule.body[parent.inx].atom, parent.env)\n",
    "                parent.inx += 1\n",
    "                stack.append(parent)\n",
    "        else:\n",
    "            atom = current.rule.body[current.inx].atom\n",
    "            for rule in rules:\n",
    "                child_env = {}\n",
    "                unifiable = unify(atom, current.env, rule.head.atom, child_env)\n",
    "                if unifiable:\n",
    "                    child = Goal(env=child_env, parent=current, rule=rule)\n",
    "                    current.children.append(child)\n",
    "                    stack.append(child)\n",
    "    if not proof_trees:\n",
    "        print(\"No\")\n",
    "    return proof_trees"
   ],
   "metadata": {
    "collapsed": false,
    "pycharm": {
     "name": "#%%\n"
    }
   }
  },
  {
   "cell_type": "code",
   "execution_count": 12,
   "outputs": [],
   "source": [
    "@dataclass\n",
    "class Program:\n",
    "    rules: MutableSequence[Rule] = field(default_factory=list)\n",
    "\n",
    "    def __str__(self):\n",
    "        return ' '.join(map(str, self.rules))\n",
    "\n",
    "    def facts(self) -> Iterator[Atom]:\n",
    "        for rule in self.rules:\n",
    "            if rule.is_fact():\n",
    "                yield rule\n",
    "\n",
    "    def query(self, atom):\n",
    "        prooftrees = search(atom, self.rules)\n",
    "        envs = [prooftree.env for prooftree in prooftrees]\n",
    "        return envs\n",
    "\n",
    "    def evaluate_backwards(self, atom) -> Sequence[Atom]:\n",
    "        prooftrees = search(atom, self.rules)\n",
    "        answers = []\n",
    "        for prooftree in prooftrees:\n",
    "            stack = [prooftree]\n",
    "            while stack:\n",
    "                current = stack.pop()\n",
    "                env = current.env\n",
    "                for literal in current.body:\n",
    "                    fact = Rule(head=literal)\n",
    "                    fact.substitute(env)\n",
    "                    if fact.is_ground() and fact not in answers:\n",
    "                        answers.append(fact)\n",
    "                stack.extend(current.children)\n",
    "        return answers\n",
    "\n",
    "    def evaluate_forwards(self) -> Iterator[Sequence[Atom]]:\n",
    "        ctl = clingo.Control()\n",
    "        ctl.configuration.solve.models = 0\n",
    "        ctl.add('base', [], str(self))\n",
    "        ctl.ground([('base', [])])\n",
    "        with ctl.solve(yield_=True) as solve_handle:\n",
    "            for model in solve_handle:\n",
    "                symbols = sorted(model.symbols(shown=True))\n",
    "                atoms = tuple(Atom.from_clingo_symbol(symbol) for symbol in symbols)\n",
    "                yield atoms\n",
    "\n"
   ],
   "metadata": {
    "collapsed": false,
    "pycharm": {
     "name": "#%%\n"
    }
   }
  },
  {
   "cell_type": "code",
   "execution_count": 13,
   "outputs": [
    {
     "name": "stdout",
     "output_type": "stream",
     "text": [
      "child(X,Y) :- mother(Y,X). child(X,Y) :- father(Y,X). son(X,Y) :- child(X,Y), boy(X). boy(bill). boy(frank). mother(alice,bill). father(alex,bill).\n",
      "son(bill,A)?\n"
     ]
    }
   ],
   "source": [
    "X = Variable('X')\n",
    "Y = Variable('Y')\n",
    "A = Variable('A')\n",
    "bill = Function('bill')\n",
    "frank = Function('frank')\n",
    "alice = Function('alice')\n",
    "alex = Function('alex')\n",
    "\n",
    "program = Program([\n",
    "    Rule(head=Literal(atom=Atom(Function('child', (X, Y)))),\n",
    "         body=[Literal(atom=Atom(Function('mother', (Y, X))))]),\n",
    "    Rule(head=Literal(atom=Atom(Function('child', (X, Y)))),\n",
    "         body=[Literal(atom=Atom(Function('father', (Y, X))))]),\n",
    "\n",
    "    Rule(head=Literal(atom=Atom(Function('son', (X, Y)))),\n",
    "         body=[Literal(atom=Atom(Function('child', (X, Y)))), Literal(atom=Atom(Function('boy', (X,))))]),\n",
    "\n",
    "    Rule(head=Literal(atom=Atom(Function('boy', (bill,))))),\n",
    "    Rule(head=Literal(atom=Atom(Function('boy', (frank,))))),\n",
    "    Rule(head=Literal(atom=Atom(Function('mother', (alice, bill))))),\n",
    "    Rule(head=Literal(atom=Atom(Function('father', (alex, bill)))))\n",
    "])\n",
    "print(program)\n",
    "\n",
    "search_atom = Atom(Function('son', (bill, A)))\n",
    "print(f\"{search_atom}?\")"
   ],
   "metadata": {
    "collapsed": false,
    "pycharm": {
     "name": "#%%\n"
    }
   }
  },
  {
   "cell_type": "code",
   "execution_count": 14,
   "outputs": [
    {
     "name": "stdout",
     "output_type": "stream",
     "text": [
      "{Variable(name='A'): Function(name='alex', arguments=())}\n",
      "{Variable(name='A'): Function(name='alice', arguments=())}\n"
     ]
    },
    {
     "data": {
      "text/plain": "[{Variable(name='A'): Function(name='alex', arguments=())},\n {Variable(name='A'): Function(name='alice', arguments=())}]"
     },
     "execution_count": 14,
     "metadata": {},
     "output_type": "execute_result"
    }
   ],
   "source": [
    "program.query(search_atom)"
   ],
   "metadata": {
    "collapsed": false,
    "pycharm": {
     "name": "#%%\n"
    }
   }
  },
  {
   "cell_type": "code",
   "execution_count": 15,
   "outputs": [
    {
     "name": "stdout",
     "output_type": "stream",
     "text": [
      "boy(bill) boy(frank) child(bill,alex) child(bill,alice) father(alex,bill) mother(alice,bill) son(bill,alex) son(bill,alice)\n"
     ]
    }
   ],
   "source": [
    "models = list(program.evaluate_forwards())\n",
    "print(' '.join(map(str, models[0])))"
   ],
   "metadata": {
    "collapsed": false,
    "pycharm": {
     "name": "#%%\n"
    }
   }
  },
  {
   "cell_type": "code",
   "execution_count": 16,
   "outputs": [
    {
     "data": {
      "text/plain": "[(Atom(symbol=Function(name='boy', arguments=(Function(name='bill', arguments=()),))),\n  Atom(symbol=Function(name='boy', arguments=(Function(name='frank', arguments=()),))),\n  Atom(symbol=Function(name='child', arguments=(Function(name='bill', arguments=()), Function(name='alex', arguments=())))),\n  Atom(symbol=Function(name='child', arguments=(Function(name='bill', arguments=()), Function(name='alice', arguments=())))),\n  Atom(symbol=Function(name='father', arguments=(Function(name='alex', arguments=()), Function(name='bill', arguments=())))),\n  Atom(symbol=Function(name='mother', arguments=(Function(name='alice', arguments=()), Function(name='bill', arguments=())))),\n  Atom(symbol=Function(name='son', arguments=(Function(name='bill', arguments=()), Function(name='alex', arguments=())))),\n  Atom(symbol=Function(name='son', arguments=(Function(name='bill', arguments=()), Function(name='alice', arguments=())))))]"
     },
     "execution_count": 16,
     "metadata": {},
     "output_type": "execute_result"
    }
   ],
   "source": [
    "models"
   ],
   "metadata": {
    "collapsed": false,
    "pycharm": {
     "name": "#%%\n"
    }
   }
  }
 ],
 "metadata": {
  "kernelspec": {
   "display_name": "Python 3",
   "language": "python",
   "name": "python3"
  },
  "language_info": {
   "codemirror_mode": {
    "name": "ipython",
    "version": 2
   },
   "file_extension": ".py",
   "mimetype": "text/x-python",
   "name": "python",
   "nbconvert_exporter": "python",
   "pygments_lexer": "ipython2",
   "version": "2.7.6"
  }
 },
 "nbformat": 4,
 "nbformat_minor": 0
}