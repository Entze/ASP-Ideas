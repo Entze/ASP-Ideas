{
 "cells": [
  {
   "cell_type": "code",
   "execution_count": 14,
   "metadata": {
    "collapsed": true
   },
   "outputs": [],
   "source": [
    "\n",
    "from typing import SupportsIndex, Optional\n",
    "\n",
    "import clingo\n",
    "import clingo.ast\n",
    "from clingo.ast import ProgramBuilder"
   ]
  },
  {
   "cell_type": "code",
   "execution_count": 15,
   "outputs": [],
   "source": [
    "program = \"\"\"\n",
    "\n",
    "head1(X,Y,Z) :- body1(X), body2(Y), body3(Z).\n",
    "\n",
    "head2(X) :- body1(X), body2(X-1).\n",
    "\n",
    "head3(X) :- body4(X).\n",
    "\n",
    "\"\"\""
   ],
   "metadata": {
    "collapsed": false,
    "pycharm": {
     "name": "#%%\n"
    }
   }
  },
  {
   "cell_type": "code",
   "execution_count": 16,
   "outputs": [],
   "source": [
    "def get_parsed_program(program: str):\n",
    "    nodes = []\n",
    "    clingo.ast.parse_string(program, lambda stm: nodes.append(stm))\n",
    "    return nodes"
   ],
   "metadata": {
    "collapsed": false,
    "pycharm": {
     "name": "#%%\n"
    }
   }
  },
  {
   "cell_type": "code",
   "execution_count": 17,
   "outputs": [
    {
     "data": {
      "text/plain": "[ast.Program(Location(begin=Position(filename='<string>', line=1, column=1), end=Position(filename='<string>', line=1, column=1)), 'base', []),\n ast.Rule(Location(begin=Position(filename='<string>', line=3, column=1), end=Position(filename='<string>', line=3, column=46)), ast.Literal(Location(begin=Position(filename='<string>', line=3, column=1), end=Position(filename='<string>', line=3, column=13)), 0, ast.SymbolicAtom(ast.Function(Location(begin=Position(filename='<string>', line=3, column=1), end=Position(filename='<string>', line=3, column=13)), 'head1', [ast.Variable(Location(begin=Position(filename='<string>', line=3, column=7), end=Position(filename='<string>', line=3, column=8)), 'X'), ast.Variable(Location(begin=Position(filename='<string>', line=3, column=9), end=Position(filename='<string>', line=3, column=10)), 'Y'), ast.Variable(Location(begin=Position(filename='<string>', line=3, column=11), end=Position(filename='<string>', line=3, column=12)), 'Z')], 0))), [ast.Literal(Location(begin=Position(filename='<string>', line=3, column=17), end=Position(filename='<string>', line=3, column=25)), 0, ast.SymbolicAtom(ast.Function(Location(begin=Position(filename='<string>', line=3, column=17), end=Position(filename='<string>', line=3, column=25)), 'body1', [ast.Variable(Location(begin=Position(filename='<string>', line=3, column=23), end=Position(filename='<string>', line=3, column=24)), 'X')], 0))), ast.Literal(Location(begin=Position(filename='<string>', line=3, column=27), end=Position(filename='<string>', line=3, column=35)), 0, ast.SymbolicAtom(ast.Function(Location(begin=Position(filename='<string>', line=3, column=27), end=Position(filename='<string>', line=3, column=35)), 'body2', [ast.Variable(Location(begin=Position(filename='<string>', line=3, column=33), end=Position(filename='<string>', line=3, column=34)), 'Y')], 0))), ast.Literal(Location(begin=Position(filename='<string>', line=3, column=37), end=Position(filename='<string>', line=3, column=45)), 0, ast.SymbolicAtom(ast.Function(Location(begin=Position(filename='<string>', line=3, column=37), end=Position(filename='<string>', line=3, column=45)), 'body3', [ast.Variable(Location(begin=Position(filename='<string>', line=3, column=43), end=Position(filename='<string>', line=3, column=44)), 'Z')], 0)))]),\n ast.Rule(Location(begin=Position(filename='<string>', line=5, column=1), end=Position(filename='<string>', line=5, column=34)), ast.Literal(Location(begin=Position(filename='<string>', line=5, column=1), end=Position(filename='<string>', line=5, column=9)), 0, ast.SymbolicAtom(ast.Function(Location(begin=Position(filename='<string>', line=5, column=1), end=Position(filename='<string>', line=5, column=9)), 'head2', [ast.Variable(Location(begin=Position(filename='<string>', line=5, column=7), end=Position(filename='<string>', line=5, column=8)), 'X')], 0))), [ast.Literal(Location(begin=Position(filename='<string>', line=5, column=13), end=Position(filename='<string>', line=5, column=21)), 0, ast.SymbolicAtom(ast.Function(Location(begin=Position(filename='<string>', line=5, column=13), end=Position(filename='<string>', line=5, column=21)), 'body1', [ast.Variable(Location(begin=Position(filename='<string>', line=5, column=19), end=Position(filename='<string>', line=5, column=20)), 'X')], 0))), ast.Literal(Location(begin=Position(filename='<string>', line=5, column=23), end=Position(filename='<string>', line=5, column=33)), 0, ast.SymbolicAtom(ast.Function(Location(begin=Position(filename='<string>', line=5, column=23), end=Position(filename='<string>', line=5, column=33)), 'body2', [ast.BinaryOperation(Location(begin=Position(filename='<string>', line=5, column=29), end=Position(filename='<string>', line=5, column=32)), 4, ast.Variable(Location(begin=Position(filename='<string>', line=5, column=29), end=Position(filename='<string>', line=5, column=30)), 'X'), ast.SymbolicTerm(Location(begin=Position(filename='<string>', line=5, column=31), end=Position(filename='<string>', line=5, column=32)), Number(1)))], 0)))]),\n ast.Rule(Location(begin=Position(filename='<string>', line=7, column=1), end=Position(filename='<string>', line=7, column=22)), ast.Literal(Location(begin=Position(filename='<string>', line=7, column=1), end=Position(filename='<string>', line=7, column=9)), 0, ast.SymbolicAtom(ast.Function(Location(begin=Position(filename='<string>', line=7, column=1), end=Position(filename='<string>', line=7, column=9)), 'head3', [ast.Variable(Location(begin=Position(filename='<string>', line=7, column=7), end=Position(filename='<string>', line=7, column=8)), 'X')], 0))), [ast.Literal(Location(begin=Position(filename='<string>', line=7, column=13), end=Position(filename='<string>', line=7, column=21)), 0, ast.SymbolicAtom(ast.Function(Location(begin=Position(filename='<string>', line=7, column=13), end=Position(filename='<string>', line=7, column=21)), 'body4', [ast.Variable(Location(begin=Position(filename='<string>', line=7, column=19), end=Position(filename='<string>', line=7, column=20)), 'X')], 0)))])]"
     },
     "execution_count": 17,
     "metadata": {},
     "output_type": "execute_result"
    }
   ],
   "source": [
    "nodes = get_parsed_program(program)\n",
    "nodes"
   ],
   "metadata": {
    "collapsed": false,
    "pycharm": {
     "name": "#%%\n"
    }
   }
  },
  {
   "cell_type": "code",
   "execution_count": 18,
   "outputs": [],
   "source": [
    "pos = clingo.ast.Position('<string>', 0, 0)\n",
    "loc = clingo.ast.Location(pos, pos)"
   ],
   "metadata": {
    "collapsed": false,
    "pycharm": {
     "name": "#%%\n"
    }
   }
  },
  {
   "cell_type": "code",
   "execution_count": null,
   "outputs": [],
   "source": [
    "def _body_insert_node(rule: clingo.ast.AST, node: clingo.ast.AST, index: Optional[SupportsIndex] = None):\n",
    "    head = rule.head\n",
    "    body = list(rule.body)\n",
    "    __index = index or len(body)\n",
    "    body.insert(__index, node)\n",
    "    return clingo.ast.Rule(loc, head, body)"
   ],
   "metadata": {
    "collapsed": false,
    "pycharm": {
     "name": "#%%\n"
    }
   }
  },
  {
   "cell_type": "code",
   "execution_count": 19,
   "outputs": [],
   "source": [
    "def _body_insert_pos_symbol(rule: clingo.ast.AST, literal: clingo.Symbol, index: Optional[SupportsIndex] = None):\n",
    "    return _body_insert_node(rule,\n",
    "                             clingo.ast.Literal(loc, clingo.ast.Sign.NoSign,\n",
    "                                                clingo.ast.SymbolicAtom(clingo.ast.SymbolicTerm(loc, literal))),\n",
    "                             index)"
   ],
   "metadata": {
    "collapsed": false,
    "pycharm": {
     "name": "#%%\n"
    }
   }
  },
  {
   "cell_type": "code",
   "execution_count": 21,
   "outputs": [],
   "source": [
    "def _body_insert_neg_symbol(rule: clingo.ast.AST, literal: clingo.Symbol, index: Optional[SupportsIndex] = None):\n",
    "    return _body_insert_node(rule,\n",
    "                             clingo.ast.Literal(loc, clingo.ast.Sign.Negation,\n",
    "                                                clingo.ast.SymbolicAtom(clingo.ast.SymbolicTerm(loc, literal))),\n",
    "                             index)\n"
   ],
   "metadata": {
    "collapsed": false,
    "pycharm": {
     "name": "#%%\n"
    }
   }
  },
  {
   "cell_type": "code",
   "execution_count": 20,
   "outputs": [],
   "source": [
    "def _body_delete_literal(rule: clingo.ast.AST, index: SupportsIndex = -1):\n",
    "    head = rule.head\n",
    "    body = list(rule.body)\n",
    "    body.pop(index)\n",
    "    return clingo.ast.Rule(loc, head, body)\n"
   ],
   "metadata": {
    "collapsed": false,
    "pycharm": {
     "name": "#%%\n"
    }
   }
  },
  {
   "cell_type": "code",
   "execution_count": 22,
   "outputs": [
    {
     "name": "stdout",
     "output_type": "stream",
     "text": [
      "head1(X,Y,Z) :- body1(X); body2(Y); body3(Z).\n"
     ]
    }
   ],
   "source": [
    "rule = nodes[1]\n",
    "print(rule)"
   ],
   "metadata": {
    "collapsed": false,
    "pycharm": {
     "name": "#%%\n"
    }
   }
  },
  {
   "cell_type": "code",
   "execution_count": 23,
   "outputs": [
    {
     "name": "stdout",
     "output_type": "stream",
     "text": [
      "head1(X,Y,Z) :- body1(X); body2(Y); body3(Z); body4(0).\n"
     ]
    }
   ],
   "source": [
    "new_rule_1 = _body_insert_pos_symbol(rule, clingo.Function('body4', [clingo.Number(0)]))\n",
    "print(new_rule_1)"
   ],
   "metadata": {
    "collapsed": false,
    "pycharm": {
     "name": "#%%\n"
    }
   }
  },
  {
   "cell_type": "code",
   "execution_count": 24,
   "outputs": [
    {
     "name": "stdout",
     "output_type": "stream",
     "text": [
      "head1(X,Y,Z) :- body1(X); body2(Y); not missing(value(one,two)); body3(Z); body4(0).\n"
     ]
    }
   ],
   "source": [
    "new_rule_2 = _body_insert_neg_symbol(new_rule_1, clingo.Function('missing', [\n",
    "    clingo.Function('value', [clingo.Function('one'), clingo.Function('two')])]), 2)\n",
    "print(new_rule_2)"
   ],
   "metadata": {
    "collapsed": false,
    "pycharm": {
     "name": "#%%\n"
    }
   }
  },
  {
   "cell_type": "code",
   "execution_count": 25,
   "outputs": [
    {
     "name": "stdout",
     "output_type": "stream",
     "text": [
      "head1(X,Y,Z) :- body1(X); body2(Y); not missing(value(one,two)); body4(0).\n"
     ]
    }
   ],
   "source": [
    "new_rule_3 = _body_delete_literal(new_rule_2, -2)\n",
    "print(new_rule_3)"
   ],
   "metadata": {
    "collapsed": false,
    "pycharm": {
     "name": "#%%\n"
    }
   }
  },
  {
   "cell_type": "code",
   "execution_count": 26,
   "outputs": [
    {
     "name": "stdout",
     "output_type": "stream",
     "text": [
      "head1(X,Y,Z) :- body1(X); body2(Y); not missing(value(one,two)).\n"
     ]
    }
   ],
   "source": [
    "new_rule_4 = _body_delete_literal(new_rule_3)\n",
    "print(new_rule_4)"
   ],
   "metadata": {
    "collapsed": false,
    "pycharm": {
     "name": "#%%\n"
    }
   }
  },
  {
   "cell_type": "code",
   "execution_count": 27,
   "outputs": [
    {
     "name": "stdout",
     "output_type": "stream",
     "text": [
      "head1(X,Y,Z) :- body1(X); body2(Y).\n"
     ]
    }
   ],
   "source": [
    "new_rule_5 = _body_delete_literal(new_rule_4)\n",
    "print(new_rule_5)"
   ],
   "metadata": {
    "collapsed": false,
    "pycharm": {
     "name": "#%%\n"
    }
   }
  },
  {
   "cell_type": "code",
   "execution_count": null,
   "outputs": [],
   "source": [
    "ctl = clingo.Control()\n",
    "with ProgramBuilder(ctl) as pb:\n",
    "    pb.add(new_rule_1)\n",
    "    pb.add(new_rule_2)\n",
    "    pb.add(new_rule_3)\n",
    "    pb.add(new_rule_4)\n",
    "    pb.add(new_rule_5)"
   ],
   "metadata": {
    "collapsed": false,
    "pycharm": {
     "name": "#%%\n"
    }
   }
  }
 ],
 "metadata": {
  "kernelspec": {
   "display_name": "Python 3",
   "language": "python",
   "name": "python3"
  },
  "language_info": {
   "codemirror_mode": {
    "name": "ipython",
    "version": 2
   },
   "file_extension": ".py",
   "mimetype": "text/x-python",
   "name": "python",
   "nbconvert_exporter": "python",
   "pygments_lexer": "ipython2",
   "version": "2.7.6"
  }
 },
 "nbformat": 4,
 "nbformat_minor": 0
}