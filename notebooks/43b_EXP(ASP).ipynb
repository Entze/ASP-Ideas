{
 "cells": [
  {
   "cell_type": "code",
   "execution_count": 1,
   "outputs": [],
   "source": [
    "import functools\n",
    "from typing import Optional, Sequence, Any, Mapping, Union\n",
    "\n",
    "import clingo\n",
    "import clingo.ast\n",
    "import clingox.backend\n",
    "import clingox.reify"
   ],
   "metadata": {
    "collapsed": false,
    "pycharm": {
     "name": "#%%\n"
    }
   }
  },
  {
   "cell_type": "code",
   "execution_count": 2,
   "outputs": [],
   "source": [
    "def solve(ctl: clingo.Control, report=True, report_models=True, report_result=True, sep='\\n'):\n",
    "    models = []\n",
    "    with ctl.solve(yield_=True) as solve_handle:\n",
    "        for model in solve_handle:\n",
    "            symbols = sorted(model.symbols(shown=True))\n",
    "            if report and report_models:\n",
    "                print(\"Answer {}:\".format(model.number), end=' ')\n",
    "                print(\"{\", sep.join(map(str, symbols)), \"}\", sep=sep)\n",
    "            models.append(symbols)\n",
    "        solve_result = solve_handle.get()\n",
    "        if report and report_result:\n",
    "            print(solve_result, end='')\n",
    "            if models:\n",
    "                print(\" {}{}\".format(len(models), '' if solve_result.exhausted else '+'))\n",
    "    return models"
   ],
   "metadata": {
    "collapsed": false,
    "pycharm": {
     "name": "#%%\n"
    }
   }
  },
  {
   "cell_type": "code",
   "execution_count": 3,
   "outputs": [],
   "source": [
    "p1 = \"\"\"\n",
    "a :- k, not b.   b :- not a.   f :- e, not k, not c.\n",
    "k :- e, not b.   c :- k.       e.\n",
    "c :- a, b.\n",
    "\"\"\""
   ],
   "metadata": {
    "collapsed": false,
    "pycharm": {
     "name": "#%%\n"
    }
   }
  },
  {
   "cell_type": "code",
   "execution_count": 4,
   "outputs": [],
   "source": [
    "class Manipulator(clingo.ast.Transformer):\n",
    "    loc = clingo.ast.Location(clingo.ast.Position('<string>', 1, 1), clingo.ast.Position('<string>', 1, 1))"
   ],
   "metadata": {
    "collapsed": false,
    "pycharm": {
     "name": "#%%\n"
    }
   }
  },
  {
   "cell_type": "code",
   "execution_count": 5,
   "outputs": [],
   "source": [
    "class FactToExternal(Manipulator):\n",
    "\n",
    "    def visit_Rule(self, rule: clingo.ast.AST, external_type: Optional[clingo.ast.AST] = None):\n",
    "        if not rule.body:\n",
    "            if external_type is None:\n",
    "                external_type = clingo.ast.SymbolicTerm(Manipulator.loc, clingo.Function('false'))\n",
    "            # TODO: check external_type\n",
    "            return clingo.ast.External(rule.location, rule.head.atom, (), external_type)\n",
    "        return rule"
   ],
   "metadata": {
    "collapsed": false,
    "pycharm": {
     "name": "#%%\n"
    }
   }
  },
  {
   "cell_type": "code",
   "execution_count": null,
   "outputs": [],
   "source": [
    "class Selector(clingo.ast.Transformer):\n",
    "    def __init__(self):\n",
    "        self.selection = []"
   ],
   "metadata": {
    "collapsed": false,
    "pycharm": {
     "name": "#%%\n"
    }
   }
  },
  {
   "cell_type": "code",
   "execution_count": null,
   "outputs": [],
   "source": [
    "class BodySelector(Selector):\n",
    "\n",
    "    def visit_Rule(self, rule: clingo.ast.AST, head: Union[clingo.ast.AST, clingo.Symbol, None] = None):\n",
    "        if head is None:\n",
    "            self.selection.extend(rule.body)\n",
    "        elif isinstance(head, clingo.Symbol):\n",
    "            if head.type is clingo.SymbolType.Function:\n",
    "                if rule.head.name == clin\n",
    "                self.selection.extend(rule.body)"
   ],
   "metadata": {
    "collapsed": false,
    "pycharm": {
     "name": "#%%\n"
    }
   }
  },
  {
   "cell_type": "code",
   "execution_count": 6,
   "outputs": [],
   "source": [
    "class BaseCombinator:\n",
    "\n",
    "    def transform(self, program: str) -> Sequence[clingo.ast.AST]:\n",
    "        nodes = []\n",
    "        clingo.ast.parse_string(program, nodes.append)\n",
    "        return nodes\n",
    "\n",
    "    def apply(self, program: str, control: Optional[clingo.Control] = None):\n",
    "        if control is None:\n",
    "            control = clingo.Control()\n",
    "        nodes = self.transform(program)\n",
    "        with clingo.ast.ProgramBuilder(control) as builder:\n",
    "            for node in nodes:\n",
    "                builder.add(node)\n",
    "        return control"
   ],
   "metadata": {
    "collapsed": false,
    "pycharm": {
     "name": "#%%\n"
    }
   }
  },
  {
   "cell_type": "code",
   "execution_count": 7,
   "outputs": [],
   "source": [
    "class SequenceCombinator(BaseCombinator):\n",
    "\n",
    "    def __init__(self, manipulators: Sequence[Manipulator], args: Optional[Sequence[Sequence[Any]]] = None,\n",
    "                 kwargs: Optional[Sequence[Mapping[str, Any]]] = None):\n",
    "        self._manipulators = manipulators\n",
    "        self._args = args or tuple(() for _ in manipulators)\n",
    "        self._kwargs = kwargs or tuple({} for _ in manipulators)\n",
    "\n",
    "    def _transform_callback(self, stm: clingo.ast.AST, nodes: Optional[Sequence[clingo.ast.AST]] = None) -> None:\n",
    "        if nodes is None:\n",
    "            nodes = []\n",
    "        node = stm\n",
    "        for i, manipulator in enumerate(self._manipulators):\n",
    "            args, kwargs = self._args[i], self._kwargs[i]\n",
    "            node = manipulator.visit(node, *args, **kwargs)\n",
    "        nodes.append(node)\n",
    "\n",
    "    def transform(self, program: str) -> Sequence[clingo.ast.AST]:\n",
    "        nodes = []\n",
    "        clingo.ast.parse_string(program, functools.partial(self._transform_callback, nodes=nodes))\n",
    "        return nodes"
   ],
   "metadata": {
    "collapsed": false,
    "pycharm": {
     "name": "#%%\n"
    }
   }
  },
  {
   "cell_type": "code",
   "execution_count": 8,
   "outputs": [
    {
     "name": "stdout",
     "output_type": "stream",
     "text": [
      "#program base.\n",
      "a :- k; not b.\n",
      "b :- not a.\n",
      "f :- e; not k; not c.\n",
      "k :- e; not b.\n",
      "c :- k.\n",
      "#external e. [false]\n",
      "c :- a; b.\n"
     ]
    }
   ],
   "source": [
    "fact_to_external = SequenceCombinator((FactToExternal(),))\n",
    "p1t_ast = fact_to_external.transform(p1)\n",
    "p1t = '\\n'.join(map(str, p1t_ast))\n",
    "print(p1t)"
   ],
   "metadata": {
    "collapsed": false,
    "pycharm": {
     "name": "#%%\n"
    }
   }
  },
  {
   "cell_type": "code",
   "execution_count": 9,
   "outputs": [],
   "source": [
    "ctl = clingo.Control()\n",
    "ctl.configuration.solve.models = 0\n",
    "ctl.add('base', [], p1)\n",
    "ctl.ground([('base', [])])"
   ],
   "metadata": {
    "collapsed": false,
    "pycharm": {
     "name": "#%%\n"
    }
   }
  },
  {
   "cell_type": "code",
   "execution_count": 10,
   "outputs": [
    {
     "name": "stdout",
     "output_type": "stream",
     "text": [
      "Answer 1: { b e f }\n",
      "Answer 2: { a c e k }\n",
      "SAT 2\n"
     ]
    }
   ],
   "source": [
    "models = solve(ctl, sep=' ')"
   ],
   "metadata": {
    "collapsed": false,
    "pycharm": {
     "name": "#%%\n"
    }
   }
  },
  {
   "cell_type": "code",
   "execution_count": 11,
   "outputs": [],
   "source": [
    "ctl.configuration.solve.enum_mode = 'cautious'"
   ],
   "metadata": {
    "collapsed": false,
    "pycharm": {
     "name": "#%%\n"
    }
   }
  },
  {
   "cell_type": "code",
   "execution_count": 12,
   "outputs": [
    {
     "name": "stdout",
     "output_type": "stream",
     "text": [
      "Answer 1: { b e f }\n",
      "Answer 2: { e }\n",
      "SAT 2\n"
     ]
    }
   ],
   "source": [
    "cautious_consequence = solve(ctl, sep=' ')[-1]"
   ],
   "metadata": {
    "collapsed": false,
    "pycharm": {
     "name": "#%%\n"
    }
   }
  },
  {
   "cell_type": "code",
   "execution_count": null,
   "outputs": [],
   "source": [],
   "metadata": {
    "collapsed": false,
    "pycharm": {
     "name": "#%%\n"
    }
   }
  }
 ],
 "metadata": {
  "kernelspec": {
   "display_name": "Python 3",
   "language": "python",
   "name": "python3"
  },
  "language_info": {
   "codemirror_mode": {
    "name": "ipython",
    "version": 2
   },
   "file_extension": ".py",
   "mimetype": "text/x-python",
   "name": "python",
   "nbconvert_exporter": "python",
   "pygments_lexer": "ipython2",
   "version": "2.7.6"
  }
 },
 "nbformat": 4,
 "nbformat_minor": 0
}