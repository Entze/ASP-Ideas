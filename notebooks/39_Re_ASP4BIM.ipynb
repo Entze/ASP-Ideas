{
 "cells": [
  {
   "cell_type": "code",
   "execution_count": 1,
   "metadata": {
    "collapsed": true
   },
   "outputs": [],
   "source": [
    "from typing import Sequence, Optional, Dict\n",
    "\n",
    "import clingo.ast\n",
    "from clingo import PropagateInit, PropagateControl\n",
    "from clingo.ast import ProgramBuilder\n",
    "from shapely.geometry import Polygon\n",
    "\n",
    "import matplotlib.pyplot as plt\n",
    "import numpy as np\n",
    "import descartes"
   ]
  },
  {
   "cell_type": "code",
   "execution_count": 2,
   "outputs": [
    {
     "data": {
      "text/plain": "{'square1': <shapely.geometry.polygon.Polygon at 0x7fd6f8cdb6a0>,\n 'square2': <shapely.geometry.polygon.Polygon at 0x7fd796723640>}"
     },
     "execution_count": 2,
     "metadata": {},
     "output_type": "execute_result"
    }
   ],
   "source": [
    "db = {\n",
    "    \"square1\": Polygon([(0, 0), (2, 0), (2, 2), (0, 2)]),\n",
    "    \"square2\": Polygon([(1, 1), (3, 1), (3, 3), (1, 3)]),\n",
    "}\n",
    "db"
   ],
   "metadata": {
    "collapsed": false,
    "pycharm": {
     "name": "#%%\n"
    }
   }
  },
  {
   "cell_type": "code",
   "execution_count": 3,
   "outputs": [],
   "source": [
    "data = \"\"\"\n",
    "type(polygon).\n",
    "\n",
    "product(polygon, \"square1\").\n",
    "product(polygon, \"square2\").\n",
    "\"\"\""
   ],
   "metadata": {
    "collapsed": false,
    "pycharm": {
     "name": "#%%\n"
    }
   }
  },
  {
   "cell_type": "code",
   "execution_count": 4,
   "outputs": [],
   "source": [
    "program = \"\"\"\n",
    "&intersect{ \"square1\"; \"square2\" } = intersect(polygon, \"intersect_1_2\").\n",
    "&union{ \"square1\"; \"square2\" } = union(polygon, \"union_1_2\").\n",
    "\"\"\""
   ],
   "metadata": {
    "collapsed": false,
    "pycharm": {
     "name": "#%%\n"
    }
   }
  },
  {
   "cell_type": "code",
   "execution_count": 5,
   "outputs": [],
   "source": [
    "theory = \"\"\"\n",
    "#theory spatial {\n",
    "\tconstant  {};\n",
    "\tspatial_term {};\n",
    "\t&union/0 : spatial_term, {=}, constant, any;\n",
    "\t&intersect/0 : spatial_term, {=}, constant, any\n",
    "}.\n",
    "\"\"\""
   ],
   "metadata": {
    "collapsed": false,
    "pycharm": {
     "name": "#%%\n"
    }
   }
  },
  {
   "cell_type": "code",
   "execution_count": 6,
   "outputs": [],
   "source": [
    "def unwrap(theory_term: clingo.TheoryTerm):\n",
    "    if theory_term.type is clingo.TheoryTermType.Symbol:\n",
    "        return theory_term.name[1:-1]\n",
    "    elif theory_term.type is clingo.TheoryTermType.Number:\n",
    "        return theory_term.number\n",
    "    elif theory_term.type is clingo.TheoryTermType.Function:\n",
    "        return str(theory_term)\n",
    "    arguments = (unwrap(argument) for argument in theory_term.arguments)\n",
    "    if theory_term.type is clingo.TheoryTermType.Set:\n",
    "        return set(arguments)\n",
    "    elif theory_term.type is clingo.TheoryTermType.Tuple:\n",
    "        return tuple(arguments)\n",
    "    elif theory_term.type is clingo.TheoryTermType.List:\n",
    "        return list(arguments)\n",
    "    else:\n",
    "        assert False, \"Unknown TheoryTermType {} of TheoryTerm {}.\".format(theory_term.type, theory_term)"
   ],
   "metadata": {
    "collapsed": false,
    "pycharm": {
     "name": "#%%\n"
    }
   }
  },
  {
   "cell_type": "code",
   "execution_count": 7,
   "outputs": [],
   "source": [
    "class SpatialTransformer(clingo.ast.Transformer):\n",
    "    pass"
   ],
   "metadata": {
    "collapsed": false,
    "pycharm": {
     "name": "#%%\n"
    }
   }
  },
  {
   "cell_type": "code",
   "execution_count": 8,
   "outputs": [],
   "source": [
    "class SpatialPropagator(clingo.Propagator):\n",
    "\n",
    "    def __init__(self, database: Optional[Dict[str, Polygon]] = None):\n",
    "        self._l2t = {}  # literal -> (op, geoms, assign)\n",
    "        self._a2l = {}  # assign -> literal\n",
    "        self._l2s = {}  # literal -> solver_literal\n",
    "        self._s2l = {}  # solver_literal -> literal\n",
    "        self._qrst = QRST(database)\n",
    "\n",
    "    def init(self, init: PropagateInit) -> None:\n",
    "        for atom in init.theory_atoms:\n",
    "            term = atom.term\n",
    "            op = term.name\n",
    "            geoms = sorted(unwrap(element.terms[0]) for element in atom.elements)\n",
    "            assign = unwrap(atom.guard[1])\n",
    "            program_literal = atom.literal\n",
    "            solver_literal = init.solver_literal(program_literal)\n",
    "            self._l2t[program_literal] = (op, geoms, assign)\n",
    "            self._l2s[program_literal] = solver_literal\n",
    "            self._s2l[solver_literal] = program_literal\n",
    "            self._a2l[assign] = program_literal\n",
    "            init.add_watch(solver_literal)\n",
    "            if init.assignment.is_true(solver_literal):\n",
    "                self.propagate_assignment(op, geoms, assign)\n",
    "\n",
    "    def propagate(self, control: PropagateControl, changes: Sequence[int]) -> None:\n",
    "        for change in changes:\n",
    "            if change in self._s2l:\n",
    "                program_literal = self._s2l[change]\n",
    "                op,geoms,assign = self._l2t[program_literal]\n",
    "                self.propagate_assignment(op, geoms, assign)\n",
    "\n",
    "    def propagate_assignment(self, op, geoms, assign):\n",
    "        self._qrst.evaluate(op, geoms, assign)\n",
    "\n",
    "\n",
    "\n"
   ],
   "metadata": {
    "collapsed": false,
    "pycharm": {
     "name": "#%%\n"
    }
   }
  },
  {
   "cell_type": "code",
   "execution_count": 9,
   "outputs": [],
   "source": [
    "\n",
    "class QRST:\n",
    "\n",
    "    def __init__(self, database: Optional[Dict[str, Polygon]] = None):\n",
    "        self._db: Dict[str, Polygon] = database or {}\n",
    "        self._assignments: Dict[str, str] = {}\n",
    "\n",
    "    def evaluate(self, operation: str, geoms: str, assign: str) -> None:\n",
    "        geom_id: str = \"{}({})\".format(operation, ','.join(sorted(geoms)))\n",
    "        if geom_id not in self._db:\n",
    "            if operation == 'intersect':\n",
    "                self.intersect(geom_id, geoms)\n",
    "            elif operation == 'union':\n",
    "                self.union(geom_id, geoms)\n",
    "\n",
    "        self._assignments[assign] = geom_id\n",
    "\n",
    "    def intersect(self, geom_id: str, geoms: Sequence[str]) -> None:\n",
    "        polys = list(self._db[geom] for geom in geoms)\n",
    "        new_poly = polys[0]\n",
    "        i = 1\n",
    "        while i < len(polys):\n",
    "            new_poly = new_poly.intersection(polys[i])\n",
    "            i += 1\n",
    "        self._db[geom_id] = new_poly\n",
    "\n",
    "    def union(self, geom_id: str, geoms: Sequence[str]) -> None:\n",
    "        polys = list(self._db[geom] for geom in geoms)\n",
    "        new_poly = polys[0]\n",
    "        i = 1\n",
    "        while i < len(polys):\n",
    "            new_poly = new_poly.union(polys[i])\n",
    "            i += 1\n",
    "        self._db[geom_id] = new_poly\n",
    "\n"
   ],
   "metadata": {
    "collapsed": false,
    "pycharm": {
     "name": "#%%\n"
    }
   }
  },
  {
   "cell_type": "code",
   "execution_count": 10,
   "outputs": [],
   "source": [
    "ctl = clingo.Control()\n",
    "ctl.configuration.solve.models = 0"
   ],
   "metadata": {
    "collapsed": false,
    "pycharm": {
     "name": "#%%\n"
    }
   }
  },
  {
   "cell_type": "code",
   "execution_count": 11,
   "outputs": [],
   "source": [
    "propagator = SpatialPropagator(db)\n",
    "transformer = SpatialTransformer()"
   ],
   "metadata": {
    "collapsed": false,
    "pycharm": {
     "name": "#%%\n"
    }
   }
  },
  {
   "cell_type": "code",
   "execution_count": 12,
   "outputs": [],
   "source": [
    "ctl.register_propagator(propagator)"
   ],
   "metadata": {
    "collapsed": false,
    "pycharm": {
     "name": "#%%\n"
    }
   }
  },
  {
   "cell_type": "code",
   "execution_count": 13,
   "outputs": [
    {
     "name": "stdout",
     "output_type": "stream",
     "text": [
      "\n",
      "#theory spatial {\n",
      "\tconstant  {};\n",
      "\tspatial_term {};\n",
      "\t&union/0 : spatial_term, {=}, constant, any;\n",
      "\t&intersect/0 : spatial_term, {=}, constant, any\n",
      "}.\n",
      "\n",
      "\n",
      "type(polygon).\n",
      "\n",
      "product(polygon, \"square1\").\n",
      "product(polygon, \"square2\").\n",
      "\n",
      "#program base.\n",
      "&intersect { \"square1\"; \"square2\" } = intersect(polygon,\"intersect_1_2\").\n",
      "&union { \"square1\"; \"square2\" } = union(polygon,\"union_1_2\").\n"
     ]
    }
   ],
   "source": [
    "ctl.add('base', [], theory)\n",
    "print(theory)\n",
    "ctl.add('base', [], data)\n",
    "print(data)\n",
    "stmts = []\n",
    "clingo.ast.parse_string(program, lambda stm: stmts.append(transformer.visit(stm)))\n",
    "with ProgramBuilder(ctl) as builder:\n",
    "    for stm in stmts:\n",
    "        print(stm)\n",
    "        builder.add(stm)"
   ],
   "metadata": {
    "collapsed": false,
    "pycharm": {
     "name": "#%%\n"
    }
   }
  },
  {
   "cell_type": "code",
   "execution_count": 14,
   "outputs": [],
   "source": [
    "ctl.ground([('base', ())])"
   ],
   "metadata": {
    "collapsed": false,
    "pycharm": {
     "name": "#%%\n"
    }
   }
  },
  {
   "cell_type": "code",
   "execution_count": 15,
   "outputs": [
    {
     "name": "stdout",
     "output_type": "stream",
     "text": [
      "Answer 1: {\n",
      "type(polygon)\n",
      "product(polygon,\"square1\")\n",
      "product(polygon,\"square2\")\n",
      "}\n",
      "SAT 1\n"
     ]
    }
   ],
   "source": [
    "with ctl.solve(yield_=True) as solve_handle:\n",
    "    models = []\n",
    "    for model in solve_handle:\n",
    "        symbols = sorted(model.symbols(shown=True, theory=True))\n",
    "        models.append(model)\n",
    "        print(\"Answer {}:\".format(model.number), end=' ')\n",
    "        print(\"{\",\n",
    "              '\\n'.join(map(str, symbols)), \"}\", sep='\\n')\n",
    "    solve_result = solve_handle.get()\n",
    "    print(solve_result, end='')\n",
    "    if models:\n",
    "        print(\" {}{}\".format(len(models), '' if solve_result.exhausted else '+'))"
   ],
   "metadata": {
    "collapsed": false,
    "pycharm": {
     "name": "#%%\n"
    }
   }
  },
  {
   "cell_type": "code",
   "execution_count": 16,
   "outputs": [
    {
     "name": "stdout",
     "output_type": "stream",
     "text": [
      "{4: ('union', ['square1', 'square2'], 'union(polygon,\"union_1_2\")'), 5: ('intersect', ['square1', 'square2'], 'intersect(polygon,\"intersect_1_2\")')}\n"
     ]
    }
   ],
   "source": [
    "print(propagator._l2t)"
   ],
   "metadata": {
    "collapsed": false,
    "pycharm": {
     "name": "#%%\n"
    }
   }
  },
  {
   "cell_type": "code",
   "execution_count": 17,
   "outputs": [
    {
     "name": "stdout",
     "output_type": "stream",
     "text": [
      "square1=POLYGON ((0 0, 2 0, 2 2, 0 2, 0 0))\n",
      "square2=POLYGON ((1 1, 3 1, 3 3, 1 3, 1 1))\n",
      "union(square1,square2)=POLYGON ((2 0, 0 0, 0 2, 1 2, 1 3, 3 3, 3 1, 2 1, 2 0))\n",
      "intersect(square1,square2)=POLYGON ((2 2, 2 1, 1 1, 1 2, 2 2))\n"
     ]
    }
   ],
   "source": [
    "for geom_id, polygon in db.items():\n",
    "    print(\"{}={}\".format(geom_id, polygon))"
   ],
   "metadata": {
    "collapsed": false,
    "pycharm": {
     "name": "#%%\n"
    }
   }
  },
  {
   "cell_type": "code",
   "execution_count": 18,
   "outputs": [
    {
     "name": "stderr",
     "output_type": "stream",
     "text": [
      "/home/lukas/.local/share/miniconda/envs/asp-ideas/lib/python3.10/site-packages/descartes/patch.py:62: ShapelyDeprecationWarning: The array interface is deprecated and will no longer work in Shapely 2.0. Convert the '.coords' to a numpy array instead.\n",
      "  vertices = concatenate([\n"
     ]
    },
    {
     "data": {
      "text/plain": "<Figure size 432x288 with 1 Axes>",
      "image/png": "[encoded data removed]"
     },
     "metadata": {
      "needs_background": "light"
     },
     "output_type": "display_data"
    }
   ],
   "source": [
    "fig = plt.figure()\n",
    "ax = fig.add_subplot(111)\n",
    "\n",
    "ax.add_patch(descartes.PolygonPatch(db['square1'], fc='red', alpha=1/3))\n",
    "ax.add_patch(descartes.PolygonPatch(db['square2'], fc='blue', alpha=1/3))\n",
    "ax.plot(*db['union(square1,square2)'].exterior.xy, color='green')\n",
    "ax.plot(*db['intersect(square1,square2)'].exterior.xy, color='violet')\n",
    "\n",
    "ax.axis('equal')\n",
    "plt.show()"
   ],
   "metadata": {
    "collapsed": false,
    "pycharm": {
     "name": "#%%\n"
    }
   }
  },
  {
   "cell_type": "code",
   "execution_count": 18,
   "outputs": [],
   "source": [],
   "metadata": {
    "collapsed": false,
    "pycharm": {
     "name": "#%%\n"
    }
   }
  }
 ],
 "metadata": {
  "kernelspec": {
   "display_name": "Python 3",
   "language": "python",
   "name": "python3"
  },
  "language_info": {
   "codemirror_mode": {
    "name": "ipython",
    "version": 2
   },
   "file_extension": ".py",
   "mimetype": "text/x-python",
   "name": "python",
   "nbconvert_exporter": "python",
   "pygments_lexer": "ipython2",
   "version": "2.7.6"
  }
 },
 "nbformat": 4,
 "nbformat_minor": 0
}