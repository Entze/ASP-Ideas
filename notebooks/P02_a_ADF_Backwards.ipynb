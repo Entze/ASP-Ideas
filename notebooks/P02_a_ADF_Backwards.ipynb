{
 "cells": [
  {
   "cell_type": "code",
   "execution_count": 67,
   "metadata": {
    "collapsed": true,
    "pycharm": {
     "name": "#%%\n"
    }
   },
   "outputs": [],
   "source": [
    "import abc\n",
    "from collections import defaultdict, namedtuple\n",
    "from copy import deepcopy\n",
    "from dataclasses import dataclass, field\n",
    "from enum import IntEnum\n",
    "from typing import MutableSequence\n",
    "from typing import Optional, Iterator, Sequence, TypeVar, Set, Mapping, Union, Tuple, Iterable, FrozenSet\n",
    "\n",
    "import clingo\n",
    "from more_itertools import powerset\n"
   ]
  },
  {
   "cell_type": "code",
   "execution_count": 68,
   "outputs": [],
   "source": [
    "def asp_solve(programs,\n",
    "              ctl: Optional[clingo.Control] = None,\n",
    "              parts=(('base', ()),),\n",
    "              context=None,\n",
    "              report=False,\n",
    "              report_models=True,\n",
    "              report_result=True,\n",
    "              symbol_sep=' ',\n",
    "              model_sep='\\n'\n",
    "              ) -> Iterator[Sequence[clingo.Symbol]]:\n",
    "    if ctl is None:\n",
    "        ctl = clingo.Control(logger=lambda *args, **kwargs: None)\n",
    "        ctl.configuration.solve.models = 0\n",
    "    ctl.add('base', [], '\\n'.join(programs))\n",
    "    ctl.ground(parts, context=context)\n",
    "    with ctl.solve(yield_=True) as solve_handle:\n",
    "        models = 0\n",
    "        for model in solve_handle:\n",
    "            symbols = sorted(model.symbols(shown=True))\n",
    "            if report and report_models:\n",
    "                print(\"Answer {}:\".format(model.number), end=' ')\n",
    "                print(\"{\",\n",
    "                      symbol_sep.join(map(str, symbols)), \"}\", sep=symbol_sep, end=model_sep)\n",
    "            models += 1\n",
    "            yield symbols\n",
    "        if report and report_result:\n",
    "            solve_result = solve_handle.get()\n",
    "            print(solve_result, end='')\n",
    "            if solve_result.satisfiable:\n",
    "                print(\" {}{}\".format(models, '' if solve_result.exhausted else '+'))\n",
    "            else:\n",
    "                print()\n"
   ],
   "metadata": {
    "collapsed": false,
    "pycharm": {
     "name": "#%%\n"
    }
   }
  },
  {
   "cell_type": "code",
   "execution_count": 69,
   "outputs": [],
   "source": [
    "ForwardASPSymbol = TypeVar('ForwardASPSymbol', bound='ASPSymbol')\n",
    "ForwardASPVariable = TypeVar('ForwardASPVariable', bound='ASPVariable')\n",
    "\n",
    "\n",
    "class ASPSymbol(abc.ABC):\n",
    "\n",
    "    @staticmethod\n",
    "    def from_clingo_symbol(symbol: clingo.Symbol) -> ForwardASPSymbol:\n",
    "        if symbol.type is clingo.SymbolType.Number:\n",
    "            return ASPTerm(ASPIntegerConstant(symbol.number))\n",
    "        elif symbol.type is clingo.SymbolType.String:\n",
    "            return ASPTerm(ASPStringConstant(symbol.string))\n",
    "        elif symbol.type is clingo.SymbolType.Function:\n",
    "            arguments = tuple(ASPFunction.from_clingo_symbol(argument) for argument in symbol.arguments)\n",
    "            name = symbol.name\n",
    "            if symbol.negative:\n",
    "                name = \"-{}\".format(name)\n",
    "            return ASPFunction(name, arguments)\n",
    "        else:\n",
    "            assert False, \"Unhandled clingo.Symbol {} with type {}.\".format(symbol, symbol.type.name)\n",
    "\n",
    "\n",
    "@dataclass(order=True, frozen=True)\n",
    "class ASPStringConstant:\n",
    "    string: str = field(default=\"\")\n",
    "\n",
    "    def __str__(self):\n",
    "        return '\"{}\"'.format(self.string)\n",
    "\n",
    "\n",
    "@dataclass(order=True, frozen=True)\n",
    "class ASPIntegerConstant:\n",
    "    number: int = field(default=0)\n",
    "\n",
    "    def __str__(self):\n",
    "        return str(self.number)\n",
    "\n",
    "\n",
    "@dataclass(order=True, frozen=True)\n",
    "class ASPTerm(ASPSymbol):\n",
    "    constant: Union[ASPStringConstant, ASPIntegerConstant] = field(default_factory=ASPIntegerConstant)\n",
    "\n",
    "    def __str__(self):\n",
    "        return str(self.constant)\n",
    "\n",
    "    @staticmethod\n",
    "    def zero():\n",
    "        return ASPTerm(ASPIntegerConstant(0))\n",
    "\n",
    "    @staticmethod\n",
    "    def one():\n",
    "        return ASPTerm(ASPIntegerConstant(1))\n",
    "\n",
    "\n",
    "ForwardASPTopLevelSymbol = TypeVar('ForwardASPTopLevelSymbol', bound='ASPTopLevelSymbol')\n",
    "\n",
    "\n",
    "class ASPTopLevelSymbol(ASPSymbol, abc.ABC):\n",
    "\n",
    "    @property\n",
    "    def signature(self) -> str:\n",
    "        return \"{}/{}.\".format(self.function_name, self.arity)\n",
    "\n",
    "    @property\n",
    "    @abc.abstractmethod\n",
    "    def function_name(self) -> str:\n",
    "        raise NotImplementedError\n",
    "\n",
    "    @property\n",
    "    def arity(self) -> int:\n",
    "        return len(self.function_arguments)\n",
    "\n",
    "    @property\n",
    "    @abc.abstractmethod\n",
    "    def function_arguments(self) -> Sequence[ASPSymbol]:\n",
    "        raise NotImplementedError\n",
    "\n",
    "    def match(self, other: ForwardASPTopLevelSymbol) -> bool:\n",
    "        return self.function_name == other.function_name and len(self.function_arguments) == len(\n",
    "            other.function_arguments)\n",
    "\n",
    "\n",
    "def asp_evaluate(*programs, report=False) -> Iterator[FrozenSet[ASPTopLevelSymbol]]:\n",
    "    for answer_set in asp_solve(programs=programs, report=report):\n",
    "        yield frozenset(ASPFunction.from_clingo_symbol(symbol) for symbol in answer_set)\n",
    "\n",
    "\n",
    "@dataclass(order=True, frozen=True)\n",
    "class ASPFunction(ASPTopLevelSymbol):\n",
    "    name: Optional[str] = field(default=None)\n",
    "    arguments: Sequence[ASPSymbol] = field(default_factory=tuple)\n",
    "\n",
    "    @property\n",
    "    def function_name(self) -> str:\n",
    "        return self.name\n",
    "\n",
    "    @property\n",
    "    def function_arguments(self) -> Sequence[ASPSymbol]:\n",
    "        return self.arguments\n",
    "\n",
    "    @property\n",
    "    def arity(self) -> int:\n",
    "        return len(self.arguments)\n",
    "\n",
    "    def __str__(self):\n",
    "        if self.name is None:\n",
    "            return '({})'.format(','.join(map(str, self.arguments)))\n",
    "        elif not self.arguments:\n",
    "            return self.name\n",
    "        else:\n",
    "            return '{}({})'.format(self.name, ','.join(map(str, self.arguments)))\n",
    "\n",
    "\n",
    "ForwardASPAtom = TypeVar('ForwardASPAtom', bound='ASPAtom')\n",
    "\n",
    "\n",
    "@dataclass(order=True, frozen=True)\n",
    "class ASPAtom:\n",
    "    symbol: ASPTopLevelSymbol = field(default_factory=ASPFunction)\n",
    "\n",
    "    @property\n",
    "    def signature(self) -> str:\n",
    "        return self.symbol.signature\n",
    "\n",
    "    def match(self, other: ForwardASPAtom) -> bool:\n",
    "        return self.symbol.function_name == other.symbol.function_name and len(self.symbol.function_arguments) == len(\n",
    "            other.symbol.function_arguments)\n",
    "\n",
    "    def __str__(self):\n",
    "        return str(self.symbol)\n",
    "\n",
    "\n",
    "@dataclass(order=True, frozen=True)\n",
    "class ASPClauseElement(abc.ABC):\n",
    "\n",
    "    @property\n",
    "    @abc.abstractmethod\n",
    "    def signature(self) -> str:\n",
    "        raise NotImplementedError\n",
    "\n",
    "    @property\n",
    "    @abc.abstractmethod\n",
    "    def is_pos(self):\n",
    "        raise NotImplementedError\n",
    "\n",
    "    @property\n",
    "    @abc.abstractmethod\n",
    "    def is_neg(self):\n",
    "        raise NotImplementedError\n",
    "\n",
    "    def __neg__(self):\n",
    "        raise NotImplementedError\n",
    "\n",
    "    def __abs__(self):\n",
    "        raise NotImplementedError\n",
    "\n",
    "\n",
    "class ASPHeadClauseElement(ASPClauseElement):\n",
    "    pass\n",
    "\n",
    "\n",
    "class ASPLiteral(ASPHeadClauseElement):\n",
    "\n",
    "    @property\n",
    "    @abc.abstractmethod\n",
    "    def signature(self) -> str:\n",
    "        raise NotImplementedError\n",
    "\n",
    "    @property\n",
    "    @abc.abstractmethod\n",
    "    def is_pos(self) -> bool:\n",
    "        raise NotImplementedError\n",
    "\n",
    "    @property\n",
    "    @abc.abstractmethod\n",
    "    def is_neg(self) -> bool:\n",
    "        raise NotImplementedError\n",
    "\n",
    "\n",
    "class ASPSign(IntEnum):\n",
    "    NoSign = 0\n",
    "    Negation = 1\n",
    "\n",
    "    def __str__(self):\n",
    "        if self is ASPSign.NoSign:\n",
    "            return ''\n",
    "        elif self is ASPSign.Negation:\n",
    "            return 'not'\n",
    "        else:\n",
    "            assert False, 'Unknown IntEnum {} = {}.'.format(self.name, self.value)\n",
    "\n",
    "\n",
    "@dataclass(order=True, frozen=True)\n",
    "class ASPBasicLiteral(ASPLiteral):\n",
    "    sign: ASPSign = ASPSign.NoSign\n",
    "    atom: ASPAtom = field(default_factory=ASPAtom)\n",
    "\n",
    "    @property\n",
    "    def is_pos(self) -> bool:\n",
    "        return self.sign is ASPSign.NoSign\n",
    "\n",
    "    @property\n",
    "    def is_neg(self) -> bool:\n",
    "        return self.sign is ASPSign.Negation\n",
    "\n",
    "    @property\n",
    "    def signature(self) -> str:\n",
    "        return self.atom.signature\n",
    "\n",
    "    def __str__(self):\n",
    "        if self.sign is ASPSign.NoSign:\n",
    "            return \"{}\".format(self.atom)\n",
    "        else:\n",
    "            return \"{} {}\".format(self.sign, self.atom)\n",
    "\n",
    "    def __neg__(self):\n",
    "        return ASPBasicLiteral(ASPSign((self.sign ^ 1) % 2), self.atom)\n",
    "\n",
    "    def __abs__(self):\n",
    "        return ASPBasicLiteral(ASPSign.NoSign, self.atom)\n",
    "\n",
    "    def as_classical_atom(self):\n",
    "        return ClassicalAtom(str(self.atom.symbol))\n",
    "\n",
    "    @staticmethod\n",
    "    def make_literal(name: Optional[str], *arguments: Union[str, int, ASPFunction]):\n",
    "        function_arguments = []\n",
    "        for arg_ in arguments:\n",
    "            if isinstance(arg_, str):\n",
    "                arg = ASPFunction(arg_)\n",
    "            elif isinstance(arg_, int):\n",
    "                arg = ASPTerm(ASPIntegerConstant(arg_))\n",
    "            else:\n",
    "                arg = arg_\n",
    "            function_arguments.append(arg)\n",
    "        return ASPBasicLiteral(atom=ASPAtom(ASPFunction(name=name, arguments=tuple(function_arguments))))\n",
    "\n",
    "\n",
    "@dataclass(order=True, frozen=True)\n",
    "class ASPRule(abc.ABC):\n",
    "    head: Optional[ASPHeadClauseElement] = field(default=None)\n",
    "    body: Optional[Sequence[ASPClauseElement]] = field(default=None)\n",
    "\n",
    "    @property\n",
    "    @abc.abstractmethod\n",
    "    def head_signature(self) -> str:\n",
    "        raise NotImplementedError\n",
    "\n",
    "    @staticmethod\n",
    "    def fmt_body(body: Sequence[ASPClauseElement]):\n",
    "        return ', '.join(map(str, body))\n",
    "\n",
    "\n",
    "@dataclass(order=True, frozen=True)\n",
    "class ASPNormalRule(ASPRule):\n",
    "    head: ASPBasicLiteral = field(default_factory=ASPBasicLiteral)\n",
    "    body: Sequence[ASPClauseElement] = field(default_factory=tuple)\n",
    "\n",
    "    @property\n",
    "    def head_signature(self) -> str:\n",
    "        return self.head.signature\n",
    "\n",
    "    def __str__(self):\n",
    "        if self.body:\n",
    "            return \"{} :- {}.\".format(self.head, ASPRule.fmt_body(self.body))\n",
    "        else:\n",
    "            return \"{}.\".format(self.head)\n",
    "\n",
    "\n",
    "@dataclass(order=True, frozen=True)\n",
    "class ASPIntegrityConstraint(ASPRule):\n",
    "    body: Sequence[ASPClauseElement] = field(default_factory=tuple)\n",
    "    head: bool = field(default=False, init=False)\n",
    "\n",
    "    @property\n",
    "    def head_signature(self) -> str:\n",
    "        return '#false/0.'\n",
    "\n",
    "    def __str__(self):\n",
    "        if self.body:\n",
    "            return \":- {}.\".format(ASPRule.fmt_body(self.body))\n",
    "        else:\n",
    "            return \":-.\"\n",
    "\n",
    "\n",
    "@dataclass(frozen=True, order=True)\n",
    "class ClassicalAtom:\n",
    "    symbol: str\n",
    "\n",
    "    @property\n",
    "    def is_complement(self) -> bool:\n",
    "        return self.symbol.startswith('-')\n",
    "\n",
    "    def __neg__(self):\n",
    "        if self.is_complement:\n",
    "            return ClassicalAtom(self.symbol[1:])\n",
    "        else:\n",
    "            return ClassicalAtom('-{}'.format(self.symbol))\n",
    "\n",
    "    def __str__(self):\n",
    "        return self.symbol\n",
    "\n",
    "\n",
    "ClassicalAlphabet = Set[ClassicalAtom]\n",
    "ClassicalValuation = Mapping[ClassicalAtom, bool]\n",
    "\n",
    "\n",
    "@dataclass(frozen=True, order=True)\n",
    "class ClassicalLiteral:\n",
    "    atom: ClassicalAtom\n",
    "    sign: bool = field(default=True)\n",
    "\n",
    "    def __str__(self):\n",
    "        sign_str = \"\"\n",
    "        if not self.sign:\n",
    "            sign_str = \"¬\"\n",
    "        return \"{}{}\".format(sign_str, self.atom)\n",
    "\n",
    "    def __repr__(self):\n",
    "        return str(self)\n",
    "\n",
    "    def __neg__(self):\n",
    "        return ClassicalLiteral(self.atom, not self.sign)\n",
    "\n",
    "    def __and__(self, other):\n",
    "        left = ClassicalFormula(self)\n",
    "        right = other\n",
    "        if isinstance(other, ClassicalLiteral):\n",
    "            right = ClassicalFormula(right)\n",
    "        return ClassicalFormula(left, ClassicalConnective.And, right)\n",
    "\n",
    "    def __or__(self, other):\n",
    "        left = ClassicalFormula(self)\n",
    "        right = other\n",
    "        if isinstance(other, ClassicalLiteral):\n",
    "            right = ClassicalFormula(right)\n",
    "        return ClassicalFormula(left, ClassicalConnective.Or, right)\n",
    "\n",
    "    def __rshift__(self, other):\n",
    "        left = ClassicalFormula(self)\n",
    "        right = other\n",
    "        if isinstance(other, ClassicalLiteral):\n",
    "            right = ClassicalFormula(right)\n",
    "        return ClassicalFormula(left, ClassicalConnective.Implies, right)\n",
    "\n",
    "\n",
    "@dataclass(frozen=True, order=True)\n",
    "class ClassicalTop(ClassicalLiteral):\n",
    "    atom: ClassicalAtom = field(default=ClassicalAtom('⊤'), init=False)\n",
    "    sign: bool = field(default=True, init=False)\n",
    "\n",
    "    def __str__(self):\n",
    "        return str(self.atom)\n",
    "\n",
    "    def __repr__(self):\n",
    "        return str(self)\n",
    "\n",
    "    def __neg__(self):\n",
    "        return ClassicalBot()\n",
    "\n",
    "    def __and__(self, other):\n",
    "        if isinstance(other, ClassicalLiteral):\n",
    "            return ClassicalFormula(other)\n",
    "        return other\n",
    "\n",
    "    def __or__(self, other):\n",
    "        return ClassicalFormula(ClassicalTop())\n",
    "\n",
    "\n",
    "@dataclass(frozen=True, order=True)\n",
    "class ClassicalBot(ClassicalLiteral):\n",
    "    atom: ClassicalAtom = field(default=ClassicalAtom('⊥'), init=False)\n",
    "    sign: bool = field(default=False, init=False)\n",
    "\n",
    "    def __neg__(self):\n",
    "        return ClassicalTop()\n",
    "\n",
    "    def __str__(self):\n",
    "        return str(self.atom)\n",
    "\n",
    "    def __and__(self, other):\n",
    "        return ClassicalFormula(ClassicalBot())\n",
    "\n",
    "    def __or__(self, other):\n",
    "        if isinstance(other, ClassicalLiteral):\n",
    "            return ClassicalFormula(other)\n",
    "        return other\n",
    "\n",
    "\n",
    "class ClassicalConnective(IntEnum):\n",
    "    And = 0\n",
    "    Or = 1\n",
    "    Implies = 2\n",
    "\n",
    "    def __str__(self):\n",
    "        if self is ClassicalConnective.And:\n",
    "            return \"∧\"\n",
    "        elif self is ClassicalConnective.Or:\n",
    "            return \"∨\"\n",
    "        elif self is ClassicalConnective.Implies:\n",
    "            return \"→\"\n",
    "        else:\n",
    "            assert False, \"Unhandled Connective.__str__: {} = {}\".format(self.name, self.value)\n",
    "\n",
    "    def evaluate(self, left: bool, right: bool):\n",
    "        if self is ClassicalConnective.And:\n",
    "            return left and right\n",
    "        elif self is ClassicalConnective.Or:\n",
    "            return left or right\n",
    "        elif self is ClassicalConnective.Implies:\n",
    "            return not left or right\n",
    "        else:\n",
    "            assert False, \"Unhandled Connective.evaluate: {} = {}\".format(self.name, self.value)\n",
    "\n",
    "\n",
    "ForwardClassicalFormula = TypeVar('ForwardClassicalFormula', bound='ClassicalFormula')\n",
    "\n",
    "\n",
    "@dataclass(frozen=True, order=True)\n",
    "class ClassicalFormula:\n",
    "    left: Union[ForwardClassicalFormula, ClassicalLiteral]\n",
    "    connective: Optional[ClassicalConnective] = field(default=None)\n",
    "    right: Union[ForwardClassicalFormula, None] = field(default=None)\n",
    "\n",
    "    def __str__(self):\n",
    "        left_str = str(self.left)\n",
    "        connective_str = \"\"\n",
    "        if self.connective is not None:\n",
    "            connective_str = \" {}\".format(self.connective)\n",
    "            if isinstance(self.left,\n",
    "                          ClassicalFormula) and self.left.connective is not None and self.left.connective > self.connective:\n",
    "                left_str = \"({})\".format(left_str)\n",
    "        right_str = \"\"\n",
    "        if self.right is not None:\n",
    "            if self.right.left == ClassicalBot() and self.right.right is None:\n",
    "                left_str = \"¬({})\".format(left_str)\n",
    "                connective_str = \"\"\n",
    "            else:\n",
    "                right_str = \" {}\".format(self.right)\n",
    "            if isinstance(self.right,\n",
    "                          ClassicalFormula) and self.right.connective is not None and self.right.connective > self.connective:\n",
    "                left_str = \"({})\".format(left_str)\n",
    "        return \"{}{}{}\".format(left_str, connective_str, right_str)\n",
    "\n",
    "    def __repr__(self):\n",
    "        return str(self)\n",
    "\n",
    "    def evaluate(self, valuation: Optional[ClassicalValuation] = None) -> bool:\n",
    "        if isinstance(self.left, ClassicalLiteral):\n",
    "            value_left = self.__evaluate_literal(self.left, valuation)\n",
    "        else:\n",
    "            assert isinstance(self.left, ClassicalFormula), \"Unknown type for Formula.left. {}: {}\".format(\n",
    "                type(self.left).__name__, self.left)\n",
    "            value_left = self.left.evaluate(valuation)\n",
    "        if self.connective is not None and self.right is None:\n",
    "            raise TypeError(\"Formula.connective present, despite Formula.right missing.\")\n",
    "        elif self.connective is None and self.right is not None:\n",
    "            raise TypeError(\"Formula.connective missing, despite Formula.right present.\")\n",
    "\n",
    "        if self.connective is None and self.right is None:\n",
    "            return value_left\n",
    "        else:\n",
    "            assert isinstance(self.right, ClassicalFormula), \"Unknown type for Formula.right. {}: {}\".format(\n",
    "                type(self.right).__name__, self.right)\n",
    "            value_right = self.right.evaluate(valuation)\n",
    "\n",
    "            return self.connective.evaluate(value_left, value_right)\n",
    "\n",
    "    def __evaluate_literal(self, literal: ClassicalLiteral, valuation: Optional[ClassicalValuation] = None) -> bool:\n",
    "        if isinstance(literal, ClassicalTop) or isinstance(literal, ClassicalBot):\n",
    "            return literal.sign\n",
    "        else:\n",
    "            # get assigned truth value of atom (per default false) and flip the result if negated\n",
    "            return valuation is not None and bool(valuation.get(literal.atom, False) ^ (not literal.sign))\n",
    "\n",
    "    @property\n",
    "    def literals(self) -> Set[ClassicalLiteral]:\n",
    "        literals = set()\n",
    "        if isinstance(self.left, ClassicalLiteral):\n",
    "            if not isinstance(self.left, ClassicalTop) and not isinstance(self.left, ClassicalBot):\n",
    "                literals.add(self.left)\n",
    "        else:\n",
    "            assert isinstance(self.left, ClassicalFormula), \"Unknown type for Formula.right. {}: {}\".format(\n",
    "                type(self.left).__name__, self.left)\n",
    "            literals.update(self.left.literals)\n",
    "        if self.right is not None:\n",
    "            assert isinstance(self.right, ClassicalFormula), \"Unknown type for Formula.right. {}: {}\".format(\n",
    "                type(self.right).__name__, self.right)\n",
    "            literals.update(self.right.literals)\n",
    "        return literals\n",
    "\n",
    "    @property\n",
    "    def atoms(self) -> Set[ClassicalAtom]:\n",
    "        return {literal.atom for literal in self.literals}\n",
    "\n",
    "    def __neg__(self):\n",
    "        if self.connective is not None and self.right is None:\n",
    "            raise TypeError(\"Formula.connective present, despite Formula.right missing.\")\n",
    "        elif self.connective is None and self.right is not None:\n",
    "            raise TypeError(\"Formula.connective missing, despite Formula.right present.\")\n",
    "\n",
    "        if self.connective is None and self.right is None:\n",
    "            return ClassicalFormula(-self.left)\n",
    "        elif self.connective is ClassicalConnective.And:\n",
    "            return ClassicalFormula(-self.left, ClassicalConnective.Or, -self.right)\n",
    "        elif self.connective is ClassicalConnective.Or:\n",
    "            return ClassicalFormula(-self.left, ClassicalConnective.And, -self.right)\n",
    "        elif self.connective is ClassicalConnective.Implies:\n",
    "            if self.right.left == ClassicalBot() and self.right.right is None:\n",
    "                return self.left\n",
    "            return ClassicalFormula(self, ClassicalConnective.Implies, ClassicalFormula(ClassicalBot()))\n",
    "        else:\n",
    "            assert False, \"Unknown Formula.connective. {} = {}.\".format(self.connective.name, self.connective.value)\n",
    "\n",
    "    @property\n",
    "    def is_top(self) -> bool:\n",
    "        return self.right is None and isinstance(self.left, ClassicalTop)\n",
    "\n",
    "    @property\n",
    "    def is_bot(self) -> bool:\n",
    "        return self.right is None and isinstance(self.left, ClassicalBot)\n",
    "\n",
    "    def __and__(self, other):\n",
    "        left = self\n",
    "        right = other\n",
    "        if isinstance(other, ClassicalLiteral):\n",
    "            right = ClassicalFormula(right)\n",
    "        if left.is_top:\n",
    "            return right\n",
    "        elif right.is_top:\n",
    "            return left\n",
    "        if left.is_bot:\n",
    "            return left\n",
    "        elif right.is_bot:\n",
    "            return right\n",
    "        return ClassicalFormula(left, ClassicalConnective.And, right)\n",
    "\n",
    "    def __or__(self, other):\n",
    "        left = self\n",
    "        right = other\n",
    "        if isinstance(other, ClassicalLiteral):\n",
    "            right = ClassicalFormula(right)\n",
    "        if left.is_top:\n",
    "            return left\n",
    "        elif right.is_top:\n",
    "            return right\n",
    "        if left.is_bot:\n",
    "            return right\n",
    "        elif right.is_bot:\n",
    "            return left\n",
    "        return ClassicalFormula(left, ClassicalConnective.Or, right)\n",
    "\n",
    "    def __rshift__(self, other):\n",
    "        left = self\n",
    "        right = other\n",
    "        if isinstance(other, ClassicalLiteral):\n",
    "            right = ClassicalFormula(right)\n",
    "        return ClassicalFormula(left, ClassicalConnective.Implies, right)\n",
    "\n",
    "    def __call__(self, valuation: Optional[ClassicalValuation] = None) -> bool:\n",
    "        return self.evaluate(valuation)\n",
    "\n",
    "\n",
    "def all_valuations(alphabet: ClassicalAlphabet, complete: bool = False) -> Iterator[ClassicalValuation]:\n",
    "    subsets = powerset(alphabet)\n",
    "    for subset in subsets:\n",
    "        valuation = defaultdict(lambda: False)\n",
    "        for atom in subset:\n",
    "            valuation[atom] = True\n",
    "        if complete:\n",
    "            for atom in alphabet:\n",
    "                if atom not in subset:\n",
    "                    valuation[atom] = False\n",
    "        yield valuation\n",
    "\n",
    "\n",
    "def models(formulas: Set[ClassicalFormula], alphabet: Optional[ClassicalAlphabet] = None) -> Iterator[\n",
    "    ClassicalValuation]:\n",
    "    if alphabet is None:\n",
    "        alphabet = {atom for formula in formulas for atom in formula.atoms}\n",
    "    for valuation in all_valuations(alphabet):\n",
    "        if all(formula.evaluate(valuation) for formula in formulas):\n",
    "            yield valuation\n",
    "\n",
    "\n",
    "def sat(formulas: Set[ClassicalFormula], alphabet: Optional[ClassicalAlphabet] = None) -> bool:\n",
    "    model = next(models(formulas, alphabet), None)\n",
    "    return model is not None\n",
    "\n",
    "\n",
    "def unsat(formulas: Set[ClassicalFormula], alphabet: Optional[ClassicalAlphabet] = None) -> bool:\n",
    "    return not sat(formulas, alphabet)\n",
    "\n",
    "\n",
    "def entails(formulas: Set[ClassicalFormula], formula: ClassicalFormula) -> bool:\n",
    "    return unsat(formulas | {-formula})\n",
    "\n",
    "\n",
    "def valid(formulas: Set[ClassicalFormula], alphabet: Optional[ClassicalAlphabet] = None) -> bool:\n",
    "    if alphabet is None:\n",
    "        alphabet = {atom for formula in formulas for atom in formula.atoms}\n",
    "    for valuation in all_valuations(alphabet):\n",
    "        if any(not formula.evaluate(valuation) for formula in formulas):\n",
    "            return False\n",
    "    return True\n",
    "\n",
    "\n",
    "def empty_conditions(*args, **kwargs):\n",
    "    return defaultdict(lambda: ClassicalFormula(ClassicalBot()))\n",
    "\n",
    "\n",
    "@dataclass\n",
    "class ADF:\n",
    "    statements: Set[ClassicalAtom] = field(default_factory=set)\n",
    "    conditions: Mapping[ClassicalAtom, ClassicalFormula] = field(default_factory=empty_conditions)\n",
    "    rule_atoms: Set[ClassicalAtom] = field(default_factory=set)\n",
    "\n",
    "    def is_fact(self, atom: ClassicalAtom) -> bool:\n",
    "        return atom in self.conditions and any(\n",
    "            condition in self.conditions and self.conditions[condition].is_top for condition in\n",
    "            self.conditions[atom].atoms)\n",
    "\n",
    "    def is_non_factual(self, atom: ClassicalAtom) -> bool:\n",
    "        return self.conditions.get(atom, ClassicalFormula(ClassicalBot())).is_bot\n",
    "\n",
    "    def __str__(self):\n",
    "        return \"{}{}{} <{}>\".format('{', ' '.join(map(str, self.statements)), '}',\n",
    "                                    ', '.join(map(lambda i: '{}: {}'.format(i[0], i[1]), self.conditions.items())))\n",
    "\n",
    "    def __repr__(self):\n",
    "        return str(self)\n",
    "\n",
    "\n",
    "def asp_to_adf(*rules: ASPRule):\n",
    "    statements = set()\n",
    "    conditions = empty_conditions()\n",
    "    rule_atoms = set()\n",
    "    for i, rule in enumerate(rules):\n",
    "        r = ClassicalLiteral(ClassicalAtom('r{}'.format(i + 1)))\n",
    "        rule_atoms.add(r.atom)\n",
    "        bs = set(\n",
    "            ClassicalLiteral(ClassicalAtom(str(literal.atom.symbol)), sign=literal.is_pos) for literal in rule.body)\n",
    "        statements.add(r.atom)\n",
    "        statements.update(b.atom for b in bs)\n",
    "        if isinstance(rule, ASPNormalRule):\n",
    "            h = ClassicalLiteral(ClassicalAtom(str(rule.head.atom.symbol)))\n",
    "            statements.add(h.atom)\n",
    "\n",
    "            formula = conditions[h.atom]\n",
    "            formula = formula | r\n",
    "            conditions[h.atom] = formula\n",
    "            formula = ClassicalFormula(ClassicalTop())\n",
    "\n",
    "        elif isinstance(rule, ASPIntegrityConstraint):\n",
    "            formula = -ClassicalFormula(r)\n",
    "        else:\n",
    "            assert False, \"Unknown ASPRule {} with type {}.\".format(rule, type(rule).__name__)\n",
    "\n",
    "        for b in bs:\n",
    "            formula = formula & b\n",
    "        conditions[r.atom] = formula\n",
    "\n",
    "    complements = set()\n",
    "    for complement in statements:\n",
    "        if complement.is_complement:\n",
    "            for statement in statements:\n",
    "                if statement == -complement:\n",
    "                    cmp = ClassicalLiteral(ClassicalAtom('cmp({})'.format(statement.symbol)))\n",
    "                    cmp_condition = -cmp & ClassicalLiteral(statement) & ClassicalLiteral(complement)\n",
    "                    complements.add(cmp.atom)\n",
    "                    conditions[cmp.atom] = cmp_condition\n",
    "\n",
    "    statements.update(complements)\n",
    "\n",
    "    return ADF(statements, conditions, rule_atoms)\n",
    "\n",
    "\n",
    "def answer_set_to_valuation(answer_set: Iterable[ASPTopLevelSymbol]) -> ClassicalValuation:\n",
    "    valuation = defaultdict(lambda: False)\n",
    "    for elem in answer_set:\n",
    "        atom = ClassicalAtom(str(elem))\n",
    "        valuation[atom] = True\n",
    "    return valuation\n",
    "\n",
    "\n",
    "def valuation_to_extension(valuation: ClassicalValuation) -> Set[ClassicalAtom]:\n",
    "    extension = set()\n",
    "    for atom, truthvalue in valuation.items():\n",
    "        if truthvalue:\n",
    "            extension.add(atom)\n",
    "    return extension\n",
    "\n",
    "\n",
    "def extension_to_valuation(extension: Set[ClassicalAtom]) -> ClassicalValuation:\n",
    "    valuation = defaultdict(lambda: False)\n",
    "    for atom in extension:\n",
    "        valuation[atom] = True\n",
    "    return valuation"
   ],
   "metadata": {
    "collapsed": false,
    "pycharm": {
     "name": "#%%\n"
    }
   }
  },
  {
   "cell_type": "code",
   "execution_count": 70,
   "outputs": [],
   "source": [
    "PDE = Tuple[ClassicalAtom, Set[ClassicalAtom], Set[ClassicalAtom], Sequence[ClassicalAtom]]\n",
    "\n",
    "\n",
    "def fmt_pde(pde: PDE) -> str:\n",
    "    return \"({}, {}{}{}, {}{}{}, [{}])\".format(pde[0], '{', ','.join(map(str, pde[1])), '}', '{',\n",
    "                                               ','.join(map(str, pde[2])), '}', ','.join(map(str, pde[3])))\n",
    "\n",
    "\n",
    "def print_pde(pde: PDE):\n",
    "    print(fmt_pde(pde))\n",
    "\n",
    "\n",
    "def get_pdes(adf: ADF,\n",
    "             e: ClassicalAtom,\n",
    "             extension: Set[ClassicalAtom],\n",
    "             sequence: Optional[MutableSequence[ClassicalAtom]] = None,\n",
    "             facts: Optional[Set[ClassicalAtom]] = None,\n",
    "             blocking: Optional[Set[ClassicalAtom]] = None) -> Sequence[PDE]:\n",
    "    if facts is None:\n",
    "        facts = set()\n",
    "    if blocking is None:\n",
    "        blocking = set()\n",
    "    if sequence is None:\n",
    "        sequence = []\n",
    "\n",
    "    sequence.insert(0, e)\n",
    "\n",
    "    conditions = set(adf.conditions[e].atoms)\n",
    "\n",
    "    pdes = []\n",
    "\n",
    "    for condition in conditions:\n",
    "        if len(conditions) > 1:\n",
    "            facts_ = deepcopy(facts)\n",
    "            blocking_ = deepcopy(blocking)\n",
    "            sequence_ = deepcopy(sequence)\n",
    "        else:\n",
    "            facts_ = facts\n",
    "            blocking_ = blocking\n",
    "            sequence_ = sequence\n",
    "        sequence_.insert(0, condition)\n",
    "        if adf.is_fact(e):\n",
    "            facts_.add(e)\n",
    "            pdes.append((e, facts_, blocking_, sequence_))\n",
    "            return pdes\n",
    "\n",
    "        subcondition = adf.conditions[condition]\n",
    "        literals = set(subcondition.literals)\n",
    "        branch_pdes = [(e, facts_, blocking_, sequence_)]\n",
    "        subpdes = None\n",
    "        for literal in literals:\n",
    "            if literal.sign is False:\n",
    "                blocking_.add(literal.atom)\n",
    "                continue\n",
    "            subpdes = []\n",
    "            for branch in branch_pdes:\n",
    "                _, facts_, blocking_, sequence_ = branch\n",
    "                subpdes.extend(get_pdes(adf, literal.atom, extension, sequence_, facts_, blocking_))\n",
    "            branch_pdes = subpdes\n",
    "        if subpdes is not None and subpdes:\n",
    "            for subpde in subpdes:\n",
    "                _, facts_, blocking_, sequence_ = subpde\n",
    "                pdes.append((e, facts_, blocking_, sequence_))\n",
    "        else:\n",
    "            pdes.append((e, facts_, blocking_, sequence_))\n",
    "\n",
    "    return pdes\n"
   ],
   "metadata": {
    "collapsed": false,
    "pycharm": {
     "name": "#%%\n"
    }
   }
  },
  {
   "cell_type": "code",
   "execution_count": 71,
   "outputs": [],
   "source": [
    "CompactPDE = Tuple[ClassicalAtom, FrozenSet[ClassicalAtom], FrozenSet[ClassicalAtom], FrozenSet[ClassicalAtom]]\n",
    "\n",
    "\n",
    "def fmt_compact_pde(pde: CompactPDE) -> str:\n",
    "    return \"({}, {}{}{}, {}{}{}, {}{}{})\".format(pde[0], '{', ','.join(map(str, sorted(pde[1]))), '}', '{',\n",
    "                                                 ','.join(map(str, sorted(pde[2]))), '}', '{',\n",
    "                                                 ','.join(map(str, sorted(pde[3]))), '}')\n",
    "\n",
    "\n",
    "def print_compact_pde(pde: CompactPDE):\n",
    "    print(fmt_compact_pde(pde))\n",
    "\n",
    "\n",
    "ForwardASLExplanationGraph = TypeVar('ForwardASLExplanationGraph', bound='ASLExplanationGraph')\n",
    "\n",
    "\n",
    "@dataclass\n",
    "class ASLJustificationTree:\n",
    "    adf: ADF\n",
    "    extension: Set[ClassicalAtom]\n",
    "    pde: CompactPDE\n",
    "    proof: bool = field(default=False)\n",
    "    children: Optional[MutableSequence[ForwardASLExplanationGraph]] = field(default=None)\n",
    "\n",
    "    @property\n",
    "    def is_expanded(self) -> bool:\n",
    "        return self.children is not None\n",
    "\n",
    "    def expand(self):\n",
    "        raise NotImplementedError\n",
    "\n",
    "    def expand_recursively(self, depth=None):\n",
    "        if depth is not None and depth <= 0:\n",
    "            return\n",
    "        self.expand()\n",
    "        for child in self.children:\n",
    "            child.expand_recursively(depth=None if depth is None else depth - 1)\n",
    "\n",
    "    def fmt(self, indent=0, root=True):\n",
    "        fmt = \"\"\n",
    "        if root:\n",
    "            fmt += '*\\n|'\n",
    "        for i in range(indent):\n",
    "            fmt += '|  '\n",
    "        if indent > 0:\n",
    "            fmt += '\\n'\n",
    "            for i in range(indent - 1):\n",
    "                fmt += '|  '\n",
    "            fmt += '|__'\n",
    "\n",
    "        fmt += '__' + str(self)\n",
    "        if self.is_expanded:\n",
    "            for child in self.children:\n",
    "                fmt += '\\n' + child.fmt(indent=indent + 1, root=False)\n",
    "        return fmt\n",
    "\n",
    "    def pretty_print(self):\n",
    "        print(self.fmt())\n",
    "\n",
    "    def __str__(self):\n",
    "        return \"<{},{}>\".format(fmt_compact_pde(self.pde), '+' if self.proof else '-')\n",
    "\n",
    "\n",
    "@dataclass\n",
    "class ASLRefutation(ASLJustificationTree):\n",
    "    proof: bool = field(default=False, init=False)\n",
    "\n",
    "    def expand(self):\n",
    "        if self.is_expanded:\n",
    "            return\n",
    "        children = []\n",
    "\n",
    "        for block in self.pde[2]:\n",
    "            child_pdes = {compress(self.adf, pde) for pde in get_pdes(self.adf, block, self.extension)}\n",
    "            assert len(child_pdes) == 1\n",
    "            child = ASLProof(adf=self.adf,\n",
    "                             extension=self.extension,\n",
    "                             pde=compress(self.adf, next(iter(child_pdes))))\n",
    "            children.append(child)\n",
    "        self.children = children\n",
    "\n",
    "\n",
    "@dataclass\n",
    "class ASLProof(ASLJustificationTree):\n",
    "    proof: bool = field(default=True, init=False)\n",
    "\n",
    "    def expand(self, prefer: Optional[ClassicalAtom] = None):\n",
    "        if self.is_expanded:\n",
    "            return\n",
    "        children = []\n",
    "\n",
    "        if not self.adf.is_fact(self.pde[0]) and frozenset((-self.pde[0],)) != self.pde[2]:\n",
    "            for block in self.pde[2]:\n",
    "                if self.adf.is_non_factual(block):\n",
    "                    continue\n",
    "                child_pdes = {compress(self.adf, pde) for pde in get_pdes(self.adf, block, self.extension)}\n",
    "\n",
    "                for pde in child_pdes:\n",
    "                    child = ASLRefutation(adf=self.adf, extension=self.extension, pde=pde)\n",
    "                    children.append(child)\n",
    "\n",
    "        self.children = children\n",
    "\n",
    "\n",
    "def compress(adf: ADF, pde: PDE) -> CompactPDE:\n",
    "    literal, facts, blocking, sequence = pde\n",
    "    return literal, frozenset(facts), frozenset(blocking), frozenset(\n",
    "        elem for elem in sequence if elem in adf.rule_atoms)\n",
    "\n",
    "\n",
    "def less_specific(pde1: CompactPDE, pde2: CompactPDE) -> bool:\n",
    "    return pde1[0] == pde2[0] and (\n",
    "            (pde1[1] >= pde2[1] and pde1[2] > pde2[2]) or (pde1[1] > pde2[1] and pde1[2] >= pde2[2]))\n",
    "\n",
    "\n",
    "def more_specific(pde1: CompactPDE, pde2: CompactPDE) -> bool:\n",
    "    return pde1[0] == pde2[0] and (\n",
    "            (pde1[1] <= pde2[1] and pde1[2] < pde2[2]) or (pde1[1] < pde2[1] and pde1[2] <= pde2[2]))\n",
    "\n",
    "\n",
    "def compare_cde(pde1: CompactPDE, pde2: CompactPDE) -> int:\n",
    "    if less_specific(pde1, pde2) and more_specific(pde2, pde1):\n",
    "        return -1\n",
    "    elif less_specific(pde2, pde1) and more_specific(pde1, pde2):\n",
    "        return 1\n",
    "    else:\n",
    "        return 0\n",
    "\n",
    "\n",
    "def make_program(*rules: ASPRule):\n",
    "    return '\\n'.join(map(str, rules))"
   ],
   "metadata": {
    "collapsed": false,
    "pycharm": {
     "name": "#%%\n"
    }
   }
  },
  {
   "cell_type": "code",
   "execution_count": 72,
   "outputs": [],
   "source": [
    "BPDE = namedtuple('BPDE', ['atom', 'facts', 'blocking', 'unfounded', 'sequence'])\n",
    "\n",
    "\n",
    "def fmt_bpde(bpde: BPDE):\n",
    "    return \"({},{}{}{},{}{}{},{}{}{},[{}])\".format(bpde.atom,\n",
    "                                                   '{',\n",
    "                                                   ','.join(map(str, bpde.facts)),\n",
    "                                                   '}',\n",
    "                                                   '{',\n",
    "                                                   ','.join(map(str, bpde.blocking)),\n",
    "                                                   '}',\n",
    "                                                   '{',\n",
    "                                                   ','.join(map(str, bpde.unfounded)),\n",
    "                                                   '}',\n",
    "                                                   ','.join(map(str, bpde.sequence))\n",
    "                                                   )\n",
    "\n",
    "\n",
    "def print_bpde(bpde: BPDE):\n",
    "    print(fmt_bpde(bpde))"
   ],
   "metadata": {
    "collapsed": false,
    "pycharm": {
     "name": "#%%\n"
    }
   }
  },
  {
   "cell_type": "code",
   "execution_count": 73,
   "outputs": [
    {
     "name": "stdout",
     "output_type": "stream",
     "text": [
      "(a,{},{},{a},[a])\n"
     ]
    }
   ],
   "source": [
    "def backwards_pde(adf: ADF,\n",
    "                  query: ClassicalAtom,\n",
    "                  facts: Optional[Set[ClassicalAtom]] = None,\n",
    "                  blocking: Optional[Set[ClassicalAtom]] = None,\n",
    "                  unfounded: Optional[Set[ClassicalAtom]] = None,\n",
    "                  sequence: Optional[MutableSequence[ClassicalAtom]] = None\n",
    "                  ) -> Sequence[BPDE]:\n",
    "    if facts is None:\n",
    "        facts = set()\n",
    "    if blocking is None:\n",
    "        blocking = set()\n",
    "    if unfounded is None:\n",
    "        unfounded = set()\n",
    "    if sequence is None:\n",
    "        sequence = list()\n",
    "\n",
    "    sequence.insert(0, query)\n",
    "\n",
    "    if query in facts:\n",
    "        return [BPDE(query, facts, blocking, unfounded, sequence)]\n",
    "\n",
    "    unfounded.add(query)\n",
    "\n",
    "    condition_formula = adf.conditions[query]\n",
    "    conditions = set(condition_formula.atoms)\n",
    "\n",
    "    pdes = []\n",
    "\n",
    "    for condition in conditions:\n",
    "        if len(conditions) > 1:\n",
    "            facts_ = deepcopy(facts)\n",
    "            blocking_ = deepcopy(blocking)\n",
    "            unfounded_ = deepcopy(unfounded)\n",
    "            sequence_ = deepcopy(sequence)\n",
    "        else:\n",
    "            facts_ = facts\n",
    "            blocking_ = blocking\n",
    "            unfounded_ = unfounded\n",
    "            sequence_ = sequence\n",
    "\n",
    "        sequence_.insert(0, condition)\n",
    "\n",
    "        if adf.is_fact(query):\n",
    "            facts_.add(query)\n",
    "            unfounded_.remove(query)\n",
    "            pdes.append(BPDE(query, facts_, blocking_, unfounded_, sequence_))\n",
    "        else:\n",
    "\n",
    "            literals = set(adf.conditions[condition].literals)\n",
    "            subpdes = None\n",
    "            branch_pdes = [BPDE(query, facts_, blocking_, unfounded_, sequence_)]\n",
    "            for literal in literals:\n",
    "                if literal.sign is False:\n",
    "                    blocking_.add(literal.atom)\n",
    "                else:\n",
    "                    if literal.atom in facts_ or literal.atom in unfounded_:\n",
    "                        continue\n",
    "                    subpdes = []\n",
    "                    for branch in branch_pdes:\n",
    "                        _, facts_, blocking_, unfounded_, sequence_ = branch\n",
    "                        unfounded_.add(literal.atom)\n",
    "                        subpdes_ = backwards_pde(adf, literal.atom, facts_, blocking_,\n",
    "                                                 unfounded_, sequence_)\n",
    "                        subpdes.extend(subpdes_)\n",
    "            if subpdes is not None and subpdes:\n",
    "                for subpde in subpdes:\n",
    "                    _, facts_, blocking_, unfounded_, sequence_ = subpde\n",
    "                    if {literal.atom for literal in adf.conditions[condition].literals if literal.sign}.isdisjoint(\n",
    "                            unfounded_):\n",
    "                        unfounded_.remove(query)\n",
    "                    pdes.append(BPDE(query, facts_, blocking_, unfounded_, sequence_))\n",
    "            else:\n",
    "                pdes.append(BPDE(query, facts_, blocking_, unfounded_, sequence_))\n",
    "        if query in unfounded_ and {literal.atom for literal in adf.conditions[condition].literals if\n",
    "                                    literal.sign}.isdisjoint(unfounded_):\n",
    "            unfounded_.remove(query)\n",
    "\n",
    "    if not conditions:\n",
    "        pdes = [BPDE(query, facts, blocking, unfounded, sequence)]\n",
    "\n",
    "    return pdes\n",
    "\n",
    "bpdes = backwards_pde(adf, a.as_classical_atom())\n",
    "for bpde in bpdes:\n",
    "    print_bpde(bpde)"
   ],
   "metadata": {
    "collapsed": false,
    "pycharm": {
     "name": "#%%\n"
    }
   }
  },
  {
   "cell_type": "code",
   "execution_count": 74,
   "outputs": [
    {
     "name": "stdout",
     "output_type": "stream",
     "text": [
      "w :- b, o, not p.\n",
      "b.\n",
      "o.\n"
     ]
    }
   ],
   "source": [
    "b = ASPBasicLiteral.make_literal('b')  # she has a book to finish working through\n",
    "w = ASPBasicLiteral.make_literal('w')  # she will work late\n",
    "o = ASPBasicLiteral.make_literal('o')  # the library will be open when she arrives\n",
    "p = ASPBasicLiteral.make_literal('p')  # there is a party she would rather go to\n",
    "\n",
    "r1 = ASPNormalRule(w, (b, o, -p))\n",
    "r2 = ASPNormalRule(b)\n",
    "r3 = ASPNormalRule(o)\n",
    "\n",
    "rs = (r1, r2, r3)\n",
    "\n",
    "prg = '\\n'.join(map(str, rs))\n",
    "\n",
    "print(prg)"
   ],
   "metadata": {
    "collapsed": false,
    "pycharm": {
     "name": "#%%\n"
    }
   }
  },
  {
   "cell_type": "code",
   "execution_count": 75,
   "outputs": [
    {
     "name": "stdout",
     "output_type": "stream",
     "text": [
      "Answer 1: { b o w }\n",
      "SAT 1\n"
     ]
    }
   ],
   "source": [
    "answer_sets = tuple(asp_evaluate(prg, report=True))\n",
    "answer_set = answer_sets[0]"
   ],
   "metadata": {
    "collapsed": false,
    "pycharm": {
     "name": "#%%\n"
    }
   }
  },
  {
   "cell_type": "code",
   "execution_count": 76,
   "outputs": [
    {
     "name": "stdout",
     "output_type": "stream",
     "text": [
      "{w r1 p b o r2 r3} <w: r1, r1: b ∧ ¬p ∧ o, b: r2, r2: ⊤, o: r3, r3: ⊤>\n"
     ]
    }
   ],
   "source": [
    "adf = asp_to_adf(*rs)\n",
    "print(adf)"
   ],
   "metadata": {
    "collapsed": false,
    "pycharm": {
     "name": "#%%\n"
    }
   }
  },
  {
   "cell_type": "code",
   "execution_count": 77,
   "outputs": [
    {
     "name": "stdout",
     "output_type": "stream",
     "text": [
      "(w,{o,b},{p},{},[r3,o,r2,b,r1,w])\n"
     ]
    }
   ],
   "source": [
    "bpdes = backwards_pde(adf, w.as_classical_atom())\n",
    "for bpde in bpdes:\n",
    "    print_bpde(bpde)"
   ],
   "metadata": {
    "collapsed": false,
    "pycharm": {
     "name": "#%%\n"
    }
   }
  },
  {
   "cell_type": "code",
   "execution_count": 78,
   "outputs": [
    {
     "name": "stdout",
     "output_type": "stream",
     "text": [
      "(p,{},{},{p},[p])\n"
     ]
    }
   ],
   "source": [
    "bpdes = backwards_pde(adf, p.as_classical_atom())\n",
    "for bpde in bpdes:\n",
    "    print_bpde(bpde)"
   ],
   "metadata": {
    "collapsed": false,
    "pycharm": {
     "name": "#%%\n"
    }
   }
  },
  {
   "cell_type": "code",
   "execution_count": 79,
   "outputs": [
    {
     "name": "stdout",
     "output_type": "stream",
     "text": [
      "(o,{o},{},{},[r3,o])\n"
     ]
    }
   ],
   "source": [
    "bpdes = backwards_pde(adf, o.as_classical_atom())\n",
    "for bpde in bpdes:\n",
    "    print_bpde(bpde)"
   ],
   "metadata": {
    "collapsed": false,
    "pycharm": {
     "name": "#%%\n"
    }
   }
  },
  {
   "cell_type": "code",
   "execution_count": 80,
   "outputs": [
    {
     "name": "stdout",
     "output_type": "stream",
     "text": [
      "a :- not b.\n",
      "b :- not a.\n"
     ]
    }
   ],
   "source": [
    "a = ASPBasicLiteral.make_literal('a')\n",
    "b = ASPBasicLiteral.make_literal('b')\n",
    "\n",
    "r1 = ASPNormalRule(a, (-b,))\n",
    "r2 = ASPNormalRule(b, (-a,))\n",
    "\n",
    "rs = (r1, r2)\n",
    "\n",
    "prg = make_program(*rs)\n",
    "print(prg)"
   ],
   "metadata": {
    "collapsed": false,
    "pycharm": {
     "name": "#%%\n"
    }
   }
  },
  {
   "cell_type": "code",
   "execution_count": 81,
   "outputs": [
    {
     "name": "stdout",
     "output_type": "stream",
     "text": [
      "Answer 1: { b }\n",
      "Answer 2: { a }\n",
      "SAT 2\n"
     ]
    }
   ],
   "source": [
    "answer_sets = tuple(asp_evaluate(prg, report=True))"
   ],
   "metadata": {
    "collapsed": false,
    "pycharm": {
     "name": "#%%\n"
    }
   }
  },
  {
   "cell_type": "code",
   "execution_count": 82,
   "outputs": [
    {
     "name": "stdout",
     "output_type": "stream",
     "text": [
      "{r2 r1 b a} <a: r1, r1: ¬b, b: r2, r2: ¬a>\n"
     ]
    }
   ],
   "source": [
    "adf = asp_to_adf(*rs)\n",
    "print(adf)"
   ],
   "metadata": {
    "collapsed": false,
    "pycharm": {
     "name": "#%%\n"
    }
   }
  },
  {
   "cell_type": "code",
   "execution_count": 83,
   "outputs": [
    {
     "name": "stdout",
     "output_type": "stream",
     "text": [
      "(a,{},{b},{},[r1,a])\n"
     ]
    }
   ],
   "source": [
    "bpdes = backwards_pde(adf, a.as_classical_atom())\n",
    "for bpde in bpdes:\n",
    "    print_bpde(bpde)"
   ],
   "metadata": {
    "collapsed": false,
    "pycharm": {
     "name": "#%%\n"
    }
   }
  },
  {
   "cell_type": "code",
   "execution_count": 84,
   "outputs": [
    {
     "name": "stdout",
     "output_type": "stream",
     "text": [
      "(b,{},{a},{},[r2,b])\n"
     ]
    }
   ],
   "source": [
    "bpdes = backwards_pde(adf, b.as_classical_atom())\n",
    "for bpde in bpdes:\n",
    "    print_bpde(bpde)"
   ],
   "metadata": {
    "collapsed": false,
    "pycharm": {
     "name": "#%%\n"
    }
   }
  },
  {
   "cell_type": "code",
   "execution_count": 85,
   "outputs": [
    {
     "name": "stdout",
     "output_type": "stream",
     "text": [
      "a :- not b.\n",
      "b :- not a.\n"
     ]
    }
   ],
   "source": [
    "a = ASPBasicLiteral.make_literal('a')\n",
    "b = ASPBasicLiteral.make_literal('b')\n",
    "\n",
    "r1 = ASPNormalRule(a, (-b,))\n",
    "r2 = ASPNormalRule(b, (-a,))\n",
    "\n",
    "rs = (r1, r2)\n",
    "\n",
    "prg = make_program(*rs)\n",
    "print(prg)"
   ],
   "metadata": {
    "collapsed": false,
    "pycharm": {
     "name": "#%%\n"
    }
   }
  },
  {
   "cell_type": "code",
   "execution_count": 86,
   "outputs": [
    {
     "name": "stdout",
     "output_type": "stream",
     "text": [
      "a :- k, not b.\n",
      "k :- e, not b.\n",
      "c :- a, b.\n",
      "b :- not a.\n",
      "c :- k.\n",
      "f :- e, not k, not c.\n",
      "e.\n"
     ]
    }
   ],
   "source": [
    "a = ASPBasicLiteral.make_literal('a')\n",
    "b = ASPBasicLiteral.make_literal('b')\n",
    "c = ASPBasicLiteral.make_literal('c')\n",
    "e = ASPBasicLiteral.make_literal('e')\n",
    "f = ASPBasicLiteral.make_literal('f')\n",
    "k = ASPBasicLiteral.make_literal('k')\n",
    "\n",
    "r1 = ASPNormalRule(a, (k, -b))\n",
    "r2 = ASPNormalRule(k, (e, -b))\n",
    "r3 = ASPNormalRule(c, (a, b))\n",
    "r4 = ASPNormalRule(b, (-a,))\n",
    "r5 = ASPNormalRule(c, (k,))\n",
    "r6 = ASPNormalRule(f, (e, -k, -c))\n",
    "r7 = ASPNormalRule(e)\n",
    "\n",
    "rs = (r1, r2, r3, r4, r5, r6, r7)\n",
    "\n",
    "prg = make_program(*rs)\n",
    "print(prg)"
   ],
   "metadata": {
    "collapsed": false,
    "pycharm": {
     "name": "#%%\n"
    }
   }
  },
  {
   "cell_type": "code",
   "execution_count": 87,
   "outputs": [
    {
     "name": "stdout",
     "output_type": "stream",
     "text": [
      "Answer 1: { b e f }\n",
      "Answer 2: { a c e k }\n",
      "SAT 2\n"
     ]
    }
   ],
   "source": [
    "answer_sets = tuple(asp_evaluate(prg, report=True))"
   ],
   "metadata": {
    "collapsed": false,
    "pycharm": {
     "name": "#%%\n"
    }
   }
  },
  {
   "cell_type": "code",
   "execution_count": 88,
   "outputs": [
    {
     "name": "stdout",
     "output_type": "stream",
     "text": [
      "{r4 r5 r1 c k b r6 f r2 e r7 r3 a} <a: r1, r1: k ∧ ¬b, k: r2, r2: e ∧ ¬b, c: r3 ∨ r5, r3: b ∧ a, b: r4, r4: ¬a, r5: k, f: r6, r6: ¬k ∧ e ∧ ¬c, e: r7, r7: ⊤>\n"
     ]
    }
   ],
   "source": [
    "adf = asp_to_adf(*rs)\n",
    "print(adf)"
   ],
   "metadata": {
    "collapsed": false,
    "pycharm": {
     "name": "#%%\n"
    }
   }
  },
  {
   "cell_type": "code",
   "execution_count": 89,
   "outputs": [
    {
     "name": "stdout",
     "output_type": "stream",
     "text": [
      "(f,{e},{c,k},{},[r7,e,r6,f])\n"
     ]
    }
   ],
   "source": [
    "bpdes = backwards_pde(adf, f.as_classical_atom())\n",
    "for bpde in bpdes:\n",
    "    print_bpde(bpde)"
   ],
   "metadata": {
    "collapsed": false,
    "pycharm": {
     "name": "#%%\n"
    }
   }
  },
  {
   "cell_type": "code",
   "execution_count": 90,
   "outputs": [
    {
     "name": "stdout",
     "output_type": "stream",
     "text": [
      "(b,{},{a},{},[r4,b])\n"
     ]
    }
   ],
   "source": [
    "bpdes = backwards_pde(adf, b.as_classical_atom())\n",
    "for bpde in bpdes:\n",
    "    print_bpde(bpde)"
   ],
   "metadata": {
    "collapsed": false,
    "pycharm": {
     "name": "#%%\n"
    }
   }
  },
  {
   "cell_type": "code",
   "execution_count": 91,
   "outputs": [
    {
     "name": "stdout",
     "output_type": "stream",
     "text": [
      "(a,{e},{b},{},[r7,e,r2,k,r1,a])\n"
     ]
    }
   ],
   "source": [
    "bpdes = backwards_pde(adf, a.as_classical_atom())\n",
    "for bpde in bpdes:\n",
    "    print_bpde(bpde)"
   ],
   "metadata": {
    "collapsed": false,
    "pycharm": {
     "name": "#%%\n"
    }
   }
  },
  {
   "cell_type": "code",
   "execution_count": 92,
   "outputs": [
    {
     "name": "stdout",
     "output_type": "stream",
     "text": [
      "(c,{e},{b},{},[r7,e,r2,k,r5,c])\n",
      "(c,{e},{b,a},{},[r7,e,r2,k,r1,a,r4,b,r3,c])\n"
     ]
    }
   ],
   "source": [
    "bpdes = backwards_pde(adf, c.as_classical_atom())\n",
    "for bpde in bpdes:\n",
    "    print_bpde(bpde)"
   ],
   "metadata": {
    "collapsed": false,
    "pycharm": {
     "name": "#%%\n"
    }
   }
  },
  {
   "cell_type": "code",
   "execution_count": 93,
   "outputs": [
    {
     "name": "stdout",
     "output_type": "stream",
     "text": [
      "(e,{e},{},{},[r7,e])\n"
     ]
    }
   ],
   "source": [
    "bpdes = backwards_pde(adf, e.as_classical_atom())\n",
    "for bpde in bpdes:\n",
    "    print_bpde(bpde)"
   ],
   "metadata": {
    "collapsed": false,
    "pycharm": {
     "name": "#%%\n"
    }
   }
  },
  {
   "cell_type": "code",
   "execution_count": 94,
   "outputs": [
    {
     "name": "stdout",
     "output_type": "stream",
     "text": [
      "a :- b.\n",
      "b :- a.\n"
     ]
    }
   ],
   "source": [
    "a = ASPBasicLiteral.make_literal('a')\n",
    "b = ASPBasicLiteral.make_literal('b')\n",
    "\n",
    "r1 = ASPNormalRule(a, (b,))\n",
    "r2 = ASPNormalRule(b, (a,))\n",
    "\n",
    "rs = (r1, r2)\n",
    "\n",
    "prg = make_program(*rs)\n",
    "print(prg)"
   ],
   "metadata": {
    "collapsed": false,
    "pycharm": {
     "name": "#%%\n"
    }
   }
  },
  {
   "cell_type": "code",
   "execution_count": 95,
   "outputs": [
    {
     "name": "stdout",
     "output_type": "stream",
     "text": [
      "Answer 1: {  }\n",
      "SAT 1\n"
     ]
    }
   ],
   "source": [
    "answer_sets = tuple(asp_evaluate(prg, report=True))"
   ],
   "metadata": {
    "collapsed": false,
    "pycharm": {
     "name": "#%%\n"
    }
   }
  },
  {
   "cell_type": "code",
   "execution_count": 96,
   "outputs": [
    {
     "name": "stdout",
     "output_type": "stream",
     "text": [
      "{r2 r1 b a} <a: r1, r1: b, b: r2, r2: a>\n"
     ]
    }
   ],
   "source": [
    "adf = asp_to_adf(*rs)\n",
    "print(adf)"
   ],
   "metadata": {
    "collapsed": false,
    "pycharm": {
     "name": "#%%\n"
    }
   }
  },
  {
   "cell_type": "code",
   "execution_count": 97,
   "outputs": [
    {
     "name": "stdout",
     "output_type": "stream",
     "text": [
      "(a,{},{},{b,a},[r2,b,r1,a])\n"
     ]
    }
   ],
   "source": [
    "bpdes = backwards_pde(adf, a.as_classical_atom())\n",
    "for bpde in bpdes:\n",
    "    print_bpde(bpde)"
   ],
   "metadata": {
    "collapsed": false,
    "pycharm": {
     "name": "#%%\n"
    }
   }
  },
  {
   "cell_type": "code",
   "execution_count": 98,
   "outputs": [
    {
     "name": "stdout",
     "output_type": "stream",
     "text": [
      "a :- b.\n",
      "b :- a.\n",
      "b :- c.\n",
      "c.\n"
     ]
    }
   ],
   "source": [
    "a = ASPBasicLiteral.make_literal('a')\n",
    "b = ASPBasicLiteral.make_literal('b')\n",
    "c = ASPBasicLiteral.make_literal('c')\n",
    "\n",
    "r1 = ASPNormalRule(a, (b,))\n",
    "r2 = ASPNormalRule(b, (a,))\n",
    "r3 = ASPNormalRule(b, (c,))\n",
    "r4 = ASPNormalRule(c)\n",
    "\n",
    "rs = (r1, r2, r3, r4)\n",
    "\n",
    "prg = make_program(*rs)\n",
    "print(prg)"
   ],
   "metadata": {
    "collapsed": false,
    "pycharm": {
     "name": "#%%\n"
    }
   }
  },
  {
   "cell_type": "code",
   "execution_count": 99,
   "outputs": [
    {
     "name": "stdout",
     "output_type": "stream",
     "text": [
      "{r4 r1 c b r2 r3 a} <a: r1, r1: b, b: r2 ∨ r3, r2: a, r3: c, c: r4, r4: ⊤>\n"
     ]
    }
   ],
   "source": [
    "adf = asp_to_adf(*rs)\n",
    "print(adf)"
   ],
   "metadata": {
    "collapsed": false,
    "pycharm": {
     "name": "#%%\n"
    }
   }
  },
  {
   "cell_type": "code",
   "execution_count": 100,
   "outputs": [
    {
     "name": "stdout",
     "output_type": "stream",
     "text": [
      "(a,{},{},{b,a},[r2,b,r1,a])\n",
      "(a,{c},{},{},[r4,c,r3,b,r1,a])\n"
     ]
    }
   ],
   "source": [
    "bpdes = backwards_pde(adf, a.as_classical_atom())\n",
    "for bpde in bpdes:\n",
    "    print_bpde(bpde)"
   ],
   "metadata": {
    "collapsed": false,
    "pycharm": {
     "name": "#%%\n"
    }
   }
  },
  {
   "cell_type": "code",
   "execution_count": 101,
   "outputs": [
    {
     "name": "stdout",
     "output_type": "stream",
     "text": [
      "(b,{},{},{b,a},[r1,a,r2,b])\n",
      "(b,{c},{},{},[r4,c,r3,b])\n"
     ]
    }
   ],
   "source": [
    "bpdes = backwards_pde(adf, b.as_classical_atom())\n",
    "for bpde in bpdes:\n",
    "    print_bpde(bpde)"
   ],
   "metadata": {
    "collapsed": false,
    "pycharm": {
     "name": "#%%\n"
    }
   }
  },
  {
   "cell_type": "code",
   "execution_count": 102,
   "outputs": [
    {
     "name": "stdout",
     "output_type": "stream",
     "text": [
      "(c,{c},{},{},[r4,c])\n"
     ]
    }
   ],
   "source": [
    "bpdes = backwards_pde(adf, c.as_classical_atom())\n",
    "for bpde in bpdes:\n",
    "    print_bpde(bpde)"
   ],
   "metadata": {
    "collapsed": false,
    "pycharm": {
     "name": "#%%\n"
    }
   }
  },
  {
   "cell_type": "code",
   "execution_count": null,
   "outputs": [],
   "source": [],
   "metadata": {
    "collapsed": false,
    "pycharm": {
     "name": "#%%\n"
    }
   }
  }
 ],
 "metadata": {
  "kernelspec": {
   "display_name": "Python 3",
   "language": "python",
   "name": "python3"
  },
  "language_info": {
   "codemirror_mode": {
    "name": "ipython",
    "version": 2
   },
   "file_extension": ".py",
   "mimetype": "text/x-python",
   "name": "python",
   "nbconvert_exporter": "python",
   "pygments_lexer": "ipython2",
   "version": "2.7.6"
  }
 },
 "nbformat": 4,
 "nbformat_minor": 0
}