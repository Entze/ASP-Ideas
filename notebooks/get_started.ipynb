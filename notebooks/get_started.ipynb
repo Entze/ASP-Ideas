{
 "cells": [
  {
   "cell_type": "code",
   "execution_count": 6,
   "id": "9feb4386",
   "metadata": {},
   "outputs": [],
   "source": [
    "from util.run import solve\n",
    "from clingo import SymbolType\n"
   ]
  },
  {
   "cell_type": "code",
   "execution_count": 7,
   "id": "bf977067",
   "metadata": {},
   "outputs": [
    {
     "name": "stdout",
     "output_type": "stream",
     "text": [
      "Answer  1: { p q }.\n",
      "SAT 1 \n"
     ]
    },
    {
     "data": {
      "text/plain": "([{Function('q', [], True)}],\n [Model(<cdata 'struct clingo_model *' 0x55d415d6cce8>)])"
     },
     "execution_count": 7,
     "metadata": {},
     "output_type": "execute_result"
    }
   ],
   "source": [
    "program_string = \"\"\"\n",
    "p.\n",
    "\n",
    "q :- p.\n",
    "\"\"\"\n",
    "solve(program_string, \"q\")"
   ]
  },
  {
   "cell_type": "code",
   "execution_count": 8,
   "id": "fb2107e2",
   "metadata": {},
   "outputs": [
    {
     "name": "stdout",
     "output_type": "stream",
     "text": [
      "p.\n",
      "\n",
      "q :- p.\n",
      "\n",
      "Answer  1: { p q }.\n",
      "SAT 1 \n"
     ]
    },
    {
     "data": {
      "text/plain": "([{Function('p', [], True), Function('q', [], True)}],\n [Model(<cdata 'struct clingo_model *' 0x55d416418f48>)])"
     },
     "execution_count": 8,
     "metadata": {},
     "output_type": "execute_result"
    }
   ],
   "source": [
    "with open(\"../logic_programs/get_started.lp\", 'r') as file:\n",
    "    program_file = \"\"\n",
    "    for line in file:\n",
    "        program_file += line\n",
    "\n",
    "print(program_file)\n",
    "solve(program_file)"
   ]
  },
  {
   "cell_type": "code",
   "execution_count": 9,
   "id": "1752ddfa",
   "metadata": {},
   "outputs": [
    {
     "name": "stdout",
     "output_type": "stream",
     "text": [
      "Answer  1: { p q }.\n",
      "SAT 1 \n"
     ]
    },
    {
     "data": {
      "text/plain": "([{Function('p', [], True), Function('q', [], True)}],\n [Model(<cdata 'struct clingo_model *' 0x55d41617a638>)])"
     },
     "execution_count": 9,
     "metadata": {},
     "output_type": "execute_result"
    }
   ],
   "source": [
    "solve(\"../logic_programs/get_started.lp\")"
   ]
  },
  {
   "cell_type": "code",
   "execution_count": 10,
   "id": "1b1103a9",
   "metadata": {},
   "outputs": [
    {
     "name": "stdout",
     "output_type": "stream",
     "text": [
      "Answer  1: { motive(harry) motive(sally) guilty(harry) innocent(sally) }.\n",
      "SAT 1 \n"
     ]
    },
    {
     "data": {
      "text/plain": "([{Function('guilty', [Function('harry', [], True)], True),\n   Function('innocent', [Function('sally', [], True)], True)}],\n [Model(<cdata 'struct clingo_model *' 0x55d4160a9d38>)])"
     },
     "execution_count": 10,
     "metadata": {},
     "output_type": "execute_result"
    }
   ],
   "source": [
    "\n",
    "program_string_predicates = \"\"\"\n",
    "innocent(Suspect) :- motive(Suspect), not guilty(Suspect).\n",
    "\n",
    "motive(harry).\n",
    "motive(sally).\n",
    "guilty(harry).\n",
    "\"\"\"\n",
    "solve(program_string_predicates, [\"guilty\", (\"innocent\", SymbolType.Function)])"
   ]
  },
  {
   "cell_type": "code",
   "execution_count": 10,
   "outputs": [],
   "source": [],
   "metadata": {
    "collapsed": false,
    "pycharm": {
     "name": "#%%\n"
    }
   }
  }
 ],
 "metadata": {
  "kernelspec": {
   "display_name": "Python 3 (ipykernel)",
   "language": "python",
   "name": "python3"
  },
  "language_info": {
   "codemirror_mode": {
    "name": "ipython",
    "version": 3
   },
   "file_extension": ".py",
   "mimetype": "text/x-python",
   "name": "python",
   "nbconvert_exporter": "python",
   "pygments_lexer": "ipython3",
   "version": "3.9.10"
  }
 },
 "nbformat": 4,
 "nbformat_minor": 5
}