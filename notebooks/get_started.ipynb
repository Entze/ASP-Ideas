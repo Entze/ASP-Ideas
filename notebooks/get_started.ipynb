{
 "cells": [
  {
   "cell_type": "code",
   "execution_count": 1,
   "id": "9feb4386",
   "metadata": {},
   "outputs": [],
   "source": [
    "from util.run import solve"
   ]
  },
  {
   "cell_type": "code",
   "execution_count": 2,
   "id": "bf977067",
   "metadata": {},
   "outputs": [
    {
     "name": "stdout",
     "output_type": "stream",
     "text": [
      "Answer  1: { p q }.\n",
      "SAT 1 \n"
     ]
    }
   ],
   "source": [
    "program_string = \"\"\"\n",
    "p.\n",
    "\n",
    "q :- p.\n",
    "\"\"\"\n",
    "solve(program_string)"
   ]
  },
  {
   "cell_type": "code",
   "execution_count": 3,
   "id": "fb2107e2",
   "metadata": {},
   "outputs": [
    {
     "name": "stdout",
     "output_type": "stream",
     "text": [
      "p.\n",
      "\n",
      "q :- p.\n",
      "\n",
      "Answer  1: { p q }.\n",
      "SAT 1 \n"
     ]
    }
   ],
   "source": [
    "with open(\"../logic_programs/get_started.lp\", 'r') as file:\n",
    "    program_file = \"\"\n",
    "    for line in file:\n",
    "        program_file += line\n",
    "\n",
    "print(program_file)\n",
    "solve(program_file)"
   ]
  },
  {
   "cell_type": "code",
   "execution_count": 4,
   "id": "1752ddfa",
   "metadata": {},
   "outputs": [
    {
     "name": "stdout",
     "output_type": "stream",
     "text": [
      "Answer  1: { p q }.\n",
      "SAT 1 \n"
     ]
    }
   ],
   "source": [
    "solve(\"../logic_programs/get_started.lp\")"
   ]
  },
  {
   "cell_type": "code",
   "execution_count": 4,
   "id": "1b1103a9",
   "metadata": {},
   "outputs": [],
   "source": []
  }
 ],
 "metadata": {
  "kernelspec": {
   "display_name": "Python 3 (ipykernel)",
   "language": "python",
   "name": "python3"
  },
  "language_info": {
   "codemirror_mode": {
    "name": "ipython",
    "version": 3
   },
   "file_extension": ".py",
   "mimetype": "text/x-python",
   "name": "python",
   "nbconvert_exporter": "python",
   "pygments_lexer": "ipython3",
   "version": "3.9.10"
  }
 },
 "nbformat": 4,
 "nbformat_minor": 5
}