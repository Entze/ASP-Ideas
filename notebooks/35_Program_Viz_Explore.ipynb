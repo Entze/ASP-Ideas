{
 "cells": [
  {
   "cell_type": "code",
   "execution_count": 8,
   "metadata": {
    "collapsed": true
   },
   "outputs": [],
   "source": [
    "import clingo\n",
    "import clingraph\n",
    "import clingo.ast\n",
    "import clingraph.orm\n",
    "from clingraph.orm import Factbase\n",
    "from clingraph.graphviz import compute_graphs"
   ]
  },
  {
   "cell_type": "code",
   "execution_count": 9,
   "outputs": [],
   "source": [
    "cnr_graphs = \"\"\"\n",
    "\n",
    "graph(program1).\n",
    "graph(program2).\n",
    "\n",
    "node(\"C\", program1).\n",
    "node(\"q\", program1).\n",
    "node(\"r\", program1).\n",
    "node(\"p\", program1).\n",
    "\n",
    "edge((\"C\", \"p\"), program1).\n",
    "edge((\"p\", \"C\"), program1).\n",
    "edge((\"r\", \"C\"), program1).\n",
    "edge((\"q\", \"C\"), program1).\n",
    "\n",
    "edge_sign((\"C\", \"p\"), positive, program1).\n",
    "edge_sign((\"p\", \"C\"), negative, program1).\n",
    "edge_sign((\"r\", \"C\"), negative, program1).\n",
    "edge_sign((\"q\", \"C\"), positive, program1).\n",
    "\n",
    "node(\"C\", program2).\n",
    "node(\"q\", program2).\n",
    "node(\"r\", program2).\n",
    "node(\"p\", program2).\n",
    "\n",
    "edge((\"C\", \"p\"), program2).\n",
    "edge((\"p\", \"C\"), program2).\n",
    "edge((\"q\", \"C\"), program2).\n",
    "edge((\"r\", \"p\"), program2).\n",
    "\n",
    "edge_sign((\"C\", \"p\"), positive, program2).\n",
    "edge_sign((\"p\", \"C\"), negative, program2).\n",
    "edge_sign((\"q\", \"C\"), positive, program2).\n",
    "edge_sign((\"r\", \"p\"), negative, program2).\n",
    "\n",
    "attr(edge, E, dir, forward) :- edge(E).\n",
    "attr(edge, E, dir, forward) :- edge(E,_).\n",
    "attr(edge, E, label, \"+\") :- edge(E), edge_sign(E, positive).\n",
    "attr(edge, E, label, \"+\") :- edge(E, G), edge_sign(E, positive, G).\n",
    "attr(edge, E, label, \"-\") :- edge(E), edge_sign(E, negative).\n",
    "attr(edge, E, label, \"-\") :- edge(E, G), edge_sign(E, negative, G).\n",
    "\n",
    "attr(node, N, style, filled) :- node(N), \"A\" <= N, N <= \"Z\".\n",
    "attr(node, N, color, black) :- node(N), \"A\" <= N, N <= \"Z\".\n",
    "attr(node, N, fontcolor, white) :- node(N), \"A\" <= N, N <= \"Z\".\n",
    "\n",
    "attr(node, N, style, filled) :- node(N,_), \"A\" <= N, N <= \"Z\".\n",
    "attr(node, N, color, black) :- node(N,_), \"A\" <= N, N <= \"Z\".\n",
    "attr(node, N, fontcolor, white) :- node(N,_), \"A\" <= N, N <= \"Z\".\n",
    "\n",
    "attr(graph, program1, model, \"circuit\").\n",
    "attr(graph, program2, model, \"circuit\").\n",
    "\"\"\""
   ],
   "metadata": {
    "collapsed": false,
    "pycharm": {
     "name": "#%%\n"
    }
   }
  },
  {
   "cell_type": "code",
   "execution_count": 10,
   "outputs": [
    {
     "name": "stderr",
     "output_type": "stream",
     "text": [
      "<block>:36:32-39: info: atom does not occur in any rule head:\n",
      "  edge(E)\n",
      "\n",
      "<block>:38:30-37: info: atom does not occur in any rule head:\n",
      "  edge(E)\n",
      "\n",
      "<block>:38:39-61: info: atom does not occur in any rule head:\n",
      "  edge_sign(E,positive)\n",
      "\n",
      "<block>:40:30-37: info: atom does not occur in any rule head:\n",
      "  edge(E)\n",
      "\n",
      "<block>:40:39-61: info: atom does not occur in any rule head:\n",
      "  edge_sign(E,negative)\n",
      "\n",
      "<block>:43:33-40: info: atom does not occur in any rule head:\n",
      "  node(N)\n",
      "\n",
      "<block>:44:32-39: info: atom does not occur in any rule head:\n",
      "  node(N)\n",
      "\n",
      "<block>:45:36-43: info: atom does not occur in any rule head:\n",
      "  node(N)\n",
      "\n"
     ]
    }
   ],
   "source": [
    "ctl = clingo.Control()\n",
    "ctl.configuration.solve.models = 0\n",
    "ctl.add('base', [], cnr_graphs)\n",
    "ctl.ground([('base',())])\n",
    "fb = Factbase()"
   ],
   "metadata": {
    "collapsed": false,
    "pycharm": {
     "name": "#%%\n"
    }
   }
  },
  {
   "cell_type": "code",
   "execution_count": 11,
   "outputs": [
    {
     "name": "stdout",
     "output_type": "stream",
     "text": [
      "Answer 1: {\n",
      "graph(program1)\n",
      "graph(program2)\n",
      "edge((\"C\",\"p\"),program1)\n",
      "edge((\"C\",\"p\"),program2)\n",
      "edge((\"p\",\"C\"),program1)\n",
      "edge((\"p\",\"C\"),program2)\n",
      "edge((\"q\",\"C\"),program1)\n",
      "edge((\"q\",\"C\"),program2)\n",
      "edge((\"r\",\"C\"),program1)\n",
      "edge((\"r\",\"p\"),program2)\n",
      "node(\"C\",program1)\n",
      "node(\"C\",program2)\n",
      "node(\"p\",program1)\n",
      "node(\"p\",program2)\n",
      "node(\"q\",program1)\n",
      "node(\"q\",program2)\n",
      "node(\"r\",program1)\n",
      "node(\"r\",program2)\n",
      "edge_sign((\"C\",\"p\"),positive,program1)\n",
      "edge_sign((\"C\",\"p\"),positive,program2)\n",
      "edge_sign((\"p\",\"C\"),negative,program1)\n",
      "edge_sign((\"p\",\"C\"),negative,program2)\n",
      "edge_sign((\"q\",\"C\"),positive,program1)\n",
      "edge_sign((\"q\",\"C\"),positive,program2)\n",
      "edge_sign((\"r\",\"C\"),negative,program1)\n",
      "edge_sign((\"r\",\"p\"),negative,program2)\n",
      "attr(edge,(\"C\",\"p\"),dir,forward)\n",
      "attr(edge,(\"C\",\"p\"),label,\"+\")\n",
      "attr(edge,(\"p\",\"C\"),dir,forward)\n",
      "attr(edge,(\"p\",\"C\"),label,\"-\")\n",
      "attr(edge,(\"q\",\"C\"),dir,forward)\n",
      "attr(edge,(\"q\",\"C\"),label,\"+\")\n",
      "attr(edge,(\"r\",\"C\"),dir,forward)\n",
      "attr(edge,(\"r\",\"C\"),label,\"-\")\n",
      "attr(edge,(\"r\",\"p\"),dir,forward)\n",
      "attr(edge,(\"r\",\"p\"),label,\"-\")\n",
      "attr(graph,program1,model,\"circuit\")\n",
      "attr(graph,program2,model,\"circuit\")\n",
      "attr(node,\"C\",color,black)\n",
      "attr(node,\"C\",fontcolor,white)\n",
      "attr(node,\"C\",style,filled)\n",
      "}\n",
      "SAT 1\n"
     ]
    }
   ],
   "source": [
    "with ctl.solve(yield_=True) as solve_handle:\n",
    "    models = []\n",
    "    for model in solve_handle:\n",
    "        symbols = sorted(model.symbols(shown=True))\n",
    "        print(\"Answer {}:\".format(model.number), end=' ')\n",
    "        print(\"{\",\n",
    "              '\\n'.join(map(str, symbols)), \"}\", sep='\\n')\n",
    "        models.append(symbols)\n",
    "    solve_result = solve_handle.get()\n",
    "    fb.add_model(model)\n",
    "    print(solve_result, end='')\n",
    "    if models:\n",
    "        print(\" {}{}\".format(len(models), '' if solve_result.exhausted else '+'))"
   ],
   "metadata": {
    "collapsed": false,
    "pycharm": {
     "name": "#%%\n"
    }
   }
  },
  {
   "cell_type": "code",
   "execution_count": 12,
   "outputs": [
    {
     "name": "stdout",
     "output_type": "stream",
     "text": [
      "edge((\"C\",\"p\"),program1).\n",
      "edge((\"p\",\"C\"),program1).\n",
      "edge((\"r\",\"C\"),program1).\n",
      "edge((\"q\",\"C\"),program1).\n",
      "edge((\"C\",\"p\"),program2).\n",
      "edge((\"p\",\"C\"),program2).\n",
      "edge((\"q\",\"C\"),program2).\n",
      "edge((\"r\",\"p\"),program2).\n",
      "node(\"C\",program1).\n",
      "node(\"q\",program1).\n",
      "node(\"r\",program1).\n",
      "node(\"p\",program1).\n",
      "node(\"C\",program2).\n",
      "node(\"q\",program2).\n",
      "node(\"r\",program2).\n",
      "node(\"p\",program2).\n",
      "graph(program1).\n",
      "graph(program2).\n",
      "attr(edge,(\"r\",\"p\"),(dir,-1),forward).\n",
      "attr(edge,(\"q\",\"C\"),(dir,-1),forward).\n",
      "attr(edge,(\"p\",\"C\"),(dir,-1),forward).\n",
      "attr(edge,(\"r\",\"C\"),(label,-1),\"-\").\n",
      "attr(edge,(\"q\",\"C\"),(label,-1),\"+\").\n",
      "attr(edge,(\"C\",\"p\"),(label,-1),\"+\").\n",
      "attr(graph,program1,(model,-1),\"circuit\").\n",
      "attr(edge,(\"p\",\"C\"),(label,-1),\"-\").\n",
      "attr(edge,(\"r\",\"C\"),(dir,-1),forward).\n",
      "attr(edge,(\"C\",\"p\"),(dir,-1),forward).\n",
      "attr(node,\"C\",(style,-1),filled).\n",
      "attr(graph,program2,(model,-1),\"circuit\").\n",
      "attr(node,\"C\",(color,-1),black).\n",
      "attr(edge,(\"r\",\"p\"),(label,-1),\"-\").\n",
      "attr(node,\"C\",(fontcolor,-1),white).\n",
      "\n"
     ]
    }
   ],
   "source": [
    "print(fb)"
   ],
   "metadata": {
    "collapsed": false,
    "pycharm": {
     "name": "#%%\n"
    }
   }
  },
  {
   "cell_type": "code",
   "execution_count": 13,
   "outputs": [
    {
     "data": {
      "text/plain": "{'program1': <graphviz.graphs.Graph at 0x7f1ddbed55a0>,\n 'program2': <graphviz.graphs.Graph at 0x7f1ddbed6dd0>}"
     },
     "execution_count": 13,
     "metadata": {},
     "output_type": "execute_result"
    }
   ],
   "source": [
    "graphs = compute_graphs(fb)\n",
    "graphs"
   ],
   "metadata": {
    "collapsed": false,
    "pycharm": {
     "name": "#%%\n"
    }
   }
  },
  {
   "cell_type": "code",
   "execution_count": 14,
   "outputs": [
    {
     "data": {
      "image/svg+xml": "<?xml version=\"1.0\" encoding=\"UTF-8\" standalone=\"no\"?>\n<!DOCTYPE svg PUBLIC \"-//W3C//DTD SVG 1.1//EN\"\n \"http://www.w3.org/Graphics/SVG/1.1/DTD/svg11.dtd\">\n<!-- Generated by graphviz version 3.0.0 (20220227.1548)\n -->\n<!-- Title: program1 Pages: 1 -->\n<svg width=\"134pt\" height=\"218pt\"\n viewBox=\"0.00 0.00 134.00 218.00\" xmlns=\"http://www.w3.org/2000/svg\" xmlns:xlink=\"http://www.w3.org/1999/xlink\">\n<g id=\"graph0\" class=\"graph\" transform=\"scale(1 1) rotate(0) translate(4 214)\">\n<title>program1</title>\n<polygon fill=\"white\" stroke=\"transparent\" points=\"-4,4 -4,-214 130,-214 130,4 -4,4\"/>\n<!-- C -->\n<g id=\"node1\" class=\"node\">\n<title>C</title>\n<ellipse fill=\"black\" stroke=\"black\" cx=\"63\" cy=\"-105\" rx=\"27\" ry=\"18\"/>\n<text text-anchor=\"middle\" x=\"63\" y=\"-101.3\" font-family=\"Times,serif\" font-size=\"14.00\" fill=\"white\">C</text>\n</g>\n<!-- p -->\n<g id=\"node4\" class=\"node\">\n<title>p</title>\n<ellipse fill=\"none\" stroke=\"black\" cx=\"63\" cy=\"-18\" rx=\"27\" ry=\"18\"/>\n<text text-anchor=\"middle\" x=\"63\" y=\"-14.3\" font-family=\"Times,serif\" font-size=\"14.00\">p</text>\n</g>\n<!-- C&#45;&#45;p -->\n<g id=\"edge1\" class=\"edge\">\n<title>C&#45;&#45;p</title>\n<path fill=\"none\" stroke=\"black\" d=\"M54.4,-87.71C51.81,-81.96 49.3,-75.35 48,-69 46.33,-60.89 47.77,-52.19 50.31,-44.37\"/>\n<polygon fill=\"black\" stroke=\"black\" points=\"53.58,-45.61 53.95,-35.03 47.06,-43.07 53.58,-45.61\"/>\n<text text-anchor=\"middle\" x=\"52.5\" y=\"-57.8\" font-family=\"Times,serif\" font-size=\"14.00\">+</text>\n</g>\n<!-- q -->\n<g id=\"node2\" class=\"node\">\n<title>q</title>\n<ellipse fill=\"none\" stroke=\"black\" cx=\"27\" cy=\"-192\" rx=\"27\" ry=\"18\"/>\n<text text-anchor=\"middle\" x=\"27\" y=\"-188.3\" font-family=\"Times,serif\" font-size=\"14.00\">q</text>\n</g>\n<!-- q&#45;&#45;C -->\n<g id=\"edge4\" class=\"edge\">\n<title>q&#45;&#45;C</title>\n<path fill=\"none\" stroke=\"black\" d=\"M34.11,-174.21C39.22,-162.14 46.21,-145.64 52.03,-131.89\"/>\n<polygon fill=\"black\" stroke=\"black\" points=\"55.35,-133.04 56.02,-122.47 48.9,-130.31 55.35,-133.04\"/>\n<text text-anchor=\"middle\" x=\"52.5\" y=\"-144.8\" font-family=\"Times,serif\" font-size=\"14.00\">+</text>\n</g>\n<!-- r -->\n<g id=\"node3\" class=\"node\">\n<title>r</title>\n<ellipse fill=\"none\" stroke=\"black\" cx=\"99\" cy=\"-192\" rx=\"27\" ry=\"18\"/>\n<text text-anchor=\"middle\" x=\"99\" y=\"-188.3\" font-family=\"Times,serif\" font-size=\"14.00\">r</text>\n</g>\n<!-- r&#45;&#45;C -->\n<g id=\"edge3\" class=\"edge\">\n<title>r&#45;&#45;C</title>\n<path fill=\"none\" stroke=\"black\" d=\"M91.89,-174.21C86.78,-162.14 79.79,-145.64 73.97,-131.89\"/>\n<polygon fill=\"black\" stroke=\"black\" points=\"77.1,-130.31 69.98,-122.47 70.65,-133.04 77.1,-130.31\"/>\n<text text-anchor=\"middle\" x=\"85.5\" y=\"-144.8\" font-family=\"Times,serif\" font-size=\"14.00\">&#45;</text>\n</g>\n<!-- p&#45;&#45;C -->\n<g id=\"edge2\" class=\"edge\">\n<title>p&#45;&#45;C</title>\n<path fill=\"none\" stroke=\"black\" d=\"M63,-36.18C63,-47.81 63,-63.42 63,-76.73\"/>\n<polygon fill=\"black\" stroke=\"black\" points=\"59.5,-76.8 63,-86.8 66.5,-76.8 59.5,-76.8\"/>\n<text text-anchor=\"middle\" x=\"65.5\" y=\"-57.8\" font-family=\"Times,serif\" font-size=\"14.00\">&#45;</text>\n</g>\n</g>\n</svg>\n",
      "text/plain": "<graphviz.graphs.Graph at 0x7f1ddbed55a0>"
     },
     "execution_count": 14,
     "metadata": {},
     "output_type": "execute_result"
    }
   ],
   "source": [
    "graphs['program1']"
   ],
   "metadata": {
    "collapsed": false,
    "pycharm": {
     "name": "#%%\n"
    }
   }
  },
  {
   "cell_type": "code",
   "execution_count": 15,
   "outputs": [
    {
     "data": {
      "image/svg+xml": "<?xml version=\"1.0\" encoding=\"UTF-8\" standalone=\"no\"?>\n<!DOCTYPE svg PUBLIC \"-//W3C//DTD SVG 1.1//EN\"\n \"http://www.w3.org/Graphics/SVG/1.1/DTD/svg11.dtd\">\n<!-- Generated by graphviz version 3.0.0 (20220227.1548)\n -->\n<!-- Title: program2 Pages: 1 -->\n<svg width=\"134pt\" height=\"218pt\"\n viewBox=\"0.00 0.00 134.00 218.00\" xmlns=\"http://www.w3.org/2000/svg\" xmlns:xlink=\"http://www.w3.org/1999/xlink\">\n<g id=\"graph0\" class=\"graph\" transform=\"scale(1 1) rotate(0) translate(4 214)\">\n<title>program2</title>\n<polygon fill=\"white\" stroke=\"transparent\" points=\"-4,4 -4,-214 130,-214 130,4 -4,4\"/>\n<!-- C -->\n<g id=\"node1\" class=\"node\">\n<title>C</title>\n<ellipse fill=\"black\" stroke=\"black\" cx=\"99\" cy=\"-105\" rx=\"27\" ry=\"18\"/>\n<text text-anchor=\"middle\" x=\"99\" y=\"-101.3\" font-family=\"Times,serif\" font-size=\"14.00\" fill=\"white\">C</text>\n</g>\n<!-- p -->\n<g id=\"node4\" class=\"node\">\n<title>p</title>\n<ellipse fill=\"none\" stroke=\"black\" cx=\"67\" cy=\"-18\" rx=\"27\" ry=\"18\"/>\n<text text-anchor=\"middle\" x=\"67\" y=\"-14.3\" font-family=\"Times,serif\" font-size=\"14.00\">p</text>\n</g>\n<!-- C&#45;&#45;p -->\n<g id=\"edge1\" class=\"edge\">\n<title>C&#45;&#45;p</title>\n<path fill=\"none\" stroke=\"black\" d=\"M82.77,-90.29C76.98,-84.39 71.13,-77.01 68,-69 65.25,-61.96 64.26,-53.94 64.14,-46.4\"/>\n<polygon fill=\"black\" stroke=\"black\" points=\"67.64,-46.34 64.47,-36.24 60.65,-46.12 67.64,-46.34\"/>\n<text text-anchor=\"middle\" x=\"72.5\" y=\"-57.8\" font-family=\"Times,serif\" font-size=\"14.00\">+</text>\n</g>\n<!-- q -->\n<g id=\"node2\" class=\"node\">\n<title>q</title>\n<ellipse fill=\"none\" stroke=\"black\" cx=\"99\" cy=\"-192\" rx=\"27\" ry=\"18\"/>\n<text text-anchor=\"middle\" x=\"99\" y=\"-188.3\" font-family=\"Times,serif\" font-size=\"14.00\">q</text>\n</g>\n<!-- q&#45;&#45;C -->\n<g id=\"edge3\" class=\"edge\">\n<title>q&#45;&#45;C</title>\n<path fill=\"none\" stroke=\"black\" d=\"M99,-173.8C99,-162.16 99,-146.55 99,-133.24\"/>\n<polygon fill=\"black\" stroke=\"black\" points=\"102.5,-133.18 99,-123.18 95.5,-133.18 102.5,-133.18\"/>\n<text text-anchor=\"middle\" x=\"103.5\" y=\"-144.8\" font-family=\"Times,serif\" font-size=\"14.00\">+</text>\n</g>\n<!-- r -->\n<g id=\"node3\" class=\"node\">\n<title>r</title>\n<ellipse fill=\"none\" stroke=\"black\" cx=\"27\" cy=\"-105\" rx=\"27\" ry=\"18\"/>\n<text text-anchor=\"middle\" x=\"27\" y=\"-101.3\" font-family=\"Times,serif\" font-size=\"14.00\">r</text>\n</g>\n<!-- r&#45;&#45;p -->\n<g id=\"edge4\" class=\"edge\">\n<title>r&#45;&#45;p</title>\n<path fill=\"none\" stroke=\"black\" d=\"M34.71,-87.61C40.47,-75.38 48.44,-58.44 55.02,-44.46\"/>\n<polygon fill=\"black\" stroke=\"black\" points=\"58.22,-45.88 59.31,-35.34 51.89,-42.9 58.22,-45.88\"/>\n<text text-anchor=\"middle\" x=\"51.5\" y=\"-57.8\" font-family=\"Times,serif\" font-size=\"14.00\">&#45;</text>\n</g>\n<!-- p&#45;&#45;C -->\n<g id=\"edge2\" class=\"edge\">\n<title>p&#45;&#45;C</title>\n<path fill=\"none\" stroke=\"black\" d=\"M73.31,-35.76C77.82,-47.74 83.98,-64.1 89.14,-77.8\"/>\n<polygon fill=\"black\" stroke=\"black\" points=\"85.88,-79.08 92.68,-87.21 92.43,-76.61 85.88,-79.08\"/>\n<text text-anchor=\"middle\" x=\"86.5\" y=\"-57.8\" font-family=\"Times,serif\" font-size=\"14.00\">&#45;</text>\n</g>\n</g>\n</svg>\n",
      "text/plain": "<graphviz.graphs.Graph at 0x7f1ddbed6dd0>"
     },
     "execution_count": 15,
     "metadata": {},
     "output_type": "execute_result"
    }
   ],
   "source": [
    "graphs['program2']"
   ],
   "metadata": {
    "collapsed": false,
    "pycharm": {
     "name": "#%%\n"
    }
   }
  },
  {
   "cell_type": "code",
   "execution_count": null,
   "outputs": [],
   "source": [
    "program1 = \"\"\"\n",
    "p :- q, not r, not p.\n",
    "\"\"\"\n",
    "\n",
    "program2 = \"\"\"\n",
    "p :- q, not p.\n",
    "p :- not r.\n",
    "\"\"\""
   ],
   "metadata": {
    "collapsed": false,
    "pycharm": {
     "name": "#%%\n"
    }
   }
  }
 ],
 "metadata": {
  "kernelspec": {
   "display_name": "Python 3",
   "language": "python",
   "name": "python3"
  },
  "language_info": {
   "codemirror_mode": {
    "name": "ipython",
    "version": 2
   },
   "file_extension": ".py",
   "mimetype": "text/x-python",
   "name": "python",
   "nbconvert_exporter": "python",
   "pygments_lexer": "ipython2",
   "version": "2.7.6"
  }
 },
 "nbformat": 4,
 "nbformat_minor": 0
}