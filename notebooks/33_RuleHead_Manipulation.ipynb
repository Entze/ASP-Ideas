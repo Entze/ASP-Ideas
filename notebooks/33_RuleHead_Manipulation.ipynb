{
 "cells": [
  {
   "cell_type": "code",
   "execution_count": 125,
   "metadata": {
    "collapsed": true
   },
   "outputs": [],
   "source": [
    "from typing import SupportsIndex, Optional, Union\n",
    "\n",
    "import clingo\n",
    "import clingo.ast\n",
    "from clingo.ast import ProgramBuilder"
   ]
  },
  {
   "cell_type": "code",
   "execution_count": 126,
   "outputs": [],
   "source": [
    "program = \"\"\"\n",
    "\n",
    "head1(X,Y,Z) :- body1(X), body2(Y), body3(Z).\n",
    "\n",
    "head2(X) :- body1(X), body2(X-1).\n",
    "\n",
    "head3(X) :- body4(X).\n",
    "\n",
    "\"\"\""
   ],
   "metadata": {
    "collapsed": false,
    "pycharm": {
     "name": "#%%\n"
    }
   }
  },
  {
   "cell_type": "code",
   "execution_count": 127,
   "outputs": [],
   "source": [
    "def get_parsed_program(program: str):\n",
    "    nodes = []\n",
    "    clingo.ast.parse_string(program, lambda stm: nodes.append(stm))\n",
    "    return nodes"
   ],
   "metadata": {
    "collapsed": false,
    "pycharm": {
     "name": "#%%\n"
    }
   }
  },
  {
   "cell_type": "code",
   "execution_count": 128,
   "outputs": [
    {
     "data": {
      "text/plain": "[ast.Program(Location(begin=Position(filename='<string>', line=1, column=1), end=Position(filename='<string>', line=1, column=1)), 'base', []),\n ast.Rule(Location(begin=Position(filename='<string>', line=3, column=1), end=Position(filename='<string>', line=3, column=46)), ast.Literal(Location(begin=Position(filename='<string>', line=3, column=1), end=Position(filename='<string>', line=3, column=13)), 0, ast.SymbolicAtom(ast.Function(Location(begin=Position(filename='<string>', line=3, column=1), end=Position(filename='<string>', line=3, column=13)), 'head1', [ast.Variable(Location(begin=Position(filename='<string>', line=3, column=7), end=Position(filename='<string>', line=3, column=8)), 'X'), ast.Variable(Location(begin=Position(filename='<string>', line=3, column=9), end=Position(filename='<string>', line=3, column=10)), 'Y'), ast.Variable(Location(begin=Position(filename='<string>', line=3, column=11), end=Position(filename='<string>', line=3, column=12)), 'Z')], 0))), [ast.Literal(Location(begin=Position(filename='<string>', line=3, column=17), end=Position(filename='<string>', line=3, column=25)), 0, ast.SymbolicAtom(ast.Function(Location(begin=Position(filename='<string>', line=3, column=17), end=Position(filename='<string>', line=3, column=25)), 'body1', [ast.Variable(Location(begin=Position(filename='<string>', line=3, column=23), end=Position(filename='<string>', line=3, column=24)), 'X')], 0))), ast.Literal(Location(begin=Position(filename='<string>', line=3, column=27), end=Position(filename='<string>', line=3, column=35)), 0, ast.SymbolicAtom(ast.Function(Location(begin=Position(filename='<string>', line=3, column=27), end=Position(filename='<string>', line=3, column=35)), 'body2', [ast.Variable(Location(begin=Position(filename='<string>', line=3, column=33), end=Position(filename='<string>', line=3, column=34)), 'Y')], 0))), ast.Literal(Location(begin=Position(filename='<string>', line=3, column=37), end=Position(filename='<string>', line=3, column=45)), 0, ast.SymbolicAtom(ast.Function(Location(begin=Position(filename='<string>', line=3, column=37), end=Position(filename='<string>', line=3, column=45)), 'body3', [ast.Variable(Location(begin=Position(filename='<string>', line=3, column=43), end=Position(filename='<string>', line=3, column=44)), 'Z')], 0)))]),\n ast.Rule(Location(begin=Position(filename='<string>', line=5, column=1), end=Position(filename='<string>', line=5, column=34)), ast.Literal(Location(begin=Position(filename='<string>', line=5, column=1), end=Position(filename='<string>', line=5, column=9)), 0, ast.SymbolicAtom(ast.Function(Location(begin=Position(filename='<string>', line=5, column=1), end=Position(filename='<string>', line=5, column=9)), 'head2', [ast.Variable(Location(begin=Position(filename='<string>', line=5, column=7), end=Position(filename='<string>', line=5, column=8)), 'X')], 0))), [ast.Literal(Location(begin=Position(filename='<string>', line=5, column=13), end=Position(filename='<string>', line=5, column=21)), 0, ast.SymbolicAtom(ast.Function(Location(begin=Position(filename='<string>', line=5, column=13), end=Position(filename='<string>', line=5, column=21)), 'body1', [ast.Variable(Location(begin=Position(filename='<string>', line=5, column=19), end=Position(filename='<string>', line=5, column=20)), 'X')], 0))), ast.Literal(Location(begin=Position(filename='<string>', line=5, column=23), end=Position(filename='<string>', line=5, column=33)), 0, ast.SymbolicAtom(ast.Function(Location(begin=Position(filename='<string>', line=5, column=23), end=Position(filename='<string>', line=5, column=33)), 'body2', [ast.BinaryOperation(Location(begin=Position(filename='<string>', line=5, column=29), end=Position(filename='<string>', line=5, column=32)), 4, ast.Variable(Location(begin=Position(filename='<string>', line=5, column=29), end=Position(filename='<string>', line=5, column=30)), 'X'), ast.SymbolicTerm(Location(begin=Position(filename='<string>', line=5, column=31), end=Position(filename='<string>', line=5, column=32)), Number(1)))], 0)))]),\n ast.Rule(Location(begin=Position(filename='<string>', line=7, column=1), end=Position(filename='<string>', line=7, column=22)), ast.Literal(Location(begin=Position(filename='<string>', line=7, column=1), end=Position(filename='<string>', line=7, column=9)), 0, ast.SymbolicAtom(ast.Function(Location(begin=Position(filename='<string>', line=7, column=1), end=Position(filename='<string>', line=7, column=9)), 'head3', [ast.Variable(Location(begin=Position(filename='<string>', line=7, column=7), end=Position(filename='<string>', line=7, column=8)), 'X')], 0))), [ast.Literal(Location(begin=Position(filename='<string>', line=7, column=13), end=Position(filename='<string>', line=7, column=21)), 0, ast.SymbolicAtom(ast.Function(Location(begin=Position(filename='<string>', line=7, column=13), end=Position(filename='<string>', line=7, column=21)), 'body4', [ast.Variable(Location(begin=Position(filename='<string>', line=7, column=19), end=Position(filename='<string>', line=7, column=20)), 'X')], 0)))])]"
     },
     "execution_count": 128,
     "metadata": {},
     "output_type": "execute_result"
    }
   ],
   "source": [
    "nodes = get_parsed_program(program)\n",
    "nodes"
   ],
   "metadata": {
    "collapsed": false,
    "pycharm": {
     "name": "#%%\n"
    }
   }
  },
  {
   "cell_type": "code",
   "execution_count": 129,
   "outputs": [],
   "source": [
    "pos = clingo.ast.Position('<string>', 0, 0)\n",
    "loc = clingo.ast.Location(pos, pos)"
   ],
   "metadata": {
    "collapsed": false,
    "pycharm": {
     "name": "#%%\n"
    }
   }
  },
  {
   "cell_type": "code",
   "execution_count": 130,
   "outputs": [],
   "source": [
    "def _head_as_aggregate(rule: clingo.ast.AST, left_guard: Union[str, int, None] = None, right_guard: Union[str, int, None] = None):\n",
    "    head = rule.head\n",
    "    body = rule.body\n",
    "    if head.ast_type is clingo.ast.ASTType.Literal:\n",
    "        elements = [clingo.ast.ConditionalLiteral(loc, head, [])]\n",
    "    else:\n",
    "        elements = head.elements\n",
    "    if isinstance(left_guard, str):\n",
    "        left_guard = clingo.ast.AggregateGuard(clingo.ast.ComparisonOperator.LessEqual, clingo.ast.Variable(loc, left_guard))\n",
    "    elif isinstance(left_guard, int):\n",
    "        left_guard = clingo.ast.AggregateGuard(clingo.ast.ComparisonOperator.LessEqual, clingo.ast.SymbolicTerm(loc, clingo.Number(left_guard)))\n",
    "    if isinstance(right_guard, str):\n",
    "        right_guard = clingo.ast.AggregateGuard(clingo.ast.ComparisonOperator.LessEqual, clingo.ast.Variable(loc, right_guard))\n",
    "    elif isinstance(right_guard, int):\n",
    "        right_guard = clingo.ast.AggregateGuard(clingo.ast.ComparisonOperator.LessEqual, clingo.ast.SymbolicTerm(loc, clingo.Number(right_guard)))\n",
    "\n",
    "    head_aggregate = clingo.ast.Aggregate(loc, left_guard, elements, right_guard)\n",
    "    return clingo.ast.Rule(loc, head_aggregate, body)"
   ],
   "metadata": {
    "collapsed": false,
    "pycharm": {
     "name": "#%%\n"
    }
   }
  },
  {
   "cell_type": "code",
   "execution_count": 131,
   "outputs": [
    {
     "name": "stdout",
     "output_type": "stream",
     "text": [
      "head1(X,Y,Z) :- body1(X); body2(Y); body3(Z).\n"
     ]
    }
   ],
   "source": [
    "rule = nodes[1]\n",
    "print(rule)"
   ],
   "metadata": {
    "collapsed": false,
    "pycharm": {
     "name": "#%%\n"
    }
   }
  },
  {
   "cell_type": "code",
   "execution_count": 132,
   "outputs": [
    {
     "name": "stdout",
     "output_type": "stream",
     "text": [
      "{ head1(X,Y,Z) } :- body1(X); body2(Y); body3(Z).\n"
     ]
    }
   ],
   "source": [
    "new_rule_1 = _head_as_aggregate(rule)\n",
    "print(new_rule_1)"
   ],
   "metadata": {
    "collapsed": false,
    "pycharm": {
     "name": "#%%\n"
    }
   }
  },
  {
   "cell_type": "code",
   "execution_count": 133,
   "outputs": [
    {
     "name": "stdout",
     "output_type": "stream",
     "text": [
      "2 <= { head1(X,Y,Z) } :- body1(X); body2(Y); body3(Z).\n"
     ]
    }
   ],
   "source": [
    "new_rule_2 = _head_as_aggregate(new_rule_1, 2)\n",
    "print(new_rule_2)"
   ],
   "metadata": {
    "collapsed": false,
    "pycharm": {
     "name": "#%%\n"
    }
   }
  },
  {
   "cell_type": "code",
   "execution_count": 134,
   "outputs": [
    {
     "name": "stdout",
     "output_type": "stream",
     "text": [
      "{ head1(X,Y,Z) } <= 4 :- body1(X); body2(Y); body3(Z).\n"
     ]
    }
   ],
   "source": [
    "new_rule_3 = _head_as_aggregate(new_rule_2, right_guard=4)\n",
    "print(new_rule_3)"
   ],
   "metadata": {
    "collapsed": false,
    "pycharm": {
     "name": "#%%\n"
    }
   }
  },
  {
   "cell_type": "code",
   "execution_count": 135,
   "outputs": [
    {
     "name": "stdout",
     "output_type": "stream",
     "text": [
      "2 <= { head1(X,Y,Z) } <= 4 :- body1(X); body2(Y); body3(Z).\n"
     ]
    }
   ],
   "source": [
    "new_rule_4 = _head_as_aggregate(new_rule_3, left_guard=2, right_guard=4)\n",
    "print(new_rule_4)"
   ],
   "metadata": {
    "collapsed": false,
    "pycharm": {
     "name": "#%%\n"
    }
   }
  },
  {
   "cell_type": "code",
   "execution_count": 136,
   "outputs": [
    {
     "name": "stdout",
     "output_type": "stream",
     "text": [
      "X <= { head1(X,Y,Z) } <= Y :- body1(X); body2(Y); body3(Z).\n"
     ]
    }
   ],
   "source": [
    "new_rule_5 = _head_as_aggregate(new_rule_4, left_guard='X', right_guard='Y')\n",
    "print(new_rule_5)"
   ],
   "metadata": {
    "collapsed": false,
    "pycharm": {
     "name": "#%%\n"
    }
   }
  },
  {
   "cell_type": "code",
   "execution_count": 137,
   "outputs": [],
   "source": [
    "ctl = clingo.Control()\n",
    "with ProgramBuilder(ctl) as pb:\n",
    "    pb.add(new_rule_1)\n",
    "    pb.add(new_rule_2)\n",
    "    pb.add(new_rule_3)\n",
    "    pb.add(new_rule_4)\n",
    "    pb.add(new_rule_5)"
   ],
   "metadata": {
    "collapsed": false,
    "pycharm": {
     "name": "#%%\n"
    }
   }
  },
  {
   "cell_type": "code",
   "execution_count": 138,
   "outputs": [
    {
     "name": "stderr",
     "output_type": "stream",
     "text": [
      "<string>:3:17-25: info: atom does not occur in any rule head:\n",
      "  body1(X)\n",
      "\n",
      "<string>:3:27-35: info: atom does not occur in any rule head:\n",
      "  body2(Y)\n",
      "\n",
      "<string>:3:37-45: info: atom does not occur in any rule head:\n",
      "  body3(Z)\n",
      "\n"
     ]
    }
   ],
   "source": [
    "ctl.ground([('base', ())])"
   ],
   "metadata": {
    "collapsed": false,
    "pycharm": {
     "name": "#%%\n"
    }
   }
  },
  {
   "cell_type": "code",
   "execution_count": null,
   "outputs": [],
   "source": [
    "def _head_insert_symbol(rule: clingo.ast.AST):\n",
    "    pass"
   ],
   "metadata": {
    "collapsed": false,
    "pycharm": {
     "name": "#%%\n"
    }
   }
  }
 ],
 "metadata": {
  "kernelspec": {
   "display_name": "Python 3",
   "language": "python",
   "name": "python3"
  },
  "language_info": {
   "codemirror_mode": {
    "name": "ipython",
    "version": 2
   },
   "file_extension": ".py",
   "mimetype": "text/x-python",
   "name": "python",
   "nbconvert_exporter": "python",
   "pygments_lexer": "ipython2",
   "version": "2.7.6"
  }
 },
 "nbformat": 4,
 "nbformat_minor": 0
}