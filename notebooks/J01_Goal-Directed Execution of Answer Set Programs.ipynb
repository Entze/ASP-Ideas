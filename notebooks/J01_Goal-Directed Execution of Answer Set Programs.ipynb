{
 "cells": [
  {
   "cell_type": "markdown",
   "id": "49eb2b1c",
   "metadata": {},
   "source": [
    "### https://dl.acm.org/doi/pdf/10.1145/2370776.2370782?casa_token=wd-hmH7FO4YAAAAA:EghGIClehmSaw35US0wrC8zc_JP0ODI69Zkd4snBHpQ4gLb-IB7DTVSKQI1P28qyrK-co0zfxy42"
   ]
  },
  {
   "cell_type": "code",
   "execution_count": 1,
   "id": "3b2f33a7",
   "metadata": {},
   "outputs": [],
   "source": [
    "from clingo.symbol import Number, String\n",
    "from clingo.control import Control"
   ]
  },
  {
   "cell_type": "code",
   "execution_count": 2,
   "id": "e130e249",
   "metadata": {},
   "outputs": [],
   "source": [
    "def run(axioms):\n",
    "    evASP = Control(\"0\")\n",
    "    evASP.add(\"base\", [], axioms)\n",
    "\n",
    "    evASP.ground([(\"base\", [])])\n",
    "    \n",
    "    with evASP.solve(yield_=True) as handle:\n",
    "        #print(handle)\n",
    "        for m in handle: \n",
    "            print(\"Answer:\\n{}\\n\".format(m))\n",
    "            #print(m)"
   ]
  },
  {
   "cell_type": "markdown",
   "id": "a7ddb53d",
   "metadata": {},
   "source": [
    "## Test Data"
   ]
  },
  {
   "cell_type": "code",
   "execution_count": 81,
   "id": "49f5e171",
   "metadata": {},
   "outputs": [
    {
     "name": "stdout",
     "output_type": "stream",
     "text": [
      "[[[0, 'p'], [[0, 's'], [1, 't']]]]\n"
     ]
    }
   ],
   "source": [
    "# atoms\n",
    "s = [0,\"s\"]\n",
    "ns = [1,\"s\"]\n",
    "\n",
    "t = [0,\"t\"]\n",
    "nt = [1,\"t\"]\n",
    "\n",
    "# rules\n",
    "rul = [[0,\"p\"],[s,nt]]\n",
    "\n",
    "# programs\n",
    "prog = [rul]\n",
    "\n",
    "print(prog)"
   ]
  },
  {
   "cell_type": "markdown",
   "id": "eae6c48f",
   "metadata": {},
   "source": [
    "## Checkt Even/Odd Loop Over Negation"
   ]
  },
  {
   "cell_type": "code",
   "execution_count": 82,
   "id": "adfd81f3",
   "metadata": {},
   "outputs": [],
   "source": [
    "def elon_or_olon(rule,program):\n",
    "    \n",
    "    elon = False\n",
    "    olon = False\n",
    "    \n",
    "    query = rule[0]\n",
    "    \n",
    "    # root note\n",
    "    paths = [[query[0]+atom[0], atom] for atom in rule[1]]\n",
    "    \n",
    "    # tree search\n",
    "    while paths:\n",
    "        \n",
    "        # aggregates for next expansion\n",
    "        tentative_expansion = []\n",
    "        \n",
    "        # cycle check and return updates\n",
    "        for path in paths:\n",
    "            # matches query\n",
    "            if path[1][1] == query[1]:\n",
    "                if (path[0] % 2) == 0:\n",
    "                    elon = True\n",
    "                else:\n",
    "                    olon = True\n",
    "                if elon and olon:\n",
    "                    return [elon, olon]\n",
    "            else:\n",
    "                tentative_expansion.append(path) \n",
    "        \n",
    "        if not tentative_expansion:\n",
    "            break\n",
    "            \n",
    "        # breadth first search\n",
    "        paths = [[path[0]+atom[0], atom] \n",
    "                 for path in tentative_expansion\n",
    "                 for rule in program if rule[0] == path[1]\n",
    "                 for atom in rule[1]]\n",
    "        \n",
    "    # non-cyclic case\n",
    "    if olon: \n",
    "        return [False, olon]\n",
    "    else: \n",
    "        return [True, olon]"
   ]
  },
  {
   "cell_type": "code",
   "execution_count": 83,
   "id": "eb53c261",
   "metadata": {},
   "outputs": [
    {
     "data": {
      "text/plain": [
       "[True, False]"
      ]
     },
     "execution_count": 83,
     "metadata": {},
     "output_type": "execute_result"
    }
   ],
   "source": [
    "elon_or_olon(rul,prog)"
   ]
  },
  {
   "cell_type": "code",
   "execution_count": 154,
   "id": "95c77a74",
   "metadata": {},
   "outputs": [
    {
     "name": "stdout",
     "output_type": "stream",
     "text": [
      "[[[0, 'p'], [[1, 'q']]], [[0, 'q'], [[1, 'p']]]]\n"
     ]
    }
   ],
   "source": [
    "# p :- not q.  Rule P1.a\n",
    "# q :- not p.  Rule P1.b\n",
    "\n",
    "p = [0,\"p\"]\n",
    "q = [0,\"q\"]\n",
    "np = [1,\"p\"]\n",
    "nq = [1,\"q\"]\n",
    "\n",
    "rul1 = [p,[nq]]\n",
    "rul2 = [q,[np]]\n",
    "\n",
    "prog1 = [rul1,rul2]\n",
    "\n",
    "print(prog1)"
   ]
  },
  {
   "cell_type": "code",
   "execution_count": 155,
   "id": "ce512386",
   "metadata": {},
   "outputs": [
    {
     "data": {
      "text/plain": [
       "[True, False]"
      ]
     },
     "execution_count": 155,
     "metadata": {},
     "output_type": "execute_result"
    }
   ],
   "source": [
    "elon_or_olon(rul1,prog1)"
   ]
  },
  {
   "cell_type": "code",
   "execution_count": 63,
   "id": "8b2c4c81",
   "metadata": {},
   "outputs": [
    {
     "data": {
      "text/plain": [
       "[True, False]"
      ]
     },
     "execution_count": 63,
     "metadata": {},
     "output_type": "execute_result"
    }
   ],
   "source": [
    "elon_or_olon(rul2,prog1)"
   ]
  },
  {
   "cell_type": "code",
   "execution_count": 68,
   "id": "a8cd4407",
   "metadata": {},
   "outputs": [
    {
     "name": "stdout",
     "output_type": "stream",
     "text": [
      "[[[0, 'p'], [[0, 'q'], [1, 'r']]], [[0, 'r'], [[1, 'p']]], [[0, 'q'], [[0, 't'], [1, 'p']]]]\n"
     ]
    }
   ],
   "source": [
    "# p :- q, not r.  Rule P3.a\n",
    "# r :- not p.     Rule P3.b\n",
    "# q :- t, not p.  Rule P3.c\n",
    "\n",
    "\n",
    "p = [0,\"p\"]\n",
    "q = [0,\"q\"]\n",
    "r = [0,\"r\"]\n",
    "t = [0,\"t\"]\n",
    "np = [1,\"p\"]\n",
    "nq = [1,\"q\"]\n",
    "nr = [1,\"r\"]\n",
    "\n",
    "rul3A = [p,[q,nr]]\n",
    "rul3B = [r,[np]]\n",
    "rul3C = [q,[t,np]]\n",
    "\n",
    "prog3 = [rul3A,rul3B,rul3C]\n",
    "\n",
    "print(prog3)"
   ]
  },
  {
   "cell_type": "code",
   "execution_count": 69,
   "id": "73878880",
   "metadata": {},
   "outputs": [
    {
     "data": {
      "text/plain": [
       "[False, True]"
      ]
     },
     "execution_count": 69,
     "metadata": {},
     "output_type": "execute_result"
    }
   ],
   "source": [
    "elon_or_olon(rul3A,prog3)\n",
    "### MIST"
   ]
  },
  {
   "cell_type": "markdown",
   "id": "d3f905e9",
   "metadata": {},
   "source": [
    "## For only ordinary rules"
   ]
  },
  {
   "cell_type": "code",
   "execution_count": 98,
   "id": "0df6ce04",
   "metadata": {},
   "outputs": [],
   "source": [
    "def coind(query,program,chs):\n",
    "    \n",
    "    \n",
    "    matched_bodies = [rule[1]\n",
    "                      for rule in program if query == rule[0]]\n",
    "    \n",
    "    \n",
    "    answers = [[[[]] if atom in chs \n",
    "                else [] if [1 for hyp in chs if hyp[1] == atom[1]]\n",
    "                else coind(atom,program,chs.append(query))\n",
    "               \n",
    "                for atom in body]\n",
    "               \n",
    "               for body in matched_bodies]\n",
    "    \n",
    "    return answers\n"
   ]
  },
  {
   "cell_type": "code",
   "execution_count": null,
   "id": "b0725d60",
   "metadata": {},
   "outputs": [],
   "source": [
    "def collaps(setOfaSetOfPartialAnswers):\n",
    "    "
   ]
  },
  {
   "cell_type": "code",
   "execution_count": 99,
   "id": "9866f962",
   "metadata": {},
   "outputs": [
    {
     "data": {
      "text/plain": [
       "[[[]]]"
      ]
     },
     "execution_count": 99,
     "metadata": {},
     "output_type": "execute_result"
    }
   ],
   "source": [
    "coind(p,prog1,[])"
   ]
  },
  {
   "cell_type": "markdown",
   "id": "3b38c671",
   "metadata": {},
   "source": [
    "## 4. Goal-directed Execution of Answer Set Programs\n"
   ]
  },
  {
   "cell_type": "code",
   "execution_count": 159,
   "id": "e38210f2",
   "metadata": {},
   "outputs": [
    {
     "name": "stdout",
     "output_type": "stream",
     "text": [
      "[[[0, 'p'], [[1, 'q']]], [[0, 'q'], [[1, 'p']]], [[0, 'z'], []]]\n"
     ]
    }
   ],
   "source": [
    "progTest = [rul1,rul2,[[0,\"z\"],[]]]\n",
    "print(progTest)"
   ]
  },
  {
   "cell_type": "code",
   "execution_count": 208,
   "id": "bf850f07",
   "metadata": {},
   "outputs": [],
   "source": [
    "def step(program,goals,answer):\n",
    "    if not goals:\n",
    "        return (\"success\", answer)\n",
    "    elif not [1 for rule in program if rule[0] == goals[0]]:\n",
    "        return(\"failR\", answer)\n",
    "    elif [not goals[0][0],goals[0][1]] in answer:\n",
    "        return (\"failA\", answer)\n",
    "    elif goals[0] in answer and not [1 for a in answer if a[0] == 1]:\n",
    "        return (\"failN\", answer)\n",
    "    elif [1 for rule in program if rule[0] == goals[0] and not rule[1]]:\n",
    "        answer.append(goals[0])\n",
    "        return (goals[1:],answer)\n",
    "    elif (goals[0] in answer) and not [1 for a in answer if a[0] == 1]: ### !!! Hier fehlt noch ein OR case\n",
    "        return (goals[1:],answer)\n",
    "    elif not [1 for hyp in answer if hyp[1] == goals[0][1]] and [1 for rule in program if rule[0] == goals[0]]:\n",
    "        return (goals[1:]+ [atom for rule in program if rule[0] == goals[0] for atom in rule[1]][0], answer)\n",
    "    return 0"
   ]
  },
  {
   "cell_type": "code",
   "execution_count": 209,
   "id": "0254aa57",
   "metadata": {},
   "outputs": [
    {
     "data": {
      "text/plain": [
       "([1, 'q'], [[0, 's']])"
      ]
     },
     "execution_count": 209,
     "metadata": {},
     "output_type": "execute_result"
    }
   ],
   "source": [
    "step(progTest,[p],[s])"
   ]
  },
  {
   "cell_type": "code",
   "execution_count": 194,
   "id": "d2d3d35d",
   "metadata": {},
   "outputs": [
    {
     "data": {
      "text/plain": [
       "([], [[0, 'z']])"
      ]
     },
     "execution_count": 194,
     "metadata": {},
     "output_type": "execute_result"
    }
   ],
   "source": [
    "step(progTest,[[0,\"z\"]],[])"
   ]
  },
  {
   "cell_type": "code",
   "execution_count": 162,
   "id": "cc1c8254",
   "metadata": {},
   "outputs": [
    {
     "data": {
      "text/plain": [
       "('failA', [[1, 'p']])"
      ]
     },
     "execution_count": 162,
     "metadata": {},
     "output_type": "execute_result"
    }
   ],
   "source": [
    "step(progTest,[p],[np])"
   ]
  },
  {
   "cell_type": "code",
   "execution_count": 163,
   "id": "b12d56d0",
   "metadata": {},
   "outputs": [
    {
     "data": {
      "text/plain": [
       "('failN', [[0, 'p']])"
      ]
     },
     "execution_count": 163,
     "metadata": {},
     "output_type": "execute_result"
    }
   ],
   "source": [
    "step(progTest,[p],[p])"
   ]
  },
  {
   "cell_type": "code",
   "execution_count": 164,
   "id": "90db818c",
   "metadata": {},
   "outputs": [
    {
     "data": {
      "text/plain": [
       "('failR', [])"
      ]
     },
     "execution_count": 164,
     "metadata": {},
     "output_type": "execute_result"
    }
   ],
   "source": [
    "step(progTest,[s],[])"
   ]
  },
  {
   "cell_type": "code",
   "execution_count": 165,
   "id": "818595c5",
   "metadata": {},
   "outputs": [
    {
     "data": {
      "text/plain": [
       "('success', [])"
      ]
     },
     "execution_count": 165,
     "metadata": {},
     "output_type": "execute_result"
    }
   ],
   "source": [
    "step(progTest,[],[])"
   ]
  },
  {
   "cell_type": "code",
   "execution_count": 166,
   "id": "9b24b66a",
   "metadata": {},
   "outputs": [
    {
     "name": "stdout",
     "output_type": "stream",
     "text": [
      "[[[0, 'p'], [[1, 'q']]], [[0, 'q'], [[1, 'p']]], [[0, 'z'], []]]\n"
     ]
    }
   ],
   "source": [
    "print(progTest)"
   ]
  },
  {
   "cell_type": "code",
   "execution_count": 90,
   "id": "1e34d19b",
   "metadata": {},
   "outputs": [
    {
     "ename": "SyntaxError",
     "evalue": "invalid syntax (Temp/ipykernel_10560/2816070095.py, line 1)",
     "output_type": "error",
     "traceback": [
      "\u001b[1;36m  File \u001b[1;32m\"C:\\Users\\Johannes\\AppData\\Local\\Temp/ipykernel_10560/2816070095.py\"\u001b[1;36m, line \u001b[1;32m1\u001b[0m\n\u001b[1;33m    [if x>2: 9 for x in [1..5]]\u001b[0m\n\u001b[1;37m     ^\u001b[0m\n\u001b[1;31mSyntaxError\u001b[0m\u001b[1;31m:\u001b[0m invalid syntax\n"
     ]
    }
   ],
   "source": [
    "[if x>2: 9 for x in [1..5]]"
   ]
  },
  {
   "cell_type": "markdown",
   "id": "bd60b3cb",
   "metadata": {},
   "source": [
    "## Graph with Or-/And-Nodes"
   ]
  },
  {
   "cell_type": "code",
   "execution_count": null,
   "id": "2aeef5a8",
   "metadata": {},
   "outputs": [],
   "source": [
    "\n",
    "\n",
    "class OrNode:\n",
    "    def __init__(self, sign, name, ruleNodes):\n",
    "        self.name = name\n",
    "        self.sign = sign\n",
    "        self.matched_rules = ruleNodes\n",
    "\n",
    "class AndNode:\n",
    "    def __init__(self, headAtomNode, bodyAtomNodes):\n",
    "        self.head = headAtomNode\n",
    "        self.body = bodyAtomNodes\n",
    "\n",
    "\n",
    "\n",
    "\n",
    "def top_down(query,program,chs):\n",
    "\n",
    "    matched_rules = [rule[1] for rule in program if rule[0] == query]\n",
    "    \n",
    "    for body in rule_match:\n",
    "        \n",
    "    \n",
    "    \n",
    "    # root note\n",
    "    paths = [[query[0]+atom[0], atom] for atom in rule[1]]\n",
    "    \n",
    "    # tree search\n",
    "    while paths:\n",
    "        \n",
    "        # aggregates for next expansion\n",
    "        tentative_expansion = []\n",
    "        \n",
    "        # cycle check and return updates\n",
    "        for path in paths:\n",
    "            # matches query\n",
    "            if path[1][1] == query[1]:\n",
    "                if (path[0] % 2) == 0:\n",
    "                    elon = True\n",
    "                else:\n",
    "                    olon = True\n",
    "                if elon and olon:\n",
    "                    return [elon, olon]\n",
    "            else:\n",
    "                tentative_expansion.append(path) \n",
    "        \n",
    "        if not tentative_expansion:\n",
    "            break\n",
    "            \n",
    "        # breadth first search\n",
    "        paths = [[path[0]+atom[0], atom] \n",
    "                 for path in tentative_expansion\n",
    "                 for rule in program if rule[0] == path[1]\n",
    "                 for atom in rule[1]]\n",
    "        \n",
    "    # non-cyclic case\n",
    "    if olon: \n",
    "        return [False, olon]\n",
    "    else: \n",
    "        return [True, olon]"
   ]
  },
  {
   "cell_type": "code",
   "execution_count": null,
   "id": "ecb497dd",
   "metadata": {},
   "outputs": [],
   "source": []
  },
  {
   "cell_type": "code",
   "execution_count": null,
   "id": "08a07ce5",
   "metadata": {},
   "outputs": [],
   "source": []
  },
  {
   "cell_type": "code",
   "execution_count": null,
   "id": "71939e5b",
   "metadata": {},
   "outputs": [],
   "source": []
  }
 ],
 "metadata": {
  "kernelspec": {
   "display_name": "Python 3 (ipykernel)",
   "language": "python",
   "name": "python3"
  },
  "language_info": {
   "codemirror_mode": {
    "name": "ipython",
    "version": 3
   },
   "file_extension": ".py",
   "mimetype": "text/x-python",
   "name": "python",
   "nbconvert_exporter": "python",
   "pygments_lexer": "ipython3",
   "version": "3.10.2"
  }
 },
 "nbformat": 4,
 "nbformat_minor": 5
}
