{
 "cells": [
  {
   "cell_type": "markdown",
   "metadata": {
    "pycharm": {
     "name": "#%% md\n"
    }
   },
   "source": [
    "# Explaining Logic Programs under the SM-Semantics"
   ]
  },
  {
   "cell_type": "code",
   "execution_count": 1,
   "metadata": {
    "pycharm": {
     "name": "#%%\n"
    }
   },
   "outputs": [],
   "source": [
    "from typing import Sequence, Optional, Iterator\n",
    "\n",
    "import clingo\n",
    "import clingraph.clingo_utils\n",
    "from clingraph import Factbase, compute_graphs"
   ]
  },
  {
   "cell_type": "code",
   "execution_count": 2,
   "metadata": {
    "pycharm": {
     "name": "#%%\n"
    }
   },
   "outputs": [],
   "source": [
    "def solve(programs,\n",
    "          ctl: Optional[clingo.Control] = None,\n",
    "          parts=(('base', ()),),\n",
    "          context=None,\n",
    "          report=False,\n",
    "          report_models=True,\n",
    "          report_result=True,\n",
    "          symbol_sep=' ',\n",
    "          model_sep='\\n'\n",
    "          ) -> Iterator[Sequence[clingo.Symbol]]:\n",
    "    if ctl is None:\n",
    "        ctl = clingo.Control()\n",
    "        ctl.configuration.solve.models = 0\n",
    "    ctl.add('base', [], '\\n'.join(programs))\n",
    "    ctl.ground(parts, context=context)\n",
    "    with ctl.solve(yield_=True) as solve_handle:\n",
    "        models = 0\n",
    "        for model in solve_handle:\n",
    "            symbols = sorted(model.symbols(shown=True))\n",
    "            if report and report_models:\n",
    "                print(\"Answer {}:\".format(model.number), end=' ')\n",
    "                print(\"{\",\n",
    "                      symbol_sep.join(map(str, symbols)), \"}\", sep=symbol_sep, end=model_sep)\n",
    "            models += 1\n",
    "            yield symbols\n",
    "        if report and report_result:\n",
    "            solve_result = solve_handle.get()\n",
    "            print(solve_result, end='')\n",
    "            if solve_result.satisfiable:\n",
    "                print(\" {}{}\".format(models, '' if solve_result.exhausted else '+'))\n",
    "            else:\n",
    "                print()\n",
    "\n",
    "def draw_graph(programs,\n",
    "          ctl: Optional[clingo.Control] = None,\n",
    "          parts=(('base', ()),)):\n",
    "    fb = Factbase()\n",
    "    if ctl is None:\n",
    "        ctl = clingo.Control()\n",
    "        ctl.configuration.solve.models = 0\n",
    "    ctl.add('base', [], '\\n'.join(programs))\n",
    "    ctl.ground(parts, clingraph.clingo_utils.ClingraphContext())\n",
    "    with ctl.solve(yield_=True) as solve_handle:\n",
    "        for model in solve_handle:\n",
    "            fb.add_model(model)\n",
    "            break\n",
    "    return compute_graphs(fb)"
   ]
  },
  {
   "cell_type": "markdown",
   "metadata": {
    "pycharm": {
     "name": "#%% md\n"
    }
   },
   "source": [
    "Given is the following logic program."
   ]
  },
  {
   "cell_type": "code",
   "execution_count": 3,
   "metadata": {
    "pycharm": {
     "name": "#%%\n"
    }
   },
   "outputs": [
    {
     "name": "stdout",
     "output_type": "stream",
     "text": [
      "Answer 1: { b e f }\n",
      "Answer 2: { a c e k }\n",
      "SAT 2\n"
     ]
    }
   ],
   "source": [
    "primal = \"\"\"\n",
    "\n",
    "a :- k, not b.\n",
    "c :- a, b.\n",
    "c :- k.\n",
    "k :- e, not b.\n",
    "\n",
    "e.\n",
    "\n",
    "b :- not a.\n",
    "f :- e, not k, not c.\n",
    "\n",
    "\"\"\"\n",
    "\n",
    "primal_answer_sets = tuple(solve([primal], report=True))"
   ]
  },
  {
   "cell_type": "markdown",
   "metadata": {
    "pycharm": {
     "name": "#%% md\n"
    }
   },
   "source": [
    "It has two stable models (answer sets). However, it is not (immediately) apparent why an atom is in the answer set (and why another isn't)."
   ]
  },
  {
   "cell_type": "markdown",
   "metadata": {
    "pycharm": {
     "name": "#%% md\n"
    }
   },
   "source": [
    "To get these explanations we have to find a causal chain of statements (proof) which show how the stable model was derived. Logic programs are a certain type of directed graph, from which we can extract this proof as a tree structure."
   ]
  },
  {
   "cell_type": "code",
   "execution_count": 4,
   "metadata": {
    "pycharm": {
     "name": "#%%\n"
    }
   },
   "outputs": [],
   "source": [
    "graph_encoding = \"\"\"\n",
    "\n",
    "node(U) :- edge((U,V)).\n",
    "node(V) :- edge((U,V)).\n",
    "\n",
    "attr(node, L, label, L) :- pos_literal(L).\n",
    "attr(node, N, label, @concat(\"not \", P)) :- neg_literal(N), pos_neg(P,N).\n",
    "attr(node, N, fontname, \"fira-sans\") :- node(N).\n",
    "attr(edge, E, fontname, \"fira-sans\") :- edge(E).\n",
    "\n",
    "attr(node, L, style, filled) :- neg_literal(L).\n",
    "attr(node, L, fontcolor, white) :- neg_literal(L).\n",
    "attr(node, L, color, black) :- neg_literal(L).\n",
    "\n",
    "node(Rule) :- rule(Rule).\n",
    "\n",
    "attr(edge, E, dir, forward) :- edge(E).\n",
    "attr(node, Rule, shape, box) :- rule(Rule).\n",
    "\n",
    "\"\"\""
   ]
  },
  {
   "cell_type": "code",
   "execution_count": 5,
   "metadata": {
    "pycharm": {
     "name": "#%%\n"
    }
   },
   "outputs": [
    {
     "data": {
      "image/svg+xml": "<?xml version=\"1.0\" encoding=\"UTF-8\" standalone=\"no\"?>\n<!DOCTYPE svg PUBLIC \"-//W3C//DTD SVG 1.1//EN\"\n \"http://www.w3.org/Graphics/SVG/1.1/DTD/svg11.dtd\">\n<!-- Generated by graphviz version 3.0.0 (20220227.1548)\n -->\n<!-- Title: default Pages: 1 -->\n<svg width=\"465pt\" height=\"548pt\"\n viewBox=\"0.00 0.00 465.50 548.00\" xmlns=\"http://www.w3.org/2000/svg\" xmlns:xlink=\"http://www.w3.org/1999/xlink\">\n<g id=\"graph0\" class=\"graph\" transform=\"scale(1 1) rotate(0) translate(4 544)\">\n<title>default</title>\n<polygon fill=\"white\" stroke=\"transparent\" points=\"-4,4 -4,-544 461.5,-544 461.5,4 -4,4\"/>\n<!-- a -->\n<g id=\"node1\" class=\"node\">\n<title>a</title>\n<ellipse fill=\"none\" stroke=\"black\" cx=\"315.5\" cy=\"-378\" rx=\"27\" ry=\"18\"/>\n<text text-anchor=\"middle\" x=\"315.5\" y=\"-374.3\" font-family=\"fira-sans\" font-size=\"14.00\">a</text>\n</g>\n<!-- r1 -->\n<g id=\"node10\" class=\"node\">\n<title>r1</title>\n<polygon fill=\"none\" stroke=\"black\" points=\"361,-324 268,-324 268,-288 361,-288 361,-324\"/>\n<text text-anchor=\"middle\" x=\"314.5\" y=\"-302.3\" font-family=\"fira-sans\" font-size=\"14.00\">a :&#45; k, not b.</text>\n</g>\n<!-- a&#45;&#45;r1 -->\n<g id=\"edge1\" class=\"edge\">\n<title>a&#45;&#45;r1</title>\n<path fill=\"none\" stroke=\"black\" d=\"M315.25,-359.7C315.14,-351.98 315.01,-342.71 314.88,-334.11\"/>\n<polygon fill=\"black\" stroke=\"black\" points=\"318.38,-334.05 314.74,-324.1 311.38,-334.15 318.38,-334.05\"/>\n</g>\n<!-- r7 -->\n<g id=\"node2\" class=\"node\">\n<title>r7</title>\n<polygon fill=\"none\" stroke=\"black\" points=\"174,-180 43,-180 43,-144 174,-144 174,-180\"/>\n<text text-anchor=\"middle\" x=\"108.5\" y=\"-158.3\" font-family=\"fira-sans\" font-size=\"14.00\">f :&#45; e, not k, not c.</text>\n</g>\n<!-- e -->\n<g id=\"node3\" class=\"node\">\n<title>e</title>\n<ellipse fill=\"none\" stroke=\"black\" cx=\"217.5\" cy=\"-90\" rx=\"27\" ry=\"18\"/>\n<text text-anchor=\"middle\" x=\"217.5\" y=\"-86.3\" font-family=\"fira-sans\" font-size=\"14.00\">e</text>\n</g>\n<!-- r7&#45;&#45;e -->\n<g id=\"edge2\" class=\"edge\">\n<title>r7&#45;&#45;e</title>\n<path fill=\"none\" stroke=\"black\" d=\"M135.16,-143.88C151.75,-133.22 173.05,-119.54 189.83,-108.77\"/>\n<polygon fill=\"black\" stroke=\"black\" points=\"192.1,-111.47 198.62,-103.12 188.32,-105.58 192.1,-111.47\"/>\n</g>\n<!-- &#45;c -->\n<g id=\"node6\" class=\"node\">\n<title>&#45;c</title>\n<ellipse fill=\"black\" stroke=\"black\" cx=\"32.5\" cy=\"-90\" rx=\"32.49\" ry=\"18\"/>\n<text text-anchor=\"middle\" x=\"32.5\" y=\"-86.3\" font-family=\"fira-sans\" font-size=\"14.00\" fill=\"white\">not c</text>\n</g>\n<!-- r7&#45;&#45;&#45;c -->\n<g id=\"edge18\" class=\"edge\">\n<title>r7&#45;&#45;&#45;c</title>\n<path fill=\"none\" stroke=\"black\" d=\"M89.71,-143.7C79.52,-134.31 66.84,-122.63 56,-112.65\"/>\n<polygon fill=\"black\" stroke=\"black\" points=\"58.23,-109.94 48.5,-105.74 53.48,-115.09 58.23,-109.94\"/>\n</g>\n<!-- &#45;k -->\n<g id=\"node12\" class=\"node\">\n<title>&#45;k</title>\n<ellipse fill=\"black\" stroke=\"black\" cx=\"115.5\" cy=\"-90\" rx=\"32.49\" ry=\"18\"/>\n<text text-anchor=\"middle\" x=\"115.5\" y=\"-86.3\" font-family=\"fira-sans\" font-size=\"14.00\" fill=\"white\">not k</text>\n</g>\n<!-- r7&#45;&#45;&#45;k -->\n<g id=\"edge10\" class=\"edge\">\n<title>r7&#45;&#45;&#45;k</title>\n<path fill=\"none\" stroke=\"black\" d=\"M110.23,-143.7C111,-135.98 111.93,-126.71 112.79,-118.11\"/>\n<polygon fill=\"black\" stroke=\"black\" points=\"116.27,-118.4 113.79,-108.1 109.31,-117.71 116.27,-118.4\"/>\n</g>\n<!-- r5 -->\n<g id=\"node7\" class=\"node\">\n<title>r5</title>\n<polygon fill=\"none\" stroke=\"black\" points=\"244.5,-36 190.5,-36 190.5,0 244.5,0 244.5,-36\"/>\n<text text-anchor=\"middle\" x=\"217.5\" y=\"-14.3\" font-family=\"fira-sans\" font-size=\"14.00\">e.</text>\n</g>\n<!-- e&#45;&#45;r5 -->\n<g id=\"edge3\" class=\"edge\">\n<title>e&#45;&#45;r5</title>\n<path fill=\"none\" stroke=\"black\" d=\"M217.5,-71.7C217.5,-63.98 217.5,-54.71 217.5,-46.11\"/>\n<polygon fill=\"black\" stroke=\"black\" points=\"221,-46.1 217.5,-36.1 214,-46.1 221,-46.1\"/>\n</g>\n<!-- f -->\n<g id=\"node4\" class=\"node\">\n<title>f</title>\n<ellipse fill=\"none\" stroke=\"black\" cx=\"108.5\" cy=\"-234\" rx=\"27\" ry=\"18\"/>\n<text text-anchor=\"middle\" x=\"108.5\" y=\"-230.3\" font-family=\"fira-sans\" font-size=\"14.00\">f</text>\n</g>\n<!-- f&#45;&#45;r7 -->\n<g id=\"edge15\" class=\"edge\">\n<title>f&#45;&#45;r7</title>\n<path fill=\"none\" stroke=\"black\" d=\"M108.5,-215.7C108.5,-207.98 108.5,-198.71 108.5,-190.11\"/>\n<polygon fill=\"black\" stroke=\"black\" points=\"112,-190.1 108.5,-180.1 105,-190.1 112,-190.1\"/>\n</g>\n<!-- c -->\n<g id=\"node5\" class=\"node\">\n<title>c</title>\n<ellipse fill=\"none\" stroke=\"black\" cx=\"278.5\" cy=\"-522\" rx=\"27\" ry=\"18\"/>\n<text text-anchor=\"middle\" x=\"278.5\" y=\"-518.3\" font-family=\"fira-sans\" font-size=\"14.00\">c</text>\n</g>\n<!-- r3 -->\n<g id=\"node8\" class=\"node\">\n<title>r3</title>\n<polygon fill=\"none\" stroke=\"black\" points=\"266.5,-468 212.5,-468 212.5,-432 266.5,-432 266.5,-468\"/>\n<text text-anchor=\"middle\" x=\"239.5\" y=\"-446.3\" font-family=\"fira-sans\" font-size=\"14.00\">c :&#45; k.</text>\n</g>\n<!-- c&#45;&#45;r3 -->\n<g id=\"edge12\" class=\"edge\">\n<title>c&#45;&#45;r3</title>\n<path fill=\"none\" stroke=\"black\" d=\"M269.45,-504.76C264.86,-496.53 259.17,-486.32 253.99,-477.02\"/>\n<polygon fill=\"black\" stroke=\"black\" points=\"256.96,-475.16 249.04,-468.12 250.85,-478.56 256.96,-475.16\"/>\n</g>\n<!-- r2 -->\n<g id=\"node11\" class=\"node\">\n<title>r2</title>\n<polygon fill=\"none\" stroke=\"black\" points=\"350.5,-468 284.5,-468 284.5,-432 350.5,-432 350.5,-468\"/>\n<text text-anchor=\"middle\" x=\"317.5\" y=\"-446.3\" font-family=\"fira-sans\" font-size=\"14.00\">c :&#45; a, b.</text>\n</g>\n<!-- c&#45;&#45;r2 -->\n<g id=\"edge8\" class=\"edge\">\n<title>c&#45;&#45;r2</title>\n<path fill=\"none\" stroke=\"black\" d=\"M287.54,-504.76C292.13,-496.53 297.82,-486.32 303,-477.02\"/>\n<polygon fill=\"black\" stroke=\"black\" points=\"306.15,-478.56 307.96,-468.12 300.03,-475.16 306.15,-478.56\"/>\n</g>\n<!-- k -->\n<g id=\"node14\" class=\"node\">\n<title>k</title>\n<ellipse fill=\"none\" stroke=\"black\" cx=\"239.5\" cy=\"-234\" rx=\"27\" ry=\"18\"/>\n<text text-anchor=\"middle\" x=\"239.5\" y=\"-230.3\" font-family=\"fira-sans\" font-size=\"14.00\">k</text>\n</g>\n<!-- r3&#45;&#45;k -->\n<g id=\"edge4\" class=\"edge\">\n<title>r3&#45;&#45;k</title>\n<path fill=\"none\" stroke=\"black\" d=\"M239.5,-431.85C239.5,-394.83 239.5,-307.18 239.5,-262.39\"/>\n<polygon fill=\"black\" stroke=\"black\" points=\"243,-262.23 239.5,-252.23 236,-262.23 243,-262.23\"/>\n</g>\n<!-- &#45;b -->\n<g id=\"node9\" class=\"node\">\n<title>&#45;b</title>\n<ellipse fill=\"black\" stroke=\"black\" cx=\"308.5\" cy=\"-90\" rx=\"33.29\" ry=\"18\"/>\n<text text-anchor=\"middle\" x=\"308.5\" y=\"-86.3\" font-family=\"fira-sans\" font-size=\"14.00\" fill=\"white\">not b</text>\n</g>\n<!-- r1&#45;&#45;&#45;b -->\n<g id=\"edge6\" class=\"edge\">\n<title>r1&#45;&#45;&#45;b</title>\n<path fill=\"none\" stroke=\"black\" d=\"M314.02,-287.85C312.98,-250.83 310.52,-163.18 309.26,-118.39\"/>\n<polygon fill=\"black\" stroke=\"black\" points=\"312.76,-118.13 308.98,-108.23 305.76,-118.33 312.76,-118.13\"/>\n</g>\n<!-- r1&#45;&#45;k -->\n<g id=\"edge14\" class=\"edge\">\n<title>r1&#45;&#45;k</title>\n<path fill=\"none\" stroke=\"black\" d=\"M295.96,-287.7C285.77,-278.18 273.04,-266.3 262.25,-256.23\"/>\n<polygon fill=\"black\" stroke=\"black\" points=\"264.49,-253.54 254.8,-249.28 259.72,-258.66 264.49,-253.54\"/>\n</g>\n<!-- r2&#45;&#45;a -->\n<g id=\"edge11\" class=\"edge\">\n<title>r2&#45;&#45;a</title>\n<path fill=\"none\" stroke=\"black\" d=\"M317,-431.7C316.78,-423.98 316.52,-414.71 316.27,-406.11\"/>\n<polygon fill=\"black\" stroke=\"black\" points=\"319.77,-406 315.99,-396.1 312.77,-406.2 319.77,-406\"/>\n</g>\n<!-- b -->\n<g id=\"node15\" class=\"node\">\n<title>b</title>\n<ellipse fill=\"none\" stroke=\"black\" cx=\"403.5\" cy=\"-378\" rx=\"27\" ry=\"18\"/>\n<text text-anchor=\"middle\" x=\"403.5\" y=\"-374.3\" font-family=\"fira-sans\" font-size=\"14.00\">b</text>\n</g>\n<!-- r2&#45;&#45;b -->\n<g id=\"edge9\" class=\"edge\">\n<title>r2&#45;&#45;b</title>\n<path fill=\"none\" stroke=\"black\" d=\"M338.76,-431.7C351,-421.73 366.43,-409.17 379.15,-398.81\"/>\n<polygon fill=\"black\" stroke=\"black\" points=\"381.52,-401.4 387.06,-392.38 377.1,-395.97 381.52,-401.4\"/>\n</g>\n<!-- r4 -->\n<g id=\"node13\" class=\"node\">\n<title>r4</title>\n<polygon fill=\"none\" stroke=\"black\" points=\"286.5,-180 192.5,-180 192.5,-144 286.5,-144 286.5,-180\"/>\n<text text-anchor=\"middle\" x=\"239.5\" y=\"-158.3\" font-family=\"fira-sans\" font-size=\"14.00\">k :&#45; e, not b.</text>\n</g>\n<!-- r4&#45;&#45;e -->\n<g id=\"edge17\" class=\"edge\">\n<title>r4&#45;&#45;e</title>\n<path fill=\"none\" stroke=\"black\" d=\"M234.06,-143.7C231.61,-135.9 228.66,-126.51 225.93,-117.83\"/>\n<polygon fill=\"black\" stroke=\"black\" points=\"229.21,-116.59 222.87,-108.1 222.53,-118.69 229.21,-116.59\"/>\n</g>\n<!-- r4&#45;&#45;&#45;b -->\n<g id=\"edge16\" class=\"edge\">\n<title>r4&#45;&#45;&#45;b</title>\n<path fill=\"none\" stroke=\"black\" d=\"M256.55,-143.7C265.58,-134.53 276.78,-123.18 286.46,-113.35\"/>\n<polygon fill=\"black\" stroke=\"black\" points=\"288.98,-115.78 293.51,-106.2 284,-110.87 288.98,-115.78\"/>\n</g>\n<!-- k&#45;&#45;r4 -->\n<g id=\"edge7\" class=\"edge\">\n<title>k&#45;&#45;r4</title>\n<path fill=\"none\" stroke=\"black\" d=\"M239.5,-215.7C239.5,-207.98 239.5,-198.71 239.5,-190.11\"/>\n<polygon fill=\"black\" stroke=\"black\" points=\"243,-190.1 239.5,-180.1 236,-190.1 243,-190.1\"/>\n</g>\n<!-- r6 -->\n<g id=\"node17\" class=\"node\">\n<title>r6</title>\n<polygon fill=\"none\" stroke=\"black\" points=\"457.5,-324 379.5,-324 379.5,-288 457.5,-288 457.5,-324\"/>\n<text text-anchor=\"middle\" x=\"418.5\" y=\"-302.3\" font-family=\"fira-sans\" font-size=\"14.00\">b :&#45; not a.</text>\n</g>\n<!-- b&#45;&#45;r6 -->\n<g id=\"edge13\" class=\"edge\">\n<title>b&#45;&#45;r6</title>\n<path fill=\"none\" stroke=\"black\" d=\"M407.13,-360.05C408.8,-352.26 410.82,-342.82 412.69,-334.08\"/>\n<polygon fill=\"black\" stroke=\"black\" points=\"416.12,-334.79 414.8,-324.28 409.28,-333.32 416.12,-334.79\"/>\n</g>\n<!-- &#45;a -->\n<g id=\"node16\" class=\"node\">\n<title>&#45;a</title>\n<ellipse fill=\"black\" stroke=\"black\" cx=\"418.5\" cy=\"-234\" rx=\"32.49\" ry=\"18\"/>\n<text text-anchor=\"middle\" x=\"418.5\" y=\"-230.3\" font-family=\"fira-sans\" font-size=\"14.00\" fill=\"white\">not a</text>\n</g>\n<!-- r6&#45;&#45;&#45;a -->\n<g id=\"edge5\" class=\"edge\">\n<title>r6&#45;&#45;&#45;a</title>\n<path fill=\"none\" stroke=\"black\" d=\"M418.5,-287.7C418.5,-279.98 418.5,-270.71 418.5,-262.11\"/>\n<polygon fill=\"black\" stroke=\"black\" points=\"422,-262.1 418.5,-252.1 415,-262.1 422,-262.1\"/>\n</g>\n</g>\n</svg>\n",
      "text/plain": "<graphviz.graphs.Graph at 0x7fb5d4087ee0>"
     },
     "execution_count": 5,
     "metadata": {},
     "output_type": "execute_result"
    }
   ],
   "source": [
    "primal_graph_str = \"\"\"\n",
    "\n",
    "pos_literal(a;b;c;e;f;k).\n",
    "neg_literal(-a;-b;-c;-e;-f;-k).\n",
    "pos_neg(a,-a;b,-b;c,-c;e,-e;f,-f;k,-k).\n",
    "\n",
    "rule(r1).\n",
    "attr(node, r1, label, \"a :- k, not b.\").\n",
    "edge((a, r1)).\n",
    "edge((r1, k)).\n",
    "edge((r1, -b)).\n",
    "\n",
    "rule(r2).\n",
    "attr(node, r2, label, \"c :- a, b.\").\n",
    "edge((c, r2)).\n",
    "edge((r2, a)).\n",
    "edge((r2, b)).\n",
    "\n",
    "rule(r3).\n",
    "attr(node, r3, label, \"c :- k.\").\n",
    "edge((c, r3)).\n",
    "edge((r3, k)).\n",
    "\n",
    "rule(r4).\n",
    "attr(node, r4, label, \"k :- e, not b.\").\n",
    "edge((k, r4)).\n",
    "edge((r4, e)).\n",
    "edge((r4, -b)).\n",
    "\n",
    "rule(r5).\n",
    "attr(node, r5, label, \"e.\").\n",
    "edge((e, r5)).\n",
    "\n",
    "rule(r6).\n",
    "attr(node, r6, label, \"b :- not a.\").\n",
    "edge((b, r6)).\n",
    "edge((r6, -a)).\n",
    "\n",
    "rule(r7).\n",
    "attr(node, r7, label, \"f :- e, not k, not c.\").\n",
    "edge((f, r7)).\n",
    "edge((r7, e)).\n",
    "edge((r7, -k)).\n",
    "edge((r7, -c)).\n",
    "\n",
    "\"\"\"\n",
    "\n",
    "primal_graph = draw_graph([primal_graph_str, graph_encoding])['default']\n",
    "primal_graph"
   ]
  },
  {
   "cell_type": "markdown",
   "metadata": {
    "pycharm": {
     "name": "#%% md\n"
    }
   },
   "source": [
    "A logic program graph has two types of nodes. Nodes that describe the literals (round) and nodes that describe the rules. Each literal that is in the head of a rule points to that rule. Each rule points to its literals in the body. If all rule heads are positive we call this graph a *primal* graph."
   ]
  },
  {
   "cell_type": "markdown",
   "metadata": {
    "pycharm": {
     "name": "#%% md\n"
    }
   },
   "source": [
    "As the name suggests we also are able to derive a *dual* from the primal. The dual takes each rule and groups them by heads\n",
    "\\begin{aligned}\n",
    "p \\leftarrow B_1\\\\\n",
    "p \\leftarrow B_2\\\\\n",
    "\\vdots \\\\\n",
    "p \\leftarrow B_n\n",
    "\\end{aligned}\n",
    "Then the dual rule is:\n",
    "\\begin{equation}\n",
    "\\text{not}~p \\leftarrow \\text{not}~B_1, \\text{not}~B_2, \\ldots, \\text{not}~B_n.\n",
    "\\end{equation}\n",
    "\n",
    "If a literal does not have any heads it is a negative fact.\n",
    "\\begin{equation}\n",
    "\\text{not}~p.\n",
    "\\end{equation}\n",
    "\n",
    "Facts do not have a dual equivalent (as their negative can never be derived)."
   ]
  },
  {
   "cell_type": "code",
   "execution_count": 6,
   "metadata": {
    "pycharm": {
     "name": "#%%\n"
    }
   },
   "outputs": [
    {
     "name": "stdout",
     "output_type": "stream",
     "text": [
      "Answer 1: {  }\n",
      "SAT 1\n"
     ]
    },
    {
     "name": "stderr",
     "output_type": "stream",
     "text": [
      "<block>:3:5-6: info: atom does not occur in any rule head:\n",
      "  a\n",
      "\n",
      "<block>:3:14-15: info: atom does not occur in any rule head:\n",
      "  k\n",
      "\n",
      "<block>:4:5-6: info: atom does not occur in any rule head:\n",
      "  a\n",
      "\n",
      "<block>:4:10-11: info: atom does not occur in any rule head:\n",
      "  b\n",
      "\n",
      "<block>:5:5-6: info: atom does not occur in any rule head:\n",
      "  c\n",
      "\n",
      "<block>:5:14-19: info: atom does not occur in any rule head:\n",
      "  __c_1\n",
      "\n",
      "<block>:5:25-26: info: atom does not occur in any rule head:\n",
      "  k\n",
      "\n",
      "<block>:6:5-10: info: atom does not occur in any rule head:\n",
      "  __c_1\n",
      "\n",
      "<block>:6:18-19: info: atom does not occur in any rule head:\n",
      "  a\n",
      "\n",
      "<block>:7:5-10: info: atom does not occur in any rule head:\n",
      "  __c_1\n",
      "\n",
      "<block>:7:18-19: info: atom does not occur in any rule head:\n",
      "  b\n",
      "\n",
      "<block>:8:5-6: info: atom does not occur in any rule head:\n",
      "  k\n",
      "\n",
      "<block>:8:14-15: info: atom does not occur in any rule head:\n",
      "  e\n",
      "\n",
      "<block>:9:5-6: info: atom does not occur in any rule head:\n",
      "  k\n",
      "\n",
      "<block>:9:10-11: info: atom does not occur in any rule head:\n",
      "  b\n",
      "\n",
      "<block>:11:5-6: info: atom does not occur in any rule head:\n",
      "  b\n",
      "\n",
      "<block>:11:10-11: info: atom does not occur in any rule head:\n",
      "  a\n",
      "\n",
      "<block>:12:5-6: info: atom does not occur in any rule head:\n",
      "  f\n",
      "\n",
      "<block>:12:14-15: info: atom does not occur in any rule head:\n",
      "  e\n",
      "\n",
      "<block>:13:5-6: info: atom does not occur in any rule head:\n",
      "  f\n",
      "\n"
     ]
    }
   ],
   "source": [
    "dual = \"\"\"\n",
    "\n",
    "not a :- not k.\n",
    "not a :- b.\n",
    "not c :- not __c_1, not k.\n",
    "not __c_1 :- not a.\n",
    "not __c_1 :- not b.\n",
    "not k :- not e.\n",
    "not k :- b.\n",
    "\n",
    "not b :- a.\n",
    "not f :- not e.\n",
    "not f :- k.\n",
    "not f :- c.\n",
    "\n",
    "\"\"\"\n",
    "\n",
    "dual_answer_sets = tuple(solve([dual], report=True))"
   ]
  },
  {
   "cell_type": "markdown",
   "metadata": {
    "pycharm": {
     "name": "#%% md\n"
    }
   },
   "source": [
    "With the same graph encoding we can draw the dual graph."
   ]
  },
  {
   "cell_type": "code",
   "execution_count": 7,
   "metadata": {
    "pycharm": {
     "name": "#%%\n"
    }
   },
   "outputs": [
    {
     "data": {
      "image/svg+xml": "<?xml version=\"1.0\" encoding=\"UTF-8\" standalone=\"no\"?>\n<!DOCTYPE svg PUBLIC \"-//W3C//DTD SVG 1.1//EN\"\n \"http://www.w3.org/Graphics/SVG/1.1/DTD/svg11.dtd\">\n<!-- Generated by graphviz version 3.0.0 (20220227.1548)\n -->\n<!-- Title: default Pages: 1 -->\n<svg width=\"578pt\" height=\"620pt\"\n viewBox=\"0.00 0.00 578.00 620.00\" xmlns=\"http://www.w3.org/2000/svg\" xmlns:xlink=\"http://www.w3.org/1999/xlink\">\n<g id=\"graph0\" class=\"graph\" transform=\"scale(1 1) rotate(0) translate(4 616)\">\n<title>default</title>\n<polygon fill=\"white\" stroke=\"transparent\" points=\"-4,4 -4,-616 574,-616 574,4 -4,4\"/>\n<!-- &#45;a -->\n<g id=\"node1\" class=\"node\">\n<title>&#45;a</title>\n<ellipse fill=\"black\" stroke=\"black\" cx=\"416\" cy=\"-306\" rx=\"32.49\" ry=\"18\"/>\n<text text-anchor=\"middle\" x=\"416\" y=\"-302.3\" font-family=\"fira-sans\" font-size=\"14.00\" fill=\"white\">not a</text>\n</g>\n<!-- d1 -->\n<g id=\"node2\" class=\"node\">\n<title>d1</title>\n<polygon fill=\"none\" stroke=\"black\" points=\"468,-252 364,-252 364,-216 468,-216 468,-252\"/>\n<text text-anchor=\"middle\" x=\"416\" y=\"-230.3\" font-family=\"fira-sans\" font-size=\"14.00\">not a :&#45; not k.</text>\n</g>\n<!-- &#45;a&#45;&#45;d1 -->\n<g id=\"edge19\" class=\"edge\">\n<title>&#45;a&#45;&#45;d1</title>\n<path fill=\"none\" stroke=\"black\" d=\"M416,-287.7C416,-279.98 416,-270.71 416,-262.11\"/>\n<polygon fill=\"black\" stroke=\"black\" points=\"419.5,-262.1 416,-252.1 412.5,-262.1 419.5,-262.1\"/>\n</g>\n<!-- d2 -->\n<g id=\"node15\" class=\"node\">\n<title>d2</title>\n<polygon fill=\"none\" stroke=\"black\" points=\"570,-252 492,-252 492,-216 570,-216 570,-252\"/>\n<text text-anchor=\"middle\" x=\"531\" y=\"-230.3\" font-family=\"fira-sans\" font-size=\"14.00\">not a :&#45; b.</text>\n</g>\n<!-- &#45;a&#45;&#45;d2 -->\n<g id=\"edge10\" class=\"edge\">\n<title>&#45;a&#45;&#45;d2</title>\n<path fill=\"none\" stroke=\"black\" d=\"M437.09,-292.16C452.99,-282.48 475.2,-268.97 494.02,-257.51\"/>\n<polygon fill=\"black\" stroke=\"black\" points=\"495.95,-260.43 502.67,-252.24 492.31,-254.45 495.95,-260.43\"/>\n</g>\n<!-- &#45;k -->\n<g id=\"node12\" class=\"node\">\n<title>&#45;k</title>\n<ellipse fill=\"black\" stroke=\"black\" cx=\"386\" cy=\"-162\" rx=\"32.49\" ry=\"18\"/>\n<text text-anchor=\"middle\" x=\"386\" y=\"-158.3\" font-family=\"fira-sans\" font-size=\"14.00\" fill=\"white\">not k</text>\n</g>\n<!-- d1&#45;&#45;&#45;k -->\n<g id=\"edge15\" class=\"edge\">\n<title>d1&#45;&#45;&#45;k</title>\n<path fill=\"none\" stroke=\"black\" d=\"M408.58,-215.7C405.12,-207.61 400.92,-197.81 397.09,-188.87\"/>\n<polygon fill=\"black\" stroke=\"black\" points=\"400.28,-187.44 393.12,-179.62 393.85,-190.19 400.28,-187.44\"/>\n</g>\n<!-- a -->\n<g id=\"node3\" class=\"node\">\n<title>a</title>\n<ellipse fill=\"none\" stroke=\"black\" cx=\"55\" cy=\"-162\" rx=\"27\" ry=\"18\"/>\n<text text-anchor=\"middle\" x=\"55\" y=\"-158.3\" font-family=\"fira-sans\" font-size=\"14.00\">a</text>\n</g>\n<!-- d6 -->\n<g id=\"node4\" class=\"node\">\n<title>d6</title>\n<polygon fill=\"none\" stroke=\"black\" points=\"408,-108 304,-108 304,-72 408,-72 408,-108\"/>\n<text text-anchor=\"middle\" x=\"356\" y=\"-86.3\" font-family=\"fira-sans\" font-size=\"14.00\">not k :&#45; not e.</text>\n</g>\n<!-- &#45;e -->\n<g id=\"node22\" class=\"node\">\n<title>&#45;e</title>\n<ellipse fill=\"black\" stroke=\"black\" cx=\"295\" cy=\"-18\" rx=\"33.29\" ry=\"18\"/>\n<text text-anchor=\"middle\" x=\"295\" y=\"-14.3\" font-family=\"fira-sans\" font-size=\"14.00\" fill=\"white\">not e</text>\n</g>\n<!-- d6&#45;&#45;&#45;e -->\n<g id=\"edge8\" class=\"edge\">\n<title>d6&#45;&#45;&#45;e</title>\n<path fill=\"none\" stroke=\"black\" d=\"M340.92,-71.7C333.2,-62.84 323.7,-51.93 315.34,-42.34\"/>\n<polygon fill=\"black\" stroke=\"black\" points=\"317.86,-39.91 308.66,-34.67 312.59,-44.51 317.86,-39.91\"/>\n</g>\n<!-- d11 -->\n<g id=\"node5\" class=\"node\">\n<title>d11</title>\n<polygon fill=\"none\" stroke=\"black\" points=\"74,-108 0,-108 0,-72 74,-72 74,-108\"/>\n<text text-anchor=\"middle\" x=\"37\" y=\"-86.3\" font-family=\"fira-sans\" font-size=\"14.00\">not f :&#45; c.</text>\n</g>\n<!-- c -->\n<g id=\"node11\" class=\"node\">\n<title>c</title>\n<ellipse fill=\"none\" stroke=\"black\" cx=\"37\" cy=\"-18\" rx=\"27\" ry=\"18\"/>\n<text text-anchor=\"middle\" x=\"37\" y=\"-14.3\" font-family=\"fira-sans\" font-size=\"14.00\">c</text>\n</g>\n<!-- d11&#45;&#45;c -->\n<g id=\"edge3\" class=\"edge\">\n<title>d11&#45;&#45;c</title>\n<path fill=\"none\" stroke=\"black\" d=\"M37,-71.7C37,-63.98 37,-54.71 37,-46.11\"/>\n<polygon fill=\"black\" stroke=\"black\" points=\"40.5,-46.1 37,-36.1 33.5,-46.1 40.5,-46.1\"/>\n</g>\n<!-- &#45;b -->\n<g id=\"node6\" class=\"node\">\n<title>&#45;b</title>\n<ellipse fill=\"black\" stroke=\"black\" cx=\"91\" cy=\"-306\" rx=\"33.29\" ry=\"18\"/>\n<text text-anchor=\"middle\" x=\"91\" y=\"-302.3\" font-family=\"fira-sans\" font-size=\"14.00\" fill=\"white\">not b</text>\n</g>\n<!-- d8 -->\n<g id=\"node19\" class=\"node\">\n<title>d8</title>\n<polygon fill=\"none\" stroke=\"black\" points=\"106,-252 28,-252 28,-216 106,-216 106,-252\"/>\n<text text-anchor=\"middle\" x=\"67\" y=\"-230.3\" font-family=\"fira-sans\" font-size=\"14.00\">not b :&#45; a.</text>\n</g>\n<!-- &#45;b&#45;&#45;d8 -->\n<g id=\"edge6\" class=\"edge\">\n<title>&#45;b&#45;&#45;d8</title>\n<path fill=\"none\" stroke=\"black\" d=\"M85.19,-288.05C82.49,-280.18 79.21,-270.62 76.19,-261.79\"/>\n<polygon fill=\"black\" stroke=\"black\" points=\"79.48,-260.6 72.92,-252.28 72.86,-262.87 79.48,-260.6\"/>\n</g>\n<!-- b -->\n<g id=\"node7\" class=\"node\">\n<title>b</title>\n<ellipse fill=\"none\" stroke=\"black\" cx=\"498\" cy=\"-18\" rx=\"27\" ry=\"18\"/>\n<text text-anchor=\"middle\" x=\"498\" y=\"-14.3\" font-family=\"fira-sans\" font-size=\"14.00\">b</text>\n</g>\n<!-- d4 -->\n<g id=\"node8\" class=\"node\">\n<title>d4</title>\n<polygon fill=\"none\" stroke=\"black\" points=\"307.5,-396 178.5,-396 178.5,-360 307.5,-360 307.5,-396\"/>\n<text text-anchor=\"middle\" x=\"243\" y=\"-374.3\" font-family=\"fira-sans\" font-size=\"14.00\">not __c_1 :&#45; not a.</text>\n</g>\n<!-- d4&#45;&#45;&#45;a -->\n<g id=\"edge16\" class=\"edge\">\n<title>d4&#45;&#45;&#45;a</title>\n<path fill=\"none\" stroke=\"black\" d=\"M285.32,-359.88C314.76,-347.96 353.53,-332.28 381.18,-321.09\"/>\n<polygon fill=\"black\" stroke=\"black\" points=\"382.51,-324.33 390.46,-317.33 379.88,-317.84 382.51,-324.33\"/>\n</g>\n<!-- &#45;__c_1 -->\n<g id=\"node9\" class=\"node\">\n<title>&#45;__c_1</title>\n<ellipse fill=\"black\" stroke=\"black\" cx=\"243\" cy=\"-450\" rx=\"49.29\" ry=\"18\"/>\n<text text-anchor=\"middle\" x=\"243\" y=\"-446.3\" font-family=\"fira-sans\" font-size=\"14.00\" fill=\"white\">not __c_1</text>\n</g>\n<!-- &#45;__c_1&#45;&#45;d4 -->\n<g id=\"edge2\" class=\"edge\">\n<title>&#45;__c_1&#45;&#45;d4</title>\n<path fill=\"none\" stroke=\"black\" d=\"M243,-431.7C243,-423.98 243,-414.71 243,-406.11\"/>\n<polygon fill=\"black\" stroke=\"black\" points=\"246.5,-406.1 243,-396.1 239.5,-406.1 246.5,-406.1\"/>\n</g>\n<!-- d5 -->\n<g id=\"node21\" class=\"node\">\n<title>d5</title>\n<polygon fill=\"none\" stroke=\"black\" points=\"157,-396 27,-396 27,-360 157,-360 157,-396\"/>\n<text text-anchor=\"middle\" x=\"92\" y=\"-374.3\" font-family=\"fira-sans\" font-size=\"14.00\">not __c_1 :&#45; not b.</text>\n</g>\n<!-- &#45;__c_1&#45;&#45;d5 -->\n<g id=\"edge11\" class=\"edge\">\n<title>&#45;__c_1&#45;&#45;d5</title>\n<path fill=\"none\" stroke=\"black\" d=\"M213.53,-435.34C192.07,-425.39 162.58,-411.72 138.03,-400.34\"/>\n<polygon fill=\"black\" stroke=\"black\" points=\"139.43,-397.13 128.89,-396.1 136.49,-403.48 139.43,-397.13\"/>\n</g>\n<!-- &#45;c -->\n<g id=\"node10\" class=\"node\">\n<title>&#45;c</title>\n<ellipse fill=\"black\" stroke=\"black\" cx=\"289\" cy=\"-594\" rx=\"32.49\" ry=\"18\"/>\n<text text-anchor=\"middle\" x=\"289\" y=\"-590.3\" font-family=\"fira-sans\" font-size=\"14.00\" fill=\"white\">not c</text>\n</g>\n<!-- d3 -->\n<g id=\"node18\" class=\"node\">\n<title>d3</title>\n<polygon fill=\"none\" stroke=\"black\" points=\"374,-540 204,-540 204,-504 374,-504 374,-540\"/>\n<text text-anchor=\"middle\" x=\"289\" y=\"-518.3\" font-family=\"fira-sans\" font-size=\"14.00\">not c :&#45; not __c_1, not k.</text>\n</g>\n<!-- &#45;c&#45;&#45;d3 -->\n<g id=\"edge20\" class=\"edge\">\n<title>&#45;c&#45;&#45;d3</title>\n<path fill=\"none\" stroke=\"black\" d=\"M289,-575.7C289,-567.98 289,-558.71 289,-550.11\"/>\n<polygon fill=\"black\" stroke=\"black\" points=\"292.5,-550.1 289,-540.1 285.5,-550.1 292.5,-550.1\"/>\n</g>\n<!-- &#45;k&#45;&#45;d6 -->\n<g id=\"edge12\" class=\"edge\">\n<title>&#45;k&#45;&#45;d6</title>\n<path fill=\"none\" stroke=\"black\" d=\"M378.89,-144.41C375.48,-136.45 371.31,-126.72 367.47,-117.76\"/>\n<polygon fill=\"black\" stroke=\"black\" points=\"370.63,-116.26 363.48,-108.45 364.2,-119.02 370.63,-116.26\"/>\n</g>\n<!-- d7 -->\n<g id=\"node20\" class=\"node\">\n<title>d7</title>\n<polygon fill=\"none\" stroke=\"black\" points=\"504,-108 426,-108 426,-72 504,-72 504,-108\"/>\n<text text-anchor=\"middle\" x=\"465\" y=\"-86.3\" font-family=\"fira-sans\" font-size=\"14.00\">not k :&#45; b.</text>\n</g>\n<!-- &#45;k&#45;&#45;d7 -->\n<g id=\"edge13\" class=\"edge\">\n<title>&#45;k&#45;&#45;d7</title>\n<path fill=\"none\" stroke=\"black\" d=\"M402.75,-146.15C412.98,-137.09 426.3,-125.29 437.99,-114.93\"/>\n<polygon fill=\"black\" stroke=\"black\" points=\"440.61,-117.29 445.77,-108.04 435.96,-112.05 440.61,-117.29\"/>\n</g>\n<!-- k -->\n<g id=\"node13\" class=\"node\">\n<title>k</title>\n<ellipse fill=\"none\" stroke=\"black\" cx=\"129\" cy=\"-18\" rx=\"27\" ry=\"18\"/>\n<text text-anchor=\"middle\" x=\"129\" y=\"-14.3\" font-family=\"fira-sans\" font-size=\"14.00\">k</text>\n</g>\n<!-- d9 -->\n<g id=\"node14\" class=\"node\">\n<title>d9</title>\n<polygon fill=\"none\" stroke=\"black\" points=\"285.5,-108 184.5,-108 184.5,-72 285.5,-72 285.5,-108\"/>\n<text text-anchor=\"middle\" x=\"235\" y=\"-86.3\" font-family=\"fira-sans\" font-size=\"14.00\">not f :&#45; not e.</text>\n</g>\n<!-- d9&#45;&#45;&#45;e -->\n<g id=\"edge7\" class=\"edge\">\n<title>d9&#45;&#45;&#45;e</title>\n<path fill=\"none\" stroke=\"black\" d=\"M249.83,-71.7C257.42,-62.84 266.77,-51.93 274.99,-42.34\"/>\n<polygon fill=\"black\" stroke=\"black\" points=\"277.72,-44.54 281.57,-34.67 272.4,-39.99 277.72,-44.54\"/>\n</g>\n<!-- d2&#45;&#45;b -->\n<g id=\"edge1\" class=\"edge\">\n<title>d2&#45;&#45;b</title>\n<path fill=\"none\" stroke=\"black\" d=\"M530.02,-215.94C528.11,-186.39 523.17,-123.89 513,-72 511.3,-63.33 508.87,-54.01 506.46,-45.64\"/>\n<polygon fill=\"black\" stroke=\"black\" points=\"509.8,-44.59 503.59,-36.01 503.1,-46.6 509.8,-44.59\"/>\n</g>\n<!-- d10 -->\n<g id=\"node16\" class=\"node\">\n<title>d10</title>\n<polygon fill=\"none\" stroke=\"black\" points=\"166,-108 92,-108 92,-72 166,-72 166,-108\"/>\n<text text-anchor=\"middle\" x=\"129\" y=\"-86.3\" font-family=\"fira-sans\" font-size=\"14.00\">not f :&#45; k.</text>\n</g>\n<!-- d10&#45;&#45;k -->\n<g id=\"edge23\" class=\"edge\">\n<title>d10&#45;&#45;k</title>\n<path fill=\"none\" stroke=\"black\" d=\"M129,-71.7C129,-63.98 129,-54.71 129,-46.11\"/>\n<polygon fill=\"black\" stroke=\"black\" points=\"132.5,-46.1 129,-36.1 125.5,-46.1 132.5,-46.1\"/>\n</g>\n<!-- &#45;f -->\n<g id=\"node17\" class=\"node\">\n<title>&#45;f</title>\n<ellipse fill=\"black\" stroke=\"black\" cx=\"131\" cy=\"-162\" rx=\"30.59\" ry=\"18\"/>\n<text text-anchor=\"middle\" x=\"131\" y=\"-158.3\" font-family=\"fira-sans\" font-size=\"14.00\" fill=\"white\">not f</text>\n</g>\n<!-- &#45;f&#45;&#45;d11 -->\n<g id=\"edge18\" class=\"edge\">\n<title>&#45;f&#45;&#45;d11</title>\n<path fill=\"none\" stroke=\"black\" d=\"M112.88,-147.5C100.3,-138.14 83.22,-125.42 68.45,-114.42\"/>\n<polygon fill=\"black\" stroke=\"black\" points=\"70.18,-111.35 60.07,-108.18 66,-116.96 70.18,-111.35\"/>\n</g>\n<!-- &#45;f&#45;&#45;d9 -->\n<g id=\"edge17\" class=\"edge\">\n<title>&#45;f&#45;&#45;d9</title>\n<path fill=\"none\" stroke=\"black\" d=\"M150.56,-147.83C164.79,-138.26 184.42,-125.05 201.17,-113.77\"/>\n<polygon fill=\"black\" stroke=\"black\" points=\"203.28,-116.57 209.62,-108.08 199.37,-110.76 203.28,-116.57\"/>\n</g>\n<!-- &#45;f&#45;&#45;d10 -->\n<g id=\"edge5\" class=\"edge\">\n<title>&#45;f&#45;&#45;d10</title>\n<path fill=\"none\" stroke=\"black\" d=\"M130.51,-143.7C130.29,-135.98 130.02,-126.71 129.77,-118.11\"/>\n<polygon fill=\"black\" stroke=\"black\" points=\"133.27,-118 129.49,-108.1 126.28,-118.2 133.27,-118\"/>\n</g>\n<!-- d3&#45;&#45;&#45;__c_1 -->\n<g id=\"edge9\" class=\"edge\">\n<title>d3&#45;&#45;&#45;__c_1</title>\n<path fill=\"none\" stroke=\"black\" d=\"M277.63,-503.7C272.15,-495.35 265.46,-485.18 259.44,-476.02\"/>\n<polygon fill=\"black\" stroke=\"black\" points=\"262.34,-474.06 253.92,-467.62 256.49,-477.9 262.34,-474.06\"/>\n</g>\n<!-- d3&#45;&#45;&#45;k -->\n<g id=\"edge4\" class=\"edge\">\n<title>d3&#45;&#45;&#45;k</title>\n<path fill=\"none\" stroke=\"black\" d=\"M298.74,-503.68C312.51,-477.53 336,-426 336,-379 336,-379 336,-379 336,-305 336,-264.55 340.38,-253.71 355,-216 358.77,-206.26 364.2,-196.22 369.46,-187.52\"/>\n<polygon fill=\"black\" stroke=\"black\" points=\"372.44,-189.35 374.81,-179.02 366.52,-185.63 372.44,-189.35\"/>\n</g>\n<!-- d8&#45;&#45;a -->\n<g id=\"edge21\" class=\"edge\">\n<title>d8&#45;&#45;a</title>\n<path fill=\"none\" stroke=\"black\" d=\"M64.03,-215.7C62.71,-207.98 61.12,-198.71 59.65,-190.11\"/>\n<polygon fill=\"black\" stroke=\"black\" points=\"63.07,-189.37 57.93,-180.1 56.17,-190.55 63.07,-189.37\"/>\n</g>\n<!-- d7&#45;&#45;b -->\n<g id=\"edge22\" class=\"edge\">\n<title>d7&#45;&#45;b</title>\n<path fill=\"none\" stroke=\"black\" d=\"M473.16,-71.7C476.97,-63.61 481.59,-53.81 485.8,-44.87\"/>\n<polygon fill=\"black\" stroke=\"black\" points=\"489.07,-46.16 490.16,-35.62 482.73,-43.18 489.07,-46.16\"/>\n</g>\n<!-- d5&#45;&#45;&#45;b -->\n<g id=\"edge14\" class=\"edge\">\n<title>d5&#45;&#45;&#45;b</title>\n<path fill=\"none\" stroke=\"black\" d=\"M91.75,-359.7C91.64,-351.98 91.51,-342.71 91.39,-334.11\"/>\n<polygon fill=\"black\" stroke=\"black\" points=\"94.89,-334.05 91.24,-324.1 87.89,-334.15 94.89,-334.05\"/>\n</g>\n</g>\n</svg>\n",
      "text/plain": "<graphviz.graphs.Graph at 0x7fb5d4087280>"
     },
     "execution_count": 7,
     "metadata": {},
     "output_type": "execute_result"
    }
   ],
   "source": [
    "dual_graph_str = \"\"\"\n",
    "\n",
    "pos_literal(a;b;c;e;f;k).\n",
    "neg_literal(-a;-b;-c;-e;-f;-k).\n",
    "pos_neg(a,-a;b,-b;c,-c;e,-e;f,-f;k,-k).\n",
    "\n",
    "neg_literal(-__c_1).\n",
    "pos_neg(__c_1, -__c_1).\n",
    "\n",
    "rule(d1).\n",
    "attr(node, d1, label, \"not a :- not k.\").\n",
    "edge((-a, d1)).\n",
    "edge((d1, -k)).\n",
    "\n",
    "rule(d2).\n",
    "attr(node, d2, label, \"not a :- b.\").\n",
    "edge((-a, d2)).\n",
    "edge((d2, b)).\n",
    "\n",
    "rule(d3).\n",
    "attr(node, d3, label, \"not c :- not __c_1, not k.\").\n",
    "edge((-c, d3)).\n",
    "edge((d3, -__c_1)).\n",
    "edge((d3, -k)).\n",
    "\n",
    "rule(d4).\n",
    "attr(node, d4, label, \"not __c_1 :- not a.\").\n",
    "edge((-__c_1, d4)).\n",
    "edge((d4, -a)).\n",
    "\n",
    "rule(d5).\n",
    "attr(node, d5, label, \"not __c_1 :- not b.\").\n",
    "edge((-__c_1, d5)).\n",
    "edge((d5, -b)).\n",
    "\n",
    "rule(d6).\n",
    "attr(node, d6, label, \"not k :- not e.\").\n",
    "edge((-k, d6)).\n",
    "edge((d6, -e)).\n",
    "\n",
    "rule(d7).\n",
    "attr(node, d7, label, \"not k :- b.\").\n",
    "edge((-k, d7)).\n",
    "edge((d7, b)).\n",
    "\n",
    "rule(d8).\n",
    "attr(node, d8, label, \"not b :- a.\").\n",
    "edge((-b, d8)).\n",
    "edge((d8, a)).\n",
    "\n",
    "rule(d9).\n",
    "attr(node, d9, label, \"not f :- not e.\").\n",
    "edge((-f, d9)).\n",
    "edge((d9, -e)).\n",
    "\n",
    "rule(d10).\n",
    "attr(node, d10, label, \"not f :- k.\").\n",
    "edge((-f, d10)).\n",
    "edge((d10, k)).\n",
    "\n",
    "rule(d11).\n",
    "attr(node, d11, label, \"not f :- c.\").\n",
    "edge((-f, d11)).\n",
    "edge((d11, c)).\n",
    "\n",
    "\n",
    "\"\"\"\n",
    "\n",
    "dual_graph = draw_graph([dual_graph_str, graph_encoding])['default']\n",
    "dual_graph"
   ]
  },
  {
   "cell_type": "markdown",
   "metadata": {
    "pycharm": {
     "name": "#%% md\n"
    }
   },
   "source": [
    "If we include the _primal_ and the _dual_ rules we get the *complete* graph."
   ]
  },
  {
   "cell_type": "code",
   "execution_count": 8,
   "metadata": {
    "pycharm": {
     "name": "#%%\n"
    }
   },
   "outputs": [
    {
     "data": {
      "image/svg+xml": "<?xml version=\"1.0\" encoding=\"UTF-8\" standalone=\"no\"?>\n<!DOCTYPE svg PUBLIC \"-//W3C//DTD SVG 1.1//EN\"\n \"http://www.w3.org/Graphics/SVG/1.1/DTD/svg11.dtd\">\n<!-- Generated by graphviz version 3.0.0 (20220227.1548)\n -->\n<!-- Title: default Pages: 1 -->\n<svg width=\"758pt\" height=\"980pt\"\n viewBox=\"0.00 0.00 757.50 980.00\" xmlns=\"http://www.w3.org/2000/svg\" xmlns:xlink=\"http://www.w3.org/1999/xlink\">\n<g id=\"graph0\" class=\"graph\" transform=\"scale(1 1) rotate(0) translate(4 976)\">\n<title>default</title>\n<polygon fill=\"white\" stroke=\"transparent\" points=\"-4,4 -4,-976 753.5,-976 753.5,4 -4,4\"/>\n<!-- e -->\n<g id=\"node1\" class=\"node\">\n<title>e</title>\n<ellipse fill=\"none\" stroke=\"black\" cx=\"474\" cy=\"-90\" rx=\"27\" ry=\"18\"/>\n<text text-anchor=\"middle\" x=\"474\" y=\"-86.3\" font-family=\"fira-sans\" font-size=\"14.00\">e</text>\n</g>\n<!-- r5 -->\n<g id=\"node15\" class=\"node\">\n<title>r5</title>\n<polygon fill=\"none\" stroke=\"black\" points=\"501,-36 447,-36 447,0 501,0 501,-36\"/>\n<text text-anchor=\"middle\" x=\"474\" y=\"-14.3\" font-family=\"fira-sans\" font-size=\"14.00\">e.</text>\n</g>\n<!-- e&#45;&#45;r5 -->\n<g id=\"edge17\" class=\"edge\">\n<title>e&#45;&#45;r5</title>\n<path fill=\"none\" stroke=\"black\" d=\"M474,-71.7C474,-63.98 474,-54.71 474,-46.11\"/>\n<polygon fill=\"black\" stroke=\"black\" points=\"477.5,-46.1 474,-36.1 470.5,-46.1 477.5,-46.1\"/>\n</g>\n<!-- &#45;a -->\n<g id=\"node2\" class=\"node\">\n<title>&#45;a</title>\n<ellipse fill=\"black\" stroke=\"black\" cx=\"405\" cy=\"-522\" rx=\"32.49\" ry=\"18\"/>\n<text text-anchor=\"middle\" x=\"405\" y=\"-518.3\" font-family=\"fira-sans\" font-size=\"14.00\" fill=\"white\">not a</text>\n</g>\n<!-- d1 -->\n<g id=\"node3\" class=\"node\">\n<title>d1</title>\n<polygon fill=\"none\" stroke=\"black\" points=\"597,-468 493,-468 493,-432 597,-432 597,-468\"/>\n<text text-anchor=\"middle\" x=\"545\" y=\"-446.3\" font-family=\"fira-sans\" font-size=\"14.00\">not a :&#45; not k.</text>\n</g>\n<!-- &#45;a&#45;&#45;d1 -->\n<g id=\"edge31\" class=\"edge\">\n<title>&#45;a&#45;&#45;d1</title>\n<path fill=\"none\" stroke=\"black\" d=\"M428.43,-509.28C448.45,-499.28 477.76,-484.62 501.99,-472.51\"/>\n<polygon fill=\"black\" stroke=\"black\" points=\"503.61,-475.61 510.99,-468 500.48,-469.35 503.61,-475.61\"/>\n</g>\n<!-- d2 -->\n<g id=\"node21\" class=\"node\">\n<title>d2</title>\n<polygon fill=\"none\" stroke=\"black\" points=\"451,-324 373,-324 373,-288 451,-288 451,-324\"/>\n<text text-anchor=\"middle\" x=\"412\" y=\"-302.3\" font-family=\"fira-sans\" font-size=\"14.00\">not a :&#45; b.</text>\n</g>\n<!-- &#45;a&#45;&#45;d2 -->\n<g id=\"edge18\" class=\"edge\">\n<title>&#45;a&#45;&#45;d2</title>\n<path fill=\"none\" stroke=\"black\" d=\"M405.56,-503.85C406.77,-466.83 409.64,-379.18 411.1,-334.39\"/>\n<polygon fill=\"black\" stroke=\"black\" points=\"414.61,-334.34 411.44,-324.23 407.61,-334.11 414.61,-334.34\"/>\n</g>\n<!-- &#45;k -->\n<g id=\"node18\" class=\"node\">\n<title>&#45;k</title>\n<ellipse fill=\"black\" stroke=\"black\" cx=\"625\" cy=\"-378\" rx=\"32.49\" ry=\"18\"/>\n<text text-anchor=\"middle\" x=\"625\" y=\"-374.3\" font-family=\"fira-sans\" font-size=\"14.00\" fill=\"white\">not k</text>\n</g>\n<!-- d1&#45;&#45;&#45;k -->\n<g id=\"edge25\" class=\"edge\">\n<title>d1&#45;&#45;&#45;k</title>\n<path fill=\"none\" stroke=\"black\" d=\"M564.78,-431.7C575.68,-422.16 589.3,-410.24 600.83,-400.15\"/>\n<polygon fill=\"black\" stroke=\"black\" points=\"603.2,-402.73 608.42,-393.51 598.59,-397.46 603.2,-402.73\"/>\n</g>\n<!-- a -->\n<g id=\"node4\" class=\"node\">\n<title>a</title>\n<ellipse fill=\"none\" stroke=\"black\" cx=\"129\" cy=\"-378\" rx=\"27\" ry=\"18\"/>\n<text text-anchor=\"middle\" x=\"129\" y=\"-374.3\" font-family=\"fira-sans\" font-size=\"14.00\">a</text>\n</g>\n<!-- r1 -->\n<g id=\"node17\" class=\"node\">\n<title>r1</title>\n<polygon fill=\"none\" stroke=\"black\" points=\"175.5,-324 82.5,-324 82.5,-288 175.5,-288 175.5,-324\"/>\n<text text-anchor=\"middle\" x=\"129\" y=\"-302.3\" font-family=\"fira-sans\" font-size=\"14.00\">a :&#45; k, not b.</text>\n</g>\n<!-- a&#45;&#45;r1 -->\n<g id=\"edge34\" class=\"edge\">\n<title>a&#45;&#45;r1</title>\n<path fill=\"none\" stroke=\"black\" d=\"M129,-359.7C129,-351.98 129,-342.71 129,-334.11\"/>\n<polygon fill=\"black\" stroke=\"black\" points=\"132.5,-334.1 129,-324.1 125.5,-334.1 132.5,-334.1\"/>\n</g>\n<!-- r7 -->\n<g id=\"node5\" class=\"node\">\n<title>r7</title>\n<polygon fill=\"none\" stroke=\"black\" points=\"749.5,-900 618.5,-900 618.5,-864 749.5,-864 749.5,-900\"/>\n<text text-anchor=\"middle\" x=\"684\" y=\"-878.3\" font-family=\"fira-sans\" font-size=\"14.00\">f :&#45; e, not k, not c.</text>\n</g>\n<!-- r7&#45;&#45;e -->\n<g id=\"edge1\" class=\"edge\">\n<title>r7&#45;&#45;e</title>\n<path fill=\"none\" stroke=\"black\" d=\"M694.57,-863.79C709.51,-837.77 735,-786.41 735,-739 735,-739 735,-739 735,-233 735,-132.21 582.96,-102.55 510.96,-94.16\"/>\n<polygon fill=\"black\" stroke=\"black\" points=\"511.27,-90.67 500.95,-93.07 510.51,-97.63 511.27,-90.67\"/>\n</g>\n<!-- &#45;c -->\n<g id=\"node13\" class=\"node\">\n<title>&#45;c</title>\n<ellipse fill=\"black\" stroke=\"black\" cx=\"598\" cy=\"-810\" rx=\"32.49\" ry=\"18\"/>\n<text text-anchor=\"middle\" x=\"598\" y=\"-806.3\" font-family=\"fira-sans\" font-size=\"14.00\" fill=\"white\">not c</text>\n</g>\n<!-- r7&#45;&#45;&#45;c -->\n<g id=\"edge40\" class=\"edge\">\n<title>r7&#45;&#45;&#45;c</title>\n<path fill=\"none\" stroke=\"black\" d=\"M662.74,-863.7C650.83,-854 635.89,-841.84 623.37,-831.65\"/>\n<polygon fill=\"black\" stroke=\"black\" points=\"625.51,-828.88 615.54,-825.28 621.09,-834.31 625.51,-828.88\"/>\n</g>\n<!-- r7&#45;&#45;&#45;k -->\n<g id=\"edge26\" class=\"edge\">\n<title>r7&#45;&#45;&#45;k</title>\n<path fill=\"none\" stroke=\"black\" d=\"M684,-863.95C684,-837.29 684,-784.11 684,-739 684,-739 684,-739 684,-521 684,-477.11 659.66,-431.02 642.25,-403.67\"/>\n<polygon fill=\"black\" stroke=\"black\" points=\"645.07,-401.58 636.66,-395.14 639.21,-405.42 645.07,-401.58\"/>\n</g>\n<!-- d6 -->\n<g id=\"node6\" class=\"node\">\n<title>d6</title>\n<polygon fill=\"none\" stroke=\"black\" points=\"707,-324 603,-324 603,-288 707,-288 707,-324\"/>\n<text text-anchor=\"middle\" x=\"655\" y=\"-302.3\" font-family=\"fira-sans\" font-size=\"14.00\">not k :&#45; not e.</text>\n</g>\n<!-- &#45;e -->\n<g id=\"node31\" class=\"node\">\n<title>&#45;e</title>\n<ellipse fill=\"black\" stroke=\"black\" cx=\"615\" cy=\"-234\" rx=\"33.29\" ry=\"18\"/>\n<text text-anchor=\"middle\" x=\"615\" y=\"-230.3\" font-family=\"fira-sans\" font-size=\"14.00\" fill=\"white\">not e</text>\n</g>\n<!-- d6&#45;&#45;&#45;e -->\n<g id=\"edge14\" class=\"edge\">\n<title>d6&#45;&#45;&#45;e</title>\n<path fill=\"none\" stroke=\"black\" d=\"M645.11,-287.7C640.44,-279.52 634.77,-269.6 629.62,-260.58\"/>\n<polygon fill=\"black\" stroke=\"black\" points=\"632.5,-258.57 624.5,-251.62 626.42,-262.04 632.5,-258.57\"/>\n</g>\n<!-- d11 -->\n<g id=\"node7\" class=\"node\">\n<title>d11</title>\n<polygon fill=\"none\" stroke=\"black\" points=\"390,-612 316,-612 316,-576 390,-576 390,-612\"/>\n<text text-anchor=\"middle\" x=\"353\" y=\"-590.3\" font-family=\"fira-sans\" font-size=\"14.00\">not f :&#45; c.</text>\n</g>\n<!-- c -->\n<g id=\"node14\" class=\"node\">\n<title>c</title>\n<ellipse fill=\"none\" stroke=\"black\" cx=\"236\" cy=\"-522\" rx=\"27\" ry=\"18\"/>\n<text text-anchor=\"middle\" x=\"236\" y=\"-518.3\" font-family=\"fira-sans\" font-size=\"14.00\">c</text>\n</g>\n<!-- d11&#45;&#45;c -->\n<g id=\"edge6\" class=\"edge\">\n<title>d11&#45;&#45;c</title>\n<path fill=\"none\" stroke=\"black\" d=\"M324.38,-575.88C306.17,-564.98 282.69,-550.94 264.51,-540.06\"/>\n<polygon fill=\"black\" stroke=\"black\" points=\"265.92,-536.82 255.54,-534.69 262.32,-542.83 265.92,-536.82\"/>\n</g>\n<!-- &#45;b -->\n<g id=\"node8\" class=\"node\">\n<title>&#45;b</title>\n<ellipse fill=\"black\" stroke=\"black\" cx=\"41\" cy=\"-522\" rx=\"33.29\" ry=\"18\"/>\n<text text-anchor=\"middle\" x=\"41\" y=\"-518.3\" font-family=\"fira-sans\" font-size=\"14.00\" fill=\"white\">not b</text>\n</g>\n<!-- d8 -->\n<g id=\"node25\" class=\"node\">\n<title>d8</title>\n<polygon fill=\"none\" stroke=\"black\" points=\"144,-468 66,-468 66,-432 144,-432 144,-468\"/>\n<text text-anchor=\"middle\" x=\"105\" y=\"-446.3\" font-family=\"fira-sans\" font-size=\"14.00\">not b :&#45; a.</text>\n</g>\n<!-- &#45;b&#45;&#45;d8 -->\n<g id=\"edge12\" class=\"edge\">\n<title>&#45;b&#45;&#45;d8</title>\n<path fill=\"none\" stroke=\"black\" d=\"M55.2,-505.46C63.11,-496.82 73.14,-485.85 82.12,-476.03\"/>\n<polygon fill=\"black\" stroke=\"black\" points=\"84.87,-478.2 89.04,-468.46 79.7,-473.48 84.87,-478.2\"/>\n</g>\n<!-- r4 -->\n<g id=\"node9\" class=\"node\">\n<title>r4</title>\n<polygon fill=\"none\" stroke=\"black\" points=\"261,-180 167,-180 167,-144 261,-144 261,-180\"/>\n<text text-anchor=\"middle\" x=\"214\" y=\"-158.3\" font-family=\"fira-sans\" font-size=\"14.00\">k :&#45; e, not b.</text>\n</g>\n<!-- r4&#45;&#45;e -->\n<g id=\"edge41\" class=\"edge\">\n<title>r4&#45;&#45;e</title>\n<path fill=\"none\" stroke=\"black\" d=\"M261.08,-148.32C312.51,-134.48 393.65,-112.63 439.48,-100.29\"/>\n<polygon fill=\"black\" stroke=\"black\" points=\"440.5,-103.64 449.25,-97.66 438.68,-96.88 440.5,-103.64\"/>\n</g>\n<!-- r4&#45;&#45;&#45;b -->\n<g id=\"edge10\" class=\"edge\">\n<title>r4&#45;&#45;&#45;b</title>\n<path fill=\"none\" stroke=\"black\" d=\"M166.77,-172.35C103.75,-187.88 0,-225.52 0,-305 0,-379 0,-379 0,-379 0,-420.82 16.62,-466.95 28.7,-494.95\"/>\n<polygon fill=\"black\" stroke=\"black\" points=\"25.64,-496.69 32.9,-504.4 32.03,-493.84 25.64,-496.69\"/>\n</g>\n<!-- d4 -->\n<g id=\"node10\" class=\"node\">\n<title>d4</title>\n<polygon fill=\"none\" stroke=\"black\" points=\"297.5,-612 168.5,-612 168.5,-576 297.5,-576 297.5,-612\"/>\n<text text-anchor=\"middle\" x=\"233\" y=\"-590.3\" font-family=\"fira-sans\" font-size=\"14.00\">not __c_1 :&#45; not a.</text>\n</g>\n<!-- d4&#45;&#45;&#45;a -->\n<g id=\"edge27\" class=\"edge\">\n<title>d4&#45;&#45;&#45;a</title>\n<path fill=\"none\" stroke=\"black\" d=\"M275.52,-575.91C301.17,-565.57 334.49,-552.09 364,-540 366.09,-539.15 368.23,-538.26 370.39,-537.37\"/>\n<polygon fill=\"black\" stroke=\"black\" points=\"371.96,-540.52 379.86,-533.46 369.28,-534.05 371.96,-540.52\"/>\n</g>\n<!-- b -->\n<g id=\"node11\" class=\"node\">\n<title>b</title>\n<ellipse fill=\"none\" stroke=\"black\" cx=\"406\" cy=\"-234\" rx=\"27\" ry=\"18\"/>\n<text text-anchor=\"middle\" x=\"406\" y=\"-230.3\" font-family=\"fira-sans\" font-size=\"14.00\">b</text>\n</g>\n<!-- r6 -->\n<g id=\"node28\" class=\"node\">\n<title>r6</title>\n<polygon fill=\"none\" stroke=\"black\" points=\"415,-180 337,-180 337,-144 415,-144 415,-180\"/>\n<text text-anchor=\"middle\" x=\"376\" y=\"-158.3\" font-family=\"fira-sans\" font-size=\"14.00\">b :&#45; not a.</text>\n</g>\n<!-- b&#45;&#45;r6 -->\n<g id=\"edge16\" class=\"edge\">\n<title>b&#45;&#45;r6</title>\n<path fill=\"none\" stroke=\"black\" d=\"M398.89,-216.41C395.48,-208.45 391.31,-198.72 387.47,-189.76\"/>\n<polygon fill=\"black\" stroke=\"black\" points=\"390.63,-188.26 383.48,-180.45 384.2,-191.02 390.63,-188.26\"/>\n</g>\n<!-- &#45;__c_1 -->\n<g id=\"node12\" class=\"node\">\n<title>&#45;__c_1</title>\n<ellipse fill=\"black\" stroke=\"black\" cx=\"233\" cy=\"-666\" rx=\"49.29\" ry=\"18\"/>\n<text text-anchor=\"middle\" x=\"233\" y=\"-662.3\" font-family=\"fira-sans\" font-size=\"14.00\" fill=\"white\">not __c_1</text>\n</g>\n<!-- &#45;__c_1&#45;&#45;d4 -->\n<g id=\"edge3\" class=\"edge\">\n<title>&#45;__c_1&#45;&#45;d4</title>\n<path fill=\"none\" stroke=\"black\" d=\"M233,-647.7C233,-639.98 233,-630.71 233,-622.11\"/>\n<polygon fill=\"black\" stroke=\"black\" points=\"236.5,-622.1 233,-612.1 229.5,-622.1 236.5,-622.1\"/>\n</g>\n<!-- d5 -->\n<g id=\"node30\" class=\"node\">\n<title>d5</title>\n<polygon fill=\"none\" stroke=\"black\" points=\"131,-612 1,-612 1,-576 131,-576 131,-612\"/>\n<text text-anchor=\"middle\" x=\"66\" y=\"-590.3\" font-family=\"fira-sans\" font-size=\"14.00\">not __c_1 :&#45; not b.</text>\n</g>\n<!-- &#45;__c_1&#45;&#45;d5 -->\n<g id=\"edge19\" class=\"edge\">\n<title>&#45;__c_1&#45;&#45;d5</title>\n<path fill=\"none\" stroke=\"black\" d=\"M201.59,-651.83C177.59,-641.77 144.02,-627.7 116.29,-616.08\"/>\n<polygon fill=\"black\" stroke=\"black\" points=\"117.33,-612.72 106.75,-612.08 114.62,-619.18 117.33,-612.72\"/>\n</g>\n<!-- d3 -->\n<g id=\"node24\" class=\"node\">\n<title>d3</title>\n<polygon fill=\"none\" stroke=\"black\" points=\"656,-756 486,-756 486,-720 656,-720 656,-756\"/>\n<text text-anchor=\"middle\" x=\"571\" y=\"-734.3\" font-family=\"fira-sans\" font-size=\"14.00\">not c :&#45; not __c_1, not k.</text>\n</g>\n<!-- &#45;c&#45;&#45;d3 -->\n<g id=\"edge32\" class=\"edge\">\n<title>&#45;c&#45;&#45;d3</title>\n<path fill=\"none\" stroke=\"black\" d=\"M591.46,-792.05C588.43,-784.18 584.74,-774.62 581.33,-765.79\"/>\n<polygon fill=\"black\" stroke=\"black\" points=\"584.53,-764.35 577.66,-756.28 578,-766.86 584.53,-764.35\"/>\n</g>\n<!-- r3 -->\n<g id=\"node16\" class=\"node\">\n<title>r3</title>\n<polygon fill=\"none\" stroke=\"black\" points=\"241,-396 187,-396 187,-360 241,-360 241,-396\"/>\n<text text-anchor=\"middle\" x=\"214\" y=\"-374.3\" font-family=\"fira-sans\" font-size=\"14.00\">c :&#45; k.</text>\n</g>\n<!-- c&#45;&#45;r3 -->\n<g id=\"edge39\" class=\"edge\">\n<title>c&#45;&#45;r3</title>\n<path fill=\"none\" stroke=\"black\" d=\"M238.33,-504.06C240.31,-486 242.12,-456.66 237,-432 235.12,-422.96 231.63,-413.58 227.91,-405.26\"/>\n<polygon fill=\"black\" stroke=\"black\" points=\"231,-403.6 223.54,-396.07 224.68,-406.61 231,-403.6\"/>\n</g>\n<!-- r2 -->\n<g id=\"node29\" class=\"node\">\n<title>r2</title>\n<polygon fill=\"none\" stroke=\"black\" points=\"228,-468 162,-468 162,-432 228,-432 228,-468\"/>\n<text text-anchor=\"middle\" x=\"195\" y=\"-446.3\" font-family=\"fira-sans\" font-size=\"14.00\">c :&#45; a, b.</text>\n</g>\n<!-- c&#45;&#45;r2 -->\n<g id=\"edge24\" class=\"edge\">\n<title>c&#45;&#45;r2</title>\n<path fill=\"none\" stroke=\"black\" d=\"M226.49,-504.76C221.66,-496.53 215.69,-486.32 210.24,-477.02\"/>\n<polygon fill=\"black\" stroke=\"black\" points=\"213.1,-474.98 205.03,-468.12 207.06,-478.52 213.1,-474.98\"/>\n</g>\n<!-- k -->\n<g id=\"node19\" class=\"node\">\n<title>k</title>\n<ellipse fill=\"none\" stroke=\"black\" cx=\"214\" cy=\"-234\" rx=\"27\" ry=\"18\"/>\n<text text-anchor=\"middle\" x=\"214\" y=\"-230.3\" font-family=\"fira-sans\" font-size=\"14.00\">k</text>\n</g>\n<!-- r3&#45;&#45;k -->\n<g id=\"edge35\" class=\"edge\">\n<title>r3&#45;&#45;k</title>\n<path fill=\"none\" stroke=\"black\" d=\"M214,-359.87C214,-335.67 214,-291.21 214,-262.39\"/>\n<polygon fill=\"black\" stroke=\"black\" points=\"217.5,-262.19 214,-252.19 210.5,-262.19 217.5,-262.19\"/>\n</g>\n<!-- r1&#45;&#45;&#45;b -->\n<g id=\"edge5\" class=\"edge\">\n<title>r1&#45;&#45;&#45;b</title>\n<path fill=\"none\" stroke=\"black\" d=\"M116.4,-324.29C109.2,-334.47 100.2,-347.72 93,-360 74.91,-390.87 68.28,-398.05 57,-432 50.29,-452.21 46.2,-475.98 43.83,-493.87\"/>\n<polygon fill=\"black\" stroke=\"black\" points=\"40.35,-493.56 42.61,-503.91 47.29,-494.41 40.35,-493.56\"/>\n</g>\n<!-- r1&#45;&#45;k -->\n<g id=\"edge29\" class=\"edge\">\n<title>r1&#45;&#45;k</title>\n<path fill=\"none\" stroke=\"black\" d=\"M150.01,-287.7C162.03,-277.8 177.16,-265.34 189.69,-255.02\"/>\n<polygon fill=\"black\" stroke=\"black\" points=\"191.99,-257.66 197.49,-248.6 187.54,-252.25 191.99,-257.66\"/>\n</g>\n<!-- &#45;k&#45;&#45;d6 -->\n<g id=\"edge20\" class=\"edge\">\n<title>&#45;k&#45;&#45;d6</title>\n<path fill=\"none\" stroke=\"black\" d=\"M632.11,-360.41C635.52,-352.45 639.69,-342.72 643.53,-333.76\"/>\n<polygon fill=\"black\" stroke=\"black\" points=\"646.8,-335.02 647.52,-324.45 640.37,-332.26 646.8,-335.02\"/>\n</g>\n<!-- d7 -->\n<g id=\"node27\" class=\"node\">\n<title>d7</title>\n<polygon fill=\"none\" stroke=\"black\" points=\"547,-324 469,-324 469,-288 547,-288 547,-324\"/>\n<text text-anchor=\"middle\" x=\"508\" y=\"-302.3\" font-family=\"fira-sans\" font-size=\"14.00\">not k :&#45; b.</text>\n</g>\n<!-- &#45;k&#45;&#45;d7 -->\n<g id=\"edge21\" class=\"edge\">\n<title>&#45;k&#45;&#45;d7</title>\n<path fill=\"none\" stroke=\"black\" d=\"M603.81,-364.32C587.48,-354.55 564.49,-340.8 545.12,-329.21\"/>\n<polygon fill=\"black\" stroke=\"black\" points=\"546.89,-326.19 536.52,-324.06 543.3,-332.2 546.89,-326.19\"/>\n</g>\n<!-- k&#45;&#45;r4 -->\n<g id=\"edge23\" class=\"edge\">\n<title>k&#45;&#45;r4</title>\n<path fill=\"none\" stroke=\"black\" d=\"M214,-215.7C214,-207.98 214,-198.71 214,-190.11\"/>\n<polygon fill=\"black\" stroke=\"black\" points=\"217.5,-190.1 214,-180.1 210.5,-190.1 217.5,-190.1\"/>\n</g>\n<!-- d9 -->\n<g id=\"node20\" class=\"node\">\n<title>d9</title>\n<polygon fill=\"none\" stroke=\"black\" points=\"554.5,-396 453.5,-396 453.5,-360 554.5,-360 554.5,-396\"/>\n<text text-anchor=\"middle\" x=\"504\" y=\"-374.3\" font-family=\"fira-sans\" font-size=\"14.00\">not f :&#45; not e.</text>\n</g>\n<!-- d9&#45;&#45;&#45;e -->\n<g id=\"edge13\" class=\"edge\">\n<title>d9&#45;&#45;&#45;e</title>\n<path fill=\"none\" stroke=\"black\" d=\"M522.7,-359.64C533.02,-349.66 545.78,-336.62 556,-324 572.57,-303.54 588.91,-278.39 600.18,-260.05\"/>\n<polygon fill=\"black\" stroke=\"black\" points=\"603.23,-261.76 605.43,-251.4 597.25,-258.13 603.23,-261.76\"/>\n</g>\n<!-- d2&#45;&#45;b -->\n<g id=\"edge2\" class=\"edge\">\n<title>d2&#45;&#45;b</title>\n<path fill=\"none\" stroke=\"black\" d=\"M410.52,-287.7C409.86,-279.98 409.06,-270.71 408.32,-262.11\"/>\n<polygon fill=\"black\" stroke=\"black\" points=\"411.81,-261.77 407.47,-252.1 404.83,-262.37 411.81,-261.77\"/>\n</g>\n<!-- d10 -->\n<g id=\"node22\" class=\"node\">\n<title>d10</title>\n<polygon fill=\"none\" stroke=\"black\" points=\"355,-540 281,-540 281,-504 355,-504 355,-540\"/>\n<text text-anchor=\"middle\" x=\"318\" y=\"-518.3\" font-family=\"fira-sans\" font-size=\"14.00\">not f :&#45; k.</text>\n</g>\n<!-- d10&#45;&#45;k -->\n<g id=\"edge37\" class=\"edge\">\n<title>d10&#45;&#45;k</title>\n<path fill=\"none\" stroke=\"black\" d=\"M311.81,-503.97C294.31,-455.87 244.46,-318.77 223.48,-261.08\"/>\n<polygon fill=\"black\" stroke=\"black\" points=\"226.74,-259.79 220.03,-251.59 220.16,-262.18 226.74,-259.79\"/>\n</g>\n<!-- &#45;f -->\n<g id=\"node23\" class=\"node\">\n<title>&#45;f</title>\n<ellipse fill=\"black\" stroke=\"black\" cx=\"418\" cy=\"-666\" rx=\"30.59\" ry=\"18\"/>\n<text text-anchor=\"middle\" x=\"418\" y=\"-662.3\" font-family=\"fira-sans\" font-size=\"14.00\" fill=\"white\">not f</text>\n</g>\n<!-- &#45;f&#45;&#45;d11 -->\n<g id=\"edge30\" class=\"edge\">\n<title>&#45;f&#45;&#45;d11</title>\n<path fill=\"none\" stroke=\"black\" d=\"M403.9,-649.81C395.68,-640.97 385.14,-629.61 375.77,-619.52\"/>\n<polygon fill=\"black\" stroke=\"black\" points=\"378.27,-617.07 368.9,-612.13 373.14,-621.84 378.27,-617.07\"/>\n</g>\n<!-- &#45;f&#45;&#45;d9 -->\n<g id=\"edge28\" class=\"edge\">\n<title>&#45;f&#45;&#45;d9</title>\n<path fill=\"none\" stroke=\"black\" d=\"M422.31,-647.89C432.2,-609.15 457.67,-511.86 484,-432 486.88,-423.27 490.32,-413.86 493.53,-405.41\"/>\n<polygon fill=\"black\" stroke=\"black\" points=\"496.81,-406.64 497.14,-396.05 490.28,-404.12 496.81,-406.64\"/>\n</g>\n<!-- &#45;f&#45;&#45;d10 -->\n<g id=\"edge11\" class=\"edge\">\n<title>&#45;f&#45;&#45;d10</title>\n<path fill=\"none\" stroke=\"black\" d=\"M418.1,-647.76C417.41,-628.63 413.83,-597.63 399,-576 390.2,-563.16 377.16,-552.67 364.11,-544.52\"/>\n<polygon fill=\"black\" stroke=\"black\" points=\"365.52,-541.29 355.12,-539.24 361.97,-547.32 365.52,-541.29\"/>\n</g>\n<!-- d3&#45;&#45;&#45;__c_1 -->\n<g id=\"edge15\" class=\"edge\">\n<title>d3&#45;&#45;&#45;__c_1</title>\n<path fill=\"none\" stroke=\"black\" d=\"M488.75,-719.97C425.23,-706.81 339.28,-689.01 284.99,-677.77\"/>\n<polygon fill=\"black\" stroke=\"black\" points=\"285.4,-674.28 274.9,-675.68 283.98,-681.13 285.4,-674.28\"/>\n</g>\n<!-- d3&#45;&#45;&#45;k -->\n<g id=\"edge8\" class=\"edge\">\n<title>d3&#45;&#45;&#45;k</title>\n<path fill=\"none\" stroke=\"black\" d=\"M582.19,-719.87C598.01,-693.96 625,-642.74 625,-595 625,-595 625,-595 625,-521 625,-481 625,-434.65 625,-406.08\"/>\n<polygon fill=\"black\" stroke=\"black\" points=\"628.5,-406.05 625,-396.05 621.5,-406.05 628.5,-406.05\"/>\n</g>\n<!-- d8&#45;&#45;a -->\n<g id=\"edge33\" class=\"edge\">\n<title>d8&#45;&#45;a</title>\n<path fill=\"none\" stroke=\"black\" d=\"M110.93,-431.7C113.68,-423.7 116.99,-414.02 120.03,-405.15\"/>\n<polygon fill=\"black\" stroke=\"black\" points=\"123.37,-406.22 123.3,-395.62 116.75,-403.95 123.37,-406.22\"/>\n</g>\n<!-- f -->\n<g id=\"node26\" class=\"node\">\n<title>f</title>\n<ellipse fill=\"none\" stroke=\"black\" cx=\"684\" cy=\"-954\" rx=\"27\" ry=\"18\"/>\n<text text-anchor=\"middle\" x=\"684\" y=\"-950.3\" font-family=\"fira-sans\" font-size=\"14.00\">f</text>\n</g>\n<!-- f&#45;&#45;r7 -->\n<g id=\"edge9\" class=\"edge\">\n<title>f&#45;&#45;r7</title>\n<path fill=\"none\" stroke=\"black\" d=\"M684,-935.7C684,-927.98 684,-918.71 684,-910.11\"/>\n<polygon fill=\"black\" stroke=\"black\" points=\"687.5,-910.1 684,-900.1 680.5,-910.1 687.5,-910.1\"/>\n</g>\n<!-- d7&#45;&#45;b -->\n<g id=\"edge36\" class=\"edge\">\n<title>d7&#45;&#45;b</title>\n<path fill=\"none\" stroke=\"black\" d=\"M483.05,-287.88C467.86,-277.45 448.47,-264.14 432.93,-253.48\"/>\n<polygon fill=\"black\" stroke=\"black\" points=\"434.52,-250.33 424.3,-247.56 430.56,-256.1 434.52,-250.33\"/>\n</g>\n<!-- r6&#45;&#45;&#45;a -->\n<g id=\"edge4\" class=\"edge\">\n<title>r6&#45;&#45;&#45;a</title>\n<path fill=\"none\" stroke=\"black\" d=\"M369.73,-180.22C360.67,-206.68 345,-259.08 345,-305 345,-379 345,-379 345,-379 345,-423 369.75,-469.06 387.46,-496.38\"/>\n<polygon fill=\"black\" stroke=\"black\" points=\"384.68,-498.52 393.15,-504.89 390.5,-494.63 384.68,-498.52\"/>\n</g>\n<!-- r2&#45;&#45;a -->\n<g id=\"edge38\" class=\"edge\">\n<title>r2&#45;&#45;a</title>\n<path fill=\"none\" stroke=\"black\" d=\"M178.69,-431.7C170.01,-422.5 159.25,-411.08 149.96,-401.23\"/>\n<polygon fill=\"black\" stroke=\"black\" points=\"152.3,-398.61 142.9,-393.74 147.21,-403.42 152.3,-398.61\"/>\n</g>\n<!-- r2&#45;&#45;b -->\n<g id=\"edge7\" class=\"edge\">\n<title>r2&#45;&#45;b</title>\n<path fill=\"none\" stroke=\"black\" d=\"M212.98,-431.97C223.8,-421.65 237.79,-408.17 250,-396 299.03,-347.1 355.26,-288.4 385,-257.15\"/>\n<polygon fill=\"black\" stroke=\"black\" points=\"387.62,-259.47 391.97,-249.82 382.54,-254.65 387.62,-259.47\"/>\n</g>\n<!-- d5&#45;&#45;&#45;b -->\n<g id=\"edge22\" class=\"edge\">\n<title>d5&#45;&#45;&#45;b</title>\n<path fill=\"none\" stroke=\"black\" d=\"M59.82,-575.7C57,-567.81 53.61,-558.3 50.48,-549.55\"/>\n<polygon fill=\"black\" stroke=\"black\" points=\"53.77,-548.34 47.11,-540.1 47.18,-550.7 53.77,-548.34\"/>\n</g>\n</g>\n</svg>\n",
      "text/plain": "<graphviz.graphs.Graph at 0x7fb52f4a60b0>"
     },
     "execution_count": 8,
     "metadata": {},
     "output_type": "execute_result"
    }
   ],
   "source": [
    "complete_graph = draw_graph([primal_graph_str, dual_graph_str, graph_encoding])['default']\n",
    "complete_graph"
   ]
  },
  {
   "cell_type": "markdown",
   "metadata": {
    "pycharm": {
     "name": "#%% md\n"
    }
   },
   "source": [
    "This gives a more or less intuitive view into the structure of the program, however it is still not an explanation (proof) for an individual answer set."
   ]
  },
  {
   "cell_type": "markdown",
   "metadata": {
    "pycharm": {
     "name": "#%% md\n"
    }
   },
   "source": [
    "To achieve the desired proof we pick an answer set (in this case $\\{b, e, f\\}$). Then we remove every rule which does not derive any of those literals. We call this the *normal form* with respect to an answer set. As the result is again a logic program (a subset of the original program), we can still draw it."
   ]
  },
  {
   "cell_type": "code",
   "execution_count": 9,
   "metadata": {
    "pycharm": {
     "name": "#%%\n"
    }
   },
   "outputs": [
    {
     "data": {
      "image/svg+xml": "<?xml version=\"1.0\" encoding=\"UTF-8\" standalone=\"no\"?>\n<!DOCTYPE svg PUBLIC \"-//W3C//DTD SVG 1.1//EN\"\n \"http://www.w3.org/Graphics/SVG/1.1/DTD/svg11.dtd\">\n<!-- Generated by graphviz version 3.0.0 (20220227.1548)\n -->\n<!-- Title: default Pages: 1 -->\n<svg width=\"317pt\" height=\"260pt\"\n viewBox=\"0.00 0.00 317.00 260.00\" xmlns=\"http://www.w3.org/2000/svg\" xmlns:xlink=\"http://www.w3.org/1999/xlink\">\n<g id=\"graph0\" class=\"graph\" transform=\"scale(1 1) rotate(0) translate(4 256)\">\n<title>default</title>\n<polygon fill=\"white\" stroke=\"transparent\" points=\"-4,4 -4,-256 313,-256 313,4 -4,4\"/>\n<!-- e -->\n<g id=\"node1\" class=\"node\">\n<title>e</title>\n<ellipse fill=\"none\" stroke=\"black\" cx=\"27\" cy=\"-90\" rx=\"27\" ry=\"18\"/>\n<text text-anchor=\"middle\" x=\"27\" y=\"-86.3\" font-family=\"fira-sans\" font-size=\"14.00\">e</text>\n</g>\n<!-- r5 -->\n<g id=\"node5\" class=\"node\">\n<title>r5</title>\n<polygon fill=\"none\" stroke=\"black\" points=\"54,-36 0,-36 0,0 54,0 54,-36\"/>\n<text text-anchor=\"middle\" x=\"27\" y=\"-14.3\" font-family=\"fira-sans\" font-size=\"14.00\">e.</text>\n</g>\n<!-- e&#45;&#45;r5 -->\n<g id=\"edge5\" class=\"edge\">\n<title>e&#45;&#45;r5</title>\n<path fill=\"none\" stroke=\"black\" d=\"M27,-71.7C27,-63.98 27,-54.71 27,-46.11\"/>\n<polygon fill=\"black\" stroke=\"black\" points=\"30.5,-46.1 27,-36.1 23.5,-46.1 30.5,-46.1\"/>\n</g>\n<!-- r7 -->\n<g id=\"node2\" class=\"node\">\n<title>r7</title>\n<polygon fill=\"none\" stroke=\"black\" points=\"169.5,-180 38.5,-180 38.5,-144 169.5,-144 169.5,-180\"/>\n<text text-anchor=\"middle\" x=\"104\" y=\"-158.3\" font-family=\"fira-sans\" font-size=\"14.00\">f :&#45; e, not k, not c.</text>\n</g>\n<!-- r7&#45;&#45;e -->\n<g id=\"edge1\" class=\"edge\">\n<title>r7&#45;&#45;e</title>\n<path fill=\"none\" stroke=\"black\" d=\"M84.97,-143.7C74.5,-134.18 61.43,-122.3 50.36,-112.23\"/>\n<polygon fill=\"black\" stroke=\"black\" points=\"52.46,-109.42 42.71,-105.28 47.75,-114.6 52.46,-109.42\"/>\n</g>\n<!-- &#45;c -->\n<g id=\"node3\" class=\"node\">\n<title>&#45;c</title>\n<ellipse fill=\"black\" stroke=\"black\" cx=\"104\" cy=\"-90\" rx=\"32.49\" ry=\"18\"/>\n<text text-anchor=\"middle\" x=\"104\" y=\"-86.3\" font-family=\"fira-sans\" font-size=\"14.00\" fill=\"white\">not c</text>\n</g>\n<!-- r7&#45;&#45;&#45;c -->\n<g id=\"edge7\" class=\"edge\">\n<title>r7&#45;&#45;&#45;c</title>\n<path fill=\"none\" stroke=\"black\" d=\"M104,-143.7C104,-135.98 104,-126.71 104,-118.11\"/>\n<polygon fill=\"black\" stroke=\"black\" points=\"107.5,-118.1 104,-108.1 100.5,-118.1 107.5,-118.1\"/>\n</g>\n<!-- &#45;k -->\n<g id=\"node6\" class=\"node\">\n<title>&#45;k</title>\n<ellipse fill=\"black\" stroke=\"black\" cx=\"187\" cy=\"-90\" rx=\"32.49\" ry=\"18\"/>\n<text text-anchor=\"middle\" x=\"187\" y=\"-86.3\" font-family=\"fira-sans\" font-size=\"14.00\" fill=\"white\">not k</text>\n</g>\n<!-- r7&#45;&#45;&#45;k -->\n<g id=\"edge3\" class=\"edge\">\n<title>r7&#45;&#45;&#45;k</title>\n<path fill=\"none\" stroke=\"black\" d=\"M124.52,-143.7C135.83,-134.16 149.96,-122.24 161.92,-112.15\"/>\n<polygon fill=\"black\" stroke=\"black\" points=\"164.41,-114.63 169.8,-105.51 159.9,-109.28 164.41,-114.63\"/>\n</g>\n<!-- f -->\n<g id=\"node4\" class=\"node\">\n<title>f</title>\n<ellipse fill=\"none\" stroke=\"black\" cx=\"104\" cy=\"-234\" rx=\"27\" ry=\"18\"/>\n<text text-anchor=\"middle\" x=\"104\" y=\"-230.3\" font-family=\"fira-sans\" font-size=\"14.00\">f</text>\n</g>\n<!-- f&#45;&#45;r7 -->\n<g id=\"edge6\" class=\"edge\">\n<title>f&#45;&#45;r7</title>\n<path fill=\"none\" stroke=\"black\" d=\"M104,-215.7C104,-207.98 104,-198.71 104,-190.11\"/>\n<polygon fill=\"black\" stroke=\"black\" points=\"107.5,-190.1 104,-180.1 100.5,-190.1 107.5,-190.1\"/>\n</g>\n<!-- b -->\n<g id=\"node7\" class=\"node\">\n<title>b</title>\n<ellipse fill=\"none\" stroke=\"black\" cx=\"270\" cy=\"-234\" rx=\"27\" ry=\"18\"/>\n<text text-anchor=\"middle\" x=\"270\" y=\"-230.3\" font-family=\"fira-sans\" font-size=\"14.00\">b</text>\n</g>\n<!-- r6 -->\n<g id=\"node9\" class=\"node\">\n<title>r6</title>\n<polygon fill=\"none\" stroke=\"black\" points=\"309,-180 231,-180 231,-144 309,-144 309,-180\"/>\n<text text-anchor=\"middle\" x=\"270\" y=\"-158.3\" font-family=\"fira-sans\" font-size=\"14.00\">b :&#45; not a.</text>\n</g>\n<!-- b&#45;&#45;r6 -->\n<g id=\"edge4\" class=\"edge\">\n<title>b&#45;&#45;r6</title>\n<path fill=\"none\" stroke=\"black\" d=\"M270,-215.7C270,-207.98 270,-198.71 270,-190.11\"/>\n<polygon fill=\"black\" stroke=\"black\" points=\"273.5,-190.1 270,-180.1 266.5,-190.1 273.5,-190.1\"/>\n</g>\n<!-- &#45;a -->\n<g id=\"node8\" class=\"node\">\n<title>&#45;a</title>\n<ellipse fill=\"black\" stroke=\"black\" cx=\"270\" cy=\"-90\" rx=\"32.49\" ry=\"18\"/>\n<text text-anchor=\"middle\" x=\"270\" y=\"-86.3\" font-family=\"fira-sans\" font-size=\"14.00\" fill=\"white\">not a</text>\n</g>\n<!-- r6&#45;&#45;&#45;a -->\n<g id=\"edge2\" class=\"edge\">\n<title>r6&#45;&#45;&#45;a</title>\n<path fill=\"none\" stroke=\"black\" d=\"M270,-143.7C270,-135.98 270,-126.71 270,-118.11\"/>\n<polygon fill=\"black\" stroke=\"black\" points=\"273.5,-118.1 270,-108.1 266.5,-118.1 273.5,-118.1\"/>\n</g>\n</g>\n</svg>\n",
      "text/plain": "<graphviz.graphs.Graph at 0x7fb52f4dd9f0>"
     },
     "execution_count": 9,
     "metadata": {},
     "output_type": "execute_result"
    }
   ],
   "source": [
    "nf_primal_graph_str = \"\"\"\n",
    "\n",
    "pos_literal(a;b;c;e;f;k).\n",
    "neg_literal(-a;-b;-c;-e;-f;-k).\n",
    "pos_neg(a,-a;b,-b;c,-c;e,-e;f,-f;k,-k).\n",
    "\n",
    "rule(r5).\n",
    "attr(node, r5, label, \"e.\").\n",
    "edge((e, r5)).\n",
    "\n",
    "rule(r6).\n",
    "attr(node, r6, label, \"b :- not a.\").\n",
    "edge((b, r6)).\n",
    "edge((r6, -a)).\n",
    "\n",
    "rule(r7).\n",
    "attr(node, r7, label, \"f :- e, not k, not c.\").\n",
    "edge((f, r7)).\n",
    "edge((r7, e)).\n",
    "edge((r7, -k)).\n",
    "edge((r7, -c)).\n",
    "\n",
    "\"\"\"\n",
    "\n",
    "nf_primal_graph = draw_graph([nf_primal_graph_str, graph_encoding])['default']\n",
    "nf_primal_graph"
   ]
  },
  {
   "cell_type": "markdown",
   "metadata": {
    "pycharm": {
     "name": "#%% md\n"
    }
   },
   "source": [
    "In this case we drew the *primal normal form*. This explains why $\\{b, e, f\\}$ are in the answer set, however it does not explain why $\\{k, c, a\\}$ are not part of the answer set."
   ]
  },
  {
   "cell_type": "markdown",
   "metadata": {
    "pycharm": {
     "name": "#%% md\n"
    }
   },
   "source": [
    "To derive the reasons for that we apply the *normal form* transformation with respect to the answer set to the _dual_ of the program. Notice how we remove all rules which derive the complement of the answer set."
   ]
  },
  {
   "cell_type": "code",
   "execution_count": 10,
   "metadata": {
    "pycharm": {
     "name": "#%%\n"
    }
   },
   "outputs": [
    {
     "data": {
      "image/svg+xml": "<?xml version=\"1.0\" encoding=\"UTF-8\" standalone=\"no\"?>\n<!DOCTYPE svg PUBLIC \"-//W3C//DTD SVG 1.1//EN\"\n \"http://www.w3.org/Graphics/SVG/1.1/DTD/svg11.dtd\">\n<!-- Generated by graphviz version 3.0.0 (20220227.1548)\n -->\n<!-- Title: default Pages: 1 -->\n<svg width=\"239pt\" height=\"476pt\"\n viewBox=\"0.00 0.00 239.00 476.00\" xmlns=\"http://www.w3.org/2000/svg\" xmlns:xlink=\"http://www.w3.org/1999/xlink\">\n<g id=\"graph0\" class=\"graph\" transform=\"scale(1 1) rotate(0) translate(4 472)\">\n<title>default</title>\n<polygon fill=\"white\" stroke=\"transparent\" points=\"-4,4 -4,-472 235,-472 235,4 -4,4\"/>\n<!-- d1 -->\n<g id=\"node1\" class=\"node\">\n<title>d1</title>\n<polygon fill=\"none\" stroke=\"black\" points=\"164,-252 60,-252 60,-216 164,-216 164,-252\"/>\n<text text-anchor=\"middle\" x=\"112\" y=\"-230.3\" font-family=\"fira-sans\" font-size=\"14.00\">not a :&#45; not k.</text>\n</g>\n<!-- &#45;k -->\n<g id=\"node6\" class=\"node\">\n<title>&#45;k</title>\n<ellipse fill=\"black\" stroke=\"black\" cx=\"103\" cy=\"-162\" rx=\"32.49\" ry=\"18\"/>\n<text text-anchor=\"middle\" x=\"103\" y=\"-158.3\" font-family=\"fira-sans\" font-size=\"14.00\" fill=\"white\">not k</text>\n</g>\n<!-- d1&#45;&#45;&#45;k -->\n<g id=\"edge4\" class=\"edge\">\n<title>d1&#45;&#45;&#45;k</title>\n<path fill=\"none\" stroke=\"black\" d=\"M109.78,-215.7C108.78,-207.98 107.59,-198.71 106.49,-190.11\"/>\n<polygon fill=\"black\" stroke=\"black\" points=\"109.95,-189.58 105.2,-180.1 103,-190.47 109.95,-189.58\"/>\n</g>\n<!-- &#45;c -->\n<g id=\"node2\" class=\"node\">\n<title>&#45;c</title>\n<ellipse fill=\"black\" stroke=\"black\" cx=\"72\" cy=\"-450\" rx=\"32.49\" ry=\"18\"/>\n<text text-anchor=\"middle\" x=\"72\" y=\"-446.3\" font-family=\"fira-sans\" font-size=\"14.00\" fill=\"white\">not c</text>\n</g>\n<!-- d3 -->\n<g id=\"node3\" class=\"node\">\n<title>d3</title>\n<polygon fill=\"none\" stroke=\"black\" points=\"144,-396 0,-396 0,-360 144,-360 144,-396\"/>\n<text text-anchor=\"middle\" x=\"72\" y=\"-374.3\" font-family=\"fira-sans\" font-size=\"14.00\">not c :&#45; not a, not k.</text>\n</g>\n<!-- &#45;c&#45;&#45;d3 -->\n<g id=\"edge9\" class=\"edge\">\n<title>&#45;c&#45;&#45;d3</title>\n<path fill=\"none\" stroke=\"black\" d=\"M72,-431.7C72,-423.98 72,-414.71 72,-406.11\"/>\n<polygon fill=\"black\" stroke=\"black\" points=\"75.5,-406.1 72,-396.1 68.5,-406.1 75.5,-406.1\"/>\n</g>\n<!-- d3&#45;&#45;&#45;k -->\n<g id=\"edge6\" class=\"edge\">\n<title>d3&#45;&#45;&#45;k</title>\n<path fill=\"none\" stroke=\"black\" d=\"M64.3,-359.82C51.9,-329.57 30.85,-265.32 51,-216 56.19,-203.29 66.07,-191.98 75.83,-183.11\"/>\n<polygon fill=\"black\" stroke=\"black\" points=\"78.2,-185.68 83.54,-176.53 73.66,-180.36 78.2,-185.68\"/>\n</g>\n<!-- &#45;a -->\n<g id=\"node7\" class=\"node\">\n<title>&#45;a</title>\n<ellipse fill=\"black\" stroke=\"black\" cx=\"112\" cy=\"-306\" rx=\"32.49\" ry=\"18\"/>\n<text text-anchor=\"middle\" x=\"112\" y=\"-302.3\" font-family=\"fira-sans\" font-size=\"14.00\" fill=\"white\">not a</text>\n</g>\n<!-- d3&#45;&#45;&#45;a -->\n<g id=\"edge1\" class=\"edge\">\n<title>d3&#45;&#45;&#45;a</title>\n<path fill=\"none\" stroke=\"black\" d=\"M81.89,-359.7C86.56,-351.52 92.23,-341.6 97.38,-332.58\"/>\n<polygon fill=\"black\" stroke=\"black\" points=\"100.58,-334.04 102.5,-323.62 94.5,-330.57 100.58,-334.04\"/>\n</g>\n<!-- b -->\n<g id=\"node4\" class=\"node\">\n<title>b</title>\n<ellipse fill=\"none\" stroke=\"black\" cx=\"147\" cy=\"-18\" rx=\"27\" ry=\"18\"/>\n<text text-anchor=\"middle\" x=\"147\" y=\"-14.3\" font-family=\"fira-sans\" font-size=\"14.00\">b</text>\n</g>\n<!-- d7 -->\n<g id=\"node5\" class=\"node\">\n<title>d7</title>\n<polygon fill=\"none\" stroke=\"black\" points=\"153,-108 75,-108 75,-72 153,-72 153,-108\"/>\n<text text-anchor=\"middle\" x=\"114\" y=\"-86.3\" font-family=\"fira-sans\" font-size=\"14.00\">not k :&#45; b.</text>\n</g>\n<!-- d7&#45;&#45;b -->\n<g id=\"edge5\" class=\"edge\">\n<title>d7&#45;&#45;b</title>\n<path fill=\"none\" stroke=\"black\" d=\"M122.16,-71.7C125.97,-63.61 130.59,-53.81 134.8,-44.87\"/>\n<polygon fill=\"black\" stroke=\"black\" points=\"138.07,-46.16 139.16,-35.62 131.73,-43.18 138.07,-46.16\"/>\n</g>\n<!-- &#45;k&#45;&#45;d7 -->\n<g id=\"edge3\" class=\"edge\">\n<title>&#45;k&#45;&#45;d7</title>\n<path fill=\"none\" stroke=\"black\" d=\"M105.66,-144.05C106.87,-136.35 108.34,-127.03 109.7,-118.36\"/>\n<polygon fill=\"black\" stroke=\"black\" points=\"113.19,-118.7 111.29,-108.28 106.28,-117.61 113.19,-118.7\"/>\n</g>\n<!-- &#45;a&#45;&#45;d1 -->\n<g id=\"edge8\" class=\"edge\">\n<title>&#45;a&#45;&#45;d1</title>\n<path fill=\"none\" stroke=\"black\" d=\"M112,-287.7C112,-279.98 112,-270.71 112,-262.11\"/>\n<polygon fill=\"black\" stroke=\"black\" points=\"115.5,-262.1 112,-252.1 108.5,-262.1 115.5,-262.1\"/>\n</g>\n<!-- d2 -->\n<g id=\"node8\" class=\"node\">\n<title>d2</title>\n<polygon fill=\"none\" stroke=\"black\" points=\"231,-180 153,-180 153,-144 231,-144 231,-180\"/>\n<text text-anchor=\"middle\" x=\"192\" y=\"-158.3\" font-family=\"fira-sans\" font-size=\"14.00\">not a :&#45; b.</text>\n</g>\n<!-- &#45;a&#45;&#45;d2 -->\n<g id=\"edge7\" class=\"edge\">\n<title>&#45;a&#45;&#45;d2</title>\n<path fill=\"none\" stroke=\"black\" d=\"M132.96,-292.02C146.45,-282.57 163.24,-268.56 173,-252 184.07,-233.23 188.73,-208.85 190.67,-190.35\"/>\n<polygon fill=\"black\" stroke=\"black\" points=\"194.17,-190.49 191.52,-180.23 187.19,-189.9 194.17,-190.49\"/>\n</g>\n<!-- d2&#45;&#45;b -->\n<g id=\"edge2\" class=\"edge\">\n<title>d2&#45;&#45;b</title>\n<path fill=\"none\" stroke=\"black\" d=\"M186.57,-143.87C178.83,-119.43 164.54,-74.33 155.41,-45.55\"/>\n<polygon fill=\"black\" stroke=\"black\" points=\"158.67,-44.22 152.31,-35.75 151.99,-46.34 158.67,-44.22\"/>\n</g>\n</g>\n</svg>\n",
      "text/plain": "<graphviz.graphs.Graph at 0x7fb52f4e4490>"
     },
     "execution_count": 10,
     "metadata": {},
     "output_type": "execute_result"
    }
   ],
   "source": [
    "nf_dual_graph_str = \"\"\"\n",
    "\n",
    "pos_literal(a;b;c;e;f;k).\n",
    "neg_literal(-a;-b;-c;-e;-f;-k).\n",
    "pos_neg(a,-a;b,-b;c,-c;e,-e;f,-f;k,-k).\n",
    "\n",
    "rule(d1).\n",
    "attr(node, d1, label, \"not a :- not k.\").\n",
    "edge((-a, d1)).\n",
    "edge((d1, -k)).\n",
    "\n",
    "rule(d2).\n",
    "attr(node, d2, label, \"not a :- b.\").\n",
    "edge((-a, d2)).\n",
    "edge((d2, b)).\n",
    "\n",
    "rule(d3).\n",
    "attr(node, d3, label, \"not c :- not a, not k.\").\n",
    "edge((-c, d3)).\n",
    "edge((d3, -a)).\n",
    "edge((d3, -k)).\n",
    "\n",
    "rule(d7).\n",
    "attr(node, d7, label, \"not k :- b.\").\n",
    "edge((-k, d7)).\n",
    "edge((d7, b)).\n",
    "\n",
    "\n",
    "\"\"\"\n",
    "\n",
    "nf_dual_graph = draw_graph([nf_dual_graph_str, graph_encoding])['default']\n",
    "nf_dual_graph"
   ]
  },
  {
   "cell_type": "markdown",
   "metadata": {
    "pycharm": {
     "name": "#%% md\n"
    }
   },
   "source": [
    "This provides an interpretation on why $\\{k, c, a\\}$ are not in the answer set (with respect to the answer set)."
   ]
  },
  {
   "cell_type": "markdown",
   "metadata": {
    "pycharm": {
     "name": "#%% md\n"
    }
   },
   "source": [
    "Because we both *normal forms* are just logic programs again we can draw them together. We call this the *normal form* of the complete graph with respect to the answer set."
   ]
  },
  {
   "cell_type": "code",
   "execution_count": 11,
   "metadata": {
    "pycharm": {
     "name": "#%%\n"
    }
   },
   "outputs": [
    {
     "data": {
      "image/svg+xml": "<?xml version=\"1.0\" encoding=\"UTF-8\" standalone=\"no\"?>\n<!DOCTYPE svg PUBLIC \"-//W3C//DTD SVG 1.1//EN\"\n \"http://www.w3.org/Graphics/SVG/1.1/DTD/svg11.dtd\">\n<!-- Generated by graphviz version 3.0.0 (20220227.1548)\n -->\n<!-- Title: default Pages: 1 -->\n<svg width=\"361pt\" height=\"692pt\"\n viewBox=\"0.00 0.00 360.56 692.00\" xmlns=\"http://www.w3.org/2000/svg\" xmlns:xlink=\"http://www.w3.org/1999/xlink\">\n<g id=\"graph0\" class=\"graph\" transform=\"scale(1 1) rotate(0) translate(4 688)\">\n<title>default</title>\n<polygon fill=\"white\" stroke=\"transparent\" points=\"-4,4 -4,-688 356.56,-688 356.56,4 -4,4\"/>\n<!-- d1 -->\n<g id=\"node1\" class=\"node\">\n<title>d1</title>\n<polygon fill=\"none\" stroke=\"black\" points=\"118.56,-468 14.56,-468 14.56,-432 118.56,-432 118.56,-468\"/>\n<text text-anchor=\"middle\" x=\"66.56\" y=\"-446.3\" font-family=\"fira-sans\" font-size=\"14.00\">not a :&#45; not k.</text>\n</g>\n<!-- &#45;k -->\n<g id=\"node9\" class=\"node\">\n<title>&#45;k</title>\n<ellipse fill=\"black\" stroke=\"black\" cx=\"66.56\" cy=\"-378\" rx=\"32.49\" ry=\"18\"/>\n<text text-anchor=\"middle\" x=\"66.56\" y=\"-374.3\" font-family=\"fira-sans\" font-size=\"14.00\" fill=\"white\">not k</text>\n</g>\n<!-- d1&#45;&#45;&#45;k -->\n<g id=\"edge8\" class=\"edge\">\n<title>d1&#45;&#45;&#45;k</title>\n<path fill=\"none\" stroke=\"black\" d=\"M66.56,-431.7C66.56,-423.98 66.56,-414.71 66.56,-406.11\"/>\n<polygon fill=\"black\" stroke=\"black\" points=\"70.06,-406.1 66.56,-396.1 63.06,-406.1 70.06,-406.1\"/>\n</g>\n<!-- e -->\n<g id=\"node2\" class=\"node\">\n<title>e</title>\n<ellipse fill=\"none\" stroke=\"black\" cx=\"305.56\" cy=\"-522\" rx=\"27\" ry=\"18\"/>\n<text text-anchor=\"middle\" x=\"305.56\" y=\"-518.3\" font-family=\"fira-sans\" font-size=\"14.00\">e</text>\n</g>\n<!-- r5 -->\n<g id=\"node7\" class=\"node\">\n<title>r5</title>\n<polygon fill=\"none\" stroke=\"black\" points=\"352.56,-468 298.56,-468 298.56,-432 352.56,-432 352.56,-468\"/>\n<text text-anchor=\"middle\" x=\"325.56\" y=\"-446.3\" font-family=\"fira-sans\" font-size=\"14.00\">e.</text>\n</g>\n<!-- e&#45;&#45;r5 -->\n<g id=\"edge14\" class=\"edge\">\n<title>e&#45;&#45;r5</title>\n<path fill=\"none\" stroke=\"black\" d=\"M310.4,-504.05C312.63,-496.26 315.33,-486.82 317.82,-478.08\"/>\n<polygon fill=\"black\" stroke=\"black\" points=\"321.24,-478.85 320.62,-468.28 314.51,-476.93 321.24,-478.85\"/>\n</g>\n<!-- r7 -->\n<g id=\"node3\" class=\"node\">\n<title>r7</title>\n<polygon fill=\"none\" stroke=\"black\" points=\"274.06,-612 143.06,-612 143.06,-576 274.06,-576 274.06,-612\"/>\n<text text-anchor=\"middle\" x=\"208.56\" y=\"-590.3\" font-family=\"fira-sans\" font-size=\"14.00\">f :&#45; e, not k, not c.</text>\n</g>\n<!-- r7&#45;&#45;e -->\n<g id=\"edge1\" class=\"edge\">\n<title>r7&#45;&#45;e</title>\n<path fill=\"none\" stroke=\"black\" d=\"M232.54,-575.7C246.89,-565.34 265.13,-552.18 279.79,-541.6\"/>\n<polygon fill=\"black\" stroke=\"black\" points=\"281.89,-544.4 287.95,-535.71 277.79,-538.72 281.89,-544.4\"/>\n</g>\n<!-- &#45;c -->\n<g id=\"node6\" class=\"node\">\n<title>&#45;c</title>\n<ellipse fill=\"black\" stroke=\"black\" cx=\"208.56\" cy=\"-522\" rx=\"32.49\" ry=\"18\"/>\n<text text-anchor=\"middle\" x=\"208.56\" y=\"-518.3\" font-family=\"fira-sans\" font-size=\"14.00\" fill=\"white\">not c</text>\n</g>\n<!-- r7&#45;&#45;&#45;c -->\n<g id=\"edge16\" class=\"edge\">\n<title>r7&#45;&#45;&#45;c</title>\n<path fill=\"none\" stroke=\"black\" d=\"M208.56,-575.7C208.56,-567.98 208.56,-558.71 208.56,-550.11\"/>\n<polygon fill=\"black\" stroke=\"black\" points=\"212.06,-550.1 208.56,-540.1 205.06,-550.1 212.06,-550.1\"/>\n</g>\n<!-- r7&#45;&#45;&#45;k -->\n<g id=\"edge11\" class=\"edge\">\n<title>r7&#45;&#45;&#45;k</title>\n<path fill=\"none\" stroke=\"black\" d=\"M152.84,-575.96C104.23,-557.8 36.75,-523.83 5.56,-468 -2.24,-454.03 -1.08,-446.56 5.56,-432 11.98,-417.93 24.18,-406.15 35.99,-397.29\"/>\n<polygon fill=\"black\" stroke=\"black\" points=\"38.26,-399.98 44.44,-391.37 34.24,-394.25 38.26,-399.98\"/>\n</g>\n<!-- d3 -->\n<g id=\"node4\" class=\"node\">\n<title>d3</title>\n<polygon fill=\"none\" stroke=\"black\" points=\"280.56,-468 136.56,-468 136.56,-432 280.56,-432 280.56,-468\"/>\n<text text-anchor=\"middle\" x=\"208.56\" y=\"-446.3\" font-family=\"fira-sans\" font-size=\"14.00\">not c :&#45; not a, not k.</text>\n</g>\n<!-- d3&#45;&#45;&#45;k -->\n<g id=\"edge12\" class=\"edge\">\n<title>d3&#45;&#45;&#45;k</title>\n<path fill=\"none\" stroke=\"black\" d=\"M173.82,-431.88C151.12,-420.68 121.66,-406.16 99.35,-395.17\"/>\n<polygon fill=\"black\" stroke=\"black\" points=\"100.79,-391.97 90.28,-390.69 97.7,-398.25 100.79,-391.97\"/>\n</g>\n<!-- &#45;a -->\n<g id=\"node11\" class=\"node\">\n<title>&#45;a</title>\n<ellipse fill=\"black\" stroke=\"black\" cx=\"108.56\" cy=\"-90\" rx=\"32.49\" ry=\"18\"/>\n<text text-anchor=\"middle\" x=\"108.56\" y=\"-86.3\" font-family=\"fira-sans\" font-size=\"14.00\" fill=\"white\">not a</text>\n</g>\n<!-- d3&#45;&#45;&#45;a -->\n<g id=\"edge3\" class=\"edge\">\n<title>d3&#45;&#45;&#45;a</title>\n<path fill=\"none\" stroke=\"black\" d=\"M206.59,-431.98C203.67,-405.36 198.56,-352.23 198.56,-307 198.56,-307 198.56,-307 198.56,-233 198.56,-184.12 160.05,-138.42 133.41,-112.66\"/>\n<polygon fill=\"black\" stroke=\"black\" points=\"135.6,-109.92 125.91,-105.63 130.81,-115.03 135.6,-109.92\"/>\n</g>\n<!-- f -->\n<g id=\"node5\" class=\"node\">\n<title>f</title>\n<ellipse fill=\"none\" stroke=\"black\" cx=\"208.56\" cy=\"-666\" rx=\"27\" ry=\"18\"/>\n<text text-anchor=\"middle\" x=\"208.56\" y=\"-662.3\" font-family=\"fira-sans\" font-size=\"14.00\">f</text>\n</g>\n<!-- f&#45;&#45;r7 -->\n<g id=\"edge15\" class=\"edge\">\n<title>f&#45;&#45;r7</title>\n<path fill=\"none\" stroke=\"black\" d=\"M208.56,-647.7C208.56,-639.98 208.56,-630.71 208.56,-622.11\"/>\n<polygon fill=\"black\" stroke=\"black\" points=\"212.06,-622.1 208.56,-612.1 205.06,-622.1 212.06,-622.1\"/>\n</g>\n<!-- &#45;c&#45;&#45;d3 -->\n<g id=\"edge7\" class=\"edge\">\n<title>&#45;c&#45;&#45;d3</title>\n<path fill=\"none\" stroke=\"black\" d=\"M208.56,-503.7C208.56,-495.98 208.56,-486.71 208.56,-478.11\"/>\n<polygon fill=\"black\" stroke=\"black\" points=\"212.06,-478.1 208.56,-468.1 205.06,-478.1 212.06,-478.1\"/>\n</g>\n<!-- d7 -->\n<g id=\"node8\" class=\"node\">\n<title>d7</title>\n<polygon fill=\"none\" stroke=\"black\" points=\"105.56,-324 27.56,-324 27.56,-288 105.56,-288 105.56,-324\"/>\n<text text-anchor=\"middle\" x=\"66.56\" y=\"-302.3\" font-family=\"fira-sans\" font-size=\"14.00\">not k :&#45; b.</text>\n</g>\n<!-- b -->\n<g id=\"node10\" class=\"node\">\n<title>b</title>\n<ellipse fill=\"none\" stroke=\"black\" cx=\"66.56\" cy=\"-234\" rx=\"27\" ry=\"18\"/>\n<text text-anchor=\"middle\" x=\"66.56\" y=\"-230.3\" font-family=\"fira-sans\" font-size=\"14.00\">b</text>\n</g>\n<!-- d7&#45;&#45;b -->\n<g id=\"edge10\" class=\"edge\">\n<title>d7&#45;&#45;b</title>\n<path fill=\"none\" stroke=\"black\" d=\"M66.56,-287.7C66.56,-279.98 66.56,-270.71 66.56,-262.11\"/>\n<polygon fill=\"black\" stroke=\"black\" points=\"70.06,-262.1 66.56,-252.1 63.06,-262.1 70.06,-262.1\"/>\n</g>\n<!-- &#45;k&#45;&#45;d7 -->\n<g id=\"edge5\" class=\"edge\">\n<title>&#45;k&#45;&#45;d7</title>\n<path fill=\"none\" stroke=\"black\" d=\"M66.56,-359.7C66.56,-351.98 66.56,-342.71 66.56,-334.11\"/>\n<polygon fill=\"black\" stroke=\"black\" points=\"70.06,-334.1 66.56,-324.1 63.06,-334.1 70.06,-334.1\"/>\n</g>\n<!-- r6 -->\n<g id=\"node12\" class=\"node\">\n<title>r6</title>\n<polygon fill=\"none\" stroke=\"black\" points=\"114.56,-180 36.56,-180 36.56,-144 114.56,-144 114.56,-180\"/>\n<text text-anchor=\"middle\" x=\"75.56\" y=\"-158.3\" font-family=\"fira-sans\" font-size=\"14.00\">b :&#45; not a.</text>\n</g>\n<!-- b&#45;&#45;r6 -->\n<g id=\"edge13\" class=\"edge\">\n<title>b&#45;&#45;r6</title>\n<path fill=\"none\" stroke=\"black\" d=\"M68.74,-216.05C69.73,-208.35 70.93,-199.03 72.04,-190.36\"/>\n<polygon fill=\"black\" stroke=\"black\" points=\"75.54,-190.64 73.34,-180.28 68.59,-189.75 75.54,-190.64\"/>\n</g>\n<!-- &#45;a&#45;&#45;d1 -->\n<g id=\"edge9\" class=\"edge\">\n<title>&#45;a&#45;&#45;d1</title>\n<path fill=\"none\" stroke=\"black\" d=\"M115.28,-107.74C125.19,-133.98 142.56,-186.61 142.56,-233 142.56,-307 142.56,-307 142.56,-307 142.56,-352.36 112.04,-397.25 89.69,-424.05\"/>\n<polygon fill=\"black\" stroke=\"black\" points=\"86.92,-421.91 83.05,-431.77 92.22,-426.47 86.92,-421.91\"/>\n</g>\n<!-- d2 -->\n<g id=\"node13\" class=\"node\">\n<title>d2</title>\n<polygon fill=\"none\" stroke=\"black\" points=\"80.56,-36 2.56,-36 2.56,0 80.56,0 80.56,-36\"/>\n<text text-anchor=\"middle\" x=\"41.56\" y=\"-14.3\" font-family=\"fira-sans\" font-size=\"14.00\">not a :&#45; b.</text>\n</g>\n<!-- &#45;a&#45;&#45;d2 -->\n<g id=\"edge2\" class=\"edge\">\n<title>&#45;a&#45;&#45;d2</title>\n<path fill=\"none\" stroke=\"black\" d=\"M94.02,-73.81C85.56,-64.97 74.68,-53.61 65.03,-43.52\"/>\n<polygon fill=\"black\" stroke=\"black\" points=\"67.4,-40.93 57.95,-36.13 62.34,-45.77 67.4,-40.93\"/>\n</g>\n<!-- r6&#45;&#45;&#45;a -->\n<g id=\"edge6\" class=\"edge\">\n<title>r6&#45;&#45;&#45;a</title>\n<path fill=\"none\" stroke=\"black\" d=\"M83.72,-143.7C87.53,-135.61 92.15,-125.81 96.37,-116.87\"/>\n<polygon fill=\"black\" stroke=\"black\" points=\"99.63,-118.16 100.72,-107.62 93.29,-115.18 99.63,-118.16\"/>\n</g>\n<!-- d2&#45;&#45;b -->\n<g id=\"edge4\" class=\"edge\">\n<title>d2&#45;&#45;b</title>\n<path fill=\"none\" stroke=\"black\" d=\"M35.64,-36.44C26.37,-66.55 11.11,-129.88 27.56,-180 31.27,-191.3 38.41,-202.18 45.59,-211.11\"/>\n<polygon fill=\"black\" stroke=\"black\" points=\"42.93,-213.38 52.08,-218.71 48.25,-208.83 42.93,-213.38\"/>\n</g>\n</g>\n</svg>\n",
      "text/plain": "<graphviz.graphs.Graph at 0x7fb52f4e49a0>"
     },
     "execution_count": 11,
     "metadata": {},
     "output_type": "execute_result"
    }
   ],
   "source": [
    "nf_graph = draw_graph([nf_primal_graph_str, nf_dual_graph_str, graph_encoding])['default']\n",
    "nf_graph"
   ]
  },
  {
   "cell_type": "markdown",
   "metadata": {
    "pycharm": {
     "name": "#%% md\n"
    }
   },
   "source": [
    "We nearly derived our desired proof tree. A problem that remains is the negative cycle(s) $\\text{not}~a \\to b$ and $\\text{not}~k \\to b \\to \\text{not}~a$. If we have a negative cycle assume one of the negative literals to be false, in order to root the proof tree."
   ]
  },
  {
   "cell_type": "markdown",
   "metadata": {
    "pycharm": {
     "name": "#%% md\n"
    }
   },
   "source": [
    "In the first case we assume $k$ to be false."
   ]
  },
  {
   "cell_type": "code",
   "execution_count": 12,
   "metadata": {
    "pycharm": {
     "name": "#%%\n"
    }
   },
   "outputs": [
    {
     "data": {
      "image/svg+xml": "<?xml version=\"1.0\" encoding=\"UTF-8\" standalone=\"no\"?>\n<!DOCTYPE svg PUBLIC \"-//W3C//DTD SVG 1.1//EN\"\n \"http://www.w3.org/Graphics/SVG/1.1/DTD/svg11.dtd\">\n<!-- Generated by graphviz version 3.0.0 (20220227.1548)\n -->\n<!-- Title: default Pages: 1 -->\n<svg width=\"268pt\" height=\"404pt\"\n viewBox=\"0.00 0.00 268.00 404.00\" xmlns=\"http://www.w3.org/2000/svg\" xmlns:xlink=\"http://www.w3.org/1999/xlink\">\n<g id=\"graph0\" class=\"graph\" transform=\"scale(1 1) rotate(0) translate(4 400)\">\n<title>default</title>\n<polygon fill=\"white\" stroke=\"transparent\" points=\"-4,4 -4,-400 264,-400 264,4 -4,4\"/>\n<!-- d1 -->\n<g id=\"node1\" class=\"node\">\n<title>d1</title>\n<polygon fill=\"none\" stroke=\"black\" points=\"164,-180 60,-180 60,-144 164,-144 164,-180\"/>\n<text text-anchor=\"middle\" x=\"112\" y=\"-158.3\" font-family=\"fira-sans\" font-size=\"14.00\">not a :&#45; not k.</text>\n</g>\n<!-- &#45;k -->\n<g id=\"node6\" class=\"node\">\n<title>&#45;k</title>\n<ellipse fill=\"black\" stroke=\"black\" cx=\"72\" cy=\"-90\" rx=\"32.49\" ry=\"18\"/>\n<text text-anchor=\"middle\" x=\"72\" y=\"-86.3\" font-family=\"fira-sans\" font-size=\"14.00\" fill=\"white\">not k</text>\n</g>\n<!-- d1&#45;&#45;&#45;k -->\n<g id=\"edge4\" class=\"edge\">\n<title>d1&#45;&#45;&#45;k</title>\n<path fill=\"none\" stroke=\"black\" d=\"M102.11,-143.7C97.44,-135.52 91.77,-125.6 86.62,-116.58\"/>\n<polygon fill=\"black\" stroke=\"black\" points=\"89.5,-114.57 81.5,-107.62 83.42,-118.04 89.5,-114.57\"/>\n</g>\n<!-- &#45;c -->\n<g id=\"node2\" class=\"node\">\n<title>&#45;c</title>\n<ellipse fill=\"black\" stroke=\"black\" cx=\"72\" cy=\"-378\" rx=\"32.49\" ry=\"18\"/>\n<text text-anchor=\"middle\" x=\"72\" y=\"-374.3\" font-family=\"fira-sans\" font-size=\"14.00\" fill=\"white\">not c</text>\n</g>\n<!-- d3 -->\n<g id=\"node3\" class=\"node\">\n<title>d3</title>\n<polygon fill=\"none\" stroke=\"black\" points=\"144,-324 0,-324 0,-288 144,-288 144,-324\"/>\n<text text-anchor=\"middle\" x=\"72\" y=\"-302.3\" font-family=\"fira-sans\" font-size=\"14.00\">not c :&#45; not a, not k.</text>\n</g>\n<!-- &#45;c&#45;&#45;d3 -->\n<g id=\"edge8\" class=\"edge\">\n<title>&#45;c&#45;&#45;d3</title>\n<path fill=\"none\" stroke=\"black\" d=\"M72,-359.7C72,-351.98 72,-342.71 72,-334.11\"/>\n<polygon fill=\"black\" stroke=\"black\" points=\"75.5,-334.1 72,-324.1 68.5,-334.1 75.5,-334.1\"/>\n</g>\n<!-- d3&#45;&#45;&#45;k -->\n<g id=\"edge5\" class=\"edge\">\n<title>d3&#45;&#45;&#45;k</title>\n<path fill=\"none\" stroke=\"black\" d=\"M66.24,-287.97C57.05,-258.48 41.06,-196.05 51,-144 52.73,-134.92 56,-125.4 59.45,-116.98\"/>\n<polygon fill=\"black\" stroke=\"black\" points=\"62.71,-118.26 63.5,-107.69 56.29,-115.46 62.71,-118.26\"/>\n</g>\n<!-- &#45;a -->\n<g id=\"node7\" class=\"node\">\n<title>&#45;a</title>\n<ellipse fill=\"black\" stroke=\"black\" cx=\"112\" cy=\"-234\" rx=\"32.49\" ry=\"18\"/>\n<text text-anchor=\"middle\" x=\"112\" y=\"-230.3\" font-family=\"fira-sans\" font-size=\"14.00\" fill=\"white\">not a</text>\n</g>\n<!-- d3&#45;&#45;&#45;a -->\n<g id=\"edge1\" class=\"edge\">\n<title>d3&#45;&#45;&#45;a</title>\n<path fill=\"none\" stroke=\"black\" d=\"M81.89,-287.7C86.56,-279.52 92.23,-269.6 97.38,-260.58\"/>\n<polygon fill=\"black\" stroke=\"black\" points=\"100.58,-262.04 102.5,-251.62 94.5,-258.57 100.58,-262.04\"/>\n</g>\n<!-- b -->\n<g id=\"node4\" class=\"node\">\n<title>b</title>\n<ellipse fill=\"none\" stroke=\"black\" cx=\"221\" cy=\"-90\" rx=\"27\" ry=\"18\"/>\n<text text-anchor=\"middle\" x=\"221\" y=\"-86.3\" font-family=\"fira-sans\" font-size=\"14.00\">b</text>\n</g>\n<!-- d7 -->\n<g id=\"node5\" class=\"node\">\n<title>d7</title>\n<polygon fill=\"none\" stroke=\"black\" points=\"99,-36 45,-36 45,0 99,0 99,-36\"/>\n<text text-anchor=\"middle\" x=\"72\" y=\"-14.3\" font-family=\"fira-sans\" font-size=\"14.00\">not k.</text>\n</g>\n<!-- &#45;k&#45;&#45;d7 -->\n<g id=\"edge3\" class=\"edge\">\n<title>&#45;k&#45;&#45;d7</title>\n<path fill=\"none\" stroke=\"black\" d=\"M72,-71.7C72,-63.98 72,-54.71 72,-46.11\"/>\n<polygon fill=\"black\" stroke=\"black\" points=\"75.5,-46.1 72,-36.1 68.5,-46.1 75.5,-46.1\"/>\n</g>\n<!-- &#45;a&#45;&#45;d1 -->\n<g id=\"edge7\" class=\"edge\">\n<title>&#45;a&#45;&#45;d1</title>\n<path fill=\"none\" stroke=\"black\" d=\"M112,-215.7C112,-207.98 112,-198.71 112,-190.11\"/>\n<polygon fill=\"black\" stroke=\"black\" points=\"115.5,-190.1 112,-180.1 108.5,-190.1 115.5,-190.1\"/>\n</g>\n<!-- d2 -->\n<g id=\"node8\" class=\"node\">\n<title>d2</title>\n<polygon fill=\"none\" stroke=\"black\" points=\"260,-180 182,-180 182,-144 260,-144 260,-180\"/>\n<text text-anchor=\"middle\" x=\"221\" y=\"-158.3\" font-family=\"fira-sans\" font-size=\"14.00\">not a :&#45; b.</text>\n</g>\n<!-- &#45;a&#45;&#45;d2 -->\n<g id=\"edge6\" class=\"edge\">\n<title>&#45;a&#45;&#45;d2</title>\n<path fill=\"none\" stroke=\"black\" d=\"M132.5,-219.83C147.42,-210.26 167.99,-197.05 185.54,-185.77\"/>\n<polygon fill=\"black\" stroke=\"black\" points=\"187.88,-188.43 194.4,-180.08 184.1,-182.54 187.88,-188.43\"/>\n</g>\n<!-- d2&#45;&#45;b -->\n<g id=\"edge2\" class=\"edge\">\n<title>d2&#45;&#45;b</title>\n<path fill=\"none\" stroke=\"black\" d=\"M221,-143.7C221,-135.98 221,-126.71 221,-118.11\"/>\n<polygon fill=\"black\" stroke=\"black\" points=\"224.5,-118.1 221,-108.1 217.5,-118.1 224.5,-118.1\"/>\n</g>\n</g>\n</svg>\n",
      "text/plain": "<graphviz.graphs.Graph at 0x7fb52f4e5810>"
     },
     "execution_count": 12,
     "metadata": {},
     "output_type": "execute_result"
    }
   ],
   "source": [
    "exp_1_dual_graph_str = \"\"\"\n",
    "\n",
    "pos_literal(a;b;c;e;f;k).\n",
    "neg_literal(-a;-b;-c;-e;-f;-k).\n",
    "pos_neg(a,-a;b,-b;c,-c;e,-e;f,-f;k,-k).\n",
    "\n",
    "rule(d1).\n",
    "attr(node, d1, label, \"not a :- not k.\").\n",
    "edge((-a, d1)).\n",
    "edge((d1, -k)).\n",
    "\n",
    "rule(d2).\n",
    "attr(node, d2, label, \"not a :- b.\").\n",
    "edge((-a, d2)).\n",
    "edge((d2, b)).\n",
    "\n",
    "rule(d3).\n",
    "attr(node, d3, label, \"not c :- not a, not k.\").\n",
    "edge((-c, d3)).\n",
    "edge((d3, -a)).\n",
    "edge((d3, -k)).\n",
    "\n",
    "rule(d7).\n",
    "attr(node, d7, label, \"not k.\").\n",
    "edge((-k, d7)).\n",
    "\n",
    "\n",
    "\"\"\"\n",
    "\n",
    "exp_1_dual_graph = draw_graph([exp_1_dual_graph_str, graph_encoding])['default']\n",
    "exp_1_dual_graph"
   ]
  },
  {
   "cell_type": "markdown",
   "metadata": {
    "pycharm": {
     "name": "#%% md\n"
    }
   },
   "source": [
    "$\\text{not}~k$ no longer needs a rule that derives it."
   ]
  },
  {
   "cell_type": "code",
   "execution_count": 13,
   "metadata": {
    "pycharm": {
     "name": "#%%\n"
    }
   },
   "outputs": [
    {
     "data": {
      "image/svg+xml": "<?xml version=\"1.0\" encoding=\"UTF-8\" standalone=\"no\"?>\n<!DOCTYPE svg PUBLIC \"-//W3C//DTD SVG 1.1//EN\"\n \"http://www.w3.org/Graphics/SVG/1.1/DTD/svg11.dtd\">\n<!-- Generated by graphviz version 3.0.0 (20220227.1548)\n -->\n<!-- Title: default Pages: 1 -->\n<svg width=\"323pt\" height=\"548pt\"\n viewBox=\"0.00 0.00 322.50 548.00\" xmlns=\"http://www.w3.org/2000/svg\" xmlns:xlink=\"http://www.w3.org/1999/xlink\">\n<g id=\"graph0\" class=\"graph\" transform=\"scale(1 1) rotate(0) translate(4 544)\">\n<title>default</title>\n<polygon fill=\"white\" stroke=\"transparent\" points=\"-4,4 -4,-544 318.5,-544 318.5,4 -4,4\"/>\n<!-- d1 -->\n<g id=\"node1\" class=\"node\">\n<title>d1</title>\n<polygon fill=\"none\" stroke=\"black\" points=\"238,-180 134,-180 134,-144 238,-144 238,-180\"/>\n<text text-anchor=\"middle\" x=\"186\" y=\"-158.3\" font-family=\"fira-sans\" font-size=\"14.00\">not a :&#45; not k.</text>\n</g>\n<!-- &#45;k -->\n<g id=\"node10\" class=\"node\">\n<title>&#45;k</title>\n<ellipse fill=\"black\" stroke=\"black\" cx=\"266\" cy=\"-90\" rx=\"32.49\" ry=\"18\"/>\n<text text-anchor=\"middle\" x=\"266\" y=\"-86.3\" font-family=\"fira-sans\" font-size=\"14.00\" fill=\"white\">not k</text>\n</g>\n<!-- d1&#45;&#45;&#45;k -->\n<g id=\"edge8\" class=\"edge\">\n<title>d1&#45;&#45;&#45;k</title>\n<path fill=\"none\" stroke=\"black\" d=\"M205.78,-143.7C216.68,-134.16 230.3,-122.24 241.83,-112.15\"/>\n<polygon fill=\"black\" stroke=\"black\" points=\"244.2,-114.73 249.42,-105.51 239.59,-109.46 244.2,-114.73\"/>\n</g>\n<!-- &#45;c -->\n<g id=\"node2\" class=\"node\">\n<title>&#45;c</title>\n<ellipse fill=\"black\" stroke=\"black\" cx=\"152\" cy=\"-378\" rx=\"32.49\" ry=\"18\"/>\n<text text-anchor=\"middle\" x=\"152\" y=\"-374.3\" font-family=\"fira-sans\" font-size=\"14.00\" fill=\"white\">not c</text>\n</g>\n<!-- d3 -->\n<g id=\"node3\" class=\"node\">\n<title>d3</title>\n<polygon fill=\"none\" stroke=\"black\" points=\"204,-324 60,-324 60,-288 204,-288 204,-324\"/>\n<text text-anchor=\"middle\" x=\"132\" y=\"-302.3\" font-family=\"fira-sans\" font-size=\"14.00\">not c :&#45; not a, not k.</text>\n</g>\n<!-- &#45;c&#45;&#45;d3 -->\n<g id=\"edge14\" class=\"edge\">\n<title>&#45;c&#45;&#45;d3</title>\n<path fill=\"none\" stroke=\"black\" d=\"M147.16,-360.05C144.93,-352.26 142.23,-342.82 139.74,-334.08\"/>\n<polygon fill=\"black\" stroke=\"black\" points=\"143.05,-332.93 136.94,-324.28 136.32,-334.85 143.05,-332.93\"/>\n</g>\n<!-- d3&#45;&#45;&#45;k -->\n<g id=\"edge11\" class=\"edge\">\n<title>d3&#45;&#45;&#45;k</title>\n<path fill=\"none\" stroke=\"black\" d=\"M153.96,-287.62C180.31,-265.52 223.85,-224.8 247,-180 256.95,-160.76 261.69,-136.6 263.95,-118.31\"/>\n<polygon fill=\"black\" stroke=\"black\" points=\"267.43,-118.62 265.01,-108.3 260.47,-117.88 267.43,-118.62\"/>\n</g>\n<!-- &#45;a -->\n<g id=\"node11\" class=\"node\">\n<title>&#45;a</title>\n<ellipse fill=\"black\" stroke=\"black\" cx=\"119\" cy=\"-234\" rx=\"32.49\" ry=\"18\"/>\n<text text-anchor=\"middle\" x=\"119\" y=\"-230.3\" font-family=\"fira-sans\" font-size=\"14.00\" fill=\"white\">not a</text>\n</g>\n<!-- d3&#45;&#45;&#45;a -->\n<g id=\"edge1\" class=\"edge\">\n<title>d3&#45;&#45;&#45;a</title>\n<path fill=\"none\" stroke=\"black\" d=\"M128.79,-287.7C127.35,-279.98 125.63,-270.71 124.04,-262.11\"/>\n<polygon fill=\"black\" stroke=\"black\" points=\"127.44,-261.3 122.18,-252.1 120.56,-262.58 127.44,-261.3\"/>\n</g>\n<!-- r7 -->\n<g id=\"node4\" class=\"node\">\n<title>r7</title>\n<polygon fill=\"none\" stroke=\"black\" points=\"314.5,-468 183.5,-468 183.5,-432 314.5,-432 314.5,-468\"/>\n<text text-anchor=\"middle\" x=\"249\" y=\"-446.3\" font-family=\"fira-sans\" font-size=\"14.00\">f :&#45; e, not k, not c.</text>\n</g>\n<!-- r7&#45;&#45;&#45;c -->\n<g id=\"edge15\" class=\"edge\">\n<title>r7&#45;&#45;&#45;c</title>\n<path fill=\"none\" stroke=\"black\" d=\"M225.02,-431.7C211.27,-421.77 193.95,-409.27 179.63,-398.94\"/>\n<polygon fill=\"black\" stroke=\"black\" points=\"181.31,-395.84 171.16,-392.82 177.22,-401.51 181.31,-395.84\"/>\n</g>\n<!-- e -->\n<g id=\"node5\" class=\"node\">\n<title>e</title>\n<ellipse fill=\"none\" stroke=\"black\" cx=\"249\" cy=\"-378\" rx=\"27\" ry=\"18\"/>\n<text text-anchor=\"middle\" x=\"249\" y=\"-374.3\" font-family=\"fira-sans\" font-size=\"14.00\">e</text>\n</g>\n<!-- r7&#45;&#45;e -->\n<g id=\"edge2\" class=\"edge\">\n<title>r7&#45;&#45;e</title>\n<path fill=\"none\" stroke=\"black\" d=\"M249,-431.7C249,-423.98 249,-414.71 249,-406.11\"/>\n<polygon fill=\"black\" stroke=\"black\" points=\"252.5,-406.1 249,-396.1 245.5,-406.1 252.5,-406.1\"/>\n</g>\n<!-- r7&#45;&#45;&#45;k -->\n<g id=\"edge10\" class=\"edge\">\n<title>r7&#45;&#45;&#45;k</title>\n<path fill=\"none\" stroke=\"black\" d=\"M263.16,-431.85C270.69,-421.93 279.5,-408.89 285,-396 300.88,-358.8 304,-347.45 304,-307 304,-307 304,-307 304,-233 304,-191.41 288.6,-145.22 277.4,-117.14\"/>\n<polygon fill=\"black\" stroke=\"black\" points=\"280.55,-115.58 273.51,-107.66 274.07,-118.24 280.55,-115.58\"/>\n</g>\n<!-- r5 -->\n<g id=\"node9\" class=\"node\">\n<title>r5</title>\n<polygon fill=\"none\" stroke=\"black\" points=\"276,-324 222,-324 222,-288 276,-288 276,-324\"/>\n<text text-anchor=\"middle\" x=\"249\" y=\"-302.3\" font-family=\"fira-sans\" font-size=\"14.00\">e.</text>\n</g>\n<!-- e&#45;&#45;r5 -->\n<g id=\"edge4\" class=\"edge\">\n<title>e&#45;&#45;r5</title>\n<path fill=\"none\" stroke=\"black\" d=\"M249,-359.7C249,-351.98 249,-342.71 249,-334.11\"/>\n<polygon fill=\"black\" stroke=\"black\" points=\"252.5,-334.1 249,-324.1 245.5,-334.1 252.5,-334.1\"/>\n</g>\n<!-- b -->\n<g id=\"node6\" class=\"node\">\n<title>b</title>\n<ellipse fill=\"none\" stroke=\"black\" cx=\"45\" cy=\"-90\" rx=\"27\" ry=\"18\"/>\n<text text-anchor=\"middle\" x=\"45\" y=\"-86.3\" font-family=\"fira-sans\" font-size=\"14.00\">b</text>\n</g>\n<!-- r6 -->\n<g id=\"node12\" class=\"node\">\n<title>r6</title>\n<polygon fill=\"none\" stroke=\"black\" points=\"115,-36 37,-36 37,0 115,0 115,-36\"/>\n<text text-anchor=\"middle\" x=\"76\" y=\"-14.3\" font-family=\"fira-sans\" font-size=\"14.00\">b :&#45; not a.</text>\n</g>\n<!-- b&#45;&#45;r6 -->\n<g id=\"edge9\" class=\"edge\">\n<title>b&#45;&#45;r6</title>\n<path fill=\"none\" stroke=\"black\" d=\"M52.35,-72.41C55.87,-64.45 60.18,-54.72 64.15,-45.76\"/>\n<polygon fill=\"black\" stroke=\"black\" points=\"67.42,-47.01 68.27,-36.45 61.02,-44.17 67.42,-47.01\"/>\n</g>\n<!-- f -->\n<g id=\"node7\" class=\"node\">\n<title>f</title>\n<ellipse fill=\"none\" stroke=\"black\" cx=\"249\" cy=\"-522\" rx=\"27\" ry=\"18\"/>\n<text text-anchor=\"middle\" x=\"249\" y=\"-518.3\" font-family=\"fira-sans\" font-size=\"14.00\">f</text>\n</g>\n<!-- f&#45;&#45;r7 -->\n<g id=\"edge7\" class=\"edge\">\n<title>f&#45;&#45;r7</title>\n<path fill=\"none\" stroke=\"black\" d=\"M249,-503.7C249,-495.98 249,-486.71 249,-478.11\"/>\n<polygon fill=\"black\" stroke=\"black\" points=\"252.5,-478.1 249,-468.1 245.5,-478.1 252.5,-478.1\"/>\n</g>\n<!-- d7 -->\n<g id=\"node8\" class=\"node\">\n<title>d7</title>\n<polygon fill=\"none\" stroke=\"black\" points=\"293,-36 239,-36 239,0 293,0 293,-36\"/>\n<text text-anchor=\"middle\" x=\"266\" y=\"-14.3\" font-family=\"fira-sans\" font-size=\"14.00\">not k.</text>\n</g>\n<!-- &#45;k&#45;&#45;d7 -->\n<g id=\"edge5\" class=\"edge\">\n<title>&#45;k&#45;&#45;d7</title>\n<path fill=\"none\" stroke=\"black\" d=\"M266,-71.7C266,-63.98 266,-54.71 266,-46.11\"/>\n<polygon fill=\"black\" stroke=\"black\" points=\"269.5,-46.1 266,-36.1 262.5,-46.1 269.5,-46.1\"/>\n</g>\n<!-- &#45;a&#45;&#45;d1 -->\n<g id=\"edge13\" class=\"edge\">\n<title>&#45;a&#45;&#45;d1</title>\n<path fill=\"none\" stroke=\"black\" d=\"M133.54,-217.81C142,-208.97 152.88,-197.61 162.53,-187.52\"/>\n<polygon fill=\"black\" stroke=\"black\" points=\"165.22,-189.77 169.61,-180.13 160.16,-184.93 165.22,-189.77\"/>\n</g>\n<!-- d2 -->\n<g id=\"node13\" class=\"node\">\n<title>d2</title>\n<polygon fill=\"none\" stroke=\"black\" points=\"78,-180 0,-180 0,-144 78,-144 78,-180\"/>\n<text text-anchor=\"middle\" x=\"39\" y=\"-158.3\" font-family=\"fira-sans\" font-size=\"14.00\">not a :&#45; b.</text>\n</g>\n<!-- &#45;a&#45;&#45;d2 -->\n<g id=\"edge12\" class=\"edge\">\n<title>&#45;a&#45;&#45;d2</title>\n<path fill=\"none\" stroke=\"black\" d=\"M102.42,-218.5C91.99,-209.36 78.27,-197.36 66.25,-186.85\"/>\n<polygon fill=\"black\" stroke=\"black\" points=\"68.49,-184.15 58.66,-180.2 63.88,-189.42 68.49,-184.15\"/>\n</g>\n<!-- r6&#45;&#45;&#45;a -->\n<g id=\"edge6\" class=\"edge\">\n<title>r6&#45;&#45;&#45;a</title>\n<path fill=\"none\" stroke=\"black\" d=\"M79.46,-36.23C86.93,-73.4 104.6,-161.35 113.57,-206\"/>\n<polygon fill=\"black\" stroke=\"black\" points=\"110.15,-206.73 115.55,-215.85 117.02,-205.36 110.15,-206.73\"/>\n</g>\n<!-- d2&#45;&#45;b -->\n<g id=\"edge3\" class=\"edge\">\n<title>d2&#45;&#45;b</title>\n<path fill=\"none\" stroke=\"black\" d=\"M40.48,-143.7C41.14,-135.98 41.94,-126.71 42.68,-118.11\"/>\n<polygon fill=\"black\" stroke=\"black\" points=\"46.17,-118.37 43.53,-108.1 39.19,-117.77 46.17,-118.37\"/>\n</g>\n</g>\n</svg>\n",
      "text/plain": "<graphviz.graphs.Graph at 0x7fb52f526290>"
     },
     "execution_count": 13,
     "metadata": {},
     "output_type": "execute_result"
    }
   ],
   "source": [
    "exp_1_graph = draw_graph(([exp_1_dual_graph_str, nf_primal_graph_str, graph_encoding]))['default']\n",
    "exp_1_graph"
   ]
  },
  {
   "cell_type": "markdown",
   "metadata": {
    "pycharm": {
     "name": "#%% md\n"
    }
   },
   "source": [
    "Combining the original primal graph in normal form with respect to the answer set and this rooted dual graph in normal form yields an explanation graph."
   ]
  },
  {
   "cell_type": "markdown",
   "metadata": {
    "pycharm": {
     "name": "#%% md\n"
    }
   },
   "source": [
    "We can also root $\\text{not}~a$."
   ]
  },
  {
   "cell_type": "code",
   "execution_count": 14,
   "metadata": {
    "pycharm": {
     "name": "#%%\n"
    }
   },
   "outputs": [
    {
     "data": {
      "image/svg+xml": "<?xml version=\"1.0\" encoding=\"UTF-8\" standalone=\"no\"?>\n<!DOCTYPE svg PUBLIC \"-//W3C//DTD SVG 1.1//EN\"\n \"http://www.w3.org/Graphics/SVG/1.1/DTD/svg11.dtd\">\n<!-- Generated by graphviz version 3.0.0 (20220227.1548)\n -->\n<!-- Title: default Pages: 1 -->\n<svg width=\"162pt\" height=\"332pt\"\n viewBox=\"0.00 0.00 162.50 332.00\" xmlns=\"http://www.w3.org/2000/svg\" xmlns:xlink=\"http://www.w3.org/1999/xlink\">\n<g id=\"graph0\" class=\"graph\" transform=\"scale(1 1) rotate(0) translate(4 328)\">\n<title>default</title>\n<polygon fill=\"white\" stroke=\"transparent\" points=\"-4,4 -4,-328 158.5,-328 158.5,4 -4,4\"/>\n<!-- d1 -->\n<g id=\"node1\" class=\"node\">\n<title>d1</title>\n<polygon fill=\"none\" stroke=\"black\" points=\"150,-108 96,-108 96,-72 150,-72 150,-108\"/>\n<text text-anchor=\"middle\" x=\"123\" y=\"-86.3\" font-family=\"fira-sans\" font-size=\"14.00\">not a.</text>\n</g>\n<!-- &#45;c -->\n<g id=\"node2\" class=\"node\">\n<title>&#45;c</title>\n<ellipse fill=\"black\" stroke=\"black\" cx=\"80\" cy=\"-306\" rx=\"32.49\" ry=\"18\"/>\n<text text-anchor=\"middle\" x=\"80\" y=\"-302.3\" font-family=\"fira-sans\" font-size=\"14.00\" fill=\"white\">not c</text>\n</g>\n<!-- d3 -->\n<g id=\"node3\" class=\"node\">\n<title>d3</title>\n<polygon fill=\"none\" stroke=\"black\" points=\"152,-252 8,-252 8,-216 152,-216 152,-252\"/>\n<text text-anchor=\"middle\" x=\"80\" y=\"-230.3\" font-family=\"fira-sans\" font-size=\"14.00\">not c :&#45; not a, not k.</text>\n</g>\n<!-- &#45;c&#45;&#45;d3 -->\n<g id=\"edge6\" class=\"edge\">\n<title>&#45;c&#45;&#45;d3</title>\n<path fill=\"none\" stroke=\"black\" d=\"M80,-287.7C80,-279.98 80,-270.71 80,-262.11\"/>\n<polygon fill=\"black\" stroke=\"black\" points=\"83.5,-262.1 80,-252.1 76.5,-262.1 83.5,-262.1\"/>\n</g>\n<!-- &#45;k -->\n<g id=\"node6\" class=\"node\">\n<title>&#45;k</title>\n<ellipse fill=\"black\" stroke=\"black\" cx=\"39\" cy=\"-162\" rx=\"32.49\" ry=\"18\"/>\n<text text-anchor=\"middle\" x=\"39\" y=\"-158.3\" font-family=\"fira-sans\" font-size=\"14.00\" fill=\"white\">not k</text>\n</g>\n<!-- d3&#45;&#45;&#45;k -->\n<g id=\"edge4\" class=\"edge\">\n<title>d3&#45;&#45;&#45;k</title>\n<path fill=\"none\" stroke=\"black\" d=\"M69.87,-215.7C65.03,-207.44 59.15,-197.39 53.82,-188.3\"/>\n<polygon fill=\"black\" stroke=\"black\" points=\"56.81,-186.48 48.74,-179.62 50.77,-190.02 56.81,-186.48\"/>\n</g>\n<!-- &#45;a -->\n<g id=\"node7\" class=\"node\">\n<title>&#45;a</title>\n<ellipse fill=\"black\" stroke=\"black\" cx=\"122\" cy=\"-162\" rx=\"32.49\" ry=\"18\"/>\n<text text-anchor=\"middle\" x=\"122\" y=\"-158.3\" font-family=\"fira-sans\" font-size=\"14.00\" fill=\"white\">not a</text>\n</g>\n<!-- d3&#45;&#45;&#45;a -->\n<g id=\"edge1\" class=\"edge\">\n<title>d3&#45;&#45;&#45;a</title>\n<path fill=\"none\" stroke=\"black\" d=\"M90.38,-215.7C95.34,-207.44 101.36,-197.39 106.82,-188.3\"/>\n<polygon fill=\"black\" stroke=\"black\" points=\"109.88,-190 112.03,-179.62 103.88,-186.4 109.88,-190\"/>\n</g>\n<!-- b -->\n<g id=\"node4\" class=\"node\">\n<title>b</title>\n<ellipse fill=\"none\" stroke=\"black\" cx=\"39\" cy=\"-18\" rx=\"27\" ry=\"18\"/>\n<text text-anchor=\"middle\" x=\"39\" y=\"-14.3\" font-family=\"fira-sans\" font-size=\"14.00\">b</text>\n</g>\n<!-- d7 -->\n<g id=\"node5\" class=\"node\">\n<title>d7</title>\n<polygon fill=\"none\" stroke=\"black\" points=\"78,-108 0,-108 0,-72 78,-72 78,-108\"/>\n<text text-anchor=\"middle\" x=\"39\" y=\"-86.3\" font-family=\"fira-sans\" font-size=\"14.00\">not k :&#45; b.</text>\n</g>\n<!-- d7&#45;&#45;b -->\n<g id=\"edge3\" class=\"edge\">\n<title>d7&#45;&#45;b</title>\n<path fill=\"none\" stroke=\"black\" d=\"M39,-71.7C39,-63.98 39,-54.71 39,-46.11\"/>\n<polygon fill=\"black\" stroke=\"black\" points=\"42.5,-46.1 39,-36.1 35.5,-46.1 42.5,-46.1\"/>\n</g>\n<!-- &#45;k&#45;&#45;d7 -->\n<g id=\"edge2\" class=\"edge\">\n<title>&#45;k&#45;&#45;d7</title>\n<path fill=\"none\" stroke=\"black\" d=\"M39,-143.7C39,-135.98 39,-126.71 39,-118.11\"/>\n<polygon fill=\"black\" stroke=\"black\" points=\"42.5,-118.1 39,-108.1 35.5,-118.1 42.5,-118.1\"/>\n</g>\n<!-- &#45;a&#45;&#45;d1 -->\n<g id=\"edge5\" class=\"edge\">\n<title>&#45;a&#45;&#45;d1</title>\n<path fill=\"none\" stroke=\"black\" d=\"M122.25,-143.7C122.36,-135.98 122.49,-126.71 122.61,-118.11\"/>\n<polygon fill=\"black\" stroke=\"black\" points=\"126.11,-118.15 122.76,-108.1 119.11,-118.05 126.11,-118.15\"/>\n</g>\n</g>\n</svg>\n",
      "text/plain": "<graphviz.graphs.Graph at 0x7fb52f64b280>"
     },
     "execution_count": 14,
     "metadata": {},
     "output_type": "execute_result"
    }
   ],
   "source": [
    "exp_2_dual_graph_str = \"\"\"\n",
    "\n",
    "pos_literal(a;b;c;e;f;k).\n",
    "neg_literal(-a;-b;-c;-e;-f;-k).\n",
    "pos_neg(a,-a;b,-b;c,-c;e,-e;f,-f;k,-k).\n",
    "\n",
    "rule(d1).\n",
    "attr(node, d1, label, \"not a.\").\n",
    "edge((-a, d1)).\n",
    "\n",
    "rule(d3).\n",
    "attr(node, d3, label, \"not c :- not a, not k.\").\n",
    "edge((-c, d3)).\n",
    "edge((d3, -a)).\n",
    "edge((d3, -k)).\n",
    "\n",
    "rule(d7).\n",
    "attr(node, d7, label, \"not k :- b.\").\n",
    "edge((-k, d7)).\n",
    "edge((d7, b)).\n",
    "\n",
    "\n",
    "\"\"\"\n",
    "\n",
    "exp_2_dual_graph = draw_graph([exp_2_dual_graph_str, graph_encoding])['default']\n",
    "exp_2_dual_graph"
   ]
  },
  {
   "cell_type": "code",
   "execution_count": 15,
   "metadata": {
    "pycharm": {
     "name": "#%%\n"
    }
   },
   "outputs": [
    {
     "data": {
      "image/svg+xml": "<?xml version=\"1.0\" encoding=\"UTF-8\" standalone=\"no\"?>\n<!DOCTYPE svg PUBLIC \"-//W3C//DTD SVG 1.1//EN\"\n \"http://www.w3.org/Graphics/SVG/1.1/DTD/svg11.dtd\">\n<!-- Generated by graphviz version 3.0.0 (20220227.1548)\n -->\n<!-- Title: default Pages: 1 -->\n<svg width=\"263pt\" height=\"692pt\"\n viewBox=\"0.00 0.00 262.50 692.00\" xmlns=\"http://www.w3.org/2000/svg\" xmlns:xlink=\"http://www.w3.org/1999/xlink\">\n<g id=\"graph0\" class=\"graph\" transform=\"scale(1 1) rotate(0) translate(4 688)\">\n<title>default</title>\n<polygon fill=\"white\" stroke=\"transparent\" points=\"-4,4 -4,-688 258.5,-688 258.5,4 -4,4\"/>\n<!-- d1 -->\n<g id=\"node1\" class=\"node\">\n<title>d1</title>\n<polygon fill=\"none\" stroke=\"black\" points=\"132,-36 78,-36 78,0 132,0 132,-36\"/>\n<text text-anchor=\"middle\" x=\"105\" y=\"-14.3\" font-family=\"fira-sans\" font-size=\"14.00\">not a.</text>\n</g>\n<!-- &#45;c -->\n<g id=\"node2\" class=\"node\">\n<title>&#45;c</title>\n<ellipse fill=\"black\" stroke=\"black\" cx=\"92\" cy=\"-522\" rx=\"32.49\" ry=\"18\"/>\n<text text-anchor=\"middle\" x=\"92\" y=\"-518.3\" font-family=\"fira-sans\" font-size=\"14.00\" fill=\"white\">not c</text>\n</g>\n<!-- d3 -->\n<g id=\"node3\" class=\"node\">\n<title>d3</title>\n<polygon fill=\"none\" stroke=\"black\" points=\"144,-468 0,-468 0,-432 144,-432 144,-468\"/>\n<text text-anchor=\"middle\" x=\"72\" y=\"-446.3\" font-family=\"fira-sans\" font-size=\"14.00\">not c :&#45; not a, not k.</text>\n</g>\n<!-- &#45;c&#45;&#45;d3 -->\n<g id=\"edge12\" class=\"edge\">\n<title>&#45;c&#45;&#45;d3</title>\n<path fill=\"none\" stroke=\"black\" d=\"M87.16,-504.05C84.93,-496.26 82.23,-486.82 79.74,-478.08\"/>\n<polygon fill=\"black\" stroke=\"black\" points=\"83.05,-476.93 76.94,-468.28 76.32,-478.85 83.05,-476.93\"/>\n</g>\n<!-- &#45;k -->\n<g id=\"node10\" class=\"node\">\n<title>&#45;k</title>\n<ellipse fill=\"black\" stroke=\"black\" cx=\"139\" cy=\"-378\" rx=\"32.49\" ry=\"18\"/>\n<text text-anchor=\"middle\" x=\"139\" y=\"-374.3\" font-family=\"fira-sans\" font-size=\"14.00\" fill=\"white\">not k</text>\n</g>\n<!-- d3&#45;&#45;&#45;k -->\n<g id=\"edge9\" class=\"edge\">\n<title>d3&#45;&#45;&#45;k</title>\n<path fill=\"none\" stroke=\"black\" d=\"M88.56,-431.7C97.25,-422.62 107.99,-411.4 117.33,-401.64\"/>\n<polygon fill=\"black\" stroke=\"black\" points=\"120.06,-403.85 124.45,-394.2 115.01,-399.01 120.06,-403.85\"/>\n</g>\n<!-- &#45;a -->\n<g id=\"node11\" class=\"node\">\n<title>&#45;a</title>\n<ellipse fill=\"black\" stroke=\"black\" cx=\"105\" cy=\"-90\" rx=\"32.49\" ry=\"18\"/>\n<text text-anchor=\"middle\" x=\"105\" y=\"-86.3\" font-family=\"fira-sans\" font-size=\"14.00\" fill=\"white\">not a</text>\n</g>\n<!-- d3&#45;&#45;&#45;a -->\n<g id=\"edge1\" class=\"edge\">\n<title>d3&#45;&#45;&#45;a</title>\n<path fill=\"none\" stroke=\"black\" d=\"M72,-431.95C72,-405.29 72,-352.11 72,-307 72,-307 72,-307 72,-233 72,-191.75 85.38,-145.47 95.1,-117.28\"/>\n<polygon fill=\"black\" stroke=\"black\" points=\"98.43,-118.35 98.48,-107.76 91.83,-116.01 98.43,-118.35\"/>\n</g>\n<!-- r7 -->\n<g id=\"node4\" class=\"node\">\n<title>r7</title>\n<polygon fill=\"none\" stroke=\"black\" points=\"254.5,-612 123.5,-612 123.5,-576 254.5,-576 254.5,-612\"/>\n<text text-anchor=\"middle\" x=\"189\" y=\"-590.3\" font-family=\"fira-sans\" font-size=\"14.00\">f :&#45; e, not k, not c.</text>\n</g>\n<!-- r7&#45;&#45;&#45;c -->\n<g id=\"edge13\" class=\"edge\">\n<title>r7&#45;&#45;&#45;c</title>\n<path fill=\"none\" stroke=\"black\" d=\"M165.02,-575.7C151.27,-565.77 133.95,-553.27 119.63,-542.94\"/>\n<polygon fill=\"black\" stroke=\"black\" points=\"121.31,-539.84 111.16,-536.82 117.22,-545.51 121.31,-539.84\"/>\n</g>\n<!-- e -->\n<g id=\"node5\" class=\"node\">\n<title>e</title>\n<ellipse fill=\"none\" stroke=\"black\" cx=\"189\" cy=\"-522\" rx=\"27\" ry=\"18\"/>\n<text text-anchor=\"middle\" x=\"189\" y=\"-518.3\" font-family=\"fira-sans\" font-size=\"14.00\">e</text>\n</g>\n<!-- r7&#45;&#45;e -->\n<g id=\"edge2\" class=\"edge\">\n<title>r7&#45;&#45;e</title>\n<path fill=\"none\" stroke=\"black\" d=\"M189,-575.7C189,-567.98 189,-558.71 189,-550.11\"/>\n<polygon fill=\"black\" stroke=\"black\" points=\"192.5,-550.1 189,-540.1 185.5,-550.1 192.5,-550.1\"/>\n</g>\n<!-- r7&#45;&#45;&#45;k -->\n<g id=\"edge8\" class=\"edge\">\n<title>r7&#45;&#45;&#45;k</title>\n<path fill=\"none\" stroke=\"black\" d=\"M204.61,-575.77C212.37,-566.03 220.95,-553.18 225,-540 239.11,-494.12 248.4,-473.91 225,-432 214.44,-413.09 194.06,-400.09 175.79,-391.7\"/>\n<polygon fill=\"black\" stroke=\"black\" points=\"177.06,-388.44 166.49,-387.73 174.31,-394.88 177.06,-388.44\"/>\n</g>\n<!-- r5 -->\n<g id=\"node9\" class=\"node\">\n<title>r5</title>\n<polygon fill=\"none\" stroke=\"black\" points=\"216,-468 162,-468 162,-432 216,-432 216,-468\"/>\n<text text-anchor=\"middle\" x=\"189\" y=\"-446.3\" font-family=\"fira-sans\" font-size=\"14.00\">e.</text>\n</g>\n<!-- e&#45;&#45;r5 -->\n<g id=\"edge3\" class=\"edge\">\n<title>e&#45;&#45;r5</title>\n<path fill=\"none\" stroke=\"black\" d=\"M189,-503.7C189,-495.98 189,-486.71 189,-478.11\"/>\n<polygon fill=\"black\" stroke=\"black\" points=\"192.5,-478.1 189,-468.1 185.5,-478.1 192.5,-478.1\"/>\n</g>\n<!-- b -->\n<g id=\"node6\" class=\"node\">\n<title>b</title>\n<ellipse fill=\"none\" stroke=\"black\" cx=\"139\" cy=\"-234\" rx=\"27\" ry=\"18\"/>\n<text text-anchor=\"middle\" x=\"139\" y=\"-230.3\" font-family=\"fira-sans\" font-size=\"14.00\">b</text>\n</g>\n<!-- r6 -->\n<g id=\"node12\" class=\"node\">\n<title>r6</title>\n<polygon fill=\"none\" stroke=\"black\" points=\"178,-180 100,-180 100,-144 178,-144 178,-180\"/>\n<text text-anchor=\"middle\" x=\"139\" y=\"-158.3\" font-family=\"fira-sans\" font-size=\"14.00\">b :&#45; not a.</text>\n</g>\n<!-- b&#45;&#45;r6 -->\n<g id=\"edge10\" class=\"edge\">\n<title>b&#45;&#45;r6</title>\n<path fill=\"none\" stroke=\"black\" d=\"M139,-215.7C139,-207.98 139,-198.71 139,-190.11\"/>\n<polygon fill=\"black\" stroke=\"black\" points=\"142.5,-190.1 139,-180.1 135.5,-190.1 142.5,-190.1\"/>\n</g>\n<!-- f -->\n<g id=\"node7\" class=\"node\">\n<title>f</title>\n<ellipse fill=\"none\" stroke=\"black\" cx=\"189\" cy=\"-666\" rx=\"27\" ry=\"18\"/>\n<text text-anchor=\"middle\" x=\"189\" y=\"-662.3\" font-family=\"fira-sans\" font-size=\"14.00\">f</text>\n</g>\n<!-- f&#45;&#45;r7 -->\n<g id=\"edge6\" class=\"edge\">\n<title>f&#45;&#45;r7</title>\n<path fill=\"none\" stroke=\"black\" d=\"M189,-647.7C189,-639.98 189,-630.71 189,-622.11\"/>\n<polygon fill=\"black\" stroke=\"black\" points=\"192.5,-622.1 189,-612.1 185.5,-622.1 192.5,-622.1\"/>\n</g>\n<!-- d7 -->\n<g id=\"node8\" class=\"node\">\n<title>d7</title>\n<polygon fill=\"none\" stroke=\"black\" points=\"178,-324 100,-324 100,-288 178,-288 178,-324\"/>\n<text text-anchor=\"middle\" x=\"139\" y=\"-302.3\" font-family=\"fira-sans\" font-size=\"14.00\">not k :&#45; b.</text>\n</g>\n<!-- d7&#45;&#45;b -->\n<g id=\"edge7\" class=\"edge\">\n<title>d7&#45;&#45;b</title>\n<path fill=\"none\" stroke=\"black\" d=\"M139,-287.7C139,-279.98 139,-270.71 139,-262.11\"/>\n<polygon fill=\"black\" stroke=\"black\" points=\"142.5,-262.1 139,-252.1 135.5,-262.1 142.5,-262.1\"/>\n</g>\n<!-- &#45;k&#45;&#45;d7 -->\n<g id=\"edge4\" class=\"edge\">\n<title>&#45;k&#45;&#45;d7</title>\n<path fill=\"none\" stroke=\"black\" d=\"M139,-359.7C139,-351.98 139,-342.71 139,-334.11\"/>\n<polygon fill=\"black\" stroke=\"black\" points=\"142.5,-334.1 139,-324.1 135.5,-334.1 142.5,-334.1\"/>\n</g>\n<!-- &#45;a&#45;&#45;d1 -->\n<g id=\"edge11\" class=\"edge\">\n<title>&#45;a&#45;&#45;d1</title>\n<path fill=\"none\" stroke=\"black\" d=\"M105,-71.7C105,-63.98 105,-54.71 105,-46.11\"/>\n<polygon fill=\"black\" stroke=\"black\" points=\"108.5,-46.1 105,-36.1 101.5,-46.1 108.5,-46.1\"/>\n</g>\n<!-- r6&#45;&#45;&#45;a -->\n<g id=\"edge5\" class=\"edge\">\n<title>r6&#45;&#45;&#45;a</title>\n<path fill=\"none\" stroke=\"black\" d=\"M130.6,-143.7C126.67,-135.61 121.91,-125.81 117.56,-116.87\"/>\n<polygon fill=\"black\" stroke=\"black\" points=\"120.59,-115.09 113.07,-107.62 114.29,-118.15 120.59,-115.09\"/>\n</g>\n</g>\n</svg>\n",
      "text/plain": "<graphviz.graphs.Graph at 0x7fb52f4ddbd0>"
     },
     "execution_count": 15,
     "metadata": {},
     "output_type": "execute_result"
    }
   ],
   "source": [
    "exp_2_graph = draw_graph([exp_2_dual_graph_str, nf_primal_graph_str, graph_encoding])['default']\n",
    "exp_2_graph"
   ]
  }
 ],
 "metadata": {
  "kernelspec": {
   "display_name": "Python 3 (ipykernel)",
   "language": "python",
   "name": "python3"
  },
  "language_info": {
   "codemirror_mode": {
    "name": "ipython",
    "version": 3
   },
   "file_extension": ".py",
   "mimetype": "text/x-python",
   "name": "python",
   "nbconvert_exporter": "python",
   "pygments_lexer": "ipython3",
   "version": "3.10.2"
  }
 },
 "nbformat": 4,
 "nbformat_minor": 1
}