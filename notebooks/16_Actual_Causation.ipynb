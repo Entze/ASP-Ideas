{
 "cells": [
  {
   "cell_type": "code",
   "execution_count": 36,
   "metadata": {
    "collapsed": true
   },
   "outputs": [],
   "source": [
    "import sys\n",
    "\n",
    "sys.path.append(\"..\")"
   ]
  },
  {
   "cell_type": "code",
   "execution_count": 37,
   "outputs": [],
   "source": [
    "from util.run import solve,explain\n",
    "from util.display import display_explanation_graph\n",
    "from util.literal import Literal\n",
    "import clingo"
   ],
   "metadata": {
    "collapsed": false,
    "pycharm": {
     "name": "#%%\n"
    }
   }
  },
  {
   "cell_type": "code",
   "execution_count": 38,
   "outputs": [
    {
     "name": "stdout",
     "output_type": "stream",
     "text": [
      "Answer  1: { dead_turkey load_gun loaded_gun pull_trigger shoot_turkey }.\n",
      "SAT 1 \n"
     ]
    }
   ],
   "source": [
    "yale_shooting_problem = \"\"\"\n",
    "\n",
    "load_gun.\n",
    "pull_trigger.\n",
    "\n",
    "loaded_gun :- load_gun.\n",
    "shoot_turkey :- loaded_gun, pull_trigger.\n",
    "dead_turkey :- shoot_turkey.\n",
    "\n",
    "\"\"\"\n",
    "\n",
    "answer_sets, _ = solve(yale_shooting_problem)\n",
    "answer_set = answer_sets[0]"
   ],
   "metadata": {
    "collapsed": false,
    "pycharm": {
     "name": "#%%\n"
    }
   }
  },
  {
   "cell_type": "code",
   "execution_count": 39,
   "outputs": [],
   "source": [
    "explanation_graph, = explain(yale_shooting_problem, answer_set=answer_set, cautious_consequence=answer_set, root=Literal.literal_from_string(\"dead_turkey\"))\n"
   ],
   "metadata": {
    "collapsed": false,
    "pycharm": {
     "name": "#%%\n"
    }
   }
  },
  {
   "cell_type": "code",
   "execution_count": 40,
   "outputs": [
    {
     "data": {
      "text/plain": "<Figure size 432x288 with 1 Axes>",
      "image/png": "[encoded data removed]"
     },
     "metadata": {},
     "output_type": "display_data"
    }
   ],
   "source": [
    "display_explanation_graph(explanation_graph)"
   ],
   "metadata": {
    "collapsed": false,
    "pycharm": {
     "name": "#%%\n"
    }
   }
  },
  {
   "cell_type": "code",
   "execution_count": 41,
   "outputs": [
    {
     "name": "stdout",
     "output_type": "stream",
     "text": [
      "Answer  1: { agent(suzie) event(dead_turkey) event(loaded_gun) event(shoot_turkey) time(1) time(2) time(3) time(4) time(5) event_happensAt(dead_turkey,4) event_happensAt(dead_turkey,5) event_happensAt(loaded_gun,2) event_happensAt(shoot_turkey,3) agent_does_at(suzie,load_gun,1) agent_does_at(suzie,pull_trigger,2) }.\n",
      "SAT 1 \n"
     ]
    }
   ],
   "source": [
    "yale_shooting_problem_with_agents_and_events = \"\"\"\n",
    "\n",
    "time(1..5).\n",
    "\n",
    "agent(suzie).\n",
    "event(loaded_gun).\n",
    "event(shoot_turkey).\n",
    "event(dead_turkey).\n",
    "\n",
    "agent_does_at(suzie, load_gun, 1).\n",
    "agent_does_at(suzie, pull_trigger, 2).\n",
    "\n",
    "event_happensAt(loaded_gun, T+1) :- time(T+1), agent(Agent), event_happensAt(loaded_gun, T), not agent_does_at(Agent, pull_trigger, T).\n",
    "event_happensAt(loaded_gun, T+1) :- agent_does_at(Agent, load_gun, T).\n",
    "\n",
    "event_happensAt(shoot_turkey, T+1) :- agent_does_at(Agent, pull_trigger, T), event_happensAt(loaded_gun, T).\n",
    "\n",
    "event_happensAt(dead_turkey, T+1) :- time(T+1), event_happensAt(shoot_turkey, T).\n",
    "event_happensAt(dead_turkey, T+1) :- time(T+1), event_happensAt(dead_turkey, T).\n",
    "\n",
    "\"\"\"\n",
    "\n",
    "answer_sets,_ = solve(yale_shooting_problem_with_agents_and_events)\n",
    "answer_set = answer_sets[0]"
   ],
   "metadata": {
    "collapsed": false,
    "pycharm": {
     "name": "#%%\n"
    }
   }
  },
  {
   "cell_type": "code",
   "execution_count": 42,
   "outputs": [],
   "source": [
    "#explanation_graph, = explain(yale_shooting_problem, answer_set=answer_set, cautious_consequence=answer_set,\n",
    "#                             root=Literal.literal_from_symbol(clingo.Function(\"event_happensAt\", [clingo.Function(\"dead_turkey\", [],), clingo.Number(5)])))"
   ],
   "metadata": {
    "collapsed": false,
    "pycharm": {
     "name": "#%%\n"
    }
   }
  },
  {
   "cell_type": "code",
   "execution_count": 43,
   "outputs": [],
   "source": [
    "#display_explanation_graph(explanation_graph)"
   ],
   "metadata": {
    "collapsed": false,
    "pycharm": {
     "name": "#%%\n"
    }
   }
  },
  {
   "cell_type": "code",
   "execution_count": 44,
   "outputs": [
    {
     "name": "stdout",
     "output_type": "stream",
     "text": [
      "Answer  1: { action(load_gun) action(pull_trigger) action(transfersMagTo(suzie)) action(transfersMagTo(tommy)) agent(suzie) agent(tommy) event(dead_turkey) event(loaded_gun) event(shoot_turkey) event(agentHasMagazine(suzie)) event(agentHasMagazine(tommy)) time(1) time(2) time(3) time(4) time(5) time(6) time(7) event_happensAt(dead_turkey,6) event_happensAt(dead_turkey,7) event_happensAt(loaded_gun,4) event_happensAt(loaded_gun,5) event_happensAt(loaded_gun,6) event_happensAt(loaded_gun,7) event_happensAt(shoot_turkey,5) event_happensAt(agentHasMagazine(suzie),3) event_happensAt(agentHasMagazine(tommy),1) event_happensAt(agentHasMagazine(tommy),2) agent_does_at(suzie,load_gun,3) agent_does_at(suzie,pull_trigger,4) agent_does_at(tommy,transfersMagTo(suzie),2) }.\n",
      "SAT 1 \n"
     ]
    }
   ],
   "source": [
    "yale_shooting_problem_with_multiagents_and_events = \"\"\"\n",
    "\n",
    "time(1..7).\n",
    "\n",
    "agent(suzie).\n",
    "agent(tommy).\n",
    "\n",
    "action(load_gun).\n",
    "action(pull_trigger).\n",
    "action(transfersMagTo(Agent)) :- agent(Agent).\n",
    "\n",
    "event(agentHasMagazine(Agent)) :- agent(Agent).\n",
    "event(loaded_gun).\n",
    "event(shoot_turkey).\n",
    "event(dead_turkey).\n",
    "\n",
    "event_happensAt(agentHasMagazine(tommy), 1).\n",
    "agent_does_at(tommy, transfersMagTo(suzie), 2).\n",
    "agent_does_at(suzie, load_gun, 3).\n",
    "agent_does_at(suzie, pull_trigger, 4).\n",
    "\n",
    "event_happensAt(agentHasMagazine(Agent), T+1) :-\n",
    "  agent(Receive), time(T+1), Receive != Agent,\n",
    "  event_happensAt(agentHasMagazine(Agent), T),\n",
    "  not agent_does_at(Agent, transfersMagTo(Receive), T),\n",
    "  not agent_does_at(Agent, load_gun, T).\n",
    "event_happensAt(agentHasMagazine(Receive), T+1) :-\n",
    "  time(T+1),\n",
    "  event_happensAt(agentHasMagazine(Give), T),\n",
    "  agent_does_at(Give, transfersMagTo(Receive), T).\n",
    "\n",
    "event_happensAt(loaded_gun, T+1) :-\n",
    "  time(T+1), agent(Agent),\n",
    "  event_happensAt(loaded_gun, T), not agent_does_at(Agent, pull_trigger, T).\n",
    "event_happensAt(loaded_gun, T+1) :- agent_does_at(Agent, load_gun, T), event_happensAt(agentHasMagazine(Agent), T).\n",
    "\n",
    "event_happensAt(shoot_turkey, T+1) :- agent_does_at(Agent, pull_trigger, T), event_happensAt(loaded_gun, T).\n",
    "\n",
    "event_happensAt(dead_turkey, T+1) :- time(T+1), event_happensAt(shoot_turkey, T).\n",
    "event_happensAt(dead_turkey, T+1) :- time(T+1), event_happensAt(dead_turkey, T).\n",
    "\n",
    "\"\"\"\n",
    "\n",
    "answer_sets,_ = solve(yale_shooting_problem_with_multiagents_and_events)\n",
    "answer_set = answer_sets[0]"
   ],
   "metadata": {
    "collapsed": false,
    "pycharm": {
     "name": "#%%\n"
    }
   }
  },
  {
   "cell_type": "code",
   "execution_count": 45,
   "outputs": [],
   "source": [
    "#explanation_graph, = explain(yale_shooting_problem_with_multiagents_and_events, answer_set=answer_set, cautious_consequence=answer_set,\n",
    "#                             root=Literal.literal_from_symbol(clingo.Function(\"event_happensAt\", [clingo.Function(\"dead_turkey\"), clingo.Number(7)])))"
   ],
   "metadata": {
    "collapsed": false,
    "pycharm": {
     "name": "#%%\n"
    }
   }
  },
  {
   "cell_type": "code",
   "execution_count": 46,
   "outputs": [],
   "source": [
    "#display_explanation_graph(explanation_graph)"
   ],
   "metadata": {
    "collapsed": false,
    "pycharm": {
     "name": "#%%\n"
    }
   }
  },
  {
   "cell_type": "code",
   "execution_count": 47,
   "outputs": [
    {
     "name": "stdout",
     "output_type": "stream",
     "text": [
      "Answer  1: {\n",
      "event(e1)\n",
      "event(e2)\n",
      "event(e3)\n",
      "fluent(a)\n",
      "fluent(b)\n",
      "fluent(c)\n",
      "fluent(d)\n",
      "fluent(e)\n",
      "fluent(f)\n",
      "time(1)\n",
      "time(2)\n",
      "time(3)\n",
      "time(4)\n",
      "fluent_if(b,c)\n",
      "impossible_if(e1,a)\n",
      "impossible_if(e3,neg(e))\n",
      "impossible_if(e3,neg(f))\n",
      "obs_at(a,4)\n",
      "obs_at(b,4)\n",
      "obs_at(c,4)\n",
      "obs_at(d,3)\n",
      "obs_at(d,4)\n",
      "obs_at(e,2)\n",
      "obs_at(e,3)\n",
      "obs_at(e,4)\n",
      "obs_at(f,1)\n",
      "obs_at(f,2)\n",
      "obs_at(f,3)\n",
      "obs_at(f,4)\n",
      "occ_at(e1,1)\n",
      "occ_at(e2,2)\n",
      "occ_at(e3,3)\n",
      "event_causes_if(e1,e,neg(e))\n",
      "event_causes_if(e2,d,neg(d))\n",
      "event_causes_if(e3,a,neg(a))\n",
      "event_causes_if(e3,c,neg(c))\n",
      "}.\n",
      "SAT 1 \n"
     ]
    }
   ],
   "source": [
    "scenario = \"\"\"\n",
    "\n",
    "time(1).\n",
    "time(2).\n",
    "time(3).\n",
    "time(4).\n",
    "event(e1).\n",
    "event(e2).\n",
    "event(e3).\n",
    "fluent(a).\n",
    "fluent(b).\n",
    "fluent(c).\n",
    "fluent(d).\n",
    "fluent(e).\n",
    "fluent(f).\n",
    "\n",
    "obs_at(f, 1).\n",
    "occ_at(e1, 1).\n",
    "occ_at(e2, 2).\n",
    "occ_at(e3, 3).\n",
    "\n",
    "impossible_if(e1, a).             % law  5\n",
    "event_causes_if(e1, e, neg(e)).   % law  6\n",
    "event_causes_if(e2, d, neg(d)).   % law  7\n",
    "event_causes_if(e3, a, neg(a)).   % law  8\n",
    "event_causes_if(e3, c, neg(c)).   % law  9\n",
    "impossible_if(e3, neg(e)).        % law 10\n",
    "impossible_if(e3, neg(f)).        % law 11\n",
    "fluent_if(b, c).                  % law 12\n",
    "\n",
    "%:- impossible_if(E, F), obs_at(F, T), occ_at(E, T), event(E), fluent(F), time(T).\n",
    "%:- impossible_if(E, neg(F)), not obs_at(F, T), occ_at(E, T), event(E), fluent(F), time(T).\n",
    "\n",
    "obs_at(F, T+1) :-\n",
    "  obs_at(F, T),\n",
    "  not event_causes_if(E1, neg(F), I1),\n",
    "  not event_causes_if(E2, neg(F), neg(I2)),\n",
    "  not fluent_if(neg(F), F1),\n",
    "  not fluent_if(neg(F), neg(F2)),\n",
    "  event(E1),event(E2),\n",
    "  fluent(I1), fluent(I2), fluent(F), fluent(F1), fluent(F2),\n",
    "  time(T), time(T+1).\n",
    "\n",
    "obs_at(F, T+1) :-\n",
    "  event_causes_if(E, F, I),\n",
    "  occ_at(E, T),\n",
    "  obs_at(I, T),\n",
    "  event(E),\n",
    "  fluent(F), fluent(I),\n",
    "  time(T), time(T+1).\n",
    "\n",
    "obs_at(F, T+1) :-\n",
    "  occ_at(E, T),\n",
    "  event_causes_if(E, F, neg(I)),\n",
    "  not obs_at(I, T),\n",
    "  event(E),\n",
    "  fluent(F), fluent(I),\n",
    "  time(T), time(T+1).\n",
    "\n",
    "obs_at(F, T) :-\n",
    "  fluent_if(F, I),\n",
    "  obs_at(I, T),\n",
    "  fluent(F), fluent(I),\n",
    "  time(T).\n",
    "\n",
    "obs_at(F, T) :-\n",
    "  fluent_if(F, neg(I)),\n",
    "  not obs_at(I, T),\n",
    "  fluent(F), fluent(I),\n",
    "  time(T).\n",
    "\n",
    "\"\"\"\n",
    "\n",
    "answer_sets,_ = solve(scenario, sep='\\n');\n",
    "answer_set = answer_sets[0]"
   ],
   "metadata": {
    "collapsed": false,
    "pycharm": {
     "name": "#%%\n"
    }
   }
  },
  {
   "cell_type": "code",
   "execution_count": 48,
   "outputs": [],
   "source": [
    "explanation_graph, = explain(scenario, answer_set=answer_set, cautious_consequence=answer_set, root=Literal.literal_from_symbol(clingo.Function(\"obs_at\", [clingo.Function(\"a\"), clingo.Number(4)])))"
   ],
   "metadata": {
    "collapsed": false,
    "pycharm": {
     "name": "#%%\n"
    }
   }
  },
  {
   "cell_type": "code",
   "execution_count": 49,
   "outputs": [
    {
     "ename": "AttributeError",
     "evalue": "'NoneType' object has no attribute 'is_directed'",
     "output_type": "error",
     "traceback": [
      "\u001B[0;31m---------------------------------------------------------------------------\u001B[0m",
      "\u001B[0;31mAttributeError\u001B[0m                            Traceback (most recent call last)",
      "Input \u001B[0;32mIn [49]\u001B[0m, in \u001B[0;36m<module>\u001B[0;34m\u001B[0m\n\u001B[0;32m----> 1\u001B[0m \u001B[43mdisplay_explanation_graph\u001B[49m\u001B[43m(\u001B[49m\u001B[43mexplanation_graph\u001B[49m\u001B[43m)\u001B[49m\n",
      "File \u001B[0;32m~/Dev/ASP/Basics/util/display.py:45\u001B[0m, in \u001B[0;36mdisplay_explanation_graph\u001B[0;34m(graph, root)\u001B[0m\n\u001B[1;32m     43\u001B[0m \u001B[38;5;28;01mdef\u001B[39;00m \u001B[38;5;21mdisplay_explanation_graph\u001B[39m(graph: nx\u001B[38;5;241m.\u001B[39mDiGraph, root\u001B[38;5;241m=\u001B[39m\u001B[38;5;28;01mNone\u001B[39;00m):\n\u001B[1;32m     44\u001B[0m     \u001B[38;5;66;03m# p = plt.figure()\u001B[39;00m\n\u001B[0;32m---> 45\u001B[0m     pos \u001B[38;5;241m=\u001B[39m \u001B[43mnx\u001B[49m\u001B[38;5;241;43m.\u001B[39;49m\u001B[43mnx_pydot\u001B[49m\u001B[38;5;241;43m.\u001B[39;49m\u001B[43mpydot_layout\u001B[49m\u001B[43m(\u001B[49m\u001B[43mgraph\u001B[49m\u001B[43m,\u001B[49m\u001B[43m \u001B[49m\u001B[38;5;124;43m'\u001B[39;49m\u001B[38;5;124;43mdot\u001B[39;49m\u001B[38;5;124;43m'\u001B[39;49m\u001B[43m,\u001B[49m\u001B[43m \u001B[49m\u001B[43mroot\u001B[49m\u001B[43m)\u001B[49m\n\u001B[1;32m     46\u001B[0m     \u001B[38;5;66;03m# nodes = nx.draw_networkx_nodes(graph, pos=pos)\u001B[39;00m\n\u001B[1;32m     47\u001B[0m     \u001B[38;5;66;03m# es = graph.edges(data=True)\u001B[39;00m\n\u001B[1;32m     48\u001B[0m     \u001B[38;5;66;03m# styles = [_edge_type_map.get(data['edge_type'], 'solid') for u, v, data in es]\u001B[39;00m\n\u001B[1;32m     49\u001B[0m     \u001B[38;5;66;03m# edges = nx.draw_networkx_edges(graph, pos=pos, style=styles)\u001B[39;00m\n\u001B[1;32m     50\u001B[0m     \u001B[38;5;66;03m# return p\u001B[39;00m\n\u001B[1;32m     51\u001B[0m     \u001B[38;5;28;01mreturn\u001B[39;00m nx\u001B[38;5;241m.\u001B[39mdraw_networkx(graph, pos, with_labels\u001B[38;5;241m=\u001B[39m\u001B[38;5;28;01mTrue\u001B[39;00m)\n",
      "File \u001B[0;32m~/.local/share/miniconda/envs/asp-ideas/lib/python3.10/site-packages/networkx/drawing/nx_pydot.py:306\u001B[0m, in \u001B[0;36mpydot_layout\u001B[0;34m(G, prog, root)\u001B[0m\n\u001B[1;32m    267\u001B[0m \u001B[38;5;124;03m\"\"\"Create node positions using :mod:`pydot` and Graphviz.\u001B[39;00m\n\u001B[1;32m    268\u001B[0m \n\u001B[1;32m    269\u001B[0m \u001B[38;5;124;03mParameters\u001B[39;00m\n\u001B[0;32m   (...)\u001B[0m\n\u001B[1;32m    302\u001B[0m \n\u001B[1;32m    303\u001B[0m \u001B[38;5;124;03m\"\"\"\u001B[39;00m\n\u001B[1;32m    304\u001B[0m \u001B[38;5;28;01mimport\u001B[39;00m \u001B[38;5;21;01mpydot\u001B[39;00m\n\u001B[0;32m--> 306\u001B[0m P \u001B[38;5;241m=\u001B[39m \u001B[43mto_pydot\u001B[49m\u001B[43m(\u001B[49m\u001B[43mG\u001B[49m\u001B[43m)\u001B[49m\n\u001B[1;32m    307\u001B[0m \u001B[38;5;28;01mif\u001B[39;00m root \u001B[38;5;129;01mis\u001B[39;00m \u001B[38;5;129;01mnot\u001B[39;00m \u001B[38;5;28;01mNone\u001B[39;00m:\n\u001B[1;32m    308\u001B[0m     P\u001B[38;5;241m.\u001B[39mset(\u001B[38;5;124m\"\u001B[39m\u001B[38;5;124mroot\u001B[39m\u001B[38;5;124m\"\u001B[39m, \u001B[38;5;28mstr\u001B[39m(root))\n",
      "File \u001B[0;32m~/.local/share/miniconda/envs/asp-ideas/lib/python3.10/site-packages/networkx/drawing/nx_pydot.py:191\u001B[0m, in \u001B[0;36mto_pydot\u001B[0;34m(N)\u001B[0m\n\u001B[1;32m    188\u001B[0m \u001B[38;5;28;01mimport\u001B[39;00m \u001B[38;5;21;01mpydot\u001B[39;00m\n\u001B[1;32m    190\u001B[0m \u001B[38;5;66;03m# set Graphviz graph type\u001B[39;00m\n\u001B[0;32m--> 191\u001B[0m \u001B[38;5;28;01mif\u001B[39;00m \u001B[43mN\u001B[49m\u001B[38;5;241;43m.\u001B[39;49m\u001B[43mis_directed\u001B[49m():\n\u001B[1;32m    192\u001B[0m     graph_type \u001B[38;5;241m=\u001B[39m \u001B[38;5;124m\"\u001B[39m\u001B[38;5;124mdigraph\u001B[39m\u001B[38;5;124m\"\u001B[39m\n\u001B[1;32m    193\u001B[0m \u001B[38;5;28;01melse\u001B[39;00m:\n",
      "\u001B[0;31mAttributeError\u001B[0m: 'NoneType' object has no attribute 'is_directed'"
     ]
    }
   ],
   "source": [
    "display_explanation_graph(explanation_graph)"
   ],
   "metadata": {
    "collapsed": false,
    "pycharm": {
     "name": "#%%\n"
    }
   }
  },
  {
   "cell_type": "code",
   "execution_count": null,
   "outputs": [],
   "source": [],
   "metadata": {
    "collapsed": false,
    "pycharm": {
     "name": "#%%\n"
    }
   }
  }
 ],
 "metadata": {
  "kernelspec": {
   "display_name": "Python 3",
   "language": "python",
   "name": "python3"
  },
  "language_info": {
   "codemirror_mode": {
    "name": "ipython",
    "version": 2
   },
   "file_extension": ".py",
   "mimetype": "text/x-python",
   "name": "python",
   "nbconvert_exporter": "python",
   "pygments_lexer": "ipython2",
   "version": "2.7.6"
  }
 },
 "nbformat": 4,
 "nbformat_minor": 0
}