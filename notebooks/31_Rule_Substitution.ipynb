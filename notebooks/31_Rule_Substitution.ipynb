{
 "cells": [
  {
   "cell_type": "code",
   "execution_count": 146,
   "metadata": {
    "collapsed": true
   },
   "outputs": [],
   "source": [
    "from typing import Dict, Optional, Tuple, Union, Callable\n",
    "\n",
    "import clingo\n",
    "import clingo.ast\n",
    "from clingo.ast import ProgramBuilder"
   ]
  },
  {
   "cell_type": "code",
   "execution_count": 147,
   "outputs": [],
   "source": [
    "program = \"\"\"\n",
    "\n",
    "head1(X,Y,Z) :- body1(X), body2(Y), body3(Z).\n",
    "\n",
    "head2(X) :- body1(X), body2(X-1).\n",
    "\n",
    "head3(X) :- body4(X).\n",
    "\n",
    "\"\"\""
   ],
   "metadata": {
    "collapsed": false,
    "pycharm": {
     "name": "#%%\n"
    }
   }
  },
  {
   "cell_type": "code",
   "execution_count": 148,
   "outputs": [],
   "source": [
    "def get_parsed_program(program: str):\n",
    "    nodes = []\n",
    "    clingo.ast.parse_string(program, lambda stm: nodes.append(stm))\n",
    "    return nodes"
   ],
   "metadata": {
    "collapsed": false,
    "pycharm": {
     "name": "#%%\n"
    }
   }
  },
  {
   "cell_type": "code",
   "execution_count": 149,
   "outputs": [
    {
     "data": {
      "text/plain": "[ast.Program(Location(begin=Position(filename='<string>', line=1, column=1), end=Position(filename='<string>', line=1, column=1)), 'base', []),\n ast.Rule(Location(begin=Position(filename='<string>', line=3, column=1), end=Position(filename='<string>', line=3, column=46)), ast.Literal(Location(begin=Position(filename='<string>', line=3, column=1), end=Position(filename='<string>', line=3, column=13)), 0, ast.SymbolicAtom(ast.Function(Location(begin=Position(filename='<string>', line=3, column=1), end=Position(filename='<string>', line=3, column=13)), 'head1', [ast.Variable(Location(begin=Position(filename='<string>', line=3, column=7), end=Position(filename='<string>', line=3, column=8)), 'X'), ast.Variable(Location(begin=Position(filename='<string>', line=3, column=9), end=Position(filename='<string>', line=3, column=10)), 'Y'), ast.Variable(Location(begin=Position(filename='<string>', line=3, column=11), end=Position(filename='<string>', line=3, column=12)), 'Z')], 0))), [ast.Literal(Location(begin=Position(filename='<string>', line=3, column=17), end=Position(filename='<string>', line=3, column=25)), 0, ast.SymbolicAtom(ast.Function(Location(begin=Position(filename='<string>', line=3, column=17), end=Position(filename='<string>', line=3, column=25)), 'body1', [ast.Variable(Location(begin=Position(filename='<string>', line=3, column=23), end=Position(filename='<string>', line=3, column=24)), 'X')], 0))), ast.Literal(Location(begin=Position(filename='<string>', line=3, column=27), end=Position(filename='<string>', line=3, column=35)), 0, ast.SymbolicAtom(ast.Function(Location(begin=Position(filename='<string>', line=3, column=27), end=Position(filename='<string>', line=3, column=35)), 'body2', [ast.Variable(Location(begin=Position(filename='<string>', line=3, column=33), end=Position(filename='<string>', line=3, column=34)), 'Y')], 0))), ast.Literal(Location(begin=Position(filename='<string>', line=3, column=37), end=Position(filename='<string>', line=3, column=45)), 0, ast.SymbolicAtom(ast.Function(Location(begin=Position(filename='<string>', line=3, column=37), end=Position(filename='<string>', line=3, column=45)), 'body3', [ast.Variable(Location(begin=Position(filename='<string>', line=3, column=43), end=Position(filename='<string>', line=3, column=44)), 'Z')], 0)))]),\n ast.Rule(Location(begin=Position(filename='<string>', line=5, column=1), end=Position(filename='<string>', line=5, column=34)), ast.Literal(Location(begin=Position(filename='<string>', line=5, column=1), end=Position(filename='<string>', line=5, column=9)), 0, ast.SymbolicAtom(ast.Function(Location(begin=Position(filename='<string>', line=5, column=1), end=Position(filename='<string>', line=5, column=9)), 'head2', [ast.Variable(Location(begin=Position(filename='<string>', line=5, column=7), end=Position(filename='<string>', line=5, column=8)), 'X')], 0))), [ast.Literal(Location(begin=Position(filename='<string>', line=5, column=13), end=Position(filename='<string>', line=5, column=21)), 0, ast.SymbolicAtom(ast.Function(Location(begin=Position(filename='<string>', line=5, column=13), end=Position(filename='<string>', line=5, column=21)), 'body1', [ast.Variable(Location(begin=Position(filename='<string>', line=5, column=19), end=Position(filename='<string>', line=5, column=20)), 'X')], 0))), ast.Literal(Location(begin=Position(filename='<string>', line=5, column=23), end=Position(filename='<string>', line=5, column=33)), 0, ast.SymbolicAtom(ast.Function(Location(begin=Position(filename='<string>', line=5, column=23), end=Position(filename='<string>', line=5, column=33)), 'body2', [ast.BinaryOperation(Location(begin=Position(filename='<string>', line=5, column=29), end=Position(filename='<string>', line=5, column=32)), 4, ast.Variable(Location(begin=Position(filename='<string>', line=5, column=29), end=Position(filename='<string>', line=5, column=30)), 'X'), ast.SymbolicTerm(Location(begin=Position(filename='<string>', line=5, column=31), end=Position(filename='<string>', line=5, column=32)), Number(1)))], 0)))]),\n ast.Rule(Location(begin=Position(filename='<string>', line=7, column=1), end=Position(filename='<string>', line=7, column=22)), ast.Literal(Location(begin=Position(filename='<string>', line=7, column=1), end=Position(filename='<string>', line=7, column=9)), 0, ast.SymbolicAtom(ast.Function(Location(begin=Position(filename='<string>', line=7, column=1), end=Position(filename='<string>', line=7, column=9)), 'head3', [ast.Variable(Location(begin=Position(filename='<string>', line=7, column=7), end=Position(filename='<string>', line=7, column=8)), 'X')], 0))), [ast.Literal(Location(begin=Position(filename='<string>', line=7, column=13), end=Position(filename='<string>', line=7, column=21)), 0, ast.SymbolicAtom(ast.Function(Location(begin=Position(filename='<string>', line=7, column=13), end=Position(filename='<string>', line=7, column=21)), 'body4', [ast.Variable(Location(begin=Position(filename='<string>', line=7, column=19), end=Position(filename='<string>', line=7, column=20)), 'X')], 0)))])]"
     },
     "execution_count": 149,
     "metadata": {},
     "output_type": "execute_result"
    }
   ],
   "source": [
    "nodes = get_parsed_program(program)\n",
    "nodes"
   ],
   "metadata": {
    "collapsed": false,
    "pycharm": {
     "name": "#%%\n"
    }
   }
  },
  {
   "cell_type": "code",
   "execution_count": 150,
   "outputs": [],
   "source": [
    "pos = clingo.ast.Position('<string>', 0, 0)\n",
    "loc = clingo.ast.Location(pos, pos)"
   ],
   "metadata": {
    "collapsed": false,
    "pycharm": {
     "name": "#%%\n"
    }
   }
  },
  {
   "cell_type": "code",
   "execution_count": 151,
   "outputs": [],
   "source": [
    "Substitute = Union[clingo.ast.AST, Callable[[clingo.ast.AST], clingo.ast.AST], str, clingo.Symbol]\n",
    "\n",
    "\n",
    "def substitute(node: clingo.ast.AST, sub: Substitute):\n",
    "    if isinstance(sub, clingo.ast.AST):\n",
    "        print('Substituting with AST')\n",
    "        return sub\n",
    "    elif callable(sub):\n",
    "        print('Substituting with call')\n",
    "        return sub(node)\n",
    "    elif isinstance(sub, str):\n",
    "        if node.ast_type is clingo.ast.ASTType.Variable:\n",
    "            print('Substituting with new variable')\n",
    "            return clingo.ast.Variable(loc, sub)\n",
    "        elif node.ast_type is clingo.ast.ASTType.Function:\n",
    "            print('Substituting with new function')\n",
    "            return clingo.ast.Function(loc, sub, node.arguments, node.external)\n",
    "    else:\n",
    "        assert isinstance(sub, clingo.Symbol)\n",
    "        print('Substituting with new term')\n",
    "        return clingo.ast.SymbolicTerm(loc, sub)\n",
    "\n",
    "\n",
    "class SubstitutionTransformer(clingo.ast.Transformer):\n",
    "\n",
    "    def __init__(self,\n",
    "                 var_env: Optional[Dict[str, Substitute]] = None,\n",
    "                 func_env: Optional[Dict[Tuple[str, int], Substitute]] = None,\n",
    "                 symbol_env: Optional[Dict[clingo.Symbol, Substitute]] = None):\n",
    "        self.__var_env = var_env or {}\n",
    "        self.__func_env = func_env or {}\n",
    "        self.__symbol_env = symbol_env or {}\n",
    "\n",
    "    def visit_Variable(self, variable: clingo.ast.AST,\n",
    "                       var_env: Optional[Dict[str, Substitute]] = None,\n",
    "                       func_env: Optional[Dict[Tuple[str, int], Substitute]] = None,\n",
    "                       symbol_env: Optional[Dict[clingo.Symbol, Substitute]] = None):\n",
    "        _var_env = self.__var_env | (var_env or {})\n",
    "        print('Visiting', variable, variable.ast_type.name)\n",
    "        if variable.name in _var_env:\n",
    "            print('Substituting', variable.name, 'with', _var_env[variable.name])\n",
    "            return substitute(variable, _var_env[variable.name])\n",
    "        return variable\n",
    "\n",
    "    def visit_SymbolicTerm(self, term: clingo.ast.AST,\n",
    "                           var_env: Optional[Dict[str, Substitute]] = None,\n",
    "                           func_env: Optional[Dict[Tuple[str, int], Substitute]] = None,\n",
    "                           symbol_env: Optional[Dict[clingo.Symbol, Substitute]] = None):\n",
    "        _symbol_env = self.__symbol_env | (symbol_env or {})\n",
    "        if term in _symbol_env:\n",
    "            return substitute(term, _symbol_env[term.symbol])\n",
    "        return term\n",
    "\n",
    "    def visit_Function(self, function: clingo.ast.AST,\n",
    "                       var_env: Optional[Dict[str, Substitute]] = None,\n",
    "                       func_env: Optional[Dict[Tuple[str, int], Substitute]] = None,\n",
    "                       symbol_env: Optional[Dict[clingo.Symbol, Substitute]] = None):\n",
    "        print(function)\n",
    "        function = function.update(**self.visit_children(function, var_env=var_env, func_env=func_env, symbol_env=symbol_env))\n",
    "        print(function)\n",
    "        _func_env = self.__func_env | (func_env or {})\n",
    "        for func in _func_env:\n",
    "            name, arity = func\n",
    "            if function.name == name and len(function.arguments) == arity:\n",
    "                return substitute(function, _func_env[func])\n",
    "        return function\n",
    "\n"
   ],
   "metadata": {
    "collapsed": false,
    "pycharm": {
     "name": "#%%\n"
    }
   }
  },
  {
   "cell_type": "code",
   "execution_count": 152,
   "outputs": [],
   "source": [
    "st = SubstitutionTransformer()"
   ],
   "metadata": {
    "collapsed": false,
    "pycharm": {
     "name": "#%%\n"
    }
   }
  },
  {
   "cell_type": "code",
   "execution_count": 153,
   "outputs": [],
   "source": [
    "func_env = {\n",
    "    ('head1', 3): 'headA'\n",
    "}\n",
    "var_env = {\n",
    "    'X': 'A'\n",
    "}"
   ],
   "metadata": {
    "collapsed": false,
    "pycharm": {
     "name": "#%%\n"
    }
   }
  },
  {
   "cell_type": "code",
   "execution_count": 154,
   "outputs": [
    {
     "name": "stdout",
     "output_type": "stream",
     "text": [
      "head1(X,Y,Z)\n",
      "Visiting X Variable\n",
      "Substituting X with A\n",
      "Substituting with new variable\n",
      "Visiting Y Variable\n",
      "Visiting Z Variable\n",
      "head1(A,Y,Z)\n",
      "Substituting with new function\n",
      "body1(X)\n",
      "Visiting X Variable\n",
      "Substituting X with A\n",
      "Substituting with new variable\n",
      "body1(A)\n",
      "body2(Y)\n",
      "Visiting Y Variable\n",
      "body2(Y)\n",
      "body3(Z)\n",
      "Visiting Z Variable\n",
      "body3(Z)\n",
      "head2(X)\n",
      "Visiting X Variable\n",
      "Substituting X with A\n",
      "Substituting with new variable\n",
      "head2(A)\n",
      "body1(X)\n",
      "Visiting X Variable\n",
      "Substituting X with A\n",
      "Substituting with new variable\n",
      "body1(A)\n",
      "body2((X-1))\n",
      "Visiting X Variable\n",
      "Substituting X with A\n",
      "Substituting with new variable\n",
      "body2((A-1))\n",
      "head3(X)\n",
      "Visiting X Variable\n",
      "Substituting X with A\n",
      "Substituting with new variable\n",
      "head3(A)\n",
      "body4(X)\n",
      "Visiting X Variable\n",
      "Substituting X with A\n",
      "Substituting with new variable\n",
      "body4(A)\n"
     ]
    },
    {
     "data": {
      "text/plain": "[ast.Program(Location(begin=Position(filename='<string>', line=1, column=1), end=Position(filename='<string>', line=1, column=1)), 'base', []),\n ast.Rule(Location(begin=Position(filename='<string>', line=3, column=1), end=Position(filename='<string>', line=3, column=46)), ast.Literal(Location(begin=Position(filename='<string>', line=3, column=1), end=Position(filename='<string>', line=3, column=13)), 0, ast.SymbolicAtom(ast.Function(Location(begin=Position(filename='<string>', line=0, column=0), end=Position(filename='<string>', line=0, column=0)), 'headA', [ast.Variable(Location(begin=Position(filename='<string>', line=0, column=0), end=Position(filename='<string>', line=0, column=0)), 'A'), ast.Variable(Location(begin=Position(filename='<string>', line=3, column=9), end=Position(filename='<string>', line=3, column=10)), 'Y'), ast.Variable(Location(begin=Position(filename='<string>', line=3, column=11), end=Position(filename='<string>', line=3, column=12)), 'Z')], 0))), [ast.Literal(Location(begin=Position(filename='<string>', line=3, column=17), end=Position(filename='<string>', line=3, column=25)), 0, ast.SymbolicAtom(ast.Function(Location(begin=Position(filename='<string>', line=3, column=17), end=Position(filename='<string>', line=3, column=25)), 'body1', [ast.Variable(Location(begin=Position(filename='<string>', line=0, column=0), end=Position(filename='<string>', line=0, column=0)), 'A')], 0))), ast.Literal(Location(begin=Position(filename='<string>', line=3, column=27), end=Position(filename='<string>', line=3, column=35)), 0, ast.SymbolicAtom(ast.Function(Location(begin=Position(filename='<string>', line=3, column=27), end=Position(filename='<string>', line=3, column=35)), 'body2', [ast.Variable(Location(begin=Position(filename='<string>', line=3, column=33), end=Position(filename='<string>', line=3, column=34)), 'Y')], 0))), ast.Literal(Location(begin=Position(filename='<string>', line=3, column=37), end=Position(filename='<string>', line=3, column=45)), 0, ast.SymbolicAtom(ast.Function(Location(begin=Position(filename='<string>', line=3, column=37), end=Position(filename='<string>', line=3, column=45)), 'body3', [ast.Variable(Location(begin=Position(filename='<string>', line=3, column=43), end=Position(filename='<string>', line=3, column=44)), 'Z')], 0)))]),\n ast.Rule(Location(begin=Position(filename='<string>', line=5, column=1), end=Position(filename='<string>', line=5, column=34)), ast.Literal(Location(begin=Position(filename='<string>', line=5, column=1), end=Position(filename='<string>', line=5, column=9)), 0, ast.SymbolicAtom(ast.Function(Location(begin=Position(filename='<string>', line=5, column=1), end=Position(filename='<string>', line=5, column=9)), 'head2', [ast.Variable(Location(begin=Position(filename='<string>', line=0, column=0), end=Position(filename='<string>', line=0, column=0)), 'A')], 0))), [ast.Literal(Location(begin=Position(filename='<string>', line=5, column=13), end=Position(filename='<string>', line=5, column=21)), 0, ast.SymbolicAtom(ast.Function(Location(begin=Position(filename='<string>', line=5, column=13), end=Position(filename='<string>', line=5, column=21)), 'body1', [ast.Variable(Location(begin=Position(filename='<string>', line=0, column=0), end=Position(filename='<string>', line=0, column=0)), 'A')], 0))), ast.Literal(Location(begin=Position(filename='<string>', line=5, column=23), end=Position(filename='<string>', line=5, column=33)), 0, ast.SymbolicAtom(ast.Function(Location(begin=Position(filename='<string>', line=5, column=23), end=Position(filename='<string>', line=5, column=33)), 'body2', [ast.BinaryOperation(Location(begin=Position(filename='<string>', line=5, column=29), end=Position(filename='<string>', line=5, column=32)), 4, ast.Variable(Location(begin=Position(filename='<string>', line=0, column=0), end=Position(filename='<string>', line=0, column=0)), 'A'), ast.SymbolicTerm(Location(begin=Position(filename='<string>', line=5, column=31), end=Position(filename='<string>', line=5, column=32)), Number(1)))], 0)))]),\n ast.Rule(Location(begin=Position(filename='<string>', line=7, column=1), end=Position(filename='<string>', line=7, column=22)), ast.Literal(Location(begin=Position(filename='<string>', line=7, column=1), end=Position(filename='<string>', line=7, column=9)), 0, ast.SymbolicAtom(ast.Function(Location(begin=Position(filename='<string>', line=7, column=1), end=Position(filename='<string>', line=7, column=9)), 'head3', [ast.Variable(Location(begin=Position(filename='<string>', line=0, column=0), end=Position(filename='<string>', line=0, column=0)), 'A')], 0))), [ast.Literal(Location(begin=Position(filename='<string>', line=7, column=13), end=Position(filename='<string>', line=7, column=21)), 0, ast.SymbolicAtom(ast.Function(Location(begin=Position(filename='<string>', line=7, column=13), end=Position(filename='<string>', line=7, column=21)), 'body4', [ast.Variable(Location(begin=Position(filename='<string>', line=0, column=0), end=Position(filename='<string>', line=0, column=0)), 'A')], 0)))])]"
     },
     "execution_count": 154,
     "metadata": {},
     "output_type": "execute_result"
    }
   ],
   "source": [
    "nodes = []\n",
    "\n",
    "clingo.ast.parse_string(program, lambda stm: nodes.append(st.visit(stm, var_env=var_env, func_env=func_env)))\n",
    "nodes"
   ],
   "metadata": {
    "collapsed": false,
    "pycharm": {
     "name": "#%%\n"
    }
   }
  },
  {
   "cell_type": "code",
   "execution_count": 155,
   "outputs": [
    {
     "name": "stdout",
     "output_type": "stream",
     "text": [
      "#program base.\n",
      "headA(A,Y,Z) :- body1(A); body2(Y); body3(Z).\n",
      "head2(A) :- body1(A); body2((A-1)).\n",
      "head3(A) :- body4(A).\n"
     ]
    }
   ],
   "source": [
    "print('\\n'.join(map(str, nodes)))"
   ],
   "metadata": {
    "collapsed": false,
    "pycharm": {
     "name": "#%%\n"
    }
   }
  },
  {
   "cell_type": "code",
   "execution_count": 156,
   "outputs": [],
   "source": [
    "new_ctl = clingo.Control()\n",
    "new_ctl.configuration.solve.models = 0"
   ],
   "metadata": {
    "collapsed": false,
    "pycharm": {
     "name": "#%%\n"
    }
   }
  },
  {
   "cell_type": "code",
   "execution_count": 157,
   "outputs": [],
   "source": [
    "with ProgramBuilder(new_ctl) as pb:\n",
    "    for node in nodes:\n",
    "        pb.add(node)"
   ],
   "metadata": {
    "collapsed": false,
    "pycharm": {
     "name": "#%%\n"
    }
   }
  },
  {
   "cell_type": "code",
   "execution_count": 158,
   "outputs": [
    {
     "name": "stderr",
     "output_type": "stream",
     "text": [
      "<string>:3:17-25: info: atom does not occur in any rule head:\n",
      "  body1(A)\n",
      "\n",
      "<string>:3:27-35: info: atom does not occur in any rule head:\n",
      "  body2(Y)\n",
      "\n",
      "<string>:3:37-45: info: atom does not occur in any rule head:\n",
      "  body3(Z)\n",
      "\n",
      "<string>:5:13-21: info: atom does not occur in any rule head:\n",
      "  body1(A)\n",
      "\n",
      "<string>:5:23-33: info: atom does not occur in any rule head:\n",
      "  body2((A+-1))\n",
      "\n",
      "<string>:7:13-21: info: atom does not occur in any rule head:\n",
      "  body4(A)\n",
      "\n"
     ]
    }
   ],
   "source": [
    "new_ctl.ground([('base', [])])"
   ],
   "metadata": {
    "collapsed": false,
    "pycharm": {
     "name": "#%%\n"
    }
   }
  }
 ],
 "metadata": {
  "kernelspec": {
   "display_name": "Python 3",
   "language": "python",
   "name": "python3"
  },
  "language_info": {
   "codemirror_mode": {
    "name": "ipython",
    "version": 2
   },
   "file_extension": ".py",
   "mimetype": "text/x-python",
   "name": "python",
   "nbconvert_exporter": "python",
   "pygments_lexer": "ipython2",
   "version": "2.7.6"
  }
 },
 "nbformat": 4,
 "nbformat_minor": 0
}