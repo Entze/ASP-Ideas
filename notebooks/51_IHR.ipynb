{
 "cells": [
  {
   "cell_type": "code",
   "execution_count": 386,
   "metadata": {},
   "outputs": [],
   "source": [
    "from collections import defaultdict\n",
    "from copy import deepcopy\n",
    "from dataclasses import dataclass, field\n",
    "from enum import IntEnum\n",
    "from functools import cached_property\n",
    "from typing import Optional, Sequence, Iterator, Dict, Set, TypeVar, Union, MutableSequence\n",
    "\n",
    "import clingo\n",
    "from clingraph import Factbase, compute_graphs"
   ]
  },
  {
   "cell_type": "code",
   "execution_count": 387,
   "metadata": {
    "pycharm": {
     "name": "#%%\n"
    }
   },
   "outputs": [],
   "source": [
    "class Symbol:\n",
    "    pass"
   ]
  },
  {
   "cell_type": "code",
   "execution_count": 388,
   "metadata": {
    "pycharm": {
     "name": "#%%\n"
    }
   },
   "outputs": [],
   "source": [
    "class TopLevelSymbol(Symbol):\n",
    "    pass"
   ]
  },
  {
   "cell_type": "code",
   "execution_count": 389,
   "metadata": {
    "pycharm": {
     "name": "#%%\n"
    }
   },
   "outputs": [],
   "source": [
    "@dataclass(order=True, frozen=True)\n",
    "class Function(TopLevelSymbol):\n",
    "    name: Optional[str] = field(default=None)\n",
    "    arguments: Sequence[Symbol] = field(default_factory=tuple)\n",
    "\n",
    "    def __str__(self):\n",
    "        if self.name is None:\n",
    "            return '({})'.format(','.join(map(str, self.arguments)))\n",
    "        elif not self.arguments:\n",
    "            return self.name\n",
    "        else:\n",
    "            return '{}({})'.format(self.name, ','.join(map(str, self.arguments)))"
   ]
  },
  {
   "cell_type": "code",
   "execution_count": 390,
   "metadata": {
    "pycharm": {
     "name": "#%%\n"
    }
   },
   "outputs": [],
   "source": [
    "@dataclass(order=True, frozen=True)\n",
    "class Atom:\n",
    "    symbol: TopLevelSymbol = field(default_factory=Function)\n",
    "\n",
    "    def __str__(self):\n",
    "        return str(self.symbol)"
   ]
  },
  {
   "cell_type": "code",
   "execution_count": 391,
   "metadata": {
    "pycharm": {
     "name": "#%%\n"
    }
   },
   "outputs": [],
   "source": [
    "class Literal:\n",
    "    def __neg__(self):\n",
    "        raise NotImplementedError\n",
    "\n",
    "    def __abs__(self):\n",
    "        raise NotImplementedError\n",
    "\n",
    "    @property\n",
    "    def is_pos(self) -> bool:\n",
    "        raise NotImplementedError\n",
    "\n",
    "    @property\n",
    "    def is_neg(self) -> bool:\n",
    "        raise NotImplementedError"
   ]
  },
  {
   "cell_type": "code",
   "execution_count": 392,
   "metadata": {
    "pycharm": {
     "name": "#%%\n"
    }
   },
   "outputs": [],
   "source": [
    "class Sign(IntEnum):\n",
    "    NoSign = 0\n",
    "    Negation = 1\n",
    "\n",
    "    def __str__(self):\n",
    "        if self is Sign.NoSign:\n",
    "            return ''\n",
    "        elif self is Sign.Negation:\n",
    "            return 'not'\n",
    "        else:\n",
    "            assert False, 'Unknown IntEnum {} = {}.'.format(self.name, self.value)"
   ]
  },
  {
   "cell_type": "code",
   "execution_count": 393,
   "metadata": {
    "pycharm": {
     "name": "#%%\n"
    }
   },
   "outputs": [],
   "source": [
    "@dataclass(order=True, frozen=True)\n",
    "class BasicLiteral(Literal):\n",
    "    sign: Sign = Sign.NoSign\n",
    "    atom: Atom = field(default_factory=Atom)\n",
    "\n",
    "    def __str__(self):\n",
    "        if self.sign is Sign.NoSign:\n",
    "            return \"{}\".format(self.atom)\n",
    "        else:\n",
    "            return \"{} {}\".format(self.sign, self.atom)\n",
    "\n",
    "    def __neg__(self):\n",
    "        return BasicLiteral(Sign((self.sign ^ 1) % 2), self.atom)\n",
    "\n",
    "    def __abs__(self):\n",
    "        return BasicLiteral(Sign.NoSign, self.atom)\n",
    "\n",
    "    @property\n",
    "    def is_pos(self) -> bool:\n",
    "        return self.sign is Sign.NoSign\n",
    "\n",
    "    @property\n",
    "    def is_neg(self) -> bool:\n",
    "        return self.sign is Sign.Negation"
   ]
  },
  {
   "cell_type": "code",
   "execution_count": 394,
   "metadata": {
    "pycharm": {
     "name": "#%%\n"
    }
   },
   "outputs": [],
   "source": [
    "class Rule:\n",
    "\n",
    "    @property\n",
    "    def head(self) -> BasicLiteral:\n",
    "        if hasattr(self, '_head'):\n",
    "            return getattr(self, '_head')\n",
    "        raise NotImplementedError\n",
    "\n",
    "    @property\n",
    "    def body(self) -> Sequence[BasicLiteral]:\n",
    "        if hasattr(self, '_body'):\n",
    "            return getattr(self, '_body')\n",
    "        raise NotImplementedError\n",
    "\n",
    "    @staticmethod\n",
    "    def fmt_body(body: Sequence[BasicLiteral]):\n",
    "        return ', '.join(map(str, body))\n"
   ]
  },
  {
   "cell_type": "code",
   "execution_count": 395,
   "metadata": {
    "pycharm": {
     "name": "#%%\n"
    }
   },
   "outputs": [],
   "source": [
    "@dataclass(order=True, frozen=True)\n",
    "class NormalRule(Rule):\n",
    "    _head: BasicLiteral = field(default_factory=BasicLiteral)\n",
    "    _body: Sequence[BasicLiteral] = ()\n",
    "\n",
    "    @property\n",
    "    def head(self) -> BasicLiteral:\n",
    "        return self._head\n",
    "\n",
    "    @property\n",
    "    def body(self) -> Sequence[BasicLiteral]:\n",
    "        return self._body\n",
    "\n",
    "    def __str__(self):\n",
    "        if self.body:\n",
    "            return \"{} :- {}.\".format(self.head, Rule.fmt_body(self.body))\n",
    "        else:\n",
    "            return \"{}.\".format(self.head)"
   ]
  },
  {
   "cell_type": "code",
   "execution_count": 396,
   "metadata": {
    "pycharm": {
     "name": "#%%\n"
    }
   },
   "outputs": [],
   "source": [
    "@dataclass(order=True, frozen=True)\n",
    "class IntegrityConstraint(Rule):\n",
    "    _body: Sequence[BasicLiteral] = ()\n",
    "\n",
    "    @property\n",
    "    def head(self) -> bool:\n",
    "        return False\n",
    "\n",
    "    @property\n",
    "    def body(self) -> Sequence[BasicLiteral]:\n",
    "        return self._body\n",
    "\n",
    "    def __str__(self):\n",
    "        if self.body:\n",
    "            return '#false :- {}.'.format(Rule.fmt_body(self.body))\n",
    "        else:\n",
    "            return '#false.'"
   ]
  },
  {
   "cell_type": "code",
   "execution_count": 397,
   "metadata": {
    "pycharm": {
     "name": "#%%\n"
    }
   },
   "outputs": [],
   "source": [
    "@dataclass(order=True, frozen=True)\n",
    "class Goal(Rule):\n",
    "    _body: Sequence[BasicLiteral] = ()\n",
    "\n",
    "    @property\n",
    "    def head(self):\n",
    "        return True\n",
    "\n",
    "    @property\n",
    "    def body(self) -> Sequence[BasicLiteral]:\n",
    "        return self._body\n",
    "\n",
    "    def __str__(self):\n",
    "        if self.body:\n",
    "            return '#true :- {}.'.format(Rule.fmt_body(self.body))\n",
    "        else:\n",
    "            return '#true.'"
   ]
  },
  {
   "cell_type": "code",
   "execution_count": 398,
   "metadata": {
    "pycharm": {
     "name": "#%%\n"
    }
   },
   "outputs": [],
   "source": [
    "_ForwardBaseNode = TypeVar('_ForwardBaseNode', bound='_BaseNode')\n",
    "\n",
    "\n",
    "@dataclass\n",
    "class _BaseNode:\n",
    "    subject: Union[Literal, Rule, None]\n",
    "    hypotheses: Set[Literal]\n",
    "    parent: Optional[_ForwardBaseNode]\n",
    "    children: MutableSequence[_ForwardBaseNode]\n",
    "    index: int\n",
    "    position: int\n",
    "\n",
    "    @property\n",
    "    def is_expanded(self):\n",
    "        return self.children is not None\n",
    "\n",
    "    @property\n",
    "    def is_root(self):\n",
    "        return self.parent is None\n",
    "\n",
    "    @property\n",
    "    def is_leaf(self):\n",
    "        return self.is_expanded and not self.children\n",
    "\n",
    "    @property\n",
    "    def is_complete(self) -> bool:\n",
    "        return False\n",
    "\n",
    "    def is_exhausted(self, rules: Sequence[Rule]) -> bool:\n",
    "        raise NotImplementedError\n",
    "\n",
    "    def expand_all(self, rules: Sequence[Rule]) -> Sequence[_ForwardBaseNode]:\n",
    "        raise NotImplementedError\n",
    "\n",
    "    def expand(self, rules: Sequence[Rule]) -> Optional[_ForwardBaseNode]:\n",
    "        raise NotImplementedError\n",
    "\n",
    "    def propagate_parent(self) -> _ForwardBaseNode:\n",
    "        return self.parent"
   ]
  },
  {
   "cell_type": "code",
   "execution_count": 399,
   "metadata": {
    "pycharm": {
     "name": "#%%\n"
    }
   },
   "outputs": [],
   "source": [
    "@dataclass\n",
    "class Node(_BaseNode):\n",
    "    subject: Union[Literal, Rule, None] = field(default=None)\n",
    "    hypotheses: Set[Literal] = field(default_factory=set)\n",
    "    parent: Optional[_BaseNode] = field(default=None)\n",
    "    children: Optional[MutableSequence[_BaseNode]] = field(default=None)\n",
    "    index: int = field(default=0)\n",
    "    position: int = field(default=0)\n",
    "\n",
    "\n",
    "ForwardAndNode = TypeVar('ForwardAndNode', bound='AndNode')"
   ]
  },
  {
   "cell_type": "code",
   "execution_count": 400,
   "metadata": {
    "pycharm": {
     "name": "#%%\n"
    }
   },
   "outputs": [],
   "source": [
    "@dataclass\n",
    "class OrNode(Node):\n",
    "    subject: Optional[Literal] = field(default=None)\n",
    "    children: Optional[MutableSequence[ForwardAndNode]] = field(default=None)\n",
    "    unfounded: bool = field(default=False)\n",
    "\n",
    "    def __str__(self):\n",
    "        return \"Or({}): {} {}\".format(self.subject, self.index, self.is_complete)\n",
    "\n",
    "    @property\n",
    "    def is_complete(self) -> bool:\n",
    "        return self.is_expanded and not self.unfounded and self.subject in self.hypotheses\n",
    "\n",
    "    def is_exhausted(self, rules: Sequence[Rule]) -> bool:\n",
    "        return self.index >= len(rules)\n",
    "\n",
    "    def expand_all(self, rules: Sequence[Rule]) -> Sequence[ForwardAndNode]:\n",
    "        self.children = []\n",
    "        for rule in rules:\n",
    "            if rule.head != self.subject:\n",
    "                continue\n",
    "            if any(-body_literal in self.hypotheses for body_literal in rule.body):\n",
    "                continue\n",
    "            hypotheses = deepcopy(self.hypotheses)\n",
    "            hypotheses.add(self.subject)\n",
    "            child = AndNode(subject=rule, hypotheses=hypotheses, parent=self)\n",
    "            self.children.append(child)\n",
    "        return self.children\n",
    "\n",
    "    def expand(self, rules: Sequence[Rule]) -> Optional[ForwardAndNode]:\n",
    "        assert self.subject is not None\n",
    "        if not self.is_expanded:\n",
    "            self.children = []\n",
    "        if self.is_exhausted(rules):\n",
    "            return None\n",
    "        if self.unfounded:\n",
    "            return None\n",
    "        if -self.subject in self.hypotheses:\n",
    "            return None\n",
    "        if self.subject in self.hypotheses:\n",
    "            node = self\n",
    "            while not node.parent.is_root and node.subject.is_pos:\n",
    "                node = node.parent.parent\n",
    "                if node.subject == self.subject:\n",
    "                    self.unfounded = True\n",
    "                    return None\n",
    "\n",
    "        rule = rules[self.index]\n",
    "        if rule.head != self.subject:\n",
    "            return None\n",
    "        if any(-body_literal in self.hypotheses for body_literal in rule.body):\n",
    "            return None\n",
    "        position = len(self.children)\n",
    "        hypotheses = deepcopy(self.hypotheses)\n",
    "        hypotheses.add(self.subject)\n",
    "        child = AndNode(subject=rule, hypotheses=hypotheses, parent=self, position=position)\n",
    "        self.children.append(child)\n",
    "        return child\n",
    "\n",
    "    def propagate_parent(self) -> ForwardAndNode:\n",
    "        hypotheses = deepcopy(self.hypotheses)\n",
    "        parent = AndNode(subject=self.parent.subject,\n",
    "                         hypotheses=hypotheses,\n",
    "                         parent=self.parent.parent,\n",
    "                         children=self.parent.children,\n",
    "                         index=self.parent.index + 1)\n",
    "        parent.children[self.position] = self\n",
    "        self.parent = parent\n",
    "        return parent"
   ]
  },
  {
   "cell_type": "code",
   "execution_count": 401,
   "metadata": {
    "pycharm": {
     "name": "#%%\n"
    }
   },
   "outputs": [],
   "source": [
    "@dataclass\n",
    "class AndNode(Node):\n",
    "    subject: Optional[Rule] = field(default=None)\n",
    "    children: Optional[MutableSequence[OrNode]] = field(default=None)\n",
    "\n",
    "    def __str__(self):\n",
    "        return \"And({}): {} {}\".format(self.subject, self.index, self.is_complete)\n",
    "\n",
    "    @property\n",
    "    def is_complete(self) -> bool:\n",
    "        return self.is_exhausted() and all(body_literal in self.hypotheses for body_literal in self.subject.body)\n",
    "\n",
    "    def is_exhausted(self, rules: Sequence[Rule] = ()) -> bool:\n",
    "        return self.index >= len(self.subject.body)\n",
    "\n",
    "    def expand_all(self, rules: Sequence[Rule]) -> Sequence[OrNode]:\n",
    "        self.children = []\n",
    "        for body_literal in self.subject.body:\n",
    "            if body_literal in self.hypotheses:\n",
    "                continue\n",
    "            hypotheses = deepcopy(self.hypotheses)\n",
    "            child = OrNode(subject=body_literal, hypotheses=hypotheses, parent=self)\n",
    "            self.children.append(child)\n",
    "        return self.children\n",
    "\n",
    "    def expand(self, rules: Sequence[Rule]) -> Optional[OrNode]:\n",
    "        if not self.is_expanded:\n",
    "            self.children = []\n",
    "        if self.is_exhausted(rules):\n",
    "            return None\n",
    "        body_literal = self.subject.body[self.index]\n",
    "        if body_literal.is_neg and body_literal in self.hypotheses:\n",
    "            return None\n",
    "        position = len(self.children)\n",
    "        hypotheses = deepcopy(self.hypotheses)\n",
    "        child = OrNode(subject=body_literal,\n",
    "                       hypotheses=hypotheses,\n",
    "                       parent=self,\n",
    "                       position=position)\n",
    "        self.children.append(child)\n",
    "        return child\n",
    "\n",
    "    def propagate_parent(self) -> OrNode:\n",
    "        hypotheses = deepcopy(self.hypotheses)\n",
    "        parent = OrNode(subject=self.parent.subject,\n",
    "                        hypotheses=hypotheses,\n",
    "                        parent=self.parent.parent,\n",
    "                        children=self.parent.children,\n",
    "                        index=self.parent.index + 1)\n",
    "        parent.children[self.position] = self\n",
    "        self.parent = parent\n",
    "        return parent"
   ]
  },
  {
   "cell_type": "code",
   "execution_count": 402,
   "metadata": {
    "pycharm": {
     "name": "#%%\n"
    }
   },
   "outputs": [],
   "source": [
    "@dataclass(order=True, frozen=True)\n",
    "class Program:\n",
    "    rules: Sequence[Rule] = ()\n",
    "\n",
    "    def fmt(self, sep=' ', begin=None, end=None):\n",
    "        b = begin + sep if begin is not None else ''\n",
    "        e = sep + end if end is not None else ''\n",
    "        return \"{}{}{}\".format(b, sep.join(map(str, self.rules)), e)\n",
    "\n",
    "    def __str__(self):\n",
    "        return self.fmt()\n",
    "\n",
    "    @cached_property\n",
    "    def dual(self):  # type Program\n",
    "        return Program.dual_of(self.rules)\n",
    "\n",
    "    @cached_property\n",
    "    def sASP(self):\n",
    "        sasp_rules = list(self.rules)\n",
    "        sasp_rules.extend(self.dual_of(tuple(self.non_constraint_rules)).rules)\n",
    "\n",
    "        chk_rules = []\n",
    "        nmr_chk_head = BasicLiteral(atom=Atom(Function(\"__nmr_chk\")))\n",
    "        nmr_chk_body = []\n",
    "        for i, c_rule in enumerate(self.constraint_rules):\n",
    "            chk_head = BasicLiteral(atom=Atom(Function(\"__chk_{}_{}\".format(c_rule.head.atom.symbol.name, i))))\n",
    "            chk_rule_ = NormalRule(chk_head, (c_rule.head,))\n",
    "            chk_rules_ = (NormalRule(chk_head, (-body_literal,)) for body_literal in c_rule.body if\n",
    "                          c_rule.body != -c_rule.head)\n",
    "            chk_rules.append(chk_rule_)\n",
    "            chk_rules.extend(chk_rules_)\n",
    "            nmr_chk_body.append(chk_head)\n",
    "\n",
    "        sasp_rules.extend(chk_rules)\n",
    "        nmr_chk_rule = NormalRule(nmr_chk_head, nmr_chk_body)\n",
    "        sasp_rules.append(nmr_chk_rule)\n",
    "        return Program(rules=sasp_rules)\n",
    "\n",
    "    @cached_property\n",
    "    def reachable(self) -> Dict[Rule, Set[Literal]]:\n",
    "        reachable = defaultdict(set)\n",
    "        for rule in self.rules:\n",
    "            if not rule.body:\n",
    "                reachable[rule] = set()\n",
    "                continue\n",
    "            considered = set()\n",
    "            literal_stack = []\n",
    "            naf_stack = []\n",
    "            literal_stack.extend(rule.body)\n",
    "            naf_stack.extend([0 for _ in rule.body])\n",
    "            while literal_stack:\n",
    "                literal = literal_stack.pop()\n",
    "                naf = naf_stack.pop()\n",
    "                naf = (naf + literal.is_neg) % 2\n",
    "                reachable[rule].add(BasicLiteral(Sign(naf), literal.atom))\n",
    "                for adj in self.rules:\n",
    "                    if adj not in considered and adj.head == abs(literal):\n",
    "                        considered.add(adj)\n",
    "                        literal_stack.extend(adj.body)\n",
    "                        naf_stack.extend([naf for _ in adj.body])\n",
    "        return reachable\n",
    "\n",
    "    @property\n",
    "    def constraint_rules(self) -> Iterator[Rule]:\n",
    "        for rule, reachable in self.reachable.items():\n",
    "            if -rule.head in reachable:\n",
    "                yield rule\n",
    "\n",
    "    @property\n",
    "    def non_constraint_rules(self) -> Iterator[Rule]:\n",
    "        for rule, reachable in self.reachable.items():\n",
    "            if rule.head in reachable or -rule.head not in reachable:\n",
    "                yield rule\n",
    "\n",
    "    def evaluate_top_down(self, *literals: Literal) -> Iterator[Node]:\n",
    "        __nmr_chk = BasicLiteral(atom=Atom(Function(\"__nmr_chk\")))\n",
    "        goal = Goal((*literals, __nmr_chk))\n",
    "        root = AndNode(subject=goal)\n",
    "        rules = self.sASP.rules\n",
    "        derivation_stack = [root]\n",
    "        while derivation_stack:\n",
    "            current = derivation_stack.pop()\n",
    "            if current.is_complete:\n",
    "                if current.is_root:\n",
    "                    yield deepcopy(current)\n",
    "                else:\n",
    "                    new_parent = current.propagate_parent()\n",
    "                    derivation_stack.append(new_parent)\n",
    "            elif not current.is_exhausted(rules):\n",
    "                child = current.expand(rules)\n",
    "                if child is None:\n",
    "                    current.index += 1\n",
    "                    derivation_stack.append(current)\n",
    "                else:\n",
    "                    if isinstance(current, OrNode):\n",
    "                        current.index += 1\n",
    "                        derivation_stack.append(current)\n",
    "                    derivation_stack.append(child)\n",
    "\n",
    "    @staticmethod\n",
    "    def dual_of(rules):\n",
    "        dual_rules = []\n",
    "        b2n: Dict[Sequence[BasicLiteral], int] = {(): 0}\n",
    "        n2b: Dict[int, Sequence[BasicLiteral]] = {0: ()}\n",
    "        n2h: Dict[int, Set[BasicLiteral]] = {}\n",
    "        h2n: Dict[BasicLiteral, Set[int]] = {}\n",
    "        ib: Set[BasicLiteral] = set()\n",
    "        n = 0\n",
    "        for rule in rules:\n",
    "            head = rule.head\n",
    "            body = tuple(sorted(set(rule.body)))\n",
    "            if body not in b2n:\n",
    "                n += 1\n",
    "                b2n[body] = n\n",
    "                n2b[n] = body\n",
    "            m = b2n[body]\n",
    "            n2b[m] = body\n",
    "            n2h.setdefault(m, set()).add(head)\n",
    "            h2n.setdefault(head, set()).add(m)\n",
    "        for h, ns in h2n.items():\n",
    "            dual_head = -h\n",
    "            dual_body = []\n",
    "            dual_rule = None\n",
    "            if ns and not any(n == 0 for n in ns):\n",
    "                for n in ns:\n",
    "                    b: Sequence[BasicLiteral] = n2b[n]\n",
    "                    if len(b) == 1:\n",
    "                        if -b[0] not in dual_body:\n",
    "                            dual_body.append(-b[0])\n",
    "                        ib.add(abs(b[0]))\n",
    "                    else:\n",
    "                        assert len(b) > 1\n",
    "                        __b_n = BasicLiteral(atom=Atom(Function('__body', (Function(str(n)),))))\n",
    "                        dual_body.append(-__b_n)\n",
    "                        support_rule_head = -__b_n\n",
    "                        for l in b:\n",
    "                            ib.add(abs(l))\n",
    "                            support_rule_body = (-l,)\n",
    "                            support_rule = NormalRule(support_rule_head, support_rule_body)\n",
    "                            dual_rules.append(support_rule)\n",
    "\n",
    "                    dual_rule = NormalRule(dual_head, tuple(dual_body))\n",
    "            if dual_rule is not None:\n",
    "                dual_rules.append(dual_rule)\n",
    "        for l in ib:\n",
    "            if l not in h2n:\n",
    "                dual_rules.append(NormalRule(-l))\n",
    "\n",
    "        return Program(rules=dual_rules)"
   ]
  },
  {
   "cell_type": "code",
   "execution_count": 403,
   "metadata": {
    "pycharm": {
     "name": "#%%\n"
    }
   },
   "outputs": [],
   "source": [
    "def solve(p: Program, *literals: Literal, models=None):\n",
    "    i = 0\n",
    "    proofs_gen = p.evaluate_top_down(*literals)\n",
    "    proofs = []\n",
    "    while models is None or i < models:\n",
    "        proof = next(proofs_gen, None)\n",
    "        if proof is None:\n",
    "            break\n",
    "        proofs.append(proof)\n",
    "        print(\"Answer {}:\".format(i), end=' ')\n",
    "        print(\"{\")\n",
    "        print('\\n'.join(map(str, proof.hypotheses)))\n",
    "        if not proof.hypotheses:\n",
    "            print(' ', end='')\n",
    "        print(\"}\")\n",
    "        i += 1\n",
    "    if not proofs:\n",
    "        print(\"UNSAT\")\n",
    "    else:\n",
    "        print(\"SAT {}+\".format(len(proofs)))\n",
    "    return proofs\n",
    "\n",
    "\n",
    "def explain(proof: Node, indent=0):\n",
    "    if isinstance(proof.subject, Goal):\n",
    "        print('*', end='')\n",
    "    print('-- ', end='')\n",
    "    print(proof.subject)\n",
    "    if proof.children is not None:\n",
    "        for child in proof.children:\n",
    "            print('  ' * indent + '|')\n",
    "            print('  ' * indent + '|', end='')\n",
    "            explain(child, indent + 1)\n",
    "    else:\n",
    "        print('  ' * indent + '|')\n",
    "        print('  ' * indent + '|', end='')\n",
    "        if proof.is_complete:\n",
    "            print('--[]')\n",
    "        else:\n",
    "            print('--X')\n",
    "\n",
    "\n",
    "def explanation_graph(proof: Node):\n",
    "    rules = []\n",
    "    fb = Factbase()\n",
    "    stack = [(clingo.Number(0), proof)]\n",
    "    while stack:\n",
    "        nr, current = stack.pop()\n",
    "        if not current.is_complete:\n",
    "            continue\n",
    "        string = clingo.String(str(current.subject))\n",
    "        node = clingo.Function('node', (nr,))\n",
    "        attr = clingo.Function('attr', (clingo.Function('node'), nr, clingo.Function('label'), string))\n",
    "        rules.append(\"{}.\".format(attr))\n",
    "        if isinstance(current, AndNode):\n",
    "            attr = clingo.Function('attr',\n",
    "                                   (clingo.Function('node'), nr, clingo.Function('shape'), clingo.Function('box')))\n",
    "            rules.append(\"{}.\".format(attr))\n",
    "        elif isinstance(current, OrNode) and current.subject.is_neg:\n",
    "            attr = clingo.Function('attr', (\n",
    "                clingo.Function('node'), nr, clingo.Function('fontcolor'), clingo.Function('white')))\n",
    "            rules.append(\"{}.\".format(attr))\n",
    "            attr = clingo.Function('attr',\n",
    "                                   (clingo.Function('node'), nr, clingo.Function('color'), clingo.Function('black')))\n",
    "            rules.append(\"{}.\".format(attr))\n",
    "            attr = clingo.Function('attr',\n",
    "                                   (clingo.Function('node'), nr, clingo.Function('style'), clingo.Function('filled')))\n",
    "            rules.append(\"{}.\".format(attr))\n",
    "        rules.append('{}.'.format(node))\n",
    "        if current.children is not None:\n",
    "            for i, child in enumerate(current.children):\n",
    "                if not child.is_complete:\n",
    "                    continue\n",
    "                cnr = clingo.Tuple_((nr, clingo.Number(i)))\n",
    "                e = clingo.Tuple_((nr, cnr), )\n",
    "                edge = clingo.Function('edge', (e,))\n",
    "                attr = clingo.Function('attr',\n",
    "                                       (clingo.Function('edge'), e, clingo.Function('dir'), clingo.Function('forward')))\n",
    "                rules.append(\"{}.\".format(edge))\n",
    "                rules.append(\"{}.\".format(attr))\n",
    "                stack.append((cnr, child))\n",
    "    fb.add_fact_string('\\n'.join(rules))\n",
    "    graphs = compute_graphs(fb)\n",
    "    return graphs['default']\n"
   ]
  },
  {
   "cell_type": "code",
   "execution_count": 404,
   "metadata": {
    "pycharm": {
     "name": "#%%\n"
    }
   },
   "outputs": [],
   "source": [
    "encoding_str = \"\"\"\n",
    ":- concl,nconcl.\t\t\t\t\t% consistency\n",
    "concl :- prem(X), sufficient(X).\t% conditional with sufficient condition\n",
    "nconcl :- nprem(X), necessary(X).\t% conditional with necessary condition\n",
    "{prem(X); nprem(X)}1 :- hyp(X).\t\t% hypothesis\n",
    "nconcl :- nprem(e), nprem(t).\t\t% conditional with all sufficient conditions\n",
    "\n",
    "sufficient(e).\n",
    "sufficient(t).\n",
    "necessary(o).\n",
    "\"\"\"\n"
   ]
  },
  {
   "cell_type": "code",
   "execution_count": 405,
   "metadata": {
    "pycharm": {
     "name": "#%%\n"
    }
   },
   "outputs": [],
   "source": [
    "\n",
    "concl = BasicLiteral(atom=Atom(Function('concl')))\n",
    "nconcl = BasicLiteral(atom=Atom(Function('nconcl')))\n",
    "\n",
    "e = Function('e')\n",
    "t = Function('t')\n",
    "o = Function('o')\n",
    "\n",
    "sufficient_e = BasicLiteral(atom=Atom(Function('sufficient', (e,))))\n",
    "sufficient_t = BasicLiteral(atom=Atom(Function('sufficient', (t,))))\n",
    "sufficient_o = BasicLiteral(atom=Atom(Function('sufficient', (o,))))\n",
    "\n",
    "necessary_e = BasicLiteral(atom=Atom(Function('necessary', (e,))))\n",
    "necessary_t = BasicLiteral(atom=Atom(Function('necessary', (t,))))\n",
    "necessary_o = BasicLiteral(atom=Atom(Function('necessary', (o,))))\n",
    "\n",
    "prem_e = BasicLiteral(atom=Atom(Function('prem', (e,))))\n",
    "nprem_e = BasicLiteral(atom=Atom(Function('nprem', (e,))))\n",
    "__not_prem_e = BasicLiteral(atom=Atom(Function('__not_prem', (e,))))\n",
    "__not_nprem_e = BasicLiteral(atom=Atom(Function('__not_nprem', (e,))))\n",
    "\n",
    "prem_t = BasicLiteral(atom=Atom(Function('prem', (t,))))\n",
    "nprem_t = BasicLiteral(atom=Atom(Function('nprem', (t,))))\n",
    "__not_prem_t = BasicLiteral(atom=Atom(Function('__not_prem', (t,))))\n",
    "__not_nprem_t = BasicLiteral(atom=Atom(Function('__not_nprem', (t,))))\n",
    "\n",
    "prem_o = BasicLiteral(atom=Atom(Function('prem', (o,))))\n",
    "nprem_o = BasicLiteral(atom=Atom(Function('nprem', (o,))))\n",
    "__not_prem_o = BasicLiteral(atom=Atom(Function('__not_prem', (o,))))\n",
    "__not_nprem_o = BasicLiteral(atom=Atom(Function('__not_nprem', (o,))))\n",
    "\n",
    "hyp_e = BasicLiteral(atom=Atom(Function('hyp', (e,))))\n",
    "hyp_t = BasicLiteral(atom=Atom(Function('hyp', (t,))))\n",
    "hyp_o = BasicLiteral(atom=Atom(Function('hyp', (o,))))\n",
    "\n",
    "__choice_hyp_e = BasicLiteral(atom=Atom(Function('__choice', (Function('hyp', (e,)),))))\n",
    "__consistency_choice_hyp_e = BasicLiteral(atom=Atom(Function('__consistency_choice', (Function('hyp', (e,)),))))\n",
    "__choice_hyp_t = BasicLiteral(atom=Atom(Function('__choice', (Function('hyp', (t,)),))))\n",
    "__consistency_choice_hyp_t = BasicLiteral(atom=Atom(Function('__consistency_choice', (Function('hyp', (t,)),))))\n",
    "__choice_hyp_o = BasicLiteral(atom=Atom(Function('__choice', (Function('hyp', (o,)),))))\n",
    "__consistency_choice_hyp_o = BasicLiteral(atom=Atom(Function('__consistency_choice', (Function('hyp', (o,)),))))\n",
    "\n",
    "__consistency_concl = BasicLiteral(atom=Atom(Function('__consistency_concl')))\n",
    "\n",
    "__consistent = BasicLiteral(atom=Atom(Function('__consistent')))\n",
    "\n",
    "encoding_rules = (\n",
    "    NormalRule(__consistent, (\n",
    "    __consistency_concl, __consistency_choice_hyp_e, __consistency_choice_hyp_t, __consistency_choice_hyp_o)),\n",
    "\n",
    "    # :- concl, nconcl\n",
    "    NormalRule(__consistency_concl, (-concl,)),\n",
    "    NormalRule(__consistency_concl, (-nconcl,)),\n",
    "\n",
    "    # concl :- prem(X), sufficient(X).\n",
    "    NormalRule(concl, (prem_e, sufficient_e)),\n",
    "    NormalRule(concl, (prem_t, sufficient_t)),\n",
    "    NormalRule(concl, (prem_o, sufficient_o)),\n",
    "\n",
    "    # nconcl :- nprem(X), necessary(X).\n",
    "    NormalRule(nconcl, (nprem_e, necessary_e)),\n",
    "    NormalRule(nconcl, (nprem_t, necessary_t)),\n",
    "    NormalRule(nconcl, (nprem_o, necessary_o)),\n",
    "\n",
    "    # {prem(X);nprem(X)} 1 :- hyp(X).\n",
    "    NormalRule(__choice_hyp_e, (hyp_e,)),\n",
    "\n",
    "    NormalRule(prem_e, (__choice_hyp_e, -__not_prem_e)),\n",
    "    NormalRule(__not_prem_e, (__choice_hyp_e, -prem_e)),\n",
    "\n",
    "    NormalRule(nprem_e, (__choice_hyp_e, -__not_nprem_e)),\n",
    "    NormalRule(__not_nprem_e, (__choice_hyp_e, -nprem_e)),\n",
    "\n",
    "    NormalRule(__consistency_choice_hyp_e, (-__choice_hyp_e,)),\n",
    "    NormalRule(__consistency_choice_hyp_e, (-prem_e,)),\n",
    "    NormalRule(__consistency_choice_hyp_e, (-nprem_e,)),\n",
    "\n",
    "    NormalRule(__choice_hyp_t, (hyp_t,)),\n",
    "\n",
    "    NormalRule(prem_t, (__choice_hyp_t, -__not_prem_t)),\n",
    "    NormalRule(__not_prem_t, (__choice_hyp_t, -prem_t)),\n",
    "\n",
    "    NormalRule(nprem_t, (__choice_hyp_t, -__not_nprem_t)),\n",
    "    NormalRule(__not_nprem_t, (__choice_hyp_t, -nprem_t)),\n",
    "\n",
    "    NormalRule(__consistency_choice_hyp_t, (-__choice_hyp_t,)),\n",
    "    NormalRule(__consistency_choice_hyp_t, (-prem_t,)),\n",
    "    NormalRule(__consistency_choice_hyp_t, (-nprem_t,)),\n",
    "\n",
    "    NormalRule(__choice_hyp_o, (hyp_o,)),\n",
    "\n",
    "    NormalRule(prem_o, (__choice_hyp_o, -__not_prem_o)),\n",
    "    NormalRule(__not_prem_o, (__choice_hyp_o, -prem_o)),\n",
    "\n",
    "    NormalRule(nprem_o, (__choice_hyp_o, -__not_nprem_o)),\n",
    "    NormalRule(__not_nprem_o, (__choice_hyp_o, -nprem_o)),\n",
    "\n",
    "    NormalRule(__consistency_choice_hyp_o, (-__choice_hyp_o,)),\n",
    "    NormalRule(__consistency_choice_hyp_o, (-prem_o,)),\n",
    "    NormalRule(__consistency_choice_hyp_o, (-nprem_o,)),\n",
    "\n",
    "    # nconcl :- nprem(e), nprem(t).\n",
    "    NormalRule(nconcl, (nprem_e, nprem_t)),\n",
    "\n",
    "    # sufficient(e).\n",
    "    NormalRule(sufficient_e),\n",
    "    # sufficient(t).\n",
    "    NormalRule(sufficient_t),\n",
    "    # sufficient(o).\n",
    "    NormalRule(necessary_o),\n",
    ")"
   ]
  },
  {
   "cell_type": "code",
   "execution_count": 406,
   "metadata": {
    "pycharm": {
     "name": "#%%\n"
    }
   },
   "outputs": [
    {
     "name": "stdout",
     "output_type": "stream",
     "text": [
      "__consistent :- __consistency_concl, __consistency_choice(hyp(e)), __consistency_choice(hyp(t)), __consistency_choice(hyp(o)).\n",
      "__consistency_concl :- not concl.\n",
      "__consistency_concl :- not nconcl.\n",
      "concl :- prem(e), sufficient(e).\n",
      "concl :- prem(t), sufficient(t).\n",
      "concl :- prem(o), sufficient(o).\n",
      "nconcl :- nprem(e), necessary(e).\n",
      "nconcl :- nprem(t), necessary(t).\n",
      "nconcl :- nprem(o), necessary(o).\n",
      "__choice(hyp(e)) :- hyp(e).\n",
      "prem(e) :- __choice(hyp(e)), not __not_prem(e).\n",
      "__not_prem(e) :- __choice(hyp(e)), not prem(e).\n",
      "nprem(e) :- __choice(hyp(e)), not __not_nprem(e).\n",
      "__not_nprem(e) :- __choice(hyp(e)), not nprem(e).\n",
      "__consistency_choice(hyp(e)) :- not __choice(hyp(e)).\n",
      "__consistency_choice(hyp(e)) :- not prem(e).\n",
      "__consistency_choice(hyp(e)) :- not nprem(e).\n",
      "__choice(hyp(t)) :- hyp(t).\n",
      "prem(t) :- __choice(hyp(t)), not __not_prem(t).\n",
      "__not_prem(t) :- __choice(hyp(t)), not prem(t).\n",
      "nprem(t) :- __choice(hyp(t)), not __not_nprem(t).\n",
      "__not_nprem(t) :- __choice(hyp(t)), not nprem(t).\n",
      "__consistency_choice(hyp(t)) :- not __choice(hyp(t)).\n",
      "__consistency_choice(hyp(t)) :- not prem(t).\n",
      "__consistency_choice(hyp(t)) :- not nprem(t).\n",
      "__choice(hyp(o)) :- hyp(o).\n",
      "prem(o) :- __choice(hyp(o)), not __not_prem(o).\n",
      "__not_prem(o) :- __choice(hyp(o)), not prem(o).\n",
      "nprem(o) :- __choice(hyp(o)), not __not_nprem(o).\n",
      "__not_nprem(o) :- __choice(hyp(o)), not nprem(o).\n",
      "__consistency_choice(hyp(o)) :- not __choice(hyp(o)).\n",
      "__consistency_choice(hyp(o)) :- not prem(o).\n",
      "__consistency_choice(hyp(o)) :- not nprem(o).\n",
      "nconcl :- nprem(e), nprem(t).\n",
      "sufficient(e).\n",
      "sufficient(t).\n",
      "necessary(o).\n",
      "prem(e).\n",
      "sufficient(e).\n",
      "necessary(e) :- not __not_necessary(e).\n",
      "__not_necessary(e) :- not necessary(e).\n",
      "query(concl).\n"
     ]
    }
   ],
   "source": [
    "ex_1_1_str = \"\"\"\n",
    "\n",
    "prem(e).\t\t\t% fact\n",
    "sufficient(e).\t\t% sufficient condition\n",
    "{necessary(e)}.\t\t% possibly necessary condition\n",
    "\n",
    "query(concl).\n",
    "\n",
    "\"\"\"\n",
    "\n",
    "query_concl = BasicLiteral(atom=Atom(Function('query', (Function('concl'),))))\n",
    "necessary_e = BasicLiteral(atom=Atom(Function('necessary', (e,))))\n",
    "__not_necessary_e = BasicLiteral(atom=Atom(Function('__not_necessary', (e,))))\n",
    "\n",
    "ex_1_1_rules = (\n",
    "    NormalRule(prem_e),\n",
    "    NormalRule(sufficient_e),\n",
    "    NormalRule(necessary_e, (-__not_necessary_e,)),\n",
    "    NormalRule(__not_necessary_e, (-necessary_e,)),\n",
    "    NormalRule(query_concl),\n",
    ")\n",
    "ex_1_1_p = Program(rules=(\n",
    "    *encoding_rules,\n",
    "    *ex_1_1_rules\n",
    "))\n",
    "print(ex_1_1_p.fmt(sep='\\n'))"
   ]
  },
  {
   "cell_type": "code",
   "execution_count": 407,
   "metadata": {
    "pycharm": {
     "name": "#%%\n"
    }
   },
   "outputs": [
    {
     "name": "stdout",
     "output_type": "stream",
     "text": [
      "__consistent :- __consistency_concl, __consistency_choice(hyp(e)), __consistency_choice(hyp(t)), __consistency_choice(hyp(o)).\n",
      "__consistency_concl :- not concl.\n",
      "__consistency_concl :- not nconcl.\n",
      "concl :- prem(e), sufficient(e).\n",
      "concl :- prem(t), sufficient(t).\n",
      "concl :- prem(o), sufficient(o).\n",
      "nconcl :- nprem(e), necessary(e).\n",
      "nconcl :- nprem(t), necessary(t).\n",
      "nconcl :- nprem(o), necessary(o).\n",
      "__choice(hyp(e)) :- hyp(e).\n",
      "prem(e) :- __choice(hyp(e)), not __not_prem(e).\n",
      "__not_prem(e) :- __choice(hyp(e)), not prem(e).\n",
      "nprem(e) :- __choice(hyp(e)), not __not_nprem(e).\n",
      "__not_nprem(e) :- __choice(hyp(e)), not nprem(e).\n",
      "__consistency_choice(hyp(e)) :- not __choice(hyp(e)).\n",
      "__consistency_choice(hyp(e)) :- not prem(e).\n",
      "__consistency_choice(hyp(e)) :- not nprem(e).\n",
      "__choice(hyp(t)) :- hyp(t).\n",
      "prem(t) :- __choice(hyp(t)), not __not_prem(t).\n",
      "__not_prem(t) :- __choice(hyp(t)), not prem(t).\n",
      "nprem(t) :- __choice(hyp(t)), not __not_nprem(t).\n",
      "__not_nprem(t) :- __choice(hyp(t)), not nprem(t).\n",
      "__consistency_choice(hyp(t)) :- not __choice(hyp(t)).\n",
      "__consistency_choice(hyp(t)) :- not prem(t).\n",
      "__consistency_choice(hyp(t)) :- not nprem(t).\n",
      "__choice(hyp(o)) :- hyp(o).\n",
      "prem(o) :- __choice(hyp(o)), not __not_prem(o).\n",
      "__not_prem(o) :- __choice(hyp(o)), not prem(o).\n",
      "nprem(o) :- __choice(hyp(o)), not __not_nprem(o).\n",
      "__not_nprem(o) :- __choice(hyp(o)), not nprem(o).\n",
      "__consistency_choice(hyp(o)) :- not __choice(hyp(o)).\n",
      "__consistency_choice(hyp(o)) :- not prem(o).\n",
      "__consistency_choice(hyp(o)) :- not nprem(o).\n",
      "nconcl :- nprem(e), nprem(t).\n",
      "sufficient(e).\n",
      "sufficient(t).\n",
      "necessary(o).\n",
      "prem(e).\n",
      "sufficient(e).\n",
      "necessary(e) :- not __not_necessary(e).\n",
      "__not_necessary(e) :- not necessary(e).\n",
      "query(concl).\n",
      "not __body(1) :- not __consistency_choice(hyp(e)).\n",
      "not __body(1) :- not __consistency_choice(hyp(o)).\n",
      "not __body(1) :- not __consistency_choice(hyp(t)).\n",
      "not __body(1) :- not __consistency_concl.\n",
      "not __consistent :- not __body(1).\n",
      "not __consistency_concl :- concl, nconcl.\n",
      "not __body(4) :- not prem(e).\n",
      "not __body(4) :- not sufficient(e).\n",
      "not __body(5) :- not prem(t).\n",
      "not __body(5) :- not sufficient(t).\n",
      "not __body(6) :- not prem(o).\n",
      "not __body(6) :- not sufficient(o).\n",
      "not concl :- not __body(4), not __body(5), not __body(6).\n",
      "not __body(8) :- not necessary(t).\n",
      "not __body(8) :- not nprem(t).\n",
      "not __body(9) :- not necessary(o).\n",
      "not __body(9) :- not nprem(o).\n",
      "not __body(34) :- not nprem(e).\n",
      "not __body(34) :- not nprem(t).\n",
      "not __body(7) :- not necessary(e).\n",
      "not __body(7) :- not nprem(e).\n",
      "not nconcl :- not __body(8), not __body(9), not __body(34), not __body(7).\n",
      "not __choice(hyp(e)) :- not hyp(e).\n",
      "not __body(12) :- not __choice(hyp(e)).\n",
      "not __body(12) :- prem(e).\n",
      "not __not_prem(e) :- not __body(12).\n",
      "not __body(13) :- not __choice(hyp(e)).\n",
      "not __body(13) :- __not_nprem(e).\n",
      "not nprem(e) :- not __body(13).\n",
      "not __body(14) :- not __choice(hyp(e)).\n",
      "not __body(14) :- nprem(e).\n",
      "not __not_nprem(e) :- not __body(14).\n",
      "not __consistency_choice(hyp(e)) :- prem(e), nprem(e), __choice(hyp(e)).\n",
      "not __choice(hyp(t)) :- not hyp(t).\n",
      "not __body(19) :- not __choice(hyp(t)).\n",
      "not __body(19) :- __not_prem(t).\n",
      "not prem(t) :- not __body(19).\n",
      "not __body(20) :- not __choice(hyp(t)).\n",
      "not __body(20) :- prem(t).\n",
      "not __not_prem(t) :- not __body(20).\n",
      "not __body(21) :- not __choice(hyp(t)).\n",
      "not __body(21) :- __not_nprem(t).\n",
      "not nprem(t) :- not __body(21).\n",
      "not __body(22) :- not __choice(hyp(t)).\n",
      "not __body(22) :- nprem(t).\n",
      "not __not_nprem(t) :- not __body(22).\n",
      "not __consistency_choice(hyp(t)) :- prem(t), nprem(t), __choice(hyp(t)).\n",
      "not __choice(hyp(o)) :- not hyp(o).\n",
      "not __body(27) :- not __choice(hyp(o)).\n",
      "not __body(27) :- __not_prem(o).\n",
      "not prem(o) :- not __body(27).\n",
      "not __body(28) :- not __choice(hyp(o)).\n",
      "not __body(28) :- prem(o).\n",
      "not __not_prem(o) :- not __body(28).\n",
      "not __body(29) :- not __choice(hyp(o)).\n",
      "not __body(29) :- __not_nprem(o).\n",
      "not nprem(o) :- not __body(29).\n",
      "not __body(30) :- not __choice(hyp(o)).\n",
      "not __body(30) :- nprem(o).\n",
      "not __not_nprem(o) :- not __body(30).\n",
      "not __consistency_choice(hyp(o)) :- prem(o), nprem(o), __choice(hyp(o)).\n",
      "not necessary(e) :- __not_necessary(e).\n",
      "not __not_necessary(e) :- necessary(e).\n",
      "not hyp(e).\n",
      "not sufficient(o).\n",
      "not necessary(t).\n",
      "not hyp(o).\n",
      "not hyp(t).\n",
      "__nmr_chk.\n"
     ]
    }
   ],
   "source": [
    "print(ex_1_1_p.sASP.fmt(sep='\\n'))"
   ]
  },
  {
   "cell_type": "code",
   "execution_count": 408,
   "metadata": {
    "pycharm": {
     "name": "#%%\n"
    }
   },
   "outputs": [
    {
     "name": "stdout",
     "output_type": "stream",
     "text": [
      "Answer 0: {\n",
      "not __choice(hyp(t))\n",
      "not __body(8)\n",
      "not nprem(o)\n",
      "not necessary(t)\n",
      "not hyp(o)\n",
      "not necessary(e)\n",
      "not hyp(t)\n",
      "__consistency_choice(hyp(e))\n",
      "not __body(7)\n",
      "prem(e)\n",
      "not hyp(e)\n",
      "__nmr_chk\n",
      "__consistent\n",
      "not __choice(hyp(e))\n",
      "not __body(34)\n",
      "not __body(9)\n",
      "not __body(13)\n",
      "not __choice(hyp(o))\n",
      "not nconcl\n",
      "not nprem(e)\n",
      "not __body(29)\n",
      "__not_necessary(e)\n",
      "__consistency_choice(hyp(o))\n",
      "__consistency_concl\n",
      "__consistency_choice(hyp(t))\n",
      "sufficient(e)\n",
      "concl\n",
      "}\n",
      "SAT 1+\n"
     ]
    }
   ],
   "source": [
    "proof = solve(ex_1_1_p, concl, __consistent, models=1)[0]"
   ]
  },
  {
   "cell_type": "code",
   "execution_count": 409,
   "metadata": {
    "pycharm": {
     "name": "#%%\n"
    }
   },
   "outputs": [
    {
     "name": "stdout",
     "output_type": "stream",
     "text": [
      "*-- #true :- concl, __consistent, __nmr_chk.\n",
      "|\n",
      "|-- __nmr_chk\n",
      "  |\n",
      "  |-- __nmr_chk.\n",
      "    |\n",
      "    |--[]\n",
      "|\n",
      "|-- __consistent\n",
      "  |\n",
      "  |-- __consistent :- __consistency_concl, __consistency_choice(hyp(e)), __consistency_choice(hyp(t)), __consistency_choice(hyp(o)).\n",
      "    |\n",
      "    |-- __consistency_choice(hyp(o))\n",
      "      |\n",
      "      |-- __consistency_choice(hyp(o)) :- not __choice(hyp(o)).\n",
      "    |\n",
      "    |-- __consistency_choice(hyp(e))\n",
      "      |\n",
      "      |-- __consistency_choice(hyp(e)) :- not __choice(hyp(e)).\n",
      "    |\n",
      "    |-- __consistency_choice(hyp(t))\n",
      "      |\n",
      "      |-- __consistency_choice(hyp(t)) :- not __choice(hyp(t)).\n",
      "        |\n",
      "        |-- not __choice(hyp(t))\n",
      "          |\n",
      "          |-- not __choice(hyp(t)) :- not hyp(t).\n",
      "            |\n",
      "            |-- not hyp(t)\n",
      "              |\n",
      "              |-- not hyp(t).\n",
      "                |\n",
      "                |--[]\n",
      "    |\n",
      "    |-- __consistency_choice(hyp(o))\n",
      "      |\n",
      "      |-- __consistency_choice(hyp(o)) :- not __choice(hyp(o)).\n",
      "|\n",
      "|-- __nmr_chk\n",
      "  |\n",
      "  |-- __nmr_chk.\n",
      "    |\n",
      "    |--[]\n"
     ]
    }
   ],
   "source": [
    "explain(proof)"
   ]
  },
  {
   "cell_type": "code",
   "execution_count": 442,
   "outputs": [
    {
     "name": "stdout",
     "output_type": "stream",
     "text": [
      "And(#true :- concl, prem(t), __consistent, __nmr_chk.): 4 True\n",
      "Or(__nmr_chk): 111 True\n",
      "Or(prem(t)): 19 False\n",
      "True\n",
      "False\n",
      "sufficient(e),concl,prem(e)\n",
      "And(prem(t) :- __choice(hyp(t)), not __not_prem(t).): 2 True\n",
      "Or(__consistent): 1 False\n"
     ]
    }
   ],
   "source": [
    "print(proof)\n",
    "print(proof.children[0])\n",
    "print(proof.children[1])\n",
    "print(proof.children[1].is_expanded)\n",
    "print(proof.children[1].unfounded)\n",
    "print(','.join(map(str, proof.children[1].hypotheses)))\n",
    "print(proof.children[1].children[0])\n",
    "print(proof.children[2])"
   ],
   "metadata": {
    "collapsed": false,
    "pycharm": {
     "name": "#%%\n"
    }
   }
  },
  {
   "cell_type": "code",
   "execution_count": 411,
   "metadata": {
    "pycharm": {
     "name": "#%%\n"
    }
   },
   "outputs": [
    {
     "data": {
      "image/svg+xml": "<?xml version=\"1.0\" encoding=\"UTF-8\" standalone=\"no\"?>\n<!DOCTYPE svg PUBLIC \"-//W3C//DTD SVG 1.1//EN\"\n \"http://www.w3.org/Graphics/SVG/1.1/DTD/svg11.dtd\">\n<!-- Generated by graphviz version 3.0.0 (20220227.1548)\n -->\n<!-- Title: default Pages: 1 -->\n<svg width=\"246pt\" height=\"188pt\"\n viewBox=\"0.00 0.00 246.00 188.00\" xmlns=\"http://www.w3.org/2000/svg\" xmlns:xlink=\"http://www.w3.org/1999/xlink\">\n<g id=\"graph0\" class=\"graph\" transform=\"scale(1 1) rotate(0) translate(4 184)\">\n<title>default</title>\n<polygon fill=\"white\" stroke=\"transparent\" points=\"-4,4 -4,-184 242,-184 242,4 -4,4\"/>\n<!-- ((0,0),0) -->\n<g id=\"node1\" class=\"node\">\n<title>((0,0),0)</title>\n<polygon fill=\"none\" stroke=\"black\" points=\"160.5,-36 77.5,-36 77.5,0 160.5,0 160.5,-36\"/>\n<text text-anchor=\"middle\" x=\"119\" y=\"-14.3\" font-family=\"Times,serif\" font-size=\"14.00\">__nmr_chk.</text>\n</g>\n<!-- 0 -->\n<g id=\"node2\" class=\"node\">\n<title>0</title>\n<polygon fill=\"none\" stroke=\"black\" points=\"238,-180 0,-180 0,-144 238,-144 238,-180\"/>\n<text text-anchor=\"middle\" x=\"119\" y=\"-158.3\" font-family=\"Times,serif\" font-size=\"14.00\">#true :&#45; concl, __consistent, __nmr_chk.</text>\n</g>\n<!-- (0,0) -->\n<g id=\"node3\" class=\"node\">\n<title>(0,0)</title>\n<ellipse fill=\"none\" stroke=\"black\" cx=\"119\" cy=\"-90\" rx=\"51.19\" ry=\"18\"/>\n<text text-anchor=\"middle\" x=\"119\" y=\"-86.3\" font-family=\"Times,serif\" font-size=\"14.00\">__nmr_chk</text>\n</g>\n<!-- 0&#45;&#45;(0,0) -->\n<g id=\"edge1\" class=\"edge\">\n<title>0&#45;&#45;(0,0)</title>\n<path fill=\"none\" stroke=\"black\" d=\"M119,-143.7C119,-135.98 119,-126.71 119,-118.11\"/>\n<polygon fill=\"black\" stroke=\"black\" points=\"122.5,-118.1 119,-108.1 115.5,-118.1 122.5,-118.1\"/>\n</g>\n<!-- (0,0)&#45;&#45;((0,0),0) -->\n<g id=\"edge2\" class=\"edge\">\n<title>(0,0)&#45;&#45;((0,0),0)</title>\n<path fill=\"none\" stroke=\"black\" d=\"M119,-71.7C119,-63.98 119,-54.71 119,-46.11\"/>\n<polygon fill=\"black\" stroke=\"black\" points=\"122.5,-46.1 119,-36.1 115.5,-46.1 122.5,-46.1\"/>\n</g>\n</g>\n</svg>\n",
      "text/plain": "<graphviz.graphs.Graph at 0x7fe9b2fabf10>"
     },
     "execution_count": 411,
     "metadata": {},
     "output_type": "execute_result"
    }
   ],
   "source": [
    "explanation_graph(proof)"
   ]
  },
  {
   "cell_type": "code",
   "execution_count": 412,
   "metadata": {
    "pycharm": {
     "name": "#%%\n"
    }
   },
   "outputs": [
    {
     "name": "stdout",
     "output_type": "stream",
     "text": [
      "Answer 0: {\n",
      "not __choice(hyp(t))\n",
      "not __body(8)\n",
      "not nprem(o)\n",
      "not necessary(t)\n",
      "not hyp(o)\n",
      "not necessary(e)\n",
      "not hyp(t)\n",
      "__consistency_choice(hyp(e))\n",
      "not __body(7)\n",
      "prem(e)\n",
      "not hyp(e)\n",
      "__nmr_chk\n",
      "__consistent\n",
      "not __choice(hyp(e))\n",
      "not __body(34)\n",
      "not __body(9)\n",
      "not __body(13)\n",
      "not __choice(hyp(o))\n",
      "not nconcl\n",
      "not nprem(e)\n",
      "not __body(29)\n",
      "__not_necessary(e)\n",
      "__consistency_choice(hyp(o))\n",
      "__consistency_concl\n",
      "__consistency_choice(hyp(t))\n",
      "sufficient(e)\n",
      "concl\n",
      "}\n",
      "SAT 1+\n"
     ]
    }
   ],
   "source": [
    "proof = solve(ex_1_1_p, concl, -nprem_e, __consistent, models=1)[0]"
   ]
  },
  {
   "cell_type": "code",
   "execution_count": 413,
   "metadata": {
    "pycharm": {
     "name": "#%%\n"
    }
   },
   "outputs": [
    {
     "name": "stdout",
     "output_type": "stream",
     "text": [
      "*-- #true :- concl, not nprem(e), __consistent, __nmr_chk.\n",
      "|\n",
      "|-- __nmr_chk\n",
      "  |\n",
      "  |-- __nmr_chk.\n",
      "    |\n",
      "    |--[]\n",
      "|\n",
      "|-- not nprem(e)\n",
      "  |\n",
      "  |-- not nprem(e) :- not __body(13).\n",
      "    |\n",
      "    |-- not __body(13)\n",
      "      |\n",
      "      |-- not __body(13) :- not __choice(hyp(e)).\n",
      "        |\n",
      "        |-- not __choice(hyp(e))\n",
      "          |\n",
      "          |-- not __choice(hyp(e)) :- not hyp(e).\n",
      "            |\n",
      "            |-- not hyp(e)\n",
      "              |\n",
      "              |-- not hyp(e).\n",
      "                |\n",
      "                |--[]\n",
      "|\n",
      "|-- __consistent\n",
      "  |\n",
      "  |-- __consistent :- __consistency_concl, __consistency_choice(hyp(e)), __consistency_choice(hyp(t)), __consistency_choice(hyp(o)).\n",
      "    |\n",
      "    |-- __consistency_choice(hyp(o))\n",
      "      |\n",
      "      |-- __consistency_choice(hyp(o)) :- not __choice(hyp(o)).\n",
      "    |\n",
      "    |-- __consistency_choice(hyp(e))\n",
      "      |\n",
      "      |-- __consistency_choice(hyp(e)) :- not __choice(hyp(e)).\n",
      "    |\n",
      "    |-- __consistency_choice(hyp(t))\n",
      "      |\n",
      "      |-- __consistency_choice(hyp(t)) :- not __choice(hyp(t)).\n",
      "        |\n",
      "        |-- not __choice(hyp(t))\n",
      "          |\n",
      "          |-- not __choice(hyp(t)) :- not hyp(t).\n",
      "            |\n",
      "            |-- not hyp(t)\n",
      "              |\n",
      "              |-- not hyp(t).\n",
      "                |\n",
      "                |--[]\n",
      "    |\n",
      "    |-- __consistency_choice(hyp(o))\n",
      "      |\n",
      "      |-- __consistency_choice(hyp(o)) :- not __choice(hyp(o)).\n",
      "|\n",
      "|-- __nmr_chk\n",
      "  |\n",
      "  |-- __nmr_chk.\n",
      "    |\n",
      "    |--[]\n"
     ]
    }
   ],
   "source": [
    "explain(proof)"
   ]
  },
  {
   "cell_type": "code",
   "execution_count": 414,
   "metadata": {
    "pycharm": {
     "name": "#%%\n"
    }
   },
   "outputs": [
    {
     "data": {
      "image/svg+xml": "<?xml version=\"1.0\" encoding=\"UTF-8\" standalone=\"no\"?>\n<!DOCTYPE svg PUBLIC \"-//W3C//DTD SVG 1.1//EN\"\n \"http://www.w3.org/Graphics/SVG/1.1/DTD/svg11.dtd\">\n<!-- Generated by graphviz version 3.0.0 (20220227.1548)\n -->\n<!-- Title: default Pages: 1 -->\n<svg width=\"325pt\" height=\"188pt\"\n viewBox=\"0.00 0.00 325.00 188.00\" xmlns=\"http://www.w3.org/2000/svg\" xmlns:xlink=\"http://www.w3.org/1999/xlink\">\n<g id=\"graph0\" class=\"graph\" transform=\"scale(1 1) rotate(0) translate(4 184)\">\n<title>default</title>\n<polygon fill=\"white\" stroke=\"transparent\" points=\"-4,4 -4,-184 321,-184 321,4 -4,4\"/>\n<!-- ((0,0),0) -->\n<g id=\"node1\" class=\"node\">\n<title>((0,0),0)</title>\n<polygon fill=\"none\" stroke=\"black\" points=\"200,-36 117,-36 117,0 200,0 200,-36\"/>\n<text text-anchor=\"middle\" x=\"158.5\" y=\"-14.3\" font-family=\"Times,serif\" font-size=\"14.00\">__nmr_chk.</text>\n</g>\n<!-- 0 -->\n<g id=\"node2\" class=\"node\">\n<title>0</title>\n<polygon fill=\"none\" stroke=\"black\" points=\"317,-180 0,-180 0,-144 317,-144 317,-180\"/>\n<text text-anchor=\"middle\" x=\"158.5\" y=\"-158.3\" font-family=\"Times,serif\" font-size=\"14.00\">#true :&#45; concl, not nprem(e), __consistent, __nmr_chk.</text>\n</g>\n<!-- (0,0) -->\n<g id=\"node3\" class=\"node\">\n<title>(0,0)</title>\n<ellipse fill=\"none\" stroke=\"black\" cx=\"158.5\" cy=\"-90\" rx=\"51.19\" ry=\"18\"/>\n<text text-anchor=\"middle\" x=\"158.5\" y=\"-86.3\" font-family=\"Times,serif\" font-size=\"14.00\">__nmr_chk</text>\n</g>\n<!-- 0&#45;&#45;(0,0) -->\n<g id=\"edge1\" class=\"edge\">\n<title>0&#45;&#45;(0,0)</title>\n<path fill=\"none\" stroke=\"black\" d=\"M158.5,-143.7C158.5,-135.98 158.5,-126.71 158.5,-118.11\"/>\n<polygon fill=\"black\" stroke=\"black\" points=\"162,-118.1 158.5,-108.1 155,-118.1 162,-118.1\"/>\n</g>\n<!-- (0,0)&#45;&#45;((0,0),0) -->\n<g id=\"edge2\" class=\"edge\">\n<title>(0,0)&#45;&#45;((0,0),0)</title>\n<path fill=\"none\" stroke=\"black\" d=\"M158.5,-71.7C158.5,-63.98 158.5,-54.71 158.5,-46.11\"/>\n<polygon fill=\"black\" stroke=\"black\" points=\"162,-46.1 158.5,-36.1 155,-46.1 162,-46.1\"/>\n</g>\n</g>\n</svg>\n",
      "text/plain": "<graphviz.graphs.Graph at 0x7fe9b2fbc9a0>"
     },
     "execution_count": 414,
     "metadata": {},
     "output_type": "execute_result"
    }
   ],
   "source": [
    "explanation_graph(proof)"
   ]
  },
  {
   "cell_type": "code",
   "execution_count": 415,
   "metadata": {
    "pycharm": {
     "name": "#%%\n"
    }
   },
   "outputs": [
    {
     "name": "stdout",
     "output_type": "stream",
     "text": [
      "Answer 0: {\n",
      "not __choice(hyp(t))\n",
      "not __body(8)\n",
      "not nprem(o)\n",
      "not necessary(t)\n",
      "not hyp(o)\n",
      "not necessary(e)\n",
      "not hyp(t)\n",
      "__consistency_choice(hyp(e))\n",
      "not __body(7)\n",
      "prem(e)\n",
      "not hyp(e)\n",
      "__nmr_chk\n",
      "not __body(21)\n",
      "__consistent\n",
      "not __choice(hyp(e))\n",
      "not __body(34)\n",
      "not __body(9)\n",
      "not __body(13)\n",
      "not nprem(t)\n",
      "not __choice(hyp(o))\n",
      "not nconcl\n",
      "not nprem(e)\n",
      "not __body(29)\n",
      "__not_necessary(e)\n",
      "__consistency_choice(hyp(o))\n",
      "__consistency_concl\n",
      "__consistency_choice(hyp(t))\n",
      "sufficient(e)\n",
      "concl\n",
      "}\n",
      "SAT 1+\n"
     ]
    }
   ],
   "source": [
    "proof = solve(ex_1_1_p, concl, -nprem_t, __consistent, models=1)[0]"
   ]
  },
  {
   "cell_type": "code",
   "execution_count": 416,
   "metadata": {
    "pycharm": {
     "name": "#%%\n"
    }
   },
   "outputs": [
    {
     "name": "stdout",
     "output_type": "stream",
     "text": [
      "*-- #true :- concl, not nprem(t), __consistent, __nmr_chk.\n",
      "|\n",
      "|-- __nmr_chk\n",
      "  |\n",
      "  |-- __nmr_chk.\n",
      "    |\n",
      "    |--[]\n",
      "|\n",
      "|-- not nprem(t)\n",
      "  |\n",
      "  |-- not nprem(t) :- not __body(21).\n",
      "    |\n",
      "    |-- not __body(21)\n",
      "      |\n",
      "      |-- not __body(21) :- not __choice(hyp(t)).\n",
      "        |\n",
      "        |-- not __choice(hyp(t))\n",
      "          |\n",
      "          |-- not __choice(hyp(t)) :- not hyp(t).\n",
      "            |\n",
      "            |-- not hyp(t)\n",
      "              |\n",
      "              |-- not hyp(t).\n",
      "                |\n",
      "                |--[]\n",
      "|\n",
      "|-- __consistent\n",
      "  |\n",
      "  |-- __consistent :- __consistency_concl, __consistency_choice(hyp(e)), __consistency_choice(hyp(t)), __consistency_choice(hyp(o)).\n",
      "    |\n",
      "    |-- __consistency_choice(hyp(o))\n",
      "      |\n",
      "      |-- __consistency_choice(hyp(o)) :- not __choice(hyp(o)).\n",
      "    |\n",
      "    |-- __consistency_choice(hyp(e))\n",
      "      |\n",
      "      |-- __consistency_choice(hyp(e)) :- not __choice(hyp(e)).\n",
      "    |\n",
      "    |-- __consistency_choice(hyp(t))\n",
      "      |\n",
      "      |-- __consistency_choice(hyp(t)) :- not __choice(hyp(t)).\n",
      "    |\n",
      "    |-- __consistency_choice(hyp(o))\n",
      "      |\n",
      "      |-- __consistency_choice(hyp(o)) :- not __choice(hyp(o)).\n",
      "|\n",
      "|-- __nmr_chk\n",
      "  |\n",
      "  |-- __nmr_chk.\n",
      "    |\n",
      "    |--[]\n"
     ]
    }
   ],
   "source": [
    "explain(proof)"
   ]
  },
  {
   "cell_type": "code",
   "execution_count": 417,
   "metadata": {
    "pycharm": {
     "name": "#%%\n"
    }
   },
   "outputs": [
    {
     "data": {
      "image/svg+xml": "<?xml version=\"1.0\" encoding=\"UTF-8\" standalone=\"no\"?>\n<!DOCTYPE svg PUBLIC \"-//W3C//DTD SVG 1.1//EN\"\n \"http://www.w3.org/Graphics/SVG/1.1/DTD/svg11.dtd\">\n<!-- Generated by graphviz version 3.0.0 (20220227.1548)\n -->\n<!-- Title: default Pages: 1 -->\n<svg width=\"322pt\" height=\"188pt\"\n viewBox=\"0.00 0.00 322.00 188.00\" xmlns=\"http://www.w3.org/2000/svg\" xmlns:xlink=\"http://www.w3.org/1999/xlink\">\n<g id=\"graph0\" class=\"graph\" transform=\"scale(1 1) rotate(0) translate(4 184)\">\n<title>default</title>\n<polygon fill=\"white\" stroke=\"transparent\" points=\"-4,4 -4,-184 318,-184 318,4 -4,4\"/>\n<!-- ((0,0),0) -->\n<g id=\"node1\" class=\"node\">\n<title>((0,0),0)</title>\n<polygon fill=\"none\" stroke=\"black\" points=\"198.5,-36 115.5,-36 115.5,0 198.5,0 198.5,-36\"/>\n<text text-anchor=\"middle\" x=\"157\" y=\"-14.3\" font-family=\"Times,serif\" font-size=\"14.00\">__nmr_chk.</text>\n</g>\n<!-- 0 -->\n<g id=\"node2\" class=\"node\">\n<title>0</title>\n<polygon fill=\"none\" stroke=\"black\" points=\"314,-180 0,-180 0,-144 314,-144 314,-180\"/>\n<text text-anchor=\"middle\" x=\"157\" y=\"-158.3\" font-family=\"Times,serif\" font-size=\"14.00\">#true :&#45; concl, not nprem(t), __consistent, __nmr_chk.</text>\n</g>\n<!-- (0,0) -->\n<g id=\"node3\" class=\"node\">\n<title>(0,0)</title>\n<ellipse fill=\"none\" stroke=\"black\" cx=\"157\" cy=\"-90\" rx=\"51.19\" ry=\"18\"/>\n<text text-anchor=\"middle\" x=\"157\" y=\"-86.3\" font-family=\"Times,serif\" font-size=\"14.00\">__nmr_chk</text>\n</g>\n<!-- 0&#45;&#45;(0,0) -->\n<g id=\"edge1\" class=\"edge\">\n<title>0&#45;&#45;(0,0)</title>\n<path fill=\"none\" stroke=\"black\" d=\"M157,-143.7C157,-135.98 157,-126.71 157,-118.11\"/>\n<polygon fill=\"black\" stroke=\"black\" points=\"160.5,-118.1 157,-108.1 153.5,-118.1 160.5,-118.1\"/>\n</g>\n<!-- (0,0)&#45;&#45;((0,0),0) -->\n<g id=\"edge2\" class=\"edge\">\n<title>(0,0)&#45;&#45;((0,0),0)</title>\n<path fill=\"none\" stroke=\"black\" d=\"M157,-71.7C157,-63.98 157,-54.71 157,-46.11\"/>\n<polygon fill=\"black\" stroke=\"black\" points=\"160.5,-46.1 157,-36.1 153.5,-46.1 160.5,-46.1\"/>\n</g>\n</g>\n</svg>\n",
      "text/plain": "<graphviz.graphs.Graph at 0x7fe9b2f20910>"
     },
     "execution_count": 417,
     "metadata": {},
     "output_type": "execute_result"
    }
   ],
   "source": [
    "explanation_graph(proof)"
   ]
  },
  {
   "cell_type": "code",
   "execution_count": 418,
   "metadata": {
    "pycharm": {
     "name": "#%%\n"
    }
   },
   "outputs": [
    {
     "name": "stdout",
     "output_type": "stream",
     "text": [
      "UNSAT\n"
     ]
    }
   ],
   "source": [
    "solve(ex_1_1_p, nconcl, __consistent, models=1);"
   ]
  },
  {
   "cell_type": "code",
   "execution_count": 419,
   "metadata": {
    "pycharm": {
     "name": "#%%\n"
    }
   },
   "outputs": [
    {
     "name": "stdout",
     "output_type": "stream",
     "text": [
      "Answer 0: {\n",
      "not __choice(hyp(t))\n",
      "not __body(8)\n",
      "not nprem(o)\n",
      "not necessary(t)\n",
      "not hyp(o)\n",
      "not necessary(e)\n",
      "not hyp(t)\n",
      "__consistency_choice(hyp(e))\n",
      "not __body(7)\n",
      "not hyp(e)\n",
      "__nmr_chk\n",
      "__consistent\n",
      "not __choice(hyp(e))\n",
      "not __body(34)\n",
      "not __body(9)\n",
      "not __body(13)\n",
      "not __choice(hyp(o))\n",
      "not nconcl\n",
      "not nprem(e)\n",
      "not __body(29)\n",
      "__not_necessary(e)\n",
      "__consistency_choice(hyp(o))\n",
      "__consistency_concl\n",
      "__consistency_choice(hyp(t))\n",
      "}\n",
      "SAT 1+\n"
     ]
    }
   ],
   "source": [
    "proof = solve(ex_1_1_p, -nconcl, __consistent, models=1)[0]"
   ]
  },
  {
   "cell_type": "code",
   "execution_count": 420,
   "metadata": {
    "pycharm": {
     "name": "#%%\n"
    }
   },
   "outputs": [
    {
     "name": "stdout",
     "output_type": "stream",
     "text": [
      "*-- #true :- not nconcl, __consistent, __nmr_chk.\n",
      "|\n",
      "|-- __nmr_chk\n",
      "  |\n",
      "  |-- __nmr_chk.\n",
      "    |\n",
      "    |--[]\n",
      "|\n",
      "|-- __consistent\n",
      "  |\n",
      "  |-- __consistent :- __consistency_concl, __consistency_choice(hyp(e)), __consistency_choice(hyp(t)), __consistency_choice(hyp(o)).\n",
      "    |\n",
      "    |-- __consistency_choice(hyp(o))\n",
      "      |\n",
      "      |-- __consistency_choice(hyp(o)) :- not __choice(hyp(o)).\n",
      "    |\n",
      "    |-- __consistency_choice(hyp(e))\n",
      "      |\n",
      "      |-- __consistency_choice(hyp(e)) :- not __choice(hyp(e)).\n",
      "    |\n",
      "    |-- __consistency_choice(hyp(t))\n",
      "      |\n",
      "      |-- __consistency_choice(hyp(t)) :- not __choice(hyp(t)).\n",
      "        |\n",
      "        |-- not __choice(hyp(t))\n",
      "          |\n",
      "          |-- not __choice(hyp(t)) :- not hyp(t).\n",
      "            |\n",
      "            |-- not hyp(t)\n",
      "              |\n",
      "              |-- not hyp(t).\n",
      "                |\n",
      "                |--[]\n",
      "    |\n",
      "    |-- __consistency_choice(hyp(o))\n",
      "      |\n",
      "      |-- __consistency_choice(hyp(o)) :- not __choice(hyp(o)).\n",
      "|\n",
      "|-- __nmr_chk\n",
      "  |\n",
      "  |-- __nmr_chk.\n",
      "    |\n",
      "    |--[]\n"
     ]
    }
   ],
   "source": [
    "explain(proof)"
   ]
  },
  {
   "cell_type": "code",
   "execution_count": 421,
   "metadata": {
    "pycharm": {
     "name": "#%%\n"
    }
   },
   "outputs": [
    {
     "data": {
      "image/svg+xml": "<?xml version=\"1.0\" encoding=\"UTF-8\" standalone=\"no\"?>\n<!DOCTYPE svg PUBLIC \"-//W3C//DTD SVG 1.1//EN\"\n \"http://www.w3.org/Graphics/SVG/1.1/DTD/svg11.dtd\">\n<!-- Generated by graphviz version 3.0.0 (20220227.1548)\n -->\n<!-- Title: default Pages: 1 -->\n<svg width=\"274pt\" height=\"188pt\"\n viewBox=\"0.00 0.00 274.00 188.00\" xmlns=\"http://www.w3.org/2000/svg\" xmlns:xlink=\"http://www.w3.org/1999/xlink\">\n<g id=\"graph0\" class=\"graph\" transform=\"scale(1 1) rotate(0) translate(4 184)\">\n<title>default</title>\n<polygon fill=\"white\" stroke=\"transparent\" points=\"-4,4 -4,-184 270,-184 270,4 -4,4\"/>\n<!-- ((0,0),0) -->\n<g id=\"node1\" class=\"node\">\n<title>((0,0),0)</title>\n<polygon fill=\"none\" stroke=\"black\" points=\"174.5,-36 91.5,-36 91.5,0 174.5,0 174.5,-36\"/>\n<text text-anchor=\"middle\" x=\"133\" y=\"-14.3\" font-family=\"Times,serif\" font-size=\"14.00\">__nmr_chk.</text>\n</g>\n<!-- 0 -->\n<g id=\"node2\" class=\"node\">\n<title>0</title>\n<polygon fill=\"none\" stroke=\"black\" points=\"266,-180 0,-180 0,-144 266,-144 266,-180\"/>\n<text text-anchor=\"middle\" x=\"133\" y=\"-158.3\" font-family=\"Times,serif\" font-size=\"14.00\">#true :&#45; not nconcl, __consistent, __nmr_chk.</text>\n</g>\n<!-- (0,0) -->\n<g id=\"node3\" class=\"node\">\n<title>(0,0)</title>\n<ellipse fill=\"none\" stroke=\"black\" cx=\"133\" cy=\"-90\" rx=\"51.19\" ry=\"18\"/>\n<text text-anchor=\"middle\" x=\"133\" y=\"-86.3\" font-family=\"Times,serif\" font-size=\"14.00\">__nmr_chk</text>\n</g>\n<!-- 0&#45;&#45;(0,0) -->\n<g id=\"edge1\" class=\"edge\">\n<title>0&#45;&#45;(0,0)</title>\n<path fill=\"none\" stroke=\"black\" d=\"M133,-143.7C133,-135.98 133,-126.71 133,-118.11\"/>\n<polygon fill=\"black\" stroke=\"black\" points=\"136.5,-118.1 133,-108.1 129.5,-118.1 136.5,-118.1\"/>\n</g>\n<!-- (0,0)&#45;&#45;((0,0),0) -->\n<g id=\"edge2\" class=\"edge\">\n<title>(0,0)&#45;&#45;((0,0),0)</title>\n<path fill=\"none\" stroke=\"black\" d=\"M133,-71.7C133,-63.98 133,-54.71 133,-46.11\"/>\n<polygon fill=\"black\" stroke=\"black\" points=\"136.5,-46.1 133,-36.1 129.5,-46.1 136.5,-46.1\"/>\n</g>\n</g>\n</svg>\n",
      "text/plain": "<graphviz.graphs.Graph at 0x7fe9b29cb5e0>"
     },
     "execution_count": 421,
     "metadata": {},
     "output_type": "execute_result"
    }
   ],
   "source": [
    "explanation_graph(proof)"
   ]
  },
  {
   "cell_type": "code",
   "execution_count": 422,
   "outputs": [
    {
     "name": "stdout",
     "output_type": "stream",
     "text": [
      "Answer 0: {\n",
      "not __choice(hyp(t))\n",
      "not __body(8)\n",
      "not nprem(o)\n",
      "not necessary(t)\n",
      "not hyp(o)\n",
      "not necessary(e)\n",
      "not hyp(t)\n",
      "__consistency_choice(hyp(e))\n",
      "not __body(7)\n",
      "not hyp(e)\n",
      "__nmr_chk\n",
      "__consistent\n",
      "not __choice(hyp(e))\n",
      "not __body(34)\n",
      "not __body(9)\n",
      "not __body(13)\n",
      "not __choice(hyp(o))\n",
      "not nconcl\n",
      "not nprem(e)\n",
      "not __body(29)\n",
      "__not_necessary(e)\n",
      "__consistency_choice(hyp(o))\n",
      "__consistency_concl\n",
      "__consistency_choice(hyp(t))\n",
      "}\n",
      "SAT 1+\n"
     ]
    }
   ],
   "source": [
    "proof = solve(ex_1_1_p, __consistent, models=1)[0]"
   ],
   "metadata": {
    "collapsed": false,
    "pycharm": {
     "name": "#%%\n"
    }
   }
  },
  {
   "cell_type": "code",
   "execution_count": 423,
   "outputs": [
    {
     "name": "stdout",
     "output_type": "stream",
     "text": [
      "*-- #true :- __consistent, __nmr_chk.\n",
      "|\n",
      "|-- __nmr_chk\n",
      "  |\n",
      "  |-- __nmr_chk.\n",
      "    |\n",
      "    |--[]\n",
      "|\n",
      "|-- __nmr_chk\n",
      "  |\n",
      "  |-- __nmr_chk.\n",
      "    |\n",
      "    |--[]\n"
     ]
    }
   ],
   "source": [
    "explain(proof)"
   ],
   "metadata": {
    "collapsed": false,
    "pycharm": {
     "name": "#%%\n"
    }
   }
  },
  {
   "cell_type": "code",
   "execution_count": 424,
   "outputs": [
    {
     "data": {
      "image/svg+xml": "<?xml version=\"1.0\" encoding=\"UTF-8\" standalone=\"no\"?>\n<!DOCTYPE svg PUBLIC \"-//W3C//DTD SVG 1.1//EN\"\n \"http://www.w3.org/Graphics/SVG/1.1/DTD/svg11.dtd\">\n<!-- Generated by graphviz version 3.0.0 (20220227.1548)\n -->\n<!-- Title: default Pages: 1 -->\n<svg width=\"209pt\" height=\"188pt\"\n viewBox=\"0.00 0.00 209.00 188.00\" xmlns=\"http://www.w3.org/2000/svg\" xmlns:xlink=\"http://www.w3.org/1999/xlink\">\n<g id=\"graph0\" class=\"graph\" transform=\"scale(1 1) rotate(0) translate(4 184)\">\n<title>default</title>\n<polygon fill=\"white\" stroke=\"transparent\" points=\"-4,4 -4,-184 205,-184 205,4 -4,4\"/>\n<!-- ((0,0),0) -->\n<g id=\"node1\" class=\"node\">\n<title>((0,0),0)</title>\n<polygon fill=\"none\" stroke=\"black\" points=\"142,-36 59,-36 59,0 142,0 142,-36\"/>\n<text text-anchor=\"middle\" x=\"100.5\" y=\"-14.3\" font-family=\"Times,serif\" font-size=\"14.00\">__nmr_chk.</text>\n</g>\n<!-- 0 -->\n<g id=\"node2\" class=\"node\">\n<title>0</title>\n<polygon fill=\"none\" stroke=\"black\" points=\"201,-180 0,-180 0,-144 201,-144 201,-180\"/>\n<text text-anchor=\"middle\" x=\"100.5\" y=\"-158.3\" font-family=\"Times,serif\" font-size=\"14.00\">#true :&#45; __consistent, __nmr_chk.</text>\n</g>\n<!-- (0,0) -->\n<g id=\"node3\" class=\"node\">\n<title>(0,0)</title>\n<ellipse fill=\"none\" stroke=\"black\" cx=\"100.5\" cy=\"-90\" rx=\"51.19\" ry=\"18\"/>\n<text text-anchor=\"middle\" x=\"100.5\" y=\"-86.3\" font-family=\"Times,serif\" font-size=\"14.00\">__nmr_chk</text>\n</g>\n<!-- 0&#45;&#45;(0,0) -->\n<g id=\"edge1\" class=\"edge\">\n<title>0&#45;&#45;(0,0)</title>\n<path fill=\"none\" stroke=\"black\" d=\"M100.5,-143.7C100.5,-135.98 100.5,-126.71 100.5,-118.11\"/>\n<polygon fill=\"black\" stroke=\"black\" points=\"104,-118.1 100.5,-108.1 97,-118.1 104,-118.1\"/>\n</g>\n<!-- (0,0)&#45;&#45;((0,0),0) -->\n<g id=\"edge2\" class=\"edge\">\n<title>(0,0)&#45;&#45;((0,0),0)</title>\n<path fill=\"none\" stroke=\"black\" d=\"M100.5,-71.7C100.5,-63.98 100.5,-54.71 100.5,-46.11\"/>\n<polygon fill=\"black\" stroke=\"black\" points=\"104,-46.1 100.5,-36.1 97,-46.1 104,-46.1\"/>\n</g>\n</g>\n</svg>\n",
      "text/plain": "<graphviz.graphs.Graph at 0x7fe9b27af520>"
     },
     "execution_count": 424,
     "metadata": {},
     "output_type": "execute_result"
    }
   ],
   "source": [
    "explanation_graph(proof)"
   ],
   "metadata": {
    "collapsed": false,
    "pycharm": {
     "name": "#%%\n"
    }
   }
  },
  {
   "cell_type": "code",
   "execution_count": 425,
   "metadata": {
    "pycharm": {
     "name": "#%%\n"
    }
   },
   "outputs": [
    {
     "name": "stdout",
     "output_type": "stream",
     "text": [
      "__consistent :- __consistency_concl, __consistency_choice(hyp(e)), __consistency_choice(hyp(t)), __consistency_choice(hyp(o)).\n",
      "__consistency_concl :- not concl.\n",
      "__consistency_concl :- not nconcl.\n",
      "concl :- prem(e), sufficient(e).\n",
      "concl :- prem(t), sufficient(t).\n",
      "concl :- prem(o), sufficient(o).\n",
      "nconcl :- nprem(e), necessary(e).\n",
      "nconcl :- nprem(t), necessary(t).\n",
      "nconcl :- nprem(o), necessary(o).\n",
      "__choice(hyp(e)) :- hyp(e).\n",
      "prem(e) :- __choice(hyp(e)), not __not_prem(e).\n",
      "__not_prem(e) :- __choice(hyp(e)), not prem(e).\n",
      "nprem(e) :- __choice(hyp(e)), not __not_nprem(e).\n",
      "__not_nprem(e) :- __choice(hyp(e)), not nprem(e).\n",
      "__consistency_choice(hyp(e)) :- not __choice(hyp(e)).\n",
      "__consistency_choice(hyp(e)) :- not prem(e).\n",
      "__consistency_choice(hyp(e)) :- not nprem(e).\n",
      "__choice(hyp(t)) :- hyp(t).\n",
      "prem(t) :- __choice(hyp(t)), not __not_prem(t).\n",
      "__not_prem(t) :- __choice(hyp(t)), not prem(t).\n",
      "nprem(t) :- __choice(hyp(t)), not __not_nprem(t).\n",
      "__not_nprem(t) :- __choice(hyp(t)), not nprem(t).\n",
      "__consistency_choice(hyp(t)) :- not __choice(hyp(t)).\n",
      "__consistency_choice(hyp(t)) :- not prem(t).\n",
      "__consistency_choice(hyp(t)) :- not nprem(t).\n",
      "__choice(hyp(o)) :- hyp(o).\n",
      "prem(o) :- __choice(hyp(o)), not __not_prem(o).\n",
      "__not_prem(o) :- __choice(hyp(o)), not prem(o).\n",
      "nprem(o) :- __choice(hyp(o)), not __not_nprem(o).\n",
      "__not_nprem(o) :- __choice(hyp(o)), not nprem(o).\n",
      "__consistency_choice(hyp(o)) :- not __choice(hyp(o)).\n",
      "__consistency_choice(hyp(o)) :- not prem(o).\n",
      "__consistency_choice(hyp(o)) :- not nprem(o).\n",
      "nconcl :- nprem(e), nprem(t).\n",
      "sufficient(e).\n",
      "sufficient(t).\n",
      "necessary(o).\n",
      "prem(e).\n",
      "hyp(t) :- not not_hyp(t).\n",
      "not_hyp(t) :- not hyp(t).\n",
      "query(concl).\n"
     ]
    }
   ],
   "source": [
    "ex_1_2_str = \"\"\"\n",
    "\n",
    "prem(e).\n",
    "{hyp(t)}.\n",
    "\n",
    "query(concl).\n",
    "\n",
    "\"\"\"\n",
    "\n",
    "hyp_t = BasicLiteral(atom=Atom(Function('hyp', (t,))))\n",
    "not_hyp_t = BasicLiteral(atom=Atom(Function('not_hyp', (t,))))\n",
    "\n",
    "ex_1_2_rules = (\n",
    "    NormalRule(prem_e),\n",
    "    NormalRule(hyp_t, (-not_hyp_t,)),\n",
    "    NormalRule(not_hyp_t, (-hyp_t,)),\n",
    "    NormalRule(query_concl),\n",
    ")\n",
    "\n",
    "ex_1_2_p = Program((\n",
    "    *encoding_rules,\n",
    "    *ex_1_2_rules))\n",
    "\n",
    "print(ex_1_2_p.fmt(sep='\\n'))"
   ]
  },
  {
   "cell_type": "code",
   "execution_count": 426,
   "metadata": {
    "pycharm": {
     "name": "#%%\n"
    }
   },
   "outputs": [
    {
     "name": "stdout",
     "output_type": "stream",
     "text": [
      "__consistent :- __consistency_concl, __consistency_choice(hyp(e)), __consistency_choice(hyp(t)), __consistency_choice(hyp(o)).\n",
      "__consistency_concl :- not concl.\n",
      "__consistency_concl :- not nconcl.\n",
      "concl :- prem(e), sufficient(e).\n",
      "concl :- prem(t), sufficient(t).\n",
      "concl :- prem(o), sufficient(o).\n",
      "nconcl :- nprem(e), necessary(e).\n",
      "nconcl :- nprem(t), necessary(t).\n",
      "nconcl :- nprem(o), necessary(o).\n",
      "__choice(hyp(e)) :- hyp(e).\n",
      "prem(e) :- __choice(hyp(e)), not __not_prem(e).\n",
      "__not_prem(e) :- __choice(hyp(e)), not prem(e).\n",
      "nprem(e) :- __choice(hyp(e)), not __not_nprem(e).\n",
      "__not_nprem(e) :- __choice(hyp(e)), not nprem(e).\n",
      "__consistency_choice(hyp(e)) :- not __choice(hyp(e)).\n",
      "__consistency_choice(hyp(e)) :- not prem(e).\n",
      "__consistency_choice(hyp(e)) :- not nprem(e).\n",
      "__choice(hyp(t)) :- hyp(t).\n",
      "prem(t) :- __choice(hyp(t)), not __not_prem(t).\n",
      "__not_prem(t) :- __choice(hyp(t)), not prem(t).\n",
      "nprem(t) :- __choice(hyp(t)), not __not_nprem(t).\n",
      "__not_nprem(t) :- __choice(hyp(t)), not nprem(t).\n",
      "__consistency_choice(hyp(t)) :- not __choice(hyp(t)).\n",
      "__consistency_choice(hyp(t)) :- not prem(t).\n",
      "__consistency_choice(hyp(t)) :- not nprem(t).\n",
      "__choice(hyp(o)) :- hyp(o).\n",
      "prem(o) :- __choice(hyp(o)), not __not_prem(o).\n",
      "__not_prem(o) :- __choice(hyp(o)), not prem(o).\n",
      "nprem(o) :- __choice(hyp(o)), not __not_nprem(o).\n",
      "__not_nprem(o) :- __choice(hyp(o)), not nprem(o).\n",
      "__consistency_choice(hyp(o)) :- not __choice(hyp(o)).\n",
      "__consistency_choice(hyp(o)) :- not prem(o).\n",
      "__consistency_choice(hyp(o)) :- not nprem(o).\n",
      "nconcl :- nprem(e), nprem(t).\n",
      "sufficient(e).\n",
      "sufficient(t).\n",
      "necessary(o).\n",
      "prem(e).\n",
      "hyp(t) :- not not_hyp(t).\n",
      "not_hyp(t) :- not hyp(t).\n",
      "query(concl).\n",
      "not __body(1) :- not __consistency_choice(hyp(e)).\n",
      "not __body(1) :- not __consistency_choice(hyp(o)).\n",
      "not __body(1) :- not __consistency_choice(hyp(t)).\n",
      "not __body(1) :- not __consistency_concl.\n",
      "not __consistent :- not __body(1).\n",
      "not __consistency_concl :- concl, nconcl.\n",
      "not __body(4) :- not prem(e).\n",
      "not __body(4) :- not sufficient(e).\n",
      "not __body(5) :- not prem(t).\n",
      "not __body(5) :- not sufficient(t).\n",
      "not __body(6) :- not prem(o).\n",
      "not __body(6) :- not sufficient(o).\n",
      "not concl :- not __body(4), not __body(5), not __body(6).\n",
      "not __body(8) :- not necessary(t).\n",
      "not __body(8) :- not nprem(t).\n",
      "not __body(9) :- not necessary(o).\n",
      "not __body(9) :- not nprem(o).\n",
      "not __body(34) :- not nprem(e).\n",
      "not __body(34) :- not nprem(t).\n",
      "not __body(7) :- not necessary(e).\n",
      "not __body(7) :- not nprem(e).\n",
      "not nconcl :- not __body(8), not __body(9), not __body(34), not __body(7).\n",
      "not __choice(hyp(e)) :- not hyp(e).\n",
      "not __body(12) :- not __choice(hyp(e)).\n",
      "not __body(12) :- prem(e).\n",
      "not __not_prem(e) :- not __body(12).\n",
      "not __body(13) :- not __choice(hyp(e)).\n",
      "not __body(13) :- __not_nprem(e).\n",
      "not nprem(e) :- not __body(13).\n",
      "not __body(14) :- not __choice(hyp(e)).\n",
      "not __body(14) :- nprem(e).\n",
      "not __not_nprem(e) :- not __body(14).\n",
      "not __consistency_choice(hyp(e)) :- prem(e), nprem(e), __choice(hyp(e)).\n",
      "not __choice(hyp(t)) :- not hyp(t).\n",
      "not __body(19) :- not __choice(hyp(t)).\n",
      "not __body(19) :- __not_prem(t).\n",
      "not prem(t) :- not __body(19).\n",
      "not __body(20) :- not __choice(hyp(t)).\n",
      "not __body(20) :- prem(t).\n",
      "not __not_prem(t) :- not __body(20).\n",
      "not __body(21) :- not __choice(hyp(t)).\n",
      "not __body(21) :- __not_nprem(t).\n",
      "not nprem(t) :- not __body(21).\n",
      "not __body(22) :- not __choice(hyp(t)).\n",
      "not __body(22) :- nprem(t).\n",
      "not __not_nprem(t) :- not __body(22).\n",
      "not __consistency_choice(hyp(t)) :- prem(t), nprem(t), __choice(hyp(t)).\n",
      "not __choice(hyp(o)) :- not hyp(o).\n",
      "not __body(27) :- not __choice(hyp(o)).\n",
      "not __body(27) :- __not_prem(o).\n",
      "not prem(o) :- not __body(27).\n",
      "not __body(28) :- not __choice(hyp(o)).\n",
      "not __body(28) :- prem(o).\n",
      "not __not_prem(o) :- not __body(28).\n",
      "not __body(29) :- not __choice(hyp(o)).\n",
      "not __body(29) :- __not_nprem(o).\n",
      "not nprem(o) :- not __body(29).\n",
      "not __body(30) :- not __choice(hyp(o)).\n",
      "not __body(30) :- nprem(o).\n",
      "not __not_nprem(o) :- not __body(30).\n",
      "not __consistency_choice(hyp(o)) :- prem(o), nprem(o), __choice(hyp(o)).\n",
      "not hyp(t) :- not_hyp(t).\n",
      "not not_hyp(t) :- hyp(t).\n",
      "not hyp(e).\n",
      "not sufficient(o).\n",
      "not necessary(t).\n",
      "not hyp(o).\n",
      "not necessary(e).\n",
      "__nmr_chk.\n"
     ]
    }
   ],
   "source": [
    "print(ex_1_2_p.sASP.fmt(sep='\\n'))"
   ]
  },
  {
   "cell_type": "code",
   "execution_count": 427,
   "metadata": {
    "pycharm": {
     "name": "#%%\n"
    }
   },
   "outputs": [
    {
     "name": "stdout",
     "output_type": "stream",
     "text": [
      "Answer 0: {\n",
      "not __choice(hyp(t))\n",
      "not __body(8)\n",
      "not nprem(o)\n",
      "not necessary(t)\n",
      "not hyp(o)\n",
      "not necessary(e)\n",
      "not hyp(t)\n",
      "__consistency_choice(hyp(e))\n",
      "not __body(7)\n",
      "not_hyp(t)\n",
      "prem(e)\n",
      "not hyp(e)\n",
      "__nmr_chk\n",
      "__consistent\n",
      "not __choice(hyp(e))\n",
      "not __body(34)\n",
      "not __body(9)\n",
      "not __body(13)\n",
      "not __choice(hyp(o))\n",
      "not nconcl\n",
      "not nprem(e)\n",
      "not __body(29)\n",
      "__consistency_choice(hyp(o))\n",
      "__consistency_concl\n",
      "__consistency_choice(hyp(t))\n",
      "sufficient(e)\n",
      "concl\n",
      "}\n",
      "SAT 1+\n"
     ]
    }
   ],
   "source": [
    "proof = solve(ex_1_2_p, concl, __consistent, models=1)[0]"
   ]
  },
  {
   "cell_type": "code",
   "execution_count": 428,
   "metadata": {
    "pycharm": {
     "name": "#%%\n"
    }
   },
   "outputs": [
    {
     "name": "stdout",
     "output_type": "stream",
     "text": [
      "*-- #true :- concl, __consistent, __nmr_chk.\n",
      "|\n",
      "|-- __nmr_chk\n",
      "  |\n",
      "  |-- __nmr_chk.\n",
      "    |\n",
      "    |--[]\n",
      "|\n",
      "|-- __consistent\n",
      "  |\n",
      "  |-- __consistent :- __consistency_concl, __consistency_choice(hyp(e)), __consistency_choice(hyp(t)), __consistency_choice(hyp(o)).\n",
      "    |\n",
      "    |-- __consistency_choice(hyp(o))\n",
      "      |\n",
      "      |-- __consistency_choice(hyp(o)) :- not __choice(hyp(o)).\n",
      "    |\n",
      "    |-- __consistency_choice(hyp(e))\n",
      "      |\n",
      "      |-- __consistency_choice(hyp(e)) :- not __choice(hyp(e)).\n",
      "    |\n",
      "    |-- __consistency_choice(hyp(t))\n",
      "      |\n",
      "      |-- __consistency_choice(hyp(t)) :- not __choice(hyp(t)).\n",
      "        |\n",
      "        |-- not __choice(hyp(t))\n",
      "          |\n",
      "          |-- not __choice(hyp(t)) :- not hyp(t).\n",
      "            |\n",
      "            |-- not hyp(t)\n",
      "              |\n",
      "              |-- not hyp(t) :- not_hyp(t).\n",
      "                |\n",
      "                |-- not_hyp(t)\n",
      "                  |\n",
      "                  |-- not_hyp(t) :- not hyp(t).\n",
      "    |\n",
      "    |-- __consistency_choice(hyp(o))\n",
      "      |\n",
      "      |-- __consistency_choice(hyp(o)) :- not __choice(hyp(o)).\n",
      "|\n",
      "|-- __nmr_chk\n",
      "  |\n",
      "  |-- __nmr_chk.\n",
      "    |\n",
      "    |--[]\n"
     ]
    }
   ],
   "source": [
    "explain(proof)"
   ]
  },
  {
   "cell_type": "code",
   "execution_count": 429,
   "metadata": {
    "pycharm": {
     "name": "#%%\n"
    }
   },
   "outputs": [
    {
     "data": {
      "image/svg+xml": "<?xml version=\"1.0\" encoding=\"UTF-8\" standalone=\"no\"?>\n<!DOCTYPE svg PUBLIC \"-//W3C//DTD SVG 1.1//EN\"\n \"http://www.w3.org/Graphics/SVG/1.1/DTD/svg11.dtd\">\n<!-- Generated by graphviz version 3.0.0 (20220227.1548)\n -->\n<!-- Title: default Pages: 1 -->\n<svg width=\"246pt\" height=\"188pt\"\n viewBox=\"0.00 0.00 246.00 188.00\" xmlns=\"http://www.w3.org/2000/svg\" xmlns:xlink=\"http://www.w3.org/1999/xlink\">\n<g id=\"graph0\" class=\"graph\" transform=\"scale(1 1) rotate(0) translate(4 184)\">\n<title>default</title>\n<polygon fill=\"white\" stroke=\"transparent\" points=\"-4,4 -4,-184 242,-184 242,4 -4,4\"/>\n<!-- ((0,0),0) -->\n<g id=\"node1\" class=\"node\">\n<title>((0,0),0)</title>\n<polygon fill=\"none\" stroke=\"black\" points=\"160.5,-36 77.5,-36 77.5,0 160.5,0 160.5,-36\"/>\n<text text-anchor=\"middle\" x=\"119\" y=\"-14.3\" font-family=\"Times,serif\" font-size=\"14.00\">__nmr_chk.</text>\n</g>\n<!-- 0 -->\n<g id=\"node2\" class=\"node\">\n<title>0</title>\n<polygon fill=\"none\" stroke=\"black\" points=\"238,-180 0,-180 0,-144 238,-144 238,-180\"/>\n<text text-anchor=\"middle\" x=\"119\" y=\"-158.3\" font-family=\"Times,serif\" font-size=\"14.00\">#true :&#45; concl, __consistent, __nmr_chk.</text>\n</g>\n<!-- (0,0) -->\n<g id=\"node3\" class=\"node\">\n<title>(0,0)</title>\n<ellipse fill=\"none\" stroke=\"black\" cx=\"119\" cy=\"-90\" rx=\"51.19\" ry=\"18\"/>\n<text text-anchor=\"middle\" x=\"119\" y=\"-86.3\" font-family=\"Times,serif\" font-size=\"14.00\">__nmr_chk</text>\n</g>\n<!-- 0&#45;&#45;(0,0) -->\n<g id=\"edge1\" class=\"edge\">\n<title>0&#45;&#45;(0,0)</title>\n<path fill=\"none\" stroke=\"black\" d=\"M119,-143.7C119,-135.98 119,-126.71 119,-118.11\"/>\n<polygon fill=\"black\" stroke=\"black\" points=\"122.5,-118.1 119,-108.1 115.5,-118.1 122.5,-118.1\"/>\n</g>\n<!-- (0,0)&#45;&#45;((0,0),0) -->\n<g id=\"edge2\" class=\"edge\">\n<title>(0,0)&#45;&#45;((0,0),0)</title>\n<path fill=\"none\" stroke=\"black\" d=\"M119,-71.7C119,-63.98 119,-54.71 119,-46.11\"/>\n<polygon fill=\"black\" stroke=\"black\" points=\"122.5,-46.1 119,-36.1 115.5,-46.1 122.5,-46.1\"/>\n</g>\n</g>\n</svg>\n",
      "text/plain": "<graphviz.graphs.Graph at 0x7fe9b27e0910>"
     },
     "execution_count": 429,
     "metadata": {},
     "output_type": "execute_result"
    }
   ],
   "source": [
    "explanation_graph(proof)"
   ]
  },
  {
   "cell_type": "code",
   "execution_count": 430,
   "metadata": {
    "pycharm": {
     "name": "#%%\n"
    }
   },
   "outputs": [
    {
     "name": "stdout",
     "output_type": "stream",
     "text": [
      "Answer 0: {\n",
      "not __body(8)\n",
      "not nprem(o)\n",
      "not necessary(t)\n",
      "not hyp(o)\n",
      "not necessary(e)\n",
      "not __body(19)\n",
      "__consistency_choice(hyp(e))\n",
      "not __body(7)\n",
      "prem(e)\n",
      "not hyp(e)\n",
      "__nmr_chk\n",
      "__consistent\n",
      "not __choice(hyp(e))\n",
      "not __body(34)\n",
      "not __body(9)\n",
      "__not_prem(t)\n",
      "not __body(13)\n",
      "not prem(t)\n",
      "not __choice(hyp(o))\n",
      "__choice(hyp(t))\n",
      "not nconcl\n",
      "not nprem(e)\n",
      "not not_hyp(t)\n",
      "not __body(29)\n",
      "hyp(t)\n",
      "__consistency_concl\n",
      "__consistency_choice(hyp(o))\n",
      "__consistency_choice(hyp(t))\n",
      "sufficient(e)\n",
      "concl\n",
      "}\n",
      "SAT 1+\n"
     ]
    }
   ],
   "source": [
    "proof = solve(ex_1_2_p, concl, hyp_t, __consistent, models=1)[0]"
   ]
  },
  {
   "cell_type": "code",
   "execution_count": 431,
   "metadata": {
    "pycharm": {
     "name": "#%%\n"
    }
   },
   "outputs": [
    {
     "name": "stdout",
     "output_type": "stream",
     "text": [
      "*-- #true :- concl, hyp(t), __consistent, __nmr_chk.\n",
      "|\n",
      "|-- __nmr_chk\n",
      "  |\n",
      "  |-- __nmr_chk.\n",
      "    |\n",
      "    |--[]\n",
      "|\n",
      "|-- hyp(t)\n",
      "  |\n",
      "  |-- hyp(t) :- not not_hyp(t).\n",
      "    |\n",
      "    |-- not not_hyp(t)\n",
      "      |\n",
      "      |-- not not_hyp(t) :- hyp(t).\n",
      "        |\n",
      "        |-- hyp(t)\n",
      "|\n",
      "|-- __consistent\n",
      "  |\n",
      "  |-- __consistent :- __consistency_concl, __consistency_choice(hyp(e)), __consistency_choice(hyp(t)), __consistency_choice(hyp(o)).\n",
      "    |\n",
      "    |-- __consistency_choice(hyp(o))\n",
      "      |\n",
      "      |-- __consistency_choice(hyp(o)) :- not __choice(hyp(o)).\n",
      "    |\n",
      "    |-- __consistency_choice(hyp(e))\n",
      "      |\n",
      "      |-- __consistency_choice(hyp(e)) :- not __choice(hyp(e)).\n",
      "    |\n",
      "    |-- __consistency_choice(hyp(t))\n",
      "      |\n",
      "      |-- __consistency_choice(hyp(t)) :- not prem(t).\n",
      "        |\n",
      "        |-- not prem(t)\n",
      "          |\n",
      "          |-- not prem(t) :- not __body(19).\n",
      "            |\n",
      "            |-- not __body(19)\n",
      "              |\n",
      "              |-- not __body(19) :- __not_prem(t).\n",
      "                |\n",
      "                |-- __not_prem(t)\n",
      "                  |\n",
      "                  |-- __not_prem(t) :- __choice(hyp(t)), not prem(t).\n",
      "                    |\n",
      "                    |-- __choice(hyp(t))\n",
      "                      |\n",
      "                      |-- __choice(hyp(t)) :- hyp(t).\n",
      "                        |\n",
      "                        |-- hyp(t)\n",
      "              |\n",
      "              |-- not __body(19) :- __not_prem(t).\n",
      "                |\n",
      "                |-- __not_prem(t)\n",
      "                  |\n",
      "                  |-- __not_prem(t) :- __choice(hyp(t)), not prem(t).\n",
      "                    |\n",
      "                    |-- __choice(hyp(t))\n",
      "                      |\n",
      "                      |-- __choice(hyp(t)) :- hyp(t).\n",
      "                        |\n",
      "                        |-- hyp(t)\n",
      "      |\n",
      "      |-- __consistency_choice(hyp(t)) :- not prem(t).\n",
      "        |\n",
      "        |-- not prem(t)\n",
      "          |\n",
      "          |-- not prem(t) :- not __body(19).\n",
      "            |\n",
      "            |-- not __body(19)\n",
      "              |\n",
      "              |-- not __body(19) :- __not_prem(t).\n",
      "                |\n",
      "                |-- __not_prem(t)\n",
      "                  |\n",
      "                  |-- __not_prem(t) :- __choice(hyp(t)), not prem(t).\n",
      "                    |\n",
      "                    |-- __choice(hyp(t))\n",
      "                      |\n",
      "                      |-- __choice(hyp(t)) :- hyp(t).\n",
      "                        |\n",
      "                        |-- hyp(t)\n",
      "              |\n",
      "              |-- not __body(19) :- __not_prem(t).\n",
      "                |\n",
      "                |-- __not_prem(t)\n",
      "                  |\n",
      "                  |-- __not_prem(t) :- __choice(hyp(t)), not prem(t).\n",
      "                    |\n",
      "                    |-- __choice(hyp(t))\n",
      "                      |\n",
      "                      |-- __choice(hyp(t)) :- hyp(t).\n",
      "                        |\n",
      "                        |-- hyp(t)\n",
      "    |\n",
      "    |-- __consistency_choice(hyp(o))\n",
      "      |\n",
      "      |-- __consistency_choice(hyp(o)) :- not __choice(hyp(o)).\n",
      "|\n",
      "|-- __nmr_chk\n",
      "  |\n",
      "  |-- __nmr_chk.\n",
      "    |\n",
      "    |--[]\n"
     ]
    }
   ],
   "source": [
    "explain(proof)"
   ]
  },
  {
   "cell_type": "code",
   "execution_count": 432,
   "metadata": {
    "pycharm": {
     "name": "#%%\n"
    }
   },
   "outputs": [
    {
     "data": {
      "image/svg+xml": "<?xml version=\"1.0\" encoding=\"UTF-8\" standalone=\"no\"?>\n<!DOCTYPE svg PUBLIC \"-//W3C//DTD SVG 1.1//EN\"\n \"http://www.w3.org/Graphics/SVG/1.1/DTD/svg11.dtd\">\n<!-- Generated by graphviz version 3.0.0 (20220227.1548)\n -->\n<!-- Title: default Pages: 1 -->\n<svg width=\"286pt\" height=\"188pt\"\n viewBox=\"0.00 0.00 286.00 188.00\" xmlns=\"http://www.w3.org/2000/svg\" xmlns:xlink=\"http://www.w3.org/1999/xlink\">\n<g id=\"graph0\" class=\"graph\" transform=\"scale(1 1) rotate(0) translate(4 184)\">\n<title>default</title>\n<polygon fill=\"white\" stroke=\"transparent\" points=\"-4,4 -4,-184 282,-184 282,4 -4,4\"/>\n<!-- ((0,0),0) -->\n<g id=\"node1\" class=\"node\">\n<title>((0,0),0)</title>\n<polygon fill=\"none\" stroke=\"black\" points=\"180.5,-36 97.5,-36 97.5,0 180.5,0 180.5,-36\"/>\n<text text-anchor=\"middle\" x=\"139\" y=\"-14.3\" font-family=\"Times,serif\" font-size=\"14.00\">__nmr_chk.</text>\n</g>\n<!-- 0 -->\n<g id=\"node2\" class=\"node\">\n<title>0</title>\n<polygon fill=\"none\" stroke=\"black\" points=\"278,-180 0,-180 0,-144 278,-144 278,-180\"/>\n<text text-anchor=\"middle\" x=\"139\" y=\"-158.3\" font-family=\"Times,serif\" font-size=\"14.00\">#true :&#45; concl, hyp(t), __consistent, __nmr_chk.</text>\n</g>\n<!-- (0,0) -->\n<g id=\"node3\" class=\"node\">\n<title>(0,0)</title>\n<ellipse fill=\"none\" stroke=\"black\" cx=\"139\" cy=\"-90\" rx=\"51.19\" ry=\"18\"/>\n<text text-anchor=\"middle\" x=\"139\" y=\"-86.3\" font-family=\"Times,serif\" font-size=\"14.00\">__nmr_chk</text>\n</g>\n<!-- 0&#45;&#45;(0,0) -->\n<g id=\"edge1\" class=\"edge\">\n<title>0&#45;&#45;(0,0)</title>\n<path fill=\"none\" stroke=\"black\" d=\"M139,-143.7C139,-135.98 139,-126.71 139,-118.11\"/>\n<polygon fill=\"black\" stroke=\"black\" points=\"142.5,-118.1 139,-108.1 135.5,-118.1 142.5,-118.1\"/>\n</g>\n<!-- (0,0)&#45;&#45;((0,0),0) -->\n<g id=\"edge2\" class=\"edge\">\n<title>(0,0)&#45;&#45;((0,0),0)</title>\n<path fill=\"none\" stroke=\"black\" d=\"M139,-71.7C139,-63.98 139,-54.71 139,-46.11\"/>\n<polygon fill=\"black\" stroke=\"black\" points=\"142.5,-46.1 139,-36.1 135.5,-46.1 142.5,-46.1\"/>\n</g>\n</g>\n</svg>\n",
      "text/plain": "<graphviz.graphs.Graph at 0x7fe9b2710bb0>"
     },
     "execution_count": 432,
     "metadata": {},
     "output_type": "execute_result"
    }
   ],
   "source": [
    "explanation_graph(proof)"
   ]
  },
  {
   "cell_type": "code",
   "execution_count": 433,
   "metadata": {
    "pycharm": {
     "name": "#%%\n"
    }
   },
   "outputs": [
    {
     "name": "stdout",
     "output_type": "stream",
     "text": [
      "Answer 0: {\n",
      "not __body(8)\n",
      "not nprem(o)\n",
      "not necessary(t)\n",
      "not hyp(o)\n",
      "not necessary(e)\n",
      "prem(t)\n",
      "__not_nprem(t)\n",
      "__consistency_choice(hyp(e))\n",
      "not __body(7)\n",
      "prem(e)\n",
      "not hyp(e)\n",
      "__nmr_chk\n",
      "not __body(21)\n",
      "__consistent\n",
      "not __choice(hyp(e))\n",
      "not __body(34)\n",
      "not __body(9)\n",
      "not __body(13)\n",
      "not __body(20)\n",
      "not nprem(t)\n",
      "not __choice(hyp(o))\n",
      "__choice(hyp(t))\n",
      "not nconcl\n",
      "not nprem(e)\n",
      "not not_hyp(t)\n",
      "not __body(29)\n",
      "hyp(t)\n",
      "__consistency_concl\n",
      "__consistency_choice(hyp(o))\n",
      "__consistency_choice(hyp(t))\n",
      "sufficient(e)\n",
      "not __not_prem(t)\n",
      "concl\n",
      "}\n",
      "SAT 1+\n"
     ]
    }
   ],
   "source": [
    "proof = solve(ex_1_2_p, concl, prem_t, __consistent, models=1)[0]"
   ]
  },
  {
   "cell_type": "code",
   "execution_count": 434,
   "metadata": {
    "pycharm": {
     "name": "#%%\n"
    }
   },
   "outputs": [
    {
     "name": "stdout",
     "output_type": "stream",
     "text": [
      "*-- #true :- concl, prem(t), __consistent, __nmr_chk.\n",
      "|\n",
      "|-- __nmr_chk\n",
      "  |\n",
      "  |-- __nmr_chk.\n",
      "    |\n",
      "    |--[]\n",
      "|\n",
      "|-- prem(t)\n",
      "  |\n",
      "  |-- prem(t) :- __choice(hyp(t)), not __not_prem(t).\n",
      "    |\n",
      "    |-- not __not_prem(t)\n",
      "      |\n",
      "      |-- not __not_prem(t) :- not __body(20).\n",
      "        |\n",
      "        |-- not __body(20)\n",
      "          |\n",
      "          |-- not __body(20) :- prem(t).\n",
      "            |\n",
      "            |-- prem(t)\n",
      "    |\n",
      "    |-- not __not_prem(t)\n",
      "      |\n",
      "      |-- not __not_prem(t) :- not __body(20).\n",
      "        |\n",
      "        |-- not __body(20)\n",
      "          |\n",
      "          |-- not __body(20) :- prem(t).\n",
      "            |\n",
      "            |-- prem(t)\n",
      "|\n",
      "|-- __consistent\n",
      "  |\n",
      "  |-- __consistent :- __consistency_concl, __consistency_choice(hyp(e)), __consistency_choice(hyp(t)), __consistency_choice(hyp(o)).\n",
      "    |\n",
      "    |-- __consistency_choice(hyp(o))\n",
      "      |\n",
      "      |-- __consistency_choice(hyp(o)) :- not __choice(hyp(o)).\n",
      "    |\n",
      "    |-- __consistency_choice(hyp(e))\n",
      "      |\n",
      "      |-- __consistency_choice(hyp(e)) :- not __choice(hyp(e)).\n",
      "    |\n",
      "    |-- __consistency_choice(hyp(t))\n",
      "      |\n",
      "      |-- __consistency_choice(hyp(t)) :- not nprem(t).\n",
      "        |\n",
      "        |-- not nprem(t)\n",
      "          |\n",
      "          |-- not nprem(t) :- not __body(21).\n",
      "            |\n",
      "            |-- not __body(21)\n",
      "              |\n",
      "              |-- not __body(21) :- __not_nprem(t).\n",
      "                |\n",
      "                |-- __not_nprem(t)\n",
      "                  |\n",
      "                  |-- __not_nprem(t) :- __choice(hyp(t)), not nprem(t).\n",
      "                    |\n",
      "                    |-- __choice(hyp(t))\n",
      "    |\n",
      "    |-- __consistency_choice(hyp(o))\n",
      "      |\n",
      "      |-- __consistency_choice(hyp(o)) :- not __choice(hyp(o)).\n",
      "|\n",
      "|-- __nmr_chk\n",
      "  |\n",
      "  |-- __nmr_chk.\n",
      "    |\n",
      "    |--[]\n"
     ]
    }
   ],
   "source": [
    "explain(proof)"
   ]
  },
  {
   "cell_type": "code",
   "execution_count": 435,
   "metadata": {
    "pycharm": {
     "name": "#%%\n"
    }
   },
   "outputs": [
    {
     "data": {
      "image/svg+xml": "<?xml version=\"1.0\" encoding=\"UTF-8\" standalone=\"no\"?>\n<!DOCTYPE svg PUBLIC \"-//W3C//DTD SVG 1.1//EN\"\n \"http://www.w3.org/Graphics/SVG/1.1/DTD/svg11.dtd\">\n<!-- Generated by graphviz version 3.0.0 (20220227.1548)\n -->\n<!-- Title: default Pages: 1 -->\n<svg width=\"295pt\" height=\"188pt\"\n viewBox=\"0.00 0.00 295.00 188.00\" xmlns=\"http://www.w3.org/2000/svg\" xmlns:xlink=\"http://www.w3.org/1999/xlink\">\n<g id=\"graph0\" class=\"graph\" transform=\"scale(1 1) rotate(0) translate(4 184)\">\n<title>default</title>\n<polygon fill=\"white\" stroke=\"transparent\" points=\"-4,4 -4,-184 291,-184 291,4 -4,4\"/>\n<!-- ((0,0),0) -->\n<g id=\"node1\" class=\"node\">\n<title>((0,0),0)</title>\n<polygon fill=\"none\" stroke=\"black\" points=\"185,-36 102,-36 102,0 185,0 185,-36\"/>\n<text text-anchor=\"middle\" x=\"143.5\" y=\"-14.3\" font-family=\"Times,serif\" font-size=\"14.00\">__nmr_chk.</text>\n</g>\n<!-- 0 -->\n<g id=\"node2\" class=\"node\">\n<title>0</title>\n<polygon fill=\"none\" stroke=\"black\" points=\"287,-180 0,-180 0,-144 287,-144 287,-180\"/>\n<text text-anchor=\"middle\" x=\"143.5\" y=\"-158.3\" font-family=\"Times,serif\" font-size=\"14.00\">#true :&#45; concl, prem(t), __consistent, __nmr_chk.</text>\n</g>\n<!-- (0,0) -->\n<g id=\"node3\" class=\"node\">\n<title>(0,0)</title>\n<ellipse fill=\"none\" stroke=\"black\" cx=\"143.5\" cy=\"-90\" rx=\"51.19\" ry=\"18\"/>\n<text text-anchor=\"middle\" x=\"143.5\" y=\"-86.3\" font-family=\"Times,serif\" font-size=\"14.00\">__nmr_chk</text>\n</g>\n<!-- 0&#45;&#45;(0,0) -->\n<g id=\"edge1\" class=\"edge\">\n<title>0&#45;&#45;(0,0)</title>\n<path fill=\"none\" stroke=\"black\" d=\"M143.5,-143.7C143.5,-135.98 143.5,-126.71 143.5,-118.11\"/>\n<polygon fill=\"black\" stroke=\"black\" points=\"147,-118.1 143.5,-108.1 140,-118.1 147,-118.1\"/>\n</g>\n<!-- (0,0)&#45;&#45;((0,0),0) -->\n<g id=\"edge2\" class=\"edge\">\n<title>(0,0)&#45;&#45;((0,0),0)</title>\n<path fill=\"none\" stroke=\"black\" d=\"M143.5,-71.7C143.5,-63.98 143.5,-54.71 143.5,-46.11\"/>\n<polygon fill=\"black\" stroke=\"black\" points=\"147,-46.1 143.5,-36.1 140,-46.1 147,-46.1\"/>\n</g>\n</g>\n</svg>\n",
      "text/plain": "<graphviz.graphs.Graph at 0x7fe9b27af700>"
     },
     "execution_count": 435,
     "metadata": {},
     "output_type": "execute_result"
    }
   ],
   "source": [
    "explanation_graph(proof)"
   ]
  },
  {
   "cell_type": "code",
   "execution_count": 436,
   "outputs": [
    {
     "name": "stdout",
     "output_type": "stream",
     "text": [
      "UNSAT\n"
     ]
    }
   ],
   "source": [
    "solve(ex_1_2_p, concl, -prem_e, __consistent, models=1);"
   ],
   "metadata": {
    "collapsed": false,
    "pycharm": {
     "name": "#%%\n"
    }
   }
  },
  {
   "cell_type": "code",
   "execution_count": 437,
   "metadata": {
    "pycharm": {
     "name": "#%%\n"
    }
   },
   "outputs": [
    {
     "name": "stdout",
     "output_type": "stream",
     "text": [
      "__consistent :- __consistency_concl, __consistency_choice(hyp(e)), __consistency_choice(hyp(t)), __consistency_choice(hyp(o)).\n",
      "__consistency_concl :- not concl.\n",
      "__consistency_concl :- not nconcl.\n",
      "concl :- prem(e), sufficient(e).\n",
      "concl :- prem(t), sufficient(t).\n",
      "concl :- prem(o), sufficient(o).\n",
      "nconcl :- nprem(e), necessary(e).\n",
      "nconcl :- nprem(t), necessary(t).\n",
      "nconcl :- nprem(o), necessary(o).\n",
      "__choice(hyp(e)) :- hyp(e).\n",
      "prem(e) :- __choice(hyp(e)), not __not_prem(e).\n",
      "__not_prem(e) :- __choice(hyp(e)), not prem(e).\n",
      "nprem(e) :- __choice(hyp(e)), not __not_nprem(e).\n",
      "__not_nprem(e) :- __choice(hyp(e)), not nprem(e).\n",
      "__consistency_choice(hyp(e)) :- not __choice(hyp(e)).\n",
      "__consistency_choice(hyp(e)) :- not prem(e).\n",
      "__consistency_choice(hyp(e)) :- not nprem(e).\n",
      "__choice(hyp(t)) :- hyp(t).\n",
      "prem(t) :- __choice(hyp(t)), not __not_prem(t).\n",
      "__not_prem(t) :- __choice(hyp(t)), not prem(t).\n",
      "nprem(t) :- __choice(hyp(t)), not __not_nprem(t).\n",
      "__not_nprem(t) :- __choice(hyp(t)), not nprem(t).\n",
      "__consistency_choice(hyp(t)) :- not __choice(hyp(t)).\n",
      "__consistency_choice(hyp(t)) :- not prem(t).\n",
      "__consistency_choice(hyp(t)) :- not nprem(t).\n",
      "__choice(hyp(o)) :- hyp(o).\n",
      "prem(o) :- __choice(hyp(o)), not __not_prem(o).\n",
      "__not_prem(o) :- __choice(hyp(o)), not prem(o).\n",
      "nprem(o) :- __choice(hyp(o)), not __not_nprem(o).\n",
      "__not_nprem(o) :- __choice(hyp(o)), not nprem(o).\n",
      "__consistency_choice(hyp(o)) :- not __choice(hyp(o)).\n",
      "__consistency_choice(hyp(o)) :- not prem(o).\n",
      "__consistency_choice(hyp(o)) :- not nprem(o).\n",
      "nconcl :- nprem(e), nprem(t).\n",
      "sufficient(e).\n",
      "sufficient(t).\n",
      "necessary(o).\n",
      "necessary(e).\n",
      "query(concl).\n"
     ]
    }
   ],
   "source": [
    "ex_1_3_str = \"\"\"\n",
    "\n",
    "necessary(e).\n",
    "{hyp(o);prem(e)}.\n",
    "\n",
    "query(concl).\n",
    "\n",
    "\"\"\"\n",
    "\n",
    "hyp_o = BasicLiteral(atom=Atom(Function('hyp', (o,))))\n",
    "not_hyp_o = BasicLiteral(atom=Atom(Function('not_hyp', (o,))))\n",
    "not_prem_e = BasicLiteral(atom=Atom(Function('not_prem', (e,))))\n",
    "prem_o = BasicLiteral(atom=Atom(Function('prem', (o,))))\n",
    "not_prem_o = BasicLiteral(atom=Atom(Function('not_prem', (o,))))\n",
    "nprem_o = BasicLiteral(atom=Atom(Function('nprem', (o,))))\n",
    "not_nprem_o = BasicLiteral(atom=Atom(Function('not_nprem', (o,))))\n",
    "\n",
    "ex_1_3_rules = (\n",
    "    NormalRule(necessary_e),\n",
    "    NormalRule(query_concl)\n",
    ")\n",
    "\n",
    "ex_1_3_p = Program(\n",
    "    (*encoding_rules,\n",
    "     *ex_1_3_rules))\n",
    "print(ex_1_3_p.fmt(sep='\\n'))"
   ]
  },
  {
   "cell_type": "code",
   "execution_count": 438,
   "metadata": {
    "pycharm": {
     "name": "#%%\n"
    }
   },
   "outputs": [
    {
     "name": "stdout",
     "output_type": "stream",
     "text": [
      "UNSAT\n"
     ]
    },
    {
     "ename": "IndexError",
     "evalue": "list index out of range",
     "output_type": "error",
     "traceback": [
      "\u001B[0;31m---------------------------------------------------------------------------\u001B[0m",
      "\u001B[0;31mIndexError\u001B[0m                                Traceback (most recent call last)",
      "Input \u001B[0;32mIn [438]\u001B[0m, in \u001B[0;36m<module>\u001B[0;34m\u001B[0m\n\u001B[0;32m----> 1\u001B[0m proof \u001B[38;5;241m=\u001B[39m \u001B[43msolve\u001B[49m\u001B[43m(\u001B[49m\u001B[43mex_1_3_p\u001B[49m\u001B[43m,\u001B[49m\u001B[43m \u001B[49m\u001B[43mconcl\u001B[49m\u001B[43m)\u001B[49m\u001B[43m[\u001B[49m\u001B[38;5;241;43m0\u001B[39;49m\u001B[43m]\u001B[49m\n",
      "\u001B[0;31mIndexError\u001B[0m: list index out of range"
     ]
    }
   ],
   "source": [
    "proof = solve(ex_1_3_p, concl)[0]"
   ]
  },
  {
   "cell_type": "code",
   "execution_count": null,
   "metadata": {
    "pycharm": {
     "name": "#%%\n"
    }
   },
   "outputs": [],
   "source": [
    "explain(proof)"
   ]
  },
  {
   "cell_type": "code",
   "execution_count": null,
   "metadata": {
    "pycharm": {
     "name": "#%%\n"
    }
   },
   "outputs": [],
   "source": [
    "explanation_graph(proof)"
   ]
  },
  {
   "cell_type": "code",
   "execution_count": null,
   "metadata": {
    "pycharm": {
     "name": "#%%\n"
    }
   },
   "outputs": [],
   "source": [
    "proof = solve(ex_1_3_p, nconcl)[0]"
   ]
  },
  {
   "cell_type": "code",
   "execution_count": null,
   "metadata": {
    "pycharm": {
     "name": "#%%\n"
    }
   },
   "outputs": [],
   "source": [
    "explain(proof)"
   ]
  },
  {
   "cell_type": "code",
   "execution_count": null,
   "metadata": {
    "pycharm": {
     "name": "#%%\n"
    }
   },
   "outputs": [],
   "source": [
    "explanation_graph(proof)"
   ]
  }
 ],
 "metadata": {
  "kernelspec": {
   "display_name": "Python 3 (ipykernel)",
   "language": "python",
   "name": "python3"
  },
  "language_info": {
   "codemirror_mode": {
    "name": "ipython",
    "version": 3
   },
   "file_extension": ".py",
   "mimetype": "text/x-python",
   "name": "python",
   "nbconvert_exporter": "python",
   "pygments_lexer": "ipython3",
   "version": "3.10.2"
  }
 },
 "nbformat": 4,
 "nbformat_minor": 1
}