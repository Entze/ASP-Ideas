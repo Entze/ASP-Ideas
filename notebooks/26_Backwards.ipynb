{
 "cells": [
  {
   "cell_type": "code",
   "execution_count": 1,
   "metadata": {
    "collapsed": true
   },
   "outputs": [],
   "source": [
    "import functools\n",
    "from typing import Callable, Union\n",
    "\n",
    "import clingo\n",
    "import clingo.ast\n",
    "from clingo.ast import ProgramBuilder\n",
    "from clingox.backend import SymbolicBackend"
   ]
  },
  {
   "cell_type": "code",
   "execution_count": 2,
   "outputs": [],
   "source": [
    "yale = \"\"\"\n",
    "\n",
    "% beliefs {lazy, pacifist}\n",
    "% actions {load, shoot}\n",
    "% observations {alive, dead, loaded, unloaded}.\n",
    "\n",
    "load :- not lazy.\n",
    "lazy :- not load.\n",
    "\n",
    "shoot :- not pacifist.\n",
    "pacifist :- not shoot.\n",
    "\n",
    "loaded :- load.\n",
    "unloaded :- not loaded.\n",
    "dead :- shoot, loaded.\n",
    "alive :- not shoot.\n",
    "alive :- unloaded.\n",
    "\n",
    "\"\"\""
   ],
   "metadata": {
    "collapsed": false,
    "pycharm": {
     "name": "#%%\n"
    }
   }
  },
  {
   "cell_type": "code",
   "execution_count": 3,
   "outputs": [],
   "source": [
    "ctl = clingo.Control()\n",
    "ctl.configuration.solve.models = 0"
   ],
   "metadata": {
    "collapsed": false,
    "pycharm": {
     "name": "#%%\n"
    }
   }
  },
  {
   "cell_type": "code",
   "execution_count": 4,
   "outputs": [],
   "source": [
    "ctl.add(\"base\", (), yale)"
   ],
   "metadata": {
    "collapsed": false,
    "pycharm": {
     "name": "#%%\n"
    }
   }
  },
  {
   "cell_type": "code",
   "execution_count": 5,
   "outputs": [],
   "source": [
    "ctl.ground([(\"base\", [])])"
   ],
   "metadata": {
    "collapsed": false,
    "pycharm": {
     "name": "#%%\n"
    }
   }
  },
  {
   "cell_type": "code",
   "execution_count": 6,
   "outputs": [
    {
     "name": "stdout",
     "output_type": "stream",
     "text": [
      "Answer 1: { dead load loaded shoot }\n",
      "Answer 2: { alive load loaded pacifist }\n",
      "Answer 3: { alive lazy shoot unloaded }\n",
      "Answer 4: { alive lazy pacifist unloaded }\n",
      "SAT\n"
     ]
    }
   ],
   "source": [
    "with ctl.solve(yield_=True) as solve_handle:\n",
    "    models = []\n",
    "    for model in solve_handle:\n",
    "        symbols = model.symbols(shown=True)\n",
    "        print(\"Answer {}:\".format(model.number), \"{\",\n",
    "              ' '.join(map(str, sorted(symbols))), \"}\")\n",
    "        models.append(symbols)\n",
    "    solve_result = solve_handle.get()\n",
    "    print(solve_result)"
   ],
   "metadata": {
    "collapsed": false,
    "pycharm": {
     "name": "#%%\n"
    }
   }
  },
  {
   "cell_type": "code",
   "execution_count": 7,
   "outputs": [
    {
     "name": "stdout",
     "output_type": "stream",
     "text": [
      "#program base.\n",
      "load :- not lazy.\n",
      "lazy :- not load.\n",
      "shoot :- not pacifist.\n",
      "pacifist :- not shoot.\n",
      "loaded :- load.\n",
      "unloaded :- not loaded.\n",
      "dead :- shoot; loaded.\n",
      "alive :- not shoot.\n",
      "alive :- unloaded.\n"
     ]
    }
   ],
   "source": [
    "nodes = []\n",
    "clingo.ast.parse_string(yale, lambda stm: nodes.append(stm))\n",
    "print('\\n'.join(map(str, nodes)))"
   ],
   "metadata": {
    "collapsed": false,
    "pycharm": {
     "name": "#%%\n"
    }
   }
  },
  {
   "cell_type": "code",
   "execution_count": 8,
   "outputs": [
    {
     "name": "stdout",
     "output_type": "stream",
     "text": [
      "load. shoot. loaded. dead.\n"
     ]
    }
   ],
   "source": [
    "model = models[0]\n",
    "print('. '.join(map(str, model)), '.', sep='')"
   ],
   "metadata": {
    "collapsed": false,
    "pycharm": {
     "name": "#%%\n"
    }
   }
  },
  {
   "cell_type": "code",
   "execution_count": 9,
   "outputs": [],
   "source": [
    "def ast_match(node: clingo.ast.AST, symbol: clingo.Symbol):\n",
    "    print(node, '=?=', symbol)\n",
    "    if node.ast_type is clingo.ast.ASTType.SymbolicTerm:\n",
    "        return node.symbol == symbol\n",
    "    elif node.ast_type is clingo.ast.ASTType.Function:\n",
    "        return ast_function_match(node, symbol)\n",
    "    else:\n",
    "        return False\n",
    "\n",
    "\n",
    "def ast_function_match(function: clingo.ast.AST, symbol: clingo.Symbol):\n",
    "    if function.ast_type is not clingo.ast.ASTType.Function or symbol.type is not clingo.SymbolType.Function:\n",
    "        print(function.ast_type, '=x=', clingo.SymbolType)\n",
    "        return False\n",
    "    else:\n",
    "        matches = True\n",
    "        if function.name != symbol.name:\n",
    "            print(function.name, '=/=', symbol.name)\n",
    "            matches = False\n",
    "        if len(function.arguments) != len(symbol.arguments):\n",
    "            print(len(function.arguments), '=/=', len(symbol.arguments))\n",
    "            matches = False\n",
    "        if matches:\n",
    "            print(function, '==', symbol)\n",
    "        return matches"
   ],
   "metadata": {
    "collapsed": false,
    "pycharm": {
     "name": "#%%\n"
    }
   }
  },
  {
   "cell_type": "code",
   "execution_count": 10,
   "outputs": [
    {
     "data": {
      "text/plain": "[Function('load', [], True), Function('shoot', [], True)]"
     },
     "execution_count": 10,
     "metadata": {},
     "output_type": "execute_result"
    }
   ],
   "source": [
    "# 1. Plan description\n",
    "actions = [symbol for symbol in model if symbol.match('load', 0) or symbol.match('shoot', 0)]\n",
    "actions"
   ],
   "metadata": {
    "collapsed": false,
    "pycharm": {
     "name": "#%%\n"
    }
   }
  },
  {
   "cell_type": "code",
   "execution_count": 11,
   "outputs": [
    {
     "data": {
      "text/plain": "Function('shoot', [], True)"
     },
     "execution_count": 11,
     "metadata": {},
     "output_type": "execute_result"
    }
   ],
   "source": [
    "# 2. Action justification: Why action X?\n",
    "target_belief = actions[-1]\n",
    "target_belief"
   ],
   "metadata": {
    "collapsed": false,
    "pycharm": {
     "name": "#%%\n"
    }
   }
  },
  {
   "cell_type": "code",
   "execution_count": 12,
   "outputs": [
    {
     "name": "stdout",
     "output_type": "stream",
     "text": [
      "load =?= shoot\n",
      "load =/= shoot\n",
      "lazy =?= shoot\n",
      "lazy =/= shoot\n",
      "shoot =?= shoot\n",
      "shoot == shoot\n",
      "pacifist =?= shoot\n",
      "pacifist =/= shoot\n",
      "loaded =?= shoot\n",
      "loaded =/= shoot\n",
      "unloaded =?= shoot\n",
      "unloaded =/= shoot\n",
      "dead =?= shoot\n",
      "dead =/= shoot\n",
      "alive =?= shoot\n",
      "alive =/= shoot\n",
      "alive =?= shoot\n",
      "alive =/= shoot\n"
     ]
    }
   ],
   "source": [
    "support_axioms = [node for node in nodes if\n",
    "                  node.ast_type is clingo.ast.ASTType.Rule and ast_match(node.head.atom.symbol, target_belief)]"
   ],
   "metadata": {
    "collapsed": false,
    "pycharm": {
     "name": "#%%\n"
    }
   }
  },
  {
   "cell_type": "code",
   "execution_count": 13,
   "outputs": [
    {
     "name": "stdout",
     "output_type": "stream",
     "text": [
      "shoot :- not pacifist.\n"
     ]
    }
   ],
   "source": [
    "print('\\n'.join(map(str, support_axioms)))"
   ],
   "metadata": {
    "collapsed": false,
    "pycharm": {
     "name": "#%%\n"
    }
   }
  },
  {
   "cell_type": "code",
   "execution_count": 14,
   "outputs": [],
   "source": [
    "pos = clingo.ast.Position('<string>', 1, 1)\n",
    "loc = clingo.ast.Location(pos, pos)"
   ],
   "metadata": {
    "collapsed": false,
    "pycharm": {
     "name": "#%%\n"
    }
   }
  },
  {
   "cell_type": "code",
   "execution_count": 15,
   "outputs": [],
   "source": [
    "ctl = clingo.Control()"
   ],
   "metadata": {
    "collapsed": false,
    "pycharm": {
     "name": "#%%\n"
    }
   }
  },
  {
   "cell_type": "code",
   "execution_count": 16,
   "outputs": [],
   "source": [
    "\n",
    "with SymbolicBackend(ctl.backend()) as sb:\n",
    "    for fact in model:\n",
    "        sb.add_rule(head=[fact])"
   ],
   "metadata": {
    "collapsed": false,
    "pycharm": {
     "name": "#%%\n"
    }
   }
  },
  {
   "cell_type": "code",
   "execution_count": 17,
   "outputs": [
    {
     "name": "stdout",
     "output_type": "stream",
     "text": [
      "__fires(shoot,()) :- not pacifist.\n",
      "__holds(1,pacifist,()) :- __fires(shoot,()).\n"
     ]
    }
   ],
   "source": [
    "\n",
    "rules = []\n",
    "for support_axiom in support_axioms:\n",
    "    head = support_axiom.head.atom.symbol\n",
    "    head_name = clingo.ast.SymbolicTerm(loc, clingo.Function(head.name))\n",
    "    head_parameters = head.arguments\n",
    "    body = support_axiom.body\n",
    "    fires_head = clingo.ast.Literal(loc, sign=0, atom=clingo.ast.SymbolicAtom(\n",
    "        clingo.ast.Function(loc, '__fires', (head_name,clingo.ast.Function(loc, '', head_parameters, False)), False)))\n",
    "    fires_rule = clingo.ast.Rule(loc, fires_head, body)\n",
    "    rules.append(fires_rule)\n",
    "    for literal in body:\n",
    "        symbol = literal.atom.symbol\n",
    "        name = symbol.name\n",
    "        args = symbol.arguments\n",
    "        holds_head = clingo.ast.Literal(loc, sign=0, atom=clingo.ast.SymbolicAtom(\n",
    "            clingo.ast.Function(loc, '__holds', (\n",
    "                clingo.ast.SymbolicTerm(loc, clingo.Number(literal.sign)),\n",
    "                clingo.ast.SymbolicTerm(loc, clingo.Function(name)),\n",
    "                clingo.ast.Function(loc, '', args, False)\n",
    "            ), False)\n",
    "        ))\n",
    "        holds_rule = clingo.ast.Rule(loc, holds_head, (fires_head,))\n",
    "        rules.append(holds_rule)\n",
    "print('\\n'.join(map(str, rules)))"
   ],
   "metadata": {
    "collapsed": false,
    "pycharm": {
     "name": "#%%\n"
    }
   }
  },
  {
   "cell_type": "code",
   "execution_count": 18,
   "outputs": [],
   "source": [
    "with ProgramBuilder(ctl) as pb:\n",
    "    for rule in rules:\n",
    "        pb.add(rule)"
   ],
   "metadata": {
    "collapsed": false,
    "pycharm": {
     "name": "#%%\n"
    }
   }
  },
  {
   "cell_type": "code",
   "execution_count": 19,
   "outputs": [],
   "source": [
    "ctl.add('base', (), '#show __fires/2. #show __holds/3.')"
   ],
   "metadata": {
    "collapsed": false,
    "pycharm": {
     "name": "#%%\n"
    }
   }
  },
  {
   "cell_type": "code",
   "execution_count": 20,
   "outputs": [
    {
     "name": "stdout",
     "output_type": "stream",
     "text": [
      "Answer 1: { __fires(shoot,()) __holds(1,pacifist,()) }\n",
      "SAT\n"
     ]
    },
    {
     "name": "stderr",
     "output_type": "stream",
     "text": [
      "<string>:10:14-22: info: atom does not occur in any rule head:\n",
      "  pacifist\n",
      "\n"
     ]
    }
   ],
   "source": [
    "ctl.ground([('base', [])])\n",
    "with ctl.solve(yield_=True) as solve_handle:\n",
    "    models = []\n",
    "    for model in solve_handle:\n",
    "        symbols = model.symbols(shown=True)\n",
    "        print(\"Answer {}:\".format(model.number), \"{\",\n",
    "              ' '.join(map(str, sorted(symbols))), \"}\")\n",
    "        models.append(symbols)\n",
    "    solve_result = solve_handle.get()\n",
    "    print(solve_result)\n"
   ],
   "metadata": {
    "collapsed": false,
    "pycharm": {
     "name": "#%%\n"
    }
   }
  },
  {
   "cell_type": "code",
   "execution_count": 21,
   "outputs": [],
   "source": [
    "yale_complex = \"\"\"\n",
    "\n",
    "time(0..2).\n",
    "\n",
    "observe(object(agent, alice), value(gun, unloaded), 0).\n",
    "observe(object(rooster, 0), value(alive, true), 0).\n",
    "occurs(object(agent, alice), value(load, gun), 0).\n",
    "occurs(object(agent, alice), value(shoot, gun), 1).\n",
    "\n",
    "observe(object(rooster, 0), value(alive, false), T+1) :-\n",
    "  time(T+1),\n",
    "  observe(object(rooster, 0), value(alive, false), T).\n",
    "\n",
    "observe(object(rooster, 0), value(alive, false), T+1) :-\n",
    "  time(T+1),\n",
    "  occurs(object(agent, alice), action(shoot, gun), T),\n",
    "  observe(object(rooster, 0), value(alive, true), T),\n",
    "  observe(object(agent, alice), value(gun, loaded), T).\n",
    "\n",
    "observe(object(rooster, 0), value(alive, true), T+1) :-\n",
    "  time(T+1),\n",
    "  not occurs(object(agent, alice), action(shoot, gun), T),\n",
    "  observe(object(rooster, 0), value(alive, true), T).\n",
    "\n",
    "observe(object(rooster, 0), value(alive, true), T+1) :-\n",
    "  time(T+1),\n",
    "  observe(object(rooster, 0), value(alive, true), T),\n",
    "  not observe(object(agent, alice), value(gun, loaded), T).\n",
    "\n",
    "observe(object(agent, alice), value(gun, unloaded), T+1) :-\n",
    "  time(T+1),\n",
    "  occurs(object(agent, alice), action(shoot, gun), T),\n",
    "  observe(object(agent, alice), value(gun, loaded), T).\n",
    "\n",
    "observe(object(agent, alice), value(gun, loaded), T+1) :-\n",
    "  time(T+1),\n",
    "  not occurs(object(agent, alice), action(shoot, gun), T),\n",
    "  observe(object(agent, alice), value(gun, loaded), T).\n",
    "\n",
    "\n",
    "observe(object(agent, alice), value(gun, loaded), T+1) :-\n",
    "  time(T+1),\n",
    "  occurs(object(agent, alice), action(load, gun), T),\n",
    "  observe(object(agent, alice), value(gun, unloaded), T).\n",
    "\n",
    "observe(object(agent, alice), value(gun, unloaded), T+1) :-\n",
    "  time(T+1),\n",
    "  not occurs(object(agent, alice), action(load, gun), T),\n",
    "  observe(object(agent, alice), value(gun, unloaded), T).\n",
    "\n",
    "\"\"\""
   ],
   "metadata": {
    "collapsed": false,
    "pycharm": {
     "name": "#%%\n"
    }
   }
  },
  {
   "cell_type": "code",
   "execution_count": 22,
   "outputs": [],
   "source": [
    "ctl = clingo.Control()\n",
    "ctl.configuration.solve.models = 0"
   ],
   "metadata": {
    "collapsed": false,
    "pycharm": {
     "name": "#%%\n"
    }
   }
  },
  {
   "cell_type": "code",
   "execution_count": 23,
   "outputs": [],
   "source": [
    "ctl.add(\"base\", (), yale_complex)"
   ],
   "metadata": {
    "collapsed": false,
    "pycharm": {
     "name": "#%%\n"
    }
   }
  },
  {
   "cell_type": "code",
   "execution_count": 24,
   "outputs": [],
   "source": [
    "ctl.ground([(\"base\", [])])"
   ],
   "metadata": {
    "collapsed": false,
    "pycharm": {
     "name": "#%%\n"
    }
   }
  },
  {
   "cell_type": "code",
   "execution_count": 25,
   "outputs": [],
   "source": [
    "def temporal(symbol: clingo.Symbol, default: Union[int, Callable[[clingo.Symbol], int], None] = None):\n",
    "    if symbol.match('occurs', 3) or symbol.match('observe', 3):\n",
    "        return symbol.arguments[-1].number\n",
    "    if callable(default):\n",
    "        return default(symbol)\n",
    "    return default"
   ],
   "metadata": {
    "collapsed": false,
    "pycharm": {
     "name": "#%%\n"
    }
   }
  },
  {
   "cell_type": "code",
   "execution_count": 26,
   "outputs": [
    {
     "name": "stdout",
     "output_type": "stream",
     "text": [
      "Answer 1: { time(0) time(1) time(2) observe(object(agent,alice),value(gun,unloaded),0) observe(object(rooster,0),value(alive,true),0) occurs(object(agent,alice),value(load,gun),0) observe(object(agent,alice),value(gun,unloaded),1) observe(object(rooster,0),value(alive,true),1) occurs(object(agent,alice),value(shoot,gun),1) observe(object(agent,alice),value(gun,unloaded),2) observe(object(rooster,0),value(alive,true),2) }\n",
      "SAT\n"
     ]
    }
   ],
   "source": [
    "with ctl.solve(yield_=True) as solve_handle:\n",
    "    models = []\n",
    "    for model in solve_handle:\n",
    "        symbols = model.symbols(shown=True)\n",
    "        print(\"Answer {}:\".format(model.number), \"{\",\n",
    "              ' '.join(map(str, sorted(sorted(symbols), key=functools.partial(temporal, default=-1)))), \"}\")\n",
    "        models.append(symbols)\n",
    "    solve_result = solve_handle.get()\n",
    "    print(solve_result)"
   ],
   "metadata": {
    "collapsed": false,
    "pycharm": {
     "name": "#%%\n"
    }
   }
  },
  {
   "cell_type": "code",
   "execution_count": 26,
   "outputs": [],
   "source": [],
   "metadata": {
    "collapsed": false,
    "pycharm": {
     "name": "#%%\n"
    }
   }
  }
 ],
 "metadata": {
  "kernelspec": {
   "display_name": "Python 3",
   "language": "python",
   "name": "python3"
  },
  "language_info": {
   "codemirror_mode": {
    "name": "ipython",
    "version": 2
   },
   "file_extension": ".py",
   "mimetype": "text/x-python",
   "name": "python",
   "nbconvert_exporter": "python",
   "pygments_lexer": "ipython2",
   "version": "2.7.6"
  }
 },
 "nbformat": 4,
 "nbformat_minor": 0
}