{
 "cells": [
  {
   "cell_type": "code",
   "execution_count": 1,
   "metadata": {
    "pycharm": {
     "name": "#%%\n"
    }
   },
   "outputs": [],
   "source": [
    "from collections import defaultdict\n",
    "from copy import deepcopy\n",
    "from dataclasses import dataclass, field\n",
    "from enum import IntEnum\n",
    "from functools import cache\n",
    "from typing import FrozenSet, Set, Optional, Iterator, Mapping, TypeVar, Union, Callable, Sequence, Tuple\n",
    "\n",
    "import more_itertools\n"
   ]
  },
  {
   "cell_type": "code",
   "execution_count": 2,
   "metadata": {
    "pycharm": {
     "name": "#%%\n"
    }
   },
   "outputs": [],
   "source": [
    "\n",
    "def powerset(iterable):\n",
    "    for i in more_itertools.powerset(iterable):\n",
    "        yield set(i)\n",
    "\n",
    "\n",
    "def frozen_powerset(iterable):\n",
    "    for i in more_itertools.powerset(iterable):\n",
    "        yield frozenset(i)"
   ]
  },
  {
   "cell_type": "code",
   "execution_count": 3,
   "metadata": {
    "pycharm": {
     "name": "#%%\n"
    }
   },
   "outputs": [],
   "source": [
    "\n",
    "_ForwardClassicalAtom = TypeVar('_ForwardClassicalAtom', bound='ClassicalAtom')\n",
    "\n",
    "\n",
    "@dataclass(frozen=True, order=True)\n",
    "class ClassicalAtom:\n",
    "    symbol: str\n",
    "    arguments: Sequence[_ForwardClassicalAtom] = field(default_factory=tuple)\n",
    "\n",
    "    def __neg__(self):\n",
    "        if self.is_complement:\n",
    "            return ClassicalAtom(self.symbol[1:])\n",
    "        else:\n",
    "            return ClassicalAtom('-{}'.format(self.symbol))\n",
    "\n",
    "    def __abs__(self):\n",
    "        if self.is_complement:\n",
    "            return -self\n",
    "        return self\n",
    "\n",
    "    def __str__(self):\n",
    "        if self.arguments:\n",
    "            return \"{}({})\".format(self.symbol, ','.join(map(str, self.arguments)))\n",
    "        else:\n",
    "            return self.symbol\n",
    "\n",
    "    @property\n",
    "    def is_complement(self) -> bool:\n",
    "        return self.symbol.startswith('-')\n",
    "\n",
    "\n",
    "ClassicalAlphabet = Set[ClassicalAtom]\n",
    "ClassicalValuation = Mapping[ClassicalAtom, bool]\n",
    "\n",
    "\n",
    "@dataclass(frozen=True, order=True)\n",
    "class ClassicalLiteral:\n",
    "    atom: ClassicalAtom\n",
    "    sign: bool = field(default=True)\n",
    "\n",
    "    def __str__(self):\n",
    "        sign_str = \"\"\n",
    "        if not self.sign:\n",
    "            sign_str = \"¬\"\n",
    "        return \"{}{}\".format(sign_str, self.atom)\n",
    "\n",
    "    def __repr__(self):\n",
    "        return str(self)\n",
    "\n",
    "    def __neg__(self):\n",
    "        return ClassicalLiteral(self.atom, not self.sign)\n",
    "\n",
    "    def __invert__(self):\n",
    "        return ClassicalLiteral(-self.atom, self.sign)\n",
    "\n",
    "    def __and__(self, other):\n",
    "        left = ClassicalFormula(self)\n",
    "        right = other\n",
    "        if isinstance(other, ClassicalLiteral):\n",
    "            right = ClassicalFormula(right)\n",
    "        return ClassicalFormula(left, ClassicalConnective.And, right)\n",
    "\n",
    "    def __or__(self, other):\n",
    "        left = ClassicalFormula(self)\n",
    "        right = other\n",
    "        if isinstance(other, ClassicalLiteral):\n",
    "            right = ClassicalFormula(right)\n",
    "        return ClassicalFormula(left, ClassicalConnective.Or, right)\n",
    "\n",
    "    def __rshift__(self, other):\n",
    "        left = ClassicalFormula(self)\n",
    "        right = other\n",
    "        if isinstance(other, ClassicalLiteral):\n",
    "            right = ClassicalFormula(right)\n",
    "        return ClassicalFormula(left, ClassicalConnective.Implies, right)\n",
    "\n",
    "    def __call__(self, valuation: Optional[ClassicalValuation] = None, *args, **kwargs):\n",
    "        return self.evaluate(valuation)\n",
    "\n",
    "    def evaluate(self, valuation: Optional[ClassicalValuation] = None):\n",
    "        if valuation is None:\n",
    "            return isinstance(self, ClassicalTop)\n",
    "        return self.sign == valuation.get(self.atom, False)\n",
    "\n",
    "\n",
    "@dataclass(frozen=True, order=True)\n",
    "class ClassicalTop(ClassicalLiteral):\n",
    "    atom: ClassicalAtom = field(default=ClassicalAtom('⊤'), init=False)\n",
    "    sign: bool = field(default=True, init=False)\n",
    "\n",
    "    def __str__(self):\n",
    "        return str(self.atom)\n",
    "\n",
    "    def __repr__(self):\n",
    "        return str(self)\n",
    "\n",
    "    def __neg__(self):\n",
    "        return ClassicalBot()\n",
    "\n",
    "    def __and__(self, other):\n",
    "        if isinstance(other, ClassicalLiteral):\n",
    "            return ClassicalFormula(other)\n",
    "        return other\n",
    "\n",
    "    def __or__(self, other):\n",
    "        return ClassicalFormula(ClassicalTop())\n",
    "\n",
    "\n",
    "@dataclass(frozen=True, order=True)\n",
    "class ClassicalBot(ClassicalLiteral):\n",
    "    atom: ClassicalAtom = field(default=ClassicalAtom('⊥'), init=False)\n",
    "    sign: bool = field(default=False, init=False)\n",
    "\n",
    "    def __neg__(self):\n",
    "        return ClassicalTop()\n",
    "\n",
    "    def __str__(self):\n",
    "        return str(self.atom)\n",
    "\n",
    "    def __and__(self, other):\n",
    "        return ClassicalFormula(ClassicalBot())\n",
    "\n",
    "    def __or__(self, other):\n",
    "        if isinstance(other, ClassicalLiteral):\n",
    "            return ClassicalFormula(other)\n",
    "        return other\n",
    "\n",
    "\n",
    "class ClassicalConnective(IntEnum):\n",
    "    And = 0\n",
    "    Or = 1\n",
    "    Implies = 2\n",
    "\n",
    "    def __str__(self):\n",
    "        if self is ClassicalConnective.And:\n",
    "            return \"∧\"\n",
    "        elif self is ClassicalConnective.Or:\n",
    "            return \"∨\"\n",
    "        elif self is ClassicalConnective.Implies:\n",
    "            return \"→\"\n",
    "        else:\n",
    "            assert False, \"Unhandled Connective.__str__: {} = {}\".format(self.name, self.value)\n",
    "\n",
    "    def evaluate(self, left: bool, right: bool):\n",
    "        if self is ClassicalConnective.And:\n",
    "            return left and right\n",
    "        elif self is ClassicalConnective.Or:\n",
    "            return left or right\n",
    "        elif self is ClassicalConnective.Implies:\n",
    "            return not left or right\n",
    "        else:\n",
    "            assert False, \"Unhandled Connective.evaluate: {} = {}\".format(self.name, self.value)\n",
    "\n",
    "\n",
    "_ForwardClassicalFormula = TypeVar('_ForwardClassicalFormula', bound='ClassicalFormula')\n",
    "\n",
    "\n",
    "@dataclass(frozen=True, order=True)\n",
    "class ClassicalFormula:\n",
    "    left: Union[_ForwardClassicalFormula, ClassicalLiteral]\n",
    "    connective: Optional[ClassicalConnective] = field(default=None)\n",
    "    right: Union[_ForwardClassicalFormula, None] = field(default=None)\n",
    "\n",
    "    def __str__(self):\n",
    "        left_str = str(self.left)\n",
    "        connective_str = \"\"\n",
    "        if self.connective is not None:\n",
    "            connective_str = \" {}\".format(self.connective)\n",
    "            if isinstance(self.left,\n",
    "                          ClassicalFormula) and self.left.connective is not None and self.left.connective > self.connective:\n",
    "                left_str = \"({})\".format(left_str)\n",
    "        right_str = \"\"\n",
    "        if self.right is not None:\n",
    "            if self.right.left == ClassicalBot() and self.right.right is None and self.connective is ClassicalConnective.Implies:\n",
    "                left_str = \"¬({})\".format(left_str)\n",
    "                connective_str = \"\"\n",
    "            else:\n",
    "                right_str = \" {}\".format(self.right)\n",
    "            if isinstance(self.right,\n",
    "                          ClassicalFormula) and self.right.connective is not None and self.right.connective > self.connective:\n",
    "                left_str = \"({})\".format(left_str)\n",
    "        return \"{}{}{}\".format(left_str, connective_str, right_str)\n",
    "\n",
    "    def __repr__(self):\n",
    "        return str(self)\n",
    "\n",
    "    def __neg__(self):\n",
    "        if self.connective is not None and self.right is None:\n",
    "            raise TypeError(\"Formula.connective present, despite Formula.right missing.\")\n",
    "        elif self.connective is None and self.right is not None:\n",
    "            raise TypeError(\"Formula.connective missing, despite Formula.right present.\")\n",
    "\n",
    "        if self.connective is None and self.right is None:\n",
    "            return ClassicalFormula(-self.left)\n",
    "        elif self.connective is ClassicalConnective.And:\n",
    "            return ClassicalFormula(-self.left, ClassicalConnective.Or, -self.right)\n",
    "        elif self.connective is ClassicalConnective.Or:\n",
    "            return ClassicalFormula(-self.left, ClassicalConnective.And, -self.right)\n",
    "        elif self.connective is ClassicalConnective.Implies:\n",
    "            if self.right.left == ClassicalBot() and self.right.right is None:\n",
    "                return self.left\n",
    "            return ClassicalFormula(self, ClassicalConnective.Implies, ClassicalFormula(ClassicalBot()))\n",
    "        else:\n",
    "            assert False, \"Unknown Formula.connective. {} = {}.\".format(self.connective.name, self.connective.value)\n",
    "\n",
    "    def __and__(self, other):\n",
    "        left = self\n",
    "        right = other\n",
    "        if isinstance(other, ClassicalLiteral):\n",
    "            right = ClassicalFormula(right)\n",
    "        if left.is_top:\n",
    "            return right\n",
    "        elif right.is_top:\n",
    "            return left\n",
    "        if left.is_bot:\n",
    "            return left\n",
    "        elif right.is_bot:\n",
    "            return right\n",
    "        return ClassicalFormula(left, ClassicalConnective.And, right)\n",
    "\n",
    "    def __or__(self, other):\n",
    "        left = self\n",
    "        right = other\n",
    "        if isinstance(other, ClassicalLiteral):\n",
    "            right = ClassicalFormula(right)\n",
    "        if left.is_top:\n",
    "            return left\n",
    "        elif right.is_top:\n",
    "            return right\n",
    "        if left.is_bot:\n",
    "            return right\n",
    "        elif right.is_bot:\n",
    "            return left\n",
    "        return ClassicalFormula(left, ClassicalConnective.Or, right)\n",
    "\n",
    "    def __rshift__(self, other):\n",
    "        left = self\n",
    "        right = other\n",
    "        if isinstance(other, ClassicalLiteral):\n",
    "            right = ClassicalFormula(right)\n",
    "        return ClassicalFormula(left, ClassicalConnective.Implies, right)\n",
    "\n",
    "    def __call__(self, valuation: Optional[ClassicalValuation] = None) -> bool:\n",
    "        return self.evaluate(valuation)\n",
    "\n",
    "    @property\n",
    "    def literals(self) -> Set[ClassicalLiteral]:\n",
    "        literals = set()\n",
    "        if isinstance(self.left, ClassicalLiteral):\n",
    "            if not isinstance(self.left, ClassicalTop) and not isinstance(self.left, ClassicalBot):\n",
    "                literals.add(self.left)\n",
    "        else:\n",
    "            assert isinstance(self.left, ClassicalFormula), \"Unknown type for Formula.right. {}: {}\".format(\n",
    "                type(self.left).__name__, self.left)\n",
    "            literals.update(self.left.literals)\n",
    "        if self.right is not None:\n",
    "            assert isinstance(self.right, ClassicalFormula), \"Unknown type for Formula.right. {}: {}\".format(\n",
    "                type(self.right).__name__, self.right)\n",
    "            literals.update(self.right.literals)\n",
    "        return literals\n",
    "\n",
    "    @property\n",
    "    def atoms(self) -> Set[ClassicalAtom]:\n",
    "        return {literal.atom for literal in self.literals}\n",
    "\n",
    "    @property\n",
    "    def is_top(self) -> bool:\n",
    "        return self.is_literal and isinstance(self.left, ClassicalTop)\n",
    "\n",
    "    @property\n",
    "    def is_bot(self) -> bool:\n",
    "        return self.is_literal and isinstance(self.left, ClassicalBot)\n",
    "\n",
    "    @property\n",
    "    def is_literal(self) -> bool:\n",
    "        return self.right is None\n",
    "\n",
    "    def evaluate(self, valuation: Optional[ClassicalValuation] = None) -> bool:\n",
    "        if isinstance(self.left, ClassicalLiteral):\n",
    "            value_left = self.__evaluate_literal(self.left, valuation)\n",
    "        else:\n",
    "            assert isinstance(self.left, ClassicalFormula), \"Unknown type for Formula.left. {}: {}\".format(\n",
    "                type(self.left).__name__, self.left)\n",
    "            value_left = self.left.evaluate(valuation)\n",
    "        if self.connective is not None and self.right is None:\n",
    "            raise TypeError(\"Formula.connective present, despite Formula.right missing.\")\n",
    "        elif self.connective is None and self.right is not None:\n",
    "            raise TypeError(\"Formula.connective missing, despite Formula.right present.\")\n",
    "\n",
    "        if self.connective is None and self.right is None:\n",
    "            return value_left\n",
    "        else:\n",
    "            assert isinstance(self.right, ClassicalFormula), \"Unknown type for Formula.right. {}: {}\".format(\n",
    "                type(self.right).__name__, self.right)\n",
    "            value_right = self.right.evaluate(valuation)\n",
    "\n",
    "            return self.connective.evaluate(value_left, value_right)\n",
    "\n",
    "    def __evaluate_literal(self, literal: ClassicalLiteral, valuation: Optional[ClassicalValuation] = None) -> bool:\n",
    "        if isinstance(literal, ClassicalTop) or isinstance(literal, ClassicalBot):\n",
    "            return literal.sign\n",
    "        else:\n",
    "            # get assigned truth value of atom (per default false) and flip the result if negated\n",
    "            return valuation is not None and bool(valuation.get(literal.atom, False) ^ (not literal.sign))\n",
    "\n",
    "    def set_to_bot(self, *atoms: ClassicalAtom) -> _ForwardClassicalFormula:\n",
    "        if isinstance(self.left, ClassicalLiteral):\n",
    "            assert self.connective is None\n",
    "            assert self.right is None\n",
    "            if self.left.atom in atoms:\n",
    "                if self.left.sign:\n",
    "                    return ClassicalFormula(ClassicalBot())\n",
    "                else:\n",
    "                    return ClassicalFormula(ClassicalTop())\n",
    "            else:\n",
    "                return self\n",
    "        else:\n",
    "            left = self.left.set_to_bot(*atoms)\n",
    "            right = self.right\n",
    "            if right is not None:\n",
    "                right = self.right.set_to_bot(*atoms)\n",
    "            return ClassicalFormula(left, self.connective, right)\n"
   ]
  },
  {
   "cell_type": "code",
   "execution_count": 4,
   "metadata": {
    "pycharm": {
     "name": "#%%\n"
    }
   },
   "outputs": [],
   "source": [
    "def all_valuations(alphabet: ClassicalAlphabet, complete: bool = False) -> Iterator[ClassicalValuation]:\n",
    "    subsets = powerset(alphabet)\n",
    "    for subset in subsets:\n",
    "        valuation = defaultdict(lambda: False)\n",
    "        for atom in subset:\n",
    "            valuation[atom] = True\n",
    "        if complete:\n",
    "            for atom in alphabet:\n",
    "                if atom not in subset:\n",
    "                    valuation[atom] = False\n",
    "        yield valuation\n",
    "\n",
    "\n",
    "def models(formulas: Set[ClassicalFormula], alphabet: Optional[ClassicalAlphabet] = None) -> Iterator[\n",
    "    ClassicalValuation]:\n",
    "    if alphabet is None:\n",
    "        alphabet = {atom for formula in formulas for atom in formula.atoms}\n",
    "    for valuation in all_valuations(alphabet):\n",
    "        if all(formula.evaluate(valuation) for formula in formulas):\n",
    "            yield valuation\n",
    "\n",
    "\n",
    "def sat(formulas: Set[ClassicalFormula], alphabet: Optional[ClassicalAlphabet] = None) -> bool:\n",
    "    model = next(models(formulas, alphabet), None)\n",
    "    return model is not None\n",
    "\n",
    "\n",
    "def unsat(formulas: Set[ClassicalFormula], alphabet: Optional[ClassicalAlphabet] = None) -> bool:\n",
    "    return not sat(formulas, alphabet)\n",
    "\n",
    "\n",
    "def entails(formulas: Set[ClassicalFormula], formula: ClassicalFormula) -> bool:\n",
    "    return unsat(formulas | {-formula})\n",
    "\n",
    "\n",
    "def valid(formulas: Set[ClassicalFormula], alphabet: Optional[ClassicalAlphabet] = None) -> bool:\n",
    "    if alphabet is None:\n",
    "        alphabet = {atom for formula in formulas for atom in formula.atoms}\n",
    "    for valuation in all_valuations(alphabet):\n",
    "        if any(not formula.evaluate(valuation) for formula in formulas):\n",
    "            return False\n",
    "    return True"
   ]
  },
  {
   "cell_type": "code",
   "execution_count": 5,
   "metadata": {
    "pycharm": {
     "name": "#%%\n"
    }
   },
   "outputs": [],
   "source": [
    "Action = ClassicalAtom\n",
    "Fluent = ClassicalAtom\n",
    "FluentLiteral = ClassicalLiteral"
   ]
  },
  {
   "cell_type": "code",
   "execution_count": 6,
   "metadata": {
    "pycharm": {
     "name": "#%%\n"
    }
   },
   "outputs": [],
   "source": [
    "ActionAlphabet = ClassicalAlphabet\n",
    "FluentAlphabet = ClassicalAlphabet\n",
    "Time = int"
   ]
  },
  {
   "cell_type": "code",
   "execution_count": 7,
   "metadata": {
    "pycharm": {
     "name": "#%%\n"
    }
   },
   "outputs": [],
   "source": [
    "_ForwardState = TypeVar('_ForwardState', bound='State')\n",
    "\n",
    "\n",
    "@dataclass(frozen=True)\n",
    "class State:\n",
    "    _state: FrozenSet[FluentLiteral]\n",
    "    parent: Optional[_ForwardState] = field(default=None)\n",
    "    action: Optional[Action] = field(default=None)\n",
    "\n",
    "    @property\n",
    "    def coherent(self) -> bool:\n",
    "        return all(-literal not in self for literal in self)\n",
    "\n",
    "    @property\n",
    "    def time(self) -> int:\n",
    "        count = 0\n",
    "        node = self\n",
    "        while node.parent is not None:\n",
    "            count += 1\n",
    "            node = node.parent\n",
    "        return count\n",
    "\n",
    "    def __iter__(self):\n",
    "        return iter(self._state)\n",
    "\n",
    "    def __str__(self):\n",
    "        return \"{}{}{}${}\".format('{', ','.join(map(str, sorted(self))), '}', self.action)\n",
    "\n",
    "    def __sub__(self, other):\n",
    "        return State(self._state - other._state, self.parent, self.action)\n",
    "\n",
    "    def __or__(self, other):\n",
    "        return State(self._state | other._state, self.parent, self.action)\n",
    "\n",
    "    def __len__(self):\n",
    "        return len(self._state)\n",
    "\n",
    "    def __call__(self, causal_setting, action: Action, *args, **kwargs):\n",
    "        return self.apply(causal_setting, action)\n",
    "\n",
    "    def reachable(self, causal_setting, other) -> bool:\n",
    "        assert isinstance(other, State)\n",
    "        return self != other and other in all_states(causal_setting=causal_setting, state=self, upto_time=other.time)\n",
    "\n",
    "    def reachable_or_eq(self, causal_setting, other) -> bool:\n",
    "        assert isinstance(other, State)\n",
    "        return self == other or self.reachable(causal_setting, other)\n",
    "\n",
    "    def legally_reachable(self, causal_setting, other) -> bool:\n",
    "        assert isinstance(other, State)\n",
    "        return self.reachable(causal_setting, other) and other.executable(causal_setting)\n",
    "\n",
    "    def executable(self, causal_setting) -> bool:\n",
    "        assert isinstance(causal_setting, CausalSetting)\n",
    "        return True\n",
    "\n",
    "    def legally_reachable_or_eq(self, causal_setting, other) -> bool:\n",
    "        assert isinstance(causal_setting, CausalSetting)\n",
    "        assert isinstance(other, State)\n",
    "\n",
    "        return self.reachable_or_eq(causal_setting, other) and other.executable(causal_setting)\n",
    "\n",
    "    def complete(self, causal_setting) -> bool:\n",
    "        fluents, _, _, _, _, _ = causal_setting\n",
    "        return len(fluents) == len(self)\n",
    "\n",
    "    def as_valuation(self) -> ClassicalValuation:\n",
    "        return defaultdict(lambda: False, {literal.atom: literal.sign for literal in self})\n",
    "\n",
    "    def apply(self, causal_setting, action: Action) -> _ForwardState:\n",
    "        _, _, poss, do, _, _ = causal_setting\n",
    "        return do(action, self)\n",
    "\n"
   ]
  },
  {
   "cell_type": "code",
   "execution_count": 8,
   "metadata": {
    "pycharm": {
     "name": "#%%\n"
    }
   },
   "outputs": [],
   "source": [
    "SituationStep = Tuple[State, Action, State]\n",
    "Trace = Sequence[SituationStep]\n",
    "Poss = Callable[[Action, State], bool]\n",
    "Do = Callable[[Action, State], State]\n",
    "InitialState = State\n",
    "K_Relation = Mapping[State, FrozenSet[State]]"
   ]
  },
  {
   "cell_type": "code",
   "execution_count": 9,
   "metadata": {
    "pycharm": {
     "name": "#%%\n"
    }
   },
   "outputs": [],
   "source": [
    "CausalSetting = Tuple[FluentAlphabet, ActionAlphabet, Poss, Do, InitialState, Time]"
   ]
  },
  {
   "cell_type": "code",
   "execution_count": 10,
   "metadata": {
    "pycharm": {
     "name": "#%%\n"
    }
   },
   "outputs": [],
   "source": [
    "_T = TypeVar('_T')\n",
    "_U = TypeVar('_U')\n",
    "\n",
    "\n",
    "def mapping_to_callable_rel(m: Mapping[_T, _U]) -> Callable[[_T, _U], bool]:\n",
    "    def rel(_t: _T, _u: _U) -> bool:\n",
    "        return m.get(_t, None) == _u\n",
    "\n",
    "    return rel"
   ]
  },
  {
   "cell_type": "code",
   "execution_count": 11,
   "metadata": {
    "pycharm": {
     "name": "#%%\n"
    }
   },
   "outputs": [],
   "source": [
    "_ForwardDynamicFormula = TypeVar('_ForwardDynamicFormula', bound='DynamicFormula')\n",
    "\n",
    "\n",
    "class DynamicFormula:\n",
    "\n",
    "    @property\n",
    "    def is_predicate(self) -> bool:\n",
    "        return False\n",
    "\n",
    "    @property\n",
    "    def is_poss(self) -> bool:\n",
    "        return False\n",
    "\n",
    "    @property\n",
    "    def is_after(self) -> bool:\n",
    "        return False\n",
    "\n",
    "    @property\n",
    "    def is_negation(self) -> bool:\n",
    "        return False\n",
    "\n",
    "    @property\n",
    "    def is_conjunction(self) -> bool:\n",
    "        return False\n",
    "\n",
    "    @property\n",
    "    def is_existential_quantification(self) -> bool:\n",
    "        return False\n",
    "\n",
    "    @property\n",
    "    def is_know(self) -> bool:\n",
    "        return False\n",
    "\n",
    "    def __neg__(self):\n",
    "        if self.is_negation:\n",
    "            assert isinstance(self, DynamicNegation)\n",
    "            return self.dynamic_formula\n",
    "        return DynamicNegation(self)\n",
    "\n",
    "    def __and__(self, other):\n",
    "        return DynamicConjunction(self, other)\n",
    "\n",
    "    # TODO: Type synonym\n",
    "    def evaluate(self, state: State, k_rel: Mapping[State, FrozenSet[State]], causal_setting: CausalSetting) -> bool:\n",
    "        raise NotImplementedError\n",
    "\n",
    "\n",
    "@dataclass(order=True, frozen=True)\n",
    "class DynamicPredicate(DynamicFormula):\n",
    "    predicate: ClassicalLiteral\n",
    "\n",
    "    @property\n",
    "    def is_predicate(self) -> bool:\n",
    "        return True\n",
    "\n",
    "    def evaluate(self, state: State, k_rel: Optional[Mapping[State, FrozenSet[State]]] = None, causal_setting: Optional[CausalSetting] = None) -> bool:\n",
    "        return self.predicate in state\n",
    "\n",
    "\n",
    "@dataclass(order=True, frozen=True)\n",
    "class DynamicPoss(DynamicFormula):\n",
    "    action: Action\n",
    "\n",
    "    @property\n",
    "    def is_poss(self) -> bool:\n",
    "        return True\n",
    "\n",
    "    def evaluate(self, state: State, k_rel: Mapping[State, FrozenSet[State]], causal_setting: CausalSetting) -> bool:\n",
    "        _, _, poss, _, _, _ = causal_setting\n",
    "        return poss(self.action, state)\n",
    "\n",
    "\n",
    "@dataclass(order=True, frozen=True)\n",
    "class DynamicAfter(DynamicFormula):\n",
    "    action: Action\n",
    "    dynamic_formula: DynamicFormula\n",
    "\n",
    "    @property\n",
    "    def is_after(self) -> bool:\n",
    "        return True\n",
    "\n",
    "    def evaluate(self, state: State, k_rel: Mapping[State, FrozenSet[State]], causal_setting: CausalSetting) -> bool:\n",
    "        _, _, poss, do, _, _ = causal_setting\n",
    "        return self.dynamic_formula.evaluate(do(self.action, state), k_rel, causal_setting)\n",
    "\n",
    "\n",
    "@dataclass(order=True, frozen=True)\n",
    "class DynamicNegation(DynamicFormula):\n",
    "    dynamic_formula: DynamicFormula\n",
    "\n",
    "    @property\n",
    "    def is_negation(self) -> bool:\n",
    "        return True\n",
    "\n",
    "    def evaluate(self, state: State, k_rel: Mapping[State, FrozenSet[State]], causal_setting: CausalSetting) -> bool:\n",
    "        return not self.dynamic_formula.evaluate(state, k_rel, causal_setting)\n",
    "\n",
    "\n",
    "@dataclass(order=True, frozen=True)\n",
    "class DynamicConjunction(DynamicFormula):\n",
    "    left: DynamicFormula\n",
    "    right: DynamicFormula\n",
    "\n",
    "    @property\n",
    "    def is_conjunction(self) -> bool:\n",
    "        return True\n",
    "\n",
    "    def evaluate(self, state: State, k_rel: Mapping[State, FrozenSet[State]], causal_setting: CausalSetting) -> bool:\n",
    "        return self.left.evaluate(state, k_rel, causal_setting) and self.right.evaluate(state, k_rel, causal_setting)\n",
    "\n",
    "\n",
    "@dataclass(order=True, frozen=True)\n",
    "class DynamicExistentialQuantification(DynamicFormula):\n",
    "    parameters: FrozenSet[ClassicalAtom]\n",
    "    dynamic_formula: DynamicFormula\n",
    "\n",
    "    @property\n",
    "    def is_existential_quantification(self) -> bool:\n",
    "        return True\n",
    "\n",
    "    def evaluate(self, state: State, k_rel: Mapping[State, FrozenSet[State]], causal_setting: CausalSetting) -> bool:\n",
    "        raise NotImplementedError\n",
    "\n"
   ]
  },
  {
   "cell_type": "code",
   "execution_count": 12,
   "metadata": {
    "pycharm": {
     "name": "#%%\n"
    }
   },
   "outputs": [],
   "source": [
    "def all_states(causal_setting: CausalSetting,\n",
    "               state: Optional[State] = None,\n",
    "               from_time: Optional[int] = None,\n",
    "               upto_time: Optional[int] = None) -> Iterator[State]:\n",
    "    _, actions, poss, do, initial_state, time = causal_setting\n",
    "    if state is None:\n",
    "        state = initial_state\n",
    "    queue = [state]\n",
    "\n",
    "    while queue:\n",
    "        current = queue.pop(0)\n",
    "        if current.time <= time and (upto_time is None or current.time <= upto_time):\n",
    "            for action in actions:\n",
    "                if poss(action, current):\n",
    "                    state_ = current.apply(causal_setting, action)\n",
    "                    queue.append(state_)\n",
    "            if from_time is None or from_time <= current.time:\n",
    "                yield current\n",
    "\n",
    "\n",
    "def _causes_directly_gen(causal_setting: CausalSetting, k_rel: K_Relation, action: Action, time: int, dynamic_formula: DynamicFormula,\n",
    "                         state: State) -> Iterator[State]:\n",
    "    _, _, poss, do, initial_state, time_range = causal_setting\n",
    "    for state_ in all_states(causal_setting, from_time=time):\n",
    "        if not state_.time == time:\n",
    "            continue\n",
    "        state__ = state_(causal_setting, action)\n",
    "        if not initial_state.reachable(causal_setting, state__):\n",
    "            continue\n",
    "        if not state__.reachable_or_eq(causal_setting, state):\n",
    "            continue\n",
    "        if not (-dynamic_formula).evaluate(state_, k_rel, causal_setting):\n",
    "            continue\n",
    "        if not all(dynamic_formula.evaluate(_state_, k_rel, causal_setting) for _state_ in\n",
    "                   all_states(causal_setting, upto_time=state.time) if\n",
    "                   state__.reachable_or_eq(causal_setting, _state_) and _state_.reachable_or_eq(causal_setting, state)):\n",
    "            continue\n",
    "        yield state_\n",
    "\n",
    "def causes_directly(causal_setting: CausalSetting, k_rel: K_Relation, action: Action, time: int, dynamic_formula: DynamicFormula,\n",
    "                    state: State) -> bool:\n",
    "    return next(_causes_directly_gen(causal_setting, k_rel, action, time, dynamic_formula, state), None) is not None\n",
    "\n",
    "#example_4_knows_1.evaluate(state=example_3_sigma, k_rel=example_4_k_rel, causal_setting=example_4_causal_setting)"
   ]
  },
  {
   "cell_type": "code",
   "execution_count": 13,
   "metadata": {
    "pycharm": {
     "name": "#%%\n"
    }
   },
   "outputs": [],
   "source": [
    "b1 = ClassicalAtom('b1')\n",
    "b2 = ClassicalAtom('b2')\n",
    "\n",
    "pickUp_b1 = ClassicalAtom('pickUp', (b1,))\n",
    "pickUp_b2 = ClassicalAtom('pickUp', (b2,))\n",
    "\n",
    "drop_b1 = ClassicalAtom('drop', (b1,))\n",
    "drop_b2 = ClassicalAtom('drop', (b2,))\n",
    "\n",
    "holding_b1 = ClassicalAtom('holding', (b1,))\n",
    "holding_b2 = ClassicalAtom('holding', (b2,))\n",
    "\n",
    "l_holding_b1 = ClassicalLiteral(holding_b1)\n",
    "l_holding_b2 = ClassicalLiteral(holding_b2)\n"
   ]
  },
  {
   "cell_type": "code",
   "execution_count": 14,
   "metadata": {
    "pycharm": {
     "name": "#%%\n"
    }
   },
   "outputs": [],
   "source": [
    "example_1_fluents = frozenset({holding_b1, holding_b2})\n",
    "example_1_actions = frozenset({pickUp_b1, pickUp_b2, drop_b1, drop_b2})\n",
    "\n",
    "def example_1_do(action: Action, state: State) -> State:\n",
    "    box = action.arguments[0]\n",
    "    l_holding = ClassicalLiteral(ClassicalAtom('holding', (box,)))\n",
    "    if action.symbol == 'pickUp':\n",
    "        _state_ = (state._state - {-l_holding}) | {l_holding}\n",
    "        state_ = State(_state_, parent=state, action=action)\n",
    "        return state_\n",
    "    elif action.symbol == 'drop':\n",
    "        _state_ = (state._state - {l_holding}) | {-l_holding}\n",
    "        state_ = State(_state_, parent=state, action=action)\n",
    "        return state_\n",
    "    else:\n",
    "        assert False\n",
    "\n",
    "def example_1_poss(action: Action, state: State) -> bool:\n",
    "    box = action.arguments[0]\n",
    "    l_holding = ClassicalLiteral(ClassicalAtom('holding', (box,)))\n",
    "    if action.symbol == 'pickUp':\n",
    "        return not any(literal.atom.symbol == 'holding' for literal in state if literal.sign)\n",
    "    elif action.symbol == 'drop':\n",
    "        return l_holding in state\n",
    "    else:\n",
    "        return False\n",
    "\n",
    "example_1_initial_state = State(frozenset({l_holding_b2, -l_holding_b1}))\n",
    "example_1_causal_setting = (example_1_fluents, example_1_actions, example_1_poss, example_1_do, example_1_initial_state, 4)"
   ]
  },
  {
   "cell_type": "code",
   "execution_count": 15,
   "metadata": {
    "pycharm": {
     "name": "#%%\n"
    }
   },
   "outputs": [
    {
     "data": {
      "text/plain": [
       "0"
      ]
     },
     "execution_count": 15,
     "metadata": {},
     "output_type": "execute_result"
    }
   ],
   "source": [
    "example_1_initial_state.time"
   ]
  },
  {
   "cell_type": "code",
   "execution_count": 16,
   "metadata": {
    "pycharm": {
     "name": "#%%\n"
    }
   },
   "outputs": [
    {
     "name": "stdout",
     "output_type": "stream",
     "text": [
      "1\n"
     ]
    },
    {
     "data": {
      "text/plain": [
       "State(_state=frozenset({¬holding(b2), ¬holding(b1)}), parent=State(_state=frozenset({holding(b2), ¬holding(b1)}), parent=None, action=None), action=ClassicalAtom(symbol='drop', arguments=(ClassicalAtom(symbol='b2', arguments=()),)))"
      ]
     },
     "execution_count": 16,
     "metadata": {},
     "output_type": "execute_result"
    }
   ],
   "source": [
    "example_1_state = example_1_initial_state.apply(example_1_causal_setting, drop_b2)\n",
    "print(example_1_state.time)\n",
    "example_1_state"
   ]
  },
  {
   "cell_type": "code",
   "execution_count": 17,
   "metadata": {
    "pycharm": {
     "name": "#%%\n"
    }
   },
   "outputs": [
    {
     "name": "stdout",
     "output_type": "stream",
     "text": [
      "{¬holding(b1),holding(b2)}$None\n",
      "{¬holding(b1),¬holding(b2)}$drop(b2)\n",
      "{holding(b1),¬holding(b2)}$pickUp(b1)\n",
      "{¬holding(b1),holding(b2)}$pickUp(b2)\n",
      "{¬holding(b1),¬holding(b2)}$drop(b1)\n",
      "{¬holding(b1),¬holding(b2)}$drop(b2)\n",
      "{holding(b1),¬holding(b2)}$pickUp(b1)\n",
      "{¬holding(b1),holding(b2)}$pickUp(b2)\n",
      "{holding(b1),¬holding(b2)}$pickUp(b1)\n",
      "{¬holding(b1),holding(b2)}$pickUp(b2)\n"
     ]
    }
   ],
   "source": [
    "example_1_states = all_states(example_1_causal_setting)\n",
    "for state in example_1_states:\n",
    "    print(state)"
   ]
  },
  {
   "cell_type": "code",
   "execution_count": 18,
   "metadata": {
    "pycharm": {
     "name": "#%%\n"
    }
   },
   "outputs": [
    {
     "name": "stdout",
     "output_type": "stream",
     "text": [
      "{¬holding(b1),holding(b2)}$pickUp(b2) 2\n"
     ]
    }
   ],
   "source": [
    "example_1_state = example_1_initial_state(example_1_causal_setting, drop_b2)(example_1_causal_setting, pickUp_b2)\n",
    "print(example_1_state, example_1_state.time)"
   ]
  },
  {
   "cell_type": "code",
   "execution_count": 19,
   "metadata": {
    "pycharm": {
     "name": "#%%\n"
    }
   },
   "outputs": [
    {
     "data": {
      "text/plain": [
       "True"
      ]
     },
     "execution_count": 19,
     "metadata": {},
     "output_type": "execute_result"
    }
   ],
   "source": [
    "causes_directly(causal_setting=example_1_causal_setting, k_rel={}, action=pickUp_b2, time=1, dynamic_formula=DynamicPredicate(l_holding_b2), state=example_1_state)"
   ]
  },
  {
   "cell_type": "code",
   "execution_count": 20,
   "metadata": {
    "pycharm": {
     "name": "#%%\n"
    }
   },
   "outputs": [],
   "source": [
    "broken_b1 = ClassicalAtom('broken', (b1,))\n",
    "broken_b2 = ClassicalAtom('broken', (b2,))\n",
    "\n",
    "l_broken_b1 = ClassicalLiteral(broken_b1)\n",
    "l_broken_b2 = ClassicalLiteral(broken_b2)\n",
    "\n",
    "fragile_b1 = ClassicalAtom('fragile', (b1,))\n",
    "fragile_b2 = ClassicalAtom('fragile', (b2,))\n",
    "\n",
    "l_fragile_b1 = ClassicalLiteral(fragile_b1)\n",
    "l_fragile_b2 = ClassicalLiteral(fragile_b2)\n",
    "\n",
    "quench_b1 = ClassicalAtom('quench', (b1,))\n",
    "quench_b2 = ClassicalAtom('quench', (b2,))"
   ]
  },
  {
   "cell_type": "code",
   "execution_count": 21,
   "metadata": {
    "pycharm": {
     "name": "#%%\n"
    }
   },
   "outputs": [
    {
     "data": {
      "text/plain": [
       "(frozenset({ClassicalAtom(symbol='fragile', arguments=(ClassicalAtom(symbol='b1', arguments=()),)),\n",
       "            ClassicalAtom(symbol='fragile', arguments=(ClassicalAtom(symbol='b2', arguments=()),)),\n",
       "            ClassicalAtom(symbol='holding', arguments=(ClassicalAtom(symbol='b1', arguments=()),)),\n",
       "            ClassicalAtom(symbol='holding', arguments=(ClassicalAtom(symbol='b2', arguments=()),))}),\n",
       " frozenset({ClassicalAtom(symbol='drop', arguments=(ClassicalAtom(symbol='b1', arguments=()),)),\n",
       "            ClassicalAtom(symbol='drop', arguments=(ClassicalAtom(symbol='b2', arguments=()),)),\n",
       "            ClassicalAtom(symbol='pickUp', arguments=(ClassicalAtom(symbol='b1', arguments=()),)),\n",
       "            ClassicalAtom(symbol='pickUp', arguments=(ClassicalAtom(symbol='b2', arguments=()),)),\n",
       "            ClassicalAtom(symbol='quench', arguments=(ClassicalAtom(symbol='b1', arguments=()),)),\n",
       "            ClassicalAtom(symbol='quench', arguments=(ClassicalAtom(symbol='b2', arguments=()),))}),\n",
       " <function __main__.example_2_poss(action: __main__.ClassicalAtom, state: __main__.State) -> bool>,\n",
       " <function __main__.example_2_do(action: __main__.ClassicalAtom, state: __main__.State) -> __main__.State>,\n",
       " State(_state=frozenset({¬broken(b2), ¬holding(b1), ¬broken(b1), ¬fragile(b2), holding(b2), ¬fragile(b1)}), parent=None, action=None),\n",
       " 4)"
      ]
     },
     "execution_count": 21,
     "metadata": {},
     "output_type": "execute_result"
    }
   ],
   "source": [
    "example_2_fluents = frozenset({holding_b1, holding_b2, fragile_b1, fragile_b2})\n",
    "example_2_actions = frozenset({pickUp_b1, pickUp_b2, drop_b1, drop_b2, quench_b1, quench_b2})\n",
    "\n",
    "def example_2_do(action: Action, state: State) -> State:\n",
    "    box = action.arguments[0]\n",
    "    l_holding = ClassicalLiteral(ClassicalAtom('holding', (box,)))\n",
    "    l_fragile = ClassicalLiteral(ClassicalAtom('fragile', (box,)))\n",
    "    l_broken = ClassicalLiteral(ClassicalAtom('broken', (box,)))\n",
    "    if action.symbol == 'pickUp':\n",
    "        _state_ = (state._state - {-l_holding}) | {l_holding}\n",
    "    elif action.symbol == 'drop':\n",
    "        _state_ = (state._state - {l_holding}) | {-l_holding}\n",
    "        if l_fragile in _state_:\n",
    "            _state_ = (_state_ - {-l_broken}) | {l_broken}\n",
    "    elif action.symbol == 'quench':\n",
    "        _state_ = (state._state - {-l_fragile}) | {l_fragile}\n",
    "    else:\n",
    "        assert False\n",
    "    state_ = State(_state_, parent=state, action=action)\n",
    "    return state_\n",
    "\n",
    "def example_2_poss(action: Action, state: State) -> bool:\n",
    "    box = action.arguments[0]\n",
    "    l_holding = ClassicalLiteral(ClassicalAtom('holding', (box,)))\n",
    "    if action.symbol == 'pickUp':\n",
    "        return not any(literal.atom.symbol == 'holding' for literal in state if literal.sign)\n",
    "    elif action.symbol == 'drop':\n",
    "        return l_holding in state\n",
    "    elif action.symbol == 'quench':\n",
    "        return True\n",
    "    else:\n",
    "        return False\n",
    "\n",
    "example_2_initial_state = State(frozenset({l_holding_b2, -l_holding_b1, -l_fragile_b2, -l_fragile_b1, -l_broken_b2, -l_broken_b1}))\n",
    "example_2_causal_setting = (example_2_fluents, example_2_actions, example_2_poss, example_2_do, example_2_initial_state, 4)\n",
    "example_2_causal_setting"
   ]
  },
  {
   "cell_type": "code",
   "execution_count": 22,
   "metadata": {
    "pycharm": {
     "name": "#%%\n"
    }
   },
   "outputs": [
    {
     "name": "stdout",
     "output_type": "stream",
     "text": [
      "{¬broken(b1),¬broken(b2),¬fragile(b1),¬fragile(b2),¬holding(b1),holding(b2)}$None\n"
     ]
    }
   ],
   "source": [
    "print(example_2_initial_state)"
   ]
  },
  {
   "cell_type": "code",
   "execution_count": 23,
   "metadata": {
    "pycharm": {
     "name": "#%%\n"
    }
   },
   "outputs": [
    {
     "name": "stdout",
     "output_type": "stream",
     "text": [
      "{¬broken(b1),¬broken(b2),¬fragile(b1),fragile(b2),¬holding(b1),holding(b2)}$quench(b2)\n"
     ]
    },
    {
     "data": {
      "text/plain": [
       "True"
      ]
     },
     "execution_count": 23,
     "metadata": {},
     "output_type": "execute_result"
    }
   ],
   "source": [
    "example_2_state_ = example_2_initial_state(example_2_causal_setting, quench_b2)\n",
    "print(example_2_state_)\n",
    "causes_directly(example_2_causal_setting, {}, quench_b2, 0, DynamicPredicate(l_fragile_b2), example_2_state_)"
   ]
  },
  {
   "cell_type": "code",
   "execution_count": 24,
   "metadata": {
    "pycharm": {
     "name": "#%%\n"
    }
   },
   "outputs": [
    {
     "name": "stdout",
     "output_type": "stream",
     "text": [
      "{¬broken(b1),broken(b2),¬fragile(b1),fragile(b2),¬holding(b1),¬holding(b2)}$drop(b2)\n"
     ]
    },
    {
     "data": {
      "text/plain": [
       "True"
      ]
     },
     "execution_count": 24,
     "metadata": {},
     "output_type": "execute_result"
    }
   ],
   "source": [
    "example_2_state__ = example_2_state_(example_2_causal_setting, drop_b2)\n",
    "print(example_2_state__)\n",
    "causes_directly(example_2_causal_setting, {}, drop_b2, 1, DynamicPredicate(l_broken_b2), example_2_state__)"
   ]
  },
  {
   "cell_type": "code",
   "execution_count": 25,
   "metadata": {
    "pycharm": {
     "name": "#%%\n"
    }
   },
   "outputs": [],
   "source": [
    "def causes_indirectly(causal_setting: CausalSetting, k_rel: K_Relation, action: Action, time: Time, dynamic_formula: DynamicFormula, state: State) -> bool:\n",
    "    print()\n",
    "    print(action, time, dynamic_formula)\n",
    "    print()\n",
    "    _, actions, poss, _, _, _ = causal_setting\n",
    "    for state_ in all_states(causal_setting, upto_time=state.time):\n",
    "        if state_.reachable(causal_setting, state):\n",
    "            for action_ in actions:\n",
    "                if not causes_directly(causal_setting, k_rel, action_, state_.time, dynamic_formula, state):\n",
    "                    continue\n",
    "                if causes_directly(causal_setting, k_rel, action, time, DynamicConjunction(DynamicPoss(action_), DynamicAfter(action_, dynamic_formula)), state_):\n",
    "                    return True\n",
    "                if causes_indirectly(causal_setting, k_rel, action, time, DynamicConjunction(DynamicPoss(action_), DynamicAfter(action_, dynamic_formula)), state_):\n",
    "                    return True\n",
    "    return False\n"
   ]
  },
  {
   "cell_type": "code",
   "execution_count": 26,
   "metadata": {
    "pycharm": {
     "name": "#%%\n"
    }
   },
   "outputs": [],
   "source": [
    "def causes(causal_setting: CausalSetting, k_rel: K_Relation, action: Action, time: Time, dynamic_formula: DynamicFormula, state: State) -> bool:\n",
    "    return causes_directly(causal_setting, k_rel, action, time, dynamic_formula, state) or causes_indirectly(causal_setting, k_rel, action, time, dynamic_formula, state)\n",
    "\n",
    "#causes(example_3_causal_setting, drop_b1, 0, example_3_phi, example_3_sigma)"
   ]
  },
  {
   "cell_type": "code",
   "execution_count": 27,
   "metadata": {
    "pycharm": {
     "name": "#%%\n"
    }
   },
   "outputs": [
    {
     "name": "stdout",
     "output_type": "stream",
     "text": [
      "{¬broken(b1),¬broken(b2),¬fragile(b1),fragile(b2),¬holding(b1),holding(b2)}$quench(b2)\n"
     ]
    },
    {
     "data": {
      "text/plain": [
       "True"
      ]
     },
     "execution_count": 27,
     "metadata": {},
     "output_type": "execute_result"
    }
   ],
   "source": [
    "print(example_2_state_)\n",
    "causes(example_2_causal_setting, {}, quench_b2, 0, DynamicPredicate(l_fragile_b2), example_2_state_)"
   ]
  },
  {
   "cell_type": "code",
   "execution_count": 28,
   "metadata": {
    "pycharm": {
     "name": "#%%\n"
    }
   },
   "outputs": [
    {
     "name": "stdout",
     "output_type": "stream",
     "text": [
      "{¬broken(b1),broken(b2),¬fragile(b1),fragile(b2),¬holding(b1),¬holding(b2)}$drop(b2)\n"
     ]
    },
    {
     "data": {
      "text/plain": [
       "True"
      ]
     },
     "execution_count": 28,
     "metadata": {},
     "output_type": "execute_result"
    }
   ],
   "source": [
    "print(example_2_state__)\n",
    "causes(example_2_causal_setting, {}, drop_b2, 1, DynamicPredicate(l_broken_b2), example_2_state__)"
   ]
  },
  {
   "cell_type": "code",
   "execution_count": 29,
   "metadata": {
    "pycharm": {
     "name": "#%%\n"
    }
   },
   "outputs": [
    {
     "name": "stdout",
     "output_type": "stream",
     "text": [
      "{¬broken(b1),broken(b2),¬fragile(b1),fragile(b2),¬holding(b1),¬holding(b2)}$drop(b2)\n"
     ]
    },
    {
     "data": {
      "text/plain": [
       "False"
      ]
     },
     "execution_count": 29,
     "metadata": {},
     "output_type": "execute_result"
    }
   ],
   "source": [
    "print(example_2_state__)\n",
    "causes_directly(example_2_causal_setting, {}, quench_b2, 0, DynamicPredicate(l_broken_b2), example_2_state__)"
   ]
  },
  {
   "cell_type": "code",
   "execution_count": 30,
   "metadata": {
    "pycharm": {
     "name": "#%%\n"
    }
   },
   "outputs": [
    {
     "name": "stdout",
     "output_type": "stream",
     "text": [
      "{¬broken(b1),broken(b2),¬fragile(b1),fragile(b2),¬holding(b1),¬holding(b2)}$drop(b2)\n",
      "\n",
      "quench(b2) 0 DynamicPredicate(predicate=broken(b2))\n",
      "\n"
     ]
    },
    {
     "data": {
      "text/plain": [
       "True"
      ]
     },
     "execution_count": 30,
     "metadata": {},
     "output_type": "execute_result"
    }
   ],
   "source": [
    "print(example_2_state__)\n",
    "causes(example_2_causal_setting, {}, quench_b2, 0, DynamicPredicate(l_broken_b2), example_2_state__)"
   ]
  },
  {
   "cell_type": "code",
   "execution_count": 31,
   "metadata": {
    "pycharm": {
     "name": "#%%\n"
    }
   },
   "outputs": [
    {
     "data": {
      "text/plain": [
       "(frozenset({ClassicalAtom(symbol='fragile', arguments=(ClassicalAtom(symbol='b1', arguments=()),)),\n",
       "            ClassicalAtom(symbol='fragile', arguments=(ClassicalAtom(symbol='b2', arguments=()),)),\n",
       "            ClassicalAtom(symbol='holding', arguments=(ClassicalAtom(symbol='b1', arguments=()),)),\n",
       "            ClassicalAtom(symbol='holding', arguments=(ClassicalAtom(symbol='b2', arguments=()),))}),\n",
       " frozenset({ClassicalAtom(symbol='drop', arguments=(ClassicalAtom(symbol='b1', arguments=()),)),\n",
       "            ClassicalAtom(symbol='drop', arguments=(ClassicalAtom(symbol='b2', arguments=()),)),\n",
       "            ClassicalAtom(symbol='pickUp', arguments=(ClassicalAtom(symbol='b1', arguments=()),)),\n",
       "            ClassicalAtom(symbol='pickUp', arguments=(ClassicalAtom(symbol='b2', arguments=()),)),\n",
       "            ClassicalAtom(symbol='quench', arguments=(ClassicalAtom(symbol='b1', arguments=()),)),\n",
       "            ClassicalAtom(symbol='quench', arguments=(ClassicalAtom(symbol='b2', arguments=()),))}),\n",
       " <function __main__.example_2_poss(action: __main__.ClassicalAtom, state: __main__.State) -> bool>,\n",
       " <function __main__.example_2_do(action: __main__.ClassicalAtom, state: __main__.State) -> __main__.State>,\n",
       " State(_state=frozenset({¬broken(b2), holding(b1), ¬fragile(b2), ¬broken(b1), ¬holding(b2), ¬fragile(b1)}), parent=None, action=None),\n",
       " 6)"
      ]
     },
     "execution_count": 31,
     "metadata": {},
     "output_type": "execute_result"
    }
   ],
   "source": [
    "example_3_fluents = frozenset({holding_b1, holding_b2, fragile_b1, fragile_b2})\n",
    "example_3_actions = frozenset({pickUp_b1, pickUp_b2, drop_b1, drop_b2, quench_b1, quench_b2})\n",
    "\n",
    "example_3_do = example_2_do\n",
    "\n",
    "example_3_poss = example_2_poss\n",
    "\n",
    "example_3_initial_state = State(frozenset({-l_holding_b2, l_holding_b1, -l_fragile_b2, -l_fragile_b1, -l_broken_b2, -l_broken_b1}))\n",
    "example_3_causal_setting = (example_3_fluents, example_3_actions, example_3_poss, example_3_do, example_3_initial_state, 6)\n",
    "example_3_causal_setting"
   ]
  },
  {
   "cell_type": "code",
   "execution_count": 32,
   "metadata": {
    "pycharm": {
     "name": "#%%\n"
    }
   },
   "outputs": [
    {
     "name": "stdout",
     "output_type": "stream",
     "text": [
      "{broken(b1),¬broken(b2),fragile(b1),fragile(b2),¬holding(b1),¬holding(b2)}$drop(b1)\n"
     ]
    }
   ],
   "source": [
    "# example_3\n",
    "example_3_sigma = example_3_initial_state(example_3_causal_setting, drop_b1)(example_3_causal_setting, quench_b1)(example_3_causal_setting, quench_b2)(example_3_causal_setting, pickUp_b1)(example_3_causal_setting, drop_b1)\n",
    "print(example_3_sigma)"
   ]
  },
  {
   "cell_type": "code",
   "execution_count": 33,
   "metadata": {
    "pycharm": {
     "name": "#%%\n"
    }
   },
   "outputs": [],
   "source": [
    "example_3_phi = DynamicPredicate(l_broken_b1)"
   ]
  },
  {
   "cell_type": "code",
   "execution_count": 34,
   "metadata": {
    "pycharm": {
     "name": "#%%\n"
    }
   },
   "outputs": [
    {
     "name": "stdout",
     "output_type": "stream",
     "text": [
      "{broken(b1),¬broken(b2),fragile(b1),fragile(b2),¬holding(b1),¬holding(b2)}$drop(b1)\n",
      "DynamicPredicate(predicate=broken(b1))\n"
     ]
    }
   ],
   "source": [
    "print(example_3_sigma)\n",
    "print(example_3_phi)"
   ]
  },
  {
   "cell_type": "code",
   "execution_count": 35,
   "metadata": {
    "pycharm": {
     "name": "#%%\n"
    }
   },
   "outputs": [
    {
     "data": {
      "text/plain": [
       "False"
      ]
     },
     "execution_count": 35,
     "metadata": {},
     "output_type": "execute_result"
    }
   ],
   "source": [
    "causes_directly(example_3_causal_setting, {}, drop_b1, 0, example_3_phi, example_3_sigma)"
   ]
  },
  {
   "cell_type": "code",
   "execution_count": 36,
   "metadata": {
    "pycharm": {
     "name": "#%%\n"
    }
   },
   "outputs": [],
   "source": [
    "#causes(example_3_causal_setting, {}, drop_b1, 0, example_3_phi, example_3_sigma)"
   ]
  },
  {
   "cell_type": "code",
   "execution_count": 37,
   "metadata": {
    "pycharm": {
     "name": "#%%\n"
    }
   },
   "outputs": [
    {
     "data": {
      "text/plain": [
       "False"
      ]
     },
     "execution_count": 37,
     "metadata": {},
     "output_type": "execute_result"
    }
   ],
   "source": [
    "causes_directly(example_3_causal_setting, {}, quench_b1, 1, example_3_phi, example_3_sigma)"
   ]
  },
  {
   "cell_type": "code",
   "execution_count": 38,
   "metadata": {
    "pycharm": {
     "name": "#%%\n"
    }
   },
   "outputs": [],
   "source": [
    "#causes(example_3_causal_setting, {}, quench_b1, 1, example_3_phi, example_3_sigma)"
   ]
  },
  {
   "cell_type": "code",
   "execution_count": 39,
   "metadata": {
    "pycharm": {
     "name": "#%%\n"
    }
   },
   "outputs": [
    {
     "data": {
      "text/plain": [
       "False"
      ]
     },
     "execution_count": 39,
     "metadata": {},
     "output_type": "execute_result"
    }
   ],
   "source": [
    "causes_directly(example_3_causal_setting, {}, pickUp_b1, 3, example_3_phi, example_3_sigma)"
   ]
  },
  {
   "cell_type": "code",
   "execution_count": 40,
   "metadata": {
    "pycharm": {
     "name": "#%%\n"
    }
   },
   "outputs": [],
   "source": [
    "#causes(example_3_causal_setting, {}, pickUp_b1, 3, example_3_phi, example_3_sigma)"
   ]
  },
  {
   "cell_type": "code",
   "execution_count": 41,
   "metadata": {
    "pycharm": {
     "name": "#%%\n"
    }
   },
   "outputs": [
    {
     "data": {
      "text/plain": [
       "True"
      ]
     },
     "execution_count": 41,
     "metadata": {},
     "output_type": "execute_result"
    }
   ],
   "source": [
    "causes_directly(example_3_causal_setting, {}, drop_b1, 4, example_3_phi, example_3_sigma)"
   ]
  },
  {
   "cell_type": "code",
   "execution_count": 42,
   "metadata": {
    "pycharm": {
     "name": "#%%\n"
    }
   },
   "outputs": [],
   "source": [
    "#causes(example_3_causal_setting, {}, drop_b1, 4, example_3_phi, example_3_sigma)"
   ]
  },
  {
   "cell_type": "code",
   "execution_count": 43,
   "metadata": {
    "pycharm": {
     "name": "#%%\n"
    }
   },
   "outputs": [
    {
     "data": {
      "text/plain": [
       "False"
      ]
     },
     "execution_count": 43,
     "metadata": {},
     "output_type": "execute_result"
    }
   ],
   "source": [
    "causes_directly(example_3_causal_setting, {}, quench_b2, 2, example_3_phi, example_3_sigma)"
   ]
  },
  {
   "cell_type": "code",
   "execution_count": 44,
   "metadata": {
    "pycharm": {
     "name": "#%%\n"
    }
   },
   "outputs": [],
   "source": [
    "#causes(example_3_causal_setting, {}, quench_b2, 2, example_3_phi, example_3_sigma)"
   ]
  },
  {
   "cell_type": "code",
   "execution_count": 45,
   "metadata": {
    "pycharm": {
     "name": "#%%\n"
    }
   },
   "outputs": [],
   "source": [
    "@dataclass(order=True, frozen=True)\n",
    "class DynamicCauses(DynamicFormula):\n",
    "    action: Action\n",
    "    time: Time\n",
    "    dynamic_formula: DynamicFormula\n",
    "\n",
    "    def evaluate(self, state: State, k_rel: K_Relation, causal_setting: CausalSetting) -> bool:\n",
    "        return causes(causal_setting, k_rel, self.action, self.time, self.dynamic_formula, state)\n",
    "\n"
   ]
  },
  {
   "cell_type": "code",
   "execution_count": 46,
   "metadata": {
    "pycharm": {
     "name": "#%%\n"
    }
   },
   "outputs": [],
   "source": [
    "@dataclass(order=True, frozen=True)\n",
    "class DynamicKnows(DynamicFormula):\n",
    "    dynamic_formula: DynamicFormula\n",
    "\n",
    "    @property\n",
    "    def is_know(self) -> bool:\n",
    "        return True\n",
    "\n",
    "    def evaluate(self, state: State, k_rel: K_Relation, causal_setting: CausalSetting) -> bool:\n",
    "        for state_,known_states in k_rel.items():\n",
    "            if state in known_states:\n",
    "                #causal_setting_ = causal_setting[0], causal_setting[1], causal_setting[2], causal_setting[3], state_, causal_setting[5]\n",
    "                if not self.dynamic_formula.evaluate(state_, k_rel, causal_setting):\n",
    "                    return False\n",
    "        return True\n"
   ]
  },
  {
   "cell_type": "code",
   "execution_count": 47,
   "metadata": {
    "pycharm": {
     "name": "#%%\n"
    }
   },
   "outputs": [
    {
     "data": {
      "text/plain": [
       "(frozenset({ClassicalAtom(symbol='fragile', arguments=(ClassicalAtom(symbol='b1', arguments=()),)),\n",
       "            ClassicalAtom(symbol='fragile', arguments=(ClassicalAtom(symbol='b2', arguments=()),)),\n",
       "            ClassicalAtom(symbol='holding', arguments=(ClassicalAtom(symbol='b1', arguments=()),)),\n",
       "            ClassicalAtom(symbol='holding', arguments=(ClassicalAtom(symbol='b2', arguments=()),))}),\n",
       " frozenset({ClassicalAtom(symbol='drop', arguments=(ClassicalAtom(symbol='b1', arguments=()),)),\n",
       "            ClassicalAtom(symbol='drop', arguments=(ClassicalAtom(symbol='b2', arguments=()),)),\n",
       "            ClassicalAtom(symbol='pickUp', arguments=(ClassicalAtom(symbol='b1', arguments=()),)),\n",
       "            ClassicalAtom(symbol='pickUp', arguments=(ClassicalAtom(symbol='b2', arguments=()),)),\n",
       "            ClassicalAtom(symbol='quench', arguments=(ClassicalAtom(symbol='b1', arguments=()),)),\n",
       "            ClassicalAtom(symbol='quench', arguments=(ClassicalAtom(symbol='b2', arguments=()),))}),\n",
       " <function __main__.example_2_poss(action: __main__.ClassicalAtom, state: __main__.State) -> bool>,\n",
       " <function __main__.example_2_do(action: __main__.ClassicalAtom, state: __main__.State) -> __main__.State>,\n",
       " State(_state=frozenset({¬broken(b2), holding(b1), ¬fragile(b2), ¬broken(b1), ¬holding(b2), ¬fragile(b1)}), parent=None, action=None),\n",
       " 6)"
      ]
     },
     "execution_count": 47,
     "metadata": {},
     "output_type": "execute_result"
    }
   ],
   "source": [
    "example_4_fluents = frozenset({holding_b1, holding_b2, fragile_b1, fragile_b2})\n",
    "example_4_actions = frozenset({pickUp_b1, pickUp_b2, drop_b1, drop_b2, quench_b1, quench_b2})\n",
    "\n",
    "example_4_do = example_2_do\n",
    "\n",
    "example_4_poss = example_2_poss\n",
    "\n",
    "\n",
    "\n",
    "example_4_initial_state = State(frozenset({l_holding_b1, -l_holding_b2, -l_broken_b1, -l_broken_b2, -l_fragile_b1, -l_fragile_b1, -l_fragile_b2}))\n",
    "\n",
    "example_4_initial_state_1 = State(frozenset({l_holding_b1, -l_holding_b2, -l_broken_b1, -l_broken_b2, -l_fragile_b1, l_fragile_b1, l_fragile_b2}))\n",
    "example_4_initial_state_2 = State(frozenset({l_holding_b1, -l_holding_b2, -l_broken_b1, -l_broken_b2, -l_fragile_b1, l_fragile_b1, -l_fragile_b2}))\n",
    "example_4_initial_state_3 = State(frozenset({l_holding_b1, -l_holding_b2, -l_broken_b1, -l_broken_b2, -l_fragile_b1, -l_fragile_b1, l_fragile_b2}))\n",
    "\n",
    "example_4_initial_states = frozenset({example_4_initial_state, example_4_initial_state_1, example_4_initial_state_2, example_4_initial_state_3})\n",
    "\n",
    "example_4_k_rel = {\n",
    "    example_4_initial_state: example_4_initial_states,\n",
    "    example_4_initial_state_1: example_4_initial_states,\n",
    "    example_4_initial_state_2: example_4_initial_states,\n",
    "    example_4_initial_state_3: example_4_initial_states,\n",
    "}\n",
    "\n",
    "example_4_causal_setting = (example_4_fluents, example_4_actions, example_4_poss, example_4_do, example_4_initial_state, 6)\n",
    "example_4_causal_setting"
   ]
  },
  {
   "cell_type": "code",
   "execution_count": 48,
   "metadata": {
    "pycharm": {
     "name": "#%%\n"
    }
   },
   "outputs": [
    {
     "name": "stdout",
     "output_type": "stream",
     "text": [
      "{¬broken(b1),¬broken(b2),¬fragile(b1),¬fragile(b2),holding(b1),¬holding(b2)}$None\n",
      "--------\n",
      "{¬broken(b1),¬broken(b2),¬fragile(b1),fragile(b2),holding(b1),¬holding(b2)}$None\n",
      "{¬broken(b1),¬broken(b2),¬fragile(b1),fragile(b1),¬fragile(b2),holding(b1),¬holding(b2)}$None\n",
      "{¬broken(b1),¬broken(b2),¬fragile(b1),fragile(b1),fragile(b2),holding(b1),¬holding(b2)}$None\n",
      "{¬broken(b1),¬broken(b2),¬fragile(b1),¬fragile(b2),holding(b1),¬holding(b2)}$None\n",
      "########\n",
      "{¬broken(b1),¬broken(b2),¬fragile(b1),fragile(b1),fragile(b2),holding(b1),¬holding(b2)}$None\n",
      "--------\n",
      "{¬broken(b1),¬broken(b2),¬fragile(b1),fragile(b2),holding(b1),¬holding(b2)}$None\n",
      "{¬broken(b1),¬broken(b2),¬fragile(b1),fragile(b1),¬fragile(b2),holding(b1),¬holding(b2)}$None\n",
      "{¬broken(b1),¬broken(b2),¬fragile(b1),fragile(b1),fragile(b2),holding(b1),¬holding(b2)}$None\n",
      "{¬broken(b1),¬broken(b2),¬fragile(b1),¬fragile(b2),holding(b1),¬holding(b2)}$None\n",
      "########\n",
      "{¬broken(b1),¬broken(b2),¬fragile(b1),fragile(b1),¬fragile(b2),holding(b1),¬holding(b2)}$None\n",
      "--------\n",
      "{¬broken(b1),¬broken(b2),¬fragile(b1),fragile(b2),holding(b1),¬holding(b2)}$None\n",
      "{¬broken(b1),¬broken(b2),¬fragile(b1),fragile(b1),¬fragile(b2),holding(b1),¬holding(b2)}$None\n",
      "{¬broken(b1),¬broken(b2),¬fragile(b1),fragile(b1),fragile(b2),holding(b1),¬holding(b2)}$None\n",
      "{¬broken(b1),¬broken(b2),¬fragile(b1),¬fragile(b2),holding(b1),¬holding(b2)}$None\n",
      "########\n",
      "{¬broken(b1),¬broken(b2),¬fragile(b1),fragile(b2),holding(b1),¬holding(b2)}$None\n",
      "--------\n",
      "{¬broken(b1),¬broken(b2),¬fragile(b1),fragile(b2),holding(b1),¬holding(b2)}$None\n",
      "{¬broken(b1),¬broken(b2),¬fragile(b1),fragile(b1),¬fragile(b2),holding(b1),¬holding(b2)}$None\n",
      "{¬broken(b1),¬broken(b2),¬fragile(b1),fragile(b1),fragile(b2),holding(b1),¬holding(b2)}$None\n",
      "{¬broken(b1),¬broken(b2),¬fragile(b1),¬fragile(b2),holding(b1),¬holding(b2)}$None\n",
      "########\n",
      "{¬broken(b1),¬broken(b2),¬fragile(b1),¬fragile(b2),¬holding(b1),¬holding(b2)}$drop(b1)\n",
      "--------\n",
      "{broken(b1),¬broken(b2),¬fragile(b1),fragile(b1),fragile(b2),¬holding(b1),¬holding(b2)}$drop(b1)\n",
      "{broken(b1),¬broken(b2),¬fragile(b1),fragile(b1),¬fragile(b2),¬holding(b1),¬holding(b2)}$drop(b1)\n",
      "{¬broken(b1),¬broken(b2),¬fragile(b1),fragile(b2),¬holding(b1),¬holding(b2)}$drop(b1)\n",
      "{¬broken(b1),¬broken(b2),¬fragile(b1),¬fragile(b2),¬holding(b1),¬holding(b2)}$drop(b1)\n",
      "########\n",
      "{broken(b1),¬broken(b2),¬fragile(b1),fragile(b1),fragile(b2),¬holding(b1),¬holding(b2)}$drop(b1)\n",
      "--------\n",
      "{broken(b1),¬broken(b2),¬fragile(b1),fragile(b1),fragile(b2),¬holding(b1),¬holding(b2)}$drop(b1)\n",
      "{broken(b1),¬broken(b2),¬fragile(b1),fragile(b1),¬fragile(b2),¬holding(b1),¬holding(b2)}$drop(b1)\n",
      "{¬broken(b1),¬broken(b2),¬fragile(b1),fragile(b2),¬holding(b1),¬holding(b2)}$drop(b1)\n",
      "{¬broken(b1),¬broken(b2),¬fragile(b1),¬fragile(b2),¬holding(b1),¬holding(b2)}$drop(b1)\n",
      "########\n",
      "{broken(b1),¬broken(b2),¬fragile(b1),fragile(b1),¬fragile(b2),¬holding(b1),¬holding(b2)}$drop(b1)\n",
      "--------\n",
      "{broken(b1),¬broken(b2),¬fragile(b1),fragile(b1),fragile(b2),¬holding(b1),¬holding(b2)}$drop(b1)\n",
      "{broken(b1),¬broken(b2),¬fragile(b1),fragile(b1),¬fragile(b2),¬holding(b1),¬holding(b2)}$drop(b1)\n",
      "{¬broken(b1),¬broken(b2),¬fragile(b1),fragile(b2),¬holding(b1),¬holding(b2)}$drop(b1)\n",
      "{¬broken(b1),¬broken(b2),¬fragile(b1),¬fragile(b2),¬holding(b1),¬holding(b2)}$drop(b1)\n",
      "########\n",
      "{¬broken(b1),¬broken(b2),¬fragile(b1),fragile(b2),¬holding(b1),¬holding(b2)}$drop(b1)\n",
      "--------\n",
      "{broken(b1),¬broken(b2),¬fragile(b1),fragile(b1),fragile(b2),¬holding(b1),¬holding(b2)}$drop(b1)\n",
      "{broken(b1),¬broken(b2),¬fragile(b1),fragile(b1),¬fragile(b2),¬holding(b1),¬holding(b2)}$drop(b1)\n",
      "{¬broken(b1),¬broken(b2),¬fragile(b1),fragile(b2),¬holding(b1),¬holding(b2)}$drop(b1)\n",
      "{¬broken(b1),¬broken(b2),¬fragile(b1),¬fragile(b2),¬holding(b1),¬holding(b2)}$drop(b1)\n",
      "########\n",
      "{¬broken(b1),¬broken(b2),fragile(b1),¬fragile(b2),¬holding(b1),¬holding(b2)}$quench(b1)\n",
      "--------\n",
      "{broken(b1),¬broken(b2),fragile(b1),fragile(b2),¬holding(b1),¬holding(b2)}$quench(b1)\n",
      "{¬broken(b1),¬broken(b2),fragile(b1),fragile(b2),¬holding(b1),¬holding(b2)}$quench(b1)\n",
      "{¬broken(b1),¬broken(b2),fragile(b1),¬fragile(b2),¬holding(b1),¬holding(b2)}$quench(b1)\n",
      "{broken(b1),¬broken(b2),fragile(b1),¬fragile(b2),¬holding(b1),¬holding(b2)}$quench(b1)\n",
      "########\n",
      "{broken(b1),¬broken(b2),fragile(b1),fragile(b2),¬holding(b1),¬holding(b2)}$quench(b1)\n",
      "--------\n",
      "{broken(b1),¬broken(b2),fragile(b1),fragile(b2),¬holding(b1),¬holding(b2)}$quench(b1)\n",
      "{¬broken(b1),¬broken(b2),fragile(b1),fragile(b2),¬holding(b1),¬holding(b2)}$quench(b1)\n",
      "{¬broken(b1),¬broken(b2),fragile(b1),¬fragile(b2),¬holding(b1),¬holding(b2)}$quench(b1)\n",
      "{broken(b1),¬broken(b2),fragile(b1),¬fragile(b2),¬holding(b1),¬holding(b2)}$quench(b1)\n",
      "########\n",
      "{broken(b1),¬broken(b2),fragile(b1),¬fragile(b2),¬holding(b1),¬holding(b2)}$quench(b1)\n",
      "--------\n",
      "{broken(b1),¬broken(b2),fragile(b1),fragile(b2),¬holding(b1),¬holding(b2)}$quench(b1)\n",
      "{¬broken(b1),¬broken(b2),fragile(b1),fragile(b2),¬holding(b1),¬holding(b2)}$quench(b1)\n",
      "{¬broken(b1),¬broken(b2),fragile(b1),¬fragile(b2),¬holding(b1),¬holding(b2)}$quench(b1)\n",
      "{broken(b1),¬broken(b2),fragile(b1),¬fragile(b2),¬holding(b1),¬holding(b2)}$quench(b1)\n",
      "########\n",
      "{¬broken(b1),¬broken(b2),fragile(b1),fragile(b2),¬holding(b1),¬holding(b2)}$quench(b1)\n",
      "--------\n",
      "{broken(b1),¬broken(b2),fragile(b1),fragile(b2),¬holding(b1),¬holding(b2)}$quench(b1)\n",
      "{¬broken(b1),¬broken(b2),fragile(b1),fragile(b2),¬holding(b1),¬holding(b2)}$quench(b1)\n",
      "{¬broken(b1),¬broken(b2),fragile(b1),¬fragile(b2),¬holding(b1),¬holding(b2)}$quench(b1)\n",
      "{broken(b1),¬broken(b2),fragile(b1),¬fragile(b2),¬holding(b1),¬holding(b2)}$quench(b1)\n",
      "########\n",
      "{¬broken(b1),¬broken(b2),fragile(b1),fragile(b2),¬holding(b1),¬holding(b2)}$quench(b2)\n",
      "--------\n",
      "{broken(b1),¬broken(b2),fragile(b1),fragile(b2),¬holding(b1),¬holding(b2)}$quench(b2)\n",
      "{broken(b1),¬broken(b2),fragile(b1),fragile(b2),¬holding(b1),¬holding(b2)}$quench(b2)\n",
      "{¬broken(b1),¬broken(b2),fragile(b1),fragile(b2),¬holding(b1),¬holding(b2)}$quench(b2)\n",
      "{¬broken(b1),¬broken(b2),fragile(b1),fragile(b2),¬holding(b1),¬holding(b2)}$quench(b2)\n",
      "########\n",
      "{broken(b1),¬broken(b2),fragile(b1),fragile(b2),¬holding(b1),¬holding(b2)}$quench(b2)\n",
      "--------\n",
      "{broken(b1),¬broken(b2),fragile(b1),fragile(b2),¬holding(b1),¬holding(b2)}$quench(b2)\n",
      "{broken(b1),¬broken(b2),fragile(b1),fragile(b2),¬holding(b1),¬holding(b2)}$quench(b2)\n",
      "{¬broken(b1),¬broken(b2),fragile(b1),fragile(b2),¬holding(b1),¬holding(b2)}$quench(b2)\n",
      "{¬broken(b1),¬broken(b2),fragile(b1),fragile(b2),¬holding(b1),¬holding(b2)}$quench(b2)\n",
      "########\n",
      "{broken(b1),¬broken(b2),fragile(b1),fragile(b2),¬holding(b1),¬holding(b2)}$quench(b2)\n",
      "--------\n",
      "{broken(b1),¬broken(b2),fragile(b1),fragile(b2),¬holding(b1),¬holding(b2)}$quench(b2)\n",
      "{broken(b1),¬broken(b2),fragile(b1),fragile(b2),¬holding(b1),¬holding(b2)}$quench(b2)\n",
      "{¬broken(b1),¬broken(b2),fragile(b1),fragile(b2),¬holding(b1),¬holding(b2)}$quench(b2)\n",
      "{¬broken(b1),¬broken(b2),fragile(b1),fragile(b2),¬holding(b1),¬holding(b2)}$quench(b2)\n",
      "########\n",
      "{¬broken(b1),¬broken(b2),fragile(b1),fragile(b2),¬holding(b1),¬holding(b2)}$quench(b2)\n",
      "--------\n",
      "{broken(b1),¬broken(b2),fragile(b1),fragile(b2),¬holding(b1),¬holding(b2)}$quench(b2)\n",
      "{broken(b1),¬broken(b2),fragile(b1),fragile(b2),¬holding(b1),¬holding(b2)}$quench(b2)\n",
      "{¬broken(b1),¬broken(b2),fragile(b1),fragile(b2),¬holding(b1),¬holding(b2)}$quench(b2)\n",
      "{¬broken(b1),¬broken(b2),fragile(b1),fragile(b2),¬holding(b1),¬holding(b2)}$quench(b2)\n",
      "########\n",
      "{¬broken(b1),¬broken(b2),fragile(b1),fragile(b2),holding(b1),¬holding(b2)}$pickUp(b1)\n",
      "--------\n",
      "{broken(b1),¬broken(b2),fragile(b1),fragile(b2),holding(b1),¬holding(b2)}$pickUp(b1)\n",
      "{¬broken(b1),¬broken(b2),fragile(b1),fragile(b2),holding(b1),¬holding(b2)}$pickUp(b1)\n",
      "{broken(b1),¬broken(b2),fragile(b1),fragile(b2),holding(b1),¬holding(b2)}$pickUp(b1)\n",
      "{¬broken(b1),¬broken(b2),fragile(b1),fragile(b2),holding(b1),¬holding(b2)}$pickUp(b1)\n",
      "########\n",
      "{broken(b1),¬broken(b2),fragile(b1),fragile(b2),holding(b1),¬holding(b2)}$pickUp(b1)\n",
      "--------\n",
      "{broken(b1),¬broken(b2),fragile(b1),fragile(b2),holding(b1),¬holding(b2)}$pickUp(b1)\n",
      "{¬broken(b1),¬broken(b2),fragile(b1),fragile(b2),holding(b1),¬holding(b2)}$pickUp(b1)\n",
      "{broken(b1),¬broken(b2),fragile(b1),fragile(b2),holding(b1),¬holding(b2)}$pickUp(b1)\n",
      "{¬broken(b1),¬broken(b2),fragile(b1),fragile(b2),holding(b1),¬holding(b2)}$pickUp(b1)\n",
      "########\n",
      "{broken(b1),¬broken(b2),fragile(b1),fragile(b2),holding(b1),¬holding(b2)}$pickUp(b1)\n",
      "--------\n",
      "{broken(b1),¬broken(b2),fragile(b1),fragile(b2),holding(b1),¬holding(b2)}$pickUp(b1)\n",
      "{¬broken(b1),¬broken(b2),fragile(b1),fragile(b2),holding(b1),¬holding(b2)}$pickUp(b1)\n",
      "{broken(b1),¬broken(b2),fragile(b1),fragile(b2),holding(b1),¬holding(b2)}$pickUp(b1)\n",
      "{¬broken(b1),¬broken(b2),fragile(b1),fragile(b2),holding(b1),¬holding(b2)}$pickUp(b1)\n",
      "########\n",
      "{¬broken(b1),¬broken(b2),fragile(b1),fragile(b2),holding(b1),¬holding(b2)}$pickUp(b1)\n",
      "--------\n",
      "{broken(b1),¬broken(b2),fragile(b1),fragile(b2),holding(b1),¬holding(b2)}$pickUp(b1)\n",
      "{¬broken(b1),¬broken(b2),fragile(b1),fragile(b2),holding(b1),¬holding(b2)}$pickUp(b1)\n",
      "{broken(b1),¬broken(b2),fragile(b1),fragile(b2),holding(b1),¬holding(b2)}$pickUp(b1)\n",
      "{¬broken(b1),¬broken(b2),fragile(b1),fragile(b2),holding(b1),¬holding(b2)}$pickUp(b1)\n",
      "########\n",
      "{broken(b1),¬broken(b2),fragile(b1),fragile(b2),¬holding(b1),¬holding(b2)}$drop(b1)\n",
      "--------\n",
      "{broken(b1),¬broken(b2),fragile(b1),fragile(b2),¬holding(b1),¬holding(b2)}$drop(b1)\n",
      "{broken(b1),¬broken(b2),fragile(b1),fragile(b2),¬holding(b1),¬holding(b2)}$drop(b1)\n",
      "{broken(b1),¬broken(b2),fragile(b1),fragile(b2),¬holding(b1),¬holding(b2)}$drop(b1)\n",
      "{broken(b1),¬broken(b2),fragile(b1),fragile(b2),¬holding(b1),¬holding(b2)}$drop(b1)\n",
      "########\n",
      "{broken(b1),¬broken(b2),fragile(b1),fragile(b2),¬holding(b1),¬holding(b2)}$drop(b1)\n",
      "--------\n",
      "{broken(b1),¬broken(b2),fragile(b1),fragile(b2),¬holding(b1),¬holding(b2)}$drop(b1)\n",
      "{broken(b1),¬broken(b2),fragile(b1),fragile(b2),¬holding(b1),¬holding(b2)}$drop(b1)\n",
      "{broken(b1),¬broken(b2),fragile(b1),fragile(b2),¬holding(b1),¬holding(b2)}$drop(b1)\n",
      "{broken(b1),¬broken(b2),fragile(b1),fragile(b2),¬holding(b1),¬holding(b2)}$drop(b1)\n",
      "########\n",
      "{broken(b1),¬broken(b2),fragile(b1),fragile(b2),¬holding(b1),¬holding(b2)}$drop(b1)\n",
      "--------\n",
      "{broken(b1),¬broken(b2),fragile(b1),fragile(b2),¬holding(b1),¬holding(b2)}$drop(b1)\n",
      "{broken(b1),¬broken(b2),fragile(b1),fragile(b2),¬holding(b1),¬holding(b2)}$drop(b1)\n",
      "{broken(b1),¬broken(b2),fragile(b1),fragile(b2),¬holding(b1),¬holding(b2)}$drop(b1)\n",
      "{broken(b1),¬broken(b2),fragile(b1),fragile(b2),¬holding(b1),¬holding(b2)}$drop(b1)\n",
      "########\n",
      "{broken(b1),¬broken(b2),fragile(b1),fragile(b2),¬holding(b1),¬holding(b2)}$drop(b1)\n",
      "--------\n",
      "{broken(b1),¬broken(b2),fragile(b1),fragile(b2),¬holding(b1),¬holding(b2)}$drop(b1)\n",
      "{broken(b1),¬broken(b2),fragile(b1),fragile(b2),¬holding(b1),¬holding(b2)}$drop(b1)\n",
      "{broken(b1),¬broken(b2),fragile(b1),fragile(b2),¬holding(b1),¬holding(b2)}$drop(b1)\n",
      "{broken(b1),¬broken(b2),fragile(b1),fragile(b2),¬holding(b1),¬holding(b2)}$drop(b1)\n",
      "########\n",
      "dict\n"
     ]
    }
   ],
   "source": [
    "\n",
    "example_4_actions_sequence = [drop_b1, quench_b1, quench_b2, pickUp_b1, drop_b1]\n",
    "last = deepcopy(example_4_k_rel)\n",
    "for action in example_4_actions_sequence:\n",
    "    next_ = {}\n",
    "    for state,known_states in last.items():\n",
    "        next_[state(example_4_causal_setting, action)] = frozenset(known_state(example_4_causal_setting, action) for known_state in known_states if example_4_poss(action, known_state))\n",
    "    example_4_k_rel |= next_\n",
    "    last = next_\n",
    "\n",
    "for state,known_states in example_4_k_rel.items():\n",
    "    print(state)\n",
    "    print('-'*8)\n",
    "    for known_state in known_states:\n",
    "        print(known_state)\n",
    "    print('#'*8)\n",
    "print(type(example_4_k_rel).__name__)"
   ]
  },
  {
   "cell_type": "code",
   "execution_count": 49,
   "metadata": {
    "pycharm": {
     "name": "#%%\n"
    }
   },
   "outputs": [
    {
     "name": "stdout",
     "output_type": "stream",
     "text": [
      "\n",
      "drop(b1) 0 DynamicPredicate(predicate=broken(b1))\n",
      "\n",
      "\n",
      "drop(b1) 0 DynamicConjunction(left=DynamicPoss(action=ClassicalAtom(symbol='drop', arguments=(ClassicalAtom(symbol='b1', arguments=()),))), right=DynamicAfter(action=ClassicalAtom(symbol='drop', arguments=(ClassicalAtom(symbol='b1', arguments=()),)), dynamic_formula=DynamicPredicate(predicate=broken(b1))))\n",
      "\n",
      "\n",
      "drop(b1) 0 DynamicConjunction(left=DynamicPoss(action=ClassicalAtom(symbol='pickUp', arguments=(ClassicalAtom(symbol='b1', arguments=()),))), right=DynamicAfter(action=ClassicalAtom(symbol='pickUp', arguments=(ClassicalAtom(symbol='b1', arguments=()),)), dynamic_formula=DynamicConjunction(left=DynamicPoss(action=ClassicalAtom(symbol='drop', arguments=(ClassicalAtom(symbol='b1', arguments=()),))), right=DynamicAfter(action=ClassicalAtom(symbol='drop', arguments=(ClassicalAtom(symbol='b1', arguments=()),)), dynamic_formula=DynamicPredicate(predicate=broken(b1))))))\n",
      "\n",
      "\n",
      "drop(b1) 0 DynamicPredicate(predicate=broken(b1))\n",
      "\n"
     ]
    },
    {
     "data": {
      "text/plain": [
       "False"
      ]
     },
     "execution_count": 49,
     "metadata": {},
     "output_type": "execute_result"
    }
   ],
   "source": [
    "example_4_knows_1 = DynamicKnows(DynamicCauses(drop_b1, 0, example_3_phi))\n",
    "example_4_knows_1.evaluate(state=example_3_sigma, k_rel=example_4_k_rel, causal_setting=example_4_causal_setting)"
   ]
  },
  {
   "cell_type": "code",
   "execution_count": null,
   "metadata": {
    "pycharm": {
     "name": "#%%\n"
    }
   },
   "outputs": [],
   "source": []
  },
  {
   "cell_type": "code",
   "execution_count": 50,
   "metadata": {
    "pycharm": {
     "name": "#%%\n"
    }
   },
   "outputs": [
    {
     "name": "stdout",
     "output_type": "stream",
     "text": [
      "\n",
      "quench(b2) 2 DynamicPredicate(predicate=broken(b1))\n",
      "\n",
      "\n",
      "quench(b2) 2 DynamicConjunction(left=DynamicPoss(action=ClassicalAtom(symbol='drop', arguments=(ClassicalAtom(symbol='b1', arguments=()),))), right=DynamicAfter(action=ClassicalAtom(symbol='drop', arguments=(ClassicalAtom(symbol='b1', arguments=()),)), dynamic_formula=DynamicPredicate(predicate=broken(b1))))\n",
      "\n",
      "\n",
      "quench(b2) 2 DynamicConjunction(left=DynamicPoss(action=ClassicalAtom(symbol='pickUp', arguments=(ClassicalAtom(symbol='b1', arguments=()),))), right=DynamicAfter(action=ClassicalAtom(symbol='pickUp', arguments=(ClassicalAtom(symbol='b1', arguments=()),)), dynamic_formula=DynamicConjunction(left=DynamicPoss(action=ClassicalAtom(symbol='drop', arguments=(ClassicalAtom(symbol='b1', arguments=()),))), right=DynamicAfter(action=ClassicalAtom(symbol='drop', arguments=(ClassicalAtom(symbol='b1', arguments=()),)), dynamic_formula=DynamicPredicate(predicate=broken(b1))))))\n",
      "\n",
      "\n",
      "quench(b2) 2 DynamicConjunction(left=DynamicPoss(action=ClassicalAtom(symbol='quench', arguments=(ClassicalAtom(symbol='b1', arguments=()),))), right=DynamicAfter(action=ClassicalAtom(symbol='quench', arguments=(ClassicalAtom(symbol='b1', arguments=()),)), dynamic_formula=DynamicConjunction(left=DynamicPoss(action=ClassicalAtom(symbol='pickUp', arguments=(ClassicalAtom(symbol='b1', arguments=()),))), right=DynamicAfter(action=ClassicalAtom(symbol='pickUp', arguments=(ClassicalAtom(symbol='b1', arguments=()),)), dynamic_formula=DynamicConjunction(left=DynamicPoss(action=ClassicalAtom(symbol='drop', arguments=(ClassicalAtom(symbol='b1', arguments=()),))), right=DynamicAfter(action=ClassicalAtom(symbol='drop', arguments=(ClassicalAtom(symbol='b1', arguments=()),)), dynamic_formula=DynamicPredicate(predicate=broken(b1))))))))\n",
      "\n",
      "\n",
      "quench(b2) 2 DynamicConjunction(left=DynamicPoss(action=ClassicalAtom(symbol='drop', arguments=(ClassicalAtom(symbol='b1', arguments=()),))), right=DynamicAfter(action=ClassicalAtom(symbol='drop', arguments=(ClassicalAtom(symbol='b1', arguments=()),)), dynamic_formula=DynamicConjunction(left=DynamicPoss(action=ClassicalAtom(symbol='quench', arguments=(ClassicalAtom(symbol='b1', arguments=()),))), right=DynamicAfter(action=ClassicalAtom(symbol='quench', arguments=(ClassicalAtom(symbol='b1', arguments=()),)), dynamic_formula=DynamicConjunction(left=DynamicPoss(action=ClassicalAtom(symbol='pickUp', arguments=(ClassicalAtom(symbol='b1', arguments=()),))), right=DynamicAfter(action=ClassicalAtom(symbol='pickUp', arguments=(ClassicalAtom(symbol='b1', arguments=()),)), dynamic_formula=DynamicConjunction(left=DynamicPoss(action=ClassicalAtom(symbol='drop', arguments=(ClassicalAtom(symbol='b1', arguments=()),))), right=DynamicAfter(action=ClassicalAtom(symbol='drop', arguments=(ClassicalAtom(symbol='b1', arguments=()),)), dynamic_formula=DynamicPredicate(predicate=broken(b1))))))))))\n",
      "\n",
      "\n",
      "quench(b2) 2 DynamicPredicate(predicate=broken(b1))\n",
      "\n",
      "\n",
      "quench(b2) 2 DynamicPredicate(predicate=broken(b1))\n",
      "\n",
      "\n",
      "quench(b2) 2 DynamicPredicate(predicate=broken(b1))\n",
      "\n"
     ]
    },
    {
     "data": {
      "text/plain": [
       "True"
      ]
     },
     "execution_count": 50,
     "metadata": {},
     "output_type": "execute_result"
    }
   ],
   "source": [
    "example_4_knows_2 = DynamicKnows(DynamicNegation(DynamicCauses(quench_b2, 2, example_3_phi)))\n",
    "example_4_knows_2.evaluate(example_3_sigma, example_4_k_rel, example_4_causal_setting)"
   ]
  },
  {
   "cell_type": "code",
   "execution_count": 51,
   "metadata": {
    "pycharm": {
     "name": "#%%\n"
    }
   },
   "outputs": [],
   "source": [
    "@dataclass(order=True, frozen=True)\n",
    "class DynamicKWhether(DynamicFormula):\n",
    "    dynamic_formula: DynamicFormula\n",
    "\n",
    "    def evaluate(self, state: State, k_rel: K_Relation, causal_setting: CausalSetting) -> bool:\n",
    "        return DynamicKnows(self.dynamic_formula).evaluate(state, k_rel, causal_setting) or DynamicKnows(-self.dynamic_formula).evaluate(state, k_rel, causal_setting)"
   ]
  },
  {
   "cell_type": "code",
   "execution_count": 52,
   "metadata": {
    "pycharm": {
     "name": "#%%\n"
    }
   },
   "outputs": [
    {
     "name": "stdout",
     "output_type": "stream",
     "text": [
      "\n",
      "quench(b1) 1 DynamicPredicate(predicate=broken(b1))\n",
      "\n",
      "\n",
      "quench(b1) 1 DynamicConjunction(left=DynamicPoss(action=ClassicalAtom(symbol='drop', arguments=(ClassicalAtom(symbol='b1', arguments=()),))), right=DynamicAfter(action=ClassicalAtom(symbol='drop', arguments=(ClassicalAtom(symbol='b1', arguments=()),)), dynamic_formula=DynamicPredicate(predicate=broken(b1))))\n",
      "\n",
      "\n",
      "quench(b1) 1 DynamicPredicate(predicate=broken(b1))\n",
      "\n",
      "\n",
      "quench(b1) 1 DynamicPredicate(predicate=broken(b1))\n",
      "\n",
      "\n",
      "quench(b1) 1 DynamicConjunction(left=DynamicPoss(action=ClassicalAtom(symbol='drop', arguments=(ClassicalAtom(symbol='b1', arguments=()),))), right=DynamicAfter(action=ClassicalAtom(symbol='drop', arguments=(ClassicalAtom(symbol='b1', arguments=()),)), dynamic_formula=DynamicPredicate(predicate=broken(b1))))\n",
      "\n"
     ]
    },
    {
     "data": {
      "text/plain": [
       "False"
      ]
     },
     "execution_count": 52,
     "metadata": {},
     "output_type": "execute_result"
    }
   ],
   "source": [
    "\n",
    "example_4_whether_1 = DynamicKWhether(DynamicCauses(quench_b1, 1, example_3_phi))\n",
    "example_4_whether_1.evaluate(example_3_sigma, example_4_k_rel, example_4_causal_setting)"
   ]
  },
  {
   "cell_type": "code",
   "execution_count": 53,
   "metadata": {
    "pycharm": {
     "name": "#%%\n"
    }
   },
   "outputs": [
    {
     "name": "stdout",
     "output_type": "stream",
     "text": [
      "\n",
      "pickUp(b1) 3 DynamicPredicate(predicate=broken(b1))\n",
      "\n",
      "\n",
      "pickUp(b1) 3 DynamicPredicate(predicate=broken(b1))\n",
      "\n",
      "\n",
      "pickUp(b1) 3 DynamicPredicate(predicate=broken(b1))\n",
      "\n"
     ]
    },
    {
     "data": {
      "text/plain": [
       "False"
      ]
     },
     "execution_count": 53,
     "metadata": {},
     "output_type": "execute_result"
    }
   ],
   "source": [
    "example_4_whether_2 = DynamicKWhether(DynamicCauses(pickUp_b1, 3, example_3_phi))\n",
    "example_4_whether_2.evaluate(example_3_sigma, example_4_k_rel, example_4_causal_setting)"
   ]
  },
  {
   "cell_type": "code",
   "execution_count": 54,
   "metadata": {
    "pycharm": {
     "name": "#%%\n"
    }
   },
   "outputs": [
    {
     "name": "stdout",
     "output_type": "stream",
     "text": [
      "\n",
      "drop(b1) 4 DynamicPredicate(predicate=broken(b1))\n",
      "\n"
     ]
    },
    {
     "data": {
      "text/plain": [
       "False"
      ]
     },
     "execution_count": 54,
     "metadata": {},
     "output_type": "execute_result"
    }
   ],
   "source": [
    "example_4_whether_3 = DynamicKWhether(DynamicCauses(drop_b1, 4, example_3_phi))\n",
    "example_4_whether_3.evaluate(example_3_sigma, example_4_k_rel, example_4_causal_setting)"
   ]
  },
  {
   "cell_type": "code",
   "execution_count": 55,
   "metadata": {
    "pycharm": {
     "name": "#%%\n"
    }
   },
   "outputs": [
    {
     "name": "stdout",
     "output_type": "stream",
     "text": [
      "\n",
      "quench(b1) 1 DynamicPredicate(predicate=broken(b1))\n",
      "\n",
      "\n",
      "quench(b1) 1 DynamicConjunction(left=DynamicPoss(action=ClassicalAtom(symbol='drop', arguments=(ClassicalAtom(symbol='b1', arguments=()),))), right=DynamicAfter(action=ClassicalAtom(symbol='drop', arguments=(ClassicalAtom(symbol='b1', arguments=()),)), dynamic_formula=DynamicPredicate(predicate=broken(b1))))\n",
      "\n"
     ]
    },
    {
     "data": {
      "text/plain": [
       "True"
      ]
     },
     "execution_count": 55,
     "metadata": {},
     "output_type": "execute_result"
    }
   ],
   "source": [
    "causes(example_4_causal_setting, example_4_k_rel, quench_b1, 1, example_3_phi, example_3_sigma)"
   ]
  },
  {
   "cell_type": "code",
   "execution_count": 56,
   "metadata": {
    "pycharm": {
     "name": "#%%\n"
    }
   },
   "outputs": [
    {
     "name": "stdout",
     "output_type": "stream",
     "text": [
      "\n",
      "quench(b1) 1 DynamicPredicate(predicate=broken(b1))\n",
      "\n"
     ]
    },
    {
     "data": {
      "text/plain": [
       "False"
      ]
     },
     "execution_count": 56,
     "metadata": {},
     "output_type": "execute_result"
    }
   ],
   "source": [
    "example_4_causal_setting_ = example_4_causal_setting[0], example_4_causal_setting[1], example_4_causal_setting[2], example_4_causal_setting[3], example_4_initial_state_2, example_4_causal_setting[5]\n",
    "causes(example_4_causal_setting_, example_4_k_rel, quench_b1, 1, example_3_phi, example_3_sigma)"
   ]
  },
  {
   "cell_type": "code",
   "execution_count": null,
   "metadata": {
    "pycharm": {
     "name": "#%%\n"
    }
   },
   "outputs": [],
   "source": []
  }
 ],
 "metadata": {
  "kernelspec": {
   "display_name": "Python 3 (ipykernel)",
   "language": "python",
   "name": "python3"
  },
  "language_info": {
   "codemirror_mode": {
    "name": "ipython",
    "version": 3
   },
   "file_extension": ".py",
   "mimetype": "text/x-python",
   "name": "python",
   "nbconvert_exporter": "python",
   "pygments_lexer": "ipython3",
   "version": "3.10.2"
  }
 },
 "nbformat": 4,
 "nbformat_minor": 1
}