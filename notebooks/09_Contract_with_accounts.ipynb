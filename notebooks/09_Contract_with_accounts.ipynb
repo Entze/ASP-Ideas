{
 "cells": [
  {
   "cell_type": "code",
   "execution_count": 94,
   "id": "67ced011-da26-435e-89ef-37620d378f2b",
   "metadata": {},
   "outputs": [],
   "source": [
    "import sys\n",
    "\n",
    "sys.path.append(\"..\")"
   ]
  },
  {
   "cell_type": "code",
   "execution_count": 95,
   "id": "eec1262b-c0bf-4369-8544-69f116a05927",
   "metadata": {},
   "outputs": [],
   "source": [
    "from util.run import solve"
   ]
  },
  {
   "cell_type": "code",
   "execution_count": 96,
   "id": "4e0c07b3-8d51-4ab8-8d97-59298201e46b",
   "metadata": {},
   "outputs": [
    {
     "name": "stdout",
     "output_type": "stream",
     "text": [
      "Answer  1: { action(payer_payee_amount_commodity(alice,alice,0,\"EUR\")) action(payer_payee_amount_commodity(alice,alice,0,\"good\")) action(payer_payee_amount_commodity(alice,alice,1,\"EUR\")) action(payer_payee_amount_commodity(alice,alice,1,\"good\")) action(payer_payee_amount_commodity(alice,alice,2,\"EUR\")) action(payer_payee_amount_commodity(alice,alice,2,\"good\")) action(payer_payee_amount_commodity(alice,alice,3,\"EUR\")) action(payer_payee_amount_commodity(alice,alice,3,\"good\")) action(payer_payee_amount_commodity(alice,alice,4,\"EUR\")) action(payer_payee_amount_commodity(alice,alice,4,\"good\")) action(payer_payee_amount_commodity(alice,alice,5,\"EUR\")) action(payer_payee_amount_commodity(alice,alice,5,\"good\")) action(payer_payee_amount_commodity(alice,alice,6,\"EUR\")) action(payer_payee_amount_commodity(alice,alice,6,\"good\")) action(payer_payee_amount_commodity(alice,alice,7,\"EUR\")) action(payer_payee_amount_commodity(alice,alice,7,\"good\")) action(payer_payee_amount_commodity(alice,alice,8,\"EUR\")) action(payer_payee_amount_commodity(alice,alice,8,\"good\")) action(payer_payee_amount_commodity(alice,alice,9,\"EUR\")) action(payer_payee_amount_commodity(alice,alice,9,\"good\")) action(payer_payee_amount_commodity(alice,alice,10,\"EUR\")) action(payer_payee_amount_commodity(alice,alice,10,\"good\")) action(payer_payee_amount_commodity(alice,alice,11,\"EUR\")) action(payer_payee_amount_commodity(alice,alice,11,\"good\")) action(payer_payee_amount_commodity(alice,alice,12,\"EUR\")) action(payer_payee_amount_commodity(alice,alice,12,\"good\")) action(payer_payee_amount_commodity(alice,alice,13,\"EUR\")) action(payer_payee_amount_commodity(alice,alice,13,\"good\")) action(payer_payee_amount_commodity(alice,alice,14,\"EUR\")) action(payer_payee_amount_commodity(alice,alice,14,\"good\")) action(payer_payee_amount_commodity(alice,alice,15,\"EUR\")) action(payer_payee_amount_commodity(alice,alice,15,\"good\")) action(payer_payee_amount_commodity(alice,alice,16,\"EUR\")) action(payer_payee_amount_commodity(alice,alice,16,\"good\")) action(payer_payee_amount_commodity(alice,alice,17,\"EUR\")) action(payer_payee_amount_commodity(alice,alice,17,\"good\")) action(payer_payee_amount_commodity(alice,alice,18,\"EUR\")) action(payer_payee_amount_commodity(alice,alice,18,\"good\")) action(payer_payee_amount_commodity(alice,alice,19,\"EUR\")) action(payer_payee_amount_commodity(alice,alice,19,\"good\")) action(payer_payee_amount_commodity(alice,alice,20,\"EUR\")) action(payer_payee_amount_commodity(alice,alice,20,\"good\")) action(payer_payee_amount_commodity(alice,alice,21,\"EUR\")) action(payer_payee_amount_commodity(alice,alice,21,\"good\")) action(payer_payee_amount_commodity(alice,alice,22,\"EUR\")) action(payer_payee_amount_commodity(alice,alice,22,\"good\")) action(payer_payee_amount_commodity(alice,alice,23,\"EUR\")) action(payer_payee_amount_commodity(alice,alice,23,\"good\")) action(payer_payee_amount_commodity(alice,alice,24,\"EUR\")) action(payer_payee_amount_commodity(alice,alice,24,\"good\")) action(payer_payee_amount_commodity(alice,alice,25,\"EUR\")) action(payer_payee_amount_commodity(alice,alice,25,\"good\")) action(payer_payee_amount_commodity(alice,alice,26,\"EUR\")) action(payer_payee_amount_commodity(alice,alice,26,\"good\")) action(payer_payee_amount_commodity(alice,alice,27,\"EUR\")) action(payer_payee_amount_commodity(alice,alice,27,\"good\")) action(payer_payee_amount_commodity(alice,alice,28,\"EUR\")) action(payer_payee_amount_commodity(alice,alice,28,\"good\")) action(payer_payee_amount_commodity(alice,alice,29,\"EUR\")) action(payer_payee_amount_commodity(alice,alice,29,\"good\")) action(payer_payee_amount_commodity(alice,alice,30,\"EUR\")) action(payer_payee_amount_commodity(alice,alice,30,\"good\")) action(payer_payee_amount_commodity(alice,alice,31,\"EUR\")) action(payer_payee_amount_commodity(alice,alice,31,\"good\")) action(payer_payee_amount_commodity(alice,alice,32,\"EUR\")) action(payer_payee_amount_commodity(alice,alice,32,\"good\")) action(payer_payee_amount_commodity(alice,alice,33,\"EUR\")) action(payer_payee_amount_commodity(alice,alice,33,\"good\")) action(payer_payee_amount_commodity(alice,alice,34,\"EUR\")) action(payer_payee_amount_commodity(alice,alice,34,\"good\")) action(payer_payee_amount_commodity(alice,alice,35,\"EUR\")) action(payer_payee_amount_commodity(alice,alice,35,\"good\")) action(payer_payee_amount_commodity(alice,alice,36,\"EUR\")) action(payer_payee_amount_commodity(alice,alice,36,\"good\")) action(payer_payee_amount_commodity(alice,alice,37,\"EUR\")) action(payer_payee_amount_commodity(alice,alice,37,\"good\")) action(payer_payee_amount_commodity(alice,alice,38,\"EUR\")) action(payer_payee_amount_commodity(alice,alice,38,\"good\")) action(payer_payee_amount_commodity(alice,alice,39,\"EUR\")) action(payer_payee_amount_commodity(alice,alice,39,\"good\")) action(payer_payee_amount_commodity(alice,alice,40,\"EUR\")) action(payer_payee_amount_commodity(alice,alice,40,\"good\")) action(payer_payee_amount_commodity(alice,alice,41,\"EUR\")) action(payer_payee_amount_commodity(alice,alice,41,\"good\")) action(payer_payee_amount_commodity(alice,alice,42,\"EUR\")) action(payer_payee_amount_commodity(alice,alice,42,\"good\")) action(payer_payee_amount_commodity(alice,alice,43,\"EUR\")) action(payer_payee_amount_commodity(alice,alice,43,\"good\")) action(payer_payee_amount_commodity(alice,alice,44,\"EUR\")) action(payer_payee_amount_commodity(alice,alice,44,\"good\")) action(payer_payee_amount_commodity(alice,alice,45,\"EUR\")) action(payer_payee_amount_commodity(alice,alice,45,\"good\")) action(payer_payee_amount_commodity(alice,alice,46,\"EUR\")) action(payer_payee_amount_commodity(alice,alice,46,\"good\")) action(payer_payee_amount_commodity(alice,alice,47,\"EUR\")) action(payer_payee_amount_commodity(alice,alice,47,\"good\")) action(payer_payee_amount_commodity(alice,alice,48,\"EUR\")) action(payer_payee_amount_commodity(alice,alice,48,\"good\")) action(payer_payee_amount_commodity(alice,alice,49,\"EUR\")) action(payer_payee_amount_commodity(alice,alice,49,\"good\")) action(payer_payee_amount_commodity(alice,alice,50,\"EUR\")) action(payer_payee_amount_commodity(alice,alice,50,\"good\")) action(payer_payee_amount_commodity(alice,alice,51,\"EUR\")) action(payer_payee_amount_commodity(alice,alice,51,\"good\")) action(payer_payee_amount_commodity(alice,alice,52,\"EUR\")) action(payer_payee_amount_commodity(alice,alice,52,\"good\")) action(payer_payee_amount_commodity(alice,alice,53,\"EUR\")) action(payer_payee_amount_commodity(alice,alice,53,\"good\")) action(payer_payee_amount_commodity(alice,alice,54,\"EUR\")) action(payer_payee_amount_commodity(alice,alice,54,\"good\")) action(payer_payee_amount_commodity(alice,alice,55,\"EUR\")) action(payer_payee_amount_commodity(alice,alice,55,\"good\")) action(payer_payee_amount_commodity(alice,alice,56,\"EUR\")) action(payer_payee_amount_commodity(alice,alice,56,\"good\")) action(payer_payee_amount_commodity(alice,alice,57,\"EUR\")) action(payer_payee_amount_commodity(alice,alice,57,\"good\")) action(payer_payee_amount_commodity(alice,alice,58,\"EUR\")) action(payer_payee_amount_commodity(alice,alice,58,\"good\")) action(payer_payee_amount_commodity(alice,alice,59,\"EUR\")) action(payer_payee_amount_commodity(alice,alice,59,\"good\")) action(payer_payee_amount_commodity(alice,alice,60,\"EUR\")) action(payer_payee_amount_commodity(alice,alice,60,\"good\")) action(payer_payee_amount_commodity(alice,alice,61,\"EUR\")) action(payer_payee_amount_commodity(alice,alice,61,\"good\")) action(payer_payee_amount_commodity(alice,alice,62,\"EUR\")) action(payer_payee_amount_commodity(alice,alice,62,\"good\")) action(payer_payee_amount_commodity(alice,alice,63,\"EUR\")) action(payer_payee_amount_commodity(alice,alice,63,\"good\")) action(payer_payee_amount_commodity(alice,alice,64,\"EUR\")) action(payer_payee_amount_commodity(alice,alice,64,\"good\")) action(payer_payee_amount_commodity(alice,alice,65,\"EUR\")) action(payer_payee_amount_commodity(alice,alice,65,\"good\")) action(payer_payee_amount_commodity(alice,alice,66,\"EUR\")) action(payer_payee_amount_commodity(alice,alice,66,\"good\")) action(payer_payee_amount_commodity(alice,alice,67,\"EUR\")) action(payer_payee_amount_commodity(alice,alice,67,\"good\")) action(payer_payee_amount_commodity(alice,alice,68,\"EUR\")) action(payer_payee_amount_commodity(alice,alice,68,\"good\")) action(payer_payee_amount_commodity(alice,alice,69,\"EUR\")) action(payer_payee_amount_commodity(alice,alice,69,\"good\")) action(payer_payee_amount_commodity(alice,alice,70,\"EUR\")) action(payer_payee_amount_commodity(alice,alice,70,\"good\")) action(payer_payee_amount_commodity(alice,alice,71,\"EUR\")) action(payer_payee_amount_commodity(alice,alice,71,\"good\")) action(payer_payee_amount_commodity(alice,alice,72,\"EUR\")) action(payer_payee_amount_commodity(alice,alice,72,\"good\")) action(payer_payee_amount_commodity(alice,alice,73,\"EUR\")) action(payer_payee_amount_commodity(alice,alice,73,\"good\")) action(payer_payee_amount_commodity(alice,alice,74,\"EUR\")) action(payer_payee_amount_commodity(alice,alice,74,\"good\")) action(payer_payee_amount_commodity(alice,alice,75,\"EUR\")) action(payer_payee_amount_commodity(alice,alice,75,\"good\")) action(payer_payee_amount_commodity(alice,alice,76,\"EUR\")) action(payer_payee_amount_commodity(alice,alice,76,\"good\")) action(payer_payee_amount_commodity(alice,alice,77,\"EUR\")) action(payer_payee_amount_commodity(alice,alice,77,\"good\")) action(payer_payee_amount_commodity(alice,alice,78,\"EUR\")) action(payer_payee_amount_commodity(alice,alice,78,\"good\")) action(payer_payee_amount_commodity(alice,alice,79,\"EUR\")) action(payer_payee_amount_commodity(alice,alice,79,\"good\")) action(payer_payee_amount_commodity(alice,alice,80,\"EUR\")) action(payer_payee_amount_commodity(alice,alice,80,\"good\")) action(payer_payee_amount_commodity(alice,alice,81,\"EUR\")) action(payer_payee_amount_commodity(alice,alice,81,\"good\")) action(payer_payee_amount_commodity(alice,alice,82,\"EUR\")) action(payer_payee_amount_commodity(alice,alice,82,\"good\")) action(payer_payee_amount_commodity(alice,alice,83,\"EUR\")) action(payer_payee_amount_commodity(alice,alice,83,\"good\")) action(payer_payee_amount_commodity(alice,alice,84,\"EUR\")) action(payer_payee_amount_commodity(alice,alice,84,\"good\")) action(payer_payee_amount_commodity(alice,alice,85,\"EUR\")) action(payer_payee_amount_commodity(alice,alice,85,\"good\")) action(payer_payee_amount_commodity(alice,alice,86,\"EUR\")) action(payer_payee_amount_commodity(alice,alice,86,\"good\")) action(payer_payee_amount_commodity(alice,alice,87,\"EUR\")) action(payer_payee_amount_commodity(alice,alice,87,\"good\")) action(payer_payee_amount_commodity(alice,alice,88,\"EUR\")) action(payer_payee_amount_commodity(alice,alice,88,\"good\")) action(payer_payee_amount_commodity(alice,alice,89,\"EUR\")) action(payer_payee_amount_commodity(alice,alice,89,\"good\")) action(payer_payee_amount_commodity(alice,alice,90,\"EUR\")) action(payer_payee_amount_commodity(alice,alice,90,\"good\")) action(payer_payee_amount_commodity(alice,alice,91,\"EUR\")) action(payer_payee_amount_commodity(alice,alice,91,\"good\")) action(payer_payee_amount_commodity(alice,alice,92,\"EUR\")) action(payer_payee_amount_commodity(alice,alice,92,\"good\")) action(payer_payee_amount_commodity(alice,alice,93,\"EUR\")) action(payer_payee_amount_commodity(alice,alice,93,\"good\")) action(payer_payee_amount_commodity(alice,alice,94,\"EUR\")) action(payer_payee_amount_commodity(alice,alice,94,\"good\")) action(payer_payee_amount_commodity(alice,alice,95,\"EUR\")) action(payer_payee_amount_commodity(alice,alice,95,\"good\")) action(payer_payee_amount_commodity(alice,alice,96,\"EUR\")) action(payer_payee_amount_commodity(alice,alice,96,\"good\")) action(payer_payee_amount_commodity(alice,alice,97,\"EUR\")) action(payer_payee_amount_commodity(alice,alice,97,\"good\")) action(payer_payee_amount_commodity(alice,alice,98,\"EUR\")) action(payer_payee_amount_commodity(alice,alice,98,\"good\")) action(payer_payee_amount_commodity(alice,alice,99,\"EUR\")) action(payer_payee_amount_commodity(alice,alice,99,\"good\")) action(payer_payee_amount_commodity(alice,alice,100,\"EUR\")) action(payer_payee_amount_commodity(alice,alice,100,\"good\")) action(payer_payee_amount_commodity(alice,bob,0,\"EUR\")) action(payer_payee_amount_commodity(alice,bob,0,\"good\")) action(payer_payee_amount_commodity(alice,bob,1,\"EUR\")) action(payer_payee_amount_commodity(alice,bob,1,\"good\")) action(payer_payee_amount_commodity(alice,bob,2,\"EUR\")) action(payer_payee_amount_commodity(alice,bob,2,\"good\")) action(payer_payee_amount_commodity(alice,bob,3,\"EUR\")) action(payer_payee_amount_commodity(alice,bob,3,\"good\")) action(payer_payee_amount_commodity(alice,bob,4,\"EUR\")) action(payer_payee_amount_commodity(alice,bob,4,\"good\")) action(payer_payee_amount_commodity(alice,bob,5,\"EUR\")) action(payer_payee_amount_commodity(alice,bob,5,\"good\")) action(payer_payee_amount_commodity(alice,bob,6,\"EUR\")) action(payer_payee_amount_commodity(alice,bob,6,\"good\")) action(payer_payee_amount_commodity(alice,bob,7,\"EUR\")) action(payer_payee_amount_commodity(alice,bob,7,\"good\")) action(payer_payee_amount_commodity(alice,bob,8,\"EUR\")) action(payer_payee_amount_commodity(alice,bob,8,\"good\")) action(payer_payee_amount_commodity(alice,bob,9,\"EUR\")) action(payer_payee_amount_commodity(alice,bob,9,\"good\")) action(payer_payee_amount_commodity(alice,bob,10,\"EUR\")) action(payer_payee_amount_commodity(alice,bob,10,\"good\")) action(payer_payee_amount_commodity(alice,bob,11,\"EUR\")) action(payer_payee_amount_commodity(alice,bob,11,\"good\")) action(payer_payee_amount_commodity(alice,bob,12,\"EUR\")) action(payer_payee_amount_commodity(alice,bob,12,\"good\")) action(payer_payee_amount_commodity(alice,bob,13,\"EUR\")) action(payer_payee_amount_commodity(alice,bob,13,\"good\")) action(payer_payee_amount_commodity(alice,bob,14,\"EUR\")) action(payer_payee_amount_commodity(alice,bob,14,\"good\")) action(payer_payee_amount_commodity(alice,bob,15,\"EUR\")) action(payer_payee_amount_commodity(alice,bob,15,\"good\")) action(payer_payee_amount_commodity(alice,bob,16,\"EUR\")) action(payer_payee_amount_commodity(alice,bob,16,\"good\")) action(payer_payee_amount_commodity(alice,bob,17,\"EUR\")) action(payer_payee_amount_commodity(alice,bob,17,\"good\")) action(payer_payee_amount_commodity(alice,bob,18,\"EUR\")) action(payer_payee_amount_commodity(alice,bob,18,\"good\")) action(payer_payee_amount_commodity(alice,bob,19,\"EUR\")) action(payer_payee_amount_commodity(alice,bob,19,\"good\")) action(payer_payee_amount_commodity(alice,bob,20,\"EUR\")) action(payer_payee_amount_commodity(alice,bob,20,\"good\")) action(payer_payee_amount_commodity(alice,bob,21,\"EUR\")) action(payer_payee_amount_commodity(alice,bob,21,\"good\")) action(payer_payee_amount_commodity(alice,bob,22,\"EUR\")) action(payer_payee_amount_commodity(alice,bob,22,\"good\")) action(payer_payee_amount_commodity(alice,bob,23,\"EUR\")) action(payer_payee_amount_commodity(alice,bob,23,\"good\")) action(payer_payee_amount_commodity(alice,bob,24,\"EUR\")) action(payer_payee_amount_commodity(alice,bob,24,\"good\")) action(payer_payee_amount_commodity(alice,bob,25,\"EUR\")) action(payer_payee_amount_commodity(alice,bob,25,\"good\")) action(payer_payee_amount_commodity(alice,bob,26,\"EUR\")) action(payer_payee_amount_commodity(alice,bob,26,\"good\")) action(payer_payee_amount_commodity(alice,bob,27,\"EUR\")) action(payer_payee_amount_commodity(alice,bob,27,\"good\")) action(payer_payee_amount_commodity(alice,bob,28,\"EUR\")) action(payer_payee_amount_commodity(alice,bob,28,\"good\")) action(payer_payee_amount_commodity(alice,bob,29,\"EUR\")) action(payer_payee_amount_commodity(alice,bob,29,\"good\")) action(payer_payee_amount_commodity(alice,bob,30,\"EUR\")) action(payer_payee_amount_commodity(alice,bob,30,\"good\")) action(payer_payee_amount_commodity(alice,bob,31,\"EUR\")) action(payer_payee_amount_commodity(alice,bob,31,\"good\")) action(payer_payee_amount_commodity(alice,bob,32,\"EUR\")) action(payer_payee_amount_commodity(alice,bob,32,\"good\")) action(payer_payee_amount_commodity(alice,bob,33,\"EUR\")) action(payer_payee_amount_commodity(alice,bob,33,\"good\")) action(payer_payee_amount_commodity(alice,bob,34,\"EUR\")) action(payer_payee_amount_commodity(alice,bob,34,\"good\")) action(payer_payee_amount_commodity(alice,bob,35,\"EUR\")) action(payer_payee_amount_commodity(alice,bob,35,\"good\")) action(payer_payee_amount_commodity(alice,bob,36,\"EUR\")) action(payer_payee_amount_commodity(alice,bob,36,\"good\")) action(payer_payee_amount_commodity(alice,bob,37,\"EUR\")) action(payer_payee_amount_commodity(alice,bob,37,\"good\")) action(payer_payee_amount_commodity(alice,bob,38,\"EUR\")) action(payer_payee_amount_commodity(alice,bob,38,\"good\")) action(payer_payee_amount_commodity(alice,bob,39,\"EUR\")) action(payer_payee_amount_commodity(alice,bob,39,\"good\")) action(payer_payee_amount_commodity(alice,bob,40,\"EUR\")) action(payer_payee_amount_commodity(alice,bob,40,\"good\")) action(payer_payee_amount_commodity(alice,bob,41,\"EUR\")) action(payer_payee_amount_commodity(alice,bob,41,\"good\")) action(payer_payee_amount_commodity(alice,bob,42,\"EUR\")) action(payer_payee_amount_commodity(alice,bob,42,\"good\")) action(payer_payee_amount_commodity(alice,bob,43,\"EUR\")) action(payer_payee_amount_commodity(alice,bob,43,\"good\")) action(payer_payee_amount_commodity(alice,bob,44,\"EUR\")) action(payer_payee_amount_commodity(alice,bob,44,\"good\")) action(payer_payee_amount_commodity(alice,bob,45,\"EUR\")) action(payer_payee_amount_commodity(alice,bob,45,\"good\")) action(payer_payee_amount_commodity(alice,bob,46,\"EUR\")) action(payer_payee_amount_commodity(alice,bob,46,\"good\")) action(payer_payee_amount_commodity(alice,bob,47,\"EUR\")) action(payer_payee_amount_commodity(alice,bob,47,\"good\")) action(payer_payee_amount_commodity(alice,bob,48,\"EUR\")) action(payer_payee_amount_commodity(alice,bob,48,\"good\")) action(payer_payee_amount_commodity(alice,bob,49,\"EUR\")) action(payer_payee_amount_commodity(alice,bob,49,\"good\")) action(payer_payee_amount_commodity(alice,bob,50,\"EUR\")) action(payer_payee_amount_commodity(alice,bob,50,\"good\")) action(payer_payee_amount_commodity(alice,bob,51,\"EUR\")) action(payer_payee_amount_commodity(alice,bob,51,\"good\")) action(payer_payee_amount_commodity(alice,bob,52,\"EUR\")) action(payer_payee_amount_commodity(alice,bob,52,\"good\")) action(payer_payee_amount_commodity(alice,bob,53,\"EUR\")) action(payer_payee_amount_commodity(alice,bob,53,\"good\")) action(payer_payee_amount_commodity(alice,bob,54,\"EUR\")) action(payer_payee_amount_commodity(alice,bob,54,\"good\")) action(payer_payee_amount_commodity(alice,bob,55,\"EUR\")) action(payer_payee_amount_commodity(alice,bob,55,\"good\")) action(payer_payee_amount_commodity(alice,bob,56,\"EUR\")) action(payer_payee_amount_commodity(alice,bob,56,\"good\")) action(payer_payee_amount_commodity(alice,bob,57,\"EUR\")) action(payer_payee_amount_commodity(alice,bob,57,\"good\")) action(payer_payee_amount_commodity(alice,bob,58,\"EUR\")) action(payer_payee_amount_commodity(alice,bob,58,\"good\")) action(payer_payee_amount_commodity(alice,bob,59,\"EUR\")) action(payer_payee_amount_commodity(alice,bob,59,\"good\")) action(payer_payee_amount_commodity(alice,bob,60,\"EUR\")) action(payer_payee_amount_commodity(alice,bob,60,\"good\")) action(payer_payee_amount_commodity(alice,bob,61,\"EUR\")) action(payer_payee_amount_commodity(alice,bob,61,\"good\")) action(payer_payee_amount_commodity(alice,bob,62,\"EUR\")) action(payer_payee_amount_commodity(alice,bob,62,\"good\")) action(payer_payee_amount_commodity(alice,bob,63,\"EUR\")) action(payer_payee_amount_commodity(alice,bob,63,\"good\")) action(payer_payee_amount_commodity(alice,bob,64,\"EUR\")) action(payer_payee_amount_commodity(alice,bob,64,\"good\")) action(payer_payee_amount_commodity(alice,bob,65,\"EUR\")) action(payer_payee_amount_commodity(alice,bob,65,\"good\")) action(payer_payee_amount_commodity(alice,bob,66,\"EUR\")) action(payer_payee_amount_commodity(alice,bob,66,\"good\")) action(payer_payee_amount_commodity(alice,bob,67,\"EUR\")) action(payer_payee_amount_commodity(alice,bob,67,\"good\")) action(payer_payee_amount_commodity(alice,bob,68,\"EUR\")) action(payer_payee_amount_commodity(alice,bob,68,\"good\")) action(payer_payee_amount_commodity(alice,bob,69,\"EUR\")) action(payer_payee_amount_commodity(alice,bob,69,\"good\")) action(payer_payee_amount_commodity(alice,bob,70,\"EUR\")) action(payer_payee_amount_commodity(alice,bob,70,\"good\")) action(payer_payee_amount_commodity(alice,bob,71,\"EUR\")) action(payer_payee_amount_commodity(alice,bob,71,\"good\")) action(payer_payee_amount_commodity(alice,bob,72,\"EUR\")) action(payer_payee_amount_commodity(alice,bob,72,\"good\")) action(payer_payee_amount_commodity(alice,bob,73,\"EUR\")) action(payer_payee_amount_commodity(alice,bob,73,\"good\")) action(payer_payee_amount_commodity(alice,bob,74,\"EUR\")) action(payer_payee_amount_commodity(alice,bob,74,\"good\")) action(payer_payee_amount_commodity(alice,bob,75,\"EUR\")) action(payer_payee_amount_commodity(alice,bob,75,\"good\")) action(payer_payee_amount_commodity(alice,bob,76,\"EUR\")) action(payer_payee_amount_commodity(alice,bob,76,\"good\")) action(payer_payee_amount_commodity(alice,bob,77,\"EUR\")) action(payer_payee_amount_commodity(alice,bob,77,\"good\")) action(payer_payee_amount_commodity(alice,bob,78,\"EUR\")) action(payer_payee_amount_commodity(alice,bob,78,\"good\")) action(payer_payee_amount_commodity(alice,bob,79,\"EUR\")) action(payer_payee_amount_commodity(alice,bob,79,\"good\")) action(payer_payee_amount_commodity(alice,bob,80,\"EUR\")) action(payer_payee_amount_commodity(alice,bob,80,\"good\")) action(payer_payee_amount_commodity(alice,bob,81,\"EUR\")) action(payer_payee_amount_commodity(alice,bob,81,\"good\")) action(payer_payee_amount_commodity(alice,bob,82,\"EUR\")) action(payer_payee_amount_commodity(alice,bob,82,\"good\")) action(payer_payee_amount_commodity(alice,bob,83,\"EUR\")) action(payer_payee_amount_commodity(alice,bob,83,\"good\")) action(payer_payee_amount_commodity(alice,bob,84,\"EUR\")) action(payer_payee_amount_commodity(alice,bob,84,\"good\")) action(payer_payee_amount_commodity(alice,bob,85,\"EUR\")) action(payer_payee_amount_commodity(alice,bob,85,\"good\")) action(payer_payee_amount_commodity(alice,bob,86,\"EUR\")) action(payer_payee_amount_commodity(alice,bob,86,\"good\")) action(payer_payee_amount_commodity(alice,bob,87,\"EUR\")) action(payer_payee_amount_commodity(alice,bob,87,\"good\")) action(payer_payee_amount_commodity(alice,bob,88,\"EUR\")) action(payer_payee_amount_commodity(alice,bob,88,\"good\")) action(payer_payee_amount_commodity(alice,bob,89,\"EUR\")) action(payer_payee_amount_commodity(alice,bob,89,\"good\")) action(payer_payee_amount_commodity(alice,bob,90,\"EUR\")) action(payer_payee_amount_commodity(alice,bob,90,\"good\")) action(payer_payee_amount_commodity(alice,bob,91,\"EUR\")) action(payer_payee_amount_commodity(alice,bob,91,\"good\")) action(payer_payee_amount_commodity(alice,bob,92,\"EUR\")) action(payer_payee_amount_commodity(alice,bob,92,\"good\")) action(payer_payee_amount_commodity(alice,bob,93,\"EUR\")) action(payer_payee_amount_commodity(alice,bob,93,\"good\")) action(payer_payee_amount_commodity(alice,bob,94,\"EUR\")) action(payer_payee_amount_commodity(alice,bob,94,\"good\")) action(payer_payee_amount_commodity(alice,bob,95,\"EUR\")) action(payer_payee_amount_commodity(alice,bob,95,\"good\")) action(payer_payee_amount_commodity(alice,bob,96,\"EUR\")) action(payer_payee_amount_commodity(alice,bob,96,\"good\")) action(payer_payee_amount_commodity(alice,bob,97,\"EUR\")) action(payer_payee_amount_commodity(alice,bob,97,\"good\")) action(payer_payee_amount_commodity(alice,bob,98,\"EUR\")) action(payer_payee_amount_commodity(alice,bob,98,\"good\")) action(payer_payee_amount_commodity(alice,bob,99,\"EUR\")) action(payer_payee_amount_commodity(alice,bob,99,\"good\")) action(payer_payee_amount_commodity(alice,bob,100,\"EUR\")) action(payer_payee_amount_commodity(alice,bob,100,\"good\")) action(payer_payee_amount_commodity(bob,alice,0,\"EUR\")) action(payer_payee_amount_commodity(bob,alice,0,\"good\")) action(payer_payee_amount_commodity(bob,alice,1,\"EUR\")) action(payer_payee_amount_commodity(bob,alice,1,\"good\")) action(payer_payee_amount_commodity(bob,alice,2,\"EUR\")) action(payer_payee_amount_commodity(bob,alice,2,\"good\")) action(payer_payee_amount_commodity(bob,alice,3,\"EUR\")) action(payer_payee_amount_commodity(bob,alice,3,\"good\")) action(payer_payee_amount_commodity(bob,alice,4,\"EUR\")) action(payer_payee_amount_commodity(bob,alice,4,\"good\")) action(payer_payee_amount_commodity(bob,alice,5,\"EUR\")) action(payer_payee_amount_commodity(bob,alice,5,\"good\")) action(payer_payee_amount_commodity(bob,alice,6,\"EUR\")) action(payer_payee_amount_commodity(bob,alice,6,\"good\")) action(payer_payee_amount_commodity(bob,alice,7,\"EUR\")) action(payer_payee_amount_commodity(bob,alice,7,\"good\")) action(payer_payee_amount_commodity(bob,alice,8,\"EUR\")) action(payer_payee_amount_commodity(bob,alice,8,\"good\")) action(payer_payee_amount_commodity(bob,alice,9,\"EUR\")) action(payer_payee_amount_commodity(bob,alice,9,\"good\")) action(payer_payee_amount_commodity(bob,alice,10,\"EUR\")) action(payer_payee_amount_commodity(bob,alice,10,\"good\")) action(payer_payee_amount_commodity(bob,alice,11,\"EUR\")) action(payer_payee_amount_commodity(bob,alice,11,\"good\")) action(payer_payee_amount_commodity(bob,alice,12,\"EUR\")) action(payer_payee_amount_commodity(bob,alice,12,\"good\")) action(payer_payee_amount_commodity(bob,alice,13,\"EUR\")) action(payer_payee_amount_commodity(bob,alice,13,\"good\")) action(payer_payee_amount_commodity(bob,alice,14,\"EUR\")) action(payer_payee_amount_commodity(bob,alice,14,\"good\")) action(payer_payee_amount_commodity(bob,alice,15,\"EUR\")) action(payer_payee_amount_commodity(bob,alice,15,\"good\")) action(payer_payee_amount_commodity(bob,alice,16,\"EUR\")) action(payer_payee_amount_commodity(bob,alice,16,\"good\")) action(payer_payee_amount_commodity(bob,alice,17,\"EUR\")) action(payer_payee_amount_commodity(bob,alice,17,\"good\")) action(payer_payee_amount_commodity(bob,alice,18,\"EUR\")) action(payer_payee_amount_commodity(bob,alice,18,\"good\")) action(payer_payee_amount_commodity(bob,alice,19,\"EUR\")) action(payer_payee_amount_commodity(bob,alice,19,\"good\")) action(payer_payee_amount_commodity(bob,alice,20,\"EUR\")) action(payer_payee_amount_commodity(bob,alice,20,\"good\")) action(payer_payee_amount_commodity(bob,alice,21,\"EUR\")) action(payer_payee_amount_commodity(bob,alice,21,\"good\")) action(payer_payee_amount_commodity(bob,alice,22,\"EUR\")) action(payer_payee_amount_commodity(bob,alice,22,\"good\")) action(payer_payee_amount_commodity(bob,alice,23,\"EUR\")) action(payer_payee_amount_commodity(bob,alice,23,\"good\")) action(payer_payee_amount_commodity(bob,alice,24,\"EUR\")) action(payer_payee_amount_commodity(bob,alice,24,\"good\")) action(payer_payee_amount_commodity(bob,alice,25,\"EUR\")) action(payer_payee_amount_commodity(bob,alice,25,\"good\")) action(payer_payee_amount_commodity(bob,alice,26,\"EUR\")) action(payer_payee_amount_commodity(bob,alice,26,\"good\")) action(payer_payee_amount_commodity(bob,alice,27,\"EUR\")) action(payer_payee_amount_commodity(bob,alice,27,\"good\")) action(payer_payee_amount_commodity(bob,alice,28,\"EUR\")) action(payer_payee_amount_commodity(bob,alice,28,\"good\")) action(payer_payee_amount_commodity(bob,alice,29,\"EUR\")) action(payer_payee_amount_commodity(bob,alice,29,\"good\")) action(payer_payee_amount_commodity(bob,alice,30,\"EUR\")) action(payer_payee_amount_commodity(bob,alice,30,\"good\")) action(payer_payee_amount_commodity(bob,alice,31,\"EUR\")) action(payer_payee_amount_commodity(bob,alice,31,\"good\")) action(payer_payee_amount_commodity(bob,alice,32,\"EUR\")) action(payer_payee_amount_commodity(bob,alice,32,\"good\")) action(payer_payee_amount_commodity(bob,alice,33,\"EUR\")) action(payer_payee_amount_commodity(bob,alice,33,\"good\")) action(payer_payee_amount_commodity(bob,alice,34,\"EUR\")) action(payer_payee_amount_commodity(bob,alice,34,\"good\")) action(payer_payee_amount_commodity(bob,alice,35,\"EUR\")) action(payer_payee_amount_commodity(bob,alice,35,\"good\")) action(payer_payee_amount_commodity(bob,alice,36,\"EUR\")) action(payer_payee_amount_commodity(bob,alice,36,\"good\")) action(payer_payee_amount_commodity(bob,alice,37,\"EUR\")) action(payer_payee_amount_commodity(bob,alice,37,\"good\")) action(payer_payee_amount_commodity(bob,alice,38,\"EUR\")) action(payer_payee_amount_commodity(bob,alice,38,\"good\")) action(payer_payee_amount_commodity(bob,alice,39,\"EUR\")) action(payer_payee_amount_commodity(bob,alice,39,\"good\")) action(payer_payee_amount_commodity(bob,alice,40,\"EUR\")) action(payer_payee_amount_commodity(bob,alice,40,\"good\")) action(payer_payee_amount_commodity(bob,alice,41,\"EUR\")) action(payer_payee_amount_commodity(bob,alice,41,\"good\")) action(payer_payee_amount_commodity(bob,alice,42,\"EUR\")) action(payer_payee_amount_commodity(bob,alice,42,\"good\")) action(payer_payee_amount_commodity(bob,alice,43,\"EUR\")) action(payer_payee_amount_commodity(bob,alice,43,\"good\")) action(payer_payee_amount_commodity(bob,alice,44,\"EUR\")) action(payer_payee_amount_commodity(bob,alice,44,\"good\")) action(payer_payee_amount_commodity(bob,alice,45,\"EUR\")) action(payer_payee_amount_commodity(bob,alice,45,\"good\")) action(payer_payee_amount_commodity(bob,alice,46,\"EUR\")) action(payer_payee_amount_commodity(bob,alice,46,\"good\")) action(payer_payee_amount_commodity(bob,alice,47,\"EUR\")) action(payer_payee_amount_commodity(bob,alice,47,\"good\")) action(payer_payee_amount_commodity(bob,alice,48,\"EUR\")) action(payer_payee_amount_commodity(bob,alice,48,\"good\")) action(payer_payee_amount_commodity(bob,alice,49,\"EUR\")) action(payer_payee_amount_commodity(bob,alice,49,\"good\")) action(payer_payee_amount_commodity(bob,alice,50,\"EUR\")) action(payer_payee_amount_commodity(bob,alice,50,\"good\")) action(payer_payee_amount_commodity(bob,alice,51,\"EUR\")) action(payer_payee_amount_commodity(bob,alice,51,\"good\")) action(payer_payee_amount_commodity(bob,alice,52,\"EUR\")) action(payer_payee_amount_commodity(bob,alice,52,\"good\")) action(payer_payee_amount_commodity(bob,alice,53,\"EUR\")) action(payer_payee_amount_commodity(bob,alice,53,\"good\")) action(payer_payee_amount_commodity(bob,alice,54,\"EUR\")) action(payer_payee_amount_commodity(bob,alice,54,\"good\")) action(payer_payee_amount_commodity(bob,alice,55,\"EUR\")) action(payer_payee_amount_commodity(bob,alice,55,\"good\")) action(payer_payee_amount_commodity(bob,alice,56,\"EUR\")) action(payer_payee_amount_commodity(bob,alice,56,\"good\")) action(payer_payee_amount_commodity(bob,alice,57,\"EUR\")) action(payer_payee_amount_commodity(bob,alice,57,\"good\")) action(payer_payee_amount_commodity(bob,alice,58,\"EUR\")) action(payer_payee_amount_commodity(bob,alice,58,\"good\")) action(payer_payee_amount_commodity(bob,alice,59,\"EUR\")) action(payer_payee_amount_commodity(bob,alice,59,\"good\")) action(payer_payee_amount_commodity(bob,alice,60,\"EUR\")) action(payer_payee_amount_commodity(bob,alice,60,\"good\")) action(payer_payee_amount_commodity(bob,alice,61,\"EUR\")) action(payer_payee_amount_commodity(bob,alice,61,\"good\")) action(payer_payee_amount_commodity(bob,alice,62,\"EUR\")) action(payer_payee_amount_commodity(bob,alice,62,\"good\")) action(payer_payee_amount_commodity(bob,alice,63,\"EUR\")) action(payer_payee_amount_commodity(bob,alice,63,\"good\")) action(payer_payee_amount_commodity(bob,alice,64,\"EUR\")) action(payer_payee_amount_commodity(bob,alice,64,\"good\")) action(payer_payee_amount_commodity(bob,alice,65,\"EUR\")) action(payer_payee_amount_commodity(bob,alice,65,\"good\")) action(payer_payee_amount_commodity(bob,alice,66,\"EUR\")) action(payer_payee_amount_commodity(bob,alice,66,\"good\")) action(payer_payee_amount_commodity(bob,alice,67,\"EUR\")) action(payer_payee_amount_commodity(bob,alice,67,\"good\")) action(payer_payee_amount_commodity(bob,alice,68,\"EUR\")) action(payer_payee_amount_commodity(bob,alice,68,\"good\")) action(payer_payee_amount_commodity(bob,alice,69,\"EUR\")) action(payer_payee_amount_commodity(bob,alice,69,\"good\")) action(payer_payee_amount_commodity(bob,alice,70,\"EUR\")) action(payer_payee_amount_commodity(bob,alice,70,\"good\")) action(payer_payee_amount_commodity(bob,alice,71,\"EUR\")) action(payer_payee_amount_commodity(bob,alice,71,\"good\")) action(payer_payee_amount_commodity(bob,alice,72,\"EUR\")) action(payer_payee_amount_commodity(bob,alice,72,\"good\")) action(payer_payee_amount_commodity(bob,alice,73,\"EUR\")) action(payer_payee_amount_commodity(bob,alice,73,\"good\")) action(payer_payee_amount_commodity(bob,alice,74,\"EUR\")) action(payer_payee_amount_commodity(bob,alice,74,\"good\")) action(payer_payee_amount_commodity(bob,alice,75,\"EUR\")) action(payer_payee_amount_commodity(bob,alice,75,\"good\")) action(payer_payee_amount_commodity(bob,alice,76,\"EUR\")) action(payer_payee_amount_commodity(bob,alice,76,\"good\")) action(payer_payee_amount_commodity(bob,alice,77,\"EUR\")) action(payer_payee_amount_commodity(bob,alice,77,\"good\")) action(payer_payee_amount_commodity(bob,alice,78,\"EUR\")) action(payer_payee_amount_commodity(bob,alice,78,\"good\")) action(payer_payee_amount_commodity(bob,alice,79,\"EUR\")) action(payer_payee_amount_commodity(bob,alice,79,\"good\")) action(payer_payee_amount_commodity(bob,alice,80,\"EUR\")) action(payer_payee_amount_commodity(bob,alice,80,\"good\")) action(payer_payee_amount_commodity(bob,alice,81,\"EUR\")) action(payer_payee_amount_commodity(bob,alice,81,\"good\")) action(payer_payee_amount_commodity(bob,alice,82,\"EUR\")) action(payer_payee_amount_commodity(bob,alice,82,\"good\")) action(payer_payee_amount_commodity(bob,alice,83,\"EUR\")) action(payer_payee_amount_commodity(bob,alice,83,\"good\")) action(payer_payee_amount_commodity(bob,alice,84,\"EUR\")) action(payer_payee_amount_commodity(bob,alice,84,\"good\")) action(payer_payee_amount_commodity(bob,alice,85,\"EUR\")) action(payer_payee_amount_commodity(bob,alice,85,\"good\")) action(payer_payee_amount_commodity(bob,alice,86,\"EUR\")) action(payer_payee_amount_commodity(bob,alice,86,\"good\")) action(payer_payee_amount_commodity(bob,alice,87,\"EUR\")) action(payer_payee_amount_commodity(bob,alice,87,\"good\")) action(payer_payee_amount_commodity(bob,alice,88,\"EUR\")) action(payer_payee_amount_commodity(bob,alice,88,\"good\")) action(payer_payee_amount_commodity(bob,alice,89,\"EUR\")) action(payer_payee_amount_commodity(bob,alice,89,\"good\")) action(payer_payee_amount_commodity(bob,alice,90,\"EUR\")) action(payer_payee_amount_commodity(bob,alice,90,\"good\")) action(payer_payee_amount_commodity(bob,alice,91,\"EUR\")) action(payer_payee_amount_commodity(bob,alice,91,\"good\")) action(payer_payee_amount_commodity(bob,alice,92,\"EUR\")) action(payer_payee_amount_commodity(bob,alice,92,\"good\")) action(payer_payee_amount_commodity(bob,alice,93,\"EUR\")) action(payer_payee_amount_commodity(bob,alice,93,\"good\")) action(payer_payee_amount_commodity(bob,alice,94,\"EUR\")) action(payer_payee_amount_commodity(bob,alice,94,\"good\")) action(payer_payee_amount_commodity(bob,alice,95,\"EUR\")) action(payer_payee_amount_commodity(bob,alice,95,\"good\")) action(payer_payee_amount_commodity(bob,alice,96,\"EUR\")) action(payer_payee_amount_commodity(bob,alice,96,\"good\")) action(payer_payee_amount_commodity(bob,alice,97,\"EUR\")) action(payer_payee_amount_commodity(bob,alice,97,\"good\")) action(payer_payee_amount_commodity(bob,alice,98,\"EUR\")) action(payer_payee_amount_commodity(bob,alice,98,\"good\")) action(payer_payee_amount_commodity(bob,alice,99,\"EUR\")) action(payer_payee_amount_commodity(bob,alice,99,\"good\")) action(payer_payee_amount_commodity(bob,alice,100,\"EUR\")) action(payer_payee_amount_commodity(bob,alice,100,\"good\")) action(payer_payee_amount_commodity(bob,bob,0,\"EUR\")) action(payer_payee_amount_commodity(bob,bob,0,\"good\")) action(payer_payee_amount_commodity(bob,bob,1,\"EUR\")) action(payer_payee_amount_commodity(bob,bob,1,\"good\")) action(payer_payee_amount_commodity(bob,bob,2,\"EUR\")) action(payer_payee_amount_commodity(bob,bob,2,\"good\")) action(payer_payee_amount_commodity(bob,bob,3,\"EUR\")) action(payer_payee_amount_commodity(bob,bob,3,\"good\")) action(payer_payee_amount_commodity(bob,bob,4,\"EUR\")) action(payer_payee_amount_commodity(bob,bob,4,\"good\")) action(payer_payee_amount_commodity(bob,bob,5,\"EUR\")) action(payer_payee_amount_commodity(bob,bob,5,\"good\")) action(payer_payee_amount_commodity(bob,bob,6,\"EUR\")) action(payer_payee_amount_commodity(bob,bob,6,\"good\")) action(payer_payee_amount_commodity(bob,bob,7,\"EUR\")) action(payer_payee_amount_commodity(bob,bob,7,\"good\")) action(payer_payee_amount_commodity(bob,bob,8,\"EUR\")) action(payer_payee_amount_commodity(bob,bob,8,\"good\")) action(payer_payee_amount_commodity(bob,bob,9,\"EUR\")) action(payer_payee_amount_commodity(bob,bob,9,\"good\")) action(payer_payee_amount_commodity(bob,bob,10,\"EUR\")) action(payer_payee_amount_commodity(bob,bob,10,\"good\")) action(payer_payee_amount_commodity(bob,bob,11,\"EUR\")) action(payer_payee_amount_commodity(bob,bob,11,\"good\")) action(payer_payee_amount_commodity(bob,bob,12,\"EUR\")) action(payer_payee_amount_commodity(bob,bob,12,\"good\")) action(payer_payee_amount_commodity(bob,bob,13,\"EUR\")) action(payer_payee_amount_commodity(bob,bob,13,\"good\")) action(payer_payee_amount_commodity(bob,bob,14,\"EUR\")) action(payer_payee_amount_commodity(bob,bob,14,\"good\")) action(payer_payee_amount_commodity(bob,bob,15,\"EUR\")) action(payer_payee_amount_commodity(bob,bob,15,\"good\")) action(payer_payee_amount_commodity(bob,bob,16,\"EUR\")) action(payer_payee_amount_commodity(bob,bob,16,\"good\")) action(payer_payee_amount_commodity(bob,bob,17,\"EUR\")) action(payer_payee_amount_commodity(bob,bob,17,\"good\")) action(payer_payee_amount_commodity(bob,bob,18,\"EUR\")) action(payer_payee_amount_commodity(bob,bob,18,\"good\")) action(payer_payee_amount_commodity(bob,bob,19,\"EUR\")) action(payer_payee_amount_commodity(bob,bob,19,\"good\")) action(payer_payee_amount_commodity(bob,bob,20,\"EUR\")) action(payer_payee_amount_commodity(bob,bob,20,\"good\")) action(payer_payee_amount_commodity(bob,bob,21,\"EUR\")) action(payer_payee_amount_commodity(bob,bob,21,\"good\")) action(payer_payee_amount_commodity(bob,bob,22,\"EUR\")) action(payer_payee_amount_commodity(bob,bob,22,\"good\")) action(payer_payee_amount_commodity(bob,bob,23,\"EUR\")) action(payer_payee_amount_commodity(bob,bob,23,\"good\")) action(payer_payee_amount_commodity(bob,bob,24,\"EUR\")) action(payer_payee_amount_commodity(bob,bob,24,\"good\")) action(payer_payee_amount_commodity(bob,bob,25,\"EUR\")) action(payer_payee_amount_commodity(bob,bob,25,\"good\")) action(payer_payee_amount_commodity(bob,bob,26,\"EUR\")) action(payer_payee_amount_commodity(bob,bob,26,\"good\")) action(payer_payee_amount_commodity(bob,bob,27,\"EUR\")) action(payer_payee_amount_commodity(bob,bob,27,\"good\")) action(payer_payee_amount_commodity(bob,bob,28,\"EUR\")) action(payer_payee_amount_commodity(bob,bob,28,\"good\")) action(payer_payee_amount_commodity(bob,bob,29,\"EUR\")) action(payer_payee_amount_commodity(bob,bob,29,\"good\")) action(payer_payee_amount_commodity(bob,bob,30,\"EUR\")) action(payer_payee_amount_commodity(bob,bob,30,\"good\")) action(payer_payee_amount_commodity(bob,bob,31,\"EUR\")) action(payer_payee_amount_commodity(bob,bob,31,\"good\")) action(payer_payee_amount_commodity(bob,bob,32,\"EUR\")) action(payer_payee_amount_commodity(bob,bob,32,\"good\")) action(payer_payee_amount_commodity(bob,bob,33,\"EUR\")) action(payer_payee_amount_commodity(bob,bob,33,\"good\")) action(payer_payee_amount_commodity(bob,bob,34,\"EUR\")) action(payer_payee_amount_commodity(bob,bob,34,\"good\")) action(payer_payee_amount_commodity(bob,bob,35,\"EUR\")) action(payer_payee_amount_commodity(bob,bob,35,\"good\")) action(payer_payee_amount_commodity(bob,bob,36,\"EUR\")) action(payer_payee_amount_commodity(bob,bob,36,\"good\")) action(payer_payee_amount_commodity(bob,bob,37,\"EUR\")) action(payer_payee_amount_commodity(bob,bob,37,\"good\")) action(payer_payee_amount_commodity(bob,bob,38,\"EUR\")) action(payer_payee_amount_commodity(bob,bob,38,\"good\")) action(payer_payee_amount_commodity(bob,bob,39,\"EUR\")) action(payer_payee_amount_commodity(bob,bob,39,\"good\")) action(payer_payee_amount_commodity(bob,bob,40,\"EUR\")) action(payer_payee_amount_commodity(bob,bob,40,\"good\")) action(payer_payee_amount_commodity(bob,bob,41,\"EUR\")) action(payer_payee_amount_commodity(bob,bob,41,\"good\")) action(payer_payee_amount_commodity(bob,bob,42,\"EUR\")) action(payer_payee_amount_commodity(bob,bob,42,\"good\")) action(payer_payee_amount_commodity(bob,bob,43,\"EUR\")) action(payer_payee_amount_commodity(bob,bob,43,\"good\")) action(payer_payee_amount_commodity(bob,bob,44,\"EUR\")) action(payer_payee_amount_commodity(bob,bob,44,\"good\")) action(payer_payee_amount_commodity(bob,bob,45,\"EUR\")) action(payer_payee_amount_commodity(bob,bob,45,\"good\")) action(payer_payee_amount_commodity(bob,bob,46,\"EUR\")) action(payer_payee_amount_commodity(bob,bob,46,\"good\")) action(payer_payee_amount_commodity(bob,bob,47,\"EUR\")) action(payer_payee_amount_commodity(bob,bob,47,\"good\")) action(payer_payee_amount_commodity(bob,bob,48,\"EUR\")) action(payer_payee_amount_commodity(bob,bob,48,\"good\")) action(payer_payee_amount_commodity(bob,bob,49,\"EUR\")) action(payer_payee_amount_commodity(bob,bob,49,\"good\")) action(payer_payee_amount_commodity(bob,bob,50,\"EUR\")) action(payer_payee_amount_commodity(bob,bob,50,\"good\")) action(payer_payee_amount_commodity(bob,bob,51,\"EUR\")) action(payer_payee_amount_commodity(bob,bob,51,\"good\")) action(payer_payee_amount_commodity(bob,bob,52,\"EUR\")) action(payer_payee_amount_commodity(bob,bob,52,\"good\")) action(payer_payee_amount_commodity(bob,bob,53,\"EUR\")) action(payer_payee_amount_commodity(bob,bob,53,\"good\")) action(payer_payee_amount_commodity(bob,bob,54,\"EUR\")) action(payer_payee_amount_commodity(bob,bob,54,\"good\")) action(payer_payee_amount_commodity(bob,bob,55,\"EUR\")) action(payer_payee_amount_commodity(bob,bob,55,\"good\")) action(payer_payee_amount_commodity(bob,bob,56,\"EUR\")) action(payer_payee_amount_commodity(bob,bob,56,\"good\")) action(payer_payee_amount_commodity(bob,bob,57,\"EUR\")) action(payer_payee_amount_commodity(bob,bob,57,\"good\")) action(payer_payee_amount_commodity(bob,bob,58,\"EUR\")) action(payer_payee_amount_commodity(bob,bob,58,\"good\")) action(payer_payee_amount_commodity(bob,bob,59,\"EUR\")) action(payer_payee_amount_commodity(bob,bob,59,\"good\")) action(payer_payee_amount_commodity(bob,bob,60,\"EUR\")) action(payer_payee_amount_commodity(bob,bob,60,\"good\")) action(payer_payee_amount_commodity(bob,bob,61,\"EUR\")) action(payer_payee_amount_commodity(bob,bob,61,\"good\")) action(payer_payee_amount_commodity(bob,bob,62,\"EUR\")) action(payer_payee_amount_commodity(bob,bob,62,\"good\")) action(payer_payee_amount_commodity(bob,bob,63,\"EUR\")) action(payer_payee_amount_commodity(bob,bob,63,\"good\")) action(payer_payee_amount_commodity(bob,bob,64,\"EUR\")) action(payer_payee_amount_commodity(bob,bob,64,\"good\")) action(payer_payee_amount_commodity(bob,bob,65,\"EUR\")) action(payer_payee_amount_commodity(bob,bob,65,\"good\")) action(payer_payee_amount_commodity(bob,bob,66,\"EUR\")) action(payer_payee_amount_commodity(bob,bob,66,\"good\")) action(payer_payee_amount_commodity(bob,bob,67,\"EUR\")) action(payer_payee_amount_commodity(bob,bob,67,\"good\")) action(payer_payee_amount_commodity(bob,bob,68,\"EUR\")) action(payer_payee_amount_commodity(bob,bob,68,\"good\")) action(payer_payee_amount_commodity(bob,bob,69,\"EUR\")) action(payer_payee_amount_commodity(bob,bob,69,\"good\")) action(payer_payee_amount_commodity(bob,bob,70,\"EUR\")) action(payer_payee_amount_commodity(bob,bob,70,\"good\")) action(payer_payee_amount_commodity(bob,bob,71,\"EUR\")) action(payer_payee_amount_commodity(bob,bob,71,\"good\")) action(payer_payee_amount_commodity(bob,bob,72,\"EUR\")) action(payer_payee_amount_commodity(bob,bob,72,\"good\")) action(payer_payee_amount_commodity(bob,bob,73,\"EUR\")) action(payer_payee_amount_commodity(bob,bob,73,\"good\")) action(payer_payee_amount_commodity(bob,bob,74,\"EUR\")) action(payer_payee_amount_commodity(bob,bob,74,\"good\")) action(payer_payee_amount_commodity(bob,bob,75,\"EUR\")) action(payer_payee_amount_commodity(bob,bob,75,\"good\")) action(payer_payee_amount_commodity(bob,bob,76,\"EUR\")) action(payer_payee_amount_commodity(bob,bob,76,\"good\")) action(payer_payee_amount_commodity(bob,bob,77,\"EUR\")) action(payer_payee_amount_commodity(bob,bob,77,\"good\")) action(payer_payee_amount_commodity(bob,bob,78,\"EUR\")) action(payer_payee_amount_commodity(bob,bob,78,\"good\")) action(payer_payee_amount_commodity(bob,bob,79,\"EUR\")) action(payer_payee_amount_commodity(bob,bob,79,\"good\")) action(payer_payee_amount_commodity(bob,bob,80,\"EUR\")) action(payer_payee_amount_commodity(bob,bob,80,\"good\")) action(payer_payee_amount_commodity(bob,bob,81,\"EUR\")) action(payer_payee_amount_commodity(bob,bob,81,\"good\")) action(payer_payee_amount_commodity(bob,bob,82,\"EUR\")) action(payer_payee_amount_commodity(bob,bob,82,\"good\")) action(payer_payee_amount_commodity(bob,bob,83,\"EUR\")) action(payer_payee_amount_commodity(bob,bob,83,\"good\")) action(payer_payee_amount_commodity(bob,bob,84,\"EUR\")) action(payer_payee_amount_commodity(bob,bob,84,\"good\")) action(payer_payee_amount_commodity(bob,bob,85,\"EUR\")) action(payer_payee_amount_commodity(bob,bob,85,\"good\")) action(payer_payee_amount_commodity(bob,bob,86,\"EUR\")) action(payer_payee_amount_commodity(bob,bob,86,\"good\")) action(payer_payee_amount_commodity(bob,bob,87,\"EUR\")) action(payer_payee_amount_commodity(bob,bob,87,\"good\")) action(payer_payee_amount_commodity(bob,bob,88,\"EUR\")) action(payer_payee_amount_commodity(bob,bob,88,\"good\")) action(payer_payee_amount_commodity(bob,bob,89,\"EUR\")) action(payer_payee_amount_commodity(bob,bob,89,\"good\")) action(payer_payee_amount_commodity(bob,bob,90,\"EUR\")) action(payer_payee_amount_commodity(bob,bob,90,\"good\")) action(payer_payee_amount_commodity(bob,bob,91,\"EUR\")) action(payer_payee_amount_commodity(bob,bob,91,\"good\")) action(payer_payee_amount_commodity(bob,bob,92,\"EUR\")) action(payer_payee_amount_commodity(bob,bob,92,\"good\")) action(payer_payee_amount_commodity(bob,bob,93,\"EUR\")) action(payer_payee_amount_commodity(bob,bob,93,\"good\")) action(payer_payee_amount_commodity(bob,bob,94,\"EUR\")) action(payer_payee_amount_commodity(bob,bob,94,\"good\")) action(payer_payee_amount_commodity(bob,bob,95,\"EUR\")) action(payer_payee_amount_commodity(bob,bob,95,\"good\")) action(payer_payee_amount_commodity(bob,bob,96,\"EUR\")) action(payer_payee_amount_commodity(bob,bob,96,\"good\")) action(payer_payee_amount_commodity(bob,bob,97,\"EUR\")) action(payer_payee_amount_commodity(bob,bob,97,\"good\")) action(payer_payee_amount_commodity(bob,bob,98,\"EUR\")) action(payer_payee_amount_commodity(bob,bob,98,\"good\")) action(payer_payee_amount_commodity(bob,bob,99,\"EUR\")) action(payer_payee_amount_commodity(bob,bob,99,\"good\")) action(payer_payee_amount_commodity(bob,bob,100,\"EUR\")) action(payer_payee_amount_commodity(bob,bob,100,\"good\")) agent(alice) agent(bob) amount(0) amount(1) amount(2) amount(3) amount(4) amount(5) amount(6) amount(7) amount(8) amount(9) amount(10) amount(11) amount(12) amount(13) amount(14) amount(15) amount(16) amount(17) amount(18) amount(19) amount(20) amount(21) amount(22) amount(23) amount(24) amount(25) amount(26) amount(27) amount(28) amount(29) amount(30) amount(31) amount(32) amount(33) amount(34) amount(35) amount(36) amount(37) amount(38) amount(39) amount(40) amount(41) amount(42) amount(43) amount(44) amount(45) amount(46) amount(47) amount(48) amount(49) amount(50) amount(51) amount(52) amount(53) amount(54) amount(55) amount(56) amount(57) amount(58) amount(59) amount(60) amount(61) amount(62) amount(63) amount(64) amount(65) amount(66) amount(67) amount(68) amount(69) amount(70) amount(71) amount(72) amount(73) amount(74) amount(75) amount(76) amount(77) amount(78) amount(79) amount(80) amount(81) amount(82) amount(83) amount(84) amount(85) amount(86) amount(87) amount(88) amount(89) amount(90) amount(91) amount(92) amount(93) amount(94) amount(95) amount(96) amount(97) amount(98) amount(99) amount(100) commodity(\"EUR\") commodity(\"good\") time(0) time(1) time(2) time(3) time(4) time(5) time(6) time(7) time(8) }.\n",
      "SAT 1 \n"
     ]
    }
   ],
   "source": [
    "domain = \"\"\"\n",
    "agent(alice;bob).\n",
    "time(0..8).\n",
    "amount(0..100).\n",
    "commodity(\"EUR\";\"good\").\n",
    "action(payer_payee_amount_commodity(Payer, Payee, Amount, Commodity)) :-\n",
    "  agent(Payer), agent(Payee),\n",
    "  amount(Amount),\n",
    "  commodity(Commodity).\n",
    "\"\"\"\n",
    "solve(domain);"
   ]
  },
  {
   "cell_type": "code",
   "execution_count": 97,
   "outputs": [
    {
     "name": "stdout",
     "output_type": "stream",
     "text": [
      "Answer  1: { obs(agent_account_balance_commodity(alice,commitments,0,debtor_creditor_action_start_end(alice,bob,payer_payee_amount_commodity(alice,bob,100,\"EUR\"),2,8)),0) obs(agent_account_balance_commodity(alice,demands,0,debtor_creditor_action_start_end(bob,alice,payer_payee_amount_commodity(bob,alice,1,\"good\"),2,8)),0) obs(agent_account_balance_commodity(alice,register,100,\"EUR\"),0) obs(agent_account_balance_commodity(alice,store,0,\"good\"),0) obs(agent_account_balance_commodity(bob,commitments,0,debtor_creditor_action_start_end(bob,alice,payer_payee_amount_commodity(bob,alice,1,\"good\"),2,8)),0) obs(agent_account_balance_commodity(bob,demands,0,debtor_creditor_action_start_end(alice,bob,payer_payee_amount_commodity(alice,bob,100,\"EUR\"),2,8)),0) obs(agent_account_balance_commodity(bob,register,0,\"EUR\"),0) obs(agent_account_balance_commodity(bob,store,1,\"good\"),0) }.\n",
      "SAT 1 \n"
     ]
    }
   ],
   "source": [
    "obs = \"\"\"\n",
    "obs(agent_account_balance_commodity(alice, register, 100, \"EUR\"), 0).\n",
    "obs(agent_account_balance_commodity(alice, store, 0, \"good\"), 0).\n",
    "obs(agent_account_balance_commodity(bob, register, 0, \"EUR\"), 0).\n",
    "obs(agent_account_balance_commodity(bob, store, 1, \"good\"), 0).\n",
    "\n",
    "\n",
    "obs(agent_account_balance_commodity(alice, commitments, 0, Obligation), 0) :-\n",
    "  Payment = payer_payee_amount_commodity(alice, bob, 100, \"EUR\"),\n",
    "  Obligation = debtor_creditor_action_start_end(alice, bob, Payment, 2, 8).\n",
    "\n",
    "obs(agent_account_balance_commodity(bob, demands, 0, Obligation), 0) :-\n",
    "  Payment = payer_payee_amount_commodity(alice, bob, 100, \"EUR\"),\n",
    "  Obligation = debtor_creditor_action_start_end(alice, bob, Payment, 2, 8).\n",
    "\n",
    "obs(agent_account_balance_commodity(bob, commitments, 0, Obligation), 0) :-\n",
    "  Payment = payer_payee_amount_commodity(bob, alice, 1, \"good\"),\n",
    "  Obligation = debtor_creditor_action_start_end(bob, alice, Payment, 2, 8).\n",
    "\n",
    "obs(agent_account_balance_commodity(alice, demands, 0, Obligation), 0) :-\n",
    "  Payment = payer_payee_amount_commodity(bob, alice, 1, \"good\"),\n",
    "  Obligation = debtor_creditor_action_start_end(bob, alice, Payment, 2, 8).\n",
    "\n",
    "\"\"\"\n",
    "solve(obs);"
   ],
   "metadata": {
    "collapsed": false,
    "pycharm": {
     "name": "#%%\n"
    }
   }
  },
  {
   "cell_type": "code",
   "execution_count": 98,
   "outputs": [
    {
     "name": "stdout",
     "output_type": "stream",
     "text": [
      "Answer  1: { occ(contract_agreement,1) occ(payer_payee_amount_commodity(alice,bob,100,\"EUR\"),3) }.\n",
      "SAT 1 \n"
     ]
    }
   ],
   "source": [
    "occs = \"\"\"\n",
    "\n",
    "occ(contract_agreement, 1).\n",
    "occ(payer_payee_amount_commodity(alice, bob, 100, \"EUR\"), 3).\n",
    "%occ(payer_payee_amount_commodity(bob, alice, 1, \"good\"), 6).\n",
    "\n",
    "\"\"\"\n",
    "solve(occs);"
   ],
   "metadata": {
    "collapsed": false,
    "pycharm": {
     "name": "#%%\n"
    }
   }
  },
  {
   "cell_type": "code",
   "execution_count": 99,
   "outputs": [
    {
     "name": "stdout",
     "output_type": "stream",
     "text": [
      "Answer  1: {  }.\n",
      "SAT 1 \n"
     ]
    }
   ],
   "source": [
    "contract_rules = \"\"\"\n",
    "\n",
    "occ(Obligation, T) :-\n",
    "  Payment = payer_payee_amount_commodity(alice, bob, 100, \"EUR\"),\n",
    "  Obligation = debtor_creditor_action_start_end(alice, bob, Payment, T+1, T+7),\n",
    "  occ(contract_agreement, T).\n",
    "\n",
    "occ(Obligation, T) :-\n",
    "  Payment = payer_payee_amount_commodity(bob, alice, 1, \"good\"),\n",
    "  Obligation = debtor_creditor_action_start_end(bob, alice, Payment, T+1, T+7),\n",
    "  occ(contract_agreement, T).\n",
    "\n",
    "\"\"\"\n",
    "solve(contract_rules);"
   ],
   "metadata": {
    "collapsed": false,
    "pycharm": {
     "name": "#%%\n"
    }
   }
  },
  {
   "cell_type": "code",
   "execution_count": 100,
   "outputs": [
    {
     "name": "stdout",
     "output_type": "stream",
     "text": [
      "Answer  1: {  }.\n",
      "SAT 1 \n"
     ]
    }
   ],
   "source": [
    "obligation_rules = \"\"\"\n",
    "\n",
    "occ(credit(Debtor, commitments, 1, Obligation), T) :-\n",
    "  Obligation = debtor_creditor_action_start_end(Debtor, Creditor, Action, Start, End),\n",
    "  occ(Obligation, T).\n",
    "\n",
    "occ(debit(Creditor, demands, 1, Obligation), T) :-\n",
    "  Obligation = debtor_creditor_action_start_end(Debtor, Creditor, Action, Start, End),\n",
    "  occ(Obligation, T).\n",
    "\n",
    "\"\"\"\n",
    "solve(obligation_rules);"
   ],
   "metadata": {
    "collapsed": false,
    "pycharm": {
     "name": "#%%\n"
    }
   }
  },
  {
   "cell_type": "code",
   "execution_count": 101,
   "outputs": [
    {
     "name": "stdout",
     "output_type": "stream",
     "text": [
      "Answer  1: {  }.\n",
      "SAT 1 \n"
     ]
    },
    {
     "name": "stderr",
     "output_type": "stream",
     "text": [
      "<block>:5:5-19: info: atom does not occur in any rule head:\n",
      "  action(Action)\n",
      "\n",
      "<block>:6:5-80: info: atom does not occur in any rule head:\n",
      "  obs(agent_account_balance_commodity(Debtor,commitments,C,Obligation),T)\n",
      "\n",
      "<block>:9:5-12: info: atom does not occur in any rule head:\n",
      "  time(T)\n",
      "\n",
      "<block>:9:14-25: info: atom does not occur in any rule head:\n",
      "  time(Start)\n",
      "\n",
      "<block>:9:27-36: info: atom does not occur in any rule head:\n",
      "  time(End)\n",
      "\n",
      "<block>:10:5-18: info: atom does not occur in any rule head:\n",
      "  agent(Debtor)\n",
      "\n",
      "<block>:10:20-35: info: atom does not occur in any rule head:\n",
      "  agent(Creditor)\n",
      "\n",
      "<block>:14:5-19: info: atom does not occur in any rule head:\n",
      "  action(Action)\n",
      "\n",
      "<block>:15:5-80: info: atom does not occur in any rule head:\n",
      "  obs(agent_account_balance_commodity(Debtor,commitments,C,Obligation),T)\n",
      "\n",
      "<block>:18:5-12: info: atom does not occur in any rule head:\n",
      "  time(T)\n",
      "\n",
      "<block>:18:14-25: info: atom does not occur in any rule head:\n",
      "  time(Start)\n",
      "\n",
      "<block>:18:27-36: info: atom does not occur in any rule head:\n",
      "  time(End)\n",
      "\n",
      "<block>:19:5-18: info: atom does not occur in any rule head:\n",
      "  agent(Debtor)\n",
      "\n",
      "<block>:19:20-35: info: atom does not occur in any rule head:\n",
      "  agent(Creditor)\n",
      "\n"
     ]
    }
   ],
   "source": [
    "\n",
    "obligation_fulfilment_rules = \"\"\"\n",
    "\n",
    "occ(debit(Debtor, commitments, 1, Obligation), T) :-\n",
    "    occ(Action, T),\n",
    "    action(Action),\n",
    "    obs(agent_account_balance_commodity(Debtor, commitments, C, Obligation), T),\n",
    "    C >= 1,\n",
    "    Obligation = debtor_creditor_action_start_end(Debtor, Creditor, Action, Start, End),\n",
    "    time(T), time(Start), time(End), Start <= T, T <= End,\n",
    "    agent(Debtor), agent(Creditor).\n",
    "\n",
    "occ(credit(Creditor, demands, 1, Obligation), T) :-\n",
    "    occ(Action, T),\n",
    "    action(Action),\n",
    "    obs(agent_account_balance_commodity(Debtor, commitments, C, Obligation), T),\n",
    "    C >= 1,\n",
    "    Obligation = debtor_creditor_action_start_end(Debtor, Creditor, Action, Start, End),\n",
    "    time(T), time(Start), time(End), Start <= T, T <= End,\n",
    "    agent(Debtor), agent(Creditor).\n",
    "\n",
    "\n",
    "\"\"\"\n",
    "solve(obligation_fulfilment_rules);"
   ],
   "metadata": {
    "collapsed": false,
    "pycharm": {
     "name": "#%%\n"
    }
   }
  },
  {
   "cell_type": "code",
   "execution_count": 102,
   "outputs": [
    {
     "name": "stdout",
     "output_type": "stream",
     "text": [
      "Answer  1: {  }.\n",
      "SAT 1 \n"
     ]
    },
    {
     "name": "stderr",
     "output_type": "stream",
     "text": [
      "<block>:4:3-16: info: atom does not occur in any rule head:\n",
      "  agent(Debtor)\n",
      "\n",
      "<block>:4:18-33: info: atom does not occur in any rule head:\n",
      "  agent(Creditor)\n",
      "\n",
      "<block>:5:3-14: info: atom does not occur in any rule head:\n",
      "  time(Start)\n",
      "\n",
      "<block>:5:16-25: info: atom does not occur in any rule head:\n",
      "  time(End)\n",
      "\n",
      "<block>:5:27-34: info: atom does not occur in any rule head:\n",
      "  time(T)\n",
      "\n",
      "<block>:7:3-17: info: atom does not occur in any rule head:\n",
      "  action(Action)\n",
      "\n",
      "<block>:9:3-23: info: atom does not occur in any rule head:\n",
      "  commodity(Commodity)\n",
      "\n",
      "<block>:10:3-17: info: atom does not occur in any rule head:\n",
      "  amount(Amount)\n",
      "\n",
      "<block>:14:3-16: info: atom does not occur in any rule head:\n",
      "  agent(Debtor)\n",
      "\n",
      "<block>:14:18-33: info: atom does not occur in any rule head:\n",
      "  agent(Creditor)\n",
      "\n",
      "<block>:15:3-14: info: atom does not occur in any rule head:\n",
      "  time(Start)\n",
      "\n",
      "<block>:15:16-25: info: atom does not occur in any rule head:\n",
      "  time(End)\n",
      "\n",
      "<block>:15:27-34: info: atom does not occur in any rule head:\n",
      "  time(T)\n",
      "\n",
      "<block>:17:3-17: info: atom does not occur in any rule head:\n",
      "  action(Action)\n",
      "\n",
      "<block>:19:3-23: info: atom does not occur in any rule head:\n",
      "  commodity(Commodity)\n",
      "\n",
      "<block>:20:3-17: info: atom does not occur in any rule head:\n",
      "  amount(Amount)\n",
      "\n"
     ]
    }
   ],
   "source": [
    "obligation_fulfilment_rules_simpler = \"\"\"\n",
    "\n",
    "occ(debit(Debtor, commitments, 1, Obligation), T) :-\n",
    "  agent(Debtor), agent(Creditor),\n",
    "  time(Start), time(End), time(T), Start <= T, T <= End,\n",
    "  Obligation = debtor_creditor_action_start_end(Debtor,Creditor,Action,Start,End),\n",
    "  action(Action),\n",
    "  Action = payer_payee_amount_commodity(Debtor,Creditor,Amount,Commodity),\n",
    "  commodity(Commodity),\n",
    "  amount(Amount),\n",
    "  occ(Action, T).\n",
    "\n",
    "occ(credit(Creditor, demands, 1, Obligation), T) :-\n",
    "  agent(Debtor), agent(Creditor),\n",
    "  time(Start), time(End), time(T), Start <= T, T <= End,\n",
    "  Obligation = debtor_creditor_action_start_end(Debtor,Creditor,Action,Start,End),\n",
    "  action(Action),\n",
    "  Action = payer_payee_amount_commodity(Debtor,Creditor,Amount,Commodity),\n",
    "  commodity(Commodity),\n",
    "  amount(Amount),\n",
    "  occ(Action, T).\n",
    "\n",
    "\"\"\"\n",
    "solve(obligation_fulfilment_rules_simpler);"
   ],
   "metadata": {
    "collapsed": false,
    "pycharm": {
     "name": "#%%\n"
    }
   }
  },
  {
   "cell_type": "code",
   "execution_count": 103,
   "outputs": [
    {
     "name": "stdout",
     "output_type": "stream",
     "text": [
      "Answer  1: {  }.\n",
      "SAT 1 \n"
     ]
    },
    {
     "name": "stderr",
     "output_type": "stream",
     "text": [
      "<block>:7:3-79: info: atom does not occur in any rule head:\n",
      "  obs(agent_account_balance_commodity(Payer,register,RAmount,Commodity),T)\n",
      "\n",
      "<block>:13:3-76: info: atom does not occur in any rule head:\n",
      "  obs(agent_account_balance_commodity(Payer,store,RAmount,Commodity),T)\n",
      "\n",
      "<block>:19:3-79: info: atom does not occur in any rule head:\n",
      "  obs(agent_account_balance_commodity(Payer,register,RAmount,Commodity),T)\n",
      "\n",
      "<block>:25:3-76: info: atom does not occur in any rule head:\n",
      "  obs(agent_account_balance_commodity(Payer,store,RAmount,Commodity),T)\n",
      "\n"
     ]
    }
   ],
   "source": [
    "\n",
    "payment_rules = \"\"\"\n",
    "\n",
    "occ(debit(Payee, register, Amount, Commodity), T) :-\n",
    "  occ(Payment, T),\n",
    "  Payment = payer_payee_amount_commodity(Payer, Payee, Amount, Commodity),\n",
    "  RAmount >= Amount,\n",
    "  obs(agent_account_balance_commodity(Payer, register, RAmount, Commodity), T).\n",
    "\n",
    "occ(debit(Payee, store, Amount, Commodity), T) :-\n",
    "  occ(Payment, T),\n",
    "  Payment = payer_payee_amount_commodity(Payer, Payee, Amount, Commodity),\n",
    "  RAmount >= Amount,\n",
    "  obs(agent_account_balance_commodity(Payer, store, RAmount, Commodity), T).\n",
    "\n",
    "occ(credit(Payer, register, Amount, Commodity), T) :-\n",
    "  occ(Payment, T),\n",
    "  Payment = payer_payee_amount_commodity(Payer, Payee, Amount, Commodity),\n",
    "  RAmount >= Amount,\n",
    "  obs(agent_account_balance_commodity(Payer, register, RAmount, Commodity), T).\n",
    "\n",
    "occ(credit(Payer, store, Amount, Commodity), T) :-\n",
    "  occ(Payment, T),\n",
    "  Payment = payer_payee_amount_commodity(Payer, Payee, Amount, Commodity),\n",
    "  RAmount >= Amount,\n",
    "  obs(agent_account_balance_commodity(Payer, store, RAmount, Commodity), T).\n",
    "\n",
    "\"\"\"\n",
    "solve(payment_rules);"
   ],
   "metadata": {
    "collapsed": false,
    "pycharm": {
     "name": "#%%\n"
    }
   }
  },
  {
   "cell_type": "code",
   "execution_count": 104,
   "outputs": [
    {
     "name": "stdout",
     "output_type": "stream",
     "text": [
      "Answer  1: { account_type(commitments,passive) account_type(demands,active) account_type(register,active) account_type(store,active) }.\n",
      "SAT 1 \n"
     ]
    }
   ],
   "source": [
    "\n",
    "accounts = \"\"\"\n",
    "\n",
    "account_type(demands, active).\n",
    "account_type(register, active).\n",
    "account_type(store, active).\n",
    "account_type(commitments, passive).\n",
    "\n",
    "\"\"\"\n",
    "solve(accounts);"
   ],
   "metadata": {
    "collapsed": false,
    "pycharm": {
     "name": "#%%\n"
    }
   }
  },
  {
   "cell_type": "code",
   "execution_count": 105,
   "outputs": [
    {
     "name": "stdout",
     "output_type": "stream",
     "text": [
      "Answer  1: {  }.\n",
      "SAT 1 \n"
     ]
    },
    {
     "name": "stderr",
     "output_type": "stream",
     "text": [
      "<block>:5:3-10: info: atom does not occur in any rule head:\n",
      "  time(T)\n",
      "\n",
      "<block>:6:7-50: info: atom does not occur in any rule head:\n",
      "  occ(debit(#X0,#X1,#P2,#X3),#X4)\n",
      "\n",
      "<block>:6:56-100: info: atom does not occur in any rule head:\n",
      "  occ(credit(#X0,#X1,#P2,#X3),#X4)\n",
      "\n"
     ]
    }
   ],
   "source": [
    "\n",
    "balance_inertia_rules = \"\"\"\n",
    "\n",
    "obs(agent_account_balance_commodity(Agent, Account, Balance, Commodity), T+1) :-\n",
    "  obs(agent_account_balance_commodity(Agent, Account, Balance, Commodity), T),\n",
    "  time(T),\n",
    "  not occ(debit(Agent, Account, _, Commodity), T), not occ(credit(Agent, Account, _, Commodity), T).\n",
    "\n",
    "\"\"\"\n",
    "solve(balance_inertia_rules);"
   ],
   "metadata": {
    "collapsed": false,
    "pycharm": {
     "name": "#%%\n"
    }
   }
  },
  {
   "cell_type": "code",
   "execution_count": 106,
   "outputs": [
    {
     "name": "stdout",
     "output_type": "stream",
     "text": [
      "Answer  1: {  }.\n",
      "SAT 1 \n"
     ]
    },
    {
     "name": "stderr",
     "output_type": "stream",
     "text": [
      "<block>:8:3-51: info: atom does not occur in any rule head:\n",
      "  occ(debit(Agent,Account,Amount,Commodity),T)\n",
      "\n",
      "<block>:9:3-10: info: atom does not occur in any rule head:\n",
      "  time(T)\n",
      "\n",
      "<block>:10:3-32: info: atom does not occur in any rule head:\n",
      "  account_type(Account,active)\n",
      "\n",
      "<block>:15:3-52: info: atom does not occur in any rule head:\n",
      "  occ(credit(Agent,Account,Amount,Commodity),T)\n",
      "\n",
      "<block>:16:3-10: info: atom does not occur in any rule head:\n",
      "  time(T)\n",
      "\n",
      "<block>:17:3-32: info: atom does not occur in any rule head:\n",
      "  account_type(Account,active)\n",
      "\n",
      "<block>:24:3-51: info: atom does not occur in any rule head:\n",
      "  occ(debit(Agent,Account,Amount,Commodity),T)\n",
      "\n",
      "<block>:25:3-10: info: atom does not occur in any rule head:\n",
      "  time(T)\n",
      "\n",
      "<block>:26:3-33: info: atom does not occur in any rule head:\n",
      "  account_type(Account,passive)\n",
      "\n",
      "<block>:31:3-52: info: atom does not occur in any rule head:\n",
      "  occ(credit(Agent,Account,Amount,Commodity),T)\n",
      "\n",
      "<block>:32:3-10: info: atom does not occur in any rule head:\n",
      "  time(T)\n",
      "\n",
      "<block>:33:3-33: info: atom does not occur in any rule head:\n",
      "  account_type(Account,passive)\n",
      "\n"
     ]
    }
   ],
   "source": [
    "\n",
    "transaction_rules = \"\"\"\n",
    "\n",
    "%%% ACTIVE\n",
    "\n",
    "% DEBIT\n",
    "obs(agent_account_balance_commodity(Agent, Account, Balance + Amount, Commodity), T+1) :-\n",
    "  obs(agent_account_balance_commodity(Agent, Account, Balance, Commodity), T),\n",
    "  occ(debit(Agent, Account, Amount, Commodity), T),\n",
    "  time(T),\n",
    "  account_type(Account, active).\n",
    "\n",
    "% CREDIT\n",
    "obs(agent_account_balance_commodity(Agent, Account, Balance - Amount, Commodity), T+1) :-\n",
    "  obs(agent_account_balance_commodity(Agent, Account, Balance, Commodity), T),\n",
    "  occ(credit(Agent, Account, Amount, Commodity), T),\n",
    "  time(T),\n",
    "  account_type(Account, active).\n",
    "\n",
    "%%% PASSIVE\n",
    "\n",
    "% DEBIT\n",
    "obs(agent_account_balance_commodity(Agent, Account, Balance - Amount, Commodity), T+1) :-\n",
    "  obs(agent_account_balance_commodity(Agent, Account, Balance, Commodity), T),\n",
    "  occ(debit(Agent, Account, Amount, Commodity), T),\n",
    "  time(T),\n",
    "  account_type(Account, passive).\n",
    "\n",
    "% CREDIT\n",
    "obs(agent_account_balance_commodity(Agent, Account, Balance + Amount, Commodity), T+1) :-\n",
    "  obs(agent_account_balance_commodity(Agent, Account, Balance, Commodity), T),\n",
    "  occ(credit(Agent, Account, Amount, Commodity), T),\n",
    "  time(T),\n",
    "  account_type(Account, passive).\n",
    "\n",
    "\"\"\"\n",
    "solve(transaction_rules);"
   ],
   "metadata": {
    "collapsed": false,
    "pycharm": {
     "name": "#%%\n"
    }
   }
  },
  {
   "cell_type": "code",
   "execution_count": 107,
   "outputs": [
    {
     "name": "stdout",
     "output_type": "stream",
     "text": [
      "Answer  1: {  }.\n",
      "SAT 1 \n"
     ]
    },
    {
     "name": "stderr",
     "output_type": "stream",
     "text": [
      "<block>:3:22-86: info: atom does not occur in any rule head:\n",
      "  obs(agent_account_amount_commodity(#X0,commitments,#X1,#P2),#X3)\n",
      "\n",
      "<block>:3:88-97: info: atom does not occur in any rule head:\n",
      "  time((T+-1))\n",
      "\n",
      "<block>:3:103-110: info: atom does not occur in any rule head:\n",
      "  time(T)\n",
      "\n",
      "<block>:4:22-82: info: atom does not occur in any rule head:\n",
      "  obs(agent_account_amount_commodity(#X0,demands,#X1,#P2),#X3)\n",
      "\n",
      "<block>:4:84-93: info: atom does not occur in any rule head:\n",
      "  time((T+-1))\n",
      "\n",
      "<block>:4:99-106: info: atom does not occur in any rule head:\n",
      "  time(T)\n",
      "\n"
     ]
    }
   ],
   "source": [
    "# some stupid error?\n",
    "violation_rules = \"\"\"\n",
    "\n",
    "obs(violation, T) :- obs(agent_account_amount_commodity(Agent, commitments, N, _), T), time(T-1), not time(T), N > 0.\n",
    "obs(violation, T) :- obs(agent_account_amount_commodity(Agent, demands, N, _), T), time(T-1), not time(T), N > 0.\n",
    "\n",
    "\"\"\"\n",
    "\n",
    "solve(violation_rules);"
   ],
   "metadata": {
    "collapsed": false,
    "pycharm": {
     "name": "#%%\n"
    }
   }
  },
  {
   "cell_type": "code",
   "execution_count": 108,
   "outputs": [],
   "source": [
    "\n",
    "show = \"\"\"\n",
    "%#show obs(agent_account_balance_commodity(alice, account, 0;1;100, Commodity), T) : time(T), commodity(Commodity).\n",
    "#show obs/2.\n",
    "#show occ/2.\n",
    "\"\"\""
   ],
   "metadata": {
    "collapsed": false,
    "pycharm": {
     "name": "#%%\n"
    }
   }
  },
  {
   "cell_type": "code",
   "execution_count": 109,
   "id": "46336cbd-06f5-4742-80a2-60d424a8297a",
   "metadata": {},
   "outputs": [
    {
     "name": "stdout",
     "output_type": "stream",
     "text": [
      "Answer  1: {\n",
      "obs(agent_account_balance_commodity(alice,commitments,0,debtor_creditor_action_start_end(alice,bob,payer_payee_amount_commodity(alice,bob,100,\"EUR\"),2,8)),0)\n",
      "obs(agent_account_balance_commodity(alice,commitments,0,debtor_creditor_action_start_end(alice,bob,payer_payee_amount_commodity(alice,bob,100,\"EUR\"),2,8)),1)\n",
      "obs(agent_account_balance_commodity(alice,commitments,0,debtor_creditor_action_start_end(alice,bob,payer_payee_amount_commodity(alice,bob,100,\"EUR\"),2,8)),4)\n",
      "obs(agent_account_balance_commodity(alice,commitments,0,debtor_creditor_action_start_end(alice,bob,payer_payee_amount_commodity(alice,bob,100,\"EUR\"),2,8)),5)\n",
      "obs(agent_account_balance_commodity(alice,commitments,0,debtor_creditor_action_start_end(alice,bob,payer_payee_amount_commodity(alice,bob,100,\"EUR\"),2,8)),6)\n",
      "obs(agent_account_balance_commodity(alice,commitments,0,debtor_creditor_action_start_end(alice,bob,payer_payee_amount_commodity(alice,bob,100,\"EUR\"),2,8)),7)\n",
      "obs(agent_account_balance_commodity(alice,commitments,0,debtor_creditor_action_start_end(alice,bob,payer_payee_amount_commodity(alice,bob,100,\"EUR\"),2,8)),8)\n",
      "obs(agent_account_balance_commodity(alice,commitments,0,debtor_creditor_action_start_end(alice,bob,payer_payee_amount_commodity(alice,bob,100,\"EUR\"),2,8)),9)\n",
      "obs(agent_account_balance_commodity(alice,commitments,1,debtor_creditor_action_start_end(alice,bob,payer_payee_amount_commodity(alice,bob,100,\"EUR\"),2,8)),2)\n",
      "obs(agent_account_balance_commodity(alice,commitments,1,debtor_creditor_action_start_end(alice,bob,payer_payee_amount_commodity(alice,bob,100,\"EUR\"),2,8)),3)\n",
      "obs(agent_account_balance_commodity(alice,demands,0,debtor_creditor_action_start_end(bob,alice,payer_payee_amount_commodity(bob,alice,1,\"good\"),2,8)),0)\n",
      "obs(agent_account_balance_commodity(alice,demands,0,debtor_creditor_action_start_end(bob,alice,payer_payee_amount_commodity(bob,alice,1,\"good\"),2,8)),1)\n",
      "obs(agent_account_balance_commodity(alice,demands,1,debtor_creditor_action_start_end(bob,alice,payer_payee_amount_commodity(bob,alice,1,\"good\"),2,8)),2)\n",
      "obs(agent_account_balance_commodity(alice,demands,1,debtor_creditor_action_start_end(bob,alice,payer_payee_amount_commodity(bob,alice,1,\"good\"),2,8)),3)\n",
      "obs(agent_account_balance_commodity(alice,demands,1,debtor_creditor_action_start_end(bob,alice,payer_payee_amount_commodity(bob,alice,1,\"good\"),2,8)),4)\n",
      "obs(agent_account_balance_commodity(alice,demands,1,debtor_creditor_action_start_end(bob,alice,payer_payee_amount_commodity(bob,alice,1,\"good\"),2,8)),5)\n",
      "obs(agent_account_balance_commodity(alice,demands,1,debtor_creditor_action_start_end(bob,alice,payer_payee_amount_commodity(bob,alice,1,\"good\"),2,8)),6)\n",
      "obs(agent_account_balance_commodity(alice,demands,1,debtor_creditor_action_start_end(bob,alice,payer_payee_amount_commodity(bob,alice,1,\"good\"),2,8)),7)\n",
      "obs(agent_account_balance_commodity(alice,demands,1,debtor_creditor_action_start_end(bob,alice,payer_payee_amount_commodity(bob,alice,1,\"good\"),2,8)),8)\n",
      "obs(agent_account_balance_commodity(alice,demands,1,debtor_creditor_action_start_end(bob,alice,payer_payee_amount_commodity(bob,alice,1,\"good\"),2,8)),9)\n",
      "obs(agent_account_balance_commodity(alice,register,0,\"EUR\"),4)\n",
      "obs(agent_account_balance_commodity(alice,register,0,\"EUR\"),5)\n",
      "obs(agent_account_balance_commodity(alice,register,0,\"EUR\"),6)\n",
      "obs(agent_account_balance_commodity(alice,register,0,\"EUR\"),7)\n",
      "obs(agent_account_balance_commodity(alice,register,0,\"EUR\"),8)\n",
      "obs(agent_account_balance_commodity(alice,register,0,\"EUR\"),9)\n",
      "obs(agent_account_balance_commodity(alice,register,100,\"EUR\"),0)\n",
      "obs(agent_account_balance_commodity(alice,register,100,\"EUR\"),1)\n",
      "obs(agent_account_balance_commodity(alice,register,100,\"EUR\"),2)\n",
      "obs(agent_account_balance_commodity(alice,register,100,\"EUR\"),3)\n",
      "obs(agent_account_balance_commodity(alice,store,0,\"good\"),0)\n",
      "obs(agent_account_balance_commodity(alice,store,0,\"good\"),1)\n",
      "obs(agent_account_balance_commodity(alice,store,0,\"good\"),2)\n",
      "obs(agent_account_balance_commodity(alice,store,0,\"good\"),3)\n",
      "obs(agent_account_balance_commodity(alice,store,0,\"good\"),4)\n",
      "obs(agent_account_balance_commodity(alice,store,0,\"good\"),5)\n",
      "obs(agent_account_balance_commodity(alice,store,0,\"good\"),6)\n",
      "obs(agent_account_balance_commodity(alice,store,0,\"good\"),7)\n",
      "obs(agent_account_balance_commodity(alice,store,0,\"good\"),8)\n",
      "obs(agent_account_balance_commodity(alice,store,0,\"good\"),9)\n",
      "obs(agent_account_balance_commodity(bob,commitments,0,debtor_creditor_action_start_end(bob,alice,payer_payee_amount_commodity(bob,alice,1,\"good\"),2,8)),0)\n",
      "obs(agent_account_balance_commodity(bob,commitments,0,debtor_creditor_action_start_end(bob,alice,payer_payee_amount_commodity(bob,alice,1,\"good\"),2,8)),1)\n",
      "obs(agent_account_balance_commodity(bob,commitments,1,debtor_creditor_action_start_end(bob,alice,payer_payee_amount_commodity(bob,alice,1,\"good\"),2,8)),2)\n",
      "obs(agent_account_balance_commodity(bob,commitments,1,debtor_creditor_action_start_end(bob,alice,payer_payee_amount_commodity(bob,alice,1,\"good\"),2,8)),3)\n",
      "obs(agent_account_balance_commodity(bob,commitments,1,debtor_creditor_action_start_end(bob,alice,payer_payee_amount_commodity(bob,alice,1,\"good\"),2,8)),4)\n",
      "obs(agent_account_balance_commodity(bob,commitments,1,debtor_creditor_action_start_end(bob,alice,payer_payee_amount_commodity(bob,alice,1,\"good\"),2,8)),5)\n",
      "obs(agent_account_balance_commodity(bob,commitments,1,debtor_creditor_action_start_end(bob,alice,payer_payee_amount_commodity(bob,alice,1,\"good\"),2,8)),6)\n",
      "obs(agent_account_balance_commodity(bob,commitments,1,debtor_creditor_action_start_end(bob,alice,payer_payee_amount_commodity(bob,alice,1,\"good\"),2,8)),7)\n",
      "obs(agent_account_balance_commodity(bob,commitments,1,debtor_creditor_action_start_end(bob,alice,payer_payee_amount_commodity(bob,alice,1,\"good\"),2,8)),8)\n",
      "obs(agent_account_balance_commodity(bob,commitments,1,debtor_creditor_action_start_end(bob,alice,payer_payee_amount_commodity(bob,alice,1,\"good\"),2,8)),9)\n",
      "obs(agent_account_balance_commodity(bob,demands,0,debtor_creditor_action_start_end(alice,bob,payer_payee_amount_commodity(alice,bob,100,\"EUR\"),2,8)),0)\n",
      "obs(agent_account_balance_commodity(bob,demands,0,debtor_creditor_action_start_end(alice,bob,payer_payee_amount_commodity(alice,bob,100,\"EUR\"),2,8)),1)\n",
      "obs(agent_account_balance_commodity(bob,demands,0,debtor_creditor_action_start_end(alice,bob,payer_payee_amount_commodity(alice,bob,100,\"EUR\"),2,8)),4)\n",
      "obs(agent_account_balance_commodity(bob,demands,0,debtor_creditor_action_start_end(alice,bob,payer_payee_amount_commodity(alice,bob,100,\"EUR\"),2,8)),5)\n",
      "obs(agent_account_balance_commodity(bob,demands,0,debtor_creditor_action_start_end(alice,bob,payer_payee_amount_commodity(alice,bob,100,\"EUR\"),2,8)),6)\n",
      "obs(agent_account_balance_commodity(bob,demands,0,debtor_creditor_action_start_end(alice,bob,payer_payee_amount_commodity(alice,bob,100,\"EUR\"),2,8)),7)\n",
      "obs(agent_account_balance_commodity(bob,demands,0,debtor_creditor_action_start_end(alice,bob,payer_payee_amount_commodity(alice,bob,100,\"EUR\"),2,8)),8)\n",
      "obs(agent_account_balance_commodity(bob,demands,0,debtor_creditor_action_start_end(alice,bob,payer_payee_amount_commodity(alice,bob,100,\"EUR\"),2,8)),9)\n",
      "obs(agent_account_balance_commodity(bob,demands,1,debtor_creditor_action_start_end(alice,bob,payer_payee_amount_commodity(alice,bob,100,\"EUR\"),2,8)),2)\n",
      "obs(agent_account_balance_commodity(bob,demands,1,debtor_creditor_action_start_end(alice,bob,payer_payee_amount_commodity(alice,bob,100,\"EUR\"),2,8)),3)\n",
      "obs(agent_account_balance_commodity(bob,register,0,\"EUR\"),0)\n",
      "obs(agent_account_balance_commodity(bob,register,0,\"EUR\"),1)\n",
      "obs(agent_account_balance_commodity(bob,register,0,\"EUR\"),2)\n",
      "obs(agent_account_balance_commodity(bob,register,0,\"EUR\"),3)\n",
      "obs(agent_account_balance_commodity(bob,register,100,\"EUR\"),4)\n",
      "obs(agent_account_balance_commodity(bob,register,100,\"EUR\"),5)\n",
      "obs(agent_account_balance_commodity(bob,register,100,\"EUR\"),6)\n",
      "obs(agent_account_balance_commodity(bob,register,100,\"EUR\"),7)\n",
      "obs(agent_account_balance_commodity(bob,register,100,\"EUR\"),8)\n",
      "obs(agent_account_balance_commodity(bob,register,100,\"EUR\"),9)\n",
      "obs(agent_account_balance_commodity(bob,store,1,\"good\"),0)\n",
      "obs(agent_account_balance_commodity(bob,store,1,\"good\"),1)\n",
      "obs(agent_account_balance_commodity(bob,store,1,\"good\"),2)\n",
      "obs(agent_account_balance_commodity(bob,store,1,\"good\"),3)\n",
      "obs(agent_account_balance_commodity(bob,store,1,\"good\"),4)\n",
      "obs(agent_account_balance_commodity(bob,store,1,\"good\"),5)\n",
      "obs(agent_account_balance_commodity(bob,store,1,\"good\"),6)\n",
      "obs(agent_account_balance_commodity(bob,store,1,\"good\"),7)\n",
      "obs(agent_account_balance_commodity(bob,store,1,\"good\"),8)\n",
      "obs(agent_account_balance_commodity(bob,store,1,\"good\"),9)\n",
      "occ(contract_agreement,1)\n",
      "occ(credit(alice,commitments,1,debtor_creditor_action_start_end(alice,bob,payer_payee_amount_commodity(alice,bob,100,\"EUR\"),2,8)),1)\n",
      "occ(credit(alice,register,100,\"EUR\"),3)\n",
      "occ(credit(bob,commitments,1,debtor_creditor_action_start_end(bob,alice,payer_payee_amount_commodity(bob,alice,1,\"good\"),2,8)),1)\n",
      "occ(credit(bob,demands,1,debtor_creditor_action_start_end(alice,bob,payer_payee_amount_commodity(alice,bob,100,\"EUR\"),0,3)),3)\n",
      "occ(credit(bob,demands,1,debtor_creditor_action_start_end(alice,bob,payer_payee_amount_commodity(alice,bob,100,\"EUR\"),0,4)),3)\n",
      "occ(credit(bob,demands,1,debtor_creditor_action_start_end(alice,bob,payer_payee_amount_commodity(alice,bob,100,\"EUR\"),0,5)),3)\n",
      "occ(credit(bob,demands,1,debtor_creditor_action_start_end(alice,bob,payer_payee_amount_commodity(alice,bob,100,\"EUR\"),0,6)),3)\n",
      "occ(credit(bob,demands,1,debtor_creditor_action_start_end(alice,bob,payer_payee_amount_commodity(alice,bob,100,\"EUR\"),0,7)),3)\n",
      "occ(credit(bob,demands,1,debtor_creditor_action_start_end(alice,bob,payer_payee_amount_commodity(alice,bob,100,\"EUR\"),0,8)),3)\n",
      "occ(credit(bob,demands,1,debtor_creditor_action_start_end(alice,bob,payer_payee_amount_commodity(alice,bob,100,\"EUR\"),1,3)),3)\n",
      "occ(credit(bob,demands,1,debtor_creditor_action_start_end(alice,bob,payer_payee_amount_commodity(alice,bob,100,\"EUR\"),1,4)),3)\n",
      "occ(credit(bob,demands,1,debtor_creditor_action_start_end(alice,bob,payer_payee_amount_commodity(alice,bob,100,\"EUR\"),1,5)),3)\n",
      "occ(credit(bob,demands,1,debtor_creditor_action_start_end(alice,bob,payer_payee_amount_commodity(alice,bob,100,\"EUR\"),1,6)),3)\n",
      "occ(credit(bob,demands,1,debtor_creditor_action_start_end(alice,bob,payer_payee_amount_commodity(alice,bob,100,\"EUR\"),1,7)),3)\n",
      "occ(credit(bob,demands,1,debtor_creditor_action_start_end(alice,bob,payer_payee_amount_commodity(alice,bob,100,\"EUR\"),1,8)),3)\n",
      "occ(credit(bob,demands,1,debtor_creditor_action_start_end(alice,bob,payer_payee_amount_commodity(alice,bob,100,\"EUR\"),2,3)),3)\n",
      "occ(credit(bob,demands,1,debtor_creditor_action_start_end(alice,bob,payer_payee_amount_commodity(alice,bob,100,\"EUR\"),2,4)),3)\n",
      "occ(credit(bob,demands,1,debtor_creditor_action_start_end(alice,bob,payer_payee_amount_commodity(alice,bob,100,\"EUR\"),2,5)),3)\n",
      "occ(credit(bob,demands,1,debtor_creditor_action_start_end(alice,bob,payer_payee_amount_commodity(alice,bob,100,\"EUR\"),2,6)),3)\n",
      "occ(credit(bob,demands,1,debtor_creditor_action_start_end(alice,bob,payer_payee_amount_commodity(alice,bob,100,\"EUR\"),2,7)),3)\n",
      "occ(credit(bob,demands,1,debtor_creditor_action_start_end(alice,bob,payer_payee_amount_commodity(alice,bob,100,\"EUR\"),2,8)),3)\n",
      "occ(credit(bob,demands,1,debtor_creditor_action_start_end(alice,bob,payer_payee_amount_commodity(alice,bob,100,\"EUR\"),3,3)),3)\n",
      "occ(credit(bob,demands,1,debtor_creditor_action_start_end(alice,bob,payer_payee_amount_commodity(alice,bob,100,\"EUR\"),3,4)),3)\n",
      "occ(credit(bob,demands,1,debtor_creditor_action_start_end(alice,bob,payer_payee_amount_commodity(alice,bob,100,\"EUR\"),3,5)),3)\n",
      "occ(credit(bob,demands,1,debtor_creditor_action_start_end(alice,bob,payer_payee_amount_commodity(alice,bob,100,\"EUR\"),3,6)),3)\n",
      "occ(credit(bob,demands,1,debtor_creditor_action_start_end(alice,bob,payer_payee_amount_commodity(alice,bob,100,\"EUR\"),3,7)),3)\n",
      "occ(credit(bob,demands,1,debtor_creditor_action_start_end(alice,bob,payer_payee_amount_commodity(alice,bob,100,\"EUR\"),3,8)),3)\n",
      "occ(debit(alice,commitments,1,debtor_creditor_action_start_end(alice,bob,payer_payee_amount_commodity(alice,bob,100,\"EUR\"),0,3)),3)\n",
      "occ(debit(alice,commitments,1,debtor_creditor_action_start_end(alice,bob,payer_payee_amount_commodity(alice,bob,100,\"EUR\"),0,4)),3)\n",
      "occ(debit(alice,commitments,1,debtor_creditor_action_start_end(alice,bob,payer_payee_amount_commodity(alice,bob,100,\"EUR\"),0,5)),3)\n",
      "occ(debit(alice,commitments,1,debtor_creditor_action_start_end(alice,bob,payer_payee_amount_commodity(alice,bob,100,\"EUR\"),0,6)),3)\n",
      "occ(debit(alice,commitments,1,debtor_creditor_action_start_end(alice,bob,payer_payee_amount_commodity(alice,bob,100,\"EUR\"),0,7)),3)\n",
      "occ(debit(alice,commitments,1,debtor_creditor_action_start_end(alice,bob,payer_payee_amount_commodity(alice,bob,100,\"EUR\"),0,8)),3)\n",
      "occ(debit(alice,commitments,1,debtor_creditor_action_start_end(alice,bob,payer_payee_amount_commodity(alice,bob,100,\"EUR\"),1,3)),3)\n",
      "occ(debit(alice,commitments,1,debtor_creditor_action_start_end(alice,bob,payer_payee_amount_commodity(alice,bob,100,\"EUR\"),1,4)),3)\n",
      "occ(debit(alice,commitments,1,debtor_creditor_action_start_end(alice,bob,payer_payee_amount_commodity(alice,bob,100,\"EUR\"),1,5)),3)\n",
      "occ(debit(alice,commitments,1,debtor_creditor_action_start_end(alice,bob,payer_payee_amount_commodity(alice,bob,100,\"EUR\"),1,6)),3)\n",
      "occ(debit(alice,commitments,1,debtor_creditor_action_start_end(alice,bob,payer_payee_amount_commodity(alice,bob,100,\"EUR\"),1,7)),3)\n",
      "occ(debit(alice,commitments,1,debtor_creditor_action_start_end(alice,bob,payer_payee_amount_commodity(alice,bob,100,\"EUR\"),1,8)),3)\n",
      "occ(debit(alice,commitments,1,debtor_creditor_action_start_end(alice,bob,payer_payee_amount_commodity(alice,bob,100,\"EUR\"),2,3)),3)\n",
      "occ(debit(alice,commitments,1,debtor_creditor_action_start_end(alice,bob,payer_payee_amount_commodity(alice,bob,100,\"EUR\"),2,4)),3)\n",
      "occ(debit(alice,commitments,1,debtor_creditor_action_start_end(alice,bob,payer_payee_amount_commodity(alice,bob,100,\"EUR\"),2,5)),3)\n",
      "occ(debit(alice,commitments,1,debtor_creditor_action_start_end(alice,bob,payer_payee_amount_commodity(alice,bob,100,\"EUR\"),2,6)),3)\n",
      "occ(debit(alice,commitments,1,debtor_creditor_action_start_end(alice,bob,payer_payee_amount_commodity(alice,bob,100,\"EUR\"),2,7)),3)\n",
      "occ(debit(alice,commitments,1,debtor_creditor_action_start_end(alice,bob,payer_payee_amount_commodity(alice,bob,100,\"EUR\"),2,8)),3)\n",
      "occ(debit(alice,commitments,1,debtor_creditor_action_start_end(alice,bob,payer_payee_amount_commodity(alice,bob,100,\"EUR\"),3,3)),3)\n",
      "occ(debit(alice,commitments,1,debtor_creditor_action_start_end(alice,bob,payer_payee_amount_commodity(alice,bob,100,\"EUR\"),3,4)),3)\n",
      "occ(debit(alice,commitments,1,debtor_creditor_action_start_end(alice,bob,payer_payee_amount_commodity(alice,bob,100,\"EUR\"),3,5)),3)\n",
      "occ(debit(alice,commitments,1,debtor_creditor_action_start_end(alice,bob,payer_payee_amount_commodity(alice,bob,100,\"EUR\"),3,6)),3)\n",
      "occ(debit(alice,commitments,1,debtor_creditor_action_start_end(alice,bob,payer_payee_amount_commodity(alice,bob,100,\"EUR\"),3,7)),3)\n",
      "occ(debit(alice,commitments,1,debtor_creditor_action_start_end(alice,bob,payer_payee_amount_commodity(alice,bob,100,\"EUR\"),3,8)),3)\n",
      "occ(debit(alice,demands,1,debtor_creditor_action_start_end(bob,alice,payer_payee_amount_commodity(bob,alice,1,\"good\"),2,8)),1)\n",
      "occ(debit(bob,demands,1,debtor_creditor_action_start_end(alice,bob,payer_payee_amount_commodity(alice,bob,100,\"EUR\"),2,8)),1)\n",
      "occ(debit(bob,register,100,\"EUR\"),3)\n",
      "occ(payer_payee_amount_commodity(alice,bob,100,\"EUR\"),3)\n",
      "occ(debtor_creditor_action_start_end(alice,bob,payer_payee_amount_commodity(alice,bob,100,\"EUR\"),2,8),1)\n",
      "occ(debtor_creditor_action_start_end(bob,alice,payer_payee_amount_commodity(bob,alice,1,\"good\"),2,8),1)\n",
      "}.\n",
      "SAT 1 \n"
     ]
    }
   ],
   "source": [
    "solve([domain,\n",
    "       obs,\n",
    "       occs,\n",
    "       contract_rules,\n",
    "       obligation_rules,\n",
    "       #obligation_fulfilment_rules,\n",
    "       obligation_fulfilment_rules_simpler,\n",
    "       payment_rules,\n",
    "       accounts,\n",
    "       balance_inertia_rules,\n",
    "       transaction_rules,\n",
    "       violation_rules,\n",
    "       show,\n",
    "      ], sep='\\n');"
   ]
  },
  {
   "cell_type": "code",
   "execution_count": 109,
   "id": "770fea42-0332-47a8-baec-95dc99589946",
   "metadata": {},
   "outputs": [],
   "source": []
  }
 ],
 "metadata": {
  "kernelspec": {
   "display_name": "Python 3 (ipykernel)",
   "language": "python",
   "name": "python3"
  },
  "language_info": {
   "codemirror_mode": {
    "name": "ipython",
    "version": 3
   },
   "file_extension": ".py",
   "mimetype": "text/x-python",
   "name": "python",
   "nbconvert_exporter": "python",
   "pygments_lexer": "ipython3",
   "version": "3.10.2"
  }
 },
 "nbformat": 4,
 "nbformat_minor": 5
}