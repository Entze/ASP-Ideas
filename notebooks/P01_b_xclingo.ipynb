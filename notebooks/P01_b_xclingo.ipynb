{
 "cells": [
  {
   "cell_type": "markdown",
   "metadata": {},
   "source": [
    "# xclingo as explanation"
   ]
  },
  {
   "cell_type": "code",
   "execution_count": 1,
   "metadata": {
    "pycharm": {
     "name": "#%%\n"
    }
   },
   "outputs": [],
   "source": [
    "from typing import Sequence, Optional, Iterator\n",
    "\n",
    "import clingo"
   ]
  },
  {
   "cell_type": "code",
   "execution_count": 2,
   "metadata": {
    "pycharm": {
     "name": "#%%\n"
    }
   },
   "outputs": [],
   "source": [
    "def solve(programs,\n",
    "          ctl: Optional[clingo.Control] = None,\n",
    "          parts=(('base', ()),),\n",
    "          context=None,\n",
    "          report=False,\n",
    "          report_models=True,\n",
    "          report_result=True,\n",
    "          symbol_sep=' ',\n",
    "          model_sep='\\n'\n",
    "          ) -> Iterator[Sequence[clingo.Symbol]]:\n",
    "    if ctl is None:\n",
    "        ctl = clingo.Control()\n",
    "        ctl.configuration.solve.models = 0\n",
    "    ctl.add('base', [], '\\n'.join(programs))\n",
    "    ctl.ground(parts, context=context)\n",
    "    with ctl.solve(yield_=True) as solve_handle:\n",
    "        models = 0\n",
    "        for model in solve_handle:\n",
    "            symbols = sorted(model.symbols(shown=True))\n",
    "            if report and report_models:\n",
    "                print(\"Answer {}:\".format(model.number), end=' ')\n",
    "                print(\"{\",\n",
    "                      symbol_sep.join(map(str, symbols)), \"}\", sep=symbol_sep, end=model_sep)\n",
    "            models += 1\n",
    "            yield symbols\n",
    "        if report and report_result:\n",
    "            solve_result = solve_handle.get()\n",
    "            print(solve_result, end='')\n",
    "            if solve_result.satisfiable:\n",
    "                print(\" {}{}\".format(models, '' if solve_result.exhausted else '+'))\n",
    "            else:\n",
    "                print()"
   ]
  },
  {
   "cell_type": "markdown",
   "metadata": {},
   "source": [
    "There is a way to construct the primal normal form of the graph, using a reification on the logic program.\n",
    "\n",
    "Given rules of the form:\n",
    "\n",
    "\\begin{equation}\n",
    "h \\leftarrow b_1, b_2, \\ldots, b_n, \\text{not}~b_{n+1}, \\text{not}~b_{n+2}, \\ldots, \\text{not}~b_{m}.\n",
    "\\end{equation}\n",
    "\n",
    "Transform the rule:\n",
    "\n",
    "\\begin{aligned}\n",
    "fires(h, (b_1, b_2,\\ldots, b_n)) \\leftarrow b_1, b_2, \\ldots, b_n, \\text{not}~b_{n+1}, \\text{not}~b_{n+2}, \\ldots, \\text{not}~b_{m}.\\\\\n",
    "h \\leftarrow fires(h, (b_1, b_2,\\ldots, b_n)).\n",
    "\\end{aligned}\n",
    "\n",
    "Now the answer set not only describes what symbols are in the answer set, but also which rules fired.\n"
   ]
  },
  {
   "cell_type": "code",
   "execution_count": 3,
   "metadata": {
    "pycharm": {
     "name": "#%%\n"
    }
   },
   "outputs": [
    {
     "name": "stdout",
     "output_type": "stream",
     "text": [
      "Answer 1: { b e f }\n",
      "Answer 2: { a c e k }\n",
      "SAT 2\n"
     ]
    }
   ],
   "source": [
    "primal = \"\"\"\n",
    "\n",
    "%! trace_rule {\"a :- k, not b.\"}\n",
    "a :- k, not b.\n",
    "%! trace_rule {\"c :- a, b.\"}\n",
    "c :- a, b.\n",
    "%! trace_rule {\"c :- k.\"}\n",
    "c :- k.\n",
    "%! trace_rule {\"k :- e, not b.\"}\n",
    "k :- e, not b.\n",
    "\n",
    "%! trace_rule {\"e.\"}\n",
    "e.\n",
    "\n",
    "%! trace_rule {\"b :- not a.\"}\n",
    "b :- not a.\n",
    "%! trace_rule {\"f :- e, not k, not c.\"}\n",
    "f :- e, not k, not c.\n",
    "\n",
    "%!show_trace a.\n",
    "%!show_trace c.\n",
    "%!show_trace k.\n",
    "\n",
    "%!show_trace e.\n",
    "\n",
    "%!show_trace b.\n",
    "%!show_trace f.\n",
    "\n",
    "\"\"\"\n",
    "\n",
    "primal_answer_sets = tuple(solve([primal], report=True))"
   ]
  },
  {
   "cell_type": "code",
   "execution_count": 4,
   "metadata": {
    "pycharm": {
     "name": "#%%\n"
    }
   },
   "outputs": [
    {
     "name": "stdout",
     "output_type": "stream",
     "text": [
      "Answer 1\r\n",
      "  *\r\n",
      "  |__b :- not a.\r\n",
      "\r\n",
      "  *\r\n",
      "  |__f :- e, not k, not c.\r\n",
      "  |  |__e.\r\n",
      "\r\n",
      "  *\r\n",
      "  |__e.\r\n",
      "\r\n",
      "Answer 2\r\n",
      "  *\r\n",
      "  |__e.\r\n",
      "\r\n",
      "  *\r\n",
      "  |__k :- e, not b.\r\n",
      "  |  |__e.\r\n",
      "\r\n",
      "  *\r\n",
      "  |__a :- k, not b.\r\n",
      "  |  |__k :- e, not b.\r\n",
      "  |  |  |__e.\r\n",
      "\r\n",
      "  *\r\n",
      "  |__c :- k.\r\n",
      "  |  |__k :- e, not b.\r\n",
      "  |  |  |__e.\r\n",
      "\r\n"
     ]
    }
   ],
   "source": [
    "! xclingo -n 0 0 \"P01_b_primal.lp\""
   ]
  },
  {
   "cell_type": "code",
   "execution_count": null,
   "metadata": {
    "pycharm": {
     "name": "#%%\n"
    }
   },
   "outputs": [],
   "source": []
  }
 ],
 "metadata": {
  "kernelspec": {
   "display_name": "Python 3 (ipykernel)",
   "language": "python",
   "name": "python3"
  },
  "language_info": {
   "codemirror_mode": {
    "name": "ipython",
    "version": 3
   },
   "file_extension": ".py",
   "mimetype": "text/x-python",
   "name": "python",
   "nbconvert_exporter": "python",
   "pygments_lexer": "ipython3",
   "version": "3.10.2"
  }
 },
 "nbformat": 4,
 "nbformat_minor": 1
}
