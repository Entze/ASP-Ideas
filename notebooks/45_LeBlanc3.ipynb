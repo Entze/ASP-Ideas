{
 "cells": [
  {
   "cell_type": "code",
   "execution_count": 21,
   "outputs": [],
   "source": [
    "import copy\n",
    "from dataclasses import dataclass, field\n",
    "from enum import IntEnum\n",
    "from typing import TypeVar, Sequence, Optional, List, Iterator, Union\n",
    "\n",
    "import clingo\n",
    "import clingox.program\n",
    "\n",
    "from starlingo.Atom import Atom\n",
    "from starlingo.Literal import BasicLiteral, Literal\n",
    "from starlingo.Program import from_string, Program\n",
    "from starlingo.Rule import Constraint, NormalRule\n",
    "from starlingo.Symbol import Function, Term, IntegerConstant\n"
   ],
   "metadata": {
    "collapsed": false,
    "pycharm": {
     "name": "#%%\n"
    }
   }
  },
  {
   "cell_type": "code",
   "execution_count": 22,
   "outputs": [],
   "source": [
    "program = \"\"\"\n",
    "% F\n",
    "fluent(m).\n",
    "fluent(ab).\n",
    "% D\n",
    "default(ab).\n",
    "% E\n",
    "action(d).\n",
    "% AD\n",
    "impossible(d, m, -ab).\n",
    "% Aleph\n",
    "occ_at(d, 1).\n",
    "\"\"\"\n",
    "ps = from_string(program)\n",
    "p_raw = ps[0]"
   ],
   "metadata": {
    "collapsed": false,
    "pycharm": {
     "name": "#%%\n"
    }
   }
  },
  {
   "cell_type": "code",
   "execution_count": 23,
   "outputs": [
    {
     "name": "stdout",
     "output_type": "stream",
     "text": [
      "#program base.\n",
      "fluent(m).\n",
      "fluent(ab).\n",
      "default(ab).\n",
      "action(d).\n",
      "impossible(d,m,-ab).\n",
      "occ_at(d,1).\n"
     ]
    }
   ],
   "source": [
    "print(p_raw.custom_str(sep='\\n'))"
   ],
   "metadata": {
    "collapsed": false,
    "pycharm": {
     "name": "#%%\n"
    }
   }
  },
  {
   "cell_type": "code",
   "execution_count": 24,
   "outputs": [],
   "source": [
    "__t = Function('__t')"
   ],
   "metadata": {
    "collapsed": false,
    "pycharm": {
     "name": "#%%\n"
    }
   }
  },
  {
   "cell_type": "code",
   "execution_count": 25,
   "outputs": [
    {
     "ename": "AssertionError",
     "evalue": "AST __t should have type ASTType.Function, but has type ASTType.Id.",
     "output_type": "error",
     "traceback": [
      "\u001B[0;31m---------------------------------------------------------------------------\u001B[0m",
      "\u001B[0;31mAssertionError\u001B[0m                            Traceback (most recent call last)",
      "Input \u001B[0;32mIn [25]\u001B[0m, in \u001B[0;36m<module>\u001B[0;34m\u001B[0m\n\u001B[1;32m     88\u001B[0m action_language \u001B[38;5;241m=\u001B[39m \u001B[38;5;124m\"\"\"\u001B[39m\n\u001B[1;32m     89\u001B[0m \u001B[38;5;124m#program action_language(__t).\u001B[39m\n\u001B[1;32m     90\u001B[0m \u001B[38;5;124m:- occ_at(d,__t), obs_at(m,__t), obs_at(-ab,__t).\u001B[39m\n\u001B[0;32m   (...)\u001B[0m\n\u001B[1;32m     96\u001B[0m \u001B[38;5;124mobs_at(F,1) :- forced(F), default(F), not -init(F).\u001B[39m\n\u001B[1;32m     97\u001B[0m \u001B[38;5;124m\"\"\"\u001B[39m\n\u001B[1;32m     99\u001B[0m p \u001B[38;5;241m=\u001B[39m Program(rules\u001B[38;5;241m=\u001B[39msignature)\n\u001B[0;32m--> 100\u001B[0m pa \u001B[38;5;241m=\u001B[39m \u001B[43mfrom_string\u001B[49m\u001B[43m(\u001B[49m\u001B[43maction_language\u001B[49m\u001B[43m)\u001B[49m[\u001B[38;5;241m1\u001B[39m]\n\u001B[1;32m    101\u001B[0m \u001B[38;5;28mprint\u001B[39m(p\u001B[38;5;241m.\u001B[39mcustom_str(sep\u001B[38;5;241m=\u001B[39m\u001B[38;5;124m'\u001B[39m\u001B[38;5;130;01m\\n\u001B[39;00m\u001B[38;5;124m'\u001B[39m), pa\u001B[38;5;241m.\u001B[39mcustom_str(sep\u001B[38;5;241m=\u001B[39m\u001B[38;5;124m'\u001B[39m\u001B[38;5;130;01m\\n\u001B[39;00m\u001B[38;5;124m'\u001B[39m), sep\u001B[38;5;241m=\u001B[39m\u001B[38;5;124m'\u001B[39m\u001B[38;5;130;01m\\n\u001B[39;00m\u001B[38;5;124m'\u001B[39m)\n",
      "File \u001B[0;32m~/Dev/ASP/Basics/starlingo/Program.py:60\u001B[0m, in \u001B[0;36mfrom_string\u001B[0;34m(program)\u001B[0m\n\u001B[1;32m     58\u001B[0m \u001B[38;5;28;01mdef\u001B[39;00m \u001B[38;5;21mfrom_string\u001B[39m(program: \u001B[38;5;28mstr\u001B[39m) \u001B[38;5;241m-\u001B[39m\u001B[38;5;241m>\u001B[39m Sequence[Program]:\n\u001B[1;32m     59\u001B[0m     t \u001B[38;5;241m=\u001B[39m _FromASTTransformer()\n\u001B[0;32m---> 60\u001B[0m     \u001B[43mclingo\u001B[49m\u001B[38;5;241;43m.\u001B[39;49m\u001B[43mast\u001B[49m\u001B[38;5;241;43m.\u001B[39;49m\u001B[43mparse_string\u001B[49m\u001B[43m(\u001B[49m\u001B[43mprogram\u001B[49m\u001B[43m,\u001B[49m\u001B[43m \u001B[49m\u001B[43mt\u001B[49m\u001B[38;5;241;43m.\u001B[39;49m\u001B[43mvisit\u001B[49m\u001B[43m)\u001B[49m\n\u001B[1;32m     61\u001B[0m     t\u001B[38;5;241m.\u001B[39mflush()\n\u001B[1;32m     62\u001B[0m     \u001B[38;5;28;01mreturn\u001B[39;00m t\u001B[38;5;241m.\u001B[39mprograms\n",
      "File \u001B[0;32m~/.local/share/miniconda/envs/asp-ideas/lib/python3.10/site-packages/clingo/ast.py:1077\u001B[0m, in \u001B[0;36mparse_string\u001B[0;34m(program, callback, logger, message_limit)\u001B[0m\n\u001B[1;32m   1074\u001B[0m cb_data \u001B[38;5;241m=\u001B[39m _CBData(callback, error)\n\u001B[1;32m   1075\u001B[0m c_cb_data \u001B[38;5;241m=\u001B[39m _ffi\u001B[38;5;241m.\u001B[39mnew_handle(cb_data)\n\u001B[0;32m-> 1077\u001B[0m \u001B[43m_handle_error\u001B[49m\u001B[43m(\u001B[49m\u001B[43m_lib\u001B[49m\u001B[38;5;241;43m.\u001B[39;49m\u001B[43mclingo_ast_parse_string\u001B[49m\u001B[43m(\u001B[49m\u001B[43mprogram\u001B[49m\u001B[38;5;241;43m.\u001B[39;49m\u001B[43mencode\u001B[49m\u001B[43m(\u001B[49m\u001B[43m)\u001B[49m\u001B[43m,\u001B[49m\n\u001B[1;32m   1078\u001B[0m \u001B[43m                                           \u001B[49m\u001B[43m_lib\u001B[49m\u001B[38;5;241;43m.\u001B[39;49m\u001B[43mpyclingo_ast_callback\u001B[49m\u001B[43m,\u001B[49m\u001B[43m \u001B[49m\u001B[43mc_cb_data\u001B[49m\u001B[43m,\u001B[49m\n\u001B[1;32m   1079\u001B[0m \u001B[43m                                           \u001B[49m\u001B[43mc_logger\u001B[49m\u001B[43m,\u001B[49m\u001B[43m \u001B[49m\u001B[43mc_logger_data\u001B[49m\u001B[43m,\u001B[49m\n\u001B[1;32m   1080\u001B[0m \u001B[43m                                           \u001B[49m\u001B[43mmessage_limit\u001B[49m\u001B[43m)\u001B[49m\u001B[43m,\u001B[49m\u001B[43m \u001B[49m\u001B[43mcb_data\u001B[49m\u001B[43m)\u001B[49m\n",
      "File \u001B[0;32m~/.local/share/miniconda/envs/asp-ideas/lib/python3.10/site-packages/clingo/_internal.py:61\u001B[0m, in \u001B[0;36m_handle_error\u001B[0;34m(ret, handler)\u001B[0m\n\u001B[1;32m     59\u001B[0m code \u001B[38;5;241m=\u001B[39m _lib\u001B[38;5;241m.\u001B[39mclingo_error_code()\n\u001B[1;32m     60\u001B[0m \u001B[38;5;28;01mif\u001B[39;00m code \u001B[38;5;241m==\u001B[39m _lib\u001B[38;5;241m.\u001B[39mclingo_error_unknown \u001B[38;5;129;01mand\u001B[39;00m handler \u001B[38;5;129;01mis\u001B[39;00m \u001B[38;5;129;01mnot\u001B[39;00m \u001B[38;5;28;01mNone\u001B[39;00m \u001B[38;5;129;01mand\u001B[39;00m handler\u001B[38;5;241m.\u001B[39merror \u001B[38;5;129;01mis\u001B[39;00m \u001B[38;5;129;01mnot\u001B[39;00m \u001B[38;5;28;01mNone\u001B[39;00m:\n\u001B[0;32m---> 61\u001B[0m     \u001B[38;5;28;01mraise\u001B[39;00m handler\u001B[38;5;241m.\u001B[39merror[\u001B[38;5;241m0\u001B[39m](handler\u001B[38;5;241m.\u001B[39merror[\u001B[38;5;241m1\u001B[39m])\u001B[38;5;241m.\u001B[39mwith_traceback(handler\u001B[38;5;241m.\u001B[39merror[\u001B[38;5;241m2\u001B[39m])\n\u001B[1;32m     62\u001B[0m msg \u001B[38;5;241m=\u001B[39m _ffi\u001B[38;5;241m.\u001B[39mstring(_lib\u001B[38;5;241m.\u001B[39mclingo_error_message())\u001B[38;5;241m.\u001B[39mdecode()\n\u001B[1;32m     63\u001B[0m \u001B[38;5;28;01mif\u001B[39;00m code \u001B[38;5;241m==\u001B[39m _lib\u001B[38;5;241m.\u001B[39mclingo_error_bad_alloc:\n",
      "File \u001B[0;32m~/.local/share/miniconda/envs/asp-ideas/lib/python3.10/site-packages/clingo/ast.py:1000\u001B[0m, in \u001B[0;36m_pyclingo_ast_callback\u001B[0;34m(ast, data)\u001B[0m\n\u001B[1;32m    998\u001B[0m callback \u001B[38;5;241m=\u001B[39m _ffi\u001B[38;5;241m.\u001B[39mfrom_handle(data)\u001B[38;5;241m.\u001B[39mdata\n\u001B[1;32m    999\u001B[0m _lib\u001B[38;5;241m.\u001B[39mclingo_ast_acquire(ast)\n\u001B[0;32m-> 1000\u001B[0m \u001B[43mcallback\u001B[49m\u001B[43m(\u001B[49m\u001B[43mAST\u001B[49m\u001B[43m(\u001B[49m\u001B[43mast\u001B[49m\u001B[43m)\u001B[49m\u001B[43m)\u001B[49m\n\u001B[1;32m   1002\u001B[0m \u001B[38;5;28;01mreturn\u001B[39;00m \u001B[38;5;28;01mTrue\u001B[39;00m\n",
      "File \u001B[0;32m~/.local/share/miniconda/envs/asp-ideas/lib/python3.10/site-packages/clingo/ast.py:1142\u001B[0m, in \u001B[0;36mTransformer.visit\u001B[0;34m(self, ast, *args, **kwargs)\u001B[0m\n\u001B[1;32m   1140\u001B[0m attr \u001B[38;5;241m=\u001B[39m \u001B[38;5;124m'\u001B[39m\u001B[38;5;124mvisit_\u001B[39m\u001B[38;5;124m'\u001B[39m \u001B[38;5;241m+\u001B[39m \u001B[38;5;28mstr\u001B[39m(ast\u001B[38;5;241m.\u001B[39mast_type)\u001B[38;5;241m.\u001B[39mreplace(\u001B[38;5;124m'\u001B[39m\u001B[38;5;124mASTType.\u001B[39m\u001B[38;5;124m'\u001B[39m, \u001B[38;5;124m'\u001B[39m\u001B[38;5;124m'\u001B[39m)\n\u001B[1;32m   1141\u001B[0m \u001B[38;5;28;01mif\u001B[39;00m \u001B[38;5;28mhasattr\u001B[39m(\u001B[38;5;28mself\u001B[39m, attr):\n\u001B[0;32m-> 1142\u001B[0m     \u001B[38;5;28;01mreturn\u001B[39;00m \u001B[38;5;28;43mgetattr\u001B[39;49m\u001B[43m(\u001B[49m\u001B[38;5;28;43mself\u001B[39;49m\u001B[43m,\u001B[49m\u001B[43m \u001B[49m\u001B[43mattr\u001B[49m\u001B[43m)\u001B[49m\u001B[43m(\u001B[49m\u001B[43mast\u001B[49m\u001B[43m,\u001B[49m\u001B[43m \u001B[49m\u001B[38;5;241;43m*\u001B[39;49m\u001B[43margs\u001B[49m\u001B[43m,\u001B[49m\u001B[43m \u001B[49m\u001B[38;5;241;43m*\u001B[39;49m\u001B[38;5;241;43m*\u001B[39;49m\u001B[43mkwargs\u001B[49m\u001B[43m)\u001B[49m\n\u001B[1;32m   1143\u001B[0m \u001B[38;5;28;01mreturn\u001B[39;00m ast\u001B[38;5;241m.\u001B[39mupdate(\u001B[38;5;241m*\u001B[39m\u001B[38;5;241m*\u001B[39m\u001B[38;5;28mself\u001B[39m\u001B[38;5;241m.\u001B[39mvisit_children(ast, \u001B[38;5;241m*\u001B[39margs, \u001B[38;5;241m*\u001B[39m\u001B[38;5;241m*\u001B[39mkwargs))\n",
      "File \u001B[0;32m~/Dev/ASP/Basics/starlingo/Program.py:44\u001B[0m, in \u001B[0;36m_FromASTTransformer.visit_Program\u001B[0;34m(self, program)\u001B[0m\n\u001B[1;32m     43\u001B[0m \u001B[38;5;28;01mdef\u001B[39;00m \u001B[38;5;21mvisit_Program\u001B[39m(\u001B[38;5;28mself\u001B[39m, program: clingo\u001B[38;5;241m.\u001B[39mast\u001B[38;5;241m.\u001B[39mAST) \u001B[38;5;241m-\u001B[39m\u001B[38;5;241m>\u001B[39m clingo\u001B[38;5;241m.\u001B[39mast\u001B[38;5;241m.\u001B[39mAST:\n\u001B[0;32m---> 44\u001B[0m     \u001B[38;5;28;43mself\u001B[39;49m\u001B[38;5;241;43m.\u001B[39;49m\u001B[43mflush\u001B[49m\u001B[43m(\u001B[49m\u001B[43mprogram\u001B[49m\u001B[38;5;241;43m.\u001B[39;49m\u001B[43mname\u001B[49m\u001B[43m,\u001B[49m\u001B[43m \u001B[49m\u001B[43mprogram\u001B[49m\u001B[38;5;241;43m.\u001B[39;49m\u001B[43mparameters\u001B[49m\u001B[43m)\u001B[49m\n\u001B[1;32m     45\u001B[0m     \u001B[38;5;28;01mreturn\u001B[39;00m program\n",
      "File \u001B[0;32m~/Dev/ASP/Basics/starlingo/Program.py:40\u001B[0m, in \u001B[0;36m_FromASTTransformer.flush\u001B[0;34m(self, name, parameters)\u001B[0m\n\u001B[1;32m     38\u001B[0m     \u001B[38;5;28mself\u001B[39m\u001B[38;5;241m.\u001B[39mprograms\u001B[38;5;241m.\u001B[39mappend(Program(\u001B[38;5;28mself\u001B[39m\u001B[38;5;241m.\u001B[39mname, \u001B[38;5;28mself\u001B[39m\u001B[38;5;241m.\u001B[39mparameters, \u001B[38;5;28mself\u001B[39m\u001B[38;5;241m.\u001B[39mprogram_rules))\n\u001B[1;32m     39\u001B[0m \u001B[38;5;28mself\u001B[39m\u001B[38;5;241m.\u001B[39mname \u001B[38;5;241m=\u001B[39m name\n\u001B[0;32m---> 40\u001B[0m \u001B[38;5;28mself\u001B[39m\u001B[38;5;241m.\u001B[39mparameters \u001B[38;5;241m=\u001B[39m \u001B[38;5;28;43mtuple\u001B[39;49m\u001B[43m(\u001B[49m\u001B[43mFunction\u001B[49m\u001B[38;5;241;43m.\u001B[39;49m\u001B[43mfrom_ast\u001B[49m\u001B[43m(\u001B[49m\u001B[43mparameter\u001B[49m\u001B[43m)\u001B[49m\u001B[43m \u001B[49m\u001B[38;5;28;43;01mfor\u001B[39;49;00m\u001B[43m \u001B[49m\u001B[43mparameter\u001B[49m\u001B[43m \u001B[49m\u001B[38;5;129;43;01min\u001B[39;49;00m\u001B[43m \u001B[49m\u001B[43mparameters\u001B[49m\u001B[43m)\u001B[49m\n\u001B[1;32m     41\u001B[0m \u001B[38;5;28mself\u001B[39m\u001B[38;5;241m.\u001B[39mprogram_rules \u001B[38;5;241m=\u001B[39m []\n",
      "File \u001B[0;32m~/Dev/ASP/Basics/starlingo/Program.py:40\u001B[0m, in \u001B[0;36m<genexpr>\u001B[0;34m(.0)\u001B[0m\n\u001B[1;32m     38\u001B[0m     \u001B[38;5;28mself\u001B[39m\u001B[38;5;241m.\u001B[39mprograms\u001B[38;5;241m.\u001B[39mappend(Program(\u001B[38;5;28mself\u001B[39m\u001B[38;5;241m.\u001B[39mname, \u001B[38;5;28mself\u001B[39m\u001B[38;5;241m.\u001B[39mparameters, \u001B[38;5;28mself\u001B[39m\u001B[38;5;241m.\u001B[39mprogram_rules))\n\u001B[1;32m     39\u001B[0m \u001B[38;5;28mself\u001B[39m\u001B[38;5;241m.\u001B[39mname \u001B[38;5;241m=\u001B[39m name\n\u001B[0;32m---> 40\u001B[0m \u001B[38;5;28mself\u001B[39m\u001B[38;5;241m.\u001B[39mparameters \u001B[38;5;241m=\u001B[39m \u001B[38;5;28mtuple\u001B[39m(\u001B[43mFunction\u001B[49m\u001B[38;5;241;43m.\u001B[39;49m\u001B[43mfrom_ast\u001B[49m\u001B[43m(\u001B[49m\u001B[43mparameter\u001B[49m\u001B[43m)\u001B[49m \u001B[38;5;28;01mfor\u001B[39;00m parameter \u001B[38;5;129;01min\u001B[39;00m parameters)\n\u001B[1;32m     41\u001B[0m \u001B[38;5;28mself\u001B[39m\u001B[38;5;241m.\u001B[39mprogram_rules \u001B[38;5;241m=\u001B[39m []\n",
      "File \u001B[0;32m~/Dev/ASP/Basics/starlingo/Symbol.py:216\u001B[0m, in \u001B[0;36mFunction.from_ast\u001B[0;34m(cls, fun)\u001B[0m\n\u001B[1;32m    214\u001B[0m \u001B[38;5;129m@classmethod\u001B[39m\n\u001B[1;32m    215\u001B[0m \u001B[38;5;28;01mdef\u001B[39;00m \u001B[38;5;21mfrom_ast\u001B[39m(\u001B[38;5;28mcls\u001B[39m, fun: clingo\u001B[38;5;241m.\u001B[39mast\u001B[38;5;241m.\u001B[39mAST):\n\u001B[0;32m--> 216\u001B[0m     \u001B[43mtypecheck\u001B[49m\u001B[43m(\u001B[49m\u001B[43mfun\u001B[49m\u001B[43m,\u001B[49m\u001B[43m \u001B[49m\u001B[43mclingo\u001B[49m\u001B[38;5;241;43m.\u001B[39;49m\u001B[43mast\u001B[49m\u001B[38;5;241;43m.\u001B[39;49m\u001B[43mASTType\u001B[49m\u001B[38;5;241;43m.\u001B[39;49m\u001B[43mFunction\u001B[49m\u001B[43m,\u001B[49m\u001B[43m \u001B[49m\u001B[38;5;124;43m'\u001B[39;49m\u001B[38;5;124;43mast_type\u001B[39;49m\u001B[38;5;124;43m'\u001B[39;49m\u001B[43m)\u001B[49m\n\u001B[1;32m    217\u001B[0m     name \u001B[38;5;241m=\u001B[39m fun\u001B[38;5;241m.\u001B[39mname\n\u001B[1;32m    218\u001B[0m     arguments \u001B[38;5;241m=\u001B[39m \u001B[38;5;28mtuple\u001B[39m(Symbol\u001B[38;5;241m.\u001B[39mfrom_ast(argument) \u001B[38;5;28;01mfor\u001B[39;00m argument \u001B[38;5;129;01min\u001B[39;00m fun\u001B[38;5;241m.\u001B[39marguments)\n",
      "File \u001B[0;32m~/Dev/ASP/Basics/starlingo/util.py:6\u001B[0m, in \u001B[0;36mtypecheck\u001B[0;34m(value, expected, attribute)\u001B[0m\n\u001B[1;32m      4\u001B[0m \u001B[38;5;28;01mdef\u001B[39;00m \u001B[38;5;21mtypecheck\u001B[39m(value, expected, attribute: Optional[\u001B[38;5;28mstr\u001B[39m] \u001B[38;5;241m=\u001B[39m \u001B[38;5;28;01mNone\u001B[39;00m):\n\u001B[1;32m      5\u001B[0m     \u001B[38;5;28;01mif\u001B[39;00m attribute:\n\u001B[0;32m----> 6\u001B[0m         \u001B[38;5;28;01massert\u001B[39;00m \u001B[38;5;28mgetattr\u001B[39m(value, attribute) \u001B[38;5;129;01mis\u001B[39;00m expected, \u001B[38;5;124m\"\u001B[39m\u001B[38;5;132;01m{}\u001B[39;00m\u001B[38;5;124m \u001B[39m\u001B[38;5;132;01m{}\u001B[39;00m\u001B[38;5;124m should have type \u001B[39m\u001B[38;5;132;01m{}\u001B[39;00m\u001B[38;5;124m, but has type \u001B[39m\u001B[38;5;132;01m{}\u001B[39;00m\u001B[38;5;124m.\u001B[39m\u001B[38;5;124m\"\u001B[39m\u001B[38;5;241m.\u001B[39mformat(\n\u001B[1;32m      7\u001B[0m             \u001B[38;5;28mtype\u001B[39m(value)\u001B[38;5;241m.\u001B[39m\u001B[38;5;18m__name__\u001B[39m, value, expected, \u001B[38;5;28mgetattr\u001B[39m(value, attribute))\n\u001B[1;32m      8\u001B[0m     \u001B[38;5;28;01melif\u001B[39;00m expected \u001B[38;5;129;01mis\u001B[39;00m \u001B[38;5;28;01mNone\u001B[39;00m:\n\u001B[1;32m      9\u001B[0m         \u001B[38;5;28;01massert\u001B[39;00m value \u001B[38;5;129;01mis\u001B[39;00m expected, \u001B[38;5;124m\"\u001B[39m\u001B[38;5;132;01m{}\u001B[39;00m\u001B[38;5;124m \u001B[39m\u001B[38;5;132;01m{}\u001B[39;00m\u001B[38;5;124m should have type \u001B[39m\u001B[38;5;132;01m{}\u001B[39;00m\u001B[38;5;124m, but has type \u001B[39m\u001B[38;5;132;01m{}\u001B[39;00m\u001B[38;5;124m.\u001B[39m\u001B[38;5;124m\"\u001B[39m\u001B[38;5;241m.\u001B[39mformat(\n\u001B[1;32m     10\u001B[0m             \u001B[38;5;28mtype\u001B[39m(value)\u001B[38;5;241m.\u001B[39m\u001B[38;5;18m__name__\u001B[39m, value, expected, \u001B[38;5;28mtype\u001B[39m(value)\u001B[38;5;241m.\u001B[39m\u001B[38;5;18m__name__\u001B[39m)\n",
      "\u001B[0;31mAssertionError\u001B[0m: AST __t should have type ASTType.Function, but has type ASTType.Id."
     ]
    }
   ],
   "source": [
    "from starlingo.Symbol import Variable\n",
    "\n",
    "signature = []\n",
    "new_rules = []\n",
    "for rule in p_raw.rules:\n",
    "    if rule.head.atom.symbol.name == 'impossible':\n",
    "        impossible_if_stm: Function = rule.head.atom.symbol\n",
    "        new_rules.append(\n",
    "            Constraint((BasicLiteral(Atom(Function('occ_at', (impossible_if_stm.arguments[0], __t)))),\n",
    "                        *(BasicLiteral(Atom(Function('obs_at', (argument, __t)))) for argument in\n",
    "                          impossible_if_stm.arguments[1:]))))\n",
    "    elif rule.head.atom.symbol.name == 'if':\n",
    "        if_stm: Function = rule.head.atom.symbol\n",
    "        head = BasicLiteral(Atom(Function('obs_at', (if_stm.arguments[0], __t))))\n",
    "        body = tuple(\n",
    "            BasicLiteral(Atom(Function('obs_at', (argument, __t)))) for argument in if_stm.arguments[1:])\n",
    "        new_rules.append(NormalRule(head, body))\n",
    "    elif rule.head.atom.symbol.name == 'causes':\n",
    "        causes_stm: Function = rule.head.atom.symbol\n",
    "        head = BasicLiteral(Atom(Function('obs_at', (\n",
    "            causes_stm.arguments[1], __t + Term(IntegerConstant(1))))))\n",
    "        body = (BasicLiteral(Atom(Function('occ_at', (causes_stm.arguments[0], __t)))),\n",
    "                *(BasicLiteral(Atom(Function('obs_at', (argument, __t)))) for argument in\n",
    "                  causes_stm.arguments[2:]))\n",
    "        new_rules.append(NormalRule(head, body))\n",
    "    else:\n",
    "        signature.append(rule)\n",
    "\n",
    "new_rules.append(\n",
    "    NormalRule(\n",
    "        BasicLiteral(Atom(Function('obs_at', (\n",
    "            Variable('F'), __t + Term(IntegerConstant(1)))))),\n",
    "        (\n",
    "            BasicLiteral(Atom(Function('obs_at', (Variable('F'), __t)))),\n",
    "            -BasicLiteral(Atom(Function('obs_at', (-Variable('F'), __t + Term(IntegerConstant(1)))))),\n",
    "            -BasicLiteral(Atom(Function('obs_at', (Function('u', (Variable('F'),)), __t + Term(IntegerConstant(1)))))),\n",
    "        ),\n",
    "    )\n",
    ")\n",
    "\n",
    "new_rules.append(\n",
    "    NormalRule(\n",
    "        BasicLiteral(Atom(Function('obs_at', (-Variable('F'), __t + Term(IntegerConstant(1)))))),\n",
    "        (\n",
    "            -BasicLiteral(Atom(Function('obs_at', (Variable('F'), __t + Term(IntegerConstant(1)))))),\n",
    "            -BasicLiteral(Atom(Function('obs_at', (Function('u', (Variable('F'),)), __t + Term(IntegerConstant(1)))))),\n",
    "            BasicLiteral(Atom(Function('obs_at', (-Variable('F'), __t)))),\n",
    "        )\n",
    "    )\n",
    ")\n",
    "\n",
    "new_rules.append(\n",
    "    NormalRule(\n",
    "        BasicLiteral(Atom(Function('obs_at', (Function('u', (Variable('F'),)), __t + Term(IntegerConstant(1)))))),\n",
    "        (\n",
    "            -BasicLiteral(Atom(Function('obs_at', (Variable('F'), __t + Term(IntegerConstant(1)))))),\n",
    "            BasicLiteral(Atom(Function('obs_at', (Function('u', (Variable('F'),)), __t)))),\n",
    "            -BasicLiteral(Atom(Function('obs_at', (-Variable('F'), __t + Term(IntegerConstant(1)))))),\n",
    "        )\n",
    "    )\n",
    ")\n",
    "new_rules.append(\n",
    "    NormalRule(\n",
    "        BasicLiteral(Atom(Function('obs_at', (Variable('F'), Term(IntegerConstant(1)))))),\n",
    "        (\n",
    "            BasicLiteral(Atom(Function('init', (Variable('F'),)))),\n",
    "        )\n",
    "    )\n",
    ")\n",
    "new_rules.append(\n",
    "    NormalRule(\n",
    "        BasicLiteral(Atom(Function('obs_at', (-Variable('F'), Term(IntegerConstant(1)))))),\n",
    "        (\n",
    "            BasicLiteral(Atom(-Function('init', (Variable('F'),)))),\n",
    "        )\n",
    "    )\n",
    ")\n",
    "new_rules.append(\n",
    "    NormalRule(\n",
    "        BasicLiteral(Atom(Function('obs_at', (Variable('F'), Term(IntegerConstant(1)))))),\n",
    "        (\n",
    "            BasicLiteral(Atom(Function('forced', (Variable('F'),)))),\n",
    "            BasicLiteral(Atom(Function('default', (Variable('F'),)))),\n",
    "            -BasicLiteral(Atom(-Function('init', (Variable('F'),)))),\n",
    "        )\n",
    "    )\n",
    ")\n",
    "action_language = \"\"\"\n",
    "#program action_language(__t).\n",
    ":- occ_at(d,__t), obs_at(m,__t), obs_at(-ab,__t).\n",
    "obs_at(F,__t+1) :- obs_at(F,__t), not obs_at(-F,__t+1), not obs_at(u(F),__t+1).\n",
    "obs_at(-F,__t+1) :- not obs_at(F,__t+1), not obs_at(u(F),__t+1), obs_at(-F,__t).\n",
    "obs_at(u(F),__t+1) :- not obs_at(F,__t+1), obs_at(u(F),__t), not obs_at(-F,__t+1).\n",
    "obs_at(F,1) :- init(F).\n",
    "obs_at(-F,1) :- -init(F).\n",
    "obs_at(F,1) :- forced(F), default(F), not -init(F).\n",
    "\"\"\"\n",
    "\n",
    "p = Program(rules=signature)\n",
    "pa = from_string(action_language)[1]\n",
    "print(p.custom_str(sep='\\n'), pa.custom_str(sep='\\n'), sep='\\n')"
   ],
   "metadata": {
    "collapsed": false,
    "pycharm": {
     "name": "#%%\n"
    }
   }
  }
 ],
 "metadata": {
  "kernelspec": {
   "display_name": "Python 3",
   "language": "python",
   "name": "python3"
  },
  "language_info": {
   "codemirror_mode": {
    "name": "ipython",
    "version": 2
   },
   "file_extension": ".py",
   "mimetype": "text/x-python",
   "name": "python",
   "nbconvert_exporter": "python",
   "pygments_lexer": "ipython2",
   "version": "2.7.6"
  }
 },
 "nbformat": 4,
 "nbformat_minor": 0
}