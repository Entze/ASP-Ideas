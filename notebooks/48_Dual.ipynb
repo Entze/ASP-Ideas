{
 "cells": [
  {
   "cell_type": "code",
   "execution_count": 68,
   "metadata": {
    "collapsed": true
   },
   "outputs": [],
   "source": [
    "import clingo\n",
    "\n",
    "from starlingo.Atom import Atom\n",
    "from starlingo.Literal import Literal, BasicLiteral\n",
    "from starlingo.Program import from_string, Program, evaluate_forwards\n",
    "from starlingo.Rule import NormalRule, Fact\n",
    "from starlingo.Symbol import Function"
   ]
  },
  {
   "cell_type": "code",
   "execution_count": 69,
   "outputs": [
    {
     "name": "stdout",
     "output_type": "stream",
     "text": [
      "#program base.\n",
      "a :- b, d.\n",
      "b :- d.\n",
      "c :- d.\n",
      "d.\n"
     ]
    }
   ],
   "source": [
    "simple_str = \"\"\"\n",
    "\n",
    "a :- b, d.\n",
    "b :- d.\n",
    "c :- d.\n",
    "d.\n",
    "\n",
    "\"\"\"\n",
    "simple_p = from_string(simple_str)[0]\n",
    "print(simple_p.custom_str(sep='\\n'))"
   ],
   "metadata": {
    "collapsed": false,
    "pycharm": {
     "name": "#%%\n"
    }
   }
  },
  {
   "cell_type": "code",
   "execution_count": 70,
   "outputs": [
    {
     "name": "stdout",
     "output_type": "stream",
     "text": [
      "Answer 1: {\n",
      "a\n",
      "b\n",
      "c\n",
      "d\n",
      "}\n",
      "SAT 1\n"
     ]
    }
   ],
   "source": [
    "tuple(evaluate_forwards((simple_p,), report=True));"
   ],
   "metadata": {
    "collapsed": false,
    "pycharm": {
     "name": "#%%\n"
    }
   }
  },
  {
   "cell_type": "code",
   "execution_count": 71,
   "outputs": [
    {
     "name": "stdout",
     "output_type": "stream",
     "text": [
      "#program base.\n",
      "not a :- not b.\n",
      "not a :- not d.\n",
      "not b :- not d.\n",
      "not c :- not d.\n",
      "not d.\n"
     ]
    }
   ],
   "source": [
    "dual_rules = []\n",
    "for rule in simple_p.rules:\n",
    "    if rule.is_rule() and rule.is_normal_rule():\n",
    "        head = -rule.head\n",
    "        body = tuple(-literal for literal in rule.body)\n",
    "        for literal in body:\n",
    "            dual_rule = NormalRule(head, (literal,))\n",
    "            dual_rules.append(dual_rule)\n",
    "        if not body:\n",
    "            dual_rule = Fact(head)\n",
    "            dual_rules.append(dual_rule)\n",
    "simple_d = Program(rules=dual_rules)\n",
    "print(simple_d.custom_str(sep='\\n'))"
   ],
   "metadata": {
    "collapsed": false,
    "pycharm": {
     "name": "#%%\n"
    }
   }
  },
  {
   "cell_type": "code",
   "execution_count": 72,
   "outputs": [
    {
     "name": "stdout",
     "output_type": "stream",
     "text": [
      "Answer 1: {\n",
      "\n",
      "}\n",
      "SAT 1\n"
     ]
    },
    {
     "name": "stderr",
     "output_type": "stream",
     "text": [
      "<block>:1:20-21: info: atom does not occur in any rule head:\n",
      "  a\n",
      "\n",
      "<block>:1:29-30: info: atom does not occur in any rule head:\n",
      "  b\n",
      "\n",
      "<block>:1:36-37: info: atom does not occur in any rule head:\n",
      "  a\n",
      "\n",
      "<block>:1:45-46: info: atom does not occur in any rule head:\n",
      "  d\n",
      "\n",
      "<block>:1:52-53: info: atom does not occur in any rule head:\n",
      "  b\n",
      "\n",
      "<block>:1:61-62: info: atom does not occur in any rule head:\n",
      "  d\n",
      "\n",
      "<block>:1:68-69: info: atom does not occur in any rule head:\n",
      "  c\n",
      "\n",
      "<block>:1:77-78: info: atom does not occur in any rule head:\n",
      "  d\n",
      "\n",
      "<block>:1:84-85: info: atom does not occur in any rule head:\n",
      "  d\n",
      "\n"
     ]
    }
   ],
   "source": [
    "tuple(evaluate_forwards((simple_d,), report=True));"
   ],
   "metadata": {
    "collapsed": false,
    "pycharm": {
     "name": "#%%\n"
    }
   }
  },
  {
   "cell_type": "code",
   "execution_count": 73,
   "outputs": [
    {
     "name": "stdout",
     "output_type": "stream",
     "text": [
      "UNSAT"
     ]
    }
   ],
   "source": [
    "tuple(evaluate_forwards((simple_p,simple_d,), report=True));"
   ],
   "metadata": {
    "collapsed": false,
    "pycharm": {
     "name": "#%%\n"
    }
   }
  },
  {
   "cell_type": "code",
   "execution_count": 74,
   "outputs": [
    {
     "name": "stdout",
     "output_type": "stream",
     "text": [
      "#program base.\n",
      "a :- not b.\n",
      "b :- not a.\n"
     ]
    }
   ],
   "source": [
    "simple_neg_str = \"\"\"\n",
    "\n",
    "a :- not b.\n",
    "b :- not a.\n",
    "\n",
    "\"\"\"\n",
    "simple_neg_p = from_string(simple_neg_str)[0]\n",
    "print(simple_neg_p.custom_str(sep='\\n'))"
   ],
   "metadata": {
    "collapsed": false,
    "pycharm": {
     "name": "#%%\n"
    }
   }
  },
  {
   "cell_type": "code",
   "execution_count": 75,
   "outputs": [
    {
     "name": "stdout",
     "output_type": "stream",
     "text": [
      "Answer 1: {\n",
      "b\n",
      "}\n",
      "Answer 2: {\n",
      "a\n",
      "}\n",
      "SAT 2\n"
     ]
    }
   ],
   "source": [
    "tuple(evaluate_forwards((simple_neg_p,), report=True));"
   ],
   "metadata": {
    "collapsed": false,
    "pycharm": {
     "name": "#%%\n"
    }
   }
  },
  {
   "cell_type": "code",
   "execution_count": 76,
   "outputs": [
    {
     "name": "stdout",
     "output_type": "stream",
     "text": [
      "#program base.\n",
      "not a :- b.\n",
      "not b :- a.\n"
     ]
    }
   ],
   "source": [
    "dual_rules = []\n",
    "for rule in simple_neg_p.rules:\n",
    "    if rule.is_rule() and rule.is_normal_rule():\n",
    "        head = -rule.head\n",
    "        body = tuple(-literal for literal in rule.body)\n",
    "        for literal in body:\n",
    "            dual_rule = NormalRule(head, (literal,))\n",
    "            dual_rules.append(dual_rule)\n",
    "        if not body:\n",
    "            dual_rule = Fact(head)\n",
    "            dual_rules.append(dual_rule)\n",
    "simple_neg_d = Program(rules=dual_rules)\n",
    "print(simple_neg_d.custom_str(sep='\\n'))"
   ],
   "metadata": {
    "collapsed": false,
    "pycharm": {
     "name": "#%%\n"
    }
   }
  },
  {
   "cell_type": "code",
   "execution_count": 77,
   "outputs": [
    {
     "name": "stdout",
     "output_type": "stream",
     "text": [
      "Answer 1: {\n",
      "\n",
      "}\n",
      "SAT 1\n"
     ]
    },
    {
     "name": "stderr",
     "output_type": "stream",
     "text": [
      "<block>:1:20-21: info: atom does not occur in any rule head:\n",
      "  a\n",
      "\n",
      "<block>:1:25-26: info: atom does not occur in any rule head:\n",
      "  b\n",
      "\n",
      "<block>:1:32-33: info: atom does not occur in any rule head:\n",
      "  b\n",
      "\n",
      "<block>:1:37-38: info: atom does not occur in any rule head:\n",
      "  a\n",
      "\n"
     ]
    }
   ],
   "source": [
    "tuple(evaluate_forwards((simple_neg_d,), report=True));"
   ],
   "metadata": {
    "collapsed": false,
    "pycharm": {
     "name": "#%%\n"
    }
   }
  },
  {
   "cell_type": "code",
   "execution_count": 78,
   "outputs": [
    {
     "name": "stdout",
     "output_type": "stream",
     "text": [
      "Answer 1: {\n",
      "b\n",
      "}\n",
      "Answer 2: {\n",
      "a\n",
      "}\n",
      "SAT 2\n"
     ]
    }
   ],
   "source": [
    "tuple(evaluate_forwards((simple_neg_p, simple_neg_d,), report=True));"
   ],
   "metadata": {
    "collapsed": false,
    "pycharm": {
     "name": "#%%\n"
    }
   }
  },
  {
   "cell_type": "code",
   "execution_count": 79,
   "outputs": [
    {
     "name": "stdout",
     "output_type": "stream",
     "text": [
      "#program base.\n",
      "fly(X) :- bird(X), not -fly(X).\n",
      "bird(X) :- penguin(X).\n",
      "-fly(X) :- penguin(X).\n",
      "bird(tim).\n",
      "penguin(tweety).\n"
     ]
    }
   ],
   "source": [
    "tweety_str = \"\"\"\n",
    "\n",
    "fly(X) :- bird(X), not -fly(X).\n",
    "bird(X) :- penguin(X).\n",
    "-fly(X) :- penguin(X).\n",
    "\n",
    "bird(tim).\n",
    "penguin(tweety).\n",
    "\n",
    "\"\"\"\n",
    "tweety_p = from_string(tweety_str)[0]\n",
    "print(tweety_p.custom_str(sep='\\n'))"
   ],
   "metadata": {
    "collapsed": false,
    "pycharm": {
     "name": "#%%\n"
    }
   }
  },
  {
   "cell_type": "code",
   "execution_count": 80,
   "outputs": [
    {
     "name": "stdout",
     "output_type": "stream",
     "text": [
      "Answer 1: {\n",
      "bird(tim)\n",
      "bird(tweety)\n",
      "fly(tim)\n",
      "penguin(tweety)\n",
      "-fly(tweety)\n",
      "}\n",
      "SAT 1\n"
     ]
    }
   ],
   "source": [
    "tuple(evaluate_forwards((tweety_p,), report=True));"
   ],
   "metadata": {
    "collapsed": false,
    "pycharm": {
     "name": "#%%\n"
    }
   }
  },
  {
   "cell_type": "code",
   "execution_count": 81,
   "outputs": [
    {
     "name": "stdout",
     "output_type": "stream",
     "text": [
      "#program base.\n",
      "__fly(X) :- __bird(X), not -__fly(X).\n",
      "forall(X,bird(X)) :- __bird(X).\n",
      "not fly(X) :- not bird(X), forall(X,bird(X)).\n",
      "not fly(X) :- -fly(X).\n",
      "__bird(X) :- __penguin(X).\n",
      "forall(X,penguin(X)) :- __penguin(X).\n",
      "not bird(X) :- not penguin(X), forall(X,penguin(X)).\n",
      "-__fly(X) :- __penguin(X).\n",
      "forall(X,penguin(X)) :- __penguin(X).\n",
      "not -fly(X) :- not penguin(X), forall(X,penguin(X)).\n",
      "__bird(tim) :- .\n",
      "not bird(tim).\n",
      "__penguin(tweety) :- .\n",
      "not penguin(tweety).\n"
     ]
    }
   ],
   "source": [
    "dual_rules = []\n",
    "for rule in tweety_p.rules:\n",
    "    if rule.is_rule() and rule.is_normal_rule():\n",
    "        head = -rule.head\n",
    "        body = tuple(-literal for literal in rule.body)\n",
    "        phony_head = BasicLiteral(sign=rule.head.sign, atom=rule.head.atom.name_prepend('__'))\n",
    "        phony_body = tuple(BasicLiteral(sign=literal.sign, atom=literal.atom.name_prepend('__')) for literal in rule.body)\n",
    "        dual_rules.append(NormalRule(phony_head, phony_body))\n",
    "        if rule.is_ground():\n",
    "            for literal in body:\n",
    "                rule = NormalRule(head, (literal,))\n",
    "                dual_rules.append(rule)\n",
    "            if not body:\n",
    "                dual_rules.append(Fact(head))\n",
    "        else:\n",
    "            for literal in body:\n",
    "                if not head.is_ground() and literal.is_neg():\n",
    "                    head_variables = head.get_variables()\n",
    "                    body_variables = literal.get_variables()\n",
    "                    foralls = []\n",
    "                    for head_variable in head_variables:\n",
    "                        forall = BasicLiteral(Atom(Function('forall', (head_variable, -literal))))\n",
    "                        foralls.append(forall)\n",
    "                        phony_literal = BasicLiteral(literal.atom.name_prepend('__'))\n",
    "\n",
    "                        forall_rule = NormalRule(forall, (phony_literal,))\n",
    "                        dual_rules.append(forall_rule)\n",
    "                    dual_rule = NormalRule(head, (literal, *foralls))\n",
    "\n",
    "                else:\n",
    "                    dual_rule = NormalRule(head, (literal,))\n",
    "                dual_rules.append(dual_rule)\n",
    "tweety_d = Program(rules=dual_rules)\n",
    "print(tweety_d.custom_str(sep='\\n'))"
   ],
   "metadata": {
    "collapsed": false,
    "pycharm": {
     "name": "#%%\n"
    }
   }
  },
  {
   "cell_type": "code",
   "execution_count": 82,
   "outputs": [
    {
     "name": "stdout",
     "output_type": "stream",
     "text": [
      "Answer 1: {\n",
      "__bird(tim)\n",
      "__bird(tweety)\n",
      "__fly(tim)\n",
      "__penguin(tweety)\n",
      "forall(tim,bird(tim))\n",
      "forall(tweety,bird(tweety))\n",
      "forall(tweety,penguin(tweety))\n",
      "-__fly(tweety)\n",
      "}\n",
      "SAT 1\n"
     ]
    },
    {
     "name": "stderr",
     "output_type": "stream",
     "text": [
      "<block>:1:90-96: info: atom does not occur in any rule head:\n",
      "  fly(X)\n",
      "\n",
      "<block>:1:104-111: info: atom does not occur in any rule head:\n",
      "  bird(X)\n",
      "\n",
      "<block>:1:136-142: info: atom does not occur in any rule head:\n",
      "  fly(X)\n",
      "\n",
      "<block>:1:146-153: info: atom does not occur in any rule head:\n",
      "  (-fly(X))\n",
      "\n",
      "<block>:1:224-231: info: atom does not occur in any rule head:\n",
      "  bird(X)\n",
      "\n",
      "<block>:1:239-249: info: atom does not occur in any rule head:\n",
      "  penguin(X)\n",
      "\n",
      "<block>:1:342-349: info: atom does not occur in any rule head:\n",
      "  (-fly(X))\n",
      "\n",
      "<block>:1:357-367: info: atom does not occur in any rule head:\n",
      "  penguin(X)\n",
      "\n",
      "<block>:1:412-421: info: atom does not occur in any rule head:\n",
      "  bird(tim)\n",
      "\n",
      "<block>:1:450-465: info: atom does not occur in any rule head:\n",
      "  penguin(tweety)\n",
      "\n"
     ]
    }
   ],
   "source": [
    "tuple(evaluate_forwards((tweety_d,), report=True));"
   ],
   "metadata": {
    "collapsed": false,
    "pycharm": {
     "name": "#%%\n"
    }
   }
  },
  {
   "cell_type": "code",
   "execution_count": 83,
   "outputs": [
    {
     "name": "stdout",
     "output_type": "stream",
     "text": [
      "UNSAT"
     ]
    }
   ],
   "source": [
    "tuple(evaluate_forwards((tweety_p,tweety_d,), report=True));"
   ],
   "metadata": {
    "collapsed": false,
    "pycharm": {
     "name": "#%%\n"
    }
   }
  }
 ],
 "metadata": {
  "kernelspec": {
   "display_name": "Python 3",
   "language": "python",
   "name": "python3"
  },
  "language_info": {
   "codemirror_mode": {
    "name": "ipython",
    "version": 2
   },
   "file_extension": ".py",
   "mimetype": "text/x-python",
   "name": "python",
   "nbconvert_exporter": "python",
   "pygments_lexer": "ipython2",
   "version": "2.7.6"
  }
 },
 "nbformat": 4,
 "nbformat_minor": 0
}