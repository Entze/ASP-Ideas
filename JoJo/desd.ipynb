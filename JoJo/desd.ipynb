{
 "cells": [
  {
   "cell_type": "markdown",
   "id": "2ba8bfdd",
   "metadata": {},
   "source": [
    "### Rules"
   ]
  },
  {
   "cell_type": "code",
   "execution_count": 1,
   "id": "a240a03d",
   "metadata": {},
   "outputs": [],
   "source": [
    "rules = {\n",
    "    1: {\"rule\" : 1,\n",
    "        \"head\" : (1, \"a\"),\n",
    "        \"body\" : [(1, \"k\"), (-1, \"b\")],},\n",
    "    2: {\"rule\" : 2,\n",
    "        \"head\" : (1,\"k\"),\n",
    "        \"body\" : [(1,\"e\"), (-1,\"b\")]},\n",
    "    3: {\"rule\" : 3,\n",
    "        \"head\" : (1,\"c\"),\n",
    "        \"body\" : [(1,\"a\"), (1,\"b\")]},\n",
    "    4: {\"rule\" : 4,\n",
    "        \"head\" : (1,\"b\"),\n",
    "        \"body\" : [(-1,\"a\")]},\n",
    "    5: {\"rule\" : 5,\n",
    "        \"head\" : (1,\"c\"),\n",
    "        \"body\" : [(1,\"k\")]},\n",
    "    6: {\"rule\" : 6,\n",
    "        \"head\" : (1,\"f\"),\n",
    "        \"body\" : [(1,\"e\"), (-1,\"k\"), (-1,\"c\")]},\n",
    "    7: {\"rule\" : 7,\n",
    "        \"head\" : (1,\"e\"),\n",
    "        \"body\" : []}\n",
    "}"
   ]
  },
  {
   "cell_type": "code",
   "execution_count": 5,
   "id": "8cf5ac8e",
   "metadata": {},
   "outputs": [
    {
     "name": "stdout",
     "output_type": "stream",
     "text": [
      "dict_values([{'rule': 1, 'head': (1, 'a'), 'body': [(1, 'k'), (-1, 'b')]}, {'rule': 2, 'head': (1, 'k'), 'body': [(1, 'e'), (-1, 'b')]}, {'rule': 3, 'head': (1, 'c'), 'body': [(1, 'a'), (1, 'b')]}, {'rule': 4, 'head': (1, 'b'), 'body': [(-1, 'a')]}, {'rule': 5, 'head': (1, 'c'), 'body': [(1, 'k')]}, {'rule': 6, 'head': (1, 'f'), 'body': [(1, 'e'), (-1, 'k'), (-1, 'c')]}, {'rule': 7, 'head': (1, 'e'), 'body': []}])\n",
      "<class 'set'>\n",
      "set()\n",
      "{(1, 'c'), (1, 'f'), (1, 'k'), (1, 'a'), (1, 'b'), (1, 'e')}\n"
     ]
    }
   ],
   "source": [
    "vals = rules.values()\n",
    "print(vals)\n",
    "\n",
    "heads = set()\n",
    "print(type(heads))\n",
    "print(heads)\n",
    "\n",
    "for v in vals:\n",
    "    heads.add(v['head'])\n",
    "print(heads)"
   ]
  },
  {
   "cell_type": "markdown",
   "id": "3bea6b71",
   "metadata": {},
   "source": [
    "### Dictionary D_P"
   ]
  },
  {
   "cell_type": "code",
   "execution_count": 6,
   "id": "1ef53160",
   "metadata": {},
   "outputs": [
    {
     "name": "stdout",
     "output_type": "stream",
     "text": [
      "{(1, 'c'): [[(1, 'a'), (1, 'b')], [(1, 'k')]], (1, 'f'): [[(1, 'e'), (-1, 'k'), (-1, 'c')]], (1, 'k'): [[(1, 'e'), (-1, 'b')]], (1, 'a'): [[(1, 'k'), (-1, 'b')]], (1, 'b'): [[(-1, 'a')]], (1, 'e'): [[]]}\n",
      "[(1, 'e')]\n"
     ]
    }
   ],
   "source": [
    "d_p = dict([(h, [v[\"body\"] for v in vals if h == v[\"head\"]]) for h in heads])\n",
    "print(d_p)\n",
    "\n",
    "facts = [v[\"head\"] for v in vals if not v[\"body\"]]\n",
    "print(facts)"
   ]
  },
  {
   "cell_type": "markdown",
   "id": "c0b6cc75",
   "metadata": {},
   "source": [
    "### Prepare Herbrand, Answer, E_P"
   ]
  },
  {
   "cell_type": "code",
   "execution_count": 7,
   "id": "6ab4ca89",
   "metadata": {},
   "outputs": [
    {
     "name": "stdout",
     "output_type": "stream",
     "text": [
      "{(1, 'c'), (1, 'f'), (1, 'k'), (1, 'a'), (1, 'e'), (1, 'b')}\n",
      "{(1, 'f'), (1, 'e'), (1, 'b')}\n",
      "{(1, 'k'), (1, 'a'), (1, 'c')}\n",
      "{(-1, 'k'), (-1, 'a'), (-1, 'c')}\n",
      "{(-1, 'k'), (-1, 'a'), (1, 'b'), (1, 'f'), (-1, 'c'), (1, 'e')}\n"
     ]
    }
   ],
   "source": [
    "# herbrand = set([(i,l) for i in [-1,+1] for l in \"abcdef\"])\n",
    "herbrand = set([(1,l) for l in \"abcefk\"])\n",
    "print(herbrand)\n",
    "\n",
    "answer = set([(1,\"b\"),(1,\"f\"),(1,\"e\")])\n",
    "print(answer)\n",
    "\n",
    "diff = herbrand.difference(answer)\n",
    "print(diff)\n",
    "\n",
    "neg_diff = set([(-1,l) for (_,l) in list(diff)])\n",
    "print(neg_diff)\n",
    "\n",
    "e_p = answer | neg_diff\n",
    "print(e_p)\n",
    "\n"
   ]
  },
  {
   "cell_type": "markdown",
   "id": "5d07734a",
   "metadata": {},
   "source": [
    "### Algorithm 1 - preprocessing"
   ]
  },
  {
   "cell_type": "code",
   "execution_count": 19,
   "id": "e9b95494",
   "metadata": {},
   "outputs": [
    {
     "name": "stdout",
     "output_type": "stream",
     "text": [
      "{(-1, 'c'): [], (1, 'f'): [{(1, 'k'), (1, 'c'), (1, 'e')}], (-1, 'k'): [], (-1, 'a'): [], (1, 'b'): [{(1, 'a')}], (1, 'e'): [[(1, 'T')]]}\n"
     ]
    }
   ],
   "source": [
    "e = dict()\n",
    "for (i,a) in heads: # oder herbrand ?\n",
    "    # print(d_p[a])\n",
    "    bodies = d_p[(i,a)]\n",
    "    \n",
    "    if (i,a) in answer:\n",
    "        e[(i,a)] = list()\n",
    "        for b in bodies:\n",
    "            # true_atoms_processing\n",
    "            r_pos = set([(i,l) for (i,l) in b if i==1])\n",
    "            r_neg = set([(i,l) for (i,l) in b if i==(-1)])\n",
    "            if r_pos.issubset(answer) and not (r_neg & answer):\n",
    "                s = r_pos | set([(1,l) for (i,l) in r_neg])\n",
    "                if (i,a) in facts and not r_pos and not r_neg:\n",
    "                    s = [(1,\"T\")]\n",
    "                e[(i,a)].append(s)\n",
    "                \n",
    "    else:\n",
    "        e[(-1,a)] = list()\n",
    "        for b in bodies:\n",
    "            r_pos = set([(i,l) for (i,l) in b if i==1])\n",
    "            r_neg = set([(i,l) for (i,l) in b if i==(-1)])\n",
    "            l = set([atom for atom in r_pos if not atom in answer]) | set([atom for atom in r_neg if atom in answer])\n",
    "            if not (-1,a) in e:\n",
    "                e[(-1,a)] = l\n",
    "            else:\n",
    "                t = list()\n",
    "                for s in l:\n",
    "                    for atom in e[(-1,a)]:\n",
    "                        print(atom)\n",
    "                        t = s | atom\n",
    "                        t.append(t)\n",
    "                e[(-1,a)] = t\n",
    "print(e)"
   ]
  },
  {
   "cell_type": "markdown",
   "id": "4a9ba13d",
   "metadata": {},
   "source": [
    "### Algorithm 2 - assumption"
   ]
  },
  {
   "cell_type": "code",
   "execution_count": null,
   "id": "951b3306",
   "metadata": {},
   "outputs": [],
   "source": []
  },
  {
   "cell_type": "markdown",
   "id": "ec28f4b7",
   "metadata": {},
   "source": [
    "### Algorithm 3 - check derivation path"
   ]
  },
  {
   "cell_type": "code",
   "execution_count": null,
   "id": "504f08f5",
   "metadata": {},
   "outputs": [],
   "source": []
  },
  {
   "cell_type": "markdown",
   "id": "4df42030",
   "metadata": {},
   "source": [
    "### Algorithm 4 - cycle indentification"
   ]
  },
  {
   "cell_type": "code",
   "execution_count": null,
   "id": "6e43190a",
   "metadata": {},
   "outputs": [],
   "source": []
  },
  {
   "cell_type": "markdown",
   "id": "341e53c3",
   "metadata": {},
   "source": [
    "### Algorithm 5 - explanation graph"
   ]
  },
  {
   "cell_type": "code",
   "execution_count": null,
   "id": "93b522ee",
   "metadata": {},
   "outputs": [],
   "source": []
  }
 ],
 "metadata": {
  "kernelspec": {
   "display_name": "Python 3 (ipykernel)",
   "language": "python",
   "name": "python3"
  },
  "language_info": {
   "codemirror_mode": {
    "name": "ipython",
    "version": 3
   },
   "file_extension": ".py",
   "mimetype": "text/x-python",
   "name": "python",
   "nbconvert_exporter": "python",
   "pygments_lexer": "ipython3",
   "version": "3.9.10"
  }
 },
 "nbformat": 4,
 "nbformat_minor": 5
}
